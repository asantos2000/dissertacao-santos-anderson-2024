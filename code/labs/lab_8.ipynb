{
 "cells": [
  {
   "cell_type": "markdown",
   "metadata": {},
   "source": [
    "# Search"
   ]
  },
  {
   "cell_type": "markdown",
   "metadata": {},
   "source": [
    "## Deepsearch, Deepdiff"
   ]
  },
  {
   "cell_type": "code",
   "execution_count": 1,
   "metadata": {},
   "outputs": [],
   "source": [
    "def dict_lookup(data, search_value, search_key):\n",
    "    results = []\n",
    "\n",
    "    # Split the search_key to navigate through nested dictionaries\n",
    "    keys = search_key.split(\".\")\n",
    "\n",
    "    for item in data:\n",
    "        # Start with the current item\n",
    "        current = item\n",
    "\n",
    "        # Navigate through the keys\n",
    "        for key in keys:\n",
    "            if isinstance(current, list):\n",
    "                # If current is a list, iterate through it\n",
    "                current = [sub_item.get(key) for sub_item in current if isinstance(sub_item, dict)]\n",
    "            elif isinstance(current, dict) and key in current:\n",
    "                # If current is a dict, navigate to the next level\n",
    "                current = current[key]\n",
    "            else:\n",
    "                current = None\n",
    "                break\n",
    "\n",
    "        # Check if the final value matches the search value\n",
    "        if current == search_value or (isinstance(current, list) and search_value in current):\n",
    "            results.append(item)\n",
    "\n",
    "    return results"
   ]
  },
  {
   "cell_type": "code",
   "execution_count": 2,
   "metadata": {},
   "outputs": [],
   "source": [
    "a = [\n",
    "    {\n",
    "        \"name\": \"John\",\n",
    "        \"age\": 30,\n",
    "        \"city\": \"New York\",\n",
    "        \"adresses\": [\n",
    "            {\"street\": \"Main St\", \"number\": 123},\n",
    "            {\"street\": \"Broadway\", \"number\": 456},\n",
    "        ],\n",
    "    },\n",
    "    {\n",
    "        \"name\": \"Jane\",\n",
    "        \"age\": 25,\n",
    "        \"city\": \"Los Angeles\",\n",
    "        \"adresses\": [\n",
    "            {\"street\": \"Sunset Blvd\", \"number\": 789},\n",
    "            {\"street\": \"Hollywood Blvd\", \"number\": 101},\n",
    "        ],\n",
    "        \"institutions\": [\n",
    "            {\"name\": \"UCLA\", \"department\": \"Computer Science\"},\n",
    "            {\"name\": \"USC\", \"department\": \"Physics\"},\n",
    "        ]\n",
    "    },\n",
    "    {\n",
    "        \"name\": \"Alice\",\n",
    "        \"age\": 35,\n",
    "        \"city\": \"Chicago\",\n",
    "        \"adresses\": [\n",
    "            {\"street\": \"Michigan Ave\", \"number\": 303},\n",
    "            {\"street\": \"Sunset Blvd\", \"number\": 123},\n",
    "        ],\n",
    "    },\n",
    "    {\n",
    "        \"name\": \"Mary\",\n",
    "        \"age\": 45,\n",
    "        \"city\": \"Las Vegas\",\n",
    "        \"adresses\": [\n",
    "            {\"street\": \"Las Vegas Blvd\", \"number\": 999},\n",
    "            {\"street\": \"Fremont St\", \"number\": 101},\n",
    "        ],\n",
    "        \"institutions\": [\n",
    "            {\"name\": \"UNLV\", \"department\": \"Mathematics\"},\n",
    "            {\"name\": \"CSN\", \"department\": \"Biology\"},\n",
    "        ]\n",
    "    },\n",
    "    {\n",
    "        \"name\": \"Bob\",\n",
    "        \"age\": 40,\n",
    "        \"city\": \"San Francisco\"\n",
    "    }\n",
    "]"
   ]
  },
  {
   "cell_type": "code",
   "execution_count": 3,
   "metadata": {},
   "outputs": [],
   "source": [
    "b = [\n",
    "    {\n",
    "        \"name\": \"Bob\",\n",
    "        \"age\": 41,\n",
    "        \"city\": \"San Francisco\"\n",
    "    },\n",
    "    {\n",
    "        \"name\": \"John\",\n",
    "        \"age\": 30,\n",
    "        \"city\": \"New York\",\n",
    "        \"adresses\": [\n",
    "            {\"street\": \"Main St\", \"number\": 123},\n",
    "            {\"street\": \"Broadway\", \"number\": 456},\n",
    "        ],\n",
    "    },\n",
    "    {\n",
    "        \"name\": \"John Carpenter\",\n",
    "        \"age\": 22,\n",
    "        \"city\": \"Wayne\",\n",
    "        \"adresses\": [\n",
    "            {\"street\": \"Main St\", \"number\": 123},\n",
    "            {\"street\": \"Broadway\", \"number\": 456},\n",
    "        ],\n",
    "    },\n",
    "    {\n",
    "        \"name\": \"Jane\",\n",
    "        \"age\": 25,\n",
    "        \"city\": \"Los Angeles\",\n",
    "        \"adresses\": [\n",
    "            {\"street\": \"Sunset Blvd\", \"number\": 789},\n",
    "            {\"street\": \"Hollywood Blvd\", \"number\": 101},\n",
    "            {\"street\": \"Rodeo Dr\", \"number\": 202},\n",
    "        ],\n",
    "        \"institutions\": [\n",
    "            {\"name\": \"UCLA\", \"department\": \"Computer Science\"},\n",
    "            {\"name\": \"USC\", \"department\": \"Mathematics\"},\n",
    "        ]\n",
    "    },\n",
    "    {\n",
    "        \"name\": \"Alice\",\n",
    "        \"age\": 35,\n",
    "        \"city\": \"Chicago\",\n",
    "        \"adresses\": [\n",
    "            {\"street\": \"Michigan Ave\", \"number\": 303},\n",
    "            {\"street\": \"Sunset Blvd\", \"number\": 123},\n",
    "        ],\n",
    "        \"institutions\": [\n",
    "            {\"name\": \"University of Chicago\", \"department\": \"Computer Science\"},\n",
    "            {\"name\": \"Northwestern University\", \"department\": \"Mathematics\"},\n",
    "        ]\n",
    "    },\n",
    "]"
   ]
  },
  {
   "cell_type": "code",
   "execution_count": 4,
   "metadata": {},
   "outputs": [],
   "source": [
    "from deepdiff import DeepDiff, DeepSearch, grep\n",
    "from pprint import pprint"
   ]
  },
  {
   "cell_type": "code",
   "execution_count": 5,
   "metadata": {},
   "outputs": [
    {
     "data": {
      "text/plain": [
       "{'matched_values': {\"root[1]['name']\": 'John'}}"
      ]
     },
     "execution_count": 5,
     "metadata": {},
     "output_type": "execute_result"
    }
   ],
   "source": [
    "results = DeepSearch(b, \"John\", verbose_level=2, match_string=True)\n",
    "\n",
    "results"
   ]
  },
  {
   "cell_type": "code",
   "execution_count": 6,
   "metadata": {},
   "outputs": [
    {
     "data": {
      "text/plain": [
       "[\"root[1]['name']\"]"
      ]
     },
     "execution_count": 6,
     "metadata": {},
     "output_type": "execute_result"
    }
   ],
   "source": [
    "list(results[\"matched_values\"].keys())"
   ]
  },
  {
   "cell_type": "code",
   "execution_count": 7,
   "metadata": {},
   "outputs": [
    {
     "data": {
      "text/plain": [
       "{'matched_values': {\"root[1]['name']\": 'John',\n",
       "  \"root[2]['name']\": 'John Carpenter'}}"
      ]
     },
     "execution_count": 7,
     "metadata": {},
     "output_type": "execute_result"
    }
   ],
   "source": [
    "results = DeepSearch(b, \"John\", verbose_level=2, match_string=False)\n",
    "\n",
    "results"
   ]
  },
  {
   "cell_type": "code",
   "execution_count": 8,
   "metadata": {},
   "outputs": [],
   "source": [
    "import re\n",
    "\n",
    "def extract_index_and_key(s):\n",
    "    # Define a regular expression pattern to match the index and key\n",
    "    pattern = r\"root\\[(\\d+)\\]\\['(\\w+)'\\]\"\n",
    "    \n",
    "    # Use re.match to find the pattern in the string\n",
    "    match = re.match(pattern, s)\n",
    "    \n",
    "    if match:\n",
    "        # Extract the index and key from the match groups\n",
    "        index = int(match.group(1))\n",
    "        key = match.group(2)\n",
    "        return index, key\n",
    "    else:\n",
    "        raise ValueError(\"String format is incorrect\")"
   ]
  },
  {
   "cell_type": "code",
   "execution_count": 9,
   "metadata": {},
   "outputs": [
    {
     "name": "stdout",
     "output_type": "stream",
     "text": [
      "{'name': 'John', 'age': 30, 'city': 'New York', 'adresses': [{'street': 'Main St', 'number': 123}, {'street': 'Broadway', 'number': 456}]}\n",
      "{'name': 'John Carpenter', 'age': 22, 'city': 'Wayne', 'adresses': [{'street': 'Main St', 'number': 123}, {'street': 'Broadway', 'number': 456}]}\n"
     ]
    }
   ],
   "source": [
    "for item in list(results[\"matched_values\"].keys()):\n",
    "    #print(item | grep(r\"root\\[(\\d+)\\]\\['(\\w+)'\\]\", use_regexp=True))\n",
    "    idx, key = extract_index_and_key(item)\n",
    "    print(b[idx]) #.get(key))"
   ]
  },
  {
   "cell_type": "code",
   "execution_count": 11,
   "metadata": {},
   "outputs": [
    {
     "name": "stdout",
     "output_type": "stream",
     "text": [
      "{}\n",
      "{'values_changed': {\"root['institutions'][1]['department']\": {'new_value': 'mathematics', 'old_value': 'physics'}}, 'iterable_item_added': {\"root['adresses'][2]\": {'street': 'Rodeo Dr', 'number': 202}}}\n",
      "root['institutions'][1]['department']\n",
      "{'dictionary_item_added': {\"root['institutions']\": [{'name': 'University of Chicago', 'department': 'Computer Science'}, {'name': 'Northwestern University', 'department': 'Mathematics'}]}}\n",
      "root['institutions']\n",
      "{'type_changes': {'root': {'old_type': <class 'dict'>, 'new_type': <class 'NoneType'>, 'old_value': {'name': 'Mary', 'age': 45, 'city': 'Las Vegas', 'adresses': [{'street': 'Las Vegas Blvd', 'number': 999}, {'street': 'Fremont St', 'number': 101}], 'institutions': [{'name': 'UNLV', 'department': 'Mathematics'}, {'name': 'CSN', 'department': 'Biology'}]}, 'new_value': None}}}\n",
      "root\n",
      "{'values_changed': {\"root['age']\": {'new_value': 41, 'old_value': 40}}}\n",
      "root['age']\n"
     ]
    }
   ],
   "source": [
    "for a_item in a:\n",
    "    b_item = dict_lookup(b, a_item[\"name\"], \"name\") or [None]\n",
    "    #print(f\"{a_item=}\")\n",
    "    #print(f\"{b_item[0]=}\")\n",
    "    diff = DeepDiff(a_item, b_item[0], ignore_string_case=True, ignore_order=True, verbose_level=2)\n",
    "    print(diff)\n",
    "    if diff:\n",
    "        if \"values_changed\" in diff:    \n",
    "            for item in list(diff[\"values_changed\"].keys()):\n",
    "                print(item)\n",
    "        elif \"type_changes\" in diff:\n",
    "            for item in list(diff[\"type_changes\"].keys()):\n",
    "                print(item)\n",
    "        elif \"dictionary_item_added\" in diff:\n",
    "            for item in list(diff[\"dictionary_item_added\"].keys()):\n",
    "                print(item)\n",
    "        elif \"iterable_item_added\" in diff:\n",
    "            for item in list(diff[\"iterable_item_added\"].keys()):\n",
    "                print(item)\n",
    "            #print(extract_index_and_key(item))"
   ]
  },
  {
   "cell_type": "code",
   "execution_count": 12,
   "metadata": {},
   "outputs": [
    {
     "data": {
      "text/plain": [
       "[{'name': 'John',\n",
       "  'age': 30,\n",
       "  'city': 'New York',\n",
       "  'adresses': [{'street': 'Main St', 'number': 123},\n",
       "   {'street': 'Broadway', 'number': 456}]}]"
      ]
     },
     "execution_count": 12,
     "metadata": {},
     "output_type": "execute_result"
    }
   ],
   "source": [
    "result = dict_lookup(b, \"John\", \"name\")\n",
    "\n",
    "result"
   ]
  },
  {
   "cell_type": "code",
   "execution_count": 13,
   "metadata": {},
   "outputs": [
    {
     "data": {
      "text/plain": [
       "[{'name': 'Jane',\n",
       "  'age': 25,\n",
       "  'city': 'Los Angeles',\n",
       "  'adresses': [{'street': 'Sunset Blvd', 'number': 789},\n",
       "   {'street': 'Hollywood Blvd', 'number': 101},\n",
       "   {'street': 'Rodeo Dr', 'number': 202}],\n",
       "  'institutions': [{'name': 'UCLA', 'department': 'Computer Science'},\n",
       "   {'name': 'USC', 'department': 'Mathematics'}]},\n",
       " {'name': 'Alice',\n",
       "  'age': 35,\n",
       "  'city': 'Chicago',\n",
       "  'adresses': [{'street': 'Michigan Ave', 'number': 303},\n",
       "   {'street': 'Sunset Blvd', 'number': 123}],\n",
       "  'institutions': [{'name': 'University of Chicago',\n",
       "    'department': 'Computer Science'},\n",
       "   {'name': 'Northwestern University', 'department': 'Mathematics'}]}]"
      ]
     },
     "execution_count": 13,
     "metadata": {},
     "output_type": "execute_result"
    }
   ],
   "source": [
    "result = dict_lookup(b, \"Sunset Blvd\", \"adresses.street\")\n",
    "\n",
    "result"
   ]
  },
  {
   "cell_type": "markdown",
   "metadata": {},
   "source": [
    "## DuckDB"
   ]
  },
  {
   "cell_type": "markdown",
   "metadata": {},
   "source": [
    "References:\n",
    "\n",
    "- https://medium.com/@anshubantra/using-duckdb-in-python-a-comprehensive-guide-d14bc0b06546"
   ]
  },
  {
   "cell_type": "code",
   "execution_count": 14,
   "metadata": {},
   "outputs": [],
   "source": [
    "import duckdb"
   ]
  },
  {
   "cell_type": "code",
   "execution_count": 15,
   "metadata": {},
   "outputs": [],
   "source": [
    "query = \"\"\"\n",
    "SELECT name, age, city, addr.value->>'street' AS street, addr.value->>'number' AS number\n",
    "  FROM read_json_auto('a_table.json') AS a_table,\n",
    "  LATERAL UNNEST(a_table.adresses) AS addr(value)\n",
    "  WHERE street LIKE '%Blvd%';\n",
    "\"\"\""
   ]
  },
  {
   "cell_type": "code",
   "execution_count": 16,
   "metadata": {},
   "outputs": [
    {
     "name": "stdout",
     "output_type": "stream",
     "text": [
      "┌─────────┬───────┬─────────────┬────────────────┬─────────┐\n",
      "│  name   │  age  │    city     │     street     │ number  │\n",
      "│ varchar │ int64 │   varchar   │    varchar     │ varchar │\n",
      "├─────────┼───────┼─────────────┼────────────────┼─────────┤\n",
      "│ Jane    │    25 │ Los Angeles │ Sunset Blvd    │ 789     │\n",
      "│ Jane    │    25 │ Los Angeles │ Hollywood Blvd │ 101     │\n",
      "│ Mary    │    45 │ Las Vegas   │ Las Vegas Blvd │ 999     │\n",
      "│ Alice   │    35 │ Chicago     │ Sunset Blvd    │ 123     │\n",
      "└─────────┴───────┴─────────────┴────────────────┴─────────┘\n",
      "\n"
     ]
    }
   ],
   "source": [
    "duckdb.sql(query).show()"
   ]
  },
  {
   "cell_type": "code",
   "execution_count": 17,
   "metadata": {},
   "outputs": [
    {
     "data": {
      "text/plain": [
       "┌─────────┬───────┬───────────────┬─────────────────────────────────────────────────────────────────────────────────────┬────────────────────────────────────────────────────────────────────────────────────────┐\n",
       "│  name   │  age  │     city      │                                      adresses                                       │                                      institutions                                      │\n",
       "│ varchar │ int64 │    varchar    │                       struct(street varchar, number bigint)[]                       │                      struct(\"name\" varchar, department varchar)[]                      │\n",
       "├─────────┼───────┼───────────────┼─────────────────────────────────────────────────────────────────────────────────────┼────────────────────────────────────────────────────────────────────────────────────────┤\n",
       "│ John    │    30 │ New York      │ [{'street': Main St, 'number': 123}, {'street': Broadway, 'number': 456}]           │ NULL                                                                                   │\n",
       "│ Jane    │    25 │ Los Angeles   │ [{'street': Sunset Blvd, 'number': 789}, {'street': Hollywood Blvd, 'number': 101}] │ [{'name': UCLA, 'department': Computer Science}, {'name': USC, 'department': Physics}] │\n",
       "│ Alice   │    35 │ Chicago       │ [{'street': Michigan Ave, 'number': 303}, {'street': Sunset Blvd, 'number': 123}]   │ NULL                                                                                   │\n",
       "│ Mary    │    45 │ Las Vegas     │ [{'street': Las Vegas Blvd, 'number': 999}, {'street': Fremont St, 'number': 101}]  │ [{'name': UNLV, 'department': Mathematics}, {'name': CSN, 'department': Biology}]      │\n",
       "│ Bob     │    40 │ San Francisco │ NULL                                                                                │ NULL                                                                                   │\n",
       "└─────────┴───────┴───────────────┴─────────────────────────────────────────────────────────────────────────────────────┴────────────────────────────────────────────────────────────────────────────────────────┘"
      ]
     },
     "execution_count": 17,
     "metadata": {},
     "output_type": "execute_result"
    }
   ],
   "source": [
    "duckdb.read_json(\"a_table.json\") "
   ]
  },
  {
   "cell_type": "code",
   "execution_count": 18,
   "metadata": {},
   "outputs": [
    {
     "data": {
      "text/plain": [
       "[('Jane', 25, 'Los Angeles', 'Sunset Blvd', '789'),\n",
       " ('Jane', 25, 'Los Angeles', 'Hollywood Blvd', '101'),\n",
       " ('Mary', 45, 'Las Vegas', 'Las Vegas Blvd', '999'),\n",
       " ('Alice', 35, 'Chicago', 'Sunset Blvd', '123')]"
      ]
     },
     "execution_count": 18,
     "metadata": {},
     "output_type": "execute_result"
    }
   ],
   "source": [
    "duckdb.sql(query).fetchall()"
   ]
  },
  {
   "cell_type": "code",
   "execution_count": 19,
   "metadata": {},
   "outputs": [],
   "source": [
    "res = duckdb.read_json(\"a_table.json\").fetchdf()"
   ]
  },
  {
   "cell_type": "code",
   "execution_count": 20,
   "metadata": {},
   "outputs": [],
   "source": [
    "dict_res = res.to_dict(orient=\"records\")"
   ]
  },
  {
   "cell_type": "code",
   "execution_count": 21,
   "metadata": {},
   "outputs": [
    {
     "data": {
      "text/plain": [
       "array([{'street': 'Main St', 'number': 123},\n",
       "       {'street': 'Broadway', 'number': 456}], dtype=object)"
      ]
     },
     "execution_count": 21,
     "metadata": {},
     "output_type": "execute_result"
    }
   ],
   "source": [
    "dict_res[0][\"adresses\"]"
   ]
  },
  {
   "cell_type": "code",
   "execution_count": 22,
   "metadata": {},
   "outputs": [],
   "source": [
    "from collections import defaultdict\n",
    "\n",
    "dd = defaultdict(list)\n",
    "\n",
    "ddict_res = res.to_dict('records', into=dd)\n"
   ]
  },
  {
   "cell_type": "code",
   "execution_count": 23,
   "metadata": {},
   "outputs": [
    {
     "data": {
      "text/plain": [
       "'John'"
      ]
     },
     "execution_count": 23,
     "metadata": {},
     "output_type": "execute_result"
    }
   ],
   "source": [
    "ddict_res[0][\"name\"]"
   ]
  }
 ],
 "metadata": {
  "kernelspec": {
   "display_name": "ipt-cfr2sbvr",
   "language": "python",
   "name": "python3"
  },
  "language_info": {
   "codemirror_mode": {
    "name": "ipython",
    "version": 3
   },
   "file_extension": ".py",
   "mimetype": "text/x-python",
   "name": "python",
   "nbconvert_exporter": "python",
   "pygments_lexer": "ipython3",
   "version": "3.11.9"
  }
 },
 "nbformat": 4,
 "nbformat_minor": 2
}
