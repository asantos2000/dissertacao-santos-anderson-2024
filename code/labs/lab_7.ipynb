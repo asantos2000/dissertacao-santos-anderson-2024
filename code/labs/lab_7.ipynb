{
 "cells": [
  {
   "cell_type": "markdown",
   "metadata": {},
   "source": [
    "Tiny DB"
   ]
  },
  {
   "cell_type": "code",
   "execution_count": 1,
   "metadata": {},
   "outputs": [],
   "source": [
    "from tinydb import TinyDB, Query"
   ]
  },
  {
   "cell_type": "code",
   "execution_count": 9,
   "metadata": {},
   "outputs": [],
   "source": [
    "db = TinyDB('db.json')"
   ]
  },
  {
   "cell_type": "code",
   "execution_count": 10,
   "metadata": {},
   "outputs": [
    {
     "ename": "NameError",
     "evalue": "name 'User' is not defined",
     "output_type": "error",
     "traceback": [
      "\u001b[0;31m---------------------------------------------------------------------------\u001b[0m",
      "\u001b[0;31mNameError\u001b[0m                                 Traceback (most recent call last)",
      "Cell \u001b[0;32mIn[10], line 1\u001b[0m\n\u001b[0;32m----> 1\u001b[0m db\u001b[38;5;241m.\u001b[39msearch(\u001b[43mUser\u001b[49m\u001b[38;5;241m.\u001b[39mname \u001b[38;5;241m==\u001b[39m \u001b[38;5;124m'\u001b[39m\u001b[38;5;124mJohn\u001b[39m\u001b[38;5;124m'\u001b[39m)\n",
      "\u001b[0;31mNameError\u001b[0m: name 'User' is not defined"
     ]
    }
   ],
   "source": [
    "db.search(User.name == 'John')"
   ]
  },
  {
   "cell_type": "code",
   "execution_count": null,
   "metadata": {},
   "outputs": [],
   "source": [
    "db.search((User.name == 'John') & (User.age <= 30))"
   ]
  },
  {
   "cell_type": "code",
   "execution_count": null,
   "metadata": {},
   "outputs": [],
   "source": [
    "db.search((User.name == 'John') | (User.name == 'Bob'))"
   ]
  },
  {
   "cell_type": "code",
   "execution_count": null,
   "metadata": {},
   "outputs": [],
   "source": [
    "db.search((User.age.map(lambda x: x + x) == 44))"
   ]
  },
  {
   "cell_type": "code",
   "execution_count": null,
   "metadata": {},
   "outputs": [],
   "source": [
    "table = db.table('name')\n",
    "\n",
    "table.all()"
   ]
  },
  {
   "cell_type": "code",
   "execution_count": null,
   "metadata": {},
   "outputs": [],
   "source": [
    "db.insert({'int': 1, 'char': 'a'})\n",
    "db.insert({'int': 1, 'char': 'b'})"
   ]
  },
  {
   "cell_type": "markdown",
   "metadata": {},
   "source": [
    "Pydantic"
   ]
  },
  {
   "cell_type": "code",
   "execution_count": 4,
   "metadata": {},
   "outputs": [
    {
     "name": "stdout",
     "output_type": "stream",
     "text": [
      "John Doe\n"
     ]
    },
    {
     "ename": "ValidationError",
     "evalue": "1 validation error for Users\nusers.2.full_name\n  Field required [type=missing, input_value={'id': 3, 'name': 'Jim Doe'}, input_type=dict]\n    For further information visit https://errors.pydantic.dev/2.8/v/missing",
     "output_type": "error",
     "traceback": [
      "\u001b[0;31m---------------------------------------------------------------------------\u001b[0m",
      "\u001b[0;31mValidationError\u001b[0m                           Traceback (most recent call last)",
      "Cell \u001b[0;32mIn[4], line 18\u001b[0m\n\u001b[1;32m     13\u001b[0m \u001b[38;5;28mprint\u001b[39m(user\u001b[38;5;241m.\u001b[39mname)\n\u001b[1;32m     15\u001b[0m data \u001b[38;5;241m=\u001b[39m {\u001b[38;5;124m\"\u001b[39m\u001b[38;5;124musers\u001b[39m\u001b[38;5;124m\"\u001b[39m: [{\u001b[38;5;124m\"\u001b[39m\u001b[38;5;124mid\u001b[39m\u001b[38;5;124m\"\u001b[39m: \u001b[38;5;241m1\u001b[39m, \u001b[38;5;124m\"\u001b[39m\u001b[38;5;124mfull_name\u001b[39m\u001b[38;5;124m\"\u001b[39m: \u001b[38;5;124m\"\u001b[39m\u001b[38;5;124mJohn Doe\u001b[39m\u001b[38;5;124m\"\u001b[39m},\n\u001b[1;32m     16\u001b[0m                   {\u001b[38;5;124m\"\u001b[39m\u001b[38;5;124mid\u001b[39m\u001b[38;5;124m\"\u001b[39m: \u001b[38;5;241m2\u001b[39m, \u001b[38;5;124m\"\u001b[39m\u001b[38;5;124mfull_name\u001b[39m\u001b[38;5;124m\"\u001b[39m: \u001b[38;5;124m\"\u001b[39m\u001b[38;5;124mJane Doe\u001b[39m\u001b[38;5;124m\"\u001b[39m},\n\u001b[1;32m     17\u001b[0m                   {\u001b[38;5;124m\"\u001b[39m\u001b[38;5;124mid\u001b[39m\u001b[38;5;124m\"\u001b[39m: \u001b[38;5;241m3\u001b[39m, \u001b[38;5;124m\"\u001b[39m\u001b[38;5;124mname\u001b[39m\u001b[38;5;124m\"\u001b[39m: \u001b[38;5;124m\"\u001b[39m\u001b[38;5;124mJim Doe\u001b[39m\u001b[38;5;124m\"\u001b[39m}]}\n\u001b[0;32m---> 18\u001b[0m users \u001b[38;5;241m=\u001b[39m \u001b[43mUsers\u001b[49m\u001b[43m(\u001b[49m\u001b[38;5;241;43m*\u001b[39;49m\u001b[38;5;241;43m*\u001b[39;49m\u001b[43mdata\u001b[49m\u001b[43m)\u001b[49m\n\u001b[1;32m     20\u001b[0m \u001b[38;5;28mprint\u001b[39m(users\u001b[38;5;241m.\u001b[39musers[\u001b[38;5;241m0\u001b[39m]\u001b[38;5;241m.\u001b[39mname)\n\u001b[1;32m     21\u001b[0m \u001b[38;5;28mprint\u001b[39m(users\u001b[38;5;241m.\u001b[39musers[\u001b[38;5;241m1\u001b[39m]\u001b[38;5;241m.\u001b[39mname)\n",
      "File \u001b[0;32m~/miniconda3/envs/ipt-cfr2sbvr/lib/python3.11/site-packages/pydantic/main.py:193\u001b[0m, in \u001b[0;36mBaseModel.__init__\u001b[0;34m(self, **data)\u001b[0m\n\u001b[1;32m    191\u001b[0m \u001b[38;5;66;03m# `__tracebackhide__` tells pytest and some other tools to omit this function from tracebacks\u001b[39;00m\n\u001b[1;32m    192\u001b[0m __tracebackhide__ \u001b[38;5;241m=\u001b[39m \u001b[38;5;28;01mTrue\u001b[39;00m\n\u001b[0;32m--> 193\u001b[0m \u001b[38;5;28;43mself\u001b[39;49m\u001b[38;5;241;43m.\u001b[39;49m\u001b[43m__pydantic_validator__\u001b[49m\u001b[38;5;241;43m.\u001b[39;49m\u001b[43mvalidate_python\u001b[49m\u001b[43m(\u001b[49m\u001b[43mdata\u001b[49m\u001b[43m,\u001b[49m\u001b[43m \u001b[49m\u001b[43mself_instance\u001b[49m\u001b[38;5;241;43m=\u001b[39;49m\u001b[38;5;28;43mself\u001b[39;49m\u001b[43m)\u001b[49m\n",
      "\u001b[0;31mValidationError\u001b[0m: 1 validation error for Users\nusers.2.full_name\n  Field required [type=missing, input_value={'id': 3, 'name': 'Jim Doe'}, input_type=dict]\n    For further information visit https://errors.pydantic.dev/2.8/v/missing"
     ]
    }
   ],
   "source": [
    "from pydantic import Field, BaseModel\n",
    "from typing import List\n",
    "\n",
    "class User(BaseModel):\n",
    "    id: int\n",
    "    name: str = Field(..., alias=\"full_name\")\n",
    "\n",
    "class Users(BaseModel):\n",
    "    users: List[User]\n",
    "\n",
    "data = {\"id\": 1, \"full_name\": \"John Doe\"}\n",
    "user = User(**data)\n",
    "print(user.name)\n",
    "\n",
    "data = {\"users\": [{\"id\": 1, \"full_name\": \"John Doe\"},\n",
    "                  {\"id\": 2, \"full_name\": \"Jane Doe\"},\n",
    "                  {\"id\": 3, \"name\": \"Jim Doe\"}]}\n",
    "users = Users(**data)\n",
    "\n",
    "print(users.users[0].name)\n",
    "print(users.users[1].name)"
   ]
  },
  {
   "cell_type": "markdown",
   "metadata": {},
   "source": [
    "## o1"
   ]
  },
  {
   "cell_type": "code",
   "execution_count": null,
   "metadata": {},
   "outputs": [],
   "source": [
    "assistant_msg = \"\"\"\n",
    "You are tasked with extracting elements from a given legal document. Please follow these steps carefully and ensure all instructions are adhered to:\n",
    "\n",
    "# Steps\n",
    "\n",
    "1. **Summarize the document** to understand its purpose and use it to verify if all important terms,facts, fact types, and rules are identified in subsequent steps.\n",
    "\n",
    "2. **Identify elements**:\n",
    "   - **About the elements**:\n",
    "     - **Fact**: A specific instance or statement that describes an event or condition without any directive element. Facts often involve relationships between terms or entities. Example: \"John works for X Inc.\"\n",
    "     - **Fact Type**: A general, abstract template that describes potential relationships between terms or entities, serving as a model for generating specific facts. Example: \"Person works for Company.\"\n",
    "     - **Operative Rule**: A statement that governs or constrains some aspect of the business, specifying what must be done or what is not allowed. Rules enforce compliance, limit possibilities, or prescribe specific behaviors in response to business situations. Operative rules (otherwise known as normative rules or prescriptive rules) state what must or must not happen in particular circumstances. Operative rules can be contravened: required information may be omitted, inappropriate information supplied, or an attempt may be made to perform a process that is prohibited. Example: \"A customer must provide identification before opening an account.\"\n",
    "     - **Term**: A word or a group of words that represents a specific concept, entity, or subject in a particular context.\n",
    "     - Terms, Fact, Fact Type, and Operative Rule are statements that should allow only full compliance or full contravention; partial compliance is not possible. The presence of \"or\" or \"and\" often suggests the need to separate a statement into two.\n",
    "   - **For each fact, fact type, or rule**:\n",
    "     - **Extract the statement**: Identify the exact statement or phrase from the document representing the fact, fact type, or rule.\n",
    "     - **Give a unique title to the statement**.\n",
    "     - **Extract and classify Terms**:\n",
    "       - **Extract all the terms involved in the statement**. Record the level of confidence in the extraction, ranging from 0 to 1, and provide a brief reason for the confidence score.\n",
    "       - **Classify each term** as either **Common Noun** or **Proper Noun**.\n",
    "       - If a Term contains nouns separated by \"and,\" \",\", or \"or,\" split it into two or more terms. For example, \"Principal office and place of business\" should be split into \"Principal office\" and \"Place of business\".\n",
    "     - **Extract Verb Symbols**: Identify verbs, verb phrases, or prepositions that connect the terms in the statement. Record the level of confidence in the extraction, ranging from 0 to 1, and provide a brief reason for the confidence score.\n",
    "     - **Classification**: Classify the statement as either a **Fact**, **Fact Type**, or **Rule**.\n",
    "     - **Confidence**: Record the level of confidence in the classification, ranging from 0 to 1.\n",
    "     - **Reason**: Provide a brief reason for the classification score.\n",
    "     - **Source**: Note the specific paragraph or section of the document where the statement is found (e.g., \"(a)(1)\", \"(b)\").\n",
    "\n",
    "3. **Provide JSON Output**:\n",
    "   - Format your answer as per the output example below.\n",
    "   - **All values are optional**: Include as much information as is available based on the document.\n",
    "   - **Do not include any additional text or explanation outside the JSON structure**.\n",
    "\n",
    "**Output Example**:\n",
    "\n",
    "```json\n",
    "{\n",
    "  \"section\": \"§ 123.4-5\",\n",
    "  \"elements\": [\n",
    "    {\n",
    "      \"id\": 1,\n",
    "      \"title\": \"some title\",\n",
    "      \"statement\": \"A person serves a non-resident investment adviser by furnishing the Commission with process, pleadings, or papers.\",\n",
    "      \"terms\": [\n",
    "        {\n",
    "          \"term\": \"Person\",\n",
    "          \"classification\": \"Common Noun\",\n",
    "          \"confidence\": 0.9,\n",
    "          \"reason\": \"The term is ...\"\n",
    "          \"extract_confidence\": 0.9,\n",
    "          \"extract_reason\": \"The term is ...\"\n",
    "        },\n",
    "        {\n",
    "          \"term\": \"Non-resident investment adviser\",\n",
    "          \"classification\": \"Common Noun\",\n",
    "          \"confidence\": 0.8,\n",
    "          \"reason\": \"The term is ...\",\n",
    "          \"extract_confidence\": 0.8,\n",
    "          \"extract_reason\": \"The term is ...\"  \n",
    "        },\n",
    "        ...\n",
    "      ],\n",
    "      \"verb_symbols\": [\"serves\", \"by furnishing\", \"with\"],\n",
    "      \"verb_symbols_extracted_confidence\": [0.9, 0.8, 0.7],\n",
    "      \"verb_symbols_extracted_reason\": [\"The verb is ...\", \"The verb is ...\", \"The verb is ...\"],\n",
    "      \"classification\": \"Fact Type\",\n",
    "      \"confidence\": 0.8,\n",
    "      \"reason\": \"The statement is ...\",\n",
    "      \"sources\": [\"(a)\"]\n",
    "    },\n",
    "    ...\n",
    "  ]\n",
    "}\n",
    "```\n",
    "\n",
    "# Notes\n",
    "1. Level of Granularity: Extract and analyze every potential statement from the document;\n",
    "2. Contextual Interpretation: Extract explicitly stated facts, fact types, and rules;\n",
    "3. Scope of Terms: Classify every noun phrase as a term, even if it is peripheral to the main statement;\n",
    "4. Verb Symbols: Include prepositions and auxiliary phrases;\n",
    "5. Classification Nuances: Record the level of confidence range from 0 to 1;\n",
    "6. Section Handling: Strictly tie every element to its section (e.g., § 275.0-7(a)(1));\n",
    "7. Order of Presentation: Follow the sequence of the document strictly;\n",
    "8. Edge Cases: Classify it with a lower level of confidence;\n",
    "9. Output Preferences: Add timestamp and processing notes;\n",
    "10. Formatting Precision: Ensure the JSON adheres strictly to a specific schema (e.g., for use in a system).\n",
    "\"\"\"\n",
    "\n",
    "user_msg = \"\"\"\n",
    "# Document\n",
    "\n",
    "\n",
    "§ 275.0-2 General procedures for serving non-residents.\n",
    "(a) General procedures for serving process, pleadings, or other papers on non-resident investment advisers, general partners and managing agents.  Under Forms ADV and ADV-NR [17 CFR 279.1 and 279.4], a person may serve process, pleadings, or other papers on a non-resident investment adviser, or on a non-resident general partner or non-resident managing agent of an investment adviser by serving any or all of its appointed agents:\n",
    "  (1) A person may serve a non-resident investment adviser, non-resident general partner, or non-resident managing agent by furnishing the Commission with one copy of the process, pleadings, or papers, for each named party, and one additional copy for the Commission's records.\n",
    "  (2) If process, pleadings, or other papers are served on the Commission as described in this section, the Secretary of the Commission (Secretary) will promptly forward a copy to each named party by registered or certified mail at that party's last address filed with the Commission.\n",
    "  (3) If the Secretary certifies that the Commission was served with process, pleadings, or other papers pursuant to paragraph (a)(1) of this section and forwarded these documents to a named party pursuant to paragraph (a)(2) of this section, this certification constitutes evidence of service upon that party.\n",
    "(b) Definitions.  For purposes of this section:\n",
    "  (1) Managing agent  means any person, including a trustee, who directs or manages, or who participates in directing or managing, the affairs of any unincorporated organization or association other than a partnership.\n",
    "  (2) Non-resident  means:\n",
    "    (i) An individual who resides in any place not subject to the jurisdiction of the United States;\n",
    "    (ii) A corporation that is incorporated in or that has its principal office and place of business in any place not subject to the jurisdiction of the United States; and\n",
    "    (iii) A partnership or other unincorporated organization or association that has its principal office and place of business in any place not subject to the jurisdiction of the United States.\n",
    "  (3) Principal office and place of business  has the same meaning as in § 275.203A-3(c) of this chapter.\n",
    "\n",
    "\n",
    "\"\"\""
   ]
  },
  {
   "cell_type": "code",
   "execution_count": null,
   "metadata": {},
   "outputs": [
    {
     "ename": "BadRequestError",
     "evalue": "Error code: 400 - {'error': {'message': \"Invalid value: 'json'. Supported values are: 'json_object', 'json_schema', and 'text'.\", 'type': 'invalid_request_error', 'param': 'response_format.type', 'code': 'invalid_value'}}",
     "output_type": "error",
     "traceback": [
      "\u001b[0;31m---------------------------------------------------------------------------\u001b[0m",
      "\u001b[0;31mBadRequestError\u001b[0m                           Traceback (most recent call last)",
      "Cell \u001b[0;32mIn[25], line 5\u001b[0m\n\u001b[1;32m      1\u001b[0m \u001b[38;5;28;01mfrom\u001b[39;00m \u001b[38;5;21;01mopenai\u001b[39;00m \u001b[38;5;28;01mimport\u001b[39;00m OpenAI\n\u001b[1;32m      3\u001b[0m client \u001b[38;5;241m=\u001b[39m OpenAI()\n\u001b[0;32m----> 5\u001b[0m response \u001b[38;5;241m=\u001b[39m \u001b[43mclient\u001b[49m\u001b[38;5;241;43m.\u001b[39;49m\u001b[43mchat\u001b[49m\u001b[38;5;241;43m.\u001b[39;49m\u001b[43mcompletions\u001b[49m\u001b[38;5;241;43m.\u001b[39;49m\u001b[43mcreate\u001b[49m\u001b[43m(\u001b[49m\n\u001b[1;32m      6\u001b[0m \u001b[43m    \u001b[49m\u001b[43mmodel\u001b[49m\u001b[38;5;241;43m=\u001b[39;49m\u001b[38;5;124;43m\"\u001b[39;49m\u001b[38;5;124;43mo1-preview\u001b[39;49m\u001b[38;5;124;43m\"\u001b[39;49m\u001b[43m,\u001b[49m\n\u001b[1;32m      7\u001b[0m \u001b[43m    \u001b[49m\u001b[43mmessages\u001b[49m\u001b[38;5;241;43m=\u001b[39;49m\u001b[43m[\u001b[49m\n\u001b[1;32m      8\u001b[0m \u001b[43m        \u001b[49m\u001b[43m{\u001b[49m\u001b[38;5;124;43m\"\u001b[39;49m\u001b[38;5;124;43mrole\u001b[39;49m\u001b[38;5;124;43m\"\u001b[39;49m\u001b[43m:\u001b[49m\u001b[43m \u001b[49m\u001b[38;5;124;43m\"\u001b[39;49m\u001b[38;5;124;43muser\u001b[39;49m\u001b[38;5;124;43m\"\u001b[39;49m\u001b[43m,\u001b[49m\u001b[43m \u001b[49m\u001b[38;5;124;43m\"\u001b[39;49m\u001b[38;5;124;43mcontent\u001b[39;49m\u001b[38;5;124;43m\"\u001b[39;49m\u001b[43m:\u001b[49m\u001b[43m \u001b[49m\u001b[43m[\u001b[49m\u001b[43m{\u001b[49m\u001b[38;5;124;43m\"\u001b[39;49m\u001b[38;5;124;43mtype\u001b[39;49m\u001b[38;5;124;43m\"\u001b[39;49m\u001b[43m:\u001b[49m\u001b[43m \u001b[49m\u001b[38;5;124;43m\"\u001b[39;49m\u001b[38;5;124;43mtext\u001b[39;49m\u001b[38;5;124;43m\"\u001b[39;49m\u001b[43m,\u001b[49m\u001b[43m \u001b[49m\u001b[38;5;124;43m\"\u001b[39;49m\u001b[38;5;124;43mtext\u001b[39;49m\u001b[38;5;124;43m\"\u001b[39;49m\u001b[43m:\u001b[49m\u001b[43m \u001b[49m\u001b[38;5;124;43mf\u001b[39;49m\u001b[38;5;124;43m\"\u001b[39;49m\u001b[38;5;132;43;01m{\u001b[39;49;00m\u001b[43muser_msg\u001b[49m\u001b[38;5;132;43;01m}\u001b[39;49;00m\u001b[38;5;124;43m\"\u001b[39;49m\u001b[43m}\u001b[49m\u001b[43m]\u001b[49m\u001b[43m}\u001b[49m\u001b[43m,\u001b[49m\n\u001b[1;32m      9\u001b[0m \u001b[43m        \u001b[49m\u001b[43m{\u001b[49m\n\u001b[1;32m     10\u001b[0m \u001b[43m            \u001b[49m\u001b[38;5;124;43m\"\u001b[39;49m\u001b[38;5;124;43mrole\u001b[39;49m\u001b[38;5;124;43m\"\u001b[39;49m\u001b[43m:\u001b[49m\u001b[43m \u001b[49m\u001b[38;5;124;43m\"\u001b[39;49m\u001b[38;5;124;43massistant\u001b[39;49m\u001b[38;5;124;43m\"\u001b[39;49m\u001b[43m,\u001b[49m\n\u001b[1;32m     11\u001b[0m \u001b[43m            \u001b[49m\u001b[38;5;124;43m\"\u001b[39;49m\u001b[38;5;124;43mcontent\u001b[39;49m\u001b[38;5;124;43m\"\u001b[39;49m\u001b[43m:\u001b[49m\u001b[43m \u001b[49m\u001b[43m[\u001b[49m\u001b[43m{\u001b[49m\u001b[38;5;124;43m\"\u001b[39;49m\u001b[38;5;124;43mtype\u001b[39;49m\u001b[38;5;124;43m\"\u001b[39;49m\u001b[43m:\u001b[49m\u001b[43m \u001b[49m\u001b[38;5;124;43m\"\u001b[39;49m\u001b[38;5;124;43mtext\u001b[39;49m\u001b[38;5;124;43m\"\u001b[39;49m\u001b[43m,\u001b[49m\u001b[43m \u001b[49m\u001b[38;5;124;43m\"\u001b[39;49m\u001b[38;5;124;43mtext\u001b[39;49m\u001b[38;5;124;43m\"\u001b[39;49m\u001b[43m:\u001b[49m\u001b[43m \u001b[49m\u001b[38;5;124;43mf\u001b[39;49m\u001b[38;5;124;43m\"\u001b[39;49m\u001b[38;5;132;43;01m{\u001b[39;49;00m\u001b[43massistant_msg\u001b[49m\u001b[38;5;132;43;01m}\u001b[39;49;00m\u001b[38;5;124;43m\"\u001b[39;49m\u001b[43m}\u001b[49m\u001b[43m]\u001b[49m\u001b[43m,\u001b[49m\n\u001b[1;32m     12\u001b[0m \u001b[43m        \u001b[49m\u001b[43m}\u001b[49m\u001b[43m,\u001b[49m\n\u001b[1;32m     13\u001b[0m \u001b[43m    \u001b[49m\u001b[43m]\u001b[49m\u001b[43m,\u001b[49m\n\u001b[1;32m     14\u001b[0m \u001b[43m    \u001b[49m\u001b[43mresponse_format\u001b[49m\u001b[38;5;241;43m=\u001b[39;49m\u001b[43m \u001b[49m\u001b[43m{\u001b[49m\u001b[43m \u001b[49m\u001b[38;5;124;43m\"\u001b[39;49m\u001b[38;5;124;43mtype\u001b[39;49m\u001b[38;5;124;43m\"\u001b[39;49m\u001b[43m:\u001b[49m\u001b[43m \u001b[49m\u001b[38;5;124;43m\"\u001b[39;49m\u001b[38;5;124;43mjson\u001b[39;49m\u001b[38;5;124;43m\"\u001b[39;49m\u001b[43m \u001b[49m\u001b[43m}\u001b[49m\n\u001b[1;32m     15\u001b[0m \u001b[43m)\u001b[49m\n",
      "File \u001b[0;32m~/miniconda3/envs/ipt-cfr2sbvr/lib/python3.11/site-packages/openai/_utils/_utils.py:274\u001b[0m, in \u001b[0;36mrequired_args.<locals>.inner.<locals>.wrapper\u001b[0;34m(*args, **kwargs)\u001b[0m\n\u001b[1;32m    272\u001b[0m             msg \u001b[38;5;241m=\u001b[39m \u001b[38;5;124mf\u001b[39m\u001b[38;5;124m\"\u001b[39m\u001b[38;5;124mMissing required argument: \u001b[39m\u001b[38;5;132;01m{\u001b[39;00mquote(missing[\u001b[38;5;241m0\u001b[39m])\u001b[38;5;132;01m}\u001b[39;00m\u001b[38;5;124m\"\u001b[39m\n\u001b[1;32m    273\u001b[0m     \u001b[38;5;28;01mraise\u001b[39;00m \u001b[38;5;167;01mTypeError\u001b[39;00m(msg)\n\u001b[0;32m--> 274\u001b[0m \u001b[38;5;28;01mreturn\u001b[39;00m \u001b[43mfunc\u001b[49m\u001b[43m(\u001b[49m\u001b[38;5;241;43m*\u001b[39;49m\u001b[43margs\u001b[49m\u001b[43m,\u001b[49m\u001b[43m \u001b[49m\u001b[38;5;241;43m*\u001b[39;49m\u001b[38;5;241;43m*\u001b[39;49m\u001b[43mkwargs\u001b[49m\u001b[43m)\u001b[49m\n",
      "File \u001b[0;32m~/miniconda3/envs/ipt-cfr2sbvr/lib/python3.11/site-packages/openai/resources/chat/completions.py:815\u001b[0m, in \u001b[0;36mCompletions.create\u001b[0;34m(self, messages, model, audio, frequency_penalty, function_call, functions, logit_bias, logprobs, max_completion_tokens, max_tokens, metadata, modalities, n, parallel_tool_calls, presence_penalty, response_format, seed, service_tier, stop, store, stream, stream_options, temperature, tool_choice, tools, top_logprobs, top_p, user, extra_headers, extra_query, extra_body, timeout)\u001b[0m\n\u001b[1;32m    775\u001b[0m \u001b[38;5;129m@required_args\u001b[39m([\u001b[38;5;124m\"\u001b[39m\u001b[38;5;124mmessages\u001b[39m\u001b[38;5;124m\"\u001b[39m, \u001b[38;5;124m\"\u001b[39m\u001b[38;5;124mmodel\u001b[39m\u001b[38;5;124m\"\u001b[39m], [\u001b[38;5;124m\"\u001b[39m\u001b[38;5;124mmessages\u001b[39m\u001b[38;5;124m\"\u001b[39m, \u001b[38;5;124m\"\u001b[39m\u001b[38;5;124mmodel\u001b[39m\u001b[38;5;124m\"\u001b[39m, \u001b[38;5;124m\"\u001b[39m\u001b[38;5;124mstream\u001b[39m\u001b[38;5;124m\"\u001b[39m])\n\u001b[1;32m    776\u001b[0m \u001b[38;5;28;01mdef\u001b[39;00m \u001b[38;5;21mcreate\u001b[39m(\n\u001b[1;32m    777\u001b[0m     \u001b[38;5;28mself\u001b[39m,\n\u001b[0;32m   (...)\u001b[0m\n\u001b[1;32m    812\u001b[0m     timeout: \u001b[38;5;28mfloat\u001b[39m \u001b[38;5;241m|\u001b[39m httpx\u001b[38;5;241m.\u001b[39mTimeout \u001b[38;5;241m|\u001b[39m \u001b[38;5;28;01mNone\u001b[39;00m \u001b[38;5;241m|\u001b[39m NotGiven \u001b[38;5;241m=\u001b[39m NOT_GIVEN,\n\u001b[1;32m    813\u001b[0m ) \u001b[38;5;241m-\u001b[39m\u001b[38;5;241m>\u001b[39m ChatCompletion \u001b[38;5;241m|\u001b[39m Stream[ChatCompletionChunk]:\n\u001b[1;32m    814\u001b[0m     validate_response_format(response_format)\n\u001b[0;32m--> 815\u001b[0m     \u001b[38;5;28;01mreturn\u001b[39;00m \u001b[38;5;28;43mself\u001b[39;49m\u001b[38;5;241;43m.\u001b[39;49m\u001b[43m_post\u001b[49m\u001b[43m(\u001b[49m\n\u001b[1;32m    816\u001b[0m \u001b[43m        \u001b[49m\u001b[38;5;124;43m\"\u001b[39;49m\u001b[38;5;124;43m/chat/completions\u001b[39;49m\u001b[38;5;124;43m\"\u001b[39;49m\u001b[43m,\u001b[49m\n\u001b[1;32m    817\u001b[0m \u001b[43m        \u001b[49m\u001b[43mbody\u001b[49m\u001b[38;5;241;43m=\u001b[39;49m\u001b[43mmaybe_transform\u001b[49m\u001b[43m(\u001b[49m\n\u001b[1;32m    818\u001b[0m \u001b[43m            \u001b[49m\u001b[43m{\u001b[49m\n\u001b[1;32m    819\u001b[0m \u001b[43m                \u001b[49m\u001b[38;5;124;43m\"\u001b[39;49m\u001b[38;5;124;43mmessages\u001b[39;49m\u001b[38;5;124;43m\"\u001b[39;49m\u001b[43m:\u001b[49m\u001b[43m \u001b[49m\u001b[43mmessages\u001b[49m\u001b[43m,\u001b[49m\n\u001b[1;32m    820\u001b[0m \u001b[43m                \u001b[49m\u001b[38;5;124;43m\"\u001b[39;49m\u001b[38;5;124;43mmodel\u001b[39;49m\u001b[38;5;124;43m\"\u001b[39;49m\u001b[43m:\u001b[49m\u001b[43m \u001b[49m\u001b[43mmodel\u001b[49m\u001b[43m,\u001b[49m\n\u001b[1;32m    821\u001b[0m \u001b[43m                \u001b[49m\u001b[38;5;124;43m\"\u001b[39;49m\u001b[38;5;124;43maudio\u001b[39;49m\u001b[38;5;124;43m\"\u001b[39;49m\u001b[43m:\u001b[49m\u001b[43m \u001b[49m\u001b[43maudio\u001b[49m\u001b[43m,\u001b[49m\n\u001b[1;32m    822\u001b[0m \u001b[43m                \u001b[49m\u001b[38;5;124;43m\"\u001b[39;49m\u001b[38;5;124;43mfrequency_penalty\u001b[39;49m\u001b[38;5;124;43m\"\u001b[39;49m\u001b[43m:\u001b[49m\u001b[43m \u001b[49m\u001b[43mfrequency_penalty\u001b[49m\u001b[43m,\u001b[49m\n\u001b[1;32m    823\u001b[0m \u001b[43m                \u001b[49m\u001b[38;5;124;43m\"\u001b[39;49m\u001b[38;5;124;43mfunction_call\u001b[39;49m\u001b[38;5;124;43m\"\u001b[39;49m\u001b[43m:\u001b[49m\u001b[43m \u001b[49m\u001b[43mfunction_call\u001b[49m\u001b[43m,\u001b[49m\n\u001b[1;32m    824\u001b[0m \u001b[43m                \u001b[49m\u001b[38;5;124;43m\"\u001b[39;49m\u001b[38;5;124;43mfunctions\u001b[39;49m\u001b[38;5;124;43m\"\u001b[39;49m\u001b[43m:\u001b[49m\u001b[43m \u001b[49m\u001b[43mfunctions\u001b[49m\u001b[43m,\u001b[49m\n\u001b[1;32m    825\u001b[0m \u001b[43m                \u001b[49m\u001b[38;5;124;43m\"\u001b[39;49m\u001b[38;5;124;43mlogit_bias\u001b[39;49m\u001b[38;5;124;43m\"\u001b[39;49m\u001b[43m:\u001b[49m\u001b[43m \u001b[49m\u001b[43mlogit_bias\u001b[49m\u001b[43m,\u001b[49m\n\u001b[1;32m    826\u001b[0m \u001b[43m                \u001b[49m\u001b[38;5;124;43m\"\u001b[39;49m\u001b[38;5;124;43mlogprobs\u001b[39;49m\u001b[38;5;124;43m\"\u001b[39;49m\u001b[43m:\u001b[49m\u001b[43m \u001b[49m\u001b[43mlogprobs\u001b[49m\u001b[43m,\u001b[49m\n\u001b[1;32m    827\u001b[0m \u001b[43m                \u001b[49m\u001b[38;5;124;43m\"\u001b[39;49m\u001b[38;5;124;43mmax_completion_tokens\u001b[39;49m\u001b[38;5;124;43m\"\u001b[39;49m\u001b[43m:\u001b[49m\u001b[43m \u001b[49m\u001b[43mmax_completion_tokens\u001b[49m\u001b[43m,\u001b[49m\n\u001b[1;32m    828\u001b[0m \u001b[43m                \u001b[49m\u001b[38;5;124;43m\"\u001b[39;49m\u001b[38;5;124;43mmax_tokens\u001b[39;49m\u001b[38;5;124;43m\"\u001b[39;49m\u001b[43m:\u001b[49m\u001b[43m \u001b[49m\u001b[43mmax_tokens\u001b[49m\u001b[43m,\u001b[49m\n\u001b[1;32m    829\u001b[0m \u001b[43m                \u001b[49m\u001b[38;5;124;43m\"\u001b[39;49m\u001b[38;5;124;43mmetadata\u001b[39;49m\u001b[38;5;124;43m\"\u001b[39;49m\u001b[43m:\u001b[49m\u001b[43m \u001b[49m\u001b[43mmetadata\u001b[49m\u001b[43m,\u001b[49m\n\u001b[1;32m    830\u001b[0m \u001b[43m                \u001b[49m\u001b[38;5;124;43m\"\u001b[39;49m\u001b[38;5;124;43mmodalities\u001b[39;49m\u001b[38;5;124;43m\"\u001b[39;49m\u001b[43m:\u001b[49m\u001b[43m \u001b[49m\u001b[43mmodalities\u001b[49m\u001b[43m,\u001b[49m\n\u001b[1;32m    831\u001b[0m \u001b[43m                \u001b[49m\u001b[38;5;124;43m\"\u001b[39;49m\u001b[38;5;124;43mn\u001b[39;49m\u001b[38;5;124;43m\"\u001b[39;49m\u001b[43m:\u001b[49m\u001b[43m \u001b[49m\u001b[43mn\u001b[49m\u001b[43m,\u001b[49m\n\u001b[1;32m    832\u001b[0m \u001b[43m                \u001b[49m\u001b[38;5;124;43m\"\u001b[39;49m\u001b[38;5;124;43mparallel_tool_calls\u001b[39;49m\u001b[38;5;124;43m\"\u001b[39;49m\u001b[43m:\u001b[49m\u001b[43m \u001b[49m\u001b[43mparallel_tool_calls\u001b[49m\u001b[43m,\u001b[49m\n\u001b[1;32m    833\u001b[0m \u001b[43m                \u001b[49m\u001b[38;5;124;43m\"\u001b[39;49m\u001b[38;5;124;43mpresence_penalty\u001b[39;49m\u001b[38;5;124;43m\"\u001b[39;49m\u001b[43m:\u001b[49m\u001b[43m \u001b[49m\u001b[43mpresence_penalty\u001b[49m\u001b[43m,\u001b[49m\n\u001b[1;32m    834\u001b[0m \u001b[43m                \u001b[49m\u001b[38;5;124;43m\"\u001b[39;49m\u001b[38;5;124;43mresponse_format\u001b[39;49m\u001b[38;5;124;43m\"\u001b[39;49m\u001b[43m:\u001b[49m\u001b[43m \u001b[49m\u001b[43mresponse_format\u001b[49m\u001b[43m,\u001b[49m\n\u001b[1;32m    835\u001b[0m \u001b[43m                \u001b[49m\u001b[38;5;124;43m\"\u001b[39;49m\u001b[38;5;124;43mseed\u001b[39;49m\u001b[38;5;124;43m\"\u001b[39;49m\u001b[43m:\u001b[49m\u001b[43m \u001b[49m\u001b[43mseed\u001b[49m\u001b[43m,\u001b[49m\n\u001b[1;32m    836\u001b[0m \u001b[43m                \u001b[49m\u001b[38;5;124;43m\"\u001b[39;49m\u001b[38;5;124;43mservice_tier\u001b[39;49m\u001b[38;5;124;43m\"\u001b[39;49m\u001b[43m:\u001b[49m\u001b[43m \u001b[49m\u001b[43mservice_tier\u001b[49m\u001b[43m,\u001b[49m\n\u001b[1;32m    837\u001b[0m \u001b[43m                \u001b[49m\u001b[38;5;124;43m\"\u001b[39;49m\u001b[38;5;124;43mstop\u001b[39;49m\u001b[38;5;124;43m\"\u001b[39;49m\u001b[43m:\u001b[49m\u001b[43m \u001b[49m\u001b[43mstop\u001b[49m\u001b[43m,\u001b[49m\n\u001b[1;32m    838\u001b[0m \u001b[43m                \u001b[49m\u001b[38;5;124;43m\"\u001b[39;49m\u001b[38;5;124;43mstore\u001b[39;49m\u001b[38;5;124;43m\"\u001b[39;49m\u001b[43m:\u001b[49m\u001b[43m \u001b[49m\u001b[43mstore\u001b[49m\u001b[43m,\u001b[49m\n\u001b[1;32m    839\u001b[0m \u001b[43m                \u001b[49m\u001b[38;5;124;43m\"\u001b[39;49m\u001b[38;5;124;43mstream\u001b[39;49m\u001b[38;5;124;43m\"\u001b[39;49m\u001b[43m:\u001b[49m\u001b[43m \u001b[49m\u001b[43mstream\u001b[49m\u001b[43m,\u001b[49m\n\u001b[1;32m    840\u001b[0m \u001b[43m                \u001b[49m\u001b[38;5;124;43m\"\u001b[39;49m\u001b[38;5;124;43mstream_options\u001b[39;49m\u001b[38;5;124;43m\"\u001b[39;49m\u001b[43m:\u001b[49m\u001b[43m \u001b[49m\u001b[43mstream_options\u001b[49m\u001b[43m,\u001b[49m\n\u001b[1;32m    841\u001b[0m \u001b[43m                \u001b[49m\u001b[38;5;124;43m\"\u001b[39;49m\u001b[38;5;124;43mtemperature\u001b[39;49m\u001b[38;5;124;43m\"\u001b[39;49m\u001b[43m:\u001b[49m\u001b[43m \u001b[49m\u001b[43mtemperature\u001b[49m\u001b[43m,\u001b[49m\n\u001b[1;32m    842\u001b[0m \u001b[43m                \u001b[49m\u001b[38;5;124;43m\"\u001b[39;49m\u001b[38;5;124;43mtool_choice\u001b[39;49m\u001b[38;5;124;43m\"\u001b[39;49m\u001b[43m:\u001b[49m\u001b[43m \u001b[49m\u001b[43mtool_choice\u001b[49m\u001b[43m,\u001b[49m\n\u001b[1;32m    843\u001b[0m \u001b[43m                \u001b[49m\u001b[38;5;124;43m\"\u001b[39;49m\u001b[38;5;124;43mtools\u001b[39;49m\u001b[38;5;124;43m\"\u001b[39;49m\u001b[43m:\u001b[49m\u001b[43m \u001b[49m\u001b[43mtools\u001b[49m\u001b[43m,\u001b[49m\n\u001b[1;32m    844\u001b[0m \u001b[43m                \u001b[49m\u001b[38;5;124;43m\"\u001b[39;49m\u001b[38;5;124;43mtop_logprobs\u001b[39;49m\u001b[38;5;124;43m\"\u001b[39;49m\u001b[43m:\u001b[49m\u001b[43m \u001b[49m\u001b[43mtop_logprobs\u001b[49m\u001b[43m,\u001b[49m\n\u001b[1;32m    845\u001b[0m \u001b[43m                \u001b[49m\u001b[38;5;124;43m\"\u001b[39;49m\u001b[38;5;124;43mtop_p\u001b[39;49m\u001b[38;5;124;43m\"\u001b[39;49m\u001b[43m:\u001b[49m\u001b[43m \u001b[49m\u001b[43mtop_p\u001b[49m\u001b[43m,\u001b[49m\n\u001b[1;32m    846\u001b[0m \u001b[43m                \u001b[49m\u001b[38;5;124;43m\"\u001b[39;49m\u001b[38;5;124;43muser\u001b[39;49m\u001b[38;5;124;43m\"\u001b[39;49m\u001b[43m:\u001b[49m\u001b[43m \u001b[49m\u001b[43muser\u001b[49m\u001b[43m,\u001b[49m\n\u001b[1;32m    847\u001b[0m \u001b[43m            \u001b[49m\u001b[43m}\u001b[49m\u001b[43m,\u001b[49m\n\u001b[1;32m    848\u001b[0m \u001b[43m            \u001b[49m\u001b[43mcompletion_create_params\u001b[49m\u001b[38;5;241;43m.\u001b[39;49m\u001b[43mCompletionCreateParams\u001b[49m\u001b[43m,\u001b[49m\n\u001b[1;32m    849\u001b[0m \u001b[43m        \u001b[49m\u001b[43m)\u001b[49m\u001b[43m,\u001b[49m\n\u001b[1;32m    850\u001b[0m \u001b[43m        \u001b[49m\u001b[43moptions\u001b[49m\u001b[38;5;241;43m=\u001b[39;49m\u001b[43mmake_request_options\u001b[49m\u001b[43m(\u001b[49m\n\u001b[1;32m    851\u001b[0m \u001b[43m            \u001b[49m\u001b[43mextra_headers\u001b[49m\u001b[38;5;241;43m=\u001b[39;49m\u001b[43mextra_headers\u001b[49m\u001b[43m,\u001b[49m\u001b[43m \u001b[49m\u001b[43mextra_query\u001b[49m\u001b[38;5;241;43m=\u001b[39;49m\u001b[43mextra_query\u001b[49m\u001b[43m,\u001b[49m\u001b[43m \u001b[49m\u001b[43mextra_body\u001b[49m\u001b[38;5;241;43m=\u001b[39;49m\u001b[43mextra_body\u001b[49m\u001b[43m,\u001b[49m\u001b[43m \u001b[49m\u001b[43mtimeout\u001b[49m\u001b[38;5;241;43m=\u001b[39;49m\u001b[43mtimeout\u001b[49m\n\u001b[1;32m    852\u001b[0m \u001b[43m        \u001b[49m\u001b[43m)\u001b[49m\u001b[43m,\u001b[49m\n\u001b[1;32m    853\u001b[0m \u001b[43m        \u001b[49m\u001b[43mcast_to\u001b[49m\u001b[38;5;241;43m=\u001b[39;49m\u001b[43mChatCompletion\u001b[49m\u001b[43m,\u001b[49m\n\u001b[1;32m    854\u001b[0m \u001b[43m        \u001b[49m\u001b[43mstream\u001b[49m\u001b[38;5;241;43m=\u001b[39;49m\u001b[43mstream\u001b[49m\u001b[43m \u001b[49m\u001b[38;5;129;43;01mor\u001b[39;49;00m\u001b[43m \u001b[49m\u001b[38;5;28;43;01mFalse\u001b[39;49;00m\u001b[43m,\u001b[49m\n\u001b[1;32m    855\u001b[0m \u001b[43m        \u001b[49m\u001b[43mstream_cls\u001b[49m\u001b[38;5;241;43m=\u001b[39;49m\u001b[43mStream\u001b[49m\u001b[43m[\u001b[49m\u001b[43mChatCompletionChunk\u001b[49m\u001b[43m]\u001b[49m\u001b[43m,\u001b[49m\n\u001b[1;32m    856\u001b[0m \u001b[43m    \u001b[49m\u001b[43m)\u001b[49m\n",
      "File \u001b[0;32m~/miniconda3/envs/ipt-cfr2sbvr/lib/python3.11/site-packages/openai/_base_client.py:1277\u001b[0m, in \u001b[0;36mSyncAPIClient.post\u001b[0;34m(self, path, cast_to, body, options, files, stream, stream_cls)\u001b[0m\n\u001b[1;32m   1263\u001b[0m \u001b[38;5;28;01mdef\u001b[39;00m \u001b[38;5;21mpost\u001b[39m(\n\u001b[1;32m   1264\u001b[0m     \u001b[38;5;28mself\u001b[39m,\n\u001b[1;32m   1265\u001b[0m     path: \u001b[38;5;28mstr\u001b[39m,\n\u001b[0;32m   (...)\u001b[0m\n\u001b[1;32m   1272\u001b[0m     stream_cls: \u001b[38;5;28mtype\u001b[39m[_StreamT] \u001b[38;5;241m|\u001b[39m \u001b[38;5;28;01mNone\u001b[39;00m \u001b[38;5;241m=\u001b[39m \u001b[38;5;28;01mNone\u001b[39;00m,\n\u001b[1;32m   1273\u001b[0m ) \u001b[38;5;241m-\u001b[39m\u001b[38;5;241m>\u001b[39m ResponseT \u001b[38;5;241m|\u001b[39m _StreamT:\n\u001b[1;32m   1274\u001b[0m     opts \u001b[38;5;241m=\u001b[39m FinalRequestOptions\u001b[38;5;241m.\u001b[39mconstruct(\n\u001b[1;32m   1275\u001b[0m         method\u001b[38;5;241m=\u001b[39m\u001b[38;5;124m\"\u001b[39m\u001b[38;5;124mpost\u001b[39m\u001b[38;5;124m\"\u001b[39m, url\u001b[38;5;241m=\u001b[39mpath, json_data\u001b[38;5;241m=\u001b[39mbody, files\u001b[38;5;241m=\u001b[39mto_httpx_files(files), \u001b[38;5;241m*\u001b[39m\u001b[38;5;241m*\u001b[39moptions\n\u001b[1;32m   1276\u001b[0m     )\n\u001b[0;32m-> 1277\u001b[0m     \u001b[38;5;28;01mreturn\u001b[39;00m cast(ResponseT, \u001b[38;5;28;43mself\u001b[39;49m\u001b[38;5;241;43m.\u001b[39;49m\u001b[43mrequest\u001b[49m\u001b[43m(\u001b[49m\u001b[43mcast_to\u001b[49m\u001b[43m,\u001b[49m\u001b[43m \u001b[49m\u001b[43mopts\u001b[49m\u001b[43m,\u001b[49m\u001b[43m \u001b[49m\u001b[43mstream\u001b[49m\u001b[38;5;241;43m=\u001b[39;49m\u001b[43mstream\u001b[49m\u001b[43m,\u001b[49m\u001b[43m \u001b[49m\u001b[43mstream_cls\u001b[49m\u001b[38;5;241;43m=\u001b[39;49m\u001b[43mstream_cls\u001b[49m\u001b[43m)\u001b[49m)\n",
      "File \u001b[0;32m~/miniconda3/envs/ipt-cfr2sbvr/lib/python3.11/site-packages/openai/_base_client.py:954\u001b[0m, in \u001b[0;36mSyncAPIClient.request\u001b[0;34m(self, cast_to, options, remaining_retries, stream, stream_cls)\u001b[0m\n\u001b[1;32m    951\u001b[0m \u001b[38;5;28;01melse\u001b[39;00m:\n\u001b[1;32m    952\u001b[0m     retries_taken \u001b[38;5;241m=\u001b[39m \u001b[38;5;241m0\u001b[39m\n\u001b[0;32m--> 954\u001b[0m \u001b[38;5;28;01mreturn\u001b[39;00m \u001b[38;5;28;43mself\u001b[39;49m\u001b[38;5;241;43m.\u001b[39;49m\u001b[43m_request\u001b[49m\u001b[43m(\u001b[49m\n\u001b[1;32m    955\u001b[0m \u001b[43m    \u001b[49m\u001b[43mcast_to\u001b[49m\u001b[38;5;241;43m=\u001b[39;49m\u001b[43mcast_to\u001b[49m\u001b[43m,\u001b[49m\n\u001b[1;32m    956\u001b[0m \u001b[43m    \u001b[49m\u001b[43moptions\u001b[49m\u001b[38;5;241;43m=\u001b[39;49m\u001b[43moptions\u001b[49m\u001b[43m,\u001b[49m\n\u001b[1;32m    957\u001b[0m \u001b[43m    \u001b[49m\u001b[43mstream\u001b[49m\u001b[38;5;241;43m=\u001b[39;49m\u001b[43mstream\u001b[49m\u001b[43m,\u001b[49m\n\u001b[1;32m    958\u001b[0m \u001b[43m    \u001b[49m\u001b[43mstream_cls\u001b[49m\u001b[38;5;241;43m=\u001b[39;49m\u001b[43mstream_cls\u001b[49m\u001b[43m,\u001b[49m\n\u001b[1;32m    959\u001b[0m \u001b[43m    \u001b[49m\u001b[43mretries_taken\u001b[49m\u001b[38;5;241;43m=\u001b[39;49m\u001b[43mretries_taken\u001b[49m\u001b[43m,\u001b[49m\n\u001b[1;32m    960\u001b[0m \u001b[43m\u001b[49m\u001b[43m)\u001b[49m\n",
      "File \u001b[0;32m~/miniconda3/envs/ipt-cfr2sbvr/lib/python3.11/site-packages/openai/_base_client.py:1058\u001b[0m, in \u001b[0;36mSyncAPIClient._request\u001b[0;34m(self, cast_to, options, retries_taken, stream, stream_cls)\u001b[0m\n\u001b[1;32m   1055\u001b[0m         err\u001b[38;5;241m.\u001b[39mresponse\u001b[38;5;241m.\u001b[39mread()\n\u001b[1;32m   1057\u001b[0m     log\u001b[38;5;241m.\u001b[39mdebug(\u001b[38;5;124m\"\u001b[39m\u001b[38;5;124mRe-raising status error\u001b[39m\u001b[38;5;124m\"\u001b[39m)\n\u001b[0;32m-> 1058\u001b[0m     \u001b[38;5;28;01mraise\u001b[39;00m \u001b[38;5;28mself\u001b[39m\u001b[38;5;241m.\u001b[39m_make_status_error_from_response(err\u001b[38;5;241m.\u001b[39mresponse) \u001b[38;5;28;01mfrom\u001b[39;00m \u001b[38;5;28;01mNone\u001b[39;00m\n\u001b[1;32m   1060\u001b[0m \u001b[38;5;28;01mreturn\u001b[39;00m \u001b[38;5;28mself\u001b[39m\u001b[38;5;241m.\u001b[39m_process_response(\n\u001b[1;32m   1061\u001b[0m     cast_to\u001b[38;5;241m=\u001b[39mcast_to,\n\u001b[1;32m   1062\u001b[0m     options\u001b[38;5;241m=\u001b[39moptions,\n\u001b[0;32m   (...)\u001b[0m\n\u001b[1;32m   1066\u001b[0m     retries_taken\u001b[38;5;241m=\u001b[39mretries_taken,\n\u001b[1;32m   1067\u001b[0m )\n",
      "\u001b[0;31mBadRequestError\u001b[0m: Error code: 400 - {'error': {'message': \"Invalid value: 'json'. Supported values are: 'json_object', 'json_schema', and 'text'.\", 'type': 'invalid_request_error', 'param': 'response_format.type', 'code': 'invalid_value'}}"
     ]
    }
   ],
   "source": [
    "from openai import OpenAI\n",
    "\n",
    "client = OpenAI()\n",
    "\n",
    "response = client.chat.completions.create(\n",
    "    model=\"o1-preview\",\n",
    "    messages=[\n",
    "        {\"role\": \"user\", \"content\": [{\"type\": \"text\", \"text\": f\"{user_msg}\"}]},\n",
    "        {\n",
    "            \"role\": \"assistant\",\n",
    "            \"content\": [{\"type\": \"text\", \"text\": f\"{assistant_msg}\"}],\n",
    "        },\n",
    "    ],\n",
    ")"
   ]
  },
  {
   "cell_type": "code",
   "execution_count": 19,
   "metadata": {},
   "outputs": [
    {
     "data": {
      "text/plain": [
       "'```json\\n{\\n  \"timestamp\": \"2024-12-05 20:37:38\",\\n  \"processing_notes\": \"Processing document: § 275.0-2\",\\n  \"section\": \"§ 275.0-2\",\\n  \"elements\": [\\n    {\\n      \"id\": 1,\\n      \"title\": \"Procedure for serving process on non-resident investment advisers via appointed agents\",\\n      \"statement\": \"Under Forms ADV and ADV-NR [17 CFR 279.1 and 279.4], a person may serve process, pleadings, or other papers on a non-resident investment adviser, or on a non-resident general partner or non-resident managing agent of an investment adviser by serving any or all of its appointed agents:\",\\n      \"terms\": [\\n        {\\n          \"term\": \"Form ADV\",\\n          \"classification\": \"Proper Noun\",\\n          \"confidence\": 1.0,\\n          \"reason\": \"Form ADV is a specific form referenced in the regulation.\",\\n          \"extract_confidence\": 1.0,\\n          \"extract_reason\": \"Form ADV is explicitly mentioned.\"\\n        },\\n        {\\n          \"term\": \"Form ADV-NR\",\\n          \"classification\": \"Proper Noun\",\\n          \"confidence\": 1.0,\\n          \"reason\": \"Form ADV-NR is a specific form referenced in the regulation.\",\\n          \"extract_confidence\": 1.0,\\n          \"extract_reason\": \"Form ADV-NR is explicitly mentioned.\"\\n        },\\n        {\\n          \"term\": \"Person\",\\n          \"classification\": \"Common Noun\",\\n          \"confidence\": 1.0,\\n          \"reason\": \"\\'Person\\' is a general term for an individual or entity.\",\\n          \"extract_confidence\": 1.0,\\n          \"extract_reason\": \"The term \\'person\\' is explicitly mentioned.\"\\n        },\\n        {\\n          \"term\": \"Process\",\\n          \"classification\": \"Common Noun\",\\n          \"confidence\": 1.0,\\n          \"reason\": \"Refers to legal documents.\",\\n          \"extract_confidence\": 1.0,\\n          \"extract_reason\": \"The term \\'process\\' is explicitly mentioned.\"\\n        },\\n        {\\n          \"term\": \"Pleadings\",\\n          \"classification\": \"Common Noun\",\\n          \"confidence\": 1.0,\\n          \"reason\": \"Refers to legal documents.\",\\n          \"extract_confidence\": 1.0,\\n          \"extract_reason\": \"The term \\'pleadings\\' is explicitly mentioned.\"\\n        },\\n        {\\n          \"term\": \"Other papers\",\\n          \"classification\": \"Common Noun\",\\n          \"confidence\": 1.0,\\n          \"reason\": \"Refers to additional legal documents.\",\\n          \"extract_confidence\": 1.0,\\n          \"extract_reason\": \"The term \\'other papers\\' is explicitly mentioned.\"\\n        },\\n        {\\n          \"term\": \"Non-resident investment adviser\",\\n          \"classification\": \"Common Noun\",\\n          \"confidence\": 1.0,\\n          \"reason\": \"A category of investment adviser.\",\\n          \"extract_confidence\": 1.0,\\n          \"extract_reason\": \"Explicitly mentioned in the statement.\"\\n        },\\n        {\\n          \"term\": \"Non-resident general partner\",\\n          \"classification\": \"Common Noun\",\\n          \"confidence\": 1.0,\\n          \"reason\": \"A category of general partner.\",\\n          \"extract_confidence\": 1.0,\\n          \"extract_reason\": \"Explicitly mentioned.\"\\n        },\\n        {\\n          \"term\": \"Non-resident managing agent\",\\n          \"classification\": \"Common Noun\",\\n          \"confidence\": 1.0,\\n          \"reason\": \"A category of managing agent.\",\\n          \"extract_confidence\": 1.0,\\n          \"extract_reason\": \"Explicitly mentioned.\"\\n        },\\n        {\\n          \"term\": \"Investment adviser\",\\n          \"classification\": \"Common Noun\",\\n          \"confidence\": 1.0,\\n          \"reason\": \"An entity providing investment advice.\",\\n          \"extract_confidence\": 1.0,\\n          \"extract_reason\": \"Mentioned in the context.\"\\n        },\\n        {\\n          \"term\": \"Appointed agents\",\\n          \"classification\": \"Common Noun\",\\n          \"confidence\": 1.0,\\n          \"reason\": \"Agents appointed for service of process.\",\\n          \"extract_confidence\": 1.0,\\n          \"extract_reason\": \"Explicitly mentioned.\"\\n        }\\n      ],\\n      \"verb_symbols\": [\"may serve\", \"by serving\"],\\n      \"verb_symbols_extracted_confidence\": [0.9, 0.9],\\n      \"verb_symbols_extracted_reason\": [\\n        \"\\'May serve\\' indicates action permitted to the person.\",\\n        \"\\'By serving\\' indicates the method by which service is carried out.\"\\n      ],\\n      \"classification\": \"Rule\",\\n      \"confidence\": 0.9,\\n      \"reason\": \"The statement specifies an allowed procedure, indicating what may be done under certain circumstances.\",\\n      \"sources\": [\"(a)\"]\\n    },\\n    {\\n      \"id\": 2,\\n      \"title\": \"Serving non-resident investment advisers via the Commission\",\\n      \"statement\": \"A person may serve a non-resident investment adviser, non-resident general partner, or non-resident managing agent by furnishing the Commission with one copy of the process, pleadings, or papers, for each named party, and one additional copy for the Commission\\'s records.\",\\n      \"terms\": [\\n        {\\n          \"term\": \"Person\",\\n          \"classification\": \"Common Noun\",\\n          \"confidence\": 1.0,\\n          \"reason\": \"General term for individual or entity.\",\\n          \"extract_confidence\": 1.0,\\n          \"extract_reason\": \"Explicitly mentioned in the statement.\"\\n        },\\n        {\\n          \"term\": \"Non-resident investment adviser\",\\n          \"classification\": \"Common Noun\",\\n          \"confidence\": 1.0,\\n          \"reason\": \"A type of investment adviser.\",\\n          \"extract_confidence\": 1.0,\\n          \"extract_reason\": \"Explicitly mentioned.\"\\n        },\\n        {\\n          \"term\": \"Non-resident general partner\",\\n          \"classification\": \"Common Noun\",\\n          \"confidence\": 1.0,\\n          \"reason\": \"A type of general partner.\",\\n          \"extract_confidence\": 1.0,\\n          \"extract_reason\": \"Explicitly mentioned.\"\\n        },\\n        {\\n          \"term\": \"Non-resident managing agent\",\\n          \"classification\": \"Common Noun\",\\n          \"confidence\": 1.0,\\n          \"reason\": \"A type of managing agent.\",\\n          \"extract_confidence\": 1.0,\\n          \"extract_reason\": \"Explicitly mentioned.\"\\n        },\\n        {\\n          \"term\": \"Commission\",\\n          \"classification\": \"Proper Noun\",\\n          \"confidence\": 1.0,\\n          \"reason\": \"Refers to the Securities and Exchange Commission.\",\\n          \"extract_confidence\": 1.0,\\n          \"extract_reason\": \"Explicitly mentioned.\"\\n        },\\n        {\\n          \"term\": \"Copy\",\\n          \"classification\": \"Common Noun\",\\n          \"confidence\": 1.0,\\n          \"reason\": \"Refers to duplicate of documents.\",\\n          \"extract_confidence\": 1.0,\\n          \"extract_reason\": \"Mentioned as \\'one copy\\'.\"\\n        },\\n        {\\n          \"term\": \"Process\",\\n          \"classification\": \"Common Noun\",\\n          \"confidence\": 1.0,\\n          \"reason\": \"Refers to legal documents.\",\\n          \"extract_confidence\": 1.0,\\n          \"extract_reason\": \"Explicitly mentioned.\"\\n        },\\n        {\\n          \"term\": \"Pleadings\",\\n          \"classification\": \"Common Noun\",\\n          \"confidence\": 1.0,\\n          \"reason\": \"Refers to legal documents.\",\\n          \"extract_confidence\": 1.0,\\n          \"extract_reason\": \"Explicitly mentioned.\"\\n        },\\n        {\\n          \"term\": \"Papers\",\\n          \"classification\": \"Common Noun\",\\n          \"confidence\": 1.0,\\n          \"reason\": \"Refers to documents.\",\\n          \"extract_confidence\": 1.0,\\n          \"extract_reason\": \"Explicitly mentioned.\"\\n        },\\n        {\\n          \"term\": \"Named party\",\\n          \"classification\": \"Common Noun\",\\n          \"confidence\": 1.0,\\n          \"reason\": \"Party named in legal proceedings.\",\\n          \"extract_confidence\": 1.0,\\n          \"extract_reason\": \"Mentioned as \\'for each named party\\'.\"\\n        },\\n        {\\n          \"term\": \"Commission\\'s records\",\\n          \"classification\": \"Common Noun\",\\n          \"confidence\": 1.0,\\n          \"reason\": \"Records maintained by the Commission.\",\\n          \"extract_confidence\": 1.0,\\n          \"extract_reason\": \"Explicitly mentioned.\"\\n        }\\n      ],\\n      \"verb_symbols\": [\"may serve\", \"by furnishing\"],\\n      \"verb_symbols_extracted_confidence\": [0.9, 0.9],\\n      \"verb_symbols_extracted_reason\": [\\n        \"\\'May serve\\' indicates permissible action.\",\\n        \"\\'By furnishing\\' indicates the method.\"\\n      ],\\n      \"classification\": \"Rule\",\\n      \"confidence\": 0.9,\\n      \"reason\": \"Specifies a procedure that must be followed.\",\\n      \"sources\": [\"(a)(1)\"]\\n    },\\n    {\\n      \"id\": 3,\\n      \"title\": \"Commission forwards served documents to named parties\",\\n      \"statement\": \"If process, pleadings, or other papers are served on the Commission as described in this section, the Secretary of the Commission (Secretary) will promptly forward a copy to each named party by registered or certified mail at that party\\'s last address filed with the Commission.\",\\n      \"terms\": [\\n        {\\n          \"term\": \"Process\",\\n          \"classification\": \"Common Noun\",\\n          \"confidence\": 1.0,\\n          \"reason\": \"Refers to legal documents.\",\\n          \"extract_confidence\": 1.0,\\n          \"extract_reason\": \"Explicitly mentioned.\"\\n        },\\n        {\\n          \"term\": \"Pleadings\",\\n          \"classification\": \"Common Noun\",\\n          \"confidence\": 1.0,\\n          \"reason\": \"Refers to legal documents.\",\\n          \"extract_confidence\": 1.0,\\n          \"extract_reason\": \"Explicitly mentioned.\"\\n        },\\n        {\\n          \"term\": \"Other papers\",\\n          \"classification\": \"Common Noun\",\\n          \"confidence\": 1.0,\\n          \"reason\": \"Refers to additional legal documents.\",\\n          \"extract_confidence\": 1.0,\\n          \"extract_reason\": \"Explicitly mentioned.\"\\n        },\\n        {\\n          \"term\": \"Commission\",\\n          \"classification\": \"Proper Noun\",\\n          \"confidence\": 1.0,\\n          \"reason\": \"Refers to the SEC.\",\\n          \"extract_confidence\": 1.0,\\n          \"extract_reason\": \"Explicitly mentioned.\"\\n        },\\n        {\\n          \"term\": \"Secretary of the Commission\",\\n          \"classification\": \"Proper Noun\",\\n          \"confidence\": 1.0,\\n          \"reason\": \"Specific officer within the Commission.\",\\n          \"extract_confidence\": 1.0,\\n          \"extract_reason\": \"Explicitly mentioned.\"\\n        },\\n        {\\n          \"term\": \"Copy\",\\n          \"classification\": \"Common Noun\",\\n          \"confidence\": 1.0,\\n          \"reason\": \"Refers to the documents sent.\",\\n          \"extract_confidence\": 1.0,\\n          \"extract_reason\": \"Explicitly mentioned.\"\\n        },\\n        {\\n          \"term\": \"Named party\",\\n          \"classification\": \"Common Noun\",\\n          \"confidence\": 1.0,\\n          \"reason\": \"Party in legal proceedings.\",\\n          \"extract_confidence\": 1.0,\\n          \"extract_reason\": \"Explicitly mentioned.\"\\n        },\\n        {\\n          \"term\": \"Registered mail\",\\n          \"classification\": \"Common Noun\",\\n          \"confidence\": 1.0,\\n          \"reason\": \"Method of mailing.\",\\n          \"extract_confidence\": 1.0,\\n          \"extract_reason\": \"Mentioned as method of sending documents.\"\\n        },\\n        {\\n          \"term\": \"Certified mail\",\\n          \"classification\": \"Common Noun\",\\n          \"confidence\": 1.0,\\n          \"reason\": \"Method of mailing.\",\\n          \"extract_confidence\": 1.0,\\n          \"extract_reason\": \"Mentioned as method of sending documents.\"\\n        },\\n        {\\n          \"term\": \"Party\\'s last address filed with the Commission\",\\n          \"classification\": \"Common Noun\",\\n          \"confidence\": 1.0,\\n          \"reason\": \"Address where documents are sent.\",\\n          \"extract_confidence\": 1.0,\\n          \"extract_reason\": \"Explicitly mentioned.\"\\n        }\\n      ],\\n      \"verb_symbols\": [\"are served\", \"will promptly forward\"],\\n      \"verb_symbols_extracted_confidence\": [0.9, 0.9],\\n      \"verb_symbols_extracted_reason\": [\\n        \"\\'Are served\\' indicates action.\",\\n        \"\\'Will promptly forward\\' indicates the Secretary\\'s action.\"\\n      ],\\n      \"classification\": \"Rule\",\\n      \"confidence\": 0.9,\\n      \"reason\": \"Specifies obligatory action by the Secretary.\",\\n      \"sources\": [\"(a)(2)\"]\\n    },\\n    {\\n      \"id\": 4,\\n      \"title\": \"Certification constitutes evidence of service\",\\n      \"statement\": \"If the Secretary certifies that the Commission was served with process, pleadings, or other papers pursuant to paragraph (a)(1) of this section and forwarded these documents to a named party pursuant to paragraph (a)(2) of this section, this certification constitutes evidence of service upon that party.\",\\n      \"terms\": [\\n        {\\n          \"term\": \"Secretary\",\\n          \"classification\": \"Proper Noun\",\\n          \"confidence\": 1.0,\\n          \"reason\": \"Refers to the Secretary of the Commission.\",\\n          \"extract_confidence\": 1.0,\\n          \"extract_reason\": \"Explicitly mentioned.\"\\n        },\\n        {\\n          \"term\": \"Commission\",\\n          \"classification\": \"Proper Noun\",\\n          \"confidence\": 1.0,\\n          \"reason\": \"Refers to the SEC.\",\\n          \"extract_confidence\": 1.0,\\n          \"extract_reason\": \"Explicitly mentioned.\"\\n        },\\n        {\\n          \"term\": \"Process\",\\n          \"classification\": \"Common Noun\",\\n          \"confidence\": 1.0,\\n          \"reason\": \"Refers to legal documents.\",\\n          \"extract_confidence\": 1.0,\\n          \"extract_reason\": \"Explicitly mentioned.\"\\n        },\\n        {\\n          \"term\": \"Pleadings\",\\n          \"classification\": \"Common Noun\",\\n          \"confidence\": 1.0,\\n          \"reason\": \"Refers to legal documents.\",\\n          \"extract_confidence\": 1.0,\\n          \"extract_reason\": \"Explicitly mentioned.\"\\n        },\\n        {\\n          \"term\": \"Other papers\",\\n          \"classification\": \"Common Noun\",\\n          \"confidence\": 1.0,\\n          \"reason\": \"Refers to legal documents.\",\\n          \"extract_confidence\": 1.0,\\n          \"extract_reason\": \"Explicitly mentioned.\"\\n        },\\n        {\\n          \"term\": \"Paragraph (a)(1)\",\\n          \"classification\": \"Proper Noun\",\\n          \"confidence\": 1.0,\\n          \"reason\": \"Reference to prior section.\",\\n          \"extract_confidence\": 1.0,\\n          \"extract_reason\": \"Explicitly referred.\"\\n        },\\n        {\\n          \"term\": \"Paragraph (a)(2)\",\\n          \"classification\": \"Proper Noun\",\\n          \"confidence\": 1.0,\\n          \"reason\": \"Reference to prior section.\",\\n          \"extract_confidence\": 1.0,\\n          \"extract_reason\": \"Explicitly referred.\"\\n        },\\n        {\\n          \"term\": \"Named party\",\\n          \"classification\": \"Common Noun\",\\n          \"confidence\": 1.0,\\n          \"reason\": \"Party in legal proceedings.\",\\n          \"extract_confidence\": 1.0,\\n          \"extract_reason\": \"Explicitly mentioned.\"\\n        },\\n        {\\n          \"term\": \"Certification\",\\n          \"classification\": \"Common Noun\",\\n          \"confidence\": 1.0,\\n          \"reason\": \"Document certifying actions.\",\\n          \"extract_confidence\": 1.0,\\n          \"extract_reason\": \"Explicitly mentioned.\"\\n        },\\n        {\\n          \"term\": \"Evidence of service\",\\n          \"classification\": \"Common Noun\",\\n          \"confidence\": 1.0,\\n          \"reason\": \"Legal proof that service occurred.\",\\n          \"extract_confidence\": 1.0,\\n          \"extract_reason\": \"Explicitly mentioned.\"\\n        },\\n        {\\n          \"term\": \"Party\",\\n          \"classification\": \"Common Noun\",\\n          \"confidence\": 1.0,\\n          \"reason\": \"Person or entity in legal proceeding.\",\\n          \"extract_confidence\": 1.0,\\n          \"extract_reason\": \"Explicitly mentioned.\"\\n        }\\n      ],\\n      \"verb_symbols\": [\"certifies\", \"was served\", \"forwarded\", \"constitutes\"],\\n      \"verb_symbols_extracted_confidence\": [0.9, 0.9, 0.9, 0.9],\\n      \"verb_symbols_extracted_reason\": [\\n        \"\\'Certifies\\' indicates action by Secretary.\",\\n        \"\\'Was served\\' indicates prior action.\",\\n        \"\\'Forwarded\\' indicates action taken.\",\\n        \"\\'Constitutes\\' indicates legal outcome.\"\\n      ],\\n      \"classification\": \"Rule\",\\n      \"confidence\": 0.9,\\n      \"reason\": \"Specifies legal effect of actions.\",\\n      \"sources\": [\"(a)(3)\"]\\n    },\\n    {\\n      \"id\": 5,\\n      \"title\": \"Definition of Managing agent\",\\n      \"statement\": \"Managing agent means any person, including a trustee, who directs or manages, or who participates in directing or managing, the affairs of any unincorporated organization or association other than a partnership.\",\\n      \"terms\": [\\n        {\\n          \"term\": \"Managing agent\",\\n          \"classification\": \"Common Noun\",\\n          \"confidence\": 1.0,\\n          \"reason\": \"Subject being defined.\",\\n          \"extract_confidence\": 1.0,\\n          \"extract_reason\": \"The term being defined.\"\\n        },\\n        {\\n          \"term\": \"Person\",\\n          \"classification\": \"Common Noun\",\\n          \"confidence\": 1.0,\\n          \"reason\": \"Individual or entity.\",\\n          \"extract_confidence\": 1.0,\\n          \"extract_reason\": \"Explicitly mentioned.\"\\n        },\\n        {\\n          \"term\": \"Trustee\",\\n          \"classification\": \"Common Noun\",\\n          \"confidence\": 1.0,\\n          \"reason\": \"Included in definition.\",\\n          \"extract_confidence\": 1.0,\\n          \"extract_reason\": \"Explicitly mentioned.\"\\n        },\\n        {\\n          \"term\": \"Affairs\",\\n          \"classification\": \"Common Noun\",\\n          \"confidence\": 1.0,\\n          \"reason\": \"Activities of an organization.\",\\n          \"extract_confidence\": 1.0,\\n          \"extract_reason\": \"Mentioned in context.\"\\n        },\\n        {\\n          \"term\": \"Unincorporated organization\",\\n          \"classification\": \"Common Noun\",\\n          \"confidence\": 1.0,\\n          \"reason\": \"Type of entity.\",\\n          \"extract_confidence\": 1.0,\\n          \"extract_reason\": \"Mentioned in definition.\"\\n        },\\n        {\\n          \"term\": \"Association\",\\n          \"classification\": \"Common Noun\",\\n          \"confidence\": 1.0,\\n          \"reason\": \"Type of entity.\",\\n          \"extract_confidence\": 1.0,\\n          \"extract_reason\": \"Mentioned in definition.\"\\n        },\\n        {\\n          \"term\": \"Partnership\",\\n          \"classification\": \"Common Noun\",\\n          \"confidence\": 1.0,\\n          \"reason\": \"Excluded from definition.\",\\n          \"extract_confidence\": 1.0,\\n          \"extract_reason\": \"Mentioned as exception.\"\\n        }\\n      ],\\n      \"verb_symbols\": [\"means\", \"directs\", \"manages\", \"participates\"],\\n      \"verb_symbols_extracted_confidence\": [1.0, 1.0, 1.0, 1.0],\\n      \"verb_symbols_extracted_reason\": [\\n        \"\\'Means\\' introduces definition.\",\\n        \"\\'Directs\\' and \\'manages\\' indicate actions.\",\\n        \"\\'Participates\\' indicates involvement in actions.\"\\n      ],\\n      \"classification\": \"Fact Type\",\\n      \"confidence\": 1.0,\\n      \"reason\": \"Definition specifying attributes.\",\\n      \"sources\": [\"(b)(1)\"]\\n    },\\n    {\\n      \"id\": 6,\\n      \"title\": \"Definition of Non-resident\",\\n      \"statement\": \"Non-resident means:\\\\n        (i) An individual who resides in any place not subject to the jurisdiction of the United States;\\\\n        (ii) A corporation that is incorporated in or that has its principal office and place of business in any place not subject to the jurisdiction of the United States; and\\\\n        (iii) A partnership or other unincorporated organization or association that has its principal office and place of business in any place not subject to the jurisdiction of the United States.\",\\n      \"terms\": [\\n        {\\n          \"term\": \"Non-resident\",\\n          \"classification\": \"Common Noun\",\\n          \"confidence\": 1.0,\\n          \"reason\": \"Subject being defined.\",\\n          \"extract_confidence\": 1.0,\\n          \"extract_reason\": \"The term being defined.\"\\n        },\\n        {\\n          \"term\": \"Individual\",\\n          \"classification\": \"Common Noun\",\\n          \"confidence\": 1.0,\\n          \"reason\": \"Person.\",\\n          \"extract_confidence\": 1.0,\\n          \"extract_reason\": \"Mentioned in definition.\"\\n        },\\n        {\\n          \"term\": \"Place not subject to the jurisdiction of the United States\",\\n          \"classification\": \"Common Noun\",\\n          \"confidence\": 1.0,\\n          \"reason\": \"Geographical area.\",\\n          \"extract_confidence\": 1.0,\\n          \"extract_reason\": \"Repeatedly mentioned in definition.\"\\n        },\\n        {\\n          \"term\": \"Corporation\",\\n          \"classification\": \"Common Noun\",\\n          \"confidence\": 1.0,\\n          \"reason\": \"Type of entity.\",\\n          \"extract_confidence\": 1.0,\\n          \"extract_reason\": \"Mentioned in definition.\"\\n        },\\n        {\\n          \"term\": \"Incorporated in any place not subject to the jurisdiction of the United States\",\\n          \"classification\": \"Common Noun\",\\n          \"confidence\": 1.0,\\n          \"reason\": \"Describes corporation\\'s incorporation.\",\\n          \"extract_confidence\": 1.0,\\n          \"extract_reason\": \"Mentioned in definition.\"\\n        },\\n        {\\n          \"term\": \"Principal office\",\\n          \"classification\": \"Common Noun\",\\n          \"confidence\": 1.0,\\n          \"reason\": \"Part of business location.\",\\n          \"extract_confidence\": 1.0,\\n          \"extract_reason\": \"Mentioned in definition.\"\\n        },\\n        {\\n          \"term\": \"Place of business\",\\n          \"classification\": \"Common Noun\",\\n          \"confidence\": 1.0,\\n          \"reason\": \"Part of business location.\",\\n          \"extract_confidence\": 1.0,\\n          \"extract_reason\": \"Mentioned in definition.\"\\n        },\\n        {\\n          \"term\": \"Partnership\",\\n          \"classification\": \"Common Noun\",\\n          \"confidence\": 1.0,\\n          \"reason\": \"Type of entity.\",\\n          \"extract_confidence\": 1.0,\\n          \"extract_reason\": \"Mentioned in definition.\"\\n        },\\n        {\\n          \"term\": \"Unincorporated organization\",\\n          \"classification\": \"Common Noun\",\\n          \"confidence\": 1.0,\\n          \"reason\": \"Type of entity.\",\\n          \"extract_confidence\": 1.0,\\n          \"extract_reason\": \"Mentioned.\"\\n        },\\n        {\\n          \"term\": \"Association\",\\n          \"classification\": \"Common Noun\",\\n          \"confidence\": 1.0,\\n          \"reason\": \"Type of entity.\",\\n          \"extract_confidence\": 1.0,\\n          \"extract_reason\": \"Mentioned in definition.\"\\n        }\\n      ],\\n      \"verb_symbols\": [\"means\", \"resides\", \"is incorporated\", \"has\"],\\n      \"verb_symbols_extracted_confidence\": [1.0, 1.0, 1.0, 1.0],\\n      \"verb_symbols_extracted_reason\": [\\n        \"\\'Means\\' introduces definition.\",\\n        \"\\'Resides\\' indicates location.\",\\n        \"\\'Is incorporated\\' indicates legal status.\",\\n        \"\\'Has\\' indicates possession of office and place of business.\"\\n      ],\\n      \"classification\": \"Fact Type\",\\n      \"confidence\": 1.0,\\n      \"reason\": \"Definition specifying conditions for being a non-resident.\",\\n      \"sources\": [\"(b)(2)\"]\\n    },\\n    {\\n      \"id\": 7,\\n      \"title\": \"Definition of Principal office and place of business\",\\n      \"statement\": \"Principal office and place of business has the same meaning as in § 275.203A-3(c) of this chapter.\",\\n      \"terms\": [\\n        {\\n          \"term\": \"Principal office\",\\n          \"classification\": \"Common Noun\",\\n          \"confidence\": 1.0,\\n          \"reason\": \"Part of business location.\",\\n          \"extract_confidence\": 1.0,\\n          \"extract_reason\": \"Term being defined.\"\\n        },\\n        {\\n          \"term\": \"Place of business\",\\n          \"classification\": \"Common Noun\",\\n          \"confidence\": 1.0,\\n          \"reason\": \"Part of business location.\",\\n          \"extract_confidence\": 1.0,\\n          \"extract_reason\": \"Term being defined.\"\\n        },\\n        {\\n          \"term\": \"§ 275.203A-3(c)\",\\n          \"classification\": \"Proper Noun\",\\n          \"confidence\": 1.0,\\n          \"reason\": \"Reference to another regulation section.\",\\n          \"extract_confidence\": 1.0,\\n          \"extract_reason\": \"Explicitly mentioned.\"\\n        },\\n        {\\n          \"term\": \"This chapter\",\\n          \"classification\": \"Common Noun\",\\n          \"confidence\": 1.0,\\n          \"reason\": \"Refers to the current set of regulations.\",\\n          \"extract_confidence\": 1.0,\\n          \"extract_reason\": \"Mentioned in statement.\"\\n        }\\n      ],\\n      \"verb_symbols\": [\"has the same meaning as\"],\\n      \"verb_symbols_extracted_confidence\": [1.0],\\n      \"verb_symbols_extracted_reason\": [\\n        \"\\'Has the same meaning as\\' indicates equivalence in definitions.\"\\n      ],\\n      \"classification\": \"Fact Type\",\\n      \"confidence\": 1.0,\\n      \"reason\": \"Statement refers to an existing definition.\",\\n      \"sources\": [\"(b)(3)\"]\\n    }\\n  ]\\n}\\n```'"
      ]
     },
     "execution_count": 19,
     "metadata": {},
     "output_type": "execute_result"
    }
   ],
   "source": [
    "response.choices[0].message.content"
   ]
  }
 ],
 "metadata": {
  "kernelspec": {
   "display_name": "ipt-cfr2sbvr",
   "language": "python",
   "name": "python3"
  },
  "language_info": {
   "codemirror_mode": {
    "name": "ipython",
    "version": 3
   },
   "file_extension": ".py",
   "mimetype": "text/x-python",
   "name": "python",
   "nbconvert_exporter": "python",
   "pygments_lexer": "ipython3",
   "version": "3.11.9"
  }
 },
 "nbformat": 4,
 "nbformat_minor": 2
}
