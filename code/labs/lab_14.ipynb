{
 "cells": [
  {
   "cell_type": "markdown",
   "metadata": {},
   "source": [
    "# Diff"
   ]
  },
  {
   "cell_type": "code",
   "execution_count": 13,
   "metadata": {},
   "outputs": [
    {
     "name": "stdout",
     "output_type": "stream",
     "text": [
      "Collecting loguru\n",
      "  Downloading loguru-0.7.3-py3-none-any.whl.metadata (22 kB)\n",
      "Downloading loguru-0.7.3-py3-none-any.whl (61 kB)\n",
      "Installing collected packages: loguru\n",
      "Successfully installed loguru-0.7.3\n"
     ]
    }
   ],
   "source": [
    "!pip install loguru"
   ]
  },
  {
   "cell_type": "code",
   "execution_count": 16,
   "metadata": {},
   "outputs": [],
   "source": [
    "import difflib"
   ]
  },
  {
   "cell_type": "code",
   "execution_count": 18,
   "metadata": {},
   "outputs": [],
   "source": [
    "def diff_strings(a: str, b: str, *, use_loguru_colors: bool = False) -> str:\n",
    "    output = []\n",
    "    matcher = difflib.SequenceMatcher(None, a, b)\n",
    "    if use_loguru_colors:\n",
    "        green = '<GREEN><black>'\n",
    "        red = '<RED><black>'\n",
    "        endgreen = '</black></GREEN>'\n",
    "        endred = '</black></RED>'\n",
    "    else:\n",
    "        green = '\\x1b[38;5;16;48;5;2m'\n",
    "        red = '\\x1b[38;5;16;48;5;1m'\n",
    "        endgreen = '\\x1b[0m'\n",
    "        endred = '\\x1b[0m'\n",
    "\n",
    "    for opcode, a0, a1, b0, b1 in matcher.get_opcodes():\n",
    "        if opcode == 'equal':\n",
    "            output.append(a[a0:a1])\n",
    "        elif opcode == 'insert':\n",
    "            output.append(f'{green}{b[b0:b1]}{endgreen}')\n",
    "        elif opcode == 'delete':\n",
    "            output.append(f'{red}{a[a0:a1]}{endred}')\n",
    "        elif opcode == 'replace':\n",
    "            output.append(f'{green}{b[b0:b1]}{endgreen}')\n",
    "            output.append(f'{red}{a[a0:a1]}{endred}')\n",
    "    return ''.join(output)\n"
   ]
  },
  {
   "cell_type": "code",
   "execution_count": 19,
   "metadata": {},
   "outputs": [],
   "source": [
    "s1 = \"A person may serve process, pleadings, or other papers on a non-resident investment adviser, or on a non-resident general partner or non-resident managing agent of an investment adviser by serving any or all of its appointed agents.\"\n",
    "s2 = \"A person may serve process, pleadings, or other papers on a non-resident investment adviser, or on a non-resident general partner or non-resident managing agent of an investment adviser by serving any or all of its appointed agents.\""
   ]
  },
  {
   "cell_type": "code",
   "execution_count": 20,
   "metadata": {},
   "outputs": [
    {
     "name": "stdout",
     "output_type": "stream",
     "text": [
      "  A person may serve process, pleadings, or other papers on a non-resident investment adviser, or on a non-resident general partner or non-resident managing agent of an investment adviser by serving any or all of its appointed agents.\n"
     ]
    }
   ],
   "source": [
    "for diff in difflib.ndiff([s1], [s2]):\n",
    "    print(diff)"
   ]
  },
  {
   "cell_type": "code",
   "execution_count": 21,
   "metadata": {},
   "outputs": [
    {
     "data": {
      "text/plain": [
       "'A person may serve process, pleadings, or other papers on a non-resident investment adviser, or on a non-resident general partner or non-resident managing agent of an investment adviser by serving any or all of its appointed agents.'"
      ]
     },
     "execution_count": 21,
     "metadata": {},
     "output_type": "execute_result"
    }
   ],
   "source": [
    "diff_strings(s1, s2, use_loguru_colors=True)"
   ]
  }
 ],
 "metadata": {
  "kernelspec": {
   "display_name": "ipt-cfr2sbvr",
   "language": "python",
   "name": "python3"
  },
  "language_info": {
   "codemirror_mode": {
    "name": "ipython",
    "version": 3
   },
   "file_extension": ".py",
   "mimetype": "text/x-python",
   "name": "python",
   "nbconvert_exporter": "python",
   "pygments_lexer": "ipython3",
   "version": "3.11.9"
  }
 },
 "nbformat": 4,
 "nbformat_minor": 2
}
