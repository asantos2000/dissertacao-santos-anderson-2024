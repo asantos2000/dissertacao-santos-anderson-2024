{
 "cells": [
  {
   "cell_type": "markdown",
   "metadata": {},
   "source": [
    "# Diff"
   ]
  },
  {
   "cell_type": "code",
   "execution_count": 13,
   "metadata": {},
   "outputs": [
    {
     "name": "stdout",
     "output_type": "stream",
     "text": [
      "Collecting loguru\n",
      "  Downloading loguru-0.7.3-py3-none-any.whl.metadata (22 kB)\n",
      "Downloading loguru-0.7.3-py3-none-any.whl (61 kB)\n",
      "Installing collected packages: loguru\n",
      "Successfully installed loguru-0.7.3\n"
     ]
    }
   ],
   "source": [
    "!pip install loguru"
   ]
  },
  {
   "cell_type": "code",
   "execution_count": 16,
   "metadata": {},
   "outputs": [],
   "source": [
    "import difflib"
   ]
  },
  {
   "cell_type": "code",
   "execution_count": 18,
   "metadata": {},
   "outputs": [],
   "source": [
    "def diff_strings(a: str, b: str, *, use_loguru_colors: bool = False) -> str:\n",
    "    output = []\n",
    "    matcher = difflib.SequenceMatcher(None, a, b)\n",
    "    if use_loguru_colors:\n",
    "        green = '<GREEN><black>'\n",
    "        red = '<RED><black>'\n",
    "        endgreen = '</black></GREEN>'\n",
    "        endred = '</black></RED>'\n",
    "    else:\n",
    "        green = '\\x1b[38;5;16;48;5;2m'\n",
    "        red = '\\x1b[38;5;16;48;5;1m'\n",
    "        endgreen = '\\x1b[0m'\n",
    "        endred = '\\x1b[0m'\n",
    "\n",
    "    for opcode, a0, a1, b0, b1 in matcher.get_opcodes():\n",
    "        if opcode == 'equal':\n",
    "            output.append(a[a0:a1])\n",
    "        elif opcode == 'insert':\n",
    "            output.append(f'{green}{b[b0:b1]}{endgreen}')\n",
    "        elif opcode == 'delete':\n",
    "            output.append(f'{red}{a[a0:a1]}{endred}')\n",
    "        elif opcode == 'replace':\n",
    "            output.append(f'{green}{b[b0:b1]}{endgreen}')\n",
    "            output.append(f'{red}{a[a0:a1]}{endred}')\n",
    "    return ''.join(output)\n"
   ]
  },
  {
   "cell_type": "code",
   "execution_count": 19,
   "metadata": {},
   "outputs": [],
   "source": [
    "s1 = \"A person may serve process, pleadings, or other papers on a non-resident investment adviser, or on a non-resident general partner or non-resident managing agent of an investment adviser by serving any or all of its appointed agents.\"\n",
    "s2 = \"A person may serve process, pleadings, or other papers on a non-resident investment adviser, or on a non-resident general partner or non-resident managing agent of an investment adviser by serving any or all of its appointed agents.\""
   ]
  },
  {
   "cell_type": "code",
   "execution_count": 20,
   "metadata": {},
   "outputs": [
    {
     "name": "stdout",
     "output_type": "stream",
     "text": [
      "  A person may serve process, pleadings, or other papers on a non-resident investment adviser, or on a non-resident general partner or non-resident managing agent of an investment adviser by serving any or all of its appointed agents.\n"
     ]
    }
   ],
   "source": [
    "for diff in difflib.ndiff([s1], [s2]):\n",
    "    print(diff)"
   ]
  },
  {
   "cell_type": "code",
   "execution_count": 21,
   "metadata": {},
   "outputs": [
    {
     "data": {
      "text/plain": [
       "'A person may serve process, pleadings, or other papers on a non-resident investment adviser, or on a non-resident general partner or non-resident managing agent of an investment adviser by serving any or all of its appointed agents.'"
      ]
     },
     "execution_count": 21,
     "metadata": {},
     "output_type": "execute_result"
    }
   ],
   "source": [
    "diff_strings(s1, s2, use_loguru_colors=True)"
   ]
  },
  {
   "cell_type": "markdown",
   "metadata": {},
   "source": [
    "## ChainMap"
   ]
  },
  {
   "cell_type": "code",
   "execution_count": 6,
   "metadata": {},
   "outputs": [
    {
     "name": "stdout",
     "output_type": "stream",
     "text": [
      "ChainMap({'A': 1, 'B': 2}, {'B': 3, 'C': 4})\n",
      "2\n"
     ]
    }
   ],
   "source": [
    "from collections import ChainMap\n",
    "# Define two dictionaries\n",
    "d1 = {\"A\": 1, \"B\": 2}\n",
    "d2 = {\"B\": 3, \"C\": 4}\n",
    "# Combine them using ChainMap\n",
    "cm = ChainMap(d1, d2)\n",
    "print(cm)  # Output: ChainMap({'A': 1, 'B': 2}, {'B': 3, 'C': 4})\n",
    "print(cm[\"B\"])  # Output: 2 (value from the first dictionary)"
   ]
  },
  {
   "cell_type": "code",
   "execution_count": 10,
   "metadata": {},
   "outputs": [
    {
     "name": "stdout",
     "output_type": "stream",
     "text": [
      "{'id': 'validation_judge_Operative_Rules', 'type': 'llm_validation', 'content': [{'doc_id': '§ 275.0-2', 'statement_id': '3', 'statement': \"The Secretary of the Commission (Secretary) will promptly forward a copy to each named party by registered or certified mail at that party's last address filed with the Commission.\", 'sources': ['(a)(2)'], 'semscore': 0.9073101908896187, 'similarity_score': 0.9, 'similarity_score_confidence': 0.9, 'transformation_accuracy': 0.85, 'grammar_syntax_accuracy': 0.95, 'findings': [\"The transformed sentence maintains the core meaning of the original statement but changes 'will promptly forward' to 'must forward', which slightly alters the sense of obligation.\", \"The conditional clause 'if the copy is sent by registered or certified mail' is not present in the original statement, which affects the transformation accuracy.\", 'The grammar and syntax of the transformed sentence are correct, but the addition of the conditional clause introduces a slight deviation from the original meaning.']}, {'doc_id': '§ 275.0-2', 'statement_id': '4', 'statement': 'If the Secretary certifies that the Commission was served with process, pleadings, or other papers pursuant to paragraph (a)(1) of this section and forwarded these documents to a named party pursuant to paragraph (a)(2) of this section, this certification constitutes evidence of service upon that party.', 'sources': ['(a)(3)'], 'semscore': 0.9224756574805555, 'similarity_score': 0.9, 'similarity_score_confidence': 0.85, 'transformation_accuracy': 0.9, 'grammar_syntax_accuracy': 0.95, 'findings': ['The transformed sentence maintains the original meaning and structure, with slight rephrasing to fit the template.', \"The use of 'must constitute' in the transformed sentence accurately reflects the conditional nature of the original statement.\", 'The grammar and syntax of the transformed sentence are correct, with proper use of clauses and conjunctions.']}, {'doc_id': '§ 275.0-5', 'statement_id': '1', 'statement': 'Notice of the initiation of the proceeding will be published in the Federal Register and will indicate the earliest date upon which an order disposing of the matter may be entered.', 'sources': ['(a)'], 'semscore': 0.889516170488961, 'similarity_score': 0.95, 'similarity_score_confidence': 0.9, 'transformation_accuracy': 0.9, 'grammar_syntax_accuracy': 0.95, 'findings': ['The transformed sentence maintains the original meaning and structure closely.', \"The use of 'must occur' in the transformed sentence aligns with the requirement nature of the original statement.\", 'The transformed sentence is grammatically correct and syntactically accurate.']}, {'doc_id': '§ 275.0-5', 'statement_id': '2', 'statement': 'Any interested person may, within the period of time specified therein, submit to the Commission in writing any facts bearing upon the desirability of a hearing on the matter and may request that a hearing be held, stating his reasons therefor and the nature of his interest in the matter.', 'sources': ['(a)'], 'semscore': 0.8810793038130209, 'similarity_score': 0.85, 'similarity_score_confidence': 0.9, 'transformation_accuracy': 0.8, 'grammar_syntax_accuracy': 0.95, 'findings': ['The transformed sentence captures the essence of the original statement but omits the part about requesting a hearing and stating reasons and nature of interest.', 'The transformation uses the template structure but simplifies the original statement.', 'The grammar and syntax of the transformed sentence are correct.']}, {'doc_id': '§ 275.0-5', 'statement_id': '3', 'statement': 'An order disposing of the matter will be issued as of course following the expiration of the period of time referred to in paragraph (a) of this section, unless the Commission thereafter orders a hearing on the matter.', 'sources': ['(b)'], 'semscore': 0.9331547891114476, 'similarity_score': 0.9, 'similarity_score_confidence': 0.85, 'transformation_accuracy': 0.7, 'grammar_syntax_accuracy': 0.8, 'findings': [\"The transformed sentence uses 'may be issued' instead of 'will be issued', which changes the certainty of the action.\", \"The placement of 'only' in the transformed sentence is awkward and affects the clarity of the condition.\", 'The original sentence implies a default action unless a condition is met, while the transformed sentence suggests a conditional permission.']}, {'doc_id': '§ 275.0-5', 'statement_id': '4', 'statement': 'The Commission will order a hearing on the matter, if it appears that a hearing is necessary or appropriate in the public interest or for the protection of investors, upon the request of any interested person or upon its own motion.', 'sources': ['(c)'], 'semscore': 0.8866645115483746, 'similarity_score': 0.9, 'similarity_score_confidence': 0.9, 'transformation_accuracy': 0.85, 'grammar_syntax_accuracy': 0.95, 'findings': [\"The transformed sentence captures the essence of the original statement but omits the condition 'upon the request of any interested person or upon its own motion'.\", 'The transformation uses the template structure effectively but misses some conditional elements present in the original.', 'The grammar and syntax of the transformed sentence are correct.']}], 'elapsed_times': [2.460506309995253, 2.6581725899959565, 2.4113449799988302, 3.6977087699997355, 2.9926442699943436, 3.346997399996326], 'completions': [{'id': 'chatcmpl-AeYbW2lKECfZSAgZK7VllQ416P4Yw', 'choices': [{'finish_reason': 'stop', 'index': 0, 'logprobs': None, 'message': {'content': None, 'refusal': None, 'role': 'assistant', 'audio': None, 'function_call': None, 'tool_calls': [{'id': 'call_l3e7Wt4abodr2isB6jwtfFaY', 'function': {'arguments': '{\"JudgeStatements\":[{\"doc_id\":\"§ 275.0-2\",\"statement_id\":\"3\",\"statement\":\"The Secretary of the Commission (Secretary) will promptly forward a copy to each named party by registered or certified mail at that party\\'s last address filed with the Commission.\",\"sources\":[\"(a)(2)\"],\"semscore\":0.9073101908896187,\"similarity_score\":0.9,\"similarity_score_confidence\":0.9,\"transformation_accuracy\":0.85,\"grammar_syntax_accuracy\":0.95,\"findings\":[\"The transformed sentence maintains the core meaning of the original statement but changes \\'will promptly forward\\' to \\'must forward\\', which slightly alters the sense of obligation.\",\"The conditional clause \\'if the copy is sent by registered or certified mail\\' is not present in the original statement, which affects the transformation accuracy.\",\"The grammar and syntax of the transformed sentence are correct, but the addition of the conditional clause introduces a slight deviation from the original meaning.\"]}]}', 'name': 'JudgeStatements'}, 'type': 'function'}]}}], 'created': 1734229502, 'model': 'gpt-4o-2024-08-06', 'object': 'chat.completion', 'service_tier': None, 'system_fingerprint': 'fp_9faba9f038', 'usage': {'completion_tokens': 206, 'prompt_tokens': 5431, 'total_tokens': 5637, 'completion_tokens_details': None, 'prompt_tokens_details': None}}, {'id': 'chatcmpl-AeYbcba4GqrZnG3XKUdorrKPqggSY', 'choices': [{'finish_reason': 'stop', 'index': 0, 'logprobs': None, 'message': {'content': None, 'refusal': None, 'role': 'assistant', 'audio': None, 'function_call': None, 'tool_calls': [{'id': 'call_puZ1GEoiSMwgav6ERFwCOVKa', 'function': {'arguments': '{\"JudgeStatements\":[{\"doc_id\":\"§ 275.0-2\",\"statement_id\":\"4\",\"statement\":\"If the Secretary certifies that the Commission was served with process, pleadings, or other papers pursuant to paragraph (a)(1) of this section and forwarded these documents to a named party pursuant to paragraph (a)(2) of this section, this certification constitutes evidence of service upon that party.\",\"sources\":[\"(a)(3)\"],\"semscore\":0.9224756574805555,\"similarity_score\":0.9,\"similarity_score_confidence\":0.85,\"transformation_accuracy\":0.9,\"grammar_syntax_accuracy\":0.95,\"findings\":[\"The transformed sentence maintains the original meaning and structure, with slight rephrasing to fit the template.\",\"The use of \\'must constitute\\' in the transformed sentence accurately reflects the conditional nature of the original statement.\",\"The grammar and syntax of the transformed sentence are correct, with proper use of clauses and conjunctions.\"]}]}', 'name': 'JudgeStatements'}, 'type': 'function'}]}}], 'created': 1734229508, 'model': 'gpt-4o-2024-08-06', 'object': 'chat.completion', 'service_tier': None, 'system_fingerprint': 'fp_9faba9f038', 'usage': {'completion_tokens': 207, 'prompt_tokens': 5331, 'total_tokens': 5538, 'completion_tokens_details': None, 'prompt_tokens_details': None}}, {'id': 'chatcmpl-AeYbgs6Q9gc4gM8q6decsBIu1dr4D', 'choices': [{'finish_reason': 'stop', 'index': 0, 'logprobs': None, 'message': {'content': None, 'refusal': None, 'role': 'assistant', 'audio': None, 'function_call': None, 'tool_calls': [{'id': 'call_maCQOFKJ748bKokysPRHyXf4', 'function': {'arguments': '{\"JudgeStatements\":[{\"doc_id\":\"§ 275.0-5\",\"statement_id\":\"1\",\"statement\":\"Notice of the initiation of the proceeding will be published in the Federal Register and will indicate the earliest date upon which an order disposing of the matter may be entered.\",\"sources\":[\"(a)\"],\"semscore\":0.889516170488961,\"similarity_score\":0.95,\"similarity_score_confidence\":0.9,\"transformation_accuracy\":0.9,\"grammar_syntax_accuracy\":0.95,\"findings\":[\"The transformed sentence maintains the original meaning and structure closely.\",\"The use of \\'must occur\\' in the transformed sentence aligns with the requirement nature of the original statement.\",\"The transformed sentence is grammatically correct and syntactically accurate.\"]}]}', 'name': 'JudgeStatements'}, 'type': 'function'}]}}], 'created': 1734229512, 'model': 'gpt-4o-2024-08-06', 'object': 'chat.completion', 'service_tier': None, 'system_fingerprint': 'fp_9faba9f038', 'usage': {'completion_tokens': 160, 'prompt_tokens': 5541, 'total_tokens': 5701, 'completion_tokens_details': None, 'prompt_tokens_details': None}}, {'id': 'chatcmpl-AeYbmBpgYXUEsXOiyxdSa7bR87W0M', 'choices': [{'finish_reason': 'stop', 'index': 0, 'logprobs': None, 'message': {'content': None, 'refusal': None, 'role': 'assistant', 'audio': None, 'function_call': None, 'tool_calls': [{'id': 'call_R0ThViPRZiiWZujOCOArox0r', 'function': {'arguments': '{\"JudgeStatements\":[{\"doc_id\":\"§ 275.0-5\",\"statement_id\":\"2\",\"statement\":\"Any interested person may, within the period of time specified therein, submit to the Commission in writing any facts bearing upon the desirability of a hearing on the matter and may request that a hearing be held, stating his reasons therefor and the nature of his interest in the matter.\",\"sources\":[\"(a)\"],\"semscore\":0.8810793038130209,\"similarity_score\":0.85,\"similarity_score_confidence\":0.9,\"transformation_accuracy\":0.8,\"grammar_syntax_accuracy\":0.95,\"findings\":[\"The transformed sentence captures the essence of the original statement but omits the part about requesting a hearing and stating reasons and nature of interest.\",\"The transformation uses the template structure but simplifies the original statement.\",\"The grammar and syntax of the transformed sentence are correct.\"]}]}', 'name': 'JudgeStatements'}, 'type': 'function'}]}}], 'created': 1734229518, 'model': 'gpt-4o-2024-08-06', 'object': 'chat.completion', 'service_tier': None, 'system_fingerprint': 'fp_9faba9f038', 'usage': {'completion_tokens': 190, 'prompt_tokens': 5404, 'total_tokens': 5594, 'completion_tokens_details': None, 'prompt_tokens_details': None}}, {'id': 'chatcmpl-AeYbsTFDNIrx6o5njD8pKqnrbb8uu', 'choices': [{'finish_reason': 'stop', 'index': 0, 'logprobs': None, 'message': {'content': None, 'refusal': None, 'role': 'assistant', 'audio': None, 'function_call': None, 'tool_calls': [{'id': 'call_AOUSzQrgOZ7FKv3nAbG0xEIk', 'function': {'arguments': '{\"JudgeStatements\":[{\"doc_id\":\"§ 275.0-5\",\"statement_id\":\"3\",\"statement\":\"An order disposing of the matter will be issued as of course following the expiration of the period of time referred to in paragraph (a) of this section, unless the Commission thereafter orders a hearing on the matter.\",\"sources\":[\"(b)\"],\"semscore\":0.9331547891114476,\"similarity_score\":0.9,\"similarity_score_confidence\":0.85,\"transformation_accuracy\":0.7,\"grammar_syntax_accuracy\":0.8,\"findings\":[\"The transformed sentence uses \\'may be issued\\' instead of \\'will be issued\\', which changes the certainty of the action.\",\"The placement of \\'only\\' in the transformed sentence is awkward and affects the clarity of the condition.\",\"The original sentence implies a default action unless a condition is met, while the transformed sentence suggests a conditional permission.\"]}]}', 'name': 'JudgeStatements'}, 'type': 'function'}]}}], 'created': 1734229524, 'model': 'gpt-4o-2024-08-06', 'object': 'chat.completion', 'service_tier': None, 'system_fingerprint': 'fp_9faba9f038', 'usage': {'completion_tokens': 192, 'prompt_tokens': 5557, 'total_tokens': 5749, 'completion_tokens_details': None, 'prompt_tokens_details': None}}, {'id': 'chatcmpl-AeYby07SNFItcIyLyHf6Pj3bQYq0j', 'choices': [{'finish_reason': 'stop', 'index': 0, 'logprobs': None, 'message': {'content': None, 'refusal': None, 'role': 'assistant', 'audio': None, 'function_call': None, 'tool_calls': [{'id': 'call_cfVgKgRvJdbBIgCRjXvH2Xwl', 'function': {'arguments': '{\"JudgeStatements\":[{\"doc_id\":\"§ 275.0-5\",\"statement_id\":\"4\",\"statement\":\"The Commission will order a hearing on the matter, if it appears that a hearing is necessary or appropriate in the public interest or for the protection of investors, upon the request of any interested person or upon its own motion.\",\"sources\":[\"(c)\"],\"semscore\":0.8866645115483746,\"similarity_score\":0.9,\"similarity_score_confidence\":0.9,\"transformation_accuracy\":0.85,\"grammar_syntax_accuracy\":0.95,\"findings\":[\"The transformed sentence captures the essence of the original statement but omits the condition \\'upon the request of any interested person or upon its own motion\\'.\",\"The transformation uses the template structure effectively but misses some conditional elements present in the original.\",\"The grammar and syntax of the transformed sentence are correct.\"]}]}', 'name': 'JudgeStatements'}, 'type': 'function'}]}}], 'created': 1734229530, 'model': 'gpt-4o-2024-08-06', 'object': 'chat.completion', 'service_tier': None, 'system_fingerprint': 'fp_9faba9f038', 'usage': {'completion_tokens': 186, 'prompt_tokens': 5502, 'total_tokens': 5688, 'completion_tokens_details': None, 'prompt_tokens_details': None}}]}\n",
      "{'id': 'validation_judge_Operative_Rules', 'type': 'llm_validation', 'content': [{'doc_id': '§ 275.0-2', 'statement_id': '3', 'statement': \"The Secretary of the Commission (Secretary) will promptly forward a copy to each named party by registered or certified mail at that party's last address filed with the Commission.\", 'sources': ['(a)(2)'], 'semscore': 0.9073710062025327, 'similarity_score': 0.9, 'similarity_score_confidence': 0.9, 'transformation_accuracy': 0.85, 'grammar_syntax_accuracy': 0.95, 'findings': [\"The transformed sentence maintains the core meaning of the original statement but changes the modality from 'will' to 'must', which implies a stronger obligation.\", \"The conditional clause 'if the copy is sent by registered or certified mail' is not present in the original statement, which affects the transformation accuracy.\", 'The grammar and syntax of the transformed sentence are correct, but the addition of the conditional clause introduces a slight deviation from the original meaning.']}, {'doc_id': '§ 275.0-2', 'statement_id': '4', 'statement': 'If the Secretary certifies that the Commission was served with process, pleadings, or other papers pursuant to paragraph (a)(1) of this section and forwarded these documents to a named party pursuant to paragraph (a)(2) of this section, this certification constitutes evidence of service upon that party.', 'sources': ['(a)(3)'], 'semscore': 0.9228414607598521, 'similarity_score': 0.9, 'similarity_score_confidence': 0.85, 'transformation_accuracy': 0.9, 'grammar_syntax_accuracy': 0.95, 'findings': ['The transformed sentence maintains the original meaning and structure, with slight rephrasing to fit the template.', \"The use of 'must constitute' in the transformed sentence aligns with the template's requirement for a responsibility signifier.\", 'The conditional clause is accurately represented in the transformed sentence.']}, {'doc_id': '§ 275.0-5', 'statement_id': '1', 'statement': 'Notice of the initiation of the proceeding will be published in the Federal Register and will indicate the earliest date upon which an order disposing of the matter may be entered.', 'sources': ['(a)'], 'semscore': 0.8777297380908979, 'similarity_score': 0.95, 'similarity_score_confidence': 0.9, 'transformation_accuracy': 0.9, 'grammar_syntax_accuracy': 0.95, 'findings': ['The transformed sentence maintains the original meaning and structure, with slight rephrasing to fit the template.', \"The use of 'must occur' and 'may be entered' aligns with the original's 'will be published' and 'will indicate'.\", \"The transformation accurately reflects the original statement's intent and conditions.\", 'The grammar and syntax of the transformed sentence are correct and clear.']}, {'doc_id': '§ 275.0-5', 'statement_id': '2', 'statement': 'Any interested person may, within the period of time specified therein, submit to the Commission in writing any facts bearing upon the desirability of a hearing on the matter and may request that a hearing be held, stating his reasons therefor and the nature of his interest in the matter.', 'sources': ['(a)'], 'semscore': 0.8807382933702773, 'similarity_score': 0.75, 'similarity_score_confidence': 0.8, 'transformation_accuracy': 0.7, 'grammar_syntax_accuracy': 0.9, 'findings': ['The transformed sentence captures the essence of the original statement but omits the ability to request a hearing and the need to state reasons and nature of interest.', 'The transformation uses the template structure but does not fully incorporate all elements of the original statement.', 'The grammar and syntax of the transformed sentence are correct.']}, {'doc_id': '§ 275.0-5', 'statement_id': '3', 'statement': 'An order disposing of the matter will be issued as of course following the expiration of the period of time referred to in paragraph (a) of this section, unless the Commission thereafter orders a hearing on the matter.', 'sources': ['(b)'], 'semscore': 0.9330838266248871, 'similarity_score': 0.9, 'similarity_score_confidence': 0.85, 'transformation_accuracy': 0.8, 'grammar_syntax_accuracy': 0.7, 'findings': [\"The transformed sentence uses 'may be issued' instead of 'will be issued', which changes the certainty of the action.\", \"The phrase 'only unless' is grammatically incorrect and redundant, affecting the grammar and syntax accuracy.\", \"The transformation does not fully adhere to the template structure, particularly in the use of 'may' instead of 'will'.\"]}, {'doc_id': '§ 275.0-5', 'statement_id': '4', 'statement': 'The Commission will order a hearing on the matter, if it appears that a hearing is necessary or appropriate in the public interest or for the protection of investors, upon the request of any interested person or upon its own motion.', 'sources': ['(c)'], 'semscore': 0.873461193460784, 'similarity_score': 0.85, 'similarity_score_confidence': 0.9, 'transformation_accuracy': 0.8, 'grammar_syntax_accuracy': 0.95, 'findings': [\"The transformed sentence captures the essence of the original statement but omits the condition 'upon the request of any interested person or upon its own motion'.\", 'The transformation uses the template structure effectively but misses some conditional elements present in the original.', 'The grammar and syntax of the transformed sentence are correct.']}], 'elapsed_times': [2.461210649998975, 2.685176639999554, 2.5417975499949534, 2.416068719998293, 2.6132912100001704, 2.3178431699998328], 'completions': [{'id': 'chatcmpl-AeYg25YQlIdbKyD9u7q6Kp1giiSxs', 'choices': [{'finish_reason': 'stop', 'index': 0, 'logprobs': None, 'message': {'content': None, 'refusal': None, 'role': 'assistant', 'audio': None, 'function_call': None, 'tool_calls': [{'id': 'call_3r1q6w5cAAtGnMxjejrz9XHK', 'function': {'arguments': '{\"JudgeStatements\":[{\"doc_id\":\"§ 275.0-2\",\"statement_id\":\"3\",\"statement\":\"The Secretary of the Commission (Secretary) will promptly forward a copy to each named party by registered or certified mail at that party\\'s last address filed with the Commission.\",\"sources\":[\"(a)(2)\"],\"semscore\":0.9073710062025327,\"similarity_score\":0.9,\"similarity_score_confidence\":0.9,\"transformation_accuracy\":0.85,\"grammar_syntax_accuracy\":0.95,\"findings\":[\"The transformed sentence maintains the core meaning of the original statement but changes the modality from \\'will\\' to \\'must\\', which implies a stronger obligation.\",\"The conditional clause \\'if the copy is sent by registered or certified mail\\' is not present in the original statement, which affects the transformation accuracy.\",\"The grammar and syntax of the transformed sentence are correct, but the addition of the conditional clause introduces a slight deviation from the original meaning.\"]}]}', 'name': 'JudgeStatements'}, 'type': 'function'}]}}], 'created': 1734229782, 'model': 'gpt-4o-2024-08-06', 'object': 'chat.completion', 'service_tier': None, 'system_fingerprint': 'fp_9faba9f038', 'usage': {'completion_tokens': 204, 'prompt_tokens': 5431, 'total_tokens': 5635, 'completion_tokens_details': None, 'prompt_tokens_details': None}}, {'id': 'chatcmpl-AeYg7uC0iAD2rpSUSuk29zKIMMyrV', 'choices': [{'finish_reason': 'stop', 'index': 0, 'logprobs': None, 'message': {'content': None, 'refusal': None, 'role': 'assistant', 'audio': None, 'function_call': None, 'tool_calls': [{'id': 'call_HpD9yQyM1zo3TU5FB7JgecPS', 'function': {'arguments': '{\"JudgeStatements\":[{\"doc_id\":\"§ 275.0-2\",\"statement_id\":\"4\",\"statement\":\"If the Secretary certifies that the Commission was served with process, pleadings, or other papers pursuant to paragraph (a)(1) of this section and forwarded these documents to a named party pursuant to paragraph (a)(2) of this section, this certification constitutes evidence of service upon that party.\",\"sources\":[\"(a)(3)\"],\"semscore\":0.9228414607598521,\"similarity_score\":0.9,\"similarity_score_confidence\":0.85,\"transformation_accuracy\":0.9,\"grammar_syntax_accuracy\":0.95,\"findings\":[\"The transformed sentence maintains the original meaning and structure, with slight rephrasing to fit the template.\",\"The use of \\'must constitute\\' in the transformed sentence aligns with the template\\'s requirement for a responsibility signifier.\",\"The conditional clause is accurately represented in the transformed sentence.\"]}]}', 'name': 'JudgeStatements'}, 'type': 'function'}]}}], 'created': 1734229787, 'model': 'gpt-4o-2024-08-06', 'object': 'chat.completion', 'service_tier': None, 'system_fingerprint': 'fp_9faba9f038', 'usage': {'completion_tokens': 200, 'prompt_tokens': 5331, 'total_tokens': 5531, 'completion_tokens_details': None, 'prompt_tokens_details': None}}, {'id': 'chatcmpl-AeYgCxUdds52rEkvaXJ8vZcP3EuG4', 'choices': [{'finish_reason': 'stop', 'index': 0, 'logprobs': None, 'message': {'content': None, 'refusal': None, 'role': 'assistant', 'audio': None, 'function_call': None, 'tool_calls': [{'id': 'call_kYgdUuV0u3x5X6IzwRFqj8dq', 'function': {'arguments': '{\"JudgeStatements\":[{\"doc_id\":\"§ 275.0-5\",\"statement_id\":\"1\",\"statement\":\"Notice of the initiation of the proceeding will be published in the Federal Register and will indicate the earliest date upon which an order disposing of the matter may be entered.\",\"sources\":[\"(a)\"],\"semscore\":0.8777297380908979,\"similarity_score\":0.95,\"similarity_score_confidence\":0.9,\"transformation_accuracy\":0.9,\"grammar_syntax_accuracy\":0.95,\"findings\":[\"The transformed sentence maintains the original meaning and structure, with slight rephrasing to fit the template.\",\"The use of \\'must occur\\' and \\'may be entered\\' aligns with the original\\'s \\'will be published\\' and \\'will indicate\\'.\",\"The transformation accurately reflects the original statement\\'s intent and conditions.\",\"The grammar and syntax of the transformed sentence are correct and clear.\"]}]}', 'name': 'JudgeStatements'}, 'type': 'function'}]}}], 'created': 1734229792, 'model': 'gpt-4o-2024-08-06', 'object': 'chat.completion', 'service_tier': None, 'system_fingerprint': 'fp_9faba9f038', 'usage': {'completion_tokens': 190, 'prompt_tokens': 5542, 'total_tokens': 5732, 'completion_tokens_details': None, 'prompt_tokens_details': None}}, {'id': 'chatcmpl-AeYgHztHZs1bI8up27FI23HFcbCTC', 'choices': [{'finish_reason': 'stop', 'index': 0, 'logprobs': None, 'message': {'content': None, 'refusal': None, 'role': 'assistant', 'audio': None, 'function_call': None, 'tool_calls': [{'id': 'call_igi7W4f6o5GyrOziHJruvr9M', 'function': {'arguments': '{\"JudgeStatements\":[{\"doc_id\":\"§ 275.0-5\",\"statement_id\":\"2\",\"statement\":\"Any interested person may, within the period of time specified therein, submit to the Commission in writing any facts bearing upon the desirability of a hearing on the matter and may request that a hearing be held, stating his reasons therefor and the nature of his interest in the matter.\",\"sources\":[\"(a)\"],\"semscore\":0.8807382933702773,\"similarity_score\":0.75,\"similarity_score_confidence\":0.8,\"transformation_accuracy\":0.7,\"grammar_syntax_accuracy\":0.9,\"findings\":[\"The transformed sentence captures the essence of the original statement but omits the ability to request a hearing and the need to state reasons and nature of interest.\",\"The transformation uses the template structure but does not fully incorporate all elements of the original statement.\",\"The grammar and syntax of the transformed sentence are correct.\"]}]}', 'name': 'JudgeStatements'}, 'type': 'function'}]}}], 'created': 1734229797, 'model': 'gpt-4o-2024-08-06', 'object': 'chat.completion', 'service_tier': None, 'system_fingerprint': 'fp_9faba9f038', 'usage': {'completion_tokens': 199, 'prompt_tokens': 5404, 'total_tokens': 5603, 'completion_tokens_details': None, 'prompt_tokens_details': None}}, {'id': 'chatcmpl-AeYgMt05cmzwtvwe8SnsJ4ggFslni', 'choices': [{'finish_reason': 'stop', 'index': 0, 'logprobs': None, 'message': {'content': None, 'refusal': None, 'role': 'assistant', 'audio': None, 'function_call': None, 'tool_calls': [{'id': 'call_53sPkYEat9ISC1aFv6G6DsOW', 'function': {'arguments': '{\"JudgeStatements\":[{\"doc_id\":\"§ 275.0-5\",\"statement_id\":\"3\",\"statement\":\"An order disposing of the matter will be issued as of course following the expiration of the period of time referred to in paragraph (a) of this section, unless the Commission thereafter orders a hearing on the matter.\",\"sources\":[\"(b)\"],\"semscore\":0.9330838266248871,\"similarity_score\":0.9,\"similarity_score_confidence\":0.85,\"transformation_accuracy\":0.8,\"grammar_syntax_accuracy\":0.7,\"findings\":[\"The transformed sentence uses \\'may be issued\\' instead of \\'will be issued\\', which changes the certainty of the action.\",\"The phrase \\'only unless\\' is grammatically incorrect and redundant, affecting the grammar and syntax accuracy.\",\"The transformation does not fully adhere to the template structure, particularly in the use of \\'may\\' instead of \\'will\\'.\"]}]}', 'name': 'JudgeStatements'}, 'type': 'function'}]}}], 'created': 1734229802, 'model': 'gpt-4o-2024-08-06', 'object': 'chat.completion', 'service_tier': None, 'system_fingerprint': 'fp_9faba9f038', 'usage': {'completion_tokens': 194, 'prompt_tokens': 5557, 'total_tokens': 5751, 'completion_tokens_details': None, 'prompt_tokens_details': None}}, {'id': 'chatcmpl-AeYgRrb4TEtYzhwhfzGxxzkHhHhxt', 'choices': [{'finish_reason': 'stop', 'index': 0, 'logprobs': None, 'message': {'content': None, 'refusal': None, 'role': 'assistant', 'audio': None, 'function_call': None, 'tool_calls': [{'id': 'call_lJjsZ09QfAUnsK4G47TYE0Yd', 'function': {'arguments': '{\"JudgeStatements\":[{\"doc_id\":\"§ 275.0-5\",\"statement_id\":\"4\",\"statement\":\"The Commission will order a hearing on the matter, if it appears that a hearing is necessary or appropriate in the public interest or for the protection of investors, upon the request of any interested person or upon its own motion.\",\"sources\":[\"(c)\"],\"semscore\":0.873461193460784,\"similarity_score\":0.85,\"similarity_score_confidence\":0.9,\"transformation_accuracy\":0.8,\"grammar_syntax_accuracy\":0.95,\"findings\":[\"The transformed sentence captures the essence of the original statement but omits the condition \\'upon the request of any interested person or upon its own motion\\'.\",\"The transformation uses the template structure effectively but misses some conditional elements present in the original.\",\"The grammar and syntax of the transformed sentence are correct.\"]}]}', 'name': 'JudgeStatements'}, 'type': 'function'}]}}], 'created': 1734229807, 'model': 'gpt-4o-2024-08-06', 'object': 'chat.completion', 'service_tier': None, 'system_fingerprint': 'fp_9faba9f038', 'usage': {'completion_tokens': 185, 'prompt_tokens': 5503, 'total_tokens': 5688, 'completion_tokens_details': None, 'prompt_tokens_details': None}}]}\n"
     ]
    },
    {
     "data": {
      "text/plain": [
       "ChainMap({'id': 'validation_judge_Operative_Rules', 'type': 'llm_validation', 'content': [{'doc_id': '§ 275.0-2', 'statement_id': '3', 'statement': \"The Secretary of the Commission (Secretary) will promptly forward a copy to each named party by registered or certified mail at that party's last address filed with the Commission.\", 'sources': ['(a)(2)'], 'semscore': 0.9073101908896187, 'similarity_score': 0.9, 'similarity_score_confidence': 0.9, 'transformation_accuracy': 0.85, 'grammar_syntax_accuracy': 0.95, 'findings': [\"The transformed sentence maintains the core meaning of the original statement but changes 'will promptly forward' to 'must forward', which slightly alters the sense of obligation.\", \"The conditional clause 'if the copy is sent by registered or certified mail' is not present in the original statement, which affects the transformation accuracy.\", 'The grammar and syntax of the transformed sentence are correct, but the addition of the conditional clause introduces a slight deviation from the original meaning.']}, {'doc_id': '§ 275.0-2', 'statement_id': '4', 'statement': 'If the Secretary certifies that the Commission was served with process, pleadings, or other papers pursuant to paragraph (a)(1) of this section and forwarded these documents to a named party pursuant to paragraph (a)(2) of this section, this certification constitutes evidence of service upon that party.', 'sources': ['(a)(3)'], 'semscore': 0.9224756574805555, 'similarity_score': 0.9, 'similarity_score_confidence': 0.85, 'transformation_accuracy': 0.9, 'grammar_syntax_accuracy': 0.95, 'findings': ['The transformed sentence maintains the original meaning and structure, with slight rephrasing to fit the template.', \"The use of 'must constitute' in the transformed sentence accurately reflects the conditional nature of the original statement.\", 'The grammar and syntax of the transformed sentence are correct, with proper use of clauses and conjunctions.']}, {'doc_id': '§ 275.0-5', 'statement_id': '1', 'statement': 'Notice of the initiation of the proceeding will be published in the Federal Register and will indicate the earliest date upon which an order disposing of the matter may be entered.', 'sources': ['(a)'], 'semscore': 0.889516170488961, 'similarity_score': 0.95, 'similarity_score_confidence': 0.9, 'transformation_accuracy': 0.9, 'grammar_syntax_accuracy': 0.95, 'findings': ['The transformed sentence maintains the original meaning and structure closely.', \"The use of 'must occur' in the transformed sentence aligns with the requirement nature of the original statement.\", 'The transformed sentence is grammatically correct and syntactically accurate.']}, {'doc_id': '§ 275.0-5', 'statement_id': '2', 'statement': 'Any interested person may, within the period of time specified therein, submit to the Commission in writing any facts bearing upon the desirability of a hearing on the matter and may request that a hearing be held, stating his reasons therefor and the nature of his interest in the matter.', 'sources': ['(a)'], 'semscore': 0.8810793038130209, 'similarity_score': 0.85, 'similarity_score_confidence': 0.9, 'transformation_accuracy': 0.8, 'grammar_syntax_accuracy': 0.95, 'findings': ['The transformed sentence captures the essence of the original statement but omits the part about requesting a hearing and stating reasons and nature of interest.', 'The transformation uses the template structure but simplifies the original statement.', 'The grammar and syntax of the transformed sentence are correct.']}, {'doc_id': '§ 275.0-5', 'statement_id': '3', 'statement': 'An order disposing of the matter will be issued as of course following the expiration of the period of time referred to in paragraph (a) of this section, unless the Commission thereafter orders a hearing on the matter.', 'sources': ['(b)'], 'semscore': 0.9331547891114476, 'similarity_score': 0.9, 'similarity_score_confidence': 0.85, 'transformation_accuracy': 0.7, 'grammar_syntax_accuracy': 0.8, 'findings': [\"The transformed sentence uses 'may be issued' instead of 'will be issued', which changes the certainty of the action.\", \"The placement of 'only' in the transformed sentence is awkward and affects the clarity of the condition.\", 'The original sentence implies a default action unless a condition is met, while the transformed sentence suggests a conditional permission.']}, {'doc_id': '§ 275.0-5', 'statement_id': '4', 'statement': 'The Commission will order a hearing on the matter, if it appears that a hearing is necessary or appropriate in the public interest or for the protection of investors, upon the request of any interested person or upon its own motion.', 'sources': ['(c)'], 'semscore': 0.8866645115483746, 'similarity_score': 0.9, 'similarity_score_confidence': 0.9, 'transformation_accuracy': 0.85, 'grammar_syntax_accuracy': 0.95, 'findings': [\"The transformed sentence captures the essence of the original statement but omits the condition 'upon the request of any interested person or upon its own motion'.\", 'The transformation uses the template structure effectively but misses some conditional elements present in the original.', 'The grammar and syntax of the transformed sentence are correct.']}], 'elapsed_times': [2.460506309995253, 2.6581725899959565, 2.4113449799988302, 3.6977087699997355, 2.9926442699943436, 3.346997399996326], 'completions': [{'id': 'chatcmpl-AeYbW2lKECfZSAgZK7VllQ416P4Yw', 'choices': [{'finish_reason': 'stop', 'index': 0, 'logprobs': None, 'message': {'content': None, 'refusal': None, 'role': 'assistant', 'audio': None, 'function_call': None, 'tool_calls': [{'id': 'call_l3e7Wt4abodr2isB6jwtfFaY', 'function': {'arguments': '{\"JudgeStatements\":[{\"doc_id\":\"§ 275.0-2\",\"statement_id\":\"3\",\"statement\":\"The Secretary of the Commission (Secretary) will promptly forward a copy to each named party by registered or certified mail at that party\\'s last address filed with the Commission.\",\"sources\":[\"(a)(2)\"],\"semscore\":0.9073101908896187,\"similarity_score\":0.9,\"similarity_score_confidence\":0.9,\"transformation_accuracy\":0.85,\"grammar_syntax_accuracy\":0.95,\"findings\":[\"The transformed sentence maintains the core meaning of the original statement but changes \\'will promptly forward\\' to \\'must forward\\', which slightly alters the sense of obligation.\",\"The conditional clause \\'if the copy is sent by registered or certified mail\\' is not present in the original statement, which affects the transformation accuracy.\",\"The grammar and syntax of the transformed sentence are correct, but the addition of the conditional clause introduces a slight deviation from the original meaning.\"]}]}', 'name': 'JudgeStatements'}, 'type': 'function'}]}}], 'created': 1734229502, 'model': 'gpt-4o-2024-08-06', 'object': 'chat.completion', 'service_tier': None, 'system_fingerprint': 'fp_9faba9f038', 'usage': {'completion_tokens': 206, 'prompt_tokens': 5431, 'total_tokens': 5637, 'completion_tokens_details': None, 'prompt_tokens_details': None}}, {'id': 'chatcmpl-AeYbcba4GqrZnG3XKUdorrKPqggSY', 'choices': [{'finish_reason': 'stop', 'index': 0, 'logprobs': None, 'message': {'content': None, 'refusal': None, 'role': 'assistant', 'audio': None, 'function_call': None, 'tool_calls': [{'id': 'call_puZ1GEoiSMwgav6ERFwCOVKa', 'function': {'arguments': '{\"JudgeStatements\":[{\"doc_id\":\"§ 275.0-2\",\"statement_id\":\"4\",\"statement\":\"If the Secretary certifies that the Commission was served with process, pleadings, or other papers pursuant to paragraph (a)(1) of this section and forwarded these documents to a named party pursuant to paragraph (a)(2) of this section, this certification constitutes evidence of service upon that party.\",\"sources\":[\"(a)(3)\"],\"semscore\":0.9224756574805555,\"similarity_score\":0.9,\"similarity_score_confidence\":0.85,\"transformation_accuracy\":0.9,\"grammar_syntax_accuracy\":0.95,\"findings\":[\"The transformed sentence maintains the original meaning and structure, with slight rephrasing to fit the template.\",\"The use of \\'must constitute\\' in the transformed sentence accurately reflects the conditional nature of the original statement.\",\"The grammar and syntax of the transformed sentence are correct, with proper use of clauses and conjunctions.\"]}]}', 'name': 'JudgeStatements'}, 'type': 'function'}]}}], 'created': 1734229508, 'model': 'gpt-4o-2024-08-06', 'object': 'chat.completion', 'service_tier': None, 'system_fingerprint': 'fp_9faba9f038', 'usage': {'completion_tokens': 207, 'prompt_tokens': 5331, 'total_tokens': 5538, 'completion_tokens_details': None, 'prompt_tokens_details': None}}, {'id': 'chatcmpl-AeYbgs6Q9gc4gM8q6decsBIu1dr4D', 'choices': [{'finish_reason': 'stop', 'index': 0, 'logprobs': None, 'message': {'content': None, 'refusal': None, 'role': 'assistant', 'audio': None, 'function_call': None, 'tool_calls': [{'id': 'call_maCQOFKJ748bKokysPRHyXf4', 'function': {'arguments': '{\"JudgeStatements\":[{\"doc_id\":\"§ 275.0-5\",\"statement_id\":\"1\",\"statement\":\"Notice of the initiation of the proceeding will be published in the Federal Register and will indicate the earliest date upon which an order disposing of the matter may be entered.\",\"sources\":[\"(a)\"],\"semscore\":0.889516170488961,\"similarity_score\":0.95,\"similarity_score_confidence\":0.9,\"transformation_accuracy\":0.9,\"grammar_syntax_accuracy\":0.95,\"findings\":[\"The transformed sentence maintains the original meaning and structure closely.\",\"The use of \\'must occur\\' in the transformed sentence aligns with the requirement nature of the original statement.\",\"The transformed sentence is grammatically correct and syntactically accurate.\"]}]}', 'name': 'JudgeStatements'}, 'type': 'function'}]}}], 'created': 1734229512, 'model': 'gpt-4o-2024-08-06', 'object': 'chat.completion', 'service_tier': None, 'system_fingerprint': 'fp_9faba9f038', 'usage': {'completion_tokens': 160, 'prompt_tokens': 5541, 'total_tokens': 5701, 'completion_tokens_details': None, 'prompt_tokens_details': None}}, {'id': 'chatcmpl-AeYbmBpgYXUEsXOiyxdSa7bR87W0M', 'choices': [{'finish_reason': 'stop', 'index': 0, 'logprobs': None, 'message': {'content': None, 'refusal': None, 'role': 'assistant', 'audio': None, 'function_call': None, 'tool_calls': [{'id': 'call_R0ThViPRZiiWZujOCOArox0r', 'function': {'arguments': '{\"JudgeStatements\":[{\"doc_id\":\"§ 275.0-5\",\"statement_id\":\"2\",\"statement\":\"Any interested person may, within the period of time specified therein, submit to the Commission in writing any facts bearing upon the desirability of a hearing on the matter and may request that a hearing be held, stating his reasons therefor and the nature of his interest in the matter.\",\"sources\":[\"(a)\"],\"semscore\":0.8810793038130209,\"similarity_score\":0.85,\"similarity_score_confidence\":0.9,\"transformation_accuracy\":0.8,\"grammar_syntax_accuracy\":0.95,\"findings\":[\"The transformed sentence captures the essence of the original statement but omits the part about requesting a hearing and stating reasons and nature of interest.\",\"The transformation uses the template structure but simplifies the original statement.\",\"The grammar and syntax of the transformed sentence are correct.\"]}]}', 'name': 'JudgeStatements'}, 'type': 'function'}]}}], 'created': 1734229518, 'model': 'gpt-4o-2024-08-06', 'object': 'chat.completion', 'service_tier': None, 'system_fingerprint': 'fp_9faba9f038', 'usage': {'completion_tokens': 190, 'prompt_tokens': 5404, 'total_tokens': 5594, 'completion_tokens_details': None, 'prompt_tokens_details': None}}, {'id': 'chatcmpl-AeYbsTFDNIrx6o5njD8pKqnrbb8uu', 'choices': [{'finish_reason': 'stop', 'index': 0, 'logprobs': None, 'message': {'content': None, 'refusal': None, 'role': 'assistant', 'audio': None, 'function_call': None, 'tool_calls': [{'id': 'call_AOUSzQrgOZ7FKv3nAbG0xEIk', 'function': {'arguments': '{\"JudgeStatements\":[{\"doc_id\":\"§ 275.0-5\",\"statement_id\":\"3\",\"statement\":\"An order disposing of the matter will be issued as of course following the expiration of the period of time referred to in paragraph (a) of this section, unless the Commission thereafter orders a hearing on the matter.\",\"sources\":[\"(b)\"],\"semscore\":0.9331547891114476,\"similarity_score\":0.9,\"similarity_score_confidence\":0.85,\"transformation_accuracy\":0.7,\"grammar_syntax_accuracy\":0.8,\"findings\":[\"The transformed sentence uses \\'may be issued\\' instead of \\'will be issued\\', which changes the certainty of the action.\",\"The placement of \\'only\\' in the transformed sentence is awkward and affects the clarity of the condition.\",\"The original sentence implies a default action unless a condition is met, while the transformed sentence suggests a conditional permission.\"]}]}', 'name': 'JudgeStatements'}, 'type': 'function'}]}}], 'created': 1734229524, 'model': 'gpt-4o-2024-08-06', 'object': 'chat.completion', 'service_tier': None, 'system_fingerprint': 'fp_9faba9f038', 'usage': {'completion_tokens': 192, 'prompt_tokens': 5557, 'total_tokens': 5749, 'completion_tokens_details': None, 'prompt_tokens_details': None}}, {'id': 'chatcmpl-AeYby07SNFItcIyLyHf6Pj3bQYq0j', 'choices': [{'finish_reason': 'stop', 'index': 0, 'logprobs': None, 'message': {'content': None, 'refusal': None, 'role': 'assistant', 'audio': None, 'function_call': None, 'tool_calls': [{'id': 'call_cfVgKgRvJdbBIgCRjXvH2Xwl', 'function': {'arguments': '{\"JudgeStatements\":[{\"doc_id\":\"§ 275.0-5\",\"statement_id\":\"4\",\"statement\":\"The Commission will order a hearing on the matter, if it appears that a hearing is necessary or appropriate in the public interest or for the protection of investors, upon the request of any interested person or upon its own motion.\",\"sources\":[\"(c)\"],\"semscore\":0.8866645115483746,\"similarity_score\":0.9,\"similarity_score_confidence\":0.9,\"transformation_accuracy\":0.85,\"grammar_syntax_accuracy\":0.95,\"findings\":[\"The transformed sentence captures the essence of the original statement but omits the condition \\'upon the request of any interested person or upon its own motion\\'.\",\"The transformation uses the template structure effectively but misses some conditional elements present in the original.\",\"The grammar and syntax of the transformed sentence are correct.\"]}]}', 'name': 'JudgeStatements'}, 'type': 'function'}]}}], 'created': 1734229530, 'model': 'gpt-4o-2024-08-06', 'object': 'chat.completion', 'service_tier': None, 'system_fingerprint': 'fp_9faba9f038', 'usage': {'completion_tokens': 186, 'prompt_tokens': 5502, 'total_tokens': 5688, 'completion_tokens_details': None, 'prompt_tokens_details': None}}]}, {'id': 'validation_judge_Operative_Rules', 'type': 'llm_validation', 'content': [{'doc_id': '§ 275.0-2', 'statement_id': '3', 'statement': \"The Secretary of the Commission (Secretary) will promptly forward a copy to each named party by registered or certified mail at that party's last address filed with the Commission.\", 'sources': ['(a)(2)'], 'semscore': 0.9073710062025327, 'similarity_score': 0.9, 'similarity_score_confidence': 0.9, 'transformation_accuracy': 0.85, 'grammar_syntax_accuracy': 0.95, 'findings': [\"The transformed sentence maintains the core meaning of the original statement but changes the modality from 'will' to 'must', which implies a stronger obligation.\", \"The conditional clause 'if the copy is sent by registered or certified mail' is not present in the original statement, which affects the transformation accuracy.\", 'The grammar and syntax of the transformed sentence are correct, but the addition of the conditional clause introduces a slight deviation from the original meaning.']}, {'doc_id': '§ 275.0-2', 'statement_id': '4', 'statement': 'If the Secretary certifies that the Commission was served with process, pleadings, or other papers pursuant to paragraph (a)(1) of this section and forwarded these documents to a named party pursuant to paragraph (a)(2) of this section, this certification constitutes evidence of service upon that party.', 'sources': ['(a)(3)'], 'semscore': 0.9228414607598521, 'similarity_score': 0.9, 'similarity_score_confidence': 0.85, 'transformation_accuracy': 0.9, 'grammar_syntax_accuracy': 0.95, 'findings': ['The transformed sentence maintains the original meaning and structure, with slight rephrasing to fit the template.', \"The use of 'must constitute' in the transformed sentence aligns with the template's requirement for a responsibility signifier.\", 'The conditional clause is accurately represented in the transformed sentence.']}, {'doc_id': '§ 275.0-5', 'statement_id': '1', 'statement': 'Notice of the initiation of the proceeding will be published in the Federal Register and will indicate the earliest date upon which an order disposing of the matter may be entered.', 'sources': ['(a)'], 'semscore': 0.8777297380908979, 'similarity_score': 0.95, 'similarity_score_confidence': 0.9, 'transformation_accuracy': 0.9, 'grammar_syntax_accuracy': 0.95, 'findings': ['The transformed sentence maintains the original meaning and structure, with slight rephrasing to fit the template.', \"The use of 'must occur' and 'may be entered' aligns with the original's 'will be published' and 'will indicate'.\", \"The transformation accurately reflects the original statement's intent and conditions.\", 'The grammar and syntax of the transformed sentence are correct and clear.']}, {'doc_id': '§ 275.0-5', 'statement_id': '2', 'statement': 'Any interested person may, within the period of time specified therein, submit to the Commission in writing any facts bearing upon the desirability of a hearing on the matter and may request that a hearing be held, stating his reasons therefor and the nature of his interest in the matter.', 'sources': ['(a)'], 'semscore': 0.8807382933702773, 'similarity_score': 0.75, 'similarity_score_confidence': 0.8, 'transformation_accuracy': 0.7, 'grammar_syntax_accuracy': 0.9, 'findings': ['The transformed sentence captures the essence of the original statement but omits the ability to request a hearing and the need to state reasons and nature of interest.', 'The transformation uses the template structure but does not fully incorporate all elements of the original statement.', 'The grammar and syntax of the transformed sentence are correct.']}, {'doc_id': '§ 275.0-5', 'statement_id': '3', 'statement': 'An order disposing of the matter will be issued as of course following the expiration of the period of time referred to in paragraph (a) of this section, unless the Commission thereafter orders a hearing on the matter.', 'sources': ['(b)'], 'semscore': 0.9330838266248871, 'similarity_score': 0.9, 'similarity_score_confidence': 0.85, 'transformation_accuracy': 0.8, 'grammar_syntax_accuracy': 0.7, 'findings': [\"The transformed sentence uses 'may be issued' instead of 'will be issued', which changes the certainty of the action.\", \"The phrase 'only unless' is grammatically incorrect and redundant, affecting the grammar and syntax accuracy.\", \"The transformation does not fully adhere to the template structure, particularly in the use of 'may' instead of 'will'.\"]}, {'doc_id': '§ 275.0-5', 'statement_id': '4', 'statement': 'The Commission will order a hearing on the matter, if it appears that a hearing is necessary or appropriate in the public interest or for the protection of investors, upon the request of any interested person or upon its own motion.', 'sources': ['(c)'], 'semscore': 0.873461193460784, 'similarity_score': 0.85, 'similarity_score_confidence': 0.9, 'transformation_accuracy': 0.8, 'grammar_syntax_accuracy': 0.95, 'findings': [\"The transformed sentence captures the essence of the original statement but omits the condition 'upon the request of any interested person or upon its own motion'.\", 'The transformation uses the template structure effectively but misses some conditional elements present in the original.', 'The grammar and syntax of the transformed sentence are correct.']}], 'elapsed_times': [2.461210649998975, 2.685176639999554, 2.5417975499949534, 2.416068719998293, 2.6132912100001704, 2.3178431699998328], 'completions': [{'id': 'chatcmpl-AeYg25YQlIdbKyD9u7q6Kp1giiSxs', 'choices': [{'finish_reason': 'stop', 'index': 0, 'logprobs': None, 'message': {'content': None, 'refusal': None, 'role': 'assistant', 'audio': None, 'function_call': None, 'tool_calls': [{'id': 'call_3r1q6w5cAAtGnMxjejrz9XHK', 'function': {'arguments': '{\"JudgeStatements\":[{\"doc_id\":\"§ 275.0-2\",\"statement_id\":\"3\",\"statement\":\"The Secretary of the Commission (Secretary) will promptly forward a copy to each named party by registered or certified mail at that party\\'s last address filed with the Commission.\",\"sources\":[\"(a)(2)\"],\"semscore\":0.9073710062025327,\"similarity_score\":0.9,\"similarity_score_confidence\":0.9,\"transformation_accuracy\":0.85,\"grammar_syntax_accuracy\":0.95,\"findings\":[\"The transformed sentence maintains the core meaning of the original statement but changes the modality from \\'will\\' to \\'must\\', which implies a stronger obligation.\",\"The conditional clause \\'if the copy is sent by registered or certified mail\\' is not present in the original statement, which affects the transformation accuracy.\",\"The grammar and syntax of the transformed sentence are correct, but the addition of the conditional clause introduces a slight deviation from the original meaning.\"]}]}', 'name': 'JudgeStatements'}, 'type': 'function'}]}}], 'created': 1734229782, 'model': 'gpt-4o-2024-08-06', 'object': 'chat.completion', 'service_tier': None, 'system_fingerprint': 'fp_9faba9f038', 'usage': {'completion_tokens': 204, 'prompt_tokens': 5431, 'total_tokens': 5635, 'completion_tokens_details': None, 'prompt_tokens_details': None}}, {'id': 'chatcmpl-AeYg7uC0iAD2rpSUSuk29zKIMMyrV', 'choices': [{'finish_reason': 'stop', 'index': 0, 'logprobs': None, 'message': {'content': None, 'refusal': None, 'role': 'assistant', 'audio': None, 'function_call': None, 'tool_calls': [{'id': 'call_HpD9yQyM1zo3TU5FB7JgecPS', 'function': {'arguments': '{\"JudgeStatements\":[{\"doc_id\":\"§ 275.0-2\",\"statement_id\":\"4\",\"statement\":\"If the Secretary certifies that the Commission was served with process, pleadings, or other papers pursuant to paragraph (a)(1) of this section and forwarded these documents to a named party pursuant to paragraph (a)(2) of this section, this certification constitutes evidence of service upon that party.\",\"sources\":[\"(a)(3)\"],\"semscore\":0.9228414607598521,\"similarity_score\":0.9,\"similarity_score_confidence\":0.85,\"transformation_accuracy\":0.9,\"grammar_syntax_accuracy\":0.95,\"findings\":[\"The transformed sentence maintains the original meaning and structure, with slight rephrasing to fit the template.\",\"The use of \\'must constitute\\' in the transformed sentence aligns with the template\\'s requirement for a responsibility signifier.\",\"The conditional clause is accurately represented in the transformed sentence.\"]}]}', 'name': 'JudgeStatements'}, 'type': 'function'}]}}], 'created': 1734229787, 'model': 'gpt-4o-2024-08-06', 'object': 'chat.completion', 'service_tier': None, 'system_fingerprint': 'fp_9faba9f038', 'usage': {'completion_tokens': 200, 'prompt_tokens': 5331, 'total_tokens': 5531, 'completion_tokens_details': None, 'prompt_tokens_details': None}}, {'id': 'chatcmpl-AeYgCxUdds52rEkvaXJ8vZcP3EuG4', 'choices': [{'finish_reason': 'stop', 'index': 0, 'logprobs': None, 'message': {'content': None, 'refusal': None, 'role': 'assistant', 'audio': None, 'function_call': None, 'tool_calls': [{'id': 'call_kYgdUuV0u3x5X6IzwRFqj8dq', 'function': {'arguments': '{\"JudgeStatements\":[{\"doc_id\":\"§ 275.0-5\",\"statement_id\":\"1\",\"statement\":\"Notice of the initiation of the proceeding will be published in the Federal Register and will indicate the earliest date upon which an order disposing of the matter may be entered.\",\"sources\":[\"(a)\"],\"semscore\":0.8777297380908979,\"similarity_score\":0.95,\"similarity_score_confidence\":0.9,\"transformation_accuracy\":0.9,\"grammar_syntax_accuracy\":0.95,\"findings\":[\"The transformed sentence maintains the original meaning and structure, with slight rephrasing to fit the template.\",\"The use of \\'must occur\\' and \\'may be entered\\' aligns with the original\\'s \\'will be published\\' and \\'will indicate\\'.\",\"The transformation accurately reflects the original statement\\'s intent and conditions.\",\"The grammar and syntax of the transformed sentence are correct and clear.\"]}]}', 'name': 'JudgeStatements'}, 'type': 'function'}]}}], 'created': 1734229792, 'model': 'gpt-4o-2024-08-06', 'object': 'chat.completion', 'service_tier': None, 'system_fingerprint': 'fp_9faba9f038', 'usage': {'completion_tokens': 190, 'prompt_tokens': 5542, 'total_tokens': 5732, 'completion_tokens_details': None, 'prompt_tokens_details': None}}, {'id': 'chatcmpl-AeYgHztHZs1bI8up27FI23HFcbCTC', 'choices': [{'finish_reason': 'stop', 'index': 0, 'logprobs': None, 'message': {'content': None, 'refusal': None, 'role': 'assistant', 'audio': None, 'function_call': None, 'tool_calls': [{'id': 'call_igi7W4f6o5GyrOziHJruvr9M', 'function': {'arguments': '{\"JudgeStatements\":[{\"doc_id\":\"§ 275.0-5\",\"statement_id\":\"2\",\"statement\":\"Any interested person may, within the period of time specified therein, submit to the Commission in writing any facts bearing upon the desirability of a hearing on the matter and may request that a hearing be held, stating his reasons therefor and the nature of his interest in the matter.\",\"sources\":[\"(a)\"],\"semscore\":0.8807382933702773,\"similarity_score\":0.75,\"similarity_score_confidence\":0.8,\"transformation_accuracy\":0.7,\"grammar_syntax_accuracy\":0.9,\"findings\":[\"The transformed sentence captures the essence of the original statement but omits the ability to request a hearing and the need to state reasons and nature of interest.\",\"The transformation uses the template structure but does not fully incorporate all elements of the original statement.\",\"The grammar and syntax of the transformed sentence are correct.\"]}]}', 'name': 'JudgeStatements'}, 'type': 'function'}]}}], 'created': 1734229797, 'model': 'gpt-4o-2024-08-06', 'object': 'chat.completion', 'service_tier': None, 'system_fingerprint': 'fp_9faba9f038', 'usage': {'completion_tokens': 199, 'prompt_tokens': 5404, 'total_tokens': 5603, 'completion_tokens_details': None, 'prompt_tokens_details': None}}, {'id': 'chatcmpl-AeYgMt05cmzwtvwe8SnsJ4ggFslni', 'choices': [{'finish_reason': 'stop', 'index': 0, 'logprobs': None, 'message': {'content': None, 'refusal': None, 'role': 'assistant', 'audio': None, 'function_call': None, 'tool_calls': [{'id': 'call_53sPkYEat9ISC1aFv6G6DsOW', 'function': {'arguments': '{\"JudgeStatements\":[{\"doc_id\":\"§ 275.0-5\",\"statement_id\":\"3\",\"statement\":\"An order disposing of the matter will be issued as of course following the expiration of the period of time referred to in paragraph (a) of this section, unless the Commission thereafter orders a hearing on the matter.\",\"sources\":[\"(b)\"],\"semscore\":0.9330838266248871,\"similarity_score\":0.9,\"similarity_score_confidence\":0.85,\"transformation_accuracy\":0.8,\"grammar_syntax_accuracy\":0.7,\"findings\":[\"The transformed sentence uses \\'may be issued\\' instead of \\'will be issued\\', which changes the certainty of the action.\",\"The phrase \\'only unless\\' is grammatically incorrect and redundant, affecting the grammar and syntax accuracy.\",\"The transformation does not fully adhere to the template structure, particularly in the use of \\'may\\' instead of \\'will\\'.\"]}]}', 'name': 'JudgeStatements'}, 'type': 'function'}]}}], 'created': 1734229802, 'model': 'gpt-4o-2024-08-06', 'object': 'chat.completion', 'service_tier': None, 'system_fingerprint': 'fp_9faba9f038', 'usage': {'completion_tokens': 194, 'prompt_tokens': 5557, 'total_tokens': 5751, 'completion_tokens_details': None, 'prompt_tokens_details': None}}, {'id': 'chatcmpl-AeYgRrb4TEtYzhwhfzGxxzkHhHhxt', 'choices': [{'finish_reason': 'stop', 'index': 0, 'logprobs': None, 'message': {'content': None, 'refusal': None, 'role': 'assistant', 'audio': None, 'function_call': None, 'tool_calls': [{'id': 'call_lJjsZ09QfAUnsK4G47TYE0Yd', 'function': {'arguments': '{\"JudgeStatements\":[{\"doc_id\":\"§ 275.0-5\",\"statement_id\":\"4\",\"statement\":\"The Commission will order a hearing on the matter, if it appears that a hearing is necessary or appropriate in the public interest or for the protection of investors, upon the request of any interested person or upon its own motion.\",\"sources\":[\"(c)\"],\"semscore\":0.873461193460784,\"similarity_score\":0.85,\"similarity_score_confidence\":0.9,\"transformation_accuracy\":0.8,\"grammar_syntax_accuracy\":0.95,\"findings\":[\"The transformed sentence captures the essence of the original statement but omits the condition \\'upon the request of any interested person or upon its own motion\\'.\",\"The transformation uses the template structure effectively but misses some conditional elements present in the original.\",\"The grammar and syntax of the transformed sentence are correct.\"]}]}', 'name': 'JudgeStatements'}, 'type': 'function'}]}}], 'created': 1734229807, 'model': 'gpt-4o-2024-08-06', 'object': 'chat.completion', 'service_tier': None, 'system_fingerprint': 'fp_9faba9f038', 'usage': {'completion_tokens': 185, 'prompt_tokens': 5503, 'total_tokens': 5688, 'completion_tokens_details': None, 'prompt_tokens_details': None}}]})"
      ]
     },
     "execution_count": 10,
     "metadata": {},
     "output_type": "execute_result"
    }
   ],
   "source": [
    "from collections import ChainMap\n",
    "import json\n",
    "\n",
    "d1 = json.load(open('../data/checkpoints/documents-2024-12-08-1.json'))\n",
    "d2 = json.load(open('../data/checkpoints/documents-2024-12-08-2.json'))\n",
    "\n",
    "print(d1[\"validation_judge_Operative_Rules|llm_validation\"])\n",
    "print(d2[\"validation_judge_Operative_Rules|llm_validation\"])\n",
    "\n",
    "# Define two dictionaries\n",
    "#d1 = {\"A\": 1, \"B\": 2}\n",
    "#d2 = {\"B\": 3, \"C\": 4}\n",
    "# Combine them using ChainMap\n",
    "cm = ChainMap(d1[\"validation_judge_Operative_Rules|llm_validation\"], d2[\"validation_judge_Operative_Rules|llm_validation\"])\n",
    "cm  # Output: ChainMap({'A': 1, 'B': 2}, {'B': 3, 'C': 4})\n"
   ]
  },
  {
   "cell_type": "code",
   "execution_count": 14,
   "metadata": {},
   "outputs": [
    {
     "data": {
      "text/plain": [
       "6"
      ]
     },
     "execution_count": 14,
     "metadata": {},
     "output_type": "execute_result"
    }
   ],
   "source": [
    "len(cm[\"content\"])"
   ]
  },
  {
   "cell_type": "markdown",
   "metadata": {},
   "source": [
    "## defaultdict"
   ]
  },
  {
   "cell_type": "code",
   "execution_count": 3,
   "metadata": {},
   "outputs": [
    {
     "data": {
      "text/plain": [
       "{1: {'id': 1,\n",
       "  'title': 'Service of process on non-resident entities',\n",
       "  'statement': 'A person may serve process, pleadings, or other papers on a non-resident investment adviser, or on a non-resident general partner or non-resident managing agent of an investment adviser by serving any or all of its appointed agents.',\n",
       "  'terms': [{'term': 'Person',\n",
       "    'classification': 'Common Noun',\n",
       "    'confidence': 0.9,\n",
       "    'reason': 'The term is a general reference to an individual or entity.',\n",
       "    'extracted_confidence': 0.9,\n",
       "    'extracted_reason': 'The term is explicitly mentioned as the subject.'}],\n",
       "  'verb_symbols': ['serve', 'by serving'],\n",
       "  'verb_symbols_extracted_confidence': [0.9, 0.8],\n",
       "  'verb_symbols_extracted_reason': [],\n",
       "  'classification': 'Fact Type',\n",
       "  'confidence': 0.0,\n",
       "  'reason': 'The statement describes a general procedure applicable to various entities.',\n",
       "  'sources': ['(a)']}}"
      ]
     },
     "execution_count": 3,
     "metadata": {},
     "output_type": "execute_result"
    }
   ],
   "source": [
    "from collections import defaultdict\n",
    "\n",
    "# Função para criar um dicionário padrão para os termos\n",
    "def create_term():\n",
    "    return {\n",
    "        \"term\": \"\",\n",
    "        \"classification\": \"\",\n",
    "        \"confidence\": 0.0,\n",
    "        \"reason\": \"\",\n",
    "        \"extracted_confidence\": 0.0,\n",
    "        \"extracted_reason\": \"\"\n",
    "    }\n",
    "\n",
    "# Função para criar o dicionário padrão de elementos\n",
    "def create_element():\n",
    "    return {\n",
    "        \"id\": 0,\n",
    "        \"title\": \"\",\n",
    "        \"statement\": \"\",\n",
    "        \"terms\": [],\n",
    "        \"verb_symbols\": [],\n",
    "        \"verb_symbols_extracted_confidence\": [],\n",
    "        \"verb_symbols_extracted_reason\": [],\n",
    "        \"classification\": \"\",\n",
    "        \"confidence\": 0.0,\n",
    "        \"reason\": \"\",\n",
    "        \"sources\": []\n",
    "    }\n",
    "\n",
    "# Criação do defaultdict de elementos\n",
    "elements_defaultdict = defaultdict(create_element)\n",
    "\n",
    "# Exemplo de uso\n",
    "elements_defaultdict[1][\"id\"] = 1\n",
    "elements_defaultdict[1][\"title\"] = \"Service of process on non-resident entities\"\n",
    "elements_defaultdict[1][\"statement\"] = (\n",
    "    \"A person may serve process, pleadings, or other papers on a non-resident investment adviser, \"\n",
    "    \"or on a non-resident general partner or non-resident managing agent of an investment adviser \"\n",
    "    \"by serving any or all of its appointed agents.\"\n",
    ")\n",
    "\n",
    "# Adicionando termos com a função create_term\n",
    "term1 = create_term()\n",
    "term1[\"term\"] = \"Person\"\n",
    "term1[\"classification\"] = \"Common Noun\"\n",
    "term1[\"confidence\"] = 0.9\n",
    "term1[\"reason\"] = \"The term is a general reference to an individual or entity.\"\n",
    "term1[\"extracted_confidence\"] = 0.9\n",
    "term1[\"extracted_reason\"] = \"The term is explicitly mentioned as the subject.\"\n",
    "\n",
    "elements_defaultdict[1][\"terms\"].append(term1)\n",
    "\n",
    "# Adicionando outros atributos\n",
    "elements_defaultdict[1][\"verb_symbols\"] = [\"serve\", \"by serving\"]\n",
    "elements_defaultdict[1][\"verb_symbols_extracted_confidence\"] = [0.9, 0.8]\n",
    "# elements_defaultdict[1][\"verb_symbols_extracted_reason\"] = [\n",
    "#     \"The verb is explicitly mentioned as the action.\",\n",
    "#     \"The verb phrase indicates the method of action.\"\n",
    "# ]\n",
    "elements_defaultdict[1][\"classification\"] = \"Fact Type\"\n",
    "#elements_defaultdict[1][\"confidence\"] = 0.9\n",
    "elements_defaultdict[1][\"reason\"] = \"The statement describes a general procedure applicable to various entities.\"\n",
    "elements_defaultdict[1][\"sources\"] = [\"(a)\"]\n",
    "\n",
    "# Convertendo o defaultdict para dicionário comum, se necessário\n",
    "result = dict(elements_defaultdict)\n",
    "\n",
    "# Exibindo o resultado\n",
    "result\n"
   ]
  },
  {
   "cell_type": "markdown",
   "metadata": {},
   "source": [
    "## pydantic"
   ]
  },
  {
   "cell_type": "code",
   "execution_count": 8,
   "metadata": {},
   "outputs": [
    {
     "data": {
      "text/plain": [
       "{'id': 1,\n",
       " 'title': 'Service of process on non-resident entities',\n",
       " 'statement': 'A person may serve process, pleadings, or other papers on a non-resident investment adviser, or on a non-resident general partner or non-resident managing agent of an investment adviser by serving any or all of its appointed agents.',\n",
       " 'terms': [{'term': 'Person',\n",
       "   'classification': 'Common Noun',\n",
       "   'confidence': 0.9,\n",
       "   'reason': 'The term is a general reference to an individual or entity.',\n",
       "   'extracted_confidence': 0.9,\n",
       "   'extracted_reason': 'The term is explicitly mentioned as the subject.'}],\n",
       " 'verb_symbols': ['serve', 'by serving'],\n",
       " 'verb_symbols_extracted_confidence': [0.9, 0.8],\n",
       " 'verb_symbols_extracted_reason': [],\n",
       " 'classification': 'Fact Type',\n",
       " 'confidence': 0.0,\n",
       " 'reason': 'The statement describes a general procedure applicable to various entities.',\n",
       " 'sources': ['(a)']}"
      ]
     },
     "execution_count": 8,
     "metadata": {},
     "output_type": "execute_result"
    }
   ],
   "source": [
    "import pydantic\n",
    "\n",
    "class Term(pydantic.BaseModel):\n",
    "    term: str\n",
    "    classification: str\n",
    "    confidence: float\n",
    "    reason: str\n",
    "    extracted_confidence: float = 0.0\n",
    "    extracted_reason: str\n",
    "\n",
    "class Element(pydantic.BaseModel):\n",
    "    id: int\n",
    "    title: str\n",
    "    statement: str\n",
    "    terms: list[Term] = []\n",
    "    verb_symbols: list[str]\n",
    "    verb_symbols_extracted_confidence: list[float] = []\n",
    "    verb_symbols_extracted_reason: list[str] = []\n",
    "    classification: str\n",
    "    confidence: float = 0.0\n",
    "    reason: str\n",
    "    sources: list[str]\n",
    "\n",
    "# Exemplo de uso\n",
    "element = Element(\n",
    "    id=1,\n",
    "    title=\"Service of process on non-resident entities\",\n",
    "    statement=(\n",
    "        \"A person may serve process, pleadings, or other papers on a non-resident investment adviser, \"\n",
    "        \"or on a non-resident general partner or non-resident managing agent of an investment adviser \"\n",
    "        \"by serving any or all of its appointed agents.\"\n",
    "    ),\n",
    "    terms=[\n",
    "        Term(\n",
    "            term=\"Person\",\n",
    "            classification=\"Common Noun\",\n",
    "            confidence=0.9,\n",
    "            reason=\"The term is a general reference to an individual or entity.\",\n",
    "            extracted_confidence=0.9,\n",
    "            extracted_reason=\"The term is explicitly mentioned as the subject.\"\n",
    "        )\n",
    "    ],\n",
    "    verb_symbols=[\"serve\", \"by serving\"],\n",
    "    verb_symbols_extracted_confidence=[0.9, 0.8],\n",
    "    # verb_symbols_extracted_reason=[\n",
    "    #     \"The verb is explicitly mentioned as the action.\",\n",
    "    #     \"The verb phrase indicates the method of action.\"\n",
    "    # ],\n",
    "    classification=\"Fact Type\",\n",
    "    #confidence=0.9,\n",
    "    reason=\"The statement describes a general procedure applicable to various entities.\",\n",
    "    sources=[\"(a)\"]\n",
    ")\n",
    "\n",
    "element.model_dump()"
   ]
  },
  {
   "cell_type": "markdown",
   "metadata": {},
   "source": [
    "## latexify\n",
    "\n",
    "source: https://github.com/google/latexify_py/blob/main/examples/latexify_examples.ipynb"
   ]
  },
  {
   "cell_type": "code",
   "execution_count": 2,
   "metadata": {},
   "outputs": [
    {
     "name": "stdout",
     "output_type": "stream",
     "text": [
      "Collecting latexify-py\n",
      "  Downloading latexify_py-0.4.4-py3-none-any.whl.metadata (4.2 kB)\n",
      "Collecting dill>=0.3.2 (from latexify-py)\n",
      "  Downloading dill-0.3.9-py3-none-any.whl.metadata (10 kB)\n",
      "Downloading latexify_py-0.4.4-py3-none-any.whl (38 kB)\n",
      "Downloading dill-0.3.9-py3-none-any.whl (119 kB)\n",
      "Installing collected packages: dill, latexify-py\n",
      "Successfully installed dill-0.3.9 latexify-py-0.4.4\n"
     ]
    }
   ],
   "source": [
    "!pip install latexify-py"
   ]
  },
  {
   "cell_type": "code",
   "execution_count": 16,
   "metadata": {},
   "outputs": [],
   "source": [
    "import math  # Optional\n",
    "import numpy as np  # Optional\n",
    "import latexify"
   ]
  },
  {
   "cell_type": "code",
   "execution_count": 13,
   "metadata": {},
   "outputs": [
    {
     "name": "stdout",
     "output_type": "stream",
     "text": [
      "-1.0\n",
      "\\mathrm{solve}(a, b, c) = \\frac{-b + \\sqrt{ b^{2} - 4 a c }}{2 a}\n"
     ]
    }
   ],
   "source": [
    "@latexify.function\n",
    "def solve(a, b, c):\n",
    "  return (-b + math.sqrt(b**2 - 4*a*c)) / (2*a)\n",
    "\n",
    "print(solve(1, 4, 3))  # Invoking the function works as expected.\n",
    "print(solve)  # Printing the function shows the underlying LaTeX source.\n",
    "solve  # Displays the expression.\n",
    "\n",
    "# Writes the underlying LaTeX source into a file.\n",
    "with open(\"compiled.tex\", \"w\") as fp:\n",
    "  print(solve, file=fp)\n"
   ]
  },
  {
   "cell_type": "code",
   "execution_count": 12,
   "metadata": {},
   "outputs": [
    {
     "data": {
      "text/latex": [
       "$$ \\displaystyle \\frac{-b + \\sqrt{ b^{2} - 4 a c }}{2 a} $$"
      ],
      "text/plain": [
       "<latexify.ipython_wrappers.LatexifiedFunction at 0x7f1264a49110>"
      ]
     },
     "execution_count": 12,
     "metadata": {},
     "output_type": "execute_result"
    }
   ],
   "source": [
    "# latexify.expression works similarly, but does not output the signature.\n",
    "@latexify.expression\n",
    "def solve(a, b, c):\n",
    "  return (-b + math.sqrt(b**2 - 4*a*c)) / (2*a)\n",
    "\n",
    "solve"
   ]
  },
  {
   "cell_type": "code",
   "execution_count": 14,
   "metadata": {},
   "outputs": [
    {
     "data": {
      "text/plain": [
       "'\\\\mathrm{solve}(a, b, c) = \\\\frac{-b + \\\\sqrt{ b^{2} - 4 a c }}{2 a}'"
      ]
     },
     "execution_count": 14,
     "metadata": {},
     "output_type": "execute_result"
    }
   ],
   "source": [
    "# latexify.get_latex obtains the underlying LaTeX expression directly.\n",
    "def solve(a, b, c):\n",
    "  return (-b + math.sqrt(b**2 - 4*a*c)) / (2*a)\n",
    "\n",
    "latexify.get_latex(solve)"
   ]
  },
  {
   "cell_type": "code",
   "execution_count": 3,
   "metadata": {},
   "outputs": [
    {
     "data": {
      "text/latex": [
       "$$ \\displaystyle \\mathrm{fact}(n) = \\left\\{ \\begin{array}{ll} 1, & \\mathrm{if} \\ n = 0 \\\\ n \\cdot \\mathrm{fact} \\mathopen{}\\left( n - 1 \\mathclose{}\\right), & \\mathrm{otherwise} \\end{array} \\right. $$"
      ],
      "text/plain": [
       "<latexify.ipython_wrappers.LatexifiedFunction at 0x7f1264f86490>"
      ]
     },
     "execution_count": 3,
     "metadata": {},
     "output_type": "execute_result"
    }
   ],
   "source": [
    "@latexify.function\n",
    "def fact(n):\n",
    "  if n == 0:\n",
    "    return 1\n",
    "  else:\n",
    "    return n * fact(n-1)\n",
    "\n",
    "fact"
   ]
  },
  {
   "cell_type": "code",
   "execution_count": 4,
   "metadata": {},
   "outputs": [
    {
     "data": {
      "text/latex": [
       "$$ \\displaystyle \\mathrm{sinc}(x) = \\left\\{ \\begin{array}{ll} 1, & \\mathrm{if} \\ x = 0 \\\\ \\frac{\\sin x}{x}, & \\mathrm{otherwise} \\end{array} \\right. $$"
      ],
      "text/plain": [
       "<latexify.ipython_wrappers.LatexifiedFunction at 0x7f1264f88550>"
      ]
     },
     "execution_count": 4,
     "metadata": {},
     "output_type": "execute_result"
    }
   ],
   "source": [
    "@latexify.function\n",
    "def sinc(x):\n",
    "  if x == 0:\n",
    "    return 1\n",
    "  else:\n",
    "    return math.sin(x) / x\n",
    "\n",
    "sinc"
   ]
  },
  {
   "cell_type": "code",
   "execution_count": 5,
   "metadata": {},
   "outputs": [
    {
     "data": {
      "text/latex": [
       "$$ \\displaystyle \\mathrm{fib}(x) = \\left\\{ \\begin{array}{ll} 0, & \\mathrm{if} \\ x = 0 \\\\ 1, & \\mathrm{if} \\ x = 1 \\\\ \\mathrm{fib} \\mathopen{}\\left( x - 1 \\mathclose{}\\right) + \\mathrm{fib} \\mathopen{}\\left( x - 2 \\mathclose{}\\right), & \\mathrm{otherwise} \\end{array} \\right. $$"
      ],
      "text/plain": [
       "<latexify.ipython_wrappers.LatexifiedFunction at 0x7f1231c0d5d0>"
      ]
     },
     "execution_count": 5,
     "metadata": {},
     "output_type": "execute_result"
    }
   ],
   "source": [
    "# Elif or nested else-if are unrolled.\n",
    "@latexify.function\n",
    "def fib(x):\n",
    "  if x == 0:\n",
    "    return 0\n",
    "  elif x == 1:\n",
    "    return 1\n",
    "  else:\n",
    "    return fib(x-1) + fib(x-2)\n",
    "\n",
    "fib"
   ]
  },
  {
   "cell_type": "code",
   "execution_count": 6,
   "metadata": {},
   "outputs": [
    {
     "data": {
      "text/latex": [
       "$$ \\displaystyle \\mathrm{greek}(\\alpha, \\beta, \\gamma, \\Omega) = \\alpha \\beta + \\Gamma \\mathopen{}\\left( \\gamma \\mathclose{}\\right) + \\Omega $$"
      ],
      "text/plain": [
       "<latexify.ipython_wrappers.LatexifiedFunction at 0x7f126406ffd0>"
      ]
     },
     "execution_count": 6,
     "metadata": {},
     "output_type": "execute_result"
    }
   ],
   "source": [
    "# Some math symbols are converted automatically.\n",
    "@latexify.function(use_math_symbols=True)\n",
    "def greek(alpha, beta, gamma, Omega):\n",
    "  return alpha * beta + math.gamma(gamma) + Omega\n",
    "\n",
    "greek"
   ]
  },
  {
   "cell_type": "code",
   "execution_count": 7,
   "metadata": {},
   "outputs": [
    {
     "data": {
      "text/latex": [
       "$$ \\displaystyle f(x) = g \\mathopen{}\\left( x \\mathclose{}\\right) $$"
      ],
      "text/plain": [
       "<latexify.ipython_wrappers.LatexifiedFunction at 0x7f1264f66a50>"
      ]
     },
     "execution_count": 7,
     "metadata": {},
     "output_type": "execute_result"
    }
   ],
   "source": [
    "# Function names, arguments, variables can be replaced.\n",
    "identifiers = {\n",
    "    \"my_function\": \"f\",\n",
    "    \"my_inner_function\": \"g\",\n",
    "    \"my_argument\": \"x\",\n",
    "}\n",
    "\n",
    "@latexify.function(identifiers=identifiers)\n",
    "def my_function(my_argument):\n",
    "    return my_inner_function(my_argument)\n",
    "\n",
    "my_function"
   ]
  },
  {
   "cell_type": "code",
   "execution_count": 8,
   "metadata": {},
   "outputs": [
    {
     "data": {
      "text/latex": [
       "$$ \\displaystyle f(a, b, c) = \\frac{-b + \\sqrt{ b^{2} - 4 a c }}{2 a} $$"
      ],
      "text/plain": [
       "<latexify.ipython_wrappers.LatexifiedFunction at 0x7f1264f89110>"
      ]
     },
     "execution_count": 8,
     "metadata": {},
     "output_type": "execute_result"
    }
   ],
   "source": [
    "# Assignments can be reduced into one expression.\n",
    "@latexify.function(reduce_assignments=True)\n",
    "def f(a, b, c):\n",
    "    discriminant = b**2 - 4 * a * c\n",
    "    numerator = -b + math.sqrt(discriminant)\n",
    "    denominator = 2 * a\n",
    "    return numerator / denominator\n",
    "\n",
    "f"
   ]
  },
  {
   "cell_type": "code",
   "execution_count": 9,
   "metadata": {},
   "outputs": [
    {
     "data": {
      "text/latex": [
       "$$ \\displaystyle \\mathrm{transform}(x, y, a, b, \\theta, s, t) = \\begin{bmatrix} 1 & 0 & s \\\\ 0 & 1 & t \\\\ 0 & 0 & 1 \\end{bmatrix} \\cdot \\begin{bmatrix} \\cos \\theta & -\\sin \\theta & 0 \\\\ \\sin \\theta & \\cos \\theta & 0 \\\\ 0 & 0 & 1 \\end{bmatrix} \\cdot \\begin{bmatrix} a & 0 & 0 \\\\ 0 & b & 0 \\\\ 0 & 0 & 1 \\end{bmatrix} \\cdot \\begin{bmatrix} x \\\\ y \\\\ 1 \\end{bmatrix} $$"
      ],
      "text/plain": [
       "<latexify.ipython_wrappers.LatexifiedFunction at 0x7f1231c1a8d0>"
      ]
     },
     "execution_count": 9,
     "metadata": {},
     "output_type": "execute_result"
    }
   ],
   "source": [
    "# Matrix support.\n",
    "@latexify.function(reduce_assignments=True, use_math_symbols=True)\n",
    "def transform(x, y, a, b, theta, s, t):\n",
    "  cos_t = math.cos(theta)\n",
    "  sin_t = math.sin(theta)\n",
    "  scale = np.array([[a, 0, 0], [0, b, 0], [0, 0, 1]])\n",
    "  rotate = np.array([[cos_t, -sin_t, 0], [sin_t, cos_t, 0], [0, 0, 1]])\n",
    "  move = np.array([[1, 0, s], [0, 1, t], [0, 0, 1]])\n",
    "  return move @ rotate @ scale @ np.array([[x], [y], [1]])\n",
    "\n",
    "transform"
   ]
  },
  {
   "cell_type": "code",
   "execution_count": 10,
   "metadata": {},
   "outputs": [
    {
     "data": {
      "text/latex": [
       "$ \\begin{array}{l} \\mathbf{function} \\ \\mathrm{fib}(x) \\\\ \\hspace{1em} \\mathbf{if} \\ x = 0 \\\\ \\hspace{2em} \\mathbf{return} \\ 0 \\\\ \\hspace{1em} \\mathbf{else} \\\\ \\hspace{2em} \\mathbf{if} \\ x = 1 \\\\ \\hspace{3em} \\mathbf{return} \\ 1 \\\\ \\hspace{2em} \\mathbf{else} \\\\ \\hspace{3em} \\mathbf{return} \\ \\mathrm{fib} \\mathopen{}\\left( x - 1 \\mathclose{}\\right) + \\mathrm{fib} \\mathopen{}\\left( x - 2 \\mathclose{}\\right) \\\\ \\hspace{2em} \\mathbf{end \\ if} \\\\ \\hspace{1em} \\mathbf{end \\ if} \\\\ \\mathbf{end \\ function} \\end{array} $"
      ],
      "text/plain": [
       "<latexify.ipython_wrappers.LatexifiedAlgorithm at 0x7f1264f8e410>"
      ]
     },
     "execution_count": 10,
     "metadata": {},
     "output_type": "execute_result"
    }
   ],
   "source": [
    "# latexify.algorithmic generates an algorithmic environment instead of an equation.\n",
    "@latexify.algorithmic\n",
    "def fib(x):\n",
    "  if x == 0:\n",
    "    return 0\n",
    "  elif x == 1:\n",
    "    return 1\n",
    "  else:\n",
    "    return fib(x-1) + fib(x-2)\n",
    "\n",
    "fib"
   ]
  },
  {
   "cell_type": "code",
   "execution_count": 11,
   "metadata": {},
   "outputs": [
    {
     "data": {
      "text/latex": [
       "$ \\begin{array}{l} \\mathbf{function} \\ \\mathrm{collatz}(x) \\\\ \\hspace{1em} n \\gets 0 \\\\ \\hspace{1em} \\mathbf{while} \\ x > 1 \\\\ \\hspace{2em} n \\gets n + 1 \\\\ \\hspace{2em} \\mathbf{if} \\ x \\mathbin{\\%} 2 = 0 \\\\ \\hspace{3em} x \\gets \\left\\lfloor\\frac{x}{2}\\right\\rfloor \\\\ \\hspace{2em} \\mathbf{else} \\\\ \\hspace{3em} x \\gets 3 x + 1 \\\\ \\hspace{2em} \\mathbf{end \\ if} \\\\ \\hspace{1em} \\mathbf{end \\ while} \\\\ \\hspace{1em} \\mathbf{return} \\ n \\\\ \\mathbf{end \\ function} \\end{array} $"
      ],
      "text/plain": [
       "<latexify.ipython_wrappers.LatexifiedAlgorithm at 0x7f1264a74f50>"
      ]
     },
     "execution_count": 11,
     "metadata": {},
     "output_type": "execute_result"
    }
   ],
   "source": [
    "# Another example: latexify.algorithmic supports usual control flows.\n",
    "@latexify.algorithmic\n",
    "def collatz(x):\n",
    "  n = 0\n",
    "  while x > 1:\n",
    "    n = n + 1\n",
    "    if x % 2 == 0:\n",
    "      x = x // 2\n",
    "    else:\n",
    "      x = 3 * x + 1\n",
    "  return n\n",
    "\n",
    "collatz"
   ]
  },
  {
   "cell_type": "code",
   "execution_count": 15,
   "metadata": {},
   "outputs": [
    {
     "data": {
      "text/latex": [
       "$$ \\displaystyle \\sigma(z) = \\frac{1}{1 - \\exp \\mathopen{}\\left( -z \\mathclose{}\\right)} $$"
      ],
      "text/plain": [
       "<latexify.ipython_wrappers.LatexifiedFunction at 0x7f1231c18fd0>"
      ]
     },
     "execution_count": 15,
     "metadata": {},
     "output_type": "execute_result"
    }
   ],
   "source": [
    "@latexify.function(identifiers = {'sigmoid': 'sigma'}, use_math_symbols = True)\n",
    "def sigmoid(z):\n",
    "  return 1 / (1-math.exp(-z))\n",
    "\n",
    "sigmoid"
   ]
  },
  {
   "cell_type": "markdown",
   "metadata": {},
   "source": [
    "Alternatives"
   ]
  },
  {
   "cell_type": "code",
   "execution_count": 17,
   "metadata": {},
   "outputs": [
    {
     "data": {
      "text/latex": [
       "$\\displaystyle \\mathrm{series}(x) = 1 + x + \\frac{x^{2}}{2 !} + \\frac{x^{3}}{3 !} + \\frac{x^{4}}{4 !}$"
      ],
      "text/plain": [
       "<IPython.core.display.Math object>"
      ]
     },
     "execution_count": 17,
     "metadata": {},
     "output_type": "execute_result"
    }
   ],
   "source": [
    "from IPython.display import Math\n",
    "Math(r'\\mathrm{series}(x) = 1 + x + \\frac{x^{2}}{2 !} + \\frac{x^{3}}{3 !} + \\frac{x^{4}}{4 !}')"
   ]
  },
  {
   "cell_type": "code",
   "execution_count": 19,
   "metadata": {},
   "outputs": [
    {
     "name": "stdout",
     "output_type": "stream",
     "text": [
      "\\mathrm{series}(x) = 1 + x + \\frac{x^{2}}{2 !} + \\frac{x^{3}}{3 !} + \\frac{x^{4}}{4 !}\n"
     ]
    }
   ],
   "source": [
    "@latexify.function(identifiers = {'taylor_series_exp': 'series'})\n",
    "def taylor_series_exp(x):\n",
    "    return 1 + x + (x**2) / math.factorial(2) + (x**3) / math.factorial(3) + (x**4) / math.factorial(4)\n",
    "\n",
    "taylor_series_exp\n",
    "\n",
    "print(taylor_series_exp)"
   ]
  },
  {
   "cell_type": "code",
   "execution_count": 21,
   "metadata": {},
   "outputs": [
    {
     "data": {
      "text/latex": [
       "Math(r'F(k) = \\int_{-\\infty}^{\\infty} f(x) e^{2\\pi i k} dx')\n"
      ],
      "text/plain": [
       "<IPython.core.display.Latex object>"
      ]
     },
     "metadata": {},
     "output_type": "display_data"
    }
   ],
   "source": [
    "%%latex\n",
    "Math(r'F(k) = \\int_{-\\infty}^{\\infty} f(x) e^{2\\pi i k} dx')"
   ]
  }
 ],
 "metadata": {
  "kernelspec": {
   "display_name": "ipt-cfr2sbvr",
   "language": "python",
   "name": "python3"
  },
  "language_info": {
   "codemirror_mode": {
    "name": "ipython",
    "version": 3
   },
   "file_extension": ".py",
   "mimetype": "text/x-python",
   "name": "python",
   "nbconvert_exporter": "python",
   "pygments_lexer": "ipython3",
   "version": "3.11.9"
  }
 },
 "nbformat": 4,
 "nbformat_minor": 2
}
