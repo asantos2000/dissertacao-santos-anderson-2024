{
 "cells": [
  {
   "cell_type": "markdown",
   "metadata": {},
   "source": [
    "# Evaluating checkpoints with DuckDB"
   ]
  },
  {
   "cell_type": "markdown",
   "metadata": {},
   "source": [
    "References:\n",
    "\n",
    "- https://medium.com/@anshubantra/using-duckdb-in-python-a-comprehensive-guide-d14bc0b06546"
   ]
  },
  {
   "cell_type": "code",
   "execution_count": 1,
   "metadata": {},
   "outputs": [],
   "source": [
    "import duckdb\n",
    "import json\n",
    "from pathlib import Path\n",
    "import glob"
   ]
  },
  {
   "cell_type": "markdown",
   "metadata": {},
   "source": [
    "## Functions"
   ]
  },
  {
   "cell_type": "code",
   "execution_count": 84,
   "metadata": {},
   "outputs": [],
   "source": [
    "def upsert_table_from_json(conn, suffix_key_pattern, prefix_key_pattern, table_name, source, key_value, drop, content_key, alias, doc_id_key=\"id\") -> bool:\n",
    "\n",
    "    _data = []\n",
    "    _source_file = Path(source).name\n",
    "    directory_path = Path(\"temp\")\n",
    "\n",
    "    # Combine the directory path and the filename\n",
    "    _temp_file = directory_path / _source_file\n",
    "\n",
    "    with open(source, \"r\") as f:\n",
    "        loaded_data = json.load(f)\n",
    "\n",
    "    keys = loaded_data.keys()\n",
    "\n",
    "    for key in keys:\n",
    "        if key.startswith(prefix_key_pattern) and key.endswith(suffix_key_pattern):\n",
    "            print(key)\n",
    "            _data.append(loaded_data[key])\n",
    "\n",
    "    if not _data:\n",
    "        print(\"No data found. Check the key pattern.\")\n",
    "        return False\n",
    "    \n",
    "    with open(_temp_file, \"w\") as f:\n",
    "        json.dump(_data, f, indent=4)\n",
    "\n",
    "    if drop:\n",
    "        _query_drop_table = f\"\"\"\n",
    "        DROP TABLE {table_name};\n",
    "        \"\"\"\n",
    "\n",
    "        print(f\"{_query_drop_table=}\")\n",
    "        print(f\"Trying to drop table because drop parameter is {drop}\")\n",
    "\n",
    "        try:\n",
    "            conn.execute(_query_drop_table)\n",
    "            print(f\"Table {table_name} dropped\")\n",
    "        except duckdb.CatalogException as e:\n",
    "            print(e)\n",
    "\n",
    "    _query_insert_data = f\"\"\"\n",
    "    INSERT INTO {table_name} ({doc_id_key}, prompt, file_source, {alias}, created_at)\n",
    "    SELECT \n",
    "        {doc_id_key}, \n",
    "        '{key_value}' as prompt, \n",
    "        '{_source_file}' as file_source, \n",
    "        unnest({content_key}) as {alias},\n",
    "        now() as created_at\n",
    "    FROM \n",
    "        read_json_auto(\"{_temp_file}\");\n",
    "    \"\"\"\n",
    "\n",
    "    print(f\"{_query_insert_data=}\")\n",
    "    print(f\"Trying to insert into {table_name}\")\n",
    "\n",
    "    try:\n",
    "        conn.execute(_query_insert_data)\n",
    "        print(f\"Data inserted into {table_name}.\")\n",
    "    except duckdb.CatalogException as e:\n",
    "        print(e)\n",
    "        print(f\"Failed to insert, trying create {table_name}\")\n",
    "        _query_create_table = f\"\"\"\n",
    "        CREATE TABLE {table_name} AS\n",
    "        SELECT {doc_id_key}, \n",
    "        '{key_value}' as prompt, \n",
    "        '{_source_file}' as file_source, \n",
    "        unnest({content_key}) as {alias},\n",
    "        now() as 'created_at'\n",
    "        FROM read_json_auto(\"{_temp_file}\");\n",
    "        \"\"\"\n",
    "        try:\n",
    "            print(f\"{_query_create_table=}\")\n",
    "            conn.execute(_query_create_table)\n",
    "            print(f\"Table {table_name} created and loaded.\")\n",
    "        except duckdb.CatalogException as e:\n",
    "            print(e)\n",
    "            print(f\"Failed to create {table_name}\")\n",
    "            return False\n",
    "\n",
    "    return True"
   ]
  },
  {
   "cell_type": "markdown",
   "metadata": {},
   "source": [
    "## Connect database"
   ]
  },
  {
   "cell_type": "code",
   "execution_count": 3,
   "metadata": {},
   "outputs": [],
   "source": [
    "conn = duckdb.connect(\"cfr2sbvr_db/database.db\")"
   ]
  },
  {
   "cell_type": "markdown",
   "metadata": {},
   "source": [
    "## True tables"
   ]
  },
  {
   "cell_type": "code",
   "execution_count": 37,
   "metadata": {},
   "outputs": [
    {
     "name": "stdout",
     "output_type": "stream",
     "text": [
      "§ 275.0-2_P1|true_table\n",
      "§ 275.0-5_P1|true_table\n",
      "§ 275.0-7_P1|true_table\n",
      "_query_drop_table='\\n        DROP TABLE EXTRACTED_ELEMENTS_TRUE;\\n        '\n",
      "Trying to drop table because drop parameter is True\n",
      "Table EXTRACTED_ELEMENTS_TRUE dropped\n",
      "_query_insert_data='\\n    INSERT INTO EXTRACTED_ELEMENTS_TRUE (id, prompt, file_source, content.elements, created_at)\\n    SELECT \\n        id, \\n        \\'extract_p1\\' as prompt, \\n        \\'documents_true_table.json\\' as file_source, \\n        unnest(content.elements) as elements,\\n        now() as created_at\\n    FROM \\n        read_json_auto(\"temp/documents_true_table.json\");\\n    '\n",
      "Trying to insert into EXTRACTED_ELEMENTS_TRUE\n",
      "Catalog Error: Table with name EXTRACTED_ELEMENTS_TRUE does not exist!\n",
      "Did you mean \"database.EXTRACTED_ELEMENTS_TRUE\"?\n",
      "Failed to insert, trying create EXTRACTED_ELEMENTS_TRUE\n",
      "_query_create_table='\\n        CREATE TABLE EXTRACTED_ELEMENTS_TRUE AS\\n        SELECT id, \\n        \\'extract_p1\\' as prompt, \\n        \\'documents_true_table.json\\' as file_source, \\n        unnest(content.elements) as elements,\\n        now() as \\'created_at\\'\\n        FROM read_json_auto(\"temp/documents_true_table.json\");\\n        '\n",
      "Table EXTRACTED_ELEMENTS_TRUE created and loaded.\n"
     ]
    },
    {
     "data": {
      "text/plain": [
       "True"
      ]
     },
     "execution_count": 37,
     "metadata": {},
     "output_type": "execute_result"
    }
   ],
   "source": [
    "upsert_table_from_json(\n",
    "    conn,\n",
    "    suffix_key_pattern=\"_P1|true_table\",\n",
    "    prefix_key_pattern=\"§\",\n",
    "    table_name=\"EXTRACTED_ELEMENTS_TRUE\",\n",
    "    source=\"cfr2sbvr_db/true/documents_true_table.json\",\n",
    "    key_value=\"extract_p1\",\n",
    "    drop=True,\n",
    "    content_key=\"content.elements\",\n",
    "    alias=\"elements\",\n",
    "    doc_id_key=\"id\"\n",
    "\n",
    ")"
   ]
  },
  {
   "cell_type": "code",
   "execution_count": 38,
   "metadata": {},
   "outputs": [
    {
     "data": {
      "text/plain": [
       "┌──────────────┬────────────┬───────────────────────────┬───────────────────────────────────────────────────────────────────────────────────────────────────────────────────────────────────────────────────────────────────────────────────────────────────────────────────────────────────────────────────────────────────────────────────────────────────────────────────────────────────────────────────────────────────────────────────────────────────────────────────────────────────────────────────────────────────────────────────────────────────────────────────────────────────────────────────────────────────────────────────────────────────────────────────────────────────────────────────────────────────────────────────────────────────────────────────────────────────────────────────────────────────────────────────────────────────────────────────────────────────────────────────────────────────────────────────────────────────────────────────────────────────────────────────────────────────────────────────────────────────────────────────────────────────────────────────────────────────────────────────────────────────────────────────────────────────────────────────────────────────────────────────────────────────────────────────────┬────────────────────────────┐\n",
       "│      id      │   prompt   │        file_source        │                                                                                                                                                                                                                                                                                                                                                                                                                                                                                                                                                                                                       elements                                                                                                                                                                                                                                                                                                                                                                                                                                                                                                                                                                                                        │         created_at         │\n",
       "│   varchar    │  varchar   │          varchar          │                                                                                                                                                                                                                                                                                                                                                                                                                                                                                                                    struct(id bigint, title varchar, \"statement\" varchar, terms struct(term varchar, classification varchar)[], verb_symbols varchar[], classification varchar, sources varchar[])                                                                                                                                                                                                                                                                                                                                                                                                                                                                                                                     │  timestamp with time zone  │\n",
       "├──────────────┼────────────┼───────────────────────────┼───────────────────────────────────────────────────────────────────────────────────────────────────────────────────────────────────────────────────────────────────────────────────────────────────────────────────────────────────────────────────────────────────────────────────────────────────────────────────────────────────────────────────────────────────────────────────────────────────────────────────────────────────────────────────────────────────────────────────────────────────────────────────────────────────────────────────────────────────────────────────────────────────────────────────────────────────────────────────────────────────────────────────────────────────────────────────────────────────────────────────────────────────────────────────────────────────────────────────────────────────────────────────────────────────────────────────────────────────────────────────────────────────────────────────────────────────────────────────────────────────────────────────────────────────────────────────────────────────────────────────────────────────────────────────────────────────────────────────────────────────────────────────────────────────────────────────────┼────────────────────────────┤\n",
       "│ § 275.0-2_P1 │ extract_p1 │ documents_true_table.json │ {'id': 1, 'title': Service of process on non-resident entities, 'statement': A person may serve process, pleadings, or other papers on a non-resident investment adviser, or on a non-resident general partner or non-resident managing agent of an investment adviser by serving any or all of its appointed agents., 'terms': [{'term': Person, 'classification': Common Noun}, {'term': Non-resident investment adviser, 'classification': Common Noun}, {'term': Non-resident general partner, 'classification': Common Noun}, {'term': Non-resident managing agent, 'classification': Common Noun}, {'term': Appointed agents, 'classification': Common Noun}], 'verb_symbols': [serve, by serving], 'classification': Fact Type, 'sources': [(a)]}                                                                                                                                                                                                                                                                                                                                                                                                                                                              │ 2024-12-12 17:36:10.695-03 │\n",
       "│ § 275.0-2_P1 │ extract_p1 │ documents_true_table.json │ {'id': 2, 'title': Furnishing documents to the Commission, 'statement': A person may serve a non-resident investment adviser, non-resident general partner, or non-resident managing agent by furnishing the Commission with one copy of the process, pleadings, or papers, for each named party, and one additional copy for the Commission's records., 'terms': [{'term': Commission's records, 'classification': Common Noun}, {'term': Named party, 'classification': Common Noun}, {'term': Commission, 'classification': Proper Noun}, {'term': Process, 'classification': Common Noun}, {'term': Pleadings, 'classification': Common Noun}, {'term': Papers, 'classification': Common Noun}, {'term': Person, 'classification': Common Noun}, {'term': Non-resident investment adviser, 'classification': Common Noun}, {'term': Non-resident general partner, 'classification': Common Noun}, {'term': Non-resident managing agent, 'classification': Common Noun}], 'verb_symbols': [serve, by furnishing, with], 'classification': Fact Type, 'sources': [(a)(1)]}                                                                                                                                          │ 2024-12-12 17:36:10.695-03 │\n",
       "│ § 275.0-2_P1 │ extract_p1 │ documents_true_table.json │ {'id': 3, 'title': Forwarding documents by the Secretary, 'statement': If process, pleadings, or other papers are served on the Commission as described in this section, the Secretary of the Commission (Secretary) will promptly forward a copy to each named party by registered or certified mail at that party's last address filed with the Commission., 'terms': [{'term': Last address, 'classification': Common Noun}, {'term': Process, 'classification': Common Noun}, {'term': Papers, 'classification': Common Noun}, {'term': Pleadings, 'classification': Common Noun}, {'term': Commission, 'classification': Proper Noun}, {'term': Last address filed with the Commission, 'classification': Common Noun}, {'term': Secretary of the Commission, 'classification': Proper Noun}, {'term': Named party, 'classification': Common Noun}, {'term': Registered mail, 'classification': Common Noun}, {'term': Certified mail, 'classification': Common Noun}], 'verb_symbols': [will forward, by, at], 'classification': Operative Rule, 'sources': [(a)(2)]}                                                                                                                                           │ 2024-12-12 17:36:10.695-03 │\n",
       "│ § 275.0-2_P1 │ extract_p1 │ documents_true_table.json │ {'id': 4, 'title': Certification of service by the Secretary, 'statement': If the Secretary certifies that the Commission was served with process, pleadings, or other papers pursuant to paragraph (a)(1) of this section and forwarded these documents to a named party pursuant to paragraph (a)(2) of this section, this certification constitutes evidence of service upon that party., 'terms': [{'term': Commission, 'classification': Proper Noun}, {'term': Process, 'classification': Common Noun}, {'term': Pleadings, 'classification': Common Noun}, {'term': Papers, 'classification': Common Noun}, {'term': Evidence of service, 'classification': Common Noun}, {'term': Secretary, 'classification': Proper Noun}, {'term': Named party, 'classification': Common Noun}, {'term': Certification, 'classification': Common Noun}], 'verb_symbols': [certifies, was served, forwarded, constitutes], 'classification': Operative Rule, 'sources': [(a)(3)]}                                                                                                                                                                                                                                           │ 2024-12-12 17:36:10.695-03 │\n",
       "│ § 275.0-2_P1 │ extract_p1 │ documents_true_table.json │ {'id': 5, 'title': Definition of Managing agent, 'statement': Managing agent means any person, including a trustee, who directs or manages, or who participates in directing or managing, the affairs of any unincorporated organization or association other than a partnership., 'terms': [{'term': Managing agent, 'classification': Common Noun}, {'term': Person, 'classification': Common Noun}, {'term': Trustee, 'classification': Common Noun}, {'term': Unincorporated organization, 'classification': Common Noun}, {'term': Association, 'classification': Common Noun}, {'term': Partnership, 'classification': Common Noun}], 'verb_symbols': [means, directs, manages, participates], 'classification': Fact Type, 'sources': [(b)(1)]}                                                                                                                                                                                                                                                                                                                                                                                                                                                                │ 2024-12-12 17:36:10.695-03 │\n",
       "│ § 275.0-2_P1 │ extract_p1 │ documents_true_table.json │ {'id': 6, 'title': Definition of Non-resident, 'statement': Non-resident means an individual who resides in any place not subject to the jurisdiction of the United States; a corporation that is incorporated in or that has its principal office and place of business in any place not subject to the jurisdiction of the United States; and a partnership or other unincorporated organization or association that has its principal office and place of business in any place not subject to the jurisdiction of the United States., 'terms': [{'term': Jurisdiction of the United States, 'classification': Common Noun}, {'term': Non-resident, 'classification': Common Noun}, {'term': Individual, 'classification': Common Noun}, {'term': Corporation, 'classification': Common Noun}, {'term': Principal office, 'classification': Common Noun}, {'term': Place of business, 'classification': Common Noun}, {'term': Partnership, 'classification': Common Noun}, {'term': Unincorporated organization, 'classification': Common Noun}, {'term': Association, 'classification': Common Noun}], 'verb_symbols': [means, resides, is incorporated, has], 'classification': Fact Type, 'sources': [(b)(2)]} │ 2024-12-12 17:36:10.695-03 │\n",
       "│ § 275.0-2_P1 │ extract_p1 │ documents_true_table.json │ {'id': 7, 'title': Definition of Principal office and place of business, 'statement': Principal office and place of business has the same meaning as in § 275.203A-3(c) of this chapter., 'terms': [{'term': Principal office, 'classification': Common Noun}, {'term': Place of business, 'classification': Common Noun}], 'verb_symbols': [has], 'classification': Fact Type, 'sources': [(b)(3)]}                                                                                                                                                                                                                                                                                                                                                                                                                                                                                                                                                                                                                                                                                                                                                                                                                  │ 2024-12-12 17:36:10.695-03 │\n",
       "│ § 275.0-5_P1 │ extract_p1 │ documents_true_table.json │ {'id': 1, 'title': Notice of proceeding initiation, 'statement': Notice of the initiation of the proceeding will be published in the Federal Register and will indicate the earliest date upon which an order disposing of the matter may be entered., 'terms': [{'term': Earliest date, 'classification': Common Noun}, {'term': Federal Register, 'classification': Proper Noun}, {'term': Notice, 'classification': Common Noun}, {'term': Initiation of the proceeding, 'classification': Common Noun}, {'term': Order, 'classification': Common Noun}, {'term': Matter, 'classification': Common Noun}], 'verb_symbols': [will be published, will indicate], 'classification': Operative Rule, 'sources': [(a)]}                                                                                                                                                                                                                                                                                                                                                                                                                                                                                                 │ 2024-12-12 17:36:10.695-03 │\n",
       "│ § 275.0-5_P1 │ extract_p1 │ documents_true_table.json │ {'id': 2, 'title': Submission of facts and hearing request, 'statement': Any interested person may, within the period of time specified therein, submit to the Commission in writing any facts bearing upon the desirability of a hearing on the matter and may request that a hearing be held, stating his reasons therefor and the nature of his interest in the matter., 'terms': [{'term': Commission, 'classification': Proper Noun}, {'term': Order disposing of the matter, 'classification': Common Noun}, {'term': Interested person, 'classification': Common Noun}, {'term': Period of time, 'classification': Common Noun}, {'term': Facts, 'classification': Common Noun}, {'term': Hearing, 'classification': Common Noun}, {'term': Matter, 'classification': Common Noun}, {'term': Reasons, 'classification': Common Noun}, {'term': Nature of interest, 'classification': Common Noun}], 'verb_symbols': [may submit, may request, stating], 'classification': Operative Rule, 'sources': [(a)]}                                                                                                                                                                                                    │ 2024-12-12 17:36:10.695-03 │\n",
       "│ § 275.0-5_P1 │ extract_p1 │ documents_true_table.json │ {'id': 3, 'title': Issuance of order disposing of the matter, 'statement': An order disposing of the matter will be issued as of course following the expiration of the period of time referred to in paragraph (a) of this section, unless the Commission thereafter orders a hearing on the matter., 'terms': [{'term': Commission, 'classification': Proper Noun}, {'term': Order disposing of the matter, 'classification': Common Noun}, {'term': Order, 'classification': Common Noun}, {'term': Matter, 'classification': Common Noun}, {'term': Period of time, 'classification': Common Noun}, {'term': Hearing, 'classification': Common Noun}], 'verb_symbols': [will be issued, orders], 'classification': Operative Rule, 'sources': [(b)]}                                                                                                                                                                                                                                                                                                                                                                                                                                                              │ 2024-12-12 17:36:10.695-03 │\n",
       "│ § 275.0-5_P1 │ extract_p1 │ documents_true_table.json │ {'id': 4, 'title': Commission orders a hearing, 'statement': The Commission will order a hearing on the matter, if it appears that a hearing is necessary or appropriate in the public interest or for the protection of investors, upon the request of any interested person or upon its own motion., 'terms': [{'term': Motion, 'classification': Common Noun}, {'term': Commission, 'classification': Proper Noun}, {'term': Hearing, 'classification': Common Noun}, {'term': Matter, 'classification': Common Noun}, {'term': Public interest, 'classification': Common Noun}, {'term': Protection of investors, 'classification': Common Noun}, {'term': Interested person, 'classification': Common Noun}], 'verb_symbols': [will order, appears, is necessary, is appropriate], 'classification': Operative Rule, 'sources': [(c)]}                                                                                                                                                                                                                                                                                                                                                                           │ 2024-12-12 17:36:10.695-03 │\n",
       "│ § 275.0-5_P1 │ extract_p1 │ documents_true_table.json │ {'id': 5, 'title': Definition of application, 'statement': For purposes of this rule, an application means any application for an order of the Commission under the Act other than an application for registration as an investment adviser., 'terms': [{'term': Act, 'classification': Proper Noun}, {'term': Commission, 'classification': Proper Noun}, {'term': Order of the Commission, 'classification': Common Noun}, {'term': Application for registration, 'classification': Common Noun}, {'term': Application, 'classification': Common Noun}, {'term': Order, 'classification': Common Noun}, {'term': Registration, 'classification': Common Noun}, {'term': Investment adviser, 'classification': Common Noun}], 'verb_symbols': [means], 'classification': Fact Type, 'sources': [(d)]}                                                                                                                                                                                                                                                                                                                                                                                                                │ 2024-12-12 17:36:10.695-03 │\n",
       "│ § 275.0-7_P1 │ extract_p1 │ documents_true_table.json │ {'id': 1, 'title': Definition of small business or small organization, 'statement': The term small business or small organization for purposes of the Investment Advisers Act of 1940 shall mean an investment adviser that has assets under management of less than $25 million, or such higher amount as the Commission may by rule deem appropriate., 'terms': [{'term': Small business, 'classification': Common Noun}, {'term': Small organization, 'classification': Common Noun}, {'term': Investment adviser, 'classification': Common Noun}, {'term': Assets under management, 'classification': Common Noun}], 'verb_symbols': [shall mean, has, deem], 'classification': Fact Type, 'sources': [(a)]}                                                                                                                                                                                                                                                                                                                                                                                                                                                                                                      │ 2024-12-12 17:36:10.695-03 │\n",
       "│ § 275.0-7_P1 │ extract_p1 │ documents_true_table.json │ {'id': 2, 'title': Assets under management criterion, 'statement': An investment adviser has assets under management, as defined under Section 203A(a)(3) of the Act and reported on its annual updating amendment to Form ADV, of less than $25 million, or such higher amount as the Commission may by rule deem appropriate., 'terms': [{'term': Investment adviser, 'classification': Common Noun}, {'term': Assets under management, 'classification': Common Noun}, {'term': Form ADV, 'classification': Proper Noun}], 'verb_symbols': [has, defined, reported, deem], 'classification': Fact Type, 'sources': [(a)(1)]}                                                                                                                                                                                                                                                                                                                                                                                                                                                                                                                                                                                       │ 2024-12-12 17:36:10.695-03 │\n",
       "│ § 275.0-7_P1 │ extract_p1 │ documents_true_table.json │ {'id': 3, 'title': Total assets criterion, 'statement': An investment adviser did not have total assets of $5 million or more on the last day of the most recent fiscal year., 'terms': [{'term': Investment adviser, 'classification': Common Noun}, {'term': Total assets, 'classification': Common Noun}, {'term': Fiscal year, 'classification': Common Noun}], 'verb_symbols': [did not have], 'classification': Fact Type, 'sources': [(a)(2)]}                                                                                                                                                                                                                                                                                                                                                                                                                                                                                                                                                                                                                                                                                                                                                                 │ 2024-12-12 17:36:10.695-03 │\n",
       "│ § 275.0-7_P1 │ extract_p1 │ documents_true_table.json │ {'id': 4, 'title': Control relationship criterion, 'statement': An investment adviser does not control, is not controlled by, and is not under common control with another investment adviser that has assets under management of $25 million or more, or any person (other than a natural person) that had total assets of $5 million or more on the last day of the most recent fiscal year., 'terms': [{'term': Investment adviser, 'classification': Common Noun}, {'term': Control, 'classification': Common Noun}, {'term': Assets under management, 'classification': Common Noun}, {'term': Person, 'classification': Common Noun}, {'term': Natural person, 'classification': Common Noun}, {'term': Fiscal year, 'classification': Common Noun}], 'verb_symbols': [does not control, is not controlled by, is not under common control with, has, had], 'classification': Fact Type, 'sources': [(a)(3)]}                                                                                                                                                                                                                                                                                                   │ 2024-12-12 17:36:10.695-03 │\n",
       "│ § 275.0-7_P1 │ extract_p1 │ documents_true_table.json │ {'id': 5, 'title': Definition of control, 'statement': Control means the power, directly or indirectly, to direct the management or policies of a person, whether through ownership of securities, by contract, or otherwise., 'terms': [{'term': Securities, 'classification': Common Noun}, {'term': Control, 'classification': Common Noun}, {'term': Power, 'classification': Common Noun}, {'term': Management, 'classification': Common Noun}, {'term': Policies, 'classification': Common Noun}, {'term': Person, 'classification': Common Noun}, {'term': Ownership of securities, 'classification': Common Noun}, {'term': Contract, 'classification': Common Noun}], 'verb_symbols': [means, to direct], 'classification': Fact Type, 'sources': [(b)(1)]}                                                                                                                                                                                                                                                                                                                                                                                                                                                  │ 2024-12-12 17:36:10.695-03 │\n",
       "│ § 275.0-7_P1 │ extract_p1 │ documents_true_table.json │ {'id': 6, 'title': Presumption of control over a corporation, 'statement': A person is presumed to control a corporation if the person directly or indirectly has the right to vote 25 percent or more of a class of the corporation's voting securities., 'terms': [{'term': Person, 'classification': Common Noun}, {'term': Corporation, 'classification': Common Noun}, {'term': Right to vote, 'classification': Common Noun}, {'term': Voting securities, 'classification': Common Noun}], 'verb_symbols': [is presumed to control, has], 'classification': Fact Type, 'sources': [(b)(1)(i)(A)]}                                                                                                                                                                                                                                                                                                                                                                                                                                                                                                                                                                                                               │ 2024-12-12 17:36:10.695-03 │\n",
       "│ § 275.0-7_P1 │ extract_p1 │ documents_true_table.json │ {'id': 7, 'title': Presumption of control over a partnership, 'statement': A person is presumed to control a partnership if the person has the right to receive upon dissolution, or has contributed, 25 percent or more of the capital of the partnership., 'terms': [{'term': Dissolution, 'classification': Common Noun}, {'term': Person, 'classification': Common Noun}, {'term': Partnership, 'classification': Common Noun}, {'term': Right to receive upon dissolution, 'classification': Common Noun}, {'term': Capital, 'classification': Common Noun}], 'verb_symbols': [is presumed to control, has, has contributed], 'classification': Fact Type, 'sources': [(b)(1)(ii)]}                                                                                                                                                                                                                                                                                                                                                                                                                                                                                                                              │ 2024-12-12 17:36:10.695-03 │\n",
       "│ § 275.0-7_P1 │ extract_p1 │ documents_true_table.json │ {'id': 8, 'title': Presumption of control over an LLC, 'statement': A person is presumed to control a limited liability company (LLC) if the person directly or indirectly has the right to vote 25 percent or more of a class of the interests of the LLC, has the right to receive upon dissolution, or has contributed, 25 percent or more of the capital of the LLC, or is an elected manager of the LLC., 'terms': [{'term': Interests of the LLC, 'classification': Common Noun}, {'term': Person, 'classification': Common Noun}, {'term': Limited liability company (LLC), 'classification': Common Noun}, {'term': Right to vote, 'classification': Common Noun}, {'term': Right to receive upon dissolution, 'classification': Common Noun}, {'term': Capital, 'classification': Common Noun}, {'term': Elected manager, 'classification': Common Noun}], 'verb_symbols': [is presumed to control, has, has contributed, is], 'classification': Fact Type, 'sources': [(b)(1)(iii)]}                                                                                                                                                                                                                        │ 2024-12-12 17:36:10.695-03 │\n",
       "│ § 275.0-7_P1 │ extract_p1 │ documents_true_table.json │ {'id': 9, 'title': Presumption of control over a trust, 'statement': A person is presumed to control a trust if the person is a trustee or managing agent of the trust., 'terms': [{'term': Person, 'classification': Common Noun}, {'term': Trust, 'classification': Common Noun}, {'term': Trustee, 'classification': Common Noun}, {'term': Managing agent, 'classification': Common Noun}], 'verb_symbols': [is presumed to control, is], 'classification': Fact Type, 'sources': [(b)(1)(iv)]}                                                                                                                                                                                                                                                                                                                                                                                                                                                                                                                                                                                                                                                                                                                   │ 2024-12-12 17:36:10.695-03 │\n",
       "│ § 275.0-7_P1 │ extract_p1 │ documents_true_table.json │ {'id': 10, 'title': Definition of total assets, 'statement': Total assets means the total assets as shown on the balance sheet of the investment adviser or other person described above under paragraph (a)(3) of this section, or the balance sheet of the investment adviser or such other person with its subsidiaries consolidated, whichever is larger., 'terms': [{'term': Total assets, 'classification': Common Noun}, {'term': Balance sheet, 'classification': Common Noun}, {'term': Investment adviser, 'classification': Common Noun}, {'term': Person, 'classification': Common Noun}, {'term': Subsidiaries, 'classification': Common Noun}], 'verb_symbols': [means, shown], 'classification': Fact Type, 'sources': [(b)(2)]}                                                                                                                                                                                                                                                                                                                                                                                                                                                                       │ 2024-12-12 17:36:10.695-03 │\n",
       "├──────────────┴────────────┴───────────────────────────┴───────────────────────────────────────────────────────────────────────────────────────────────────────────────────────────────────────────────────────────────────────────────────────────────────────────────────────────────────────────────────────────────────────────────────────────────────────────────────────────────────────────────────────────────────────────────────────────────────────────────────────────────────────────────────────────────────────────────────────────────────────────────────────────────────────────────────────────────────────────────────────────────────────────────────────────────────────────────────────────────────────────────────────────────────────────────────────────────────────────────────────────────────────────────────────────────────────────────────────────────────────────────────────────────────────────────────────────────────────────────────────────────────────────────────────────────────────────────────────────────────────────────────────────────────────────────────────────────────────────────────────────────────────────────────────────────────────────────────────────────────────────────────────────────────────────────────────┴────────────────────────────┤\n",
       "│ 22 rows                                                                                                                                                                                                                                                                                                                                                                                                                                                                                                                                                                                                                                                                                                                                                                                                                                                                                                                                                                                                                                                                                                                                                                                                                                                                                          5 columns │\n",
       "└────────────────────────────────────────────────────────────────────────────────────────────────────────────────────────────────────────────────────────────────────────────────────────────────────────────────────────────────────────────────────────────────────────────────────────────────────────────────────────────────────────────────────────────────────────────────────────────────────────────────────────────────────────────────────────────────────────────────────────────────────────────────────────────────────────────────────────────────────────────────────────────────────────────────────────────────────────────────────────────────────────────────────────────────────────────────────────────────────────────────────────────────────────────────────────────────────────────────────────────────────────────────────────────────────────────────────────────────────────────────────────────────────────────────────────────────────────────────────────────────────────────────────────────────────────────────────────────────────────────────────────────────────────────────────────────────────────────────────────────────────────────────────────────────────────────────────────────────────────────────────────────────────────────────────────────────────────────┘"
      ]
     },
     "execution_count": 38,
     "metadata": {},
     "output_type": "execute_result"
    }
   ],
   "source": [
    "query = \"\"\"\n",
    "SELECT * FROM EXTRACTED_ELEMENTS_TRUE;\n",
    "\"\"\"\n",
    "\n",
    "conn.sql(query)"
   ]
  },
  {
   "cell_type": "markdown",
   "metadata": {},
   "source": [
    "Total verb symbols extracted"
   ]
  },
  {
   "cell_type": "code",
   "execution_count": 40,
   "metadata": {},
   "outputs": [
    {
     "data": {
      "text/plain": [
       "┌─────────────┐\n",
       "│ total_verbs │\n",
       "│    int64    │\n",
       "├─────────────┤\n",
       "│          61 │\n",
       "└─────────────┘"
      ]
     },
     "execution_count": 40,
     "metadata": {},
     "output_type": "execute_result"
    }
   ],
   "source": [
    "query = \"\"\"\n",
    "SELECT\n",
    "    COUNT(verb) AS total_verbs\n",
    "FROM (\n",
    "    SELECT\n",
    "        UNNEST(CAST(json_extract(elements, '$.verb_symbols') AS VARCHAR[])) AS verb\n",
    "    FROM\n",
    "        EXTRACTED_ELEMENTS_TRUE\n",
    ") AS flattened_verbs;\n",
    "\"\"\"\n",
    "\n",
    "conn.sql(query)"
   ]
  },
  {
   "cell_type": "markdown",
   "metadata": {},
   "source": [
    "distinct verb symbols"
   ]
  },
  {
   "cell_type": "code",
   "execution_count": 41,
   "metadata": {},
   "outputs": [
    {
     "data": {
      "text/plain": [
       "┌──────────────────────┐\n",
       "│ distinct_verbs_count │\n",
       "│        int64         │\n",
       "├──────────────────────┤\n",
       "│                   43 │\n",
       "└──────────────────────┘"
      ]
     },
     "execution_count": 41,
     "metadata": {},
     "output_type": "execute_result"
    }
   ],
   "source": [
    "query = \"\"\"\n",
    "SELECT\n",
    "    COUNT(DISTINCT verb) AS distinct_verbs_count\n",
    "FROM (\n",
    "    SELECT\n",
    "        UNNEST(CAST(json_extract(elements, '$.verb_symbols') AS VARCHAR[])) AS verb\n",
    "    FROM\n",
    "        EXTRACTED_ELEMENTS_TRUE\n",
    ") AS flattened_verbs;\n",
    "\"\"\"\n",
    "\n",
    "conn.sql(query)"
   ]
  },
  {
   "cell_type": "code",
   "execution_count": 42,
   "metadata": {},
   "outputs": [
    {
     "data": {
      "text/plain": [
       "┌────────────────────────┬──────────────┬─────────────────┐\n",
       "│          verb          │    doc_id    │     source      │\n",
       "│        varchar         │   varchar    │     varchar     │\n",
       "├────────────────────────┼──────────────┼─────────────────┤\n",
       "│ by serving             │ § 275.0-2_P1 │ [\"(a)\"]         │\n",
       "│ serve                  │ § 275.0-2_P1 │ [\"(a)(1)\"]      │\n",
       "│ by                     │ § 275.0-2_P1 │ [\"(a)(2)\"]      │\n",
       "│ certifies              │ § 275.0-2_P1 │ [\"(a)(3)\"]      │\n",
       "│ constitutes            │ § 275.0-2_P1 │ [\"(a)(3)\"]      │\n",
       "│ participates           │ § 275.0-2_P1 │ [\"(b)(1)\"]      │\n",
       "│ is incorporated        │ § 275.0-2_P1 │ [\"(b)(2)\"]      │\n",
       "│ has                    │ § 275.0-2_P1 │ [\"(b)(3)\"]      │\n",
       "│ will indicate          │ § 275.0-5_P1 │ [\"(a)\"]         │\n",
       "│ will be issued         │ § 275.0-5_P1 │ [\"(b)\"]         │\n",
       "│       ·                │      ·       │    ·            │\n",
       "│       ·                │      ·       │    ·            │\n",
       "│       ·                │      ·       │    ·            │\n",
       "│ is not controlled by   │ § 275.0-7_P1 │ [\"(a)(3)\"]      │\n",
       "│ to direct              │ § 275.0-7_P1 │ [\"(b)(1)\"]      │\n",
       "│ is presumed to control │ § 275.0-7_P1 │ [\"(b)(1)(iii)\"] │\n",
       "│ serve                  │ § 275.0-2_P1 │ [\"(a)\"]         │\n",
       "│ by furnishing          │ § 275.0-2_P1 │ [\"(a)(1)\"]      │\n",
       "│ will be published      │ § 275.0-5_P1 │ [\"(a)\"]         │\n",
       "│ will order             │ § 275.0-5_P1 │ [\"(c)\"]         │\n",
       "│ shall mean             │ § 275.0-7_P1 │ [\"(a)\"]         │\n",
       "│ deem                   │ § 275.0-7_P1 │ [\"(a)\"]         │\n",
       "│ has contributed        │ § 275.0-7_P1 │ [\"(b)(1)(ii)\"]  │\n",
       "├────────────────────────┴──────────────┴─────────────────┤\n",
       "│ 61 rows (20 shown)                            3 columns │\n",
       "└─────────────────────────────────────────────────────────┘"
      ]
     },
     "execution_count": 42,
     "metadata": {},
     "output_type": "execute_result"
    }
   ],
   "source": [
    "query = \"\"\"\n",
    "SELECT DISTINCT\n",
    "    verb,\n",
    "    doc_id,\n",
    "    source\n",
    "FROM (\n",
    "    SELECT\n",
    "        UNNEST(CAST(json_extract(elements, '$.verb_symbols') AS VARCHAR[])) AS verb,\n",
    "        id AS doc_id,\n",
    "        CAST(json_extract(elements, '$.sources') AS VARCHAR) AS source\n",
    "    FROM\n",
    "        EXTRACTED_ELEMENTS_TRUE\n",
    ") AS distinct_combinations;\n",
    "\"\"\"\n",
    "\n",
    "true_values=conn.sql(query).fetchall()\n",
    "\n",
    "conn.sql(query)\n",
    "\n"
   ]
  },
  {
   "cell_type": "markdown",
   "metadata": {},
   "source": [
    "## Predict tables (P1)"
   ]
  },
  {
   "cell_type": "code",
   "execution_count": 51,
   "metadata": {},
   "outputs": [
    {
     "name": "stdout",
     "output_type": "stream",
     "text": [
      "cfr2sbvr_db/extraction/documents-2024-11-29-4.json\n",
      "§ 275.0-2_P1|llm_response\n",
      "§ 275.0-5_P1|llm_response\n",
      "§ 275.0-7_P1|llm_response\n",
      "_query_drop_table='\\n        DROP TABLE EXTRACTED_ELEMENTS;\\n        '\n",
      "Trying to drop table because drop parameter is True\n",
      "Table EXTRACTED_ELEMENTS dropped\n",
      "_query_insert_data='\\n    INSERT INTO EXTRACTED_ELEMENTS (id, prompt, file_source, elements, created_at)\\n    SELECT \\n        id, \\n        \\'extract_p1\\' as prompt, \\n        \\'documents-2024-11-29-4.json\\' as file_source, \\n        unnest(content.elements) as elements,\\n        now() as created_at\\n    FROM \\n        read_json_auto(\"temp/documents-2024-11-29-4.json\");\\n    '\n",
      "Trying to insert into EXTRACTED_ELEMENTS\n",
      "Catalog Error: Table with name EXTRACTED_ELEMENTS does not exist!\n",
      "Did you mean \"database.EXTRACTED_ELEMENTS\"?\n",
      "Failed to insert, trying create EXTRACTED_ELEMENTS\n",
      "_query_create_table='\\n        CREATE TABLE EXTRACTED_ELEMENTS AS\\n        SELECT id, \\n        \\'extract_p1\\' as prompt, \\n        \\'documents-2024-11-29-4.json\\' as file_source, \\n        unnest(content.elements) as elements,\\n        now() as \\'created_at\\'\\n        FROM read_json_auto(\"temp/documents-2024-11-29-4.json\");\\n        '\n",
      "Table EXTRACTED_ELEMENTS created and loaded.\n",
      "cfr2sbvr_db/extraction/documents-2024-12-02-5.json\n",
      "§ 275.0-2_P1|llm_response\n",
      "§ 275.0-5_P1|llm_response\n",
      "§ 275.0-7_P1|llm_response\n",
      "_query_insert_data='\\n    INSERT INTO EXTRACTED_ELEMENTS (id, prompt, file_source, elements, created_at)\\n    SELECT \\n        id, \\n        \\'extract_p1\\' as prompt, \\n        \\'documents-2024-12-02-5.json\\' as file_source, \\n        unnest(content.elements) as elements,\\n        now() as created_at\\n    FROM \\n        read_json_auto(\"temp/documents-2024-12-02-5.json\");\\n    '\n",
      "Trying to insert into EXTRACTED_ELEMENTS\n",
      "Data inserted into EXTRACTED_ELEMENTS.\n",
      "cfr2sbvr_db/extraction/documents-2024-12-02-9.json\n",
      "§ 275.0-2_P1|llm_response\n",
      "§ 275.0-5_P1|llm_response\n",
      "§ 275.0-7_P1|llm_response\n",
      "_query_insert_data='\\n    INSERT INTO EXTRACTED_ELEMENTS (id, prompt, file_source, elements, created_at)\\n    SELECT \\n        id, \\n        \\'extract_p1\\' as prompt, \\n        \\'documents-2024-12-02-9.json\\' as file_source, \\n        unnest(content.elements) as elements,\\n        now() as created_at\\n    FROM \\n        read_json_auto(\"temp/documents-2024-12-02-9.json\");\\n    '\n",
      "Trying to insert into EXTRACTED_ELEMENTS\n",
      "Data inserted into EXTRACTED_ELEMENTS.\n",
      "cfr2sbvr_db/extraction/documents-2024-12-02-8.json\n",
      "§ 275.0-2_P1|llm_response\n",
      "§ 275.0-5_P1|llm_response\n",
      "§ 275.0-7_P1|llm_response\n",
      "_query_insert_data='\\n    INSERT INTO EXTRACTED_ELEMENTS (id, prompt, file_source, elements, created_at)\\n    SELECT \\n        id, \\n        \\'extract_p1\\' as prompt, \\n        \\'documents-2024-12-02-8.json\\' as file_source, \\n        unnest(content.elements) as elements,\\n        now() as created_at\\n    FROM \\n        read_json_auto(\"temp/documents-2024-12-02-8.json\");\\n    '\n",
      "Trying to insert into EXTRACTED_ELEMENTS\n",
      "Data inserted into EXTRACTED_ELEMENTS.\n",
      "cfr2sbvr_db/extraction/documents-2024-11-30-1.json\n",
      "§ 275.0-2_P1|llm_response\n",
      "§ 275.0-5_P1|llm_response\n",
      "§ 275.0-7_P1|llm_response\n",
      "_query_insert_data='\\n    INSERT INTO EXTRACTED_ELEMENTS (id, prompt, file_source, elements, created_at)\\n    SELECT \\n        id, \\n        \\'extract_p1\\' as prompt, \\n        \\'documents-2024-11-30-1.json\\' as file_source, \\n        unnest(content.elements) as elements,\\n        now() as created_at\\n    FROM \\n        read_json_auto(\"temp/documents-2024-11-30-1.json\");\\n    '\n",
      "Trying to insert into EXTRACTED_ELEMENTS\n",
      "Data inserted into EXTRACTED_ELEMENTS.\n",
      "cfr2sbvr_db/extraction/documents-2024-12-02-4.json\n",
      "§ 275.0-2_P1|llm_response\n",
      "§ 275.0-5_P1|llm_response\n",
      "§ 275.0-7_P1|llm_response\n",
      "_query_insert_data='\\n    INSERT INTO EXTRACTED_ELEMENTS (id, prompt, file_source, elements, created_at)\\n    SELECT \\n        id, \\n        \\'extract_p1\\' as prompt, \\n        \\'documents-2024-12-02-4.json\\' as file_source, \\n        unnest(content.elements) as elements,\\n        now() as created_at\\n    FROM \\n        read_json_auto(\"temp/documents-2024-12-02-4.json\");\\n    '\n",
      "Trying to insert into EXTRACTED_ELEMENTS\n",
      "Data inserted into EXTRACTED_ELEMENTS.\n",
      "cfr2sbvr_db/extraction/documents-2024-11-30-2.json\n",
      "§ 275.0-2_P1|llm_response\n",
      "§ 275.0-5_P1|llm_response\n",
      "§ 275.0-7_P1|llm_response\n",
      "_query_insert_data='\\n    INSERT INTO EXTRACTED_ELEMENTS (id, prompt, file_source, elements, created_at)\\n    SELECT \\n        id, \\n        \\'extract_p1\\' as prompt, \\n        \\'documents-2024-11-30-2.json\\' as file_source, \\n        unnest(content.elements) as elements,\\n        now() as created_at\\n    FROM \\n        read_json_auto(\"temp/documents-2024-11-30-2.json\");\\n    '\n",
      "Trying to insert into EXTRACTED_ELEMENTS\n",
      "Data inserted into EXTRACTED_ELEMENTS.\n",
      "cfr2sbvr_db/extraction/documents-2024-12-02-6.json\n",
      "§ 275.0-2_P1|llm_response\n",
      "§ 275.0-5_P1|llm_response\n",
      "§ 275.0-7_P1|llm_response\n",
      "_query_insert_data='\\n    INSERT INTO EXTRACTED_ELEMENTS (id, prompt, file_source, elements, created_at)\\n    SELECT \\n        id, \\n        \\'extract_p1\\' as prompt, \\n        \\'documents-2024-12-02-6.json\\' as file_source, \\n        unnest(content.elements) as elements,\\n        now() as created_at\\n    FROM \\n        read_json_auto(\"temp/documents-2024-12-02-6.json\");\\n    '\n",
      "Trying to insert into EXTRACTED_ELEMENTS\n",
      "Data inserted into EXTRACTED_ELEMENTS.\n",
      "cfr2sbvr_db/extraction/documents-2024-12-02-1.json\n",
      "§ 275.0-2_P1|llm_response\n",
      "§ 275.0-5_P1|llm_response\n",
      "§ 275.0-7_P1|llm_response\n",
      "_query_insert_data='\\n    INSERT INTO EXTRACTED_ELEMENTS (id, prompt, file_source, elements, created_at)\\n    SELECT \\n        id, \\n        \\'extract_p1\\' as prompt, \\n        \\'documents-2024-12-02-1.json\\' as file_source, \\n        unnest(content.elements) as elements,\\n        now() as created_at\\n    FROM \\n        read_json_auto(\"temp/documents-2024-12-02-1.json\");\\n    '\n",
      "Trying to insert into EXTRACTED_ELEMENTS\n",
      "Data inserted into EXTRACTED_ELEMENTS.\n"
     ]
    }
   ],
   "source": [
    "# Define the directory and pattern\n",
    "directory = Path(\"cfr2sbvr_db/extraction\")\n",
    "pattern = \"documents-*.json\"\n",
    "\n",
    "# Use glob to find all files matching the pattern\n",
    "files = directory.glob(pattern)\n",
    "\n",
    "drop=True # Drop the table first time\n",
    "for file_path in files:\n",
    "    print(file_path)  # Output each file path\n",
    "    upsert_table_from_json(\n",
    "        conn,\n",
    "        suffix_key_pattern=\"_P1|llm_response\",\n",
    "        prefix_key_pattern=\"§\",\n",
    "        table_name=\"EXTRACTED_ELEMENTS\",\n",
    "        source=file_path,\n",
    "        key_value=\"extract_p1\",\n",
    "        drop=drop,\n",
    "        content_key=\"content.elements\",\n",
    "        alias=\"elements\",\n",
    "        doc_id_key=\"id\"\n",
    "    )\n",
    "    drop=False # Stop dropping tables"
   ]
  },
  {
   "cell_type": "code",
   "execution_count": 52,
   "metadata": {},
   "outputs": [
    {
     "data": {
      "text/plain": [
       "┌──────────────┬────────────┬─────────────────────────────┬─────────────────────────────────────────────────────────────────────────────────────────────────────────────────────────────────────────────────────────────────────────────────────────────────────────────────────────────────────────────────────────────────────────────────────────────────────────────────────────────────────────────────────────────────────────────────────────────────────────────────────────────────────────────────────────────────────────────────────────────────────────────────────────────────────────────────────────────────────────────────────────────────────────────────────────────────────────────────────────────────────────────────────────────────────────────────────────────────────────────────────────────────────────────────────────────────────────────────────────────────────────────────────────────────────────────────────────────────────────────────────────────────────────────────────────────────────────────────────────────────────────────────────────────────────────────────────────────────────────────────────────────────────────────────────────────────────────────────────────────────────────────────────────────────────────────────────────────────────────────────────────────────────────────────────────────────────────────────────────────────────────────────────────────────────────────────────────────────────────────────────────────────────────────────────────────────────────────────────────────────────────────────────────────────────────────────────────────────────────────────────────────────────────────────────────────────────────────────────────────────────────────────────────────────────────────────────────────────────────────────────────────────────────────────────────────────────────────────────────────────────────────────────────────────────────────────────────────────────────────────────────────────────────────────────────────────────────────────────────────────────────────────────────────────────────────────────────────────────────────────────────────────────────────────────────────────────────────────────────────────────────────────────────────────────────────────────────────────────────────────────────────────────────────────────────────────────────────────────────────────────────────────────────────────────────────────────────────────────────────────────────────────────────────────────────────────────────────────────────────────────────────────────────────────────────────────────────────────────────────────────────────────────────────────────────────────────────────────────────────────────────────────────────────────────────────────────────────────────────────────────────────────────────────────────────────────────────────────────────────────────────────────────────────────────────────────────────────────────────────────────────────────────────────────────────────────────────────────────────────────────────────────────────────────────────────────────────────────────────────────────────────────────────────────────────────────────────────────────────────────────────────────────────────────────────────────────────────────────────────────────────────────────────────────────────┬────────────────────────────┐\n",
       "│      id      │   prompt   │         file_source         │                                                                                                                                                                                                                                                                                                                                                                                                                                                                                                                                                                                                                                                                                                                                                                                                                                                                                                                                                                                                                                                                                                                                                                                                                                                                                                                                                                                                                                                                                                                                                                                                                                        elements                                                                                                                                                                                                                                                                                                                                                                                                                                                                                                                                                                                                                                                                                                                                                                                                                                                                                                                                                                                                                                                                                                                                                                                                                                                                                                                                                                                                                                                                                                                                                                                                                                         │         created_at         │\n",
       "│   varchar    │  varchar   │           varchar           │                                                                                                                                                                                                                                                                                                                                                                                                                                                                                                                                                                                                                                                                                                                                                                                                                                                                                                                                                                                                                                                                                                                                                                                                                                                                                                                                                                                                                                            struct(id bigint, title varchar, \"statement\" varchar, terms struct(term varchar, classification varchar, confidence double, reason varchar, extracted_confidence double, extracted_reason varchar)[], verb_symbols varchar[], verb_symbols_extracted_confidence double[], verb_symbols_extracted_reason varchar[], classification varchar, confidence double, reason varchar, sources varchar[])                                                                                                                                                                                                                                                                                                                                                                                                                                                                                                                                                                                                                                                                                                                                                                                                                                                                                                                                                                                                                                                                                                                                                                                                                                                                                                                                                                                                                                             │  timestamp with time zone  │\n",
       "├──────────────┼────────────┼─────────────────────────────┼─────────────────────────────────────────────────────────────────────────────────────────────────────────────────────────────────────────────────────────────────────────────────────────────────────────────────────────────────────────────────────────────────────────────────────────────────────────────────────────────────────────────────────────────────────────────────────────────────────────────────────────────────────────────────────────────────────────────────────────────────────────────────────────────────────────────────────────────────────────────────────────────────────────────────────────────────────────────────────────────────────────────────────────────────────────────────────────────────────────────────────────────────────────────────────────────────────────────────────────────────────────────────────────────────────────────────────────────────────────────────────────────────────────────────────────────────────────────────────────────────────────────────────────────────────────────────────────────────────────────────────────────────────────────────────────────────────────────────────────────────────────────────────────────────────────────────────────────────────────────────────────────────────────────────────────────────────────────────────────────────────────────────────────────────────────────────────────────────────────────────────────────────────────────────────────────────────────────────────────────────────────────────────────────────────────────────────────────────────────────────────────────────────────────────────────────────────────────────────────────────────────────────────────────────────────────────────────────────────────────────────────────────────────────────────────────────────────────────────────────────────────────────────────────────────────────────────────────────────────────────────────────────────────────────────────────────────────────────────────────────────────────────────────────────────────────────────────────────────────────────────────────────────────────────────────────────────────────────────────────────────────────────────────────────────────────────────────────────────────────────────────────────────────────────────────────────────────────────────────────────────────────────────────────────────────────────────────────────────────────────────────────────────────────────────────────────────────────────────────────────────────────────────────────────────────────────────────────────────────────────────────────────────────────────────────────────────────────────────────────────────────────────────────────────────────────────────────────────────────────────────────────────────────────────────────────────────────────────────────────────────────────────────────────────────────────────────────────────────────────────────────────────────────────────────────────────────────────────────────────────────────────────────────────────────────────────────────────────────────────────────────────────────────────────────────────────────────────────────────────────────────────────────────────────────────────────────────────────────────────────────────────────────────────────────────┼────────────────────────────┤\n",
       "│ § 275.0-2_P1 │ extract_p1 │ documents-2024-11-29-4.json │ {'id': 1, 'title': Service of process on non-resident entities, 'statement': A person may serve process, pleadings, or other papers on a non-resident investment adviser, or on a non-resident general partner or non-resident managing agent of an investment adviser by serving any or all of its appointed agents., 'terms': [{'term': Person, 'classification': Common Noun, 'confidence': 0.9, 'reason': The term is a general reference to an individual or entity., 'extracted_confidence': 0.9, 'extracted_reason': The term is explicitly mentioned as the subject performing the action.}, {'term': Non-resident investment adviser, 'classification': Common Noun, 'confidence': 0.9, 'reason': The term refers to a specific type of entity involved in the process., 'extracted_confidence': 0.9, 'extracted_reason': The term is explicitly mentioned as the recipient of the action.}, {'term': Non-resident general partner, 'classification': Common Noun, 'confidence': 0.9, 'reason': The term refers to a specific type of entity involved in the process., 'extracted_confidence': 0.9, 'extracted_reason': The term is explicitly mentioned as the recipient of the action.}, {'term': Non-resident managing agent, 'classification': Common Noun, 'confidence': 0.9, 'reason': The term refers to a specific type of entity involved in the process., 'extracted_confidence': 0.9, 'extracted_reason': The term is explicitly mentioned as the recipient of the action.}, {'term': Appointed agents, 'classification': Common Noun, 'confidence': 0.8, 'reason': The term refers to entities designated to receive service on behalf of others., 'extracted_confidence': 0.8, 'extracted_reason': The term is implied as the means through which service is effected.}], 'verb_symbols': [serve, by serving], 'verb_symbols_extracted_confidence': [0.9, 0.8], 'verb_symbols_extracted_reason': [The verb is explicitly mentioned as the action performed., The verb phrase indicates the method of performing the action.], 'classification': Fact Type, 'confidence': 0.9, 'reason': The statement describes a general procedure applicable to various entities., 'sources': [(a)]}                                                                                                                                                                                                                                                                                                                                                                                                                                                                                                                                                                                                                                                                                                                                                                                                                                                                                                                                                                                                                                                                            │ 2024-12-12 17:41:18.894-03 │\n",
       "│ § 275.0-2_P1 │ extract_p1 │ documents-2024-11-29-4.json │ {'id': 2, 'title': Furnishing documents to the Commission, 'statement': A person may serve a non-resident investment adviser, non-resident general partner, or non-resident managing agent by furnishing the Commission with one copy of the process, pleadings, or papers, for each named party, and one additional copy for the Commission's records., 'terms': [{'term': Person, 'classification': Common Noun, 'confidence': 0.9, 'reason': The term is a general reference to an individual or entity., 'extracted_confidence': 0.9, 'extracted_reason': The term is explicitly mentioned as the subject performing the action.}, {'term': Non-resident investment adviser, 'classification': Common Noun, 'confidence': 0.9, 'reason': The term refers to a specific type of entity involved in the process., 'extracted_confidence': 0.9, 'extracted_reason': The term is explicitly mentioned as the recipient of the action.}, {'term': Non-resident general partner, 'classification': Common Noun, 'confidence': 0.9, 'reason': The term refers to a specific type of entity involved in the process., 'extracted_confidence': 0.9, 'extracted_reason': The term is explicitly mentioned as the recipient of the action.}, {'term': Non-resident managing agent, 'classification': Common Noun, 'confidence': 0.9, 'reason': The term refers to a specific type of entity involved in the process., 'extracted_confidence': 0.9, 'extracted_reason': The term is explicitly mentioned as the recipient of the action.}, {'term': Commission, 'classification': Proper Noun, 'confidence': 0.9, 'reason': The term refers to a specific governmental body involved in the process., 'extracted_confidence': 0.9, 'extracted_reason': The term is explicitly mentioned as the entity receiving the documents.}], 'verb_symbols': [serve, by furnishing, with], 'verb_symbols_extracted_confidence': [0.9, 0.8, 0.7], 'verb_symbols_extracted_reason': [The verb is explicitly mentioned as the action performed., The verb phrase indicates the method of performing the action., The preposition indicates the relationship between the action and the recipient.], 'classification': Fact Type, 'confidence': 0.9, 'reason': The statement describes a general procedure applicable to various entities., 'sources': [(a)(1)]}                                                                                                                                                                                                                                                                                                                                                                                                                                                                                                                                                                                                                                                                                                                                                                                                                                                                                                                                               │ 2024-12-12 17:41:18.894-03 │\n",
       "│ § 275.0-2_P1 │ extract_p1 │ documents-2024-11-29-4.json │ {'id': 3, 'title': Forwarding documents by the Secretary, 'statement': The Secretary of the Commission (Secretary) will promptly forward a copy to each named party by registered or certified mail at that party's last address filed with the Commission., 'terms': [{'term': Secretary of the Commission, 'classification': Proper Noun, 'confidence': 0.9, 'reason': The term refers to a specific role within the Commission., 'extracted_confidence': 0.9, 'extracted_reason': The term is explicitly mentioned as the subject performing the action.}, {'term': Named party, 'classification': Common Noun, 'confidence': 0.8, 'reason': The term refers to the recipient of the documents., 'extracted_confidence': 0.8, 'extracted_reason': The term is implied as the recipient of the action.}, {'term': Registered mail, 'classification': Common Noun, 'confidence': 0.8, 'reason': The term refers to a method of sending documents., 'extracted_confidence': 0.8, 'extracted_reason': The term is explicitly mentioned as the method of forwarding.}, {'term': Certified mail, 'classification': Common Noun, 'confidence': 0.8, 'reason': The term refers to a method of sending documents., 'extracted_confidence': 0.8, 'extracted_reason': The term is explicitly mentioned as the method of forwarding.}, {'term': Commission, 'classification': Proper Noun, 'confidence': 0.9, 'reason': The term refers to a specific governmental body involved in the process., 'extracted_confidence': 0.9, 'extracted_reason': The term is explicitly mentioned as the entity associated with the address.}], 'verb_symbols': [will forward, by, at], 'verb_symbols_extracted_confidence': [0.9, 0.8, 0.7], 'verb_symbols_extracted_reason': [The verb phrase is explicitly mentioned as the action performed., The preposition indicates the method of performing the action., The preposition indicates the location associated with the action.], 'classification': Operative Rule, 'confidence': 0.9, 'reason': The statement prescribes a specific action that must be taken by the Secretary., 'sources': [(a)(2)]}                                                                                                                                                                                                                                                                                                                                                                                                                                                                                                                                                                                                                                                                                                                                                                                                                                                                                                                                                                                                                                                                                                                                                    │ 2024-12-12 17:41:18.894-03 │\n",
       "│ § 275.0-2_P1 │ extract_p1 │ documents-2024-11-29-4.json │ {'id': 4, 'title': Certification of service by the Secretary, 'statement': If the Secretary certifies that the Commission was served with process, pleadings, or other papers pursuant to paragraph (a)(1) of this section and forwarded these documents to a named party pursuant to paragraph (a)(2) of this section, this certification constitutes evidence of service upon that party., 'terms': [{'term': Secretary, 'classification': Proper Noun, 'confidence': 0.9, 'reason': The term refers to a specific role within the Commission., 'extracted_confidence': 0.9, 'extracted_reason': The term is explicitly mentioned as the subject performing the action.}, {'term': Commission, 'classification': Proper Noun, 'confidence': 0.9, 'reason': The term refers to a specific governmental body involved in the process., 'extracted_confidence': 0.9, 'extracted_reason': The term is explicitly mentioned as the entity receiving the documents.}, {'term': Named party, 'classification': Common Noun, 'confidence': 0.8, 'reason': The term refers to the recipient of the documents., 'extracted_confidence': 0.8, 'extracted_reason': The term is implied as the recipient of the action.}, {'term': Certification, 'classification': Common Noun, 'confidence': 0.8, 'reason': The term refers to the act of certifying the service of documents., 'extracted_confidence': 0.8, 'extracted_reason': The term is explicitly mentioned as the result of the action.}], 'verb_symbols': [certifies, was served, forwarded, constitutes], 'verb_symbols_extracted_confidence': [0.9, 0.8, 0.8, 0.7], 'verb_symbols_extracted_reason': [The verb is explicitly mentioned as the action performed., The verb phrase indicates the action received by the Commission., The verb indicates the action performed by the Secretary., The verb indicates the result of the certification.], 'classification': Operative Rule, 'confidence': 0.9, 'reason': The statement prescribes a specific condition under which certification constitutes evidence of service., 'sources': [(a)(3)]}                                                                                                                                                                                                                                                                                                                                                                                                                                                                                                                                                                                                                                                                                                                                                                                                                                                                                                                                                                                                                                                                                                                                                                                      │ 2024-12-12 17:41:18.894-03 │\n",
       "│ § 275.0-2_P1 │ extract_p1 │ documents-2024-11-29-4.json │ {'id': 5, 'title': Definition of Managing agent, 'statement': Managing agent means any person, including a trustee, who directs or manages, or who participates in directing or managing, the affairs of any unincorporated organization or association other than a partnership., 'terms': [{'term': Managing agent, 'classification': Common Noun, 'confidence': 0.9, 'reason': The term is defined within the context of the document., 'extracted_confidence': 0.9, 'extracted_reason': The term is explicitly mentioned as the subject of the definition.}, {'term': Person, 'classification': Common Noun, 'confidence': 0.9, 'reason': The term is a general reference to an individual or entity., 'extracted_confidence': 0.9, 'extracted_reason': The term is explicitly mentioned as part of the definition.}, {'term': Trustee, 'classification': Common Noun, 'confidence': 0.8, 'reason': The term refers to a specific role within the definition., 'extracted_confidence': 0.8, 'extracted_reason': The term is explicitly mentioned as part of the definition.}, {'term': Unincorporated organization, 'classification': Common Noun, 'confidence': 0.8, 'reason': The term refers to a type of entity managed by the managing agent., 'extracted_confidence': 0.8, 'extracted_reason': The term is explicitly mentioned as part of the definition.}, {'term': Association, 'classification': Common Noun, 'confidence': 0.8, 'reason': The term refers to a type of entity managed by the managing agent., 'extracted_confidence': 0.8, 'extracted_reason': The term is explicitly mentioned as part of the definition.}, {'term': Partnership, 'classification': Common Noun, 'confidence': 0.8, 'reason': The term refers to a type of entity excluded from the definition., 'extracted_confidence': 0.8, 'extracted_reason': The term is explicitly mentioned as part of the definition.}], 'verb_symbols': [means, directs, manages, participates], 'verb_symbols_extracted_confidence': [0.9, 0.8, 0.8, 0.7], 'verb_symbols_extracted_reason': [The verb is explicitly mentioned as the definition., The verb indicates the action performed by the managing agent., The verb indicates the action performed by the managing agent., The verb indicates the action performed by the managing agent.], 'classification': Fact Type, 'confidence': 0.9, 'reason': The statement provides a definition applicable to various entities., 'sources': [(b)(1)]}                                                                                                                                                                                                                                                                                                                                                                                                                                                                                                                                                                                                                                                                                                                                                                                                        │ 2024-12-12 17:41:18.894-03 │\n",
       "│ § 275.0-2_P1 │ extract_p1 │ documents-2024-11-29-4.json │ {'id': 6, 'title': Definition of Non-resident, 'statement': Non-resident means an individual who resides in any place not subject to the jurisdiction of the United States; a corporation that is incorporated in or that has its principal office and place of business in any place not subject to the jurisdiction of the United States; and a partnership or other unincorporated organization or association that has its principal office and place of business in any place not subject to the jurisdiction of the United States., 'terms': [{'term': Non-resident, 'classification': Common Noun, 'confidence': 0.9, 'reason': The term is defined within the context of the document., 'extracted_confidence': 0.9, 'extracted_reason': The term is explicitly mentioned as the subject of the definition.}, {'term': Individual, 'classification': Common Noun, 'confidence': 0.9, 'reason': The term refers to a type of entity defined as non-resident., 'extracted_confidence': 0.9, 'extracted_reason': The term is explicitly mentioned as part of the definition.}, {'term': Corporation, 'classification': Common Noun, 'confidence': 0.9, 'reason': The term refers to a type of entity defined as non-resident., 'extracted_confidence': 0.9, 'extracted_reason': The term is explicitly mentioned as part of the definition.}, {'term': Principal office, 'classification': Common Noun, 'confidence': 0.8, 'reason': The term refers to a location criterion for defining non-resident entities., 'extracted_confidence': 0.8, 'extracted_reason': The term is explicitly mentioned as part of the definition.}, {'term': Place of business, 'classification': Common Noun, 'confidence': 0.8, 'reason': The term refers to a location criterion for defining non-resident entities., 'extracted_confidence': 0.8, 'extracted_reason': The term is explicitly mentioned as part of the definition.}, {'term': Partnership, 'classification': Common Noun, 'confidence': 0.8, 'reason': The term refers to a type of entity defined as non-resident., 'extracted_confidence': 0.8, 'extracted_reason': The term is explicitly mentioned as part of the definition.}, {'term': Unincorporated organization, 'classification': Common Noun, 'confidence': 0.8, 'reason': The term refers to a type of entity defined as non-resident., 'extracted_confidence': 0.8, 'extracted_reason': The term is explicitly mentioned as part of the definition.}, {'term': Association, 'classification': Common Noun, 'confidence': 0.8, 'reason': The term refers to a type of entity defined as non-resident., 'extracted_confidence': 0.8, 'extracted_reason': The term is explicitly mentioned as part of the definition.}], 'verb_symbols': [means, resides, is incorporated, has], 'verb_symbols_extracted_confidence': [0.9, 0.8, 0.8, 0.7], 'verb_symbols_extracted_reason': [The verb is explicitly mentioned as the definition., The verb indicates the condition of being a non-resident., The verb indicates the condition of being a non-resident., The verb indicates the condition of being a non-resident.], 'classification': Fact Type, 'confidence': 0.9, 'reason': The statement provides a definition applicable to various entities., 'sources': [(b)(2)]} │ 2024-12-12 17:41:18.894-03 │\n",
       "│ § 275.0-2_P1 │ extract_p1 │ documents-2024-11-29-4.json │ {'id': 7, 'title': Definition of Principal office and place of business, 'statement': Principal office and place of business has the same meaning as in § 275.203A-3(c) of this chapter., 'terms': [{'term': Principal office, 'classification': Common Noun, 'confidence': 0.9, 'reason': The term is defined within the context of the document., 'extracted_confidence': 0.9, 'extracted_reason': The term is explicitly mentioned as the subject of the definition.}, {'term': Place of business, 'classification': Common Noun, 'confidence': 0.9, 'reason': The term is defined within the context of the document., 'extracted_confidence': 0.9, 'extracted_reason': The term is explicitly mentioned as the subject of the definition.}], 'verb_symbols': [has], 'verb_symbols_extracted_confidence': [0.9], 'verb_symbols_extracted_reason': [The verb is explicitly mentioned as the definition.], 'classification': Fact Type, 'confidence': 0.9, 'reason': The statement provides a definition applicable to various entities., 'sources': [(b)(3)]}                                                                                                                                                                                                                                                                                                                                                                                                                                                                                                                                                                                                                                                                                                                                                                                                                                                                                                                                                                                                                                                                                                                                                                                                                                                                                                                                                                                                                                                                                                                                                                                                                                                                                                                                                                                                                                                                                                                                                                                                                                                                                                                                                                                                                        │ 2024-12-12 17:41:18.894-03 │\n",
       "│ § 275.0-5_P1 │ extract_p1 │ documents-2024-11-29-4.json │ {'id': 1, 'title': Notice of proceeding initiation, 'statement': Notice of the initiation of the proceeding will be published in the Federal Register and will indicate the earliest date upon which an order disposing of the matter may be entered., 'terms': [{'term': Notice, 'classification': Common Noun, 'confidence': 0.9, 'reason': The term is a general concept related to communication., 'extracted_confidence': 0.9, 'extracted_reason': The term is explicitly mentioned as a key part of the procedure.}, {'term': Initiation of the proceeding, 'classification': Common Noun, 'confidence': 0.8, 'reason': The term describes a process or event., 'extracted_confidence': 0.8, 'extracted_reason': The term is central to the statement's context.}, {'term': Federal Register, 'classification': Proper Noun, 'confidence': 0.95, 'reason': The term is a specific publication., 'extracted_confidence': 0.95, 'extracted_reason': The term is explicitly named as the publication medium.}, {'term': Order, 'classification': Common Noun, 'confidence': 0.85, 'reason': The term refers to a formal decision or directive., 'extracted_confidence': 0.85, 'extracted_reason': The term is a key outcome of the proceeding.}, {'term': Matter, 'classification': Common Noun, 'confidence': 0.8, 'reason': The term refers to the subject or issue at hand., 'extracted_confidence': 0.8, 'extracted_reason': The term is used to describe what the order will address.}], 'verb_symbols': [will be published, will indicate], 'verb_symbols_extracted_confidence': [0.9, 0.9], 'verb_symbols_extracted_reason': [The verb phrase describes the action of publishing the notice., The verb phrase describes the action of indicating the date.], 'classification': Operative Rule, 'confidence': 0.9, 'reason': The statement prescribes a mandatory procedure for publishing notice and indicating dates., 'sources': [(a)]}                                                                                                                                                                                                                                                                                                                                                                                                                                                                                                                                                                                                                                                                                                                                                                                                                                                                                                                                                                                                                                                                                                                                                                                                                                                                                                                                     │ 2024-12-12 17:41:18.894-03 │\n",
       "│ § 275.0-5_P1 │ extract_p1 │ documents-2024-11-29-4.json │ {'id': 2, 'title': Submission of facts and hearing request, 'statement': Any interested person may, within the period of time specified therein, submit to the Commission in writing any facts bearing upon the desirability of a hearing on the matter and may request that a hearing be held, stating his reasons therefor and the nature of his interest in the matter., 'terms': [{'term': Interested person, 'classification': Common Noun, 'confidence': 0.9, 'reason': The term refers to any individual or entity with a stake in the proceeding., 'extracted_confidence': 0.9, 'extracted_reason': The term is explicitly mentioned as a participant in the process.}, {'term': Period of time, 'classification': Common Noun, 'confidence': 0.85, 'reason': The term refers to a duration within which actions must be taken., 'extracted_confidence': 0.85, 'extracted_reason': The term is used to specify the timeframe for submissions.}, {'term': Commission, 'classification': Proper Noun, 'confidence': 0.95, 'reason': The term refers to a specific regulatory body., 'extracted_confidence': 0.95, 'extracted_reason': The term is explicitly named as the recipient of submissions.}, {'term': Facts, 'classification': Common Noun, 'confidence': 0.8, 'reason': The term refers to information relevant to the proceeding., 'extracted_confidence': 0.8, 'extracted_reason': The term is central to the submission process.}, {'term': Hearing, 'classification': Common Noun, 'confidence': 0.85, 'reason': The term refers to a formal meeting or session., 'extracted_confidence': 0.85, 'extracted_reason': The term is a key part of the request process.}, {'term': Matter, 'classification': Common Noun, 'confidence': 0.8, 'reason': The term refers to the subject or issue at hand., 'extracted_confidence': 0.8, 'extracted_reason': The term is used to describe what the hearing will address.}, {'term': Reasons, 'classification': Common Noun, 'confidence': 0.8, 'reason': The term refers to justifications or explanations., 'extracted_confidence': 0.8, 'extracted_reason': The term is part of the requirement for requesting a hearing.}, {'term': Nature of interest, 'classification': Common Noun, 'confidence': 0.8, 'reason': The term describes the type or extent of interest in the matter., 'extracted_confidence': 0.8, 'extracted_reason': The term is required to be stated in the request.}], 'verb_symbols': [may submit, may request, stating], 'verb_symbols_extracted_confidence': [0.9, 0.9, 0.85], 'verb_symbols_extracted_reason': [The verb phrase describes the action of submitting facts., The verb phrase describes the action of requesting a hearing., The verb describes the action of providing reasons.], 'classification': Operative Rule, 'confidence': 0.9, 'reason': The statement outlines the rights and procedures for interested persons to submit facts and request a hearing., 'sources': [(a)]}                                                                                                                                                                                                                                                                                                │ 2024-12-12 17:41:18.894-03 │\n",
       "│ § 275.0-5_P1 │ extract_p1 │ documents-2024-11-29-4.json │ {'id': 3, 'title': Issuance of order disposing of the matter, 'statement': An order disposing of the matter will be issued as of course following the expiration of the period of time referred to in paragraph (a) of this section, unless the Commission thereafter orders a hearing on the matter., 'terms': [{'term': Order, 'classification': Common Noun, 'confidence': 0.85, 'reason': The term refers to a formal decision or directive., 'extracted_confidence': 0.85, 'extracted_reason': The term is a key outcome of the proceeding.}, {'term': Matter, 'classification': Common Noun, 'confidence': 0.8, 'reason': The term refers to the subject or issue at hand., 'extracted_confidence': 0.8, 'extracted_reason': The term is used to describe what the order will address.}, {'term': Period of time, 'classification': Common Noun, 'confidence': 0.85, 'reason': The term refers to a duration within which actions must be taken., 'extracted_confidence': 0.85, 'extracted_reason': The term is used to specify the timeframe for issuing the order.}, {'term': Commission, 'classification': Proper Noun, 'confidence': 0.95, 'reason': The term refers to a specific regulatory body., 'extracted_confidence': 0.95, 'extracted_reason': The term is explicitly named as the entity that may order a hearing.}, {'term': Hearing, 'classification': Common Noun, 'confidence': 0.85, 'reason': The term refers to a formal meeting or session., 'extracted_confidence': 0.85, 'extracted_reason': The term is a potential outcome if the Commission decides to order it.}], 'verb_symbols': [will be issued, orders], 'verb_symbols_extracted_confidence': [0.9, 0.9], 'verb_symbols_extracted_reason': [The verb phrase describes the action of issuing an order., The verb describes the action of ordering a hearing.], 'classification': Operative Rule, 'confidence': 0.9, 'reason': The statement prescribes the procedure for issuing an order unless a hearing is ordered., 'sources': [(b)]}                                                                                                                                                                                                                                                                                                                                                                                                                                                                                                                                                                                                                                                                                                                                                                                                                                                                                                                                                                                                                                                                                                                                                                                                                                                           │ 2024-12-12 17:41:18.894-03 │\n",
       "│      ·       │     ·      │              ·              │                                                                                                                                                                                                                                                                                                                                                                                                                                                                                                                                                                                                                                                                                                                                                                                                                                                                                                                                                                                                               ·                                                                                                                                                                                                                                                                                                                                                                                                                                                                                                                                                                                                                                                                                                                                                                                                                                                                                                                                                                                                                                                                                                                                                                                                                                                                                                                                                                                                                                                                                                                                                                                                                                                                                                                                                                                                                                                                                                                                                                                                                                                                                                                                                                                                                                                                         │             ·              │\n",
       "│      ·       │     ·      │              ·              │                                                                                                                                                                                                                                                                                                                                                                                                                                                                                                                                                                                                                                                                                                                                                                                                                                                                                                                                                                                                               ·                                                                                                                                                                                                                                                                                                                                                                                                                                                                                                                                                                                                                                                                                                                                                                                                                                                                                                                                                                                                                                                                                                                                                                                                                                                                                                                                                                                                                                                                                                                                                                                                                                                                                                                                                                                                                                                                                                                                                                                                                                                                                                                                                                                                                                                                         │             ·              │\n",
       "│      ·       │     ·      │              ·              │                                                                                                                                                                                                                                                                                                                                                                                                                                                                                                                                                                                                                                                                                                                                                                                                                                                                                                                                                                                                               ·                                                                                                                                                                                                                                                                                                                                                                                                                                                                                                                                                                                                                                                                                                                                                                                                                                                                                                                                                                                                                                                                                                                                                                                                                                                                                                                                                                                                                                                                                                                                                                                                                                                                                                                                                                                                                                                                                                                                                                                                                                                                                                                                                                                                                                                                         │             ·              │\n",
       "│ § 275.0-7_P1 │ extract_p1 │ documents-2024-12-02-1.json │ {'id': 1, 'title': Definition of small business or small organization, 'statement': The term small business or small organization for purposes of the Investment Advisers Act of 1940 shall mean an investment adviser that has assets under management of less than $25 million, or such higher amount as the Commission may by rule deem appropriate., 'terms': [{'term': Small business, 'classification': Common Noun, 'confidence': 0.9, 'reason': The term is a general category defined by specific criteria., 'extracted_confidence': 0.9, 'extracted_reason': The term is explicitly defined in the document.}, {'term': Small organization, 'classification': Common Noun, 'confidence': 0.9, 'reason': The term is a general category defined by specific criteria., 'extracted_confidence': 0.9, 'extracted_reason': The term is explicitly defined in the document.}, {'term': Investment adviser, 'classification': Common Noun, 'confidence': 0.9, 'reason': The term is a specific role within the financial industry., 'extracted_confidence': 0.9, 'extracted_reason': The term is explicitly mentioned in the document.}, {'term': Assets under management, 'classification': Common Noun, 'confidence': 0.9, 'reason': The term is a financial metric used to define the size of an investment adviser., 'extracted_confidence': 0.9, 'extracted_reason': The term is explicitly mentioned in the document.}, {'term': Commission, 'classification': Proper Noun, 'confidence': 0.9, 'reason': The term refers to a specific regulatory body., 'extracted_confidence': 0.9, 'extracted_reason': The term is explicitly mentioned in the document.}], 'verb_symbols': [shall mean, has, deem], 'verb_symbols_extracted_confidence': [0.9, 0.9, 0.9], 'verb_symbols_extracted_reason': [The verb is used to define the term., The verb is used to describe a condition., The verb is used to indicate a decision by the Commission.], 'classification': Fact Type, 'confidence': 0.9, 'reason': The statement provides a general definition applicable to entities meeting certain criteria., 'sources': [(a)]}                                                                                                                                                                                                                                                                                                                                                                                                                                                                                                                                                                                                                                                                                                                                                                                                                                                                                                                                                                                                                                                                                                                                                       │ 2024-12-12 17:41:18.971-03 │\n",
       "│ § 275.0-7_P1 │ extract_p1 │ documents-2024-12-02-1.json │ {'id': 2, 'title': Assets under management criterion, 'statement': An investment adviser has assets under management of less than $25 million, or such higher amount as the Commission may by rule deem appropriate under Section 203A(a)(1)(A) of the Act., 'terms': [{'term': Investment adviser, 'classification': Common Noun, 'confidence': 0.9, 'reason': The term is a specific role within the financial industry., 'extracted_confidence': 0.9, 'extracted_reason': The term is explicitly mentioned in the document.}, {'term': Assets under management, 'classification': Common Noun, 'confidence': 0.9, 'reason': The term is a financial metric used to define the size of an investment adviser., 'extracted_confidence': 0.9, 'extracted_reason': The term is explicitly mentioned in the document.}, {'term': Commission, 'classification': Proper Noun, 'confidence': 0.9, 'reason': The term refers to a specific regulatory body., 'extracted_confidence': 0.9, 'extracted_reason': The term is explicitly mentioned in the document.}], 'verb_symbols': [has, deem], 'verb_symbols_extracted_confidence': [0.9, 0.9], 'verb_symbols_extracted_reason': [The verb is used to describe a condition., The verb is used to indicate a decision by the Commission.], 'classification': Fact Type, 'confidence': 0.9, 'reason': The statement describes a condition that must be met for classification as a small entity., 'sources': [(a)(1)]}                                                                                                                                                                                                                                                                                                                                                                                                                                                                                                                                                                                                                                                                                                                                                                                                                                                                                                                                                                                                                                                                                                                                                                                                                                                                                                                                                                                                                                                                                                                                                                                                                                                                                                                                                                                                                         │ 2024-12-12 17:41:18.971-03 │\n",
       "│ § 275.0-7_P1 │ extract_p1 │ documents-2024-12-02-1.json │ {'id': 3, 'title': Total assets criterion, 'statement': An investment adviser did not have total assets of $5 million or more on the last day of the most recent fiscal year., 'terms': [{'term': Investment adviser, 'classification': Common Noun, 'confidence': 0.9, 'reason': The term is a specific role within the financial industry., 'extracted_confidence': 0.9, 'extracted_reason': The term is explicitly mentioned in the document.}, {'term': Total assets, 'classification': Common Noun, 'confidence': 0.9, 'reason': The term is a financial metric used to define the size of an investment adviser., 'extracted_confidence': 0.9, 'extracted_reason': The term is explicitly mentioned in the document.}, {'term': Fiscal year, 'classification': Common Noun, 'confidence': 0.9, 'reason': The term refers to a specific accounting period., 'extracted_confidence': 0.9, 'extracted_reason': The term is explicitly mentioned in the document.}], 'verb_symbols': [did not have], 'verb_symbols_extracted_confidence': [0.9], 'verb_symbols_extracted_reason': [The verb is used to describe a condition that must not be met.], 'classification': Fact Type, 'confidence': 0.9, 'reason': The statement describes a condition that must be met for classification as a small entity., 'sources': [(a)(2)]}                                                                                                                                                                                                                                                                                                                                                                                                                                                                                                                                                                                                                                                                                                                                                                                                                                                                                                                                                                                                                                                                                                                                                                                                                                                                                                                                                                                                                                                                                                                                                                                                                                                                                                                                                                                                                                                                                                                                                        │ 2024-12-12 17:41:18.971-03 │\n",
       "│ § 275.0-7_P1 │ extract_p1 │ documents-2024-12-02-1.json │ {'id': 4, 'title': Control relationship criterion, 'statement': An investment adviser does not control, is not controlled by, and is not under common control with another investment adviser that has assets under management of $25 million or more., 'terms': [{'term': Investment adviser, 'classification': Common Noun, 'confidence': 0.9, 'reason': The term is a specific role within the financial industry., 'extracted_confidence': 0.9, 'extracted_reason': The term is explicitly mentioned in the document.}, {'term': Control, 'classification': Common Noun, 'confidence': 0.9, 'reason': The term refers to the power to direct management or policies., 'extracted_confidence': 0.9, 'extracted_reason': The term is explicitly defined in the document.}, {'term': Assets under management, 'classification': Common Noun, 'confidence': 0.9, 'reason': The term is a financial metric used to define the size of an investment adviser., 'extracted_confidence': 0.9, 'extracted_reason': The term is explicitly mentioned in the document.}], 'verb_symbols': [does not control, is not controlled by, is not under], 'verb_symbols_extracted_confidence': [0.9, 0.9, 0.9], 'verb_symbols_extracted_reason': [The verb is used to describe a condition that must not be met., The verb is used to describe a condition that must not be met., The verb is used to describe a condition that must not be met.], 'classification': Fact Type, 'confidence': 0.9, 'reason': The statement describes a condition that must be met for classification as a small entity., 'sources': [(a)(3)]}                                                                                                                                                                                                                                                                                                                                                                                                                                                                                                                                                                                                                                                                                                                                                                                                                                                                                                                                                                                                                                                                                                                                                                                                                                                                                                                                                                                                                                                                                                                                                                                                                                                                          │ 2024-12-12 17:41:18.971-03 │\n",
       "│ § 275.0-7_P1 │ extract_p1 │ documents-2024-12-02-1.json │ {'id': 5, 'title': Definition of control, 'statement': Control means the power, directly or indirectly, to direct the management or policies of a person, whether through ownership of securities, by contract, or otherwise., 'terms': [{'term': Control, 'classification': Common Noun, 'confidence': 0.9, 'reason': The term is a general concept defined by specific criteria., 'extracted_confidence': 0.9, 'extracted_reason': The term is explicitly defined in the document.}, {'term': Management, 'classification': Common Noun, 'confidence': 0.9, 'reason': The term refers to the act of directing or controlling a group or organization., 'extracted_confidence': 0.9, 'extracted_reason': The term is explicitly mentioned in the document.}, {'term': Policies, 'classification': Common Noun, 'confidence': 0.9, 'reason': The term refers to a course or principle of action adopted or proposed by an organization., 'extracted_confidence': 0.9, 'extracted_reason': The term is explicitly mentioned in the document.}, {'term': Person, 'classification': Common Noun, 'confidence': 0.9, 'reason': The term refers to an individual or legal entity., 'extracted_confidence': 0.9, 'extracted_reason': The term is explicitly mentioned in the document.}, {'term': Ownership of securities, 'classification': Common Noun, 'confidence': 0.9, 'reason': The term refers to holding shares or bonds in a company., 'extracted_confidence': 0.9, 'extracted_reason': The term is explicitly mentioned in the document.}, {'term': Contract, 'classification': Common Noun, 'confidence': 0.9, 'reason': The term refers to a written or spoken agreement., 'extracted_confidence': 0.9, 'extracted_reason': The term is explicitly mentioned in the document.}], 'verb_symbols': [means, to direct, whether through], 'verb_symbols_extracted_confidence': [0.9, 0.9, 0.9], 'verb_symbols_extracted_reason': [The verb is used to define the term., The verb is used to describe the action of control., The verb is used to describe the means of control.], 'classification': Fact Type, 'confidence': 0.9, 'reason': The statement provides a general definition applicable to entities meeting certain criteria., 'sources': [(b)(1)]}                                                                                                                                                                                                                                                                                                                                                                                                                                                                                                                                                                                                                                                                                                                                                                                                                                                                                                                                                                                                                       │ 2024-12-12 17:41:18.971-03 │\n",
       "│ § 275.0-7_P1 │ extract_p1 │ documents-2024-12-02-1.json │ {'id': 6, 'title': Presumption of control in a corporation, 'statement': A person is presumed to control a corporation if the person directly or indirectly has the right to vote 25 percent or more of a class of the corporation's voting securities., 'terms': [{'term': Person, 'classification': Common Noun, 'confidence': 0.9, 'reason': The term refers to an individual or legal entity., 'extracted_confidence': 0.9, 'extracted_reason': The term is explicitly mentioned in the document.}, {'term': Corporation, 'classification': Common Noun, 'confidence': 0.9, 'reason': The term refers to a company or group of people authorized to act as a single entity., 'extracted_confidence': 0.9, 'extracted_reason': The term is explicitly mentioned in the document.}, {'term': Right to vote, 'classification': Common Noun, 'confidence': 0.9, 'reason': The term refers to the legal right to participate in decision-making processes., 'extracted_confidence': 0.9, 'extracted_reason': The term is explicitly mentioned in the document.}, {'term': Voting securities, 'classification': Common Noun, 'confidence': 0.9, 'reason': The term refers to shares that give the holder voting rights in a corporation., 'extracted_confidence': 0.9, 'extracted_reason': The term is explicitly mentioned in the document.}], 'verb_symbols': [is presumed to control, has], 'verb_symbols_extracted_confidence': [0.9, 0.9], 'verb_symbols_extracted_reason': [The verb is used to describe a presumption of control., The verb is used to describe possession of rights.], 'classification': Fact Type, 'confidence': 0.9, 'reason': The statement describes a condition under which control is presumed., 'sources': [(b)(1)(i)(A)]}                                                                                                                                                                                                                                                                                                                                                                                                                                                                                                                                                                                                                                                                                                                                                                                                                                                                                                                                                                                                                                                                                                                                                                                                                                                                                                                                                                                                                                                                                                                                 │ 2024-12-12 17:41:18.971-03 │\n",
       "│ § 275.0-7_P1 │ extract_p1 │ documents-2024-12-02-1.json │ {'id': 7, 'title': Presumption of control in a partnership, 'statement': A person is presumed to control a partnership if the person has the right to receive upon dissolution, or has contributed, 25 percent or more of the capital of the partnership., 'terms': [{'term': Person, 'classification': Common Noun, 'confidence': 0.9, 'reason': The term refers to an individual or legal entity., 'extracted_confidence': 0.9, 'extracted_reason': The term is explicitly mentioned in the document.}, {'term': Partnership, 'classification': Common Noun, 'confidence': 0.9, 'reason': The term refers to a business organization in which two or more individuals manage and operate the business., 'extracted_confidence': 0.9, 'extracted_reason': The term is explicitly mentioned in the document.}, {'term': Right to receive upon dissolution, 'classification': Common Noun, 'confidence': 0.9, 'reason': The term refers to the entitlement to assets when a partnership is dissolved., 'extracted_confidence': 0.9, 'extracted_reason': The term is explicitly mentioned in the document.}, {'term': Capital, 'classification': Common Noun, 'confidence': 0.9, 'reason': The term refers to financial assets or the financial value of assets., 'extracted_confidence': 0.9, 'extracted_reason': The term is explicitly mentioned in the document.}], 'verb_symbols': [is presumed to control, has, has contributed], 'verb_symbols_extracted_confidence': [0.9, 0.9, 0.9], 'verb_symbols_extracted_reason': [The verb is used to describe a presumption of control., The verb is used to describe possession of rights., The verb is used to describe contribution to capital.], 'classification': Fact Type, 'confidence': 0.9, 'reason': The statement describes a condition under which control is presumed., 'sources': [(b)(1)(ii)]}                                                                                                                                                                                                                                                                                                                                                                                                                                                                                                                                                                                                                                                                                                                                                                                                                                                                                                                                                                                                                                                                                                                                                                                                                                                                                                                                                                                                                              │ 2024-12-12 17:41:18.971-03 │\n",
       "│ § 275.0-7_P1 │ extract_p1 │ documents-2024-12-02-1.json │ {'id': 8, 'title': Presumption of control in an LLC, 'statement': A person is presumed to control a limited liability company (LLC) if the person directly or indirectly has the right to vote 25 percent or more of a class of the interests of the LLC, has the right to receive upon dissolution, or has contributed, 25 percent or more of the capital of the LLC, or is an elected manager of the LLC., 'terms': [{'term': Person, 'classification': Common Noun, 'confidence': 0.9, 'reason': The term refers to an individual or legal entity., 'extracted_confidence': 0.9, 'extracted_reason': The term is explicitly mentioned in the document.}, {'term': Limited liability company (LLC), 'classification': Common Noun, 'confidence': 0.9, 'reason': The term refers to a business structure that offers limited liability to its owners., 'extracted_confidence': 0.9, 'extracted_reason': The term is explicitly mentioned in the document.}, {'term': Right to vote, 'classification': Common Noun, 'confidence': 0.9, 'reason': The term refers to the legal right to participate in decision-making processes., 'extracted_confidence': 0.9, 'extracted_reason': The term is explicitly mentioned in the document.}, {'term': Right to receive upon dissolution, 'classification': Common Noun, 'confidence': 0.9, 'reason': The term refers to the entitlement to assets when an LLC is dissolved., 'extracted_confidence': 0.9, 'extracted_reason': The term is explicitly mentioned in the document.}, {'term': Capital, 'classification': Common Noun, 'confidence': 0.9, 'reason': The term refers to financial assets or the financial value of assets., 'extracted_confidence': 0.9, 'extracted_reason': The term is explicitly mentioned in the document.}, {'term': Elected manager, 'classification': Common Noun, 'confidence': 0.9, 'reason': The term refers to an individual chosen to manage an LLC., 'extracted_confidence': 0.9, 'extracted_reason': The term is explicitly mentioned in the document.}], 'verb_symbols': [is presumed to control, has, has contributed, is], 'verb_symbols_extracted_confidence': [0.9, 0.9, 0.9, 0.9], 'verb_symbols_extracted_reason': [The verb is used to describe a presumption of control., The verb is used to describe possession of rights., The verb is used to describe contribution to capital., The verb is used to describe a role within the LLC.], 'classification': Fact Type, 'confidence': 0.9, 'reason': The statement describes a condition under which control is presumed., 'sources': [(b)(1)(iii)]}                                                                                                                                                                                                                                                                                                                                                                                                                                                                                                                                                                                                                                                                                        │ 2024-12-12 17:41:18.971-03 │\n",
       "│ § 275.0-7_P1 │ extract_p1 │ documents-2024-12-02-1.json │ {'id': 9, 'title': Presumption of control in a trust, 'statement': A person is presumed to control a trust if the person is a trustee or managing agent of the trust., 'terms': [{'term': Person, 'classification': Common Noun, 'confidence': 0.9, 'reason': The term refers to an individual or legal entity., 'extracted_confidence': 0.9, 'extracted_reason': The term is explicitly mentioned in the document.}, {'term': Trust, 'classification': Common Noun, 'confidence': 0.9, 'reason': The term refers to a fiduciary relationship in which one party holds legal title to property for the benefit of another., 'extracted_confidence': 0.9, 'extracted_reason': The term is explicitly mentioned in the document.}, {'term': Trustee, 'classification': Common Noun, 'confidence': 0.9, 'reason': The term refers to an individual or organization that holds or manages and invests assets for the benefit of another., 'extracted_confidence': 0.9, 'extracted_reason': The term is explicitly mentioned in the document.}, {'term': Managing agent, 'classification': Common Noun, 'confidence': 0.9, 'reason': The term refers to an individual responsible for managing the affairs of a trust., 'extracted_confidence': 0.9, 'extracted_reason': The term is explicitly mentioned in the document.}], 'verb_symbols': [is presumed to control, is], 'verb_symbols_extracted_confidence': [0.9, 0.9], 'verb_symbols_extracted_reason': [The verb is used to describe a presumption of control., The verb is used to describe a role within the trust.], 'classification': Fact Type, 'confidence': 0.9, 'reason': The statement describes a condition under which control is presumed., 'sources': [(b)(1)(iv)]}                                                                                                                                                                                                                                                                                                                                                                                                                                                                                                                                                                                                                                                                                                                                                                                                                                                                                                                                                                                                                                                                                                                                                                                                                                                                                                                                                                                                                                                                                                                                                      │ 2024-12-12 17:41:18.971-03 │\n",
       "│ § 275.0-7_P1 │ extract_p1 │ documents-2024-12-02-1.json │ {'id': 10, 'title': Definition of total assets, 'statement': Total assets means the total assets as shown on the balance sheet of the investment adviser or other person described above under paragraph (a)(3) of this section, or the balance sheet of the investment adviser or such other person with its subsidiaries consolidated, whichever is larger., 'terms': [{'term': Total assets, 'classification': Common Noun, 'confidence': 0.9, 'reason': The term is a financial metric used to define the size of an investment adviser., 'extracted_confidence': 0.9, 'extracted_reason': The term is explicitly defined in the document.}, {'term': Balance sheet, 'classification': Common Noun, 'confidence': 0.9, 'reason': The term refers to a financial statement that summarizes a company's assets, liabilities, and shareholders' equity., 'extracted_confidence': 0.9, 'extracted_reason': The term is explicitly mentioned in the document.}, {'term': Investment adviser, 'classification': Common Noun, 'confidence': 0.9, 'reason': The term is a specific role within the financial industry., 'extracted_confidence': 0.9, 'extracted_reason': The term is explicitly mentioned in the document.}, {'term': Person, 'classification': Common Noun, 'confidence': 0.9, 'reason': The term refers to an individual or legal entity., 'extracted_confidence': 0.9, 'extracted_reason': The term is explicitly mentioned in the document.}, {'term': Subsidiaries, 'classification': Common Noun, 'confidence': 0.9, 'reason': The term refers to companies controlled by a parent company., 'extracted_confidence': 0.9, 'extracted_reason': The term is explicitly mentioned in the document.}], 'verb_symbols': [means, as shown on, described, consolidated], 'verb_symbols_extracted_confidence': [0.9, 0.9, 0.9, 0.9], 'verb_symbols_extracted_reason': [The verb is used to define the term., The verb is used to describe the presentation of assets., The verb is used to refer to a description in the document., The verb is used to describe the consolidation of financial statements.], 'classification': Fact Type, 'confidence': 0.9, 'reason': The statement provides a general definition applicable to entities meeting certain criteria., 'sources': [(b)(2)]}                                                                                                                                                                                                                                                                                                                                                                                                                                                                                                                                                                                                                                                                                                                                                                                                                                                                                                                                                                                    │ 2024-12-12 17:41:18.971-03 │\n",
       "├──────────────┴────────────┴─────────────────────────────┴─────────────────────────────────────────────────────────────────────────────────────────────────────────────────────────────────────────────────────────────────────────────────────────────────────────────────────────────────────────────────────────────────────────────────────────────────────────────────────────────────────────────────────────────────────────────────────────────────────────────────────────────────────────────────────────────────────────────────────────────────────────────────────────────────────────────────────────────────────────────────────────────────────────────────────────────────────────────────────────────────────────────────────────────────────────────────────────────────────────────────────────────────────────────────────────────────────────────────────────────────────────────────────────────────────────────────────────────────────────────────────────────────────────────────────────────────────────────────────────────────────────────────────────────────────────────────────────────────────────────────────────────────────────────────────────────────────────────────────────────────────────────────────────────────────────────────────────────────────────────────────────────────────────────────────────────────────────────────────────────────────────────────────────────────────────────────────────────────────────────────────────────────────────────────────────────────────────────────────────────────────────────────────────────────────────────────────────────────────────────────────────────────────────────────────────────────────────────────────────────────────────────────────────────────────────────────────────────────────────────────────────────────────────────────────────────────────────────────────────────────────────────────────────────────────────────────────────────────────────────────────────────────────────────────────────────────────────────────────────────────────────────────────────────────────────────────────────────────────────────────────────────────────────────────────────────────────────────────────────────────────────────────────────────────────────────────────────────────────────────────────────────────────────────────────────────────────────────────────────────────────────────────────────────────────────────────────────────────────────────────────────────────────────────────────────────────────────────────────────────────────────────────────────────────────────────────────────────────────────────────────────────────────────────────────────────────────────────────────────────────────────────────────────────────────────────────────────────────────────────────────────────────────────────────────────────────────────────────────────────────────────────────────────────────────────────────────────────────────────────────────────────────────────────────────────────────────────────────────────────────────────────────────────────────────────────────────────────────────────────────────────────────────────────────────────────────────────────────────────────────────────────────────────────────────────────────────────────────────────────────────────────────────────────────────────┴────────────────────────────┤\n",
       "│ 193 rows (20 shown)                                                                                                                                                                                                                                                                                                                                                                                                                                                                                                                                                                                                                                                                                                                                                                                                                                                                                                                                                                                                                                                                                                                                                                                                                                                                                                                                                                                                                                                                                                                                                                                                                                                                                                                                                                                                                                                                                                                                                                                                                                                                                                                                                                                                                                                                                                                                                                                                                                                                                                                                                                                                                                                                                                                                                                                                                                                                                                                                                                                                                                                                                                                                                                                                                                                                                                                                                  5 columns │\n",
       "└────────────────────────────────────────────────────────────────────────────────────────────────────────────────────────────────────────────────────────────────────────────────────────────────────────────────────────────────────────────────────────────────────────────────────────────────────────────────────────────────────────────────────────────────────────────────────────────────────────────────────────────────────────────────────────────────────────────────────────────────────────────────────────────────────────────────────────────────────────────────────────────────────────────────────────────────────────────────────────────────────────────────────────────────────────────────────────────────────────────────────────────────────────────────────────────────────────────────────────────────────────────────────────────────────────────────────────────────────────────────────────────────────────────────────────────────────────────────────────────────────────────────────────────────────────────────────────────────────────────────────────────────────────────────────────────────────────────────────────────────────────────────────────────────────────────────────────────────────────────────────────────────────────────────────────────────────────────────────────────────────────────────────────────────────────────────────────────────────────────────────────────────────────────────────────────────────────────────────────────────────────────────────────────────────────────────────────────────────────────────────────────────────────────────────────────────────────────────────────────────────────────────────────────────────────────────────────────────────────────────────────────────────────────────────────────────────────────────────────────────────────────────────────────────────────────────────────────────────────────────────────────────────────────────────────────────────────────────────────────────────────────────────────────────────────────────────────────────────────────────────────────────────────────────────────────────────────────────────────────────────────────────────────────────────────────────────────────────────────────────────────────────────────────────────────────────────────────────────────────────────────────────────────────────────────────────────────────────────────────────────────────────────────────────────────────────────────────────────────────────────────────────────────────────────────────────────────────────────────────────────────────────────────────────────────────────────────────────────────────────────────────────────────────────────────────────────────────────────────────────────────────────────────────────────────────────────────────────────────────────────────────────────────────────────────────────────────────────────────────────────────────────────────────────────────────────────────────────────────────────────────────────────────────────────────────────────────────────────────────────────────────────────────────────────────────────────────────────────────────────────────────────────────────────────────────────────────────────────────────────────────────────────────────────────────────────────────────────────────────────────────────────────────────────────────────────┘"
      ]
     },
     "execution_count": 52,
     "metadata": {},
     "output_type": "execute_result"
    }
   ],
   "source": [
    "query = \"\"\"\n",
    "SELECT * FROM EXTRACTED_ELEMENTS;\n",
    "\"\"\"\n",
    "\n",
    "conn.sql(query)"
   ]
  },
  {
   "cell_type": "markdown",
   "metadata": {},
   "source": [
    "Total verb symbols extracted"
   ]
  },
  {
   "cell_type": "code",
   "execution_count": 53,
   "metadata": {},
   "outputs": [
    {
     "data": {
      "text/plain": [
       "┌─────────────┐\n",
       "│ total_verbs │\n",
       "│    int64    │\n",
       "├─────────────┤\n",
       "│         550 │\n",
       "└─────────────┘"
      ]
     },
     "execution_count": 53,
     "metadata": {},
     "output_type": "execute_result"
    }
   ],
   "source": [
    "query = \"\"\"\n",
    "SELECT\n",
    "    COUNT(verb) AS total_verbs\n",
    "FROM (\n",
    "    SELECT\n",
    "        UNNEST(CAST(json_extract(elements, '$.verb_symbols') AS VARCHAR[])) AS verb\n",
    "    FROM\n",
    "        EXTRACTED_ELEMENTS\n",
    ") AS flattened_verbs;\n",
    "\"\"\"\n",
    "\n",
    "conn.sql(query)"
   ]
  },
  {
   "cell_type": "markdown",
   "metadata": {},
   "source": [
    "distinct verb symbols"
   ]
  },
  {
   "cell_type": "code",
   "execution_count": 54,
   "metadata": {},
   "outputs": [
    {
     "data": {
      "text/plain": [
       "┌──────────────────────┐\n",
       "│ distinct_verbs_count │\n",
       "│        int64         │\n",
       "├──────────────────────┤\n",
       "│                   81 │\n",
       "└──────────────────────┘"
      ]
     },
     "execution_count": 54,
     "metadata": {},
     "output_type": "execute_result"
    }
   ],
   "source": [
    "query = \"\"\"\n",
    "SELECT\n",
    "    COUNT(DISTINCT verb) AS distinct_verbs_count\n",
    "FROM (\n",
    "    SELECT\n",
    "        UNNEST(CAST(json_extract(elements, '$.verb_symbols') AS VARCHAR[])) AS verb\n",
    "    FROM\n",
    "        EXTRACTED_ELEMENTS\n",
    ") AS flattened_verbs;\n",
    "\"\"\"\n",
    "\n",
    "conn.sql(query)"
   ]
  },
  {
   "cell_type": "markdown",
   "metadata": {},
   "source": [
    "Distinct verb symbols with doc_id and source"
   ]
  },
  {
   "cell_type": "code",
   "execution_count": 55,
   "metadata": {},
   "outputs": [
    {
     "data": {
      "text/plain": [
       "┌────────────────────┬──────────────┬────────────────────┐\n",
       "│        verb        │    doc_id    │       source       │\n",
       "│      varchar       │   varchar    │      varchar       │\n",
       "├────────────────────┼──────────────┼────────────────────┤\n",
       "│ by serving         │ § 275.0-2_P1 │ [\"(a)\"]            │\n",
       "│ serve              │ § 275.0-2_P1 │ [\"(a)(1)\"]         │\n",
       "│ by                 │ § 275.0-2_P1 │ [\"(a)(2)\"]         │\n",
       "│ certifies          │ § 275.0-2_P1 │ [\"(a)(3)\"]         │\n",
       "│ constitutes        │ § 275.0-2_P1 │ [\"(a)(3)\"]         │\n",
       "│ participates       │ § 275.0-2_P1 │ [\"(b)(1)\"]         │\n",
       "│ is incorporated    │ § 275.0-2_P1 │ [\"(b)(2)\"]         │\n",
       "│ has                │ § 275.0-2_P1 │ [\"(b)(3)\"]         │\n",
       "│ will indicate      │ § 275.0-5_P1 │ [\"(a)\"]            │\n",
       "│ will be issued     │ § 275.0-5_P1 │ [\"(b)\"]            │\n",
       "│   ·                │      ·       │    ·               │\n",
       "│   ·                │      ·       │    ·               │\n",
       "│   ·                │      ·       │    ·               │\n",
       "│ means              │ § 275.0-2_P1 │ [\"(b)(2)(iii)\"]    │\n",
       "│ has                │ § 275.0-2_P1 │ [\"(b)(2)(iii)\"]    │\n",
       "│ upon the request   │ § 275.0-5_P1 │ [\"(c)\"]            │\n",
       "│ under              │ § 275.0-5_P1 │ [\"(d)\"]            │\n",
       "│ forward            │ § 275.0-2_P1 │ [\"(a)(2)\"]         │\n",
       "│ to control         │ § 275.0-7_P1 │ [\"(b)(1)(i)(A)\"]   │\n",
       "│ is presumed        │ § 275.0-7_P1 │ [\"(b)(1)(ii)\"]     │\n",
       "│ is presumed        │ § 275.0-7_P1 │ [\"(b)(1)(iii)(A)\"] │\n",
       "│ has                │ § 275.0-7_P1 │ [\"(b)(1)(i)\"]      │\n",
       "│ direct the sale of │ § 275.0-7_P1 │ [\"(b)(1)(i)\"]      │\n",
       "├────────────────────┴──────────────┴────────────────────┤\n",
       "│ 124 rows (20 shown)                          3 columns │\n",
       "└────────────────────────────────────────────────────────┘"
      ]
     },
     "execution_count": 55,
     "metadata": {},
     "output_type": "execute_result"
    }
   ],
   "source": [
    "query = \"\"\"\n",
    "SELECT DISTINCT\n",
    "    verb,\n",
    "    doc_id,\n",
    "    source\n",
    "FROM (\n",
    "    SELECT\n",
    "        UNNEST(CAST(json_extract(elements, '$.verb_symbols') AS VARCHAR[])) AS verb,\n",
    "        id AS doc_id,\n",
    "        CAST(json_extract(elements, '$.sources') AS VARCHAR) AS source\n",
    "    FROM\n",
    "        EXTRACTED_ELEMENTS\n",
    ") AS distinct_combinations;\n",
    "\"\"\"\n",
    "\n",
    "#pred_values=duckdb.sql(query).fetchall()\n",
    "\n",
    "conn.sql(query)\n",
    "\n"
   ]
  },
  {
   "cell_type": "markdown",
   "metadata": {},
   "source": [
    "Verb symbols with doc_id and source for evaluation"
   ]
  },
  {
   "cell_type": "code",
   "execution_count": 56,
   "metadata": {},
   "outputs": [
    {
     "data": {
      "text/plain": [
       "┌────────────────────────┬──────────────┬─────────────────┐\n",
       "│          verb          │    doc_id    │     source      │\n",
       "│        varchar         │   varchar    │     varchar     │\n",
       "├────────────────────────┼──────────────┼─────────────────┤\n",
       "│ serve                  │ § 275.0-2_P1 │ [\"(a)\"]         │\n",
       "│ by serving             │ § 275.0-2_P1 │ [\"(a)\"]         │\n",
       "│ serve                  │ § 275.0-2_P1 │ [\"(a)(1)\"]      │\n",
       "│ by furnishing          │ § 275.0-2_P1 │ [\"(a)(1)\"]      │\n",
       "│ with                   │ § 275.0-2_P1 │ [\"(a)(1)\"]      │\n",
       "│ will forward           │ § 275.0-2_P1 │ [\"(a)(2)\"]      │\n",
       "│ by                     │ § 275.0-2_P1 │ [\"(a)(2)\"]      │\n",
       "│ at                     │ § 275.0-2_P1 │ [\"(a)(2)\"]      │\n",
       "│ certifies              │ § 275.0-2_P1 │ [\"(a)(3)\"]      │\n",
       "│ was served             │ § 275.0-2_P1 │ [\"(a)(3)\"]      │\n",
       "│     ·                  │      ·       │     ·           │\n",
       "│     ·                  │      ·       │     ·           │\n",
       "│     ·                  │      ·       │     ·           │\n",
       "│ is presumed to control │ § 275.0-7_P1 │ [\"(b)(1)(iii)\"] │\n",
       "│ has                    │ § 275.0-7_P1 │ [\"(b)(1)(iii)\"] │\n",
       "│ has contributed        │ § 275.0-7_P1 │ [\"(b)(1)(iii)\"] │\n",
       "│ is                     │ § 275.0-7_P1 │ [\"(b)(1)(iii)\"] │\n",
       "│ is presumed to control │ § 275.0-7_P1 │ [\"(b)(1)(iv)\"]  │\n",
       "│ is                     │ § 275.0-7_P1 │ [\"(b)(1)(iv)\"]  │\n",
       "│ means                  │ § 275.0-7_P1 │ [\"(b)(2)\"]      │\n",
       "│ as shown on            │ § 275.0-7_P1 │ [\"(b)(2)\"]      │\n",
       "│ described              │ § 275.0-7_P1 │ [\"(b)(2)\"]      │\n",
       "│ consolidated           │ § 275.0-7_P1 │ [\"(b)(2)\"]      │\n",
       "├────────────────────────┴──────────────┴─────────────────┤\n",
       "│ 550 rows (20 shown)                           3 columns │\n",
       "└─────────────────────────────────────────────────────────┘"
      ]
     },
     "execution_count": 56,
     "metadata": {},
     "output_type": "execute_result"
    }
   ],
   "source": [
    "query = \"\"\"\n",
    "SELECT\n",
    "    verb,\n",
    "    doc_id,\n",
    "    source\n",
    "FROM (\n",
    "    SELECT\n",
    "        UNNEST(CAST(json_extract(elements, '$.verb_symbols') AS VARCHAR[])) AS verb,\n",
    "        id AS doc_id,\n",
    "        CAST(json_extract(elements, '$.sources') AS VARCHAR) AS source\n",
    "    FROM\n",
    "        EXTRACTED_ELEMENTS\n",
    ") AS distinct_combinations;\n",
    "\"\"\"\n",
    "\n",
    "pred_values=conn.sql(query).fetchall()\n",
    "\n",
    "conn.sql(query)\n",
    "\n"
   ]
  },
  {
   "cell_type": "markdown",
   "metadata": {},
   "source": [
    "## Evaluation"
   ]
  },
  {
   "cell_type": "markdown",
   "metadata": {},
   "source": [
    "Evaluate with distinct pred and true verb symbols extraction"
   ]
  },
  {
   "cell_type": "code",
   "execution_count": 17,
   "metadata": {},
   "outputs": [
    {
     "name": "stdout",
     "output_type": "stream",
     "text": [
      "Precision: 0.49\n",
      "Recall: 1.00\n",
      "F1-Score: 0.66\n",
      "Number of predicted values not in true values: 63\n",
      "Number of true values in predicted values: 61\n"
     ]
    }
   ],
   "source": [
    "# Convert lists to sets\n",
    "true_set = set(true_values)\n",
    "predicted_set = set(pred_values)\n",
    "\n",
    "# Calculate True Positives (TP)\n",
    "true_positives = true_set.intersection(predicted_set)\n",
    "TP = len(true_positives)\n",
    "\n",
    "# Calculate False Positives (FP)\n",
    "false_positives = predicted_set.difference(true_set)\n",
    "FP = len(false_positives)\n",
    "\n",
    "# Calculate False Negatives (FN)\n",
    "false_negatives = true_set.difference(predicted_set)\n",
    "FN = len(false_negatives)\n",
    "\n",
    "# Calculate Precision, Recall, and F1-Score\n",
    "precision = TP / (TP + FP) if (TP + FP) > 0 else 0\n",
    "recall = TP / (TP + FN) if (TP + FN) > 0 else 0\n",
    "f1_score = 2 * (precision * recall) / (precision + recall) if (precision + recall) > 0 else 0\n",
    "\n",
    "print(f\"Precision: {precision:.2f}\")\n",
    "print(f\"Recall: {recall:.2f}\")\n",
    "print(f\"F1-Score: {f1_score:.2f}\")\n",
    "\n",
    "# Find difference: elements in predicted_set but not in true_set\n",
    "predicted_not_in_true = predicted_set.difference(true_set)\n",
    "\n",
    "# Count elements not in true values\n",
    "count_predicted_not_in_true = len(predicted_not_in_true)\n",
    "\n",
    "print(f\"Number of predicted values not in true values: {count_predicted_not_in_true}\")\n",
    "\n",
    "# Find intersection\n",
    "common_elements = true_set.intersection(predicted_set)\n",
    "\n",
    "# Count common elements\n",
    "count_common = len(common_elements)\n",
    "\n",
    "print(f\"Number of true values in predicted values: {count_common}\")"
   ]
  },
  {
   "cell_type": "markdown",
   "metadata": {},
   "source": [
    "Evaluation with all pred values."
   ]
  },
  {
   "cell_type": "code",
   "execution_count": 18,
   "metadata": {},
   "outputs": [
    {
     "name": "stdout",
     "output_type": "stream",
     "text": [
      "Precision: 0.80\n",
      "Recall: 1.00\n",
      "F1-Score: 0.89\n",
      "TP=442, FP=108, FN=0\n"
     ]
    }
   ],
   "source": [
    "# Calculate True Positives (TP)\n",
    "TP = sum(1 for item in pred_values if item in true_values)\n",
    "\n",
    "# Calculate False Positives (FP)\n",
    "FP = sum(1 for item in pred_values if item not in true_values)\n",
    "\n",
    "# Calculate False Negatives (FN)\n",
    "FN = sum(1 for item in true_values if item not in pred_values)\n",
    "\n",
    "# Calculate Precision, Recall, and F1-Score\n",
    "precision = TP / (TP + FP) if (TP + FP) > 0 else 0\n",
    "recall = TP / (TP + FN) if (TP + FN) > 0 else 0\n",
    "f1_score = 2 * (precision * recall) / (precision + recall) if (precision + recall) > 0 else 0\n",
    "\n",
    "print(f\"Precision: {precision:.2f}\")\n",
    "print(f\"Recall: {recall:.2f}\")\n",
    "print(f\"F1-Score: {f1_score:.2f}\")\n",
    "\n",
    "print(f\"{TP=}, {FP=}, {FN=}\")"
   ]
  },
  {
   "cell_type": "markdown",
   "metadata": {},
   "source": [
    "## Evaluation Terms and Names definitions (P2)"
   ]
  },
  {
   "cell_type": "markdown",
   "metadata": {},
   "source": [
    "### True table"
   ]
  },
  {
   "cell_type": "code",
   "execution_count": 57,
   "metadata": {},
   "outputs": [
    {
     "name": "stdout",
     "output_type": "stream",
     "text": [
      "§ 275.0-2_P2|true_table\n",
      "§ 275.0-5_P2|true_table\n",
      "§ 275.0-7_P2|true_table\n",
      "_query_drop_table='\\n        DROP TABLE EXTRACTED_TERMS_TRUE;\\n        '\n",
      "Trying to drop table because drop parameter is True\n",
      "Table EXTRACTED_TERMS_TRUE dropped\n",
      "_query_insert_data='\\n    INSERT INTO EXTRACTED_TERMS_TRUE (id, prompt, file_source, terms, created_at)\\n    SELECT \\n        id, \\n        \\'extract_p2\\' as prompt, \\n        \\'documents_true_table.json\\' as file_source, \\n        unnest(content.terms) as terms,\\n        now() as created_at\\n    FROM \\n        read_json_auto(\"temp/documents_true_table.json\");\\n    '\n",
      "Trying to insert into EXTRACTED_TERMS_TRUE\n",
      "Catalog Error: Table with name EXTRACTED_TERMS_TRUE does not exist!\n",
      "Did you mean \"database.EXTRACTED_TERMS_TRUE\"?\n",
      "Failed to insert, trying create EXTRACTED_TERMS_TRUE\n",
      "_query_create_table='\\n        CREATE TABLE EXTRACTED_TERMS_TRUE AS\\n        SELECT id, \\n        \\'extract_p2\\' as prompt, \\n        \\'documents_true_table.json\\' as file_source, \\n        unnest(content.terms) as terms,\\n        now() as \\'created_at\\'\\n        FROM read_json_auto(\"temp/documents_true_table.json\");\\n        '\n",
      "Table EXTRACTED_TERMS_TRUE created and loaded.\n"
     ]
    },
    {
     "data": {
      "text/plain": [
       "True"
      ]
     },
     "execution_count": 57,
     "metadata": {},
     "output_type": "execute_result"
    }
   ],
   "source": [
    "upsert_table_from_json(\n",
    "    conn,\n",
    "    suffix_key_pattern=\"_P2|true_table\",\n",
    "    prefix_key_pattern=\"§\",\n",
    "    table_name=\"EXTRACTED_TERMS_TRUE\",\n",
    "    source=\"cfr2sbvr_db/true/documents_true_table.json\",\n",
    "    key_value=\"extract_p2\",\n",
    "    drop=True,\n",
    "    content_key=\"content.terms\",\n",
    "    alias=\"terms\",\n",
    "    doc_id_key=\"id\"\n",
    ")"
   ]
  },
  {
   "cell_type": "code",
   "execution_count": 58,
   "metadata": {},
   "outputs": [
    {
     "data": {
      "text/plain": [
       "┌──────────────┬────────────┬───────────────────────────┬──────────────────────────────────────────────────────────────────────────────────────────────────────────────────────────────────────────────────────────────────────────────────────────────────────────────────────────────────────────────────────────────────────────────────────────────┬────────────────────────────┐\n",
       "│      id      │   prompt   │        file_source        │                                                                                                                                            terms                                                                                                                                             │         created_at         │\n",
       "│   varchar    │  varchar   │          varchar          │                                                                                                                struct(term varchar, definition varchar, islocalscope boolean)                                                                                                                │  timestamp with time zone  │\n",
       "├──────────────┼────────────┼───────────────────────────┼──────────────────────────────────────────────────────────────────────────────────────────────────────────────────────────────────────────────────────────────────────────────────────────────────────────────────────────────────────────────────────────────────────────────────────────────┼────────────────────────────┤\n",
       "│ § 275.0-2_P2 │ extract_p2 │ documents_true_table.json │ {'term': Last address, 'definition': NULL, 'isLocalScope': false}                                                                                                                                                                                                                            │ 2024-12-12 17:41:46.775-03 │\n",
       "│ § 275.0-2_P2 │ extract_p2 │ documents_true_table.json │ {'term': Commission's records, 'definition': Records maintained by the Commission, which include copies of process, pleadings, or other papers served., 'isLocalScope': true}                                                                                                                │ 2024-12-12 17:41:46.775-03 │\n",
       "│ § 275.0-2_P2 │ extract_p2 │ documents_true_table.json │ {'term': Earliest date, 'definition': The earliest date upon which an order disposing of the matter may be entered, as indicated in the notice., 'isLocalScope': false}                                                                                                                      │ 2024-12-12 17:41:46.775-03 │\n",
       "│ § 275.0-2_P2 │ extract_p2 │ documents_true_table.json │ {'term': Jurisdiction of the United States, 'definition': NULL, 'isLocalScope': false}                                                                                                                                                                                                       │ 2024-12-12 17:41:46.775-03 │\n",
       "│ § 275.0-2_P2 │ extract_p2 │ documents_true_table.json │ {'term': Commission, 'definition': NULL, 'isLocalScope': false}                                                                                                                                                                                                                              │ 2024-12-12 17:41:46.775-03 │\n",
       "│ § 275.0-2_P2 │ extract_p2 │ documents_true_table.json │ {'term': Papers, 'definition': NULL, 'isLocalScope': false}                                                                                                                                                                                                                                  │ 2024-12-12 17:41:46.775-03 │\n",
       "│ § 275.0-2_P2 │ extract_p2 │ documents_true_table.json │ {'term': Process, 'definition': NULL, 'isLocalScope': false}                                                                                                                                                                                                                                 │ 2024-12-12 17:41:46.775-03 │\n",
       "│ § 275.0-2_P2 │ extract_p2 │ documents_true_table.json │ {'term': Pleadings, 'definition': Documents served on a non-resident investment adviser, general partner, or managing agent., 'isLocalScope': false}                                                                                                                                         │ 2024-12-12 17:41:46.775-03 │\n",
       "│ § 275.0-2_P2 │ extract_p2 │ documents_true_table.json │ {'term': Evidence of service, 'definition': The certification by the Secretary that the Commission was served with process, pleadings, or other papers and forwarded these documents to a named party., 'isLocalScope': true}                                                                │ 2024-12-12 17:41:46.775-03 │\n",
       "│ § 275.0-2_P2 │ extract_p2 │ documents_true_table.json │ {'term': Last address filed with the Commission, 'definition': NULL, 'isLocalScope': false}                                                                                                                                                                                                  │ 2024-12-12 17:41:46.775-03 │\n",
       "│      ·       │     ·      │             ·             │                                 ·                                                                                                                                                                                                                                                            │             ·              │\n",
       "│      ·       │     ·      │             ·             │                                 ·                                                                                                                                                                                                                                                            │             ·              │\n",
       "│      ·       │     ·      │             ·             │                                 ·                                                                                                                                                                                                                                                            │             ·              │\n",
       "│ § 275.0-7_P2 │ extract_p2 │ documents_true_table.json │ {'term': Balance sheet, 'definition': NULL, 'isLocalScope': false}                                                                                                                                                                                                                           │ 2024-12-12 17:41:46.775-03 │\n",
       "│ § 275.0-7_P2 │ extract_p2 │ documents_true_table.json │ {'term': Elected manager, 'definition': NULL, 'isLocalScope': false}                                                                                                                                                                                                                         │ 2024-12-12 17:41:46.775-03 │\n",
       "│ § 275.0-7_P2 │ extract_p2 │ documents_true_table.json │ {'term': Investment adviser, 'definition': NULL, 'isLocalScope': false}                                                                                                                                                                                                                      │ 2024-12-12 17:41:46.775-03 │\n",
       "│ § 275.0-7_P2 │ extract_p2 │ documents_true_table.json │ {'term': Total assets, 'definition': The total assets as shown on the balance sheet of the investment adviser or other person described, or the balance sheet of the investment adviser or such other person with its subsidiaries consolidated, whichever is larger., 'isLocalScope': true} │ 2024-12-12 17:41:46.775-03 │\n",
       "│ § 275.0-7_P2 │ extract_p2 │ documents_true_table.json │ {'term': Right to receive upon dissolution, 'definition': NULL, 'isLocalScope': false}                                                                                                                                                                                                       │ 2024-12-12 17:41:46.775-03 │\n",
       "│ § 275.0-7_P2 │ extract_p2 │ documents_true_table.json │ {'term': Person, 'definition': NULL, 'isLocalScope': false}                                                                                                                                                                                                                                  │ 2024-12-12 17:41:46.775-03 │\n",
       "│ § 275.0-7_P2 │ extract_p2 │ documents_true_table.json │ {'term': Management, 'definition': NULL, 'isLocalScope': false}                                                                                                                                                                                                                              │ 2024-12-12 17:41:46.775-03 │\n",
       "│ § 275.0-7_P2 │ extract_p2 │ documents_true_table.json │ {'term': Ownership of securities, 'definition': NULL, 'isLocalScope': false}                                                                                                                                                                                                                 │ 2024-12-12 17:41:46.775-03 │\n",
       "│ § 275.0-7_P2 │ extract_p2 │ documents_true_table.json │ {'term': Natural person, 'definition': NULL, 'isLocalScope': false}                                                                                                                                                                                                                          │ 2024-12-12 17:41:46.775-03 │\n",
       "│ § 275.0-7_P2 │ extract_p2 │ documents_true_table.json │ {'term': Assets under management, 'definition': NULL, 'isLocalScope': false}                                                                                                                                                                                                                 │ 2024-12-12 17:41:46.775-03 │\n",
       "├──────────────┴────────────┴───────────────────────────┴──────────────────────────────────────────────────────────────────────────────────────────────────────────────────────────────────────────────────────────────────────────────────────────────────────────────────────────────────────────────────────────────────────────────────────────────┴────────────────────────────┤\n",
       "│ 84 rows (20 shown)                                                                                                                                                                                                                                                                                                                                                      5 columns │\n",
       "└───────────────────────────────────────────────────────────────────────────────────────────────────────────────────────────────────────────────────────────────────────────────────────────────────────────────────────────────────────────────────────────────────────────────────────────────────────────────────────────────────────────────────────────────────────────────────┘"
      ]
     },
     "execution_count": 58,
     "metadata": {},
     "output_type": "execute_result"
    }
   ],
   "source": [
    "query = \"\"\"\n",
    "SELECT * FROM EXTRACTED_TERMS_TRUE;\n",
    "\"\"\"\n",
    "\n",
    "conn.sql(query)"
   ]
  },
  {
   "cell_type": "markdown",
   "metadata": {},
   "source": [
    "Total terms per id"
   ]
  },
  {
   "cell_type": "code",
   "execution_count": 59,
   "metadata": {},
   "outputs": [
    {
     "data": {
      "text/plain": [
       "┌──────────────┬─────────────┬──────────────────────┐\n",
       "│      id      │ total_terms │ total_terms_distinct │\n",
       "│   varchar    │    int64    │        int64         │\n",
       "├──────────────┼─────────────┼──────────────────────┤\n",
       "│ § 275.0-7_P2 │          31 │                   31 │\n",
       "│ § 275.0-5_P2 │          22 │                   22 │\n",
       "│ § 275.0-2_P2 │          31 │                   31 │\n",
       "└──────────────┴─────────────┴──────────────────────┘"
      ]
     },
     "execution_count": 59,
     "metadata": {},
     "output_type": "execute_result"
    }
   ],
   "source": [
    "query = \"\"\"\n",
    "SELECT\n",
    "    id, COUNT(terms) AS total_terms, COUNT(DISTINCT terms) AS total_terms_distinct\n",
    "FROM EXTRACTED_TERMS_TRUE\n",
    "GROUP BY id;\n",
    "\"\"\"\n",
    "\n",
    "conn.sql(query)"
   ]
  },
  {
   "cell_type": "markdown",
   "metadata": {},
   "source": [
    "terms"
   ]
  },
  {
   "cell_type": "code",
   "execution_count": 60,
   "metadata": {},
   "outputs": [
    {
     "data": {
      "text/plain": [
       "┌──────────────┬────────────────────────────────────────┬──────────────────────────────────────────────────────────────────────────────────────────────────────────────────────────────────────────────────────────────────────────────────────────────────────────────────────────────────┬───────────────┬──────────────┐\n",
       "│      id      │                  term                  │                                                                                                            definition                                                                                                            │ hasDefinition │ isLocalScope │\n",
       "│   varchar    │                varchar                 │                                                                                                             varchar                                                                                                              │     int32     │   boolean    │\n",
       "├──────────────┼────────────────────────────────────────┼──────────────────────────────────────────────────────────────────────────────────────────────────────────────────────────────────────────────────────────────────────────────────────────────────────────────────────────────────┼───────────────┼──────────────┤\n",
       "│ § 275.0-2_P2 │ Last address                           │ NULL                                                                                                                                                                                                                             │             0 │ false        │\n",
       "│ § 275.0-2_P2 │ Commission's records                   │ Records maintained by the Commission, which include copies of process, pleadings, or other papers served.                                                                                                                        │             1 │ true         │\n",
       "│ § 275.0-2_P2 │ Earliest date                          │ The earliest date upon which an order disposing of the matter may be entered, as indicated in the notice.                                                                                                                        │             1 │ false        │\n",
       "│ § 275.0-2_P2 │ Jurisdiction of the United States      │ NULL                                                                                                                                                                                                                             │             0 │ false        │\n",
       "│ § 275.0-2_P2 │ Commission                             │ NULL                                                                                                                                                                                                                             │             0 │ false        │\n",
       "│ § 275.0-2_P2 │ Papers                                 │ NULL                                                                                                                                                                                                                             │             0 │ false        │\n",
       "│ § 275.0-2_P2 │ Process                                │ NULL                                                                                                                                                                                                                             │             0 │ false        │\n",
       "│ § 275.0-2_P2 │ Pleadings                              │ Documents served on a non-resident investment adviser, general partner, or managing agent.                                                                                                                                       │             1 │ false        │\n",
       "│ § 275.0-2_P2 │ Evidence of service                    │ The certification by the Secretary that the Commission was served with process, pleadings, or other papers and forwarded these documents to a named party.                                                                       │             1 │ true         │\n",
       "│ § 275.0-2_P2 │ Last address filed with the Commission │ NULL                                                                                                                                                                                                                             │             0 │ false        │\n",
       "│      ·       │       ·                                │  ·                                                                                                                                                                                                                               │             · │   ·          │\n",
       "│      ·       │       ·                                │  ·                                                                                                                                                                                                                               │             · │   ·          │\n",
       "│      ·       │       ·                                │  ·                                                                                                                                                                                                                               │             · │   ·          │\n",
       "│ § 275.0-7_P2 │ Balance sheet                          │ NULL                                                                                                                                                                                                                             │             0 │ false        │\n",
       "│ § 275.0-7_P2 │ Elected manager                        │ NULL                                                                                                                                                                                                                             │             0 │ false        │\n",
       "│ § 275.0-7_P2 │ Investment adviser                     │ NULL                                                                                                                                                                                                                             │             0 │ false        │\n",
       "│ § 275.0-7_P2 │ Total assets                           │ The total assets as shown on the balance sheet of the investment adviser or other person described, or the balance sheet of the investment adviser or such other person with its subsidiaries consolidated, whichever is larger. │             1 │ true         │\n",
       "│ § 275.0-7_P2 │ Right to receive upon dissolution      │ NULL                                                                                                                                                                                                                             │             0 │ false        │\n",
       "│ § 275.0-7_P2 │ Person                                 │ NULL                                                                                                                                                                                                                             │             0 │ false        │\n",
       "│ § 275.0-7_P2 │ Management                             │ NULL                                                                                                                                                                                                                             │             0 │ false        │\n",
       "│ § 275.0-7_P2 │ Ownership of securities                │ NULL                                                                                                                                                                                                                             │             0 │ false        │\n",
       "│ § 275.0-7_P2 │ Natural person                         │ NULL                                                                                                                                                                                                                             │             0 │ false        │\n",
       "│ § 275.0-7_P2 │ Assets under management                │ NULL                                                                                                                                                                                                                             │             0 │ false        │\n",
       "├──────────────┴────────────────────────────────────────┴──────────────────────────────────────────────────────────────────────────────────────────────────────────────────────────────────────────────────────────────────────────────────────────────────────────────────────────────────┴───────────────┴──────────────┤\n",
       "│ 84 rows (20 shown)                                                                                                                                                                                                                                                                                            5 columns │\n",
       "└─────────────────────────────────────────────────────────────────────────────────────────────────────────────────────────────────────────────────────────────────────────────────────────────────────────────────────────────────────────────────────────────────────────────────────────────────────────────────────────┘"
      ]
     },
     "execution_count": 60,
     "metadata": {},
     "output_type": "execute_result"
    }
   ],
   "source": [
    "query = \"\"\"\n",
    "SELECT\n",
    "    id, terms.term as term, terms.definition as definition, if(terms.definition is NULL, 0, 1) as hasDefinition, terms.isLocalScope as isLocalScope\n",
    "FROM EXTRACTED_TERMS_TRUE\n",
    "-- GROUP BY id;\n",
    "\"\"\"\n",
    "\n",
    "conn.sql(query)"
   ]
  },
  {
   "cell_type": "markdown",
   "metadata": {},
   "source": [
    "How many terms has definition"
   ]
  },
  {
   "cell_type": "code",
   "execution_count": 61,
   "metadata": {},
   "outputs": [
    {
     "data": {
      "text/plain": [
       "┌──────────────┬───────┬───────────────┬─────────────────────┐\n",
       "│      id      │ term  │ hasDefinition │        ratio        │\n",
       "│   varchar    │ int64 │     int64     │       double        │\n",
       "├──────────────┼───────┼───────────────┼─────────────────────┤\n",
       "│ § 275.0-2_P2 │    31 │             9 │  0.2903225806451613 │\n",
       "│ § 275.0-5_P2 │    22 │            19 │  0.8636363636363636 │\n",
       "│ § 275.0-7_P2 │    31 │             8 │ 0.25806451612903225 │\n",
       "└──────────────┴───────┴───────────────┴─────────────────────┘"
      ]
     },
     "execution_count": 61,
     "metadata": {},
     "output_type": "execute_result"
    }
   ],
   "source": [
    "query = \"\"\"\n",
    "SELECT\n",
    "    id, count(terms) as term, count(if(terms.definition is NULL, NULL, 1)) as hasDefinition, count(if(terms.definition is NULL, NULL, 1)) / count(terms) as ratio\n",
    "FROM EXTRACTED_TERMS_TRUE\n",
    "GROUP BY id\n",
    "ORDER BY id\n",
    ";\n",
    "\"\"\"\n",
    "\n",
    "conn.sql(query)"
   ]
  },
  {
   "cell_type": "code",
   "execution_count": 62,
   "metadata": {},
   "outputs": [
    {
     "data": {
      "text/plain": [
       "┌──────────────┬───────┬──────────────┐\n",
       "│      id      │ term  │ isLocalScope │\n",
       "│   varchar    │ int64 │   boolean    │\n",
       "├──────────────┼───────┼──────────────┤\n",
       "│ § 275.0-2_P2 │     7 │ true         │\n",
       "│ § 275.0-2_P2 │    24 │ false        │\n",
       "│ § 275.0-5_P2 │    18 │ true         │\n",
       "│ § 275.0-5_P2 │     1 │ NULL         │\n",
       "│ § 275.0-5_P2 │     3 │ false        │\n",
       "│ § 275.0-7_P2 │     8 │ true         │\n",
       "│ § 275.0-7_P2 │    23 │ false        │\n",
       "└──────────────┴───────┴──────────────┘"
      ]
     },
     "execution_count": 62,
     "metadata": {},
     "output_type": "execute_result"
    }
   ],
   "source": [
    "query = \"\"\"\n",
    "SELECT\n",
    "    id, count(terms) as term, terms.isLocalScope as isLocalScope\n",
    "FROM EXTRACTED_TERMS_TRUE\n",
    "GROUP BY id, terms.isLocalScope\n",
    "ORDER BY id\n",
    ";\n",
    "\"\"\"\n",
    "\n",
    "conn.sql(query)"
   ]
  },
  {
   "cell_type": "markdown",
   "metadata": {},
   "source": [
    "isLocalScope per document"
   ]
  },
  {
   "cell_type": "code",
   "execution_count": 63,
   "metadata": {},
   "outputs": [
    {
     "data": {
      "text/plain": [
       "┌──────────────┬───────┬──────────────┬────────────────────┐\n",
       "│      id      │ term  │ isLocalScope │     percentage     │\n",
       "│   varchar    │ int64 │   boolean    │       double       │\n",
       "├──────────────┼───────┼──────────────┼────────────────────┤\n",
       "│ § 275.0-2_P2 │    24 │ false        │  77.41935483870968 │\n",
       "│ § 275.0-2_P2 │     7 │ true         │ 22.580645161290324 │\n",
       "│ § 275.0-5_P2 │     3 │ false        │ 13.636363636363637 │\n",
       "│ § 275.0-5_P2 │    18 │ true         │  81.81818181818181 │\n",
       "│ § 275.0-5_P2 │     1 │ NULL         │  4.545454545454546 │\n",
       "│ § 275.0-7_P2 │    23 │ false        │  74.19354838709677 │\n",
       "│ § 275.0-7_P2 │     8 │ true         │ 25.806451612903224 │\n",
       "└──────────────┴───────┴──────────────┴────────────────────┘"
      ]
     },
     "execution_count": 63,
     "metadata": {},
     "output_type": "execute_result"
    }
   ],
   "source": [
    "query = \"\"\"\n",
    "WITH TotalCounts AS (\n",
    "    SELECT\n",
    "        id,\n",
    "        COUNT(terms) AS total_terms\n",
    "    FROM EXTRACTED_TERMS_TRUE\n",
    "    GROUP BY id\n",
    ")\n",
    "SELECT\n",
    "    e.id,\n",
    "    COUNT(e.terms) AS term,\n",
    "    e.terms.isLocalScope AS isLocalScope,\n",
    "    (COUNT(e.terms) * 100.0 / tc.total_terms) AS percentage\n",
    "FROM EXTRACTED_TERMS_TRUE e\n",
    "JOIN TotalCounts tc ON e.id = tc.id\n",
    "GROUP BY e.id, e.terms.isLocalScope, tc.total_terms\n",
    "ORDER BY e.id, e.terms.isLocalScope;\n",
    "\"\"\"\n",
    "\n",
    "conn.sql(query)"
   ]
  },
  {
   "cell_type": "markdown",
   "metadata": {},
   "source": [
    "Total terms per id"
   ]
  },
  {
   "cell_type": "code",
   "execution_count": 64,
   "metadata": {},
   "outputs": [
    {
     "data": {
      "text/plain": [
       "┌──────────────┬─────────────┬──────────────────────┐\n",
       "│      id      │ total_terms │ total_terms_distinct │\n",
       "│   varchar    │    int64    │        int64         │\n",
       "├──────────────┼─────────────┼──────────────────────┤\n",
       "│ § 275.0-5_P2 │          22 │                   22 │\n",
       "│ § 275.0-7_P2 │          31 │                   31 │\n",
       "│ § 275.0-2_P2 │          31 │                   31 │\n",
       "└──────────────┴─────────────┴──────────────────────┘"
      ]
     },
     "execution_count": 64,
     "metadata": {},
     "output_type": "execute_result"
    }
   ],
   "source": [
    "query = \"\"\"\n",
    "SELECT\n",
    "    id, COUNT(terms) AS total_terms, COUNT(DISTINCT terms) AS total_terms_distinct\n",
    "FROM EXTRACTED_TERMS_TRUE\n",
    "GROUP BY id;\n",
    "\"\"\"\n",
    "\n",
    "conn.sql(query)"
   ]
  },
  {
   "cell_type": "markdown",
   "metadata": {},
   "source": [
    "terms"
   ]
  },
  {
   "cell_type": "code",
   "execution_count": 65,
   "metadata": {},
   "outputs": [
    {
     "data": {
      "text/plain": [
       "┌──────────────┬────────────────────────────────────────┬──────────────────────────────────────────────────────────────────────────────────────────────────────────────────────────────────────────────────────────────────────────────────────────────────────────────────────────────────┬───────────────┬──────────────┐\n",
       "│      id      │                  term                  │                                                                                                            definition                                                                                                            │ hasDefinition │ isLocalScope │\n",
       "│   varchar    │                varchar                 │                                                                                                             varchar                                                                                                              │     int32     │   boolean    │\n",
       "├──────────────┼────────────────────────────────────────┼──────────────────────────────────────────────────────────────────────────────────────────────────────────────────────────────────────────────────────────────────────────────────────────────────────────────────────────────────┼───────────────┼──────────────┤\n",
       "│ § 275.0-2_P2 │ Last address                           │ NULL                                                                                                                                                                                                                             │             0 │ false        │\n",
       "│ § 275.0-2_P2 │ Commission's records                   │ Records maintained by the Commission, which include copies of process, pleadings, or other papers served.                                                                                                                        │             1 │ true         │\n",
       "│ § 275.0-2_P2 │ Earliest date                          │ The earliest date upon which an order disposing of the matter may be entered, as indicated in the notice.                                                                                                                        │             1 │ false        │\n",
       "│ § 275.0-2_P2 │ Jurisdiction of the United States      │ NULL                                                                                                                                                                                                                             │             0 │ false        │\n",
       "│ § 275.0-2_P2 │ Commission                             │ NULL                                                                                                                                                                                                                             │             0 │ false        │\n",
       "│ § 275.0-2_P2 │ Papers                                 │ NULL                                                                                                                                                                                                                             │             0 │ false        │\n",
       "│ § 275.0-2_P2 │ Process                                │ NULL                                                                                                                                                                                                                             │             0 │ false        │\n",
       "│ § 275.0-2_P2 │ Pleadings                              │ Documents served on a non-resident investment adviser, general partner, or managing agent.                                                                                                                                       │             1 │ false        │\n",
       "│ § 275.0-2_P2 │ Evidence of service                    │ The certification by the Secretary that the Commission was served with process, pleadings, or other papers and forwarded these documents to a named party.                                                                       │             1 │ true         │\n",
       "│ § 275.0-2_P2 │ Last address filed with the Commission │ NULL                                                                                                                                                                                                                             │             0 │ false        │\n",
       "│      ·       │       ·                                │  ·                                                                                                                                                                                                                               │             · │   ·          │\n",
       "│      ·       │       ·                                │  ·                                                                                                                                                                                                                               │             · │   ·          │\n",
       "│      ·       │       ·                                │  ·                                                                                                                                                                                                                               │             · │   ·          │\n",
       "│ § 275.0-7_P2 │ Balance sheet                          │ NULL                                                                                                                                                                                                                             │             0 │ false        │\n",
       "│ § 275.0-7_P2 │ Elected manager                        │ NULL                                                                                                                                                                                                                             │             0 │ false        │\n",
       "│ § 275.0-7_P2 │ Investment adviser                     │ NULL                                                                                                                                                                                                                             │             0 │ false        │\n",
       "│ § 275.0-7_P2 │ Total assets                           │ The total assets as shown on the balance sheet of the investment adviser or other person described, or the balance sheet of the investment adviser or such other person with its subsidiaries consolidated, whichever is larger. │             1 │ true         │\n",
       "│ § 275.0-7_P2 │ Right to receive upon dissolution      │ NULL                                                                                                                                                                                                                             │             0 │ false        │\n",
       "│ § 275.0-7_P2 │ Person                                 │ NULL                                                                                                                                                                                                                             │             0 │ false        │\n",
       "│ § 275.0-7_P2 │ Management                             │ NULL                                                                                                                                                                                                                             │             0 │ false        │\n",
       "│ § 275.0-7_P2 │ Ownership of securities                │ NULL                                                                                                                                                                                                                             │             0 │ false        │\n",
       "│ § 275.0-7_P2 │ Natural person                         │ NULL                                                                                                                                                                                                                             │             0 │ false        │\n",
       "│ § 275.0-7_P2 │ Assets under management                │ NULL                                                                                                                                                                                                                             │             0 │ false        │\n",
       "├──────────────┴────────────────────────────────────────┴──────────────────────────────────────────────────────────────────────────────────────────────────────────────────────────────────────────────────────────────────────────────────────────────────────────────────────────────────┴───────────────┴──────────────┤\n",
       "│ 84 rows (20 shown)                                                                                                                                                                                                                                                                                            5 columns │\n",
       "└─────────────────────────────────────────────────────────────────────────────────────────────────────────────────────────────────────────────────────────────────────────────────────────────────────────────────────────────────────────────────────────────────────────────────────────────────────────────────────────┘"
      ]
     },
     "execution_count": 65,
     "metadata": {},
     "output_type": "execute_result"
    }
   ],
   "source": [
    "query = \"\"\"\n",
    "SELECT\n",
    "    id, terms.term as term, terms.definition as definition, if(terms.definition is NULL, 0, 1) as hasDefinition, terms.isLocalScope as isLocalScope\n",
    "FROM EXTRACTED_TERMS_TRUE\n",
    "-- GROUP BY id;\n",
    "\"\"\"\n",
    "\n",
    "conn.sql(query)"
   ]
  },
  {
   "cell_type": "markdown",
   "metadata": {},
   "source": [
    "How many terms has definition"
   ]
  },
  {
   "cell_type": "code",
   "execution_count": 66,
   "metadata": {},
   "outputs": [
    {
     "data": {
      "text/plain": [
       "┌──────────────┬───────┬───────────────┬─────────────────────┐\n",
       "│      id      │ term  │ hasDefinition │        ratio        │\n",
       "│   varchar    │ int64 │     int64     │       double        │\n",
       "├──────────────┼───────┼───────────────┼─────────────────────┤\n",
       "│ § 275.0-2_P2 │    31 │             9 │  0.2903225806451613 │\n",
       "│ § 275.0-5_P2 │    22 │            19 │  0.8636363636363636 │\n",
       "│ § 275.0-7_P2 │    31 │             8 │ 0.25806451612903225 │\n",
       "└──────────────┴───────┴───────────────┴─────────────────────┘"
      ]
     },
     "execution_count": 66,
     "metadata": {},
     "output_type": "execute_result"
    }
   ],
   "source": [
    "query = \"\"\"\n",
    "SELECT\n",
    "    id, count(terms) as term, count(if(terms.definition is NULL, NULL, 1)) as hasDefinition, count(if(terms.definition is NULL, NULL, 1)) / count(terms) as ratio\n",
    "FROM EXTRACTED_TERMS_TRUE\n",
    "GROUP BY id\n",
    "ORDER BY id\n",
    ";\n",
    "\"\"\"\n",
    "\n",
    "conn.sql(query)"
   ]
  },
  {
   "cell_type": "code",
   "execution_count": 29,
   "metadata": {},
   "outputs": [
    {
     "data": {
      "text/plain": [
       "┌──────────────┬───────┬──────────────┐\n",
       "│      id      │ term  │ isLocalScope │\n",
       "│   varchar    │ int64 │   boolean    │\n",
       "├──────────────┼───────┼──────────────┤\n",
       "│ § 275.0-2_P2 │     7 │ true         │\n",
       "│ § 275.0-2_P2 │    24 │ false        │\n",
       "│ § 275.0-5_P2 │    18 │ true         │\n",
       "│ § 275.0-5_P2 │     3 │ false        │\n",
       "│ § 275.0-5_P2 │     1 │ NULL         │\n",
       "│ § 275.0-7_P2 │     8 │ true         │\n",
       "│ § 275.0-7_P2 │    23 │ false        │\n",
       "└──────────────┴───────┴──────────────┘"
      ]
     },
     "execution_count": 29,
     "metadata": {},
     "output_type": "execute_result"
    }
   ],
   "source": [
    "query = \"\"\"\n",
    "SELECT\n",
    "    id, count(terms) as term, terms.isLocalScope as isLocalScope\n",
    "FROM EXTRACTED_TERMS_TRUE\n",
    "GROUP BY id, terms.isLocalScope\n",
    "ORDER BY id\n",
    ";\n",
    "\"\"\"\n",
    "\n",
    "conn.sql(query)"
   ]
  },
  {
   "cell_type": "code",
   "execution_count": 30,
   "metadata": {},
   "outputs": [
    {
     "data": {
      "text/plain": [
       "┌──────────────┬─────────────────────────────────────────────────────────────────────────────────────────────────────────────────────┬──────────────┐\n",
       "│      id      │                                                        terms                                                        │ isLocalScope │\n",
       "│   varchar    │                           struct(term varchar, definition varchar, islocalscope boolean)                            │   boolean    │\n",
       "├──────────────┼─────────────────────────────────────────────────────────────────────────────────────────────────────────────────────┼──────────────┤\n",
       "│ § 275.0-5_P2 │ {'term': Motion, 'definition': A formal proposal by the Commission to initiate a proceeding., 'isLocalScope': NULL} │ NULL         │\n",
       "└──────────────┴─────────────────────────────────────────────────────────────────────────────────────────────────────────────────────┴──────────────┘"
      ]
     },
     "execution_count": 30,
     "metadata": {},
     "output_type": "execute_result"
    }
   ],
   "source": [
    "query = \"\"\"\n",
    "SELECT\n",
    "    id, terms, terms.isLocalScope as isLocalScope\n",
    "FROM EXTRACTED_TERMS_TRUE\n",
    "WHERE terms.isLocalScope is NULL\n",
    ";\n",
    "\"\"\"\n",
    "\n",
    "conn.sql(query)"
   ]
  },
  {
   "cell_type": "code",
   "execution_count": 31,
   "metadata": {},
   "outputs": [
    {
     "data": {
      "text/plain": [
       "┌──────────────┬─────────────────────────────────────────────────────────────────────────────────────────────────────────────────────┬──────────────┐\n",
       "│      id      │                                                        terms                                                        │ isLocalScope │\n",
       "│   varchar    │                           struct(term varchar, definition varchar, islocalscope boolean)                            │   boolean    │\n",
       "├──────────────┼─────────────────────────────────────────────────────────────────────────────────────────────────────────────────────┼──────────────┤\n",
       "│ § 275.0-5_P2 │ {'term': Motion, 'definition': A formal proposal by the Commission to initiate a proceeding., 'isLocalScope': NULL} │ NULL         │\n",
       "└──────────────┴─────────────────────────────────────────────────────────────────────────────────────────────────────────────────────┴──────────────┘"
      ]
     },
     "execution_count": 31,
     "metadata": {},
     "output_type": "execute_result"
    }
   ],
   "source": [
    "query = \"\"\"\n",
    "SELECT\n",
    "    id, terms, terms.isLocalScope as isLocalScope\n",
    "FROM EXTRACTED_TERMS_TRUE\n",
    "WHERE terms.isLocalScope is NULL\n",
    ";\n",
    "\"\"\"\n",
    "\n",
    "conn.sql(query)"
   ]
  },
  {
   "cell_type": "markdown",
   "metadata": {},
   "source": [
    "### Predict table"
   ]
  },
  {
   "cell_type": "code",
   "execution_count": 67,
   "metadata": {},
   "outputs": [
    {
     "name": "stdout",
     "output_type": "stream",
     "text": [
      "cfr2sbvr_db/extraction/documents-2024-11-29-4.json\n",
      "§ 275.0-2_P2|llm_response\n",
      "§ 275.0-5_P2|llm_response\n",
      "§ 275.0-7_P2|llm_response\n",
      "_query_drop_table='\\n        DROP TABLE EXTRACTED_TERMS;\\n        '\n",
      "Trying to drop table because drop parameter is True\n",
      "Table EXTRACTED_TERMS dropped\n",
      "_query_insert_data='\\n    INSERT INTO EXTRACTED_TERMS (id, prompt, file_source, terms, created_at)\\n    SELECT \\n        id, \\n        \\'extract_p2\\' as prompt, \\n        \\'documents-2024-11-29-4.json\\' as file_source, \\n        unnest(content.terms) as terms,\\n        now() as created_at\\n    FROM \\n        read_json_auto(\"temp/documents-2024-11-29-4.json\");\\n    '\n",
      "Trying to insert into EXTRACTED_TERMS\n",
      "Catalog Error: Table with name EXTRACTED_TERMS does not exist!\n",
      "Did you mean \"database.EXTRACTED_TERMS\"?\n",
      "Failed to insert, trying create EXTRACTED_TERMS\n",
      "_query_create_table='\\n        CREATE TABLE EXTRACTED_TERMS AS\\n        SELECT id, \\n        \\'extract_p2\\' as prompt, \\n        \\'documents-2024-11-29-4.json\\' as file_source, \\n        unnest(content.terms) as terms,\\n        now() as \\'created_at\\'\\n        FROM read_json_auto(\"temp/documents-2024-11-29-4.json\");\\n        '\n",
      "Table EXTRACTED_TERMS created and loaded.\n",
      "cfr2sbvr_db/extraction/documents-2024-12-02-5.json\n",
      "§ 275.0-2_P2|llm_response\n",
      "§ 275.0-5_P2|llm_response\n",
      "§ 275.0-7_P2|llm_response\n",
      "_query_insert_data='\\n    INSERT INTO EXTRACTED_TERMS (id, prompt, file_source, terms, created_at)\\n    SELECT \\n        id, \\n        \\'extract_p2\\' as prompt, \\n        \\'documents-2024-12-02-5.json\\' as file_source, \\n        unnest(content.terms) as terms,\\n        now() as created_at\\n    FROM \\n        read_json_auto(\"temp/documents-2024-12-02-5.json\");\\n    '\n",
      "Trying to insert into EXTRACTED_TERMS\n",
      "Data inserted into EXTRACTED_TERMS.\n",
      "cfr2sbvr_db/extraction/documents-2024-12-02-9.json\n",
      "§ 275.0-2_P2|llm_response\n",
      "§ 275.0-5_P2|llm_response\n",
      "§ 275.0-7_P2|llm_response\n",
      "_query_insert_data='\\n    INSERT INTO EXTRACTED_TERMS (id, prompt, file_source, terms, created_at)\\n    SELECT \\n        id, \\n        \\'extract_p2\\' as prompt, \\n        \\'documents-2024-12-02-9.json\\' as file_source, \\n        unnest(content.terms) as terms,\\n        now() as created_at\\n    FROM \\n        read_json_auto(\"temp/documents-2024-12-02-9.json\");\\n    '\n",
      "Trying to insert into EXTRACTED_TERMS\n",
      "Data inserted into EXTRACTED_TERMS.\n",
      "cfr2sbvr_db/extraction/documents-2024-12-02-8.json\n",
      "§ 275.0-2_P2|llm_response\n",
      "§ 275.0-5_P2|llm_response\n",
      "§ 275.0-7_P2|llm_response\n",
      "_query_insert_data='\\n    INSERT INTO EXTRACTED_TERMS (id, prompt, file_source, terms, created_at)\\n    SELECT \\n        id, \\n        \\'extract_p2\\' as prompt, \\n        \\'documents-2024-12-02-8.json\\' as file_source, \\n        unnest(content.terms) as terms,\\n        now() as created_at\\n    FROM \\n        read_json_auto(\"temp/documents-2024-12-02-8.json\");\\n    '\n",
      "Trying to insert into EXTRACTED_TERMS\n",
      "Data inserted into EXTRACTED_TERMS.\n",
      "cfr2sbvr_db/extraction/documents-2024-11-30-1.json\n",
      "§ 275.0-2_P2|llm_response\n",
      "§ 275.0-5_P2|llm_response\n",
      "§ 275.0-7_P2|llm_response\n",
      "_query_insert_data='\\n    INSERT INTO EXTRACTED_TERMS (id, prompt, file_source, terms, created_at)\\n    SELECT \\n        id, \\n        \\'extract_p2\\' as prompt, \\n        \\'documents-2024-11-30-1.json\\' as file_source, \\n        unnest(content.terms) as terms,\\n        now() as created_at\\n    FROM \\n        read_json_auto(\"temp/documents-2024-11-30-1.json\");\\n    '\n",
      "Trying to insert into EXTRACTED_TERMS\n",
      "Data inserted into EXTRACTED_TERMS.\n",
      "cfr2sbvr_db/extraction/documents-2024-12-02-4.json\n",
      "§ 275.0-2_P2|llm_response\n",
      "§ 275.0-5_P2|llm_response\n",
      "§ 275.0-7_P2|llm_response\n",
      "_query_insert_data='\\n    INSERT INTO EXTRACTED_TERMS (id, prompt, file_source, terms, created_at)\\n    SELECT \\n        id, \\n        \\'extract_p2\\' as prompt, \\n        \\'documents-2024-12-02-4.json\\' as file_source, \\n        unnest(content.terms) as terms,\\n        now() as created_at\\n    FROM \\n        read_json_auto(\"temp/documents-2024-12-02-4.json\");\\n    '\n",
      "Trying to insert into EXTRACTED_TERMS\n",
      "Data inserted into EXTRACTED_TERMS.\n",
      "cfr2sbvr_db/extraction/documents-2024-11-30-2.json\n",
      "§ 275.0-2_P2|llm_response\n",
      "§ 275.0-5_P2|llm_response\n",
      "§ 275.0-7_P2|llm_response\n",
      "_query_insert_data='\\n    INSERT INTO EXTRACTED_TERMS (id, prompt, file_source, terms, created_at)\\n    SELECT \\n        id, \\n        \\'extract_p2\\' as prompt, \\n        \\'documents-2024-11-30-2.json\\' as file_source, \\n        unnest(content.terms) as terms,\\n        now() as created_at\\n    FROM \\n        read_json_auto(\"temp/documents-2024-11-30-2.json\");\\n    '\n",
      "Trying to insert into EXTRACTED_TERMS\n",
      "Data inserted into EXTRACTED_TERMS.\n",
      "cfr2sbvr_db/extraction/documents-2024-12-02-6.json\n",
      "§ 275.0-2_P2|llm_response\n",
      "§ 275.0-5_P2|llm_response\n",
      "§ 275.0-7_P2|llm_response\n",
      "_query_insert_data='\\n    INSERT INTO EXTRACTED_TERMS (id, prompt, file_source, terms, created_at)\\n    SELECT \\n        id, \\n        \\'extract_p2\\' as prompt, \\n        \\'documents-2024-12-02-6.json\\' as file_source, \\n        unnest(content.terms) as terms,\\n        now() as created_at\\n    FROM \\n        read_json_auto(\"temp/documents-2024-12-02-6.json\");\\n    '\n",
      "Trying to insert into EXTRACTED_TERMS\n",
      "Data inserted into EXTRACTED_TERMS.\n",
      "cfr2sbvr_db/extraction/documents-2024-12-02-1.json\n",
      "§ 275.0-2_P2|llm_response\n",
      "§ 275.0-5_P2|llm_response\n",
      "§ 275.0-7_P2|llm_response\n",
      "_query_insert_data='\\n    INSERT INTO EXTRACTED_TERMS (id, prompt, file_source, terms, created_at)\\n    SELECT \\n        id, \\n        \\'extract_p2\\' as prompt, \\n        \\'documents-2024-12-02-1.json\\' as file_source, \\n        unnest(content.terms) as terms,\\n        now() as created_at\\n    FROM \\n        read_json_auto(\"temp/documents-2024-12-02-1.json\");\\n    '\n",
      "Trying to insert into EXTRACTED_TERMS\n",
      "Data inserted into EXTRACTED_TERMS.\n"
     ]
    }
   ],
   "source": [
    "# Define the directory and pattern\n",
    "directory = Path(\"cfr2sbvr_db/extraction\")\n",
    "pattern = \"documents-*.json\"\n",
    "\n",
    "# Use glob to find all files matching the pattern\n",
    "files = directory.glob(pattern)\n",
    "\n",
    "drop=True # Drop the table first time\n",
    "for file_path in files:\n",
    "    print(file_path)  # Output each file path\n",
    "    upsert_table_from_json(\n",
    "        conn,\n",
    "        suffix_key_pattern=\"_P2|llm_response\",\n",
    "        prefix_key_pattern=\"§\",\n",
    "        table_name=\"EXTRACTED_TERMS\",\n",
    "        source=file_path,\n",
    "        key_value=\"extract_p2\",\n",
    "        drop=drop,\n",
    "        content_key=\"content.terms\",\n",
    "        alias=\"terms\",\n",
    "        doc_id_key=\"id\"\n",
    "    )\n",
    "    drop=False # Stop dropping tables"
   ]
  },
  {
   "cell_type": "code",
   "execution_count": 68,
   "metadata": {},
   "outputs": [
    {
     "data": {
      "text/plain": [
       "┌──────────────┬────────────┬─────────────────────────────┬────────────────────────────────────────────────────────────────────────────────────────────────────────────────────────────────────────────────────────────────────────────────────────────────────────────────────────────────────────────────────────────────────────────────────────────────────────────────────────────────────────────────────────────────────────────────────────────────────────────────────────────────────────────────────────────────────────────────────────────────────────────────────────────────────────────────────────────────────────────────────────────────────────────────────────────────────────────────────────────────────────────────────────────────────────────────────────────────────────────────────────────┬────────────────────────────┐\n",
       "│      id      │   prompt   │         file_source         │                                                                                                                                                                                                                                                                                                                                                                           terms                                                                                                                                                                                                                                                                                                                                                                            │         created_at         │\n",
       "│   varchar    │  varchar   │           varchar           │                                                                                                                                                                                                                                                                                                struct(term varchar, definition varchar, confidence double, reason varchar, islocalscope boolean, local_scope_confidence double, local_scope_reason varchar)                                                                                                                                                                                                                                                                                                │  timestamp with time zone  │\n",
       "├──────────────┼────────────┼─────────────────────────────┼────────────────────────────────────────────────────────────────────────────────────────────────────────────────────────────────────────────────────────────────────────────────────────────────────────────────────────────────────────────────────────────────────────────────────────────────────────────────────────────────────────────────────────────────────────────────────────────────────────────────────────────────────────────────────────────────────────────────────────────────────────────────────────────────────────────────────────────────────────────────────────────────────────────────────────────────────────────────────────────────────────────────────────────────────────────────────────────────────────────────────────────┼────────────────────────────┤\n",
       "│ § 275.0-2_P2 │ extract_p2 │ documents-2024-11-29-4.json │ {'term': Association, 'definition': NULL, 'confidence': 0.5, 'reason': The document does not provide a direct definition for 'Association'. It is mentioned in the context of managing agents., 'isLocalScope': false, 'local_scope_confidence': 0.5, 'local_scope_reason': The term is used in a general context without specific local scope indication.}                                                                                                                                                                                                                                                                                                                                                                                                │ 2024-12-12 17:42:37.596-03 │\n",
       "│ § 275.0-2_P2 │ extract_p2 │ documents-2024-11-29-4.json │ {'term': Non-resident investment adviser, 'definition': NULL, 'confidence': 0.5, 'reason': The document does not provide a direct definition for 'Non-resident investment adviser'. It is mentioned in the context of serving process., 'isLocalScope': false, 'local_scope_confidence': 0.5, 'local_scope_reason': The term is used in a general context without specific local scope indication.}                                                                                                                                                                                                                                                                                                                                                        │ 2024-12-12 17:42:37.596-03 │\n",
       "│ § 275.0-2_P2 │ extract_p2 │ documents-2024-11-29-4.json │ {'term': Partnership, 'definition': NULL, 'confidence': 0.5, 'reason': The document does not provide a direct definition for 'Partnership'. It is mentioned in the context of non-residents., 'isLocalScope': false, 'local_scope_confidence': 0.5, 'local_scope_reason': The term is used in a general context without specific local scope indication.}                                                                                                                                                                                                                                                                                                                                                                                                  │ 2024-12-12 17:42:37.596-03 │\n",
       "│ § 275.0-2_P2 │ extract_p2 │ documents-2024-11-29-4.json │ {'term': Non-resident, 'definition': An individual, corporation, partnership, or other unincorporated organization or association that resides or has its principal office and place of business in any place not subject to the jurisdiction of the United States., 'confidence': 1.0, 'reason': The definition is explicitly provided in the document under section (b)(2)., 'isLocalScope': true, 'local_scope_confidence': 1.0, 'local_scope_reason': The definition is specifically stated to be for purposes of this section.}                                                                                                                                                                                                                       │ 2024-12-12 17:42:37.596-03 │\n",
       "│ § 275.0-2_P2 │ extract_p2 │ documents-2024-11-29-4.json │ {'term': Non-resident general partner, 'definition': NULL, 'confidence': 0.5, 'reason': The document does not provide a direct definition for 'Non-resident general partner'. It is mentioned in the context of serving process., 'isLocalScope': false, 'local_scope_confidence': 0.5, 'local_scope_reason': The term is used in a general context without specific local scope indication.}                                                                                                                                                                                                                                                                                                                                                              │ 2024-12-12 17:42:37.596-03 │\n",
       "│ § 275.0-2_P2 │ extract_p2 │ documents-2024-11-29-4.json │ {'term': Secretary of the Commission, 'definition': The Secretary of the Commission is responsible for forwarding copies of process, pleadings, or other papers to each named party by registered or certified mail., 'confidence': 0.8, 'reason': The role of the Secretary is described in the document, but not explicitly defined as a term., 'isLocalScope': true, 'local_scope_confidence': 0.8, 'local_scope_reason': The role is described specifically in the context of this section.}                                                                                                                                                                                                                                                           │ 2024-12-12 17:42:37.596-03 │\n",
       "│ § 275.0-2_P2 │ extract_p2 │ documents-2024-11-29-4.json │ {'term': Secretary, 'definition': The Secretary of the Commission is responsible for forwarding copies of process, pleadings, or other papers to each named party by registered or certified mail., 'confidence': 0.8, 'reason': The role of the Secretary is described in the document, but not explicitly defined as a term., 'isLocalScope': true, 'local_scope_confidence': 0.8, 'local_scope_reason': The role is described specifically in the context of this section.}                                                                                                                                                                                                                                                                             │ 2024-12-12 17:42:37.596-03 │\n",
       "│ § 275.0-2_P2 │ extract_p2 │ documents-2024-11-29-4.json │ {'term': Certified mail, 'definition': NULL, 'confidence': 0.5, 'reason': The document mentions 'certified mail' but does not define it., 'isLocalScope': false, 'local_scope_confidence': 0.5, 'local_scope_reason': The term is used in a general context without specific local scope indication.}                                                                                                                                                                                                                                                                                                                                                                                                                                                      │ 2024-12-12 17:42:37.596-03 │\n",
       "│ § 275.0-2_P2 │ extract_p2 │ documents-2024-11-29-4.json │ {'term': Non-resident managing agent, 'definition': NULL, 'confidence': 0.5, 'reason': The document does not provide a direct definition for 'Non-resident managing agent'. It is mentioned in the context of serving process., 'isLocalScope': false, 'local_scope_confidence': 0.5, 'local_scope_reason': The term is used in a general context without specific local scope indication.}                                                                                                                                                                                                                                                                                                                                                                │ 2024-12-12 17:42:37.596-03 │\n",
       "│ § 275.0-2_P2 │ extract_p2 │ documents-2024-11-29-4.json │ {'term': Corporation, 'definition': NULL, 'confidence': 0.5, 'reason': The document does not provide a direct definition for 'Corporation'. It is mentioned in the context of non-residents., 'isLocalScope': false, 'local_scope_confidence': 0.5, 'local_scope_reason': The term is used in a general context without specific local scope indication.}                                                                                                                                                                                                                                                                                                                                                                                                  │ 2024-12-12 17:42:37.596-03 │\n",
       "│      ·       │     ·      │              ·              │                                                                                                                                                                       ·                                                                                                                                                                                                                                                                                                                                                                                                                                                                                                                                                                                    │             ·              │\n",
       "│      ·       │     ·      │              ·              │                                                                                                                                                                       ·                                                                                                                                                                                                                                                                                                                                                                                                                                                                                                                                                                                    │             ·              │\n",
       "│      ·       │     ·      │              ·              │                                                                                                                                                                       ·                                                                                                                                                                                                                                                                                                                                                                                                                                                                                                                                                                                    │             ·              │\n",
       "│ § 275.0-7_P2 │ extract_p2 │ documents-2024-12-02-1.json │ {'term': Right to receive upon dissolution, 'definition': NULL, 'confidence': 0.0, 'reason': The document does not provide a definition for 'Right to receive upon dissolution'., 'isLocalScope': false, 'local_scope_confidence': 0.0, 'local_scope_reason': There is no indication of local scope for 'Right to receive upon dissolution'.}                                                                                                                                                                                                                                                                                                                                                                                                              │ 2024-12-12 17:42:37.656-03 │\n",
       "│ § 275.0-7_P2 │ extract_p2 │ documents-2024-12-02-1.json │ {'term': Partnership, 'definition': NULL, 'confidence': 0.0, 'reason': The document does not provide a definition for 'Partnership'., 'isLocalScope': false, 'local_scope_confidence': 0.0, 'local_scope_reason': There is no indication of local scope for 'Partnership'.}                                                                                                                                                                                                                                                                                                                                                                                                                                                                                │ 2024-12-12 17:42:37.656-03 │\n",
       "│ § 275.0-7_P2 │ extract_p2 │ documents-2024-12-02-1.json │ {'term': Commission, 'definition': NULL, 'confidence': 0.0, 'reason': The document does not provide a definition for 'Commission'., 'isLocalScope': false, 'local_scope_confidence': 0.0, 'local_scope_reason': There is no indication of local scope for 'Commission'.}                                                                                                                                                                                                                                                                                                                                                                                                                                                                                   │ 2024-12-12 17:42:37.656-03 │\n",
       "│ § 275.0-7_P2 │ extract_p2 │ documents-2024-12-02-1.json │ {'term': Elected manager, 'definition': NULL, 'confidence': 0.0, 'reason': The document does not provide a definition for 'Elected manager'., 'isLocalScope': false, 'local_scope_confidence': 0.0, 'local_scope_reason': There is no indication of local scope for 'Elected manager'.}                                                                                                                                                                                                                                                                                                                                                                                                                                                                    │ 2024-12-12 17:42:37.656-03 │\n",
       "│ § 275.0-7_P2 │ extract_p2 │ documents-2024-12-02-1.json │ {'term': Small organization, 'definition': A small business or small organization for purposes of the Investment Advisers Act of 1940 is an investment adviser with assets under management of less than $25 million, did not have total assets of $5 million or more on the last day of the most recent fiscal year, and does not control or is not controlled by another investment adviser with assets under management of $25 million or more., 'confidence': 0.9, 'reason': The document provides a clear definition of 'Small organization' in the context of the Investment Advisers Act., 'isLocalScope': true, 'local_scope_confidence': 0.9, 'local_scope_reason': The definition is specific to the context of the Regulatory Flexibility Act.} │ 2024-12-12 17:42:37.656-03 │\n",
       "│ § 275.0-7_P2 │ extract_p2 │ documents-2024-12-02-1.json │ {'term': Management, 'definition': NULL, 'confidence': 0.0, 'reason': The document does not provide a definition for 'Management'., 'isLocalScope': false, 'local_scope_confidence': 0.0, 'local_scope_reason': There is no indication of local scope for 'Management'.}                                                                                                                                                                                                                                                                                                                                                                                                                                                                                   │ 2024-12-12 17:42:37.656-03 │\n",
       "│ § 275.0-7_P2 │ extract_p2 │ documents-2024-12-02-1.json │ {'term': Ownership of securities, 'definition': NULL, 'confidence': 0.0, 'reason': The document does not provide a definition for 'Ownership of securities'., 'isLocalScope': false, 'local_scope_confidence': 0.0, 'local_scope_reason': There is no indication of local scope for 'Ownership of securities'.}                                                                                                                                                                                                                                                                                                                                                                                                                                            │ 2024-12-12 17:42:37.656-03 │\n",
       "│ § 275.0-7_P2 │ extract_p2 │ documents-2024-12-02-1.json │ {'term': Balance sheet, 'definition': NULL, 'confidence': 0.0, 'reason': The document does not provide a definition for 'Balance sheet'., 'isLocalScope': false, 'local_scope_confidence': 0.0, 'local_scope_reason': There is no indication of local scope for 'Balance sheet'.}                                                                                                                                                                                                                                                                                                                                                                                                                                                                          │ 2024-12-12 17:42:37.656-03 │\n",
       "│ § 275.0-7_P2 │ extract_p2 │ documents-2024-12-02-1.json │ {'term': Right to vote, 'definition': NULL, 'confidence': 0.0, 'reason': The document does not provide a definition for 'Right to vote'., 'isLocalScope': false, 'local_scope_confidence': 0.0, 'local_scope_reason': There is no indication of local scope for 'Right to vote'.}                                                                                                                                                                                                                                                                                                                                                                                                                                                                          │ 2024-12-12 17:42:37.656-03 │\n",
       "│ § 275.0-7_P2 │ extract_p2 │ documents-2024-12-02-1.json │ {'term': Policies, 'definition': NULL, 'confidence': 0.0, 'reason': The document does not provide a definition for 'Policies'., 'isLocalScope': false, 'local_scope_confidence': 0.0, 'local_scope_reason': There is no indication of local scope for 'Policies'.}                                                                                                                                                                                                                                                                                                                                                                                                                                                                                         │ 2024-12-12 17:42:37.656-03 │\n",
       "├──────────────┴────────────┴─────────────────────────────┴────────────────────────────────────────────────────────────────────────────────────────────────────────────────────────────────────────────────────────────────────────────────────────────────────────────────────────────────────────────────────────────────────────────────────────────────────────────────────────────────────────────────────────────────────────────────────────────────────────────────────────────────────────────────────────────────────────────────────────────────────────────────────────────────────────────────────────────────────────────────────────────────────────────────────────────────────────────────────────────────────────────────────────────────────────────────────────────────────────────────────────────┴────────────────────────────┤\n",
       "│ 636 rows (20 shown)                                                                                                                                                                                                                                                                                                                                                                                                                                                                                                                                                                                                                                                                                                                                                                                                                     5 columns │\n",
       "└───────────────────────────────────────────────────────────────────────────────────────────────────────────────────────────────────────────────────────────────────────────────────────────────────────────────────────────────────────────────────────────────────────────────────────────────────────────────────────────────────────────────────────────────────────────────────────────────────────────────────────────────────────────────────────────────────────────────────────────────────────────────────────────────────────────────────────────────────────────────────────────────────────────────────────────────────────────────────────────────────────────────────────────────────────────────────────────────────────────────────────────────────────────────────────────────────────────────────────────────────────────────────┘"
      ]
     },
     "execution_count": 68,
     "metadata": {},
     "output_type": "execute_result"
    }
   ],
   "source": [
    "query = \"\"\"\n",
    "SELECT * FROM EXTRACTED_TERMS;\n",
    "\"\"\"\n",
    "\n",
    "conn.sql(query)"
   ]
  },
  {
   "cell_type": "markdown",
   "metadata": {},
   "source": [
    "Total verb symbols extracted"
   ]
  },
  {
   "cell_type": "code",
   "execution_count": 69,
   "metadata": {},
   "outputs": [
    {
     "data": {
      "text/plain": [
       "┌──────────────┬─────────────┬──────────────────────┐\n",
       "│      id      │ total_terms │ total_terms_distinct │\n",
       "│   varchar    │    int64    │        int64         │\n",
       "├──────────────┼─────────────┼──────────────────────┤\n",
       "│ § 275.0-7_P2 │         245 │                  180 │\n",
       "│ § 275.0-2_P2 │         224 │                  154 │\n",
       "│ § 275.0-5_P2 │         167 │                  149 │\n",
       "└──────────────┴─────────────┴──────────────────────┘"
      ]
     },
     "execution_count": 69,
     "metadata": {},
     "output_type": "execute_result"
    }
   ],
   "source": [
    "query = \"\"\"\n",
    "SELECT\n",
    "    id, COUNT(terms) AS total_terms, COUNT(DISTINCT terms) AS total_terms_distinct\n",
    "FROM EXTRACTED_TERMS\n",
    "GROUP BY id;\n",
    "\"\"\"\n",
    "\n",
    "conn.sql(query)"
   ]
  },
  {
   "cell_type": "markdown",
   "metadata": {},
   "source": [
    "distinct verb symbols"
   ]
  },
  {
   "cell_type": "code",
   "execution_count": 70,
   "metadata": {},
   "outputs": [
    {
     "data": {
      "text/plain": [
       "┌──────────────┬───────────────────────────────────┬─────────────────────────────────────────────────────────────────────────────────────────────────────────────────────────────────────────────────────────────────────────────────────────────────────────────────────────────────────────────────────────────────────────────────────────────────────────────────────────────────────────────────────────────────────────────────────────────────────────┬───────────────┬──────────────┐\n",
       "│      id      │               term                │                                                                                                                                                                                               definition                                                                                                                                                                                                │ hasDefinition │ isLocalScope │\n",
       "│   varchar    │              varchar              │                                                                                                                                                                                                 varchar                                                                                                                                                                                                 │     int32     │   boolean    │\n",
       "├──────────────┼───────────────────────────────────┼─────────────────────────────────────────────────────────────────────────────────────────────────────────────────────────────────────────────────────────────────────────────────────────────────────────────────────────────────────────────────────────────────────────────────────────────────────────────────────────────────────────────────────────────────────────────────────────────────────────┼───────────────┼──────────────┤\n",
       "│ § 275.0-2_P2 │ Association                       │ NULL                                                                                                                                                                                                                                                                                                                                                                                                    │             0 │ false        │\n",
       "│ § 275.0-2_P2 │ Non-resident investment adviser   │ NULL                                                                                                                                                                                                                                                                                                                                                                                                    │             0 │ false        │\n",
       "│ § 275.0-2_P2 │ Partnership                       │ NULL                                                                                                                                                                                                                                                                                                                                                                                                    │             0 │ false        │\n",
       "│ § 275.0-2_P2 │ Non-resident                      │ An individual, corporation, partnership, or other unincorporated organization or association that resides or has its principal office and place of business in any place not subject to the jurisdiction of the United States.                                                                                                                                                                          │             1 │ true         │\n",
       "│ § 275.0-2_P2 │ Non-resident general partner      │ NULL                                                                                                                                                                                                                                                                                                                                                                                                    │             0 │ false        │\n",
       "│ § 275.0-2_P2 │ Secretary of the Commission       │ The Secretary of the Commission is responsible for forwarding copies of process, pleadings, or other papers to each named party by registered or certified mail.                                                                                                                                                                                                                                        │             1 │ true         │\n",
       "│ § 275.0-2_P2 │ Secretary                         │ The Secretary of the Commission is responsible for forwarding copies of process, pleadings, or other papers to each named party by registered or certified mail.                                                                                                                                                                                                                                        │             1 │ true         │\n",
       "│ § 275.0-2_P2 │ Certified mail                    │ NULL                                                                                                                                                                                                                                                                                                                                                                                                    │             0 │ false        │\n",
       "│ § 275.0-2_P2 │ Non-resident managing agent       │ NULL                                                                                                                                                                                                                                                                                                                                                                                                    │             0 │ false        │\n",
       "│ § 275.0-2_P2 │ Corporation                       │ NULL                                                                                                                                                                                                                                                                                                                                                                                                    │             0 │ false        │\n",
       "│      ·       │      ·                            │  ·                                                                                                                                                                                                                                                                                                                                                                                                      │             · │   ·          │\n",
       "│      ·       │      ·                            │  ·                                                                                                                                                                                                                                                                                                                                                                                                      │             · │   ·          │\n",
       "│      ·       │      ·                            │  ·                                                                                                                                                                                                                                                                                                                                                                                                      │             · │   ·          │\n",
       "│ § 275.0-7_P2 │ Right to receive upon dissolution │ NULL                                                                                                                                                                                                                                                                                                                                                                                                    │             0 │ false        │\n",
       "│ § 275.0-7_P2 │ Partnership                       │ NULL                                                                                                                                                                                                                                                                                                                                                                                                    │             0 │ false        │\n",
       "│ § 275.0-7_P2 │ Commission                        │ NULL                                                                                                                                                                                                                                                                                                                                                                                                    │             0 │ false        │\n",
       "│ § 275.0-7_P2 │ Elected manager                   │ NULL                                                                                                                                                                                                                                                                                                                                                                                                    │             0 │ false        │\n",
       "│ § 275.0-7_P2 │ Small organization                │ A small business or small organization for purposes of the Investment Advisers Act of 1940 is an investment adviser with assets under management of less than $25 million, did not have total assets of $5 million or more on the last day of the most recent fiscal year, and does not control or is not controlled by another investment adviser with assets under management of $25 million or more. │             1 │ true         │\n",
       "│ § 275.0-7_P2 │ Management                        │ NULL                                                                                                                                                                                                                                                                                                                                                                                                    │             0 │ false        │\n",
       "│ § 275.0-7_P2 │ Ownership of securities           │ NULL                                                                                                                                                                                                                                                                                                                                                                                                    │             0 │ false        │\n",
       "│ § 275.0-7_P2 │ Balance sheet                     │ NULL                                                                                                                                                                                                                                                                                                                                                                                                    │             0 │ false        │\n",
       "│ § 275.0-7_P2 │ Right to vote                     │ NULL                                                                                                                                                                                                                                                                                                                                                                                                    │             0 │ false        │\n",
       "│ § 275.0-7_P2 │ Policies                          │ NULL                                                                                                                                                                                                                                                                                                                                                                                                    │             0 │ false        │\n",
       "├──────────────┴───────────────────────────────────┴─────────────────────────────────────────────────────────────────────────────────────────────────────────────────────────────────────────────────────────────────────────────────────────────────────────────────────────────────────────────────────────────────────────────────────────────────────────────────────────────────────────────────────────────────────────────────────────────────────────┴───────────────┴──────────────┤\n",
       "│ 636 rows (20 shown)                                                                                                                                                                                                                                                                                                                                                                                                                                                             5 columns │\n",
       "└───────────────────────────────────────────────────────────────────────────────────────────────────────────────────────────────────────────────────────────────────────────────────────────────────────────────────────────────────────────────────────────────────────────────────────────────────────────────────────────────────────────────────────────────────────────────────────────────────────────────────────────────────────────────────────────────────────────────────────────┘"
      ]
     },
     "execution_count": 70,
     "metadata": {},
     "output_type": "execute_result"
    }
   ],
   "source": [
    "query = \"\"\"\n",
    "SELECT\n",
    "    id, terms.term as term, terms.definition as definition, if(terms.definition is NULL, 0, 1) as hasDefinition, terms.isLocalScope as isLocalScope\n",
    "FROM EXTRACTED_TERMS\n",
    "-- GROUP BY id;\n",
    "\"\"\"\n",
    "\n",
    "conn.sql(query)"
   ]
  },
  {
   "cell_type": "markdown",
   "metadata": {},
   "source": [
    "How many terms has definition"
   ]
  },
  {
   "cell_type": "code",
   "execution_count": 71,
   "metadata": {},
   "outputs": [
    {
     "data": {
      "text/plain": [
       "┌──────────────┬───────┬───────────────┬─────────────────────┐\n",
       "│      id      │ term  │ hasDefinition │        ratio        │\n",
       "│   varchar    │ int64 │     int64     │       double        │\n",
       "├──────────────┼───────┼───────────────┼─────────────────────┤\n",
       "│ § 275.0-2_P2 │   224 │            55 │ 0.24553571428571427 │\n",
       "│ § 275.0-5_P2 │   167 │            67 │ 0.40119760479041916 │\n",
       "│ § 275.0-7_P2 │   245 │            51 │ 0.20816326530612245 │\n",
       "└──────────────┴───────┴───────────────┴─────────────────────┘"
      ]
     },
     "execution_count": 71,
     "metadata": {},
     "output_type": "execute_result"
    }
   ],
   "source": [
    "query = \"\"\"\n",
    "SELECT\n",
    "    id, count(terms) as term, count(if(terms.definition is NULL, NULL, 1)) as hasDefinition, count(if(terms.definition is NULL, NULL, 1)) / count(terms) as ratio\n",
    "FROM EXTRACTED_TERMS\n",
    "GROUP BY id\n",
    "ORDER BY id\n",
    ";\n",
    "\"\"\"\n",
    "\n",
    "conn.sql(query)"
   ]
  },
  {
   "cell_type": "code",
   "execution_count": 72,
   "metadata": {},
   "outputs": [
    {
     "data": {
      "text/plain": [
       "┌──────────────┬───────┬──────────────┐\n",
       "│      id      │ term  │ isLocalScope │\n",
       "│   varchar    │ int64 │   boolean    │\n",
       "├──────────────┼───────┼──────────────┤\n",
       "│ § 275.0-2_P2 │    55 │ true         │\n",
       "│ § 275.0-2_P2 │   169 │ false        │\n",
       "│ § 275.0-5_P2 │    66 │ true         │\n",
       "│ § 275.0-5_P2 │   101 │ false        │\n",
       "│ § 275.0-7_P2 │    50 │ true         │\n",
       "│ § 275.0-7_P2 │   195 │ false        │\n",
       "└──────────────┴───────┴──────────────┘"
      ]
     },
     "execution_count": 72,
     "metadata": {},
     "output_type": "execute_result"
    }
   ],
   "source": [
    "query = \"\"\"\n",
    "SELECT\n",
    "    id, count(terms) as term, terms.isLocalScope as isLocalScope\n",
    "FROM EXTRACTED_TERMS\n",
    "GROUP BY id, terms.isLocalScope\n",
    "ORDER BY id\n",
    ";\n",
    "\"\"\"\n",
    "\n",
    "conn.sql(query)"
   ]
  },
  {
   "cell_type": "markdown",
   "metadata": {},
   "source": [
    "isLocalScope per id"
   ]
  },
  {
   "cell_type": "code",
   "execution_count": 73,
   "metadata": {},
   "outputs": [
    {
     "data": {
      "text/plain": [
       "┌──────────────┬───────┬──────────────┬────────────────────┐\n",
       "│      id      │ term  │ isLocalScope │     percentage     │\n",
       "│   varchar    │ int64 │   boolean    │       double       │\n",
       "├──────────────┼───────┼──────────────┼────────────────────┤\n",
       "│ § 275.0-2_P2 │   169 │ false        │  75.44642857142857 │\n",
       "│ § 275.0-2_P2 │    55 │ true         │ 24.553571428571427 │\n",
       "│ § 275.0-5_P2 │   101 │ false        │  60.47904191616767 │\n",
       "│ § 275.0-5_P2 │    66 │ true         │  39.52095808383233 │\n",
       "│ § 275.0-7_P2 │   195 │ false        │  79.59183673469387 │\n",
       "│ § 275.0-7_P2 │    50 │ true         │ 20.408163265306122 │\n",
       "└──────────────┴───────┴──────────────┴────────────────────┘"
      ]
     },
     "execution_count": 73,
     "metadata": {},
     "output_type": "execute_result"
    }
   ],
   "source": [
    "query = \"\"\"\n",
    "WITH TotalCounts AS (\n",
    "    SELECT\n",
    "        id,\n",
    "        COUNT(terms) AS total_terms\n",
    "    FROM EXTRACTED_TERMS\n",
    "    GROUP BY id\n",
    ")\n",
    "SELECT\n",
    "    e.id,\n",
    "    COUNT(e.terms) AS term,\n",
    "    e.terms.isLocalScope AS isLocalScope,\n",
    "    (COUNT(e.terms) * 100.0 / tc.total_terms) AS percentage\n",
    "FROM EXTRACTED_TERMS e\n",
    "JOIN TotalCounts tc ON e.id = tc.id\n",
    "GROUP BY e.id, e.terms.isLocalScope, tc.total_terms\n",
    "ORDER BY e.id, e.terms.isLocalScope;\n",
    "\"\"\"\n",
    "\n",
    "conn.sql(query)"
   ]
  },
  {
   "cell_type": "code",
   "execution_count": 39,
   "metadata": {},
   "outputs": [
    {
     "data": {
      "text/plain": [
       "┌─────────┬──────────────────────────────────────────────────────────────────────────────────────────────────────────────────────────────────────────────────────────────┬──────────────┐\n",
       "│   id    │                                                                            terms                                                                             │ isLocalScope │\n",
       "│ varchar │ struct(term varchar, definition varchar, confidence double, reason varchar, islocalscope boolean, local_scope_confidence double, local_scope_reason varchar) │   boolean    │\n",
       "├─────────┴──────────────────────────────────────────────────────────────────────────────────────────────────────────────────────────────────────────────────────────────┴──────────────┤\n",
       "│                                                                                        0 rows                                                                                         │\n",
       "└───────────────────────────────────────────────────────────────────────────────────────────────────────────────────────────────────────────────────────────────────────────────────────┘"
      ]
     },
     "execution_count": 39,
     "metadata": {},
     "output_type": "execute_result"
    }
   ],
   "source": [
    "query = \"\"\"\n",
    "SELECT\n",
    "    id, terms, terms.isLocalScope as isLocalScope\n",
    "FROM EXTRACTED_TERMS\n",
    "WHERE terms.isLocalScope is NULL\n",
    ";\n",
    "\"\"\"\n",
    "\n",
    "conn.sql(query)"
   ]
  },
  {
   "cell_type": "markdown",
   "metadata": {},
   "source": [
    "## Classify P1"
   ]
  },
  {
   "cell_type": "markdown",
   "metadata": {},
   "source": [
    "#### True table"
   ]
  },
  {
   "cell_type": "code",
   "execution_count": 82,
   "metadata": {},
   "outputs": [
    {
     "name": "stdout",
     "output_type": "stream",
     "text": [
      "classify_P1|true_table\n",
      "_query_drop_table='\\n        DROP TABLE OPERATIVE_RULES_TRUE;\\n        '\n",
      "Trying to drop table because drop parameter is True\n",
      "Table OPERATIVE_RULES_TRUE dropped\n",
      "_query_insert_data='\\n    INSERT INTO OPERATIVE_RULES_TRUE (id, prompt, file_source, content, created_at)\\n    SELECT \\n        id, \\n        \\'classify_p1\\' as prompt, \\n        \\'documents_true_table.json\\' as file_source, \\n        unnest(content) as content,\\n        now() as created_at\\n    FROM \\n        read_json_auto(\"temp/documents_true_table.json\");\\n    '\n",
      "Trying to insert into OPERATIVE_RULES_TRUE\n",
      "Catalog Error: Table with name OPERATIVE_RULES_TRUE does not exist!\n",
      "Did you mean \"EXTRACTED_TERMS_TRUE\"?\n",
      "Failed to insert, trying create OPERATIVE_RULES_TRUE\n",
      "_query_create_table='\\n        CREATE TABLE OPERATIVE_RULES_TRUE AS\\n        SELECT id, \\n        \\'classify_p1\\' as prompt, \\n        \\'documents_true_table.json\\' as file_source, \\n        unnest(content) as content,\\n        now() as \\'created_at\\'\\n        FROM read_json_auto(\"temp/documents_true_table.json\");\\n        '\n",
      "Table OPERATIVE_RULES_TRUE created and loaded.\n"
     ]
    },
    {
     "data": {
      "text/plain": [
       "True"
      ]
     },
     "execution_count": 82,
     "metadata": {},
     "output_type": "execute_result"
    }
   ],
   "source": [
    "upsert_table_from_json(\n",
    "    conn,\n",
    "    suffix_key_pattern=\"classify_P1|true_table\",\n",
    "    prefix_key_pattern=\"\",\n",
    "    table_name=\"OPERATIVE_RULES_TRUE\",\n",
    "    source=\"cfr2sbvr_db/true/documents_true_table.json\",\n",
    "    key_value=\"classify_p1\",\n",
    "    drop=True,\n",
    "    content_key=\"content\",\n",
    "    alias=\"content\",\n",
    "    doc_id_key=\"id\"\n",
    ")"
   ]
  },
  {
   "cell_type": "code",
   "execution_count": 151,
   "metadata": {},
   "outputs": [
    {
     "data": {
      "text/plain": [
       "┌───────────┬──────────────┬──────────────────────────────────────────────────────────────────────────────────────────────────────────────────────────────────────────────────────────────────────────────────────────────────────────────────────────────────────────────────────────────────────────────────────────────────────────────────┬───────────┬───────────────────────────┬────────────────┐\n",
       "│    id     │ statement_id │                                                                                                                                                    statement                                                                                                                                                     │  sources  │        file_source        │      type      │\n",
       "│  varchar  │   varchar    │                                                                                                                                                     varchar                                                                                                                                                      │ varchar[] │          varchar          │    varchar     │\n",
       "├───────────┼──────────────┼──────────────────────────────────────────────────────────────────────────────────────────────────────────────────────────────────────────────────────────────────────────────────────────────────────────────────────────────────────────────────────────────────────────────────────────────────────────────────┼───────────┼───────────────────────────┼────────────────┤\n",
       "│ § 275.0-2 │ 3            │ The Secretary of the Commission (Secretary) will promptly forward a copy to each named party by registered or certified mail at that party's last address filed with the Commission.                                                                                                                             │ [(a)(2)]  │ documents_true_table.json │ Party rules    │\n",
       "│ § 275.0-2 │ 4            │ If the Secretary certifies that the Commission was served with process, pleadings, or other papers pursuant to paragraph (a)(1) of this section and forwarded these documents to a named party pursuant to paragraph (a)(2) of this section, this certification constitutes evidence of service upon that party. │ [(a)(3)]  │ documents_true_table.json │ Party rules    │\n",
       "│ § 275.0-5 │ 1            │ Notice of the initiation of the proceeding will be published in the Federal Register and will indicate the earliest date upon which an order disposing of the matter may be entered.                                                                                                                             │ [(a)]     │ documents_true_table.json │ Activity rules │\n",
       "│ § 275.0-5 │ 2            │ Any interested person may, within the period of time specified therein, submit to the Commission in writing any facts bearing upon the desirability of a hearing on the matter and may request that a hearing be held, stating his reasons therefor and the nature of his interest in the matter.                │ [(a)]     │ documents_true_table.json │ Party rules    │\n",
       "│ § 275.0-5 │ 3            │ An order disposing of the matter will be issued as of course following the expiration of the period of time referred to in paragraph (a) of this section, unless the Commission thereafter orders a hearing on the matter.                                                                                       │ [(b)]     │ documents_true_table.json │ Activity rules │\n",
       "│ § 275.0-5 │ 4            │ The Commission will order a hearing on the matter, if it appears that a hearing is necessary or appropriate in the public interest or for the protection of investors, upon the request of any interested person or upon its own motion.                                                                         │ [(c)]     │ documents_true_table.json │ Activity rules │\n",
       "└───────────┴──────────────┴──────────────────────────────────────────────────────────────────────────────────────────────────────────────────────────────────────────────────────────────────────────────────────────────────────────────────────────────────────────────────────────────────────────────────────────────────────────────────┴───────────┴───────────────────────────┴────────────────┘"
      ]
     },
     "execution_count": 151,
     "metadata": {},
     "output_type": "execute_result"
    }
   ],
   "source": [
    "query = \"\"\"\n",
    "SELECT\n",
    "    content.doc_id as id,\n",
    "    content.statement_id,\n",
    "    content.statement,\n",
    "    content.sources,\n",
    "    'documents_true_table.json' as file_source,\n",
    "    content.type\n",
    "FROM OPERATIVE_RULES_TRUE\n",
    ";\n",
    "\"\"\"\n",
    "\n",
    "true_operative_rules = conn.sql(query).fetchall()\n",
    "\n",
    "conn.sql(query)"
   ]
  },
  {
   "cell_type": "markdown",
   "metadata": {},
   "source": [
    "### Predict table"
   ]
  },
  {
   "cell_type": "code",
   "execution_count": 91,
   "metadata": {},
   "outputs": [
    {
     "name": "stdout",
     "output_type": "stream",
     "text": [
      "cfr2sbvr_db/classification/documents-2024-12-08-9.json\n",
      "classify_P1|llm_response_classification\n",
      "_query_drop_table='\\n        DROP TABLE OPERATIVE_RULES;\\n        '\n",
      "Trying to drop table because drop parameter is True\n",
      "Catalog Error: Table with name OPERATIVE_RULES does not exist!\n",
      "Did you mean \"OPERATIVE_RULES_TRUE\"?\n",
      "_query_insert_data='\\n    INSERT INTO OPERATIVE_RULES (id, prompt, file_source, content, created_at)\\n    SELECT \\n        id, \\n        \\'classify_p1\\' as prompt, \\n        \\'documents-2024-12-08-9.json\\' as file_source, \\n        unnest(content) as content,\\n        now() as created_at\\n    FROM \\n        read_json_auto(\"temp/documents-2024-12-08-9.json\");\\n    '\n",
      "Trying to insert into OPERATIVE_RULES\n",
      "Catalog Error: Table with name OPERATIVE_RULES does not exist!\n",
      "Did you mean \"OPERATIVE_RULES_TRUE\"?\n",
      "Failed to insert, trying create OPERATIVE_RULES\n",
      "_query_create_table='\\n        CREATE TABLE OPERATIVE_RULES AS\\n        SELECT id, \\n        \\'classify_p1\\' as prompt, \\n        \\'documents-2024-12-08-9.json\\' as file_source, \\n        unnest(content) as content,\\n        now() as \\'created_at\\'\\n        FROM read_json_auto(\"temp/documents-2024-12-08-9.json\");\\n        '\n",
      "Table OPERATIVE_RULES created and loaded.\n",
      "cfr2sbvr_db/classification/documents-2024-12-08-5.json\n",
      "classify_P1|llm_response_classification\n",
      "_query_insert_data='\\n    INSERT INTO OPERATIVE_RULES (id, prompt, file_source, content, created_at)\\n    SELECT \\n        id, \\n        \\'classify_p1\\' as prompt, \\n        \\'documents-2024-12-08-5.json\\' as file_source, \\n        unnest(content) as content,\\n        now() as created_at\\n    FROM \\n        read_json_auto(\"temp/documents-2024-12-08-5.json\");\\n    '\n",
      "Trying to insert into OPERATIVE_RULES\n",
      "Data inserted into OPERATIVE_RULES.\n",
      "cfr2sbvr_db/classification/documents-2024-12-08-4.json\n",
      "classify_P1|llm_response_classification\n",
      "_query_insert_data='\\n    INSERT INTO OPERATIVE_RULES (id, prompt, file_source, content, created_at)\\n    SELECT \\n        id, \\n        \\'classify_p1\\' as prompt, \\n        \\'documents-2024-12-08-4.json\\' as file_source, \\n        unnest(content) as content,\\n        now() as created_at\\n    FROM \\n        read_json_auto(\"temp/documents-2024-12-08-4.json\");\\n    '\n",
      "Trying to insert into OPERATIVE_RULES\n",
      "Data inserted into OPERATIVE_RULES.\n",
      "cfr2sbvr_db/classification/documents-2024-12-08-8.json\n",
      "classify_P1|llm_response_classification\n",
      "_query_insert_data='\\n    INSERT INTO OPERATIVE_RULES (id, prompt, file_source, content, created_at)\\n    SELECT \\n        id, \\n        \\'classify_p1\\' as prompt, \\n        \\'documents-2024-12-08-8.json\\' as file_source, \\n        unnest(content) as content,\\n        now() as created_at\\n    FROM \\n        read_json_auto(\"temp/documents-2024-12-08-8.json\");\\n    '\n",
      "Trying to insert into OPERATIVE_RULES\n",
      "Data inserted into OPERATIVE_RULES.\n",
      "cfr2sbvr_db/classification/documents-2024-12-08-3.json\n",
      "classify_P1|llm_response_classification\n",
      "_query_insert_data='\\n    INSERT INTO OPERATIVE_RULES (id, prompt, file_source, content, created_at)\\n    SELECT \\n        id, \\n        \\'classify_p1\\' as prompt, \\n        \\'documents-2024-12-08-3.json\\' as file_source, \\n        unnest(content) as content,\\n        now() as created_at\\n    FROM \\n        read_json_auto(\"temp/documents-2024-12-08-3.json\");\\n    '\n",
      "Trying to insert into OPERATIVE_RULES\n",
      "Data inserted into OPERATIVE_RULES.\n",
      "cfr2sbvr_db/classification/documents-2024-12-08-2.json\n",
      "classify_P1|llm_response_classification\n",
      "_query_insert_data='\\n    INSERT INTO OPERATIVE_RULES (id, prompt, file_source, content, created_at)\\n    SELECT \\n        id, \\n        \\'classify_p1\\' as prompt, \\n        \\'documents-2024-12-08-2.json\\' as file_source, \\n        unnest(content) as content,\\n        now() as created_at\\n    FROM \\n        read_json_auto(\"temp/documents-2024-12-08-2.json\");\\n    '\n",
      "Trying to insert into OPERATIVE_RULES\n",
      "Data inserted into OPERATIVE_RULES.\n",
      "cfr2sbvr_db/classification/documents-2024-12-08-1.json\n",
      "classify_P1|llm_response_classification\n",
      "_query_insert_data='\\n    INSERT INTO OPERATIVE_RULES (id, prompt, file_source, content, created_at)\\n    SELECT \\n        id, \\n        \\'classify_p1\\' as prompt, \\n        \\'documents-2024-12-08-1.json\\' as file_source, \\n        unnest(content) as content,\\n        now() as created_at\\n    FROM \\n        read_json_auto(\"temp/documents-2024-12-08-1.json\");\\n    '\n",
      "Trying to insert into OPERATIVE_RULES\n",
      "Data inserted into OPERATIVE_RULES.\n",
      "cfr2sbvr_db/classification/documents-2024-12-08-7.json\n",
      "classify_P1|llm_response_classification\n",
      "_query_insert_data='\\n    INSERT INTO OPERATIVE_RULES (id, prompt, file_source, content, created_at)\\n    SELECT \\n        id, \\n        \\'classify_p1\\' as prompt, \\n        \\'documents-2024-12-08-7.json\\' as file_source, \\n        unnest(content) as content,\\n        now() as created_at\\n    FROM \\n        read_json_auto(\"temp/documents-2024-12-08-7.json\");\\n    '\n",
      "Trying to insert into OPERATIVE_RULES\n",
      "Data inserted into OPERATIVE_RULES.\n",
      "cfr2sbvr_db/classification/documents-2024-12-08-6.json\n",
      "classify_P1|llm_response_classification\n",
      "_query_insert_data='\\n    INSERT INTO OPERATIVE_RULES (id, prompt, file_source, content, created_at)\\n    SELECT \\n        id, \\n        \\'classify_p1\\' as prompt, \\n        \\'documents-2024-12-08-6.json\\' as file_source, \\n        unnest(content) as content,\\n        now() as created_at\\n    FROM \\n        read_json_auto(\"temp/documents-2024-12-08-6.json\");\\n    '\n",
      "Trying to insert into OPERATIVE_RULES\n",
      "Data inserted into OPERATIVE_RULES.\n",
      "cfr2sbvr_db/classification/documents-2024-12-08-10.json\n",
      "classify_P1|llm_response_classification\n",
      "_query_insert_data='\\n    INSERT INTO OPERATIVE_RULES (id, prompt, file_source, content, created_at)\\n    SELECT \\n        id, \\n        \\'classify_p1\\' as prompt, \\n        \\'documents-2024-12-08-10.json\\' as file_source, \\n        unnest(content) as content,\\n        now() as created_at\\n    FROM \\n        read_json_auto(\"temp/documents-2024-12-08-10.json\");\\n    '\n",
      "Trying to insert into OPERATIVE_RULES\n",
      "Data inserted into OPERATIVE_RULES.\n"
     ]
    }
   ],
   "source": [
    "# Define the directory and pattern\n",
    "directory = Path(\"cfr2sbvr_db/classification\")\n",
    "pattern = \"documents-*.json\"\n",
    "\n",
    "# Use glob to find all files matching the pattern\n",
    "files = directory.glob(pattern)\n",
    "\n",
    "drop=True # Drop the table first time\n",
    "for file_path in files:\n",
    "    print(file_path)  # Output each file path\n",
    "    upsert_table_from_json(\n",
    "        conn,\n",
    "        suffix_key_pattern=\"classify_P1|llm_response_classification\",\n",
    "        prefix_key_pattern=\"\",\n",
    "        table_name=\"OPERATIVE_RULES\",\n",
    "        source=file_path,\n",
    "        key_value=\"classify_p1\",\n",
    "        drop=drop,\n",
    "        content_key=\"content\",\n",
    "        alias=\"content\",\n",
    "        doc_id_key=\"id\"\n",
    "    )\n",
    "    drop=False # Stop dropping tables"
   ]
  },
  {
   "cell_type": "code",
   "execution_count": 106,
   "metadata": {},
   "outputs": [
    {
     "data": {
      "text/plain": [
       "┌─────────────┬─────────────┬──────────────────────────────┬──────────────────────────────────────────────────────────────────────────────────────────────────────────────────────────────────────────────────────────────────────────────────────────────────────────────────────────────────────────────────────────────────────────────────────────────────────────────────────────────────────────────────────────────────────────────────────────────────────────────────────────────────────────────────────────────────────────────────────────────────────────────────────────────────────────────────────────────────────────────────────────────────────────────────────────────────────────────────────────────────────────────────────────────────────────────────────────────────────────────────────────────────────────────────────────────────────────────────────────────────────────────────────────────────────────────────────────────────────────────────────────────────────────────────────────────────────────────────────────────────────────────────────────────────────────────────────────────────────────────────────────────────────────────────────────────────────────────────────────────────────┬────────────────────────────┐\n",
       "│     id      │   prompt    │         file_source          │                                                                                                                                                                                                                                                                                                                                                                                                                                                                                                                                                                               content                                                                                                                                                                                                                                                                                                                                                                                                                                                                                                                                                                                │         created_at         │\n",
       "│   varchar   │   varchar   │           varchar            │                                                                                                                                                                                                                                                                                                                                                                                                                                                                             struct(doc_id varchar, statement_id varchar, statement_title varchar, statement_text varchar, statement_sources varchar[], classification struct(\"type\" varchar, confidence double, explanation varchar)[])                                                                                                                                                                                                                                                                                                                                                                                                                                                                              │  timestamp with time zone  │\n",
       "├─────────────┼─────────────┼──────────────────────────────┼──────────────────────────────────────────────────────────────────────────────────────────────────────────────────────────────────────────────────────────────────────────────────────────────────────────────────────────────────────────────────────────────────────────────────────────────────────────────────────────────────────────────────────────────────────────────────────────────────────────────────────────────────────────────────────────────────────────────────────────────────────────────────────────────────────────────────────────────────────────────────────────────────────────────────────────────────────────────────────────────────────────────────────────────────────────────────────────────────────────────────────────────────────────────────────────────────────────────────────────────────────────────────────────────────────────────────────────────────────────────────────────────────────────────────────────────────────────────────────────────────────────────────────────────────────────────────────────────────────────────────────────────────────────────────────────────────────────────────────────────────────┼────────────────────────────┤\n",
       "│ classify_P1 │ classify_p1 │ documents-2024-12-08-9.json  │ {'doc_id': § 275.0-2, 'statement_id': 3, 'statement_title': Forwarding documents by the Secretary, 'statement_text': The Secretary of the Commission (Secretary) will promptly forward a copy to each named party by registered or certified mail at that party's last address filed with the Commission., 'statement_sources': [(a)(2)], 'classification': [{'type': Party rules, 'confidence': 0.8, 'explanation': This statement specifies the role of the Secretary in forwarding documents to named parties, indicating a responsibility and action linked to a specific role, which is characteristic of a party rule.}, {'type': Activity rules, 'confidence': 0.5, 'explanation': The statement involves an activity (forwarding documents) that must be performed by the Secretary, which aligns with activity rules, but the emphasis is more on the role of the Secretary.}, {'type': Data rules, 'confidence': 0.2, 'explanation': There is a minor reference to data (the party's last address), but the primary focus is on the action and role, not on data constraints.}]}                                                                           │ 2024-12-12 18:00:09.134-03 │\n",
       "│ classify_P1 │ classify_p1 │ documents-2024-12-08-9.json  │ {'doc_id': § 275.0-2, 'statement_id': 4, 'statement_title': Certification of service by the Secretary, 'statement_text': If the Secretary certifies that the Commission was served with process, pleadings, or other papers pursuant to paragraph (a)(1) of this section and forwarded these documents to a named party pursuant to paragraph (a)(2) of this section, this certification constitutes evidence of service upon that party., 'statement_sources': [(a)(3)], 'classification': [{'type': Party rules, 'confidence': 0.7, 'explanation': The statement involves the Secretary's role in certifying service, which is a responsibility linked to a specific role, indicating a party rule.}, {'type': Activity rules, 'confidence': 0.6, 'explanation': The certification and forwarding of documents are activities that must be performed, suggesting an activity rule, but the focus is more on the role of the Secretary.}, {'type': Data rules, 'confidence': 0.3, 'explanation': There is a reference to documents and certification as evidence, but the primary focus is on the role and activities, not on data constraints.}]}                  │ 2024-12-12 18:00:09.134-03 │\n",
       "│ classify_P1 │ classify_p1 │ documents-2024-12-08-9.json  │ {'doc_id': § 275.0-5, 'statement_id': 1, 'statement_title': Notice of proceeding initiation, 'statement_text': Notice of the initiation of the proceeding will be published in the Federal Register and will indicate the earliest date upon which an order disposing of the matter may be entered., 'statement_sources': [(a)], 'classification': [{'type': Activity rules, 'confidence': 0.9, 'explanation': The statement describes an activity (publishing notice) that must occur, which is characteristic of an activity rule.}, {'type': Data rules, 'confidence': 0.4, 'explanation': There is a reference to data (the earliest date), but the primary focus is on the activity of publishing the notice.}, {'type': Party rules, 'confidence': 0.1, 'explanation': There is no specific reference to roles or responsibilities of parties, making this unlikely to be a party rule.}]}                                                                                                                                                                                                                                                                     │ 2024-12-12 18:00:09.134-03 │\n",
       "│ classify_P1 │ classify_p1 │ documents-2024-12-08-9.json  │ {'doc_id': § 275.0-5, 'statement_id': 2, 'statement_title': Submission of facts and hearing request, 'statement_text': Any interested person may, within the period of time specified therein, submit to the Commission in writing any facts bearing upon the desirability of a hearing on the matter and may request that a hearing be held, stating his reasons therefor and the nature of his interest in the matter., 'statement_sources': [(a)], 'classification': [{'type': Party rules, 'confidence': 0.8, 'explanation': The statement specifies that any interested person can submit facts and request a hearing, indicating a role-based permission, which is characteristic of a party rule.}, {'type': Activity rules, 'confidence': 0.6, 'explanation': The statement involves activities (submitting facts, requesting a hearing) that can be performed, suggesting an activity rule, but the emphasis is more on the role of the interested person.}, {'type': Data rules, 'confidence': 0.2, 'explanation': There is a minor reference to data (facts submitted), but the primary focus is on the roles and activities, not on data constraints.}]} │ 2024-12-12 18:00:09.134-03 │\n",
       "│ classify_P1 │ classify_p1 │ documents-2024-12-08-9.json  │ {'doc_id': § 275.0-5, 'statement_id': 3, 'statement_title': Issuance of order disposing of the matter, 'statement_text': An order disposing of the matter will be issued as of course following the expiration of the period of time referred to in paragraph (a) of this section, unless the Commission thereafter orders a hearing on the matter., 'statement_sources': [(b)], 'classification': [{'type': Activity rules, 'confidence': 0.9, 'explanation': The statement describes an activity (issuing an order) that must occur following a specific condition (expiration of time), which is characteristic of an activity rule.}, {'type': Data rules, 'confidence': 0.3, 'explanation': There is a reference to a time period, but the primary focus is on the activity of issuing an order.}, {'type': Party rules, 'confidence': 0.1, 'explanation': There is no specific reference to roles or responsibilities of parties, making this unlikely to be a party rule.}]}                                                                                                                                                                                  │ 2024-12-12 18:00:09.134-03 │\n",
       "│ classify_P1 │ classify_p1 │ documents-2024-12-08-9.json  │ {'doc_id': § 275.0-5, 'statement_id': 4, 'statement_title': Commission orders a hearing, 'statement_text': The Commission will order a hearing on the matter, if it appears that a hearing is necessary or appropriate in the public interest or for the protection of investors, upon the request of any interested person or upon its own motion., 'statement_sources': [(c)], 'classification': [{'type': Activity rules, 'confidence': 0.8, 'explanation': The statement describes an activity (ordering a hearing) that the Commission must perform under certain conditions, which is characteristic of an activity rule.}, {'type': Party rules, 'confidence': 0.6, 'explanation': The statement involves the Commission's role in ordering a hearing, indicating a responsibility linked to a specific role, suggesting a party rule.}, {'type': Data rules, 'confidence': 0.2, 'explanation': There is a minor reference to conditions (public interest, protection of investors), but the primary focus is on the roles and activities, not on data constraints.}]}                                                                                        │ 2024-12-12 18:00:09.134-03 │\n",
       "│ classify_P1 │ classify_p1 │ documents-2024-12-08-5.json  │ {'doc_id': § 275.0-2, 'statement_id': 3, 'statement_title': Forwarding documents by the Secretary, 'statement_text': The Secretary of the Commission (Secretary) will promptly forward a copy to each named party by registered or certified mail at that party's last address filed with the Commission., 'statement_sources': [(a)(2)], 'classification': [{'type': Party rules, 'confidence': 0.8, 'explanation': This statement specifies the role of the Secretary in forwarding documents to named parties, indicating a responsibility and action linked to a specific role, which is characteristic of a party rule.}, {'type': Activity rules, 'confidence': 0.5, 'explanation': The statement involves an activity (forwarding documents) that must be performed by the Secretary, which aligns with activity rules, but the emphasis is more on the role of the Secretary.}, {'type': Data rules, 'confidence': 0.2, 'explanation': There is a minor reference to data (the party's last address), but the primary focus is on the action and role, not on data constraints.}]}                                                                           │ 2024-12-12 18:00:09.145-03 │\n",
       "│ classify_P1 │ classify_p1 │ documents-2024-12-08-5.json  │ {'doc_id': § 275.0-2, 'statement_id': 4, 'statement_title': Certification of service by the Secretary, 'statement_text': If the Secretary certifies that the Commission was served with process, pleadings, or other papers pursuant to paragraph (a)(1) of this section and forwarded these documents to a named party pursuant to paragraph (a)(2) of this section, this certification constitutes evidence of service upon that party., 'statement_sources': [(a)(3)], 'classification': [{'type': Party rules, 'confidence': 0.7, 'explanation': The statement involves the Secretary's role in certifying service, which is a responsibility linked to a specific role, indicating a party rule.}, {'type': Activity rules, 'confidence': 0.6, 'explanation': The certification and forwarding of documents are activities that must be performed, suggesting an activity rule, but the focus is more on the role of the Secretary.}, {'type': Data rules, 'confidence': 0.3, 'explanation': There is a reference to documents and certification as evidence, but the primary focus is on the role and activities, not on data constraints.}]}                  │ 2024-12-12 18:00:09.145-03 │\n",
       "│ classify_P1 │ classify_p1 │ documents-2024-12-08-5.json  │ {'doc_id': § 275.0-5, 'statement_id': 1, 'statement_title': Notice of proceeding initiation, 'statement_text': Notice of the initiation of the proceeding will be published in the Federal Register and will indicate the earliest date upon which an order disposing of the matter may be entered., 'statement_sources': [(a)], 'classification': [{'type': Activity rules, 'confidence': 0.9, 'explanation': The statement describes an activity (publishing notice) that must occur, which is characteristic of an activity rule.}, {'type': Data rules, 'confidence': 0.4, 'explanation': There is a reference to data (the earliest date), but the primary focus is on the activity of publishing the notice.}, {'type': Party rules, 'confidence': 0.1, 'explanation': There is no specific reference to roles or responsibilities of parties, making this unlikely to be a party rule.}]}                                                                                                                                                                                                                                                                     │ 2024-12-12 18:00:09.145-03 │\n",
       "│ classify_P1 │ classify_p1 │ documents-2024-12-08-5.json  │ {'doc_id': § 275.0-5, 'statement_id': 2, 'statement_title': Submission of facts and hearing request, 'statement_text': Any interested person may, within the period of time specified therein, submit to the Commission in writing any facts bearing upon the desirability of a hearing on the matter and may request that a hearing be held, stating his reasons therefor and the nature of his interest in the matter., 'statement_sources': [(a)], 'classification': [{'type': Party rules, 'confidence': 0.8, 'explanation': The statement specifies that any interested person can submit facts and request a hearing, indicating a role-based permission, which is characteristic of a party rule.}, {'type': Activity rules, 'confidence': 0.6, 'explanation': The statement involves activities (submitting facts, requesting a hearing) that can be performed, suggesting an activity rule, but the emphasis is more on the role of the interested person.}, {'type': Data rules, 'confidence': 0.2, 'explanation': There is a minor reference to data (facts submitted), but the primary focus is on the roles and activities, not on data constraints.}]} │ 2024-12-12 18:00:09.145-03 │\n",
       "│      ·      │      ·      │              ·               │                                                                                                                                                                                                                                                                                                                                                                                                                                                ·                                                                                                                                                                                                                                                                                                                                                                                                                                                                                                                                                                                                                                                                                                                     │             ·              │\n",
       "│      ·      │      ·      │              ·               │                                                                                                                                                                                                                                                                                                                                                                                                                                                ·                                                                                                                                                                                                                                                                                                                                                                                                                                                                                                                                                                                                                                                                                                                     │             ·              │\n",
       "│      ·      │      ·      │              ·               │                                                                                                                                                                                                                                                                                                                                                                                                                                                ·                                                                                                                                                                                                                                                                                                                                                                                                                                                                                                                                                                                                                                                                                                                     │             ·              │\n",
       "│ classify_P1 │ classify_p1 │ documents-2024-12-08-6.json  │ {'doc_id': § 275.0-5, 'statement_id': 1, 'statement_title': Notice of proceeding initiation, 'statement_text': Notice of the initiation of the proceeding will be published in the Federal Register and will indicate the earliest date upon which an order disposing of the matter may be entered., 'statement_sources': [(a)], 'classification': [{'type': Activity rules, 'confidence': 0.9, 'explanation': The statement describes an activity (publishing notice) that must occur, which is characteristic of an activity rule.}, {'type': Data rules, 'confidence': 0.4, 'explanation': There is a reference to data (the earliest date), but the primary focus is on the activity of publishing the notice.}, {'type': Party rules, 'confidence': 0.1, 'explanation': There is no specific reference to roles or responsibilities of parties, making this unlikely to be a party rule.}]}                                                                                                                                                                                                                                                                     │ 2024-12-12 18:00:09.208-03 │\n",
       "│ classify_P1 │ classify_p1 │ documents-2024-12-08-6.json  │ {'doc_id': § 275.0-5, 'statement_id': 2, 'statement_title': Submission of facts and hearing request, 'statement_text': Any interested person may, within the period of time specified therein, submit to the Commission in writing any facts bearing upon the desirability of a hearing on the matter and may request that a hearing be held, stating his reasons therefor and the nature of his interest in the matter., 'statement_sources': [(a)], 'classification': [{'type': Party rules, 'confidence': 0.8, 'explanation': The statement specifies that any interested person can submit facts and request a hearing, indicating a role-based permission, which is characteristic of a party rule.}, {'type': Activity rules, 'confidence': 0.6, 'explanation': The statement involves activities (submitting facts, requesting a hearing) that can be performed, suggesting an activity rule, but the emphasis is more on the role of the interested person.}, {'type': Data rules, 'confidence': 0.2, 'explanation': There is a minor reference to data (facts submitted), but the primary focus is on the roles and activities, not on data constraints.}]} │ 2024-12-12 18:00:09.208-03 │\n",
       "│ classify_P1 │ classify_p1 │ documents-2024-12-08-6.json  │ {'doc_id': § 275.0-5, 'statement_id': 3, 'statement_title': Issuance of order disposing of the matter, 'statement_text': An order disposing of the matter will be issued as of course following the expiration of the period of time referred to in paragraph (a) of this section, unless the Commission thereafter orders a hearing on the matter., 'statement_sources': [(b)], 'classification': [{'type': Activity rules, 'confidence': 0.9, 'explanation': The statement describes an activity (issuing an order) that must occur following a specific condition (expiration of time), which is characteristic of an activity rule.}, {'type': Data rules, 'confidence': 0.3, 'explanation': There is a reference to a time period, but the primary focus is on the activity of issuing an order.}, {'type': Party rules, 'confidence': 0.1, 'explanation': There is no specific reference to roles or responsibilities of parties, making this unlikely to be a party rule.}]}                                                                                                                                                                                  │ 2024-12-12 18:00:09.208-03 │\n",
       "│ classify_P1 │ classify_p1 │ documents-2024-12-08-6.json  │ {'doc_id': § 275.0-5, 'statement_id': 4, 'statement_title': Commission orders a hearing, 'statement_text': The Commission will order a hearing on the matter, if it appears that a hearing is necessary or appropriate in the public interest or for the protection of investors, upon the request of any interested person or upon its own motion., 'statement_sources': [(c)], 'classification': [{'type': Activity rules, 'confidence': 0.8, 'explanation': The statement describes an activity (ordering a hearing) that the Commission must perform under certain conditions, which is characteristic of an activity rule.}, {'type': Party rules, 'confidence': 0.6, 'explanation': The statement involves the Commission's role in ordering a hearing, indicating a responsibility linked to a specific role, suggesting a party rule.}, {'type': Data rules, 'confidence': 0.2, 'explanation': There is a minor reference to conditions (public interest, protection of investors), but the primary focus is on the roles and activities, not on data constraints.}]}                                                                                        │ 2024-12-12 18:00:09.208-03 │\n",
       "│ classify_P1 │ classify_p1 │ documents-2024-12-08-10.json │ {'doc_id': § 275.0-2, 'statement_id': 3, 'statement_title': Forwarding documents by the Secretary, 'statement_text': The Secretary of the Commission (Secretary) will promptly forward a copy to each named party by registered or certified mail at that party's last address filed with the Commission., 'statement_sources': [(a)(2)], 'classification': [{'type': Party rules, 'confidence': 0.8, 'explanation': This statement specifies the role of the Secretary in forwarding documents to named parties, indicating a responsibility and action linked to a specific role, which is characteristic of a party rule.}, {'type': Activity rules, 'confidence': 0.5, 'explanation': The statement involves an activity (forwarding documents) that must be performed by the Secretary, which aligns with activity rules, but the emphasis is more on the role of the Secretary.}, {'type': Data rules, 'confidence': 0.2, 'explanation': There is a minor reference to data (the party's last address), but the primary focus is on the action and role, not on data constraints.}]}                                                                           │ 2024-12-12 18:00:09.213-03 │\n",
       "│ classify_P1 │ classify_p1 │ documents-2024-12-08-10.json │ {'doc_id': § 275.0-2, 'statement_id': 4, 'statement_title': Certification of service by the Secretary, 'statement_text': If the Secretary certifies that the Commission was served with process, pleadings, or other papers pursuant to paragraph (a)(1) of this section and forwarded these documents to a named party pursuant to paragraph (a)(2) of this section, this certification constitutes evidence of service upon that party., 'statement_sources': [(a)(3)], 'classification': [{'type': Party rules, 'confidence': 0.7, 'explanation': The statement involves the Secretary's role in certifying service, which is a responsibility linked to a specific role, indicating a party rule.}, {'type': Activity rules, 'confidence': 0.6, 'explanation': The certification and forwarding of documents are activities that must be performed, suggesting an activity rule, but the focus is more on the role of the Secretary.}, {'type': Data rules, 'confidence': 0.3, 'explanation': There is a reference to documents and certification as evidence, but the primary focus is on the role and activities, not on data constraints.}]}                  │ 2024-12-12 18:00:09.213-03 │\n",
       "│ classify_P1 │ classify_p1 │ documents-2024-12-08-10.json │ {'doc_id': § 275.0-5, 'statement_id': 1, 'statement_title': Notice of proceeding initiation, 'statement_text': Notice of the initiation of the proceeding will be published in the Federal Register and will indicate the earliest date upon which an order disposing of the matter may be entered., 'statement_sources': [(a)], 'classification': [{'type': Activity rules, 'confidence': 0.9, 'explanation': The statement describes an activity (publishing notice) that must occur, which is characteristic of an activity rule.}, {'type': Data rules, 'confidence': 0.4, 'explanation': There is a reference to data (the earliest date), but the primary focus is on the activity of publishing the notice.}, {'type': Party rules, 'confidence': 0.1, 'explanation': There is no specific reference to roles or responsibilities of parties, making this unlikely to be a party rule.}]}                                                                                                                                                                                                                                                                     │ 2024-12-12 18:00:09.213-03 │\n",
       "│ classify_P1 │ classify_p1 │ documents-2024-12-08-10.json │ {'doc_id': § 275.0-5, 'statement_id': 2, 'statement_title': Submission of facts and hearing request, 'statement_text': Any interested person may, within the period of time specified therein, submit to the Commission in writing any facts bearing upon the desirability of a hearing on the matter and may request that a hearing be held, stating his reasons therefor and the nature of his interest in the matter., 'statement_sources': [(a)], 'classification': [{'type': Party rules, 'confidence': 0.8, 'explanation': The statement specifies that any interested person can submit facts and request a hearing, indicating a role-based permission, which is characteristic of a party rule.}, {'type': Activity rules, 'confidence': 0.6, 'explanation': The statement involves activities (submitting facts, requesting a hearing) that can be performed, suggesting an activity rule, but the emphasis is more on the role of the interested person.}, {'type': Data rules, 'confidence': 0.2, 'explanation': There is a minor reference to data (facts submitted), but the primary focus is on the roles and activities, not on data constraints.}]} │ 2024-12-12 18:00:09.213-03 │\n",
       "│ classify_P1 │ classify_p1 │ documents-2024-12-08-10.json │ {'doc_id': § 275.0-5, 'statement_id': 3, 'statement_title': Issuance of order disposing of the matter, 'statement_text': An order disposing of the matter will be issued as of course following the expiration of the period of time referred to in paragraph (a) of this section, unless the Commission thereafter orders a hearing on the matter., 'statement_sources': [(b)], 'classification': [{'type': Activity rules, 'confidence': 0.9, 'explanation': The statement describes an activity (issuing an order) that must occur following a specific condition (expiration of time), which is characteristic of an activity rule.}, {'type': Data rules, 'confidence': 0.3, 'explanation': There is a reference to a time period, but the primary focus is on the activity of issuing an order.}, {'type': Party rules, 'confidence': 0.1, 'explanation': There is no specific reference to roles or responsibilities of parties, making this unlikely to be a party rule.}]}                                                                                                                                                                                  │ 2024-12-12 18:00:09.213-03 │\n",
       "│ classify_P1 │ classify_p1 │ documents-2024-12-08-10.json │ {'doc_id': § 275.0-5, 'statement_id': 4, 'statement_title': Commission orders a hearing, 'statement_text': The Commission will order a hearing on the matter, if it appears that a hearing is necessary or appropriate in the public interest or for the protection of investors, upon the request of any interested person or upon its own motion., 'statement_sources': [(c)], 'classification': [{'type': Activity rules, 'confidence': 0.8, 'explanation': The statement describes an activity (ordering a hearing) that the Commission must perform under certain conditions, which is characteristic of an activity rule.}, {'type': Party rules, 'confidence': 0.6, 'explanation': The statement involves the Commission's role in ordering a hearing, indicating a responsibility linked to a specific role, suggesting a party rule.}, {'type': Data rules, 'confidence': 0.2, 'explanation': There is a minor reference to conditions (public interest, protection of investors), but the primary focus is on the roles and activities, not on data constraints.}]}                                                                                        │ 2024-12-12 18:00:09.213-03 │\n",
       "├─────────────┴─────────────┴──────────────────────────────┴──────────────────────────────────────────────────────────────────────────────────────────────────────────────────────────────────────────────────────────────────────────────────────────────────────────────────────────────────────────────────────────────────────────────────────────────────────────────────────────────────────────────────────────────────────────────────────────────────────────────────────────────────────────────────────────────────────────────────────────────────────────────────────────────────────────────────────────────────────────────────────────────────────────────────────────────────────────────────────────────────────────────────────────────────────────────────────────────────────────────────────────────────────────────────────────────────────────────────────────────────────────────────────────────────────────────────────────────────────────────────────────────────────────────────────────────────────────────────────────────────────────────────────────────────────────────────────────────────────────────────────────────────────────────────────────────────────────────────────────────────────┴────────────────────────────┤\n",
       "│ 60 rows (20 shown)                                                                                                                                                                                                                                                                                                                                                                                                                                                                                                                                                                                                                                                                                                                                                                                                                                                                                                                                                                                                                                                                                                                                                                                                                                 5 columns │\n",
       "└──────────────────────────────────────────────────────────────────────────────────────────────────────────────────────────────────────────────────────────────────────────────────────────────────────────────────────────────────────────────────────────────────────────────────────────────────────────────────────────────────────────────────────────────────────────────────────────────────────────────────────────────────────────────────────────────────────────────────────────────────────────────────────────────────────────────────────────────────────────────────────────────────────────────────────────────────────────────────────────────────────────────────────────────────────────────────────────────────────────────────────────────────────────────────────────────────────────────────────────────────────────────────────────────────────────────────────────────────────────────────────────────────────────────────────────────────────────────────────────────────────────────────────────────────────────────────────────────────────────────────────────────────────────────────────────────────────────────────────────────────────────────────────────────────────────────────────────────────────────────────────────────┘"
      ]
     },
     "execution_count": 106,
     "metadata": {},
     "output_type": "execute_result"
    }
   ],
   "source": [
    "query = \"\"\"\n",
    "SELECT\n",
    "    *\n",
    "FROM OPERATIVE_RULES\n",
    ";\n",
    "\"\"\"\n",
    "\n",
    "conn.sql(query)"
   ]
  },
  {
   "cell_type": "code",
   "execution_count": 97,
   "metadata": {},
   "outputs": [
    {
     "data": {
      "text/plain": [
       "┌───────────┬──────────────┬───────────────────────────────────────────┬──────────────────────────────────────────────────────────────────────────────────────────────────────────────────────────────────────────────────────────────────────────────────────────────────────────────────────────────────────────────────────────────────────────────────────────────────────────────────┬───────────────────┬───────────────────────────────────────────────────────────────────────────────────────────────────────────────────────────────────────────────────────────────────────────────────────────────────────────────────────────────────────────────────────────────────────────────────────────────────────────────────────────────────────────────────────────────────────────────────────────────────────────────────────────────────────────────────────────────────────────────────────────────────────────────────────────────────────────────────────────────────────────────────────────────────────────────────────────────────────────────────────────────────────────────────────────────────────────────────────────────┐\n",
       "│    id     │ statement_id │              statement_title              │                                                                                                                                                  statement_text                                                                                                                                                  │ statement_sources │                                                                                                                                                                                                                                                                                                                                                        classification                                                                                                                                                                                                                                                                                                                                                         │\n",
       "│  varchar  │   varchar    │                  varchar                  │                                                                                                                                                     varchar                                                                                                                                                      │     varchar[]     │                                                                                                                                                                                                                                                                                                                               struct(\"type\" varchar, confidence double, explanation varchar)[]                                                                                                                                                                                                                                                                                                                                │\n",
       "├───────────┼──────────────┼───────────────────────────────────────────┼──────────────────────────────────────────────────────────────────────────────────────────────────────────────────────────────────────────────────────────────────────────────────────────────────────────────────────────────────────────────────────────────────────────────────────────────────────────────────┼───────────────────┼───────────────────────────────────────────────────────────────────────────────────────────────────────────────────────────────────────────────────────────────────────────────────────────────────────────────────────────────────────────────────────────────────────────────────────────────────────────────────────────────────────────────────────────────────────────────────────────────────────────────────────────────────────────────────────────────────────────────────────────────────────────────────────────────────────────────────────────────────────────────────────────────────────────────────────────────────────────────────────────────────────────────────────────────────────────────────────────────┤\n",
       "│ § 275.0-2 │ 3            │ Forwarding documents by the Secretary     │ The Secretary of the Commission (Secretary) will promptly forward a copy to each named party by registered or certified mail at that party's last address filed with the Commission.                                                                                                                             │ [(a)(2)]          │ [{'type': Party rules, 'confidence': 0.8, 'explanation': This statement specifies the role of the Secretary in forwarding documents to named parties, indicating a responsibility and action linked to a specific role, which is characteristic of a party rule.}, {'type': Activity rules, 'confidence': 0.5, 'explanation': The statement involves an activity (forwarding documents) that must be performed by the Secretary, which aligns with activity rules, but the emphasis is more on the role of the Secretary.}, {'type': Data rules, 'confidence': 0.2, 'explanation': There is a minor reference to data (the party's last address), but the primary focus is on the action and role, not on data constraints.}] │\n",
       "│ § 275.0-2 │ 4            │ Certification of service by the Secretary │ If the Secretary certifies that the Commission was served with process, pleadings, or other papers pursuant to paragraph (a)(1) of this section and forwarded these documents to a named party pursuant to paragraph (a)(2) of this section, this certification constitutes evidence of service upon that party. │ [(a)(3)]          │ [{'type': Party rules, 'confidence': 0.7, 'explanation': The statement involves the Secretary's role in certifying service, which is a responsibility linked to a specific role, indicating a party rule.}, {'type': Activity rules, 'confidence': 0.6, 'explanation': The certification and forwarding of documents are activities that must be performed, suggesting an activity rule, but the focus is more on the role of the Secretary.}, {'type': Data rules, 'confidence': 0.3, 'explanation': There is a reference to documents and certification as evidence, but the primary focus is on the role and activities, not on data constraints.}]                                                                        │\n",
       "│ § 275.0-5 │ 1            │ Notice of proceeding initiation           │ Notice of the initiation of the proceeding will be published in the Federal Register and will indicate the earliest date upon which an order disposing of the matter may be entered.                                                                                                                             │ [(a)]             │ [{'type': Activity rules, 'confidence': 0.9, 'explanation': The statement describes an activity (publishing notice) that must occur, which is characteristic of an activity rule.}, {'type': Data rules, 'confidence': 0.4, 'explanation': There is a reference to data (the earliest date), but the primary focus is on the activity of publishing the notice.}, {'type': Party rules, 'confidence': 0.1, 'explanation': There is no specific reference to roles or responsibilities of parties, making this unlikely to be a party rule.}]                                                                                                                                                                                  │\n",
       "│ § 275.0-5 │ 2            │ Submission of facts and hearing request   │ Any interested person may, within the period of time specified therein, submit to the Commission in writing any facts bearing upon the desirability of a hearing on the matter and may request that a hearing be held, stating his reasons therefor and the nature of his interest in the matter.                │ [(a)]             │ [{'type': Party rules, 'confidence': 0.8, 'explanation': The statement specifies that any interested person can submit facts and request a hearing, indicating a role-based permission, which is characteristic of a party rule.}, {'type': Activity rules, 'confidence': 0.6, 'explanation': The statement involves activities (submitting facts, requesting a hearing) that can be performed, suggesting an activity rule, but the emphasis is more on the role of the interested person.}, {'type': Data rules, 'confidence': 0.2, 'explanation': There is a minor reference to data (facts submitted), but the primary focus is on the roles and activities, not on data constraints.}]                                   │\n",
       "│ § 275.0-5 │ 3            │ Issuance of order disposing of the matter │ An order disposing of the matter will be issued as of course following the expiration of the period of time referred to in paragraph (a) of this section, unless the Commission thereafter orders a hearing on the matter.                                                                                       │ [(b)]             │ [{'type': Activity rules, 'confidence': 0.9, 'explanation': The statement describes an activity (issuing an order) that must occur following a specific condition (expiration of time), which is characteristic of an activity rule.}, {'type': Data rules, 'confidence': 0.3, 'explanation': There is a reference to a time period, but the primary focus is on the activity of issuing an order.}, {'type': Party rules, 'confidence': 0.1, 'explanation': There is no specific reference to roles or responsibilities of parties, making this unlikely to be a party rule.}]                                                                                                                                               │\n",
       "│ § 275.0-5 │ 4            │ Commission orders a hearing               │ The Commission will order a hearing on the matter, if it appears that a hearing is necessary or appropriate in the public interest or for the protection of investors, upon the request of any interested person or upon its own motion.                                                                         │ [(c)]             │ [{'type': Activity rules, 'confidence': 0.8, 'explanation': The statement describes an activity (ordering a hearing) that the Commission must perform under certain conditions, which is characteristic of an activity rule.}, {'type': Party rules, 'confidence': 0.6, 'explanation': The statement involves the Commission's role in ordering a hearing, indicating a responsibility linked to a specific role, suggesting a party rule.}, {'type': Data rules, 'confidence': 0.2, 'explanation': There is a minor reference to conditions (public interest, protection of investors), but the primary focus is on the roles and activities, not on data constraints.}]                                                     │\n",
       "│ § 275.0-2 │ 3            │ Forwarding documents by the Secretary     │ The Secretary of the Commission (Secretary) will promptly forward a copy to each named party by registered or certified mail at that party's last address filed with the Commission.                                                                                                                             │ [(a)(2)]          │ [{'type': Party rules, 'confidence': 0.8, 'explanation': This statement specifies the role of the Secretary in forwarding documents to named parties, indicating a responsibility and action linked to a specific role, which is characteristic of a party rule.}, {'type': Activity rules, 'confidence': 0.5, 'explanation': The statement involves an activity (forwarding documents) that must be performed by the Secretary, which aligns with activity rules, but the emphasis is more on the role of the Secretary.}, {'type': Data rules, 'confidence': 0.2, 'explanation': There is a minor reference to data (the party's last address), but the primary focus is on the action and role, not on data constraints.}] │\n",
       "│ § 275.0-2 │ 4            │ Certification of service by the Secretary │ If the Secretary certifies that the Commission was served with process, pleadings, or other papers pursuant to paragraph (a)(1) of this section and forwarded these documents to a named party pursuant to paragraph (a)(2) of this section, this certification constitutes evidence of service upon that party. │ [(a)(3)]          │ [{'type': Party rules, 'confidence': 0.7, 'explanation': The statement involves the Secretary's role in certifying service, which is a responsibility linked to a specific role, indicating a party rule.}, {'type': Activity rules, 'confidence': 0.6, 'explanation': The certification and forwarding of documents are activities that must be performed, suggesting an activity rule, but the focus is more on the role of the Secretary.}, {'type': Data rules, 'confidence': 0.3, 'explanation': There is a reference to documents and certification as evidence, but the primary focus is on the role and activities, not on data constraints.}]                                                                        │\n",
       "│ § 275.0-5 │ 1            │ Notice of proceeding initiation           │ Notice of the initiation of the proceeding will be published in the Federal Register and will indicate the earliest date upon which an order disposing of the matter may be entered.                                                                                                                             │ [(a)]             │ [{'type': Activity rules, 'confidence': 0.9, 'explanation': The statement describes an activity (publishing notice) that must occur, which is characteristic of an activity rule.}, {'type': Data rules, 'confidence': 0.4, 'explanation': There is a reference to data (the earliest date), but the primary focus is on the activity of publishing the notice.}, {'type': Party rules, 'confidence': 0.1, 'explanation': There is no specific reference to roles or responsibilities of parties, making this unlikely to be a party rule.}]                                                                                                                                                                                  │\n",
       "│ § 275.0-5 │ 2            │ Submission of facts and hearing request   │ Any interested person may, within the period of time specified therein, submit to the Commission in writing any facts bearing upon the desirability of a hearing on the matter and may request that a hearing be held, stating his reasons therefor and the nature of his interest in the matter.                │ [(a)]             │ [{'type': Party rules, 'confidence': 0.8, 'explanation': The statement specifies that any interested person can submit facts and request a hearing, indicating a role-based permission, which is characteristic of a party rule.}, {'type': Activity rules, 'confidence': 0.6, 'explanation': The statement involves activities (submitting facts, requesting a hearing) that can be performed, suggesting an activity rule, but the emphasis is more on the role of the interested person.}, {'type': Data rules, 'confidence': 0.2, 'explanation': There is a minor reference to data (facts submitted), but the primary focus is on the roles and activities, not on data constraints.}]                                   │\n",
       "│     ·     │ ·            │                ·                          │                                                                                          ·                                                                                                                                                                                                                       │   ·               │                                                                                                                                                                                                                                                                      ·                                                                                                                                                                                                                                                                                                                                                                                                                                                        │\n",
       "│     ·     │ ·            │                ·                          │                                                                                          ·                                                                                                                                                                                                                       │   ·               │                                                                                                                                                                                                                                                                      ·                                                                                                                                                                                                                                                                                                                                                                                                                                                        │\n",
       "│     ·     │ ·            │                ·                          │                                                                                          ·                                                                                                                                                                                                                       │   ·               │                                                                                                                                                                                                                                                                      ·                                                                                                                                                                                                                                                                                                                                                                                                                                                        │\n",
       "│ § 275.0-5 │ 1            │ Notice of proceeding initiation           │ Notice of the initiation of the proceeding will be published in the Federal Register and will indicate the earliest date upon which an order disposing of the matter may be entered.                                                                                                                             │ [(a)]             │ [{'type': Activity rules, 'confidence': 0.9, 'explanation': The statement describes an activity (publishing notice) that must occur, which is characteristic of an activity rule.}, {'type': Data rules, 'confidence': 0.4, 'explanation': There is a reference to data (the earliest date), but the primary focus is on the activity of publishing the notice.}, {'type': Party rules, 'confidence': 0.1, 'explanation': There is no specific reference to roles or responsibilities of parties, making this unlikely to be a party rule.}]                                                                                                                                                                                  │\n",
       "│ § 275.0-5 │ 2            │ Submission of facts and hearing request   │ Any interested person may, within the period of time specified therein, submit to the Commission in writing any facts bearing upon the desirability of a hearing on the matter and may request that a hearing be held, stating his reasons therefor and the nature of his interest in the matter.                │ [(a)]             │ [{'type': Party rules, 'confidence': 0.8, 'explanation': The statement specifies that any interested person can submit facts and request a hearing, indicating a role-based permission, which is characteristic of a party rule.}, {'type': Activity rules, 'confidence': 0.6, 'explanation': The statement involves activities (submitting facts, requesting a hearing) that can be performed, suggesting an activity rule, but the emphasis is more on the role of the interested person.}, {'type': Data rules, 'confidence': 0.2, 'explanation': There is a minor reference to data (facts submitted), but the primary focus is on the roles and activities, not on data constraints.}]                                   │\n",
       "│ § 275.0-5 │ 3            │ Issuance of order disposing of the matter │ An order disposing of the matter will be issued as of course following the expiration of the period of time referred to in paragraph (a) of this section, unless the Commission thereafter orders a hearing on the matter.                                                                                       │ [(b)]             │ [{'type': Activity rules, 'confidence': 0.9, 'explanation': The statement describes an activity (issuing an order) that must occur following a specific condition (expiration of time), which is characteristic of an activity rule.}, {'type': Data rules, 'confidence': 0.3, 'explanation': There is a reference to a time period, but the primary focus is on the activity of issuing an order.}, {'type': Party rules, 'confidence': 0.1, 'explanation': There is no specific reference to roles or responsibilities of parties, making this unlikely to be a party rule.}]                                                                                                                                               │\n",
       "│ § 275.0-5 │ 4            │ Commission orders a hearing               │ The Commission will order a hearing on the matter, if it appears that a hearing is necessary or appropriate in the public interest or for the protection of investors, upon the request of any interested person or upon its own motion.                                                                         │ [(c)]             │ [{'type': Activity rules, 'confidence': 0.8, 'explanation': The statement describes an activity (ordering a hearing) that the Commission must perform under certain conditions, which is characteristic of an activity rule.}, {'type': Party rules, 'confidence': 0.6, 'explanation': The statement involves the Commission's role in ordering a hearing, indicating a responsibility linked to a specific role, suggesting a party rule.}, {'type': Data rules, 'confidence': 0.2, 'explanation': There is a minor reference to conditions (public interest, protection of investors), but the primary focus is on the roles and activities, not on data constraints.}]                                                     │\n",
       "│ § 275.0-2 │ 3            │ Forwarding documents by the Secretary     │ The Secretary of the Commission (Secretary) will promptly forward a copy to each named party by registered or certified mail at that party's last address filed with the Commission.                                                                                                                             │ [(a)(2)]          │ [{'type': Party rules, 'confidence': 0.8, 'explanation': This statement specifies the role of the Secretary in forwarding documents to named parties, indicating a responsibility and action linked to a specific role, which is characteristic of a party rule.}, {'type': Activity rules, 'confidence': 0.5, 'explanation': The statement involves an activity (forwarding documents) that must be performed by the Secretary, which aligns with activity rules, but the emphasis is more on the role of the Secretary.}, {'type': Data rules, 'confidence': 0.2, 'explanation': There is a minor reference to data (the party's last address), but the primary focus is on the action and role, not on data constraints.}] │\n",
       "│ § 275.0-2 │ 4            │ Certification of service by the Secretary │ If the Secretary certifies that the Commission was served with process, pleadings, or other papers pursuant to paragraph (a)(1) of this section and forwarded these documents to a named party pursuant to paragraph (a)(2) of this section, this certification constitutes evidence of service upon that party. │ [(a)(3)]          │ [{'type': Party rules, 'confidence': 0.7, 'explanation': The statement involves the Secretary's role in certifying service, which is a responsibility linked to a specific role, indicating a party rule.}, {'type': Activity rules, 'confidence': 0.6, 'explanation': The certification and forwarding of documents are activities that must be performed, suggesting an activity rule, but the focus is more on the role of the Secretary.}, {'type': Data rules, 'confidence': 0.3, 'explanation': There is a reference to documents and certification as evidence, but the primary focus is on the role and activities, not on data constraints.}]                                                                        │\n",
       "│ § 275.0-5 │ 1            │ Notice of proceeding initiation           │ Notice of the initiation of the proceeding will be published in the Federal Register and will indicate the earliest date upon which an order disposing of the matter may be entered.                                                                                                                             │ [(a)]             │ [{'type': Activity rules, 'confidence': 0.9, 'explanation': The statement describes an activity (publishing notice) that must occur, which is characteristic of an activity rule.}, {'type': Data rules, 'confidence': 0.4, 'explanation': There is a reference to data (the earliest date), but the primary focus is on the activity of publishing the notice.}, {'type': Party rules, 'confidence': 0.1, 'explanation': There is no specific reference to roles or responsibilities of parties, making this unlikely to be a party rule.}]                                                                                                                                                                                  │\n",
       "│ § 275.0-5 │ 2            │ Submission of facts and hearing request   │ Any interested person may, within the period of time specified therein, submit to the Commission in writing any facts bearing upon the desirability of a hearing on the matter and may request that a hearing be held, stating his reasons therefor and the nature of his interest in the matter.                │ [(a)]             │ [{'type': Party rules, 'confidence': 0.8, 'explanation': The statement specifies that any interested person can submit facts and request a hearing, indicating a role-based permission, which is characteristic of a party rule.}, {'type': Activity rules, 'confidence': 0.6, 'explanation': The statement involves activities (submitting facts, requesting a hearing) that can be performed, suggesting an activity rule, but the emphasis is more on the role of the interested person.}, {'type': Data rules, 'confidence': 0.2, 'explanation': There is a minor reference to data (facts submitted), but the primary focus is on the roles and activities, not on data constraints.}]                                   │\n",
       "│ § 275.0-5 │ 3            │ Issuance of order disposing of the matter │ An order disposing of the matter will be issued as of course following the expiration of the period of time referred to in paragraph (a) of this section, unless the Commission thereafter orders a hearing on the matter.                                                                                       │ [(b)]             │ [{'type': Activity rules, 'confidence': 0.9, 'explanation': The statement describes an activity (issuing an order) that must occur following a specific condition (expiration of time), which is characteristic of an activity rule.}, {'type': Data rules, 'confidence': 0.3, 'explanation': There is a reference to a time period, but the primary focus is on the activity of issuing an order.}, {'type': Party rules, 'confidence': 0.1, 'explanation': There is no specific reference to roles or responsibilities of parties, making this unlikely to be a party rule.}]                                                                                                                                               │\n",
       "│ § 275.0-5 │ 4            │ Commission orders a hearing               │ The Commission will order a hearing on the matter, if it appears that a hearing is necessary or appropriate in the public interest or for the protection of investors, upon the request of any interested person or upon its own motion.                                                                         │ [(c)]             │ [{'type': Activity rules, 'confidence': 0.8, 'explanation': The statement describes an activity (ordering a hearing) that the Commission must perform under certain conditions, which is characteristic of an activity rule.}, {'type': Party rules, 'confidence': 0.6, 'explanation': The statement involves the Commission's role in ordering a hearing, indicating a responsibility linked to a specific role, suggesting a party rule.}, {'type': Data rules, 'confidence': 0.2, 'explanation': There is a minor reference to conditions (public interest, protection of investors), but the primary focus is on the roles and activities, not on data constraints.}]                                                     │\n",
       "├───────────┴──────────────┴───────────────────────────────────────────┴──────────────────────────────────────────────────────────────────────────────────────────────────────────────────────────────────────────────────────────────────────────────────────────────────────────────────────────────────────────────────────────────────────────────────────────────────────────────────┴───────────────────┴───────────────────────────────────────────────────────────────────────────────────────────────────────────────────────────────────────────────────────────────────────────────────────────────────────────────────────────────────────────────────────────────────────────────────────────────────────────────────────────────────────────────────────────────────────────────────────────────────────────────────────────────────────────────────────────────────────────────────────────────────────────────────────────────────────────────────────────────────────────────────────────────────────────────────────────────────────────────────────────────────────────────────────────────────────────────────────────────┤\n",
       "│ 60 rows (20 shown)                                                                                                                                                                                                                                                                                                                                                                                                                                                                                                                                                                                                                                                                                                                                                                                                                                                                                                                                                                                                                                                                                                                6 columns │\n",
       "└─────────────────────────────────────────────────────────────────────────────────────────────────────────────────────────────────────────────────────────────────────────────────────────────────────────────────────────────────────────────────────────────────────────────────────────────────────────────────────────────────────────────────────────────────────────────────────────────────────────────────────────────────────────────────────────────────────────────────────────────────────────────────────────────────────────────────────────────────────────────────────────────────────────────────────────────────────────────────────────────────────────────────────────────────────────────────────────────────────────────────────────────────────────────────────────────────────────────────────────────────────────────────────────────────────────────────────────────────────────────────────────────────────────────────────────────────────────────────────────────────────────────────────────────────────────────────────────────────────────────────────────────────────────────────────────────────────────────┘"
      ]
     },
     "execution_count": 97,
     "metadata": {},
     "output_type": "execute_result"
    }
   ],
   "source": [
    "query = \"\"\"\n",
    "SELECT\n",
    "    content.doc_id as id,\n",
    "    content.statement_id,\n",
    "    content.statement_title,\n",
    "    content.statement_text,\n",
    "    content.statement_sources,\n",
    "    content.classification\n",
    "FROM OPERATIVE_RULES\n",
    ";\n",
    "\"\"\"\n",
    "\n",
    "conn.sql(query)"
   ]
  },
  {
   "cell_type": "code",
   "execution_count": 142,
   "metadata": {},
   "outputs": [
    {
     "data": {
      "text/plain": [
       "┌───────────┬──────────────┬───────────────────────────────────────────┬───────────────────┬──────────────────────────────┬─────────────────────┬─────────────────────────────────────────────────────────────────────────────────────────────────────────────────────────────────────────────────────────────────────────────────────────────────────────┬───────────────────────────┬──────────────────────────────┐\n",
       "│  doc_id   │ statement_id │              statement_title              │ statement_sources │         file_source          │ classification_type │                                                                                       classification_explanation                                                                                        │ classification_confidence │         file_source          │\n",
       "│  varchar  │   varchar    │                  varchar                  │     varchar[]     │           varchar            │       varchar       │                                                                                                 varchar                                                                                                 │          double           │           varchar            │\n",
       "├───────────┼──────────────┼───────────────────────────────────────────┼───────────────────┼──────────────────────────────┼─────────────────────┼─────────────────────────────────────────────────────────────────────────────────────────────────────────────────────────────────────────────────────────────────────────────────────────────────────────┼───────────────────────────┼──────────────────────────────┤\n",
       "│ § 275.0-2 │ 3            │ Forwarding documents by the Secretary     │ [(a)(2)]          │ documents-2024-12-08-1.json  │ Party rules         │ This statement specifies the role of the Secretary in forwarding documents to named parties, indicating a responsibility and action linked to a specific role, which is characteristic of a party rule. │                       0.8 │ documents-2024-12-08-1.json  │\n",
       "│ § 275.0-2 │ 4            │ Certification of service by the Secretary │ [(a)(3)]          │ documents-2024-12-08-1.json  │ Party rules         │ There is a reference to documents and certification as evidence, but the primary focus is on the role and activities, not on data constraints.                                                          │                       0.7 │ documents-2024-12-08-1.json  │\n",
       "│ § 275.0-5 │ 1            │ Notice of proceeding initiation           │ [(a)]             │ documents-2024-12-08-1.json  │ Party rules         │ There is no specific reference to roles or responsibilities of parties, making this unlikely to be a party rule.                                                                                        │                       0.9 │ documents-2024-12-08-1.json  │\n",
       "│ § 275.0-5 │ 2            │ Submission of facts and hearing request   │ [(a)]             │ documents-2024-12-08-1.json  │ Party rules         │ There is a minor reference to data (facts submitted), but the primary focus is on the roles and activities, not on data constraints.                                                                    │                       0.8 │ documents-2024-12-08-1.json  │\n",
       "│ § 275.0-5 │ 3            │ Issuance of order disposing of the matter │ [(b)]             │ documents-2024-12-08-1.json  │ Party rules         │ There is no specific reference to roles or responsibilities of parties, making this unlikely to be a party rule.                                                                                        │                       0.9 │ documents-2024-12-08-1.json  │\n",
       "│ § 275.0-5 │ 4            │ Commission orders a hearing               │ [(c)]             │ documents-2024-12-08-1.json  │ Party rules         │ There is a minor reference to conditions (public interest, protection of investors), but the primary focus is on the roles and activities, not on data constraints.                                     │                       0.8 │ documents-2024-12-08-1.json  │\n",
       "│ § 275.0-2 │ 3            │ Forwarding documents by the Secretary     │ [(a)(2)]          │ documents-2024-12-08-10.json │ Party rules         │ This statement specifies the role of the Secretary in forwarding documents to named parties, indicating a responsibility and action linked to a specific role, which is characteristic of a party rule. │                       0.8 │ documents-2024-12-08-10.json │\n",
       "│ § 275.0-2 │ 4            │ Certification of service by the Secretary │ [(a)(3)]          │ documents-2024-12-08-10.json │ Party rules         │ There is a reference to documents and certification as evidence, but the primary focus is on the role and activities, not on data constraints.                                                          │                       0.7 │ documents-2024-12-08-10.json │\n",
       "│ § 275.0-5 │ 1            │ Notice of proceeding initiation           │ [(a)]             │ documents-2024-12-08-10.json │ Party rules         │ There is no specific reference to roles or responsibilities of parties, making this unlikely to be a party rule.                                                                                        │                       0.9 │ documents-2024-12-08-10.json │\n",
       "│ § 275.0-5 │ 2            │ Submission of facts and hearing request   │ [(a)]             │ documents-2024-12-08-10.json │ Party rules         │ There is a minor reference to data (facts submitted), but the primary focus is on the roles and activities, not on data constraints.                                                                    │                       0.8 │ documents-2024-12-08-10.json │\n",
       "│     ·     │ ·            │                ·                          │   ·               │              ·               │      ·              │                                                        ·                                                                                                                                                │                        ·  │              ·               │\n",
       "│     ·     │ ·            │                ·                          │   ·               │              ·               │      ·              │                                                        ·                                                                                                                                                │                        ·  │              ·               │\n",
       "│     ·     │ ·            │                ·                          │   ·               │              ·               │      ·              │                                                        ·                                                                                                                                                │                        ·  │              ·               │\n",
       "│ § 275.0-5 │ 1            │ Notice of proceeding initiation           │ [(a)]             │ documents-2024-12-08-8.json  │ Party rules         │ There is no specific reference to roles or responsibilities of parties, making this unlikely to be a party rule.                                                                                        │                       0.9 │ documents-2024-12-08-8.json  │\n",
       "│ § 275.0-5 │ 2            │ Submission of facts and hearing request   │ [(a)]             │ documents-2024-12-08-8.json  │ Party rules         │ There is a minor reference to data (facts submitted), but the primary focus is on the roles and activities, not on data constraints.                                                                    │                       0.8 │ documents-2024-12-08-8.json  │\n",
       "│ § 275.0-5 │ 3            │ Issuance of order disposing of the matter │ [(b)]             │ documents-2024-12-08-8.json  │ Party rules         │ There is no specific reference to roles or responsibilities of parties, making this unlikely to be a party rule.                                                                                        │                       0.9 │ documents-2024-12-08-8.json  │\n",
       "│ § 275.0-5 │ 4            │ Commission orders a hearing               │ [(c)]             │ documents-2024-12-08-8.json  │ Party rules         │ There is a minor reference to conditions (public interest, protection of investors), but the primary focus is on the roles and activities, not on data constraints.                                     │                       0.8 │ documents-2024-12-08-8.json  │\n",
       "│ § 275.0-2 │ 3            │ Forwarding documents by the Secretary     │ [(a)(2)]          │ documents-2024-12-08-9.json  │ Party rules         │ This statement specifies the role of the Secretary in forwarding documents to named parties, indicating a responsibility and action linked to a specific role, which is characteristic of a party rule. │                       0.8 │ documents-2024-12-08-9.json  │\n",
       "│ § 275.0-2 │ 4            │ Certification of service by the Secretary │ [(a)(3)]          │ documents-2024-12-08-9.json  │ Party rules         │ There is a reference to documents and certification as evidence, but the primary focus is on the role and activities, not on data constraints.                                                          │                       0.7 │ documents-2024-12-08-9.json  │\n",
       "│ § 275.0-5 │ 1            │ Notice of proceeding initiation           │ [(a)]             │ documents-2024-12-08-9.json  │ Party rules         │ There is no specific reference to roles or responsibilities of parties, making this unlikely to be a party rule.                                                                                        │                       0.9 │ documents-2024-12-08-9.json  │\n",
       "│ § 275.0-5 │ 2            │ Submission of facts and hearing request   │ [(a)]             │ documents-2024-12-08-9.json  │ Party rules         │ There is a minor reference to data (facts submitted), but the primary focus is on the roles and activities, not on data constraints.                                                                    │                       0.8 │ documents-2024-12-08-9.json  │\n",
       "│ § 275.0-5 │ 3            │ Issuance of order disposing of the matter │ [(b)]             │ documents-2024-12-08-9.json  │ Party rules         │ There is no specific reference to roles or responsibilities of parties, making this unlikely to be a party rule.                                                                                        │                       0.9 │ documents-2024-12-08-9.json  │\n",
       "│ § 275.0-5 │ 4            │ Commission orders a hearing               │ [(c)]             │ documents-2024-12-08-9.json  │ Party rules         │ There is a minor reference to conditions (public interest, protection of investors), but the primary focus is on the roles and activities, not on data constraints.                                     │                       0.8 │ documents-2024-12-08-9.json  │\n",
       "├───────────┴──────────────┴───────────────────────────────────────────┴───────────────────┴──────────────────────────────┴─────────────────────┴─────────────────────────────────────────────────────────────────────────────────────────────────────────────────────────────────────────────────────────────────────────────────────────────────────────┴───────────────────────────┴──────────────────────────────┤\n",
       "│ 60 rows (20 shown)                                                                                                                                                                                                                                                                                                                                                                                       9 columns │\n",
       "└────────────────────────────────────────────────────────────────────────────────────────────────────────────────────────────────────────────────────────────────────────────────────────────────────────────────────────────────────────────────────────────────────────────────────────────────────────────────────────────────────────────────────────────────────────────────────────────────────────────────────┘"
      ]
     },
     "execution_count": 142,
     "metadata": {},
     "output_type": "execute_result"
    }
   ],
   "source": [
    "query = \"\"\"\n",
    "SELECT \n",
    "    content.doc_id as doc_id,\n",
    "    content.statement_id as statement_id,\n",
    "    content.statement_title as statement_title,\n",
    "    content.statement_sources as statement_sources,\n",
    "    content.file_source as file_source,\n",
    "    --classification.type as classification_type, \n",
    "    --classification.explanation as classification_explanation, \n",
    "    --classification.confidence as classification_confidence\n",
    "    MAX(classification.type) as classification_type, \n",
    "    MAX(classification.explanation) as classification_explanation, \n",
    "    MAX(classification.confidence) as classification_confidence,\n",
    "    MAX(file_source) as file_source\n",
    "FROM (\n",
    "    SELECT\n",
    "        file_source,\n",
    "        content.doc_id,\n",
    "        content.statement_id,\n",
    "        content.statement_sources,\n",
    "        content.statement_title,\n",
    "        unnest(content.classification) as classification\n",
    "    FROM\n",
    "        OPERATIVE_RULES\n",
    ") AS content\n",
    "GROUP BY doc_id, statement_id, statement_title, statement_sources, file_source\n",
    "ORDER BY file_source, doc_id, statement_id\n",
    "\"\"\"\n",
    "\n",
    "pred_operative_rules = conn.sql(query).fetchall()\n",
    "\n",
    "conn.sql(query)"
   ]
  },
  {
   "cell_type": "code",
   "execution_count": 153,
   "metadata": {},
   "outputs": [
    {
     "data": {
      "text/plain": [
       "[('§ 275.0-2',\n",
       "  '3',\n",
       "  \"The Secretary of the Commission (Secretary) will promptly forward a copy to each named party by registered or certified mail at that party's last address filed with the Commission.\",\n",
       "  ['(a)(2)'],\n",
       "  'documents_true_table.json',\n",
       "  'Party rules'),\n",
       " ('§ 275.0-2',\n",
       "  '4',\n",
       "  'If the Secretary certifies that the Commission was served with process, pleadings, or other papers pursuant to paragraph (a)(1) of this section and forwarded these documents to a named party pursuant to paragraph (a)(2) of this section, this certification constitutes evidence of service upon that party.',\n",
       "  ['(a)(3)'],\n",
       "  'documents_true_table.json',\n",
       "  'Party rules'),\n",
       " ('§ 275.0-5',\n",
       "  '1',\n",
       "  'Notice of the initiation of the proceeding will be published in the Federal Register and will indicate the earliest date upon which an order disposing of the matter may be entered.',\n",
       "  ['(a)'],\n",
       "  'documents_true_table.json',\n",
       "  'Activity rules'),\n",
       " ('§ 275.0-5',\n",
       "  '2',\n",
       "  'Any interested person may, within the period of time specified therein, submit to the Commission in writing any facts bearing upon the desirability of a hearing on the matter and may request that a hearing be held, stating his reasons therefor and the nature of his interest in the matter.',\n",
       "  ['(a)'],\n",
       "  'documents_true_table.json',\n",
       "  'Party rules'),\n",
       " ('§ 275.0-5',\n",
       "  '3',\n",
       "  'An order disposing of the matter will be issued as of course following the expiration of the period of time referred to in paragraph (a) of this section, unless the Commission thereafter orders a hearing on the matter.',\n",
       "  ['(b)'],\n",
       "  'documents_true_table.json',\n",
       "  'Activity rules'),\n",
       " ('§ 275.0-5',\n",
       "  '4',\n",
       "  'The Commission will order a hearing on the matter, if it appears that a hearing is necessary or appropriate in the public interest or for the protection of investors, upon the request of any interested person or upon its own motion.',\n",
       "  ['(c)'],\n",
       "  'documents_true_table.json',\n",
       "  'Activity rules')]"
      ]
     },
     "execution_count": 153,
     "metadata": {},
     "output_type": "execute_result"
    }
   ],
   "source": [
    "true_operative_rules"
   ]
  },
  {
   "cell_type": "code",
   "execution_count": 176,
   "metadata": {},
   "outputs": [
    {
     "data": {
      "text/plain": [
       "{('§ 275.0-2', '3', ('(a)(2)',), 'documents-2024-12-08-1.json'): 'Party rules',\n",
       " ('§ 275.0-2', '4', ('(a)(3)',), 'documents-2024-12-08-1.json'): 'Party rules',\n",
       " ('§ 275.0-5', '1', ('(a)',), 'documents-2024-12-08-1.json'): 'Party rules',\n",
       " ('§ 275.0-5', '2', ('(a)',), 'documents-2024-12-08-1.json'): 'Party rules',\n",
       " ('§ 275.0-5', '3', ('(b)',), 'documents-2024-12-08-1.json'): 'Party rules',\n",
       " ('§ 275.0-5', '4', ('(c)',), 'documents-2024-12-08-1.json'): 'Party rules',\n",
       " ('§ 275.0-2',\n",
       "  '3',\n",
       "  ('(a)(2)',),\n",
       "  'documents-2024-12-08-10.json'): 'Party rules',\n",
       " ('§ 275.0-2',\n",
       "  '4',\n",
       "  ('(a)(3)',),\n",
       "  'documents-2024-12-08-10.json'): 'Party rules',\n",
       " ('§ 275.0-5', '1', ('(a)',), 'documents-2024-12-08-10.json'): 'Party rules',\n",
       " ('§ 275.0-5', '2', ('(a)',), 'documents-2024-12-08-10.json'): 'Party rules',\n",
       " ('§ 275.0-5', '3', ('(b)',), 'documents-2024-12-08-10.json'): 'Party rules',\n",
       " ('§ 275.0-5', '4', ('(c)',), 'documents-2024-12-08-10.json'): 'Party rules',\n",
       " ('§ 275.0-2', '3', ('(a)(2)',), 'documents-2024-12-08-2.json'): 'Party rules',\n",
       " ('§ 275.0-2', '4', ('(a)(3)',), 'documents-2024-12-08-2.json'): 'Party rules',\n",
       " ('§ 275.0-5', '1', ('(a)',), 'documents-2024-12-08-2.json'): 'Party rules',\n",
       " ('§ 275.0-5', '2', ('(a)',), 'documents-2024-12-08-2.json'): 'Party rules',\n",
       " ('§ 275.0-5', '3', ('(b)',), 'documents-2024-12-08-2.json'): 'Party rules',\n",
       " ('§ 275.0-5', '4', ('(c)',), 'documents-2024-12-08-2.json'): 'Party rules',\n",
       " ('§ 275.0-2', '3', ('(a)(2)',), 'documents-2024-12-08-3.json'): 'Party rules',\n",
       " ('§ 275.0-2', '4', ('(a)(3)',), 'documents-2024-12-08-3.json'): 'Party rules',\n",
       " ('§ 275.0-5', '1', ('(a)',), 'documents-2024-12-08-3.json'): 'Party rules',\n",
       " ('§ 275.0-5', '2', ('(a)',), 'documents-2024-12-08-3.json'): 'Party rules',\n",
       " ('§ 275.0-5', '3', ('(b)',), 'documents-2024-12-08-3.json'): 'Party rules',\n",
       " ('§ 275.0-5', '4', ('(c)',), 'documents-2024-12-08-3.json'): 'Party rules',\n",
       " ('§ 275.0-2', '3', ('(a)(2)',), 'documents-2024-12-08-4.json'): 'Party rules',\n",
       " ('§ 275.0-2', '4', ('(a)(3)',), 'documents-2024-12-08-4.json'): 'Party rules',\n",
       " ('§ 275.0-5', '1', ('(a)',), 'documents-2024-12-08-4.json'): 'Party rules',\n",
       " ('§ 275.0-5', '2', ('(a)',), 'documents-2024-12-08-4.json'): 'Party rules',\n",
       " ('§ 275.0-5', '3', ('(b)',), 'documents-2024-12-08-4.json'): 'Party rules',\n",
       " ('§ 275.0-5', '4', ('(c)',), 'documents-2024-12-08-4.json'): 'Party rules',\n",
       " ('§ 275.0-2', '3', ('(a)(2)',), 'documents-2024-12-08-5.json'): 'Party rules',\n",
       " ('§ 275.0-2', '4', ('(a)(3)',), 'documents-2024-12-08-5.json'): 'Party rules',\n",
       " ('§ 275.0-5', '1', ('(a)',), 'documents-2024-12-08-5.json'): 'Party rules',\n",
       " ('§ 275.0-5', '2', ('(a)',), 'documents-2024-12-08-5.json'): 'Party rules',\n",
       " ('§ 275.0-5', '3', ('(b)',), 'documents-2024-12-08-5.json'): 'Party rules',\n",
       " ('§ 275.0-5', '4', ('(c)',), 'documents-2024-12-08-5.json'): 'Party rules',\n",
       " ('§ 275.0-2', '3', ('(a)(2)',), 'documents-2024-12-08-6.json'): 'Party rules',\n",
       " ('§ 275.0-2', '4', ('(a)(3)',), 'documents-2024-12-08-6.json'): 'Party rules',\n",
       " ('§ 275.0-5', '1', ('(a)',), 'documents-2024-12-08-6.json'): 'Party rules',\n",
       " ('§ 275.0-5', '2', ('(a)',), 'documents-2024-12-08-6.json'): 'Party rules',\n",
       " ('§ 275.0-5', '3', ('(b)',), 'documents-2024-12-08-6.json'): 'Party rules',\n",
       " ('§ 275.0-5', '4', ('(c)',), 'documents-2024-12-08-6.json'): 'Party rules',\n",
       " ('§ 275.0-2', '3', ('(a)(2)',), 'documents-2024-12-08-7.json'): 'Party rules',\n",
       " ('§ 275.0-2', '4', ('(a)(3)',), 'documents-2024-12-08-7.json'): 'Party rules',\n",
       " ('§ 275.0-5', '1', ('(a)',), 'documents-2024-12-08-7.json'): 'Party rules',\n",
       " ('§ 275.0-5', '2', ('(a)',), 'documents-2024-12-08-7.json'): 'Party rules',\n",
       " ('§ 275.0-5', '3', ('(b)',), 'documents-2024-12-08-7.json'): 'Party rules',\n",
       " ('§ 275.0-5', '4', ('(c)',), 'documents-2024-12-08-7.json'): 'Party rules',\n",
       " ('§ 275.0-2', '3', ('(a)(2)',), 'documents-2024-12-08-8.json'): 'Party rules',\n",
       " ('§ 275.0-2', '4', ('(a)(3)',), 'documents-2024-12-08-8.json'): 'Party rules',\n",
       " ('§ 275.0-5', '1', ('(a)',), 'documents-2024-12-08-8.json'): 'Party rules',\n",
       " ('§ 275.0-5', '2', ('(a)',), 'documents-2024-12-08-8.json'): 'Party rules',\n",
       " ('§ 275.0-5', '3', ('(b)',), 'documents-2024-12-08-8.json'): 'Party rules',\n",
       " ('§ 275.0-5', '4', ('(c)',), 'documents-2024-12-08-8.json'): 'Party rules',\n",
       " ('§ 275.0-2', '3', ('(a)(2)',), 'documents-2024-12-08-9.json'): 'Party rules',\n",
       " ('§ 275.0-2', '4', ('(a)(3)',), 'documents-2024-12-08-9.json'): 'Party rules',\n",
       " ('§ 275.0-5', '1', ('(a)',), 'documents-2024-12-08-9.json'): 'Party rules',\n",
       " ('§ 275.0-5', '2', ('(a)',), 'documents-2024-12-08-9.json'): 'Party rules',\n",
       " ('§ 275.0-5', '3', ('(b)',), 'documents-2024-12-08-9.json'): 'Party rules',\n",
       " ('§ 275.0-5', '4', ('(c)',), 'documents-2024-12-08-9.json'): 'Party rules'}"
      ]
     },
     "execution_count": 176,
     "metadata": {},
     "output_type": "execute_result"
    }
   ],
   "source": [
    "pred_dict"
   ]
  },
  {
   "cell_type": "code",
   "execution_count": 177,
   "metadata": {},
   "outputs": [
    {
     "data": {
      "text/plain": [
       "[('§ 275.0-2',\n",
       "  '3',\n",
       "  \"The Secretary of the Commission (Secretary) will promptly forward a copy to each named party by registered or certified mail at that party's last address filed with the Commission.\",\n",
       "  ['(a)(2)'],\n",
       "  'documents_true_table.json',\n",
       "  'Party rules'),\n",
       " ('§ 275.0-2',\n",
       "  '4',\n",
       "  'If the Secretary certifies that the Commission was served with process, pleadings, or other papers pursuant to paragraph (a)(1) of this section and forwarded these documents to a named party pursuant to paragraph (a)(2) of this section, this certification constitutes evidence of service upon that party.',\n",
       "  ['(a)(3)'],\n",
       "  'documents_true_table.json',\n",
       "  'Party rules'),\n",
       " ('§ 275.0-5',\n",
       "  '1',\n",
       "  'Notice of the initiation of the proceeding will be published in the Federal Register and will indicate the earliest date upon which an order disposing of the matter may be entered.',\n",
       "  ['(a)'],\n",
       "  'documents_true_table.json',\n",
       "  'Activity rules'),\n",
       " ('§ 275.0-5',\n",
       "  '2',\n",
       "  'Any interested person may, within the period of time specified therein, submit to the Commission in writing any facts bearing upon the desirability of a hearing on the matter and may request that a hearing be held, stating his reasons therefor and the nature of his interest in the matter.',\n",
       "  ['(a)'],\n",
       "  'documents_true_table.json',\n",
       "  'Party rules'),\n",
       " ('§ 275.0-5',\n",
       "  '3',\n",
       "  'An order disposing of the matter will be issued as of course following the expiration of the period of time referred to in paragraph (a) of this section, unless the Commission thereafter orders a hearing on the matter.',\n",
       "  ['(b)'],\n",
       "  'documents_true_table.json',\n",
       "  'Activity rules'),\n",
       " ('§ 275.0-5',\n",
       "  '4',\n",
       "  'The Commission will order a hearing on the matter, if it appears that a hearing is necessary or appropriate in the public interest or for the protection of investors, upon the request of any interested person or upon its own motion.',\n",
       "  ['(c)'],\n",
       "  'documents_true_table.json',\n",
       "  'Activity rules')]"
      ]
     },
     "execution_count": 177,
     "metadata": {},
     "output_type": "execute_result"
    }
   ],
   "source": [
    "true_operative_rules"
   ]
  },
  {
   "cell_type": "code",
   "execution_count": 169,
   "metadata": {},
   "outputs": [
    {
     "name": "stdout",
     "output_type": "stream",
     "text": [
      "Precisão: 0.25\n",
      "Sensibilidade: 0.50\n",
      "Acurácia: 0.50\n",
      "F1 Score: 0.33\n"
     ]
    },
    {
     "name": "stderr",
     "output_type": "stream",
     "text": [
      "/Users/u009165/miniconda3/envs/py3-scorecard/lib/python3.11/site-packages/sklearn/metrics/_classification.py:1565: UndefinedMetricWarning: Precision is ill-defined and being set to 0.0 in labels with no predicted samples. Use `zero_division` parameter to control this behavior.\n",
      "  _warn_prf(average, modifier, f\"{metric.capitalize()} is\", len(result))\n"
     ]
    }
   ],
   "source": [
    "from sklearn.metrics import precision_score, recall_score, accuracy_score, f1_score\n",
    "\n",
    "# Criar dicionários para fácil acesso, incluindo file_source na chave\n",
    "pred_dict = {(item[0], item[1], tuple(item[3]), item[4]): item[5] for item in pred_operative_rules}\n",
    "true_dict = {(item[0], item[1], tuple(item[3])): item[5] for item in true_operative_rules}\n",
    "\n",
    "# Alinhar e comparar os dados\n",
    "y_true = []\n",
    "y_pred = []\n",
    "\n",
    "# Usar todas as previsões\n",
    "for item in pred_operative_rules:\n",
    "    key = (item[0], item[1], tuple(item[3]))\n",
    "    y_pred.append(item[5])\n",
    "    y_true.append(true_dict.get(key, 'No Match'))  # 'No Match' se não houver correspondência\n",
    "\n",
    "# Calcular métricas\n",
    "precision = precision_score(y_true, y_pred, average='weighted')\n",
    "recall = recall_score(y_true, y_pred, average='weighted')\n",
    "accuracy = accuracy_score(y_true, y_pred)\n",
    "f1 = f1_score(y_true, y_pred, average='weighted')\n",
    "\n",
    "print(f'Precisão: {precision:.2f}')\n",
    "print(f'Sensibilidade: {recall:.2f}')\n",
    "print(f'Acurácia: {accuracy:.2f}')\n",
    "print(f'F1 Score: {f1:.2f}')"
   ]
  },
  {
   "cell_type": "markdown",
   "metadata": {},
   "source": [
    "The best classification of all checkpoints."
   ]
  },
  {
   "cell_type": "code",
   "execution_count": 123,
   "metadata": {},
   "outputs": [
    {
     "data": {
      "text/plain": [
       "┌───────────┬──────────────┬───────────────────────────────────────────┬──────────────────────────────────────────────────────────────────────────────────────────────────────────────────────────────────────────────────────────────────────────────────────────────────────────────────────────────────────────────────────────────────────────────────────────────────────────────────┬───────────────────┬─────────────────────┬───────────────────────────┬─────────────────────────────────────────────────────────────────────────────────────────────────────────────────────────────────────────────────────────────────────────────────────────────────────────┐\n",
       "│    id     │ statement_id │              statement_title              │                                                                                                                                                  statement_text                                                                                                                                                  │ statement_sources │ classification_type │ classification_confidence │                                                                                       classification_explanation                                                                                        │\n",
       "│  varchar  │   varchar    │                  varchar                  │                                                                                                                                                     varchar                                                                                                                                                      │     varchar[]     │       varchar       │          double           │                                                                                                 varchar                                                                                                 │\n",
       "├───────────┼──────────────┼───────────────────────────────────────────┼──────────────────────────────────────────────────────────────────────────────────────────────────────────────────────────────────────────────────────────────────────────────────────────────────────────────────────────────────────────────────────────────────────────────────────────────────────────────────┼───────────────────┼─────────────────────┼───────────────────────────┼─────────────────────────────────────────────────────────────────────────────────────────────────────────────────────────────────────────────────────────────────────────────────────────────────────────┤\n",
       "│ § 275.0-5 │ 4            │ Commission orders a hearing               │ The Commission will order a hearing on the matter, if it appears that a hearing is necessary or appropriate in the public interest or for the protection of investors, upon the request of any interested person or upon its own motion.                                                                         │ [(c)]             │ Activity rules      │                       0.8 │ The statement describes an activity (ordering a hearing) that the Commission must perform under certain conditions, which is characteristic of an activity rule.                                        │\n",
       "│ § 275.0-2 │ 3            │ Forwarding documents by the Secretary     │ The Secretary of the Commission (Secretary) will promptly forward a copy to each named party by registered or certified mail at that party's last address filed with the Commission.                                                                                                                             │ [(a)(2)]          │ Party rules         │                       0.8 │ This statement specifies the role of the Secretary in forwarding documents to named parties, indicating a responsibility and action linked to a specific role, which is characteristic of a party rule. │\n",
       "│ § 275.0-5 │ 3            │ Issuance of order disposing of the matter │ An order disposing of the matter will be issued as of course following the expiration of the period of time referred to in paragraph (a) of this section, unless the Commission thereafter orders a hearing on the matter.                                                                                       │ [(b)]             │ Activity rules      │                       0.9 │ The statement describes an activity (issuing an order) that must occur following a specific condition (expiration of time), which is characteristic of an activity rule.                                │\n",
       "│ § 275.0-5 │ 1            │ Notice of proceeding initiation           │ Notice of the initiation of the proceeding will be published in the Federal Register and will indicate the earliest date upon which an order disposing of the matter may be entered.                                                                                                                             │ [(a)]             │ Activity rules      │                       0.9 │ The statement describes an activity (publishing notice) that must occur, which is characteristic of an activity rule.                                                                                   │\n",
       "│ § 275.0-5 │ 2            │ Submission of facts and hearing request   │ Any interested person may, within the period of time specified therein, submit to the Commission in writing any facts bearing upon the desirability of a hearing on the matter and may request that a hearing be held, stating his reasons therefor and the nature of his interest in the matter.                │ [(a)]             │ Party rules         │                       0.8 │ The statement specifies that any interested person can submit facts and request a hearing, indicating a role-based permission, which is characteristic of a party rule.                                 │\n",
       "│ § 275.0-2 │ 4            │ Certification of service by the Secretary │ If the Secretary certifies that the Commission was served with process, pleadings, or other papers pursuant to paragraph (a)(1) of this section and forwarded these documents to a named party pursuant to paragraph (a)(2) of this section, this certification constitutes evidence of service upon that party. │ [(a)(3)]          │ Party rules         │                       0.7 │ The statement involves the Secretary's role in certifying service, which is a responsibility linked to a specific role, indicating a party rule.                                                        │\n",
       "└───────────┴──────────────┴───────────────────────────────────────────┴──────────────────────────────────────────────────────────────────────────────────────────────────────────────────────────────────────────────────────────────────────────────────────────────────────────────────────────────────────────────────────────────────────────────────────────────────────────────────┴───────────────────┴─────────────────────┴───────────────────────────┴─────────────────────────────────────────────────────────────────────────────────────────────────────────────────────────────────────────────────────────────────────────────────────────────────────────┘"
      ]
     },
     "execution_count": 123,
     "metadata": {},
     "output_type": "execute_result"
    }
   ],
   "source": [
    "query = \"\"\"\n",
    "WITH ExpandedClassifications AS (\n",
    "    SELECT\n",
    "        content.doc_id AS id,\n",
    "        content.statement_id,\n",
    "        content.statement_title,\n",
    "        content.statement_text,\n",
    "        content.statement_sources,\n",
    "        classification_item.value.type AS type,\n",
    "        classification_item.value.confidence AS confidence,\n",
    "        classification_item.value.explanation AS explanation,\n",
    "        ROW_NUMBER() OVER (PARTITION BY content.doc_id, content.statement_id ORDER BY classification_item.value.confidence DESC) AS rn\n",
    "    FROM\n",
    "        OPERATIVE_RULES AS content,\n",
    "        UNNEST(content.classification) AS classification_item(value)\n",
    ")\n",
    "SELECT\n",
    "    id,\n",
    "    statement_id,\n",
    "    statement_title,\n",
    "    statement_text,\n",
    "    statement_sources,\n",
    "    type AS classification_type,\n",
    "    confidence AS classification_confidence,\n",
    "    explanation AS classification_explanation\n",
    "FROM\n",
    "    ExpandedClassifications\n",
    "WHERE\n",
    "    rn = 1;\n",
    "\"\"\"\n",
    "\n",
    "conn.sql(query)"
   ]
  },
  {
   "cell_type": "markdown",
   "metadata": {},
   "source": [
    "#### Evaluate"
   ]
  },
  {
   "cell_type": "code",
   "execution_count": 149,
   "metadata": {},
   "outputs": [
    {
     "data": {
      "text/plain": [
       "[('§ 275.0-2',\n",
       "  '3',\n",
       "  'Forwarding documents by the Secretary',\n",
       "  ['(a)(2)'],\n",
       "  'documents-2024-12-08-1.json',\n",
       "  'Party rules',\n",
       "  'This statement specifies the role of the Secretary in forwarding documents to named parties, indicating a responsibility and action linked to a specific role, which is characteristic of a party rule.',\n",
       "  0.8,\n",
       "  'documents-2024-12-08-1.json'),\n",
       " ('§ 275.0-2',\n",
       "  '4',\n",
       "  'Certification of service by the Secretary',\n",
       "  ['(a)(3)'],\n",
       "  'documents-2024-12-08-1.json',\n",
       "  'Party rules',\n",
       "  'There is a reference to documents and certification as evidence, but the primary focus is on the role and activities, not on data constraints.',\n",
       "  0.7,\n",
       "  'documents-2024-12-08-1.json'),\n",
       " ('§ 275.0-5',\n",
       "  '1',\n",
       "  'Notice of proceeding initiation',\n",
       "  ['(a)'],\n",
       "  'documents-2024-12-08-1.json',\n",
       "  'Party rules',\n",
       "  'There is no specific reference to roles or responsibilities of parties, making this unlikely to be a party rule.',\n",
       "  0.9,\n",
       "  'documents-2024-12-08-1.json'),\n",
       " ('§ 275.0-5',\n",
       "  '2',\n",
       "  'Submission of facts and hearing request',\n",
       "  ['(a)'],\n",
       "  'documents-2024-12-08-1.json',\n",
       "  'Party rules',\n",
       "  'There is a minor reference to data (facts submitted), but the primary focus is on the roles and activities, not on data constraints.',\n",
       "  0.8,\n",
       "  'documents-2024-12-08-1.json'),\n",
       " ('§ 275.0-5',\n",
       "  '3',\n",
       "  'Issuance of order disposing of the matter',\n",
       "  ['(b)'],\n",
       "  'documents-2024-12-08-1.json',\n",
       "  'Party rules',\n",
       "  'There is no specific reference to roles or responsibilities of parties, making this unlikely to be a party rule.',\n",
       "  0.9,\n",
       "  'documents-2024-12-08-1.json'),\n",
       " ('§ 275.0-5',\n",
       "  '4',\n",
       "  'Commission orders a hearing',\n",
       "  ['(c)'],\n",
       "  'documents-2024-12-08-1.json',\n",
       "  'Party rules',\n",
       "  'There is a minor reference to conditions (public interest, protection of investors), but the primary focus is on the roles and activities, not on data constraints.',\n",
       "  0.8,\n",
       "  'documents-2024-12-08-1.json'),\n",
       " ('§ 275.0-2',\n",
       "  '3',\n",
       "  'Forwarding documents by the Secretary',\n",
       "  ['(a)(2)'],\n",
       "  'documents-2024-12-08-10.json',\n",
       "  'Party rules',\n",
       "  'This statement specifies the role of the Secretary in forwarding documents to named parties, indicating a responsibility and action linked to a specific role, which is characteristic of a party rule.',\n",
       "  0.8,\n",
       "  'documents-2024-12-08-10.json'),\n",
       " ('§ 275.0-2',\n",
       "  '4',\n",
       "  'Certification of service by the Secretary',\n",
       "  ['(a)(3)'],\n",
       "  'documents-2024-12-08-10.json',\n",
       "  'Party rules',\n",
       "  'There is a reference to documents and certification as evidence, but the primary focus is on the role and activities, not on data constraints.',\n",
       "  0.7,\n",
       "  'documents-2024-12-08-10.json'),\n",
       " ('§ 275.0-5',\n",
       "  '1',\n",
       "  'Notice of proceeding initiation',\n",
       "  ['(a)'],\n",
       "  'documents-2024-12-08-10.json',\n",
       "  'Party rules',\n",
       "  'There is no specific reference to roles or responsibilities of parties, making this unlikely to be a party rule.',\n",
       "  0.9,\n",
       "  'documents-2024-12-08-10.json'),\n",
       " ('§ 275.0-5',\n",
       "  '2',\n",
       "  'Submission of facts and hearing request',\n",
       "  ['(a)'],\n",
       "  'documents-2024-12-08-10.json',\n",
       "  'Party rules',\n",
       "  'There is a minor reference to data (facts submitted), but the primary focus is on the roles and activities, not on data constraints.',\n",
       "  0.8,\n",
       "  'documents-2024-12-08-10.json'),\n",
       " ('§ 275.0-5',\n",
       "  '3',\n",
       "  'Issuance of order disposing of the matter',\n",
       "  ['(b)'],\n",
       "  'documents-2024-12-08-10.json',\n",
       "  'Party rules',\n",
       "  'There is no specific reference to roles or responsibilities of parties, making this unlikely to be a party rule.',\n",
       "  0.9,\n",
       "  'documents-2024-12-08-10.json'),\n",
       " ('§ 275.0-5',\n",
       "  '4',\n",
       "  'Commission orders a hearing',\n",
       "  ['(c)'],\n",
       "  'documents-2024-12-08-10.json',\n",
       "  'Party rules',\n",
       "  'There is a minor reference to conditions (public interest, protection of investors), but the primary focus is on the roles and activities, not on data constraints.',\n",
       "  0.8,\n",
       "  'documents-2024-12-08-10.json'),\n",
       " ('§ 275.0-2',\n",
       "  '3',\n",
       "  'Forwarding documents by the Secretary',\n",
       "  ['(a)(2)'],\n",
       "  'documents-2024-12-08-2.json',\n",
       "  'Party rules',\n",
       "  'This statement specifies the role of the Secretary in forwarding documents to named parties, indicating a responsibility and action linked to a specific role, which is characteristic of a party rule.',\n",
       "  0.8,\n",
       "  'documents-2024-12-08-2.json'),\n",
       " ('§ 275.0-2',\n",
       "  '4',\n",
       "  'Certification of service by the Secretary',\n",
       "  ['(a)(3)'],\n",
       "  'documents-2024-12-08-2.json',\n",
       "  'Party rules',\n",
       "  'There is a reference to documents and certification as evidence, but the primary focus is on the role and activities, not on data constraints.',\n",
       "  0.7,\n",
       "  'documents-2024-12-08-2.json'),\n",
       " ('§ 275.0-5',\n",
       "  '1',\n",
       "  'Notice of proceeding initiation',\n",
       "  ['(a)'],\n",
       "  'documents-2024-12-08-2.json',\n",
       "  'Party rules',\n",
       "  'There is no specific reference to roles or responsibilities of parties, making this unlikely to be a party rule.',\n",
       "  0.9,\n",
       "  'documents-2024-12-08-2.json'),\n",
       " ('§ 275.0-5',\n",
       "  '2',\n",
       "  'Submission of facts and hearing request',\n",
       "  ['(a)'],\n",
       "  'documents-2024-12-08-2.json',\n",
       "  'Party rules',\n",
       "  'There is a minor reference to data (facts submitted), but the primary focus is on the roles and activities, not on data constraints.',\n",
       "  0.8,\n",
       "  'documents-2024-12-08-2.json'),\n",
       " ('§ 275.0-5',\n",
       "  '3',\n",
       "  'Issuance of order disposing of the matter',\n",
       "  ['(b)'],\n",
       "  'documents-2024-12-08-2.json',\n",
       "  'Party rules',\n",
       "  'There is no specific reference to roles or responsibilities of parties, making this unlikely to be a party rule.',\n",
       "  0.9,\n",
       "  'documents-2024-12-08-2.json'),\n",
       " ('§ 275.0-5',\n",
       "  '4',\n",
       "  'Commission orders a hearing',\n",
       "  ['(c)'],\n",
       "  'documents-2024-12-08-2.json',\n",
       "  'Party rules',\n",
       "  'There is a minor reference to conditions (public interest, protection of investors), but the primary focus is on the roles and activities, not on data constraints.',\n",
       "  0.8,\n",
       "  'documents-2024-12-08-2.json'),\n",
       " ('§ 275.0-2',\n",
       "  '3',\n",
       "  'Forwarding documents by the Secretary',\n",
       "  ['(a)(2)'],\n",
       "  'documents-2024-12-08-3.json',\n",
       "  'Party rules',\n",
       "  'This statement specifies the role of the Secretary in forwarding documents to named parties, indicating a responsibility and action linked to a specific role, which is characteristic of a party rule.',\n",
       "  0.8,\n",
       "  'documents-2024-12-08-3.json'),\n",
       " ('§ 275.0-2',\n",
       "  '4',\n",
       "  'Certification of service by the Secretary',\n",
       "  ['(a)(3)'],\n",
       "  'documents-2024-12-08-3.json',\n",
       "  'Party rules',\n",
       "  'There is a reference to documents and certification as evidence, but the primary focus is on the role and activities, not on data constraints.',\n",
       "  0.7,\n",
       "  'documents-2024-12-08-3.json'),\n",
       " ('§ 275.0-5',\n",
       "  '1',\n",
       "  'Notice of proceeding initiation',\n",
       "  ['(a)'],\n",
       "  'documents-2024-12-08-3.json',\n",
       "  'Party rules',\n",
       "  'There is no specific reference to roles or responsibilities of parties, making this unlikely to be a party rule.',\n",
       "  0.9,\n",
       "  'documents-2024-12-08-3.json'),\n",
       " ('§ 275.0-5',\n",
       "  '2',\n",
       "  'Submission of facts and hearing request',\n",
       "  ['(a)'],\n",
       "  'documents-2024-12-08-3.json',\n",
       "  'Party rules',\n",
       "  'There is a minor reference to data (facts submitted), but the primary focus is on the roles and activities, not on data constraints.',\n",
       "  0.8,\n",
       "  'documents-2024-12-08-3.json'),\n",
       " ('§ 275.0-5',\n",
       "  '3',\n",
       "  'Issuance of order disposing of the matter',\n",
       "  ['(b)'],\n",
       "  'documents-2024-12-08-3.json',\n",
       "  'Party rules',\n",
       "  'There is no specific reference to roles or responsibilities of parties, making this unlikely to be a party rule.',\n",
       "  0.9,\n",
       "  'documents-2024-12-08-3.json'),\n",
       " ('§ 275.0-5',\n",
       "  '4',\n",
       "  'Commission orders a hearing',\n",
       "  ['(c)'],\n",
       "  'documents-2024-12-08-3.json',\n",
       "  'Party rules',\n",
       "  'There is a minor reference to conditions (public interest, protection of investors), but the primary focus is on the roles and activities, not on data constraints.',\n",
       "  0.8,\n",
       "  'documents-2024-12-08-3.json'),\n",
       " ('§ 275.0-2',\n",
       "  '3',\n",
       "  'Forwarding documents by the Secretary',\n",
       "  ['(a)(2)'],\n",
       "  'documents-2024-12-08-4.json',\n",
       "  'Party rules',\n",
       "  'This statement specifies the role of the Secretary in forwarding documents to named parties, indicating a responsibility and action linked to a specific role, which is characteristic of a party rule.',\n",
       "  0.8,\n",
       "  'documents-2024-12-08-4.json'),\n",
       " ('§ 275.0-2',\n",
       "  '4',\n",
       "  'Certification of service by the Secretary',\n",
       "  ['(a)(3)'],\n",
       "  'documents-2024-12-08-4.json',\n",
       "  'Party rules',\n",
       "  'There is a reference to documents and certification as evidence, but the primary focus is on the role and activities, not on data constraints.',\n",
       "  0.7,\n",
       "  'documents-2024-12-08-4.json'),\n",
       " ('§ 275.0-5',\n",
       "  '1',\n",
       "  'Notice of proceeding initiation',\n",
       "  ['(a)'],\n",
       "  'documents-2024-12-08-4.json',\n",
       "  'Party rules',\n",
       "  'There is no specific reference to roles or responsibilities of parties, making this unlikely to be a party rule.',\n",
       "  0.9,\n",
       "  'documents-2024-12-08-4.json'),\n",
       " ('§ 275.0-5',\n",
       "  '2',\n",
       "  'Submission of facts and hearing request',\n",
       "  ['(a)'],\n",
       "  'documents-2024-12-08-4.json',\n",
       "  'Party rules',\n",
       "  'There is a minor reference to data (facts submitted), but the primary focus is on the roles and activities, not on data constraints.',\n",
       "  0.8,\n",
       "  'documents-2024-12-08-4.json'),\n",
       " ('§ 275.0-5',\n",
       "  '3',\n",
       "  'Issuance of order disposing of the matter',\n",
       "  ['(b)'],\n",
       "  'documents-2024-12-08-4.json',\n",
       "  'Party rules',\n",
       "  'There is no specific reference to roles or responsibilities of parties, making this unlikely to be a party rule.',\n",
       "  0.9,\n",
       "  'documents-2024-12-08-4.json'),\n",
       " ('§ 275.0-5',\n",
       "  '4',\n",
       "  'Commission orders a hearing',\n",
       "  ['(c)'],\n",
       "  'documents-2024-12-08-4.json',\n",
       "  'Party rules',\n",
       "  'There is a minor reference to conditions (public interest, protection of investors), but the primary focus is on the roles and activities, not on data constraints.',\n",
       "  0.8,\n",
       "  'documents-2024-12-08-4.json'),\n",
       " ('§ 275.0-2',\n",
       "  '3',\n",
       "  'Forwarding documents by the Secretary',\n",
       "  ['(a)(2)'],\n",
       "  'documents-2024-12-08-5.json',\n",
       "  'Party rules',\n",
       "  'This statement specifies the role of the Secretary in forwarding documents to named parties, indicating a responsibility and action linked to a specific role, which is characteristic of a party rule.',\n",
       "  0.8,\n",
       "  'documents-2024-12-08-5.json'),\n",
       " ('§ 275.0-2',\n",
       "  '4',\n",
       "  'Certification of service by the Secretary',\n",
       "  ['(a)(3)'],\n",
       "  'documents-2024-12-08-5.json',\n",
       "  'Party rules',\n",
       "  'There is a reference to documents and certification as evidence, but the primary focus is on the role and activities, not on data constraints.',\n",
       "  0.7,\n",
       "  'documents-2024-12-08-5.json'),\n",
       " ('§ 275.0-5',\n",
       "  '1',\n",
       "  'Notice of proceeding initiation',\n",
       "  ['(a)'],\n",
       "  'documents-2024-12-08-5.json',\n",
       "  'Party rules',\n",
       "  'There is no specific reference to roles or responsibilities of parties, making this unlikely to be a party rule.',\n",
       "  0.9,\n",
       "  'documents-2024-12-08-5.json'),\n",
       " ('§ 275.0-5',\n",
       "  '2',\n",
       "  'Submission of facts and hearing request',\n",
       "  ['(a)'],\n",
       "  'documents-2024-12-08-5.json',\n",
       "  'Party rules',\n",
       "  'There is a minor reference to data (facts submitted), but the primary focus is on the roles and activities, not on data constraints.',\n",
       "  0.8,\n",
       "  'documents-2024-12-08-5.json'),\n",
       " ('§ 275.0-5',\n",
       "  '3',\n",
       "  'Issuance of order disposing of the matter',\n",
       "  ['(b)'],\n",
       "  'documents-2024-12-08-5.json',\n",
       "  'Party rules',\n",
       "  'There is no specific reference to roles or responsibilities of parties, making this unlikely to be a party rule.',\n",
       "  0.9,\n",
       "  'documents-2024-12-08-5.json'),\n",
       " ('§ 275.0-5',\n",
       "  '4',\n",
       "  'Commission orders a hearing',\n",
       "  ['(c)'],\n",
       "  'documents-2024-12-08-5.json',\n",
       "  'Party rules',\n",
       "  'There is a minor reference to conditions (public interest, protection of investors), but the primary focus is on the roles and activities, not on data constraints.',\n",
       "  0.8,\n",
       "  'documents-2024-12-08-5.json'),\n",
       " ('§ 275.0-2',\n",
       "  '3',\n",
       "  'Forwarding documents by the Secretary',\n",
       "  ['(a)(2)'],\n",
       "  'documents-2024-12-08-6.json',\n",
       "  'Party rules',\n",
       "  'This statement specifies the role of the Secretary in forwarding documents to named parties, indicating a responsibility and action linked to a specific role, which is characteristic of a party rule.',\n",
       "  0.8,\n",
       "  'documents-2024-12-08-6.json'),\n",
       " ('§ 275.0-2',\n",
       "  '4',\n",
       "  'Certification of service by the Secretary',\n",
       "  ['(a)(3)'],\n",
       "  'documents-2024-12-08-6.json',\n",
       "  'Party rules',\n",
       "  'There is a reference to documents and certification as evidence, but the primary focus is on the role and activities, not on data constraints.',\n",
       "  0.7,\n",
       "  'documents-2024-12-08-6.json'),\n",
       " ('§ 275.0-5',\n",
       "  '1',\n",
       "  'Notice of proceeding initiation',\n",
       "  ['(a)'],\n",
       "  'documents-2024-12-08-6.json',\n",
       "  'Party rules',\n",
       "  'There is no specific reference to roles or responsibilities of parties, making this unlikely to be a party rule.',\n",
       "  0.9,\n",
       "  'documents-2024-12-08-6.json'),\n",
       " ('§ 275.0-5',\n",
       "  '2',\n",
       "  'Submission of facts and hearing request',\n",
       "  ['(a)'],\n",
       "  'documents-2024-12-08-6.json',\n",
       "  'Party rules',\n",
       "  'There is a minor reference to data (facts submitted), but the primary focus is on the roles and activities, not on data constraints.',\n",
       "  0.8,\n",
       "  'documents-2024-12-08-6.json'),\n",
       " ('§ 275.0-5',\n",
       "  '3',\n",
       "  'Issuance of order disposing of the matter',\n",
       "  ['(b)'],\n",
       "  'documents-2024-12-08-6.json',\n",
       "  'Party rules',\n",
       "  'There is no specific reference to roles or responsibilities of parties, making this unlikely to be a party rule.',\n",
       "  0.9,\n",
       "  'documents-2024-12-08-6.json'),\n",
       " ('§ 275.0-5',\n",
       "  '4',\n",
       "  'Commission orders a hearing',\n",
       "  ['(c)'],\n",
       "  'documents-2024-12-08-6.json',\n",
       "  'Party rules',\n",
       "  'There is a minor reference to conditions (public interest, protection of investors), but the primary focus is on the roles and activities, not on data constraints.',\n",
       "  0.8,\n",
       "  'documents-2024-12-08-6.json'),\n",
       " ('§ 275.0-2',\n",
       "  '3',\n",
       "  'Forwarding documents by the Secretary',\n",
       "  ['(a)(2)'],\n",
       "  'documents-2024-12-08-7.json',\n",
       "  'Party rules',\n",
       "  'This statement specifies the role of the Secretary in forwarding documents to named parties, indicating a responsibility and action linked to a specific role, which is characteristic of a party rule.',\n",
       "  0.8,\n",
       "  'documents-2024-12-08-7.json'),\n",
       " ('§ 275.0-2',\n",
       "  '4',\n",
       "  'Certification of service by the Secretary',\n",
       "  ['(a)(3)'],\n",
       "  'documents-2024-12-08-7.json',\n",
       "  'Party rules',\n",
       "  'There is a reference to documents and certification as evidence, but the primary focus is on the role and activities, not on data constraints.',\n",
       "  0.7,\n",
       "  'documents-2024-12-08-7.json'),\n",
       " ('§ 275.0-5',\n",
       "  '1',\n",
       "  'Notice of proceeding initiation',\n",
       "  ['(a)'],\n",
       "  'documents-2024-12-08-7.json',\n",
       "  'Party rules',\n",
       "  'There is no specific reference to roles or responsibilities of parties, making this unlikely to be a party rule.',\n",
       "  0.9,\n",
       "  'documents-2024-12-08-7.json'),\n",
       " ('§ 275.0-5',\n",
       "  '2',\n",
       "  'Submission of facts and hearing request',\n",
       "  ['(a)'],\n",
       "  'documents-2024-12-08-7.json',\n",
       "  'Party rules',\n",
       "  'There is a minor reference to data (facts submitted), but the primary focus is on the roles and activities, not on data constraints.',\n",
       "  0.8,\n",
       "  'documents-2024-12-08-7.json'),\n",
       " ('§ 275.0-5',\n",
       "  '3',\n",
       "  'Issuance of order disposing of the matter',\n",
       "  ['(b)'],\n",
       "  'documents-2024-12-08-7.json',\n",
       "  'Party rules',\n",
       "  'There is no specific reference to roles or responsibilities of parties, making this unlikely to be a party rule.',\n",
       "  0.9,\n",
       "  'documents-2024-12-08-7.json'),\n",
       " ('§ 275.0-5',\n",
       "  '4',\n",
       "  'Commission orders a hearing',\n",
       "  ['(c)'],\n",
       "  'documents-2024-12-08-7.json',\n",
       "  'Party rules',\n",
       "  'There is a minor reference to conditions (public interest, protection of investors), but the primary focus is on the roles and activities, not on data constraints.',\n",
       "  0.8,\n",
       "  'documents-2024-12-08-7.json'),\n",
       " ('§ 275.0-2',\n",
       "  '3',\n",
       "  'Forwarding documents by the Secretary',\n",
       "  ['(a)(2)'],\n",
       "  'documents-2024-12-08-8.json',\n",
       "  'Party rules',\n",
       "  'This statement specifies the role of the Secretary in forwarding documents to named parties, indicating a responsibility and action linked to a specific role, which is characteristic of a party rule.',\n",
       "  0.8,\n",
       "  'documents-2024-12-08-8.json'),\n",
       " ('§ 275.0-2',\n",
       "  '4',\n",
       "  'Certification of service by the Secretary',\n",
       "  ['(a)(3)'],\n",
       "  'documents-2024-12-08-8.json',\n",
       "  'Party rules',\n",
       "  'There is a reference to documents and certification as evidence, but the primary focus is on the role and activities, not on data constraints.',\n",
       "  0.7,\n",
       "  'documents-2024-12-08-8.json'),\n",
       " ('§ 275.0-5',\n",
       "  '1',\n",
       "  'Notice of proceeding initiation',\n",
       "  ['(a)'],\n",
       "  'documents-2024-12-08-8.json',\n",
       "  'Party rules',\n",
       "  'There is no specific reference to roles or responsibilities of parties, making this unlikely to be a party rule.',\n",
       "  0.9,\n",
       "  'documents-2024-12-08-8.json'),\n",
       " ('§ 275.0-5',\n",
       "  '2',\n",
       "  'Submission of facts and hearing request',\n",
       "  ['(a)'],\n",
       "  'documents-2024-12-08-8.json',\n",
       "  'Party rules',\n",
       "  'There is a minor reference to data (facts submitted), but the primary focus is on the roles and activities, not on data constraints.',\n",
       "  0.8,\n",
       "  'documents-2024-12-08-8.json'),\n",
       " ('§ 275.0-5',\n",
       "  '3',\n",
       "  'Issuance of order disposing of the matter',\n",
       "  ['(b)'],\n",
       "  'documents-2024-12-08-8.json',\n",
       "  'Party rules',\n",
       "  'There is no specific reference to roles or responsibilities of parties, making this unlikely to be a party rule.',\n",
       "  0.9,\n",
       "  'documents-2024-12-08-8.json'),\n",
       " ('§ 275.0-5',\n",
       "  '4',\n",
       "  'Commission orders a hearing',\n",
       "  ['(c)'],\n",
       "  'documents-2024-12-08-8.json',\n",
       "  'Party rules',\n",
       "  'There is a minor reference to conditions (public interest, protection of investors), but the primary focus is on the roles and activities, not on data constraints.',\n",
       "  0.8,\n",
       "  'documents-2024-12-08-8.json'),\n",
       " ('§ 275.0-2',\n",
       "  '3',\n",
       "  'Forwarding documents by the Secretary',\n",
       "  ['(a)(2)'],\n",
       "  'documents-2024-12-08-9.json',\n",
       "  'Party rules',\n",
       "  'This statement specifies the role of the Secretary in forwarding documents to named parties, indicating a responsibility and action linked to a specific role, which is characteristic of a party rule.',\n",
       "  0.8,\n",
       "  'documents-2024-12-08-9.json'),\n",
       " ('§ 275.0-2',\n",
       "  '4',\n",
       "  'Certification of service by the Secretary',\n",
       "  ['(a)(3)'],\n",
       "  'documents-2024-12-08-9.json',\n",
       "  'Party rules',\n",
       "  'There is a reference to documents and certification as evidence, but the primary focus is on the role and activities, not on data constraints.',\n",
       "  0.7,\n",
       "  'documents-2024-12-08-9.json'),\n",
       " ('§ 275.0-5',\n",
       "  '1',\n",
       "  'Notice of proceeding initiation',\n",
       "  ['(a)'],\n",
       "  'documents-2024-12-08-9.json',\n",
       "  'Party rules',\n",
       "  'There is no specific reference to roles or responsibilities of parties, making this unlikely to be a party rule.',\n",
       "  0.9,\n",
       "  'documents-2024-12-08-9.json'),\n",
       " ('§ 275.0-5',\n",
       "  '2',\n",
       "  'Submission of facts and hearing request',\n",
       "  ['(a)'],\n",
       "  'documents-2024-12-08-9.json',\n",
       "  'Party rules',\n",
       "  'There is a minor reference to data (facts submitted), but the primary focus is on the roles and activities, not on data constraints.',\n",
       "  0.8,\n",
       "  'documents-2024-12-08-9.json'),\n",
       " ('§ 275.0-5',\n",
       "  '3',\n",
       "  'Issuance of order disposing of the matter',\n",
       "  ['(b)'],\n",
       "  'documents-2024-12-08-9.json',\n",
       "  'Party rules',\n",
       "  'There is no specific reference to roles or responsibilities of parties, making this unlikely to be a party rule.',\n",
       "  0.9,\n",
       "  'documents-2024-12-08-9.json'),\n",
       " ('§ 275.0-5',\n",
       "  '4',\n",
       "  'Commission orders a hearing',\n",
       "  ['(c)'],\n",
       "  'documents-2024-12-08-9.json',\n",
       "  'Party rules',\n",
       "  'There is a minor reference to conditions (public interest, protection of investors), but the primary focus is on the roles and activities, not on data constraints.',\n",
       "  0.8,\n",
       "  'documents-2024-12-08-9.json')]"
      ]
     },
     "execution_count": 149,
     "metadata": {},
     "output_type": "execute_result"
    }
   ],
   "source": [
    "pred_operative_rules"
   ]
  },
  {
   "cell_type": "markdown",
   "metadata": {},
   "source": [
    "## Close conn"
   ]
  },
  {
   "cell_type": "code",
   "execution_count": 24,
   "metadata": {},
   "outputs": [],
   "source": [
    "conn.close()"
   ]
  },
  {
   "cell_type": "markdown",
   "metadata": {},
   "source": [
    "## Queries\n",
    "\n",
    "```sql\n",
    "WITH data AS (\n",
    "    SELECT \n",
    "        json_extract(content, '$.elements[*].verb_symbols') AS verb_symbols\n",
    "    FROM \n",
    "        read_json_auto(\"temp/data_extracted_elements.json\")\n",
    ")\n",
    "\n",
    "SELECT \n",
    "    unnest(verb_symbols) AS verb_symbol\n",
    "FROM (\n",
    "    SELECT \n",
    "        json_group_array(json_each_text(verb_symbols)) AS verb_symbols\n",
    "    FROM \n",
    "        data\n",
    ") AS unnested_data;\n",
    "\n",
    "\n",
    "CREATE TABLE EXTRACTED_ELEMENTS AS\n",
    "  SELECT id, 'extract_p1' as prompt, '/Users/u009165/Documents/scorecars/lab/temp/data_extracted_elements.json' as file_source,  unnest(content.elements) as elements FROM read_json_auto(\"temp/data_extracted_elements.json\");\n",
    "\n",
    "\n",
    "SELECT\n",
    "·     id,\n",
    "·     'extract_p1' AS prompt,\n",
    "·     '/Users/u009165/Documents/scorecars/lab/temp/data_extracted_elements.json' AS file_source,\n",
    "·     elements.title AS title  -- Extracting the title from elements\n",
    "· FROM\n",
    "·     read_json_auto(\"temp/data_extracted_elements.json\"),\n",
    "‣     unnest(content.elements) AS elements;\n",
    "\n",
    "SELECT \n",
    "    data.id, \n",
    "    'extract_p1' AS prompt, \n",
    "    '/Users/u009165/Documents/scorecars/lab/temp/data_extracted_elements.json' AS file_source,  \n",
    "    elem->>'title' AS title,        -- Extracting title from the unnested element\n",
    "    elem->>'statement' AS statement  -- Extracting statement from the unnested element\n",
    "FROM \n",
    "    read_json_auto(\"temp/data_extracted_elements.json\") AS data,\n",
    "    unnest(data.content.elements) AS elem; \n",
    "\n",
    "SELECT \n",
    "    data.id, \n",
    "    'extract_p1' AS prompt, \n",
    "    '/Users/u009165/Documents/scorecars/lab/temp/data_extracted_elements.json' AS file_source,  \n",
    "    elem \n",
    "FROM \n",
    "    read_json_auto(\"temp/data_extracted_elements.json\") AS data,\n",
    "    unnest(data.content.elements) AS elem; \n",
    "\n",
    "  \n",
    "SELECT \n",
    "    data.id, \n",
    "    'extract_p1' AS prompt, \n",
    "    '/Users/u009165/Documents/scorecars/lab/temp/data_extracted_elements.json' AS file_source,  \n",
    "    unnest(json_extract(data.content, '$.elements[*].title')) AS titles,\n",
    "    unnest(json_extract(data.content, '$.elements[*].statement')) AS statements,\n",
    "    unnest(json_extract(data.content, '$.elements[*].terms')) AS terms,\n",
    "    unnest(json_extract(data.content, '$.elements[*].verb_symbols')) AS verb_symbols,\n",
    "    unnest(json_extract(data.content, '$.elements[*].verb_symbols_extracted_confidence')) AS verb_symbols_extracted_confidence,\n",
    "    unnest(json_extract(data.content, '$.elements[*].classification')) AS classification,\n",
    "    unnest(json_extract(data.content, '$.elements[*].confidence')) AS confidence,\n",
    "    unnest(json_extract(data.content, '$.elements[*].reason')) AS reason,\n",
    "    unnest(json_extract(data.content, '$.elements[*].sources')) AS sources\n",
    "FROM \n",
    "    read_json_auto(\"temp/data_extracted_elements.json\") AS data;\n",
    "\n",
    "SELECT \n",
    "    unnest(json_extract(data.content, '$.elements[*].verb_symbols'), max_depth := 2) AS verb_symbols\n",
    "FROM \n",
    "    read_json_auto(\"temp/data_extracted_elements.json\") AS data;\n",
    "```"
   ]
  }
 ],
 "metadata": {
  "kernelspec": {
   "display_name": "py3-scorecard",
   "language": "python",
   "name": "python3"
  },
  "language_info": {
   "codemirror_mode": {
    "name": "ipython",
    "version": 3
   },
   "file_extension": ".py",
   "mimetype": "text/x-python",
   "name": "python",
   "nbconvert_exporter": "python",
   "pygments_lexer": "ipython3",
   "version": "3.11.9"
  }
 },
 "nbformat": 4,
 "nbformat_minor": 2
}
