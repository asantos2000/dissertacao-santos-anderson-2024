{
 "cells": [
  {
   "cell_type": "markdown",
   "metadata": {},
   "source": [
    "# Refinements"
   ]
  },
  {
   "cell_type": "markdown",
   "metadata": {},
   "source": [
    "## Progress"
   ]
  },
  {
   "cell_type": "code",
   "execution_count": null,
   "metadata": {},
   "outputs": [],
   "source": [
    "# Then I found TQDM - watch this magic!\n",
    "\n",
    "from tqdm import tqdm\n",
    "\n",
    "\n",
    "def new_way_photo_download():\n",
    "    # Look how simple and clear this is!\n",
    "    for photo in tqdm(range(100), desc=\" Downloading vacation photos\", unit=\"photos\"):\n",
    "        time.sleep(0.1)\n",
    "        # Now I can see:\n",
    "        # - Exactly how many photos are done\n",
    "        # - How fast they're downloading\n",
    "        # - When it'll finish!\n",
    "\n",
    "\n",
    "# Even better - downloading files with size info\n",
    "\n",
    "\n",
    "def download_with_progress():\n",
    "    total_size = 100  # MB\n",
    "    with tqdm(\n",
    "        total=total_size,\n",
    "        unit=\"MB\",\n",
    "        unit_scale=True,\n",
    "        desc=\" Downloading holiday_pics.zip\",\n",
    "    ) as progress:\n",
    "        downloaded = 0\n",
    "        while downloaded < total_size:\n",
    "            # Download a chunk (pretend)\n",
    "            chunk_size = 2\n",
    "            downloaded += chunk_size\n",
    "            # Update our nice progress bar\n",
    "            progress.update(chunk_size)\n",
    "            progress.set_postfix({\"speed\": \"2.5 MB/s\", \"status\": \"Looking good!\"})\n",
    "            time.sleep(0.2)"
   ]
  },
  {
   "cell_type": "markdown",
   "metadata": {},
   "source": [
    "## Colors"
   ]
  },
  {
   "cell_type": "code",
   "execution_count": null,
   "metadata": {},
   "outputs": [],
   "source": [
    "from rich import print\n",
    "from rich.console import Console\n",
    "from rich.table import Table\n",
    "from rich.traceback import install\n",
    "\n",
    "\n",
    "# Before Rich, debugging was like this:\n",
    "def old_way_debug():\n",
    "    # Imagine trying to spot the problem here!\n",
    "    game_data = {\n",
    "        \"player\": \"Mario\",\n",
    "        \"lives\": -1,  # Bug: Negative lives!\n",
    "        \"coins\": 9999999,  # Bug: Too many coins!\n",
    "        \"power_ups\": [\"mushroom\", \"star\", None],  # Bug: None snuck in!\n",
    "    }\n",
    "    print(\"DEBUG - Game State:\", game_data)\n",
    "\n",
    "\n",
    "# With Rich, problems jump out at you!\n",
    "console = Console()\n",
    "\n",
    "\n",
    "def new_way_debug():\n",
    "    game_data = {\n",
    "        \"player\": \"Mario\",\n",
    "        \"lives\": -1,\n",
    "        \"coins\": 9999999,\n",
    "        \"power_ups\": [\"mushroom\", \"star\", None],\n",
    "    }\n",
    "\n",
    "    # Create a pretty game status display\n",
    "    console.print(\"[bold red]🎮 Game Status Check[/bold red]\")\n",
    "\n",
    "    # Make a neat table\n",
    "    table = Table(title=\"Super Mario Status\")\n",
    "    table.add_column(\"Item\", style=\"cyan\")\n",
    "    table.add_column(\"Value\", style=\"magenta\")\n",
    "    table.add_column(\"Status\", style=\"green\")\n",
    "\n",
    "    for key, value in game_data.items():\n",
    "        status = \"✅\"\n",
    "        if key == \"lives\" and value < 0:\n",
    "            status = \"Can't have negative lives!\"\n",
    "        elif key == \"coins\" and value > 999999:\n",
    "            status = \"Coin overflow!\"\n",
    "        elif key == \"power_ups\" and None in value:\n",
    "            status = \"Invalid power-up!\"\n",
    "\n",
    "        table.add_row(str(key), str(value), status)\n",
    "\n",
    "    console.print(table)"
   ]
  }
 ],
 "metadata": {
  "kernelspec": {
   "display_name": "ipt-cfr2sbvr",
   "language": "python",
   "name": "python3"
  },
  "language_info": {
   "name": "python",
   "version": "3.11.9"
  }
 },
 "nbformat": 4,
 "nbformat_minor": 2
}
