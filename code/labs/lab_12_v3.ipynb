{
 "cells": [
  {
   "cell_type": "markdown",
   "metadata": {},
   "source": [
    "# Evaluating checkpoints\n",
    "\n",
    "Dependencies:\n",
    "- Checkpoint files at: `cfr2sbvr_db`\n",
    "- Python DuckDB: `pip install duckdb --upgrade`"
   ]
  },
  {
   "cell_type": "markdown",
   "metadata": {},
   "source": [
    "## Imports"
   ]
  },
  {
   "cell_type": "code",
   "execution_count": 2,
   "metadata": {},
   "outputs": [],
   "source": [
    "import duckdb\n",
    "import json\n",
    "from pathlib import Path\n",
    "import glob"
   ]
  },
  {
   "cell_type": "markdown",
   "metadata": {},
   "source": [
    "## Functions"
   ]
  },
  {
   "cell_type": "code",
   "execution_count": 4,
   "metadata": {},
   "outputs": [],
   "source": [
    "def upsert_table_from_json(conn, suffix_key_pattern, prefix_key_pattern, table_name, source, key_value, drop, content_key, alias, doc_id_key=\"id\") -> bool:\n",
    "\n",
    "    _data = []\n",
    "    _source_file = Path(source).name\n",
    "    directory_path = Path(\"temp\")\n",
    "\n",
    "    # Combine the directory path and the filename\n",
    "    _temp_file = directory_path / _source_file\n",
    "\n",
    "    with open(source, \"r\") as f:\n",
    "        loaded_data = json.load(f)\n",
    "\n",
    "    keys = loaded_data.keys()\n",
    "\n",
    "    for key in keys:\n",
    "        if key.startswith(prefix_key_pattern) and key.endswith(suffix_key_pattern):\n",
    "            print(key)\n",
    "            _data.append(loaded_data[key])\n",
    "\n",
    "    if not _data:\n",
    "        print(\"No data found. Check the key pattern.\")\n",
    "        return False\n",
    "    \n",
    "    with open(_temp_file, \"w\") as f:\n",
    "        json.dump(_data, f, indent=4)\n",
    "\n",
    "    if drop:\n",
    "        _query_drop_table = f\"\"\"\n",
    "        DROP TABLE IF EXISTS {table_name};\n",
    "        \"\"\"\n",
    "\n",
    "        print(f\"{_query_drop_table=}\")\n",
    "        print(f\"Trying to drop table because drop parameter is {drop}\")\n",
    "\n",
    "        try:\n",
    "            conn.execute(_query_drop_table)\n",
    "            print(f\"Table {table_name} dropped\")\n",
    "        except duckdb.CatalogException as e:\n",
    "            print(e)\n",
    "\n",
    "    _query_insert_data = f\"\"\"\n",
    "    INSERT INTO {table_name} ({doc_id_key}, prompt, file_source, {alias}, created_at)\n",
    "    SELECT \n",
    "        {doc_id_key}, \n",
    "        '{key_value}' as prompt, \n",
    "        '{_source_file}' as file_source, \n",
    "        unnest({content_key}) as {alias},\n",
    "        now() as created_at\n",
    "    FROM \n",
    "        read_json_auto(\"{_temp_file}\");\n",
    "    \"\"\"\n",
    "\n",
    "    print(f\"{_query_insert_data=}\")\n",
    "    print(f\"Trying to insert into {table_name}\")\n",
    "\n",
    "    try:\n",
    "        conn.execute(_query_insert_data)\n",
    "        print(f\"Data inserted into {table_name}.\")\n",
    "    except duckdb.CatalogException as e:\n",
    "        print(e)\n",
    "        print(f\"Failed to insert, trying create {table_name}\")\n",
    "        _query_create_table = f\"\"\"\n",
    "        CREATE TABLE {table_name} AS\n",
    "        SELECT {doc_id_key}, \n",
    "        '{key_value}' as prompt, \n",
    "        '{_source_file}' as file_source, \n",
    "        unnest({content_key}) as {alias},\n",
    "        now() as 'created_at'\n",
    "        FROM read_json_auto(\"{_temp_file}\");\n",
    "        \"\"\"\n",
    "        try:\n",
    "            print(f\"{_query_create_table=}\")\n",
    "            conn.execute(_query_create_table)\n",
    "            print(f\"Table {table_name} created and loaded.\")\n",
    "        except duckdb.CatalogException as e:\n",
    "            print(e)\n",
    "            print(f\"Failed to create {table_name}\")\n",
    "            return False\n",
    "\n",
    "    return True"
   ]
  },
  {
   "cell_type": "markdown",
   "metadata": {},
   "source": [
    "## Connect database"
   ]
  },
  {
   "cell_type": "code",
   "execution_count": 5,
   "metadata": {},
   "outputs": [],
   "source": [
    "conn = duckdb.connect(\"cfr2sbvr_db/database_v3.db\")"
   ]
  },
  {
   "cell_type": "markdown",
   "metadata": {},
   "source": [
    "### Clean-up"
   ]
  },
  {
   "cell_type": "code",
   "execution_count": 4,
   "metadata": {},
   "outputs": [],
   "source": [
    "CLEAN_UP = False"
   ]
  },
  {
   "cell_type": "code",
   "execution_count": 5,
   "metadata": {},
   "outputs": [
    {
     "data": {
      "text/plain": [
       "[('CHECKPOINT_METADATA',),\n",
       " ('RAW_CLASSIFY_P1_OPERATIVE_RULES',),\n",
       " ('RAW_CLASSIFY_P1_OPERATIVE_RULES_TRUE',),\n",
       " ('RAW_CLASSIFY_P2_DEFINITIONAL_FACTS',),\n",
       " ('RAW_CLASSIFY_P2_DEFINITIONAL_FACTS_TRUE',),\n",
       " ('RAW_CLASSIFY_P2_DEFINITIONAL_NAMES',),\n",
       " ('RAW_CLASSIFY_P2_DEFINITIONAL_NAMES_TRUE',),\n",
       " ('RAW_CLASSIFY_P2_DEFINITIONAL_TERMS',),\n",
       " ('RAW_CLASSIFY_P2_DEFINITIONAL_TERMS_TRUE',),\n",
       " ('RAW_CLASSIFY_P2_OPERATIVE_RULES',),\n",
       " ('RAW_CLASSIFY_P2_OPERATIVE_RULES_TRUE',),\n",
       " ('RAW_SECTION_P1_EXTRACTED_ELEMENTS',),\n",
       " ('RAW_SECTION_P1_EXTRACTED_ELEMENTS_TRUE',),\n",
       " ('RAW_SECTION_P2_EXTRACTED_NOUN',),\n",
       " ('RAW_SECTION_P2_EXTRACTED_NOUN_TRUE',),\n",
       " ('RAW_TRANSFORM_FACT_TYPES',),\n",
       " ('RAW_TRANSFORM_NAMES',),\n",
       " ('RAW_TRANSFORM_OPERATIVE_RULES',),\n",
       " ('RAW_TRANSFORM_TERMS',)]"
      ]
     },
     "execution_count": 5,
     "metadata": {},
     "output_type": "execute_result"
    }
   ],
   "source": [
    "query = \"\"\"\n",
    "show tables;\n",
    "\"\"\"\n",
    "\n",
    "tables = conn.sql(query).fetchall()\n",
    "\n",
    "tables"
   ]
  },
  {
   "cell_type": "code",
   "execution_count": 6,
   "metadata": {},
   "outputs": [
    {
     "data": {
      "text/plain": [
       "19"
      ]
     },
     "execution_count": 6,
     "metadata": {},
     "output_type": "execute_result"
    }
   ],
   "source": [
    "len(tables)"
   ]
  },
  {
   "cell_type": "code",
   "execution_count": 7,
   "metadata": {},
   "outputs": [],
   "source": [
    "for table_name in tables:\n",
    "    query = f\"\"\"\n",
    "    drop table {table_name[0]};\n",
    "    \"\"\"\n",
    "\n",
    "    # If True then drop the table\n",
    "    if CLEAN_UP:\n",
    "        print(query)\n",
    "        conn.sql(query)"
   ]
  },
  {
   "cell_type": "markdown",
   "metadata": {},
   "source": [
    "## Metadata"
   ]
  },
  {
   "cell_type": "code",
   "execution_count": 8,
   "metadata": {},
   "outputs": [],
   "source": [
    "query = \"\"\"\n",
    "DROP TABLE IF EXISTS CHECKPOINT_METADATA;\n",
    "\n",
    "CREATE TABLE CHECKPOINT_METADATA AS\n",
    "SELECT process,\n",
    "doc_source,\n",
    "doc_id,\n",
    "doc_type,\n",
    "table_name, \n",
    "now() as 'created_at'\n",
    "FROM read_csv_auto(\"cfr2sbvr_db/metadata/checkpoints_metadata.csv\");\n",
    "\"\"\"\n",
    "\n",
    "if CLEAN_UP:\n",
    "    conn.sql(query)"
   ]
  },
  {
   "cell_type": "code",
   "execution_count": 9,
   "metadata": {},
   "outputs": [
    {
     "data": {
      "text/plain": [
       "┌────────────────┬────────────┬────────────────────────────────┬─────────────────────────────┬─────────────────────────────────────────┬────────────────────────────┐\n",
       "│    process     │ doc_source │             doc_id             │          doc_type           │               table_name                │         created_at         │\n",
       "│    varchar     │  varchar   │            varchar             │           varchar           │                 varchar                 │  timestamp with time zone  │\n",
       "├────────────────┼────────────┼────────────────────────────────┼─────────────────────────────┼─────────────────────────────────────────┼────────────────────────────┤\n",
       "│ classification │ true       │ classify_P1                    │ true_table                  │ RAW_CLASSIFY_P1_OPERATIVE_RULES_TRUE    │ 2024-12-18 00:31:26.968-03 │\n",
       "│ classification │ pred       │ classify_P1                    │ llm_response_classification │ RAW_CLASSIFY_P1_OPERATIVE_RULES         │ 2024-12-18 00:31:26.968-03 │\n",
       "│ classification │ true       │ classify_P2_Definitional_facts │ true_table                  │ RAW_CLASSIFY_P2_DEFINITIONAL_FACTS_TRUE │ 2024-12-18 00:31:26.968-03 │\n",
       "│ classification │ pred       │ classify_P2_Definitional_facts │ llm_response_classification │ RAW_CLASSIFY_P2_DEFINITIONAL_FACTS      │ 2024-12-18 00:31:26.968-03 │\n",
       "│ classification │ true       │ classify_P2_Definitional_names │ true_table                  │ RAW_CLASSIFY_P2_DEFINITIONAL_NAMES_TRUE │ 2024-12-18 00:31:26.968-03 │\n",
       "│ classification │ pred       │ classify_P2_Definitional_names │ llm_response_classification │ RAW_CLASSIFY_P2_DEFINITIONAL_NAMES      │ 2024-12-18 00:31:26.968-03 │\n",
       "│ classification │ pred       │ classify_P2_Definitional_terms │ true_table                  │ RAW_CLASSIFY_P2_DEFINITIONAL_TERMS_TRUE │ 2024-12-18 00:31:26.968-03 │\n",
       "│ classification │ pred       │ classify_P2_Definitional_terms │ llm_response_classification │ RAW_CLASSIFY_P2_DEFINITIONAL_TERMS      │ 2024-12-18 00:31:26.968-03 │\n",
       "│ classification │ true       │ classify_P2_Operative_rules    │ true_table                  │ RAW_CLASSIFY_P2_OPERATIVE_RULES_TRUE    │ 2024-12-18 00:31:26.968-03 │\n",
       "│ classification │ pred       │ classify_P2_Operative_rules    │ llm_response_classification │ RAW_CLASSIFY_P2_OPERATIVE_RULES         │ 2024-12-18 00:31:26.968-03 │\n",
       "│     ·          │  ·         │      ·                         │     ·                       │                ·                        │             ·              │\n",
       "│     ·          │  ·         │      ·                         │     ·                       │                ·                        │             ·              │\n",
       "│     ·          │  ·         │      ·                         │     ·                       │                ·                        │             ·              │\n",
       "│ extraction     │ true       │ § 275.0-2_P2                   │ true_table                  │ RAW_SECTION_P2_EXTRACTED_NOUN_TRUE      │ 2024-12-18 00:31:26.968-03 │\n",
       "│ extraction     │ pred       │ § 275.0-2_P2                   │ llm_response                │ RAW_SECTION_P2_EXTRACTED_NOUN           │ 2024-12-18 00:31:26.968-03 │\n",
       "│ extraction     │ true       │ § 275.0-5_P1                   │ true_table                  │ RAW_SECTION_P1_EXTRACTED_ELEMENTS_TRUE  │ 2024-12-18 00:31:26.968-03 │\n",
       "│ extraction     │ pred       │ § 275.0-5_P1                   │ llm_response                │ RAW_SECTION_P1_EXTRACTED_ELEMENTS       │ 2024-12-18 00:31:26.968-03 │\n",
       "│ extraction     │ true       │ § 275.0-5_P2                   │ true_table                  │ RAW_SECTION_P2_EXTRACTED_NOUN_TRUE      │ 2024-12-18 00:31:26.968-03 │\n",
       "│ extraction     │ pred       │ § 275.0-5_P2                   │ llm_response                │ RAW_SECTION_P2_EXTRACTED_NOUN           │ 2024-12-18 00:31:26.968-03 │\n",
       "│ extraction     │ true       │ § 275.0-7_P1                   │ true_table                  │ RAW_SECTION_P1_EXTRACTED_ELEMENTS_TRUE  │ 2024-12-18 00:31:26.968-03 │\n",
       "│ extraction     │ pred       │ § 275.0-7_P1                   │ llm_response                │ RAW_SECTION_P1_EXTRACTED_ELEMENTS       │ 2024-12-18 00:31:26.968-03 │\n",
       "│ extraction     │ true       │ § 275.0-7_P2                   │ true_table                  │ RAW_SECTION_P2_EXTRACTED_NOUN_TRUE      │ 2024-12-18 00:31:26.968-03 │\n",
       "│ extraction     │ pred       │ § 275.0-7_P2                   │ llm_response                │ RAW_SECTION_P2_EXTRACTED_NOUN           │ 2024-12-18 00:31:26.968-03 │\n",
       "├────────────────┴────────────┴────────────────────────────────┴─────────────────────────────┴─────────────────────────────────────────┴────────────────────────────┤\n",
       "│ 26 rows (20 shown)                                                                                                                                      6 columns │\n",
       "└───────────────────────────────────────────────────────────────────────────────────────────────────────────────────────────────────────────────────────────────────┘"
      ]
     },
     "execution_count": 9,
     "metadata": {},
     "output_type": "execute_result"
    }
   ],
   "source": [
    "query = \"\"\"\n",
    "SELECT *,\n",
    "FROM CHECKPOINT_METADATA;\n",
    "\"\"\"\n",
    "\n",
    "conn.sql(query)"
   ]
  },
  {
   "cell_type": "code",
   "execution_count": 10,
   "metadata": {},
   "outputs": [
    {
     "data": {
      "text/plain": [
       "┌─────────────────────────────────────────┐\n",
       "│               table_name                │\n",
       "│                 varchar                 │\n",
       "├─────────────────────────────────────────┤\n",
       "│ RAW_CLASSIFY_P1_OPERATIVE_RULES         │\n",
       "│ RAW_CLASSIFY_P1_OPERATIVE_RULES_TRUE    │\n",
       "│ RAW_CLASSIFY_P2_DEFINITIONAL_FACTS      │\n",
       "│ RAW_CLASSIFY_P2_DEFINITIONAL_FACTS_TRUE │\n",
       "│ RAW_CLASSIFY_P2_DEFINITIONAL_NAMES      │\n",
       "│ RAW_CLASSIFY_P2_DEFINITIONAL_NAMES_TRUE │\n",
       "│ RAW_CLASSIFY_P2_DEFINITIONAL_TERMS      │\n",
       "│ RAW_CLASSIFY_P2_DEFINITIONAL_TERMS_TRUE │\n",
       "│ RAW_CLASSIFY_P2_OPERATIVE_RULES         │\n",
       "│ RAW_CLASSIFY_P2_OPERATIVE_RULES_TRUE    │\n",
       "│ RAW_SECTION_P1_EXTRACTED_ELEMENTS       │\n",
       "│ RAW_SECTION_P1_EXTRACTED_ELEMENTS_TRUE  │\n",
       "│ RAW_SECTION_P2_EXTRACTED_NOUN           │\n",
       "│ RAW_SECTION_P2_EXTRACTED_NOUN_TRUE      │\n",
       "│ RAW_TRANSFORM_FACT_TYPES                │\n",
       "│ RAW_TRANSFORM_NAMES                     │\n",
       "│ RAW_TRANSFORM_OPERATIVE_RULES           │\n",
       "│ RAW_TRANSFORM_TERMS                     │\n",
       "├─────────────────────────────────────────┤\n",
       "│                 18 rows                 │\n",
       "└─────────────────────────────────────────┘"
      ]
     },
     "execution_count": 10,
     "metadata": {},
     "output_type": "execute_result"
    }
   ],
   "source": [
    "query = \"\"\"\n",
    "SELECT DISTINCT TABLE_NAME,\n",
    "FROM CHECKPOINT_METADATA\n",
    "ORDER BY 1;\n",
    "\"\"\"\n",
    "\n",
    "conn.sql(query)"
   ]
  },
  {
   "cell_type": "markdown",
   "metadata": {},
   "source": [
    "## Extract"
   ]
  },
  {
   "cell_type": "markdown",
   "metadata": {},
   "source": [
    "Metadata"
   ]
  },
  {
   "cell_type": "code",
   "execution_count": 11,
   "metadata": {},
   "outputs": [
    {
     "data": {
      "text/plain": [
       "┌────────────┬────────────┬──────────────┬──────────────┬────────────────────────────────────────┬────────────────────────────┐\n",
       "│  process   │ doc_source │    doc_id    │   doc_type   │               table_name               │         created_at         │\n",
       "│  varchar   │  varchar   │   varchar    │   varchar    │                varchar                 │  timestamp with time zone  │\n",
       "├────────────┼────────────┼──────────────┼──────────────┼────────────────────────────────────────┼────────────────────────────┤\n",
       "│ extraction │ true       │ § 275.0-2_P1 │ true_table   │ RAW_SECTION_P1_EXTRACTED_ELEMENTS_TRUE │ 2024-12-18 00:31:26.968-03 │\n",
       "│ extraction │ pred       │ § 275.0-2_P1 │ llm_response │ RAW_SECTION_P1_EXTRACTED_ELEMENTS      │ 2024-12-18 00:31:26.968-03 │\n",
       "│ extraction │ true       │ § 275.0-2_P2 │ true_table   │ RAW_SECTION_P2_EXTRACTED_NOUN_TRUE     │ 2024-12-18 00:31:26.968-03 │\n",
       "│ extraction │ pred       │ § 275.0-2_P2 │ llm_response │ RAW_SECTION_P2_EXTRACTED_NOUN          │ 2024-12-18 00:31:26.968-03 │\n",
       "│ extraction │ true       │ § 275.0-5_P1 │ true_table   │ RAW_SECTION_P1_EXTRACTED_ELEMENTS_TRUE │ 2024-12-18 00:31:26.968-03 │\n",
       "│ extraction │ pred       │ § 275.0-5_P1 │ llm_response │ RAW_SECTION_P1_EXTRACTED_ELEMENTS      │ 2024-12-18 00:31:26.968-03 │\n",
       "│ extraction │ true       │ § 275.0-5_P2 │ true_table   │ RAW_SECTION_P2_EXTRACTED_NOUN_TRUE     │ 2024-12-18 00:31:26.968-03 │\n",
       "│ extraction │ pred       │ § 275.0-5_P2 │ llm_response │ RAW_SECTION_P2_EXTRACTED_NOUN          │ 2024-12-18 00:31:26.968-03 │\n",
       "│ extraction │ true       │ § 275.0-7_P1 │ true_table   │ RAW_SECTION_P1_EXTRACTED_ELEMENTS_TRUE │ 2024-12-18 00:31:26.968-03 │\n",
       "│ extraction │ pred       │ § 275.0-7_P1 │ llm_response │ RAW_SECTION_P1_EXTRACTED_ELEMENTS      │ 2024-12-18 00:31:26.968-03 │\n",
       "│ extraction │ true       │ § 275.0-7_P2 │ true_table   │ RAW_SECTION_P2_EXTRACTED_NOUN_TRUE     │ 2024-12-18 00:31:26.968-03 │\n",
       "│ extraction │ pred       │ § 275.0-7_P2 │ llm_response │ RAW_SECTION_P2_EXTRACTED_NOUN          │ 2024-12-18 00:31:26.968-03 │\n",
       "├────────────┴────────────┴──────────────┴──────────────┴────────────────────────────────────────┴────────────────────────────┤\n",
       "│ 12 rows                                                                                                           6 columns │\n",
       "└─────────────────────────────────────────────────────────────────────────────────────────────────────────────────────────────┘"
      ]
     },
     "execution_count": 11,
     "metadata": {},
     "output_type": "execute_result"
    }
   ],
   "source": [
    "query = \"\"\"\n",
    "SELECT *,\n",
    "FROM CHECKPOINT_METADATA\n",
    "WHERE PROCESS='extraction'\n",
    "ORDER BY DOC_ID, DOC_TYPE DESC;\n",
    "\"\"\"\n",
    "\n",
    "conn.sql(query)"
   ]
  },
  {
   "cell_type": "markdown",
   "metadata": {},
   "source": [
    "### Extract elements from sections (P1)"
   ]
  },
  {
   "cell_type": "markdown",
   "metadata": {},
   "source": [
    "True tables"
   ]
  },
  {
   "cell_type": "code",
   "execution_count": 12,
   "metadata": {},
   "outputs": [
    {
     "name": "stdout",
     "output_type": "stream",
     "text": [
      "§ 275.0-2_P1|true_table\n",
      "§ 275.0-5_P1|true_table\n",
      "§ 275.0-7_P1|true_table\n",
      "_query_drop_table='\\n        DROP TABLE IF EXISTS RAW_SECTION_P1_EXTRACTED_ELEMENTS_TRUE;\\n        '\n",
      "Trying to drop table because drop parameter is True\n",
      "Table RAW_SECTION_P1_EXTRACTED_ELEMENTS_TRUE dropped\n",
      "_query_insert_data='\\n    INSERT INTO RAW_SECTION_P1_EXTRACTED_ELEMENTS_TRUE (id, prompt, file_source, elements, created_at)\\n    SELECT \\n        id, \\n        \\'extract_p1\\' as prompt, \\n        \\'documents_true_table.json\\' as file_source, \\n        unnest(content.elements) as elements,\\n        now() as created_at\\n    FROM \\n        read_json_auto(\"temp/documents_true_table.json\");\\n    '\n",
      "Trying to insert into RAW_SECTION_P1_EXTRACTED_ELEMENTS_TRUE\n",
      "Catalog Error: Table with name RAW_SECTION_P1_EXTRACTED_ELEMENTS_TRUE does not exist!\n",
      "Did you mean \"database_v3.RAW_SECTION_P1_EXTRACTED_ELEMENTS_TRUE\"?\n",
      "Failed to insert, trying create RAW_SECTION_P1_EXTRACTED_ELEMENTS_TRUE\n",
      "_query_create_table='\\n        CREATE TABLE RAW_SECTION_P1_EXTRACTED_ELEMENTS_TRUE AS\\n        SELECT id, \\n        \\'extract_p1\\' as prompt, \\n        \\'documents_true_table.json\\' as file_source, \\n        unnest(content.elements) as elements,\\n        now() as \\'created_at\\'\\n        FROM read_json_auto(\"temp/documents_true_table.json\");\\n        '\n",
      "Table RAW_SECTION_P1_EXTRACTED_ELEMENTS_TRUE created and loaded.\n"
     ]
    },
    {
     "data": {
      "text/plain": [
       "True"
      ]
     },
     "execution_count": 12,
     "metadata": {},
     "output_type": "execute_result"
    }
   ],
   "source": [
    "upsert_table_from_json(\n",
    "    conn,\n",
    "    suffix_key_pattern=\"_P1|true_table\",\n",
    "    prefix_key_pattern=\"§\",\n",
    "    table_name=\"RAW_SECTION_P1_EXTRACTED_ELEMENTS_TRUE\",\n",
    "    source=\"cfr2sbvr_db/true/documents_true_table.json\",\n",
    "    key_value=\"extract_p1\",\n",
    "    drop=True,\n",
    "    content_key=\"content.elements\",\n",
    "    alias=\"elements\",\n",
    "    doc_id_key=\"id\"\n",
    ")"
   ]
  },
  {
   "cell_type": "code",
   "execution_count": 13,
   "metadata": {},
   "outputs": [
    {
     "data": {
      "text/plain": [
       "┌──────────────┬────────────┬───────────────────────────┬───────────────────────────────────────────────────────────────────────────────────────────────────────────────────────────────────────────────────────────────────────────────────────────────────────────────────────────────────────────────────────────────────────────────────────────────────────────────────────────────────────────────────────────────────────────────────────────────────────────────────────────────────────────────────────────────────────────────────────────────────────────────────────────────────────────────────────────────────────────────────────────────────────────────────────────────────────────────────────────────────────────────────────────────────────────────────────────────────────────────────────────────────────────────────────────────────────────────────────────────────────────────────────────────────────────────────────────────────────────────────────────────────────────────────────────────────────────────────────────────────────────────────────────────────────────────────────────────────────────────────────────────────────────────────────────────────────────────────────────────────────────────────────────────────────────────────────┬────────────────────────────┐\n",
       "│      id      │   prompt   │        file_source        │                                                                                                                                                                                                                                                                                                                                                                                                                                                                                                                                                                                                       elements                                                                                                                                                                                                                                                                                                                                                                                                                                                                                                                                                                                                        │         created_at         │\n",
       "│   varchar    │  varchar   │          varchar          │                                                                                                                                                                                                                                                                                                                                                                                                                                                                                                                    struct(id bigint, title varchar, \"statement\" varchar, terms struct(term varchar, classification varchar)[], verb_symbols varchar[], classification varchar, sources varchar[])                                                                                                                                                                                                                                                                                                                                                                                                                                                                                                                     │  timestamp with time zone  │\n",
       "├──────────────┼────────────┼───────────────────────────┼───────────────────────────────────────────────────────────────────────────────────────────────────────────────────────────────────────────────────────────────────────────────────────────────────────────────────────────────────────────────────────────────────────────────────────────────────────────────────────────────────────────────────────────────────────────────────────────────────────────────────────────────────────────────────────────────────────────────────────────────────────────────────────────────────────────────────────────────────────────────────────────────────────────────────────────────────────────────────────────────────────────────────────────────────────────────────────────────────────────────────────────────────────────────────────────────────────────────────────────────────────────────────────────────────────────────────────────────────────────────────────────────────────────────────────────────────────────────────────────────────────────────────────────────────────────────────────────────────────────────────────────────────────────────────────────────────────────────────────────────────────────────────────────────────────────────────────┼────────────────────────────┤\n",
       "│ § 275.0-2_P1 │ extract_p1 │ documents_true_table.json │ {'id': 1, 'title': Service of process on non-resident entities, 'statement': A person may serve process, pleadings, or other papers on a non-resident investment adviser, or on a non-resident general partner or non-resident managing agent of an investment adviser by serving any or all of its appointed agents., 'terms': [{'term': Person, 'classification': Common Noun}, {'term': Non-resident investment adviser, 'classification': Common Noun}, {'term': Non-resident general partner, 'classification': Common Noun}, {'term': Non-resident managing agent, 'classification': Common Noun}, {'term': Appointed agents, 'classification': Common Noun}], 'verb_symbols': [serve, by serving], 'classification': Fact Type, 'sources': [(a)]}                                                                                                                                                                                                                                                                                                                                                                                                                                                              │ 2024-12-18 00:39:36.189-03 │\n",
       "│ § 275.0-2_P1 │ extract_p1 │ documents_true_table.json │ {'id': 2, 'title': Furnishing documents to the Commission, 'statement': A person may serve a non-resident investment adviser, non-resident general partner, or non-resident managing agent by furnishing the Commission with one copy of the process, pleadings, or papers, for each named party, and one additional copy for the Commission's records., 'terms': [{'term': Commission's records, 'classification': Common Noun}, {'term': Named party, 'classification': Common Noun}, {'term': Commission, 'classification': Proper Noun}, {'term': Process, 'classification': Common Noun}, {'term': Pleadings, 'classification': Common Noun}, {'term': Papers, 'classification': Common Noun}, {'term': Person, 'classification': Common Noun}, {'term': Non-resident investment adviser, 'classification': Common Noun}, {'term': Non-resident general partner, 'classification': Common Noun}, {'term': Non-resident managing agent, 'classification': Common Noun}], 'verb_symbols': [serve, by furnishing, with], 'classification': Fact Type, 'sources': [(a)(1)]}                                                                                                                                          │ 2024-12-18 00:39:36.189-03 │\n",
       "│ § 275.0-2_P1 │ extract_p1 │ documents_true_table.json │ {'id': 3, 'title': Forwarding documents by the Secretary, 'statement': If process, pleadings, or other papers are served on the Commission as described in this section, the Secretary of the Commission (Secretary) will promptly forward a copy to each named party by registered or certified mail at that party's last address filed with the Commission., 'terms': [{'term': Last address, 'classification': Common Noun}, {'term': Process, 'classification': Common Noun}, {'term': Papers, 'classification': Common Noun}, {'term': Pleadings, 'classification': Common Noun}, {'term': Commission, 'classification': Proper Noun}, {'term': Last address filed with the Commission, 'classification': Common Noun}, {'term': Secretary of the Commission, 'classification': Proper Noun}, {'term': Named party, 'classification': Common Noun}, {'term': Registered mail, 'classification': Common Noun}, {'term': Certified mail, 'classification': Common Noun}], 'verb_symbols': [will forward, by, at], 'classification': Operative Rule, 'sources': [(a)(2)]}                                                                                                                                           │ 2024-12-18 00:39:36.189-03 │\n",
       "│ § 275.0-2_P1 │ extract_p1 │ documents_true_table.json │ {'id': 4, 'title': Certification of service by the Secretary, 'statement': If the Secretary certifies that the Commission was served with process, pleadings, or other papers pursuant to paragraph (a)(1) of this section and forwarded these documents to a named party pursuant to paragraph (a)(2) of this section, this certification constitutes evidence of service upon that party., 'terms': [{'term': Commission, 'classification': Proper Noun}, {'term': Process, 'classification': Common Noun}, {'term': Pleadings, 'classification': Common Noun}, {'term': Papers, 'classification': Common Noun}, {'term': Evidence of service, 'classification': Common Noun}, {'term': Secretary, 'classification': Proper Noun}, {'term': Named party, 'classification': Common Noun}, {'term': Certification, 'classification': Common Noun}], 'verb_symbols': [certifies, was served, forwarded, constitutes], 'classification': Operative Rule, 'sources': [(a)(3)]}                                                                                                                                                                                                                                           │ 2024-12-18 00:39:36.189-03 │\n",
       "│ § 275.0-2_P1 │ extract_p1 │ documents_true_table.json │ {'id': 5, 'title': Definition of Managing agent, 'statement': Managing agent means any person, including a trustee, who directs or manages, or who participates in directing or managing, the affairs of any unincorporated organization or association other than a partnership., 'terms': [{'term': Managing agent, 'classification': Common Noun}, {'term': Person, 'classification': Common Noun}, {'term': Trustee, 'classification': Common Noun}, {'term': Unincorporated organization, 'classification': Common Noun}, {'term': Association, 'classification': Common Noun}, {'term': Partnership, 'classification': Common Noun}], 'verb_symbols': [means, directs, manages, participates], 'classification': Fact Type, 'sources': [(b)(1)]}                                                                                                                                                                                                                                                                                                                                                                                                                                                                │ 2024-12-18 00:39:36.189-03 │\n",
       "│ § 275.0-2_P1 │ extract_p1 │ documents_true_table.json │ {'id': 6, 'title': Definition of Non-resident, 'statement': Non-resident means an individual who resides in any place not subject to the jurisdiction of the United States; a corporation that is incorporated in or that has its principal office and place of business in any place not subject to the jurisdiction of the United States; and a partnership or other unincorporated organization or association that has its principal office and place of business in any place not subject to the jurisdiction of the United States., 'terms': [{'term': Jurisdiction of the United States, 'classification': Common Noun}, {'term': Non-resident, 'classification': Common Noun}, {'term': Individual, 'classification': Common Noun}, {'term': Corporation, 'classification': Common Noun}, {'term': Principal office, 'classification': Common Noun}, {'term': Place of business, 'classification': Common Noun}, {'term': Partnership, 'classification': Common Noun}, {'term': Unincorporated organization, 'classification': Common Noun}, {'term': Association, 'classification': Common Noun}], 'verb_symbols': [means, resides, is incorporated, has], 'classification': Fact Type, 'sources': [(b)(2)]} │ 2024-12-18 00:39:36.189-03 │\n",
       "│ § 275.0-2_P1 │ extract_p1 │ documents_true_table.json │ {'id': 7, 'title': Definition of Principal office and place of business, 'statement': Principal office and place of business has the same meaning as in § 275.203A-3(c) of this chapter., 'terms': [{'term': Principal office, 'classification': Common Noun}, {'term': Place of business, 'classification': Common Noun}], 'verb_symbols': [has], 'classification': Fact Type, 'sources': [(b)(3)]}                                                                                                                                                                                                                                                                                                                                                                                                                                                                                                                                                                                                                                                                                                                                                                                                                  │ 2024-12-18 00:39:36.189-03 │\n",
       "│ § 275.0-5_P1 │ extract_p1 │ documents_true_table.json │ {'id': 1, 'title': Notice of proceeding initiation, 'statement': Notice of the initiation of the proceeding will be published in the Federal Register and will indicate the earliest date upon which an order disposing of the matter may be entered., 'terms': [{'term': Earliest date, 'classification': Common Noun}, {'term': Federal Register, 'classification': Proper Noun}, {'term': Notice, 'classification': Common Noun}, {'term': Initiation of the proceeding, 'classification': Common Noun}, {'term': Order, 'classification': Common Noun}, {'term': Matter, 'classification': Common Noun}], 'verb_symbols': [will be published, will indicate], 'classification': Operative Rule, 'sources': [(a)]}                                                                                                                                                                                                                                                                                                                                                                                                                                                                                                 │ 2024-12-18 00:39:36.189-03 │\n",
       "│ § 275.0-5_P1 │ extract_p1 │ documents_true_table.json │ {'id': 2, 'title': Submission of facts and hearing request, 'statement': Any interested person may, within the period of time specified therein, submit to the Commission in writing any facts bearing upon the desirability of a hearing on the matter and may request that a hearing be held, stating his reasons therefor and the nature of his interest in the matter., 'terms': [{'term': Commission, 'classification': Proper Noun}, {'term': Order disposing of the matter, 'classification': Common Noun}, {'term': Interested person, 'classification': Common Noun}, {'term': Period of time, 'classification': Common Noun}, {'term': Facts, 'classification': Common Noun}, {'term': Hearing, 'classification': Common Noun}, {'term': Matter, 'classification': Common Noun}, {'term': Reasons, 'classification': Common Noun}, {'term': Nature of interest, 'classification': Common Noun}], 'verb_symbols': [may submit, may request, stating], 'classification': Operative Rule, 'sources': [(a)]}                                                                                                                                                                                                    │ 2024-12-18 00:39:36.189-03 │\n",
       "│ § 275.0-5_P1 │ extract_p1 │ documents_true_table.json │ {'id': 3, 'title': Issuance of order disposing of the matter, 'statement': An order disposing of the matter will be issued as of course following the expiration of the period of time referred to in paragraph (a) of this section, unless the Commission thereafter orders a hearing on the matter., 'terms': [{'term': Commission, 'classification': Proper Noun}, {'term': Order disposing of the matter, 'classification': Common Noun}, {'term': Order, 'classification': Common Noun}, {'term': Matter, 'classification': Common Noun}, {'term': Period of time, 'classification': Common Noun}, {'term': Hearing, 'classification': Common Noun}], 'verb_symbols': [will be issued, orders], 'classification': Operative Rule, 'sources': [(b)]}                                                                                                                                                                                                                                                                                                                                                                                                                                                              │ 2024-12-18 00:39:36.189-03 │\n",
       "│ § 275.0-5_P1 │ extract_p1 │ documents_true_table.json │ {'id': 4, 'title': Commission orders a hearing, 'statement': The Commission will order a hearing on the matter, if it appears that a hearing is necessary or appropriate in the public interest or for the protection of investors, upon the request of any interested person or upon its own motion., 'terms': [{'term': Motion, 'classification': Common Noun}, {'term': Commission, 'classification': Proper Noun}, {'term': Hearing, 'classification': Common Noun}, {'term': Matter, 'classification': Common Noun}, {'term': Public interest, 'classification': Common Noun}, {'term': Protection of investors, 'classification': Common Noun}, {'term': Interested person, 'classification': Common Noun}], 'verb_symbols': [will order, appears, is necessary, is appropriate], 'classification': Operative Rule, 'sources': [(c)]}                                                                                                                                                                                                                                                                                                                                                                           │ 2024-12-18 00:39:36.189-03 │\n",
       "│ § 275.0-5_P1 │ extract_p1 │ documents_true_table.json │ {'id': 5, 'title': Definition of application, 'statement': For purposes of this rule, an application means any application for an order of the Commission under the Act other than an application for registration as an investment adviser., 'terms': [{'term': Act, 'classification': Proper Noun}, {'term': Commission, 'classification': Proper Noun}, {'term': Order of the Commission, 'classification': Common Noun}, {'term': Application for registration, 'classification': Common Noun}, {'term': Application, 'classification': Common Noun}, {'term': Order, 'classification': Common Noun}, {'term': Registration, 'classification': Common Noun}, {'term': Investment adviser, 'classification': Common Noun}], 'verb_symbols': [means], 'classification': Fact Type, 'sources': [(d)]}                                                                                                                                                                                                                                                                                                                                                                                                                │ 2024-12-18 00:39:36.189-03 │\n",
       "│ § 275.0-7_P1 │ extract_p1 │ documents_true_table.json │ {'id': 1, 'title': Definition of small business or small organization, 'statement': The term small business or small organization for purposes of the Investment Advisers Act of 1940 shall mean an investment adviser that has assets under management of less than $25 million, or such higher amount as the Commission may by rule deem appropriate., 'terms': [{'term': Small business, 'classification': Common Noun}, {'term': Small organization, 'classification': Common Noun}, {'term': Investment adviser, 'classification': Common Noun}, {'term': Assets under management, 'classification': Common Noun}], 'verb_symbols': [shall mean, has, deem], 'classification': Fact Type, 'sources': [(a)]}                                                                                                                                                                                                                                                                                                                                                                                                                                                                                                      │ 2024-12-18 00:39:36.189-03 │\n",
       "│ § 275.0-7_P1 │ extract_p1 │ documents_true_table.json │ {'id': 2, 'title': Assets under management criterion, 'statement': An investment adviser has assets under management, as defined under Section 203A(a)(3) of the Act and reported on its annual updating amendment to Form ADV, of less than $25 million, or such higher amount as the Commission may by rule deem appropriate., 'terms': [{'term': Investment adviser, 'classification': Common Noun}, {'term': Assets under management, 'classification': Common Noun}, {'term': Form ADV, 'classification': Proper Noun}], 'verb_symbols': [has, defined, reported, deem], 'classification': Fact Type, 'sources': [(a)(1)]}                                                                                                                                                                                                                                                                                                                                                                                                                                                                                                                                                                                       │ 2024-12-18 00:39:36.189-03 │\n",
       "│ § 275.0-7_P1 │ extract_p1 │ documents_true_table.json │ {'id': 3, 'title': Total assets criterion, 'statement': An investment adviser did not have total assets of $5 million or more on the last day of the most recent fiscal year., 'terms': [{'term': Investment adviser, 'classification': Common Noun}, {'term': Total assets, 'classification': Common Noun}, {'term': Fiscal year, 'classification': Common Noun}], 'verb_symbols': [did not have], 'classification': Fact Type, 'sources': [(a)(2)]}                                                                                                                                                                                                                                                                                                                                                                                                                                                                                                                                                                                                                                                                                                                                                                 │ 2024-12-18 00:39:36.189-03 │\n",
       "│ § 275.0-7_P1 │ extract_p1 │ documents_true_table.json │ {'id': 4, 'title': Control relationship criterion, 'statement': An investment adviser does not control, is not controlled by, and is not under common control with another investment adviser that has assets under management of $25 million or more, or any person (other than a natural person) that had total assets of $5 million or more on the last day of the most recent fiscal year., 'terms': [{'term': Investment adviser, 'classification': Common Noun}, {'term': Control, 'classification': Common Noun}, {'term': Assets under management, 'classification': Common Noun}, {'term': Person, 'classification': Common Noun}, {'term': Natural person, 'classification': Common Noun}, {'term': Fiscal year, 'classification': Common Noun}], 'verb_symbols': [does not control, is not controlled by, is not under common control with, has, had], 'classification': Fact Type, 'sources': [(a)(3)]}                                                                                                                                                                                                                                                                                                   │ 2024-12-18 00:39:36.189-03 │\n",
       "│ § 275.0-7_P1 │ extract_p1 │ documents_true_table.json │ {'id': 5, 'title': Definition of control, 'statement': Control means the power, directly or indirectly, to direct the management or policies of a person, whether through ownership of securities, by contract, or otherwise., 'terms': [{'term': Securities, 'classification': Common Noun}, {'term': Control, 'classification': Common Noun}, {'term': Power, 'classification': Common Noun}, {'term': Management, 'classification': Common Noun}, {'term': Policies, 'classification': Common Noun}, {'term': Person, 'classification': Common Noun}, {'term': Ownership of securities, 'classification': Common Noun}, {'term': Contract, 'classification': Common Noun}], 'verb_symbols': [means, to direct], 'classification': Fact Type, 'sources': [(b)(1)]}                                                                                                                                                                                                                                                                                                                                                                                                                                                  │ 2024-12-18 00:39:36.189-03 │\n",
       "│ § 275.0-7_P1 │ extract_p1 │ documents_true_table.json │ {'id': 6, 'title': Presumption of control over a corporation, 'statement': A person is presumed to control a corporation if the person directly or indirectly has the right to vote 25 percent or more of a class of the corporation's voting securities., 'terms': [{'term': Person, 'classification': Common Noun}, {'term': Corporation, 'classification': Common Noun}, {'term': Right to vote, 'classification': Common Noun}, {'term': Voting securities, 'classification': Common Noun}], 'verb_symbols': [is presumed to control, has], 'classification': Fact Type, 'sources': [(b)(1)(i)(A)]}                                                                                                                                                                                                                                                                                                                                                                                                                                                                                                                                                                                                               │ 2024-12-18 00:39:36.189-03 │\n",
       "│ § 275.0-7_P1 │ extract_p1 │ documents_true_table.json │ {'id': 7, 'title': Presumption of control over a partnership, 'statement': A person is presumed to control a partnership if the person has the right to receive upon dissolution, or has contributed, 25 percent or more of the capital of the partnership., 'terms': [{'term': Dissolution, 'classification': Common Noun}, {'term': Person, 'classification': Common Noun}, {'term': Partnership, 'classification': Common Noun}, {'term': Right to receive upon dissolution, 'classification': Common Noun}, {'term': Capital, 'classification': Common Noun}], 'verb_symbols': [is presumed to control, has, has contributed], 'classification': Fact Type, 'sources': [(b)(1)(ii)]}                                                                                                                                                                                                                                                                                                                                                                                                                                                                                                                              │ 2024-12-18 00:39:36.189-03 │\n",
       "│ § 275.0-7_P1 │ extract_p1 │ documents_true_table.json │ {'id': 8, 'title': Presumption of control over an LLC, 'statement': A person is presumed to control a limited liability company (LLC) if the person directly or indirectly has the right to vote 25 percent or more of a class of the interests of the LLC, has the right to receive upon dissolution, or has contributed, 25 percent or more of the capital of the LLC, or is an elected manager of the LLC., 'terms': [{'term': Interests of the LLC, 'classification': Common Noun}, {'term': Person, 'classification': Common Noun}, {'term': Limited liability company (LLC), 'classification': Common Noun}, {'term': Right to vote, 'classification': Common Noun}, {'term': Right to receive upon dissolution, 'classification': Common Noun}, {'term': Capital, 'classification': Common Noun}, {'term': Elected manager, 'classification': Common Noun}], 'verb_symbols': [is presumed to control, has, has contributed, is], 'classification': Fact Type, 'sources': [(b)(1)(iii)]}                                                                                                                                                                                                                        │ 2024-12-18 00:39:36.189-03 │\n",
       "│ § 275.0-7_P1 │ extract_p1 │ documents_true_table.json │ {'id': 9, 'title': Presumption of control over a trust, 'statement': A person is presumed to control a trust if the person is a trustee or managing agent of the trust., 'terms': [{'term': Person, 'classification': Common Noun}, {'term': Trust, 'classification': Common Noun}, {'term': Trustee, 'classification': Common Noun}, {'term': Managing agent, 'classification': Common Noun}], 'verb_symbols': [is presumed to control, is], 'classification': Fact Type, 'sources': [(b)(1)(iv)]}                                                                                                                                                                                                                                                                                                                                                                                                                                                                                                                                                                                                                                                                                                                   │ 2024-12-18 00:39:36.189-03 │\n",
       "│ § 275.0-7_P1 │ extract_p1 │ documents_true_table.json │ {'id': 10, 'title': Definition of total assets, 'statement': Total assets means the total assets as shown on the balance sheet of the investment adviser or other person described above under paragraph (a)(3) of this section, or the balance sheet of the investment adviser or such other person with its subsidiaries consolidated, whichever is larger., 'terms': [{'term': Total assets, 'classification': Common Noun}, {'term': Balance sheet, 'classification': Common Noun}, {'term': Investment adviser, 'classification': Common Noun}, {'term': Person, 'classification': Common Noun}, {'term': Subsidiaries, 'classification': Common Noun}], 'verb_symbols': [means, shown], 'classification': Fact Type, 'sources': [(b)(2)]}                                                                                                                                                                                                                                                                                                                                                                                                                                                                       │ 2024-12-18 00:39:36.189-03 │\n",
       "├──────────────┴────────────┴───────────────────────────┴───────────────────────────────────────────────────────────────────────────────────────────────────────────────────────────────────────────────────────────────────────────────────────────────────────────────────────────────────────────────────────────────────────────────────────────────────────────────────────────────────────────────────────────────────────────────────────────────────────────────────────────────────────────────────────────────────────────────────────────────────────────────────────────────────────────────────────────────────────────────────────────────────────────────────────────────────────────────────────────────────────────────────────────────────────────────────────────────────────────────────────────────────────────────────────────────────────────────────────────────────────────────────────────────────────────────────────────────────────────────────────────────────────────────────────────────────────────────────────────────────────────────────────────────────────────────────────────────────────────────────────────────────────────────────────────────────────────────────────────────────────────────────────────────────────────────────────┴────────────────────────────┤\n",
       "│ 22 rows                                                                                                                                                                                                                                                                                                                                                                                                                                                                                                                                                                                                                                                                                                                                                                                                                                                                                                                                                                                                                                                                                                                                                                                                                                                                                          5 columns │\n",
       "└────────────────────────────────────────────────────────────────────────────────────────────────────────────────────────────────────────────────────────────────────────────────────────────────────────────────────────────────────────────────────────────────────────────────────────────────────────────────────────────────────────────────────────────────────────────────────────────────────────────────────────────────────────────────────────────────────────────────────────────────────────────────────────────────────────────────────────────────────────────────────────────────────────────────────────────────────────────────────────────────────────────────────────────────────────────────────────────────────────────────────────────────────────────────────────────────────────────────────────────────────────────────────────────────────────────────────────────────────────────────────────────────────────────────────────────────────────────────────────────────────────────────────────────────────────────────────────────────────────────────────────────────────────────────────────────────────────────────────────────────────────────────────────────────────────────────────────────────────────────────────────────────────────────────────────────────────────────┘"
      ]
     },
     "execution_count": 13,
     "metadata": {},
     "output_type": "execute_result"
    }
   ],
   "source": [
    "query = \"\"\"\n",
    "SELECT * FROM RAW_SECTION_P1_EXTRACTED_ELEMENTS_TRUE;\n",
    "\"\"\"\n",
    "\n",
    "conn.sql(query)"
   ]
  },
  {
   "cell_type": "markdown",
   "metadata": {},
   "source": [
    "Total verb symbols extracted"
   ]
  },
  {
   "cell_type": "code",
   "execution_count": 14,
   "metadata": {},
   "outputs": [
    {
     "data": {
      "text/plain": [
       "┌─────────────┐\n",
       "│ total_verbs │\n",
       "│    int64    │\n",
       "├─────────────┤\n",
       "│          61 │\n",
       "└─────────────┘"
      ]
     },
     "execution_count": 14,
     "metadata": {},
     "output_type": "execute_result"
    }
   ],
   "source": [
    "query = \"\"\"\n",
    "SELECT\n",
    "    COUNT(verb) AS total_verbs\n",
    "FROM (\n",
    "    SELECT\n",
    "        UNNEST(CAST(json_extract(elements, '$.verb_symbols') AS VARCHAR[])) AS verb\n",
    "    FROM\n",
    "        RAW_SECTION_P1_EXTRACTED_ELEMENTS_TRUE\n",
    ") AS flattened_verbs;\n",
    "\"\"\"\n",
    "\n",
    "conn.sql(query)"
   ]
  },
  {
   "cell_type": "markdown",
   "metadata": {},
   "source": [
    "distinct verb symbols"
   ]
  },
  {
   "cell_type": "code",
   "execution_count": 15,
   "metadata": {},
   "outputs": [
    {
     "data": {
      "text/plain": [
       "┌──────────────────────┐\n",
       "│ distinct_verbs_count │\n",
       "│        int64         │\n",
       "├──────────────────────┤\n",
       "│                   43 │\n",
       "└──────────────────────┘"
      ]
     },
     "execution_count": 15,
     "metadata": {},
     "output_type": "execute_result"
    }
   ],
   "source": [
    "query = \"\"\"\n",
    "SELECT\n",
    "    COUNT(DISTINCT verb) AS distinct_verbs_count\n",
    "FROM (\n",
    "    SELECT\n",
    "        UNNEST(CAST(json_extract(elements, '$.verb_symbols') AS VARCHAR[])) AS verb\n",
    "    FROM\n",
    "        RAW_SECTION_P1_EXTRACTED_ELEMENTS_TRUE\n",
    ") AS flattened_verbs;\n",
    "\"\"\"\n",
    "\n",
    "conn.sql(query)"
   ]
  },
  {
   "cell_type": "code",
   "execution_count": 16,
   "metadata": {},
   "outputs": [
    {
     "data": {
      "text/plain": [
       "┌────────────────────────┬──────────────┬─────────────────┐\n",
       "│          verb          │    doc_id    │     source      │\n",
       "│        varchar         │   varchar    │     varchar     │\n",
       "├────────────────────────┼──────────────┼─────────────────┤\n",
       "│ orders                 │ § 275.0-5_P1 │ [\"(b)\"]         │\n",
       "│ had                    │ § 275.0-7_P1 │ [\"(a)(3)\"]      │\n",
       "│ has                    │ § 275.0-7_P1 │ [\"(b)(1)(ii)\"]  │\n",
       "│ means                  │ § 275.0-7_P1 │ [\"(b)(2)\"]      │\n",
       "│ shown                  │ § 275.0-7_P1 │ [\"(b)(2)\"]      │\n",
       "│ with                   │ § 275.0-2_P1 │ [\"(a)(1)\"]      │\n",
       "│ at                     │ § 275.0-2_P1 │ [\"(a)(2)\"]      │\n",
       "│ was served             │ § 275.0-2_P1 │ [\"(a)(3)\"]      │\n",
       "│ may submit             │ § 275.0-5_P1 │ [\"(a)\"]         │\n",
       "│ is appropriate         │ § 275.0-5_P1 │ [\"(c)\"]         │\n",
       "│    ·                   │      ·       │    ·            │\n",
       "│    ·                   │      ·       │    ·            │\n",
       "│    ·                   │      ·       │    ·            │\n",
       "│ directs                │ § 275.0-2_P1 │ [\"(b)(1)\"]      │\n",
       "│ may request            │ § 275.0-5_P1 │ [\"(a)\"]         │\n",
       "│ stating                │ § 275.0-5_P1 │ [\"(a)\"]         │\n",
       "│ means                  │ § 275.0-5_P1 │ [\"(d)\"]         │\n",
       "│ has                    │ § 275.0-7_P1 │ [\"(b)(1)(iii)\"] │\n",
       "│ appears                │ § 275.0-5_P1 │ [\"(c)\"]         │\n",
       "│ has                    │ § 275.0-7_P1 │ [\"(a)(1)\"]      │\n",
       "│ is not controlled by   │ § 275.0-7_P1 │ [\"(a)(3)\"]      │\n",
       "│ to direct              │ § 275.0-7_P1 │ [\"(b)(1)\"]      │\n",
       "│ is presumed to control │ § 275.0-7_P1 │ [\"(b)(1)(iii)\"] │\n",
       "├────────────────────────┴──────────────┴─────────────────┤\n",
       "│ 61 rows (20 shown)                            3 columns │\n",
       "└─────────────────────────────────────────────────────────┘"
      ]
     },
     "execution_count": 16,
     "metadata": {},
     "output_type": "execute_result"
    }
   ],
   "source": [
    "query = \"\"\"\n",
    "SELECT DISTINCT\n",
    "    verb,\n",
    "    doc_id,\n",
    "    source\n",
    "FROM (\n",
    "    SELECT\n",
    "        UNNEST(CAST(json_extract(elements, '$.verb_symbols') AS VARCHAR[])) AS verb,\n",
    "        id AS doc_id,\n",
    "        CAST(json_extract(elements, '$.sources') AS VARCHAR) AS source\n",
    "    FROM\n",
    "        RAW_SECTION_P1_EXTRACTED_ELEMENTS_TRUE\n",
    ") AS distinct_combinations;\n",
    "\"\"\"\n",
    "\n",
    "section_p1_extracted_elements_true_values=conn.sql(query).fetchall()\n",
    "\n",
    "conn.sql(query)\n",
    "\n"
   ]
  },
  {
   "cell_type": "markdown",
   "metadata": {},
   "source": [
    "Predict tables"
   ]
  },
  {
   "cell_type": "code",
   "execution_count": 87,
   "metadata": {},
   "outputs": [
    {
     "name": "stdout",
     "output_type": "stream",
     "text": [
      "cfr2sbvr_db/evaluation/documents-2024-12-08-1.json\n",
      "§ 275.0-2_P1|llm_response\n",
      "§ 275.0-5_P1|llm_response\n",
      "§ 275.0-7_P1|llm_response\n",
      "_query_drop_table='\\n        DROP TABLE IF EXISTS RAW_SECTION_P1_EXTRACTED_ELEMENTS;\\n        '\n",
      "Trying to drop table because drop parameter is True\n",
      "Table RAW_SECTION_P1_EXTRACTED_ELEMENTS dropped\n",
      "_query_insert_data='\\n    INSERT INTO RAW_SECTION_P1_EXTRACTED_ELEMENTS (id, prompt, file_source, elements, created_at)\\n    SELECT \\n        id, \\n        \\'extract_p1\\' as prompt, \\n        \\'documents-2024-12-08-1.json\\' as file_source, \\n        unnest(content.elements) as elements,\\n        now() as created_at\\n    FROM \\n        read_json_auto(\"temp/documents-2024-12-08-1.json\");\\n    '\n",
      "Trying to insert into RAW_SECTION_P1_EXTRACTED_ELEMENTS\n",
      "Catalog Error: Table with name RAW_SECTION_P1_EXTRACTED_ELEMENTS does not exist!\n",
      "Did you mean \"database_v3.RAW_SECTION_P1_EXTRACTED_ELEMENTS\"?\n",
      "Failed to insert, trying create RAW_SECTION_P1_EXTRACTED_ELEMENTS\n",
      "_query_create_table='\\n        CREATE TABLE RAW_SECTION_P1_EXTRACTED_ELEMENTS AS\\n        SELECT id, \\n        \\'extract_p1\\' as prompt, \\n        \\'documents-2024-12-08-1.json\\' as file_source, \\n        unnest(content.elements) as elements,\\n        now() as \\'created_at\\'\\n        FROM read_json_auto(\"temp/documents-2024-12-08-1.json\");\\n        '\n",
      "Table RAW_SECTION_P1_EXTRACTED_ELEMENTS created and loaded.\n",
      "cfr2sbvr_db/evaluation/documents-2024-12-08-10.json\n",
      "§ 275.0-2_P1|llm_response\n",
      "§ 275.0-5_P1|llm_response\n",
      "§ 275.0-7_P1|llm_response\n",
      "_query_insert_data='\\n    INSERT INTO RAW_SECTION_P1_EXTRACTED_ELEMENTS (id, prompt, file_source, elements, created_at)\\n    SELECT \\n        id, \\n        \\'extract_p1\\' as prompt, \\n        \\'documents-2024-12-08-10.json\\' as file_source, \\n        unnest(content.elements) as elements,\\n        now() as created_at\\n    FROM \\n        read_json_auto(\"temp/documents-2024-12-08-10.json\");\\n    '\n",
      "Trying to insert into RAW_SECTION_P1_EXTRACTED_ELEMENTS\n",
      "Data inserted into RAW_SECTION_P1_EXTRACTED_ELEMENTS.\n",
      "cfr2sbvr_db/evaluation/documents-2024-12-08-2.json\n",
      "§ 275.0-2_P1|llm_response\n",
      "§ 275.0-5_P1|llm_response\n",
      "§ 275.0-7_P1|llm_response\n",
      "_query_insert_data='\\n    INSERT INTO RAW_SECTION_P1_EXTRACTED_ELEMENTS (id, prompt, file_source, elements, created_at)\\n    SELECT \\n        id, \\n        \\'extract_p1\\' as prompt, \\n        \\'documents-2024-12-08-2.json\\' as file_source, \\n        unnest(content.elements) as elements,\\n        now() as created_at\\n    FROM \\n        read_json_auto(\"temp/documents-2024-12-08-2.json\");\\n    '\n",
      "Trying to insert into RAW_SECTION_P1_EXTRACTED_ELEMENTS\n",
      "Data inserted into RAW_SECTION_P1_EXTRACTED_ELEMENTS.\n",
      "cfr2sbvr_db/evaluation/documents-2024-12-08-3.json\n",
      "§ 275.0-2_P1|llm_response\n",
      "§ 275.0-5_P1|llm_response\n",
      "§ 275.0-7_P1|llm_response\n",
      "_query_insert_data='\\n    INSERT INTO RAW_SECTION_P1_EXTRACTED_ELEMENTS (id, prompt, file_source, elements, created_at)\\n    SELECT \\n        id, \\n        \\'extract_p1\\' as prompt, \\n        \\'documents-2024-12-08-3.json\\' as file_source, \\n        unnest(content.elements) as elements,\\n        now() as created_at\\n    FROM \\n        read_json_auto(\"temp/documents-2024-12-08-3.json\");\\n    '\n",
      "Trying to insert into RAW_SECTION_P1_EXTRACTED_ELEMENTS\n",
      "Data inserted into RAW_SECTION_P1_EXTRACTED_ELEMENTS.\n",
      "cfr2sbvr_db/evaluation/documents-2024-12-08-4.json\n",
      "§ 275.0-2_P1|llm_response\n",
      "§ 275.0-5_P1|llm_response\n",
      "§ 275.0-7_P1|llm_response\n",
      "_query_insert_data='\\n    INSERT INTO RAW_SECTION_P1_EXTRACTED_ELEMENTS (id, prompt, file_source, elements, created_at)\\n    SELECT \\n        id, \\n        \\'extract_p1\\' as prompt, \\n        \\'documents-2024-12-08-4.json\\' as file_source, \\n        unnest(content.elements) as elements,\\n        now() as created_at\\n    FROM \\n        read_json_auto(\"temp/documents-2024-12-08-4.json\");\\n    '\n",
      "Trying to insert into RAW_SECTION_P1_EXTRACTED_ELEMENTS\n",
      "Data inserted into RAW_SECTION_P1_EXTRACTED_ELEMENTS.\n",
      "cfr2sbvr_db/evaluation/documents-2024-12-08-5.json\n",
      "§ 275.0-2_P1|llm_response\n",
      "§ 275.0-5_P1|llm_response\n",
      "§ 275.0-7_P1|llm_response\n",
      "_query_insert_data='\\n    INSERT INTO RAW_SECTION_P1_EXTRACTED_ELEMENTS (id, prompt, file_source, elements, created_at)\\n    SELECT \\n        id, \\n        \\'extract_p1\\' as prompt, \\n        \\'documents-2024-12-08-5.json\\' as file_source, \\n        unnest(content.elements) as elements,\\n        now() as created_at\\n    FROM \\n        read_json_auto(\"temp/documents-2024-12-08-5.json\");\\n    '\n",
      "Trying to insert into RAW_SECTION_P1_EXTRACTED_ELEMENTS\n",
      "Data inserted into RAW_SECTION_P1_EXTRACTED_ELEMENTS.\n",
      "cfr2sbvr_db/evaluation/documents-2024-12-08-6.json\n",
      "§ 275.0-2_P1|llm_response\n",
      "§ 275.0-5_P1|llm_response\n",
      "§ 275.0-7_P1|llm_response\n",
      "_query_insert_data='\\n    INSERT INTO RAW_SECTION_P1_EXTRACTED_ELEMENTS (id, prompt, file_source, elements, created_at)\\n    SELECT \\n        id, \\n        \\'extract_p1\\' as prompt, \\n        \\'documents-2024-12-08-6.json\\' as file_source, \\n        unnest(content.elements) as elements,\\n        now() as created_at\\n    FROM \\n        read_json_auto(\"temp/documents-2024-12-08-6.json\");\\n    '\n",
      "Trying to insert into RAW_SECTION_P1_EXTRACTED_ELEMENTS\n",
      "Data inserted into RAW_SECTION_P1_EXTRACTED_ELEMENTS.\n",
      "cfr2sbvr_db/evaluation/documents-2024-12-08-7.json\n",
      "§ 275.0-2_P1|llm_response\n",
      "§ 275.0-5_P1|llm_response\n",
      "§ 275.0-7_P1|llm_response\n",
      "_query_insert_data='\\n    INSERT INTO RAW_SECTION_P1_EXTRACTED_ELEMENTS (id, prompt, file_source, elements, created_at)\\n    SELECT \\n        id, \\n        \\'extract_p1\\' as prompt, \\n        \\'documents-2024-12-08-7.json\\' as file_source, \\n        unnest(content.elements) as elements,\\n        now() as created_at\\n    FROM \\n        read_json_auto(\"temp/documents-2024-12-08-7.json\");\\n    '\n",
      "Trying to insert into RAW_SECTION_P1_EXTRACTED_ELEMENTS\n",
      "Data inserted into RAW_SECTION_P1_EXTRACTED_ELEMENTS.\n",
      "cfr2sbvr_db/evaluation/documents-2024-12-08-8.json\n",
      "§ 275.0-2_P1|llm_response\n",
      "§ 275.0-5_P1|llm_response\n",
      "§ 275.0-7_P1|llm_response\n",
      "_query_insert_data='\\n    INSERT INTO RAW_SECTION_P1_EXTRACTED_ELEMENTS (id, prompt, file_source, elements, created_at)\\n    SELECT \\n        id, \\n        \\'extract_p1\\' as prompt, \\n        \\'documents-2024-12-08-8.json\\' as file_source, \\n        unnest(content.elements) as elements,\\n        now() as created_at\\n    FROM \\n        read_json_auto(\"temp/documents-2024-12-08-8.json\");\\n    '\n",
      "Trying to insert into RAW_SECTION_P1_EXTRACTED_ELEMENTS\n",
      "Data inserted into RAW_SECTION_P1_EXTRACTED_ELEMENTS.\n",
      "cfr2sbvr_db/evaluation/documents-2024-12-08-9.json\n",
      "§ 275.0-2_P1|llm_response\n",
      "§ 275.0-5_P1|llm_response\n",
      "§ 275.0-7_P1|llm_response\n",
      "_query_insert_data='\\n    INSERT INTO RAW_SECTION_P1_EXTRACTED_ELEMENTS (id, prompt, file_source, elements, created_at)\\n    SELECT \\n        id, \\n        \\'extract_p1\\' as prompt, \\n        \\'documents-2024-12-08-9.json\\' as file_source, \\n        unnest(content.elements) as elements,\\n        now() as created_at\\n    FROM \\n        read_json_auto(\"temp/documents-2024-12-08-9.json\");\\n    '\n",
      "Trying to insert into RAW_SECTION_P1_EXTRACTED_ELEMENTS\n",
      "Data inserted into RAW_SECTION_P1_EXTRACTED_ELEMENTS.\n"
     ]
    }
   ],
   "source": [
    "# Define the directory and pattern\n",
    "directory = Path(\"cfr2sbvr_db/evaluation\")\n",
    "pattern = \"documents-*.json\"\n",
    "\n",
    "# Use glob to find all files matching the pattern\n",
    "files = directory.glob(pattern)\n",
    "\n",
    "drop=True # Drop the table first time\n",
    "for file_path in files:\n",
    "    print(file_path)  # Output each file path\n",
    "    upsert_table_from_json(\n",
    "        conn,\n",
    "        suffix_key_pattern=\"_P1|llm_response\",\n",
    "        prefix_key_pattern=\"§\",\n",
    "        table_name=\"RAW_SECTION_P1_EXTRACTED_ELEMENTS\",\n",
    "        source=file_path,\n",
    "        key_value=\"extract_p1\",\n",
    "        drop=drop,\n",
    "        content_key=\"content.elements\",\n",
    "        alias=\"elements\",\n",
    "        doc_id_key=\"id\"\n",
    "    )\n",
    "    drop=False # Stop dropping tables"
   ]
  },
  {
   "cell_type": "code",
   "execution_count": 88,
   "metadata": {},
   "outputs": [
    {
     "data": {
      "text/plain": [
       "┌──────────────┬────────────┬─────────────────────────────┬────────────────────────────────────────────────────────────────────────────────────────────────────────────────────────────────────────────────────────────────────────────────────────────────────────────────────────────────────────────────────────────────────────────────────────────────────────────────────────────────────────────────────────────────────────────────────────────────────────────────────────────────────────────────────────────────────────────────────────────────────────────────────────────────────────────────────────────────────────────────────────────────────────────────────────────────────────────────────────────────────────────────────────────────────────────────────────────────────────────────────────────────────────────────────────────────────────────────────────────────────────────────────────────────────────────────────────────────────────────────────────────────────────────────────────────────────────────────────────────────────────────────────────────────────────────────────────────────────────────────────────────────────────────────────────────────────────────────────────────────────────────────────────────────────────────────────────────────────────────────────────────────────────────────────────────────────────────────────────────────────────────────────────────────────────────────────────────────────────────────────────────────────────────────────────────────────────────────────────────────────────────────────────────────────────────────────────────────────────────────────────────────────────────────────────────────────────────────────────────────────────────────────────────────────────────────────────────────────────────────────────────────────────────────────────────────────────────────────────────────────────────────────────────────────────────────────────────────────────────────────────────────────────────────────────────────────────────────────────────────────────────────────────────────────────────────────────────────────────────────────────────────────────────────────────────────────────────────────────────────────────────────────────────────────────────────────────────────────────────────────────────────────────────────────────────────────────────────────────────────────────────────────────────────────────────────────────────────────────────────────────────────────────────────────────────────────────────────────────────────────────────────────────────────────────────────────────────────────────────────────────────────────────────────────────────────────────────────────────────────────────────────────────────────────────────────────────────────────────────────────────────────────────────────────────────────────────────────────────────────────────────────────────────────────────────────────────────────────────────────────────────────────────────────────────────────────────────────────────────────────────────────────────────────────────────────────────────────────────────────────────────────────────────────────────────────────────────────────────────────────────────────────────────────────────────────────────────────────────────────────────────────────────────────────────────────────────────────────────────────────────────────────────────────────────────────────────────────────────────────────────────────────────────────────────────────────────────────────────────────────────────────────────────────────────────────────────────────────────────────────────────────────────────────────────────────────────────────────────┬────────────────────────────┐\n",
       "│      id      │   prompt   │         file_source         │                                                                                                                                                                                                                                                                                                                                                                                                                                                                                                                                                                                                                                                                                                                                                                                                                                                                                                                                                                                                                                                                                                                                                                                                                                                                                                                                                                                                                                                                                                                                                                                                                                                                                                                                                                                                                        elements                                                                                                                                                                                                                                                                                                                                                                                                                                                                                                                                                                                                                                                                                                                                                                                                                                                                                                                                                                                                                                                                                                                                                                                                                                                                                                                                                                                                                                                                                                                                                                                                                                                                                                                                                                                                                        │         created_at         │\n",
       "│   varchar    │  varchar   │           varchar           │                                                                                                                                                                                                                                                                                                                                                                                                                                                                                                                                                                                                                                                                                                                                                                                                                                                                                                                                                                                                                                                                                                                                                                                                                                                                                                                                                                                                                                                                                                                                                                                                                            struct(id bigint, title varchar, \"statement\" varchar, terms struct(term varchar, classification varchar, confidence double, reason varchar, extracted_confidence double, extracted_reason varchar)[], verb_symbols varchar[], verb_symbols_extracted_confidence double[], verb_symbols_extracted_reason varchar[], classification varchar, confidence double, reason varchar, sources varchar[])                                                                                                                                                                                                                                                                                                                                                                                                                                                                                                                                                                                                                                                                                                                                                                                                                                                                                                                                                                                                                                                                                                                                                                                                                                                                                                                                                                                                                                                                                                                                                                                                                            │  timestamp with time zone  │\n",
       "├──────────────┼────────────┼─────────────────────────────┼────────────────────────────────────────────────────────────────────────────────────────────────────────────────────────────────────────────────────────────────────────────────────────────────────────────────────────────────────────────────────────────────────────────────────────────────────────────────────────────────────────────────────────────────────────────────────────────────────────────────────────────────────────────────────────────────────────────────────────────────────────────────────────────────────────────────────────────────────────────────────────────────────────────────────────────────────────────────────────────────────────────────────────────────────────────────────────────────────────────────────────────────────────────────────────────────────────────────────────────────────────────────────────────────────────────────────────────────────────────────────────────────────────────────────────────────────────────────────────────────────────────────────────────────────────────────────────────────────────────────────────────────────────────────────────────────────────────────────────────────────────────────────────────────────────────────────────────────────────────────────────────────────────────────────────────────────────────────────────────────────────────────────────────────────────────────────────────────────────────────────────────────────────────────────────────────────────────────────────────────────────────────────────────────────────────────────────────────────────────────────────────────────────────────────────────────────────────────────────────────────────────────────────────────────────────────────────────────────────────────────────────────────────────────────────────────────────────────────────────────────────────────────────────────────────────────────────────────────────────────────────────────────────────────────────────────────────────────────────────────────────────────────────────────────────────────────────────────────────────────────────────────────────────────────────────────────────────────────────────────────────────────────────────────────────────────────────────────────────────────────────────────────────────────────────────────────────────────────────────────────────────────────────────────────────────────────────────────────────────────────────────────────────────────────────────────────────────────────────────────────────────────────────────────────────────────────────────────────────────────────────────────────────────────────────────────────────────────────────────────────────────────────────────────────────────────────────────────────────────────────────────────────────────────────────────────────────────────────────────────────────────────────────────────────────────────────────────────────────────────────────────────────────────────────────────────────────────────────────────────────────────────────────────────────────────────────────────────────────────────────────────────────────────────────────────────────────────────────────────────────────────────────────────────────────────────────────────────────────────────────────────────────────────────────────────────────────────────────────────────────────────────────────────────────────────────────────────────────────────────────────────────────────────────────────────────────────────────────────────────────────────────────────────────────────────────────────────────────────────────────────────────────────────────────────────────────────────────────────┼────────────────────────────┤\n",
       "│ § 275.0-2_P1 │ extract_p1 │ documents-2024-12-08-1.json │ {'id': 1, 'title': Service of process on non-resident entities, 'statement': A person may serve process, pleadings, or other papers on a non-resident investment adviser, or on a non-resident general partner or non-resident managing agent of an investment adviser by serving any or all of its appointed agents., 'terms': [{'term': Person, 'classification': Common Noun, 'confidence': 0.9, 'reason': The term is a general reference to an individual or entity., 'extracted_confidence': 0.9, 'extracted_reason': The term is explicitly mentioned as the subject performing the action.}, {'term': Non-resident investment adviser, 'classification': Common Noun, 'confidence': 0.9, 'reason': The term refers to a specific type of entity involved in the process., 'extracted_confidence': 0.9, 'extracted_reason': The term is explicitly mentioned as the recipient of the action.}, {'term': Non-resident general partner, 'classification': Common Noun, 'confidence': 0.9, 'reason': The term refers to a specific type of entity involved in the process., 'extracted_confidence': 0.9, 'extracted_reason': The term is explicitly mentioned as the recipient of the action.}, {'term': Non-resident managing agent, 'classification': Common Noun, 'confidence': 0.9, 'reason': The term refers to a specific type of entity involved in the process., 'extracted_confidence': 0.9, 'extracted_reason': The term is explicitly mentioned as the recipient of the action.}, {'term': Appointed agents, 'classification': Common Noun, 'confidence': 0.8, 'reason': The term refers to entities designated to receive service on behalf of others., 'extracted_confidence': 0.8, 'extracted_reason': The term is implied as the means through which service is effected.}], 'verb_symbols': [serve, by serving], 'verb_symbols_extracted_confidence': [0.9, 0.8], 'verb_symbols_extracted_reason': [The verb is explicitly mentioned as the action performed., The verb phrase indicates the method of performing the action.], 'classification': Fact Type, 'confidence': 0.9, 'reason': The statement describes a general procedure applicable to various entities., 'sources': [(a)]}                                                                                                                                                                                                                                                                                                                                                                                                                                                                                                                                                                                                                                                                                                                                                                                                                                                                                                                                                                                                                                                                                                                                                                                                                                                                                                                                                                                                                                           │ 2024-12-18 00:43:39.173-03 │\n",
       "│ § 275.0-2_P1 │ extract_p1 │ documents-2024-12-08-1.json │ {'id': 2, 'title': Furnishing documents to the Commission, 'statement': A person may serve a non-resident investment adviser, non-resident general partner, or non-resident managing agent by furnishing the Commission with one copy of the process, pleadings, or papers, for each named party, and one additional copy for the Commission's records., 'terms': [{'term': Process, 'classification': Common Noun, 'confidence': 0.8, 'reason': The term refers to legal documents involved in the service., 'extracted_confidence': 0.8, 'extracted_reason': The term is part of the list of documents to be furnished.}, {'term': Pleadings, 'classification': Common Noun, 'confidence': 0.8, 'reason': The term refers to legal documents involved in the service., 'extracted_confidence': 0.8, 'extracted_reason': The term is part of the list of documents to be served.}, {'term': Papers, 'classification': Common Noun, 'confidence': 0.8, 'reason': The term refers to legal documents involved in the service., 'extracted_confidence': 0.8, 'extracted_reason': The term is part of the list of documents to be served.}, {'term': Named party, 'classification': Common Noun, 'confidence': 0.8, 'reason': The term refers to the parties involved in the legal process., 'extracted_confidence': 0.8, 'extracted_reason': The term is mentioned as the recipient of the documents.}, {'term': Commission's records, 'classification': Common Noun, 'confidence': 0.8, 'reason': The term refers to the records maintained by the Commission., 'extracted_confidence': 0.8, 'extracted_reason': The term is mentioned as the recipient of an additional copy.}, {'term': Person, 'classification': Common Noun, 'confidence': 0.9, 'reason': The term is a general reference to an individual or entity., 'extracted_confidence': 0.9, 'extracted_reason': The term is explicitly mentioned as the subject performing the action.}, {'term': Non-resident investment adviser, 'classification': Common Noun, 'confidence': 0.9, 'reason': The term refers to a specific type of entity involved in the process., 'extracted_confidence': 0.9, 'extracted_reason': The term is explicitly mentioned as the recipient of the action.}, {'term': Non-resident general partner, 'classification': Common Noun, 'confidence': 0.9, 'reason': The term refers to a specific type of entity involved in the process., 'extracted_confidence': 0.9, 'extracted_reason': The term is explicitly mentioned as the recipient of the action.}, {'term': Non-resident managing agent, 'classification': Common Noun, 'confidence': 0.9, 'reason': The term refers to a specific type of entity involved in the process., 'extracted_confidence': 0.9, 'extracted_reason': The term is explicitly mentioned as the recipient of the action.}, {'term': Commission, 'classification': Proper Noun, 'confidence': 0.9, 'reason': The term refers to a specific governmental body involved in the process., 'extracted_confidence': 0.9, 'extracted_reason': The term is explicitly mentioned as the entity receiving the documents.}], 'verb_symbols': [serve, by furnishing, with], 'verb_symbols_extracted_confidence': [0.9, 0.8, 0.7], 'verb_symbols_extracted_reason': [The verb is explicitly mentioned as the action performed., The verb phrase indicates the method of performing the action., The preposition indicates the relationship between the action and the recipient.], 'classification': Fact Type, 'confidence': 0.9, 'reason': The statement describes a general procedure applicable to various entities., 'sources': [(a)(1)]} │ 2024-12-18 00:43:39.173-03 │\n",
       "│ § 275.0-2_P1 │ extract_p1 │ documents-2024-12-08-1.json │ {'id': 3, 'title': Forwarding documents by the Secretary, 'statement': The Secretary of the Commission (Secretary) will promptly forward a copy to each named party by registered or certified mail at that party's last address filed with the Commission., 'terms': [{'term': Last address, 'classification': Common Noun, 'confidence': 0.8, 'reason': The term refers to the address on file for the named party., 'extracted_confidence': 0.8, 'extracted_reason': The term is mentioned as the location to which documents are sent.}, {'term': Last address filed with the Commission, 'classification': Common Noun, 'confidence': 0.8, 'reason': The term refers to the location where documents are sent., 'extracted_confidence': 0.8, 'extracted_reason': The term is implied as part of the service process.}, {'term': Process, 'classification': Common Noun, 'confidence': 0.8, 'reason': The term refers to legal documents involved in the service., 'extracted_confidence': 0.8, 'extracted_reason': The term is part of the list of documents to be forwarded.}, {'term': Pleadings, 'classification': Common Noun, 'confidence': 0.8, 'reason': The term refers to legal documents involved in the procedure., 'extracted_confidence': 0.8, 'extracted_reason': The term is part of the documents to be forwarded.}, {'term': Papers, 'classification': Common Noun, 'confidence': 0.8, 'reason': The term refers to legal documents involved in the procedure., 'extracted_confidence': 0.8, 'extracted_reason': The term is part of the documents to be forwarded.}, {'term': Secretary of the Commission, 'classification': Proper Noun, 'confidence': 0.9, 'reason': The term refers to a specific role within the Commission., 'extracted_confidence': 0.9, 'extracted_reason': The term is explicitly mentioned as the subject performing the action.}, {'term': Named party, 'classification': Common Noun, 'confidence': 0.8, 'reason': The term refers to the recipient of the documents., 'extracted_confidence': 0.8, 'extracted_reason': The term is implied as the recipient of the action.}, {'term': Registered mail, 'classification': Common Noun, 'confidence': 0.8, 'reason': The term refers to a method of sending documents., 'extracted_confidence': 0.8, 'extracted_reason': The term is explicitly mentioned as the method of forwarding.}, {'term': Certified mail, 'classification': Common Noun, 'confidence': 0.8, 'reason': The term refers to a method of sending documents., 'extracted_confidence': 0.8, 'extracted_reason': The term is explicitly mentioned as the method of forwarding.}, {'term': Commission, 'classification': Proper Noun, 'confidence': 0.9, 'reason': The term refers to a specific governmental body involved in the process., 'extracted_confidence': 0.9, 'extracted_reason': The term is explicitly mentioned as the entity associated with the address.}], 'verb_symbols': [will forward, by, at], 'verb_symbols_extracted_confidence': [0.9, 0.8, 0.7], 'verb_symbols_extracted_reason': [The verb phrase is explicitly mentioned as the action performed., The preposition indicates the method of performing the action., The preposition indicates the location associated with the action.], 'classification': Operative Rule, 'confidence': 0.9, 'reason': The statement prescribes a specific action that must be taken by the Secretary., 'sources': [(a)(2)]}                                                                                                                                                                                              │ 2024-12-18 00:43:39.173-03 │\n",
       "│ § 275.0-2_P1 │ extract_p1 │ documents-2024-12-08-1.json │ {'id': 4, 'title': Certification of service by the Secretary, 'statement': If the Secretary certifies that the Commission was served with process, pleadings, or other papers pursuant to paragraph (a)(1) of this section and forwarded these documents to a named party pursuant to paragraph (a)(2) of this section, this certification constitutes evidence of service upon that party., 'terms': [{'term': Evidence of service, 'classification': Common Noun, 'confidence': 0.8, 'reason': The term refers to the proof of service process., 'extracted_confidence': 0.8, 'extracted_reason': The term is implied as part of the service process.}, {'term': Process, 'classification': Common Noun, 'confidence': 0.8, 'reason': The term refers to legal documents involved in the service., 'extracted_confidence': 0.8, 'extracted_reason': The term is part of the list of documents to be certified.}, {'term': Pleadings, 'classification': Common Noun, 'confidence': 0.8, 'reason': The term refers to legal documents involved in the service., 'extracted_confidence': 0.8, 'extracted_reason': The term is part of the list of documents to be served.}, {'term': Papers, 'classification': Common Noun, 'confidence': 0.8, 'reason': The term refers to legal documents involved in the procedure., 'extracted_confidence': 0.8, 'extracted_reason': The term is part of the documents to be certified.}, {'term': Secretary, 'classification': Proper Noun, 'confidence': 0.9, 'reason': The term refers to a specific role within the Commission., 'extracted_confidence': 0.9, 'extracted_reason': The term is explicitly mentioned as the subject performing the action.}, {'term': Commission, 'classification': Proper Noun, 'confidence': 0.9, 'reason': The term refers to a specific governmental body involved in the process., 'extracted_confidence': 0.9, 'extracted_reason': The term is explicitly mentioned as the entity receiving the documents.}, {'term': Named party, 'classification': Common Noun, 'confidence': 0.8, 'reason': The term refers to the recipient of the documents., 'extracted_confidence': 0.8, 'extracted_reason': The term is implied as the recipient of the action.}, {'term': Certification, 'classification': Common Noun, 'confidence': 0.8, 'reason': The term refers to the act of certifying the service of documents., 'extracted_confidence': 0.8, 'extracted_reason': The term is explicitly mentioned as the result of the action.}], 'verb_symbols': [certifies, was served, forwarded, constitutes], 'verb_symbols_extracted_confidence': [0.9, 0.8, 0.8, 0.7], 'verb_symbols_extracted_reason': [The verb is explicitly mentioned as the action performed., The verb phrase indicates the action received by the Commission., The verb indicates the action performed by the Secretary., The verb indicates the result of the certification.], 'classification': Operative Rule, 'confidence': 0.9, 'reason': The statement prescribes a specific condition under which certification constitutes evidence of service., 'sources': [(a)(3)]}                                                                                                                                                                                                                                                                                                                                                                                                                                                                                                                               │ 2024-12-18 00:43:39.173-03 │\n",
       "│ § 275.0-2_P1 │ extract_p1 │ documents-2024-12-08-1.json │ {'id': 5, 'title': Definition of Managing agent, 'statement': Managing agent means any person, including a trustee, who directs or manages, or who participates in directing or managing, the affairs of any unincorporated organization or association other than a partnership., 'terms': [{'term': Managing agent, 'classification': Common Noun, 'confidence': 0.9, 'reason': The term is defined within the context of the document., 'extracted_confidence': 0.9, 'extracted_reason': The term is explicitly mentioned as the subject of the definition.}, {'term': Person, 'classification': Common Noun, 'confidence': 0.9, 'reason': The term is a general reference to an individual or entity., 'extracted_confidence': 0.9, 'extracted_reason': The term is explicitly mentioned as part of the definition.}, {'term': Trustee, 'classification': Common Noun, 'confidence': 0.8, 'reason': The term refers to a specific role within the definition., 'extracted_confidence': 0.8, 'extracted_reason': The term is explicitly mentioned as part of the definition.}, {'term': Unincorporated organization, 'classification': Common Noun, 'confidence': 0.8, 'reason': The term refers to a type of entity managed by the managing agent., 'extracted_confidence': 0.8, 'extracted_reason': The term is explicitly mentioned as part of the definition.}, {'term': Association, 'classification': Common Noun, 'confidence': 0.8, 'reason': The term refers to a type of entity managed by the managing agent., 'extracted_confidence': 0.8, 'extracted_reason': The term is explicitly mentioned as part of the definition.}, {'term': Partnership, 'classification': Common Noun, 'confidence': 0.8, 'reason': The term refers to a type of entity excluded from the definition., 'extracted_confidence': 0.8, 'extracted_reason': The term is explicitly mentioned as part of the definition.}], 'verb_symbols': [means, directs, manages, participates], 'verb_symbols_extracted_confidence': [0.9, 0.8, 0.8, 0.7], 'verb_symbols_extracted_reason': [The verb is explicitly mentioned as the definition., The verb indicates the action performed by the managing agent., The verb indicates the action performed by the managing agent., The verb indicates the action performed by the managing agent.], 'classification': Fact Type, 'confidence': 0.9, 'reason': The statement provides a definition applicable to various entities., 'sources': [(b)(1)]}                                                                                                                                                                                                                                                                                                                                                                                                                                                                                                                                                                                                                                                                                                                                                                                                                                                                                                                                                                                                                                                                                                                                                                       │ 2024-12-18 00:43:39.173-03 │\n",
       "│ § 275.0-2_P1 │ extract_p1 │ documents-2024-12-08-1.json │ {'id': 6, 'title': Definition of Non-resident, 'statement': Non-resident means an individual who resides in any place not subject to the jurisdiction of the United States; a corporation that is incorporated in or that has its principal office and place of business in any place not subject to the jurisdiction of the United States; and a partnership or other unincorporated organization or association that has its principal office and place of business in any place not subject to the jurisdiction of the United States., 'terms': [{'term': Jurisdiction of the United States, 'classification': Common Noun, 'confidence': 0.9, 'reason': The term refers to the legal authority of the United States., 'extracted_confidence': 0.9, 'extracted_reason': The term is explicitly mentioned as part of the definition.}, {'term': Non-resident, 'classification': Common Noun, 'confidence': 0.9, 'reason': The term is defined within the context of the document., 'extracted_confidence': 0.9, 'extracted_reason': The term is explicitly mentioned as the subject of the definition.}, {'term': Individual, 'classification': Common Noun, 'confidence': 0.9, 'reason': The term refers to a type of entity defined as non-resident., 'extracted_confidence': 0.9, 'extracted_reason': The term is explicitly mentioned as part of the definition.}, {'term': Corporation, 'classification': Common Noun, 'confidence': 0.9, 'reason': The term refers to a type of entity defined as non-resident., 'extracted_confidence': 0.9, 'extracted_reason': The term is explicitly mentioned as part of the definition.}, {'term': Principal office, 'classification': Common Noun, 'confidence': 0.8, 'reason': The term refers to a location criterion for defining non-resident entities., 'extracted_confidence': 0.8, 'extracted_reason': The term is explicitly mentioned as part of the definition.}, {'term': Place of business, 'classification': Common Noun, 'confidence': 0.8, 'reason': The term refers to a location criterion for defining non-resident entities., 'extracted_confidence': 0.8, 'extracted_reason': The term is explicitly mentioned as part of the definition.}, {'term': Partnership, 'classification': Common Noun, 'confidence': 0.8, 'reason': The term refers to a type of entity defined as non-resident., 'extracted_confidence': 0.8, 'extracted_reason': The term is explicitly mentioned as part of the definition.}, {'term': Unincorporated organization, 'classification': Common Noun, 'confidence': 0.8, 'reason': The term refers to a type of entity defined as non-resident., 'extracted_confidence': 0.8, 'extracted_reason': The term is explicitly mentioned as part of the definition.}, {'term': Association, 'classification': Common Noun, 'confidence': 0.8, 'reason': The term refers to a type of entity defined as non-resident., 'extracted_confidence': 0.8, 'extracted_reason': The term is explicitly mentioned as part of the definition.}], 'verb_symbols': [means, resides, is incorporated, has], 'verb_symbols_extracted_confidence': [0.9, 0.8, 0.8, 0.7], 'verb_symbols_extracted_reason': [The verb is explicitly mentioned as the definition., The verb indicates the condition of being a non-resident., The verb indicates the condition of being a non-resident., The verb indicates the condition of being a non-resident.], 'classification': Fact Type, 'confidence': 0.9, 'reason': The statement provides a definition applicable to various entities., 'sources': [(b)(2)]}                                                                           │ 2024-12-18 00:43:39.173-03 │\n",
       "│ § 275.0-2_P1 │ extract_p1 │ documents-2024-12-08-1.json │ {'id': 7, 'title': Definition of Principal office and place of business, 'statement': Principal office and place of business has the same meaning as in § 275.203A-3(c) of this chapter., 'terms': [{'term': Principal office, 'classification': Common Noun, 'confidence': 0.9, 'reason': The term is defined within the context of the document., 'extracted_confidence': 0.9, 'extracted_reason': The term is explicitly mentioned as the subject of the definition.}, {'term': Place of business, 'classification': Common Noun, 'confidence': 0.9, 'reason': The term is defined within the context of the document., 'extracted_confidence': 0.9, 'extracted_reason': The term is explicitly mentioned as the subject of the definition.}], 'verb_symbols': [has], 'verb_symbols_extracted_confidence': [0.9], 'verb_symbols_extracted_reason': [The verb is explicitly mentioned as the definition.], 'classification': Fact Type, 'confidence': 0.9, 'reason': The statement provides a definition applicable to various entities., 'sources': [(b)(3)]}                                                                                                                                                                                                                                                                                                                                                                                                                                                                                                                                                                                                                                                                                                                                                                                                                                                                                                                                                                                                                                                                                                                                                                                                                                                                                                                                                                                                                                                                                                                                                                                                                                                                                                                                                                                                                                                                                                                                                                                                                                                                                                                                                                                                                                                                                                                                                                                                                                                                                                                                                                                       │ 2024-12-18 00:43:39.173-03 │\n",
       "│ § 275.0-5_P1 │ extract_p1 │ documents-2024-12-08-1.json │ {'id': 1, 'title': Notice of proceeding initiation, 'statement': Notice of the initiation of the proceeding will be published in the Federal Register and will indicate the earliest date upon which an order disposing of the matter may be entered., 'terms': [{'term': Earliest date, 'classification': Common Noun, 'confidence': 0.7, 'reason': The term refers to a time-related concept., 'extracted_confidence': 0.7, 'extracted_reason': The term is mentioned as part of the notice details.}, {'term': Order disposing of the matter, 'classification': Common Noun, 'confidence': 0.85, 'reason': The term describes a general legal outcome., 'extracted_confidence': 0.85, 'extracted_reason': The term is a key part of the procedure described.}, {'term': Notice, 'classification': Common Noun, 'confidence': 0.9, 'reason': The term is a general concept related to communication., 'extracted_confidence': 0.9, 'extracted_reason': The term is explicitly mentioned as a key part of the procedure.}, {'term': Initiation of the proceeding, 'classification': Common Noun, 'confidence': 0.8, 'reason': The term describes a process or event., 'extracted_confidence': 0.8, 'extracted_reason': The term is central to the statement's context.}, {'term': Federal Register, 'classification': Proper Noun, 'confidence': 0.95, 'reason': The term is a specific publication., 'extracted_confidence': 0.95, 'extracted_reason': The term is explicitly named as the publication medium.}, {'term': Order, 'classification': Common Noun, 'confidence': 0.85, 'reason': The term refers to a formal decision or directive., 'extracted_confidence': 0.85, 'extracted_reason': The term is a key outcome of the proceeding.}, {'term': Matter, 'classification': Common Noun, 'confidence': 0.8, 'reason': The term refers to the subject or issue at hand., 'extracted_confidence': 0.8, 'extracted_reason': The term is used to describe what the order will address.}], 'verb_symbols': [will be published, will indicate], 'verb_symbols_extracted_confidence': [0.9, 0.9], 'verb_symbols_extracted_reason': [The verb phrase describes the action of publishing the notice., The verb phrase describes the action of indicating the date.], 'classification': Operative Rule, 'confidence': 0.9, 'reason': The statement prescribes a mandatory procedure for publishing notice and indicating dates., 'sources': [(a)]}                                                                                                                                                                                                                                                                                                                                                                                                                                                                                                                                                                                                                                                                                                                                                                                                                                                                                                                                                                                                                                                                                                                                                                                                   │ 2024-12-18 00:43:39.173-03 │\n",
       "│ § 275.0-5_P1 │ extract_p1 │ documents-2024-12-08-1.json │ {'id': 2, 'title': Submission of facts and hearing request, 'statement': Any interested person may, within the period of time specified therein, submit to the Commission in writing any facts bearing upon the desirability of a hearing on the matter and may request that a hearing be held, stating his reasons therefor and the nature of his interest in the matter., 'terms': [{'term': Interested person, 'classification': Common Noun, 'confidence': 0.9, 'reason': The term refers to any individual or entity with a stake in the proceeding., 'extracted_confidence': 0.9, 'extracted_reason': The term is explicitly mentioned as a participant in the process.}, {'term': Period of time, 'classification': Common Noun, 'confidence': 0.85, 'reason': The term refers to a duration within which actions must be taken., 'extracted_confidence': 0.85, 'extracted_reason': The term is used to specify the timeframe for submissions.}, {'term': Commission, 'classification': Proper Noun, 'confidence': 0.95, 'reason': The term refers to a specific regulatory body., 'extracted_confidence': 0.95, 'extracted_reason': The term is explicitly named as the recipient of submissions.}, {'term': Facts, 'classification': Common Noun, 'confidence': 0.8, 'reason': The term refers to information relevant to the proceeding., 'extracted_confidence': 0.8, 'extracted_reason': The term is central to the submission process.}, {'term': Hearing, 'classification': Common Noun, 'confidence': 0.85, 'reason': The term refers to a formal meeting or session., 'extracted_confidence': 0.85, 'extracted_reason': The term is a key part of the request process.}, {'term': Matter, 'classification': Common Noun, 'confidence': 0.8, 'reason': The term refers to the subject or issue at hand., 'extracted_confidence': 0.8, 'extracted_reason': The term is used to describe what the hearing will address.}, {'term': Reasons, 'classification': Common Noun, 'confidence': 0.8, 'reason': The term refers to justifications or explanations., 'extracted_confidence': 0.8, 'extracted_reason': The term is part of the requirement for requesting a hearing.}, {'term': Nature of interest, 'classification': Common Noun, 'confidence': 0.8, 'reason': The term describes the type or extent of interest in the matter., 'extracted_confidence': 0.8, 'extracted_reason': The term is required to be stated in the request.}], 'verb_symbols': [may submit, may request, stating], 'verb_symbols_extracted_confidence': [0.9, 0.9, 0.85], 'verb_symbols_extracted_reason': [The verb phrase describes the action of submitting facts., The verb phrase describes the action of requesting a hearing., The verb describes the action of providing reasons.], 'classification': Operative Rule, 'confidence': 0.9, 'reason': The statement outlines the rights and procedures for interested persons to submit facts and request a hearing., 'sources': [(a)]}                                                                                                                                                                                                                                                                                                                                                                                                                                                                                                                                                                                                                                                               │ 2024-12-18 00:43:39.173-03 │\n",
       "│ § 275.0-5_P1 │ extract_p1 │ documents-2024-12-08-1.json │ {'id': 3, 'title': Issuance of order disposing of the matter, 'statement': An order disposing of the matter will be issued as of course following the expiration of the period of time referred to in paragraph (a) of this section, unless the Commission thereafter orders a hearing on the matter., 'terms': [{'term': Order disposing of the matter, 'classification': Common Noun, 'confidence': 0.85, 'reason': The term describes a general legal outcome., 'extracted_confidence': 0.85, 'extracted_reason': The term is a key part of the procedure described.}, {'term': Order, 'classification': Common Noun, 'confidence': 0.85, 'reason': The term refers to a formal decision or directive., 'extracted_confidence': 0.85, 'extracted_reason': The term is a key outcome of the proceeding.}, {'term': Matter, 'classification': Common Noun, 'confidence': 0.8, 'reason': The term refers to the subject or issue at hand., 'extracted_confidence': 0.8, 'extracted_reason': The term is used to describe what the order will address.}, {'term': Period of time, 'classification': Common Noun, 'confidence': 0.85, 'reason': The term refers to a duration within which actions must be taken., 'extracted_confidence': 0.85, 'extracted_reason': The term is used to specify the timeframe for issuing the order.}, {'term': Commission, 'classification': Proper Noun, 'confidence': 0.95, 'reason': The term refers to a specific regulatory body., 'extracted_confidence': 0.95, 'extracted_reason': The term is explicitly named as the entity that may order a hearing.}, {'term': Hearing, 'classification': Common Noun, 'confidence': 0.85, 'reason': The term refers to a formal meeting or session., 'extracted_confidence': 0.85, 'extracted_reason': The term is a potential outcome if the Commission decides to order it.}], 'verb_symbols': [will be issued, orders], 'verb_symbols_extracted_confidence': [0.9, 0.9], 'verb_symbols_extracted_reason': [The verb phrase describes the action of issuing an order., The verb describes the action of ordering a hearing.], 'classification': Operative Rule, 'confidence': 0.9, 'reason': The statement prescribes the procedure for issuing an order unless a hearing is ordered., 'sources': [(b)]}                                                                                                                                                                                                                                                                                                                                                                                                                                                                                                                                                                                                                                                                                                                                                                                                                                                                                                                                                                                                                                                                                                                                                                                                                                                                                                                                                                 │ 2024-12-18 00:43:39.173-03 │\n",
       "│      ·       │     ·      │              ·              │                                                                                                                                                                                                                                                                                                                                                                                                                                                                                                                                                                                                                                                                                                                                                                                                                                                                                                                                                                                                                                                               ·                                                                                                                                                                                                                                                                                                                                                                                                                                                                                                                                                                                                                                                                                                                                                                                                                                                                                                                                                                                                                                                                                                                                                                                                                                                                                                                                                                                                                                                                                                                                                                                                                                                                                                                                                                                                                                                                                                                                                                                                                                                                                                                                                                                                                                                                                                                                                                                                                                                                                                                                                                                        │             ·              │\n",
       "│      ·       │     ·      │              ·              │                                                                                                                                                                                                                                                                                                                                                                                                                                                                                                                                                                                                                                                                                                                                                                                                                                                                                                                                                                                                                                                               ·                                                                                                                                                                                                                                                                                                                                                                                                                                                                                                                                                                                                                                                                                                                                                                                                                                                                                                                                                                                                                                                                                                                                                                                                                                                                                                                                                                                                                                                                                                                                                                                                                                                                                                                                                                                                                                                                                                                                                                                                                                                                                                                                                                                                                                                                                                                                                                                                                                                                                                                                                                                        │             ·              │\n",
       "│      ·       │     ·      │              ·              │                                                                                                                                                                                                                                                                                                                                                                                                                                                                                                                                                                                                                                                                                                                                                                                                                                                                                                                                                                                                                                                               ·                                                                                                                                                                                                                                                                                                                                                                                                                                                                                                                                                                                                                                                                                                                                                                                                                                                                                                                                                                                                                                                                                                                                                                                                                                                                                                                                                                                                                                                                                                                                                                                                                                                                                                                                                                                                                                                                                                                                                                                                                                                                                                                                                                                                                                                                                                                                                                                                                                                                                                                                                                                        │             ·              │\n",
       "│ § 275.0-7_P1 │ extract_p1 │ documents-2024-12-08-9.json │ {'id': 1, 'title': Definition of small business or small organization, 'statement': The term small business or small organization for purposes of the Investment Advisers Act of 1940 shall mean an investment adviser that has assets under management of less than $25 million, or such higher amount as the Commission may by rule deem appropriate., 'terms': [{'term': Small business, 'classification': Common Noun, 'confidence': 0.9, 'reason': The term is a general category defined by specific criteria., 'extracted_confidence': 0.9, 'extracted_reason': The term is explicitly defined in the document.}, {'term': Small organization, 'classification': Common Noun, 'confidence': 0.9, 'reason': The term is a general category defined by specific criteria., 'extracted_confidence': 0.9, 'extracted_reason': The term is explicitly defined in the document.}, {'term': Investment adviser, 'classification': Common Noun, 'confidence': 0.9, 'reason': The term is a specific role within the financial industry., 'extracted_confidence': 0.9, 'extracted_reason': The term is explicitly mentioned in the document.}, {'term': Assets under management, 'classification': Common Noun, 'confidence': 0.9, 'reason': The term is a financial metric used to define the size of an investment adviser., 'extracted_confidence': 0.9, 'extracted_reason': The term is explicitly mentioned in the document.}, {'term': Commission, 'classification': Proper Noun, 'confidence': 0.9, 'reason': The term refers to a specific regulatory body., 'extracted_confidence': 0.9, 'extracted_reason': The term is explicitly mentioned in the document.}], 'verb_symbols': [shall mean, has, deem], 'verb_symbols_extracted_confidence': [0.9, 0.9, 0.9], 'verb_symbols_extracted_reason': [The verb is used to define the term., The verb is used to describe possession., The verb is used to indicate judgment by the Commission.], 'classification': Fact Type, 'confidence': 0.9, 'reason': The statement provides a general definition applicable to entities meeting certain criteria., 'sources': [(a)]}                                                                                                                                                                                                                                                                                                                                                                                                                                                                                                                                                                                                                                                                                                                                                                                                                                                                                                                                                                                                                                                                                                                                                                                                                                                                                                                                                                                                                                                                                                                         │ 2024-12-18 00:43:39.611-03 │\n",
       "│ § 275.0-7_P1 │ extract_p1 │ documents-2024-12-08-9.json │ {'id': 2, 'title': Assets under management criterion, 'statement': An investment adviser has assets under management, as defined under Section 203A(a)(3) of the Act and reported on its annual updating amendment to Form ADV, of less than $25 million, or such higher amount as the Commission may by rule deem appropriate., 'terms': [{'term': Investment adviser, 'classification': Common Noun, 'confidence': 0.9, 'reason': The term is a specific role within the financial industry., 'extracted_confidence': 0.9, 'extracted_reason': The term is explicitly mentioned in the document.}, {'term': Assets under management, 'classification': Common Noun, 'confidence': 0.9, 'reason': The term is a financial metric used to define the size of an investment adviser., 'extracted_confidence': 0.9, 'extracted_reason': The term is explicitly mentioned in the document.}, {'term': Form ADV, 'classification': Proper Noun, 'confidence': 0.9, 'reason': The term refers to a specific regulatory form., 'extracted_confidence': 0.9, 'extracted_reason': The term is explicitly mentioned in the document.}, {'term': Commission, 'classification': Proper Noun, 'confidence': 0.9, 'reason': The term refers to a specific regulatory body., 'extracted_confidence': 0.9, 'extracted_reason': The term is explicitly mentioned in the document.}], 'verb_symbols': [has, defined, reported, deem], 'verb_symbols_extracted_confidence': [0.9, 0.9, 0.9, 0.9], 'verb_symbols_extracted_reason': [The verb is used to describe possession., The verb is used to reference a legal definition., The verb is used to indicate reporting requirements., The verb is used to indicate judgment by the Commission.], 'classification': Fact Type, 'confidence': 0.9, 'reason': The statement provides a criterion for classification as a small entity based on assets under management., 'sources': [(a)(1)]}                                                                                                                                                                                                                                                                                                                                                                                                                                                                                                                                                                                                                                                                                                                                                                                                                                                                                                                                                                                                                                                                                                                                                                                                                                                                                                                                                                                                                                                                                                                                                                                                                                                                                                                              │ 2024-12-18 00:43:39.611-03 │\n",
       "│ § 275.0-7_P1 │ extract_p1 │ documents-2024-12-08-9.json │ {'id': 3, 'title': Total assets criterion, 'statement': An investment adviser did not have total assets of $5 million or more on the last day of the most recent fiscal year., 'terms': [{'term': Investment adviser, 'classification': Common Noun, 'confidence': 0.9, 'reason': The term is a specific role within the financial industry., 'extracted_confidence': 0.9, 'extracted_reason': The term is explicitly mentioned in the document.}, {'term': Total assets, 'classification': Common Noun, 'confidence': 0.9, 'reason': The term is a financial metric used to define the size of an investment adviser., 'extracted_confidence': 0.9, 'extracted_reason': The term is explicitly mentioned in the document.}, {'term': Fiscal year, 'classification': Common Noun, 'confidence': 0.9, 'reason': The term refers to a specific accounting period., 'extracted_confidence': 0.9, 'extracted_reason': The term is explicitly mentioned in the document.}], 'verb_symbols': [did not have], 'verb_symbols_extracted_confidence': [0.9], 'verb_symbols_extracted_reason': [The verb is used to describe a condition that must not be met.], 'classification': Fact Type, 'confidence': 0.9, 'reason': The statement provides a criterion for classification as a small entity based on total assets., 'sources': [(a)(2)]}                                                                                                                                                                                                                                                                                                                                                                                                                                                                                                                                                                                                                                                                                                                                                                                                                                                                                                                                                                                                                                                                                                                                                                                                                                                                                                                                                                                                                                                                                                                                                                                                                                                                                                                                                                                                                                                                                                                                                                                                                                                                                                                                                                                                                                                                                                                   │ 2024-12-18 00:43:39.611-03 │\n",
       "│ § 275.0-7_P1 │ extract_p1 │ documents-2024-12-08-9.json │ {'id': 4, 'title': Control relationship criterion, 'statement': An investment adviser does not control, is not controlled by, and is not under common control with another investment adviser that has assets under management of $25 million or more, or any person (other than a natural person) that had total assets of $5 million or more on the last day of the most recent fiscal year., 'terms': [{'term': Investment adviser, 'classification': Common Noun, 'confidence': 0.9, 'reason': The term is a specific role within the financial industry., 'extracted_confidence': 0.9, 'extracted_reason': The term is explicitly mentioned in the document.}, {'term': Control, 'classification': Common Noun, 'confidence': 0.9, 'reason': The term refers to a power relationship between entities., 'extracted_confidence': 0.9, 'extracted_reason': The term is explicitly mentioned in the document.}, {'term': Assets under management, 'classification': Common Noun, 'confidence': 0.9, 'reason': The term is a financial metric used to define the size of an investment adviser., 'extracted_confidence': 0.9, 'extracted_reason': The term is explicitly mentioned in the document.}, {'term': Person, 'classification': Common Noun, 'confidence': 0.9, 'reason': The term refers to an entity other than a natural person., 'extracted_confidence': 0.9, 'extracted_reason': The term is explicitly mentioned in the document.}, {'term': Natural person, 'classification': Common Noun, 'confidence': 0.9, 'reason': The term refers to an individual human being., 'extracted_confidence': 0.9, 'extracted_reason': The term is explicitly mentioned in the document.}, {'term': Fiscal year, 'classification': Common Noun, 'confidence': 0.9, 'reason': The term refers to a specific accounting period., 'extracted_confidence': 0.9, 'extracted_reason': The term is explicitly mentioned in the document.}], 'verb_symbols': [does not control, is not controlled by, is not under common control with, has, had], 'verb_symbols_extracted_confidence': [0.9, 0.9, 0.9, 0.9, 0.9], 'verb_symbols_extracted_reason': [The verb is used to describe a condition that must not be met., The verb is used to describe a condition that must not be met., The verb is used to describe a condition that must not be met., The verb is used to describe possession., The verb is used to describe a past condition.], 'classification': Fact Type, 'confidence': 0.9, 'reason': The statement provides a criterion for classification as a small entity based on control relationships., 'sources': [(a)(3)]}                                                                                                                                                                                                                                                                                                                                                                                                                                                                                                                                                                                                                                                                                                                                                                                                                                                                                                                                                                                                                      │ 2024-12-18 00:43:39.611-03 │\n",
       "│ § 275.0-7_P1 │ extract_p1 │ documents-2024-12-08-9.json │ {'id': 5, 'title': Definition of control, 'statement': Control means the power, directly or indirectly, to direct the management or policies of a person, whether through ownership of securities, by contract, or otherwise., 'terms': [{'term': Securities, 'classification': Common Noun, 'confidence': 0.9, 'reason': The term refers to financial instruments that hold some type of monetary value., 'extracted_confidence': 0.9, 'extracted_reason': The term is explicitly mentioned in the document.}, {'term': Control, 'classification': Common Noun, 'confidence': 0.9, 'reason': The term refers to a power relationship between entities., 'extracted_confidence': 0.9, 'extracted_reason': The term is explicitly defined in the document.}, {'term': Power, 'classification': Common Noun, 'confidence': 0.9, 'reason': The term refers to the ability to influence or direct behavior., 'extracted_confidence': 0.9, 'extracted_reason': The term is explicitly mentioned in the document.}, {'term': Management, 'classification': Common Noun, 'confidence': 0.9, 'reason': The term refers to the process of dealing with or controlling things or people., 'extracted_confidence': 0.9, 'extracted_reason': The term is explicitly mentioned in the document.}, {'term': Policies, 'classification': Common Noun, 'confidence': 0.9, 'reason': The term refers to a course or principle of action adopted or proposed by an organization or individual., 'extracted_confidence': 0.9, 'extracted_reason': The term is explicitly mentioned in the document.}, {'term': Person, 'classification': Common Noun, 'confidence': 0.9, 'reason': The term refers to an entity other than a natural person., 'extracted_confidence': 0.9, 'extracted_reason': The term is explicitly mentioned in the document.}, {'term': Ownership of securities, 'classification': Common Noun, 'confidence': 0.9, 'reason': The term refers to holding legal title to financial instruments., 'extracted_confidence': 0.9, 'extracted_reason': The term is explicitly mentioned in the document.}, {'term': Contract, 'classification': Common Noun, 'confidence': 0.9, 'reason': The term refers to a written or spoken agreement that is intended to be enforceable by law., 'extracted_confidence': 0.9, 'extracted_reason': The term is explicitly mentioned in the document.}], 'verb_symbols': [means, to direct], 'verb_symbols_extracted_confidence': [0.9, 0.9], 'verb_symbols_extracted_reason': [The verb is used to define the term., The verb is used to describe the action of control.], 'classification': Fact Type, 'confidence': 0.9, 'reason': The statement provides a definition of control applicable to the context of the document., 'sources': [(b)(1)]}                                                                                                                                                                                                                                                                                                                                                                                                                                                                                                                                                                                                                                                                                                                                                                                                                                                                    │ 2024-12-18 00:43:39.611-03 │\n",
       "│ § 275.0-7_P1 │ extract_p1 │ documents-2024-12-08-9.json │ {'id': 6, 'title': Presumption of control over a corporation, 'statement': A person is presumed to control a corporation if the person directly or indirectly has the right to vote 25 percent or more of a class of the corporation's voting securities., 'terms': [{'term': Person, 'classification': Common Noun, 'confidence': 0.9, 'reason': The term refers to an entity other than a natural person., 'extracted_confidence': 0.9, 'extracted_reason': The term is explicitly mentioned in the document.}, {'term': Corporation, 'classification': Common Noun, 'confidence': 0.9, 'reason': The term refers to a company or group of people authorized to act as a single entity., 'extracted_confidence': 0.9, 'extracted_reason': The term is explicitly mentioned in the document.}, {'term': Right to vote, 'classification': Common Noun, 'confidence': 0.9, 'reason': The term refers to the legal entitlement to participate in decision-making processes., 'extracted_confidence': 0.9, 'extracted_reason': The term is explicitly mentioned in the document.}, {'term': Voting securities, 'classification': Common Noun, 'confidence': 0.9, 'reason': The term refers to financial instruments that give the holder the right to vote on corporate matters., 'extracted_confidence': 0.9, 'extracted_reason': The term is explicitly mentioned in the document.}], 'verb_symbols': [is presumed to control, has], 'verb_symbols_extracted_confidence': [0.9, 0.9], 'verb_symbols_extracted_reason': [The verb is used to describe a presumption of control., The verb is used to describe possession.], 'classification': Fact Type, 'confidence': 0.9, 'reason': The statement provides a presumption of control based on voting rights in a corporation., 'sources': [(b)(1)(i)(A)]}                                                                                                                                                                                                                                                                                                                                                                                                                                                                                                                                                                                                                                                                                                                                                                                                                                                                                                                                                                                                                                                                                                                                                                                                                                                                                                                                                                                                                                                                                                                                                                                                                                                                                                                                                                                                                                               │ 2024-12-18 00:43:39.611-03 │\n",
       "│ § 275.0-7_P1 │ extract_p1 │ documents-2024-12-08-9.json │ {'id': 7, 'title': Presumption of control over a partnership, 'statement': A person is presumed to control a partnership if the person has the right to receive upon dissolution, or has contributed, 25 percent or more of the capital of the partnership., 'terms': [{'term': Dissolution, 'classification': Common Noun, 'confidence': 0.9, 'reason': The term refers to the closing down or dismissal of an assembly, partnership, or official body., 'extracted_confidence': 0.9, 'extracted_reason': The term is explicitly mentioned in the document.}, {'term': Person, 'classification': Common Noun, 'confidence': 0.9, 'reason': The term refers to an entity other than a natural person., 'extracted_confidence': 0.9, 'extracted_reason': The term is explicitly mentioned in the document.}, {'term': Partnership, 'classification': Common Noun, 'confidence': 0.9, 'reason': The term refers to a legal form of business operation between two or more individuals who share management and profits., 'extracted_confidence': 0.9, 'extracted_reason': The term is explicitly mentioned in the document.}, {'term': Right to receive upon dissolution, 'classification': Common Noun, 'confidence': 0.9, 'reason': The term refers to the entitlement to assets when a partnership is dissolved., 'extracted_confidence': 0.9, 'extracted_reason': The term is explicitly mentioned in the document.}, {'term': Capital, 'classification': Common Noun, 'confidence': 0.9, 'reason': The term refers to financial assets or the financial value of assets., 'extracted_confidence': 0.9, 'extracted_reason': The term is explicitly mentioned in the document.}], 'verb_symbols': [is presumed to control, has, has contributed], 'verb_symbols_extracted_confidence': [0.9, 0.9, 0.9], 'verb_symbols_extracted_reason': [The verb is used to describe a presumption of control., The verb is used to describe possession., The verb is used to describe contribution.], 'classification': Fact Type, 'confidence': 0.9, 'reason': The statement provides a presumption of control based on capital contribution in a partnership., 'sources': [(b)(1)(ii)]}                                                                                                                                                                                                                                                                                                                                                                                                                                                                                                                                                                                                                                                                                                                                                                                                                                                                                                                                                                                                                                                                                                                                                                                                                                                                                                                                                                                                                                                                          │ 2024-12-18 00:43:39.611-03 │\n",
       "│ § 275.0-7_P1 │ extract_p1 │ documents-2024-12-08-9.json │ {'id': 8, 'title': Presumption of control over an LLC, 'statement': A person is presumed to control a limited liability company (LLC) if the person directly or indirectly has the right to vote 25 percent or more of a class of the interests of the LLC, has the right to receive upon dissolution, or has contributed, 25 percent or more of the capital of the LLC, or is an elected manager of the LLC., 'terms': [{'term': Interests of the LLC, 'classification': Common Noun, 'confidence': 0.8, 'reason': The term refers to ownership stakes in the LLC., 'extracted_confidence': 0.8, 'extracted_reason': The term is mentioned as part of the presumption.}, {'term': Person, 'classification': Common Noun, 'confidence': 0.9, 'reason': The term refers to an entity other than a natural person., 'extracted_confidence': 0.9, 'extracted_reason': The term is explicitly mentioned in the document.}, {'term': Limited liability company (LLC), 'classification': Common Noun, 'confidence': 0.9, 'reason': The term refers to a business structure that combines the pass-through taxation of a partnership with the limited liability of a corporation., 'extracted_confidence': 0.9, 'extracted_reason': The term is explicitly mentioned in the document.}, {'term': Right to vote, 'classification': Common Noun, 'confidence': 0.9, 'reason': The term refers to the legal entitlement to participate in decision-making processes., 'extracted_confidence': 0.9, 'extracted_reason': The term is explicitly mentioned in the document.}, {'term': Right to receive upon dissolution, 'classification': Common Noun, 'confidence': 0.9, 'reason': The term refers to the entitlement to assets when an LLC is dissolved., 'extracted_confidence': 0.9, 'extracted_reason': The term is explicitly mentioned in the document.}, {'term': Capital, 'classification': Common Noun, 'confidence': 0.9, 'reason': The term refers to financial assets or the financial value of assets., 'extracted_confidence': 0.9, 'extracted_reason': The term is explicitly mentioned in the document.}, {'term': Elected manager, 'classification': Common Noun, 'confidence': 0.9, 'reason': The term refers to an individual chosen to manage an LLC., 'extracted_confidence': 0.9, 'extracted_reason': The term is explicitly mentioned in the document.}], 'verb_symbols': [is presumed to control, has, has contributed, is], 'verb_symbols_extracted_confidence': [0.9, 0.9, 0.9, 0.9], 'verb_symbols_extracted_reason': [The verb is used to describe a presumption of control., The verb is used to describe possession., The verb is used to describe contribution., The verb is used to describe a state of being.], 'classification': Fact Type, 'confidence': 0.9, 'reason': The statement provides a presumption of control based on voting rights, capital contribution, or management role in an LLC., 'sources': [(b)(1)(iii)]}                                                                                                                                                                                                                                                                                                                                                                                                                                                                                                                                                                                                                                                                                                │ 2024-12-18 00:43:39.611-03 │\n",
       "│ § 275.0-7_P1 │ extract_p1 │ documents-2024-12-08-9.json │ {'id': 9, 'title': Presumption of control over a trust, 'statement': A person is presumed to control a trust if the person is a trustee or managing agent of the trust., 'terms': [{'term': Person, 'classification': Common Noun, 'confidence': 0.9, 'reason': The term refers to an entity other than a natural person., 'extracted_confidence': 0.9, 'extracted_reason': The term is explicitly mentioned in the document.}, {'term': Trust, 'classification': Common Noun, 'confidence': 0.9, 'reason': The term refers to a fiduciary relationship in which one party holds legal title to property for the benefit of another., 'extracted_confidence': 0.9, 'extracted_reason': The term is explicitly mentioned in the document.}, {'term': Trustee, 'classification': Common Noun, 'confidence': 0.9, 'reason': The term refers to an individual or organization that holds or manages and invests assets for the benefit of another., 'extracted_confidence': 0.9, 'extracted_reason': The term is explicitly mentioned in the document.}, {'term': Managing agent, 'classification': Common Noun, 'confidence': 0.9, 'reason': The term refers to an individual or entity responsible for managing the affairs of a trust., 'extracted_confidence': 0.9, 'extracted_reason': The term is explicitly mentioned in the document.}], 'verb_symbols': [is presumed to control, is], 'verb_symbols_extracted_confidence': [0.9, 0.9], 'verb_symbols_extracted_reason': [The verb is used to describe a presumption of control., The verb is used to describe a state of being.], 'classification': Fact Type, 'confidence': 0.9, 'reason': The statement provides a presumption of control based on the role of trustee or managing agent in a trust., 'sources': [(b)(1)(iv)]}                                                                                                                                                                                                                                                                                                                                                                                                                                                                                                                                                                                                                                                                                                                                                                                                                                                                                                                                                                                                                                                                                                                                                                                                                                                                                                                                                                                                                                                                                                                                                                                                                                                                                                                                                                                                                                                                  │ 2024-12-18 00:43:39.611-03 │\n",
       "│ § 275.0-7_P1 │ extract_p1 │ documents-2024-12-08-9.json │ {'id': 10, 'title': Definition of total assets, 'statement': Total assets means the total assets as shown on the balance sheet of the investment adviser or other person described above under paragraph (a)(3) of this section, or the balance sheet of the investment adviser or such other person with its subsidiaries consolidated, whichever is larger., 'terms': [{'term': Total assets, 'classification': Common Noun, 'confidence': 0.9, 'reason': The term refers to the sum of all assets owned by an entity., 'extracted_confidence': 0.9, 'extracted_reason': The term is explicitly defined in the document.}, {'term': Balance sheet, 'classification': Common Noun, 'confidence': 0.9, 'reason': The term refers to a financial statement that summarizes an entity's assets, liabilities, and shareholders' equity., 'extracted_confidence': 0.9, 'extracted_reason': The term is explicitly mentioned in the document.}, {'term': Investment adviser, 'classification': Common Noun, 'confidence': 0.9, 'reason': The term is a specific role within the financial industry., 'extracted_confidence': 0.9, 'extracted_reason': The term is explicitly mentioned in the document.}, {'term': Person, 'classification': Common Noun, 'confidence': 0.9, 'reason': The term refers to an entity other than a natural person., 'extracted_confidence': 0.9, 'extracted_reason': The term is explicitly mentioned in the document.}, {'term': Subsidiaries, 'classification': Common Noun, 'confidence': 0.9, 'reason': The term refers to companies controlled by a parent company., 'extracted_confidence': 0.9, 'extracted_reason': The term is explicitly mentioned in the document.}], 'verb_symbols': [means, shown], 'verb_symbols_extracted_confidence': [0.9, 0.9], 'verb_symbols_extracted_reason': [The verb is used to define the term., The verb is used to describe the presentation of financial data.], 'classification': Fact Type, 'confidence': 0.9, 'reason': The statement provides a definition of total assets applicable to the context of the document., 'sources': [(b)(2)]}                                                                                                                                                                                                                                                                                                                                                                                                                                                                                                                                                                                                                                                                                                                                                                                                                                                                                                                                                                                                                                                                                                                                                                                                                                                                                                                                                                                                                                                                                                                                    │ 2024-12-18 00:43:39.611-03 │\n",
       "├──────────────┴────────────┴─────────────────────────────┴────────────────────────────────────────────────────────────────────────────────────────────────────────────────────────────────────────────────────────────────────────────────────────────────────────────────────────────────────────────────────────────────────────────────────────────────────────────────────────────────────────────────────────────────────────────────────────────────────────────────────────────────────────────────────────────────────────────────────────────────────────────────────────────────────────────────────────────────────────────────────────────────────────────────────────────────────────────────────────────────────────────────────────────────────────────────────────────────────────────────────────────────────────────────────────────────────────────────────────────────────────────────────────────────────────────────────────────────────────────────────────────────────────────────────────────────────────────────────────────────────────────────────────────────────────────────────────────────────────────────────────────────────────────────────────────────────────────────────────────────────────────────────────────────────────────────────────────────────────────────────────────────────────────────────────────────────────────────────────────────────────────────────────────────────────────────────────────────────────────────────────────────────────────────────────────────────────────────────────────────────────────────────────────────────────────────────────────────────────────────────────────────────────────────────────────────────────────────────────────────────────────────────────────────────────────────────────────────────────────────────────────────────────────────────────────────────────────────────────────────────────────────────────────────────────────────────────────────────────────────────────────────────────────────────────────────────────────────────────────────────────────────────────────────────────────────────────────────────────────────────────────────────────────────────────────────────────────────────────────────────────────────────────────────────────────────────────────────────────────────────────────────────────────────────────────────────────────────────────────────────────────────────────────────────────────────────────────────────────────────────────────────────────────────────────────────────────────────────────────────────────────────────────────────────────────────────────────────────────────────────────────────────────────────────────────────────────────────────────────────────────────────────────────────────────────────────────────────────────────────────────────────────────────────────────────────────────────────────────────────────────────────────────────────────────────────────────────────────────────────────────────────────────────────────────────────────────────────────────────────────────────────────────────────────────────────────────────────────────────────────────────────────────────────────────────────────────────────────────────────────────────────────────────────────────────────────────────────────────────────────────────────────────────────────────────────────────────────────────────────────────────────────────────────────────────────────────────────────────────────────────────────────────────────────────────────────────────────────────────────────────────────────────────────────────────────────────────────────────────────────────────────────────────────────────────────────────────────────────┴────────────────────────────┤\n",
       "│ 220 rows (20 shown)                                                                                                                                                                                                                                                                                                                                                                                                                                                                                                                                                                                                                                                                                                                                                                                                                                                                                                                                                                                                                                                                                                                                                                                                                                                                                                                                                                                                                                                                                                                                                                                                                                                                                                                                                                                                                                                                                                                                                                                                                                                                                                                                                                                                                                                                                                                                                                                                                                                                                                                                                                                                                                                                                                                                                                                                                                                                                                                                                                                                                                                                                                                                                                                                                                                                                                                                                                                                                                                                                                                                                                                                                                                                                                                 5 columns │\n",
       "└───────────────────────────────────────────────────────────────────────────────────────────────────────────────────────────────────────────────────────────────────────────────────────────────────────────────────────────────────────────────────────────────────────────────────────────────────────────────────────────────────────────────────────────────────────────────────────────────────────────────────────────────────────────────────────────────────────────────────────────────────────────────────────────────────────────────────────────────────────────────────────────────────────────────────────────────────────────────────────────────────────────────────────────────────────────────────────────────────────────────────────────────────────────────────────────────────────────────────────────────────────────────────────────────────────────────────────────────────────────────────────────────────────────────────────────────────────────────────────────────────────────────────────────────────────────────────────────────────────────────────────────────────────────────────────────────────────────────────────────────────────────────────────────────────────────────────────────────────────────────────────────────────────────────────────────────────────────────────────────────────────────────────────────────────────────────────────────────────────────────────────────────────────────────────────────────────────────────────────────────────────────────────────────────────────────────────────────────────────────────────────────────────────────────────────────────────────────────────────────────────────────────────────────────────────────────────────────────────────────────────────────────────────────────────────────────────────────────────────────────────────────────────────────────────────────────────────────────────────────────────────────────────────────────────────────────────────────────────────────────────────────────────────────────────────────────────────────────────────────────────────────────────────────────────────────────────────────────────────────────────────────────────────────────────────────────────────────────────────────────────────────────────────────────────────────────────────────────────────────────────────────────────────────────────────────────────────────────────────────────────────────────────────────────────────────────────────────────────────────────────────────────────────────────────────────────────────────────────────────────────────────────────────────────────────────────────────────────────────────────────────────────────────────────────────────────────────────────────────────────────────────────────────────────────────────────────────────────────────────────────────────────────────────────────────────────────────────────────────────────────────────────────────────────────────────────────────────────────────────────────────────────────────────────────────────────────────────────────────────────────────────────────────────────────────────────────────────────────────────────────────────────────────────────────────────────────────────────────────────────────────────────────────────────────────────────────────────────────────────────────────────────────────────────────────────────────────────────────────────────────────────────────────────────────────────────────────────────────────────────────────────────────────────────────────────────────────────────────────────────────────────────────────────────────────────────────────────────────────────────────────────────────────────────────────────────────────────────────────────────┘"
      ]
     },
     "execution_count": 88,
     "metadata": {},
     "output_type": "execute_result"
    }
   ],
   "source": [
    "query = \"\"\"\n",
    "SELECT * FROM RAW_SECTION_P1_EXTRACTED_ELEMENTS;\n",
    "\"\"\"\n",
    "\n",
    "conn.sql(query)"
   ]
  },
  {
   "cell_type": "markdown",
   "metadata": {},
   "source": [
    "Total verb symbols extracted"
   ]
  },
  {
   "cell_type": "code",
   "execution_count": 89,
   "metadata": {},
   "outputs": [
    {
     "data": {
      "text/plain": [
       "┌─────────────┐\n",
       "│ total_verbs │\n",
       "│    int64    │\n",
       "├─────────────┤\n",
       "│         610 │\n",
       "└─────────────┘"
      ]
     },
     "execution_count": 89,
     "metadata": {},
     "output_type": "execute_result"
    }
   ],
   "source": [
    "query = \"\"\"\n",
    "SELECT\n",
    "    COUNT(verb) AS total_verbs\n",
    "FROM (\n",
    "    SELECT\n",
    "        UNNEST(CAST(json_extract(elements, '$.verb_symbols') AS VARCHAR[])) AS verb\n",
    "    FROM\n",
    "        RAW_SECTION_P1_EXTRACTED_ELEMENTS\n",
    ") AS flattened_verbs;\n",
    "\"\"\"\n",
    "\n",
    "conn.sql(query)"
   ]
  },
  {
   "cell_type": "markdown",
   "metadata": {},
   "source": [
    "distinct verb symbols"
   ]
  },
  {
   "cell_type": "code",
   "execution_count": 90,
   "metadata": {},
   "outputs": [
    {
     "data": {
      "text/plain": [
       "┌──────────────────────┐\n",
       "│ distinct_verbs_count │\n",
       "│        int64         │\n",
       "├──────────────────────┤\n",
       "│                   43 │\n",
       "└──────────────────────┘"
      ]
     },
     "execution_count": 90,
     "metadata": {},
     "output_type": "execute_result"
    }
   ],
   "source": [
    "query = \"\"\"\n",
    "SELECT\n",
    "    COUNT(DISTINCT verb) AS distinct_verbs_count\n",
    "FROM (\n",
    "    SELECT\n",
    "        UNNEST(CAST(json_extract(elements, '$.verb_symbols') AS VARCHAR[])) AS verb\n",
    "    FROM\n",
    "        RAW_SECTION_P1_EXTRACTED_ELEMENTS\n",
    ") AS flattened_verbs;\n",
    "\"\"\"\n",
    "\n",
    "conn.sql(query)"
   ]
  },
  {
   "cell_type": "markdown",
   "metadata": {},
   "source": [
    "Distinct verb symbols with doc_id and source"
   ]
  },
  {
   "cell_type": "code",
   "execution_count": 91,
   "metadata": {},
   "outputs": [
    {
     "data": {
      "text/plain": [
       "┌────────────────────────┬──────────────┬──────────────────┐\n",
       "│          verb          │    doc_id    │      source      │\n",
       "│        varchar         │   varchar    │     varchar      │\n",
       "├────────────────────────┼──────────────┼──────────────────┤\n",
       "│ orders                 │ § 275.0-5_P1 │ [\"(b)\"]          │\n",
       "│ had                    │ § 275.0-7_P1 │ [\"(a)(3)\"]       │\n",
       "│ has                    │ § 275.0-7_P1 │ [\"(b)(1)(ii)\"]   │\n",
       "│ means                  │ § 275.0-7_P1 │ [\"(b)(2)\"]       │\n",
       "│ shown                  │ § 275.0-7_P1 │ [\"(b)(2)\"]       │\n",
       "│ will forward           │ § 275.0-2_P1 │ [\"(a)(2)\"]       │\n",
       "│ forwarded              │ § 275.0-2_P1 │ [\"(a)(3)\"]       │\n",
       "│ manages                │ § 275.0-2_P1 │ [\"(b)(1)\"]       │\n",
       "│ means                  │ § 275.0-2_P1 │ [\"(b)(2)\"]       │\n",
       "│ resides                │ § 275.0-2_P1 │ [\"(b)(2)\"]       │\n",
       "│  ·                     │      ·       │     ·            │\n",
       "│  ·                     │      ·       │     ·            │\n",
       "│  ·                     │      ·       │     ·            │\n",
       "│ with                   │ § 275.0-2_P1 │ [\"(a)(1)\"]       │\n",
       "│ at                     │ § 275.0-2_P1 │ [\"(a)(2)\"]       │\n",
       "│ was served             │ § 275.0-2_P1 │ [\"(a)(3)\"]       │\n",
       "│ may submit             │ § 275.0-5_P1 │ [\"(a)\"]          │\n",
       "│ is appropriate         │ § 275.0-5_P1 │ [\"(c)\"]          │\n",
       "│ has                    │ § 275.0-7_P1 │ [\"(a)\"]          │\n",
       "│ did not have           │ § 275.0-7_P1 │ [\"(a)(2)\"]       │\n",
       "│ has                    │ § 275.0-7_P1 │ [\"(a)(3)\"]       │\n",
       "│ is presumed to control │ § 275.0-7_P1 │ [\"(b)(1)(i)(A)\"] │\n",
       "│ has contributed        │ § 275.0-7_P1 │ [\"(b)(1)(iii)\"]  │\n",
       "├────────────────────────┴──────────────┴──────────────────┤\n",
       "│ 61 rows (20 shown)                             3 columns │\n",
       "└──────────────────────────────────────────────────────────┘"
      ]
     },
     "execution_count": 91,
     "metadata": {},
     "output_type": "execute_result"
    }
   ],
   "source": [
    "query = \"\"\"\n",
    "SELECT DISTINCT\n",
    "    verb,\n",
    "    doc_id,\n",
    "    source\n",
    "FROM (\n",
    "    SELECT\n",
    "        UNNEST(CAST(json_extract(elements, '$.verb_symbols') AS VARCHAR[])) AS verb,\n",
    "        id AS doc_id,\n",
    "        CAST(json_extract(elements, '$.sources') AS VARCHAR) AS source\n",
    "    FROM\n",
    "        RAW_SECTION_P1_EXTRACTED_ELEMENTS\n",
    ") AS distinct_combinations;\n",
    "\"\"\"\n",
    "\n",
    "#pred_values=duckdb.sql(query).fetchall()\n",
    "\n",
    "conn.sql(query)\n",
    "\n"
   ]
  },
  {
   "cell_type": "markdown",
   "metadata": {},
   "source": [
    "Verb symbols with doc_id and source for evaluation"
   ]
  },
  {
   "cell_type": "code",
   "execution_count": 92,
   "metadata": {},
   "outputs": [
    {
     "data": {
      "text/plain": [
       "┌────────────────────────┬──────────────┬─────────────────┐\n",
       "│          verb          │    doc_id    │     source      │\n",
       "│        varchar         │   varchar    │     varchar     │\n",
       "├────────────────────────┼──────────────┼─────────────────┤\n",
       "│ serve                  │ § 275.0-2_P1 │ [\"(a)\"]         │\n",
       "│ by serving             │ § 275.0-2_P1 │ [\"(a)\"]         │\n",
       "│ serve                  │ § 275.0-2_P1 │ [\"(a)(1)\"]      │\n",
       "│ by furnishing          │ § 275.0-2_P1 │ [\"(a)(1)\"]      │\n",
       "│ with                   │ § 275.0-2_P1 │ [\"(a)(1)\"]      │\n",
       "│ will forward           │ § 275.0-2_P1 │ [\"(a)(2)\"]      │\n",
       "│ by                     │ § 275.0-2_P1 │ [\"(a)(2)\"]      │\n",
       "│ at                     │ § 275.0-2_P1 │ [\"(a)(2)\"]      │\n",
       "│ certifies              │ § 275.0-2_P1 │ [\"(a)(3)\"]      │\n",
       "│ was served             │ § 275.0-2_P1 │ [\"(a)(3)\"]      │\n",
       "│  ·                     │      ·       │     ·           │\n",
       "│  ·                     │      ·       │     ·           │\n",
       "│  ·                     │      ·       │     ·           │\n",
       "│ has                    │ § 275.0-7_P1 │ [\"(b)(1)(ii)\"]  │\n",
       "│ has contributed        │ § 275.0-7_P1 │ [\"(b)(1)(ii)\"]  │\n",
       "│ is presumed to control │ § 275.0-7_P1 │ [\"(b)(1)(iii)\"] │\n",
       "│ has                    │ § 275.0-7_P1 │ [\"(b)(1)(iii)\"] │\n",
       "│ has contributed        │ § 275.0-7_P1 │ [\"(b)(1)(iii)\"] │\n",
       "│ is                     │ § 275.0-7_P1 │ [\"(b)(1)(iii)\"] │\n",
       "│ is presumed to control │ § 275.0-7_P1 │ [\"(b)(1)(iv)\"]  │\n",
       "│ is                     │ § 275.0-7_P1 │ [\"(b)(1)(iv)\"]  │\n",
       "│ means                  │ § 275.0-7_P1 │ [\"(b)(2)\"]      │\n",
       "│ shown                  │ § 275.0-7_P1 │ [\"(b)(2)\"]      │\n",
       "├────────────────────────┴──────────────┴─────────────────┤\n",
       "│ 610 rows (20 shown)                           3 columns │\n",
       "└─────────────────────────────────────────────────────────┘"
      ]
     },
     "execution_count": 92,
     "metadata": {},
     "output_type": "execute_result"
    }
   ],
   "source": [
    "query = \"\"\"\n",
    "SELECT\n",
    "    verb,\n",
    "    doc_id,\n",
    "    source\n",
    "FROM (\n",
    "    SELECT\n",
    "        UNNEST(CAST(json_extract(elements, '$.verb_symbols') AS VARCHAR[])) AS verb,\n",
    "        id AS doc_id,\n",
    "        CAST(json_extract(elements, '$.sources') AS VARCHAR) AS source\n",
    "    FROM\n",
    "        RAW_SECTION_P1_EXTRACTED_ELEMENTS\n",
    ") AS distinct_combinations;\n",
    "\"\"\"\n",
    "\n",
    "section_p1_extracted_elements_pred_values=conn.sql(query).fetchall()\n",
    "\n",
    "conn.sql(query)\n",
    "\n"
   ]
  },
  {
   "cell_type": "markdown",
   "metadata": {},
   "source": [
    "### Extract Terms and Names definitions (P2)"
   ]
  },
  {
   "cell_type": "markdown",
   "metadata": {},
   "source": [
    "True table"
   ]
  },
  {
   "cell_type": "code",
   "execution_count": 25,
   "metadata": {},
   "outputs": [
    {
     "name": "stdout",
     "output_type": "stream",
     "text": [
      "§ 275.0-2_P2|true_table\n",
      "§ 275.0-5_P2|true_table\n",
      "§ 275.0-7_P2|true_table\n",
      "_query_drop_table='\\n        DROP TABLE IF EXISTS RAW_SECTION_P2_EXTRACTED_NOUN_TRUE;\\n        '\n",
      "Trying to drop table because drop parameter is True\n",
      "Table RAW_SECTION_P2_EXTRACTED_NOUN_TRUE dropped\n",
      "_query_insert_data='\\n    INSERT INTO RAW_SECTION_P2_EXTRACTED_NOUN_TRUE (id, prompt, file_source, terms, created_at)\\n    SELECT \\n        id, \\n        \\'extract_p2\\' as prompt, \\n        \\'documents_true_table.json\\' as file_source, \\n        unnest(content.terms) as terms,\\n        now() as created_at\\n    FROM \\n        read_json_auto(\"temp/documents_true_table.json\");\\n    '\n",
      "Trying to insert into RAW_SECTION_P2_EXTRACTED_NOUN_TRUE\n",
      "Catalog Error: Table with name RAW_SECTION_P2_EXTRACTED_NOUN_TRUE does not exist!\n",
      "Did you mean \"database_v3.RAW_SECTION_P2_EXTRACTED_NOUN_TRUE\"?\n",
      "Failed to insert, trying create RAW_SECTION_P2_EXTRACTED_NOUN_TRUE\n",
      "_query_create_table='\\n        CREATE TABLE RAW_SECTION_P2_EXTRACTED_NOUN_TRUE AS\\n        SELECT id, \\n        \\'extract_p2\\' as prompt, \\n        \\'documents_true_table.json\\' as file_source, \\n        unnest(content.terms) as terms,\\n        now() as \\'created_at\\'\\n        FROM read_json_auto(\"temp/documents_true_table.json\");\\n        '\n",
      "Table RAW_SECTION_P2_EXTRACTED_NOUN_TRUE created and loaded.\n"
     ]
    },
    {
     "data": {
      "text/plain": [
       "True"
      ]
     },
     "execution_count": 25,
     "metadata": {},
     "output_type": "execute_result"
    }
   ],
   "source": [
    "upsert_table_from_json(\n",
    "    conn,\n",
    "    suffix_key_pattern=\"_P2|true_table\",\n",
    "    prefix_key_pattern=\"§\",\n",
    "    table_name=\"RAW_SECTION_P2_EXTRACTED_NOUN_TRUE\",\n",
    "    source=\"cfr2sbvr_db/true/documents_true_table.json\",\n",
    "    key_value=\"extract_p2\",\n",
    "    drop=True,\n",
    "    content_key=\"content.terms\",\n",
    "    alias=\"terms\",\n",
    "    doc_id_key=\"id\"\n",
    ")"
   ]
  },
  {
   "cell_type": "code",
   "execution_count": 26,
   "metadata": {},
   "outputs": [
    {
     "data": {
      "text/plain": [
       "┌──────────────┬────────────┬───────────────────────────┬──────────────────────────────────────────────────────────────────────────────────────────────────────────────────────────────────────────────────────────────────────────────────────────────────────────────────────────────────────────────────────────────────────────────────────────────┬────────────────────────────┐\n",
       "│      id      │   prompt   │        file_source        │                                                                                                                                            terms                                                                                                                                             │         created_at         │\n",
       "│   varchar    │  varchar   │          varchar          │                                                                                                                struct(term varchar, definition varchar, islocalscope boolean)                                                                                                                │  timestamp with time zone  │\n",
       "├──────────────┼────────────┼───────────────────────────┼──────────────────────────────────────────────────────────────────────────────────────────────────────────────────────────────────────────────────────────────────────────────────────────────────────────────────────────────────────────────────────────────────────────────────────────────┼────────────────────────────┤\n",
       "│ § 275.0-2_P2 │ extract_p2 │ documents_true_table.json │ {'term': Last address, 'definition': NULL, 'isLocalScope': false}                                                                                                                                                                                                                            │ 2024-12-18 00:39:37.096-03 │\n",
       "│ § 275.0-2_P2 │ extract_p2 │ documents_true_table.json │ {'term': Commission's records, 'definition': Records maintained by the Commission, which include copies of process, pleadings, or other papers served., 'isLocalScope': true}                                                                                                                │ 2024-12-18 00:39:37.096-03 │\n",
       "│ § 275.0-2_P2 │ extract_p2 │ documents_true_table.json │ {'term': Earliest date, 'definition': The earliest date upon which an order disposing of the matter may be entered, as indicated in the notice., 'isLocalScope': false}                                                                                                                      │ 2024-12-18 00:39:37.096-03 │\n",
       "│ § 275.0-2_P2 │ extract_p2 │ documents_true_table.json │ {'term': Jurisdiction of the United States, 'definition': NULL, 'isLocalScope': false}                                                                                                                                                                                                       │ 2024-12-18 00:39:37.096-03 │\n",
       "│ § 275.0-2_P2 │ extract_p2 │ documents_true_table.json │ {'term': Commission, 'definition': NULL, 'isLocalScope': false}                                                                                                                                                                                                                              │ 2024-12-18 00:39:37.096-03 │\n",
       "│ § 275.0-2_P2 │ extract_p2 │ documents_true_table.json │ {'term': Papers, 'definition': NULL, 'isLocalScope': false}                                                                                                                                                                                                                                  │ 2024-12-18 00:39:37.096-03 │\n",
       "│ § 275.0-2_P2 │ extract_p2 │ documents_true_table.json │ {'term': Process, 'definition': NULL, 'isLocalScope': false}                                                                                                                                                                                                                                 │ 2024-12-18 00:39:37.096-03 │\n",
       "│ § 275.0-2_P2 │ extract_p2 │ documents_true_table.json │ {'term': Pleadings, 'definition': Documents served on a non-resident investment adviser, general partner, or managing agent., 'isLocalScope': false}                                                                                                                                         │ 2024-12-18 00:39:37.096-03 │\n",
       "│ § 275.0-2_P2 │ extract_p2 │ documents_true_table.json │ {'term': Evidence of service, 'definition': The certification by the Secretary that the Commission was served with process, pleadings, or other papers and forwarded these documents to a named party., 'isLocalScope': true}                                                                │ 2024-12-18 00:39:37.096-03 │\n",
       "│ § 275.0-2_P2 │ extract_p2 │ documents_true_table.json │ {'term': Last address filed with the Commission, 'definition': NULL, 'isLocalScope': false}                                                                                                                                                                                                  │ 2024-12-18 00:39:37.096-03 │\n",
       "│      ·       │     ·      │             ·             │                                 ·                                                                                                                                                                                                                                                            │             ·              │\n",
       "│      ·       │     ·      │             ·             │                                 ·                                                                                                                                                                                                                                                            │             ·              │\n",
       "│      ·       │     ·      │             ·             │                                 ·                                                                                                                                                                                                                                                            │             ·              │\n",
       "│ § 275.0-7_P2 │ extract_p2 │ documents_true_table.json │ {'term': Balance sheet, 'definition': NULL, 'isLocalScope': false}                                                                                                                                                                                                                           │ 2024-12-18 00:39:37.096-03 │\n",
       "│ § 275.0-7_P2 │ extract_p2 │ documents_true_table.json │ {'term': Elected manager, 'definition': NULL, 'isLocalScope': false}                                                                                                                                                                                                                         │ 2024-12-18 00:39:37.096-03 │\n",
       "│ § 275.0-7_P2 │ extract_p2 │ documents_true_table.json │ {'term': Investment adviser, 'definition': NULL, 'isLocalScope': false}                                                                                                                                                                                                                      │ 2024-12-18 00:39:37.096-03 │\n",
       "│ § 275.0-7_P2 │ extract_p2 │ documents_true_table.json │ {'term': Total assets, 'definition': The total assets as shown on the balance sheet of the investment adviser or other person described, or the balance sheet of the investment adviser or such other person with its subsidiaries consolidated, whichever is larger., 'isLocalScope': true} │ 2024-12-18 00:39:37.096-03 │\n",
       "│ § 275.0-7_P2 │ extract_p2 │ documents_true_table.json │ {'term': Right to receive upon dissolution, 'definition': NULL, 'isLocalScope': false}                                                                                                                                                                                                       │ 2024-12-18 00:39:37.096-03 │\n",
       "│ § 275.0-7_P2 │ extract_p2 │ documents_true_table.json │ {'term': Person, 'definition': NULL, 'isLocalScope': false}                                                                                                                                                                                                                                  │ 2024-12-18 00:39:37.096-03 │\n",
       "│ § 275.0-7_P2 │ extract_p2 │ documents_true_table.json │ {'term': Management, 'definition': NULL, 'isLocalScope': false}                                                                                                                                                                                                                              │ 2024-12-18 00:39:37.096-03 │\n",
       "│ § 275.0-7_P2 │ extract_p2 │ documents_true_table.json │ {'term': Ownership of securities, 'definition': NULL, 'isLocalScope': false}                                                                                                                                                                                                                 │ 2024-12-18 00:39:37.096-03 │\n",
       "│ § 275.0-7_P2 │ extract_p2 │ documents_true_table.json │ {'term': Natural person, 'definition': NULL, 'isLocalScope': false}                                                                                                                                                                                                                          │ 2024-12-18 00:39:37.096-03 │\n",
       "│ § 275.0-7_P2 │ extract_p2 │ documents_true_table.json │ {'term': Assets under management, 'definition': NULL, 'isLocalScope': false}                                                                                                                                                                                                                 │ 2024-12-18 00:39:37.096-03 │\n",
       "├──────────────┴────────────┴───────────────────────────┴──────────────────────────────────────────────────────────────────────────────────────────────────────────────────────────────────────────────────────────────────────────────────────────────────────────────────────────────────────────────────────────────────────────────────────────────┴────────────────────────────┤\n",
       "│ 84 rows (20 shown)                                                                                                                                                                                                                                                                                                                                                      5 columns │\n",
       "└───────────────────────────────────────────────────────────────────────────────────────────────────────────────────────────────────────────────────────────────────────────────────────────────────────────────────────────────────────────────────────────────────────────────────────────────────────────────────────────────────────────────────────────────────────────────────┘"
      ]
     },
     "execution_count": 26,
     "metadata": {},
     "output_type": "execute_result"
    }
   ],
   "source": [
    "query = \"\"\"\n",
    "SELECT * FROM RAW_SECTION_P2_EXTRACTED_NOUN_TRUE;\n",
    "\"\"\"\n",
    "\n",
    "conn.sql(query)"
   ]
  },
  {
   "cell_type": "markdown",
   "metadata": {},
   "source": [
    "Total terms per id"
   ]
  },
  {
   "cell_type": "code",
   "execution_count": 27,
   "metadata": {},
   "outputs": [
    {
     "data": {
      "text/plain": [
       "┌──────────────┬─────────────┬──────────────────────┐\n",
       "│      id      │ total_terms │ total_terms_distinct │\n",
       "│   varchar    │    int64    │        int64         │\n",
       "├──────────────┼─────────────┼──────────────────────┤\n",
       "│ § 275.0-2_P2 │          31 │                   31 │\n",
       "│ § 275.0-7_P2 │          31 │                   31 │\n",
       "│ § 275.0-5_P2 │          22 │                   22 │\n",
       "└──────────────┴─────────────┴──────────────────────┘"
      ]
     },
     "execution_count": 27,
     "metadata": {},
     "output_type": "execute_result"
    }
   ],
   "source": [
    "query = \"\"\"\n",
    "SELECT\n",
    "    id, COUNT(terms) AS total_terms, COUNT(DISTINCT terms) AS total_terms_distinct\n",
    "FROM RAW_SECTION_P2_EXTRACTED_NOUN_TRUE\n",
    "GROUP BY id;\n",
    "\"\"\"\n",
    "\n",
    "conn.sql(query)"
   ]
  },
  {
   "cell_type": "markdown",
   "metadata": {},
   "source": [
    "terms"
   ]
  },
  {
   "cell_type": "code",
   "execution_count": 28,
   "metadata": {},
   "outputs": [
    {
     "data": {
      "text/plain": [
       "┌──────────────┬────────────────────────────────────────┬──────────────────────────────────────────────────────────────────────────────────────────────────────────────────────────────────────────────────────────────────────────────────────────────────────────────────────────────────┬───────────────┬──────────────┐\n",
       "│      id      │                  term                  │                                                                                                            definition                                                                                                            │ hasDefinition │ isLocalScope │\n",
       "│   varchar    │                varchar                 │                                                                                                             varchar                                                                                                              │     int32     │   boolean    │\n",
       "├──────────────┼────────────────────────────────────────┼──────────────────────────────────────────────────────────────────────────────────────────────────────────────────────────────────────────────────────────────────────────────────────────────────────────────────────────────────┼───────────────┼──────────────┤\n",
       "│ § 275.0-2_P2 │ Last address                           │ NULL                                                                                                                                                                                                                             │             0 │ false        │\n",
       "│ § 275.0-2_P2 │ Commission's records                   │ Records maintained by the Commission, which include copies of process, pleadings, or other papers served.                                                                                                                        │             1 │ true         │\n",
       "│ § 275.0-2_P2 │ Earliest date                          │ The earliest date upon which an order disposing of the matter may be entered, as indicated in the notice.                                                                                                                        │             1 │ false        │\n",
       "│ § 275.0-2_P2 │ Jurisdiction of the United States      │ NULL                                                                                                                                                                                                                             │             0 │ false        │\n",
       "│ § 275.0-2_P2 │ Commission                             │ NULL                                                                                                                                                                                                                             │             0 │ false        │\n",
       "│ § 275.0-2_P2 │ Papers                                 │ NULL                                                                                                                                                                                                                             │             0 │ false        │\n",
       "│ § 275.0-2_P2 │ Process                                │ NULL                                                                                                                                                                                                                             │             0 │ false        │\n",
       "│ § 275.0-2_P2 │ Pleadings                              │ Documents served on a non-resident investment adviser, general partner, or managing agent.                                                                                                                                       │             1 │ false        │\n",
       "│ § 275.0-2_P2 │ Evidence of service                    │ The certification by the Secretary that the Commission was served with process, pleadings, or other papers and forwarded these documents to a named party.                                                                       │             1 │ true         │\n",
       "│ § 275.0-2_P2 │ Last address filed with the Commission │ NULL                                                                                                                                                                                                                             │             0 │ false        │\n",
       "│      ·       │       ·                                │  ·                                                                                                                                                                                                                               │             · │   ·          │\n",
       "│      ·       │       ·                                │  ·                                                                                                                                                                                                                               │             · │   ·          │\n",
       "│      ·       │       ·                                │  ·                                                                                                                                                                                                                               │             · │   ·          │\n",
       "│ § 275.0-7_P2 │ Balance sheet                          │ NULL                                                                                                                                                                                                                             │             0 │ false        │\n",
       "│ § 275.0-7_P2 │ Elected manager                        │ NULL                                                                                                                                                                                                                             │             0 │ false        │\n",
       "│ § 275.0-7_P2 │ Investment adviser                     │ NULL                                                                                                                                                                                                                             │             0 │ false        │\n",
       "│ § 275.0-7_P2 │ Total assets                           │ The total assets as shown on the balance sheet of the investment adviser or other person described, or the balance sheet of the investment adviser or such other person with its subsidiaries consolidated, whichever is larger. │             1 │ true         │\n",
       "│ § 275.0-7_P2 │ Right to receive upon dissolution      │ NULL                                                                                                                                                                                                                             │             0 │ false        │\n",
       "│ § 275.0-7_P2 │ Person                                 │ NULL                                                                                                                                                                                                                             │             0 │ false        │\n",
       "│ § 275.0-7_P2 │ Management                             │ NULL                                                                                                                                                                                                                             │             0 │ false        │\n",
       "│ § 275.0-7_P2 │ Ownership of securities                │ NULL                                                                                                                                                                                                                             │             0 │ false        │\n",
       "│ § 275.0-7_P2 │ Natural person                         │ NULL                                                                                                                                                                                                                             │             0 │ false        │\n",
       "│ § 275.0-7_P2 │ Assets under management                │ NULL                                                                                                                                                                                                                             │             0 │ false        │\n",
       "├──────────────┴────────────────────────────────────────┴──────────────────────────────────────────────────────────────────────────────────────────────────────────────────────────────────────────────────────────────────────────────────────────────────────────────────────────────────┴───────────────┴──────────────┤\n",
       "│ 84 rows (20 shown)                                                                                                                                                                                                                                                                                            5 columns │\n",
       "└─────────────────────────────────────────────────────────────────────────────────────────────────────────────────────────────────────────────────────────────────────────────────────────────────────────────────────────────────────────────────────────────────────────────────────────────────────────────────────────┘"
      ]
     },
     "execution_count": 28,
     "metadata": {},
     "output_type": "execute_result"
    }
   ],
   "source": [
    "query = \"\"\"\n",
    "SELECT\n",
    "    id, terms.term as term, terms.definition as definition, if(terms.definition is NULL, 0, 1) as hasDefinition, terms.isLocalScope as isLocalScope\n",
    "FROM RAW_SECTION_P2_EXTRACTED_NOUN_TRUE\n",
    "-- GROUP BY id;\n",
    "\"\"\"\n",
    "\n",
    "conn.sql(query)"
   ]
  },
  {
   "cell_type": "markdown",
   "metadata": {},
   "source": [
    "How many terms has definition"
   ]
  },
  {
   "cell_type": "code",
   "execution_count": 29,
   "metadata": {},
   "outputs": [
    {
     "data": {
      "text/plain": [
       "┌──────────────┬───────┬───────────────┬─────────────────────┐\n",
       "│      id      │ term  │ hasDefinition │        ratio        │\n",
       "│   varchar    │ int64 │     int64     │       double        │\n",
       "├──────────────┼───────┼───────────────┼─────────────────────┤\n",
       "│ § 275.0-2_P2 │    31 │             9 │  0.2903225806451613 │\n",
       "│ § 275.0-5_P2 │    22 │            19 │  0.8636363636363636 │\n",
       "│ § 275.0-7_P2 │    31 │             8 │ 0.25806451612903225 │\n",
       "└──────────────┴───────┴───────────────┴─────────────────────┘"
      ]
     },
     "execution_count": 29,
     "metadata": {},
     "output_type": "execute_result"
    }
   ],
   "source": [
    "query = \"\"\"\n",
    "SELECT\n",
    "    id, count(terms) as term, count(if(terms.definition is NULL, NULL, 1)) as hasDefinition, count(if(terms.definition is NULL, NULL, 1)) / count(terms) as ratio\n",
    "FROM RAW_SECTION_P2_EXTRACTED_NOUN_TRUE\n",
    "GROUP BY id\n",
    "ORDER BY id\n",
    ";\n",
    "\"\"\"\n",
    "\n",
    "conn.sql(query)"
   ]
  },
  {
   "cell_type": "code",
   "execution_count": 30,
   "metadata": {},
   "outputs": [
    {
     "data": {
      "text/plain": [
       "┌──────────────┬───────┬──────────────┐\n",
       "│      id      │ term  │ isLocalScope │\n",
       "│   varchar    │ int64 │   boolean    │\n",
       "├──────────────┼───────┼──────────────┤\n",
       "│ § 275.0-2_P2 │     7 │ true         │\n",
       "│ § 275.0-2_P2 │    24 │ false        │\n",
       "│ § 275.0-5_P2 │    19 │ true         │\n",
       "│ § 275.0-5_P2 │     3 │ false        │\n",
       "│ § 275.0-7_P2 │     8 │ true         │\n",
       "│ § 275.0-7_P2 │    23 │ false        │\n",
       "└──────────────┴───────┴──────────────┘"
      ]
     },
     "execution_count": 30,
     "metadata": {},
     "output_type": "execute_result"
    }
   ],
   "source": [
    "query = \"\"\"\n",
    "SELECT\n",
    "    id, count(terms) as term, terms.isLocalScope as isLocalScope\n",
    "FROM RAW_SECTION_P2_EXTRACTED_NOUN_TRUE\n",
    "GROUP BY id, terms.isLocalScope\n",
    "ORDER BY id\n",
    ";\n",
    "\"\"\"\n",
    "\n",
    "conn.sql(query)"
   ]
  },
  {
   "cell_type": "markdown",
   "metadata": {},
   "source": [
    "isLocalScope per document"
   ]
  },
  {
   "cell_type": "code",
   "execution_count": 31,
   "metadata": {},
   "outputs": [
    {
     "data": {
      "text/plain": [
       "┌──────────────┬───────┬──────────────┬────────────────────┐\n",
       "│      id      │ term  │ isLocalScope │     percentage     │\n",
       "│   varchar    │ int64 │   boolean    │       double       │\n",
       "├──────────────┼───────┼──────────────┼────────────────────┤\n",
       "│ § 275.0-2_P2 │    24 │ false        │  77.41935483870968 │\n",
       "│ § 275.0-2_P2 │     7 │ true         │ 22.580645161290324 │\n",
       "│ § 275.0-5_P2 │     3 │ false        │ 13.636363636363637 │\n",
       "│ § 275.0-5_P2 │    19 │ true         │  86.36363636363636 │\n",
       "│ § 275.0-7_P2 │    23 │ false        │  74.19354838709677 │\n",
       "│ § 275.0-7_P2 │     8 │ true         │ 25.806451612903224 │\n",
       "└──────────────┴───────┴──────────────┴────────────────────┘"
      ]
     },
     "execution_count": 31,
     "metadata": {},
     "output_type": "execute_result"
    }
   ],
   "source": [
    "query = \"\"\"\n",
    "WITH TotalCounts AS (\n",
    "    SELECT\n",
    "        id,\n",
    "        COUNT(terms) AS total_terms\n",
    "    FROM RAW_SECTION_P2_EXTRACTED_NOUN_TRUE\n",
    "    GROUP BY id\n",
    ")\n",
    "SELECT\n",
    "    e.id,\n",
    "    COUNT(e.terms) AS term,\n",
    "    e.terms.isLocalScope AS isLocalScope,\n",
    "    (COUNT(e.terms) * 100.0 / tc.total_terms) AS percentage\n",
    "FROM RAW_SECTION_P2_EXTRACTED_NOUN_TRUE e\n",
    "JOIN TotalCounts tc ON e.id = tc.id\n",
    "GROUP BY e.id, e.terms.isLocalScope, tc.total_terms\n",
    "ORDER BY e.id, e.terms.isLocalScope;\n",
    "\"\"\"\n",
    "\n",
    "conn.sql(query)"
   ]
  },
  {
   "cell_type": "markdown",
   "metadata": {},
   "source": [
    "Total terms per id"
   ]
  },
  {
   "cell_type": "code",
   "execution_count": 32,
   "metadata": {},
   "outputs": [
    {
     "data": {
      "text/plain": [
       "┌──────────────┬─────────────┬──────────────────────┐\n",
       "│      id      │ total_terms │ total_terms_distinct │\n",
       "│   varchar    │    int64    │        int64         │\n",
       "├──────────────┼─────────────┼──────────────────────┤\n",
       "│ § 275.0-5_P2 │          22 │                   22 │\n",
       "│ § 275.0-7_P2 │          31 │                   31 │\n",
       "│ § 275.0-2_P2 │          31 │                   31 │\n",
       "└──────────────┴─────────────┴──────────────────────┘"
      ]
     },
     "execution_count": 32,
     "metadata": {},
     "output_type": "execute_result"
    }
   ],
   "source": [
    "query = \"\"\"\n",
    "SELECT\n",
    "    id, COUNT(terms) AS total_terms, COUNT(DISTINCT terms) AS total_terms_distinct\n",
    "FROM RAW_SECTION_P2_EXTRACTED_NOUN_TRUE\n",
    "GROUP BY id;\n",
    "\"\"\"\n",
    "\n",
    "conn.sql(query)"
   ]
  },
  {
   "cell_type": "markdown",
   "metadata": {},
   "source": [
    "terms"
   ]
  },
  {
   "cell_type": "code",
   "execution_count": 33,
   "metadata": {},
   "outputs": [
    {
     "data": {
      "text/plain": [
       "┌──────────────┬────────────────────────────────────────┬──────────────────────────────────────────────────────────────────────────────────────────────────────────────────────────────────────────────────────────────────────────────────────────────────────────────────────────────────┬───────────────┬──────────────┐\n",
       "│      id      │                  term                  │                                                                                                            definition                                                                                                            │ hasDefinition │ isLocalScope │\n",
       "│   varchar    │                varchar                 │                                                                                                             varchar                                                                                                              │     int32     │   boolean    │\n",
       "├──────────────┼────────────────────────────────────────┼──────────────────────────────────────────────────────────────────────────────────────────────────────────────────────────────────────────────────────────────────────────────────────────────────────────────────────────────────┼───────────────┼──────────────┤\n",
       "│ § 275.0-2_P2 │ Last address                           │ NULL                                                                                                                                                                                                                             │             0 │ false        │\n",
       "│ § 275.0-2_P2 │ Commission's records                   │ Records maintained by the Commission, which include copies of process, pleadings, or other papers served.                                                                                                                        │             1 │ true         │\n",
       "│ § 275.0-2_P2 │ Earliest date                          │ The earliest date upon which an order disposing of the matter may be entered, as indicated in the notice.                                                                                                                        │             1 │ false        │\n",
       "│ § 275.0-2_P2 │ Jurisdiction of the United States      │ NULL                                                                                                                                                                                                                             │             0 │ false        │\n",
       "│ § 275.0-2_P2 │ Commission                             │ NULL                                                                                                                                                                                                                             │             0 │ false        │\n",
       "│ § 275.0-2_P2 │ Papers                                 │ NULL                                                                                                                                                                                                                             │             0 │ false        │\n",
       "│ § 275.0-2_P2 │ Process                                │ NULL                                                                                                                                                                                                                             │             0 │ false        │\n",
       "│ § 275.0-2_P2 │ Pleadings                              │ Documents served on a non-resident investment adviser, general partner, or managing agent.                                                                                                                                       │             1 │ false        │\n",
       "│ § 275.0-2_P2 │ Evidence of service                    │ The certification by the Secretary that the Commission was served with process, pleadings, or other papers and forwarded these documents to a named party.                                                                       │             1 │ true         │\n",
       "│ § 275.0-2_P2 │ Last address filed with the Commission │ NULL                                                                                                                                                                                                                             │             0 │ false        │\n",
       "│      ·       │       ·                                │  ·                                                                                                                                                                                                                               │             · │   ·          │\n",
       "│      ·       │       ·                                │  ·                                                                                                                                                                                                                               │             · │   ·          │\n",
       "│      ·       │       ·                                │  ·                                                                                                                                                                                                                               │             · │   ·          │\n",
       "│ § 275.0-7_P2 │ Balance sheet                          │ NULL                                                                                                                                                                                                                             │             0 │ false        │\n",
       "│ § 275.0-7_P2 │ Elected manager                        │ NULL                                                                                                                                                                                                                             │             0 │ false        │\n",
       "│ § 275.0-7_P2 │ Investment adviser                     │ NULL                                                                                                                                                                                                                             │             0 │ false        │\n",
       "│ § 275.0-7_P2 │ Total assets                           │ The total assets as shown on the balance sheet of the investment adviser or other person described, or the balance sheet of the investment adviser or such other person with its subsidiaries consolidated, whichever is larger. │             1 │ true         │\n",
       "│ § 275.0-7_P2 │ Right to receive upon dissolution      │ NULL                                                                                                                                                                                                                             │             0 │ false        │\n",
       "│ § 275.0-7_P2 │ Person                                 │ NULL                                                                                                                                                                                                                             │             0 │ false        │\n",
       "│ § 275.0-7_P2 │ Management                             │ NULL                                                                                                                                                                                                                             │             0 │ false        │\n",
       "│ § 275.0-7_P2 │ Ownership of securities                │ NULL                                                                                                                                                                                                                             │             0 │ false        │\n",
       "│ § 275.0-7_P2 │ Natural person                         │ NULL                                                                                                                                                                                                                             │             0 │ false        │\n",
       "│ § 275.0-7_P2 │ Assets under management                │ NULL                                                                                                                                                                                                                             │             0 │ false        │\n",
       "├──────────────┴────────────────────────────────────────┴──────────────────────────────────────────────────────────────────────────────────────────────────────────────────────────────────────────────────────────────────────────────────────────────────────────────────────────────────┴───────────────┴──────────────┤\n",
       "│ 84 rows (20 shown)                                                                                                                                                                                                                                                                                            5 columns │\n",
       "└─────────────────────────────────────────────────────────────────────────────────────────────────────────────────────────────────────────────────────────────────────────────────────────────────────────────────────────────────────────────────────────────────────────────────────────────────────────────────────────┘"
      ]
     },
     "execution_count": 33,
     "metadata": {},
     "output_type": "execute_result"
    }
   ],
   "source": [
    "query = \"\"\"\n",
    "SELECT\n",
    "    id, terms.term as term, terms.definition as definition, if(terms.definition is NULL, 0, 1) as hasDefinition, terms.isLocalScope as isLocalScope\n",
    "FROM RAW_SECTION_P2_EXTRACTED_NOUN_TRUE\n",
    "-- GROUP BY id;\n",
    "\"\"\"\n",
    "\n",
    "conn.sql(query)"
   ]
  },
  {
   "cell_type": "markdown",
   "metadata": {},
   "source": [
    "How many terms has definition"
   ]
  },
  {
   "cell_type": "code",
   "execution_count": 34,
   "metadata": {},
   "outputs": [
    {
     "data": {
      "text/plain": [
       "┌──────────────┬───────┬───────────────┬─────────────────────┐\n",
       "│      id      │ term  │ hasDefinition │        ratio        │\n",
       "│   varchar    │ int64 │     int64     │       double        │\n",
       "├──────────────┼───────┼───────────────┼─────────────────────┤\n",
       "│ § 275.0-2_P2 │    31 │             9 │  0.2903225806451613 │\n",
       "│ § 275.0-5_P2 │    22 │            19 │  0.8636363636363636 │\n",
       "│ § 275.0-7_P2 │    31 │             8 │ 0.25806451612903225 │\n",
       "└──────────────┴───────┴───────────────┴─────────────────────┘"
      ]
     },
     "execution_count": 34,
     "metadata": {},
     "output_type": "execute_result"
    }
   ],
   "source": [
    "query = \"\"\"\n",
    "SELECT\n",
    "    id, count(terms) as term, count(if(terms.definition is NULL, NULL, 1)) as hasDefinition, count(if(terms.definition is NULL, NULL, 1)) / count(terms) as ratio\n",
    "FROM RAW_SECTION_P2_EXTRACTED_NOUN_TRUE\n",
    "GROUP BY id\n",
    "ORDER BY id\n",
    ";\n",
    "\"\"\"\n",
    "\n",
    "conn.sql(query)"
   ]
  },
  {
   "cell_type": "code",
   "execution_count": 35,
   "metadata": {},
   "outputs": [
    {
     "data": {
      "text/plain": [
       "┌──────────────┬───────┬──────────────┐\n",
       "│      id      │ term  │ isLocalScope │\n",
       "│   varchar    │ int64 │   boolean    │\n",
       "├──────────────┼───────┼──────────────┤\n",
       "│ § 275.0-2_P2 │     7 │ true         │\n",
       "│ § 275.0-2_P2 │    24 │ false        │\n",
       "│ § 275.0-5_P2 │    19 │ true         │\n",
       "│ § 275.0-5_P2 │     3 │ false        │\n",
       "│ § 275.0-7_P2 │     8 │ true         │\n",
       "│ § 275.0-7_P2 │    23 │ false        │\n",
       "└──────────────┴───────┴──────────────┘"
      ]
     },
     "execution_count": 35,
     "metadata": {},
     "output_type": "execute_result"
    }
   ],
   "source": [
    "query = \"\"\"\n",
    "SELECT\n",
    "    id, count(terms) as term, terms.isLocalScope as isLocalScope\n",
    "FROM RAW_SECTION_P2_EXTRACTED_NOUN_TRUE\n",
    "GROUP BY id, terms.isLocalScope\n",
    "ORDER BY id\n",
    ";\n",
    "\"\"\"\n",
    "\n",
    "conn.sql(query)"
   ]
  },
  {
   "cell_type": "code",
   "execution_count": 36,
   "metadata": {},
   "outputs": [
    {
     "data": {
      "text/plain": [
       "┌─────────┬────────────────────────────────────────────────────────────────┬──────────────┐\n",
       "│   id    │                             terms                              │ isLocalScope │\n",
       "│ varchar │ struct(term varchar, definition varchar, islocalscope boolean) │   boolean    │\n",
       "├─────────┴────────────────────────────────────────────────────────────────┴──────────────┤\n",
       "│                                         0 rows                                          │\n",
       "└─────────────────────────────────────────────────────────────────────────────────────────┘"
      ]
     },
     "execution_count": 36,
     "metadata": {},
     "output_type": "execute_result"
    }
   ],
   "source": [
    "query = \"\"\"\n",
    "SELECT\n",
    "    id, terms, terms.isLocalScope as isLocalScope\n",
    "FROM RAW_SECTION_P2_EXTRACTED_NOUN_TRUE\n",
    "WHERE terms.isLocalScope is NULL\n",
    ";\n",
    "\"\"\"\n",
    "\n",
    "conn.sql(query)"
   ]
  },
  {
   "cell_type": "code",
   "execution_count": 37,
   "metadata": {},
   "outputs": [
    {
     "data": {
      "text/plain": [
       "┌─────────┬────────────────────────────────────────────────────────────────┬──────────────┐\n",
       "│   id    │                             terms                              │ isLocalScope │\n",
       "│ varchar │ struct(term varchar, definition varchar, islocalscope boolean) │   boolean    │\n",
       "├─────────┴────────────────────────────────────────────────────────────────┴──────────────┤\n",
       "│                                         0 rows                                          │\n",
       "└─────────────────────────────────────────────────────────────────────────────────────────┘"
      ]
     },
     "execution_count": 37,
     "metadata": {},
     "output_type": "execute_result"
    }
   ],
   "source": [
    "query = \"\"\"\n",
    "SELECT\n",
    "    id, terms, terms.isLocalScope as isLocalScope\n",
    "FROM RAW_SECTION_P2_EXTRACTED_NOUN_TRUE\n",
    "WHERE terms.isLocalScope is NULL\n",
    ";\n",
    "\"\"\"\n",
    "\n",
    "conn.sql(query)"
   ]
  },
  {
   "cell_type": "markdown",
   "metadata": {},
   "source": [
    "Predict table"
   ]
  },
  {
   "cell_type": "code",
   "execution_count": 94,
   "metadata": {},
   "outputs": [
    {
     "name": "stdout",
     "output_type": "stream",
     "text": [
      "cfr2sbvr_db/evaluation/documents-2024-12-08-1.json\n",
      "§ 275.0-2_P2|llm_response\n",
      "§ 275.0-5_P2|llm_response\n",
      "§ 275.0-7_P2|llm_response\n",
      "_query_drop_table='\\n        DROP TABLE IF EXISTS RAW_SECTION_P2_EXTRACTED_NOUN;\\n        '\n",
      "Trying to drop table because drop parameter is True\n",
      "Table RAW_SECTION_P2_EXTRACTED_NOUN dropped\n",
      "_query_insert_data='\\n    INSERT INTO RAW_SECTION_P2_EXTRACTED_NOUN (id, prompt, file_source, terms, created_at)\\n    SELECT \\n        id, \\n        \\'extract_p2\\' as prompt, \\n        \\'documents-2024-12-08-1.json\\' as file_source, \\n        unnest(content.terms) as terms,\\n        now() as created_at\\n    FROM \\n        read_json_auto(\"temp/documents-2024-12-08-1.json\");\\n    '\n",
      "Trying to insert into RAW_SECTION_P2_EXTRACTED_NOUN\n",
      "Catalog Error: Table with name RAW_SECTION_P2_EXTRACTED_NOUN does not exist!\n",
      "Did you mean \"database_v3.RAW_SECTION_P2_EXTRACTED_NOUN\"?\n",
      "Failed to insert, trying create RAW_SECTION_P2_EXTRACTED_NOUN\n",
      "_query_create_table='\\n        CREATE TABLE RAW_SECTION_P2_EXTRACTED_NOUN AS\\n        SELECT id, \\n        \\'extract_p2\\' as prompt, \\n        \\'documents-2024-12-08-1.json\\' as file_source, \\n        unnest(content.terms) as terms,\\n        now() as \\'created_at\\'\\n        FROM read_json_auto(\"temp/documents-2024-12-08-1.json\");\\n        '\n",
      "Table RAW_SECTION_P2_EXTRACTED_NOUN created and loaded.\n",
      "cfr2sbvr_db/evaluation/documents-2024-12-08-10.json\n",
      "§ 275.0-2_P2|llm_response\n",
      "§ 275.0-5_P2|llm_response\n",
      "§ 275.0-7_P2|llm_response\n",
      "_query_insert_data='\\n    INSERT INTO RAW_SECTION_P2_EXTRACTED_NOUN (id, prompt, file_source, terms, created_at)\\n    SELECT \\n        id, \\n        \\'extract_p2\\' as prompt, \\n        \\'documents-2024-12-08-10.json\\' as file_source, \\n        unnest(content.terms) as terms,\\n        now() as created_at\\n    FROM \\n        read_json_auto(\"temp/documents-2024-12-08-10.json\");\\n    '\n",
      "Trying to insert into RAW_SECTION_P2_EXTRACTED_NOUN\n",
      "Data inserted into RAW_SECTION_P2_EXTRACTED_NOUN.\n",
      "cfr2sbvr_db/evaluation/documents-2024-12-08-2.json\n",
      "§ 275.0-2_P2|llm_response\n",
      "§ 275.0-5_P2|llm_response\n",
      "§ 275.0-7_P2|llm_response\n",
      "_query_insert_data='\\n    INSERT INTO RAW_SECTION_P2_EXTRACTED_NOUN (id, prompt, file_source, terms, created_at)\\n    SELECT \\n        id, \\n        \\'extract_p2\\' as prompt, \\n        \\'documents-2024-12-08-2.json\\' as file_source, \\n        unnest(content.terms) as terms,\\n        now() as created_at\\n    FROM \\n        read_json_auto(\"temp/documents-2024-12-08-2.json\");\\n    '\n",
      "Trying to insert into RAW_SECTION_P2_EXTRACTED_NOUN\n",
      "Data inserted into RAW_SECTION_P2_EXTRACTED_NOUN.\n",
      "cfr2sbvr_db/evaluation/documents-2024-12-08-3.json\n",
      "§ 275.0-2_P2|llm_response\n",
      "§ 275.0-5_P2|llm_response\n",
      "§ 275.0-7_P2|llm_response\n",
      "_query_insert_data='\\n    INSERT INTO RAW_SECTION_P2_EXTRACTED_NOUN (id, prompt, file_source, terms, created_at)\\n    SELECT \\n        id, \\n        \\'extract_p2\\' as prompt, \\n        \\'documents-2024-12-08-3.json\\' as file_source, \\n        unnest(content.terms) as terms,\\n        now() as created_at\\n    FROM \\n        read_json_auto(\"temp/documents-2024-12-08-3.json\");\\n    '\n",
      "Trying to insert into RAW_SECTION_P2_EXTRACTED_NOUN\n",
      "Data inserted into RAW_SECTION_P2_EXTRACTED_NOUN.\n",
      "cfr2sbvr_db/evaluation/documents-2024-12-08-4.json\n",
      "§ 275.0-2_P2|llm_response\n",
      "§ 275.0-5_P2|llm_response\n",
      "§ 275.0-7_P2|llm_response\n",
      "_query_insert_data='\\n    INSERT INTO RAW_SECTION_P2_EXTRACTED_NOUN (id, prompt, file_source, terms, created_at)\\n    SELECT \\n        id, \\n        \\'extract_p2\\' as prompt, \\n        \\'documents-2024-12-08-4.json\\' as file_source, \\n        unnest(content.terms) as terms,\\n        now() as created_at\\n    FROM \\n        read_json_auto(\"temp/documents-2024-12-08-4.json\");\\n    '\n",
      "Trying to insert into RAW_SECTION_P2_EXTRACTED_NOUN\n",
      "Data inserted into RAW_SECTION_P2_EXTRACTED_NOUN.\n",
      "cfr2sbvr_db/evaluation/documents-2024-12-08-5.json\n",
      "§ 275.0-2_P2|llm_response\n",
      "§ 275.0-5_P2|llm_response\n",
      "§ 275.0-7_P2|llm_response\n",
      "_query_insert_data='\\n    INSERT INTO RAW_SECTION_P2_EXTRACTED_NOUN (id, prompt, file_source, terms, created_at)\\n    SELECT \\n        id, \\n        \\'extract_p2\\' as prompt, \\n        \\'documents-2024-12-08-5.json\\' as file_source, \\n        unnest(content.terms) as terms,\\n        now() as created_at\\n    FROM \\n        read_json_auto(\"temp/documents-2024-12-08-5.json\");\\n    '\n",
      "Trying to insert into RAW_SECTION_P2_EXTRACTED_NOUN\n",
      "Data inserted into RAW_SECTION_P2_EXTRACTED_NOUN.\n",
      "cfr2sbvr_db/evaluation/documents-2024-12-08-6.json\n",
      "§ 275.0-2_P2|llm_response\n",
      "§ 275.0-5_P2|llm_response\n",
      "§ 275.0-7_P2|llm_response\n",
      "_query_insert_data='\\n    INSERT INTO RAW_SECTION_P2_EXTRACTED_NOUN (id, prompt, file_source, terms, created_at)\\n    SELECT \\n        id, \\n        \\'extract_p2\\' as prompt, \\n        \\'documents-2024-12-08-6.json\\' as file_source, \\n        unnest(content.terms) as terms,\\n        now() as created_at\\n    FROM \\n        read_json_auto(\"temp/documents-2024-12-08-6.json\");\\n    '\n",
      "Trying to insert into RAW_SECTION_P2_EXTRACTED_NOUN\n",
      "Data inserted into RAW_SECTION_P2_EXTRACTED_NOUN.\n",
      "cfr2sbvr_db/evaluation/documents-2024-12-08-7.json\n",
      "§ 275.0-2_P2|llm_response\n",
      "§ 275.0-5_P2|llm_response\n",
      "§ 275.0-7_P2|llm_response\n",
      "_query_insert_data='\\n    INSERT INTO RAW_SECTION_P2_EXTRACTED_NOUN (id, prompt, file_source, terms, created_at)\\n    SELECT \\n        id, \\n        \\'extract_p2\\' as prompt, \\n        \\'documents-2024-12-08-7.json\\' as file_source, \\n        unnest(content.terms) as terms,\\n        now() as created_at\\n    FROM \\n        read_json_auto(\"temp/documents-2024-12-08-7.json\");\\n    '\n",
      "Trying to insert into RAW_SECTION_P2_EXTRACTED_NOUN\n",
      "Data inserted into RAW_SECTION_P2_EXTRACTED_NOUN.\n",
      "cfr2sbvr_db/evaluation/documents-2024-12-08-8.json\n",
      "§ 275.0-2_P2|llm_response\n",
      "§ 275.0-5_P2|llm_response\n",
      "§ 275.0-7_P2|llm_response\n",
      "_query_insert_data='\\n    INSERT INTO RAW_SECTION_P2_EXTRACTED_NOUN (id, prompt, file_source, terms, created_at)\\n    SELECT \\n        id, \\n        \\'extract_p2\\' as prompt, \\n        \\'documents-2024-12-08-8.json\\' as file_source, \\n        unnest(content.terms) as terms,\\n        now() as created_at\\n    FROM \\n        read_json_auto(\"temp/documents-2024-12-08-8.json\");\\n    '\n",
      "Trying to insert into RAW_SECTION_P2_EXTRACTED_NOUN\n",
      "Data inserted into RAW_SECTION_P2_EXTRACTED_NOUN.\n",
      "cfr2sbvr_db/evaluation/documents-2024-12-08-9.json\n",
      "§ 275.0-2_P2|llm_response\n",
      "§ 275.0-5_P2|llm_response\n",
      "§ 275.0-7_P2|llm_response\n",
      "_query_insert_data='\\n    INSERT INTO RAW_SECTION_P2_EXTRACTED_NOUN (id, prompt, file_source, terms, created_at)\\n    SELECT \\n        id, \\n        \\'extract_p2\\' as prompt, \\n        \\'documents-2024-12-08-9.json\\' as file_source, \\n        unnest(content.terms) as terms,\\n        now() as created_at\\n    FROM \\n        read_json_auto(\"temp/documents-2024-12-08-9.json\");\\n    '\n",
      "Trying to insert into RAW_SECTION_P2_EXTRACTED_NOUN\n",
      "Data inserted into RAW_SECTION_P2_EXTRACTED_NOUN.\n"
     ]
    }
   ],
   "source": [
    "# Define the directory and pattern\n",
    "directory = Path(\"cfr2sbvr_db/evaluation\")\n",
    "pattern = \"documents-*.json\"\n",
    "\n",
    "# Use glob to find all files matching the pattern\n",
    "files = directory.glob(pattern)\n",
    "\n",
    "drop=True # Drop the table first time\n",
    "for file_path in files:\n",
    "    print(file_path)  # Output each file path\n",
    "    upsert_table_from_json(\n",
    "        conn,\n",
    "        suffix_key_pattern=\"_P2|llm_response\",\n",
    "        prefix_key_pattern=\"§\",\n",
    "        table_name=\"RAW_SECTION_P2_EXTRACTED_NOUN\",\n",
    "        source=file_path,\n",
    "        key_value=\"extract_p2\",\n",
    "        drop=drop,\n",
    "        content_key=\"content.terms\",\n",
    "        alias=\"terms\",\n",
    "        doc_id_key=\"id\"\n",
    "    )\n",
    "    drop=False # Stop dropping tables"
   ]
  },
  {
   "cell_type": "code",
   "execution_count": 95,
   "metadata": {},
   "outputs": [
    {
     "data": {
      "text/plain": [
       "┌──────────────┬────────────┬─────────────────────────────┬─────────────────────────────────────────────────────────────────────────────────────────────────────────────────────────────────────────────────────────────────────────────────────────────────────────────────────────────────────────────────────────────────────────────────────────────────────────────────────────────────────────────────────────────────────────────────────────────────────────────────────────────────────────────────────────────────────────────────────────────────────────┬────────────────────────────┐\n",
       "│      id      │   prompt   │         file_source         │                                                                                                                                                                                                                                                  terms                                                                                                                                                                                                                                                  │         created_at         │\n",
       "│   varchar    │  varchar   │           varchar           │                                                                                                                                                                      struct(term varchar, definition varchar, confidence double, reason varchar, islocalscope boolean, local_scope_confidence double, local_scope_reason varchar)                                                                                                                                                                       │  timestamp with time zone  │\n",
       "├──────────────┼────────────┼─────────────────────────────┼─────────────────────────────────────────────────────────────────────────────────────────────────────────────────────────────────────────────────────────────────────────────────────────────────────────────────────────────────────────────────────────────────────────────────────────────────────────────────────────────────────────────────────────────────────────────────────────────────────────────────────────────────────────────────────────────────────────────────────────────────────────┼────────────────────────────┤\n",
       "│ § 275.0-2_P2 │ extract_p2 │ documents-2024-12-08-1.json │ {'term': Last address, 'definition': NULL, 'confidence': 0.0, 'reason': The term 'Last address' is mentioned but not defined in the document., 'isLocalScope': false, 'local_scope_confidence': 0.0, 'local_scope_reason': There is no indication that the term is defined locally.}                                                                                                                                                                                                                    │ 2024-12-18 00:45:02.856-03 │\n",
       "│ § 275.0-2_P2 │ extract_p2 │ documents-2024-12-08-1.json │ {'term': Last address filed with the Commission, 'definition': NULL, 'confidence': 0.0, 'reason': The term is mentioned but not explicitly defined in the document., 'isLocalScope': false, 'local_scope_confidence': 0.0, 'local_scope_reason': There is no indication that the term is defined locally.}                                                                                                                                                                                              │ 2024-12-18 00:45:02.856-03 │\n",
       "│ § 275.0-2_P2 │ extract_p2 │ documents-2024-12-08-1.json │ {'term': Jurisdiction of the United States, 'definition': NULL, 'confidence': 0.0, 'reason': The document does not provide a specific definition for 'Jurisdiction of the United States'., 'isLocalScope': false, 'local_scope_confidence': 0.0, 'local_scope_reason': No indication of local scope for 'Jurisdiction of the United States'.}                                                                                                                                                           │ 2024-12-18 00:45:02.856-03 │\n",
       "│ § 275.0-2_P2 │ extract_p2 │ documents-2024-12-08-1.json │ {'term': Evidence of service, 'definition': The certification by the Secretary that the Commission was served with process, pleadings, or other papers and forwarded these documents to a named party., 'confidence': 0.8, 'reason': The document describes the evidence of service process., 'isLocalScope': true, 'local_scope_confidence': 0.9, 'local_scope_reason': The process is specific to this section.}                                                                                      │ 2024-12-18 00:45:02.856-03 │\n",
       "│ § 275.0-2_P2 │ extract_p2 │ documents-2024-12-08-1.json │ {'term': Process, 'definition': NULL, 'confidence': 0.0, 'reason': The document does not provide a specific definition for 'Process'., 'isLocalScope': false, 'local_scope_confidence': 0.0, 'local_scope_reason': No indication of local scope for 'Process'.}                                                                                                                                                                                                                                         │ 2024-12-18 00:45:02.856-03 │\n",
       "│ § 275.0-2_P2 │ extract_p2 │ documents-2024-12-08-1.json │ {'term': Pleadings, 'definition': NULL, 'confidence': 0.0, 'reason': The document does not provide a specific definition for 'Pleadings'., 'isLocalScope': false, 'local_scope_confidence': 0.0, 'local_scope_reason': No indication of local scope for 'Pleadings'.}                                                                                                                                                                                                                                   │ 2024-12-18 00:45:02.856-03 │\n",
       "│ § 275.0-2_P2 │ extract_p2 │ documents-2024-12-08-1.json │ {'term': Papers, 'definition': NULL, 'confidence': 0.0, 'reason': The term is mentioned but not defined in the document., 'isLocalScope': false, 'local_scope_confidence': 0.0, 'local_scope_reason': There is no indication that the term is defined locally.}                                                                                                                                                                                                                                         │ 2024-12-18 00:45:02.856-03 │\n",
       "│ § 275.0-2_P2 │ extract_p2 │ documents-2024-12-08-1.json │ {'term': Commission's records, 'definition': Records maintained by the Commission, which include copies of process, pleadings, or other papers served., 'confidence': 0.8, 'reason': The document implies the meaning through context but does not explicitly define it., 'isLocalScope': true, 'local_scope_confidence': 0.8, 'local_scope_reason': The term is used specifically in the context of this section.}                                                                                     │ 2024-12-18 00:45:02.856-03 │\n",
       "│ § 275.0-2_P2 │ extract_p2 │ documents-2024-12-08-1.json │ {'term': Association, 'definition': NULL, 'confidence': 0.5, 'reason': The document does not provide a direct definition for 'Association'. It is mentioned in the context of managing agents., 'isLocalScope': false, 'local_scope_confidence': 0.5, 'local_scope_reason': The term is used in a general context without specific local scope indication.}                                                                                                                                             │ 2024-12-18 00:45:02.856-03 │\n",
       "│ § 275.0-2_P2 │ extract_p2 │ documents-2024-12-08-1.json │ {'term': Non-resident investment adviser, 'definition': NULL, 'confidence': 0.5, 'reason': The document does not provide a direct definition for 'Non-resident investment adviser'. It is mentioned in the context of serving process., 'isLocalScope': false, 'local_scope_confidence': 0.5, 'local_scope_reason': The term is used in a general context without specific local scope indication.}                                                                                                     │ 2024-12-18 00:45:02.856-03 │\n",
       "│      ·       │     ·      │              ·              │                                                                                                                                                               ·                                                                                                                                                                                                                                                                                                                                         │             ·              │\n",
       "│      ·       │     ·      │              ·              │                                                                                                                                                               ·                                                                                                                                                                                                                                                                                                                                         │             ·              │\n",
       "│      ·       │     ·      │              ·              │                                                                                                                                                               ·                                                                                                                                                                                                                                                                                                                                         │             ·              │\n",
       "│ § 275.0-7_P2 │ extract_p2 │ documents-2024-12-08-9.json │ {'term': Elected manager, 'definition': NULL, 'confidence': 0.5, 'reason': The term 'Elected manager' is mentioned in the context of controlling an LLC but not explicitly defined., 'isLocalScope': false, 'local_scope_confidence': 0.5, 'local_scope_reason': There is no indication of local scope for 'Elected manager'.}                                                                                                                                                                          │ 2024-12-18 00:45:03.201-03 │\n",
       "│ § 275.0-7_P2 │ extract_p2 │ documents-2024-12-08-9.json │ {'term': Investment adviser, 'definition': NULL, 'confidence': 0.5, 'reason': The term 'Investment adviser' is mentioned in the context of small business and small organization but not explicitly defined., 'isLocalScope': false, 'local_scope_confidence': 0.5, 'local_scope_reason': There is no indication of local scope for 'Investment adviser'.}                                                                                                                                              │ 2024-12-18 00:45:03.201-03 │\n",
       "│ § 275.0-7_P2 │ extract_p2 │ documents-2024-12-08-9.json │ {'term': Total assets, 'definition': The total assets as shown on the balance sheet of the investment adviser or other person described, or the balance sheet of the investment adviser or such other person with its subsidiaries consolidated, whichever is larger., 'confidence': 0.9, 'reason': The document provides a clear definition of 'Total assets'., 'isLocalScope': true, 'local_scope_confidence': 0.9, 'local_scope_reason': The definition is specific to the context of this section.} │ 2024-12-18 00:45:03.201-03 │\n",
       "│ § 275.0-7_P2 │ extract_p2 │ documents-2024-12-08-9.json │ {'term': Right to receive upon dissolution, 'definition': NULL, 'confidence': 0.5, 'reason': The term 'Right to receive upon dissolution' is mentioned in the context of control but not explicitly defined., 'isLocalScope': false, 'local_scope_confidence': 0.5, 'local_scope_reason': There is no indication of local scope for 'Right to receive upon dissolution'.}                                                                                                                               │ 2024-12-18 00:45:03.201-03 │\n",
       "│ § 275.0-7_P2 │ extract_p2 │ documents-2024-12-08-9.json │ {'term': Person, 'definition': NULL, 'confidence': 0.5, 'reason': The term 'Person' is mentioned in various contexts but not explicitly defined., 'isLocalScope': false, 'local_scope_confidence': 0.5, 'local_scope_reason': There is no indication of local scope for 'Person'.}                                                                                                                                                                                                                      │ 2024-12-18 00:45:03.201-03 │\n",
       "│ § 275.0-7_P2 │ extract_p2 │ documents-2024-12-08-9.json │ {'term': Management, 'definition': NULL, 'confidence': 0.0, 'reason': The term 'Management' is not defined or explained in the document., 'isLocalScope': false, 'local_scope_confidence': 0.0, 'local_scope_reason': There is no indication of local scope for 'Management'.}                                                                                                                                                                                                                          │ 2024-12-18 00:45:03.201-03 │\n",
       "│ § 275.0-7_P2 │ extract_p2 │ documents-2024-12-08-9.json │ {'term': Ownership of securities, 'definition': NULL, 'confidence': 0.5, 'reason': The term 'Ownership of securities' is mentioned in the context of control but not explicitly defined., 'isLocalScope': false, 'local_scope_confidence': 0.5, 'local_scope_reason': There is no indication of local scope for 'Ownership of securities'.}                                                                                                                                                             │ 2024-12-18 00:45:03.201-03 │\n",
       "│ § 275.0-7_P2 │ extract_p2 │ documents-2024-12-08-9.json │ {'term': Natural person, 'definition': NULL, 'confidence': 0.5, 'reason': The term 'Natural person' is mentioned in the context of control but not explicitly defined., 'isLocalScope': false, 'local_scope_confidence': 0.5, 'local_scope_reason': There is no indication of local scope for 'Natural person'.}                                                                                                                                                                                        │ 2024-12-18 00:45:03.201-03 │\n",
       "│ § 275.0-7_P2 │ extract_p2 │ documents-2024-12-08-9.json │ {'term': Assets under management, 'definition': NULL, 'confidence': 0.5, 'reason': The term 'Assets under management' is mentioned in the context of small business and small organization but not explicitly defined., 'isLocalScope': false, 'local_scope_confidence': 0.5, 'local_scope_reason': There is no indication of local scope for 'Assets under management'.}                                                                                                                               │ 2024-12-18 00:45:03.201-03 │\n",
       "│ § 275.0-7_P2 │ extract_p2 │ documents-2024-12-08-9.json │ {'term': Commission, 'definition': NULL, 'confidence': 0.5, 'reason': The term 'Commission' is mentioned in the context of rulemaking but not explicitly defined., 'isLocalScope': false, 'local_scope_confidence': 0.5, 'local_scope_reason': There is no indication of local scope for 'Commission'.}                                                                                                                                                                                                 │ 2024-12-18 00:45:03.201-03 │\n",
       "├──────────────┴────────────┴─────────────────────────────┴─────────────────────────────────────────────────────────────────────────────────────────────────────────────────────────────────────────────────────────────────────────────────────────────────────────────────────────────────────────────────────────────────────────────────────────────────────────────────────────────────────────────────────────────────────────────────────────────────────────────────────────────────────────────────────────────────────────────────────────────────────────┴────────────────────────────┤\n",
       "│ 850 rows (20 shown)                                                                                                                                                                                                                                                                                                                                                                                                                                                                                                                                                                  5 columns │\n",
       "└────────────────────────────────────────────────────────────────────────────────────────────────────────────────────────────────────────────────────────────────────────────────────────────────────────────────────────────────────────────────────────────────────────────────────────────────────────────────────────────────────────────────────────────────────────────────────────────────────────────────────────────────────────────────────────────────────────────────────────────────────────────────────────────────────────────────────────────────────────────────────────────────┘"
      ]
     },
     "execution_count": 95,
     "metadata": {},
     "output_type": "execute_result"
    }
   ],
   "source": [
    "query = \"\"\"\n",
    "SELECT * FROM RAW_SECTION_P2_EXTRACTED_NOUN;\n",
    "\"\"\"\n",
    "\n",
    "conn.sql(query)"
   ]
  },
  {
   "cell_type": "markdown",
   "metadata": {},
   "source": [
    "Total verb symbols extracted"
   ]
  },
  {
   "cell_type": "code",
   "execution_count": 104,
   "metadata": {},
   "outputs": [
    {
     "data": {
      "text/plain": [
       "┌──────────────┬─────────────┬──────────────────────┐\n",
       "│      id      │ total_terms │ total_terms_distinct │\n",
       "│   varchar    │    int64    │        int64         │\n",
       "├──────────────┼─────────────┼──────────────────────┤\n",
       "│ § 275.0-7_P2 │         320 │                   32 │\n",
       "│ § 275.0-5_P2 │         230 │                   23 │\n",
       "│ § 275.0-2_P2 │         300 │                   30 │\n",
       "└──────────────┴─────────────┴──────────────────────┘"
      ]
     },
     "execution_count": 104,
     "metadata": {},
     "output_type": "execute_result"
    }
   ],
   "source": [
    "query = \"\"\"\n",
    "SELECT\n",
    "    id, COUNT(terms) AS total_terms, COUNT(DISTINCT terms) AS total_terms_distinct\n",
    "FROM RAW_SECTION_P2_EXTRACTED_NOUN\n",
    "GROUP BY id;\n",
    "\"\"\"\n",
    "\n",
    "conn.sql(query)"
   ]
  },
  {
   "cell_type": "markdown",
   "metadata": {},
   "source": [
    "distinct verb symbols"
   ]
  },
  {
   "cell_type": "code",
   "execution_count": 97,
   "metadata": {},
   "outputs": [
    {
     "data": {
      "text/plain": [
       "┌──────────────┬────────────────────────────────────────┬──────────────────────────────────────────────────────────────────────────────────────────────────────────────────────────────────────────────────────────────────────────────────────────────────────────────────────────────────┬───────────────┬──────────────┐\n",
       "│      id      │                  term                  │                                                                                                            definition                                                                                                            │ hasDefinition │ isLocalScope │\n",
       "│   varchar    │                varchar                 │                                                                                                             varchar                                                                                                              │     int32     │   boolean    │\n",
       "├──────────────┼────────────────────────────────────────┼──────────────────────────────────────────────────────────────────────────────────────────────────────────────────────────────────────────────────────────────────────────────────────────────────────────────────────────────────┼───────────────┼──────────────┤\n",
       "│ § 275.0-2_P2 │ Last address                           │ NULL                                                                                                                                                                                                                             │             0 │ false        │\n",
       "│ § 275.0-2_P2 │ Last address filed with the Commission │ NULL                                                                                                                                                                                                                             │             0 │ false        │\n",
       "│ § 275.0-2_P2 │ Jurisdiction of the United States      │ NULL                                                                                                                                                                                                                             │             0 │ false        │\n",
       "│ § 275.0-2_P2 │ Evidence of service                    │ The certification by the Secretary that the Commission was served with process, pleadings, or other papers and forwarded these documents to a named party.                                                                       │             1 │ true         │\n",
       "│ § 275.0-2_P2 │ Process                                │ NULL                                                                                                                                                                                                                             │             0 │ false        │\n",
       "│ § 275.0-2_P2 │ Pleadings                              │ NULL                                                                                                                                                                                                                             │             0 │ false        │\n",
       "│ § 275.0-2_P2 │ Papers                                 │ NULL                                                                                                                                                                                                                             │             0 │ false        │\n",
       "│ § 275.0-2_P2 │ Commission's records                   │ Records maintained by the Commission, which include copies of process, pleadings, or other papers served.                                                                                                                        │             1 │ true         │\n",
       "│ § 275.0-2_P2 │ Association                            │ NULL                                                                                                                                                                                                                             │             0 │ false        │\n",
       "│ § 275.0-2_P2 │ Non-resident investment adviser        │ NULL                                                                                                                                                                                                                             │             0 │ false        │\n",
       "│      ·       │        ·                               │  ·                                                                                                                                                                                                                               │             · │   ·          │\n",
       "│      ·       │        ·                               │  ·                                                                                                                                                                                                                               │             · │   ·          │\n",
       "│      ·       │        ·                               │  ·                                                                                                                                                                                                                               │             · │   ·          │\n",
       "│ § 275.0-7_P2 │ Elected manager                        │ NULL                                                                                                                                                                                                                             │             0 │ false        │\n",
       "│ § 275.0-7_P2 │ Investment adviser                     │ NULL                                                                                                                                                                                                                             │             0 │ false        │\n",
       "│ § 275.0-7_P2 │ Total assets                           │ The total assets as shown on the balance sheet of the investment adviser or other person described, or the balance sheet of the investment adviser or such other person with its subsidiaries consolidated, whichever is larger. │             1 │ true         │\n",
       "│ § 275.0-7_P2 │ Right to receive upon dissolution      │ NULL                                                                                                                                                                                                                             │             0 │ false        │\n",
       "│ § 275.0-7_P2 │ Person                                 │ NULL                                                                                                                                                                                                                             │             0 │ false        │\n",
       "│ § 275.0-7_P2 │ Management                             │ NULL                                                                                                                                                                                                                             │             0 │ false        │\n",
       "│ § 275.0-7_P2 │ Ownership of securities                │ NULL                                                                                                                                                                                                                             │             0 │ false        │\n",
       "│ § 275.0-7_P2 │ Natural person                         │ NULL                                                                                                                                                                                                                             │             0 │ false        │\n",
       "│ § 275.0-7_P2 │ Assets under management                │ NULL                                                                                                                                                                                                                             │             0 │ false        │\n",
       "│ § 275.0-7_P2 │ Commission                             │ NULL                                                                                                                                                                                                                             │             0 │ false        │\n",
       "├──────────────┴────────────────────────────────────────┴──────────────────────────────────────────────────────────────────────────────────────────────────────────────────────────────────────────────────────────────────────────────────────────────────────────────────────────────────┴───────────────┴──────────────┤\n",
       "│ 850 rows (20 shown)                                                                                                                                                                                                                                                                                           5 columns │\n",
       "└─────────────────────────────────────────────────────────────────────────────────────────────────────────────────────────────────────────────────────────────────────────────────────────────────────────────────────────────────────────────────────────────────────────────────────────────────────────────────────────┘"
      ]
     },
     "execution_count": 97,
     "metadata": {},
     "output_type": "execute_result"
    }
   ],
   "source": [
    "query = \"\"\"\n",
    "SELECT\n",
    "    id, terms.term as term, terms.definition as definition, if(terms.definition is NULL, 0, 1) as hasDefinition, terms.isLocalScope as isLocalScope\n",
    "FROM RAW_SECTION_P2_EXTRACTED_NOUN\n",
    "-- GROUP BY id;\n",
    "\"\"\"\n",
    "\n",
    "conn.sql(query)"
   ]
  },
  {
   "cell_type": "markdown",
   "metadata": {},
   "source": [
    "How many terms has definition"
   ]
  },
  {
   "cell_type": "code",
   "execution_count": 107,
   "metadata": {},
   "outputs": [
    {
     "data": {
      "text/plain": [
       "┌──────────────┬───────┬───────────────┬────────────────────┐\n",
       "│      id      │ term  │ hasDefinition │       ratio        │\n",
       "│   varchar    │ int64 │     int64     │       double       │\n",
       "├──────────────┼───────┼───────────────┼────────────────────┤\n",
       "│ § 275.0-2_P2 │   300 │            60 │                0.2 │\n",
       "│ § 275.0-5_P2 │   230 │           190 │ 0.8260869565217391 │\n",
       "│ § 275.0-7_P2 │   320 │            80 │               0.25 │\n",
       "└──────────────┴───────┴───────────────┴────────────────────┘"
      ]
     },
     "execution_count": 107,
     "metadata": {},
     "output_type": "execute_result"
    }
   ],
   "source": [
    "query = \"\"\"\n",
    "SELECT\n",
    "    id, count(terms) as term, count(if(terms.definition is NULL, NULL, 1)) as hasDefinition, count(if(terms.definition is NULL, NULL, 1)) / count(terms) as ratio\n",
    "FROM RAW_SECTION_P2_EXTRACTED_NOUN\n",
    "GROUP BY id\n",
    "ORDER BY id\n",
    ";\n",
    "\"\"\"\n",
    "\n",
    "conn.sql(query)"
   ]
  },
  {
   "cell_type": "code",
   "execution_count": 111,
   "metadata": {},
   "outputs": [
    {
     "data": {
      "text/plain": [
       "┌──────────────┬───────┬──────────────┐\n",
       "│      id      │ term  │ isLocalScope │\n",
       "│   varchar    │ int64 │   boolean    │\n",
       "├──────────────┼───────┼──────────────┤\n",
       "│ § 275.0-2_P2 │   240 │ false        │\n",
       "│ § 275.0-2_P2 │    60 │ true         │\n",
       "│ § 275.0-5_P2 │   180 │ true         │\n",
       "│ § 275.0-5_P2 │    50 │ false        │\n",
       "│ § 275.0-7_P2 │    80 │ true         │\n",
       "│ § 275.0-7_P2 │   240 │ false        │\n",
       "└──────────────┴───────┴──────────────┘"
      ]
     },
     "execution_count": 111,
     "metadata": {},
     "output_type": "execute_result"
    }
   ],
   "source": [
    "query = \"\"\"\n",
    "SELECT\n",
    "    id, count(terms) as term, terms.isLocalScope as isLocalScope\n",
    "FROM RAW_SECTION_P2_EXTRACTED_NOUN\n",
    "GROUP BY id, terms.isLocalScope\n",
    "ORDER BY id\n",
    ";\n",
    "\"\"\"\n",
    "\n",
    "conn.sql(query)"
   ]
  },
  {
   "cell_type": "markdown",
   "metadata": {},
   "source": [
    "isLocalScope per id"
   ]
  },
  {
   "cell_type": "code",
   "execution_count": 100,
   "metadata": {},
   "outputs": [
    {
     "data": {
      "text/plain": [
       "┌──────────────┬───────┬──────────────┬───────────────────┐\n",
       "│      id      │ term  │ isLocalScope │    percentage     │\n",
       "│   varchar    │ int64 │   boolean    │      double       │\n",
       "├──────────────┼───────┼──────────────┼───────────────────┤\n",
       "│ § 275.0-2_P2 │   240 │ false        │              80.0 │\n",
       "│ § 275.0-2_P2 │    60 │ true         │              20.0 │\n",
       "│ § 275.0-5_P2 │    50 │ false        │ 21.73913043478261 │\n",
       "│ § 275.0-5_P2 │   180 │ true         │ 78.26086956521739 │\n",
       "│ § 275.0-7_P2 │   240 │ false        │              75.0 │\n",
       "│ § 275.0-7_P2 │    80 │ true         │              25.0 │\n",
       "└──────────────┴───────┴──────────────┴───────────────────┘"
      ]
     },
     "execution_count": 100,
     "metadata": {},
     "output_type": "execute_result"
    }
   ],
   "source": [
    "query = \"\"\"\n",
    "WITH TotalCounts AS (\n",
    "    SELECT\n",
    "        id,\n",
    "        COUNT(terms) AS total_terms\n",
    "    FROM RAW_SECTION_P2_EXTRACTED_NOUN\n",
    "    GROUP BY id\n",
    ")\n",
    "SELECT\n",
    "    e.id,\n",
    "    COUNT(e.terms) AS term,\n",
    "    e.terms.isLocalScope AS isLocalScope,\n",
    "    (COUNT(e.terms) * 100.0 / tc.total_terms) AS percentage\n",
    "FROM RAW_SECTION_P2_EXTRACTED_NOUN e\n",
    "JOIN TotalCounts tc ON e.id = tc.id\n",
    "GROUP BY e.id, e.terms.isLocalScope, tc.total_terms\n",
    "ORDER BY e.id, e.terms.isLocalScope;\n",
    "\"\"\"\n",
    "\n",
    "conn.sql(query)"
   ]
  },
  {
   "cell_type": "code",
   "execution_count": 101,
   "metadata": {},
   "outputs": [
    {
     "data": {
      "text/plain": [
       "┌─────────┬──────────────────────────────────────────────────────────────────────────────────────────────────────────────────────────────────────────────────────────────┬──────────────┐\n",
       "│   id    │                                                                            terms                                                                             │ isLocalScope │\n",
       "│ varchar │ struct(term varchar, definition varchar, confidence double, reason varchar, islocalscope boolean, local_scope_confidence double, local_scope_reason varchar) │   boolean    │\n",
       "├─────────┴──────────────────────────────────────────────────────────────────────────────────────────────────────────────────────────────────────────────────────────────┴──────────────┤\n",
       "│                                                                                        0 rows                                                                                         │\n",
       "└───────────────────────────────────────────────────────────────────────────────────────────────────────────────────────────────────────────────────────────────────────────────────────┘"
      ]
     },
     "execution_count": 101,
     "metadata": {},
     "output_type": "execute_result"
    }
   ],
   "source": [
    "query = \"\"\"\n",
    "SELECT\n",
    "    id, terms, terms.isLocalScope as isLocalScope\n",
    "FROM RAW_SECTION_P2_EXTRACTED_NOUN\n",
    "WHERE terms.isLocalScope is NULL\n",
    ";\n",
    "\"\"\"\n",
    "\n",
    "conn.sql(query)"
   ]
  },
  {
   "cell_type": "markdown",
   "metadata": {},
   "source": [
    "## Classify"
   ]
  },
  {
   "cell_type": "markdown",
   "metadata": {},
   "source": [
    "Metadata"
   ]
  },
  {
   "cell_type": "code",
   "execution_count": 46,
   "metadata": {},
   "outputs": [
    {
     "data": {
      "text/plain": [
       "┌────────────────┬────────────┬────────────────────────────────┬─────────────────────────────┬─────────────────────────────────────────┬────────────────────────────┐\n",
       "│    process     │ doc_source │             doc_id             │          doc_type           │               table_name                │         created_at         │\n",
       "│    varchar     │  varchar   │            varchar             │           varchar           │                 varchar                 │  timestamp with time zone  │\n",
       "├────────────────┼────────────┼────────────────────────────────┼─────────────────────────────┼─────────────────────────────────────────┼────────────────────────────┤\n",
       "│ classification │ true       │ classify_P1                    │ true_table                  │ RAW_CLASSIFY_P1_OPERATIVE_RULES_TRUE    │ 2024-12-18 00:31:26.968-03 │\n",
       "│ classification │ pred       │ classify_P1                    │ llm_response_classification │ RAW_CLASSIFY_P1_OPERATIVE_RULES         │ 2024-12-18 00:31:26.968-03 │\n",
       "│ classification │ true       │ classify_P2_Definitional_facts │ true_table                  │ RAW_CLASSIFY_P2_DEFINITIONAL_FACTS_TRUE │ 2024-12-18 00:31:26.968-03 │\n",
       "│ classification │ pred       │ classify_P2_Definitional_facts │ llm_response_classification │ RAW_CLASSIFY_P2_DEFINITIONAL_FACTS      │ 2024-12-18 00:31:26.968-03 │\n",
       "│ classification │ true       │ classify_P2_Definitional_names │ true_table                  │ RAW_CLASSIFY_P2_DEFINITIONAL_NAMES_TRUE │ 2024-12-18 00:31:26.968-03 │\n",
       "│ classification │ pred       │ classify_P2_Definitional_names │ llm_response_classification │ RAW_CLASSIFY_P2_DEFINITIONAL_NAMES      │ 2024-12-18 00:31:26.968-03 │\n",
       "│ classification │ pred       │ classify_P2_Definitional_terms │ true_table                  │ RAW_CLASSIFY_P2_DEFINITIONAL_TERMS_TRUE │ 2024-12-18 00:31:26.968-03 │\n",
       "│ classification │ pred       │ classify_P2_Definitional_terms │ llm_response_classification │ RAW_CLASSIFY_P2_DEFINITIONAL_TERMS      │ 2024-12-18 00:31:26.968-03 │\n",
       "│ classification │ true       │ classify_P2_Operative_rules    │ true_table                  │ RAW_CLASSIFY_P2_OPERATIVE_RULES_TRUE    │ 2024-12-18 00:31:26.968-03 │\n",
       "│ classification │ pred       │ classify_P2_Operative_rules    │ llm_response_classification │ RAW_CLASSIFY_P2_OPERATIVE_RULES         │ 2024-12-18 00:31:26.968-03 │\n",
       "├────────────────┴────────────┴────────────────────────────────┴─────────────────────────────┴─────────────────────────────────────────┴────────────────────────────┤\n",
       "│ 10 rows                                                                                                                                                 6 columns │\n",
       "└───────────────────────────────────────────────────────────────────────────────────────────────────────────────────────────────────────────────────────────────────┘"
      ]
     },
     "execution_count": 46,
     "metadata": {},
     "output_type": "execute_result"
    }
   ],
   "source": [
    "query = \"\"\"\n",
    "SELECT *,\n",
    "FROM CHECKPOINT_METADATA\n",
    "WHERE PROCESS='classification'\n",
    "ORDER BY DOC_ID, DOC_TYPE DESC;\n",
    "\"\"\"\n",
    "\n",
    "conn.sql(query)"
   ]
  },
  {
   "cell_type": "markdown",
   "metadata": {},
   "source": [
    "### Classify P1 - Operative Rules into top-level Witt(2012) taxonomy (P1)"
   ]
  },
  {
   "cell_type": "markdown",
   "metadata": {},
   "source": [
    "True table"
   ]
  },
  {
   "cell_type": "code",
   "execution_count": 47,
   "metadata": {},
   "outputs": [
    {
     "name": "stdout",
     "output_type": "stream",
     "text": [
      "classify_P1|true_table\n",
      "_query_drop_table='\\n        DROP TABLE IF EXISTS RAW_CLASSIFY_P1_OPERATIVE_RULES_TRUE;\\n        '\n",
      "Trying to drop table because drop parameter is True\n",
      "Table RAW_CLASSIFY_P1_OPERATIVE_RULES_TRUE dropped\n",
      "_query_insert_data='\\n    INSERT INTO RAW_CLASSIFY_P1_OPERATIVE_RULES_TRUE (id, prompt, file_source, content, created_at)\\n    SELECT \\n        id, \\n        \\'classify_p1\\' as prompt, \\n        \\'documents_true_table.json\\' as file_source, \\n        unnest(content) as content,\\n        now() as created_at\\n    FROM \\n        read_json_auto(\"temp/documents_true_table.json\");\\n    '\n",
      "Trying to insert into RAW_CLASSIFY_P1_OPERATIVE_RULES_TRUE\n",
      "Catalog Error: Table with name RAW_CLASSIFY_P1_OPERATIVE_RULES_TRUE does not exist!\n",
      "Did you mean \"database_v3.RAW_CLASSIFY_P1_OPERATIVE_RULES_TRUE\"?\n",
      "Failed to insert, trying create RAW_CLASSIFY_P1_OPERATIVE_RULES_TRUE\n",
      "_query_create_table='\\n        CREATE TABLE RAW_CLASSIFY_P1_OPERATIVE_RULES_TRUE AS\\n        SELECT id, \\n        \\'classify_p1\\' as prompt, \\n        \\'documents_true_table.json\\' as file_source, \\n        unnest(content) as content,\\n        now() as \\'created_at\\'\\n        FROM read_json_auto(\"temp/documents_true_table.json\");\\n        '\n",
      "Table RAW_CLASSIFY_P1_OPERATIVE_RULES_TRUE created and loaded.\n"
     ]
    },
    {
     "data": {
      "text/plain": [
       "True"
      ]
     },
     "execution_count": 47,
     "metadata": {},
     "output_type": "execute_result"
    }
   ],
   "source": [
    "upsert_table_from_json(\n",
    "    conn,\n",
    "    suffix_key_pattern=\"classify_P1|true_table\",\n",
    "    prefix_key_pattern=\"\",\n",
    "    table_name=\"RAW_CLASSIFY_P1_OPERATIVE_RULES_TRUE\",\n",
    "    source=\"cfr2sbvr_db/true/documents_true_table.json\",\n",
    "    key_value=\"classify_p1\",\n",
    "    drop=True,\n",
    "    content_key=\"content\",\n",
    "    alias=\"content\",\n",
    "    doc_id_key=\"id\"\n",
    ")"
   ]
  },
  {
   "cell_type": "code",
   "execution_count": 48,
   "metadata": {},
   "outputs": [
    {
     "data": {
      "text/plain": [
       "┌───────────┬──────────────┬──────────────────────────────────────────────────────────────────────────────────────────────────────────────────────────────────────────────────────────────────────────────────────────────────────────────────────────────────────────────────────────────────────────────────────────────────────────────────┬───────────┬───────────────────────────┬────────────────┐\n",
       "│    id     │ statement_id │                                                                                                                                                    statement                                                                                                                                                     │  sources  │        file_source        │      type      │\n",
       "│  varchar  │   varchar    │                                                                                                                                                     varchar                                                                                                                                                      │ varchar[] │          varchar          │    varchar     │\n",
       "├───────────┼──────────────┼──────────────────────────────────────────────────────────────────────────────────────────────────────────────────────────────────────────────────────────────────────────────────────────────────────────────────────────────────────────────────────────────────────────────────────────────────────────────────┼───────────┼───────────────────────────┼────────────────┤\n",
       "│ § 275.0-2 │ 3            │ The Secretary of the Commission (Secretary) will promptly forward a copy to each named party by registered or certified mail at that party's last address filed with the Commission.                                                                                                                             │ [(a)(2)]  │ documents_true_table.json │ Party rules    │\n",
       "│ § 275.0-2 │ 4            │ If the Secretary certifies that the Commission was served with process, pleadings, or other papers pursuant to paragraph (a)(1) of this section and forwarded these documents to a named party pursuant to paragraph (a)(2) of this section, this certification constitutes evidence of service upon that party. │ [(a)(3)]  │ documents_true_table.json │ Party rules    │\n",
       "│ § 275.0-5 │ 1            │ Notice of the initiation of the proceeding will be published in the Federal Register and will indicate the earliest date upon which an order disposing of the matter may be entered.                                                                                                                             │ [(a)]     │ documents_true_table.json │ Activity rules │\n",
       "│ § 275.0-5 │ 2            │ Any interested person may, within the period of time specified therein, submit to the Commission in writing any facts bearing upon the desirability of a hearing on the matter and may request that a hearing be held, stating his reasons therefor and the nature of his interest in the matter.                │ [(a)]     │ documents_true_table.json │ Party rules    │\n",
       "│ § 275.0-5 │ 3            │ An order disposing of the matter will be issued as of course following the expiration of the period of time referred to in paragraph (a) of this section, unless the Commission thereafter orders a hearing on the matter.                                                                                       │ [(b)]     │ documents_true_table.json │ Activity rules │\n",
       "│ § 275.0-5 │ 4            │ The Commission will order a hearing on the matter, if it appears that a hearing is necessary or appropriate in the public interest or for the protection of investors, upon the request of any interested person or upon its own motion.                                                                         │ [(c)]     │ documents_true_table.json │ Activity rules │\n",
       "└───────────┴──────────────┴──────────────────────────────────────────────────────────────────────────────────────────────────────────────────────────────────────────────────────────────────────────────────────────────────────────────────────────────────────────────────────────────────────────────────────────────────────────────────┴───────────┴───────────────────────────┴────────────────┘"
      ]
     },
     "execution_count": 48,
     "metadata": {},
     "output_type": "execute_result"
    }
   ],
   "source": [
    "query = \"\"\"\n",
    "SELECT\n",
    "    content.doc_id as id,\n",
    "    content.statement_id,\n",
    "    content.statement,\n",
    "    content.sources,\n",
    "    'documents_true_table.json' as file_source,\n",
    "    content.type\n",
    "FROM RAW_CLASSIFY_P1_OPERATIVE_RULES_TRUE\n",
    ";\n",
    "\"\"\"\n",
    "\n",
    "true_clasify_p1 = conn.sql(query).fetchall()\n",
    "\n",
    "conn.sql(query)"
   ]
  },
  {
   "cell_type": "markdown",
   "metadata": {},
   "source": [
    "Predict table"
   ]
  },
  {
   "cell_type": "code",
   "execution_count": 49,
   "metadata": {},
   "outputs": [
    {
     "name": "stdout",
     "output_type": "stream",
     "text": [
      "cfr2sbvr_db/evaluation/documents-2024-12-08-1.json\n",
      "classify_P1|llm_response_classification\n",
      "_query_drop_table='\\n        DROP TABLE IF EXISTS RAW_CLASSIFY_P1_OPERATIVE_RULES;\\n        '\n",
      "Trying to drop table because drop parameter is True\n",
      "Table RAW_CLASSIFY_P1_OPERATIVE_RULES dropped\n",
      "_query_insert_data='\\n    INSERT INTO RAW_CLASSIFY_P1_OPERATIVE_RULES (id, prompt, file_source, content, created_at)\\n    SELECT \\n        id, \\n        \\'classify_p1\\' as prompt, \\n        \\'documents-2024-12-08-1.json\\' as file_source, \\n        unnest(content) as content,\\n        now() as created_at\\n    FROM \\n        read_json_auto(\"temp/documents-2024-12-08-1.json\");\\n    '\n",
      "Trying to insert into RAW_CLASSIFY_P1_OPERATIVE_RULES\n",
      "Catalog Error: Table with name RAW_CLASSIFY_P1_OPERATIVE_RULES does not exist!\n",
      "Did you mean \"database_v3.RAW_CLASSIFY_P1_OPERATIVE_RULES\"?\n",
      "Failed to insert, trying create RAW_CLASSIFY_P1_OPERATIVE_RULES\n",
      "_query_create_table='\\n        CREATE TABLE RAW_CLASSIFY_P1_OPERATIVE_RULES AS\\n        SELECT id, \\n        \\'classify_p1\\' as prompt, \\n        \\'documents-2024-12-08-1.json\\' as file_source, \\n        unnest(content) as content,\\n        now() as \\'created_at\\'\\n        FROM read_json_auto(\"temp/documents-2024-12-08-1.json\");\\n        '\n",
      "Table RAW_CLASSIFY_P1_OPERATIVE_RULES created and loaded.\n",
      "cfr2sbvr_db/evaluation/documents-2024-12-08-10.json\n",
      "classify_P1|llm_response_classification\n",
      "_query_insert_data='\\n    INSERT INTO RAW_CLASSIFY_P1_OPERATIVE_RULES (id, prompt, file_source, content, created_at)\\n    SELECT \\n        id, \\n        \\'classify_p1\\' as prompt, \\n        \\'documents-2024-12-08-10.json\\' as file_source, \\n        unnest(content) as content,\\n        now() as created_at\\n    FROM \\n        read_json_auto(\"temp/documents-2024-12-08-10.json\");\\n    '\n",
      "Trying to insert into RAW_CLASSIFY_P1_OPERATIVE_RULES\n",
      "Data inserted into RAW_CLASSIFY_P1_OPERATIVE_RULES.\n",
      "cfr2sbvr_db/evaluation/documents-2024-12-08-2.json\n",
      "classify_P1|llm_response_classification\n",
      "_query_insert_data='\\n    INSERT INTO RAW_CLASSIFY_P1_OPERATIVE_RULES (id, prompt, file_source, content, created_at)\\n    SELECT \\n        id, \\n        \\'classify_p1\\' as prompt, \\n        \\'documents-2024-12-08-2.json\\' as file_source, \\n        unnest(content) as content,\\n        now() as created_at\\n    FROM \\n        read_json_auto(\"temp/documents-2024-12-08-2.json\");\\n    '\n",
      "Trying to insert into RAW_CLASSIFY_P1_OPERATIVE_RULES\n",
      "Data inserted into RAW_CLASSIFY_P1_OPERATIVE_RULES.\n",
      "cfr2sbvr_db/evaluation/documents-2024-12-08-3.json\n",
      "classify_P1|llm_response_classification\n",
      "_query_insert_data='\\n    INSERT INTO RAW_CLASSIFY_P1_OPERATIVE_RULES (id, prompt, file_source, content, created_at)\\n    SELECT \\n        id, \\n        \\'classify_p1\\' as prompt, \\n        \\'documents-2024-12-08-3.json\\' as file_source, \\n        unnest(content) as content,\\n        now() as created_at\\n    FROM \\n        read_json_auto(\"temp/documents-2024-12-08-3.json\");\\n    '\n",
      "Trying to insert into RAW_CLASSIFY_P1_OPERATIVE_RULES\n",
      "Data inserted into RAW_CLASSIFY_P1_OPERATIVE_RULES.\n",
      "cfr2sbvr_db/evaluation/documents-2024-12-08-4.json\n",
      "classify_P1|llm_response_classification\n",
      "_query_insert_data='\\n    INSERT INTO RAW_CLASSIFY_P1_OPERATIVE_RULES (id, prompt, file_source, content, created_at)\\n    SELECT \\n        id, \\n        \\'classify_p1\\' as prompt, \\n        \\'documents-2024-12-08-4.json\\' as file_source, \\n        unnest(content) as content,\\n        now() as created_at\\n    FROM \\n        read_json_auto(\"temp/documents-2024-12-08-4.json\");\\n    '\n",
      "Trying to insert into RAW_CLASSIFY_P1_OPERATIVE_RULES\n",
      "Data inserted into RAW_CLASSIFY_P1_OPERATIVE_RULES.\n",
      "cfr2sbvr_db/evaluation/documents-2024-12-08-5.json\n",
      "classify_P1|llm_response_classification\n",
      "_query_insert_data='\\n    INSERT INTO RAW_CLASSIFY_P1_OPERATIVE_RULES (id, prompt, file_source, content, created_at)\\n    SELECT \\n        id, \\n        \\'classify_p1\\' as prompt, \\n        \\'documents-2024-12-08-5.json\\' as file_source, \\n        unnest(content) as content,\\n        now() as created_at\\n    FROM \\n        read_json_auto(\"temp/documents-2024-12-08-5.json\");\\n    '\n",
      "Trying to insert into RAW_CLASSIFY_P1_OPERATIVE_RULES\n",
      "Data inserted into RAW_CLASSIFY_P1_OPERATIVE_RULES.\n",
      "cfr2sbvr_db/evaluation/documents-2024-12-08-6.json\n",
      "classify_P1|llm_response_classification\n",
      "_query_insert_data='\\n    INSERT INTO RAW_CLASSIFY_P1_OPERATIVE_RULES (id, prompt, file_source, content, created_at)\\n    SELECT \\n        id, \\n        \\'classify_p1\\' as prompt, \\n        \\'documents-2024-12-08-6.json\\' as file_source, \\n        unnest(content) as content,\\n        now() as created_at\\n    FROM \\n        read_json_auto(\"temp/documents-2024-12-08-6.json\");\\n    '\n",
      "Trying to insert into RAW_CLASSIFY_P1_OPERATIVE_RULES\n",
      "Data inserted into RAW_CLASSIFY_P1_OPERATIVE_RULES.\n",
      "cfr2sbvr_db/evaluation/documents-2024-12-08-7.json\n",
      "classify_P1|llm_response_classification\n",
      "_query_insert_data='\\n    INSERT INTO RAW_CLASSIFY_P1_OPERATIVE_RULES (id, prompt, file_source, content, created_at)\\n    SELECT \\n        id, \\n        \\'classify_p1\\' as prompt, \\n        \\'documents-2024-12-08-7.json\\' as file_source, \\n        unnest(content) as content,\\n        now() as created_at\\n    FROM \\n        read_json_auto(\"temp/documents-2024-12-08-7.json\");\\n    '\n",
      "Trying to insert into RAW_CLASSIFY_P1_OPERATIVE_RULES\n",
      "Data inserted into RAW_CLASSIFY_P1_OPERATIVE_RULES.\n",
      "cfr2sbvr_db/evaluation/documents-2024-12-08-8.json\n",
      "classify_P1|llm_response_classification\n",
      "_query_insert_data='\\n    INSERT INTO RAW_CLASSIFY_P1_OPERATIVE_RULES (id, prompt, file_source, content, created_at)\\n    SELECT \\n        id, \\n        \\'classify_p1\\' as prompt, \\n        \\'documents-2024-12-08-8.json\\' as file_source, \\n        unnest(content) as content,\\n        now() as created_at\\n    FROM \\n        read_json_auto(\"temp/documents-2024-12-08-8.json\");\\n    '\n",
      "Trying to insert into RAW_CLASSIFY_P1_OPERATIVE_RULES\n",
      "Data inserted into RAW_CLASSIFY_P1_OPERATIVE_RULES.\n",
      "cfr2sbvr_db/evaluation/documents-2024-12-08-9.json\n",
      "classify_P1|llm_response_classification\n",
      "_query_insert_data='\\n    INSERT INTO RAW_CLASSIFY_P1_OPERATIVE_RULES (id, prompt, file_source, content, created_at)\\n    SELECT \\n        id, \\n        \\'classify_p1\\' as prompt, \\n        \\'documents-2024-12-08-9.json\\' as file_source, \\n        unnest(content) as content,\\n        now() as created_at\\n    FROM \\n        read_json_auto(\"temp/documents-2024-12-08-9.json\");\\n    '\n",
      "Trying to insert into RAW_CLASSIFY_P1_OPERATIVE_RULES\n",
      "Data inserted into RAW_CLASSIFY_P1_OPERATIVE_RULES.\n"
     ]
    }
   ],
   "source": [
    "# Define the directory and pattern\n",
    "directory = Path(\"cfr2sbvr_db/evaluation\")\n",
    "pattern = \"documents-*.json\"\n",
    "\n",
    "# Use glob to find all files matching the pattern\n",
    "files = directory.glob(pattern)\n",
    "\n",
    "drop=True # Drop the table first time\n",
    "for file_path in files:\n",
    "    print(file_path)  # Output each file path\n",
    "    upsert_table_from_json(\n",
    "        conn,\n",
    "        suffix_key_pattern=\"classify_P1|llm_response_classification\",\n",
    "        prefix_key_pattern=\"\",\n",
    "        table_name=\"RAW_CLASSIFY_P1_OPERATIVE_RULES\",\n",
    "        source=file_path,\n",
    "        key_value=\"classify_p1\",\n",
    "        drop=drop,\n",
    "        content_key=\"content\",\n",
    "        alias=\"content\",\n",
    "        doc_id_key=\"id\"\n",
    "    )\n",
    "    drop=False # Stop dropping tables"
   ]
  },
  {
   "cell_type": "code",
   "execution_count": 50,
   "metadata": {},
   "outputs": [
    {
     "data": {
      "text/plain": [
       "┌─────────────┬─────────────┬──────────────────────────────┬──────────────────────────────────────────────────────────────────────────────────────────────────────────────────────────────────────────────────────────────────────────────────────────────────────────────────────────────────────────────────────────────────────────────────────────────────────────────────────────────────────────────────────────────────────────────────────────────────────────────────────────────────────────────────────────────────────────────────────────────────────────────────────────────────────────────────────────────────────────────────────────────────────────────────────────────────────────────────────────────────────────────────────────────────────────────────────────────────────────────────────────────────────────────────────────────────────────────────────────────────────────────────────────────────────────────────────────────────────────────────────────────────────────────────────────────────────────────────────────────────────────────────────────────────────────────────────────────────────────────────────────────────────────────────────────────────────────────────────────────────────┬────────────────────────────┐\n",
       "│     id      │   prompt    │         file_source          │                                                                                                                                                                                                                                                                                                                                                                                                                                                                                                                                                                               content                                                                                                                                                                                                                                                                                                                                                                                                                                                                                                                                                                                │         created_at         │\n",
       "│   varchar   │   varchar   │           varchar            │                                                                                                                                                                                                                                                                                                                                                                                                                                                                             struct(doc_id varchar, statement_id varchar, statement_title varchar, statement_text varchar, statement_sources varchar[], classification struct(\"type\" varchar, confidence double, explanation varchar)[])                                                                                                                                                                                                                                                                                                                                                                                                                                                                              │  timestamp with time zone  │\n",
       "├─────────────┼─────────────┼──────────────────────────────┼──────────────────────────────────────────────────────────────────────────────────────────────────────────────────────────────────────────────────────────────────────────────────────────────────────────────────────────────────────────────────────────────────────────────────────────────────────────────────────────────────────────────────────────────────────────────────────────────────────────────────────────────────────────────────────────────────────────────────────────────────────────────────────────────────────────────────────────────────────────────────────────────────────────────────────────────────────────────────────────────────────────────────────────────────────────────────────────────────────────────────────────────────────────────────────────────────────────────────────────────────────────────────────────────────────────────────────────────────────────────────────────────────────────────────────────────────────────────────────────────────────────────────────────────────────────────────────────────────────────────────────────────────────────────────────────────────────────────────────────────────────┼────────────────────────────┤\n",
       "│ classify_P1 │ classify_p1 │ documents-2024-12-08-1.json  │ {'doc_id': § 275.0-2, 'statement_id': 3, 'statement_title': Forwarding documents by the Secretary, 'statement_text': The Secretary of the Commission (Secretary) will promptly forward a copy to each named party by registered or certified mail at that party's last address filed with the Commission., 'statement_sources': [(a)(2)], 'classification': [{'type': Party rules, 'confidence': 0.8, 'explanation': This statement specifies the role of the Secretary in forwarding documents to named parties, indicating a responsibility and action linked to a specific role, which is characteristic of a party rule.}, {'type': Activity rules, 'confidence': 0.5, 'explanation': The statement involves an activity (forwarding documents) that must be performed by the Secretary, which aligns with activity rules, but the emphasis is more on the role of the Secretary.}, {'type': Data rules, 'confidence': 0.2, 'explanation': There is a minor reference to data (the party's last address), but the primary focus is on the action and role, not on data constraints.}]}                                                                           │ 2024-12-18 00:39:37.853-03 │\n",
       "│ classify_P1 │ classify_p1 │ documents-2024-12-08-1.json  │ {'doc_id': § 275.0-2, 'statement_id': 4, 'statement_title': Certification of service by the Secretary, 'statement_text': If the Secretary certifies that the Commission was served with process, pleadings, or other papers pursuant to paragraph (a)(1) of this section and forwarded these documents to a named party pursuant to paragraph (a)(2) of this section, this certification constitutes evidence of service upon that party., 'statement_sources': [(a)(3)], 'classification': [{'type': Party rules, 'confidence': 0.7, 'explanation': The statement involves the Secretary's role in certifying service, which is a responsibility linked to a specific role, indicating a party rule.}, {'type': Activity rules, 'confidence': 0.6, 'explanation': The certification and forwarding of documents are activities that must be performed, suggesting an activity rule, but the focus is more on the role of the Secretary.}, {'type': Data rules, 'confidence': 0.3, 'explanation': There is a reference to documents and certification as evidence, but the primary focus is on the role and activities, not on data constraints.}]}                  │ 2024-12-18 00:39:37.853-03 │\n",
       "│ classify_P1 │ classify_p1 │ documents-2024-12-08-1.json  │ {'doc_id': § 275.0-5, 'statement_id': 1, 'statement_title': Notice of proceeding initiation, 'statement_text': Notice of the initiation of the proceeding will be published in the Federal Register and will indicate the earliest date upon which an order disposing of the matter may be entered., 'statement_sources': [(a)], 'classification': [{'type': Activity rules, 'confidence': 0.9, 'explanation': The statement describes an activity (publishing notice) that must occur, which is characteristic of an activity rule.}, {'type': Data rules, 'confidence': 0.4, 'explanation': There is a reference to data (the earliest date), but the primary focus is on the activity of publishing the notice.}, {'type': Party rules, 'confidence': 0.1, 'explanation': There is no specific reference to roles or responsibilities of parties, making this unlikely to be a party rule.}]}                                                                                                                                                                                                                                                                     │ 2024-12-18 00:39:37.853-03 │\n",
       "│ classify_P1 │ classify_p1 │ documents-2024-12-08-1.json  │ {'doc_id': § 275.0-5, 'statement_id': 2, 'statement_title': Submission of facts and hearing request, 'statement_text': Any interested person may, within the period of time specified therein, submit to the Commission in writing any facts bearing upon the desirability of a hearing on the matter and may request that a hearing be held, stating his reasons therefor and the nature of his interest in the matter., 'statement_sources': [(a)], 'classification': [{'type': Party rules, 'confidence': 0.8, 'explanation': The statement specifies that any interested person can submit facts and request a hearing, indicating a role-based permission, which is characteristic of a party rule.}, {'type': Activity rules, 'confidence': 0.6, 'explanation': The statement involves activities (submitting facts, requesting a hearing) that can be performed, suggesting an activity rule, but the emphasis is more on the role of the interested person.}, {'type': Data rules, 'confidence': 0.2, 'explanation': There is a minor reference to data (facts submitted), but the primary focus is on the roles and activities, not on data constraints.}]} │ 2024-12-18 00:39:37.853-03 │\n",
       "│ classify_P1 │ classify_p1 │ documents-2024-12-08-1.json  │ {'doc_id': § 275.0-5, 'statement_id': 3, 'statement_title': Issuance of order disposing of the matter, 'statement_text': An order disposing of the matter will be issued as of course following the expiration of the period of time referred to in paragraph (a) of this section, unless the Commission thereafter orders a hearing on the matter., 'statement_sources': [(b)], 'classification': [{'type': Activity rules, 'confidence': 0.9, 'explanation': The statement describes an activity (issuing an order) that must occur following a specific condition (expiration of time), which is characteristic of an activity rule.}, {'type': Data rules, 'confidence': 0.3, 'explanation': There is a reference to a time period, but the primary focus is on the activity of issuing an order.}, {'type': Party rules, 'confidence': 0.1, 'explanation': There is no specific reference to roles or responsibilities of parties, making this unlikely to be a party rule.}]}                                                                                                                                                                                  │ 2024-12-18 00:39:37.853-03 │\n",
       "│ classify_P1 │ classify_p1 │ documents-2024-12-08-1.json  │ {'doc_id': § 275.0-5, 'statement_id': 4, 'statement_title': Commission orders a hearing, 'statement_text': The Commission will order a hearing on the matter, if it appears that a hearing is necessary or appropriate in the public interest or for the protection of investors, upon the request of any interested person or upon its own motion., 'statement_sources': [(c)], 'classification': [{'type': Activity rules, 'confidence': 0.8, 'explanation': The statement describes an activity (ordering a hearing) that the Commission must perform under certain conditions, which is characteristic of an activity rule.}, {'type': Party rules, 'confidence': 0.6, 'explanation': The statement involves the Commission's role in ordering a hearing, indicating a responsibility linked to a specific role, suggesting a party rule.}, {'type': Data rules, 'confidence': 0.2, 'explanation': There is a minor reference to conditions (public interest, protection of investors), but the primary focus is on the roles and activities, not on data constraints.}]}                                                                                        │ 2024-12-18 00:39:37.853-03 │\n",
       "│ classify_P1 │ classify_p1 │ documents-2024-12-08-10.json │ {'doc_id': § 275.0-2, 'statement_id': 3, 'statement_title': Forwarding documents by the Secretary, 'statement_text': The Secretary of the Commission (Secretary) will promptly forward a copy to each named party by registered or certified mail at that party's last address filed with the Commission., 'statement_sources': [(a)(2)], 'classification': [{'type': Party rules, 'confidence': 0.8, 'explanation': This statement specifies the role of the Secretary in forwarding documents to named parties, indicating a responsibility and action linked to a specific role, which is characteristic of a party rule.}, {'type': Activity rules, 'confidence': 0.5, 'explanation': The statement involves an activity (forwarding documents) that must be performed by the Secretary, which aligns with activity rules, but the emphasis is more on the role of the Secretary.}, {'type': Data rules, 'confidence': 0.2, 'explanation': There is a minor reference to data (the party's last address), but the primary focus is on the action and role, not on data constraints.}]}                                                                           │ 2024-12-18 00:39:37.884-03 │\n",
       "│ classify_P1 │ classify_p1 │ documents-2024-12-08-10.json │ {'doc_id': § 275.0-2, 'statement_id': 4, 'statement_title': Certification of service by the Secretary, 'statement_text': If the Secretary certifies that the Commission was served with process, pleadings, or other papers pursuant to paragraph (a)(1) of this section and forwarded these documents to a named party pursuant to paragraph (a)(2) of this section, this certification constitutes evidence of service upon that party., 'statement_sources': [(a)(3)], 'classification': [{'type': Party rules, 'confidence': 0.7, 'explanation': The statement involves the Secretary's role in certifying service, which is a responsibility linked to a specific role, indicating a party rule.}, {'type': Activity rules, 'confidence': 0.6, 'explanation': The certification and forwarding of documents are activities that must be performed, suggesting an activity rule, but the focus is more on the role of the Secretary.}, {'type': Data rules, 'confidence': 0.3, 'explanation': There is a reference to documents and certification as evidence, but the primary focus is on the role and activities, not on data constraints.}]}                  │ 2024-12-18 00:39:37.884-03 │\n",
       "│ classify_P1 │ classify_p1 │ documents-2024-12-08-10.json │ {'doc_id': § 275.0-5, 'statement_id': 1, 'statement_title': Notice of proceeding initiation, 'statement_text': Notice of the initiation of the proceeding will be published in the Federal Register and will indicate the earliest date upon which an order disposing of the matter may be entered., 'statement_sources': [(a)], 'classification': [{'type': Activity rules, 'confidence': 0.9, 'explanation': The statement describes an activity (publishing notice) that must occur, which is characteristic of an activity rule.}, {'type': Data rules, 'confidence': 0.4, 'explanation': There is a reference to data (the earliest date), but the primary focus is on the activity of publishing the notice.}, {'type': Party rules, 'confidence': 0.1, 'explanation': There is no specific reference to roles or responsibilities of parties, making this unlikely to be a party rule.}]}                                                                                                                                                                                                                                                                     │ 2024-12-18 00:39:37.884-03 │\n",
       "│ classify_P1 │ classify_p1 │ documents-2024-12-08-10.json │ {'doc_id': § 275.0-5, 'statement_id': 2, 'statement_title': Submission of facts and hearing request, 'statement_text': Any interested person may, within the period of time specified therein, submit to the Commission in writing any facts bearing upon the desirability of a hearing on the matter and may request that a hearing be held, stating his reasons therefor and the nature of his interest in the matter., 'statement_sources': [(a)], 'classification': [{'type': Party rules, 'confidence': 0.8, 'explanation': The statement specifies that any interested person can submit facts and request a hearing, indicating a role-based permission, which is characteristic of a party rule.}, {'type': Activity rules, 'confidence': 0.6, 'explanation': The statement involves activities (submitting facts, requesting a hearing) that can be performed, suggesting an activity rule, but the emphasis is more on the role of the interested person.}, {'type': Data rules, 'confidence': 0.2, 'explanation': There is a minor reference to data (facts submitted), but the primary focus is on the roles and activities, not on data constraints.}]} │ 2024-12-18 00:39:37.884-03 │\n",
       "│      ·      │      ·      │              ·               │                                                                                                                                                                                                                                                                                                                                                                                                                                                ·                                                                                                                                                                                                                                                                                                                                                                                                                                                                                                                                                                                                                                                                                                                     │             ·              │\n",
       "│      ·      │      ·      │              ·               │                                                                                                                                                                                                                                                                                                                                                                                                                                                ·                                                                                                                                                                                                                                                                                                                                                                                                                                                                                                                                                                                                                                                                                                                     │             ·              │\n",
       "│      ·      │      ·      │              ·               │                                                                                                                                                                                                                                                                                                                                                                                                                                                ·                                                                                                                                                                                                                                                                                                                                                                                                                                                                                                                                                                                                                                                                                                                     │             ·              │\n",
       "│ classify_P1 │ classify_p1 │ documents-2024-12-08-8.json  │ {'doc_id': § 275.0-5, 'statement_id': 1, 'statement_title': Notice of proceeding initiation, 'statement_text': Notice of the initiation of the proceeding will be published in the Federal Register and will indicate the earliest date upon which an order disposing of the matter may be entered., 'statement_sources': [(a)], 'classification': [{'type': Activity rules, 'confidence': 0.9, 'explanation': The statement describes an activity (publishing notice) that must occur, which is characteristic of an activity rule.}, {'type': Data rules, 'confidence': 0.4, 'explanation': There is a reference to data (the earliest date), but the primary focus is on the activity of publishing the notice.}, {'type': Party rules, 'confidence': 0.1, 'explanation': There is no specific reference to roles or responsibilities of parties, making this unlikely to be a party rule.}]}                                                                                                                                                                                                                                                                     │ 2024-12-18 00:39:38.157-03 │\n",
       "│ classify_P1 │ classify_p1 │ documents-2024-12-08-8.json  │ {'doc_id': § 275.0-5, 'statement_id': 2, 'statement_title': Submission of facts and hearing request, 'statement_text': Any interested person may, within the period of time specified therein, submit to the Commission in writing any facts bearing upon the desirability of a hearing on the matter and may request that a hearing be held, stating his reasons therefor and the nature of his interest in the matter., 'statement_sources': [(a)], 'classification': [{'type': Party rules, 'confidence': 0.8, 'explanation': The statement specifies that any interested person can submit facts and request a hearing, indicating a role-based permission, which is characteristic of a party rule.}, {'type': Activity rules, 'confidence': 0.6, 'explanation': The statement involves activities (submitting facts, requesting a hearing) that can be performed, suggesting an activity rule, but the emphasis is more on the role of the interested person.}, {'type': Data rules, 'confidence': 0.2, 'explanation': There is a minor reference to data (facts submitted), but the primary focus is on the roles and activities, not on data constraints.}]} │ 2024-12-18 00:39:38.157-03 │\n",
       "│ classify_P1 │ classify_p1 │ documents-2024-12-08-8.json  │ {'doc_id': § 275.0-5, 'statement_id': 3, 'statement_title': Issuance of order disposing of the matter, 'statement_text': An order disposing of the matter will be issued as of course following the expiration of the period of time referred to in paragraph (a) of this section, unless the Commission thereafter orders a hearing on the matter., 'statement_sources': [(b)], 'classification': [{'type': Activity rules, 'confidence': 0.9, 'explanation': The statement describes an activity (issuing an order) that must occur following a specific condition (expiration of time), which is characteristic of an activity rule.}, {'type': Data rules, 'confidence': 0.3, 'explanation': There is a reference to a time period, but the primary focus is on the activity of issuing an order.}, {'type': Party rules, 'confidence': 0.1, 'explanation': There is no specific reference to roles or responsibilities of parties, making this unlikely to be a party rule.}]}                                                                                                                                                                                  │ 2024-12-18 00:39:38.157-03 │\n",
       "│ classify_P1 │ classify_p1 │ documents-2024-12-08-8.json  │ {'doc_id': § 275.0-5, 'statement_id': 4, 'statement_title': Commission orders a hearing, 'statement_text': The Commission will order a hearing on the matter, if it appears that a hearing is necessary or appropriate in the public interest or for the protection of investors, upon the request of any interested person or upon its own motion., 'statement_sources': [(c)], 'classification': [{'type': Activity rules, 'confidence': 0.8, 'explanation': The statement describes an activity (ordering a hearing) that the Commission must perform under certain conditions, which is characteristic of an activity rule.}, {'type': Party rules, 'confidence': 0.6, 'explanation': The statement involves the Commission's role in ordering a hearing, indicating a responsibility linked to a specific role, suggesting a party rule.}, {'type': Data rules, 'confidence': 0.2, 'explanation': There is a minor reference to conditions (public interest, protection of investors), but the primary focus is on the roles and activities, not on data constraints.}]}                                                                                        │ 2024-12-18 00:39:38.157-03 │\n",
       "│ classify_P1 │ classify_p1 │ documents-2024-12-08-9.json  │ {'doc_id': § 275.0-2, 'statement_id': 3, 'statement_title': Forwarding documents by the Secretary, 'statement_text': The Secretary of the Commission (Secretary) will promptly forward a copy to each named party by registered or certified mail at that party's last address filed with the Commission., 'statement_sources': [(a)(2)], 'classification': [{'type': Party rules, 'confidence': 0.8, 'explanation': This statement specifies the role of the Secretary in forwarding documents to named parties, indicating a responsibility and action linked to a specific role, which is characteristic of a party rule.}, {'type': Activity rules, 'confidence': 0.5, 'explanation': The statement involves an activity (forwarding documents) that must be performed by the Secretary, which aligns with activity rules, but the emphasis is more on the role of the Secretary.}, {'type': Data rules, 'confidence': 0.2, 'explanation': There is a minor reference to data (the party's last address), but the primary focus is on the action and role, not on data constraints.}]}                                                                           │ 2024-12-18 00:39:38.188-03 │\n",
       "│ classify_P1 │ classify_p1 │ documents-2024-12-08-9.json  │ {'doc_id': § 275.0-2, 'statement_id': 4, 'statement_title': Certification of service by the Secretary, 'statement_text': If the Secretary certifies that the Commission was served with process, pleadings, or other papers pursuant to paragraph (a)(1) of this section and forwarded these documents to a named party pursuant to paragraph (a)(2) of this section, this certification constitutes evidence of service upon that party., 'statement_sources': [(a)(3)], 'classification': [{'type': Party rules, 'confidence': 0.7, 'explanation': The statement involves the Secretary's role in certifying service, which is a responsibility linked to a specific role, indicating a party rule.}, {'type': Activity rules, 'confidence': 0.6, 'explanation': The certification and forwarding of documents are activities that must be performed, suggesting an activity rule, but the focus is more on the role of the Secretary.}, {'type': Data rules, 'confidence': 0.3, 'explanation': There is a reference to documents and certification as evidence, but the primary focus is on the role and activities, not on data constraints.}]}                  │ 2024-12-18 00:39:38.188-03 │\n",
       "│ classify_P1 │ classify_p1 │ documents-2024-12-08-9.json  │ {'doc_id': § 275.0-5, 'statement_id': 1, 'statement_title': Notice of proceeding initiation, 'statement_text': Notice of the initiation of the proceeding will be published in the Federal Register and will indicate the earliest date upon which an order disposing of the matter may be entered., 'statement_sources': [(a)], 'classification': [{'type': Activity rules, 'confidence': 0.9, 'explanation': The statement describes an activity (publishing notice) that must occur, which is characteristic of an activity rule.}, {'type': Data rules, 'confidence': 0.4, 'explanation': There is a reference to data (the earliest date), but the primary focus is on the activity of publishing the notice.}, {'type': Party rules, 'confidence': 0.1, 'explanation': There is no specific reference to roles or responsibilities of parties, making this unlikely to be a party rule.}]}                                                                                                                                                                                                                                                                     │ 2024-12-18 00:39:38.188-03 │\n",
       "│ classify_P1 │ classify_p1 │ documents-2024-12-08-9.json  │ {'doc_id': § 275.0-5, 'statement_id': 2, 'statement_title': Submission of facts and hearing request, 'statement_text': Any interested person may, within the period of time specified therein, submit to the Commission in writing any facts bearing upon the desirability of a hearing on the matter and may request that a hearing be held, stating his reasons therefor and the nature of his interest in the matter., 'statement_sources': [(a)], 'classification': [{'type': Party rules, 'confidence': 0.8, 'explanation': The statement specifies that any interested person can submit facts and request a hearing, indicating a role-based permission, which is characteristic of a party rule.}, {'type': Activity rules, 'confidence': 0.6, 'explanation': The statement involves activities (submitting facts, requesting a hearing) that can be performed, suggesting an activity rule, but the emphasis is more on the role of the interested person.}, {'type': Data rules, 'confidence': 0.2, 'explanation': There is a minor reference to data (facts submitted), but the primary focus is on the roles and activities, not on data constraints.}]} │ 2024-12-18 00:39:38.188-03 │\n",
       "│ classify_P1 │ classify_p1 │ documents-2024-12-08-9.json  │ {'doc_id': § 275.0-5, 'statement_id': 3, 'statement_title': Issuance of order disposing of the matter, 'statement_text': An order disposing of the matter will be issued as of course following the expiration of the period of time referred to in paragraph (a) of this section, unless the Commission thereafter orders a hearing on the matter., 'statement_sources': [(b)], 'classification': [{'type': Activity rules, 'confidence': 0.9, 'explanation': The statement describes an activity (issuing an order) that must occur following a specific condition (expiration of time), which is characteristic of an activity rule.}, {'type': Data rules, 'confidence': 0.3, 'explanation': There is a reference to a time period, but the primary focus is on the activity of issuing an order.}, {'type': Party rules, 'confidence': 0.1, 'explanation': There is no specific reference to roles or responsibilities of parties, making this unlikely to be a party rule.}]}                                                                                                                                                                                  │ 2024-12-18 00:39:38.188-03 │\n",
       "│ classify_P1 │ classify_p1 │ documents-2024-12-08-9.json  │ {'doc_id': § 275.0-5, 'statement_id': 4, 'statement_title': Commission orders a hearing, 'statement_text': The Commission will order a hearing on the matter, if it appears that a hearing is necessary or appropriate in the public interest or for the protection of investors, upon the request of any interested person or upon its own motion., 'statement_sources': [(c)], 'classification': [{'type': Activity rules, 'confidence': 0.8, 'explanation': The statement describes an activity (ordering a hearing) that the Commission must perform under certain conditions, which is characteristic of an activity rule.}, {'type': Party rules, 'confidence': 0.6, 'explanation': The statement involves the Commission's role in ordering a hearing, indicating a responsibility linked to a specific role, suggesting a party rule.}, {'type': Data rules, 'confidence': 0.2, 'explanation': There is a minor reference to conditions (public interest, protection of investors), but the primary focus is on the roles and activities, not on data constraints.}]}                                                                                        │ 2024-12-18 00:39:38.188-03 │\n",
       "├─────────────┴─────────────┴──────────────────────────────┴──────────────────────────────────────────────────────────────────────────────────────────────────────────────────────────────────────────────────────────────────────────────────────────────────────────────────────────────────────────────────────────────────────────────────────────────────────────────────────────────────────────────────────────────────────────────────────────────────────────────────────────────────────────────────────────────────────────────────────────────────────────────────────────────────────────────────────────────────────────────────────────────────────────────────────────────────────────────────────────────────────────────────────────────────────────────────────────────────────────────────────────────────────────────────────────────────────────────────────────────────────────────────────────────────────────────────────────────────────────────────────────────────────────────────────────────────────────────────────────────────────────────────────────────────────────────────────────────────────────────────────────────────────────────────────────────────────────────────────────────────────┴────────────────────────────┤\n",
       "│ 60 rows (20 shown)                                                                                                                                                                                                                                                                                                                                                                                                                                                                                                                                                                                                                                                                                                                                                                                                                                                                                                                                                                                                                                                                                                                                                                                                                                 5 columns │\n",
       "└──────────────────────────────────────────────────────────────────────────────────────────────────────────────────────────────────────────────────────────────────────────────────────────────────────────────────────────────────────────────────────────────────────────────────────────────────────────────────────────────────────────────────────────────────────────────────────────────────────────────────────────────────────────────────────────────────────────────────────────────────────────────────────────────────────────────────────────────────────────────────────────────────────────────────────────────────────────────────────────────────────────────────────────────────────────────────────────────────────────────────────────────────────────────────────────────────────────────────────────────────────────────────────────────────────────────────────────────────────────────────────────────────────────────────────────────────────────────────────────────────────────────────────────────────────────────────────────────────────────────────────────────────────────────────────────────────────────────────────────────────────────────────────────────────────────────────────────────────────────────────────────────┘"
      ]
     },
     "execution_count": 50,
     "metadata": {},
     "output_type": "execute_result"
    }
   ],
   "source": [
    "query = \"\"\"\n",
    "SELECT\n",
    "    *\n",
    "FROM RAW_CLASSIFY_P1_OPERATIVE_RULES\n",
    ";\n",
    "\"\"\"\n",
    "\n",
    "conn.sql(query)"
   ]
  },
  {
   "cell_type": "code",
   "execution_count": 51,
   "metadata": {},
   "outputs": [
    {
     "data": {
      "text/plain": [
       "┌───────────┬──────────────┬───────────────────────────────────────────┬──────────────────────────────────────────────────────────────────────────────────────────────────────────────────────────────────────────────────────────────────────────────────────────────────────────────────────────────────────────────────────────────────────────────────────────────────────────────────┬───────────────────┬───────────────────────────────────────────────────────────────────────────────────────────────────────────────────────────────────────────────────────────────────────────────────────────────────────────────────────────────────────────────────────────────────────────────────────────────────────────────────────────────────────────────────────────────────────────────────────────────────────────────────────────────────────────────────────────────────────────────────────────────────────────────────────────────────────────────────────────────────────────────────────────────────────────────────────────────────────────────────────────────────────────────────────────────────────────────────────────────┐\n",
       "│    id     │ statement_id │              statement_title              │                                                                                                                                                  statement_text                                                                                                                                                  │ statement_sources │                                                                                                                                                                                                                                                                                                                                                        classification                                                                                                                                                                                                                                                                                                                                                         │\n",
       "│  varchar  │   varchar    │                  varchar                  │                                                                                                                                                     varchar                                                                                                                                                      │     varchar[]     │                                                                                                                                                                                                                                                                                                                               struct(\"type\" varchar, confidence double, explanation varchar)[]                                                                                                                                                                                                                                                                                                                                │\n",
       "├───────────┼──────────────┼───────────────────────────────────────────┼──────────────────────────────────────────────────────────────────────────────────────────────────────────────────────────────────────────────────────────────────────────────────────────────────────────────────────────────────────────────────────────────────────────────────────────────────────────────────┼───────────────────┼───────────────────────────────────────────────────────────────────────────────────────────────────────────────────────────────────────────────────────────────────────────────────────────────────────────────────────────────────────────────────────────────────────────────────────────────────────────────────────────────────────────────────────────────────────────────────────────────────────────────────────────────────────────────────────────────────────────────────────────────────────────────────────────────────────────────────────────────────────────────────────────────────────────────────────────────────────────────────────────────────────────────────────────────────────────────────────────────┤\n",
       "│ § 275.0-2 │ 3            │ Forwarding documents by the Secretary     │ The Secretary of the Commission (Secretary) will promptly forward a copy to each named party by registered or certified mail at that party's last address filed with the Commission.                                                                                                                             │ [(a)(2)]          │ [{'type': Party rules, 'confidence': 0.8, 'explanation': This statement specifies the role of the Secretary in forwarding documents to named parties, indicating a responsibility and action linked to a specific role, which is characteristic of a party rule.}, {'type': Activity rules, 'confidence': 0.5, 'explanation': The statement involves an activity (forwarding documents) that must be performed by the Secretary, which aligns with activity rules, but the emphasis is more on the role of the Secretary.}, {'type': Data rules, 'confidence': 0.2, 'explanation': There is a minor reference to data (the party's last address), but the primary focus is on the action and role, not on data constraints.}] │\n",
       "│ § 275.0-2 │ 4            │ Certification of service by the Secretary │ If the Secretary certifies that the Commission was served with process, pleadings, or other papers pursuant to paragraph (a)(1) of this section and forwarded these documents to a named party pursuant to paragraph (a)(2) of this section, this certification constitutes evidence of service upon that party. │ [(a)(3)]          │ [{'type': Party rules, 'confidence': 0.7, 'explanation': The statement involves the Secretary's role in certifying service, which is a responsibility linked to a specific role, indicating a party rule.}, {'type': Activity rules, 'confidence': 0.6, 'explanation': The certification and forwarding of documents are activities that must be performed, suggesting an activity rule, but the focus is more on the role of the Secretary.}, {'type': Data rules, 'confidence': 0.3, 'explanation': There is a reference to documents and certification as evidence, but the primary focus is on the role and activities, not on data constraints.}]                                                                        │\n",
       "│ § 275.0-5 │ 1            │ Notice of proceeding initiation           │ Notice of the initiation of the proceeding will be published in the Federal Register and will indicate the earliest date upon which an order disposing of the matter may be entered.                                                                                                                             │ [(a)]             │ [{'type': Activity rules, 'confidence': 0.9, 'explanation': The statement describes an activity (publishing notice) that must occur, which is characteristic of an activity rule.}, {'type': Data rules, 'confidence': 0.4, 'explanation': There is a reference to data (the earliest date), but the primary focus is on the activity of publishing the notice.}, {'type': Party rules, 'confidence': 0.1, 'explanation': There is no specific reference to roles or responsibilities of parties, making this unlikely to be a party rule.}]                                                                                                                                                                                  │\n",
       "│ § 275.0-5 │ 2            │ Submission of facts and hearing request   │ Any interested person may, within the period of time specified therein, submit to the Commission in writing any facts bearing upon the desirability of a hearing on the matter and may request that a hearing be held, stating his reasons therefor and the nature of his interest in the matter.                │ [(a)]             │ [{'type': Party rules, 'confidence': 0.8, 'explanation': The statement specifies that any interested person can submit facts and request a hearing, indicating a role-based permission, which is characteristic of a party rule.}, {'type': Activity rules, 'confidence': 0.6, 'explanation': The statement involves activities (submitting facts, requesting a hearing) that can be performed, suggesting an activity rule, but the emphasis is more on the role of the interested person.}, {'type': Data rules, 'confidence': 0.2, 'explanation': There is a minor reference to data (facts submitted), but the primary focus is on the roles and activities, not on data constraints.}]                                   │\n",
       "│ § 275.0-5 │ 3            │ Issuance of order disposing of the matter │ An order disposing of the matter will be issued as of course following the expiration of the period of time referred to in paragraph (a) of this section, unless the Commission thereafter orders a hearing on the matter.                                                                                       │ [(b)]             │ [{'type': Activity rules, 'confidence': 0.9, 'explanation': The statement describes an activity (issuing an order) that must occur following a specific condition (expiration of time), which is characteristic of an activity rule.}, {'type': Data rules, 'confidence': 0.3, 'explanation': There is a reference to a time period, but the primary focus is on the activity of issuing an order.}, {'type': Party rules, 'confidence': 0.1, 'explanation': There is no specific reference to roles or responsibilities of parties, making this unlikely to be a party rule.}]                                                                                                                                               │\n",
       "│ § 275.0-5 │ 4            │ Commission orders a hearing               │ The Commission will order a hearing on the matter, if it appears that a hearing is necessary or appropriate in the public interest or for the protection of investors, upon the request of any interested person or upon its own motion.                                                                         │ [(c)]             │ [{'type': Activity rules, 'confidence': 0.8, 'explanation': The statement describes an activity (ordering a hearing) that the Commission must perform under certain conditions, which is characteristic of an activity rule.}, {'type': Party rules, 'confidence': 0.6, 'explanation': The statement involves the Commission's role in ordering a hearing, indicating a responsibility linked to a specific role, suggesting a party rule.}, {'type': Data rules, 'confidence': 0.2, 'explanation': There is a minor reference to conditions (public interest, protection of investors), but the primary focus is on the roles and activities, not on data constraints.}]                                                     │\n",
       "│ § 275.0-2 │ 3            │ Forwarding documents by the Secretary     │ The Secretary of the Commission (Secretary) will promptly forward a copy to each named party by registered or certified mail at that party's last address filed with the Commission.                                                                                                                             │ [(a)(2)]          │ [{'type': Party rules, 'confidence': 0.8, 'explanation': This statement specifies the role of the Secretary in forwarding documents to named parties, indicating a responsibility and action linked to a specific role, which is characteristic of a party rule.}, {'type': Activity rules, 'confidence': 0.5, 'explanation': The statement involves an activity (forwarding documents) that must be performed by the Secretary, which aligns with activity rules, but the emphasis is more on the role of the Secretary.}, {'type': Data rules, 'confidence': 0.2, 'explanation': There is a minor reference to data (the party's last address), but the primary focus is on the action and role, not on data constraints.}] │\n",
       "│ § 275.0-2 │ 4            │ Certification of service by the Secretary │ If the Secretary certifies that the Commission was served with process, pleadings, or other papers pursuant to paragraph (a)(1) of this section and forwarded these documents to a named party pursuant to paragraph (a)(2) of this section, this certification constitutes evidence of service upon that party. │ [(a)(3)]          │ [{'type': Party rules, 'confidence': 0.7, 'explanation': The statement involves the Secretary's role in certifying service, which is a responsibility linked to a specific role, indicating a party rule.}, {'type': Activity rules, 'confidence': 0.6, 'explanation': The certification and forwarding of documents are activities that must be performed, suggesting an activity rule, but the focus is more on the role of the Secretary.}, {'type': Data rules, 'confidence': 0.3, 'explanation': There is a reference to documents and certification as evidence, but the primary focus is on the role and activities, not on data constraints.}]                                                                        │\n",
       "│ § 275.0-5 │ 1            │ Notice of proceeding initiation           │ Notice of the initiation of the proceeding will be published in the Federal Register and will indicate the earliest date upon which an order disposing of the matter may be entered.                                                                                                                             │ [(a)]             │ [{'type': Activity rules, 'confidence': 0.9, 'explanation': The statement describes an activity (publishing notice) that must occur, which is characteristic of an activity rule.}, {'type': Data rules, 'confidence': 0.4, 'explanation': There is a reference to data (the earliest date), but the primary focus is on the activity of publishing the notice.}, {'type': Party rules, 'confidence': 0.1, 'explanation': There is no specific reference to roles or responsibilities of parties, making this unlikely to be a party rule.}]                                                                                                                                                                                  │\n",
       "│ § 275.0-5 │ 2            │ Submission of facts and hearing request   │ Any interested person may, within the period of time specified therein, submit to the Commission in writing any facts bearing upon the desirability of a hearing on the matter and may request that a hearing be held, stating his reasons therefor and the nature of his interest in the matter.                │ [(a)]             │ [{'type': Party rules, 'confidence': 0.8, 'explanation': The statement specifies that any interested person can submit facts and request a hearing, indicating a role-based permission, which is characteristic of a party rule.}, {'type': Activity rules, 'confidence': 0.6, 'explanation': The statement involves activities (submitting facts, requesting a hearing) that can be performed, suggesting an activity rule, but the emphasis is more on the role of the interested person.}, {'type': Data rules, 'confidence': 0.2, 'explanation': There is a minor reference to data (facts submitted), but the primary focus is on the roles and activities, not on data constraints.}]                                   │\n",
       "│     ·     │ ·            │                ·                          │                                                                                          ·                                                                                                                                                                                                                       │   ·               │                                                                                                                                                                                                                                                                      ·                                                                                                                                                                                                                                                                                                                                                                                                                                                        │\n",
       "│     ·     │ ·            │                ·                          │                                                                                          ·                                                                                                                                                                                                                       │   ·               │                                                                                                                                                                                                                                                                      ·                                                                                                                                                                                                                                                                                                                                                                                                                                                        │\n",
       "│     ·     │ ·            │                ·                          │                                                                                          ·                                                                                                                                                                                                                       │   ·               │                                                                                                                                                                                                                                                                      ·                                                                                                                                                                                                                                                                                                                                                                                                                                                        │\n",
       "│ § 275.0-5 │ 1            │ Notice of proceeding initiation           │ Notice of the initiation of the proceeding will be published in the Federal Register and will indicate the earliest date upon which an order disposing of the matter may be entered.                                                                                                                             │ [(a)]             │ [{'type': Activity rules, 'confidence': 0.9, 'explanation': The statement describes an activity (publishing notice) that must occur, which is characteristic of an activity rule.}, {'type': Data rules, 'confidence': 0.4, 'explanation': There is a reference to data (the earliest date), but the primary focus is on the activity of publishing the notice.}, {'type': Party rules, 'confidence': 0.1, 'explanation': There is no specific reference to roles or responsibilities of parties, making this unlikely to be a party rule.}]                                                                                                                                                                                  │\n",
       "│ § 275.0-5 │ 2            │ Submission of facts and hearing request   │ Any interested person may, within the period of time specified therein, submit to the Commission in writing any facts bearing upon the desirability of a hearing on the matter and may request that a hearing be held, stating his reasons therefor and the nature of his interest in the matter.                │ [(a)]             │ [{'type': Party rules, 'confidence': 0.8, 'explanation': The statement specifies that any interested person can submit facts and request a hearing, indicating a role-based permission, which is characteristic of a party rule.}, {'type': Activity rules, 'confidence': 0.6, 'explanation': The statement involves activities (submitting facts, requesting a hearing) that can be performed, suggesting an activity rule, but the emphasis is more on the role of the interested person.}, {'type': Data rules, 'confidence': 0.2, 'explanation': There is a minor reference to data (facts submitted), but the primary focus is on the roles and activities, not on data constraints.}]                                   │\n",
       "│ § 275.0-5 │ 3            │ Issuance of order disposing of the matter │ An order disposing of the matter will be issued as of course following the expiration of the period of time referred to in paragraph (a) of this section, unless the Commission thereafter orders a hearing on the matter.                                                                                       │ [(b)]             │ [{'type': Activity rules, 'confidence': 0.9, 'explanation': The statement describes an activity (issuing an order) that must occur following a specific condition (expiration of time), which is characteristic of an activity rule.}, {'type': Data rules, 'confidence': 0.3, 'explanation': There is a reference to a time period, but the primary focus is on the activity of issuing an order.}, {'type': Party rules, 'confidence': 0.1, 'explanation': There is no specific reference to roles or responsibilities of parties, making this unlikely to be a party rule.}]                                                                                                                                               │\n",
       "│ § 275.0-5 │ 4            │ Commission orders a hearing               │ The Commission will order a hearing on the matter, if it appears that a hearing is necessary or appropriate in the public interest or for the protection of investors, upon the request of any interested person or upon its own motion.                                                                         │ [(c)]             │ [{'type': Activity rules, 'confidence': 0.8, 'explanation': The statement describes an activity (ordering a hearing) that the Commission must perform under certain conditions, which is characteristic of an activity rule.}, {'type': Party rules, 'confidence': 0.6, 'explanation': The statement involves the Commission's role in ordering a hearing, indicating a responsibility linked to a specific role, suggesting a party rule.}, {'type': Data rules, 'confidence': 0.2, 'explanation': There is a minor reference to conditions (public interest, protection of investors), but the primary focus is on the roles and activities, not on data constraints.}]                                                     │\n",
       "│ § 275.0-2 │ 3            │ Forwarding documents by the Secretary     │ The Secretary of the Commission (Secretary) will promptly forward a copy to each named party by registered or certified mail at that party's last address filed with the Commission.                                                                                                                             │ [(a)(2)]          │ [{'type': Party rules, 'confidence': 0.8, 'explanation': This statement specifies the role of the Secretary in forwarding documents to named parties, indicating a responsibility and action linked to a specific role, which is characteristic of a party rule.}, {'type': Activity rules, 'confidence': 0.5, 'explanation': The statement involves an activity (forwarding documents) that must be performed by the Secretary, which aligns with activity rules, but the emphasis is more on the role of the Secretary.}, {'type': Data rules, 'confidence': 0.2, 'explanation': There is a minor reference to data (the party's last address), but the primary focus is on the action and role, not on data constraints.}] │\n",
       "│ § 275.0-2 │ 4            │ Certification of service by the Secretary │ If the Secretary certifies that the Commission was served with process, pleadings, or other papers pursuant to paragraph (a)(1) of this section and forwarded these documents to a named party pursuant to paragraph (a)(2) of this section, this certification constitutes evidence of service upon that party. │ [(a)(3)]          │ [{'type': Party rules, 'confidence': 0.7, 'explanation': The statement involves the Secretary's role in certifying service, which is a responsibility linked to a specific role, indicating a party rule.}, {'type': Activity rules, 'confidence': 0.6, 'explanation': The certification and forwarding of documents are activities that must be performed, suggesting an activity rule, but the focus is more on the role of the Secretary.}, {'type': Data rules, 'confidence': 0.3, 'explanation': There is a reference to documents and certification as evidence, but the primary focus is on the role and activities, not on data constraints.}]                                                                        │\n",
       "│ § 275.0-5 │ 1            │ Notice of proceeding initiation           │ Notice of the initiation of the proceeding will be published in the Federal Register and will indicate the earliest date upon which an order disposing of the matter may be entered.                                                                                                                             │ [(a)]             │ [{'type': Activity rules, 'confidence': 0.9, 'explanation': The statement describes an activity (publishing notice) that must occur, which is characteristic of an activity rule.}, {'type': Data rules, 'confidence': 0.4, 'explanation': There is a reference to data (the earliest date), but the primary focus is on the activity of publishing the notice.}, {'type': Party rules, 'confidence': 0.1, 'explanation': There is no specific reference to roles or responsibilities of parties, making this unlikely to be a party rule.}]                                                                                                                                                                                  │\n",
       "│ § 275.0-5 │ 2            │ Submission of facts and hearing request   │ Any interested person may, within the period of time specified therein, submit to the Commission in writing any facts bearing upon the desirability of a hearing on the matter and may request that a hearing be held, stating his reasons therefor and the nature of his interest in the matter.                │ [(a)]             │ [{'type': Party rules, 'confidence': 0.8, 'explanation': The statement specifies that any interested person can submit facts and request a hearing, indicating a role-based permission, which is characteristic of a party rule.}, {'type': Activity rules, 'confidence': 0.6, 'explanation': The statement involves activities (submitting facts, requesting a hearing) that can be performed, suggesting an activity rule, but the emphasis is more on the role of the interested person.}, {'type': Data rules, 'confidence': 0.2, 'explanation': There is a minor reference to data (facts submitted), but the primary focus is on the roles and activities, not on data constraints.}]                                   │\n",
       "│ § 275.0-5 │ 3            │ Issuance of order disposing of the matter │ An order disposing of the matter will be issued as of course following the expiration of the period of time referred to in paragraph (a) of this section, unless the Commission thereafter orders a hearing on the matter.                                                                                       │ [(b)]             │ [{'type': Activity rules, 'confidence': 0.9, 'explanation': The statement describes an activity (issuing an order) that must occur following a specific condition (expiration of time), which is characteristic of an activity rule.}, {'type': Data rules, 'confidence': 0.3, 'explanation': There is a reference to a time period, but the primary focus is on the activity of issuing an order.}, {'type': Party rules, 'confidence': 0.1, 'explanation': There is no specific reference to roles or responsibilities of parties, making this unlikely to be a party rule.}]                                                                                                                                               │\n",
       "│ § 275.0-5 │ 4            │ Commission orders a hearing               │ The Commission will order a hearing on the matter, if it appears that a hearing is necessary or appropriate in the public interest or for the protection of investors, upon the request of any interested person or upon its own motion.                                                                         │ [(c)]             │ [{'type': Activity rules, 'confidence': 0.8, 'explanation': The statement describes an activity (ordering a hearing) that the Commission must perform under certain conditions, which is characteristic of an activity rule.}, {'type': Party rules, 'confidence': 0.6, 'explanation': The statement involves the Commission's role in ordering a hearing, indicating a responsibility linked to a specific role, suggesting a party rule.}, {'type': Data rules, 'confidence': 0.2, 'explanation': There is a minor reference to conditions (public interest, protection of investors), but the primary focus is on the roles and activities, not on data constraints.}]                                                     │\n",
       "├───────────┴──────────────┴───────────────────────────────────────────┴──────────────────────────────────────────────────────────────────────────────────────────────────────────────────────────────────────────────────────────────────────────────────────────────────────────────────────────────────────────────────────────────────────────────────────────────────────────────────┴───────────────────┴───────────────────────────────────────────────────────────────────────────────────────────────────────────────────────────────────────────────────────────────────────────────────────────────────────────────────────────────────────────────────────────────────────────────────────────────────────────────────────────────────────────────────────────────────────────────────────────────────────────────────────────────────────────────────────────────────────────────────────────────────────────────────────────────────────────────────────────────────────────────────────────────────────────────────────────────────────────────────────────────────────────────────────────────────────────────────────────────┤\n",
       "│ 60 rows (20 shown)                                                                                                                                                                                                                                                                                                                                                                                                                                                                                                                                                                                                                                                                                                                                                                                                                                                                                                                                                                                                                                                                                                                6 columns │\n",
       "└─────────────────────────────────────────────────────────────────────────────────────────────────────────────────────────────────────────────────────────────────────────────────────────────────────────────────────────────────────────────────────────────────────────────────────────────────────────────────────────────────────────────────────────────────────────────────────────────────────────────────────────────────────────────────────────────────────────────────────────────────────────────────────────────────────────────────────────────────────────────────────────────────────────────────────────────────────────────────────────────────────────────────────────────────────────────────────────────────────────────────────────────────────────────────────────────────────────────────────────────────────────────────────────────────────────────────────────────────────────────────────────────────────────────────────────────────────────────────────────────────────────────────────────────────────────────────────────────────────────────────────────────────────────────────────────────────────────────┘"
      ]
     },
     "execution_count": 51,
     "metadata": {},
     "output_type": "execute_result"
    }
   ],
   "source": [
    "query = \"\"\"\n",
    "SELECT\n",
    "    content.doc_id as id,\n",
    "    content.statement_id,\n",
    "    content.statement_title,\n",
    "    content.statement_text,\n",
    "    content.statement_sources,\n",
    "    content.classification\n",
    "FROM RAW_CLASSIFY_P1_OPERATIVE_RULES\n",
    ";\n",
    "\"\"\"\n",
    "\n",
    "conn.sql(query)"
   ]
  },
  {
   "cell_type": "code",
   "execution_count": 52,
   "metadata": {},
   "outputs": [
    {
     "data": {
      "text/plain": [
       "┌───────────┬──────────────┬───────────────────────────────────────────┬───────────────────┬──────────────────────────────┬─────────────────────┬─────────────────────────────────────────────────────────────────────────────────────────────────────────────────────────────────────────────────────────────────────────────────────────────────────────┬───────────────────────────┬──────────────────────────────┐\n",
       "│  doc_id   │ statement_id │              statement_title              │ statement_sources │         file_source          │ classification_type │                                                                                       classification_explanation                                                                                        │ classification_confidence │         file_source          │\n",
       "│  varchar  │   varchar    │                  varchar                  │     varchar[]     │           varchar            │       varchar       │                                                                                                 varchar                                                                                                 │          double           │           varchar            │\n",
       "├───────────┼──────────────┼───────────────────────────────────────────┼───────────────────┼──────────────────────────────┼─────────────────────┼─────────────────────────────────────────────────────────────────────────────────────────────────────────────────────────────────────────────────────────────────────────────────────────────────────────┼───────────────────────────┼──────────────────────────────┤\n",
       "│ § 275.0-2 │ 3            │ Forwarding documents by the Secretary     │ [(a)(2)]          │ documents-2024-12-08-1.json  │ Party rules         │ This statement specifies the role of the Secretary in forwarding documents to named parties, indicating a responsibility and action linked to a specific role, which is characteristic of a party rule. │                       0.8 │ documents-2024-12-08-1.json  │\n",
       "│ § 275.0-2 │ 4            │ Certification of service by the Secretary │ [(a)(3)]          │ documents-2024-12-08-1.json  │ Party rules         │ There is a reference to documents and certification as evidence, but the primary focus is on the role and activities, not on data constraints.                                                          │                       0.7 │ documents-2024-12-08-1.json  │\n",
       "│ § 275.0-5 │ 1            │ Notice of proceeding initiation           │ [(a)]             │ documents-2024-12-08-1.json  │ Party rules         │ There is no specific reference to roles or responsibilities of parties, making this unlikely to be a party rule.                                                                                        │                       0.9 │ documents-2024-12-08-1.json  │\n",
       "│ § 275.0-5 │ 2            │ Submission of facts and hearing request   │ [(a)]             │ documents-2024-12-08-1.json  │ Party rules         │ There is a minor reference to data (facts submitted), but the primary focus is on the roles and activities, not on data constraints.                                                                    │                       0.8 │ documents-2024-12-08-1.json  │\n",
       "│ § 275.0-5 │ 3            │ Issuance of order disposing of the matter │ [(b)]             │ documents-2024-12-08-1.json  │ Party rules         │ There is no specific reference to roles or responsibilities of parties, making this unlikely to be a party rule.                                                                                        │                       0.9 │ documents-2024-12-08-1.json  │\n",
       "│ § 275.0-5 │ 4            │ Commission orders a hearing               │ [(c)]             │ documents-2024-12-08-1.json  │ Party rules         │ There is a minor reference to conditions (public interest, protection of investors), but the primary focus is on the roles and activities, not on data constraints.                                     │                       0.8 │ documents-2024-12-08-1.json  │\n",
       "│ § 275.0-2 │ 3            │ Forwarding documents by the Secretary     │ [(a)(2)]          │ documents-2024-12-08-10.json │ Party rules         │ This statement specifies the role of the Secretary in forwarding documents to named parties, indicating a responsibility and action linked to a specific role, which is characteristic of a party rule. │                       0.8 │ documents-2024-12-08-10.json │\n",
       "│ § 275.0-2 │ 4            │ Certification of service by the Secretary │ [(a)(3)]          │ documents-2024-12-08-10.json │ Party rules         │ There is a reference to documents and certification as evidence, but the primary focus is on the role and activities, not on data constraints.                                                          │                       0.7 │ documents-2024-12-08-10.json │\n",
       "│ § 275.0-5 │ 1            │ Notice of proceeding initiation           │ [(a)]             │ documents-2024-12-08-10.json │ Party rules         │ There is no specific reference to roles or responsibilities of parties, making this unlikely to be a party rule.                                                                                        │                       0.9 │ documents-2024-12-08-10.json │\n",
       "│ § 275.0-5 │ 2            │ Submission of facts and hearing request   │ [(a)]             │ documents-2024-12-08-10.json │ Party rules         │ There is a minor reference to data (facts submitted), but the primary focus is on the roles and activities, not on data constraints.                                                                    │                       0.8 │ documents-2024-12-08-10.json │\n",
       "│     ·     │ ·            │                ·                          │   ·               │              ·               │      ·              │                                                        ·                                                                                                                                                │                        ·  │              ·               │\n",
       "│     ·     │ ·            │                ·                          │   ·               │              ·               │      ·              │                                                        ·                                                                                                                                                │                        ·  │              ·               │\n",
       "│     ·     │ ·            │                ·                          │   ·               │              ·               │      ·              │                                                        ·                                                                                                                                                │                        ·  │              ·               │\n",
       "│ § 275.0-5 │ 1            │ Notice of proceeding initiation           │ [(a)]             │ documents-2024-12-08-8.json  │ Party rules         │ There is no specific reference to roles or responsibilities of parties, making this unlikely to be a party rule.                                                                                        │                       0.9 │ documents-2024-12-08-8.json  │\n",
       "│ § 275.0-5 │ 2            │ Submission of facts and hearing request   │ [(a)]             │ documents-2024-12-08-8.json  │ Party rules         │ There is a minor reference to data (facts submitted), but the primary focus is on the roles and activities, not on data constraints.                                                                    │                       0.8 │ documents-2024-12-08-8.json  │\n",
       "│ § 275.0-5 │ 3            │ Issuance of order disposing of the matter │ [(b)]             │ documents-2024-12-08-8.json  │ Party rules         │ There is no specific reference to roles or responsibilities of parties, making this unlikely to be a party rule.                                                                                        │                       0.9 │ documents-2024-12-08-8.json  │\n",
       "│ § 275.0-5 │ 4            │ Commission orders a hearing               │ [(c)]             │ documents-2024-12-08-8.json  │ Party rules         │ There is a minor reference to conditions (public interest, protection of investors), but the primary focus is on the roles and activities, not on data constraints.                                     │                       0.8 │ documents-2024-12-08-8.json  │\n",
       "│ § 275.0-2 │ 3            │ Forwarding documents by the Secretary     │ [(a)(2)]          │ documents-2024-12-08-9.json  │ Party rules         │ This statement specifies the role of the Secretary in forwarding documents to named parties, indicating a responsibility and action linked to a specific role, which is characteristic of a party rule. │                       0.8 │ documents-2024-12-08-9.json  │\n",
       "│ § 275.0-2 │ 4            │ Certification of service by the Secretary │ [(a)(3)]          │ documents-2024-12-08-9.json  │ Party rules         │ There is a reference to documents and certification as evidence, but the primary focus is on the role and activities, not on data constraints.                                                          │                       0.7 │ documents-2024-12-08-9.json  │\n",
       "│ § 275.0-5 │ 1            │ Notice of proceeding initiation           │ [(a)]             │ documents-2024-12-08-9.json  │ Party rules         │ There is no specific reference to roles or responsibilities of parties, making this unlikely to be a party rule.                                                                                        │                       0.9 │ documents-2024-12-08-9.json  │\n",
       "│ § 275.0-5 │ 2            │ Submission of facts and hearing request   │ [(a)]             │ documents-2024-12-08-9.json  │ Party rules         │ There is a minor reference to data (facts submitted), but the primary focus is on the roles and activities, not on data constraints.                                                                    │                       0.8 │ documents-2024-12-08-9.json  │\n",
       "│ § 275.0-5 │ 3            │ Issuance of order disposing of the matter │ [(b)]             │ documents-2024-12-08-9.json  │ Party rules         │ There is no specific reference to roles or responsibilities of parties, making this unlikely to be a party rule.                                                                                        │                       0.9 │ documents-2024-12-08-9.json  │\n",
       "│ § 275.0-5 │ 4            │ Commission orders a hearing               │ [(c)]             │ documents-2024-12-08-9.json  │ Party rules         │ There is a minor reference to conditions (public interest, protection of investors), but the primary focus is on the roles and activities, not on data constraints.                                     │                       0.8 │ documents-2024-12-08-9.json  │\n",
       "├───────────┴──────────────┴───────────────────────────────────────────┴───────────────────┴──────────────────────────────┴─────────────────────┴─────────────────────────────────────────────────────────────────────────────────────────────────────────────────────────────────────────────────────────────────────────────────────────────────────────┴───────────────────────────┴──────────────────────────────┤\n",
       "│ 60 rows (20 shown)                                                                                                                                                                                                                                                                                                                                                                                       9 columns │\n",
       "└────────────────────────────────────────────────────────────────────────────────────────────────────────────────────────────────────────────────────────────────────────────────────────────────────────────────────────────────────────────────────────────────────────────────────────────────────────────────────────────────────────────────────────────────────────────────────────────────────────────────────┘"
      ]
     },
     "execution_count": 52,
     "metadata": {},
     "output_type": "execute_result"
    }
   ],
   "source": [
    "query = \"\"\"\n",
    "SELECT \n",
    "    content.doc_id as doc_id,\n",
    "    content.statement_id as statement_id,\n",
    "    content.statement_title as statement_title,\n",
    "    content.statement_sources as statement_sources,\n",
    "    content.file_source as file_source,\n",
    "    --classification.type as classification_type, \n",
    "    --classification.explanation as classification_explanation, \n",
    "    --classification.confidence as classification_confidence\n",
    "    MAX(classification.type) as classification_type, \n",
    "    MAX(classification.explanation) as classification_explanation, \n",
    "    MAX(classification.confidence) as classification_confidence,\n",
    "    MAX(file_source) as file_source\n",
    "FROM (\n",
    "    SELECT\n",
    "        file_source,\n",
    "        content.doc_id,\n",
    "        content.statement_id,\n",
    "        content.statement_sources,\n",
    "        content.statement_title,\n",
    "        unnest(content.classification) as classification\n",
    "    FROM\n",
    "        RAW_CLASSIFY_P1_OPERATIVE_RULES\n",
    ") AS content\n",
    "GROUP BY doc_id, statement_id, statement_title, statement_sources, file_source\n",
    "ORDER BY file_source, doc_id, statement_id\n",
    "\"\"\"\n",
    "\n",
    "pred_classify_p1_operative_rules= conn.sql(query).fetchall()\n",
    "\n",
    "conn.sql(query)"
   ]
  },
  {
   "cell_type": "code",
   "execution_count": 53,
   "metadata": {},
   "outputs": [
    {
     "name": "stdout",
     "output_type": "stream",
     "text": [
      "Precisão: 0.25\n",
      "Sensibilidade: 0.50\n",
      "Acurácia: 0.50\n",
      "F1 Score: 0.33\n"
     ]
    },
    {
     "name": "stderr",
     "output_type": "stream",
     "text": [
      "/home/adsantos/miniconda3/envs/ipt-cfr2sbvr/lib/python3.11/site-packages/sklearn/metrics/_classification.py:1531: UndefinedMetricWarning: Precision is ill-defined and being set to 0.0 in labels with no predicted samples. Use `zero_division` parameter to control this behavior.\n",
      "  _warn_prf(average, modifier, f\"{metric.capitalize()} is\", len(result))\n"
     ]
    }
   ],
   "source": [
    "from sklearn.metrics import precision_score, recall_score, accuracy_score, f1_score\n",
    "\n",
    "# Criar dicionários para fácil acesso, incluindo file_source na chave\n",
    "pred_dict = {(item[0], item[1], tuple(item[3]), item[4]): item[5] for item in pred_classify_p1_operative_rules}\n",
    "true_dict = {(item[0], item[1], tuple(item[3])): item[5] for item in true_clasify_p1}\n",
    "\n",
    "# Alinhar e comparar os dados\n",
    "y_true = []\n",
    "y_pred = []\n",
    "\n",
    "# Usar todas as previsões\n",
    "for item in pred_classify_p1_operative_rules:\n",
    "    key = (item[0], item[1], tuple(item[3]))\n",
    "    y_pred.append(item[5])\n",
    "    y_true.append(true_dict.get(key, 'No Match'))  # 'No Match' se não houver correspondência\n",
    "\n",
    "# Calcular métricas\n",
    "precision = precision_score(y_true, y_pred, average='weighted')\n",
    "recall = recall_score(y_true, y_pred, average='weighted')\n",
    "accuracy = accuracy_score(y_true, y_pred)\n",
    "f1 = f1_score(y_true, y_pred, average='weighted')\n",
    "\n",
    "print(f'Precisão: {precision:.2f}')\n",
    "print(f'Sensibilidade: {recall:.2f}')\n",
    "print(f'Acurácia: {accuracy:.2f}')\n",
    "print(f'F1 Score: {f1:.2f}')"
   ]
  },
  {
   "cell_type": "markdown",
   "metadata": {},
   "source": [
    "The best classification of all checkpoints."
   ]
  },
  {
   "cell_type": "code",
   "execution_count": 54,
   "metadata": {},
   "outputs": [
    {
     "data": {
      "text/plain": [
       "┌───────────┬──────────────┬───────────────────────────────────────────┬──────────────────────────────────────────────────────────────────────────────────────────────────────────────────────────────────────────────────────────────────────────────────────────────────────────────────────────────────────────────────────────────────────────────────────────────────────────────────┬───────────────────┬──────────────────────────────┬─────────────────────┬───────────────────────────┬─────────────────────────────────────────────────────────────────────────────────────────────────────────────────────────────────────────────────────────────────────────────────────────────────────────┐\n",
       "│    id     │ statement_id │              statement_title              │                                                                                                                                                  statement_text                                                                                                                                                  │ statement_sources │         file_source          │ classification_type │ classification_confidence │                                                                                       classification_explanation                                                                                        │\n",
       "│  varchar  │   varchar    │                  varchar                  │                                                                                                                                                     varchar                                                                                                                                                      │     varchar[]     │           varchar            │       varchar       │          double           │                                                                                                 varchar                                                                                                 │\n",
       "├───────────┼──────────────┼───────────────────────────────────────────┼──────────────────────────────────────────────────────────────────────────────────────────────────────────────────────────────────────────────────────────────────────────────────────────────────────────────────────────────────────────────────────────────────────────────────────────────────────────────────┼───────────────────┼──────────────────────────────┼─────────────────────┼───────────────────────────┼─────────────────────────────────────────────────────────────────────────────────────────────────────────────────────────────────────────────────────────────────────────────────────────────────────────┤\n",
       "│ § 275.0-5 │ 1            │ Notice of proceeding initiation           │ Notice of the initiation of the proceeding will be published in the Federal Register and will indicate the earliest date upon which an order disposing of the matter may be entered.                                                                                                                             │ [(a)]             │ documents-2024-12-08-6.json  │ Activity rules      │                       0.9 │ The statement describes an activity (publishing notice) that must occur, which is characteristic of an activity rule.                                                                                   │\n",
       "│ § 275.0-2 │ 3            │ Forwarding documents by the Secretary     │ The Secretary of the Commission (Secretary) will promptly forward a copy to each named party by registered or certified mail at that party's last address filed with the Commission.                                                                                                                             │ [(a)(2)]          │ documents-2024-12-08-3.json  │ Party rules         │                       0.8 │ This statement specifies the role of the Secretary in forwarding documents to named parties, indicating a responsibility and action linked to a specific role, which is characteristic of a party rule. │\n",
       "│ § 275.0-5 │ 2            │ Submission of facts and hearing request   │ Any interested person may, within the period of time specified therein, submit to the Commission in writing any facts bearing upon the desirability of a hearing on the matter and may request that a hearing be held, stating his reasons therefor and the nature of his interest in the matter.                │ [(a)]             │ documents-2024-12-08-5.json  │ Party rules         │                       0.8 │ The statement specifies that any interested person can submit facts and request a hearing, indicating a role-based permission, which is characteristic of a party rule.                                 │\n",
       "│ § 275.0-5 │ 4            │ Commission orders a hearing               │ The Commission will order a hearing on the matter, if it appears that a hearing is necessary or appropriate in the public interest or for the protection of investors, upon the request of any interested person or upon its own motion.                                                                         │ [(c)]             │ documents-2024-12-08-10.json │ Activity rules      │                       0.8 │ The statement describes an activity (ordering a hearing) that the Commission must perform under certain conditions, which is characteristic of an activity rule.                                        │\n",
       "│ § 275.0-2 │ 4            │ Certification of service by the Secretary │ If the Secretary certifies that the Commission was served with process, pleadings, or other papers pursuant to paragraph (a)(1) of this section and forwarded these documents to a named party pursuant to paragraph (a)(2) of this section, this certification constitutes evidence of service upon that party. │ [(a)(3)]          │ documents-2024-12-08-5.json  │ Party rules         │                       0.7 │ The statement involves the Secretary's role in certifying service, which is a responsibility linked to a specific role, indicating a party rule.                                                        │\n",
       "│ § 275.0-5 │ 3            │ Issuance of order disposing of the matter │ An order disposing of the matter will be issued as of course following the expiration of the period of time referred to in paragraph (a) of this section, unless the Commission thereafter orders a hearing on the matter.                                                                                       │ [(b)]             │ documents-2024-12-08-2.json  │ Activity rules      │                       0.9 │ The statement describes an activity (issuing an order) that must occur following a specific condition (expiration of time), which is characteristic of an activity rule.                                │\n",
       "└───────────┴──────────────┴───────────────────────────────────────────┴──────────────────────────────────────────────────────────────────────────────────────────────────────────────────────────────────────────────────────────────────────────────────────────────────────────────────────────────────────────────────────────────────────────────────────────────────────────────────┴───────────────────┴──────────────────────────────┴─────────────────────┴───────────────────────────┴─────────────────────────────────────────────────────────────────────────────────────────────────────────────────────────────────────────────────────────────────────────────────────────────────────────┘"
      ]
     },
     "execution_count": 54,
     "metadata": {},
     "output_type": "execute_result"
    }
   ],
   "source": [
    "query = \"\"\"\n",
    "WITH ExpandedClassifications AS (\n",
    "    SELECT\n",
    "        content.doc_id AS id,\n",
    "        content.statement_id,\n",
    "        content.statement_title,\n",
    "        content.statement_text,\n",
    "        content.statement_sources,\n",
    "        classification_item.value.type AS type,\n",
    "        classification_item.value.confidence AS confidence,\n",
    "        classification_item.value.explanation AS explanation,\n",
    "        content.file_source as file_source,\n",
    "        ROW_NUMBER() OVER (PARTITION BY content.doc_id, content.statement_id ORDER BY classification_item.value.confidence DESC) AS rn\n",
    "    FROM\n",
    "        RAW_CLASSIFY_P1_OPERATIVE_RULES AS content,\n",
    "        UNNEST(content.classification) AS classification_item(value)\n",
    ")\n",
    "SELECT\n",
    "    id,\n",
    "    statement_id,\n",
    "    statement_title,\n",
    "    statement_text,\n",
    "    statement_sources,\n",
    "    file_source,\n",
    "    type AS classification_type,\n",
    "    confidence AS classification_confidence,\n",
    "    explanation AS classification_explanation\n",
    "FROM\n",
    "    ExpandedClassifications\n",
    "WHERE\n",
    "    rn = 1;\n",
    "\"\"\"\n",
    "\n",
    "conn.sql(query)"
   ]
  },
  {
   "cell_type": "markdown",
   "metadata": {},
   "source": [
    "### Classify - P2 Operative Rules"
   ]
  },
  {
   "cell_type": "markdown",
   "metadata": {},
   "source": [
    "True table"
   ]
  },
  {
   "cell_type": "code",
   "execution_count": 55,
   "metadata": {},
   "outputs": [
    {
     "name": "stdout",
     "output_type": "stream",
     "text": [
      "classify_P2_Operative_rules|true_table\n",
      "_query_drop_table='\\n        DROP TABLE IF EXISTS RAW_CLASSIFY_P2_OPERATIVE_RULES_TRUE;\\n        '\n",
      "Trying to drop table because drop parameter is True\n",
      "Table RAW_CLASSIFY_P2_OPERATIVE_RULES_TRUE dropped\n",
      "_query_insert_data='\\n    INSERT INTO RAW_CLASSIFY_P2_OPERATIVE_RULES_TRUE (id, prompt, file_source, content, created_at)\\n    SELECT \\n        id, \\n        \\'classify_P2_Operative_rules\\' as prompt, \\n        \\'documents_true_table.json\\' as file_source, \\n        unnest(content) as content,\\n        now() as created_at\\n    FROM \\n        read_json_auto(\"temp/documents_true_table.json\");\\n    '\n",
      "Trying to insert into RAW_CLASSIFY_P2_OPERATIVE_RULES_TRUE\n",
      "Catalog Error: Table with name RAW_CLASSIFY_P2_OPERATIVE_RULES_TRUE does not exist!\n",
      "Did you mean \"database_v3.RAW_CLASSIFY_P2_OPERATIVE_RULES_TRUE\"?\n",
      "Failed to insert, trying create RAW_CLASSIFY_P2_OPERATIVE_RULES_TRUE\n",
      "_query_create_table='\\n        CREATE TABLE RAW_CLASSIFY_P2_OPERATIVE_RULES_TRUE AS\\n        SELECT id, \\n        \\'classify_P2_Operative_rules\\' as prompt, \\n        \\'documents_true_table.json\\' as file_source, \\n        unnest(content) as content,\\n        now() as \\'created_at\\'\\n        FROM read_json_auto(\"temp/documents_true_table.json\");\\n        '\n",
      "Table RAW_CLASSIFY_P2_OPERATIVE_RULES_TRUE created and loaded.\n"
     ]
    },
    {
     "data": {
      "text/plain": [
       "True"
      ]
     },
     "execution_count": 55,
     "metadata": {},
     "output_type": "execute_result"
    }
   ],
   "source": [
    "upsert_table_from_json(\n",
    "    conn,\n",
    "    suffix_key_pattern=\"classify_P2_Operative_rules|true_table\",\n",
    "    prefix_key_pattern=\"\",\n",
    "    table_name=\"RAW_CLASSIFY_P2_OPERATIVE_RULES_TRUE\",\n",
    "    source=\"cfr2sbvr_db/true/documents_true_table.json\",\n",
    "    key_value=\"classify_P2_Operative_rules\",\n",
    "    drop=True,\n",
    "    content_key=\"content\",\n",
    "    alias=\"content\",\n",
    "    doc_id_key=\"id\"\n",
    ")"
   ]
  },
  {
   "cell_type": "code",
   "execution_count": 56,
   "metadata": {},
   "outputs": [
    {
     "data": {
      "text/plain": [
       "┌─────────────────────────────┬─────────────────────────────┬───────────────────────────┬───────────────────────────────────────────────────────────────────────────────────────────────────────────────────────────────────────────────────────────────────────────────────────────────────────────────────────────────────────────────────────────────────────────────────────────────────────────────────────────────────────────────────────────────────────────────────────────────────────────────────────────────────────────────────────┬────────────────────────────┐\n",
       "│             id              │           prompt            │        file_source        │                                                                                                                                                                                                                        content                                                                                                                                                                                                                        │         created_at         │\n",
       "│           varchar           │           varchar           │          varchar          │                                                                                                                                                            struct(doc_id varchar, statement_id varchar, \"statement\" varchar, sources varchar[], subtype varchar, templates_ids varchar[])                                                                                                                                                             │  timestamp with time zone  │\n",
       "├─────────────────────────────┼─────────────────────────────┼───────────────────────────┼───────────────────────────────────────────────────────────────────────────────────────────────────────────────────────────────────────────────────────────────────────────────────────────────────────────────────────────────────────────────────────────────────────────────────────────────────────────────────────────────────────────────────────────────────────────────────────────────────────────────────────────────────────────────────────┼────────────────────────────┤\n",
       "│ classify_P2_Operative_rules │ classify_P2_Operative_rules │ documents_true_table.json │ {'doc_id': § 275.0-2, 'statement_id': 3, 'statement': The Secretary of the Commission (Secretary) will promptly forward a copy to each named party by registered or certified mail at that party's last address filed with the Commission., 'sources': [(a)(2)], 'subtype': Responsibility rules, 'templates_ids': [T56]}                                                                                                                             │ 2024-12-18 00:39:39.145-03 │\n",
       "│ classify_P2_Operative_rules │ classify_P2_Operative_rules │ documents_true_table.json │ {'doc_id': § 275.0-2, 'statement_id': 4, 'statement': If the Secretary certifies that the Commission was served with process, pleadings, or other papers pursuant to paragraph (a)(1) of this section and forwarded these documents to a named party pursuant to paragraph (a)(2) of this section, this certification constitutes evidence of service upon that party., 'sources': [(a)(3)], 'subtype': Responsibility rules, 'templates_ids': [T56]} │ 2024-12-18 00:39:39.145-03 │\n",
       "│ classify_P2_Operative_rules │ classify_P2_Operative_rules │ documents_true_table.json │ {'doc_id': § 275.0-5, 'statement_id': 2, 'statement': Any interested person may, within the period of time specified therein, submit to the Commission in writing any facts bearing upon the desirability of a hearing on the matter and may request that a hearing be held, stating his reasons therefor and the nature of his interest in the matter., 'sources': [(a)], 'subtype': Party restriction rules, 'templates_ids': [T53]}                │ 2024-12-18 00:39:39.145-03 │\n",
       "│ classify_P2_Operative_rules │ classify_P2_Operative_rules │ documents_true_table.json │ {'doc_id': § 275.0-5, 'statement_id': 1, 'statement': Notice of the initiation of the proceeding will be published in the Federal Register and will indicate the earliest date upon which an order disposing of the matter may be entered., 'sources': [(a)], 'subtype': Activity time limit rules, 'templates_ids': [T48]}                                                                                                                           │ 2024-12-18 00:39:39.145-03 │\n",
       "│ classify_P2_Operative_rules │ classify_P2_Operative_rules │ documents_true_table.json │ {'doc_id': § 275.0-5, 'statement_id': 3, 'statement': An order disposing of the matter will be issued as of course following the expiration of the period of time referred to in paragraph (a) of this section, unless the Commission thereafter orders a hearing on the matter., 'sources': [(b)], 'subtype': Activity obligation rules, 'templates_ids': [T49]}                                                                                     │ 2024-12-18 00:39:39.145-03 │\n",
       "│ classify_P2_Operative_rules │ classify_P2_Operative_rules │ documents_true_table.json │ {'doc_id': § 275.0-5, 'statement_id': 4, 'statement': The Commission will order a hearing on the matter, if it appears that a hearing is necessary or appropriate in the public interest or for the protection of investors, upon the request of any interested person or upon its own motion., 'sources': [(c)], 'subtype': Activity pre-condition rules, 'templates_ids': [T50]}                                                                    │ 2024-12-18 00:39:39.145-03 │\n",
       "└─────────────────────────────┴─────────────────────────────┴───────────────────────────┴───────────────────────────────────────────────────────────────────────────────────────────────────────────────────────────────────────────────────────────────────────────────────────────────────────────────────────────────────────────────────────────────────────────────────────────────────────────────────────────────────────────────────────────────────────────────────────────────────────────────────────────────────────────────────────┴────────────────────────────┘"
      ]
     },
     "execution_count": 56,
     "metadata": {},
     "output_type": "execute_result"
    }
   ],
   "source": [
    "query = \"\"\"\n",
    "SELECT *\n",
    "FROM RAW_CLASSIFY_P2_OPERATIVE_RULES_TRUE\n",
    ";\n",
    "\"\"\"\n",
    "\n",
    "conn.sql(query)"
   ]
  },
  {
   "cell_type": "markdown",
   "metadata": {},
   "source": [
    "Pred table"
   ]
  },
  {
   "cell_type": "code",
   "execution_count": 57,
   "metadata": {},
   "outputs": [
    {
     "name": "stdout",
     "output_type": "stream",
     "text": [
      "cfr2sbvr_db/evaluation/documents-2024-12-08-1.json\n",
      "classify_P2_Operative_rules|llm_response_classification\n",
      "_query_drop_table='\\n        DROP TABLE IF EXISTS RAW_CLASSIFY_P2_OPERATIVE_RULES;\\n        '\n",
      "Trying to drop table because drop parameter is True\n",
      "Table RAW_CLASSIFY_P2_OPERATIVE_RULES dropped\n",
      "_query_insert_data='\\n    INSERT INTO RAW_CLASSIFY_P2_OPERATIVE_RULES (id, prompt, file_source, content, created_at)\\n    SELECT \\n        id, \\n        \\'classify_P2_Operative_rules\\' as prompt, \\n        \\'documents-2024-12-08-1.json\\' as file_source, \\n        unnest(content) as content,\\n        now() as created_at\\n    FROM \\n        read_json_auto(\"temp/documents-2024-12-08-1.json\");\\n    '\n",
      "Trying to insert into RAW_CLASSIFY_P2_OPERATIVE_RULES\n",
      "Catalog Error: Table with name RAW_CLASSIFY_P2_OPERATIVE_RULES does not exist!\n",
      "Did you mean \"database_v3.RAW_CLASSIFY_P2_OPERATIVE_RULES\"?\n",
      "Failed to insert, trying create RAW_CLASSIFY_P2_OPERATIVE_RULES\n",
      "_query_create_table='\\n        CREATE TABLE RAW_CLASSIFY_P2_OPERATIVE_RULES AS\\n        SELECT id, \\n        \\'classify_P2_Operative_rules\\' as prompt, \\n        \\'documents-2024-12-08-1.json\\' as file_source, \\n        unnest(content) as content,\\n        now() as \\'created_at\\'\\n        FROM read_json_auto(\"temp/documents-2024-12-08-1.json\");\\n        '\n",
      "Table RAW_CLASSIFY_P2_OPERATIVE_RULES created and loaded.\n",
      "cfr2sbvr_db/evaluation/documents-2024-12-08-10.json\n",
      "classify_P2_Operative_rules|llm_response_classification\n",
      "_query_insert_data='\\n    INSERT INTO RAW_CLASSIFY_P2_OPERATIVE_RULES (id, prompt, file_source, content, created_at)\\n    SELECT \\n        id, \\n        \\'classify_P2_Operative_rules\\' as prompt, \\n        \\'documents-2024-12-08-10.json\\' as file_source, \\n        unnest(content) as content,\\n        now() as created_at\\n    FROM \\n        read_json_auto(\"temp/documents-2024-12-08-10.json\");\\n    '\n",
      "Trying to insert into RAW_CLASSIFY_P2_OPERATIVE_RULES\n",
      "Data inserted into RAW_CLASSIFY_P2_OPERATIVE_RULES.\n",
      "cfr2sbvr_db/evaluation/documents-2024-12-08-2.json\n",
      "classify_P2_Operative_rules|llm_response_classification\n",
      "_query_insert_data='\\n    INSERT INTO RAW_CLASSIFY_P2_OPERATIVE_RULES (id, prompt, file_source, content, created_at)\\n    SELECT \\n        id, \\n        \\'classify_P2_Operative_rules\\' as prompt, \\n        \\'documents-2024-12-08-2.json\\' as file_source, \\n        unnest(content) as content,\\n        now() as created_at\\n    FROM \\n        read_json_auto(\"temp/documents-2024-12-08-2.json\");\\n    '\n",
      "Trying to insert into RAW_CLASSIFY_P2_OPERATIVE_RULES\n",
      "Data inserted into RAW_CLASSIFY_P2_OPERATIVE_RULES.\n",
      "cfr2sbvr_db/evaluation/documents-2024-12-08-3.json\n",
      "classify_P2_Operative_rules|llm_response_classification\n",
      "_query_insert_data='\\n    INSERT INTO RAW_CLASSIFY_P2_OPERATIVE_RULES (id, prompt, file_source, content, created_at)\\n    SELECT \\n        id, \\n        \\'classify_P2_Operative_rules\\' as prompt, \\n        \\'documents-2024-12-08-3.json\\' as file_source, \\n        unnest(content) as content,\\n        now() as created_at\\n    FROM \\n        read_json_auto(\"temp/documents-2024-12-08-3.json\");\\n    '\n",
      "Trying to insert into RAW_CLASSIFY_P2_OPERATIVE_RULES\n",
      "Data inserted into RAW_CLASSIFY_P2_OPERATIVE_RULES.\n",
      "cfr2sbvr_db/evaluation/documents-2024-12-08-4.json\n",
      "classify_P2_Operative_rules|llm_response_classification\n",
      "_query_insert_data='\\n    INSERT INTO RAW_CLASSIFY_P2_OPERATIVE_RULES (id, prompt, file_source, content, created_at)\\n    SELECT \\n        id, \\n        \\'classify_P2_Operative_rules\\' as prompt, \\n        \\'documents-2024-12-08-4.json\\' as file_source, \\n        unnest(content) as content,\\n        now() as created_at\\n    FROM \\n        read_json_auto(\"temp/documents-2024-12-08-4.json\");\\n    '\n",
      "Trying to insert into RAW_CLASSIFY_P2_OPERATIVE_RULES\n",
      "Data inserted into RAW_CLASSIFY_P2_OPERATIVE_RULES.\n",
      "cfr2sbvr_db/evaluation/documents-2024-12-08-5.json\n",
      "classify_P2_Operative_rules|llm_response_classification\n",
      "_query_insert_data='\\n    INSERT INTO RAW_CLASSIFY_P2_OPERATIVE_RULES (id, prompt, file_source, content, created_at)\\n    SELECT \\n        id, \\n        \\'classify_P2_Operative_rules\\' as prompt, \\n        \\'documents-2024-12-08-5.json\\' as file_source, \\n        unnest(content) as content,\\n        now() as created_at\\n    FROM \\n        read_json_auto(\"temp/documents-2024-12-08-5.json\");\\n    '\n",
      "Trying to insert into RAW_CLASSIFY_P2_OPERATIVE_RULES\n",
      "Data inserted into RAW_CLASSIFY_P2_OPERATIVE_RULES.\n",
      "cfr2sbvr_db/evaluation/documents-2024-12-08-6.json\n",
      "classify_P2_Operative_rules|llm_response_classification\n",
      "_query_insert_data='\\n    INSERT INTO RAW_CLASSIFY_P2_OPERATIVE_RULES (id, prompt, file_source, content, created_at)\\n    SELECT \\n        id, \\n        \\'classify_P2_Operative_rules\\' as prompt, \\n        \\'documents-2024-12-08-6.json\\' as file_source, \\n        unnest(content) as content,\\n        now() as created_at\\n    FROM \\n        read_json_auto(\"temp/documents-2024-12-08-6.json\");\\n    '\n",
      "Trying to insert into RAW_CLASSIFY_P2_OPERATIVE_RULES\n",
      "Data inserted into RAW_CLASSIFY_P2_OPERATIVE_RULES.\n",
      "cfr2sbvr_db/evaluation/documents-2024-12-08-7.json\n",
      "classify_P2_Operative_rules|llm_response_classification\n",
      "_query_insert_data='\\n    INSERT INTO RAW_CLASSIFY_P2_OPERATIVE_RULES (id, prompt, file_source, content, created_at)\\n    SELECT \\n        id, \\n        \\'classify_P2_Operative_rules\\' as prompt, \\n        \\'documents-2024-12-08-7.json\\' as file_source, \\n        unnest(content) as content,\\n        now() as created_at\\n    FROM \\n        read_json_auto(\"temp/documents-2024-12-08-7.json\");\\n    '\n",
      "Trying to insert into RAW_CLASSIFY_P2_OPERATIVE_RULES\n",
      "Data inserted into RAW_CLASSIFY_P2_OPERATIVE_RULES.\n",
      "cfr2sbvr_db/evaluation/documents-2024-12-08-8.json\n",
      "classify_P2_Operative_rules|llm_response_classification\n",
      "_query_insert_data='\\n    INSERT INTO RAW_CLASSIFY_P2_OPERATIVE_RULES (id, prompt, file_source, content, created_at)\\n    SELECT \\n        id, \\n        \\'classify_P2_Operative_rules\\' as prompt, \\n        \\'documents-2024-12-08-8.json\\' as file_source, \\n        unnest(content) as content,\\n        now() as created_at\\n    FROM \\n        read_json_auto(\"temp/documents-2024-12-08-8.json\");\\n    '\n",
      "Trying to insert into RAW_CLASSIFY_P2_OPERATIVE_RULES\n",
      "Data inserted into RAW_CLASSIFY_P2_OPERATIVE_RULES.\n",
      "cfr2sbvr_db/evaluation/documents-2024-12-08-9.json\n",
      "classify_P2_Operative_rules|llm_response_classification\n",
      "_query_insert_data='\\n    INSERT INTO RAW_CLASSIFY_P2_OPERATIVE_RULES (id, prompt, file_source, content, created_at)\\n    SELECT \\n        id, \\n        \\'classify_P2_Operative_rules\\' as prompt, \\n        \\'documents-2024-12-08-9.json\\' as file_source, \\n        unnest(content) as content,\\n        now() as created_at\\n    FROM \\n        read_json_auto(\"temp/documents-2024-12-08-9.json\");\\n    '\n",
      "Trying to insert into RAW_CLASSIFY_P2_OPERATIVE_RULES\n",
      "Data inserted into RAW_CLASSIFY_P2_OPERATIVE_RULES.\n"
     ]
    }
   ],
   "source": [
    "# Define the directory and pattern\n",
    "directory = Path(\"cfr2sbvr_db/evaluation\")\n",
    "pattern = \"documents-*.json\"\n",
    "\n",
    "# Use glob to find all files matching the pattern\n",
    "files = directory.glob(pattern)\n",
    "\n",
    "drop=True # Drop the table first time\n",
    "for file_path in files:\n",
    "    print(file_path)  # Output each file path\n",
    "    upsert_table_from_json(\n",
    "        conn,\n",
    "        suffix_key_pattern=\"classify_P2_Operative_rules|llm_response_classification\",\n",
    "        prefix_key_pattern=\"\",\n",
    "        table_name=\"RAW_CLASSIFY_P2_OPERATIVE_RULES\",\n",
    "        source=file_path,\n",
    "        key_value=\"classify_P2_Operative_rules\",\n",
    "        drop=drop,\n",
    "        content_key=\"content\",\n",
    "        alias=\"content\",\n",
    "        doc_id_key=\"id\"\n",
    "    )\n",
    "    drop=False # Stop dropping tables"
   ]
  },
  {
   "cell_type": "code",
   "execution_count": 58,
   "metadata": {},
   "outputs": [
    {
     "data": {
      "text/plain": [
       "┌─────────────────────────────┬─────────────────────────────┬──────────────────────────────┬────────────────────────────────────────────────────────────────────────────────────────────────────────────────────────────────────────────────────────────────────────────────────────────────────────────────────────────────────────────────────────────────────────────────────────────────────────────────────────────────────────────────────────────────────────────────────────────────────────────────────────────────────────────────────────────────────────────────────────────────────────────────────────────────────────────────────────────────────────────────────────────────────────────────────────────────────────────────────────────────────────────────────────────────────────────────────────────────────────────────────────────────────────────────────────────────────────────────────────────────────────────────────────────────────────────────────────────────────────────────────────────────────────────────────────────────────────────────────┬────────────────────────────┐\n",
       "│             id              │           prompt            │         file_source          │                                                                                                                                                                                                                                                                                                                                                                                                                                                                                      content                                                                                                                                                                                                                                                                                                                                                                                                                                                                                       │         created_at         │\n",
       "│           varchar           │           varchar           │           varchar            │                                                                                                                                                                                                                                                                                                                                                                       struct(doc_id varchar, statement_id varchar, statement_title varchar, statement_text varchar, statement_sources varchar[], classification struct(subtype varchar, templates_ids varchar[], confidence double, explanation varchar)[])                                                                                                                                                                                                                                                                                                                                                                        │  timestamp with time zone  │\n",
       "├─────────────────────────────┼─────────────────────────────┼──────────────────────────────┼────────────────────────────────────────────────────────────────────────────────────────────────────────────────────────────────────────────────────────────────────────────────────────────────────────────────────────────────────────────────────────────────────────────────────────────────────────────────────────────────────────────────────────────────────────────────────────────────────────────────────────────────────────────────────────────────────────────────────────────────────────────────────────────────────────────────────────────────────────────────────────────────────────────────────────────────────────────────────────────────────────────────────────────────────────────────────────────────────────────────────────────────────────────────────────────────────────────────────────────────────────────────────────────────────────────────────────────────────────────────────────────────────────────────────────────────────────────────────┼────────────────────────────┤\n",
       "│ classify_P2_Operative_rules │ classify_P2_Operative_rules │ documents-2024-12-08-1.json  │ {'doc_id': § 275.0-2, 'statement_id': 3, 'statement_title': Forwarding documents by the Secretary, 'statement_text': The Secretary of the Commission (Secretary) will promptly forward a copy to each named party by registered or certified mail at that party's last address filed with the Commission., 'statement_sources': [(a)(2)], 'classification': [{'subtype': Responsibility rules, 'templates_ids': [T56], 'confidence': 0.8, 'explanation': This statement assigns a responsibility to the Secretary of the Commission to forward documents to each named party. The responsibility is clearly defined, aligning with the template for responsibility rules, where the Secretary is responsible for the process of forwarding documents.}]}                                                                                                                                                                                                                           │ 2024-12-18 00:39:39.217-03 │\n",
       "│ classify_P2_Operative_rules │ classify_P2_Operative_rules │ documents-2024-12-08-1.json  │ {'doc_id': § 275.0-2, 'statement_id': 4, 'statement_title': Certification of service by the Secretary, 'statement_text': If the Secretary certifies that the Commission was served with process, pleadings, or other papers pursuant to paragraph (a)(1) of this section and forwarded these documents to a named party pursuant to paragraph (a)(2) of this section, this certification constitutes evidence of service upon that party., 'statement_sources': [(a)(3)], 'classification': [{'subtype': Responsibility rules, 'templates_ids': [T56], 'confidence': 0.7, 'explanation': The statement describes a responsibility of the Secretary to certify service, which constitutes evidence of service upon a party. This aligns with responsibility rules as it defines a duty of the Secretary related to the certification process.}]}                                                                                                                                    │ 2024-12-18 00:39:39.217-03 │\n",
       "│ classify_P2_Operative_rules │ classify_P2_Operative_rules │ documents-2024-12-08-1.json  │ {'doc_id': § 275.0-5, 'statement_id': 2, 'statement_title': Submission of facts and hearing request, 'statement_text': Any interested person may, within the period of time specified therein, submit to the Commission in writing any facts bearing upon the desirability of a hearing on the matter and may request that a hearing be held, stating his reasons therefor and the nature of his interest in the matter., 'statement_sources': [(a)], 'classification': [{'subtype': Party restriction rules, 'templates_ids': [T53], 'confidence': 0.6, 'explanation': The statement allows any interested person to submit facts and request a hearing, which implies a restriction on who can perform this activity. It aligns with party restriction rules as it specifies the conditions under which a person may engage in the process of submitting facts and requesting a hearing.}]}                                                                                      │ 2024-12-18 00:39:39.217-03 │\n",
       "│ classify_P2_Operative_rules │ classify_P2_Operative_rules │ documents-2024-12-08-1.json  │ {'doc_id': § 275.0-5, 'statement_id': 1, 'statement_title': Notice of proceeding initiation, 'statement_text': Notice of the initiation of the proceeding will be published in the Federal Register and will indicate the earliest date upon which an order disposing of the matter may be entered., 'statement_sources': [(a)], 'classification': [{'subtype': Activity time limit rules, 'templates_ids': [T48], 'confidence': 0.8, 'explanation': The statement specifies that the notice will indicate the earliest date upon which an order may be entered, which implies a time restriction on when the order can occur. This aligns with the template for activity time limit rules, where an activity (entering an order) is restricted to occur after a certain time (earliest date).}]}                                                                                                                                                                                  │ 2024-12-18 00:39:39.217-03 │\n",
       "│ classify_P2_Operative_rules │ classify_P2_Operative_rules │ documents-2024-12-08-1.json  │ {'doc_id': § 275.0-5, 'statement_id': 3, 'statement_title': Issuance of order disposing of the matter, 'statement_text': An order disposing of the matter will be issued as of course following the expiration of the period of time referred to in paragraph (a) of this section, unless the Commission thereafter orders a hearing on the matter., 'statement_sources': [(b)], 'classification': [{'subtype': Activity obligation rules, 'templates_ids': [T49], 'confidence': 0.9, 'explanation': The statement requires that an order will be issued following the expiration of a specific time period unless a hearing is ordered. This fits the activity obligation rules, as it mandates an action (issuing an order) to occur after a particular event (expiration of the time period) unless a condition (hearing ordered) exists.}]}                                                                                                                                    │ 2024-12-18 00:39:39.217-03 │\n",
       "│ classify_P2_Operative_rules │ classify_P2_Operative_rules │ documents-2024-12-08-1.json  │ {'doc_id': § 275.0-5, 'statement_id': 4, 'statement_title': Commission orders a hearing, 'statement_text': The Commission will order a hearing on the matter, if it appears that a hearing is necessary or appropriate in the public interest or for the protection of investors, upon the request of any interested person or upon its own motion., 'statement_sources': [(c)], 'classification': [{'subtype': Activity pre-condition rules, 'templates_ids': [T50], 'confidence': 0.8, 'explanation': The statement describes a condition under which the Commission will order a hearing. It specifies that a hearing will be ordered if it appears necessary or appropriate in the public interest or for the protection of investors, or upon request. This aligns with the template for Activity pre-condition rules, which involves an activity occurring only if certain conditions are met. The use of 'if' to introduce the condition matches the template structure.}]} │ 2024-12-18 00:39:39.217-03 │\n",
       "│ classify_P2_Operative_rules │ classify_P2_Operative_rules │ documents-2024-12-08-10.json │ {'doc_id': § 275.0-2, 'statement_id': 3, 'statement_title': Forwarding documents by the Secretary, 'statement_text': The Secretary of the Commission (Secretary) will promptly forward a copy to each named party by registered or certified mail at that party's last address filed with the Commission., 'statement_sources': [(a)(2)], 'classification': [{'subtype': Responsibility rules, 'templates_ids': [T56], 'confidence': 0.8, 'explanation': This statement assigns a responsibility to the Secretary of the Commission to forward documents to each named party. The responsibility is clearly defined, aligning with the template for responsibility rules, where the Secretary is responsible for the process of forwarding documents.}]}                                                                                                                                                                                                                           │ 2024-12-18 00:39:39.251-03 │\n",
       "│ classify_P2_Operative_rules │ classify_P2_Operative_rules │ documents-2024-12-08-10.json │ {'doc_id': § 275.0-2, 'statement_id': 4, 'statement_title': Certification of service by the Secretary, 'statement_text': If the Secretary certifies that the Commission was served with process, pleadings, or other papers pursuant to paragraph (a)(1) of this section and forwarded these documents to a named party pursuant to paragraph (a)(2) of this section, this certification constitutes evidence of service upon that party., 'statement_sources': [(a)(3)], 'classification': [{'subtype': Responsibility rules, 'templates_ids': [T56], 'confidence': 0.7, 'explanation': The statement describes a responsibility of the Secretary to certify service, which constitutes evidence of service upon a party. This aligns with responsibility rules as it defines a duty of the Secretary related to the certification process.}]}                                                                                                                                    │ 2024-12-18 00:39:39.251-03 │\n",
       "│ classify_P2_Operative_rules │ classify_P2_Operative_rules │ documents-2024-12-08-10.json │ {'doc_id': § 275.0-5, 'statement_id': 2, 'statement_title': Submission of facts and hearing request, 'statement_text': Any interested person may, within the period of time specified therein, submit to the Commission in writing any facts bearing upon the desirability of a hearing on the matter and may request that a hearing be held, stating his reasons therefor and the nature of his interest in the matter., 'statement_sources': [(a)], 'classification': [{'subtype': Party restriction rules, 'templates_ids': [T53], 'confidence': 0.6, 'explanation': The statement allows any interested person to submit facts and request a hearing, which implies a restriction on who can perform this activity. It aligns with party restriction rules as it specifies the conditions under which a person may engage in the process of submitting facts and requesting a hearing.}]}                                                                                      │ 2024-12-18 00:39:39.251-03 │\n",
       "│ classify_P2_Operative_rules │ classify_P2_Operative_rules │ documents-2024-12-08-10.json │ {'doc_id': § 275.0-5, 'statement_id': 1, 'statement_title': Notice of proceeding initiation, 'statement_text': Notice of the initiation of the proceeding will be published in the Federal Register and will indicate the earliest date upon which an order disposing of the matter may be entered., 'statement_sources': [(a)], 'classification': [{'subtype': Activity time limit rules, 'templates_ids': [T48], 'confidence': 0.8, 'explanation': The statement specifies that the notice will indicate the earliest date upon which an order may be entered, which implies a time restriction on when the order can occur. This aligns with the template for activity time limit rules, where an activity (entering an order) is restricted to occur after a certain time (earliest date).}]}                                                                                                                                                                                  │ 2024-12-18 00:39:39.251-03 │\n",
       "│              ·              │              ·              │              ·               │                                                                                                                                                                                                                                                                                                                                                                                                 ·                                                                                                                                                                                                                                                                                                                                                                                                                                                                                                                                                                                  │             ·              │\n",
       "│              ·              │              ·              │              ·               │                                                                                                                                                                                                                                                                                                                                                                                                 ·                                                                                                                                                                                                                                                                                                                                                                                                                                                                                                                                                                                  │             ·              │\n",
       "│              ·              │              ·              │              ·               │                                                                                                                                                                                                                                                                                                                                                                                                 ·                                                                                                                                                                                                                                                                                                                                                                                                                                                                                                                                                                                  │             ·              │\n",
       "│ classify_P2_Operative_rules │ classify_P2_Operative_rules │ documents-2024-12-08-8.json  │ {'doc_id': § 275.0-5, 'statement_id': 2, 'statement_title': Submission of facts and hearing request, 'statement_text': Any interested person may, within the period of time specified therein, submit to the Commission in writing any facts bearing upon the desirability of a hearing on the matter and may request that a hearing be held, stating his reasons therefor and the nature of his interest in the matter., 'statement_sources': [(a)], 'classification': [{'subtype': Party restriction rules, 'templates_ids': [T53], 'confidence': 0.6, 'explanation': The statement allows any interested person to submit facts and request a hearing, which implies a restriction on who can perform this activity. It aligns with party restriction rules as it specifies the conditions under which a person may engage in the process of submitting facts and requesting a hearing.}]}                                                                                      │ 2024-12-18 00:39:39.499-03 │\n",
       "│ classify_P2_Operative_rules │ classify_P2_Operative_rules │ documents-2024-12-08-8.json  │ {'doc_id': § 275.0-5, 'statement_id': 1, 'statement_title': Notice of proceeding initiation, 'statement_text': Notice of the initiation of the proceeding will be published in the Federal Register and will indicate the earliest date upon which an order disposing of the matter may be entered., 'statement_sources': [(a)], 'classification': [{'subtype': Activity time limit rules, 'templates_ids': [T48], 'confidence': 0.8, 'explanation': The statement specifies that the notice will indicate the earliest date upon which an order may be entered, which implies a time restriction on when the order can occur. This aligns with the template for activity time limit rules, where an activity (entering an order) is restricted to occur after a certain time (earliest date).}]}                                                                                                                                                                                  │ 2024-12-18 00:39:39.499-03 │\n",
       "│ classify_P2_Operative_rules │ classify_P2_Operative_rules │ documents-2024-12-08-8.json  │ {'doc_id': § 275.0-5, 'statement_id': 3, 'statement_title': Issuance of order disposing of the matter, 'statement_text': An order disposing of the matter will be issued as of course following the expiration of the period of time referred to in paragraph (a) of this section, unless the Commission thereafter orders a hearing on the matter., 'statement_sources': [(b)], 'classification': [{'subtype': Activity obligation rules, 'templates_ids': [T49], 'confidence': 0.9, 'explanation': The statement requires that an order will be issued following the expiration of a specific time period unless a hearing is ordered. This fits the activity obligation rules, as it mandates an action (issuing an order) to occur after a particular event (expiration of the time period) unless a condition (hearing ordered) exists.}]}                                                                                                                                    │ 2024-12-18 00:39:39.499-03 │\n",
       "│ classify_P2_Operative_rules │ classify_P2_Operative_rules │ documents-2024-12-08-8.json  │ {'doc_id': § 275.0-5, 'statement_id': 4, 'statement_title': Commission orders a hearing, 'statement_text': The Commission will order a hearing on the matter, if it appears that a hearing is necessary or appropriate in the public interest or for the protection of investors, upon the request of any interested person or upon its own motion., 'statement_sources': [(c)], 'classification': [{'subtype': Activity pre-condition rules, 'templates_ids': [T50], 'confidence': 0.8, 'explanation': The statement describes a condition under which the Commission will order a hearing. It specifies that a hearing will be ordered if it appears necessary or appropriate in the public interest or for the protection of investors, or upon request. This aligns with the template for Activity pre-condition rules, which involves an activity occurring only if certain conditions are met. The use of 'if' to introduce the condition matches the template structure.}]} │ 2024-12-18 00:39:39.499-03 │\n",
       "│ classify_P2_Operative_rules │ classify_P2_Operative_rules │ documents-2024-12-08-9.json  │ {'doc_id': § 275.0-2, 'statement_id': 3, 'statement_title': Forwarding documents by the Secretary, 'statement_text': The Secretary of the Commission (Secretary) will promptly forward a copy to each named party by registered or certified mail at that party's last address filed with the Commission., 'statement_sources': [(a)(2)], 'classification': [{'subtype': Responsibility rules, 'templates_ids': [T56], 'confidence': 0.8, 'explanation': This statement assigns a responsibility to the Secretary of the Commission to forward documents to each named party. The responsibility is clearly defined, aligning with the template for responsibility rules, where the Secretary is responsible for the process of forwarding documents.}]}                                                                                                                                                                                                                           │ 2024-12-18 00:39:39.538-03 │\n",
       "│ classify_P2_Operative_rules │ classify_P2_Operative_rules │ documents-2024-12-08-9.json  │ {'doc_id': § 275.0-2, 'statement_id': 4, 'statement_title': Certification of service by the Secretary, 'statement_text': If the Secretary certifies that the Commission was served with process, pleadings, or other papers pursuant to paragraph (a)(1) of this section and forwarded these documents to a named party pursuant to paragraph (a)(2) of this section, this certification constitutes evidence of service upon that party., 'statement_sources': [(a)(3)], 'classification': [{'subtype': Responsibility rules, 'templates_ids': [T56], 'confidence': 0.7, 'explanation': The statement describes a responsibility of the Secretary to certify service, which constitutes evidence of service upon a party. This aligns with responsibility rules as it defines a duty of the Secretary related to the certification process.}]}                                                                                                                                    │ 2024-12-18 00:39:39.538-03 │\n",
       "│ classify_P2_Operative_rules │ classify_P2_Operative_rules │ documents-2024-12-08-9.json  │ {'doc_id': § 275.0-5, 'statement_id': 2, 'statement_title': Submission of facts and hearing request, 'statement_text': Any interested person may, within the period of time specified therein, submit to the Commission in writing any facts bearing upon the desirability of a hearing on the matter and may request that a hearing be held, stating his reasons therefor and the nature of his interest in the matter., 'statement_sources': [(a)], 'classification': [{'subtype': Party restriction rules, 'templates_ids': [T53], 'confidence': 0.6, 'explanation': The statement allows any interested person to submit facts and request a hearing, which implies a restriction on who can perform this activity. It aligns with party restriction rules as it specifies the conditions under which a person may engage in the process of submitting facts and requesting a hearing.}]}                                                                                      │ 2024-12-18 00:39:39.538-03 │\n",
       "│ classify_P2_Operative_rules │ classify_P2_Operative_rules │ documents-2024-12-08-9.json  │ {'doc_id': § 275.0-5, 'statement_id': 1, 'statement_title': Notice of proceeding initiation, 'statement_text': Notice of the initiation of the proceeding will be published in the Federal Register and will indicate the earliest date upon which an order disposing of the matter may be entered., 'statement_sources': [(a)], 'classification': [{'subtype': Activity time limit rules, 'templates_ids': [T48], 'confidence': 0.8, 'explanation': The statement specifies that the notice will indicate the earliest date upon which an order may be entered, which implies a time restriction on when the order can occur. This aligns with the template for activity time limit rules, where an activity (entering an order) is restricted to occur after a certain time (earliest date).}]}                                                                                                                                                                                  │ 2024-12-18 00:39:39.538-03 │\n",
       "│ classify_P2_Operative_rules │ classify_P2_Operative_rules │ documents-2024-12-08-9.json  │ {'doc_id': § 275.0-5, 'statement_id': 3, 'statement_title': Issuance of order disposing of the matter, 'statement_text': An order disposing of the matter will be issued as of course following the expiration of the period of time referred to in paragraph (a) of this section, unless the Commission thereafter orders a hearing on the matter., 'statement_sources': [(b)], 'classification': [{'subtype': Activity obligation rules, 'templates_ids': [T49], 'confidence': 0.9, 'explanation': The statement requires that an order will be issued following the expiration of a specific time period unless a hearing is ordered. This fits the activity obligation rules, as it mandates an action (issuing an order) to occur after a particular event (expiration of the time period) unless a condition (hearing ordered) exists.}]}                                                                                                                                    │ 2024-12-18 00:39:39.538-03 │\n",
       "│ classify_P2_Operative_rules │ classify_P2_Operative_rules │ documents-2024-12-08-9.json  │ {'doc_id': § 275.0-5, 'statement_id': 4, 'statement_title': Commission orders a hearing, 'statement_text': The Commission will order a hearing on the matter, if it appears that a hearing is necessary or appropriate in the public interest or for the protection of investors, upon the request of any interested person or upon its own motion., 'statement_sources': [(c)], 'classification': [{'subtype': Activity pre-condition rules, 'templates_ids': [T50], 'confidence': 0.8, 'explanation': The statement describes a condition under which the Commission will order a hearing. It specifies that a hearing will be ordered if it appears necessary or appropriate in the public interest or for the protection of investors, or upon request. This aligns with the template for Activity pre-condition rules, which involves an activity occurring only if certain conditions are met. The use of 'if' to introduce the condition matches the template structure.}]} │ 2024-12-18 00:39:39.538-03 │\n",
       "├─────────────────────────────┴─────────────────────────────┴──────────────────────────────┴────────────────────────────────────────────────────────────────────────────────────────────────────────────────────────────────────────────────────────────────────────────────────────────────────────────────────────────────────────────────────────────────────────────────────────────────────────────────────────────────────────────────────────────────────────────────────────────────────────────────────────────────────────────────────────────────────────────────────────────────────────────────────────────────────────────────────────────────────────────────────────────────────────────────────────────────────────────────────────────────────────────────────────────────────────────────────────────────────────────────────────────────────────────────────────────────────────────────────────────────────────────────────────────────────────────────────────────────────────────────────────────────────────────────────────────────────────────────────┴────────────────────────────┤\n",
       "│ 60 rows (20 shown)                                                                                                                                                                                                                                                                                                                                                                                                                                                                                                                                                                                                                                                                                                                                                                                                                                                                                                                                                                                                                                                                               5 columns │\n",
       "└────────────────────────────────────────────────────────────────────────────────────────────────────────────────────────────────────────────────────────────────────────────────────────────────────────────────────────────────────────────────────────────────────────────────────────────────────────────────────────────────────────────────────────────────────────────────────────────────────────────────────────────────────────────────────────────────────────────────────────────────────────────────────────────────────────────────────────────────────────────────────────────────────────────────────────────────────────────────────────────────────────────────────────────────────────────────────────────────────────────────────────────────────────────────────────────────────────────────────────────────────────────────────────────────────────────────────────────────────────────────────────────────────────────────────────────────────────────────────────────────────────────────────────────────────────────────────────────────────────────────────────────────────────────┘"
      ]
     },
     "execution_count": 58,
     "metadata": {},
     "output_type": "execute_result"
    }
   ],
   "source": [
    "query = \"\"\"\n",
    "SELECT *\n",
    "FROM RAW_CLASSIFY_P2_OPERATIVE_RULES\n",
    ";\n",
    "\"\"\"\n",
    "\n",
    "conn.sql(query)"
   ]
  },
  {
   "cell_type": "markdown",
   "metadata": {},
   "source": [
    "### Classify P2 - Definitional Terms"
   ]
  },
  {
   "cell_type": "markdown",
   "metadata": {},
   "source": [
    "True table"
   ]
  },
  {
   "cell_type": "code",
   "execution_count": 59,
   "metadata": {},
   "outputs": [
    {
     "name": "stdout",
     "output_type": "stream",
     "text": [
      "classify_P2_Definitional_terms|true_table\n",
      "_query_drop_table='\\n        DROP TABLE IF EXISTS RAW_CLASSIFY_P2_DEFINITIONAL_TERMS_TRUE;\\n        '\n",
      "Trying to drop table because drop parameter is True\n",
      "Table RAW_CLASSIFY_P2_DEFINITIONAL_TERMS_TRUE dropped\n",
      "_query_insert_data='\\n    INSERT INTO RAW_CLASSIFY_P2_DEFINITIONAL_TERMS_TRUE (id, prompt, file_source, content, created_at)\\n    SELECT \\n        id, \\n        \\'classify_P2_Definitional_terms\\' as prompt, \\n        \\'documents_true_table.json\\' as file_source, \\n        unnest(content) as content,\\n        now() as created_at\\n    FROM \\n        read_json_auto(\"temp/documents_true_table.json\");\\n    '\n",
      "Trying to insert into RAW_CLASSIFY_P2_DEFINITIONAL_TERMS_TRUE\n",
      "Catalog Error: Table with name RAW_CLASSIFY_P2_DEFINITIONAL_TERMS_TRUE does not exist!\n",
      "Did you mean \"database_v3.RAW_CLASSIFY_P2_DEFINITIONAL_TERMS_TRUE\"?\n",
      "Failed to insert, trying create RAW_CLASSIFY_P2_DEFINITIONAL_TERMS_TRUE\n",
      "_query_create_table='\\n        CREATE TABLE RAW_CLASSIFY_P2_DEFINITIONAL_TERMS_TRUE AS\\n        SELECT id, \\n        \\'classify_P2_Definitional_terms\\' as prompt, \\n        \\'documents_true_table.json\\' as file_source, \\n        unnest(content) as content,\\n        now() as \\'created_at\\'\\n        FROM read_json_auto(\"temp/documents_true_table.json\");\\n        '\n",
      "Table RAW_CLASSIFY_P2_DEFINITIONAL_TERMS_TRUE created and loaded.\n"
     ]
    },
    {
     "data": {
      "text/plain": [
       "True"
      ]
     },
     "execution_count": 59,
     "metadata": {},
     "output_type": "execute_result"
    }
   ],
   "source": [
    "upsert_table_from_json(\n",
    "    conn,\n",
    "    suffix_key_pattern=\"classify_P2_Definitional_terms|true_table\",\n",
    "    prefix_key_pattern=\"\",\n",
    "    table_name=\"RAW_CLASSIFY_P2_DEFINITIONAL_TERMS_TRUE\",\n",
    "    source=\"cfr2sbvr_db/true/documents_true_table.json\",\n",
    "    key_value=\"classify_P2_Definitional_terms\",\n",
    "    drop=True,\n",
    "    content_key=\"content\",\n",
    "    alias=\"content\",\n",
    "    doc_id_key=\"id\"\n",
    ")"
   ]
  },
  {
   "cell_type": "code",
   "execution_count": 60,
   "metadata": {},
   "outputs": [
    {
     "data": {
      "text/plain": [
       "┌────────────────────────────────┬────────────────────────────────┬───────────────────────────┬────────────────────────────────────────────────────────────────────────────────────────────────────────────────────────────────────────────────────────────────────────────────────────────────────────────────────────────────────────────────────────────────────────────────────────────────────────────────────────────────────────────────────────────────────────────────────────────────────────────────────────────────────────────────────────────────────────────────────────────────────────────────────────────┬────────────────────────────┐\n",
       "│               id               │             prompt             │        file_source        │                                                                                                                                                                                                                                                          content                                                                                                                                                                                                                                                           │         created_at         │\n",
       "│            varchar             │            varchar             │          varchar          │                                                                                                                                                                                               struct(doc_id varchar, statement_id varchar, \"statement\" varchar, sources varchar[], subtype varchar, templates_ids varchar[])                                                                                                                                                                                               │  timestamp with time zone  │\n",
       "├────────────────────────────────┼────────────────────────────────┼───────────────────────────┼────────────────────────────────────────────────────────────────────────────────────────────────────────────────────────────────────────────────────────────────────────────────────────────────────────────────────────────────────────────────────────────────────────────────────────────────────────────────────────────────────────────────────────────────────────────────────────────────────────────────────────────────────────────────────────────────────────────────────────────────────────────────────────────┼────────────────────────────┤\n",
       "│ classify_P2_Definitional_terms │ classify_P2_Definitional_terms │ documents_true_table.json │ {'doc_id': § 275.0-2, 'statement_id': Commission's records, 'statement': Records maintained by the Commission, which include copies of process, pleadings, or other papers served., 'sources': [(a)(1)], 'subtype': Formal extensional definitions, 'templates_ids': [T8]}                                                                                                                                                                                                                                                 │ 2024-12-18 00:39:39.588-03 │\n",
       "│ classify_P2_Definitional_terms │ classify_P2_Definitional_terms │ documents_true_table.json │ {'doc_id': § 275.0-2, 'statement_id': Evidence of service, 'statement': The certification by the Secretary that the Commission was served with process, pleadings, or other papers and forwarded these documents to a named party., 'sources': [(a)(3)], 'subtype': Formal extensional definitions, 'templates_ids': [T8]}                                                                                                                                                                                                 │ 2024-12-18 00:39:39.588-03 │\n",
       "│ classify_P2_Definitional_terms │ classify_P2_Definitional_terms │ documents_true_table.json │ {'doc_id': § 275.0-2, 'statement_id': Managing agent, 'statement': Any person, including a trustee, who directs or manages, or who participates in directing or managing, the affairs of any unincorporated organization or association other than a partnership., 'sources': [(b)(1)], 'subtype': Formal intensional definitions, 'templates_ids': [T7]}                                                                                                                                                                  │ 2024-12-18 00:39:39.588-03 │\n",
       "│ classify_P2_Definitional_terms │ classify_P2_Definitional_terms │ documents_true_table.json │ {'doc_id': § 275.0-2, 'statement_id': Non-resident, 'statement': An individual, corporation, partnership, or other unincorporated organization or association that resides or has its principal office and place of business in any place not subject to the jurisdiction of the United States., 'sources': [(b)(2)], 'subtype': Formal intensional definitions, 'templates_ids': [T7]}                                                                                                                                    │ 2024-12-18 00:39:39.588-03 │\n",
       "│ classify_P2_Definitional_terms │ classify_P2_Definitional_terms │ documents_true_table.json │ {'doc_id': § 275.0-5, 'statement_id': Order disposing of the matter, 'statement': An order issued after the period of time for submitting facts or requesting a hearing has expired., 'sources': [(a), (b)], 'subtype': Formal intensional definitions, 'templates_ids': [T7]}                                                                                                                                                                                                                                             │ 2024-12-18 00:39:39.588-03 │\n",
       "│ classify_P2_Definitional_terms │ classify_P2_Definitional_terms │ documents_true_table.json │ {'doc_id': § 275.0-5, 'statement_id': Notice, 'statement': A publication in the Federal Register indicating the initiation of the proceeding and the earliest date for an order., 'sources': [(a)], 'subtype': Formal intensional definitions, 'templates_ids': [T7]}                                                                                                                                                                                                                                                      │ 2024-12-18 00:39:39.588-03 │\n",
       "│ classify_P2_Definitional_terms │ classify_P2_Definitional_terms │ documents_true_table.json │ {'doc_id': § 275.0-5, 'statement_id': Initiation of the proceeding, 'statement': The process that begins when a notice is published in the Federal Register indicating the earliest date upon which an order disposing of the matter may be entered., 'sources': [(a)], 'subtype': Formal intensional definitions, 'templates_ids': [T7]}                                                                                                                                                                                  │ 2024-12-18 00:39:39.588-03 │\n",
       "│ classify_P2_Definitional_terms │ classify_P2_Definitional_terms │ documents_true_table.json │ {'doc_id': § 275.0-5, 'statement_id': Order, 'statement': A decision issued by the Commission disposing of the matter., 'sources': [(a), (b), (d)], 'subtype': Formal intensional definitions, 'templates_ids': [T7]}                                                                                                                                                                                                                                                                                                      │ 2024-12-18 00:39:39.588-03 │\n",
       "│ classify_P2_Definitional_terms │ classify_P2_Definitional_terms │ documents_true_table.json │ {'doc_id': § 275.0-5, 'statement_id': Matter, 'statement': The subject of the proceeding initiated by the filing of an application or the Commission's motion., 'sources': [(c), (a), (b)], 'subtype': Formal intensional definitions, 'templates_ids': [T7]}                                                                                                                                                                                                                                                              │ 2024-12-18 00:39:39.588-03 │\n",
       "│ classify_P2_Definitional_terms │ classify_P2_Definitional_terms │ documents_true_table.json │ {'doc_id': § 275.0-5, 'statement_id': Interested person, 'statement': Any person who may submit facts or request a hearing on the matter., 'sources': [(c), (a)], 'subtype': Formal intensional definitions, 'templates_ids': [T7]}                                                                                                                                                                                                                                                                                        │ 2024-12-18 00:39:39.588-03 │\n",
       "│               ·                │               ·                │             ·             │                                                                                                         ·                                                                                                                                                                                                                                                                                                                                                                                                                  │             ·              │\n",
       "│               ·                │               ·                │             ·             │                                                                                                         ·                                                                                                                                                                                                                                                                                                                                                                                                                  │             ·              │\n",
       "│               ·                │               ·                │             ·             │                                                                                                         ·                                                                                                                                                                                                                                                                                                                                                                                                                  │             ·              │\n",
       "│ classify_P2_Definitional_terms │ classify_P2_Definitional_terms │ documents_true_table.json │ {'doc_id': § 275.0-5, 'statement_id': Order of the Commission, 'statement': An order issued by the Commission under the Act., 'sources': [(d)], 'subtype': Formal intensional definitions, 'templates_ids': [T7]}                                                                                                                                                                                                                                                                                                          │ 2024-12-18 00:39:39.588-03 │\n",
       "│ classify_P2_Definitional_terms │ classify_P2_Definitional_terms │ documents_true_table.json │ {'doc_id': § 275.0-5, 'statement_id': Application, 'statement': Any application for an order of the Commission under the Act, excluding applications for registration as an investment adviser., 'sources': [(d)], 'subtype': Formal intensional definitions, 'templates_ids': [T7]}                                                                                                                                                                                                                                       │ 2024-12-18 00:39:39.588-03 │\n",
       "│ classify_P2_Definitional_terms │ classify_P2_Definitional_terms │ documents_true_table.json │ {'doc_id': § 275.0-7, 'statement_id': Small business, 'statement': An investment adviser with assets under management of less than $25 million, or such higher amount as the Commission may deem appropriate, and other specific conditions., 'sources': [(a)], 'subtype': Valid value definitions, 'templates_ids': [T15]}                                                                                                                                                                                                │ 2024-12-18 00:39:39.588-03 │\n",
       "│ classify_P2_Definitional_terms │ classify_P2_Definitional_terms │ documents_true_table.json │ {'doc_id': § 275.0-7, 'statement_id': Small organization, 'statement': An investment adviser with assets under management of less than $25 million, or such higher amount as the Commission may deem appropriate, and other specific conditions., 'sources': [(a)], 'subtype': Valid value definitions, 'templates_ids': [T15]}                                                                                                                                                                                            │ 2024-12-18 00:39:39.588-03 │\n",
       "│ classify_P2_Definitional_terms │ classify_P2_Definitional_terms │ documents_true_table.json │ {'doc_id': § 275.0-7, 'statement_id': Total assets, 'statement': The total assets as shown on the balance sheet of the investment adviser or other person described, or the balance sheet of the investment adviser or such other person with its subsidiaries consolidated, whichever is larger., 'sources': [(b)(2), (a)(2)], 'subtype': Data calculation algorithms, 'templates_ids': [T16]}                                                                                                                            │ 2024-12-18 00:39:39.588-03 │\n",
       "│ classify_P2_Definitional_terms │ classify_P2_Definitional_terms │ documents_true_table.json │ {'doc_id': § 275.0-7, 'statement_id': Control, 'statement': The power, directly or indirectly, to direct the management or policies of a person, whether through ownership of securities, by contract, or otherwise., 'sources': [(a)(3), (b)(1)], 'subtype': Formal intensional definitions, 'templates_ids': [T7]}                                                                                                                                                                                                       │ 2024-12-18 00:39:39.588-03 │\n",
       "│ classify_P2_Definitional_terms │ classify_P2_Definitional_terms │ documents_true_table.json │ {'doc_id': § 275.0-7, 'statement_id': Right to vote, 'statement': A person is presumed to control a corporation if the person directly or indirectly has the right to vote 25 percent or more of a class of the corporation's voting securities., 'sources': [(b)(1)(i)(A), (b)(1)(iii)], 'subtype': Formal intensional definitions, 'templates_ids': [T7]}                                                                                                                                                                │ 2024-12-18 00:39:39.588-03 │\n",
       "│ classify_P2_Definitional_terms │ classify_P2_Definitional_terms │ documents_true_table.json │ {'doc_id': § 275.0-7, 'statement_id': Partnership, 'statement': A person is presumed to control a partnership if the person has the right to receive upon dissolution, or has contributed, 25 percent or more of the capital of the partnership., 'sources': [(b)(1)(ii)], 'subtype': Formal intensional definitions, 'templates_ids': [T7]}                                                                                                                                                                               │ 2024-12-18 00:39:39.588-03 │\n",
       "│ classify_P2_Definitional_terms │ classify_P2_Definitional_terms │ documents_true_table.json │ {'doc_id': § 275.0-7, 'statement_id': Limited liability company (LLC), 'statement': A person is presumed to control a limited liability company (LLC) if the person directly or indirectly has the right to vote 25 percent or more of a class of the interests of the LLC, has the right to receive upon dissolution, or has contributed, 25 percent or more of the capital of the LLC, or is an elected manager of the LLC., 'sources': [(b)(1)(iii)], 'subtype': Formal intensional definitions, 'templates_ids': [T7]} │ 2024-12-18 00:39:39.588-03 │\n",
       "│ classify_P2_Definitional_terms │ classify_P2_Definitional_terms │ documents_true_table.json │ {'doc_id': § 275.0-7, 'statement_id': Trust, 'statement': A person is presumed to control a trust if the person is a trustee or managing agent of the trust., 'sources': [(b)(1)(iv)], 'subtype': Formal intensional definitions, 'templates_ids': [T7]}                                                                                                                                                                                                                                                                   │ 2024-12-18 00:39:39.588-03 │\n",
       "├────────────────────────────────┴────────────────────────────────┴───────────────────────────┴────────────────────────────────────────────────────────────────────────────────────────────────────────────────────────────────────────────────────────────────────────────────────────────────────────────────────────────────────────────────────────────────────────────────────────────────────────────────────────────────────────────────────────────────────────────────────────────────────────────────────────────────────────────────────────────────────────────────────────────────────────────────────────────┴────────────────────────────┤\n",
       "│ 28 rows (20 shown)                                                                                                                                                                                                                                                                                                                                                                                                                                                                                                                                                                                                                          5 columns │\n",
       "└───────────────────────────────────────────────────────────────────────────────────────────────────────────────────────────────────────────────────────────────────────────────────────────────────────────────────────────────────────────────────────────────────────────────────────────────────────────────────────────────────────────────────────────────────────────────────────────────────────────────────────────────────────────────────────────────────────────────────────────────────────────────────────────────────────────────────────────────────────────────────────────────────────────────────────────────────────────────────────┘"
      ]
     },
     "execution_count": 60,
     "metadata": {},
     "output_type": "execute_result"
    }
   ],
   "source": [
    "query = \"\"\"\n",
    "SELECT *\n",
    "FROM RAW_CLASSIFY_P2_DEFINITIONAL_TERMS_TRUE\n",
    ";\n",
    "\"\"\"\n",
    "\n",
    "conn.sql(query)"
   ]
  },
  {
   "cell_type": "markdown",
   "metadata": {},
   "source": [
    "Pred table"
   ]
  },
  {
   "cell_type": "code",
   "execution_count": 61,
   "metadata": {},
   "outputs": [
    {
     "name": "stdout",
     "output_type": "stream",
     "text": [
      "cfr2sbvr_db/evaluation/documents-2024-12-08-1.json\n",
      "classify_P2_Definitional_terms|llm_response_classification\n",
      "_query_drop_table='\\n        DROP TABLE IF EXISTS RAW_CLASSIFY_P2_DEFINITIONAL_TERMS;\\n        '\n",
      "Trying to drop table because drop parameter is True\n",
      "Table RAW_CLASSIFY_P2_DEFINITIONAL_TERMS dropped\n",
      "_query_insert_data='\\n    INSERT INTO RAW_CLASSIFY_P2_DEFINITIONAL_TERMS (id, prompt, file_source, content, created_at)\\n    SELECT \\n        id, \\n        \\'classify_P2_Definitional_terms\\' as prompt, \\n        \\'documents-2024-12-08-1.json\\' as file_source, \\n        unnest(content) as content,\\n        now() as created_at\\n    FROM \\n        read_json_auto(\"temp/documents-2024-12-08-1.json\");\\n    '\n",
      "Trying to insert into RAW_CLASSIFY_P2_DEFINITIONAL_TERMS\n",
      "Catalog Error: Table with name RAW_CLASSIFY_P2_DEFINITIONAL_TERMS does not exist!\n",
      "Did you mean \"database_v3.RAW_CLASSIFY_P2_DEFINITIONAL_TERMS\"?\n",
      "Failed to insert, trying create RAW_CLASSIFY_P2_DEFINITIONAL_TERMS\n",
      "_query_create_table='\\n        CREATE TABLE RAW_CLASSIFY_P2_DEFINITIONAL_TERMS AS\\n        SELECT id, \\n        \\'classify_P2_Definitional_terms\\' as prompt, \\n        \\'documents-2024-12-08-1.json\\' as file_source, \\n        unnest(content) as content,\\n        now() as \\'created_at\\'\\n        FROM read_json_auto(\"temp/documents-2024-12-08-1.json\");\\n        '\n",
      "Table RAW_CLASSIFY_P2_DEFINITIONAL_TERMS created and loaded.\n",
      "cfr2sbvr_db/evaluation/documents-2024-12-08-10.json\n",
      "classify_P2_Definitional_terms|llm_response_classification\n",
      "_query_insert_data='\\n    INSERT INTO RAW_CLASSIFY_P2_DEFINITIONAL_TERMS (id, prompt, file_source, content, created_at)\\n    SELECT \\n        id, \\n        \\'classify_P2_Definitional_terms\\' as prompt, \\n        \\'documents-2024-12-08-10.json\\' as file_source, \\n        unnest(content) as content,\\n        now() as created_at\\n    FROM \\n        read_json_auto(\"temp/documents-2024-12-08-10.json\");\\n    '\n",
      "Trying to insert into RAW_CLASSIFY_P2_DEFINITIONAL_TERMS\n",
      "Data inserted into RAW_CLASSIFY_P2_DEFINITIONAL_TERMS.\n",
      "cfr2sbvr_db/evaluation/documents-2024-12-08-2.json\n",
      "classify_P2_Definitional_terms|llm_response_classification\n",
      "_query_insert_data='\\n    INSERT INTO RAW_CLASSIFY_P2_DEFINITIONAL_TERMS (id, prompt, file_source, content, created_at)\\n    SELECT \\n        id, \\n        \\'classify_P2_Definitional_terms\\' as prompt, \\n        \\'documents-2024-12-08-2.json\\' as file_source, \\n        unnest(content) as content,\\n        now() as created_at\\n    FROM \\n        read_json_auto(\"temp/documents-2024-12-08-2.json\");\\n    '\n",
      "Trying to insert into RAW_CLASSIFY_P2_DEFINITIONAL_TERMS\n",
      "Data inserted into RAW_CLASSIFY_P2_DEFINITIONAL_TERMS.\n",
      "cfr2sbvr_db/evaluation/documents-2024-12-08-3.json\n",
      "classify_P2_Definitional_terms|llm_response_classification\n",
      "_query_insert_data='\\n    INSERT INTO RAW_CLASSIFY_P2_DEFINITIONAL_TERMS (id, prompt, file_source, content, created_at)\\n    SELECT \\n        id, \\n        \\'classify_P2_Definitional_terms\\' as prompt, \\n        \\'documents-2024-12-08-3.json\\' as file_source, \\n        unnest(content) as content,\\n        now() as created_at\\n    FROM \\n        read_json_auto(\"temp/documents-2024-12-08-3.json\");\\n    '\n",
      "Trying to insert into RAW_CLASSIFY_P2_DEFINITIONAL_TERMS\n",
      "Data inserted into RAW_CLASSIFY_P2_DEFINITIONAL_TERMS.\n",
      "cfr2sbvr_db/evaluation/documents-2024-12-08-4.json\n",
      "classify_P2_Definitional_terms|llm_response_classification\n",
      "_query_insert_data='\\n    INSERT INTO RAW_CLASSIFY_P2_DEFINITIONAL_TERMS (id, prompt, file_source, content, created_at)\\n    SELECT \\n        id, \\n        \\'classify_P2_Definitional_terms\\' as prompt, \\n        \\'documents-2024-12-08-4.json\\' as file_source, \\n        unnest(content) as content,\\n        now() as created_at\\n    FROM \\n        read_json_auto(\"temp/documents-2024-12-08-4.json\");\\n    '\n",
      "Trying to insert into RAW_CLASSIFY_P2_DEFINITIONAL_TERMS\n",
      "Data inserted into RAW_CLASSIFY_P2_DEFINITIONAL_TERMS.\n",
      "cfr2sbvr_db/evaluation/documents-2024-12-08-5.json\n",
      "classify_P2_Definitional_terms|llm_response_classification\n",
      "_query_insert_data='\\n    INSERT INTO RAW_CLASSIFY_P2_DEFINITIONAL_TERMS (id, prompt, file_source, content, created_at)\\n    SELECT \\n        id, \\n        \\'classify_P2_Definitional_terms\\' as prompt, \\n        \\'documents-2024-12-08-5.json\\' as file_source, \\n        unnest(content) as content,\\n        now() as created_at\\n    FROM \\n        read_json_auto(\"temp/documents-2024-12-08-5.json\");\\n    '\n",
      "Trying to insert into RAW_CLASSIFY_P2_DEFINITIONAL_TERMS\n",
      "Data inserted into RAW_CLASSIFY_P2_DEFINITIONAL_TERMS.\n",
      "cfr2sbvr_db/evaluation/documents-2024-12-08-6.json\n",
      "classify_P2_Definitional_terms|llm_response_classification\n",
      "_query_insert_data='\\n    INSERT INTO RAW_CLASSIFY_P2_DEFINITIONAL_TERMS (id, prompt, file_source, content, created_at)\\n    SELECT \\n        id, \\n        \\'classify_P2_Definitional_terms\\' as prompt, \\n        \\'documents-2024-12-08-6.json\\' as file_source, \\n        unnest(content) as content,\\n        now() as created_at\\n    FROM \\n        read_json_auto(\"temp/documents-2024-12-08-6.json\");\\n    '\n",
      "Trying to insert into RAW_CLASSIFY_P2_DEFINITIONAL_TERMS\n",
      "Data inserted into RAW_CLASSIFY_P2_DEFINITIONAL_TERMS.\n",
      "cfr2sbvr_db/evaluation/documents-2024-12-08-7.json\n",
      "classify_P2_Definitional_terms|llm_response_classification\n",
      "_query_insert_data='\\n    INSERT INTO RAW_CLASSIFY_P2_DEFINITIONAL_TERMS (id, prompt, file_source, content, created_at)\\n    SELECT \\n        id, \\n        \\'classify_P2_Definitional_terms\\' as prompt, \\n        \\'documents-2024-12-08-7.json\\' as file_source, \\n        unnest(content) as content,\\n        now() as created_at\\n    FROM \\n        read_json_auto(\"temp/documents-2024-12-08-7.json\");\\n    '\n",
      "Trying to insert into RAW_CLASSIFY_P2_DEFINITIONAL_TERMS\n",
      "Data inserted into RAW_CLASSIFY_P2_DEFINITIONAL_TERMS.\n",
      "cfr2sbvr_db/evaluation/documents-2024-12-08-8.json\n",
      "classify_P2_Definitional_terms|llm_response_classification\n",
      "_query_insert_data='\\n    INSERT INTO RAW_CLASSIFY_P2_DEFINITIONAL_TERMS (id, prompt, file_source, content, created_at)\\n    SELECT \\n        id, \\n        \\'classify_P2_Definitional_terms\\' as prompt, \\n        \\'documents-2024-12-08-8.json\\' as file_source, \\n        unnest(content) as content,\\n        now() as created_at\\n    FROM \\n        read_json_auto(\"temp/documents-2024-12-08-8.json\");\\n    '\n",
      "Trying to insert into RAW_CLASSIFY_P2_DEFINITIONAL_TERMS\n",
      "Data inserted into RAW_CLASSIFY_P2_DEFINITIONAL_TERMS.\n",
      "cfr2sbvr_db/evaluation/documents-2024-12-08-9.json\n",
      "classify_P2_Definitional_terms|llm_response_classification\n",
      "_query_insert_data='\\n    INSERT INTO RAW_CLASSIFY_P2_DEFINITIONAL_TERMS (id, prompt, file_source, content, created_at)\\n    SELECT \\n        id, \\n        \\'classify_P2_Definitional_terms\\' as prompt, \\n        \\'documents-2024-12-08-9.json\\' as file_source, \\n        unnest(content) as content,\\n        now() as created_at\\n    FROM \\n        read_json_auto(\"temp/documents-2024-12-08-9.json\");\\n    '\n",
      "Trying to insert into RAW_CLASSIFY_P2_DEFINITIONAL_TERMS\n",
      "Data inserted into RAW_CLASSIFY_P2_DEFINITIONAL_TERMS.\n"
     ]
    }
   ],
   "source": [
    "# Define the directory and pattern\n",
    "directory = Path(\"cfr2sbvr_db/evaluation\")\n",
    "pattern = \"documents-*.json\"\n",
    "\n",
    "# Use glob to find all files matching the pattern\n",
    "files = directory.glob(pattern)\n",
    "\n",
    "drop=True # Drop the table first time\n",
    "for file_path in files:\n",
    "    print(file_path)  # Output each file path\n",
    "    upsert_table_from_json(\n",
    "        conn,\n",
    "        suffix_key_pattern=\"classify_P2_Definitional_terms|llm_response_classification\",\n",
    "        prefix_key_pattern=\"\",\n",
    "        table_name=\"RAW_CLASSIFY_P2_DEFINITIONAL_TERMS\",\n",
    "        source=file_path,\n",
    "        key_value=\"classify_P2_Definitional_terms\",\n",
    "        drop=drop,\n",
    "        content_key=\"content\",\n",
    "        alias=\"content\",\n",
    "        doc_id_key=\"id\"\n",
    "    )\n",
    "    drop=False # Stop dropping tables"
   ]
  },
  {
   "cell_type": "code",
   "execution_count": 62,
   "metadata": {},
   "outputs": [
    {
     "data": {
      "text/plain": [
       "┌────────────────────────────────┬────────────────────────────────┬─────────────────────────────┬──────────────────────────────────────────────────────────────────────────────────────────────────────────────────────────────────────────────────────────────────────────────────────────────────────────────────────────────────────────────────────────────────────────────────────────────────────────────────────────────────────────────────────────────────────────────────────────────────────────────────────────────────────────────────────────────────────────────────────────────────────────────────────────────────────────────────────────────────────────────────────────────────────────────────────────────────────────────────────────────────────────────────────────────────────────────────────────────────────────────────────────────────────────────────────────────────────────────────────────────────────────────────────────────────────────────────────────────────────────────────────────────────────┬───────────────────────────┐\n",
       "│               id               │             prompt             │         file_source         │                                                                                                                                                                                                                                                                                                                                                                                                                                                               content                                                                                                                                                                                                                                                                                                                                                                                                                                                                │        created_at         │\n",
       "│            varchar             │            varchar             │           varchar           │                                                                                                                                                                                                                                                                                                                                                struct(doc_id varchar, statement_id varchar, statement_title varchar, statement_text varchar, statement_sources varchar[], classification struct(subtype varchar, templates_ids varchar[], confidence double, explanation varchar)[])                                                                                                                                                                                                                                                                                                                                                 │ timestamp with time zone  │\n",
       "├────────────────────────────────┼────────────────────────────────┼─────────────────────────────┼──────────────────────────────────────────────────────────────────────────────────────────────────────────────────────────────────────────────────────────────────────────────────────────────────────────────────────────────────────────────────────────────────────────────────────────────────────────────────────────────────────────────────────────────────────────────────────────────────────────────────────────────────────────────────────────────────────────────────────────────────────────────────────────────────────────────────────────────────────────────────────────────────────────────────────────────────────────────────────────────────────────────────────────────────────────────────────────────────────────────────────────────────────────────────────────────────────────────────────────────────────────────────────────────────────────────────────────────────────────────────────────────────────┼───────────────────────────┤\n",
       "│ classify_P2_Definitional_terms │ classify_P2_Definitional_terms │ documents-2024-12-08-1.json │ {'doc_id': § 275.0-2, 'statement_id': Commission's records, 'statement_title': Commission's records, 'statement_text': Records maintained by the Commission, which include copies of process, pleadings, or other papers served., 'statement_sources': [(a)(1)], 'classification': [{'subtype': Formal extensional definitions, 'templates_ids': [T8], 'confidence': 0.7, 'explanation': The statement defines 'Records maintained by the Commission' by listing the types of documents included, such as 'copies of process, pleadings, or other papers served'. This aligns with the extensional definition template where a term is defined by listing its components.}]}                                                                                                                                                                                                                                                         │ 2024-12-18 00:39:39.65-03 │\n",
       "│ classify_P2_Definitional_terms │ classify_P2_Definitional_terms │ documents-2024-12-08-1.json │ {'doc_id': § 275.0-2, 'statement_id': Evidence of service, 'statement_title': Evidence of service, 'statement_text': The certification by the Secretary that the Commission was served with process, pleadings, or other papers and forwarded these documents to a named party., 'statement_sources': [(a)(3)], 'classification': [{'subtype': Formal extensional definitions, 'templates_ids': [T8], 'confidence': 0.6, 'explanation': The statement describes 'Evidence of service' by specifying the actions involved, such as certification and forwarding documents. This is similar to listing components of a definition, aligning with the extensional definition template.}]}                                                                                                                                                                                                                                               │ 2024-12-18 00:39:39.65-03 │\n",
       "│ classify_P2_Definitional_terms │ classify_P2_Definitional_terms │ documents-2024-12-08-1.json │ {'doc_id': § 275.0-2, 'statement_id': Managing agent, 'statement_title': Managing agent, 'statement_text': Any person, including a trustee, who directs or manages, or who participates in directing or managing, the affairs of any unincorporated organization or association other than a partnership., 'statement_sources': [(b)(1)], 'classification': [{'subtype': Formal intensional definitions, 'templates_ids': [T7], 'confidence': 0.9, 'explanation': The statement defines 'Managing agent' by specifying the hypernym 'Any person' and the distinguishing characteristics 'who directs or manages, or who participates in directing or managing, the affairs of any unincorporated organization or association other than a partnership'. This matches the intensional definition template.}]}                                                                                                                         │ 2024-12-18 00:39:39.65-03 │\n",
       "│ classify_P2_Definitional_terms │ classify_P2_Definitional_terms │ documents-2024-12-08-1.json │ {'doc_id': § 275.0-2, 'statement_id': Non-resident, 'statement_title': Non-resident, 'statement_text': An individual, corporation, partnership, or other unincorporated organization or association that resides or has its principal office and place of business in any place not subject to the jurisdiction of the United States., 'statement_sources': [(b)(2)], 'classification': [{'subtype': Formal intensional definitions, 'templates_ids': [T7], 'confidence': 0.9, 'explanation': The statement defines 'Non-resident' by using the hypernym 'An individual, corporation, partnership, or other unincorporated organization or association' and the distinguishing characteristic 'that resides or has its principal office and place of business in any place not subject to the jurisdiction of the United States'. This fits the intensional definition template.}]}                                                  │ 2024-12-18 00:39:39.65-03 │\n",
       "│ classify_P2_Definitional_terms │ classify_P2_Definitional_terms │ documents-2024-12-08-1.json │ {'doc_id': § 275.0-5, 'statement_id': Order disposing of the matter, 'statement_title': Order disposing of the matter, 'statement_text': An order issued after the period of time for submitting facts or requesting a hearing has expired., 'statement_sources': [(a), (b)], 'classification': [{'subtype': Formal intensional definitions, 'templates_ids': [T7], 'confidence': 0.8, 'explanation': The statement defines 'Order disposing of the matter' by specifying the hypernym 'An order' and the distinguishing characteristic 'issued after the period of time for submitting facts or requesting a hearing has expired'. This aligns with the intensional definition template.}]}                                                                                                                                                                                                                                         │ 2024-12-18 00:39:39.65-03 │\n",
       "│ classify_P2_Definitional_terms │ classify_P2_Definitional_terms │ documents-2024-12-08-1.json │ {'doc_id': § 275.0-5, 'statement_id': Notice, 'statement_title': Notice, 'statement_text': A publication in the Federal Register indicating the initiation of the proceeding and the earliest date for an order., 'statement_sources': [(a)], 'classification': [{'subtype': Formal intensional definitions, 'templates_ids': [T7], 'confidence': 0.8, 'explanation': The statement defines 'Notice' as a publication in the Federal Register, which serves as a hypernym. The characteristics that distinguish this notice are its indication of the initiation of the proceeding and the earliest date for an order, fitting the template for a formal intensional definition.}]}                                                                                                                                                                                                                                                  │ 2024-12-18 00:39:39.65-03 │\n",
       "│ classify_P2_Definitional_terms │ classify_P2_Definitional_terms │ documents-2024-12-08-1.json │ {'doc_id': § 275.0-5, 'statement_id': Initiation of the proceeding, 'statement_title': Initiation of the proceeding, 'statement_text': The process that begins when a notice is published in the Federal Register indicating the earliest date upon which an order disposing of the matter may be entered., 'statement_sources': [(a)], 'classification': [{'subtype': Formal intensional definitions, 'templates_ids': [T7], 'confidence': 0.7, 'explanation': The statement defines 'Initiation of the proceeding' as a process, which is a hypernym. The characteristics are specified as beginning with the publication of a notice in the Federal Register, indicating the earliest date for an order. This aligns with the formal intensional definition template, though the definition is somewhat implicit.}]}                                                                                                              │ 2024-12-18 00:39:39.65-03 │\n",
       "│ classify_P2_Definitional_terms │ classify_P2_Definitional_terms │ documents-2024-12-08-1.json │ {'doc_id': § 275.0-5, 'statement_id': Order, 'statement_title': Order, 'statement_text': A decision issued by the Commission disposing of the matter., 'statement_sources': [(a), (d), (b)], 'classification': [{'subtype': Formal intensional definitions, 'templates_ids': [T7], 'confidence': 0.9, 'explanation': The statement defines 'Order' as a decision, which is a hypernym. The distinguishing characteristic is that it is issued by the Commission and disposes of the matter, fitting the formal intensional definition template closely.}]}                                                                                                                                                                                                                                                                                                                                                                           │ 2024-12-18 00:39:39.65-03 │\n",
       "│ classify_P2_Definitional_terms │ classify_P2_Definitional_terms │ documents-2024-12-08-1.json │ {'doc_id': § 275.0-5, 'statement_id': Matter, 'statement_title': Matter, 'statement_text': The subject of the proceeding initiated by the filing of an application or the Commission's motion., 'statement_sources': [(a), (b), (c)], 'classification': [{'subtype': Formal intensional definitions, 'templates_ids': [T7], 'confidence': 0.8, 'explanation': The statement defines 'Matter' as the subject, which is a hypernym. The characteristics are that it is the subject of a proceeding initiated by an application or the Commission's motion, aligning with the formal intensional definition template.}]}                                                                                                                                                                                                                                                                                                                │ 2024-12-18 00:39:39.65-03 │\n",
       "│ classify_P2_Definitional_terms │ classify_P2_Definitional_terms │ documents-2024-12-08-1.json │ {'doc_id': § 275.0-5, 'statement_id': Interested person, 'statement_title': Interested person, 'statement_text': Any person who may submit facts or request a hearing on the matter., 'statement_sources': [(a), (c)], 'classification': [{'subtype': Formal intensional definitions, 'templates_ids': [T7], 'confidence': 0.9, 'explanation': The statement defines 'Interested person' as any person, which is a hypernym. The distinguishing characteristic is the ability to submit facts or request a hearing on the matter, fitting the formal intensional definition template well.}]}                                                                                                                                                                                                                                                                                                                                        │ 2024-12-18 00:39:39.65-03 │\n",
       "│               ·                │               ·                │              ·              │                                                                                                                                                                                                                                                                                               ·                                                                                                                                                                                                                                                                                                                                                                                                                                                                                                                                                                                                                                      │           ·               │\n",
       "│               ·                │               ·                │              ·              │                                                                                                                                                                                                                                                                                               ·                                                                                                                                                                                                                                                                                                                                                                                                                                                                                                                                                                                                                                      │           ·               │\n",
       "│               ·                │               ·                │              ·              │                                                                                                                                                                                                                                                                                               ·                                                                                                                                                                                                                                                                                                                                                                                                                                                                                                                                                                                                                                      │           ·               │\n",
       "│ classify_P2_Definitional_terms │ classify_P2_Definitional_terms │ documents-2024-12-08-9.json │ {'doc_id': § 275.0-5, 'statement_id': Order of the Commission, 'statement_title': Order of the Commission, 'statement_text': An order issued by the Commission under the Act., 'statement_sources': [(d)], 'classification': [{'subtype': Formal intensional definitions, 'templates_ids': [T7], 'confidence': 0.9, 'explanation': The statement defines 'Order of the Commission' as an 'order' issued by the Commission, which fits the template of a formal intensional definition. 'Order of the Commission' is the term being defined, 'order' is the hypernym, and 'issued by the Commission under the Act' serves as the qualifying clause.}]}                                                                                                                                                                                                                                                                                │ 2024-12-18 00:39:40-03    │\n",
       "│ classify_P2_Definitional_terms │ classify_P2_Definitional_terms │ documents-2024-12-08-9.json │ {'doc_id': § 275.0-5, 'statement_id': Application, 'statement_title': Application, 'statement_text': Any application for an order of the Commission under the Act, excluding applications for registration as an investment adviser., 'statement_sources': [(d)], 'classification': [{'subtype': Formal intensional definitions, 'templates_ids': [T7], 'confidence': 0.8, 'explanation': The statement defines 'Application' as 'any application for an order of the Commission under the Act', which fits the template of a formal intensional definition. 'Application' is the term being defined, 'any application' is the hypernym, and 'excluding applications for registration as an investment adviser' serves as the qualifying clause.}]}                                                                                                                                                                                  │ 2024-12-18 00:39:40-03    │\n",
       "│ classify_P2_Definitional_terms │ classify_P2_Definitional_terms │ documents-2024-12-08-9.json │ {'doc_id': § 275.0-7, 'statement_id': Small business, 'statement_title': Small business, 'statement_text': An investment adviser with assets under management of less than $25 million, or such higher amount as the Commission may deem appropriate, and other specific conditions., 'statement_sources': [(a)], 'classification': [{'subtype': Valid value definitions, 'templates_ids': [T15], 'confidence': 0.7, 'explanation': The statement defines a threshold for assets under management, which aligns with defining valid values for a quantitative attribute. The phrase 'less than $25 million' indicates a range, fitting the template for valid value definitions.}]}                                                                                                                                                                                                                                                  │ 2024-12-18 00:39:40-03    │\n",
       "│ classify_P2_Definitional_terms │ classify_P2_Definitional_terms │ documents-2024-12-08-9.json │ {'doc_id': § 275.0-7, 'statement_id': Small organization, 'statement_title': Small organization, 'statement_text': An investment adviser with assets under management of less than $25 million, or such higher amount as the Commission may deem appropriate, and other specific conditions., 'statement_sources': [(a)], 'classification': [{'subtype': Valid value definitions, 'templates_ids': [T15], 'confidence': 0.7, 'explanation': Similar to 'Small business', this statement sets a threshold for assets under management, indicating a range for a quantitative attribute. This fits the valid value definitions template.}]}                                                                                                                                                                                                                                                                                            │ 2024-12-18 00:39:40-03    │\n",
       "│ classify_P2_Definitional_terms │ classify_P2_Definitional_terms │ documents-2024-12-08-9.json │ {'doc_id': § 275.0-7, 'statement_id': Total assets, 'statement_title': Total assets, 'statement_text': The total assets as shown on the balance sheet of the investment adviser or other person described, or the balance sheet of the investment adviser or such other person with its subsidiaries consolidated, whichever is larger., 'statement_sources': [(b)(2), (a)(2)], 'classification': [{'subtype': Data calculation algorithms, 'templates_ids': [T16], 'confidence': 0.8, 'explanation': The statement describes a method for determining total assets, which involves choosing the larger value between two options. This aligns with a data calculation algorithm, as it defines a calculation method for a quantitative attribute.}]}                                                                                                                                                                                │ 2024-12-18 00:39:40-03    │\n",
       "│ classify_P2_Definitional_terms │ classify_P2_Definitional_terms │ documents-2024-12-08-9.json │ {'doc_id': § 275.0-7, 'statement_id': Control, 'statement_title': Control, 'statement_text': The power, directly or indirectly, to direct the management or policies of a person, whether through ownership of securities, by contract, or otherwise., 'statement_sources': [(a)(3), (b)(1)], 'classification': [{'subtype': Formal intensional definitions, 'templates_ids': [T7], 'confidence': 0.9, 'explanation': The statement defines 'Control' by specifying the hypernym 'power' and the characteristics that distinguish it, such as 'directly or indirectly' and 'through ownership of securities, by contract, or otherwise'. This fits the formal intensional definition template.}]}                                                                                                                                                                                                                                    │ 2024-12-18 00:39:40-03    │\n",
       "│ classify_P2_Definitional_terms │ classify_P2_Definitional_terms │ documents-2024-12-08-9.json │ {'doc_id': § 275.0-7, 'statement_id': Right to vote, 'statement_title': Right to vote, 'statement_text': A person is presumed to control a corporation if the person directly or indirectly has the right to vote 25 percent or more of a class of the corporation's voting securities., 'statement_sources': [(b)(1)(iii), (b)(1)(i)(A)], 'classification': [{'subtype': Formal intensional definitions, 'templates_ids': [T7], 'confidence': 0.8, 'explanation': The statement provides a condition under which a person is presumed to control a corporation, using 'right to vote 25 percent or more' as a distinguishing characteristic. This aligns with a formal intensional definition, as it specifies conditions that define 'control'.}]}                                                                                                                                                                                 │ 2024-12-18 00:39:40-03    │\n",
       "│ classify_P2_Definitional_terms │ classify_P2_Definitional_terms │ documents-2024-12-08-9.json │ {'doc_id': § 275.0-7, 'statement_id': Partnership, 'statement_title': Partnership, 'statement_text': A person is presumed to control a partnership if the person has the right to receive upon dissolution, or has contributed, 25 percent or more of the capital of the partnership., 'statement_sources': [(b)(1)(ii)], 'classification': [{'subtype': Formal intensional definitions, 'templates_ids': [T7], 'confidence': 0.8, 'explanation': The statement defines a condition under which a person is presumed to control a partnership, using a hypernym 'person' and a qualifying clause 'if the person has the right to receive upon dissolution, or has contributed, 25 percent or more of the capital of the partnership.' This aligns with the template for formal intensional definitions, where a term is defined by its characteristics.}]}                                                                           │ 2024-12-18 00:39:40-03    │\n",
       "│ classify_P2_Definitional_terms │ classify_P2_Definitional_terms │ documents-2024-12-08-9.json │ {'doc_id': § 275.0-7, 'statement_id': Limited liability company (LLC), 'statement_title': Limited liability company (LLC), 'statement_text': A person is presumed to control a limited liability company (LLC) if the person directly or indirectly has the right to vote 25 percent or more of a class of the interests of the LLC, has the right to receive upon dissolution, or has contributed, 25 percent or more of the capital of the LLC, or is an elected manager of the LLC., 'statement_sources': [(b)(1)(iii)], 'classification': [{'subtype': Formal intensional definitions, 'templates_ids': [T7], 'confidence': 0.8, 'explanation': The statement defines conditions under which a person is presumed to control an LLC, using a hypernym 'person' and a qualifying clause detailing various conditions. This matches the formal intensional definition template, where a term is defined by its characteristics.}]} │ 2024-12-18 00:39:40-03    │\n",
       "│ classify_P2_Definitional_terms │ classify_P2_Definitional_terms │ documents-2024-12-08-9.json │ {'doc_id': § 275.0-7, 'statement_id': Trust, 'statement_title': Trust, 'statement_text': A person is presumed to control a trust if the person is a trustee or managing agent of the trust., 'statement_sources': [(b)(1)(iv)], 'classification': [{'subtype': Formal intensional definitions, 'templates_ids': [T7], 'confidence': 0.9, 'explanation': The statement defines a condition under which a person is presumed to control a trust, using a hypernym 'person' and a qualifying clause 'if the person is a trustee or managing agent of the trust.' This aligns well with the template for formal intensional definitions, where a term is defined by its characteristics.}]}                                                                                                                                                                                                                                              │ 2024-12-18 00:39:40-03    │\n",
       "├────────────────────────────────┴────────────────────────────────┴─────────────────────────────┴──────────────────────────────────────────────────────────────────────────────────────────────────────────────────────────────────────────────────────────────────────────────────────────────────────────────────────────────────────────────────────────────────────────────────────────────────────────────────────────────────────────────────────────────────────────────────────────────────────────────────────────────────────────────────────────────────────────────────────────────────────────────────────────────────────────────────────────────────────────────────────────────────────────────────────────────────────────────────────────────────────────────────────────────────────────────────────────────────────────────────────────────────────────────────────────────────────────────────────────────────────────────────────────────────────────────────────────────────────────────────────────────────────┴───────────────────────────┤\n",
       "│ 280 rows (20 shown)                                                                                                                                                                                                                                                                                                                                                                                                                                                                                                                                                                                                                                                                                                                                                                                                                                                                                                                                                                                                                                    5 columns │\n",
       "└──────────────────────────────────────────────────────────────────────────────────────────────────────────────────────────────────────────────────────────────────────────────────────────────────────────────────────────────────────────────────────────────────────────────────────────────────────────────────────────────────────────────────────────────────────────────────────────────────────────────────────────────────────────────────────────────────────────────────────────────────────────────────────────────────────────────────────────────────────────────────────────────────────────────────────────────────────────────────────────────────────────────────────────────────────────────────────────────────────────────────────────────────────────────────────────────────────────────────────────────────────────────────────────────────────────────────────────────────────────────────────────────────────────────────────────────────────────────────────────────────────────────────────────────────────────────────────────────────┘"
      ]
     },
     "execution_count": 62,
     "metadata": {},
     "output_type": "execute_result"
    }
   ],
   "source": [
    "query = \"\"\"\n",
    "SELECT *\n",
    "FROM RAW_CLASSIFY_P2_DEFINITIONAL_TERMS\n",
    ";\n",
    "\"\"\"\n",
    "\n",
    "conn.sql(query)"
   ]
  },
  {
   "cell_type": "markdown",
   "metadata": {},
   "source": [
    "### Classify P2 - Definitional Names"
   ]
  },
  {
   "cell_type": "markdown",
   "metadata": {},
   "source": [
    "True table"
   ]
  },
  {
   "cell_type": "code",
   "execution_count": 63,
   "metadata": {},
   "outputs": [
    {
     "name": "stdout",
     "output_type": "stream",
     "text": [
      "classify_P2_Definitional_names|true_table\n",
      "_query_drop_table='\\n        DROP TABLE IF EXISTS RAW_CLASSIFY_P2_DEFINITIONAL_NAMES_TRUE;\\n        '\n",
      "Trying to drop table because drop parameter is True\n",
      "Table RAW_CLASSIFY_P2_DEFINITIONAL_NAMES_TRUE dropped\n",
      "_query_insert_data='\\n    INSERT INTO RAW_CLASSIFY_P2_DEFINITIONAL_NAMES_TRUE (id, prompt, file_source, content, created_at)\\n    SELECT \\n        id, \\n        \\'classify_P2_Definitional_names\\' as prompt, \\n        \\'documents_true_table.json\\' as file_source, \\n        unnest(content) as content,\\n        now() as created_at\\n    FROM \\n        read_json_auto(\"temp/documents_true_table.json\");\\n    '\n",
      "Trying to insert into RAW_CLASSIFY_P2_DEFINITIONAL_NAMES_TRUE\n",
      "Catalog Error: Table with name RAW_CLASSIFY_P2_DEFINITIONAL_NAMES_TRUE does not exist!\n",
      "Did you mean \"database_v3.RAW_CLASSIFY_P2_DEFINITIONAL_NAMES_TRUE\"?\n",
      "Failed to insert, trying create RAW_CLASSIFY_P2_DEFINITIONAL_NAMES_TRUE\n",
      "_query_create_table='\\n        CREATE TABLE RAW_CLASSIFY_P2_DEFINITIONAL_NAMES_TRUE AS\\n        SELECT id, \\n        \\'classify_P2_Definitional_names\\' as prompt, \\n        \\'documents_true_table.json\\' as file_source, \\n        unnest(content) as content,\\n        now() as \\'created_at\\'\\n        FROM read_json_auto(\"temp/documents_true_table.json\");\\n        '\n",
      "Table RAW_CLASSIFY_P2_DEFINITIONAL_NAMES_TRUE created and loaded.\n"
     ]
    },
    {
     "data": {
      "text/plain": [
       "True"
      ]
     },
     "execution_count": 63,
     "metadata": {},
     "output_type": "execute_result"
    }
   ],
   "source": [
    "upsert_table_from_json(\n",
    "    conn,\n",
    "    suffix_key_pattern=\"classify_P2_Definitional_names|true_table\",\n",
    "    prefix_key_pattern=\"\",\n",
    "    table_name=\"RAW_CLASSIFY_P2_DEFINITIONAL_NAMES_TRUE\",\n",
    "    source=\"cfr2sbvr_db/true/documents_true_table.json\",\n",
    "    key_value=\"classify_P2_Definitional_names\",\n",
    "    drop=True,\n",
    "    content_key=\"content\",\n",
    "    alias=\"content\",\n",
    "    doc_id_key=\"id\"\n",
    ")"
   ]
  },
  {
   "cell_type": "code",
   "execution_count": 64,
   "metadata": {},
   "outputs": [
    {
     "data": {
      "text/plain": [
       "┌────────────────────────────────┬────────────────────────────────┬───────────────────────────┬──────────────────────────────────────────────────────────────────────────────────────────────────────────────────────────────────────────────────────────────────────────────────────────────────────────────────────────────────────────────────────────────────────────────────────────────────────────────────────────────────────────┬────────────────────────────┐\n",
       "│               id               │             prompt             │        file_source        │                                                                                                                                                                 content                                                                                                                                                                  │         created_at         │\n",
       "│            varchar             │            varchar             │          varchar          │                                                                                                      struct(doc_id varchar, statement_id varchar, \"statement\" varchar, sources varchar[], subtype varchar, templates_ids varchar[])                                                                                                      │  timestamp with time zone  │\n",
       "├────────────────────────────────┼────────────────────────────────┼───────────────────────────┼──────────────────────────────────────────────────────────────────────────────────────────────────────────────────────────────────────────────────────────────────────────────────────────────────────────────────────────────────────────────────────────────────────────────────────────────────────────────────────────────────────────┼────────────────────────────┤\n",
       "│ classify_P2_Definitional_names │ classify_P2_Definitional_names │ documents_true_table.json │ {'doc_id': § 275.0-2, 'statement_id': Secretary of the Commission, 'statement': The Secretary of the Commission is responsible for forwarding copies of process, pleadings, or other papers to each named party by registered or certified mail., 'sources': [(a)(2)], 'subtype': Formal intensional definitions, 'templates_ids': [T7]} │ 2024-12-18 00:39:40.052-03 │\n",
       "│ classify_P2_Definitional_names │ classify_P2_Definitional_names │ documents_true_table.json │ {'doc_id': § 275.0-2, 'statement_id': Secretary, 'statement': The Secretary of the Commission is responsible for forwarding copies of process, pleadings, or other papers to each named party by registered or certified mail., 'sources': [(a)(3)], 'subtype': Formal intensional definitions, 'templates_ids': [T7]}                   │ 2024-12-18 00:39:40.052-03 │\n",
       "│ classify_P2_Definitional_names │ classify_P2_Definitional_names │ documents_true_table.json │ {'doc_id': § 275.0-5, 'statement_id': Federal Register, 'statement': The official journal where the notice of initiation of the proceeding is published., 'sources': [(a)], 'subtype': Formal intensional definitions, 'templates_ids': [T7]}                                                                                            │ 2024-12-18 00:39:40.052-03 │\n",
       "│ classify_P2_Definitional_names │ classify_P2_Definitional_names │ documents_true_table.json │ {'doc_id': § 275.0-5, 'statement_id': Commission, 'statement': The regulatory body responsible for issuing orders and conducting hearings., 'sources': [(c), (a), (b), (d)], 'subtype': Formal intensional definitions, 'templates_ids': [T7]}                                                                                           │ 2024-12-18 00:39:40.052-03 │\n",
       "│ classify_P2_Definitional_names │ classify_P2_Definitional_names │ documents_true_table.json │ {'doc_id': § 275.0-5, 'statement_id': Act, 'statement': The legislation under which the Commission operates and applications are filed., 'sources': [(d)], 'subtype': Formal intensional definitions, 'templates_ids': [T7]}                                                                                                             │ 2024-12-18 00:39:40.052-03 │\n",
       "└────────────────────────────────┴────────────────────────────────┴───────────────────────────┴──────────────────────────────────────────────────────────────────────────────────────────────────────────────────────────────────────────────────────────────────────────────────────────────────────────────────────────────────────────────────────────────────────────────────────────────────────────────────────────────────────────┴────────────────────────────┘"
      ]
     },
     "execution_count": 64,
     "metadata": {},
     "output_type": "execute_result"
    }
   ],
   "source": [
    "query = \"\"\"\n",
    "SELECT *\n",
    "FROM RAW_CLASSIFY_P2_DEFINITIONAL_NAMES_TRUE\n",
    ";\n",
    "\"\"\"\n",
    "\n",
    "conn.sql(query)"
   ]
  },
  {
   "cell_type": "markdown",
   "metadata": {},
   "source": [
    "Pred table"
   ]
  },
  {
   "cell_type": "code",
   "execution_count": 65,
   "metadata": {},
   "outputs": [
    {
     "name": "stdout",
     "output_type": "stream",
     "text": [
      "cfr2sbvr_db/evaluation/documents-2024-12-08-1.json\n",
      "classify_P2_Definitional_names|llm_response_classification\n",
      "_query_drop_table='\\n        DROP TABLE IF EXISTS RAW_CLASSIFY_P2_DEFINITIONAL_NAMES;\\n        '\n",
      "Trying to drop table because drop parameter is True\n",
      "Table RAW_CLASSIFY_P2_DEFINITIONAL_NAMES dropped\n",
      "_query_insert_data='\\n    INSERT INTO RAW_CLASSIFY_P2_DEFINITIONAL_NAMES (id, prompt, file_source, content, created_at)\\n    SELECT \\n        id, \\n        \\'classify_P2_Definitional_names\\' as prompt, \\n        \\'documents-2024-12-08-1.json\\' as file_source, \\n        unnest(content) as content,\\n        now() as created_at\\n    FROM \\n        read_json_auto(\"temp/documents-2024-12-08-1.json\");\\n    '\n",
      "Trying to insert into RAW_CLASSIFY_P2_DEFINITIONAL_NAMES\n",
      "Catalog Error: Table with name RAW_CLASSIFY_P2_DEFINITIONAL_NAMES does not exist!\n",
      "Did you mean \"database_v3.RAW_CLASSIFY_P2_DEFINITIONAL_NAMES\"?\n",
      "Failed to insert, trying create RAW_CLASSIFY_P2_DEFINITIONAL_NAMES\n",
      "_query_create_table='\\n        CREATE TABLE RAW_CLASSIFY_P2_DEFINITIONAL_NAMES AS\\n        SELECT id, \\n        \\'classify_P2_Definitional_names\\' as prompt, \\n        \\'documents-2024-12-08-1.json\\' as file_source, \\n        unnest(content) as content,\\n        now() as \\'created_at\\'\\n        FROM read_json_auto(\"temp/documents-2024-12-08-1.json\");\\n        '\n",
      "Table RAW_CLASSIFY_P2_DEFINITIONAL_NAMES created and loaded.\n",
      "cfr2sbvr_db/evaluation/documents-2024-12-08-10.json\n",
      "classify_P2_Definitional_names|llm_response_classification\n",
      "_query_insert_data='\\n    INSERT INTO RAW_CLASSIFY_P2_DEFINITIONAL_NAMES (id, prompt, file_source, content, created_at)\\n    SELECT \\n        id, \\n        \\'classify_P2_Definitional_names\\' as prompt, \\n        \\'documents-2024-12-08-10.json\\' as file_source, \\n        unnest(content) as content,\\n        now() as created_at\\n    FROM \\n        read_json_auto(\"temp/documents-2024-12-08-10.json\");\\n    '\n",
      "Trying to insert into RAW_CLASSIFY_P2_DEFINITIONAL_NAMES\n",
      "Data inserted into RAW_CLASSIFY_P2_DEFINITIONAL_NAMES.\n",
      "cfr2sbvr_db/evaluation/documents-2024-12-08-2.json\n",
      "classify_P2_Definitional_names|llm_response_classification\n",
      "_query_insert_data='\\n    INSERT INTO RAW_CLASSIFY_P2_DEFINITIONAL_NAMES (id, prompt, file_source, content, created_at)\\n    SELECT \\n        id, \\n        \\'classify_P2_Definitional_names\\' as prompt, \\n        \\'documents-2024-12-08-2.json\\' as file_source, \\n        unnest(content) as content,\\n        now() as created_at\\n    FROM \\n        read_json_auto(\"temp/documents-2024-12-08-2.json\");\\n    '\n",
      "Trying to insert into RAW_CLASSIFY_P2_DEFINITIONAL_NAMES\n",
      "Data inserted into RAW_CLASSIFY_P2_DEFINITIONAL_NAMES.\n",
      "cfr2sbvr_db/evaluation/documents-2024-12-08-3.json\n",
      "classify_P2_Definitional_names|llm_response_classification\n",
      "_query_insert_data='\\n    INSERT INTO RAW_CLASSIFY_P2_DEFINITIONAL_NAMES (id, prompt, file_source, content, created_at)\\n    SELECT \\n        id, \\n        \\'classify_P2_Definitional_names\\' as prompt, \\n        \\'documents-2024-12-08-3.json\\' as file_source, \\n        unnest(content) as content,\\n        now() as created_at\\n    FROM \\n        read_json_auto(\"temp/documents-2024-12-08-3.json\");\\n    '\n",
      "Trying to insert into RAW_CLASSIFY_P2_DEFINITIONAL_NAMES\n",
      "Data inserted into RAW_CLASSIFY_P2_DEFINITIONAL_NAMES.\n",
      "cfr2sbvr_db/evaluation/documents-2024-12-08-4.json\n",
      "classify_P2_Definitional_names|llm_response_classification\n",
      "_query_insert_data='\\n    INSERT INTO RAW_CLASSIFY_P2_DEFINITIONAL_NAMES (id, prompt, file_source, content, created_at)\\n    SELECT \\n        id, \\n        \\'classify_P2_Definitional_names\\' as prompt, \\n        \\'documents-2024-12-08-4.json\\' as file_source, \\n        unnest(content) as content,\\n        now() as created_at\\n    FROM \\n        read_json_auto(\"temp/documents-2024-12-08-4.json\");\\n    '\n",
      "Trying to insert into RAW_CLASSIFY_P2_DEFINITIONAL_NAMES\n",
      "Data inserted into RAW_CLASSIFY_P2_DEFINITIONAL_NAMES.\n",
      "cfr2sbvr_db/evaluation/documents-2024-12-08-5.json\n",
      "classify_P2_Definitional_names|llm_response_classification\n",
      "_query_insert_data='\\n    INSERT INTO RAW_CLASSIFY_P2_DEFINITIONAL_NAMES (id, prompt, file_source, content, created_at)\\n    SELECT \\n        id, \\n        \\'classify_P2_Definitional_names\\' as prompt, \\n        \\'documents-2024-12-08-5.json\\' as file_source, \\n        unnest(content) as content,\\n        now() as created_at\\n    FROM \\n        read_json_auto(\"temp/documents-2024-12-08-5.json\");\\n    '\n",
      "Trying to insert into RAW_CLASSIFY_P2_DEFINITIONAL_NAMES\n",
      "Data inserted into RAW_CLASSIFY_P2_DEFINITIONAL_NAMES.\n",
      "cfr2sbvr_db/evaluation/documents-2024-12-08-6.json\n",
      "classify_P2_Definitional_names|llm_response_classification\n",
      "_query_insert_data='\\n    INSERT INTO RAW_CLASSIFY_P2_DEFINITIONAL_NAMES (id, prompt, file_source, content, created_at)\\n    SELECT \\n        id, \\n        \\'classify_P2_Definitional_names\\' as prompt, \\n        \\'documents-2024-12-08-6.json\\' as file_source, \\n        unnest(content) as content,\\n        now() as created_at\\n    FROM \\n        read_json_auto(\"temp/documents-2024-12-08-6.json\");\\n    '\n",
      "Trying to insert into RAW_CLASSIFY_P2_DEFINITIONAL_NAMES\n",
      "Data inserted into RAW_CLASSIFY_P2_DEFINITIONAL_NAMES.\n",
      "cfr2sbvr_db/evaluation/documents-2024-12-08-7.json\n",
      "classify_P2_Definitional_names|llm_response_classification\n",
      "_query_insert_data='\\n    INSERT INTO RAW_CLASSIFY_P2_DEFINITIONAL_NAMES (id, prompt, file_source, content, created_at)\\n    SELECT \\n        id, \\n        \\'classify_P2_Definitional_names\\' as prompt, \\n        \\'documents-2024-12-08-7.json\\' as file_source, \\n        unnest(content) as content,\\n        now() as created_at\\n    FROM \\n        read_json_auto(\"temp/documents-2024-12-08-7.json\");\\n    '\n",
      "Trying to insert into RAW_CLASSIFY_P2_DEFINITIONAL_NAMES\n",
      "Data inserted into RAW_CLASSIFY_P2_DEFINITIONAL_NAMES.\n",
      "cfr2sbvr_db/evaluation/documents-2024-12-08-8.json\n",
      "classify_P2_Definitional_names|llm_response_classification\n",
      "_query_insert_data='\\n    INSERT INTO RAW_CLASSIFY_P2_DEFINITIONAL_NAMES (id, prompt, file_source, content, created_at)\\n    SELECT \\n        id, \\n        \\'classify_P2_Definitional_names\\' as prompt, \\n        \\'documents-2024-12-08-8.json\\' as file_source, \\n        unnest(content) as content,\\n        now() as created_at\\n    FROM \\n        read_json_auto(\"temp/documents-2024-12-08-8.json\");\\n    '\n",
      "Trying to insert into RAW_CLASSIFY_P2_DEFINITIONAL_NAMES\n",
      "Data inserted into RAW_CLASSIFY_P2_DEFINITIONAL_NAMES.\n",
      "cfr2sbvr_db/evaluation/documents-2024-12-08-9.json\n",
      "classify_P2_Definitional_names|llm_response_classification\n",
      "_query_insert_data='\\n    INSERT INTO RAW_CLASSIFY_P2_DEFINITIONAL_NAMES (id, prompt, file_source, content, created_at)\\n    SELECT \\n        id, \\n        \\'classify_P2_Definitional_names\\' as prompt, \\n        \\'documents-2024-12-08-9.json\\' as file_source, \\n        unnest(content) as content,\\n        now() as created_at\\n    FROM \\n        read_json_auto(\"temp/documents-2024-12-08-9.json\");\\n    '\n",
      "Trying to insert into RAW_CLASSIFY_P2_DEFINITIONAL_NAMES\n",
      "Data inserted into RAW_CLASSIFY_P2_DEFINITIONAL_NAMES.\n"
     ]
    }
   ],
   "source": [
    "# Define the directory and pattern\n",
    "directory = Path(\"cfr2sbvr_db/evaluation\")\n",
    "pattern = \"documents-*.json\"\n",
    "\n",
    "# Use glob to find all files matching the pattern\n",
    "files = directory.glob(pattern)\n",
    "\n",
    "drop=True # Drop the table first time\n",
    "for file_path in files:\n",
    "    print(file_path)  # Output each file path\n",
    "    upsert_table_from_json(\n",
    "        conn,\n",
    "        suffix_key_pattern=\"classify_P2_Definitional_names|llm_response_classification\",\n",
    "        prefix_key_pattern=\"\",\n",
    "        table_name=\"RAW_CLASSIFY_P2_DEFINITIONAL_NAMES\",\n",
    "        source=file_path,\n",
    "        key_value=\"classify_P2_Definitional_names\",\n",
    "        drop=drop,\n",
    "        content_key=\"content\",\n",
    "        alias=\"content\",\n",
    "        doc_id_key=\"id\"\n",
    "    )\n",
    "    drop=False # Stop dropping tables"
   ]
  },
  {
   "cell_type": "code",
   "execution_count": 66,
   "metadata": {},
   "outputs": [
    {
     "data": {
      "text/plain": [
       "┌────────────────────────────────┬────────────────────────────────┬──────────────────────────────┬──────────────────────────────────────────────────────────────────────────────────────────────────────────────────────────────────────────────────────────────────────────────────────────────────────────────────────────────────────────────────────────────────────────────────────────────────────────────────────────────────────────────────────────────────────────────────────────────────────────────────────────────────────────────────────────────────────────────────────────────────────────────────────────────────────────────────────────────────────────────────────────────────────────────────────────────────────────────────────────────────────────────────────────────────────────────────────────────┬────────────────────────────┐\n",
       "│               id               │             prompt             │         file_source          │                                                                                                                                                                                                                                                                                                                                                           content                                                                                                                                                                                                                                                                                                                                                            │         created_at         │\n",
       "│            varchar             │            varchar             │           varchar            │                                                                                                                                                                                                                                            struct(doc_id varchar, statement_id varchar, statement_title varchar, statement_text varchar, statement_sources varchar[], classification struct(subtype varchar, templates_ids varchar[], confidence double, explanation varchar)[])                                                                                                                                                                                                                                             │  timestamp with time zone  │\n",
       "├────────────────────────────────┼────────────────────────────────┼──────────────────────────────┼──────────────────────────────────────────────────────────────────────────────────────────────────────────────────────────────────────────────────────────────────────────────────────────────────────────────────────────────────────────────────────────────────────────────────────────────────────────────────────────────────────────────────────────────────────────────────────────────────────────────────────────────────────────────────────────────────────────────────────────────────────────────────────────────────────────────────────────────────────────────────────────────────────────────────────────────────────────────────────────────────────────────────────────────────────────────────────────────┼────────────────────────────┤\n",
       "│ classify_P2_Definitional_names │ classify_P2_Definitional_names │ documents-2024-12-08-1.json  │ {'doc_id': § 275.0-2, 'statement_id': Secretary of the Commission, 'statement_title': Secretary of the Commission, 'statement_text': The Secretary of the Commission is responsible for forwarding copies of process, pleadings, or other papers to each named party by registered or certified mail., 'statement_sources': [(a)(2)], 'classification': [{'subtype': Formal intensional definitions, 'templates_ids': [T7], 'confidence': 0.6, 'explanation': The statement defines the role of the 'Secretary of the Commission' by specifying responsibilities, which aligns with a formal term definition. However, it lacks a clear hypernym and distinguishing characteristics, leading to a lower confidence score.}]} │ 2024-12-18 00:39:40.116-03 │\n",
       "│ classify_P2_Definitional_names │ classify_P2_Definitional_names │ documents-2024-12-08-1.json  │ {'doc_id': § 275.0-2, 'statement_id': Secretary, 'statement_title': Secretary, 'statement_text': The Secretary of the Commission is responsible for forwarding copies of process, pleadings, or other papers to each named party by registered or certified mail., 'statement_sources': [(a)(3)], 'classification': [{'subtype': Formal intensional definitions, 'templates_ids': [T7], 'confidence': 0.6, 'explanation': Similar to the previous statement, this defines the role of the 'Secretary' by specifying responsibilities. It fits the formal term definition subtype but lacks a clear hypernym and distinguishing characteristics, resulting in a lower confidence score.}]}                                    │ 2024-12-18 00:39:40.116-03 │\n",
       "│ classify_P2_Definitional_names │ classify_P2_Definitional_names │ documents-2024-12-08-1.json  │ {'doc_id': § 275.0-5, 'statement_id': Federal Register, 'statement_title': Federal Register, 'statement_text': The official journal where the notice of initiation of the proceeding is published., 'statement_sources': [(a)], 'classification': [{'subtype': Formal intensional definitions, 'templates_ids': [T7], 'confidence': 0.8, 'explanation': This statement defines 'Federal Register' as an 'official journal', which serves as a hypernym. The characteristic of being the place where notices are published distinguishes it, aligning well with a formal intensional definition.}]}                                                                                                                           │ 2024-12-18 00:39:40.116-03 │\n",
       "│ classify_P2_Definitional_names │ classify_P2_Definitional_names │ documents-2024-12-08-1.json  │ {'doc_id': § 275.0-5, 'statement_id': Commission, 'statement_title': Commission, 'statement_text': The regulatory body responsible for issuing orders and conducting hearings., 'statement_sources': [(a), (d), (b), (c)], 'classification': [{'subtype': Formal intensional definitions, 'templates_ids': [T7], 'confidence': 0.9, 'explanation': The statement defines 'Commission' as a 'regulatory body', which is a hypernym. The responsibilities of issuing orders and conducting hearings serve as distinguishing characteristics, fitting well with a formal intensional definition.}]}                                                                                                                             │ 2024-12-18 00:39:40.116-03 │\n",
       "│ classify_P2_Definitional_names │ classify_P2_Definitional_names │ documents-2024-12-08-1.json  │ {'doc_id': § 275.0-5, 'statement_id': Act, 'statement_title': Act, 'statement_text': The legislation under which the Commission operates and applications are filed., 'statement_sources': [(d)], 'classification': [{'subtype': Formal intensional definitions, 'templates_ids': [T7], 'confidence': 0.8, 'explanation': The statement defines 'Act' as 'legislation', which is a hypernym. The context of the Commission's operations and application filings provides distinguishing characteristics, aligning with a formal intensional definition.}]}                                                                                                                                                                   │ 2024-12-18 00:39:40.116-03 │\n",
       "│ classify_P2_Definitional_names │ classify_P2_Definitional_names │ documents-2024-12-08-10.json │ {'doc_id': § 275.0-2, 'statement_id': Secretary of the Commission, 'statement_title': Secretary of the Commission, 'statement_text': The Secretary of the Commission is responsible for forwarding copies of process, pleadings, or other papers to each named party by registered or certified mail., 'statement_sources': [(a)(2)], 'classification': [{'subtype': Formal intensional definitions, 'templates_ids': [T7], 'confidence': 0.6, 'explanation': The statement defines the role of the 'Secretary of the Commission' by specifying responsibilities, which aligns with a formal term definition. However, it lacks a clear hypernym and distinguishing characteristics, leading to a lower confidence score.}]} │ 2024-12-18 00:39:40.149-03 │\n",
       "│ classify_P2_Definitional_names │ classify_P2_Definitional_names │ documents-2024-12-08-10.json │ {'doc_id': § 275.0-2, 'statement_id': Secretary, 'statement_title': Secretary, 'statement_text': The Secretary of the Commission is responsible for forwarding copies of process, pleadings, or other papers to each named party by registered or certified mail., 'statement_sources': [(a)(3)], 'classification': [{'subtype': Formal intensional definitions, 'templates_ids': [T7], 'confidence': 0.6, 'explanation': Similar to the previous statement, this defines the role of the 'Secretary' by specifying responsibilities. It fits the formal term definition subtype but lacks a clear hypernym and distinguishing characteristics, resulting in a lower confidence score.}]}                                    │ 2024-12-18 00:39:40.149-03 │\n",
       "│ classify_P2_Definitional_names │ classify_P2_Definitional_names │ documents-2024-12-08-10.json │ {'doc_id': § 275.0-5, 'statement_id': Federal Register, 'statement_title': Federal Register, 'statement_text': The official journal where the notice of initiation of the proceeding is published., 'statement_sources': [(a)], 'classification': [{'subtype': Formal intensional definitions, 'templates_ids': [T7], 'confidence': 0.8, 'explanation': This statement defines 'Federal Register' as an 'official journal', which serves as a hypernym. The characteristic of being the place where notices are published distinguishes it, aligning well with a formal intensional definition.}]}                                                                                                                           │ 2024-12-18 00:39:40.149-03 │\n",
       "│ classify_P2_Definitional_names │ classify_P2_Definitional_names │ documents-2024-12-08-10.json │ {'doc_id': § 275.0-5, 'statement_id': Commission, 'statement_title': Commission, 'statement_text': The regulatory body responsible for issuing orders and conducting hearings., 'statement_sources': [(a), (d), (b), (c)], 'classification': [{'subtype': Formal intensional definitions, 'templates_ids': [T7], 'confidence': 0.9, 'explanation': The statement defines 'Commission' as a 'regulatory body', which is a hypernym. The responsibilities of issuing orders and conducting hearings serve as distinguishing characteristics, fitting well with a formal intensional definition.}]}                                                                                                                             │ 2024-12-18 00:39:40.149-03 │\n",
       "│ classify_P2_Definitional_names │ classify_P2_Definitional_names │ documents-2024-12-08-10.json │ {'doc_id': § 275.0-5, 'statement_id': Act, 'statement_title': Act, 'statement_text': The legislation under which the Commission operates and applications are filed., 'statement_sources': [(d)], 'classification': [{'subtype': Formal intensional definitions, 'templates_ids': [T7], 'confidence': 0.8, 'explanation': The statement defines 'Act' as 'legislation', which is a hypernym. The context of the Commission's operations and application filings provides distinguishing characteristics, aligning with a formal intensional definition.}]}                                                                                                                                                                   │ 2024-12-18 00:39:40.149-03 │\n",
       "│               ·                │               ·                │              ·               │                                                                                                                                                                                                                                                                             ·                                                                                                                                                                                                                                                                                                                                                                                                                                                │             ·              │\n",
       "│               ·                │               ·                │              ·               │                                                                                                                                                                                                                                                                             ·                                                                                                                                                                                                                                                                                                                                                                                                                                                │             ·              │\n",
       "│               ·                │               ·                │              ·               │                                                                                                                                                                                                                                                                             ·                                                                                                                                                                                                                                                                                                                                                                                                                                                │             ·              │\n",
       "│ classify_P2_Definitional_names │ classify_P2_Definitional_names │ documents-2024-12-08-8.json  │ {'doc_id': § 275.0-2, 'statement_id': Secretary of the Commission, 'statement_title': Secretary of the Commission, 'statement_text': The Secretary of the Commission is responsible for forwarding copies of process, pleadings, or other papers to each named party by registered or certified mail., 'statement_sources': [(a)(2)], 'classification': [{'subtype': Formal intensional definitions, 'templates_ids': [T7], 'confidence': 0.6, 'explanation': The statement defines the role of the 'Secretary of the Commission' by specifying responsibilities, which aligns with a formal term definition. However, it lacks a clear hypernym and distinguishing characteristics, leading to a lower confidence score.}]} │ 2024-12-18 00:39:40.391-03 │\n",
       "│ classify_P2_Definitional_names │ classify_P2_Definitional_names │ documents-2024-12-08-8.json  │ {'doc_id': § 275.0-2, 'statement_id': Secretary, 'statement_title': Secretary, 'statement_text': The Secretary of the Commission is responsible for forwarding copies of process, pleadings, or other papers to each named party by registered or certified mail., 'statement_sources': [(a)(3)], 'classification': [{'subtype': Formal intensional definitions, 'templates_ids': [T7], 'confidence': 0.6, 'explanation': Similar to the previous statement, this defines the role of the 'Secretary' by specifying responsibilities. It fits the formal term definition subtype but lacks a clear hypernym and distinguishing characteristics, resulting in a lower confidence score.}]}                                    │ 2024-12-18 00:39:40.391-03 │\n",
       "│ classify_P2_Definitional_names │ classify_P2_Definitional_names │ documents-2024-12-08-8.json  │ {'doc_id': § 275.0-5, 'statement_id': Federal Register, 'statement_title': Federal Register, 'statement_text': The official journal where the notice of initiation of the proceeding is published., 'statement_sources': [(a)], 'classification': [{'subtype': Formal intensional definitions, 'templates_ids': [T7], 'confidence': 0.8, 'explanation': This statement defines 'Federal Register' as an 'official journal', which serves as a hypernym. The characteristic of being the place where notices are published distinguishes it, aligning well with a formal intensional definition.}]}                                                                                                                           │ 2024-12-18 00:39:40.391-03 │\n",
       "│ classify_P2_Definitional_names │ classify_P2_Definitional_names │ documents-2024-12-08-8.json  │ {'doc_id': § 275.0-5, 'statement_id': Commission, 'statement_title': Commission, 'statement_text': The regulatory body responsible for issuing orders and conducting hearings., 'statement_sources': [(a), (d), (b), (c)], 'classification': [{'subtype': Formal intensional definitions, 'templates_ids': [T7], 'confidence': 0.9, 'explanation': The statement defines 'Commission' as a 'regulatory body', which is a hypernym. The responsibilities of issuing orders and conducting hearings serve as distinguishing characteristics, fitting well with a formal intensional definition.}]}                                                                                                                             │ 2024-12-18 00:39:40.391-03 │\n",
       "│ classify_P2_Definitional_names │ classify_P2_Definitional_names │ documents-2024-12-08-8.json  │ {'doc_id': § 275.0-5, 'statement_id': Act, 'statement_title': Act, 'statement_text': The legislation under which the Commission operates and applications are filed., 'statement_sources': [(d)], 'classification': [{'subtype': Formal intensional definitions, 'templates_ids': [T7], 'confidence': 0.8, 'explanation': The statement defines 'Act' as 'legislation', which is a hypernym. The context of the Commission's operations and application filings provides distinguishing characteristics, aligning with a formal intensional definition.}]}                                                                                                                                                                   │ 2024-12-18 00:39:40.391-03 │\n",
       "│ classify_P2_Definitional_names │ classify_P2_Definitional_names │ documents-2024-12-08-9.json  │ {'doc_id': § 275.0-2, 'statement_id': Secretary of the Commission, 'statement_title': Secretary of the Commission, 'statement_text': The Secretary of the Commission is responsible for forwarding copies of process, pleadings, or other papers to each named party by registered or certified mail., 'statement_sources': [(a)(2)], 'classification': [{'subtype': Formal intensional definitions, 'templates_ids': [T7], 'confidence': 0.6, 'explanation': The statement defines the role of the 'Secretary of the Commission' by specifying responsibilities, which aligns with a formal term definition. However, it lacks a clear hypernym and distinguishing characteristics, leading to a lower confidence score.}]} │ 2024-12-18 00:39:40.425-03 │\n",
       "│ classify_P2_Definitional_names │ classify_P2_Definitional_names │ documents-2024-12-08-9.json  │ {'doc_id': § 275.0-2, 'statement_id': Secretary, 'statement_title': Secretary, 'statement_text': The Secretary of the Commission is responsible for forwarding copies of process, pleadings, or other papers to each named party by registered or certified mail., 'statement_sources': [(a)(3)], 'classification': [{'subtype': Formal intensional definitions, 'templates_ids': [T7], 'confidence': 0.6, 'explanation': Similar to the previous statement, this defines the role of the 'Secretary' by specifying responsibilities. It fits the formal term definition subtype but lacks a clear hypernym and distinguishing characteristics, resulting in a lower confidence score.}]}                                    │ 2024-12-18 00:39:40.425-03 │\n",
       "│ classify_P2_Definitional_names │ classify_P2_Definitional_names │ documents-2024-12-08-9.json  │ {'doc_id': § 275.0-5, 'statement_id': Federal Register, 'statement_title': Federal Register, 'statement_text': The official journal where the notice of initiation of the proceeding is published., 'statement_sources': [(a)], 'classification': [{'subtype': Formal intensional definitions, 'templates_ids': [T7], 'confidence': 0.8, 'explanation': This statement defines 'Federal Register' as an 'official journal', which serves as a hypernym. The characteristic of being the place where notices are published distinguishes it, aligning well with a formal intensional definition.}]}                                                                                                                           │ 2024-12-18 00:39:40.425-03 │\n",
       "│ classify_P2_Definitional_names │ classify_P2_Definitional_names │ documents-2024-12-08-9.json  │ {'doc_id': § 275.0-5, 'statement_id': Commission, 'statement_title': Commission, 'statement_text': The regulatory body responsible for issuing orders and conducting hearings., 'statement_sources': [(a), (d), (b), (c)], 'classification': [{'subtype': Formal intensional definitions, 'templates_ids': [T7], 'confidence': 0.9, 'explanation': The statement defines 'Commission' as a 'regulatory body', which is a hypernym. The responsibilities of issuing orders and conducting hearings serve as distinguishing characteristics, fitting well with a formal intensional definition.}]}                                                                                                                             │ 2024-12-18 00:39:40.425-03 │\n",
       "│ classify_P2_Definitional_names │ classify_P2_Definitional_names │ documents-2024-12-08-9.json  │ {'doc_id': § 275.0-5, 'statement_id': Act, 'statement_title': Act, 'statement_text': The legislation under which the Commission operates and applications are filed., 'statement_sources': [(d)], 'classification': [{'subtype': Formal intensional definitions, 'templates_ids': [T7], 'confidence': 0.8, 'explanation': The statement defines 'Act' as 'legislation', which is a hypernym. The context of the Commission's operations and application filings provides distinguishing characteristics, aligning with a formal intensional definition.}]}                                                                                                                                                                   │ 2024-12-18 00:39:40.425-03 │\n",
       "├────────────────────────────────┴────────────────────────────────┴──────────────────────────────┴──────────────────────────────────────────────────────────────────────────────────────────────────────────────────────────────────────────────────────────────────────────────────────────────────────────────────────────────────────────────────────────────────────────────────────────────────────────────────────────────────────────────────────────────────────────────────────────────────────────────────────────────────────────────────────────────────────────────────────────────────────────────────────────────────────────────────────────────────────────────────────────────────────────────────────────────────────────────────────────────────────────────────────────────────────────────────────────────┴────────────────────────────┤\n",
       "│ 50 rows (20 shown)                                                                                                                                                                                                                                                                                                                                                                                                                                                                                                                                                                                                                                                                                                                                                                                                                               5 columns │\n",
       "└────────────────────────────────────────────────────────────────────────────────────────────────────────────────────────────────────────────────────────────────────────────────────────────────────────────────────────────────────────────────────────────────────────────────────────────────────────────────────────────────────────────────────────────────────────────────────────────────────────────────────────────────────────────────────────────────────────────────────────────────────────────────────────────────────────────────────────────────────────────────────────────────────────────────────────────────────────────────────────────────────────────────────────────────────────────────────────────────────────────────────────────────────────────────────────────────────────────────────────────────────────────────────────────┘"
      ]
     },
     "execution_count": 66,
     "metadata": {},
     "output_type": "execute_result"
    }
   ],
   "source": [
    "query = \"\"\"\n",
    "SELECT *\n",
    "FROM RAW_CLASSIFY_P2_DEFINITIONAL_NAMES\n",
    ";\n",
    "\"\"\"\n",
    "\n",
    "conn.sql(query)"
   ]
  },
  {
   "cell_type": "markdown",
   "metadata": {},
   "source": [
    "### Classify P2 - Definitional Facts"
   ]
  },
  {
   "cell_type": "markdown",
   "metadata": {},
   "source": [
    "True table"
   ]
  },
  {
   "cell_type": "code",
   "execution_count": 67,
   "metadata": {},
   "outputs": [
    {
     "name": "stdout",
     "output_type": "stream",
     "text": [
      "classify_P2_Definitional_facts|true_table\n",
      "_query_drop_table='\\n        DROP TABLE IF EXISTS RAW_CLASSIFY_P2_DEFINITIONAL_FACTS_TRUE;\\n        '\n",
      "Trying to drop table because drop parameter is True\n",
      "Table RAW_CLASSIFY_P2_DEFINITIONAL_FACTS_TRUE dropped\n",
      "_query_insert_data='\\n    INSERT INTO RAW_CLASSIFY_P2_DEFINITIONAL_FACTS_TRUE (id, prompt, file_source, content, created_at)\\n    SELECT \\n        id, \\n        \\'classify_P2_Definitional_facts\\' as prompt, \\n        \\'documents_true_table.json\\' as file_source, \\n        unnest(content) as content,\\n        now() as created_at\\n    FROM \\n        read_json_auto(\"temp/documents_true_table.json\");\\n    '\n",
      "Trying to insert into RAW_CLASSIFY_P2_DEFINITIONAL_FACTS_TRUE\n",
      "Catalog Error: Table with name RAW_CLASSIFY_P2_DEFINITIONAL_FACTS_TRUE does not exist!\n",
      "Did you mean \"database_v3.RAW_CLASSIFY_P2_DEFINITIONAL_FACTS_TRUE\"?\n",
      "Failed to insert, trying create RAW_CLASSIFY_P2_DEFINITIONAL_FACTS_TRUE\n",
      "_query_create_table='\\n        CREATE TABLE RAW_CLASSIFY_P2_DEFINITIONAL_FACTS_TRUE AS\\n        SELECT id, \\n        \\'classify_P2_Definitional_facts\\' as prompt, \\n        \\'documents_true_table.json\\' as file_source, \\n        unnest(content) as content,\\n        now() as \\'created_at\\'\\n        FROM read_json_auto(\"temp/documents_true_table.json\");\\n        '\n",
      "Table RAW_CLASSIFY_P2_DEFINITIONAL_FACTS_TRUE created and loaded.\n"
     ]
    },
    {
     "data": {
      "text/plain": [
       "True"
      ]
     },
     "execution_count": 67,
     "metadata": {},
     "output_type": "execute_result"
    }
   ],
   "source": [
    "upsert_table_from_json(\n",
    "    conn,\n",
    "    suffix_key_pattern=\"classify_P2_Definitional_facts|true_table\",\n",
    "    prefix_key_pattern=\"\",\n",
    "    table_name=\"RAW_CLASSIFY_P2_DEFINITIONAL_FACTS_TRUE\",\n",
    "    source=\"cfr2sbvr_db/true/documents_true_table.json\",\n",
    "    key_value=\"classify_P2_Definitional_facts\",\n",
    "    drop=True,\n",
    "    content_key=\"content\",\n",
    "    alias=\"content\",\n",
    "    doc_id_key=\"id\"\n",
    ")"
   ]
  },
  {
   "cell_type": "code",
   "execution_count": 68,
   "metadata": {},
   "outputs": [
    {
     "data": {
      "text/plain": [
       "┌────────────────────────────────┬────────────────────────────────┬───────────────────────────┬────────────────────────────────────────────────────────────────────────────────────────────────────────────────────────────────────────────────────────────────────────────────────────────────────────────────────────────────────────────────────────────────────────────────────────────────────────────────────────────────────────────────────────────────────────────────────────────────────────────────────────────────────────────────────────────────────────────────────────────────────────────────────────────────────────────────────────────────────────────────────────────────────────────────────────────┬────────────────────────────┐\n",
       "│               id               │             prompt             │        file_source        │                                                                                                                                                                                                                                                                                                          content                                                                                                                                                                                                                                                                                                           │         created_at         │\n",
       "│            varchar             │            varchar             │          varchar          │                                                                                                                                                                                                                                               struct(doc_id varchar, statement_id varchar, \"statement\" varchar, sources varchar[], subtype varchar, templates_ids varchar[])                                                                                                                                                                                                                                               │  timestamp with time zone  │\n",
       "├────────────────────────────────┼────────────────────────────────┼───────────────────────────┼────────────────────────────────────────────────────────────────────────────────────────────────────────────────────────────────────────────────────────────────────────────────────────────────────────────────────────────────────────────────────────────────────────────────────────────────────────────────────────────────────────────────────────────────────────────────────────────────────────────────────────────────────────────────────────────────────────────────────────────────────────────────────────────────────────────────────────────────────────────────────────────────────────────────────────────┼────────────────────────────┤\n",
       "│ classify_P2_Definitional_facts │ classify_P2_Definitional_facts │ documents_true_table.json │ {'doc_id': § 275.0-2, 'statement_id': 1, 'statement': A person may serve process, pleadings, or other papers on a non-resident investment adviser, or on a non-resident general partner or non-resident managing agent of an investment adviser by serving any or all of its appointed agents., 'sources': [(a)], 'subtype': Complex concept structure rules, 'templates_ids': [T12]}                                                                                                                                                                                                                                      │ 2024-12-18 00:39:40.468-03 │\n",
       "│ classify_P2_Definitional_facts │ classify_P2_Definitional_facts │ documents_true_table.json │ {'doc_id': § 275.0-2, 'statement_id': 2, 'statement': A person may serve a non-resident investment adviser, non-resident general partner, or non-resident managing agent by furnishing the Commission with one copy of the process, pleadings, or papers, for each named party, and one additional copy for the Commission's records., 'sources': [(a)(1)], 'subtype': Complex concept structure rules, 'templates_ids': [T12]}                                                                                                                                                                                            │ 2024-12-18 00:39:40.468-03 │\n",
       "│ classify_P2_Definitional_facts │ classify_P2_Definitional_facts │ documents_true_table.json │ {'doc_id': § 275.0-2, 'statement_id': 5, 'statement': Managing agent means any person, including a trustee, who directs or manages, or who participates in directing or managing, the affairs of any unincorporated organization or association other than a partnership., 'sources': [(b)(1)], 'subtype': Formal intensional definitions, 'templates_ids': [T7]}                                                                                                                                                                                                                                                          │ 2024-12-18 00:39:40.468-03 │\n",
       "│ classify_P2_Definitional_facts │ classify_P2_Definitional_facts │ documents_true_table.json │ {'doc_id': § 275.0-2, 'statement_id': 6, 'statement': Non-resident means an individual who resides in any place not subject to the jurisdiction of the United States; a corporation that is incorporated in or that has its principal office and place of business in any place not subject to the jurisdiction of the United States; and a partnership or other unincorporated organization or association that has its principal office and place of business in any place not subject to the jurisdiction of the United States., 'sources': [(b)(2)], 'subtype': Formal extensional definitions, 'templates_ids': [T8]} │ 2024-12-18 00:39:40.468-03 │\n",
       "│ classify_P2_Definitional_facts │ classify_P2_Definitional_facts │ documents_true_table.json │ {'doc_id': § 275.0-2, 'statement_id': 7, 'statement': Principal office and place of business has the same meaning as in § 275.203A-3(c) of this chapter., 'sources': [(b)(3)], 'subtype': Formal intensional definitions, 'templates_ids': [T7]}                                                                                                                                                                                                                                                                                                                                                                           │ 2024-12-18 00:39:40.468-03 │\n",
       "│ classify_P2_Definitional_facts │ classify_P2_Definitional_facts │ documents_true_table.json │ {'doc_id': § 275.0-5, 'statement_id': 5, 'statement': For purposes of this rule, an application means any application for an order of the Commission under the Act other than an application for registration as an investment adviser., 'sources': [(d)], 'subtype': Formal extensional definitions, 'templates_ids': [T8]}                                                                                                                                                                                                                                                                                               │ 2024-12-18 00:39:40.468-03 │\n",
       "│ classify_P2_Definitional_facts │ classify_P2_Definitional_facts │ documents_true_table.json │ {'doc_id': § 275.0-7, 'statement_id': 1, 'statement': The term small business or small organization for purposes of the Investment Advisers Act of 1940 shall mean an investment adviser that has assets under management of less than $25 million, or such higher amount as the Commission may by rule deem appropriate., 'sources': [(a)], 'subtype': Formal intensional definitions, 'templates_ids': [T7]}                                                                                                                                                                                                             │ 2024-12-18 00:39:40.468-03 │\n",
       "│ classify_P2_Definitional_facts │ classify_P2_Definitional_facts │ documents_true_table.json │ {'doc_id': § 275.0-7, 'statement_id': 2, 'statement': An investment adviser has assets under management, as defined under Section 203A(a)(3) of the Act and reported on its annual updating amendment to Form ADV, of less than $25 million, or such higher amount as the Commission may by rule deem appropriate., 'sources': [(a)(1)], 'subtype': Valid value definitions, 'templates_ids': [T15]}                                                                                                                                                                                                                       │ 2024-12-18 00:39:40.468-03 │\n",
       "│ classify_P2_Definitional_facts │ classify_P2_Definitional_facts │ documents_true_table.json │ {'doc_id': § 275.0-7, 'statement_id': 3, 'statement': An investment adviser did not have total assets of $5 million or more on the last day of the most recent fiscal year., 'sources': [(a)(2)], 'subtype': Valid value definitions, 'templates_ids': [T15]}                                                                                                                                                                                                                                                                                                                                                              │ 2024-12-18 00:39:40.468-03 │\n",
       "│ classify_P2_Definitional_facts │ classify_P2_Definitional_facts │ documents_true_table.json │ {'doc_id': § 275.0-7, 'statement_id': 4, 'statement': An investment adviser does not control, is not controlled by, and is not under common control with another investment adviser that has assets under management of $25 million or more, or any person (other than a natural person) that had total assets of $5 million or more on the last day of the most recent fiscal year., 'sources': [(a)(3)], 'subtype': Complex concept structure rules, 'templates_ids': [T12]}                                                                                                                                             │ 2024-12-18 00:39:40.468-03 │\n",
       "│ classify_P2_Definitional_facts │ classify_P2_Definitional_facts │ documents_true_table.json │ {'doc_id': § 275.0-7, 'statement_id': 5, 'statement': Control means the power, directly or indirectly, to direct the management or policies of a person, whether through ownership of securities, by contract, or otherwise., 'sources': [(b)(1)], 'subtype': Formal intensional definitions, 'templates_ids': [T7]}                                                                                                                                                                                                                                                                                                       │ 2024-12-18 00:39:40.468-03 │\n",
       "│ classify_P2_Definitional_facts │ classify_P2_Definitional_facts │ documents_true_table.json │ {'doc_id': § 275.0-7, 'statement_id': 6, 'statement': A person is presumed to control a corporation if the person directly or indirectly has the right to vote 25 percent or more of a class of the corporation's voting securities., 'sources': [(b)(1)(i)(A)], 'subtype': Formal intensional definitions, 'templates_ids': [T7]}                                                                                                                                                                                                                                                                                         │ 2024-12-18 00:39:40.468-03 │\n",
       "│ classify_P2_Definitional_facts │ classify_P2_Definitional_facts │ documents_true_table.json │ {'doc_id': § 275.0-7, 'statement_id': 7, 'statement': A person is presumed to control a partnership if the person has the right to receive upon dissolution, or has contributed, 25 percent or more of the capital of the partnership., 'sources': [(b)(1)(ii)], 'subtype': Formal intensional definitions, 'templates_ids': [T7]}                                                                                                                                                                                                                                                                                         │ 2024-12-18 00:39:40.468-03 │\n",
       "│ classify_P2_Definitional_facts │ classify_P2_Definitional_facts │ documents_true_table.json │ {'doc_id': § 275.0-7, 'statement_id': 8, 'statement': A person is presumed to control a limited liability company (LLC) if the person directly or indirectly has the right to vote 25 percent or more of a class of the interests of the LLC, has the right to receive upon dissolution, or has contributed, 25 percent or more of the capital of the LLC, or is an elected manager of the LLC., 'sources': [(b)(1)(iii)], 'subtype': Formal intensional definitions, 'templates_ids': [T7]}                                                                                                                               │ 2024-12-18 00:39:40.468-03 │\n",
       "│ classify_P2_Definitional_facts │ classify_P2_Definitional_facts │ documents_true_table.json │ {'doc_id': § 275.0-7, 'statement_id': 9, 'statement': A person is presumed to control a trust if the person is a trustee or managing agent of the trust., 'sources': [(b)(1)(iv)], 'subtype': Formal intensional definitions, 'templates_ids': [T7]}                                                                                                                                                                                                                                                                                                                                                                       │ 2024-12-18 00:39:40.468-03 │\n",
       "│ classify_P2_Definitional_facts │ classify_P2_Definitional_facts │ documents_true_table.json │ {'doc_id': § 275.0-7, 'statement_id': 10, 'statement': Total assets means the total assets as shown on the balance sheet of the investment adviser or other person described above under paragraph (a)(3) of this section, or the balance sheet of the investment adviser or such other person with its subsidiaries consolidated, whichever is larger., 'sources': [(b)(2)], 'subtype': Formal extensional definitions, 'templates_ids': [T8]}                                                                                                                                                                            │ 2024-12-18 00:39:40.468-03 │\n",
       "├────────────────────────────────┴────────────────────────────────┴───────────────────────────┴────────────────────────────────────────────────────────────────────────────────────────────────────────────────────────────────────────────────────────────────────────────────────────────────────────────────────────────────────────────────────────────────────────────────────────────────────────────────────────────────────────────────────────────────────────────────────────────────────────────────────────────────────────────────────────────────────────────────────────────────────────────────────────────────────────────────────────────────────────────────────────────────────────────────────────────┴────────────────────────────┤\n",
       "│ 16 rows                                                                                                                                                                                                                                                                                                                                                                                                                                                                                                                                                                                                                                                                                                                                     5 columns │\n",
       "└───────────────────────────────────────────────────────────────────────────────────────────────────────────────────────────────────────────────────────────────────────────────────────────────────────────────────────────────────────────────────────────────────────────────────────────────────────────────────────────────────────────────────────────────────────────────────────────────────────────────────────────────────────────────────────────────────────────────────────────────────────────────────────────────────────────────────────────────────────────────────────────────────────────────────────────────────────────────────────────────────────────────────────────────────────────────────────────────────────────────────────┘"
      ]
     },
     "execution_count": 68,
     "metadata": {},
     "output_type": "execute_result"
    }
   ],
   "source": [
    "query = \"\"\"\n",
    "SELECT *\n",
    "FROM RAW_CLASSIFY_P2_DEFINITIONAL_FACTS_TRUE\n",
    ";\n",
    "\"\"\"\n",
    "\n",
    "conn.sql(query)"
   ]
  },
  {
   "cell_type": "markdown",
   "metadata": {},
   "source": [
    "Pred table"
   ]
  },
  {
   "cell_type": "code",
   "execution_count": 69,
   "metadata": {},
   "outputs": [
    {
     "name": "stdout",
     "output_type": "stream",
     "text": [
      "cfr2sbvr_db/evaluation/documents-2024-12-08-1.json\n",
      "classify_P2_Definitional_facts|llm_response_classification\n",
      "_query_drop_table='\\n        DROP TABLE IF EXISTS RAW_CLASSIFY_P2_DEFINITIONAL_FACTS;\\n        '\n",
      "Trying to drop table because drop parameter is True\n",
      "Table RAW_CLASSIFY_P2_DEFINITIONAL_FACTS dropped\n",
      "_query_insert_data='\\n    INSERT INTO RAW_CLASSIFY_P2_DEFINITIONAL_FACTS (id, prompt, file_source, content, created_at)\\n    SELECT \\n        id, \\n        \\'classify_P2_Definitional_facts\\' as prompt, \\n        \\'documents-2024-12-08-1.json\\' as file_source, \\n        unnest(content) as content,\\n        now() as created_at\\n    FROM \\n        read_json_auto(\"temp/documents-2024-12-08-1.json\");\\n    '\n",
      "Trying to insert into RAW_CLASSIFY_P2_DEFINITIONAL_FACTS\n",
      "Catalog Error: Table with name RAW_CLASSIFY_P2_DEFINITIONAL_FACTS does not exist!\n",
      "Did you mean \"database_v3.RAW_CLASSIFY_P2_DEFINITIONAL_FACTS\"?\n",
      "Failed to insert, trying create RAW_CLASSIFY_P2_DEFINITIONAL_FACTS\n",
      "_query_create_table='\\n        CREATE TABLE RAW_CLASSIFY_P2_DEFINITIONAL_FACTS AS\\n        SELECT id, \\n        \\'classify_P2_Definitional_facts\\' as prompt, \\n        \\'documents-2024-12-08-1.json\\' as file_source, \\n        unnest(content) as content,\\n        now() as \\'created_at\\'\\n        FROM read_json_auto(\"temp/documents-2024-12-08-1.json\");\\n        '\n",
      "Table RAW_CLASSIFY_P2_DEFINITIONAL_FACTS created and loaded.\n",
      "cfr2sbvr_db/evaluation/documents-2024-12-08-10.json\n",
      "classify_P2_Definitional_facts|llm_response_classification\n",
      "_query_insert_data='\\n    INSERT INTO RAW_CLASSIFY_P2_DEFINITIONAL_FACTS (id, prompt, file_source, content, created_at)\\n    SELECT \\n        id, \\n        \\'classify_P2_Definitional_facts\\' as prompt, \\n        \\'documents-2024-12-08-10.json\\' as file_source, \\n        unnest(content) as content,\\n        now() as created_at\\n    FROM \\n        read_json_auto(\"temp/documents-2024-12-08-10.json\");\\n    '\n",
      "Trying to insert into RAW_CLASSIFY_P2_DEFINITIONAL_FACTS\n",
      "Data inserted into RAW_CLASSIFY_P2_DEFINITIONAL_FACTS.\n",
      "cfr2sbvr_db/evaluation/documents-2024-12-08-2.json\n",
      "classify_P2_Definitional_facts|llm_response_classification\n",
      "_query_insert_data='\\n    INSERT INTO RAW_CLASSIFY_P2_DEFINITIONAL_FACTS (id, prompt, file_source, content, created_at)\\n    SELECT \\n        id, \\n        \\'classify_P2_Definitional_facts\\' as prompt, \\n        \\'documents-2024-12-08-2.json\\' as file_source, \\n        unnest(content) as content,\\n        now() as created_at\\n    FROM \\n        read_json_auto(\"temp/documents-2024-12-08-2.json\");\\n    '\n",
      "Trying to insert into RAW_CLASSIFY_P2_DEFINITIONAL_FACTS\n",
      "Data inserted into RAW_CLASSIFY_P2_DEFINITIONAL_FACTS.\n",
      "cfr2sbvr_db/evaluation/documents-2024-12-08-3.json\n",
      "classify_P2_Definitional_facts|llm_response_classification\n",
      "_query_insert_data='\\n    INSERT INTO RAW_CLASSIFY_P2_DEFINITIONAL_FACTS (id, prompt, file_source, content, created_at)\\n    SELECT \\n        id, \\n        \\'classify_P2_Definitional_facts\\' as prompt, \\n        \\'documents-2024-12-08-3.json\\' as file_source, \\n        unnest(content) as content,\\n        now() as created_at\\n    FROM \\n        read_json_auto(\"temp/documents-2024-12-08-3.json\");\\n    '\n",
      "Trying to insert into RAW_CLASSIFY_P2_DEFINITIONAL_FACTS\n",
      "Data inserted into RAW_CLASSIFY_P2_DEFINITIONAL_FACTS.\n",
      "cfr2sbvr_db/evaluation/documents-2024-12-08-4.json\n",
      "classify_P2_Definitional_facts|llm_response_classification\n",
      "_query_insert_data='\\n    INSERT INTO RAW_CLASSIFY_P2_DEFINITIONAL_FACTS (id, prompt, file_source, content, created_at)\\n    SELECT \\n        id, \\n        \\'classify_P2_Definitional_facts\\' as prompt, \\n        \\'documents-2024-12-08-4.json\\' as file_source, \\n        unnest(content) as content,\\n        now() as created_at\\n    FROM \\n        read_json_auto(\"temp/documents-2024-12-08-4.json\");\\n    '\n",
      "Trying to insert into RAW_CLASSIFY_P2_DEFINITIONAL_FACTS\n",
      "Data inserted into RAW_CLASSIFY_P2_DEFINITIONAL_FACTS.\n",
      "cfr2sbvr_db/evaluation/documents-2024-12-08-5.json\n",
      "classify_P2_Definitional_facts|llm_response_classification\n",
      "_query_insert_data='\\n    INSERT INTO RAW_CLASSIFY_P2_DEFINITIONAL_FACTS (id, prompt, file_source, content, created_at)\\n    SELECT \\n        id, \\n        \\'classify_P2_Definitional_facts\\' as prompt, \\n        \\'documents-2024-12-08-5.json\\' as file_source, \\n        unnest(content) as content,\\n        now() as created_at\\n    FROM \\n        read_json_auto(\"temp/documents-2024-12-08-5.json\");\\n    '\n",
      "Trying to insert into RAW_CLASSIFY_P2_DEFINITIONAL_FACTS\n",
      "Data inserted into RAW_CLASSIFY_P2_DEFINITIONAL_FACTS.\n",
      "cfr2sbvr_db/evaluation/documents-2024-12-08-6.json\n",
      "classify_P2_Definitional_facts|llm_response_classification\n",
      "_query_insert_data='\\n    INSERT INTO RAW_CLASSIFY_P2_DEFINITIONAL_FACTS (id, prompt, file_source, content, created_at)\\n    SELECT \\n        id, \\n        \\'classify_P2_Definitional_facts\\' as prompt, \\n        \\'documents-2024-12-08-6.json\\' as file_source, \\n        unnest(content) as content,\\n        now() as created_at\\n    FROM \\n        read_json_auto(\"temp/documents-2024-12-08-6.json\");\\n    '\n",
      "Trying to insert into RAW_CLASSIFY_P2_DEFINITIONAL_FACTS\n",
      "Data inserted into RAW_CLASSIFY_P2_DEFINITIONAL_FACTS.\n",
      "cfr2sbvr_db/evaluation/documents-2024-12-08-7.json\n",
      "classify_P2_Definitional_facts|llm_response_classification\n",
      "_query_insert_data='\\n    INSERT INTO RAW_CLASSIFY_P2_DEFINITIONAL_FACTS (id, prompt, file_source, content, created_at)\\n    SELECT \\n        id, \\n        \\'classify_P2_Definitional_facts\\' as prompt, \\n        \\'documents-2024-12-08-7.json\\' as file_source, \\n        unnest(content) as content,\\n        now() as created_at\\n    FROM \\n        read_json_auto(\"temp/documents-2024-12-08-7.json\");\\n    '\n",
      "Trying to insert into RAW_CLASSIFY_P2_DEFINITIONAL_FACTS\n",
      "Data inserted into RAW_CLASSIFY_P2_DEFINITIONAL_FACTS.\n",
      "cfr2sbvr_db/evaluation/documents-2024-12-08-8.json\n",
      "classify_P2_Definitional_facts|llm_response_classification\n",
      "_query_insert_data='\\n    INSERT INTO RAW_CLASSIFY_P2_DEFINITIONAL_FACTS (id, prompt, file_source, content, created_at)\\n    SELECT \\n        id, \\n        \\'classify_P2_Definitional_facts\\' as prompt, \\n        \\'documents-2024-12-08-8.json\\' as file_source, \\n        unnest(content) as content,\\n        now() as created_at\\n    FROM \\n        read_json_auto(\"temp/documents-2024-12-08-8.json\");\\n    '\n",
      "Trying to insert into RAW_CLASSIFY_P2_DEFINITIONAL_FACTS\n",
      "Data inserted into RAW_CLASSIFY_P2_DEFINITIONAL_FACTS.\n",
      "cfr2sbvr_db/evaluation/documents-2024-12-08-9.json\n",
      "classify_P2_Definitional_facts|llm_response_classification\n",
      "_query_insert_data='\\n    INSERT INTO RAW_CLASSIFY_P2_DEFINITIONAL_FACTS (id, prompt, file_source, content, created_at)\\n    SELECT \\n        id, \\n        \\'classify_P2_Definitional_facts\\' as prompt, \\n        \\'documents-2024-12-08-9.json\\' as file_source, \\n        unnest(content) as content,\\n        now() as created_at\\n    FROM \\n        read_json_auto(\"temp/documents-2024-12-08-9.json\");\\n    '\n",
      "Trying to insert into RAW_CLASSIFY_P2_DEFINITIONAL_FACTS\n",
      "Data inserted into RAW_CLASSIFY_P2_DEFINITIONAL_FACTS.\n"
     ]
    }
   ],
   "source": [
    "# Define the directory and pattern\n",
    "directory = Path(\"cfr2sbvr_db/evaluation\")\n",
    "pattern = \"documents-*.json\"\n",
    "\n",
    "# Use glob to find all files matching the pattern\n",
    "files = directory.glob(pattern)\n",
    "\n",
    "drop=True # Drop the table first time\n",
    "for file_path in files:\n",
    "    print(file_path)  # Output each file path\n",
    "    upsert_table_from_json(\n",
    "        conn,\n",
    "        suffix_key_pattern=\"classify_P2_Definitional_facts|llm_response_classification\",\n",
    "        prefix_key_pattern=\"\",\n",
    "        table_name=\"RAW_CLASSIFY_P2_DEFINITIONAL_FACTS\",\n",
    "        source=file_path,\n",
    "        key_value=\"classify_P2_Definitional_facts\",\n",
    "        drop=drop,\n",
    "        content_key=\"content\",\n",
    "        alias=\"content\",\n",
    "        doc_id_key=\"id\"\n",
    "    )\n",
    "    drop=False # Stop dropping tables"
   ]
  },
  {
   "cell_type": "code",
   "execution_count": 70,
   "metadata": {},
   "outputs": [
    {
     "data": {
      "text/plain": [
       "┌────────────────────────────────┬────────────────────────────────┬─────────────────────────────┬──────────────────────────────────────────────────────────────────────────────────────────────────────────────────────────────────────────────────────────────────────────────────────────────────────────────────────────────────────────────────────────────────────────────────────────────────────────────────────────────────────────────────────────────────────────────────────────────────────────────────────────────────────────────────────────────────────────────────────────────────────────────────────────────────────────────────────────────────────────────────────────────────────────────────────────────────────────────────────────────────────────────────────────────────────────────────────────────────────────────────────────────────────────────────────────────────────────────────────────────────────────────────────────────────────────────────────────────────────────────────────────────────────────────────────────────────────────────────────────────────────────────────────────────────────────────────────────────────┬────────────────────────────┐\n",
       "│               id               │             prompt             │         file_source         │                                                                                                                                                                                                                                                                                                                                                                                                                                                                                                                             content                                                                                                                                                                                                                                                                                                                                                                                                                                                                                                                              │         created_at         │\n",
       "│            varchar             │            varchar             │           varchar           │                                                                                                                                                                                                                                                                                                                                                                                                              struct(doc_id varchar, statement_id varchar, statement_title varchar, statement_text varchar, statement_sources varchar[], classification struct(subtype varchar, templates_ids varchar[], confidence double, explanation varchar)[])                                                                                                                                                                                                                                                                                                                                                                                                               │  timestamp with time zone  │\n",
       "├────────────────────────────────┼────────────────────────────────┼─────────────────────────────┼──────────────────────────────────────────────────────────────────────────────────────────────────────────────────────────────────────────────────────────────────────────────────────────────────────────────────────────────────────────────────────────────────────────────────────────────────────────────────────────────────────────────────────────────────────────────────────────────────────────────────────────────────────────────────────────────────────────────────────────────────────────────────────────────────────────────────────────────────────────────────────────────────────────────────────────────────────────────────────────────────────────────────────────────────────────────────────────────────────────────────────────────────────────────────────────────────────────────────────────────────────────────────────────────────────────────────────────────────────────────────────────────────────────────────────────────────────────────────────────────────────────────────────────────────────────────────────────────────┼────────────────────────────┤\n",
       "│ classify_P2_Definitional_facts │ classify_P2_Definitional_facts │ documents-2024-12-08-1.json │ {'doc_id': § 275.0-2, 'statement_id': 1, 'statement_title': Service of process on non-resident entities, 'statement_text': A person may serve process, pleadings, or other papers on a non-resident investment adviser, or on a non-resident general partner or non-resident managing agent of an investment adviser by serving any or all of its appointed agents., 'statement_sources': [(a)], 'classification': [{'subtype': Complex concept structure rules, 'templates_ids': [T12], 'confidence': 0.6, 'explanation': The statement describes a method of serving process on non-resident entities, which involves serving appointed agents. This aligns with a complex concept structure rule, as it defines a process involving multiple components (non-resident entities and their agents). However, the statement does not explicitly define a cardinality or equivalence, leading to a moderate confidence level.}]}                                                                                                                                  │ 2024-12-18 00:39:40.525-03 │\n",
       "│ classify_P2_Definitional_facts │ classify_P2_Definitional_facts │ documents-2024-12-08-1.json │ {'doc_id': § 275.0-2, 'statement_id': 2, 'statement_title': Furnishing documents to the Commission, 'statement_text': A person may serve a non-resident investment adviser, non-resident general partner, or non-resident managing agent by furnishing the Commission with one copy of the process, pleadings, or papers, for each named party, and one additional copy for the Commission's records., 'statement_sources': [(a)(1)], 'classification': [{'subtype': Complex concept structure rules, 'templates_ids': [T12], 'confidence': 0.6, 'explanation': This statement outlines a procedure for serving documents to the Commission, involving multiple copies for different parties. It fits within the complex concept structure rules as it describes a structured process involving multiple components (copies for each party and the Commission). The lack of explicit cardinality or equivalence details results in a moderate confidence level.}]}                                                                                               │ 2024-12-18 00:39:40.525-03 │\n",
       "│ classify_P2_Definitional_facts │ classify_P2_Definitional_facts │ documents-2024-12-08-1.json │ {'doc_id': § 275.0-2, 'statement_id': 5, 'statement_title': Definition of Managing agent, 'statement_text': Managing agent means any person, including a trustee, who directs or manages, or who participates in directing or managing, the affairs of any unincorporated organization or association other than a partnership., 'statement_sources': [(b)(1)], 'classification': [{'subtype': Formal intensional definitions, 'templates_ids': [T7], 'confidence': 0.9, 'explanation': The statement provides a definition of 'Managing agent' using a hypernym ('person') and distinguishing characteristics ('who directs or manages...'). This aligns well with the formal intensional definition template, leading to a high confidence level.}]}                                                                                                                                                                                                                                                                                                           │ 2024-12-18 00:39:40.525-03 │\n",
       "│ classify_P2_Definitional_facts │ classify_P2_Definitional_facts │ documents-2024-12-08-1.json │ {'doc_id': § 275.0-2, 'statement_id': 6, 'statement_title': Definition of Non-resident, 'statement_text': Non-resident means an individual who resides in any place not subject to the jurisdiction of the United States; a corporation that is incorporated in or that has its principal office and place of business in any place not subject to the jurisdiction of the United States; and a partnership or other unincorporated organization or association that has its principal office and place of business in any place not subject to the jurisdiction of the United States., 'statement_sources': [(b)(2)], 'classification': [{'subtype': Formal extensional definitions, 'templates_ids': [T8], 'confidence': 0.9, 'explanation': The statement defines 'Non-resident' by listing all possible categories (individual, corporation, partnership, etc.) that fall under this term. This matches the formal extensional definition template, which involves listing a complete set of hyponyms, resulting in a high confidence level.}]}              │ 2024-12-18 00:39:40.525-03 │\n",
       "│ classify_P2_Definitional_facts │ classify_P2_Definitional_facts │ documents-2024-12-08-1.json │ {'doc_id': § 275.0-2, 'statement_id': 7, 'statement_title': Definition of Principal office and place of business, 'statement_text': Principal office and place of business has the same meaning as in § 275.203A-3(c) of this chapter., 'statement_sources': [(b)(3)], 'classification': [{'subtype': Formal intensional definitions, 'templates_ids': [T7], 'confidence': 0.7, 'explanation': The statement refers to an external definition for 'Principal office and place of business', which aligns with the concept of a formal term definition. However, since it does not provide the definition itself but refers to another source, the confidence level is moderate.}]}                                                                                                                                                                                                                                                                                                                                                                               │ 2024-12-18 00:39:40.525-03 │\n",
       "│ classify_P2_Definitional_facts │ classify_P2_Definitional_facts │ documents-2024-12-08-1.json │ {'doc_id': § 275.0-5, 'statement_id': 5, 'statement_title': Definition of application, 'statement_text': For purposes of this rule, an application means any application for an order of the Commission under the Act other than an application for registration as an investment adviser., 'statement_sources': [(d)], 'classification': [{'subtype': Formal extensional definitions, 'templates_ids': [T8], 'confidence': 0.8, 'explanation': The statement defines 'application' by listing a specific type of application that is excluded from the definition. This aligns with the extensional definition subtype, where a term is defined by listing its hyponyms or exclusions.}]}                                                                                                                                                                                                                                                                                                                                                                       │ 2024-12-18 00:39:40.525-03 │\n",
       "│ classify_P2_Definitional_facts │ classify_P2_Definitional_facts │ documents-2024-12-08-1.json │ {'doc_id': § 275.0-7, 'statement_id': 1, 'statement_title': Definition of small business or small organization, 'statement_text': The term small business or small organization for purposes of the Investment Advisers Act of 1940 shall mean an investment adviser that has assets under management of less than $25 million, or such higher amount as the Commission may by rule deem appropriate., 'statement_sources': [(a)], 'classification': [{'subtype': Formal intensional definitions, 'templates_ids': [T7], 'confidence': 0.9, 'explanation': The statement defines 'small business or small organization' by specifying a hypernym ('investment adviser') and a distinguishing characteristic (assets under management of less than $25 million). This matches the formal intensional definition template.}]}                                                                                                                                                                                                                                      │ 2024-12-18 00:39:40.525-03 │\n",
       "│ classify_P2_Definitional_facts │ classify_P2_Definitional_facts │ documents-2024-12-08-1.json │ {'doc_id': § 275.0-7, 'statement_id': 2, 'statement_title': Assets under management criterion, 'statement_text': An investment adviser has assets under management, as defined under Section 203A(a)(3) of the Act and reported on its annual updating amendment to Form ADV, of less than $25 million, or such higher amount as the Commission may by rule deem appropriate., 'statement_sources': [(a)(1)], 'classification': [{'subtype': Valid value definitions, 'templates_ids': [T15], 'confidence': 0.85, 'explanation': The statement specifies a valid value range for 'assets under management' for an investment adviser, which is less than $25 million or a higher amount as determined by the Commission. This aligns with the valid value definitions subtype.}]}                                                                                                                                                                                                                                                                                │ 2024-12-18 00:39:40.525-03 │\n",
       "│ classify_P2_Definitional_facts │ classify_P2_Definitional_facts │ documents-2024-12-08-1.json │ {'doc_id': § 275.0-7, 'statement_id': 3, 'statement_title': Total assets criterion, 'statement_text': An investment adviser did not have total assets of $5 million or more on the last day of the most recent fiscal year., 'statement_sources': [(a)(2)], 'classification': [{'subtype': Valid value definitions, 'templates_ids': [T15], 'confidence': 0.9, 'explanation': The statement defines a valid value condition for 'total assets' of an investment adviser, specifying that it should be less than $5 million. This fits the valid value definitions subtype.}]}                                                                                                                                                                                                                                                                                                                                                                                                                                                                                    │ 2024-12-18 00:39:40.525-03 │\n",
       "│ classify_P2_Definitional_facts │ classify_P2_Definitional_facts │ documents-2024-12-08-1.json │ {'doc_id': § 275.0-7, 'statement_id': 4, 'statement_title': Control relationship criterion, 'statement_text': An investment adviser does not control, is not controlled by, and is not under common control with another investment adviser that has assets under management of $25 million or more, or any person (other than a natural person) that had total assets of $5 million or more on the last day of the most recent fiscal year., 'statement_sources': [(a)(3)], 'classification': [{'subtype': Complex concept structure rules, 'templates_ids': [T12], 'confidence': 0.7, 'explanation': The statement describes a complex relationship involving control and asset thresholds, which aligns with complex concept structure rules. However, it does not fit perfectly into a single template, hence the lower confidence.}]}                                                                                                                                                                                                                       │ 2024-12-18 00:39:40.525-03 │\n",
       "│               ·                │               ·                │              ·              │                                                                                                                                                                                                                                                                                                                                                                                                              ·                                                                                                                                                                                                                                                                                                                                                                                                                                                                                                                                                                                                                                                   │             ·              │\n",
       "│               ·                │               ·                │              ·              │                                                                                                                                                                                                                                                                                                                                                                                                              ·                                                                                                                                                                                                                                                                                                                                                                                                                                                                                                                                                                                                                                                   │             ·              │\n",
       "│               ·                │               ·                │              ·              │                                                                                                                                                                                                                                                                                                                                                                                                              ·                                                                                                                                                                                                                                                                                                                                                                                                                                                                                                                                                                                                                                                   │             ·              │\n",
       "│ classify_P2_Definitional_facts │ classify_P2_Definitional_facts │ documents-2024-12-08-9.json │ {'doc_id': § 275.0-7, 'statement_id': 1, 'statement_title': Definition of small business or small organization, 'statement_text': The term small business or small organization for purposes of the Investment Advisers Act of 1940 shall mean an investment adviser that has assets under management of less than $25 million, or such higher amount as the Commission may by rule deem appropriate., 'statement_sources': [(a)], 'classification': [{'subtype': Formal intensional definitions, 'templates_ids': [T7], 'confidence': 0.9, 'explanation': The statement defines 'small business or small organization' by specifying a hypernym ('investment adviser') and a distinguishing characteristic (assets under management of less than $25 million). This matches the formal intensional definition template.}]}                                                                                                                                                                                                                                      │ 2024-12-18 00:39:40.851-03 │\n",
       "│ classify_P2_Definitional_facts │ classify_P2_Definitional_facts │ documents-2024-12-08-9.json │ {'doc_id': § 275.0-7, 'statement_id': 2, 'statement_title': Assets under management criterion, 'statement_text': An investment adviser has assets under management, as defined under Section 203A(a)(3) of the Act and reported on its annual updating amendment to Form ADV, of less than $25 million, or such higher amount as the Commission may by rule deem appropriate., 'statement_sources': [(a)(1)], 'classification': [{'subtype': Valid value definitions, 'templates_ids': [T15], 'confidence': 0.85, 'explanation': The statement specifies a valid value range for 'assets under management' for an investment adviser, which is less than $25 million or a higher amount as determined by the Commission. This aligns with the valid value definitions subtype.}]}                                                                                                                                                                                                                                                                                │ 2024-12-18 00:39:40.851-03 │\n",
       "│ classify_P2_Definitional_facts │ classify_P2_Definitional_facts │ documents-2024-12-08-9.json │ {'doc_id': § 275.0-7, 'statement_id': 3, 'statement_title': Total assets criterion, 'statement_text': An investment adviser did not have total assets of $5 million or more on the last day of the most recent fiscal year., 'statement_sources': [(a)(2)], 'classification': [{'subtype': Valid value definitions, 'templates_ids': [T15], 'confidence': 0.9, 'explanation': The statement defines a valid value condition for 'total assets' of an investment adviser, specifying that it should be less than $5 million. This fits the valid value definitions subtype.}]}                                                                                                                                                                                                                                                                                                                                                                                                                                                                                    │ 2024-12-18 00:39:40.851-03 │\n",
       "│ classify_P2_Definitional_facts │ classify_P2_Definitional_facts │ documents-2024-12-08-9.json │ {'doc_id': § 275.0-7, 'statement_id': 4, 'statement_title': Control relationship criterion, 'statement_text': An investment adviser does not control, is not controlled by, and is not under common control with another investment adviser that has assets under management of $25 million or more, or any person (other than a natural person) that had total assets of $5 million or more on the last day of the most recent fiscal year., 'statement_sources': [(a)(3)], 'classification': [{'subtype': Complex concept structure rules, 'templates_ids': [T12], 'confidence': 0.7, 'explanation': The statement describes a complex relationship involving control and asset thresholds, which aligns with complex concept structure rules. However, it does not fit perfectly into a single template, hence the lower confidence.}]}                                                                                                                                                                                                                       │ 2024-12-18 00:39:40.851-03 │\n",
       "│ classify_P2_Definitional_facts │ classify_P2_Definitional_facts │ documents-2024-12-08-9.json │ {'doc_id': § 275.0-7, 'statement_id': 5, 'statement_title': Definition of control, 'statement_text': Control means the power, directly or indirectly, to direct the management or policies of a person, whether through ownership of securities, by contract, or otherwise., 'statement_sources': [(b)(1)], 'classification': [{'subtype': Formal intensional definitions, 'templates_ids': [T7], 'confidence': 0.8, 'explanation': The statement defines 'Control' by specifying its characteristics, such as the power to direct management or policies, which aligns with the template for formal intensional definitions. However, it lacks a clear hypernym, which slightly reduces confidence.}]}                                                                                                                                                                                                                                                                                                                                                          │ 2024-12-18 00:39:40.851-03 │\n",
       "│ classify_P2_Definitional_facts │ classify_P2_Definitional_facts │ documents-2024-12-08-9.json │ {'doc_id': § 275.0-7, 'statement_id': 6, 'statement_title': Presumption of control over a corporation, 'statement_text': A person is presumed to control a corporation if the person directly or indirectly has the right to vote 25 percent or more of a class of the corporation's voting securities., 'statement_sources': [(b)(1)(i)(A)], 'classification': [{'subtype': Formal intensional definitions, 'templates_ids': [T7], 'confidence': 0.7, 'explanation': The statement provides a condition under which a person is presumed to control a corporation, specifying characteristics like voting rights. It fits the formal intensional definition template but lacks a hypernym, reducing confidence.}]}                                                                                                                                                                                                                                                                                                                                              │ 2024-12-18 00:39:40.851-03 │\n",
       "│ classify_P2_Definitional_facts │ classify_P2_Definitional_facts │ documents-2024-12-08-9.json │ {'doc_id': § 275.0-7, 'statement_id': 7, 'statement_title': Presumption of control over a partnership, 'statement_text': A person is presumed to control a partnership if the person has the right to receive upon dissolution, or has contributed, 25 percent or more of the capital of the partnership., 'statement_sources': [(b)(1)(ii)], 'classification': [{'subtype': Formal intensional definitions, 'templates_ids': [T7], 'confidence': 0.7, 'explanation': This statement defines control over a partnership by specifying conditions related to capital contribution and rights upon dissolution. It aligns with the formal intensional definition template but lacks a hypernym, reducing confidence.}]}                                                                                                                                                                                                                                                                                                                                            │ 2024-12-18 00:39:40.851-03 │\n",
       "│ classify_P2_Definitional_facts │ classify_P2_Definitional_facts │ documents-2024-12-08-9.json │ {'doc_id': § 275.0-7, 'statement_id': 8, 'statement_title': Presumption of control over an LLC, 'statement_text': A person is presumed to control a limited liability company (LLC) if the person directly or indirectly has the right to vote 25 percent or more of a class of the interests of the LLC, has the right to receive upon dissolution, or has contributed, 25 percent or more of the capital of the LLC, or is an elected manager of the LLC., 'statement_sources': [(b)(1)(iii)], 'classification': [{'subtype': Formal intensional definitions, 'templates_ids': [T7], 'confidence': 0.7, 'explanation': The statement outlines conditions under which a person is presumed to control an LLC, such as voting rights and capital contribution. It fits the formal intensional definition template but lacks a hypernym, reducing confidence.}]}                                                                                                                                                                                                  │ 2024-12-18 00:39:40.851-03 │\n",
       "│ classify_P2_Definitional_facts │ classify_P2_Definitional_facts │ documents-2024-12-08-9.json │ {'doc_id': § 275.0-7, 'statement_id': 9, 'statement_title': Presumption of control over a trust, 'statement_text': A person is presumed to control a trust if the person is a trustee or managing agent of the trust., 'statement_sources': [(b)(1)(iv)], 'classification': [{'subtype': Formal intensional definitions, 'templates_ids': [T7], 'confidence': 0.7, 'explanation': This statement defines control over a trust by specifying roles like trustee or managing agent. It aligns with the formal intensional definition template but lacks a hypernym, reducing confidence.}]}                                                                                                                                                                                                                                                                                                                                                                                                                                                                        │ 2024-12-18 00:39:40.851-03 │\n",
       "│ classify_P2_Definitional_facts │ classify_P2_Definitional_facts │ documents-2024-12-08-9.json │ {'doc_id': § 275.0-7, 'statement_id': 10, 'statement_title': Definition of total assets, 'statement_text': Total assets means the total assets as shown on the balance sheet of the investment adviser or other person described above under paragraph (a)(3) of this section, or the balance sheet of the investment adviser or such other person with its subsidiaries consolidated, whichever is larger., 'statement_sources': [(b)(2)], 'classification': [{'subtype': Formal extensional definitions, 'templates_ids': [T8], 'confidence': 0.8, 'explanation': The statement defines 'Total assets' by listing two possible interpretations: the balance sheet of the investment adviser or other person, or the consolidated balance sheet with subsidiaries. This aligns with the extensional definition template, which lists a complete set of hyponyms (in this case, the two balance sheet options). The confidence is not full because the statement does not explicitly list hyponyms but implies them through the 'whichever is larger' clause.}]} │ 2024-12-18 00:39:40.851-03 │\n",
       "├────────────────────────────────┴────────────────────────────────┴─────────────────────────────┴──────────────────────────────────────────────────────────────────────────────────────────────────────────────────────────────────────────────────────────────────────────────────────────────────────────────────────────────────────────────────────────────────────────────────────────────────────────────────────────────────────────────────────────────────────────────────────────────────────────────────────────────────────────────────────────────────────────────────────────────────────────────────────────────────────────────────────────────────────────────────────────────────────────────────────────────────────────────────────────────────────────────────────────────────────────────────────────────────────────────────────────────────────────────────────────────────────────────────────────────────────────────────────────────────────────────────────────────────────────────────────────────────────────────────────────────────────────────────────────────────────────────────────────────────────────────────────────────────┴────────────────────────────┤\n",
       "│ 160 rows (20 shown)                                                                                                                                                                                                                                                                                                                                                                                                                                                                                                                                                                                                                                                                                                                                                                                                                                                                                                                                                                                                                                                                                                                                                                 5 columns │\n",
       "└───────────────────────────────────────────────────────────────────────────────────────────────────────────────────────────────────────────────────────────────────────────────────────────────────────────────────────────────────────────────────────────────────────────────────────────────────────────────────────────────────────────────────────────────────────────────────────────────────────────────────────────────────────────────────────────────────────────────────────────────────────────────────────────────────────────────────────────────────────────────────────────────────────────────────────────────────────────────────────────────────────────────────────────────────────────────────────────────────────────────────────────────────────────────────────────────────────────────────────────────────────────────────────────────────────────────────────────────────────────────────────────────────────────────────────────────────────────────────────────────────────────────────────────────────────────────────────────────────────────────────────────────────────────────────────────────────────────────────────────────────────────────────────────────┘"
      ]
     },
     "execution_count": 70,
     "metadata": {},
     "output_type": "execute_result"
    }
   ],
   "source": [
    "query = \"\"\"\n",
    "SELECT *\n",
    "FROM RAW_CLASSIFY_P2_DEFINITIONAL_FACTS\n",
    ";\n",
    "\"\"\"\n",
    "\n",
    "conn.sql(query)"
   ]
  },
  {
   "cell_type": "markdown",
   "metadata": {},
   "source": [
    "## Transform"
   ]
  },
  {
   "cell_type": "markdown",
   "metadata": {},
   "source": [
    "Metadata"
   ]
  },
  {
   "cell_type": "code",
   "execution_count": 71,
   "metadata": {},
   "outputs": [
    {
     "data": {
      "text/plain": [
       "┌────────────────┬────────────┬───────────────────────────┬────────────────────────┬───────────────────────────────┬────────────────────────────┐\n",
       "│    process     │ doc_source │          doc_id           │        doc_type        │          table_name           │         created_at         │\n",
       "│    varchar     │  varchar   │          varchar          │        varchar         │            varchar            │  timestamp with time zone  │\n",
       "├────────────────┼────────────┼───────────────────────────┼────────────────────────┼───────────────────────────────┼────────────────────────────┤\n",
       "│ transformation │ pred       │ transform_Fact_Types      │ llm_response_transform │ RAW_TRANSFORM_FACT_TYPES      │ 2024-12-18 00:31:26.968-03 │\n",
       "│ transformation │ pred       │ transform_Names           │ llm_response_transform │ RAW_TRANSFORM_NAMES           │ 2024-12-18 00:31:26.968-03 │\n",
       "│ transformation │ pred       │ transform_Operative_Rules │ llm_response_transform │ RAW_TRANSFORM_OPERATIVE_RULES │ 2024-12-18 00:31:26.968-03 │\n",
       "│ transformation │ pred       │ transform_Terms           │ llm_response_transform │ RAW_TRANSFORM_TERMS           │ 2024-12-18 00:31:26.968-03 │\n",
       "└────────────────┴────────────┴───────────────────────────┴────────────────────────┴───────────────────────────────┴────────────────────────────┘"
      ]
     },
     "execution_count": 71,
     "metadata": {},
     "output_type": "execute_result"
    }
   ],
   "source": [
    "query = \"\"\"\n",
    "SELECT *,\n",
    "FROM CHECKPOINT_METADATA\n",
    "WHERE PROCESS='transformation'\n",
    "ORDER BY DOC_ID, DOC_TYPE DESC;\n",
    "\"\"\"\n",
    "\n",
    "conn.sql(query)"
   ]
  },
  {
   "cell_type": "markdown",
   "metadata": {},
   "source": [
    "### Operative Rules"
   ]
  },
  {
   "cell_type": "markdown",
   "metadata": {},
   "source": [
    "Pred table"
   ]
  },
  {
   "cell_type": "code",
   "execution_count": 72,
   "metadata": {},
   "outputs": [
    {
     "name": "stdout",
     "output_type": "stream",
     "text": [
      "cfr2sbvr_db/evaluation/documents-2024-12-08-1.json\n",
      "transform_Operative_Rules|llm_response_transform\n",
      "_query_drop_table='\\n        DROP TABLE IF EXISTS RAW_TRANSFORM_OPERATIVE_RULES;\\n        '\n",
      "Trying to drop table because drop parameter is True\n",
      "Table RAW_TRANSFORM_OPERATIVE_RULES dropped\n",
      "_query_insert_data='\\n    INSERT INTO RAW_TRANSFORM_OPERATIVE_RULES (id, prompt, file_source, content, created_at)\\n    SELECT \\n        id, \\n        \\'transform_Operative_Rules\\' as prompt, \\n        \\'documents-2024-12-08-1.json\\' as file_source, \\n        unnest(content) as content,\\n        now() as created_at\\n    FROM \\n        read_json_auto(\"temp/documents-2024-12-08-1.json\");\\n    '\n",
      "Trying to insert into RAW_TRANSFORM_OPERATIVE_RULES\n",
      "Catalog Error: Table with name RAW_TRANSFORM_OPERATIVE_RULES does not exist!\n",
      "Did you mean \"database_v3.RAW_TRANSFORM_OPERATIVE_RULES\"?\n",
      "Failed to insert, trying create RAW_TRANSFORM_OPERATIVE_RULES\n",
      "_query_create_table='\\n        CREATE TABLE RAW_TRANSFORM_OPERATIVE_RULES AS\\n        SELECT id, \\n        \\'transform_Operative_Rules\\' as prompt, \\n        \\'documents-2024-12-08-1.json\\' as file_source, \\n        unnest(content) as content,\\n        now() as \\'created_at\\'\\n        FROM read_json_auto(\"temp/documents-2024-12-08-1.json\");\\n        '\n",
      "Table RAW_TRANSFORM_OPERATIVE_RULES created and loaded.\n",
      "cfr2sbvr_db/evaluation/documents-2024-12-08-10.json\n",
      "transform_Operative_Rules|llm_response_transform\n",
      "_query_insert_data='\\n    INSERT INTO RAW_TRANSFORM_OPERATIVE_RULES (id, prompt, file_source, content, created_at)\\n    SELECT \\n        id, \\n        \\'transform_Operative_Rules\\' as prompt, \\n        \\'documents-2024-12-08-10.json\\' as file_source, \\n        unnest(content) as content,\\n        now() as created_at\\n    FROM \\n        read_json_auto(\"temp/documents-2024-12-08-10.json\");\\n    '\n",
      "Trying to insert into RAW_TRANSFORM_OPERATIVE_RULES\n",
      "Data inserted into RAW_TRANSFORM_OPERATIVE_RULES.\n",
      "cfr2sbvr_db/evaluation/documents-2024-12-08-2.json\n",
      "transform_Operative_Rules|llm_response_transform\n",
      "_query_insert_data='\\n    INSERT INTO RAW_TRANSFORM_OPERATIVE_RULES (id, prompt, file_source, content, created_at)\\n    SELECT \\n        id, \\n        \\'transform_Operative_Rules\\' as prompt, \\n        \\'documents-2024-12-08-2.json\\' as file_source, \\n        unnest(content) as content,\\n        now() as created_at\\n    FROM \\n        read_json_auto(\"temp/documents-2024-12-08-2.json\");\\n    '\n",
      "Trying to insert into RAW_TRANSFORM_OPERATIVE_RULES\n",
      "Data inserted into RAW_TRANSFORM_OPERATIVE_RULES.\n",
      "cfr2sbvr_db/evaluation/documents-2024-12-08-3.json\n",
      "transform_Operative_Rules|llm_response_transform\n",
      "_query_insert_data='\\n    INSERT INTO RAW_TRANSFORM_OPERATIVE_RULES (id, prompt, file_source, content, created_at)\\n    SELECT \\n        id, \\n        \\'transform_Operative_Rules\\' as prompt, \\n        \\'documents-2024-12-08-3.json\\' as file_source, \\n        unnest(content) as content,\\n        now() as created_at\\n    FROM \\n        read_json_auto(\"temp/documents-2024-12-08-3.json\");\\n    '\n",
      "Trying to insert into RAW_TRANSFORM_OPERATIVE_RULES\n",
      "Data inserted into RAW_TRANSFORM_OPERATIVE_RULES.\n",
      "cfr2sbvr_db/evaluation/documents-2024-12-08-4.json\n",
      "transform_Operative_Rules|llm_response_transform\n",
      "_query_insert_data='\\n    INSERT INTO RAW_TRANSFORM_OPERATIVE_RULES (id, prompt, file_source, content, created_at)\\n    SELECT \\n        id, \\n        \\'transform_Operative_Rules\\' as prompt, \\n        \\'documents-2024-12-08-4.json\\' as file_source, \\n        unnest(content) as content,\\n        now() as created_at\\n    FROM \\n        read_json_auto(\"temp/documents-2024-12-08-4.json\");\\n    '\n",
      "Trying to insert into RAW_TRANSFORM_OPERATIVE_RULES\n",
      "Data inserted into RAW_TRANSFORM_OPERATIVE_RULES.\n",
      "cfr2sbvr_db/evaluation/documents-2024-12-08-5.json\n",
      "transform_Operative_Rules|llm_response_transform\n",
      "_query_insert_data='\\n    INSERT INTO RAW_TRANSFORM_OPERATIVE_RULES (id, prompt, file_source, content, created_at)\\n    SELECT \\n        id, \\n        \\'transform_Operative_Rules\\' as prompt, \\n        \\'documents-2024-12-08-5.json\\' as file_source, \\n        unnest(content) as content,\\n        now() as created_at\\n    FROM \\n        read_json_auto(\"temp/documents-2024-12-08-5.json\");\\n    '\n",
      "Trying to insert into RAW_TRANSFORM_OPERATIVE_RULES\n",
      "Data inserted into RAW_TRANSFORM_OPERATIVE_RULES.\n",
      "cfr2sbvr_db/evaluation/documents-2024-12-08-6.json\n",
      "transform_Operative_Rules|llm_response_transform\n",
      "_query_insert_data='\\n    INSERT INTO RAW_TRANSFORM_OPERATIVE_RULES (id, prompt, file_source, content, created_at)\\n    SELECT \\n        id, \\n        \\'transform_Operative_Rules\\' as prompt, \\n        \\'documents-2024-12-08-6.json\\' as file_source, \\n        unnest(content) as content,\\n        now() as created_at\\n    FROM \\n        read_json_auto(\"temp/documents-2024-12-08-6.json\");\\n    '\n",
      "Trying to insert into RAW_TRANSFORM_OPERATIVE_RULES\n",
      "Data inserted into RAW_TRANSFORM_OPERATIVE_RULES.\n",
      "cfr2sbvr_db/evaluation/documents-2024-12-08-7.json\n",
      "transform_Operative_Rules|llm_response_transform\n",
      "_query_insert_data='\\n    INSERT INTO RAW_TRANSFORM_OPERATIVE_RULES (id, prompt, file_source, content, created_at)\\n    SELECT \\n        id, \\n        \\'transform_Operative_Rules\\' as prompt, \\n        \\'documents-2024-12-08-7.json\\' as file_source, \\n        unnest(content) as content,\\n        now() as created_at\\n    FROM \\n        read_json_auto(\"temp/documents-2024-12-08-7.json\");\\n    '\n",
      "Trying to insert into RAW_TRANSFORM_OPERATIVE_RULES\n",
      "Data inserted into RAW_TRANSFORM_OPERATIVE_RULES.\n",
      "cfr2sbvr_db/evaluation/documents-2024-12-08-8.json\n",
      "transform_Operative_Rules|llm_response_transform\n",
      "_query_insert_data='\\n    INSERT INTO RAW_TRANSFORM_OPERATIVE_RULES (id, prompt, file_source, content, created_at)\\n    SELECT \\n        id, \\n        \\'transform_Operative_Rules\\' as prompt, \\n        \\'documents-2024-12-08-8.json\\' as file_source, \\n        unnest(content) as content,\\n        now() as created_at\\n    FROM \\n        read_json_auto(\"temp/documents-2024-12-08-8.json\");\\n    '\n",
      "Trying to insert into RAW_TRANSFORM_OPERATIVE_RULES\n",
      "Data inserted into RAW_TRANSFORM_OPERATIVE_RULES.\n",
      "cfr2sbvr_db/evaluation/documents-2024-12-08-9.json\n",
      "transform_Operative_Rules|llm_response_transform\n",
      "_query_insert_data='\\n    INSERT INTO RAW_TRANSFORM_OPERATIVE_RULES (id, prompt, file_source, content, created_at)\\n    SELECT \\n        id, \\n        \\'transform_Operative_Rules\\' as prompt, \\n        \\'documents-2024-12-08-9.json\\' as file_source, \\n        unnest(content) as content,\\n        now() as created_at\\n    FROM \\n        read_json_auto(\"temp/documents-2024-12-08-9.json\");\\n    '\n",
      "Trying to insert into RAW_TRANSFORM_OPERATIVE_RULES\n",
      "Data inserted into RAW_TRANSFORM_OPERATIVE_RULES.\n"
     ]
    }
   ],
   "source": [
    "# Define the directory and pattern\n",
    "directory = Path(\"cfr2sbvr_db/evaluation\")\n",
    "pattern = \"documents-*.json\"\n",
    "\n",
    "# Use glob to find all files matching the pattern\n",
    "files = directory.glob(pattern)\n",
    "\n",
    "drop=True # Drop the table first time\n",
    "for file_path in files:\n",
    "    print(file_path)  # Output each file path\n",
    "    upsert_table_from_json(\n",
    "        conn,\n",
    "        suffix_key_pattern=\"transform_Operative_Rules|llm_response_transform\",\n",
    "        prefix_key_pattern=\"\",\n",
    "        table_name=\"RAW_TRANSFORM_OPERATIVE_RULES\",\n",
    "        source=file_path,\n",
    "        key_value=\"transform_Operative_Rules\",\n",
    "        drop=drop,\n",
    "        content_key=\"content\",\n",
    "        alias=\"content\",\n",
    "        doc_id_key=\"id\"\n",
    "    )\n",
    "    drop=False # Stop dropping tables"
   ]
  },
  {
   "cell_type": "code",
   "execution_count": 73,
   "metadata": {},
   "outputs": [
    {
     "data": {
      "text/plain": [
       "┌───────────────────────────┬───────────────────────────┬──────────────────────────────┬───────────────────────────────────────────────────────────────────────────────────────────────────────────────────────────────────────────────────────────────────────────────────────────────────────────────────────────────────────────────────────────────────────────────────────────────────────────────────────────────────────────────────────────────────────────────────────────────────────────────────────────────────────────────────────────────────────────────────────────────────────────────────────────────────────────────────────────────────────────────────────────────────────────────────────────────────────────────────────────────────────────────────────────────────────────────────────────────────────────────────────────────────────────────────────────────────────────────────────────────────────────────────────────────────────────────────────────────────────────────────────────────────────────────────────────────────────────────────────────────────────────────────────────────────────────────────────────────────────────────────────────────────────────────────────────────────────────────────────────────────────────────────────────────────────────────────────────────────────────┬────────────────────────────┐\n",
       "│            id             │          prompt           │         file_source          │                                                                                                                                                                                                                                                                                                                                                                                                                                                                                                                                                                                                                  content                                                                                                                                                                                                                                                                                                                                                                                                                                                                                                                                                                                                                  │         created_at         │\n",
       "│          varchar          │          varchar          │           varchar            │                                                                                                                                                                                                                                                                                                                                                                                                                                                                                                                 struct(doc_id varchar, statement_id varchar, statement_title varchar, \"statement\" varchar, statement_sources varchar[], templates_ids varchar[], transformed varchar, confidence double, reason varchar)                                                                                                                                                                                                                                                                                                                                                                                                                                                                                                                  │  timestamp with time zone  │\n",
       "├───────────────────────────┼───────────────────────────┼──────────────────────────────┼───────────────────────────────────────────────────────────────────────────────────────────────────────────────────────────────────────────────────────────────────────────────────────────────────────────────────────────────────────────────────────────────────────────────────────────────────────────────────────────────────────────────────────────────────────────────────────────────────────────────────────────────────────────────────────────────────────────────────────────────────────────────────────────────────────────────────────────────────────────────────────────────────────────────────────────────────────────────────────────────────────────────────────────────────────────────────────────────────────────────────────────────────────────────────────────────────────────────────────────────────────────────────────────────────────────────────────────────────────────────────────────────────────────────────────────────────────────────────────────────────────────────────────────────────────────────────────────────────────────────────────────────────────────────────────────────────────────────────────────────────────────────────────────────────────────────────────────────────────────┼────────────────────────────┤\n",
       "│ transform_Operative_Rules │ transform_Operative_Rules │ documents-2024-12-08-1.json  │ {'doc_id': § 275.0-2, 'statement_id': 3, 'statement_title': Forwarding Copies to Named Parties, 'statement': The Secretary of the Commission (Secretary) will promptly forward a copy to each named party by registered or certified mail at that party's last address filed with the Commission., 'statement_sources': [(a)(2)], 'templates_ids': [T56], 'transformed': The Secretary of the Commission must forward a copy to each named party if the copy is sent by registered or certified mail at that party's last address filed with the Commission., 'confidence': 0.9, 'reason': The transformation follows the T56 template structure, with the responsibility signifier as 'The Secretary of the Commission', the verb phrase as 'forward a copy', and the party signifier as 'each named party'. The conditional clause is included to specify the method of forwarding.}                                                                                                                                                                                                                                                                                                                                                    │ 2024-12-18 00:39:40.925-03 │\n",
       "│ transform_Operative_Rules │ transform_Operative_Rules │ documents-2024-12-08-1.json  │ {'doc_id': § 275.0-2, 'statement_id': 4, 'statement_title': Evidence of Service Certification, 'statement': If the Secretary certifies that the Commission was served with process, pleadings, or other papers pursuant to paragraph (a)(1) of this section and forwarded these documents to a named party pursuant to paragraph (a)(2) of this section, this certification constitutes evidence of service upon that party., 'statement_sources': [(a)(3)], 'templates_ids': [T56], 'transformed': The certification by the Secretary must constitute evidence of service upon a named party if the Secretary certifies that the Commission was served with process, pleadings, or other papers pursuant to paragraph (a)(1) of this section and forwarded these documents to a named party pursuant to paragraph (a)(2) of this section., 'confidence': 0.9, 'reason': The transformation follows the T56 template structure, accurately capturing the conditional clause and the responsibility signifier. The placeholders were correctly identified and replaced, ensuring logical consistency.}                                                                                                                                     │ 2024-12-18 00:39:40.925-03 │\n",
       "│ transform_Operative_Rules │ transform_Operative_Rules │ documents-2024-12-08-1.json  │ {'doc_id': § 275.0-5, 'statement_id': 1, 'statement_title': Notice of Proceeding Initiation, 'statement': Notice of the initiation of the proceeding will be published in the Federal Register and will indicate the earliest date upon which an order disposing of the matter may be entered., 'statement_sources': [(a)], 'templates_ids': [T48], 'transformed': The publication of notice for the initiation of the proceeding must occur in the Federal Register and indicate the earliest date upon which an order disposing of the matter may be entered., 'confidence': 0.9, 'reason': The transformation follows the T48 template structure, identifying the process term as 'publication of notice', the object term as 'initiation of the proceeding', and the time restriction as 'in the Federal Register'. The conditional clause is not explicitly present, but the statement implies a requirement for publication and indication of the earliest date.}                                                                                                                                                                                                                                                                   │ 2024-12-18 00:39:40.925-03 │\n",
       "│ transform_Operative_Rules │ transform_Operative_Rules │ documents-2024-12-08-1.json  │ {'doc_id': § 275.0-5, 'statement_id': 2, 'statement_title': Interested Person Submission, 'statement': Any interested person may, within the period of time specified therein, submit to the Commission in writing any facts bearing upon the desirability of a hearing on the matter and may request that a hearing be held, stating his reasons therefor and the nature of his interest in the matter., 'statement_sources': [(a)], 'templates_ids': [T53], 'transformed': An interested person may submit to the Commission in writing any facts bearing upon the desirability of a hearing on the matter only if the period of time specified therein is met., 'confidence': 0.9, 'reason': The transformation follows the T53 template structure, identifying 'interested person' as the party signifier, 'submit to the Commission in writing any facts bearing upon the desirability of a hearing on the matter' as predicate 1, and 'the period of time specified therein is met' as predicate 2. The qualifying clause 'within the period of time specified therein' is integrated correctly.}                                                                                                                                   │ 2024-12-18 00:39:40.925-03 │\n",
       "│ transform_Operative_Rules │ transform_Operative_Rules │ documents-2024-12-08-1.json  │ {'doc_id': § 275.0-5, 'statement_id': 3, 'statement_title': Order Disposition, 'statement': An order disposing of the matter will be issued as of course following the expiration of the period of time referred to in paragraph (a) of this section, unless the Commission thereafter orders a hearing on the matter., 'statement_sources': [(b)], 'templates_ids': [T49], 'transformed': An order disposing of the matter may be issued as of course following the expiration of the period of time referred to in paragraph (a) of this section only unless the Commission thereafter orders a hearing on the matter., 'confidence': 0.9, 'reason': The transformation follows the T49 template structure, with the conditional clause 'unless the Commission thereafter orders a hearing on the matter' correctly applied. The verb phrase 'may be issued' aligns with the template's use of 'may' with 'only' for conditional actions.}                                                                                                                                                                                                                                                                                              │ 2024-12-18 00:39:40.925-03 │\n",
       "│ transform_Operative_Rules │ transform_Operative_Rules │ documents-2024-12-08-1.json  │ {'doc_id': § 275.0-5, 'statement_id': 4, 'statement_title': Hearing Order by the Commission, 'statement': The Commission will order a hearing on the matter, if it appears that a hearing is necessary or appropriate in the public interest or for the protection of investors, upon the request of any interested person or upon its own motion., 'statement_sources': [(c)], 'templates_ids': [T50], 'transformed': The Commission may order a hearing on the matter only if it appears that a hearing is necessary or appropriate in the public interest or for the protection of investors., 'confidence': 0.9, 'reason': The transformation follows the T50 template structure closely, with the conditional clause accurately reflecting the conditions under which the Commission may order a hearing.}                                                                                                                                                                                                                                                                                                                                                                                                                           │ 2024-12-18 00:39:40.925-03 │\n",
       "│ transform_Operative_Rules │ transform_Operative_Rules │ documents-2024-12-08-10.json │ {'doc_id': § 275.0-2, 'statement_id': 3, 'statement_title': Forwarding Copies to Named Parties, 'statement': The Secretary of the Commission (Secretary) will promptly forward a copy to each named party by registered or certified mail at that party's last address filed with the Commission., 'statement_sources': [(a)(2)], 'templates_ids': [T56], 'transformed': The Secretary of the Commission must forward a copy to each named party if the copy is sent by registered or certified mail at that party's last address filed with the Commission., 'confidence': 0.9, 'reason': The transformation follows the T56 template structure, with the responsibility signifier as 'The Secretary of the Commission', the verb phrase as 'forward a copy', and the party signifier as 'each named party'. The conditional clause is included to specify the method of forwarding and the address used.}                                                                                                                                                                                                                                                                                                                               │ 2024-12-18 00:39:40.96-03  │\n",
       "│ transform_Operative_Rules │ transform_Operative_Rules │ documents-2024-12-08-10.json │ {'doc_id': § 275.0-2, 'statement_id': 4, 'statement_title': Evidence of Service Certification, 'statement': If the Secretary certifies that the Commission was served with process, pleadings, or other papers pursuant to paragraph (a)(1) of this section and forwarded these documents to a named party pursuant to paragraph (a)(2) of this section, this certification constitutes evidence of service upon that party., 'statement_sources': [(a)(3)], 'templates_ids': [T56], 'transformed': The certification by the Secretary must constitute evidence of service upon a named party if the Secretary certifies that the Commission was served with process, pleadings, or other papers pursuant to paragraph (a)(1) of this section and forwarded these documents to a named party pursuant to paragraph (a)(2) of this section., 'confidence': 0.9, 'reason': The transformation follows the T56 template structure, accurately capturing the responsibility signifier, verb phrase, party signifier, and conditional clause. The conditional clause is complex but correctly interpreted.}                                                                                                                                    │ 2024-12-18 00:39:40.96-03  │\n",
       "│ transform_Operative_Rules │ transform_Operative_Rules │ documents-2024-12-08-10.json │ {'doc_id': § 275.0-5, 'statement_id': 1, 'statement_title': Notice of Proceeding Initiation, 'statement': Notice of the initiation of the proceeding will be published in the Federal Register and will indicate the earliest date upon which an order disposing of the matter may be entered., 'statement_sources': [(a)], 'templates_ids': [T48], 'transformed': The publication of notice for the initiation of the proceeding in the Federal Register must occur and indicate the earliest date upon which an order disposing of the matter may be entered., 'confidence': 0.9, 'reason': The transformation follows the T48 template structure, identifying the process term as 'publication of notice', the object term as 'initiation of the proceeding', and the time restriction as 'indicate the earliest date upon which an order disposing of the matter may be entered'. The transformation maintains the original meaning and intent of the statement.}                                                                                                                                                                                                                                                                     │ 2024-12-18 00:39:40.96-03  │\n",
       "│ transform_Operative_Rules │ transform_Operative_Rules │ documents-2024-12-08-10.json │ {'doc_id': § 275.0-5, 'statement_id': 2, 'statement_title': Submission of Facts and Hearing Request, 'statement': Any interested person may, within the period of time specified therein, submit to the Commission in writing any facts bearing upon the desirability of a hearing on the matter and may request that a hearing be held, stating his reasons therefor and the nature of his interest in the matter., 'statement_sources': [(a)], 'templates_ids': [T53], 'transformed': An interested person may submit to the Commission in writing any facts bearing upon the desirability of a hearing on the matter only if the period of time specified therein is met and may request that a hearing be held, stating his reasons therefor and the nature of his interest in the matter., 'confidence': 0.9, 'reason': The transformation follows the T53 template structure, accurately capturing the conditional nature of the submission and request process, with placeholders correctly replaced.}                                                                                                                                                                                                                             │ 2024-12-18 00:39:40.96-03  │\n",
       "│             ·             │             ·             │              ·               │                                                                                                                                                                                                                                                                                                                                                                                                                                                                           ·                                                                                                                                                                                                                                                                                                                                                                                                                                                                                                                                                                                                                                                                                                                                                               │             ·              │\n",
       "│             ·             │             ·             │              ·               │                                                                                                                                                                                                                                                                                                                                                                                                                                                                           ·                                                                                                                                                                                                                                                                                                                                                                                                                                                                                                                                                                                                                                                                                                                                                               │             ·              │\n",
       "│             ·             │             ·             │              ·               │                                                                                                                                                                                                                                                                                                                                                                                                                                                                           ·                                                                                                                                                                                                                                                                                                                                                                                                                                                                                                                                                                                                                                                                                                                                                               │             ·              │\n",
       "│ transform_Operative_Rules │ transform_Operative_Rules │ documents-2024-12-08-8.json  │ {'doc_id': § 275.0-5, 'statement_id': 1, 'statement_title': Notice of Proceeding Initiation, 'statement': Notice of the initiation of the proceeding will be published in the Federal Register and will indicate the earliest date upon which an order disposing of the matter may be entered., 'statement_sources': [(a)], 'templates_ids': [T48], 'transformed': The publication of notice for the initiation of the proceeding in the Federal Register must occur and indicate the earliest date upon which an order disposing of the matter may be entered., 'confidence': 0.9, 'reason': The transformation follows the T48 template structure, identifying the process term as 'publication of notice', the object term as 'initiation of the proceeding', and the time restriction as 'indicate the earliest date upon which an order disposing of the matter may be entered'. The transformation maintains the original meaning and context.}                                                                                                                                                                                                                                                                                     │ 2024-12-18 00:39:41.212-03 │\n",
       "│ transform_Operative_Rules │ transform_Operative_Rules │ documents-2024-12-08-8.json  │ {'doc_id': § 275.0-5, 'statement_id': 2, 'statement_title': Submission of Facts and Hearing Request, 'statement': Any interested person may, within the period of time specified therein, submit to the Commission in writing any facts bearing upon the desirability of a hearing on the matter and may request that a hearing be held, stating his reasons therefor and the nature of his interest in the matter., 'statement_sources': [(a)], 'templates_ids': [T53], 'transformed': An interested person may submit to the Commission in writing any facts bearing upon the desirability of a hearing on the matter only if the period of time specified therein allows., 'confidence': 0.9, 'reason': The transformation follows the T53 template structure, identifying 'interested person' as the party signifier, 'submit to the Commission in writing any facts bearing upon the desirability of a hearing on the matter' as predicate 1, and 'the period of time specified therein allows' as predicate 2. The qualifying clause 'within the period of time specified therein' is integrated into the condition.}                                                                                                               │ 2024-12-18 00:39:41.212-03 │\n",
       "│ transform_Operative_Rules │ transform_Operative_Rules │ documents-2024-12-08-8.json  │ {'doc_id': § 275.0-5, 'statement_id': 3, 'statement_title': Order Disposition, 'statement': An order disposing of the matter will be issued as of course following the expiration of the period of time referred to in paragraph (a) of this section, unless the Commission thereafter orders a hearing on the matter., 'statement_sources': [(b)], 'templates_ids': [T49], 'transformed': An order disposing of the matter may be issued as of course following the expiration of the period of time referred to in paragraph (a) of this section only unless the Commission thereafter orders a hearing on the matter., 'confidence': 0.9, 'reason': The transformation follows the T49 template structure, with the conditional clause 'unless the Commission thereafter orders a hearing on the matter' correctly applied. The verb phrase 'may be issued' aligns with the template's use of 'may' with 'only' for conditional actions.}                                                                                                                                                                                                                                                                                              │ 2024-12-18 00:39:41.212-03 │\n",
       "│ transform_Operative_Rules │ transform_Operative_Rules │ documents-2024-12-08-8.json  │ {'doc_id': § 275.0-5, 'statement_id': 4, 'statement_title': Hearing Order by Commission, 'statement': The Commission will order a hearing on the matter, if it appears that a hearing is necessary or appropriate in the public interest or for the protection of investors, upon the request of any interested person or upon its own motion., 'statement_sources': [(c)], 'templates_ids': [T50], 'transformed': A hearing on the matter may be ordered by the Commission only if it appears that a hearing is necessary or appropriate in the public interest or for the protection of investors, upon the request of any interested person or upon its own motion., 'confidence': 0.9, 'reason': The transformation follows the T50 template structure closely, with the subject term 'hearing on the matter', the verb phrase 'may be ordered by the Commission', and the conditional clause 'if it appears that a hearing is necessary or appropriate in the public interest or for the protection of investors, upon the request of any interested person or upon its own motion'. The structure and meaning are preserved, but the confidence is slightly reduced due to the complexity of the conditional clause.}               │ 2024-12-18 00:39:41.212-03 │\n",
       "│ transform_Operative_Rules │ transform_Operative_Rules │ documents-2024-12-08-9.json  │ {'doc_id': § 275.0-2, 'statement_id': 3, 'statement_title': Forwarding Copies to Named Parties, 'statement': The Secretary of the Commission (Secretary) will promptly forward a copy to each named party by registered or certified mail at that party's last address filed with the Commission., 'statement_sources': [(a)(2)], 'templates_ids': [T56], 'transformed': The Secretary of the Commission must forward a copy to each named party if the copy is by registered or certified mail at that party's last address filed with the Commission., 'confidence': 0.9, 'reason': The transformation follows the T56 template structure, with the responsibility signifier as 'The Secretary of the Commission', the verb phrase as 'forward a copy', and the party signifier as 'each named party'. The conditional clause is included to specify the method of forwarding and the address details.}                                                                                                                                                                                                                                                                                                                                 │ 2024-12-18 00:39:41.247-03 │\n",
       "│ transform_Operative_Rules │ transform_Operative_Rules │ documents-2024-12-08-9.json  │ {'doc_id': § 275.0-2, 'statement_id': 4, 'statement_title': Evidence of Service Certification, 'statement': If the Secretary certifies that the Commission was served with process, pleadings, or other papers pursuant to paragraph (a)(1) of this section and forwarded these documents to a named party pursuant to paragraph (a)(2) of this section, this certification constitutes evidence of service upon that party., 'statement_sources': [(a)(3)], 'templates_ids': [T56], 'transformed': The certification by the Secretary must constitute evidence of service upon a named party if the Secretary certifies that the Commission was served with process, pleadings, or other papers pursuant to paragraph (a)(1) of this section and forwarded these documents to a named party pursuant to paragraph (a)(2) of this section., 'confidence': 0.9, 'reason': The transformation follows the T56 template structure, accurately identifying the responsibility signifier, verb phrase, party signifier, and conditional clause. The placeholders were correctly replaced with the corresponding elements from the statement.}                                                                                                  │ 2024-12-18 00:39:41.247-03 │\n",
       "│ transform_Operative_Rules │ transform_Operative_Rules │ documents-2024-12-08-9.json  │ {'doc_id': § 275.0-5, 'statement_id': 1, 'statement_title': Notice of Proceeding Initiation, 'statement': Notice of the initiation of the proceeding will be published in the Federal Register and will indicate the earliest date upon which an order disposing of the matter may be entered., 'statement_sources': [(a)], 'templates_ids': [T48], 'transformed': The publication of notice for the initiation of the proceeding in the Federal Register must occur and indicate the earliest date upon which an order disposing of the matter may be entered., 'confidence': 0.9, 'reason': The transformation follows the T48 template structure, identifying the process term as 'publication of notice', the object term as 'initiation of the proceeding', and the time restriction as 'indicate the earliest date upon which an order disposing of the matter may be entered'. The transformation maintains the original meaning and context.}                                                                                                                                                                                                                                                                                     │ 2024-12-18 00:39:41.247-03 │\n",
       "│ transform_Operative_Rules │ transform_Operative_Rules │ documents-2024-12-08-9.json  │ {'doc_id': § 275.0-5, 'statement_id': 2, 'statement_title': Submission of Facts and Hearing Request, 'statement': Any interested person may, within the period of time specified therein, submit to the Commission in writing any facts bearing upon the desirability of a hearing on the matter and may request that a hearing be held, stating his reasons therefor and the nature of his interest in the matter., 'statement_sources': [(a)], 'templates_ids': [T53], 'transformed': An interested person may submit to the Commission in writing any facts bearing upon the desirability of a hearing on the matter only if the period of time specified therein is met, and may request that a hearing be held, stating his reasons therefor and the nature of his interest in the matter., 'confidence': 0.9, 'reason': The transformation follows the T53 template structure, identifying 'interested person' as the party signifier, 'submit to the Commission in writing any facts bearing upon the desirability of a hearing on the matter' as predicate 1, and 'the period of time specified therein is met' as predicate 2. The qualifying clause is included to specify the conditions under which the action may be taken.} │ 2024-12-18 00:39:41.247-03 │\n",
       "│ transform_Operative_Rules │ transform_Operative_Rules │ documents-2024-12-08-9.json  │ {'doc_id': § 275.0-5, 'statement_id': 3, 'statement_title': Order Disposition, 'statement': An order disposing of the matter will be issued as of course following the expiration of the period of time referred to in paragraph (a) of this section, unless the Commission thereafter orders a hearing on the matter., 'statement_sources': [(b)], 'templates_ids': [T49], 'transformed': An order disposing of the matter may be issued as of course following the expiration of the period of time referred to in paragraph (a) of this section only unless the Commission thereafter orders a hearing on the matter., 'confidence': 0.9, 'reason': The transformation follows the T49 template structure, with the conditional clause 'unless the Commission thereafter orders a hearing on the matter' correctly placed. The verb phrase 'may be issued' aligns with the template's use of 'may' with 'only' for conditional actions.}                                                                                                                                                                                                                                                                                               │ 2024-12-18 00:39:41.247-03 │\n",
       "│ transform_Operative_Rules │ transform_Operative_Rules │ documents-2024-12-08-9.json  │ {'doc_id': § 275.0-5, 'statement_id': 4, 'statement_title': Hearing Order by Commission, 'statement': The Commission will order a hearing on the matter, if it appears that a hearing is necessary or appropriate in the public interest or for the protection of investors, upon the request of any interested person or upon its own motion., 'statement_sources': [(c)], 'templates_ids': [T50], 'transformed': A hearing on the matter may be ordered by the Commission only if it appears that a hearing is necessary or appropriate in the public interest or for the protection of investors, upon the request of any interested person or upon its own motion., 'confidence': 0.9, 'reason': The transformation follows the T50 template structure, with the subject term 'hearing on the matter', verb phrase 'may be ordered by the Commission', and conditional clause 'if it appears that a hearing is necessary or appropriate in the public interest or for the protection of investors, upon the request of any interested person or upon its own motion'. The structure aligns well with the template, ensuring a high confidence level.}                                                                                 │ 2024-12-18 00:39:41.247-03 │\n",
       "├───────────────────────────┴───────────────────────────┴──────────────────────────────┴───────────────────────────────────────────────────────────────────────────────────────────────────────────────────────────────────────────────────────────────────────────────────────────────────────────────────────────────────────────────────────────────────────────────────────────────────────────────────────────────────────────────────────────────────────────────────────────────────────────────────────────────────────────────────────────────────────────────────────────────────────────────────────────────────────────────────────────────────────────────────────────────────────────────────────────────────────────────────────────────────────────────────────────────────────────────────────────────────────────────────────────────────────────────────────────────────────────────────────────────────────────────────────────────────────────────────────────────────────────────────────────────────────────────────────────────────────────────────────────────────────────────────────────────────────────────────────────────────────────────────────────────────────────────────────────────────────────────────────────────────────────────────────────────────────────────────────────────────────────┴────────────────────────────┤\n",
       "│ 60 rows (20 shown)                                                                                                                                                                                                                                                                                                                                                                                                                                                                                                                                                                                                                                                                                                                                                                                                                                                                                                                                                                                                                                                                                                                                                                                                                                                                                                                                  5 columns │\n",
       "└───────────────────────────────────────────────────────────────────────────────────────────────────────────────────────────────────────────────────────────────────────────────────────────────────────────────────────────────────────────────────────────────────────────────────────────────────────────────────────────────────────────────────────────────────────────────────────────────────────────────────────────────────────────────────────────────────────────────────────────────────────────────────────────────────────────────────────────────────────────────────────────────────────────────────────────────────────────────────────────────────────────────────────────────────────────────────────────────────────────────────────────────────────────────────────────────────────────────────────────────────────────────────────────────────────────────────────────────────────────────────────────────────────────────────────────────────────────────────────────────────────────────────────────────────────────────────────────────────────────────────────────────────────────────────────────────────────────────────────────────────────────────────────────────────────────────────────────────────────────────────────────────────────────────────────────────────────────────────────────────────────────────────────────────┘"
      ]
     },
     "execution_count": 73,
     "metadata": {},
     "output_type": "execute_result"
    }
   ],
   "source": [
    "query = \"\"\"\n",
    "SELECT *\n",
    "FROM RAW_TRANSFORM_OPERATIVE_RULES\n",
    ";\n",
    "\"\"\"\n",
    "\n",
    "conn.sql(query)"
   ]
  },
  {
   "cell_type": "markdown",
   "metadata": {},
   "source": [
    "### Terms"
   ]
  },
  {
   "cell_type": "markdown",
   "metadata": {},
   "source": [
    "Pred table"
   ]
  },
  {
   "cell_type": "code",
   "execution_count": 74,
   "metadata": {},
   "outputs": [
    {
     "name": "stdout",
     "output_type": "stream",
     "text": [
      "cfr2sbvr_db/evaluation/documents-2024-12-08-1.json\n",
      "transform_Terms|llm_response_transform\n",
      "_query_drop_table='\\n        DROP TABLE IF EXISTS RAW_TRANSFORM_TERMS;\\n        '\n",
      "Trying to drop table because drop parameter is True\n",
      "Table RAW_TRANSFORM_TERMS dropped\n",
      "_query_insert_data='\\n    INSERT INTO RAW_TRANSFORM_TERMS (id, prompt, file_source, content, created_at)\\n    SELECT \\n        id, \\n        \\'transform_Terms\\' as prompt, \\n        \\'documents-2024-12-08-1.json\\' as file_source, \\n        unnest(content) as content,\\n        now() as created_at\\n    FROM \\n        read_json_auto(\"temp/documents-2024-12-08-1.json\");\\n    '\n",
      "Trying to insert into RAW_TRANSFORM_TERMS\n",
      "Catalog Error: Table with name RAW_TRANSFORM_TERMS does not exist!\n",
      "Did you mean \"database_v3.RAW_TRANSFORM_TERMS\"?\n",
      "Failed to insert, trying create RAW_TRANSFORM_TERMS\n",
      "_query_create_table='\\n        CREATE TABLE RAW_TRANSFORM_TERMS AS\\n        SELECT id, \\n        \\'transform_Terms\\' as prompt, \\n        \\'documents-2024-12-08-1.json\\' as file_source, \\n        unnest(content) as content,\\n        now() as \\'created_at\\'\\n        FROM read_json_auto(\"temp/documents-2024-12-08-1.json\");\\n        '\n",
      "Table RAW_TRANSFORM_TERMS created and loaded.\n",
      "cfr2sbvr_db/evaluation/documents-2024-12-08-10.json\n",
      "transform_Terms|llm_response_transform\n",
      "_query_insert_data='\\n    INSERT INTO RAW_TRANSFORM_TERMS (id, prompt, file_source, content, created_at)\\n    SELECT \\n        id, \\n        \\'transform_Terms\\' as prompt, \\n        \\'documents-2024-12-08-10.json\\' as file_source, \\n        unnest(content) as content,\\n        now() as created_at\\n    FROM \\n        read_json_auto(\"temp/documents-2024-12-08-10.json\");\\n    '\n",
      "Trying to insert into RAW_TRANSFORM_TERMS\n",
      "Data inserted into RAW_TRANSFORM_TERMS.\n",
      "cfr2sbvr_db/evaluation/documents-2024-12-08-2.json\n",
      "transform_Terms|llm_response_transform\n",
      "_query_insert_data='\\n    INSERT INTO RAW_TRANSFORM_TERMS (id, prompt, file_source, content, created_at)\\n    SELECT \\n        id, \\n        \\'transform_Terms\\' as prompt, \\n        \\'documents-2024-12-08-2.json\\' as file_source, \\n        unnest(content) as content,\\n        now() as created_at\\n    FROM \\n        read_json_auto(\"temp/documents-2024-12-08-2.json\");\\n    '\n",
      "Trying to insert into RAW_TRANSFORM_TERMS\n",
      "Data inserted into RAW_TRANSFORM_TERMS.\n",
      "cfr2sbvr_db/evaluation/documents-2024-12-08-3.json\n",
      "transform_Terms|llm_response_transform\n",
      "_query_insert_data='\\n    INSERT INTO RAW_TRANSFORM_TERMS (id, prompt, file_source, content, created_at)\\n    SELECT \\n        id, \\n        \\'transform_Terms\\' as prompt, \\n        \\'documents-2024-12-08-3.json\\' as file_source, \\n        unnest(content) as content,\\n        now() as created_at\\n    FROM \\n        read_json_auto(\"temp/documents-2024-12-08-3.json\");\\n    '\n",
      "Trying to insert into RAW_TRANSFORM_TERMS\n",
      "Data inserted into RAW_TRANSFORM_TERMS.\n",
      "cfr2sbvr_db/evaluation/documents-2024-12-08-4.json\n",
      "transform_Terms|llm_response_transform\n",
      "_query_insert_data='\\n    INSERT INTO RAW_TRANSFORM_TERMS (id, prompt, file_source, content, created_at)\\n    SELECT \\n        id, \\n        \\'transform_Terms\\' as prompt, \\n        \\'documents-2024-12-08-4.json\\' as file_source, \\n        unnest(content) as content,\\n        now() as created_at\\n    FROM \\n        read_json_auto(\"temp/documents-2024-12-08-4.json\");\\n    '\n",
      "Trying to insert into RAW_TRANSFORM_TERMS\n",
      "Data inserted into RAW_TRANSFORM_TERMS.\n",
      "cfr2sbvr_db/evaluation/documents-2024-12-08-5.json\n",
      "transform_Terms|llm_response_transform\n",
      "_query_insert_data='\\n    INSERT INTO RAW_TRANSFORM_TERMS (id, prompt, file_source, content, created_at)\\n    SELECT \\n        id, \\n        \\'transform_Terms\\' as prompt, \\n        \\'documents-2024-12-08-5.json\\' as file_source, \\n        unnest(content) as content,\\n        now() as created_at\\n    FROM \\n        read_json_auto(\"temp/documents-2024-12-08-5.json\");\\n    '\n",
      "Trying to insert into RAW_TRANSFORM_TERMS\n",
      "Data inserted into RAW_TRANSFORM_TERMS.\n",
      "cfr2sbvr_db/evaluation/documents-2024-12-08-6.json\n",
      "transform_Terms|llm_response_transform\n",
      "_query_insert_data='\\n    INSERT INTO RAW_TRANSFORM_TERMS (id, prompt, file_source, content, created_at)\\n    SELECT \\n        id, \\n        \\'transform_Terms\\' as prompt, \\n        \\'documents-2024-12-08-6.json\\' as file_source, \\n        unnest(content) as content,\\n        now() as created_at\\n    FROM \\n        read_json_auto(\"temp/documents-2024-12-08-6.json\");\\n    '\n",
      "Trying to insert into RAW_TRANSFORM_TERMS\n",
      "Data inserted into RAW_TRANSFORM_TERMS.\n",
      "cfr2sbvr_db/evaluation/documents-2024-12-08-7.json\n",
      "transform_Terms|llm_response_transform\n",
      "_query_insert_data='\\n    INSERT INTO RAW_TRANSFORM_TERMS (id, prompt, file_source, content, created_at)\\n    SELECT \\n        id, \\n        \\'transform_Terms\\' as prompt, \\n        \\'documents-2024-12-08-7.json\\' as file_source, \\n        unnest(content) as content,\\n        now() as created_at\\n    FROM \\n        read_json_auto(\"temp/documents-2024-12-08-7.json\");\\n    '\n",
      "Trying to insert into RAW_TRANSFORM_TERMS\n",
      "Data inserted into RAW_TRANSFORM_TERMS.\n",
      "cfr2sbvr_db/evaluation/documents-2024-12-08-8.json\n",
      "transform_Terms|llm_response_transform\n",
      "_query_insert_data='\\n    INSERT INTO RAW_TRANSFORM_TERMS (id, prompt, file_source, content, created_at)\\n    SELECT \\n        id, \\n        \\'transform_Terms\\' as prompt, \\n        \\'documents-2024-12-08-8.json\\' as file_source, \\n        unnest(content) as content,\\n        now() as created_at\\n    FROM \\n        read_json_auto(\"temp/documents-2024-12-08-8.json\");\\n    '\n",
      "Trying to insert into RAW_TRANSFORM_TERMS\n",
      "Data inserted into RAW_TRANSFORM_TERMS.\n",
      "cfr2sbvr_db/evaluation/documents-2024-12-08-9.json\n",
      "transform_Terms|llm_response_transform\n",
      "_query_insert_data='\\n    INSERT INTO RAW_TRANSFORM_TERMS (id, prompt, file_source, content, created_at)\\n    SELECT \\n        id, \\n        \\'transform_Terms\\' as prompt, \\n        \\'documents-2024-12-08-9.json\\' as file_source, \\n        unnest(content) as content,\\n        now() as created_at\\n    FROM \\n        read_json_auto(\"temp/documents-2024-12-08-9.json\");\\n    '\n",
      "Trying to insert into RAW_TRANSFORM_TERMS\n",
      "Data inserted into RAW_TRANSFORM_TERMS.\n"
     ]
    }
   ],
   "source": [
    "# Define the directory and pattern\n",
    "directory = Path(\"cfr2sbvr_db/evaluation\")\n",
    "pattern = \"documents-*.json\"\n",
    "\n",
    "# Use glob to find all files matching the pattern\n",
    "files = directory.glob(pattern)\n",
    "\n",
    "drop=True # Drop the table first time\n",
    "for file_path in files:\n",
    "    print(file_path)  # Output each file path\n",
    "    upsert_table_from_json(\n",
    "        conn,\n",
    "        suffix_key_pattern=\"transform_Terms|llm_response_transform\",\n",
    "        prefix_key_pattern=\"\",\n",
    "        table_name=\"RAW_TRANSFORM_TERMS\",\n",
    "        source=file_path,\n",
    "        key_value=\"transform_Terms\",\n",
    "        drop=drop,\n",
    "        content_key=\"content\",\n",
    "        alias=\"content\",\n",
    "        doc_id_key=\"id\"\n",
    "    )\n",
    "    drop=False # Stop dropping tables"
   ]
  },
  {
   "cell_type": "code",
   "execution_count": 75,
   "metadata": {},
   "outputs": [
    {
     "data": {
      "text/plain": [
       "┌─────────────────┬─────────────────┬─────────────────────────────┬──────────────────────────────────────────────────────────────────────────────────────────────────────────────────────────────────────────────────────────────────────────────────────────────────────────────────────────────────────────────────────────────────────────────────────────────────────────────────────────────────────────────────────────────────────────────────────────────────────────────────────────────────────────────────────────────────────────────────────────────────────────────────────────────────────────────────────────────────────────────────────────────────────────────────────────────────────────────────────────────────────────────────────────────────────────────────────────────────────────────────────────────────────────────────────────────────────────────────────────────────────────────────────────────────────────────────────────────────────────────────────────────────────────────────────────────────────────────────────────────────────────────────────────────────────────────────────────────────────────────────────────────────────────────────────────────────────────────────────────────────────────────────────────────────────────────────────────┬────────────────────────────┐\n",
       "│       id        │     prompt      │         file_source         │                                                                                                                                                                                                                                                                                                                                                                                                                                                                                                                                                                                                         content                                                                                                                                                                                                                                                                                                                                                                                                                                                                                                                                                                                                          │         created_at         │\n",
       "│     varchar     │     varchar     │           varchar           │                                                                                                                                                                                                                                                                                                                                                                                                                                                                                                         struct(doc_id varchar, statement_id varchar, statement_title varchar, \"statement\" varchar, statement_sources varchar[], templates_ids varchar[], transformed varchar, confidence double, reason varchar)                                                                                                                                                                                                                                                                                                                                                                                                                                                                                                         │  timestamp with time zone  │\n",
       "├─────────────────┼─────────────────┼─────────────────────────────┼──────────────────────────────────────────────────────────────────────────────────────────────────────────────────────────────────────────────────────────────────────────────────────────────────────────────────────────────────────────────────────────────────────────────────────────────────────────────────────────────────────────────────────────────────────────────────────────────────────────────────────────────────────────────────────────────────────────────────────────────────────────────────────────────────────────────────────────────────────────────────────────────────────────────────────────────────────────────────────────────────────────────────────────────────────────────────────────────────────────────────────────────────────────────────────────────────────────────────────────────────────────────────────────────────────────────────────────────────────────────────────────────────────────────────────────────────────────────────────────────────────────────────────────────────────────────────────────────────────────────────────────────────────────────────────────────────────────────────────────────────────────────────────────────────────────────────────────┼────────────────────────────┤\n",
       "│ transform_Terms │ transform_Terms │ documents-2024-12-08-1.json │ {'doc_id': § 275.0-2, 'statement_id': Commission's records, 'statement_title': Commission's records, 'statement': Records maintained by the Commission, which include copies of process, pleadings, or other papers served., 'statement_sources': [(a)(1)], 'templates_ids': [T8], 'transformed': The Commission's records are by definition the records maintained by the Commission, which include copies of process, pleadings, or other papers served., 'confidence': 0.9, 'reason': The transformation follows the T8 template structure, accurately substituting placeholders with the terms from the original statement. The definition is clear and maintains the original meaning.}                                                                                                                                                                                                                                                                                                                                                                                                                                                                                                                             │ 2024-12-18 00:39:41.313-03 │\n",
       "│ transform_Terms │ transform_Terms │ documents-2024-12-08-1.json │ {'doc_id': § 275.0-2, 'statement_id': Evidence of service, 'statement_title': Evidence of service, 'statement': The certification by the Secretary that the Commission was served with process, pleadings, or other papers and forwarded these documents to a named party., 'statement_sources': [(a)(3)], 'templates_ids': [T8], 'transformed': An evidence of service is by definition the certification by the Secretary that the Commission was served with process, pleadings, or other papers, or forwarded these documents to a named party., 'confidence': 0.9, 'reason': The transformation follows the T8 template structure, identifying 'evidence of service' as the term being defined and listing the hyponyms 'the certification by the Secretary that the Commission was served with process, pleadings, or other papers' and 'forwarded these documents to a named party'. The transformation maintains the original meaning and structure.}                                                                                                                                                                                                                                                            │ 2024-12-18 00:39:41.313-03 │\n",
       "│ transform_Terms │ transform_Terms │ documents-2024-12-08-1.json │ {'doc_id': § 275.0-2, 'statement_id': Managing agent, 'statement_title': Managing agent, 'statement': Any person, including a trustee, who directs or manages, or who participates in directing or managing, the affairs of any unincorporated organization or association other than a partnership., 'statement_sources': [(b)(1)], 'templates_ids': [T7], 'transformed': A managing agent is by definition a person who directs or manages, or who participates in directing or managing, the affairs of any unincorporated organization or association other than a partnership., 'confidence': 0.9, 'reason': The transformation follows the T7 template structure, identifying 'managing agent' as the term being defined and 'person' as the hypernym. The qualifying clause accurately describes the characteristics of a managing agent.}                                                                                                                                                                                                                                                                                                                                                                        │ 2024-12-18 00:39:41.313-03 │\n",
       "│ transform_Terms │ transform_Terms │ documents-2024-12-08-1.json │ {'doc_id': § 275.0-2, 'statement_id': Non-resident, 'statement_title': Non-resident, 'statement': An individual, corporation, partnership, or other unincorporated organization or association that resides or has its principal office and place of business in any place not subject to the jurisdiction of the United States., 'statement_sources': [(b)(2)], 'templates_ids': [T7], 'transformed': A non-resident is by definition an individual, corporation, partnership, or other unincorporated organization or association that resides or has its principal office and place of business in any place not subject to the jurisdiction of the United States., 'confidence': 0.9, 'reason': The transformation follows the T7 template structure, accurately identifying the term 'non-resident' and its qualifying clause, which describes the conditions that define a non-resident.}                                                                                                                                                                                                                                                                                                                          │ 2024-12-18 00:39:41.313-03 │\n",
       "│ transform_Terms │ transform_Terms │ documents-2024-12-08-1.json │ {'doc_id': § 275.0-5, 'statement_id': Order disposing of the matter, 'statement_title': Order disposing of the matter, 'statement': An order issued after the period of time for submitting facts or requesting a hearing has expired., 'statement_sources': [(b), (a)], 'templates_ids': [T7], 'transformed': An order is by definition the order that is issued after the period of time for submitting facts or requesting a hearing has expired., 'confidence': 0.9, 'reason': The transformation follows the T7 template structure, with 'order' as <term 1>, 'order' as <term 3>, and the qualifying clause 'that is issued after the period of time for submitting facts or requesting a hearing has expired' correctly applied.}                                                                                                                                                                                                                                                                                                                                                                                                                                                                                 │ 2024-12-18 00:39:41.313-03 │\n",
       "│ transform_Terms │ transform_Terms │ documents-2024-12-08-1.json │ {'doc_id': § 275.0-5, 'statement_id': Notice, 'statement_title': Notice, 'statement': A publication in the Federal Register indicating the initiation of the proceeding and the earliest date for an order., 'statement_sources': [(a)], 'templates_ids': [T7], 'transformed': A Notice is by definition a publication in the Federal Register that indicates the initiation of the proceeding and the earliest date for an order., 'confidence': 0.9, 'reason': The transformation follows the T7 template structure, with 'Notice' as <term 1>, 'publication in the Federal Register' as <term 3>, and the qualifying clause 'that indicates the initiation of the proceeding and the earliest date for an order' correctly applied.}                                                                                                                                                                                                                                                                                                                                                                                                                                                                                  │ 2024-12-18 00:39:41.313-03 │\n",
       "│ transform_Terms │ transform_Terms │ documents-2024-12-08-1.json │ {'doc_id': § 275.0-5, 'statement_id': Initiation of the proceeding, 'statement_title': Initiation of the proceeding, 'statement': The process that begins when a notice is published in the Federal Register indicating the earliest date upon which an order disposing of the matter may be entered., 'statement_sources': [(a)], 'templates_ids': [T7], 'transformed': An initiation of the proceeding is by definition the process that begins when a notice is published in the Federal Register indicating the earliest date upon which an order disposing of the matter may be entered., 'confidence': 0.9, 'reason': The transformation follows the T7 template structure, with 'initiation of the proceeding' as <term 1>, 'the process' as <term 3>, and the rest of the statement fitting the <qualifying clause> structure. The transformation maintains the original meaning and structure.}                                                                                                                                                                                                                                                                                                                 │ 2024-12-18 00:39:41.313-03 │\n",
       "│ transform_Terms │ transform_Terms │ documents-2024-12-08-1.json │ {'doc_id': § 275.0-5, 'statement_id': Order, 'statement_title': Order, 'statement': A decision issued by the Commission disposing of the matter., 'statement_sources': [(d), (b), (a)], 'templates_ids': [T7], 'transformed': An Order is by definition a decision that is issued by the Commission disposing of the matter., 'confidence': 0.9, 'reason': The transformation follows the T7 template structure, with 'Order' as <term 1>, 'decision' as <term 3>, and the qualifying clause 'that is issued by the Commission disposing of the matter' correctly applied.}                                                                                                                                                                                                                                                                                                                                                                                                                                                                                                                                                                                                                                              │ 2024-12-18 00:39:41.313-03 │\n",
       "│ transform_Terms │ transform_Terms │ documents-2024-12-08-1.json │ {'doc_id': § 275.0-5, 'statement_id': Matter, 'statement_title': Matter, 'statement': The subject of the proceeding initiated by the filing of an application or the Commission's motion., 'statement_sources': [(b), (c), (a)], 'templates_ids': [T7], 'transformed': A matter is by definition the subject of the proceeding initiated by the filing of an application or the Commission's motion., 'confidence': 0.9, 'reason': The transformation follows the T7 template structure, where 'Matter' is the term being defined, and 'the subject of the proceeding initiated by the filing of an application or the Commission's motion' serves as the qualifying clause. The transformation maintains the original meaning and structure.}                                                                                                                                                                                                                                                                                                                                                                                                                                                                           │ 2024-12-18 00:39:41.313-03 │\n",
       "│ transform_Terms │ transform_Terms │ documents-2024-12-08-1.json │ {'doc_id': § 275.0-5, 'statement_id': Interested person, 'statement_title': Interested person, 'statement': Any person who may submit facts or request a hearing on the matter., 'statement_sources': [(c), (a)], 'templates_ids': [T7], 'transformed': An interested person is by definition a person who may submit facts or request a hearing on the matter., 'confidence': 0.9, 'reason': The transformation follows the T7 template structure, with 'interested person' as <term 1>, 'person' as <term 3>, and the qualifying clause 'who may submit facts or request a hearing on the matter' correctly applied.}                                                                                                                                                                                                                                                                                                                                                                                                                                                                                                                                                                                                  │ 2024-12-18 00:39:41.313-03 │\n",
       "│        ·        │        ·        │              ·              │                                                                                                                                                                                                                                                                                       ·                                                                                                                                                                                                                                                                                                                                                                                                                                                                                                                                                                                                                                                                                                                                                                                                                                                                                                                                  │             ·              │\n",
       "│        ·        │        ·        │              ·              │                                                                                                                                                                                                                                                                                       ·                                                                                                                                                                                                                                                                                                                                                                                                                                                                                                                                                                                                                                                                                                                                                                                                                                                                                                                                  │             ·              │\n",
       "│        ·        │        ·        │              ·              │                                                                                                                                                                                                                                                                                       ·                                                                                                                                                                                                                                                                                                                                                                                                                                                                                                                                                                                                                                                                                                                                                                                                                                                                                                                                  │             ·              │\n",
       "│ transform_Terms │ transform_Terms │ documents-2024-12-08-9.json │ {'doc_id': § 275.0-5, 'statement_id': Order of the Commission, 'statement_title': Order of the Commission, 'statement': An order issued by the Commission under the Act., 'statement_sources': [(d)], 'templates_ids': [T7], 'transformed': An order is by definition the order issued by the Commission under the Act., 'confidence': 0.9, 'reason': The transformation follows the T7 template structure, with 'order' as <term 1>, 'order issued by the Commission under the Act' as <term 3> with a qualifying clause. The transformation maintains the original meaning.}                                                                                                                                                                                                                                                                                                                                                                                                                                                                                                                                                                                                                                           │ 2024-12-18 00:39:41.716-03 │\n",
       "│ transform_Terms │ transform_Terms │ documents-2024-12-08-9.json │ {'doc_id': § 275.0-5, 'statement_id': Application, 'statement_title': Application, 'statement': Any application for an order of the Commission under the Act, excluding applications for registration as an investment adviser., 'statement_sources': [(d)], 'templates_ids': [T7], 'transformed': An application is by definition an order of the Commission under the Act other than applications for registration as an investment adviser., 'confidence': 0.9, 'reason': The transformation follows the T7 template structure, identifying 'application' as the term being defined and 'order of the Commission under the Act' as the hypernym. The qualifying clause 'excluding applications for registration as an investment adviser' is correctly transformed using the 'other than' structure from S14.}                                                                                                                                                                                                                                                                                                                                                                                                        │ 2024-12-18 00:39:41.716-03 │\n",
       "│ transform_Terms │ transform_Terms │ documents-2024-12-08-9.json │ {'doc_id': § 275.0-7, 'statement_id': Small business, 'statement_title': Small business, 'statement': An investment adviser with assets under management of less than $25 million, or such higher amount as the Commission may deem appropriate, and other specific conditions., 'statement_sources': [(a)], 'templates_ids': [T15], 'transformed': The assets under management of an investment adviser is by definition less than $25 million, or such higher amount as the Commission may deem appropriate., 'confidence': 0.9, 'reason': The transformation follows the T15 template structure, using the inequality operator 'less than' and including the optional clause for higher amounts as per the Commission's discretion. The transformation accurately reflects the original statement's intent.}                                                                                                                                                                                                                                                                                                                                                                                                          │ 2024-12-18 00:39:41.716-03 │\n",
       "│ transform_Terms │ transform_Terms │ documents-2024-12-08-9.json │ {'doc_id': § 275.0-7, 'statement_id': Small organization, 'statement_title': Small organization, 'statement': An investment adviser with assets under management of less than $25 million, or such higher amount as the Commission may deem appropriate, and other specific conditions., 'statement_sources': [(a)], 'templates_ids': [T15], 'transformed': The assets under management of an investment adviser is by definition less than $25 million, or such higher amount as the Commission may deem appropriate., 'confidence': 0.9, 'reason': The transformation follows the T15 template structure, using the inequality operator 'less than' and including the optional clause for higher amounts as per the Commission's discretion. The transformation accurately reflects the original statement's intent.}                                                                                                                                                                                                                                                                                                                                                                                                  │ 2024-12-18 00:39:41.716-03 │\n",
       "│ transform_Terms │ transform_Terms │ documents-2024-12-08-9.json │ {'doc_id': § 275.0-7, 'statement_id': Total assets, 'statement_title': Total assets, 'statement': The total assets as shown on the balance sheet of the investment adviser or other person described, or the balance sheet of the investment adviser or such other person with its subsidiaries consolidated, whichever is larger., 'statement_sources': [(a)(2), (b)(2)], 'templates_ids': [T16], 'transformed': The total assets of an investment adviser or other person is by definition calculated as the larger of the total assets shown on the balance sheet of the investment adviser or other person, or the balance sheet of the investment adviser or such other person with its subsidiaries consolidated., 'confidence': 0.9, 'reason': The transformation follows the T16 template structure, accurately substituting placeholders with terms from the original statement. The expression is correctly identified and transformed, maintaining the logical meaning of the original statement.}                                                                                                                                                                                                            │ 2024-12-18 00:39:41.716-03 │\n",
       "│ transform_Terms │ transform_Terms │ documents-2024-12-08-9.json │ {'doc_id': § 275.0-7, 'statement_id': Control, 'statement_title': Control, 'statement': The power, directly or indirectly, to direct the management or policies of a person, whether through ownership of securities, by contract, or otherwise., 'statement_sources': [(a)(3), (b)(1)], 'templates_ids': [T7], 'transformed': A power is by definition the ability that directly or indirectly directs the management or policies of a person, whether through ownership of securities, by contract, or otherwise., 'confidence': 0.9, 'reason': The transformation follows the T7 template by defining 'power' as a category of 'ability' with a qualifying clause that specifies the means of directing management or policies. The structure aligns well with the template, but the original statement's complexity and indirect phrasing slightly reduce confidence.}                                                                                                                                                                                                                                                                                                                                               │ 2024-12-18 00:39:41.716-03 │\n",
       "│ transform_Terms │ transform_Terms │ documents-2024-12-08-9.json │ {'doc_id': § 275.0-7, 'statement_id': Right to vote, 'statement_title': Right to vote, 'statement': A person is presumed to control a corporation if the person directly or indirectly has the right to vote 25 percent or more of a class of the corporation's voting securities., 'statement_sources': [(b)(1)(iii), (b)(1)(i)(A)], 'templates_ids': [T7], 'transformed': A person is by definition presumed to control a corporation that directly or indirectly has the right to vote 25 percent or more of a class of the corporation's voting securities., 'confidence': 0.9, 'reason': The transformation follows the T7 template structure, with 'person' as <term 1>, 'presumed to control a corporation' as <term 3>, and the qualifying clause 'that directly or indirectly has the right to vote 25 percent or more of a class of the corporation's voting securities.' The transformation maintains the original meaning and structure.}                                                                                                                                                                                                                                                                    │ 2024-12-18 00:39:41.716-03 │\n",
       "│ transform_Terms │ transform_Terms │ documents-2024-12-08-9.json │ {'doc_id': § 275.0-7, 'statement_id': Partnership, 'statement_title': Partnership, 'statement': A person is presumed to control a partnership if the person has the right to receive upon dissolution, or has contributed, 25 percent or more of the capital of the partnership., 'statement_sources': [(b)(1)(ii)], 'templates_ids': [T7], 'transformed': A person is by definition a controller of a partnership that has the right to receive upon dissolution or has contributed 25 percent or more of the capital of the partnership., 'confidence': 0.9, 'reason': The transformation follows the T7 template structure, with the term 'person' being defined as a 'controller of a partnership' with a qualifying clause that specifies the conditions under which this control is presumed. The qualifying clause is accurately captured using the options provided in subtemplate S14.}                                                                                                                                                                                                                                                                                                                         │ 2024-12-18 00:39:41.716-03 │\n",
       "│ transform_Terms │ transform_Terms │ documents-2024-12-08-9.json │ {'doc_id': § 275.0-7, 'statement_id': Limited liability company (LLC), 'statement_title': Limited liability company (LLC), 'statement': A person is presumed to control a limited liability company (LLC) if the person directly or indirectly has the right to vote 25 percent or more of a class of the interests of the LLC, has the right to receive upon dissolution, or has contributed, 25 percent or more of the capital of the LLC, or is an elected manager of the LLC., 'statement_sources': [(b)(1)(iii)], 'templates_ids': [T7], 'transformed': A limited liability company (LLC) is by definition a company that a person is presumed to control if the person directly or indirectly has the right to vote 25 percent or more of a class of the interests of the LLC, has the right to receive upon dissolution, or has contributed, 25 percent or more of the capital of the LLC, or is an elected manager of the LLC., 'confidence': 0.9, 'reason': The transformation follows the T7 template structure, accurately identifying the term, hypernym, and qualifying clause. The qualifying clause is complex but correctly captures the conditions under which a person is presumed to control an LLC.} │ 2024-12-18 00:39:41.716-03 │\n",
       "│ transform_Terms │ transform_Terms │ documents-2024-12-08-9.json │ {'doc_id': § 275.0-7, 'statement_id': Trust, 'statement_title': Trust, 'statement': A person is presumed to control a trust if the person is a trustee or managing agent of the trust., 'statement_sources': [(b)(1)(iv)], 'templates_ids': [T7], 'transformed': A person is by definition a controller of a trust that is presumed to control the trust if the person is a trustee or managing agent of the trust., 'confidence': 0.9, 'reason': The transformation follows the T7 template structure, with 'person' as <term 1>, 'controller' as <term 3>, and the qualifying clause specifying the condition under which the person is presumed to control the trust. The transformation maintains the original meaning and logical structure.}                                                                                                                                                                                                                                                                                                                                                                                                                                                                       │ 2024-12-18 00:39:41.716-03 │\n",
       "├─────────────────┴─────────────────┴─────────────────────────────┴──────────────────────────────────────────────────────────────────────────────────────────────────────────────────────────────────────────────────────────────────────────────────────────────────────────────────────────────────────────────────────────────────────────────────────────────────────────────────────────────────────────────────────────────────────────────────────────────────────────────────────────────────────────────────────────────────────────────────────────────────────────────────────────────────────────────────────────────────────────────────────────────────────────────────────────────────────────────────────────────────────────────────────────────────────────────────────────────────────────────────────────────────────────────────────────────────────────────────────────────────────────────────────────────────────────────────────────────────────────────────────────────────────────────────────────────────────────────────────────────────────────────────────────────────────────────────────────────────────────────────────────────────────────────────────────────────────────────────────────────────────────────────────────────────────────────────────────┴────────────────────────────┤\n",
       "│ 280 rows (20 shown)                                                                                                                                                                                                                                                                                                                                                                                                                                                                                                                                                                                                                                                                                                                                                                                                                                                                                                                                                                                                                                                                                                                                                                                                                                                                                           5 columns │\n",
       "└─────────────────────────────────────────────────────────────────────────────────────────────────────────────────────────────────────────────────────────────────────────────────────────────────────────────────────────────────────────────────────────────────────────────────────────────────────────────────────────────────────────────────────────────────────────────────────────────────────────────────────────────────────────────────────────────────────────────────────────────────────────────────────────────────────────────────────────────────────────────────────────────────────────────────────────────────────────────────────────────────────────────────────────────────────────────────────────────────────────────────────────────────────────────────────────────────────────────────────────────────────────────────────────────────────────────────────────────────────────────────────────────────────────────────────────────────────────────────────────────────────────────────────────────────────────────────────────────────────────────────────────────────────────────────────────────────────────────────────────────────────────────────────────────────────────────────────────────────────────────────────────────────────────────────────────────────────────────────────────┘"
      ]
     },
     "execution_count": 75,
     "metadata": {},
     "output_type": "execute_result"
    }
   ],
   "source": [
    "query = \"\"\"\n",
    "SELECT *\n",
    "FROM RAW_TRANSFORM_TERMS\n",
    ";\n",
    "\"\"\"\n",
    "\n",
    "conn.sql(query)"
   ]
  },
  {
   "cell_type": "markdown",
   "metadata": {},
   "source": [
    "### Names"
   ]
  },
  {
   "cell_type": "markdown",
   "metadata": {},
   "source": [
    "Pred table"
   ]
  },
  {
   "cell_type": "code",
   "execution_count": 76,
   "metadata": {},
   "outputs": [
    {
     "name": "stdout",
     "output_type": "stream",
     "text": [
      "cfr2sbvr_db/evaluation/documents-2024-12-08-1.json\n",
      "transform_Names|llm_response_transform\n",
      "_query_drop_table='\\n        DROP TABLE IF EXISTS RAW_TRANSFORM_NAMES;\\n        '\n",
      "Trying to drop table because drop parameter is True\n",
      "Table RAW_TRANSFORM_NAMES dropped\n",
      "_query_insert_data='\\n    INSERT INTO RAW_TRANSFORM_NAMES (id, prompt, file_source, content, created_at)\\n    SELECT \\n        id, \\n        \\'transform_Names\\' as prompt, \\n        \\'documents-2024-12-08-1.json\\' as file_source, \\n        unnest(content) as content,\\n        now() as created_at\\n    FROM \\n        read_json_auto(\"temp/documents-2024-12-08-1.json\");\\n    '\n",
      "Trying to insert into RAW_TRANSFORM_NAMES\n",
      "Catalog Error: Table with name RAW_TRANSFORM_NAMES does not exist!\n",
      "Did you mean \"database_v3.RAW_TRANSFORM_NAMES\"?\n",
      "Failed to insert, trying create RAW_TRANSFORM_NAMES\n",
      "_query_create_table='\\n        CREATE TABLE RAW_TRANSFORM_NAMES AS\\n        SELECT id, \\n        \\'transform_Names\\' as prompt, \\n        \\'documents-2024-12-08-1.json\\' as file_source, \\n        unnest(content) as content,\\n        now() as \\'created_at\\'\\n        FROM read_json_auto(\"temp/documents-2024-12-08-1.json\");\\n        '\n",
      "Table RAW_TRANSFORM_NAMES created and loaded.\n",
      "cfr2sbvr_db/evaluation/documents-2024-12-08-10.json\n",
      "transform_Names|llm_response_transform\n",
      "_query_insert_data='\\n    INSERT INTO RAW_TRANSFORM_NAMES (id, prompt, file_source, content, created_at)\\n    SELECT \\n        id, \\n        \\'transform_Names\\' as prompt, \\n        \\'documents-2024-12-08-10.json\\' as file_source, \\n        unnest(content) as content,\\n        now() as created_at\\n    FROM \\n        read_json_auto(\"temp/documents-2024-12-08-10.json\");\\n    '\n",
      "Trying to insert into RAW_TRANSFORM_NAMES\n",
      "Data inserted into RAW_TRANSFORM_NAMES.\n",
      "cfr2sbvr_db/evaluation/documents-2024-12-08-2.json\n",
      "transform_Names|llm_response_transform\n",
      "_query_insert_data='\\n    INSERT INTO RAW_TRANSFORM_NAMES (id, prompt, file_source, content, created_at)\\n    SELECT \\n        id, \\n        \\'transform_Names\\' as prompt, \\n        \\'documents-2024-12-08-2.json\\' as file_source, \\n        unnest(content) as content,\\n        now() as created_at\\n    FROM \\n        read_json_auto(\"temp/documents-2024-12-08-2.json\");\\n    '\n",
      "Trying to insert into RAW_TRANSFORM_NAMES\n",
      "Data inserted into RAW_TRANSFORM_NAMES.\n",
      "cfr2sbvr_db/evaluation/documents-2024-12-08-3.json\n",
      "transform_Names|llm_response_transform\n",
      "_query_insert_data='\\n    INSERT INTO RAW_TRANSFORM_NAMES (id, prompt, file_source, content, created_at)\\n    SELECT \\n        id, \\n        \\'transform_Names\\' as prompt, \\n        \\'documents-2024-12-08-3.json\\' as file_source, \\n        unnest(content) as content,\\n        now() as created_at\\n    FROM \\n        read_json_auto(\"temp/documents-2024-12-08-3.json\");\\n    '\n",
      "Trying to insert into RAW_TRANSFORM_NAMES\n",
      "Data inserted into RAW_TRANSFORM_NAMES.\n",
      "cfr2sbvr_db/evaluation/documents-2024-12-08-4.json\n",
      "transform_Names|llm_response_transform\n",
      "_query_insert_data='\\n    INSERT INTO RAW_TRANSFORM_NAMES (id, prompt, file_source, content, created_at)\\n    SELECT \\n        id, \\n        \\'transform_Names\\' as prompt, \\n        \\'documents-2024-12-08-4.json\\' as file_source, \\n        unnest(content) as content,\\n        now() as created_at\\n    FROM \\n        read_json_auto(\"temp/documents-2024-12-08-4.json\");\\n    '\n",
      "Trying to insert into RAW_TRANSFORM_NAMES\n",
      "Data inserted into RAW_TRANSFORM_NAMES.\n",
      "cfr2sbvr_db/evaluation/documents-2024-12-08-5.json\n",
      "transform_Names|llm_response_transform\n",
      "_query_insert_data='\\n    INSERT INTO RAW_TRANSFORM_NAMES (id, prompt, file_source, content, created_at)\\n    SELECT \\n        id, \\n        \\'transform_Names\\' as prompt, \\n        \\'documents-2024-12-08-5.json\\' as file_source, \\n        unnest(content) as content,\\n        now() as created_at\\n    FROM \\n        read_json_auto(\"temp/documents-2024-12-08-5.json\");\\n    '\n",
      "Trying to insert into RAW_TRANSFORM_NAMES\n",
      "Data inserted into RAW_TRANSFORM_NAMES.\n",
      "cfr2sbvr_db/evaluation/documents-2024-12-08-6.json\n",
      "transform_Names|llm_response_transform\n",
      "_query_insert_data='\\n    INSERT INTO RAW_TRANSFORM_NAMES (id, prompt, file_source, content, created_at)\\n    SELECT \\n        id, \\n        \\'transform_Names\\' as prompt, \\n        \\'documents-2024-12-08-6.json\\' as file_source, \\n        unnest(content) as content,\\n        now() as created_at\\n    FROM \\n        read_json_auto(\"temp/documents-2024-12-08-6.json\");\\n    '\n",
      "Trying to insert into RAW_TRANSFORM_NAMES\n",
      "Data inserted into RAW_TRANSFORM_NAMES.\n",
      "cfr2sbvr_db/evaluation/documents-2024-12-08-7.json\n",
      "transform_Names|llm_response_transform\n",
      "_query_insert_data='\\n    INSERT INTO RAW_TRANSFORM_NAMES (id, prompt, file_source, content, created_at)\\n    SELECT \\n        id, \\n        \\'transform_Names\\' as prompt, \\n        \\'documents-2024-12-08-7.json\\' as file_source, \\n        unnest(content) as content,\\n        now() as created_at\\n    FROM \\n        read_json_auto(\"temp/documents-2024-12-08-7.json\");\\n    '\n",
      "Trying to insert into RAW_TRANSFORM_NAMES\n",
      "Data inserted into RAW_TRANSFORM_NAMES.\n",
      "cfr2sbvr_db/evaluation/documents-2024-12-08-8.json\n",
      "transform_Names|llm_response_transform\n",
      "_query_insert_data='\\n    INSERT INTO RAW_TRANSFORM_NAMES (id, prompt, file_source, content, created_at)\\n    SELECT \\n        id, \\n        \\'transform_Names\\' as prompt, \\n        \\'documents-2024-12-08-8.json\\' as file_source, \\n        unnest(content) as content,\\n        now() as created_at\\n    FROM \\n        read_json_auto(\"temp/documents-2024-12-08-8.json\");\\n    '\n",
      "Trying to insert into RAW_TRANSFORM_NAMES\n",
      "Data inserted into RAW_TRANSFORM_NAMES.\n",
      "cfr2sbvr_db/evaluation/documents-2024-12-08-9.json\n",
      "transform_Names|llm_response_transform\n",
      "_query_insert_data='\\n    INSERT INTO RAW_TRANSFORM_NAMES (id, prompt, file_source, content, created_at)\\n    SELECT \\n        id, \\n        \\'transform_Names\\' as prompt, \\n        \\'documents-2024-12-08-9.json\\' as file_source, \\n        unnest(content) as content,\\n        now() as created_at\\n    FROM \\n        read_json_auto(\"temp/documents-2024-12-08-9.json\");\\n    '\n",
      "Trying to insert into RAW_TRANSFORM_NAMES\n",
      "Data inserted into RAW_TRANSFORM_NAMES.\n"
     ]
    }
   ],
   "source": [
    "# Define the directory and pattern\n",
    "directory = Path(\"cfr2sbvr_db/evaluation\")\n",
    "pattern = \"documents-*.json\"\n",
    "\n",
    "# Use glob to find all files matching the pattern\n",
    "files = directory.glob(pattern)\n",
    "\n",
    "drop=True # Drop the table first time\n",
    "for file_path in files:\n",
    "    print(file_path)  # Output each file path\n",
    "    upsert_table_from_json(\n",
    "        conn,\n",
    "        suffix_key_pattern=\"transform_Names|llm_response_transform\",\n",
    "        prefix_key_pattern=\"\",\n",
    "        table_name=\"RAW_TRANSFORM_NAMES\",\n",
    "        source=file_path,\n",
    "        key_value=\"transform_Names\",\n",
    "        drop=drop,\n",
    "        content_key=\"content\",\n",
    "        alias=\"content\",\n",
    "        doc_id_key=\"id\"\n",
    "    )\n",
    "    drop=False # Stop dropping tables"
   ]
  },
  {
   "cell_type": "code",
   "execution_count": 77,
   "metadata": {},
   "outputs": [
    {
     "data": {
      "text/plain": [
       "┌─────────────────┬─────────────────┬──────────────────────────────┬──────────────────────────────────────────────────────────────────────────────────────────────────────────────────────────────────────────────────────────────────────────────────────────────────────────────────────────────────────────────────────────────────────────────────────────────────────────────────────────────────────────────────────────────────────────────────────────────────────────────────────────────────────────────────────────────────────────────────────────────────────────────────────────────────────────────────────────────────────────────────────────────────────────────────────────────────────────────────────────────────────────────────────────────────────────────────────────────────────────────────────────────────────────────────────────────────────────────────────────────────────────────┬────────────────────────────┐\n",
       "│       id        │     prompt      │         file_source          │                                                                                                                                                                                                                                                                                                                                                                                                                   content                                                                                                                                                                                                                                                                                                                                                                                                                    │         created_at         │\n",
       "│     varchar     │     varchar     │           varchar            │                                                                                                                                                                                                                                                                                                                   struct(doc_id varchar, statement_id varchar, statement_title varchar, \"statement\" varchar, statement_sources varchar[], templates_ids varchar[], transformed varchar, confidence double, reason varchar)                                                                                                                                                                                                                                                                                                                   │  timestamp with time zone  │\n",
       "├─────────────────┼─────────────────┼──────────────────────────────┼──────────────────────────────────────────────────────────────────────────────────────────────────────────────────────────────────────────────────────────────────────────────────────────────────────────────────────────────────────────────────────────────────────────────────────────────────────────────────────────────────────────────────────────────────────────────────────────────────────────────────────────────────────────────────────────────────────────────────────────────────────────────────────────────────────────────────────────────────────────────────────────────────────────────────────────────────────────────────────────────────────────────────────────────────────────────────────────────────────────────────────────────────────────────────────────────────────────────────────────────────────────────┼────────────────────────────┤\n",
       "│ transform_Names │ transform_Names │ documents-2024-12-08-1.json  │ {'doc_id': § 275.0-2, 'statement_id': Secretary of the Commission, 'statement_title': Secretary of the Commission, 'statement': The Secretary of the Commission is responsible for forwarding copies of process, pleadings, or other papers to each named party by registered or certified mail., 'statement_sources': [(a)(2)], 'templates_ids': [T7], 'transformed': A Secretary of the Commission is by definition a person who is responsible for forwarding copies of process, pleadings, or other papers to each named party by registered or certified mail., 'confidence': 0.9, 'reason': The transformation follows the T7 template structure, identifying 'Secretary of the Commission' as the term being defined and 'person' as the hypernym. The qualifying clause accurately describes the responsibilities of the Secretary.} │ 2024-12-18 00:39:41.782-03 │\n",
       "│ transform_Names │ transform_Names │ documents-2024-12-08-1.json  │ {'doc_id': § 275.0-2, 'statement_id': Secretary, 'statement_title': Secretary, 'statement': The Secretary of the Commission is responsible for forwarding copies of process, pleadings, or other papers to each named party by registered or certified mail., 'statement_sources': [(a)(3)], 'templates_ids': [T7], 'transformed': A Secretary of the Commission is by definition a person who is responsible for forwarding copies of process, pleadings, or other papers to each named party by registered or certified mail., 'confidence': 0.9, 'reason': The transformation follows the T7 template structure, identifying 'Secretary' as the term being defined and 'person' as the hypernym. The qualifying clause accurately describes the responsibilities of the Secretary.}                                                       │ 2024-12-18 00:39:41.782-03 │\n",
       "│ transform_Names │ transform_Names │ documents-2024-12-08-1.json  │ {'doc_id': § 275.0-5, 'statement_id': Federal Register, 'statement_title': Federal Register, 'statement': The official journal where the notice of initiation of the proceeding is published., 'statement_sources': [(a)], 'templates_ids': [T7], 'transformed': A Federal Register is by definition the official journal that publishes the notice of initiation of the proceeding., 'confidence': 0.9, 'reason': The transformation follows the T7 template structure, identifying 'Federal Register' as the term being defined, 'official journal' as the hypernym, and the qualifying clause 'that publishes the notice of initiation of the proceeding' to distinguish it. The transformation maintains the original meaning and structure.}                                                                                            │ 2024-12-18 00:39:41.782-03 │\n",
       "│ transform_Names │ transform_Names │ documents-2024-12-08-1.json  │ {'doc_id': § 275.0-5, 'statement_id': Commission, 'statement_title': Commission, 'statement': The regulatory body responsible for issuing orders and conducting hearings., 'statement_sources': [(d), (b), (c), (a)], 'templates_ids': [T7], 'transformed': A Commission is by definition a regulatory body that is responsible for issuing orders and conducting hearings., 'confidence': 0.9, 'reason': The transformation follows the T7 template structure, identifying 'Commission' as the term being defined and 'regulatory body' as the hypernym, with a qualifying clause detailing its responsibilities.}                                                                                                                                                                                                                          │ 2024-12-18 00:39:41.782-03 │\n",
       "│ transform_Names │ transform_Names │ documents-2024-12-08-1.json  │ {'doc_id': § 275.0-5, 'statement_id': Act, 'statement_title': Act, 'statement': The legislation under which the Commission operates and applications are filed., 'statement_sources': [(d)], 'templates_ids': [T7], 'transformed': An Act is by definition the legislation under which the Commission operates and applications are filed., 'confidence': 0.9, 'reason': The transformation follows the T7 template structure, with 'Act' as <term 1>, 'legislation' as <term 3>, and the qualifying clause 'under which the Commission operates and applications are filed' fitting the subtemplate S14. The transformation maintains the original meaning and structure.}                                                                                                                                                                  │ 2024-12-18 00:39:41.782-03 │\n",
       "│ transform_Names │ transform_Names │ documents-2024-12-08-10.json │ {'doc_id': § 275.0-2, 'statement_id': Secretary of the Commission, 'statement_title': Secretary of the Commission, 'statement': The Secretary of the Commission is responsible for forwarding copies of process, pleadings, or other papers to each named party by registered or certified mail., 'statement_sources': [(a)(2)], 'templates_ids': [T7], 'transformed': A Secretary of the Commission is by definition a person who is responsible for forwarding copies of process, pleadings, or other papers to each named party by registered or certified mail., 'confidence': 0.9, 'reason': The transformation follows the T7 template structure, identifying 'Secretary of the Commission' as the term being defined and 'person' as the hypernym. The qualifying clause accurately describes the responsibilities of the Secretary.} │ 2024-12-18 00:39:41.819-03 │\n",
       "│ transform_Names │ transform_Names │ documents-2024-12-08-10.json │ {'doc_id': § 275.0-2, 'statement_id': Secretary, 'statement_title': Secretary, 'statement': The Secretary of the Commission is responsible for forwarding copies of process, pleadings, or other papers to each named party by registered or certified mail., 'statement_sources': [(a)(3)], 'templates_ids': [T7], 'transformed': A Secretary of the Commission is by definition a person who is responsible for forwarding copies of process, pleadings, or other papers to each named party by registered or certified mail., 'confidence': 0.9, 'reason': The transformation follows the T7 template structure, identifying 'Secretary' as the term being defined and 'person' as the hypernym. The qualifying clause accurately describes the responsibilities of the Secretary.}                                                       │ 2024-12-18 00:39:41.819-03 │\n",
       "│ transform_Names │ transform_Names │ documents-2024-12-08-10.json │ {'doc_id': § 275.0-5, 'statement_id': Federal Register, 'statement_title': Federal Register, 'statement': The official journal where the notice of initiation of the proceeding is published., 'statement_sources': [(a)], 'templates_ids': [T7], 'transformed': A Federal Register is by definition the official journal that publishes the notice of initiation of the proceeding., 'confidence': 0.9, 'reason': The transformation follows the T7 template structure, identifying 'Federal Register' as the term being defined and 'official journal' as the hypernym. The qualifying clause 'that publishes the notice of initiation of the proceeding' is correctly applied.}                                                                                                                                                           │ 2024-12-18 00:39:41.819-03 │\n",
       "│ transform_Names │ transform_Names │ documents-2024-12-08-10.json │ {'doc_id': § 275.0-5, 'statement_id': Commission, 'statement_title': Commission, 'statement': The regulatory body responsible for issuing orders and conducting hearings., 'statement_sources': [(b), (a), (c), (d)], 'templates_ids': [T7], 'transformed': A Commission is by definition a regulatory body that is responsible for issuing orders and conducting hearings., 'confidence': 0.9, 'reason': The transformation follows the T7 template structure, with 'Commission' as <term 1>, 'regulatory body' as <term 3>, and the qualifying clause 'that is responsible for issuing orders and conducting hearings' fitting the S14 subtemplate. The transformation maintains the original meaning and structure.}                                                                                                                      │ 2024-12-18 00:39:41.819-03 │\n",
       "│ transform_Names │ transform_Names │ documents-2024-12-08-10.json │ {'doc_id': § 275.0-5, 'statement_id': Act, 'statement_title': Act, 'statement': The legislation under which the Commission operates and applications are filed., 'statement_sources': [(d)], 'templates_ids': [T7], 'transformed': An Act is by definition the legislation under which the Commission operates and applications are filed., 'confidence': 0.9, 'reason': The transformation follows the T7 template structure, with 'Act' as <term 1>, 'legislation' as <term 3>, and the qualifying clause 'under which the Commission operates and applications are filed' fitting the S14 subtemplate. The transformation maintains the original meaning and structure.}                                                                                                                                                                  │ 2024-12-18 00:39:41.819-03 │\n",
       "│        ·        │        ·        │              ·               │                                                                                                                                                                                                                                                                                                                                      ·                                                                                                                                                                                                                                                                                                                                                                                                                                                                                                       │             ·              │\n",
       "│        ·        │        ·        │              ·               │                                                                                                                                                                                                                                                                                                                                      ·                                                                                                                                                                                                                                                                                                                                                                                                                                                                                                       │             ·              │\n",
       "│        ·        │        ·        │              ·               │                                                                                                                                                                                                                                                                                                                                      ·                                                                                                                                                                                                                                                                                                                                                                                                                                                                                                       │             ·              │\n",
       "│ transform_Names │ transform_Names │ documents-2024-12-08-8.json  │ {'doc_id': § 275.0-2, 'statement_id': Secretary of the Commission, 'statement_title': Secretary of the Commission, 'statement': The Secretary of the Commission is responsible for forwarding copies of process, pleadings, or other papers to each named party by registered or certified mail., 'statement_sources': [(a)(2)], 'templates_ids': [T7], 'transformed': A Secretary of the Commission is by definition a person who is responsible for forwarding copies of process, pleadings, or other papers to each named party by registered or certified mail., 'confidence': 0.9, 'reason': The transformation follows the T7 template structure, identifying 'Secretary of the Commission' as the term being defined and 'person' as the hypernym. The qualifying clause accurately describes the responsibilities of the Secretary.} │ 2024-12-18 00:39:42.067-03 │\n",
       "│ transform_Names │ transform_Names │ documents-2024-12-08-8.json  │ {'doc_id': § 275.0-2, 'statement_id': Secretary, 'statement_title': Secretary, 'statement': The Secretary of the Commission is responsible for forwarding copies of process, pleadings, or other papers to each named party by registered or certified mail., 'statement_sources': [(a)(3)], 'templates_ids': [T7], 'transformed': A Secretary of the Commission is by definition a person who is responsible for forwarding copies of process, pleadings, or other papers to each named party by registered or certified mail., 'confidence': 0.9, 'reason': The transformation follows the T7 template structure, identifying 'Secretary' as the term being defined and 'person' as the hypernym. The qualifying clause accurately describes the responsibilities of the Secretary.}                                                       │ 2024-12-18 00:39:42.067-03 │\n",
       "│ transform_Names │ transform_Names │ documents-2024-12-08-8.json  │ {'doc_id': § 275.0-5, 'statement_id': Federal Register, 'statement_title': Federal Register, 'statement': The official journal where the notice of initiation of the proceeding is published., 'statement_sources': [(a)], 'templates_ids': [T7], 'transformed': A Federal Register is by definition the official journal that publishes the notice of initiation of the proceeding., 'confidence': 0.9, 'reason': The transformation follows the T7 template structure, identifying 'Federal Register' as the term being defined and 'official journal' as the hypernym. The qualifying clause 'that publishes the notice of initiation of the proceeding' is correctly applied.}                                                                                                                                                           │ 2024-12-18 00:39:42.067-03 │\n",
       "│ transform_Names │ transform_Names │ documents-2024-12-08-8.json  │ {'doc_id': § 275.0-5, 'statement_id': Commission, 'statement_title': Commission, 'statement': The regulatory body responsible for issuing orders and conducting hearings., 'statement_sources': [(d), (b), (c), (a)], 'templates_ids': [T7], 'transformed': A Commission is by definition a regulatory body that is responsible for issuing orders and conducting hearings., 'confidence': 0.9, 'reason': The transformation follows the T7 template structure, with 'Commission' as <term 1>, 'regulatory body' as <term 3>, and the qualifying clause 'that is responsible for issuing orders and conducting hearings' fitting the S14 subtemplate.}                                                                                                                                                                                       │ 2024-12-18 00:39:42.067-03 │\n",
       "│ transform_Names │ transform_Names │ documents-2024-12-08-8.json  │ {'doc_id': § 275.0-5, 'statement_id': Act, 'statement_title': Act, 'statement': The legislation under which the Commission operates and applications are filed., 'statement_sources': [(d)], 'templates_ids': [T7], 'transformed': An Act is by definition the legislation under which the Commission operates and applications are filed., 'confidence': 0.9, 'reason': The transformation follows the T7 template structure, with 'Act' as <term 1>, 'legislation' as <term 3>, and the qualifying clause 'under which the Commission operates and applications are filed' fitting the S14 subtemplate. The structure and grammar are consistent with the template guidelines.}                                                                                                                                                            │ 2024-12-18 00:39:42.067-03 │\n",
       "│ transform_Names │ transform_Names │ documents-2024-12-08-9.json  │ {'doc_id': § 275.0-2, 'statement_id': Secretary of the Commission, 'statement_title': Secretary of the Commission, 'statement': The Secretary of the Commission is responsible for forwarding copies of process, pleadings, or other papers to each named party by registered or certified mail., 'statement_sources': [(a)(2)], 'templates_ids': [T7], 'transformed': A Secretary of the Commission is by definition a person who is responsible for forwarding copies of process, pleadings, or other papers to each named party by registered or certified mail., 'confidence': 0.9, 'reason': The transformation follows the T7 template structure, identifying 'Secretary of the Commission' as the term being defined and 'person' as the hypernym. The qualifying clause accurately describes the responsibilities of the Secretary.} │ 2024-12-18 00:39:42.103-03 │\n",
       "│ transform_Names │ transform_Names │ documents-2024-12-08-9.json  │ {'doc_id': § 275.0-2, 'statement_id': Secretary, 'statement_title': Secretary, 'statement': The Secretary of the Commission is responsible for forwarding copies of process, pleadings, or other papers to each named party by registered or certified mail., 'statement_sources': [(a)(3)], 'templates_ids': [T7], 'transformed': A Secretary of the Commission is by definition a person who is responsible for forwarding copies of process, pleadings, or other papers to each named party by registered or certified mail., 'confidence': 0.9, 'reason': The transformation follows the T7 template structure, identifying 'Secretary' as the term being defined and 'person' as the hypernym. The qualifying clause specifies the responsibilities of the Secretary, aligning with the template's requirements.}                       │ 2024-12-18 00:39:42.103-03 │\n",
       "│ transform_Names │ transform_Names │ documents-2024-12-08-9.json  │ {'doc_id': § 275.0-5, 'statement_id': Federal Register, 'statement_title': Federal Register, 'statement': The official journal where the notice of initiation of the proceeding is published., 'statement_sources': [(a)], 'templates_ids': [T7], 'transformed': A Federal Register is by definition the official journal that publishes the notice of initiation of the proceeding., 'confidence': 0.9, 'reason': The transformation follows the T7 template structure, identifying 'Federal Register' as the term being defined, 'official journal' as the hypernym, and the qualifying clause 'that publishes the notice of initiation of the proceeding' to distinguish it.}                                                                                                                                                             │ 2024-12-18 00:39:42.103-03 │\n",
       "│ transform_Names │ transform_Names │ documents-2024-12-08-9.json  │ {'doc_id': § 275.0-5, 'statement_id': Commission, 'statement_title': Commission, 'statement': The regulatory body responsible for issuing orders and conducting hearings., 'statement_sources': [(d), (b), (a), (c)], 'templates_ids': [T7], 'transformed': A Commission is by definition a regulatory body that is responsible for issuing orders and conducting hearings., 'confidence': 0.9, 'reason': The transformation follows the T7 template structure, identifying 'Commission' as the term being defined and 'regulatory body' as the hypernym, with a qualifying clause specifying its responsibilities.}                                                                                                                                                                                                                         │ 2024-12-18 00:39:42.103-03 │\n",
       "│ transform_Names │ transform_Names │ documents-2024-12-08-9.json  │ {'doc_id': § 275.0-5, 'statement_id': Act, 'statement_title': Act, 'statement': The legislation under which the Commission operates and applications are filed., 'statement_sources': [(d)], 'templates_ids': [T7], 'transformed': An Act is by definition the legislation under which the Commission operates and applications are filed., 'confidence': 0.9, 'reason': The transformation follows the T7 template structure, with 'Act' as <term 1>, 'legislation' as <term 3>, and the qualifying clause 'under which the Commission operates and applications are filed' fitting the S14 subtemplate. The structure aligns well with the template, but the original statement's brevity leaves some room for interpretation.}                                                                                                            │ 2024-12-18 00:39:42.103-03 │\n",
       "├─────────────────┴─────────────────┴──────────────────────────────┴──────────────────────────────────────────────────────────────────────────────────────────────────────────────────────────────────────────────────────────────────────────────────────────────────────────────────────────────────────────────────────────────────────────────────────────────────────────────────────────────────────────────────────────────────────────────────────────────────────────────────────────────────────────────────────────────────────────────────────────────────────────────────────────────────────────────────────────────────────────────────────────────────────────────────────────────────────────────────────────────────────────────────────────────────────────────────────────────────────────────────────────────────────────────────────────────────────────────────────────────────────────────┴────────────────────────────┤\n",
       "│ 50 rows (20 shown)                                                                                                                                                                                                                                                                                                                                                                                                                                                                                                                                                                                                                                                                                                                                                                                                                                                                                                                 5 columns │\n",
       "└──────────────────────────────────────────────────────────────────────────────────────────────────────────────────────────────────────────────────────────────────────────────────────────────────────────────────────────────────────────────────────────────────────────────────────────────────────────────────────────────────────────────────────────────────────────────────────────────────────────────────────────────────────────────────────────────────────────────────────────────────────────────────────────────────────────────────────────────────────────────────────────────────────────────────────────────────────────────────────────────────────────────────────────────────────────────────────────────────────────────────────────────────────────────────────────────────────────────────────────────────────────────────────────────────────────────────────────────────────────────────────────────────────────────┘"
      ]
     },
     "execution_count": 77,
     "metadata": {},
     "output_type": "execute_result"
    }
   ],
   "source": [
    "query = \"\"\"\n",
    "SELECT *\n",
    "FROM RAW_TRANSFORM_NAMES\n",
    ";\n",
    "\"\"\"\n",
    "\n",
    "conn.sql(query)"
   ]
  },
  {
   "cell_type": "markdown",
   "metadata": {},
   "source": [
    "### Fact types"
   ]
  },
  {
   "cell_type": "markdown",
   "metadata": {},
   "source": [
    "Pred table"
   ]
  },
  {
   "cell_type": "code",
   "execution_count": 78,
   "metadata": {},
   "outputs": [
    {
     "name": "stdout",
     "output_type": "stream",
     "text": [
      "cfr2sbvr_db/evaluation/documents-2024-12-08-1.json\n",
      "transform_Fact_Types|llm_response_transform\n",
      "_query_drop_table='\\n        DROP TABLE IF EXISTS RAW_TRANSFORM_FACT_TYPES;\\n        '\n",
      "Trying to drop table because drop parameter is True\n",
      "Table RAW_TRANSFORM_FACT_TYPES dropped\n",
      "_query_insert_data='\\n    INSERT INTO RAW_TRANSFORM_FACT_TYPES (id, prompt, file_source, content, created_at)\\n    SELECT \\n        id, \\n        \\'transform_Fact_Types\\' as prompt, \\n        \\'documents-2024-12-08-1.json\\' as file_source, \\n        unnest(content) as content,\\n        now() as created_at\\n    FROM \\n        read_json_auto(\"temp/documents-2024-12-08-1.json\");\\n    '\n",
      "Trying to insert into RAW_TRANSFORM_FACT_TYPES\n",
      "Catalog Error: Table with name RAW_TRANSFORM_FACT_TYPES does not exist!\n",
      "Did you mean \"database_v3.RAW_TRANSFORM_FACT_TYPES\"?\n",
      "Failed to insert, trying create RAW_TRANSFORM_FACT_TYPES\n",
      "_query_create_table='\\n        CREATE TABLE RAW_TRANSFORM_FACT_TYPES AS\\n        SELECT id, \\n        \\'transform_Fact_Types\\' as prompt, \\n        \\'documents-2024-12-08-1.json\\' as file_source, \\n        unnest(content) as content,\\n        now() as \\'created_at\\'\\n        FROM read_json_auto(\"temp/documents-2024-12-08-1.json\");\\n        '\n",
      "Table RAW_TRANSFORM_FACT_TYPES created and loaded.\n",
      "cfr2sbvr_db/evaluation/documents-2024-12-08-10.json\n",
      "transform_Fact_Types|llm_response_transform\n",
      "_query_insert_data='\\n    INSERT INTO RAW_TRANSFORM_FACT_TYPES (id, prompt, file_source, content, created_at)\\n    SELECT \\n        id, \\n        \\'transform_Fact_Types\\' as prompt, \\n        \\'documents-2024-12-08-10.json\\' as file_source, \\n        unnest(content) as content,\\n        now() as created_at\\n    FROM \\n        read_json_auto(\"temp/documents-2024-12-08-10.json\");\\n    '\n",
      "Trying to insert into RAW_TRANSFORM_FACT_TYPES\n",
      "Data inserted into RAW_TRANSFORM_FACT_TYPES.\n",
      "cfr2sbvr_db/evaluation/documents-2024-12-08-2.json\n",
      "transform_Fact_Types|llm_response_transform\n",
      "_query_insert_data='\\n    INSERT INTO RAW_TRANSFORM_FACT_TYPES (id, prompt, file_source, content, created_at)\\n    SELECT \\n        id, \\n        \\'transform_Fact_Types\\' as prompt, \\n        \\'documents-2024-12-08-2.json\\' as file_source, \\n        unnest(content) as content,\\n        now() as created_at\\n    FROM \\n        read_json_auto(\"temp/documents-2024-12-08-2.json\");\\n    '\n",
      "Trying to insert into RAW_TRANSFORM_FACT_TYPES\n",
      "Data inserted into RAW_TRANSFORM_FACT_TYPES.\n",
      "cfr2sbvr_db/evaluation/documents-2024-12-08-3.json\n",
      "transform_Fact_Types|llm_response_transform\n",
      "_query_insert_data='\\n    INSERT INTO RAW_TRANSFORM_FACT_TYPES (id, prompt, file_source, content, created_at)\\n    SELECT \\n        id, \\n        \\'transform_Fact_Types\\' as prompt, \\n        \\'documents-2024-12-08-3.json\\' as file_source, \\n        unnest(content) as content,\\n        now() as created_at\\n    FROM \\n        read_json_auto(\"temp/documents-2024-12-08-3.json\");\\n    '\n",
      "Trying to insert into RAW_TRANSFORM_FACT_TYPES\n",
      "Data inserted into RAW_TRANSFORM_FACT_TYPES.\n",
      "cfr2sbvr_db/evaluation/documents-2024-12-08-4.json\n",
      "transform_Fact_Types|llm_response_transform\n",
      "_query_insert_data='\\n    INSERT INTO RAW_TRANSFORM_FACT_TYPES (id, prompt, file_source, content, created_at)\\n    SELECT \\n        id, \\n        \\'transform_Fact_Types\\' as prompt, \\n        \\'documents-2024-12-08-4.json\\' as file_source, \\n        unnest(content) as content,\\n        now() as created_at\\n    FROM \\n        read_json_auto(\"temp/documents-2024-12-08-4.json\");\\n    '\n",
      "Trying to insert into RAW_TRANSFORM_FACT_TYPES\n",
      "Data inserted into RAW_TRANSFORM_FACT_TYPES.\n",
      "cfr2sbvr_db/evaluation/documents-2024-12-08-5.json\n",
      "transform_Fact_Types|llm_response_transform\n",
      "_query_insert_data='\\n    INSERT INTO RAW_TRANSFORM_FACT_TYPES (id, prompt, file_source, content, created_at)\\n    SELECT \\n        id, \\n        \\'transform_Fact_Types\\' as prompt, \\n        \\'documents-2024-12-08-5.json\\' as file_source, \\n        unnest(content) as content,\\n        now() as created_at\\n    FROM \\n        read_json_auto(\"temp/documents-2024-12-08-5.json\");\\n    '\n",
      "Trying to insert into RAW_TRANSFORM_FACT_TYPES\n",
      "Data inserted into RAW_TRANSFORM_FACT_TYPES.\n",
      "cfr2sbvr_db/evaluation/documents-2024-12-08-6.json\n",
      "transform_Fact_Types|llm_response_transform\n",
      "_query_insert_data='\\n    INSERT INTO RAW_TRANSFORM_FACT_TYPES (id, prompt, file_source, content, created_at)\\n    SELECT \\n        id, \\n        \\'transform_Fact_Types\\' as prompt, \\n        \\'documents-2024-12-08-6.json\\' as file_source, \\n        unnest(content) as content,\\n        now() as created_at\\n    FROM \\n        read_json_auto(\"temp/documents-2024-12-08-6.json\");\\n    '\n",
      "Trying to insert into RAW_TRANSFORM_FACT_TYPES\n",
      "Data inserted into RAW_TRANSFORM_FACT_TYPES.\n",
      "cfr2sbvr_db/evaluation/documents-2024-12-08-7.json\n",
      "transform_Fact_Types|llm_response_transform\n",
      "_query_insert_data='\\n    INSERT INTO RAW_TRANSFORM_FACT_TYPES (id, prompt, file_source, content, created_at)\\n    SELECT \\n        id, \\n        \\'transform_Fact_Types\\' as prompt, \\n        \\'documents-2024-12-08-7.json\\' as file_source, \\n        unnest(content) as content,\\n        now() as created_at\\n    FROM \\n        read_json_auto(\"temp/documents-2024-12-08-7.json\");\\n    '\n",
      "Trying to insert into RAW_TRANSFORM_FACT_TYPES\n",
      "Data inserted into RAW_TRANSFORM_FACT_TYPES.\n",
      "cfr2sbvr_db/evaluation/documents-2024-12-08-8.json\n",
      "transform_Fact_Types|llm_response_transform\n",
      "_query_insert_data='\\n    INSERT INTO RAW_TRANSFORM_FACT_TYPES (id, prompt, file_source, content, created_at)\\n    SELECT \\n        id, \\n        \\'transform_Fact_Types\\' as prompt, \\n        \\'documents-2024-12-08-8.json\\' as file_source, \\n        unnest(content) as content,\\n        now() as created_at\\n    FROM \\n        read_json_auto(\"temp/documents-2024-12-08-8.json\");\\n    '\n",
      "Trying to insert into RAW_TRANSFORM_FACT_TYPES\n",
      "Data inserted into RAW_TRANSFORM_FACT_TYPES.\n",
      "cfr2sbvr_db/evaluation/documents-2024-12-08-9.json\n",
      "transform_Fact_Types|llm_response_transform\n",
      "_query_insert_data='\\n    INSERT INTO RAW_TRANSFORM_FACT_TYPES (id, prompt, file_source, content, created_at)\\n    SELECT \\n        id, \\n        \\'transform_Fact_Types\\' as prompt, \\n        \\'documents-2024-12-08-9.json\\' as file_source, \\n        unnest(content) as content,\\n        now() as created_at\\n    FROM \\n        read_json_auto(\"temp/documents-2024-12-08-9.json\");\\n    '\n",
      "Trying to insert into RAW_TRANSFORM_FACT_TYPES\n",
      "Data inserted into RAW_TRANSFORM_FACT_TYPES.\n"
     ]
    }
   ],
   "source": [
    "# Define the directory and pattern\n",
    "directory = Path(\"cfr2sbvr_db/evaluation\")\n",
    "pattern = \"documents-*.json\"\n",
    "\n",
    "# Use glob to find all files matching the pattern\n",
    "files = directory.glob(pattern)\n",
    "\n",
    "drop=True # Drop the table first time\n",
    "for file_path in files:\n",
    "    print(file_path)  # Output each file path\n",
    "    upsert_table_from_json(\n",
    "        conn,\n",
    "        suffix_key_pattern=\"transform_Fact_Types|llm_response_transform\",\n",
    "        prefix_key_pattern=\"\",\n",
    "        table_name=\"RAW_TRANSFORM_FACT_TYPES\",\n",
    "        source=file_path,\n",
    "        key_value=\"transform_Fact_Types\",\n",
    "        drop=drop,\n",
    "        content_key=\"content\",\n",
    "        alias=\"content\",\n",
    "        doc_id_key=\"id\"\n",
    "    )\n",
    "    drop=False # Stop dropping tables"
   ]
  },
  {
   "cell_type": "code",
   "execution_count": 79,
   "metadata": {},
   "outputs": [
    {
     "data": {
      "text/plain": [
       "┌──────────────────────┬──────────────────────┬─────────────────────────────┬─────────────────────────────────────────────────────────────────────────────────────────────────────────────────────────────────────────────────────────────────────────────────────────────────────────────────────────────────────────────────────────────────────────────────────────────────────────────────────────────────────────────────────────────────────────────────────────────────────────────────────────────────────────────────────────────────────────────────────────────────────────────────────────────────────────────────────────────────────────────────────────────────────────────────────────────────────────────────────────────────────────────────────────────────────────────────────────────────────────────────────────────────────────────────────────────────────────────────────────────────────────────────────────────────────────────────────────────────────────────────────────────────────────────────────────────────────────────────────────────────────────────────────────────────────────────────────────────────────────────────────────────────────────────────────────────────────────────────────────────────────────────────────────────────────────────────────────────────────────────────────────────────────────────────────────────────────────────────────────────────────────────┬────────────────────────────┐\n",
       "│          id          │        prompt        │         file_source         │                                                                                                                                                                                                                                                                                                                                                                                                                                                                                                                                                                                                                                                                   content                                                                                                                                                                                                                                                                                                                                                                                                                                                                                                                                                                                                                                                                   │         created_at         │\n",
       "│       varchar        │       varchar        │           varchar           │                                                                                                                                                                                                                                                                                                                                                                                                                                                                                                                                                                  struct(doc_id varchar, statement_id varchar, statement_title varchar, \"statement\" varchar, statement_sources varchar[], templates_ids varchar[], transformed varchar, confidence double, reason varchar)                                                                                                                                                                                                                                                                                                                                                                                                                                                                                                                                                                   │  timestamp with time zone  │\n",
       "├──────────────────────┼──────────────────────┼─────────────────────────────┼─────────────────────────────────────────────────────────────────────────────────────────────────────────────────────────────────────────────────────────────────────────────────────────────────────────────────────────────────────────────────────────────────────────────────────────────────────────────────────────────────────────────────────────────────────────────────────────────────────────────────────────────────────────────────────────────────────────────────────────────────────────────────────────────────────────────────────────────────────────────────────────────────────────────────────────────────────────────────────────────────────────────────────────────────────────────────────────────────────────────────────────────────────────────────────────────────────────────────────────────────────────────────────────────────────────────────────────────────────────────────────────────────────────────────────────────────────────────────────────────────────────────────────────────────────────────────────────────────────────────────────────────────────────────────────────────────────────────────────────────────────────────────────────────────────────────────────────────────────────────────────────────────────────────────────────────────────────────────────────────────────────────┼────────────────────────────┤\n",
       "│ transform_Fact_Types │ transform_Fact_Types │ documents-2024-12-08-1.json │ {'doc_id': § 275.0-2, 'statement_id': 1, 'statement_title': Service of Process on Non-Resident Investment Advisers, 'statement': A person may serve process, pleadings, or other papers on a non-resident investment adviser, or on a non-resident general partner or non-resident managing agent of an investment adviser by serving any or all of its appointed agents., 'statement_sources': [(a)], 'templates_ids': [T12], 'transformed': A person may serve process, pleadings, or other papers on a non-resident investment adviser, or on a non-resident general partner or non-resident managing agent of an investment adviser by definition at most all of its appointed agents., 'confidence': 0.9, 'reason': The transformation follows the T12 template structure, substituting the terms and verb phrases appropriately. The cardinality 'at most all' is inferred from the context of serving 'any or all' of the appointed agents.}                                                                                                                                                                                                                                                                                                                                                                                         │ 2024-12-18 00:39:42.166-03 │\n",
       "│ transform_Fact_Types │ transform_Fact_Types │ documents-2024-12-08-1.json │ {'doc_id': § 275.0-2, 'statement_id': 2, 'statement_title': Service of Process, 'statement': A person may serve a non-resident investment adviser, non-resident general partner, or non-resident managing agent by furnishing the Commission with one copy of the process, pleadings, or papers, for each named party, and one additional copy for the Commission's records., 'statement_sources': [(a)(1)], 'templates_ids': [T12], 'transformed': A person may serve a non-resident investment adviser, non-resident general partner, or non-resident managing agent by definition exactly one copy of the process, pleadings, or papers for each named party., 'confidence': 0.9, 'reason': The transformation follows the T12 template structure, identifying 'person' as <term 1>, 'may serve' as <verb phrase>, 'exactly one' as <cardinality>, 'copy of the process, pleadings, or papers' as <term 2>, and 'for each named party' as the qualifying clause. The transformation maintains the original meaning and structure.}                                                                                                                                                                                                                                                                                                       │ 2024-12-18 00:39:42.166-03 │\n",
       "│ transform_Fact_Types │ transform_Fact_Types │ documents-2024-12-08-1.json │ {'doc_id': § 275.0-2, 'statement_id': 5, 'statement_title': Managing Agent Definition, 'statement': Managing agent means any person, including a trustee, who directs or manages, or who participates in directing or managing, the affairs of any unincorporated organization or association other than a partnership., 'statement_sources': [(b)(1)], 'templates_ids': [T7], 'transformed': A managing agent is by definition a person who directs or manages, or who participates in directing or managing, the affairs of any unincorporated organization or association other than a partnership., 'confidence': 0.9, 'reason': The transformation follows the T7 template structure, identifying 'managing agent' as the term being defined and 'person' as the hypernym. The qualifying clause accurately captures the characteristics that distinguish a managing agent.}                                                                                                                                                                                                                                                                                                                                                                                                                                                           │ 2024-12-18 00:39:42.166-03 │\n",
       "│ transform_Fact_Types │ transform_Fact_Types │ documents-2024-12-08-1.json │ {'doc_id': § 275.0-2, 'statement_id': 6, 'statement_title': Non-resident Definition, 'statement': Non-resident means an individual who resides in any place not subject to the jurisdiction of the United States; a corporation that is incorporated in or that has its principal office and place of business in any place not subject to the jurisdiction of the United States; and a partnership or other unincorporated organization or association that has its principal office and place of business in any place not subject to the jurisdiction of the United States., 'statement_sources': [(b)(2)], 'templates_ids': [T8], 'transformed': A non-resident is by definition an individual who resides in any place not subject to the jurisdiction of the United States, a corporation that is incorporated in or that has its principal office and place of business in any place not subject to the jurisdiction of the United States, or a partnership or other unincorporated organization or association that has its principal office and place of business in any place not subject to the jurisdiction of the United States., 'confidence': 0.95, 'reason': The transformation follows the T8 template structure accurately, substituting the term 'non-resident' and listing the hyponyms with appropriate conjunctions.} │ 2024-12-18 00:39:42.166-03 │\n",
       "│ transform_Fact_Types │ transform_Fact_Types │ documents-2024-12-08-1.json │ {'doc_id': § 275.0-2, 'statement_id': 7, 'statement_title': Principal office and place of business definition, 'statement': Principal office and place of business has the same meaning as in § 275.203A-3(c) of this chapter., 'statement_sources': [(b)(3)], 'templates_ids': [T7], 'transformed': A principal office and place of business is by definition the same as in § 275.203A-3(c) of this chapter., 'confidence': 0.9, 'reason': The transformation follows the T7 template structure, with 'principal office and place of business' as <term 1> and 'the same as in § 275.203A-3(c) of this chapter' as <qualifying clause>. The transformation maintains the original meaning.}                                                                                                                                                                                                                                                                                                                                                                                                                                                                                                                                                                                                                                               │ 2024-12-18 00:39:42.166-03 │\n",
       "│ transform_Fact_Types │ transform_Fact_Types │ documents-2024-12-08-1.json │ {'doc_id': § 275.0-5, 'statement_id': 5, 'statement_title': Definition of Application, 'statement': For purposes of this rule, an application means any application for an order of the Commission under the Act other than an application for registration as an investment adviser., 'statement_sources': [(d)], 'templates_ids': [T8], 'transformed': An application is by definition an application for an order of the Commission under the Act, other than an application for registration as an investment adviser., 'confidence': 0.9, 'reason': The transformation follows the T8 template structure, accurately substituting placeholders with terms from the original statement. The definition is clear and maintains the original meaning.}                                                                                                                                                                                                                                                                                                                                                                                                                                                                                                                                                                                    │ 2024-12-18 00:39:42.166-03 │\n",
       "│ transform_Fact_Types │ transform_Fact_Types │ documents-2024-12-08-1.json │ {'doc_id': § 275.0-7, 'statement_id': 1, 'statement_title': Definition of Small Business or Small Organization, 'statement': The term small business or small organization for purposes of the Investment Advisers Act of 1940 shall mean an investment adviser that has assets under management of less than $25 million, or such higher amount as the Commission may by rule deem appropriate., 'statement_sources': [(a)], 'templates_ids': [T7], 'transformed': A small business or small organization is by definition an investment adviser that has assets under management of less than $25 million, or such higher amount as the Commission may by rule deem appropriate., 'confidence': 0.9, 'reason': The transformation follows the T7 template structure, accurately substituting terms and clauses. The qualifying clause is complex but correctly interpreted.}                                                                                                                                                                                                                                                                                                                                                                                                                                                              │ 2024-12-18 00:39:42.166-03 │\n",
       "│ transform_Fact_Types │ transform_Fact_Types │ documents-2024-12-08-1.json │ {'doc_id': § 275.0-7, 'statement_id': 2, 'statement_title': Assets Under Management, 'statement': An investment adviser has assets under management, as defined under Section 203A(a)(3) of the Act and reported on its annual updating amendment to Form ADV, of less than $25 million, or such higher amount as the Commission may by rule deem appropriate., 'statement_sources': [(a)(1)], 'templates_ids': [T15], 'transformed': The assets under management of an investment adviser is by definition less than $25 million, or such higher amount as the Commission may by rule deem appropriate., 'confidence': 0.9, 'reason': The transformation follows the T15 template structure, using the inequality operator 'less than' and including the optional clause 'or such higher amount as the Commission may by rule deem appropriate'. The transformation accurately reflects the original statement's meaning.}                                                                                                                                                                                                                                                                                                                                                                                                                 │ 2024-12-18 00:39:42.166-03 │\n",
       "│ transform_Fact_Types │ transform_Fact_Types │ documents-2024-12-08-1.json │ {'doc_id': § 275.0-7, 'statement_id': 3, 'statement_title': Investment Adviser Asset Requirement, 'statement': An investment adviser did not have total assets of $5 million or more on the last day of the most recent fiscal year., 'statement_sources': [(a)(2)], 'templates_ids': [T15], 'transformed': The total assets of an investment adviser is by definition no more than $5 million on the last day of the most recent fiscal year., 'confidence': 0.9, 'reason': The transformation follows the T15 template, using the inequality operator 'no more than' to express the condition that the total assets did not reach $5 million. The entity class term 'investment adviser' and the attribute term 'total assets' are correctly identified and placed.}                                                                                                                                                                                                                                                                                                                                                                                                                                                                                                                                                                      │ 2024-12-18 00:39:42.166-03 │\n",
       "│ transform_Fact_Types │ transform_Fact_Types │ documents-2024-12-08-1.json │ {'doc_id': § 275.0-7, 'statement_id': 4, 'statement_title': Investment Adviser Control, 'statement': An investment adviser does not control, is not controlled by, and is not under common control with another investment adviser that has assets under management of $25 million or more, or any person (other than a natural person) that had total assets of $5 million or more on the last day of the most recent fiscal year., 'statement_sources': [(a)(3)], 'templates_ids': [T12], 'transformed': An investment adviser by definition does not control, is not controlled by, and is not under common control with another investment adviser with assets under management of at least $25 million, or any person (other than a natural person) with total assets of at least $5 million on the last day of the most recent fiscal year., 'confidence': 0.9, 'reason': The transformation follows the T12 template structure, accurately substituting terms and conditions from the original statement. The cardinality and conditions are clearly defined, matching the template's requirements.}                                                                                                                                                                                                                                 │ 2024-12-18 00:39:42.166-03 │\n",
       "│          ·           │          ·           │              ·              │                                                                                                                                                                                                                                                                                                                                                                                                                                                    ·                                                                                                                                                                                                                                                                                                                                                                                                                                                                                                                                                                                                                                                                                                                                                                                                                                                                                        │             ·              │\n",
       "│          ·           │          ·           │              ·              │                                                                                                                                                                                                                                                                                                                                                                                                                                                    ·                                                                                                                                                                                                                                                                                                                                                                                                                                                                                                                                                                                                                                                                                                                                                                                                                                                                                        │             ·              │\n",
       "│          ·           │          ·           │              ·              │                                                                                                                                                                                                                                                                                                                                                                                                                                                    ·                                                                                                                                                                                                                                                                                                                                                                                                                                                                                                                                                                                                                                                                                                                                                                                                                                                                                        │             ·              │\n",
       "│ transform_Fact_Types │ transform_Fact_Types │ documents-2024-12-08-9.json │ {'doc_id': § 275.0-7, 'statement_id': 1, 'statement_title': Definition of Small Business or Small Organization, 'statement': The term small business or small organization for purposes of the Investment Advisers Act of 1940 shall mean an investment adviser that has assets under management of less than $25 million, or such higher amount as the Commission may by rule deem appropriate., 'statement_sources': [(a)], 'templates_ids': [T7], 'transformed': A small business or small organization is by definition an investment adviser that has assets under management of less than $25 million, or such higher amount as the Commission may by rule deem appropriate., 'confidence': 0.9, 'reason': The transformation follows the T7 template structure, accurately substituting placeholders with terms from the statement. The qualifying clause is correctly identified and included.}                                                                                                                                                                                                                                                                                                                                                                                                                                     │ 2024-12-18 00:39:42.567-03 │\n",
       "│ transform_Fact_Types │ transform_Fact_Types │ documents-2024-12-08-9.json │ {'doc_id': § 275.0-7, 'statement_id': 2, 'statement_title': Assets Under Management, 'statement': An investment adviser has assets under management, as defined under Section 203A(a)(3) of the Act and reported on its annual updating amendment to Form ADV, of less than $25 million, or such higher amount as the Commission may by rule deem appropriate., 'statement_sources': [(a)(1)], 'templates_ids': [T15], 'transformed': The assets under management of an investment adviser is by definition less than $25 million, or such higher amount as the Commission may by rule deem appropriate., 'confidence': 0.9, 'reason': The transformation follows the T15 template, using the inequality operator 'less than' and including the optional clause 'or such higher amount as the Commission may by rule deem appropriate'. The transformation accurately reflects the original statement's meaning.}                                                                                                                                                                                                                                                                                                                                                                                                                           │ 2024-12-18 00:39:42.567-03 │\n",
       "│ transform_Fact_Types │ transform_Fact_Types │ documents-2024-12-08-9.json │ {'doc_id': § 275.0-7, 'statement_id': 3, 'statement_title': Investment Adviser Asset Requirement, 'statement': An investment adviser did not have total assets of $5 million or more on the last day of the most recent fiscal year., 'statement_sources': [(a)(2)], 'templates_ids': [T15], 'transformed': The total assets of an investment adviser is by definition no more than $5 million on the last day of the most recent fiscal year., 'confidence': 0.9, 'reason': The transformation follows the T15 template, using the inequality operator 'no more than' to express the condition on total assets. The original statement's context and meaning are preserved.}                                                                                                                                                                                                                                                                                                                                                                                                                                                                                                                                                                                                                                                               │ 2024-12-18 00:39:42.567-03 │\n",
       "│ transform_Fact_Types │ transform_Fact_Types │ documents-2024-12-08-9.json │ {'doc_id': § 275.0-7, 'statement_id': 4, 'statement_title': Investment Adviser Control, 'statement': An investment adviser does not control, is not controlled by, and is not under common control with another investment adviser that has assets under management of $25 million or more, or any person (other than a natural person) that had total assets of $5 million or more on the last day of the most recent fiscal year., 'statement_sources': [(a)(3)], 'templates_ids': [T12], 'transformed': An investment adviser does not control, is not controlled by, and is not under common control with another investment adviser with exactly one set of assets under management of $25 million or more, or any person (other than a natural person) with exactly one set of total assets of $5 million or more on the last day of the most recent fiscal year., 'confidence': 0.8, 'reason': The transformation uses the T12 template to express the relationship between an investment adviser and another entity based on asset thresholds. The cardinality is implied as 'exactly one' for the sets of assets, aligning with the template's structure.}                                                                                                                                                                         │ 2024-12-18 00:39:42.567-03 │\n",
       "│ transform_Fact_Types │ transform_Fact_Types │ documents-2024-12-08-9.json │ {'doc_id': § 275.0-7, 'statement_id': 5, 'statement_title': Control Definition, 'statement': Control means the power, directly or indirectly, to direct the management or policies of a person, whether through ownership of securities, by contract, or otherwise., 'statement_sources': [(b)(1)], 'templates_ids': [T7], 'transformed': Control is by definition the power that directs the management or policies of a person, either through ownership of securities, by contract, or otherwise., 'confidence': 0.9, 'reason': The transformation follows the T7 template, with 'Control' as <term 1>, 'power' as <term 3>, and the qualifying clause specifying the means of control. The structure aligns well with the template, ensuring a high confidence level.}                                                                                                                                                                                                                                                                                                                                                                                                                                                                                                                                                                  │ 2024-12-18 00:39:42.567-03 │\n",
       "│ transform_Fact_Types │ transform_Fact_Types │ documents-2024-12-08-9.json │ {'doc_id': § 275.0-7, 'statement_id': 6, 'statement_title': Presumption of Control, 'statement': A person is presumed to control a corporation if the person directly or indirectly has the right to vote 25 percent or more of a class of the corporation's voting securities., 'statement_sources': [(b)(1)(i)(A)], 'templates_ids': [T7], 'transformed': A person is by definition a controller of a corporation that directly or indirectly has the right to vote 25 percent or more of a class of the corporation's voting securities., 'confidence': 0.9, 'reason': The transformation follows the T7 template structure, with 'person' as <term 1>, 'controller' as <term 3>, and the qualifying clause correctly describing the condition for control.}                                                                                                                                                                                                                                                                                                                                                                                                                                                                                                                                                                             │ 2024-12-18 00:39:42.567-03 │\n",
       "│ transform_Fact_Types │ transform_Fact_Types │ documents-2024-12-08-9.json │ {'doc_id': § 275.0-7, 'statement_id': 7, 'statement_title': Presumption of Control in Partnership, 'statement': A person is presumed to control a partnership if the person has the right to receive upon dissolution, or has contributed, 25 percent or more of the capital of the partnership., 'statement_sources': [(b)(1)(ii)], 'templates_ids': [T7], 'transformed': A person is by definition presumed to control a partnership that either has the right to receive upon dissolution or has contributed 25 percent or more of the capital of the partnership., 'confidence': 0.9, 'reason': The transformation follows the T7 template structure, with the qualifying clause accurately reflecting the conditions under which a person is presumed to control a partnership. The use of 'either-or' structure aligns with the original statement's conditions.}                                                                                                                                                                                                                                                                                                                                                                                                                                                                     │ 2024-12-18 00:39:42.567-03 │\n",
       "│ transform_Fact_Types │ transform_Fact_Types │ documents-2024-12-08-9.json │ {'doc_id': § 275.0-7, 'statement_id': 8, 'statement_title': Control Presumption for LLC, 'statement': A person is presumed to control a limited liability company (LLC) if the person directly or indirectly has the right to vote 25 percent or more of a class of the interests of the LLC, has the right to receive upon dissolution, or has contributed, 25 percent or more of the capital of the LLC, or is an elected manager of the LLC., 'statement_sources': [(b)(1)(iii)], 'templates_ids': [T7], 'transformed': A person is by definition presumed to control a limited liability company (LLC) that either directly or indirectly has the right to vote 25 percent or more of a class of the interests of the LLC, has the right to receive upon dissolution, or has contributed 25 percent or more of the capital of the LLC, or is an elected manager of the LLC., 'confidence': 0.9, 'reason': The transformation follows the T7 template structure, accurately capturing the conditions under which a person is presumed to control an LLC. The qualifying clause is complex but correctly reflects the original statement's conditions.}                                                                                                                                                                                   │ 2024-12-18 00:39:42.567-03 │\n",
       "│ transform_Fact_Types │ transform_Fact_Types │ documents-2024-12-08-9.json │ {'doc_id': § 275.0-7, 'statement_id': 9, 'statement_title': Control of Trust by Person, 'statement': A person is presumed to control a trust if the person is a trustee or managing agent of the trust., 'statement_sources': [(b)(1)(iv)], 'templates_ids': [T7], 'transformed': A person is by definition presumed to control a trust that is a trustee or managing agent of the trust., 'confidence': 0.8, 'reason': The transformation follows the T7 template structure, but the original statement's conditional nature ('if the person is a trustee or managing agent of the trust') is not fully captured in the transformed statement. The qualifying clause was adapted to fit the template, but the logical flow may not be perfectly preserved.}                                                                                                                                                                                                                                                                                                                                                                                                                                                                                                                                                                                │ 2024-12-18 00:39:42.567-03 │\n",
       "│ transform_Fact_Types │ transform_Fact_Types │ documents-2024-12-08-9.json │ {'doc_id': § 275.0-7, 'statement_id': 10, 'statement_title': Total Assets Definition, 'statement': Total assets means the total assets as shown on the balance sheet of the investment adviser or other person described above under paragraph (a)(3) of this section, or the balance sheet of the investment adviser or such other person with its subsidiaries consolidated, whichever is larger., 'statement_sources': [(b)(2)], 'templates_ids': [T8], 'transformed': Total assets is by definition the total assets as shown on the balance sheet of the investment adviser or other person described above under paragraph (a)(3) of this section, or the balance sheet of the investment adviser or such other person with its subsidiaries consolidated, whichever is larger., 'confidence': 0.9, 'reason': The transformation follows the T8 template structure, accurately substituting placeholders with terms from the statement. The definition is clear and maintains the original meaning.}                                                                                                                                                                                                                                                                                                                                  │ 2024-12-18 00:39:42.567-03 │\n",
       "├──────────────────────┴──────────────────────┴─────────────────────────────┴─────────────────────────────────────────────────────────────────────────────────────────────────────────────────────────────────────────────────────────────────────────────────────────────────────────────────────────────────────────────────────────────────────────────────────────────────────────────────────────────────────────────────────────────────────────────────────────────────────────────────────────────────────────────────────────────────────────────────────────────────────────────────────────────────────────────────────────────────────────────────────────────────────────────────────────────────────────────────────────────────────────────────────────────────────────────────────────────────────────────────────────────────────────────────────────────────────────────────────────────────────────────────────────────────────────────────────────────────────────────────────────────────────────────────────────────────────────────────────────────────────────────────────────────────────────────────────────────────────────────────────────────────────────────────────────────────────────────────────────────────────────────────────────────────────────────────────────────────────────────────────────────────────────────────────────────────────────────────────────────────────────────┴────────────────────────────┤\n",
       "│ 160 rows (20 shown)                                                                                                                                                                                                                                                                                                                                                                                                                                                                                                                                                                                                                                                                                                                                                                                                                                                                                                                                                                                                                                                                                                                                                                                                                                                                                                                                                                                                                        5 columns │\n",
       "└──────────────────────────────────────────────────────────────────────────────────────────────────────────────────────────────────────────────────────────────────────────────────────────────────────────────────────────────────────────────────────────────────────────────────────────────────────────────────────────────────────────────────────────────────────────────────────────────────────────────────────────────────────────────────────────────────────────────────────────────────────────────────────────────────────────────────────────────────────────────────────────────────────────────────────────────────────────────────────────────────────────────────────────────────────────────────────────────────────────────────────────────────────────────────────────────────────────────────────────────────────────────────────────────────────────────────────────────────────────────────────────────────────────────────────────────────────────────────────────────────────────────────────────────────────────────────────────────────────────────────────────────────────────────────────────────────────────────────────────────────────────────────────────────────────────────────────────────────────────────────────────────────────────────────────────────────────────────────────────────────────────────────────────────────────────────────────────────────────────────────────────────────────────────────────┘"
      ]
     },
     "execution_count": 79,
     "metadata": {},
     "output_type": "execute_result"
    }
   ],
   "source": [
    "query = \"\"\"\n",
    "SELECT *\n",
    "FROM RAW_TRANSFORM_FACT_TYPES\n",
    ";\n",
    "\"\"\"\n",
    "\n",
    "conn.sql(query)"
   ]
  },
  {
   "cell_type": "markdown",
   "metadata": {},
   "source": [
    "## Close conn"
   ]
  },
  {
   "cell_type": "code",
   "execution_count": 6,
   "metadata": {},
   "outputs": [],
   "source": [
    "conn.close()"
   ]
  }
 ],
 "metadata": {
  "kernelspec": {
   "display_name": "ipt-cfr2sbvr",
   "language": "python",
   "name": "python3"
  },
  "language_info": {
   "codemirror_mode": {
    "name": "ipython",
    "version": 3
   },
   "file_extension": ".py",
   "mimetype": "text/x-python",
   "name": "python",
   "nbconvert_exporter": "python",
   "pygments_lexer": "ipython3",
   "version": "3.11.9"
  }
 },
 "nbformat": 4,
 "nbformat_minor": 2
}
