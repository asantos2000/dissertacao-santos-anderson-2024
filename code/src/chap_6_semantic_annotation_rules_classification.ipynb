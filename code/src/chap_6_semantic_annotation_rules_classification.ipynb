{
 "cells": [
  {
   "cell_type": "markdown",
   "metadata": {},
   "source": [
    "<a href=\"https://colab.research.google.com/github/asantos2000/master-degree-santos-anderson/blob/main/code/src/chap_6_semantic_annotation_rules_classification.ipynb\" target=\"_parent\"><img src=\"https://colab.research.google.com/assets/colab-badge.svg\" alt=\"Open In Colab\"/></a>"
   ]
  },
  {
   "cell_type": "markdown",
   "metadata": {
    "id": "3lwF6l0TKfK0"
   },
   "source": [
    "# Semantic Annotation - rules classification\n",
    "\n",
    "Classify elements according to the taxonomy and get templates for transformation.\n",
    "\n",
    "Chapter 6. Ferramentas de suporte\n",
    "- Section 6.2 Implementação dos principais componentes\n",
    "  - Section 6.2.3 Anotações semânticas\n",
    "    - Section Algoritmo \"taxonomy classification and templates\""
   ]
  },
  {
   "cell_type": "markdown",
   "metadata": {},
   "source": [
    "## Google colab"
   ]
  },
  {
   "cell_type": "code",
   "execution_count": 1,
   "metadata": {},
   "outputs": [],
   "source": [
    "%load_ext autoreload\n",
    "%autoreload 2\n",
    "\n",
    "import sys\n",
    "import os\n",
    "\n",
    "IN_COLAB = 'google.colab' in sys.modules\n",
    "\n",
    "if IN_COLAB:\n",
    "  from google.colab import drive\n",
    "  drive.mount('/content/drive')\n",
    "  !rm -rf cfr2sbvr configuration checkpoint\n",
    "  !git clone https://github.com/asantos2000/master-degree-santos-anderson.git cfr2sbvr\n",
    "  %pip install -r cfr2sbvr/code/requirements.txt\n",
    "  !cp -r cfr2sbvr/code/src/configuration .\n",
    "  !cp -r cfr2sbvr/code/src/checkpoint .\n",
    "  !cp -r cfr2sbvr/code/config.colab.yaml config.yaml\n",
    "  DEFAULT_CONFIG_FILE=\"config.yaml\"\n",
    "else:\n",
    "  DEFAULT_CONFIG_FILE=\"../config.yaml\""
   ]
  },
  {
   "cell_type": "markdown",
   "metadata": {},
   "source": [
    "## Imports"
   ]
  },
  {
   "cell_type": "code",
   "execution_count": 2,
   "metadata": {},
   "outputs": [],
   "source": [
    "# Standard library imports\n",
    "from collections import defaultdict\n",
    "import json\n",
    "import re\n",
    "from pathlib import Path\n",
    "from typing import List\n",
    "\n",
    "# Third-party libraries\n",
    "import pandas as pd\n",
    "import seaborn as sns\n",
    "import matplotlib.pyplot as plt\n",
    "from pydantic import BaseModel, Field\n",
    "from sklearn.metrics import confusion_matrix, classification_report\n",
    "from typing import List, Dict, Optional, Any, Tuple, Set\n",
    "\n",
    "# Local application/library-specific imports\n",
    "import checkpoint.main as checkpoint\n",
    "from checkpoint.main import (\n",
    "    restore_checkpoint,\n",
    "    save_checkpoint,\n",
    "    Document,\n",
    "    DocumentProcessor,\n",
    "    get_all_checkpoints,\n",
    "    get_true_table_files,\n",
    ")\n",
    "import configuration.main as configuration\n",
    "import logging_setup.main as logging_setup\n",
    "import token_estimator.main as token_estimator\n",
    "from token_estimator.main import estimate_tokens\n",
    "import rules_taxonomy_provider.main as rules_taxonomy_provider\n",
    "from rules_taxonomy_provider.main import RuleInformationProvider, RulesTemplateProvider\n",
    "import llm_query.main as llm_query\n",
    "from llm_query.main import query_instruct_llm\n",
    "\n",
    "DEV_MODE = True\n",
    "\n",
    "if DEV_MODE:\n",
    "    # Development mode\n",
    "    import importlib\n",
    "\n",
    "    importlib.reload(configuration)\n",
    "    importlib.reload(logging_setup)\n",
    "    importlib.reload(checkpoint)\n",
    "    importlib.reload(token_estimator)\n",
    "    importlib.reload(rules_taxonomy_provider)\n",
    "    importlib.reload(llm_query)"
   ]
  },
  {
   "cell_type": "markdown",
   "metadata": {},
   "source": [
    "## Settings\n",
    "\n",
    "Default settings, check them before run the notebook."
   ]
  },
  {
   "cell_type": "markdown",
   "metadata": {},
   "source": [
    "### Get configuration"
   ]
  },
  {
   "cell_type": "code",
   "execution_count": 4,
   "metadata": {},
   "outputs": [],
   "source": [
    "# load config\n",
    "DEFAULT_CONFIG_FILE = \"../config.yaml\"\n",
    "config = configuration.load_config(DEFAULT_CONFIG_FILE)"
   ]
  },
  {
   "cell_type": "markdown",
   "metadata": {},
   "source": [
    "Generated files for analysis in this run"
   ]
  },
  {
   "cell_type": "code",
   "execution_count": 5,
   "metadata": {},
   "outputs": [
    {
     "name": "stdout",
     "output_type": "stream",
     "text": [
      "../data/checkpoints/documents-2024-11-09-1.json ../outputs/extraction_report-2024-11-09-1.html ../outputs/compare_items_metrics.xlsx\n"
     ]
    }
   ],
   "source": [
    "print(config[\"DEFAULT_CHECKPOINT_FILE\"],\n",
    "config[\"DEFAULT_EXTRACTION_REPORT_FILE\"],\n",
    "config[\"DEFAULT_EXCEL_FILE\"])"
   ]
  },
  {
   "cell_type": "markdown",
   "metadata": {},
   "source": [
    "### Logging configuration"
   ]
  },
  {
   "cell_type": "code",
   "execution_count": 6,
   "metadata": {},
   "outputs": [
    {
     "name": "stderr",
     "output_type": "stream",
     "text": [
      "2024-11-09 13:38:00 - INFO - Logging is set up with daily rotation.\n"
     ]
    }
   ],
   "source": [
    "logger = logging_setup.setting_logging(config[\"DEFAULT_LOG_DIR\"], config[\"LOG_LEVEL\"])"
   ]
  },
  {
   "cell_type": "markdown",
   "metadata": {},
   "source": [
    "## Checkpoints\n",
    "\n",
    "Documents, annoted datasets, statistics and metrics about the execution of the notebook are stored by checkpoint module.\n",
    "\n",
    "Checkpoints are stored / retrieved at the directory `DEFAULT_CHECKPOINT_FILE` in the configuration file.\n",
    "\n",
    "During the execution, it will restore the checkpoint at the beginning of the section and saved at the end. We can run and restore the checkpoint several times. If the run fails, check the closest checkpoint and restore it."
   ]
  },
  {
   "cell_type": "markdown",
   "metadata": {},
   "source": [
    "### Restore the checkpoint"
   ]
  },
  {
   "cell_type": "code",
   "execution_count": null,
   "metadata": {},
   "outputs": [
    {
     "name": "stderr",
     "output_type": "stream",
     "text": [
      "2024-11-07 14:42:00 - INFO - DocumentManager restored from file: ../data/checkpoints/documents-2024-11-01-3.json\n",
      "2024-11-07 14:42:00 - INFO - Checkpoint restored from ../data/checkpoints/documents-2024-11-01-3.json.\n"
     ]
    }
   ],
   "source": [
    "# Restore the checkpoint\n",
    "\n",
    "# To run after extraction\n",
    "last_checkpoint = configuration.get_last_filename(config[\"DEFAULT_CHECKPOINT_DIR\"], \"documents\", \"json\")\n",
    "\n",
    "logger.info(f\"{last_checkpoint=}\")\n",
    "\n",
    "config[\"DEFAULT_CHECKPOINT_FILE\"] = last_checkpoint\n",
    "\n",
    "manager = restore_checkpoint(filename=config[\"DEFAULT_CHECKPOINT_FILE\"])"
   ]
  },
  {
   "cell_type": "markdown",
   "metadata": {},
   "source": [
    "## Datasets\n",
    "\n",
    "Datasets used in the notebook. They are divided into sections and true tables. The sections are the documents from CFR and true tables are annoted  or \"golden\" datasets."
   ]
  },
  {
   "cell_type": "markdown",
   "metadata": {},
   "source": [
    "### General functions and data structures"
   ]
  },
  {
   "cell_type": "markdown",
   "metadata": {},
   "source": [
    "### True tables\n",
    "\n",
    "True tables are annotated or \"golden\" datasets in which entities have been manually identified and labeled within the original source data.\n",
    "\n",
    "True tables for sectiona 275.0-2, 275.0-5 and 275.0-7"
   ]
  },
  {
   "cell_type": "markdown",
   "metadata": {},
   "source": [
    "Load true table for P1 - Taxonomy Classification - top level and P2 - Taxonomy Classification - sub levels"
   ]
  },
  {
   "cell_type": "code",
   "execution_count": null,
   "metadata": {},
   "outputs": [],
   "source": [
    "true_table_files = get_true_table_files(config[\"DEFAULT_DATA_DIR\"])"
   ]
  },
  {
   "cell_type": "code",
   "execution_count": null,
   "metadata": {},
   "outputs": [
    {
     "name": "stderr",
     "output_type": "stream",
     "text": [
      "2024-11-07 15:05:45 - INFO - Adding classify_P1|true_table true table to the manager\n",
      "2024-11-07 15:05:45 - INFO - Adding classify_P2_Definitional_facts|true_table true table to the manager\n",
      "2024-11-07 15:05:45 - INFO - Adding classify_P2_Definitional_names|true_table true table to the manager\n",
      "2024-11-07 15:05:45 - INFO - Adding classify_P2_Definitional_terms|true_table true table to the manager\n",
      "2024-11-07 15:05:45 - INFO - Adding classify_P2_Operative_rules|true_table true table to the manager\n"
     ]
    }
   ],
   "source": [
    "for item in true_table_files:\n",
    "    with open(item[\"path\"], 'r') as file:\n",
    "        data = json.load(file)\n",
    "\n",
    "        logger.debug(data[item[\"id\"]])\n",
    "        logger.info(f\"Adding {item['id']} true table to the manager\")\n",
    "\n",
    "        manager.add_document(\n",
    "            Document.model_validate(data[item[\"id\"]])\n",
    "        )\n",
    "\n",
    "# Persist the state to a file\n",
    "save_checkpoint(filename=config[\"DEFAULT_CHECKPOINT_FILE\"], manager=manager)"
   ]
  },
  {
   "cell_type": "markdown",
   "metadata": {},
   "source": [
    "## extract / classify elements"
   ]
  },
  {
   "cell_type": "markdown",
   "metadata": {},
   "source": [
    "### General functions and data structures"
   ]
  },
  {
   "cell_type": "markdown",
   "metadata": {},
   "source": [
    "LLM response model for P2"
   ]
  },
  {
   "cell_type": "code",
   "execution_count": 10,
   "metadata": {},
   "outputs": [],
   "source": [
    "class Classification(BaseModel):\n",
    "    type: str = Field(..., description=\"Type of the rule (e.g., Party, Data, Activity)\")\n",
    "    confidence: float = Field(..., ge=0, le=1, description=\"Confidence level of the classification\")\n",
    "    explanation: str = Field(..., description=\"Explanation of why the classification was made\")\n",
    "\n",
    "\n",
    "class StatementClassification(BaseModel):\n",
    "    doc_id: str = Field(..., description=\"Document ID associated with the statement\")\n",
    "    statement_id: str = Field(..., description=\"A provided string that identifies the statement. e.g., '1', 'Person'\")\n",
    "    statement_text: str = Field(..., description=\"The statement to be classified\")\n",
    "    statement_source: str = Field(..., description=\"Source of the statement\")\n",
    "    classification: List[Classification] = Field(..., description=\"List of classifications with explanations\")"
   ]
  },
  {
   "cell_type": "markdown",
   "metadata": {},
   "source": [
    "LLM response model for P2"
   ]
  },
  {
   "cell_type": "code",
   "execution_count": 11,
   "metadata": {},
   "outputs": [],
   "source": [
    "class SubClassification(BaseModel):\n",
    "    subtype: str = Field(..., description=\"Subtype of the rule. The title of the section/subsection.\")\n",
    "    templates_ids: List[str] = Field(..., description=\"List of template IDs that matched the statement.\")\n",
    "    confidence: float = Field(..., ge=0, le=1, description=\"Confidence level of the classification\")\n",
    "    explanation: str = Field(..., description=\"Explanation of why the classification was made\")\n",
    "\n",
    "\n",
    "class StatementSubClassification(BaseModel):\n",
    "    doc_id: str = Field(..., description=\"Document ID associated with the statement\")\n",
    "    statement_id: str = Field(..., description=\"A provided string that identifies the statement. e.g., '1', 'Person'\")\n",
    "    statement_text: str = Field(..., description=\"The statement to be classified\")\n",
    "    statement_source: str = Field(..., description=\"Source of the statement\")\n",
    "    classification: List[SubClassification] = Field(..., description=\"List of classifications with explanations\")\n"
   ]
  },
  {
   "cell_type": "code",
   "execution_count": 12,
   "metadata": {},
   "outputs": [],
   "source": [
    "from itertools import islice\n",
    "from collections import defaultdict\n",
    "\n",
    "def classify_and_add_prompts(element_type, rule_type, rules_to_classify, manager):\n",
    "    user_prompt_classify = []\n",
    "    system_prompt_classify = []\n",
    "\n",
    "    # Helper to split list into batches with up to 15 items each\n",
    "    def batch(iterable, max_batch_size):\n",
    "        iterator = iter(iterable)\n",
    "        while True:\n",
    "            batch_list = list(islice(iterator, max_batch_size))\n",
    "            if not batch_list:\n",
    "                break\n",
    "            yield batch_list\n",
    "\n",
    "    # Process rules in batches of up to 15 items\n",
    "    for batch_num, batch_rules in enumerate(batch(rules_to_classify, 15)):\n",
    "        logger.info(f\"Processing batch {batch_num + 1} with {len(batch_rules)} items\")\n",
    "        \n",
    "        # Group by 'statement_type' within each batch\n",
    "        grouped_data = defaultdict(list)\n",
    "        for item in batch_rules:\n",
    "            grouped_data[item[\"statement_type\"]].append(item)\n",
    "\n",
    "        # Process each statement type within the batch\n",
    "        for statement_type, items in grouped_data.items():\n",
    "            system_prompt = get_system_prompt_classify_p2(len(batch_rules), element_type, rule_type, statement_type)\n",
    "            system_prompt_classify.append(system_prompt)\n",
    "            user_prompt = get_user_prompt_classify(items)\n",
    "            user_prompt_classify.append(user_prompt)\n",
    "            \n",
    "            # Log token counts for the current batch and statement type\n",
    "            logger.info(f\"Batch {batch_num + 1} - token count system prompt {statement_type}: {token_estimator.estimate_tokens(system_prompt)}\")\n",
    "            logger.info(f\"Batch {batch_num + 1} - token count user prompt {statement_type}: {token_estimator.estimate_tokens(user_prompt)}\")\n",
    "\n",
    "            # Add documents to the manager with batch and statement type info\n",
    "            manager.add_document(\n",
    "                Document(\n",
    "                    id=f\"prompt-classify_P2_{element_type.replace(' ', '_')}_batch{batch_num + 1}_{statement_type}\",\n",
    "                    type=\"prompt\",\n",
    "                    content=system_prompt\n",
    "                )\n",
    "            )\n",
    "    \n",
    "    return user_prompt_classify, system_prompt_classify\n"
   ]
  },
  {
   "cell_type": "code",
   "execution_count": 13,
   "metadata": {},
   "outputs": [],
   "source": [
    "def classify_and_get_templates(\n",
    "    element_name, part, user_prompt_classify, system_prompt_classify, manager\n",
    "):\n",
    "    # Log the start of the process\n",
    "    logger.info(\n",
    "        f\"{part}. processing {len(system_prompt_classify)} prompts...\"\n",
    "    )\n",
    "    logger.info(f\"{part}. Classifying and getting templates for rules...\")\n",
    "\n",
    "    # Initialize an empty list to accumulate all responses\n",
    "    all_responses_classify = []\n",
    "\n",
    "    # Loop through each pair of user and system prompts with a counter\n",
    "    for index, (user_prompt, system_prompt) in enumerate(zip(user_prompt_classify, system_prompt_classify), start=1):\n",
    "        logger.info(f\"Processing classification and templates prompt {index} ...\")\n",
    "        logger.debug(system_prompt)\n",
    "        logger.debug(user_prompt)\n",
    "\n",
    "        # Query the language model\n",
    "        response_classify = query_instruct_llm(\n",
    "            system_prompt=system_prompt,\n",
    "            user_prompt=user_prompt,\n",
    "            document_model=List[StatementSubClassification],\n",
    "            llm_model=config[\"LLM\"][\"MODEL\"],\n",
    "            temperature=config[\"LLM\"][\"TEMPERATURE\"],\n",
    "            max_tokens=config[\"LLM\"][\"MAX_TOKENS\"],\n",
    "        )\n",
    "\n",
    "        logger.debug(response_classify)\n",
    "\n",
    "        # Accumulate the responses in the list\n",
    "        all_responses_classify.extend(response_classify)\n",
    "\n",
    "        logger.info(f\"Finished processing classification and templates prompt {index}.\")\n",
    "\n",
    "    # After the loop, create a single Document with all the accumulated responses\n",
    "    doc = Document(\n",
    "        id=f\"classify_{part}_{element_name.replace(' ', '_')}\",\n",
    "        type=\"llm_response_classification\",\n",
    "        content=all_responses_classify,\n",
    "    )\n",
    "    manager.add_document(doc)\n",
    "\n",
    "    return all_responses_classify\n"
   ]
  },
  {
   "cell_type": "markdown",
   "metadata": {},
   "source": [
    "### Prompt engeneering"
   ]
  },
  {
   "cell_type": "markdown",
   "metadata": {},
   "source": [
    "#### Taxonomy classification and templates for definitional and operative rules"
   ]
  },
  {
   "cell_type": "markdown",
   "metadata": {},
   "source": [
    "Instructions for classify rules using the top level of Witt (2012) taxonomy.\n",
    "\n",
    "In examining the classification of terms, names, fact types, and rules within business systems, key distinctions arise between definitional and operative rules, as well as in the structuring of term definitions. Terms, names, and fact types are foundational elements in the taxonomy of definitional rules, though they are not rules themselves. Instead, they serve as the core vocabulary for creating precise definitions and facilitating the rule-making process within an organization. Terms represent general concepts or classes, names uniquely identify specific instances or entities, and fact types capture relationships between terms. Together, these elements enable the consistent and unambiguous use of language across rule statements, models, and documentation, ensuring that definitional and operative rules function cohesively.\n",
    "\n",
    "Definitional rules aim to provide precise structures for organizational concepts, establishing clear, logical statements that support consistent interpretation and application of business language. These rules formalize term definitions, establish categorization schemes, and delineate relationships using fact types, which are classified by their structure as unary, binary, or higher-order and allow organizations to express relationships from simple Boolean properties to complex multi-term associations. When structured through definitional rule templates, fact types enhance clarity, facilitate shared understanding, and ensure accurate application within organizational rules, while supporting a conceptual backbone for business definitions.\n",
    "\n",
    "Names function as unique identifiers for specific instances or entities, adding precision to rule statements that require exact identification. Embedded within definitional rules, names provide specific references crucial for rules that depend on individual entities, distinguishing them from broader terms and reducing ambiguity in complex business contexts. Through structured templates within the definitional rule taxonomy, organizations can integrate names with uniformity and clarity, allowing for reliable reference to distinct entities within rule statements and models. \n",
    "\n",
    "Operative rules, on the other hand, govern actionable requirements, setting conditions under which actions must or must not occur. These include data, activity, and party rules, each ensuring compliance, standardization, and procedural integrity across business processes. Operative rules provide the necessary conditions for maintaining organizational consistency, detailing what actions are authorized in particular circumstances or specifying roles within defined tasks, thereby aligning processes with business objectives.\n",
    "\n",
    "To formalize term definitions, statements must adhere to specific templates within the definitional rule taxonomy, which clearly articulate each term's scope, meaning, and responsibilities. For instance, the term \"Commission\" can be formally defined within Template T7, part of the definitional rule taxonomy, to clarify its procedural functions as the entity that receives and forwards legal documents. By using templates for definitional rules, organizations achieve consistent, unambiguous documentation of terms, fact types, and names, which minimizes ambiguity and ensures standardized interpretation across all business contexts. This structured approach supports precise rule governance and enhances communication within organizational processes, reinforcing the integrity and reliability of rule-based systems."
   ]
  },
  {
   "cell_type": "markdown",
   "metadata": {},
   "source": [
    "System prompt (Instructions) for classify operative rules using the top level of Witt (2012) taxonomy."
   ]
  },
  {
   "cell_type": "code",
   "execution_count": 63,
   "metadata": {},
   "outputs": [],
   "source": [
    "def get_system_prompt_classify_p1():\n",
    "    return \"\"\"\n",
    "You are an expert in SBVR (Semantics of Business Vocabulary and Business Rules).\n",
    "\n",
    "You are working for regulatory bodies, auditors, or process managers.\n",
    "\n",
    "You will be provided with a list of statements formatted as JSON.\n",
    "\n",
    "Your task is to classify each statement into one or more Operative Rules types according to the given definitions.\n",
    "\n",
    "You also need to record a confidence level for each classification and provide an explanation for why the classification was made.\n",
    "\n",
    "# Classifications\n",
    "The **Operative rules** Govern actions or constraints that must or must not happen under certain conditions, such as Data Rules, Activity Rules, and Party Rules. types to classify are:\n",
    "- **Party rules**: A type of operative rule that restrict what parties can perform processes, activities, or play roles. They are operative rules.\n",
    "- **Data rules**: A type of operative rule that constrain the data included in a transaction (e.g., forms or messages) or a persistent dataset.\n",
    "- **Activity rules**: A type of operative rule that constrain the operation of one or more business processes or activities.\n",
    "\n",
    "# Input JSON Format\n",
    "The statements are provided in the following JSON format:\n",
    "\n",
    "```\n",
    "[\n",
    "    {\n",
    "        \"doc_id\": \"some doc id\",\n",
    "        \"statement_id\": \"some id\",\n",
    "        \"statement_source\": \"some source\",\n",
    "        \"statement_text\": \"some text\",\n",
    "    }\n",
    "]\n",
    "```\n",
    "\n",
    "# Task Requirements\n",
    "\n",
    "1. Classify each \"statement\" into one or more of the provided rule types (Party, Data, Activity).\n",
    "2. Assess a **confidence level** for each classification between 0 and 1.\n",
    "3. Provide a **clear explanation** for the classification decision.\n",
    "\n",
    "# Output Format\n",
    "Your output must also be in JSON format. It should contain, for each statement:\n",
    "- The `doc_id`\n",
    "- The `statement_id`\n",
    "- The original `statement_text`\n",
    "- The `statement_source` of the statement\n",
    "- A list of classifications (`classification`), each containing:\n",
    "  - The `type` of the rule.\n",
    "  - The `confidence` in your classification.\n",
    "  - An `explanation` detailing why you made the classification decision.\n",
    "\n",
    "Here is an example of the expected output:\n",
    "\n",
    "```\n",
    "[\n",
    "    {\n",
    "        \"doc_id\": \"some doc id\",\n",
    "        \"statement_id\": \"some id\",\n",
    "        \"statement_text\": \"some text\",\n",
    "        \"statement_source\": \"some source\",\n",
    "        \"classification\": [\n",
    "            {\n",
    "                \"type\": \"Data\",\n",
    "                \"confidence\": 0.9,\n",
    "                \"explanation\": \"This statement defines a constaint that mandates the presence of data.\"\n",
    "            },\n",
    "            {\n",
    "                \"type\": \"Party\",\n",
    "                \"confidence\": 0.2,\n",
    "                \"explanation\": \"There is little reference to any restriction on participants or parties, which means this may not be a valid classification.\"\n",
    "            },\n",
    "            ...\n",
    "        ]\n",
    "    },\n",
    "    {\n",
    "        \"doc_id\": ...,\n",
    "        \"statement_id\": ...,\n",
    "        \"statement_text\": ...,\n",
    "        \"statement_source\": ...,\n",
    "        \"classification\": ...\n",
    "    }\n",
    "]\n",
    "```\n",
    "\n",
    "# Notes\n",
    "- **Detail the Reasoning**: Make sure to provide explanations that justify why a particular rule type was chosen.\n",
    "- **Confidence Values**: The confidence value should genuinely represent how strongly you believe the classification is correct, with 1 being an absolute match and 0 meaning unlikely.\n",
    "\n",
    "Make sure that every statement is analyzed thoroughly, and the final justification for each classification is straightforward and adequately supports both the type choice and confidence level.\n",
    "\"\"\""
   ]
  },
  {
   "cell_type": "markdown",
   "metadata": {},
   "source": [
    "User prompt including the list of statements."
   ]
  },
  {
   "cell_type": "code",
   "execution_count": 62,
   "metadata": {},
   "outputs": [],
   "source": [
    "def get_user_prompt_classify(rules_to_classify):\n",
    "    return f\"\"\"\n",
    "# Here's the list of elements you'll need to classify\n",
    "\n",
    "{json.dumps(rules_to_classify, indent=2)}\n",
    "\"\"\""
   ]
  },
  {
   "cell_type": "markdown",
   "metadata": {},
   "source": [
    "System prompt (Instructions) for classify definitional and operative rules using the sub levels of Witt (2012) taxonomy.\n",
    "\n",
    "- element_type: term, name, fact, operative rule\n",
    "- rule_type: Definitional, Activity, Data, Party\n"
   ]
  },
  {
   "cell_type": "code",
   "execution_count": 61,
   "metadata": {},
   "outputs": [],
   "source": [
    "def get_system_prompt_classify_p2(element_count, element_type, rule_type, classification):\n",
    "    rule_information_provider = RuleInformationProvider(\"../data\")\n",
    "\n",
    "    subclassification_text = rule_information_provider.get_classification_and_templates(f\"{classification} rules\")        \n",
    "\n",
    "    return f\"\"\"\n",
    "You are an expert in SBVR (Semantics of Business Vocabulary and Business Rules).\n",
    "\n",
    "You are working for regulatory bodies, auditors, or process managers.\n",
    "    \n",
    "Classify {element_count} {element_type}(s) from the list of elements into one or more {rule_type} Rule subtypes, provide an explanation for each classification, and assign a confidence score between 0 and 1.\n",
    "\n",
    "Use the {rule_type} Rule subtype definitions, templates, and guidelines provided to perform a thorough analysis of each statement.\n",
    "\n",
    "# Steps\n",
    "\n",
    "1. **Identify {rule_type} Rule Subtype(s)**: For each `statement_text` provided, classify the rule type according to the given {rule_type} Rules subtypes and templates.\n",
    "    - Use provided templates, definitions, and details on each subtype to determine the correct classification.\n",
    "    - Cross-reference with template examples to accurately determine the appropriate rule subtype.\n",
    "\n",
    "2. **Assign Confidence Level**: Assess the suitability of each classification by assigning a confidence level between 0 and 1. \n",
    "    - 1 indicates a very strong match, while lower numbers indicate weaker matches.\n",
    "\n",
    "3. **Provide Explanation**: Provide a detailed, but concise, explanation justifying why a given subtype was assigned to the statement.\n",
    "    - Include reasoning related to the template structure, terminology used, or specific conditions the rule mentions.\n",
    "\n",
    "# {rule_type} Rule subtypes\n",
    "\n",
    "{subclassification_text}\n",
    "\n",
    "## Definitions\n",
    "- **attribute term**: A term that signifies a non-Boolean property of an entity class (or object class).\n",
    "- **role term**: A term that signifies the role played by one of the participating parties or objects in a relationship: for example, employer and employee are role terms (with respect to the relationship whereby an organization employs a person), whereas organization and person are not role terms.\n",
    "- **category attribute term**: A term is usually admin-defined, with some external inputs. They have unique labels (e.g., 'Cash') and may use internal codes. Boolean attributes indicate \"Yes\" or \"No\" responses, shown as checkboxes or \"Y/N\" fields.\n",
    "- **quantitative attribute**: An attribute on which some arithmetic can be performed (e.g., addition, subtraction) and on which comparisons other than \"=\" and \"<>\" can be performed.\n",
    "- **qualifying clause**: refines a rule's scope or specificity by limiting the subject or other terms to particular subsets or conditions (e.g., “for a return journey” or “that is current”).\n",
    "\n",
    "# Output Format\n",
    "\n",
    "The output must be provided in JSON format. Each element of the statement list must contain:\n",
    "- `doc_id`: The Document ID from the input.\n",
    "- `statement_id`: The original statement.\n",
    "- `statement_text`: The original statement_text.\n",
    "- `statement_source`: The original statement_source.\n",
    "- `classification`: A list that may contain multiple entries, each of which should have:\n",
    "    - `subtype`: Assigned rule subtype, use the title of the section/subsection (e.g., \"Activity time limit rules\").\n",
    "    - `templates_ids`: A list of template IDs that matched the statement.\n",
    "    - `confidence`: A float indicating confidence in classification.\n",
    "    - `explanation`: A textual explanation detailing why the classification was appropriate.\n",
    "\n",
    "The output JSON should look like this:\n",
    "\n",
    "```\n",
    "[\n",
    "    {{\n",
    "        \"doc_id\": \"some doc id\",\n",
    "        \"statement_id\": \"some id\",\n",
    "        \"statement_text\": \"some text\",\n",
    "        \"statement_source\": \"some source\",\n",
    "        \"classification\": [\n",
    "            {{\n",
    "                \"subtype\": \"Some Subtype Title\",\n",
    "                \"templates_ids\": [\"T123\", \"T456\"],\n",
    "                \"confidence\": 0.9,\n",
    "                \"explanation\": \"This statement restricts the occurrence of an activity during a specified time. The use of 'must not occur' clearly indicates an Activity time limit rule.\"\n",
    "            }},\n",
    "            {{\n",
    "                \"subtype\": \"Another Subtype Title\",\n",
    "                \"templates_ids\": [\"T789\"],\n",
    "                \"confidence\": 0.4,\n",
    "                \"explanation\": \"There are elements of a participation restriction, but since it isn't clearly specified, the match is weak.\"\n",
    "            }}\n",
    "        ]\n",
    "    }},\n",
    "    {{\n",
    "        \"doc_id\": \"another doc id\",\n",
    "        \"statement_id\": \"another id\",\n",
    "        \"statement_text\": \"another text\",\n",
    "        \"statement_source\": \"another source\",\n",
    "        \"classification\": [\n",
    "            {{\n",
    "                \"subtype\": \"Subtype Title\",\n",
    "                \"templates_ids\": [\"T123\"],\n",
    "                \"confidence\": 0.7,\n",
    "                \"explanation\": \"The clause dictates who is allowed to perform the task, indicating a party restriction context.\"\n",
    "            }}\n",
    "        ]\n",
    "    }},\n",
    "    ...\n",
    "]\n",
    "```\n",
    "\n",
    "# Notes\n",
    "- **Detail the Reasoning**: Ensure the explanations refer to template structure, specific terminology used, or matching requirements for the rule subtype.\n",
    "- **Confidence Assessment**: Be honest about the degree of certainty in your classification, and provide meaningful values for confidence (e.g., if templates do not match perfectly but there are similarities, confidence should be moderate to low).\n",
    "- **Multiple Classifications**: In cases where one statement seems to fit multiple rule subtypes, include multiple classifications with appropriate confidence ratings and explanations for each.\n",
    "\n",
    "This output will be used to not only understand classifications but also inform next steps regarding validation and business rule structuring.\n",
    "\"\"\""
   ]
  },
  {
   "cell_type": "markdown",
   "metadata": {},
   "source": [
    "### Execution"
   ]
  },
  {
   "cell_type": "markdown",
   "metadata": {},
   "source": [
    "#### Operative Rules classification"
   ]
  },
  {
   "cell_type": "markdown",
   "metadata": {},
   "source": [
    "##### Processing P1 - Classify Operative Rules"
   ]
  },
  {
   "cell_type": "markdown",
   "metadata": {},
   "source": [
    "User prompt (Data)"
   ]
  },
  {
   "cell_type": "code",
   "execution_count": null,
   "metadata": {},
   "outputs": [
    {
     "name": "stderr",
     "output_type": "stream",
     "text": [
      "2024-11-07 00:07:24 - INFO - DocumentManager restored from file: ../data/checkpoints/documents-2024-11-01-3.json\n",
      "2024-11-07 00:07:24 - INFO - Checkpoint restored from ../data/checkpoints/documents-2024-11-01-3.json.\n"
     ]
    }
   ],
   "source": [
    "manager = restore_checkpoint(filename=config[\"DEFAULT_CHECKPOINT_FILE\"])\n",
    "\n",
    "processor = DocumentProcessor(manager)\n",
    "\n",
    "rules_to_classify_p1 = [\n",
    "    {\n",
    "        \"doc_id\": item[\"doc_id\"],\n",
    "        \"statement_id\": item[\"statement_id\"],\n",
    "        \"statement_source\": item[\"source\"],\n",
    "        \"statement_text\": item[\"statement\"]\n",
    "    }\n",
    "    for item in processor.get_rules()\n",
    "]\n",
    "\n",
    "logger.info(f\"Total rules to classify: {len(rules_to_classify_p1)}\")"
   ]
  },
  {
   "cell_type": "markdown",
   "metadata": {},
   "source": [
    "Running classification."
   ]
  },
  {
   "cell_type": "code",
   "execution_count": 66,
   "metadata": {},
   "outputs": [
    {
     "name": "stderr",
     "output_type": "stream",
     "text": [
      "2024-11-07 00:07:31 - INFO - P1. Classifing Operative Rules...\n",
      "2024-11-07 00:07:51 - INFO - HTTP Request: POST https://api.openai.com/v1/chat/completions \"HTTP/1.1 200 OK\"\n",
      "2024-11-07 00:08:16 - INFO - HTTP Request: POST https://api.openai.com/v1/chat/completions \"HTTP/1.1 200 OK\"\n",
      "2024-11-07 00:08:16 - INFO - Execution time for query_instruct_llm: 39.17 seconds\n",
      "2024-11-07 00:08:16 - INFO - Saving checkpoint...\n",
      "2024-11-07 00:08:16 - INFO - DocumentManager state persisted to file: ../data/checkpoints/documents-2024-11-01-3.json\n",
      "2024-11-07 00:08:16 - INFO - Checkpoint saved.\n",
      "2024-11-07 00:08:16 - INFO - Finished processing classification.\n"
     ]
    }
   ],
   "source": [
    "# Part 1 - Classify Operative Rules\n",
    "user_prompt = get_user_prompt_classify(rules_to_classify_p1)\n",
    "system_prompt = get_system_prompt_classify_p1()\n",
    "\n",
    "logger.info(\"P1. Classifing Operative Rules...\")\n",
    "logger.debug(system_prompt)\n",
    "logger.debug(user_prompt)\n",
    "\n",
    "response_classify_p1 = query_instruct_llm(\n",
    "    system_prompt=system_prompt,\n",
    "    user_prompt=user_prompt,\n",
    "    document_model=List[StatementClassification],\n",
    "    llm_model=config[\"LLM\"][\"MODEL\"],\n",
    "    temperature=config[\"LLM\"][\"TEMPERATURE\"],\n",
    "    max_tokens=config[\"LLM\"][\"MAX_TOKENS\"],\n",
    ")\n",
    "\n",
    "logger.debug(response_classify_p1)\n",
    "\n",
    "doc_1 = Document(id=\"classify_P1\", type=\"llm_response_classification\", content=response_classify_p1)\n",
    "manager.add_document(doc_1)\n",
    "\n",
    "logger.info(\"Saving checkpoint...\")\n",
    "save_checkpoint(filename=config[\"DEFAULT_CHECKPOINT_FILE\"], manager=manager)\n",
    "\n",
    "logger.info(\"Finished processing classification.\")"
   ]
  },
  {
   "cell_type": "markdown",
   "metadata": {},
   "source": [
    "##### Processing P2 - Classify and get templates"
   ]
  },
  {
   "cell_type": "markdown",
   "metadata": {},
   "source": [
    "User prompt (Data)"
   ]
  },
  {
   "cell_type": "markdown",
   "metadata": {},
   "source": [
    "System and user prompt data\n",
    "\n",
    "Create a prompt for each of the type of rule (Activity, Data, Party) from P1 with the statements for that type."
   ]
  },
  {
   "cell_type": "code",
   "execution_count": null,
   "metadata": {},
   "outputs": [
    {
     "name": "stderr",
     "output_type": "stream",
     "text": [
      "2024-11-07 00:09:14 - INFO - DocumentManager restored from file: ../data/checkpoints/documents-2024-11-01-3.json\n",
      "2024-11-07 00:09:14 - INFO - Checkpoint restored from ../data/checkpoints/documents-2024-11-01-3.json.\n"
     ]
    }
   ],
   "source": [
    "manager = restore_checkpoint(filename=config[\"DEFAULT_CHECKPOINT_FILE\"])\n",
    "\n",
    "processor = DocumentProcessor(manager)\n",
    "\n",
    "rules_to_classify_p2 = [\n",
    "    {\n",
    "        \"doc_id\": item[\"doc_id\"],\n",
    "        \"statement_id\": item[\"statement_id\"],\n",
    "        \"statement_source\": item[\"source\"],\n",
    "        \"statement_text\": item[\"statement\"],\n",
    "        \"statement_type\": item[\"type\"]\n",
    "    }\n",
    "    for item in processor.get_rules()\n",
    "]\n",
    "\n",
    "logger.info(f\"Total rules to classify: {len(rules_to_classify_p2)}\")"
   ]
  },
  {
   "cell_type": "markdown",
   "metadata": {},
   "source": [
    "Create a prompt for each of the type of rule (Activity, Data, Party) from P1 with the statements for that type."
   ]
  },
  {
   "cell_type": "code",
   "execution_count": null,
   "metadata": {},
   "outputs": [
    {
     "name": "stderr",
     "output_type": "stream",
     "text": [
      "2024-11-07 00:09:48 - INFO - Processing batch 1 with 6 items\n",
      "2024-11-07 00:09:49 - INFO - Batch 1 - token count system prompt Party: 3198\n",
      "2024-11-07 00:09:49 - INFO - Batch 1 - token count user prompt Party: 340\n",
      "2024-11-07 00:09:49 - INFO - Batch 1 - token count system prompt Activity: 5339\n",
      "2024-11-07 00:09:49 - INFO - Batch 1 - token count user prompt Activity: 272\n",
      "2024-11-07 00:09:49 - INFO - DocumentManager state persisted to file: ../data/checkpoints/documents-2024-11-01-3.json\n",
      "2024-11-07 00:09:49 - INFO - Checkpoint saved.\n"
     ]
    }
   ],
   "source": [
    "user_prompt_classify_p2_op_rules, system_prompt_classify_p2_op_rules = (\n",
    "    classify_and_add_prompts(\n",
    "        \"operative rule\", \"Operative\", rules_to_classify_p2, manager\n",
    "    )\n",
    ")\n",
    "\n",
    "logger.info(f\"Prompts to run {len(user_prompt_classify_p2_op_rules)}\")\n",
    "\n",
    "# Persist the state to a file\n",
    "save_checkpoint(filename=config[\"DEFAULT_CHECKPOINT_FILE\"], manager=manager)"
   ]
  },
  {
   "cell_type": "markdown",
   "metadata": {},
   "source": [
    "P2. User Prompt to classify Operative Rules and get templates"
   ]
  },
  {
   "cell_type": "markdown",
   "metadata": {},
   "source": [
    "Processing P2 - Subclassify Operative Rules\n",
    "\n",
    "Running classification. For each type of rule get response from the LLM."
   ]
  },
  {
   "cell_type": "code",
   "execution_count": null,
   "metadata": {},
   "outputs": [
    {
     "name": "stderr",
     "output_type": "stream",
     "text": [
      "2024-11-07 00:10:06 - INFO - P2_Operative. processing 2 prompts...\n",
      "2024-11-07 00:10:06 - INFO - P2_Operative. Classifying and getting templates for rules...\n",
      "2024-11-07 00:10:06 - INFO - Processing classification and templates prompt 1 ...\n",
      "2024-11-07 00:10:17 - INFO - HTTP Request: POST https://api.openai.com/v1/chat/completions \"HTTP/1.1 200 OK\"\n",
      "2024-11-07 00:10:17 - INFO - Execution time for query_instruct_llm: 10.47 seconds\n",
      "2024-11-07 00:10:17 - INFO - Finished processing classification and templates prompt 1.\n",
      "2024-11-07 00:10:17 - INFO - Processing classification and templates prompt 2 ...\n",
      "2024-11-07 00:10:23 - INFO - HTTP Request: POST https://api.openai.com/v1/chat/completions \"HTTP/1.1 200 OK\"\n",
      "2024-11-07 00:10:23 - INFO - Execution time for query_instruct_llm: 6.53 seconds\n",
      "2024-11-07 00:10:23 - INFO - Finished processing classification and templates prompt 2.\n",
      "2024-11-07 00:10:23 - INFO - DocumentManager state persisted to file: ../data/checkpoints/documents-2024-11-01-3.json\n",
      "2024-11-07 00:10:23 - INFO - Checkpoint saved.\n"
     ]
    }
   ],
   "source": [
    "all_responses_classify_p2_op_rules = classify_and_get_templates(\n",
    "    \"rules\",\n",
    "    \"P2_Operative\",\n",
    "    user_prompt_classify_p2_op_rules,\n",
    "    system_prompt_classify_p2_op_rules,\n",
    "    manager,\n",
    ")\n",
    "\n",
    "logger.info(f\"Total responses: {len(all_responses_classify_p2_op_rules)}\")\n",
    "\n",
    "# Persist the state to a file\n",
    "save_checkpoint(filename=config[\"DEFAULT_CHECKPOINT_FILE\"], manager=manager)"
   ]
  },
  {
   "cell_type": "markdown",
   "metadata": {},
   "source": [
    "##### Investigating miss classification"
   ]
  },
  {
   "cell_type": "markdown",
   "metadata": {},
   "source": [
    "Prompt P2"
   ]
  },
  {
   "cell_type": "code",
   "execution_count": null,
   "metadata": {},
   "outputs": [],
   "source": [
    "doc_first_attempt_p1 = {\n",
    "    \"doc_id\": \"\\u00a7 275.0-2\",\n",
    "    \"statement_id\": \"4\",\n",
    "    \"statement_text\": \"If the Secretary certifies that the Commission was served with process, pleadings, or other papers pursuant to paragraph (a)(1) of this section and forwarded these documents to a named party pursuant to paragraph (a)(2) of this section, this certification constitutes evidence of service upon that party.\",\n",
    "    \"statement_source\": \"(a)(3)\",\n",
    "    \"classification\": [\n",
    "        {\n",
    "            \"type\": \"Data\",\n",
    "            \"confidence\": 0.6,\n",
    "            \"explanation\": \"The statement involves certification, which is a form of data that serves as evidence of service.\"\n",
    "        },\n",
    "        {\n",
    "            \"type\": \"Activity\",\n",
    "            \"confidence\": 0.5,\n",
    "            \"explanation\": \"The statement describes the activity of certifying and forwarding documents, which are part of the process.\"\n",
    "        }\n",
    "    ]\n",
    "}"
   ]
  },
  {
   "cell_type": "code",
   "execution_count": null,
   "metadata": {},
   "outputs": [],
   "source": [
    "doc_first_attempt_p2 = {\n",
    "    \"doc_id\": \"\\u00a7 275.0-2\",\n",
    "    \"statement_id\": \"4\",\n",
    "    \"statement_text\": \"If the Secretary certifies that the Commission was served with process, pleadings, or other papers pursuant to paragraph (a)(1) of this section and forwarded these documents to a named party pursuant to paragraph (a)(2) of this section, this certification constitutes evidence of service upon that party.\",\n",
    "    \"statement_source\": \"(a)(3)\",\n",
    "    \"classification\": [\n",
    "        {\n",
    "            \"subtype\": \"Data content rules\",\n",
    "            \"templates_ids\": [],\n",
    "            \"confidence\": 0.6,\n",
    "            \"explanation\": \"The statement describes a condition under which a certification constitutes evidence of service. It involves the presence of certain documents and their forwarding, which relates to data content. However, it does not fit neatly into a specific template, leading to a moderate confidence level.\"\n",
    "        }\n",
    "    ]\n",
    "}"
   ]
  },
  {
   "cell_type": "code",
   "execution_count": null,
   "metadata": {},
   "outputs": [],
   "source": [
    "doc_second_attempt_p1 = {\n",
    "    \"doc_id\": \"\\u00a7 275.0-2\",\n",
    "    \"statement_id\": \"4\",\n",
    "    \"statement_text\": \"If the Secretary certifies that the Commission was served with process, pleadings, or other papers pursuant to paragraph (a)(1) of this section and forwarded these documents to a named party pursuant to paragraph (a)(2) of this section, this certification constitutes evidence of service upon that party.\",\n",
    "    \"statement_source\": \"(a)(3)\",\n",
    "    \"classification\": [\n",
    "        {\n",
    "            \"type\": \"Party\",\n",
    "            \"confidence\": 0.7,\n",
    "            \"explanation\": \"The statement involves the certification of service to a named party, indicating a role for the Secretary and the parties involved. This aligns with Party rules as it specifies actions related to parties.\",\n",
    "        },\n",
    "        {\n",
    "            \"type\": \"Activity\",\n",
    "            \"confidence\": 0.6,\n",
    "            \"explanation\": \"The statement describes the certification process as part of a business activity, which aligns with Activity rules as it governs the operation of certifying service.\",\n",
    "        },\n",
    "    ],\n",
    "}"
   ]
  },
  {
   "cell_type": "code",
   "execution_count": null,
   "metadata": {},
   "outputs": [],
   "source": [
    "doc_second_attempt_p2 = {\n",
    "    \"doc_id\": \"\\u00a7 275.0-2\",\n",
    "    \"statement_id\": \"4\",\n",
    "    \"statement_text\": \"If the Secretary certifies that the Commission was served with process, pleadings, or other papers pursuant to paragraph (a)(1) of this section and forwarded these documents to a named party pursuant to paragraph (a)(2) of this section, this certification constitutes evidence of service upon that party.\",\n",
    "    \"statement_source\": \"(a)(3)\",\n",
    "    \"classification\": [\n",
    "        {\n",
    "            \"subtype\": \"Responsibility rules\",\n",
    "            \"templates_ids\": [\"T56\"],\n",
    "            \"confidence\": 0.7,\n",
    "            \"explanation\": \"This statement involves the certification process by the Secretary, which serves as evidence of service. It defines a responsibility related to the certification of document forwarding, fitting the responsibility rule subtype.\",\n",
    "        }\n",
    "    ],\n",
    "}"
   ]
  },
  {
   "cell_type": "code",
   "execution_count": 80,
   "metadata": {},
   "outputs": [
    {
     "name": "stdout",
     "output_type": "stream",
     "text": [
      "\n",
      "You are an expert in SBVR (Semantics of Business Vocabulary and Business Rules).\n",
      "\n",
      "You are working for regulatory bodies, auditors, or process managers.\n",
      "    \n",
      "Classify 6 operative rule(s) from the list of elements into one or more Operative Rule subtypes, provide an explanation for each classification, and assign a confidence score between 0 and 1.\n",
      "\n",
      "Use the Operative Rule subtype definitions, templates, and guidelines provided to perform a thorough analysis of each statement.\n",
      "\n",
      "# Steps\n",
      "\n",
      "1. **Identify Operative Rule Subtype(s)**: For each `statement_text` provided, classify the rule type according to the given Operative Rules subtypes and templates.\n",
      "    - Use provided templates, definitions, and details on each subtype to determine the correct classification.\n",
      "    - Cross-reference with template examples to accurately determine the appropriate rule subtype.\n",
      "\n",
      "2. **Assign Confidence Level**: Assess the suitability of each classification by assigning a confidence level between 0 and 1. \n",
      "    - 1 indicates a very strong match, while lower numbers indicate weaker matches.\n",
      "\n",
      "3. **Provide Explanation**: Provide a detailed, but concise, explanation justifying why a given subtype was assigned to the statement.\n",
      "    - Include reasoning related to the template structure, terminology used, or specific conditions the rule mentions.\n",
      "\n",
      "# Operative Rule subtypes\n",
      "\n",
      "## Party rules\n",
      "\n",
      "**ID**: 9.5\n",
      "\n",
      "**Definition**: Party rules (all of which are operative rules) restrict the parties who can perform a process or activity or play a role. Party rules are constraints that determine which parties can perform certain processes, activities, or roles, often based on characteristics like age, certification, or specific responsibilities. Identifying party rules involves analyzing the qualifications, restrictions, and access permissions required for parties to execute activities or hold certain roles in a business context.\n",
      "\n",
      "**Templates**: Look in the subsection(s).\n",
      "\n",
      "### Party restriction rules\n",
      "\n",
      "**ID**: 9.5.1\n",
      "\n",
      "**Definition**: A party restriction rule places restrictions on who can perform some processes or activities or play some roles, based on age, some other physical characteristic or capability, or training, testing, and certification in the appropriate skills.\n",
      "\n",
      "**Template ID**: T53\n",
      "\n",
      "**Template Explanation**: This template has the following important options and placeholders:\n",
      "1. <party signifier 1> is a generic term signifying all parties covered by the rule, such as \"person\", \"employee\", or \"organization\";\n",
      "2. the same term must be substituted in place of each <party signifier 1>;\n",
      "3. <qualifying clause> is used if the rule governs some proper subset of the parties signified by <party signifier 1>; the options for a <qualifying clause> are listed in subtemplate S14;\n",
      "4. <predicate 1> signifies the restricted activity or role;\n",
      "5. \"the <attribute signifier> of \" is used if some attribute of a party qualifies that party to perform the activity or play the role;\n",
      "6. <predicate 2> signifies the value of <attribute signifier>, if used, or some relationship in which a party must participate in order to qualify for the activity or role.\n",
      "\n",
      "\n",
      "**Template Text**:\n",
      "\n",
      "```template\n",
      "A <party signifier 1>\n",
      "  {<qualifying clause>| }\n",
      "may <predicate 1>\n",
      "only if {the <attribute signifier> of| } that <party signifier 1>\n",
      "  <predicate 2>.\n",
      "```\n",
      "\n",
      "**Example ID**: R140\n",
      "\n",
      "**Example Text**:\n",
      "\n",
      "```example\n",
      "A person\n",
      "may travel alone\n",
      "only if the age of that person is at least 2 years.\n",
      "```\n",
      "\n",
      "**Example ID**: R141\n",
      "\n",
      "**Example Text**:\n",
      "\n",
      "```example\n",
      "A person\n",
      "may be employed as a cabin crew member\n",
      "only if the height of that person is at least 160 cm.\n",
      "```\n",
      "\n",
      "**Example ID**: R142\n",
      "\n",
      "**Example Text**:\n",
      "\n",
      "```example\n",
      "A passenger\n",
      "may be allocated to a seat in an exit row\n",
      "only if that passenger is able to open an aircraft door.\n",
      "```\n",
      "\n",
      "**Example ID**: R143\n",
      "\n",
      "**Example Text**:\n",
      "\n",
      "```example\n",
      "A person\n",
      "may be rostered on a flight crew\n",
      "only if that person holds an airline transport pilot license\n",
      "  that is current\n",
      "and a type endorsement\n",
      "  that is current for each aircraft type to be flown by that flight crew.\n",
      "```\n",
      "\n",
      "**Example ID**: R397\n",
      "\n",
      "**Example Text**:\n",
      "\n",
      "```example\n",
      "A person\n",
      "may be rostered as the pilot in command\n",
      "  on a flight crew\n",
      "only if that person holds a command endorsement\n",
      "  that is current.\n",
      "```\n",
      "\n",
      "**Example ID**: R398\n",
      "\n",
      "**Example Text**:\n",
      "\n",
      "```example\n",
      "A person\n",
      "may be rostered as a flight crew member\n",
      "only if the current medical status of that person is A1.\n",
      "```\n",
      "\n",
      "### Role separation rules\n",
      "\n",
      "**ID**: 9.5.2a\n",
      "\n",
      "**Definition**: A role separation rule prohibits the same party from performing two activities.\n",
      "\n",
      "**Template ID**: T54\n",
      "\n",
      "**Template Explanation**: This template has the following important options and placeholders:\n",
      "1. <party signifier 1> is a generic term signifying all parties covered by the rule, such as \"person\", \"employee\", or \"organization\";\n",
      "2. the same term must be substituted in place of each <party signifier 1>;\n",
      "3. <qualifying clause 1> defines one of the activities while <qualifying clause 2> defines the other; the options for a <qualifying clause> are listed in subtemplate S14.\n",
      "\n",
      "\n",
      "**Template Text**:\n",
      "\n",
      "```template\n",
      "The <party signifier 1>\n",
      "  <qualifying clause 1>\n",
      "must {not| } be {the same|one of the} <party signifier 1>\n",
      "  <qualifying clause 2>\n",
      "{{if |unless} <conditional clause>| }.\n",
      "```\n",
      "\n",
      "**Example ID**: R144\n",
      "\n",
      "**Example Text**:\n",
      "\n",
      "```example\n",
      "The cabin crew member\n",
      "  who checks that an aircraft door is disarmed\n",
      "must not be the same cabin crew member\n",
      "  who disarmed that aircraft door.\n",
      "```\n",
      "\n",
      "**Example ID**: R399\n",
      "\n",
      "**Example Text**:\n",
      "\n",
      "```example\n",
      "The consultant\n",
      "  who performs the quality review\n",
      "  of a project deliverable\n",
      "must not be one of the consultants\n",
      "  who updated that project deliverable.\n",
      "```\n",
      "\n",
      "### Role binding rules\n",
      "\n",
      "**ID**: 9.5.2b\n",
      "\n",
      "**Definition**: A role binding rule requires that the party performing the second of two activities be the same as the party who performed the first of those activities.\n",
      "\n",
      "**Template ID**: T54\n",
      "\n",
      "**Template Explanation**: This template has the following important options and placeholders:\n",
      "1. <party signifier 1> is a generic term signifying all parties covered by the rule, such as \"person\", \"employee\", or \"organization\";\n",
      "2. the same term must be substituted in place of each <party signifier 1>;\n",
      "3. <qualifying clause 1> defines one of the activities while <qualifying clause 2> defines the other; the options for a <qualifying clause> are listed in subtemplate S14.\n",
      "\n",
      "\n",
      "**Template Text**:\n",
      "\n",
      "```template\n",
      "The <party signifier 1>\n",
      "  <qualifying clause 1>\n",
      "must {not| } be {the same|one of the} <party signifier 1>\n",
      "  <qualifying clause 2>\n",
      "{{if |unless} <conditional clause>| }.\n",
      "```\n",
      "\n",
      "**Example ID**: R145\n",
      "\n",
      "**Example Text**:\n",
      "\n",
      "```example\n",
      "The flight crew member\n",
      "  who signs the pre-flight check report\n",
      "must be the same flight crew member\n",
      "  who performed the pre-flight check\n",
      "  documented in that pre-flight check report.\n",
      "```\n",
      "\n",
      "**Example ID**: R400\n",
      "\n",
      "**Example Text**:\n",
      "\n",
      "```example\n",
      "The consultant\n",
      "  who signs the quality review report\n",
      "must be the same consultant\n",
      "  who performed the quality review\n",
      "  documented in that quality review report.\n",
      "```\n",
      "\n",
      "### Information access rules\n",
      "\n",
      "**ID**: 9.5.3\n",
      "\n",
      "**Definition**: An information access rule defines who can view, create, or update particular information.\n",
      "\n",
      "**Template ID**: T55\n",
      "\n",
      "**Template Explanation**: These templates have the following important options and placeholders:\n",
      "1. <information signifier> is the term signifying the information item to which access is restricted;\n",
      "2. <qualifying clause> is used to specify precisely which instances of that information item are subject to restricted access;\n",
      "3. <information access process> defines the form of access that is restricted; the <information access process> placeholder can be replaced by anything defined in the subtemplate S22.\n",
      "4. the verb phrase defining the form of access is followed by\n",
      "  a. a single <object> if only one role or position is allowed access, or\n",
      "  b. a list of the roles or positions allowed access, the last two separated by \"or\" (or a comma and \"or\" if adhering to U.S. punctuation standards) and each other pair separated by a comma.\n",
      "Options for <object> are listed in subtemplate S11.\n",
      "\n",
      "\n",
      "**Template Text**:\n",
      "\n",
      "```template\n",
      "{The|A|An} <information signifier>\n",
      "  <qualifying clause>\n",
      "may be <information access process> by\n",
      "only {<object 1>| [<object 2>, or]}\n",
      "{{if |unless} <conditional clause>| }.\n",
      "```\n",
      "\n",
      "**Example ID**: R146\n",
      "\n",
      "**Example Text**:\n",
      "\n",
      "```example\n",
      "The leave records of an employee\n",
      "may be viewed by only\n",
      "  that employee,\n",
      "  the supervisor of that employee,\n",
      "  or a human resources officer.\n",
      "```\n",
      "\n",
      "**Example ID**: R401\n",
      "\n",
      "**Example Text**:\n",
      "\n",
      "```example\n",
      "A payroll record\n",
      "  of an employee\n",
      "may be viewed by\n",
      "only that employee, the supervisor of that employee, or a payroll officer.\n",
      "```\n",
      "\n",
      "### Responsibility rules\n",
      "\n",
      "**ID**: 9.5.4\n",
      "\n",
      "**Definition**: A responsibility rule defines who is responsible for performing a particular process or liable for a particular fee, duty, or tax.\n",
      "\n",
      "**Template ID**: T56\n",
      "\n",
      "**Template Explanation**: These templates have the following important options and placeholders:\n",
      "1. <responsibility signifier> is the term signifying the process, fee, duty, or tax;\n",
      "2. <qualifying clause 1> is used if necessary to specify precisely which instances of that process, fee, duty, or tax are subject to the responsibility rule;\n",
      "3. <party signifier> is the term signifying the party responsible for performing the process or liable for the fee, duty, or tax;\n",
      "4. <qualifying clause 2> is used if necessary to specify precisely which instance or instances of that party are responsible.\n",
      "\n",
      "\n",
      "**Template Text**:\n",
      "\n",
      "```template\n",
      "{The|A|An| } <responsibility signifier>\n",
      "  {<qualifying clause 1>| }\n",
      "must <verb phrase> {the |a|an} <party signifier>\n",
      "  {<qualifying clause 2>| }\n",
      "{{if |unless} <conditional clause>| }.\n",
      "```\n",
      "\n",
      "**Example ID**: R147\n",
      "\n",
      "**Example Text**:\n",
      "\n",
      "```example\n",
      "The flight crew member\n",
      "  who signs the flight check report\n",
      "must be the same flight crew member\n",
      "  who performed the flight check\n",
      "  documented in that flight check report.\n",
      "```\n",
      "\n",
      "**Example ID**: R402\n",
      "\n",
      "**Example Text**:\n",
      "\n",
      "```example\n",
      "The final quality review\n",
      "  of each project deliverable\n",
      "must be performed by the quality assurance officer.```\n",
      "\n",
      "\n",
      "\n",
      "## Definitions\n",
      "- **attribute term**: A term that signifies a non-Boolean property of an entity class (or object class).\n",
      "- **role term**: A term that signifies the role played by one of the participating parties or objects in a relationship: for example, employer and employee are role terms (with respect to the relationship whereby an organization employs a person), whereas organization and person are not role terms.\n",
      "- **category attribute term**: A term is usually admin-defined, with some external inputs. They have unique labels (e.g., 'Cash') and may use internal codes. Boolean attributes indicate \"Yes\" or \"No\" responses, shown as checkboxes or \"Y/N\" fields.\n",
      "- **quantitative attribute**: An attribute on which some arithmetic can be performed (e.g., addition, subtraction) and on which comparisons other than \"=\" and \"<>\" can be performed.\n",
      "- **qualifying clause**: refines a rule's scope or specificity by limiting the subject or other terms to particular subsets or conditions (e.g., “for a return journey” or “that is current”).\n",
      "\n",
      "# Output Format\n",
      "\n",
      "The output must be provided in JSON format. Each element of the statement list must contain:\n",
      "- `doc_id`: The Document ID from the input.\n",
      "- `statement_id`: The original statement.\n",
      "- `statement_text`: The original statement_text.\n",
      "- `statement_source`: The original statement_source.\n",
      "- `classification`: A list that may contain multiple entries, each of which should have:\n",
      "    - `subtype`: Assigned rule subtype, use the title of the section/subsection (e.g., \"Activity time limit rules\").\n",
      "    - `templates_ids`: A list of template IDs that matched the statement.\n",
      "    - `confidence`: A float indicating confidence in classification.\n",
      "    - `explanation`: A textual explanation detailing why the classification was appropriate.\n",
      "\n",
      "The output JSON should look like this:\n",
      "\n",
      "```\n",
      "[\n",
      "    {\n",
      "        \"doc_id\": \"some doc id\",\n",
      "        \"statement_id\": \"some id\",\n",
      "        \"statement_text\": \"some text\",\n",
      "        \"statement_source\": \"some source\",\n",
      "        \"classification\": [\n",
      "            {\n",
      "                \"subtype\": \"Some Subtype Title\",\n",
      "                \"templates_ids\": [\"T123\", \"T456\"],\n",
      "                \"confidence\": 0.9,\n",
      "                \"explanation\": \"This statement restricts the occurrence of an activity during a specified time. The use of 'must not occur' clearly indicates an Activity time limit rule.\"\n",
      "            },\n",
      "            {\n",
      "                \"subtype\": \"Another Subtype Title\",\n",
      "                \"templates_ids\": [\"T789\"],\n",
      "                \"confidence\": 0.4,\n",
      "                \"explanation\": \"There are elements of a participation restriction, but since it isn't clearly specified, the match is weak.\"\n",
      "            }\n",
      "        ]\n",
      "    },\n",
      "    {\n",
      "        \"doc_id\": \"another doc id\",\n",
      "        \"statement_id\": \"another id\",\n",
      "        \"statement_text\": \"another text\",\n",
      "        \"statement_source\": \"another source\",\n",
      "        \"classification\": [\n",
      "            {\n",
      "                \"subtype\": \"Subtype Title\",\n",
      "                \"templates_ids\": [\"T123\"],\n",
      "                \"confidence\": 0.7,\n",
      "                \"explanation\": \"The clause dictates who is allowed to perform the task, indicating a party restriction context.\"\n",
      "            }\n",
      "        ]\n",
      "    },\n",
      "    ...\n",
      "]\n",
      "```\n",
      "\n",
      "# Notes\n",
      "- **Detail the Reasoning**: Ensure the explanations refer to template structure, specific terminology used, or matching requirements for the rule subtype.\n",
      "- **Confidence Assessment**: Be honest about the degree of certainty in your classification, and provide meaningful values for confidence (e.g., if templates do not match perfectly but there are similarities, confidence should be moderate to low).\n",
      "- **Multiple Classifications**: In cases where one statement seems to fit multiple rule subtypes, include multiple classifications with appropriate confidence ratings and explanations for each.\n",
      "\n",
      "This output will be used to not only understand classifications but also inform next steps regarding validation and business rule structuring.\n",
      "\n"
     ]
    }
   ],
   "source": [
    "print(manager.retrieve_document(\"prompt-classify_P2_operative_rule_batch1_Party\", \"prompt\").content)"
   ]
  },
  {
   "cell_type": "markdown",
   "metadata": {},
   "source": [
    "**Conclusion**\n",
    "\n",
    "The classification of the given statement initially had a lower confidence level because it could be interpreted from two distinct perspectives: a **party rule** or a **data consistency rule**. A **party rule** focuses on procedural governance and accountability, emphasizing the roles, responsibilities, and authority of individuals—in this case, the Secretary, whose certification serves as evidence of service. This perspective is crucial when considering formal roles, defining valid actions, and ensuring compliance, which makes it more fitting for scenarios involving regulatory oversight, accountability, and process management.\n",
    "\n",
    "The **data consistency rule** perspective, on the other hand, considers the relationship between different data elements—here, the certification and document forwarding—and aims to ensure logical consistency between these elements. This classification fits more technical or data-centric contexts, such as ensuring the integrity of records. However, with the prompt specifying a focus on regulatory bodies, auditors, or process managers, the interpretation naturally shifts toward the **party rule** classification. Consequently, the confidence in this classification increases, as it directly aligns with the needs of those focused on governance, responsibility, and ensuring procedural correctness.\n",
    "\n",
    "According to Opsahl-Ong et al. (2024) small changes in the prompt affect the outcome because language models are highly sensitive to the structure and context of the instructions. Minimal alterations in word choice, sentence order, or tone can lead the model to interpret the task differently, as it relies on statistical correlations and previously observed patterns. In multi-stage pipelines, this is even more critical, as a change in one module can create a cascading effect, impacting the results of subsequent stages. This sensitivity makes precise prompt adjustments essential to achieve the desired performance in specific tasks."
   ]
  },
  {
   "cell_type": "markdown",
   "metadata": {},
   "source": [
    "#### Definitional rules classification"
   ]
  },
  {
   "cell_type": "markdown",
   "metadata": {},
   "source": [
    "##### Terms\n",
    "\n",
    "Selecting terms to classify. Terms without definition will be skipped."
   ]
  },
  {
   "cell_type": "code",
   "execution_count": null,
   "metadata": {},
   "outputs": [
    {
     "name": "stderr",
     "output_type": "stream",
     "text": [
      "2024-11-06 23:13:02 - INFO - DocumentManager restored from file: ../data/checkpoints/documents-2024-11-01-3.json\n",
      "2024-11-06 23:13:02 - INFO - Checkpoint restored from ../data/checkpoints/documents-2024-11-01-3.json.\n"
     ]
    }
   ],
   "source": [
    "manager = restore_checkpoint(filename=config[\"DEFAULT_CHECKPOINT_FILE\"])\n",
    "\n",
    "processor = DocumentProcessor(manager)\n",
    "\n",
    "terms_to_classify_p2 = [\n",
    "    {\n",
    "        \"doc_id\": item[\"doc_id\"],\n",
    "        \"statement_id\": item[\"statement_id\"],\n",
    "        \"statement_source\": item[\"source\"],\n",
    "        \"statement_text\": item[\"definition\"],\n",
    "        \"statement_type\": \"Definitional\"\n",
    "    }\n",
    "    for item in processor.get_terms(definition_filter=\"non_null\")\n",
    "]\n",
    "\n",
    "logger.info(f\"Number of terms to classify: {len(terms_to_classify_p2)}\")"
   ]
  },
  {
   "cell_type": "markdown",
   "metadata": {},
   "source": [
    "Preparing prompts."
   ]
  },
  {
   "cell_type": "code",
   "execution_count": 30,
   "metadata": {},
   "outputs": [
    {
     "name": "stderr",
     "output_type": "stream",
     "text": [
      "2024-11-06 23:13:08 - INFO - Processing batch 1 with 15 items\n",
      "2024-11-06 23:13:09 - INFO - Batch 1 - token count system prompt Definitional: 6008\n",
      "2024-11-06 23:13:09 - INFO - Batch 1 - token count user prompt Definitional: 1143\n",
      "2024-11-06 23:13:09 - INFO - Processing batch 2 with 15 items\n",
      "2024-11-06 23:13:09 - INFO - Batch 2 - token count system prompt Definitional: 6008\n",
      "2024-11-06 23:13:09 - INFO - Batch 2 - token count user prompt Definitional: 1119\n",
      "2024-11-06 23:13:09 - INFO - Processing batch 3 with 15 items\n",
      "2024-11-06 23:13:09 - INFO - Batch 3 - token count system prompt Definitional: 6008\n",
      "2024-11-06 23:13:09 - INFO - Batch 3 - token count user prompt Definitional: 1233\n",
      "2024-11-06 23:13:09 - INFO - Processing batch 4 with 15 items\n",
      "2024-11-06 23:13:09 - INFO - Batch 4 - token count system prompt Definitional: 6008\n",
      "2024-11-06 23:13:09 - INFO - Batch 4 - token count user prompt Definitional: 1158\n",
      "2024-11-06 23:13:09 - INFO - Processing batch 5 with 15 items\n",
      "2024-11-06 23:13:09 - INFO - Batch 5 - token count system prompt Definitional: 6008\n",
      "2024-11-06 23:13:09 - INFO - Batch 5 - token count user prompt Definitional: 1088\n",
      "2024-11-06 23:13:09 - INFO - Processing batch 6 with 15 items\n",
      "2024-11-06 23:13:09 - INFO - Batch 6 - token count system prompt Definitional: 6008\n",
      "2024-11-06 23:13:09 - INFO - Batch 6 - token count user prompt Definitional: 1564\n",
      "2024-11-06 23:13:09 - INFO - Processing batch 7 with 1 items\n",
      "2024-11-06 23:13:10 - INFO - Batch 7 - token count system prompt Definitional: 6008\n",
      "2024-11-06 23:13:10 - INFO - Batch 7 - token count user prompt Definitional: 183\n"
     ]
    }
   ],
   "source": [
    "user_prompt_classify_p2_terms, system_prompt_classify_p2_terms = (\n",
    "    classify_and_add_prompts(\"term\", \"Definitional\", terms_to_classify_p2, manager)\n",
    ")"
   ]
  },
  {
   "cell_type": "markdown",
   "metadata": {},
   "source": [
    "Running classification."
   ]
  },
  {
   "cell_type": "code",
   "execution_count": null,
   "metadata": {},
   "outputs": [
    {
     "name": "stderr",
     "output_type": "stream",
     "text": [
      "2024-11-06 23:13:50 - INFO - P2_Definitional. processing 7 prompts...\n",
      "2024-11-06 23:13:50 - INFO - P2_Definitional. Classifying and getting templates for rules...\n",
      "2024-11-06 23:13:50 - INFO - Processing classification and templates prompt 1 ...\n",
      "2024-11-06 23:14:19 - INFO - HTTP Request: POST https://api.openai.com/v1/chat/completions \"HTTP/1.1 200 OK\"\n",
      "2024-11-06 23:14:19 - INFO - Execution time for query_instruct_llm: 25.93 seconds\n",
      "2024-11-06 23:14:19 - INFO - Finished processing classification and templates prompt 1.\n",
      "2024-11-06 23:14:19 - INFO - Processing classification and templates prompt 2 ...\n",
      "2024-11-06 23:14:44 - INFO - HTTP Request: POST https://api.openai.com/v1/chat/completions \"HTTP/1.1 200 OK\"\n",
      "2024-11-06 23:14:44 - INFO - Execution time for query_instruct_llm: 21.94 seconds\n",
      "2024-11-06 23:14:44 - INFO - Finished processing classification and templates prompt 2.\n",
      "2024-11-06 23:14:44 - INFO - Processing classification and templates prompt 3 ...\n",
      "2024-11-06 23:15:07 - INFO - HTTP Request: POST https://api.openai.com/v1/chat/completions \"HTTP/1.1 200 OK\"\n",
      "2024-11-06 23:15:07 - INFO - Execution time for query_instruct_llm: 19.74 seconds\n",
      "2024-11-06 23:15:07 - INFO - Finished processing classification and templates prompt 3.\n",
      "2024-11-06 23:15:07 - INFO - Processing classification and templates prompt 4 ...\n",
      "2024-11-06 23:15:31 - INFO - HTTP Request: POST https://api.openai.com/v1/chat/completions \"HTTP/1.1 200 OK\"\n",
      "2024-11-06 23:15:31 - INFO - Execution time for query_instruct_llm: 24.09 seconds\n",
      "2024-11-06 23:15:31 - INFO - Finished processing classification and templates prompt 4.\n",
      "2024-11-06 23:15:31 - INFO - Processing classification and templates prompt 5 ...\n",
      "2024-11-06 23:15:51 - INFO - HTTP Request: POST https://api.openai.com/v1/chat/completions \"HTTP/1.1 200 OK\"\n",
      "2024-11-06 23:15:51 - INFO - Execution time for query_instruct_llm: 17.25 seconds\n",
      "2024-11-06 23:15:51 - INFO - Finished processing classification and templates prompt 5.\n",
      "2024-11-06 23:15:51 - INFO - Processing classification and templates prompt 6 ...\n",
      "2024-11-06 23:16:22 - INFO - HTTP Request: POST https://api.openai.com/v1/chat/completions \"HTTP/1.1 200 OK\"\n",
      "2024-11-06 23:16:22 - INFO - Execution time for query_instruct_llm: 27.82 seconds\n",
      "2024-11-06 23:16:22 - INFO - Finished processing classification and templates prompt 6.\n",
      "2024-11-06 23:16:22 - INFO - Processing classification and templates prompt 7 ...\n",
      "2024-11-06 23:16:29 - INFO - HTTP Request: POST https://api.openai.com/v1/chat/completions \"HTTP/1.1 200 OK\"\n",
      "2024-11-06 23:16:29 - INFO - Execution time for query_instruct_llm: 7.29 seconds\n",
      "2024-11-06 23:16:29 - INFO - Finished processing classification and templates prompt 7.\n",
      "2024-11-06 23:16:29 - INFO - DocumentManager state persisted to file: ../data/checkpoints/documents-2024-11-01-3.json\n",
      "2024-11-06 23:16:29 - INFO - Checkpoint saved.\n"
     ]
    }
   ],
   "source": [
    "all_responses_classify_terms = classify_and_get_templates(\n",
    "    \"terms\",\n",
    "    \"P2_Definitional\",\n",
    "    user_prompt_classify_p2_terms,\n",
    "    system_prompt_classify_p2_terms,\n",
    "    manager,\n",
    ")\n",
    "\n",
    "logger.info(f\"Total responses: {len(all_responses_classify_terms)}\")\n",
    "\n",
    "# Persist the state to a file\n",
    "save_checkpoint(filename=config[\"DEFAULT_CHECKPOINT_FILE\"], manager=manager)"
   ]
  },
  {
   "cell_type": "markdown",
   "metadata": {},
   "source": [
    "Avarage 45s per prompt."
   ]
  },
  {
   "cell_type": "markdown",
   "metadata": {},
   "source": [
    "##### Names"
   ]
  },
  {
   "cell_type": "markdown",
   "metadata": {},
   "source": [
    "Selection names to classify. Names without definition will be skipped."
   ]
  },
  {
   "cell_type": "code",
   "execution_count": null,
   "metadata": {},
   "outputs": [
    {
     "name": "stderr",
     "output_type": "stream",
     "text": [
      "2024-11-06 23:16:29 - INFO - DocumentManager restored from file: ../data/checkpoints/documents-2024-11-01-3.json\n",
      "2024-11-06 23:16:29 - INFO - Checkpoint restored from ../data/checkpoints/documents-2024-11-01-3.json.\n"
     ]
    }
   ],
   "source": [
    "manager = restore_checkpoint(filename=config[\"DEFAULT_CHECKPOINT_FILE\"])\n",
    "\n",
    "processor = DocumentProcessor(manager)\n",
    "\n",
    "names_to_classify_p2 = [\n",
    "    {\n",
    "        \"doc_id\": item[\"doc_id\"],\n",
    "        \"statement_id\": item[\"statement_id\"],\n",
    "        \"statement_source\": item[\"source\"],\n",
    "        \"statement_text\": item[\"definition\"],\n",
    "        \"statement_type\": \"Definitional\"\n",
    "    }\n",
    "    for item in processor.get_names(definition_filter=\"non_null\")\n",
    "]\n",
    "\n",
    "logger.info(f\"Number of names to classify: {len(names_to_classify_p2)}\")"
   ]
  },
  {
   "cell_type": "code",
   "execution_count": null,
   "metadata": {},
   "outputs": [
    {
     "name": "stderr",
     "output_type": "stream",
     "text": [
      "2024-11-06 23:16:29 - INFO - Processing batch 1 with 15 items\n",
      "2024-11-06 23:16:29 - INFO - Batch 1 - token count system prompt Definitional: 6008\n",
      "2024-11-06 23:16:29 - INFO - Batch 1 - token count user prompt Definitional: 1147\n"
     ]
    }
   ],
   "source": [
    "user_prompt_classify_p2_names, system_prompt_classify_p2_names = (\n",
    "    classify_and_add_prompts(\"name\", \"Definitional\", names_to_classify_p2, manager)\n",
    ")\n",
    "\n",
    "logger.info(f\"Prompts to run {len(user_prompt_classify_p2_names)}\")"
   ]
  },
  {
   "cell_type": "markdown",
   "metadata": {},
   "source": [
    "Running classification."
   ]
  },
  {
   "cell_type": "code",
   "execution_count": null,
   "metadata": {},
   "outputs": [
    {
     "name": "stderr",
     "output_type": "stream",
     "text": [
      "2024-11-06 23:16:53 - INFO - P2_Definitional. processing 1 prompts...\n",
      "2024-11-06 23:16:53 - INFO - P2_Definitional. Classifying and getting templates for rules...\n",
      "2024-11-06 23:16:53 - INFO - Processing classification and templates prompt 1 ...\n",
      "2024-11-06 23:17:21 - INFO - HTTP Request: POST https://api.openai.com/v1/chat/completions \"HTTP/1.1 200 OK\"\n",
      "2024-11-06 23:17:21 - INFO - Execution time for query_instruct_llm: 27.25 seconds\n",
      "2024-11-06 23:17:21 - INFO - Finished processing classification and templates prompt 1.\n",
      "2024-11-06 23:17:21 - INFO - DocumentManager state persisted to file: ../data/checkpoints/documents-2024-11-01-3.json\n",
      "2024-11-06 23:17:21 - INFO - Checkpoint saved.\n"
     ]
    }
   ],
   "source": [
    "all_responses_classify_p2_names = classify_and_get_templates(\n",
    "    \"names\",\n",
    "    \"P2_Definitional\",\n",
    "    user_prompt_classify_p2_names,\n",
    "    system_prompt_classify_p2_names,\n",
    "    manager,\n",
    ")\n",
    "\n",
    "logger.info(f\"Total responses: {len(all_responses_classify_p2_names)}\")\n",
    "\n",
    "# Save the checkpoint after adding the combined document\n",
    "save_checkpoint(filename=config[\"DEFAULT_CHECKPOINT_FILE\"], manager=manager)"
   ]
  },
  {
   "cell_type": "markdown",
   "metadata": {},
   "source": [
    "Average time 30s per prompt."
   ]
  },
  {
   "cell_type": "markdown",
   "metadata": {},
   "source": [
    "##### Fact / Fact Types"
   ]
  },
  {
   "cell_type": "markdown",
   "metadata": {},
   "source": [
    "Selecting facts to classify."
   ]
  },
  {
   "cell_type": "code",
   "execution_count": null,
   "metadata": {},
   "outputs": [
    {
     "name": "stderr",
     "output_type": "stream",
     "text": [
      "2024-11-06 23:17:21 - INFO - DocumentManager restored from file: ../data/checkpoints/documents-2024-11-01-3.json\n",
      "2024-11-06 23:17:21 - INFO - Checkpoint restored from ../data/checkpoints/documents-2024-11-01-3.json.\n"
     ]
    }
   ],
   "source": [
    "manager = restore_checkpoint(filename=config[\"DEFAULT_CHECKPOINT_FILE\"])\n",
    "\n",
    "processor = DocumentProcessor(manager)\n",
    "\n",
    "facts_to_classify_p2 = [\n",
    "    {\n",
    "        \"doc_id\": item[\"doc_id\"],\n",
    "        \"statement_id\": item[\"statement_id\"],\n",
    "        \"statement_source\": item[\"source\"],\n",
    "        \"statement_text\": item[\"statement\"],\n",
    "        \"statement_type\": \"Definitional\"\n",
    "    }\n",
    "    for item in processor.get_facts()\n",
    "]\n",
    "\n",
    "logger.info(f\"Number of facts to classify: {len(facts_to_classify_p2)}\")"
   ]
  },
  {
   "cell_type": "markdown",
   "metadata": {},
   "source": [
    "Preparing prompts."
   ]
  },
  {
   "cell_type": "code",
   "execution_count": null,
   "metadata": {},
   "outputs": [
    {
     "name": "stderr",
     "output_type": "stream",
     "text": [
      "2024-11-06 23:17:21 - INFO - Processing batch 1 with 15 items\n",
      "2024-11-06 23:17:21 - INFO - Batch 1 - token count system prompt Definitional: 6009\n",
      "2024-11-06 23:17:21 - INFO - Batch 1 - token count user prompt Definitional: 1354\n",
      "2024-11-06 23:17:21 - INFO - Processing batch 2 with 2 items\n",
      "2024-11-06 23:17:21 - INFO - Batch 2 - token count system prompt Definitional: 6009\n",
      "2024-11-06 23:17:21 - INFO - Batch 2 - token count user prompt Definitional: 179\n"
     ]
    }
   ],
   "source": [
    "user_prompt_classify_p2_facts, system_prompt_classify_p2_facts = (\n",
    "    classify_and_add_prompts(\"fact type\", \"Definitional\", facts_to_classify_p2, manager)\n",
    ")\n",
    "\n",
    "logger.info(f\"Prompts to run {len(user_prompt_classify_p2_facts)}\")"
   ]
  },
  {
   "cell_type": "markdown",
   "metadata": {},
   "source": [
    "Running classification."
   ]
  },
  {
   "cell_type": "code",
   "execution_count": null,
   "metadata": {},
   "outputs": [
    {
     "name": "stderr",
     "output_type": "stream",
     "text": [
      "2024-11-06 23:17:21 - INFO - P2_Definitional. processing 2 prompts...\n",
      "2024-11-06 23:17:21 - INFO - P2_Definitional. Classifying and getting templates for rules...\n",
      "2024-11-06 23:17:21 - INFO - Processing classification and templates prompt 1 ...\n",
      "2024-11-06 23:17:58 - INFO - HTTP Request: POST https://api.openai.com/v1/chat/completions \"HTTP/1.1 200 OK\"\n",
      "2024-11-06 23:18:31 - INFO - HTTP Request: POST https://api.openai.com/v1/chat/completions \"HTTP/1.1 200 OK\"\n",
      "2024-11-06 23:18:31 - INFO - Execution time for query_instruct_llm: 63.65 seconds\n",
      "2024-11-06 23:18:31 - INFO - Finished processing classification and templates prompt 1.\n",
      "2024-11-06 23:18:31 - INFO - Processing classification and templates prompt 2 ...\n",
      "2024-11-06 23:18:42 - INFO - HTTP Request: POST https://api.openai.com/v1/chat/completions \"HTTP/1.1 200 OK\"\n",
      "2024-11-06 23:18:42 - INFO - Execution time for query_instruct_llm: 8.68 seconds\n",
      "2024-11-06 23:18:42 - INFO - Finished processing classification and templates prompt 2.\n",
      "2024-11-06 23:18:42 - INFO - DocumentManager state persisted to file: ../data/checkpoints/documents-2024-11-01-3.json\n",
      "2024-11-06 23:18:42 - INFO - Checkpoint saved.\n"
     ]
    }
   ],
   "source": [
    "all_responses_classify_p2_facts = classify_and_get_templates(\n",
    "    \"facts\", \"P2_Definitional\", user_prompt_classify_p2_facts, system_prompt_classify_p2_facts, manager\n",
    ")\n",
    "\n",
    "logger.info(f\"Total responses: {len(all_responses_classify_p2_facts)}\")\n",
    "\n",
    "# Save the checkpoint after adding the combined document\n",
    "save_checkpoint(filename=config[\"DEFAULT_CHECKPOINT_FILE\"], manager=manager)"
   ]
  },
  {
   "cell_type": "markdown",
   "metadata": {},
   "source": [
    "Avarage 50s per prompt."
   ]
  },
  {
   "cell_type": "markdown",
   "metadata": {},
   "source": [
    "### Discussion\n",
    "\n",
    "In the first prompt (prompt_classify_p1), the confidence levels assigned reflect the absence of a dominant classification. For example, when a statement primarily restricts data (data rule) but also includes specific roles (party rule), a high level of confidence is assigned to the data while a moderate level of confidence is applied to the party, recognizing its secondary relevance. Similarly, statements that reference roles such as \"Secretary\" or \"interested person\" without explicit party restrictions receive moderate confidence for party classification due to ambiguity in interpretation. Procedural elements that impact data handling, such as document routing, receive high confidence for data rules; however, a moderate level of confidence is assigned to activity rules when procedural references are indirect.\n",
    "\n",
    "An example of this behavior was the classification of the sentence: “If the Secretary certifies that the Commission has received proceedings, petitions, or other documents under paragraph (a)(1) of this section and forwarded those documents to a party designated by paragraph (a)(2) of this section, such certification constitutes evidence of service to that party.” The first classification (classify_P1) had low confidence because the sentence admits two interpretations: party rule or data consistency rule. The role rule focuses on governance and accountability, highlighting the roles of individuals, such as the Secretary, whose certification serves as evidence of service. The data consistency perspective considers the relationship between data elements, evolving the logical consistency between them, such as certification and forwarding of documents.\n",
    "\n",
    "Initially, the prompt did not specify the focus, which led to the choice of the technical perspective (data) and caused problems in the second classification, where the LLM could not find an appropriate category (sublevel) in the taxonomy. With the addition of the sentence “You are working for regulators, auditors, or process managers.” interpretation has shifted to part rule classification, increasing confidence, consistency in classification, and locating a classification in the taxonomy sublevel (classify_P2_operative_rule) - Responsibility rules."
   ]
  }
 ],
 "metadata": {
  "colab": {
   "provenance": []
  },
  "kernelspec": {
   "display_name": "ipt-cfr2sbvr",
   "language": "python",
   "name": "python3"
  },
  "language_info": {
   "codemirror_mode": {
    "name": "ipython",
    "version": 3
   },
   "file_extension": ".py",
   "mimetype": "text/x-python",
   "name": "python",
   "nbconvert_exporter": "python",
   "pygments_lexer": "ipython3",
   "version": "3.11.9"
  }
 },
 "nbformat": 4,
 "nbformat_minor": 0
}
