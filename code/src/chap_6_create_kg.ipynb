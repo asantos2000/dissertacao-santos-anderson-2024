{
 "cells": [
  {
   "cell_type": "markdown",
   "metadata": {},
   "source": [
    "<a href=\"https://colab.research.google.com/github/asantos2000/master-degree-santos-anderson/blob/main/code/src/chap_6_create_kg.ipynb\" target=\"_parent\"><img src=\"https://colab.research.google.com/assets/colab-badge.svg\" alt=\"Open In Colab\"/></a>"
   ]
  },
  {
   "cell_type": "markdown",
   "metadata": {},
   "source": [
    "# create kg\n",
    "\n",
    "Chapter 6. Ferramentas de suporte\n",
    "- Section 6.2.1 Grafo de conhecimento para CFR e FIBO"
   ]
  },
  {
   "cell_type": "markdown",
   "metadata": {},
   "source": [
    "## Google colab"
   ]
  },
  {
   "cell_type": "code",
   "execution_count": 2,
   "metadata": {},
   "outputs": [],
   "source": [
    "%load_ext autoreload\n",
    "%autoreload 2\n",
    "\n",
    "import sys\n",
    "\n",
    "IN_COLAB = 'google.colab' in sys.modules\n",
    "\n",
    "if IN_COLAB:\n",
    "  from google.colab import drive\n",
    "  drive.mount('/content/drive')\n",
    "  !rm -rf cfr2sbvr configuration checkpoint\n",
    "  !git clone https://github.com/asantos2000/master-degree-santos-anderson.git cfr2sbvr\n",
    "  %pip install -r cfr2sbvr/code/requirements.txt\n",
    "  !cp -r cfr2sbvr/code/src/configuration .\n",
    "  !cp -r cfr2sbvr/code/src/checkpoint .\n",
    "  !cp -r cfr2sbvr/code/config.colab.yaml config.yaml\n",
    "  DEFAULT_CONFIG_FILE=\"config.yaml\"\n",
    "else:\n",
    "  DEFAULT_CONFIG_FILE=\"../config.yaml\""
   ]
  },
  {
   "cell_type": "markdown",
   "metadata": {},
   "source": [
    "## Imports"
   ]
  },
  {
   "cell_type": "code",
   "execution_count": null,
   "metadata": {},
   "outputs": [],
   "source": [
    "# Standard library imports\n",
    "import subprocess\n",
    "import os\n",
    "\n",
    "def update_llm_spec_file(llm_spec, key, value):\n",
    "    # Read in the file\n",
    "    with open(llm_spec, \"r\") as file:\n",
    "        filedata = file.read()\n",
    "\n",
    "    # Replace the target string\n",
    "    filedata = filedata.replace(key, value)\n",
    "\n",
    "    # Write the file out again\n",
    "    with open(llm_spec, \"w\") as file:\n",
    "        file.write(filedata)\n",
    "# Franz AllegroGraph (AG) imports\n",
    "from franz.openrdf.connect import ag_connect\n",
    "from franz.openrdf.rio.rdfformat import RDFFormat\n",
    "\n",
    "# Local application/library-specific imports\n",
    "import configuration.main as configuration\n",
    "import logging_setup.main as logging_setup\n",
    "\n",
    "DEV_MODE = True\n",
    "\n",
    "if DEV_MODE:\n",
    "    # Development mode\n",
    "    import importlib\n",
    "\n",
    "    importlib.reload(configuration)\n",
    "    importlib.reload(logging_setup)"
   ]
  },
  {
   "cell_type": "markdown",
   "metadata": {},
   "source": [
    "## Settings\n",
    "\n",
    "Default settings, check them before run the notebook."
   ]
  },
  {
   "cell_type": "markdown",
   "metadata": {},
   "source": [
    "### Get configuration\n",
    "\n",
    "Adjust the algorithm behavior. \n",
    "\n",
    "Configuration is loaded from `config.yaml`"
   ]
  },
  {
   "cell_type": "code",
   "execution_count": 25,
   "metadata": {},
   "outputs": [],
   "source": [
    "# load config\n",
    "config = configuration.load_config(DEFAULT_CONFIG_FILE)"
   ]
  },
  {
   "cell_type": "markdown",
   "metadata": {},
   "source": [
    "### Logging configuration"
   ]
  },
  {
   "cell_type": "code",
   "execution_count": 26,
   "metadata": {},
   "outputs": [
    {
     "name": "stderr",
     "output_type": "stream",
     "text": [
      "2024-11-16 17:51:07 - INFO - Logging is set up with daily rotation.\n"
     ]
    }
   ],
   "source": [
    "logger = logging_setup.setting_logging(config[\"DEFAULT_LOG_DIR\"], config[\"LOG_LEVEL\"])"
   ]
  },
  {
   "cell_type": "markdown",
   "metadata": {},
   "source": [
    "## Execution"
   ]
  },
  {
   "cell_type": "markdown",
   "metadata": {},
   "source": [
    "### Connect to KG"
   ]
  },
  {
   "cell_type": "markdown",
   "metadata": {},
   "source": [
    "Connect to AllegroGraph and create repo if not exists."
   ]
  },
  {
   "cell_type": "code",
   "execution_count": 8,
   "metadata": {},
   "outputs": [
    {
     "name": "stderr",
     "output_type": "stream",
     "text": [
      "2024-11-15 22:56:03 - DEBUG - Starting new HTTP connection (1): localhost:10035\n"
     ]
    },
    {
     "name": "stderr",
     "output_type": "stream",
     "text": [
      "2024-11-15 22:56:03 - DEBUG - http://localhost:10035 \"GET /catalogs HTTP/11\" 200 None\n",
      "2024-11-15 22:56:03 - DEBUG - Starting new HTTP connection (1): localhost:10035\n",
      "2024-11-15 22:56:03 - DEBUG - http://localhost:10035 \"GET /repositories HTTP/11\" 200 None\n",
      "2024-11-15 22:56:03 - DEBUG - http://localhost:10035 \"GET /repositories HTTP/11\" 200 None\n",
      "2024-11-15 22:56:03 - INFO - Connected to AllegroGraph: ALLEGROGRAPH_LOCAL\n"
     ]
    }
   ],
   "source": [
    "hosting = config[\"ALLEGROGRAPH_HOSTING\"]\n",
    "\n",
    "conn = ag_connect(\n",
    "    repo=config[hosting][\"REPO\"],\n",
    "    catalog=config[hosting][\"CATALOG\"],\n",
    "    host=config[hosting][\"HOST\"],\n",
    "    port=config[hosting][\"PORT\"],\n",
    "    user=config[hosting][\"USER\"],\n",
    "    password=config[hosting][\"PASSWORD\"],\n",
    ")\n",
    "\n",
    "logger.info(f\"Connected to AllegroGraph: {hosting}\")"
   ]
  },
  {
   "cell_type": "markdown",
   "metadata": {},
   "source": [
    "Run scripts even if the KG is not empty"
   ]
  },
  {
   "cell_type": "code",
   "execution_count": 18,
   "metadata": {},
   "outputs": [
    {
     "name": "stderr",
     "output_type": "stream",
     "text": [
      "2024-11-15 20:53:44 - DEBUG - Resetting dropped connection: localhost\n"
     ]
    },
    {
     "name": "stderr",
     "output_type": "stream",
     "text": [
      "2024-11-15 20:53:44 - DEBUG - http://localhost:10035 \"GET /repositories/cfr2sbvr/size HTTP/11\" 200 None\n",
      "2024-11-15 20:53:44 - INFO - Repository is empty: True\n",
      "2024-11-15 20:53:44 - INFO - ALLEGROGRAPH_FORCE_RUN=True\n",
      "2024-11-15 20:53:44 - DEBUG - http://localhost:10035 \"GET /repositories/cfr2sbvr/size HTTP/11\" 200 None\n"
     ]
    }
   ],
   "source": [
    "# If FORCE is true will run anyway\n",
    "is_empty = conn.isEmpty()\n",
    "logger.info(f\"Repository is empty: {is_empty}\")\n",
    "\n",
    "ALLEGROGRAPH_FORCE_RUN = config[\"ALLEGROGRAPH_FORCE_RUN\"]\n",
    "logger.info(f\"{ALLEGROGRAPH_FORCE_RUN=}\")\n",
    "\n",
    "if not conn.isEmpty() or not ALLEGROGRAPH_FORCE_RUN:\n",
    "    raise Exception(\n",
    "        \"The repository is not empty. If you want to force run, set FORCE to True\"\n",
    "    )"
   ]
  },
  {
   "cell_type": "markdown",
   "metadata": {},
   "source": [
    "Clean KG before run"
   ]
  },
  {
   "cell_type": "code",
   "execution_count": null,
   "metadata": {},
   "outputs": [
    {
     "name": "stderr",
     "output_type": "stream",
     "text": [
      "2024-11-15 20:58:42 - INFO - CLEAN_BEFORE_RUN=True\n",
      "2024-11-15 20:58:42 - DEBUG - Resetting dropped connection: localhost\n"
     ]
    },
    {
     "name": "stderr",
     "output_type": "stream",
     "text": [
      "2024-11-15 20:58:42 - DEBUG - http://localhost:10035 \"GET /repositories/cfr2sbvr/size HTTP/11\" 200 None\n",
      "2024-11-15 20:58:42 - INFO - Repo number of statements (all graphs): 0\n",
      "2024-11-15 20:58:42 - DEBUG - http://localhost:10035 \"DELETE /repositories/cfr2sbvr/statements HTTP/11\" 200 None\n"
     ]
    }
   ],
   "source": [
    "# If true will clean all data\n",
    "CLEAN_BEFORE_RUN = config[\"ALLEGROGRAPH_CLEAN_BEFORE_RUN\"]\n",
    "logger.info(f\"{CLEAN_BEFORE_RUN=}\")\n",
    "logger.info(f\"Repo number of statements (all graphs): {conn.size()}\")\n",
    "\n",
    "if CLEAN_BEFORE_RUN:\n",
    "    conn.clear()\n",
    "    logger.info(f\"Repo cleaned. Number of statements (all graphs): {conn.size()}\")"
   ]
  },
  {
   "cell_type": "markdown",
   "metadata": {},
   "source": [
    "### Create vocabulary triples"
   ]
  },
  {
   "cell_type": "markdown",
   "metadata": {},
   "source": [
    "#### Create language triples"
   ]
  },
  {
   "cell_type": "code",
   "execution_count": null,
   "metadata": {},
   "outputs": [
    {
     "name": "stderr",
     "output_type": "stream",
     "text": [
      "2024-11-15 21:20:14 - DEBUG - Resetting dropped connection: localhost\n",
      "2024-11-15 21:20:14 - DEBUG - http://localhost:10035 \"POST /repositories/cfr2sbvr HTTP/11\" 200 None\n"
     ]
    }
   ],
   "source": [
    "result = conn.executeUpdate(\n",
    "    \"\"\"\n",
    "PREFIX sbvr: <https://www.omg.org/spec/SBVR/20190601#>\n",
    "PREFIX cfr-sbvr: <http://cfr2sbvr.com/cfr#>\n",
    "PREFIX skos: <http://www.w3.org/2004/02/skos/core#>\n",
    "\n",
    "INSERT DATA {\n",
    "    GRAPH cfr-sbvr:CFR_SBVR {\n",
    "        cfr-sbvr:EnglishLanguage\n",
    "            a sbvr:Language ;\n",
    "            skos:label \"English\" ;\n",
    "            sbvr:signifier \"English\" .\n",
    "    }\n",
    "}\n",
    "    \"\"\"\n",
    ")\n",
    "\n",
    "logger.info(f\"Create English language: {result}\")"
   ]
  },
  {
   "cell_type": "markdown",
   "metadata": {},
   "source": [
    "#### CFR vocabulary and vocabulary namespace"
   ]
  },
  {
   "cell_type": "code",
   "execution_count": null,
   "metadata": {},
   "outputs": [
    {
     "name": "stderr",
     "output_type": "stream",
     "text": [
      "2024-11-15 21:22:36 - DEBUG - Resetting dropped connection: localhost\n",
      "2024-11-15 21:22:36 - DEBUG - http://localhost:10035 \"POST /repositories/cfr2sbvr HTTP/11\" 200 None\n"
     ]
    }
   ],
   "source": [
    "result = conn.executeUpdate(\n",
    "    \"\"\"\n",
    "# Insert CFR-FRO graph metadata\n",
    "PREFIX rdf: <http://www.w3.org/1999/02/22-rdf-syntax-ns#>\n",
    "PREFIX xsd:<http://www.w3.org/2001/XMLSchema#>\n",
    "PREFIX dct: <http://purl.org/dc/terms/>\n",
    "PREFIX fro-cfr: <http://finregont.com/fro/cfr/Code_Federal_Regulations.ttl#>\n",
    "PREFIX sbvr: <https://www.omg.org/spec/SBVR/20190601#>\n",
    "PREFIX cfr-sbvr: <http://cfr2sbvr.com/cfr#>\n",
    "PREFIX skos: <http://www.w3.org/2004/02/skos/core#>\n",
    "\n",
    "INSERT DATA {\n",
    "    GRAPH cfr-sbvr:CFR_SBVR {\n",
    "        fro-cfr:CFR_Title_17_Part_275_VOC\n",
    "            a owl:Class, sbvr:Vocabulary .\n",
    "\n",
    "        fro-cfr:CFR_Title_17_Part_275_NS\n",
    "            a owl:Class, sbvr:VocabularyNamespace;\n",
    "            sbvr:vocabularyNamespaceIsDerivedFromVocabulary fro-cfr:CFR_Title_17_Part_275_VOC ;\n",
    "            sbvr:namespaceHasURI <http://finregont.com/fro/cfr/Code_Federal_Regulations.ttl#> ;\n",
    "            sbvr:vocabularyIsExpressedInLanguage cfr-sbvr:EnglishLanguage ;\n",
    "            dct:title \"RULES AND REGULATIONS, INVESTMENT ADVISERS ACT OF 1940\" ;\n",
    "            skos:definition \"Financial Regulation Ontology: FRO CFR Title 17 Part 275\" ;\n",
    "            dct:source <https://finregont.com/fro/cfr/FRO_CFR_Title_17_Part_275.ttl> .\n",
    "\n",
    "        cfr-sbvr:CFR_SBVR_VOC sbvr:vocabulary1IncorporatesVocabulary2 fro-cfr:CFR_Title_17_Part_275_VOC .\n",
    "    }\n",
    "}\n",
    "    \"\"\"\n",
    ")\n",
    "\n",
    "logger.info(f\"Create CFR vocabulary and vocabulary namespace: {result}\")"
   ]
  },
  {
   "cell_type": "markdown",
   "metadata": {},
   "source": [
    "#### FIBO vocabulary and vocabulary namespace\n",
    "\n",
    "Definition: Financial Industry Business Ontology (FIBO) is a set of ontologies that describes financial industry business. The FIBO ontologies are used to describe financial industry business.\n",
    "\n",
    "Language: English\n",
    "\n",
    "Synonym: FIBO\n",
    "\n",
    "Namespace URI: https://spec.edmcouncil.org/fibo/ontology/QuickFIBOProd"
   ]
  },
  {
   "cell_type": "code",
   "execution_count": null,
   "metadata": {},
   "outputs": [
    {
     "name": "stderr",
     "output_type": "stream",
     "text": [
      "2024-11-15 21:23:04 - DEBUG - Resetting dropped connection: localhost\n",
      "2024-11-15 21:23:04 - DEBUG - http://localhost:10035 \"POST /repositories/cfr2sbvr HTTP/11\" 200 None\n"
     ]
    }
   ],
   "source": [
    "result = conn.executeUpdate(\n",
    "    \"\"\"\n",
    "# Insert FIBO graph metadata\n",
    "PREFIX rdf: <http://www.w3.org/1999/02/22-rdf-syntax-ns#>\n",
    "PREFIX xsd:<http://www.w3.org/2001/XMLSchema#>\n",
    "PREFIX dct: <http://purl.org/dc/terms/>\n",
    "PREFIX fibo: <https://spec.edmcouncil.org/fibo/ontology/QuickFIBOProd#>\n",
    "PREFIX sbvr: <https://www.omg.org/spec/SBVR/20190601#>\n",
    "PREFIX cfr-sbvr: <http://cfr2sbvr.com/cfr#>\n",
    "PREFIX skos: <http://www.w3.org/2004/02/skos/core#>\n",
    "\n",
    "INSERT DATA {\n",
    "    GRAPH cfr-sbvr:CFR_SBVR {\n",
    "        fibo:FIBO_VOC\n",
    "            a owl:Class, sbvr:Vocabulary .\n",
    "\n",
    "        fibo:FIBO_NS\n",
    "            a owl:Class, sbvr:VocabularyNamespace ;\n",
    "            sbvr:vocabularyNamespaceIsDerivedFromVocabulary fibo:FIBO_VOC ;\n",
    "            sbvr:namespaceHasURI <https://spec.edmcouncil.org/fibo/ontology/QuickFIBOProd#> ;\n",
    "            sbvr:vocabularyIsExpressedInLanguage cfr-sbvr:EnglishLanguage ;\n",
    "            dct:title \"Financial Business Ontology\" ;\n",
    "            skos:definition \"This ontology is provided for the convenience of FIBO users. It loads all of the very latest FIBO production ontologies based on the contents of GitHub, rather than those that comprise a specific version, such as a quarterly release. Note that metadata files and other 'load' files, such as the various domain-specific 'all' files, are intentionally excluded.\" ;\n",
    "            dct:source <https://spec.edmcouncil.org/fibo/ontology/master/2024Q2/LoadFIBOProd.ttl> .\n",
    "\n",
    "        cfr-sbvr:CFR_SBVR_VOC sbvr:vocabulary1IncorporatesVocabulary2 fibo:FIBO_VOC .\n",
    "    }\n",
    "}\n",
    "    \"\"\"\n",
    ")\n",
    "\n",
    "logger.info(f\"Create FIBO vocabulary and vocabulary namespace: {result}\")"
   ]
  },
  {
   "cell_type": "markdown",
   "metadata": {},
   "source": [
    "#### CFR_SBVR vocabulary and vocabulary namespace"
   ]
  },
  {
   "cell_type": "code",
   "execution_count": null,
   "metadata": {},
   "outputs": [
    {
     "name": "stderr",
     "output_type": "stream",
     "text": [
      "2024-11-15 21:23:28 - DEBUG - Resetting dropped connection: localhost\n",
      "2024-11-15 21:23:28 - DEBUG - http://localhost:10035 \"POST /repositories/cfr2sbvr HTTP/11\" 200 None\n"
     ]
    }
   ],
   "source": [
    "result = conn.executeUpdate(\n",
    "    \"\"\"\n",
    "# Insert SBVR graph metadata\n",
    "PREFIX rdf: <http://www.w3.org/1999/02/22-rdf-syntax-ns#>\n",
    "PREFIX xsd:<http://www.w3.org/2001/XMLSchema#>\n",
    "PREFIX dct: <http://purl.org/dc/terms/>\n",
    "PREFIX cfr-sbvr: <http://cfr2sbvr.com/cfr#>\n",
    "PREFIX sbvr: <https://www.omg.org/spec/SBVR/20190601#>\n",
    "PREFIX skos: <http://www.w3.org/2004/02/skos/core#>\n",
    "\n",
    "INSERT DATA {\n",
    "    GRAPH cfr-sbvr:CFR_SBVR {\n",
    "        cfr-sbvr:CFR_SBVR_VOC\n",
    "            a owl:Class, sbvr:Vocabulary .\n",
    "                                \n",
    "        cfr-sbvr:CFR_SBVR_NS\n",
    "            a owl:Class, sbvr:VocabularyNamespace;\n",
    "            sbvr:namespaceHasURI <http://cfr2sbvr.com/cfr#> ;\n",
    "            sbvr:vocabularyIsExpressedInLanguage cfr-sbvr:EnglishLanguage ;\n",
    "            sbvr:vocabularyNamespaceIsDerivedFromVocabulary cfr-sbvr:CFR_SBVR_VOC ;\n",
    "            dct:title \"Semantics of Business Vocabulary and Business Rules (SBVR) for Code of Federal Regulations (CFR)\" ;\n",
    "            skos:definition \"SBVR-CFR is an adopted standard of the Object Management Group (OMG) intended to be the basis for formal and detailed natural language declarative description of CFR regulations\" ;\n",
    "            dct:source <https://github.com/asantos2000/dissertacao-santos-anderson-2024> .\n",
    "    }\n",
    "}\n",
    "    \"\"\"\n",
    ")\n",
    "\n",
    "logger.info(f\"Create CFR_SBVR vocabulary and vocabulary namespace: {result}\")"
   ]
  },
  {
   "cell_type": "markdown",
   "metadata": {},
   "source": [
    "### Load data and ontologies"
   ]
  },
  {
   "cell_type": "markdown",
   "metadata": {},
   "source": [
    "#### CFR ontology - US_LegalReference.ttl"
   ]
  },
  {
   "cell_type": "code",
   "execution_count": null,
   "metadata": {},
   "outputs": [],
   "source": [
    "result = conn.addFile(\n",
    "    filePath=\"../data/US_LegalReference.ttl\",\n",
    "    context=\"<http://finregont.com/fro/cfr/Code_Federal_Regulations.ttl#CFR_Title_17_Part_275>\",\n",
    "    format=RDFFormat.TURTLE,\n",
    ")\n",
    "\n",
    "logger.info(f\"US_LegalReference.ttl added to graph CFR_Title_17_Part_275: {result}\")"
   ]
  },
  {
   "cell_type": "markdown",
   "metadata": {},
   "source": [
    "#### CFR Ontology - Code_Federal_Regulations\n",
    "\n",
    "Language: English\n",
    "\n",
    "Synonym: FRO-CFR\n",
    "\n",
    "Namespace URI: http://finregont.com/fro/cfr/Code_Federal_Regulations.ttl"
   ]
  },
  {
   "cell_type": "code",
   "execution_count": null,
   "metadata": {},
   "outputs": [],
   "source": [
    "result = conn.addFile(\n",
    "    filePath=\"../data/Code_Federal_Regulations.ttl\",\n",
    "    context=\"<http://finregont.com/fro/cfr/Code_Federal_Regulations.ttl#CFR_Title_17_Part_275>\",\n",
    "    format=RDFFormat.TURTLE,\n",
    ")\n",
    "\n",
    "logger.info(f\"Code_Federal_Regulations.ttl added to graph CFR_Title_17_Part_275: {result}\")"
   ]
  },
  {
   "cell_type": "markdown",
   "metadata": {},
   "source": [
    "#### CFR Data - FRO CFR Title 17 Part 275"
   ]
  },
  {
   "cell_type": "code",
   "execution_count": null,
   "metadata": {},
   "outputs": [],
   "source": [
    "result = conn.addFile(\n",
    "    filePath=\"../data/FRO_CFR_Title_17_Part_275.ttl\",\n",
    "    context=\"<http://finregont.com/fro/cfr/Code_Federal_Regulations.ttl#CFR_Title_17_Part_275>\",\n",
    "    format=RDFFormat.TURTLE,\n",
    ")\n",
    "\n",
    "logger.info(f\"FRO_CFR_Title_17_Part_275.ttl added to graph CFR_Title_17_Part_275: {result}\")"
   ]
  },
  {
   "cell_type": "markdown",
   "metadata": {},
   "source": [
    "#### FIBO Data and Ontology - QuickFIBOProd\n",
    "\n",
    "Definition: Financial Industry Business Ontology (FIBO) is a set of ontologies that describes financial industry business. The FIBO ontologies are used to describe financial industry business.\n",
    "\n",
    "Language: English\n",
    "\n",
    "Synonym: FIBO\n",
    "\n",
    "Namespace URI: https://spec.edmcouncil.org/fibo/ontology/QuickFIBOProd"
   ]
  },
  {
   "cell_type": "code",
   "execution_count": null,
   "metadata": {},
   "outputs": [
    {
     "name": "stderr",
     "output_type": "stream",
     "text": [
      "2024-11-15 22:43:26 - DEBUG - Resetting dropped connection: localhost\n",
      "2024-11-15 22:43:32 - DEBUG - http://localhost:10035 \"POST /repositories/cfr2sbvr/statements?context=%3Chttps%3A//spec.edmcouncil.org/fibo/ontology/master/2024Q3/QuickFIBOProd%23FIBO%3E HTTP/11\" 200 None\n"
     ]
    }
   ],
   "source": [
    "result = conn.addFile(\n",
    "    filePath=\"../data/prod-fibo-quickstart-2024Q3.ttl\",\n",
    "    context=\"<https://spec.edmcouncil.org/fibo/ontology/master/2024Q3/QuickFIBOProd#FIBO>\",\n",
    "    format=RDFFormat.TURTLE,\n",
    ")\n",
    "\n",
    "logger.info(f\"prod-fibo-quickstart-2024Q3.ttl added to graph FIBO: {result}\")"
   ]
  },
  {
   "cell_type": "markdown",
   "metadata": {},
   "source": [
    "#### SBVR ontology - sbvr-dtc-19-05-32-ontology-v1\n",
    "\n",
    "Adapted by author from <https://www.omg.org/spec/SBVR/20190601/SBVR-XML-Schema.xsd>"
   ]
  },
  {
   "cell_type": "code",
   "execution_count": null,
   "metadata": {},
   "outputs": [],
   "source": [
    "result = conn.addFile(\n",
    "    filePath=\"../data/sbvr-dtc-19-05-32-ontology-v1.ttl\",\n",
    "    context=\"<https://www.omg.org/spec/SBVR/20190601#SBVR_Onto>\",\n",
    "    format=RDFFormat.TURTLE,\n",
    ")\n",
    "\n",
    "logger.info(f\"sbvr-dtc-19-05-32-ontology-v1.ttl added to graph SBVR: {result}\")"
   ]
  },
  {
   "cell_type": "markdown",
   "metadata": {},
   "source": [
    "### Close connection"
   ]
  },
  {
   "cell_type": "code",
   "execution_count": 9,
   "metadata": {},
   "outputs": [],
   "source": [
    "conn.close()"
   ]
  },
  {
   "cell_type": "markdown",
   "metadata": {},
   "source": [
    "### Create / Update similarity index"
   ]
  },
  {
   "cell_type": "markdown",
   "metadata": {},
   "source": [
    "AllegroGraph configuration"
   ]
  },
  {
   "cell_type": "code",
   "execution_count": null,
   "metadata": {},
   "outputs": [],
   "source": [
    "hosting = config[\"ALLEGROGRAPH_HOSTING\"]\n",
    "open_ai_api_key = os.getenv(\"OPENAI_API_KEY\")\n",
    "repo_spec = f'http://{config[hosting][\"USER\"]}:{config[hosting][\"PASSWORD\"]}@{config[hosting][\"HOST\"]}:{config[hosting][\"PORT\"]}/repositories/{config[hosting][\"REPO\"]}'\n",
    "tool = f'{config[hosting][\"HOME_DIR\"]}/bin/agtool'"
   ]
  },
  {
   "cell_type": "markdown",
   "metadata": {},
   "source": [
    "### FIBO\n",
    "\n",
    "Index FIBO ontologies and data into AllegroGraph vector store.\n",
    "\n",
    "> Required: Used for \"elements association and creation\" algorithm to associate SBVR terms with FIBO terms."
   ]
  },
  {
   "cell_type": "code",
   "execution_count": 27,
   "metadata": {},
   "outputs": [
    {
     "name": "stdout",
     "output_type": "stream",
     "text": [
      "query=select DISTINCT ?id ?text ?pred ?type {\n",
      "?id a ?type.\n",
      "FILTER (isLiteral(?text))\n",
      "?id ?pred ?text.\n",
      "VALUES ?pred {<http://www.w3.org/2000/01/rdf-schema#label> }\n",
      "VALUES ?type {<http://www.w3.org/2002/07/owl#Class> <http://www.w3.org/2002/07/owl#NamedIndividual> }\n",
      "\n",
      "\n",
      "  } LIMIT 1000000\n",
      "\n",
      "Begin indexing, 15640 strings to consider.  checkpoint every 50 strings\n",
      "checkpoint, 50 processed\n"
     ]
    },
    {
     "ename": "KeyboardInterrupt",
     "evalue": "",
     "output_type": "error",
     "traceback": [
      "\u001b[0;31m---------------------------------------------------------------------------\u001b[0m",
      "\u001b[0;31mKeyboardInterrupt\u001b[0m                         Traceback (most recent call last)",
      "Cell \u001b[0;32mIn[27], line 11\u001b[0m\n\u001b[1;32m      7\u001b[0m llm_spec \u001b[38;5;241m=\u001b[39m \u001b[38;5;124m\"\u001b[39m\u001b[38;5;124m../scripts/fibo-vec.def\u001b[39m\u001b[38;5;124m\"\u001b[39m\n\u001b[1;32m      9\u001b[0m update_llm_spec_file(llm_spec, \u001b[38;5;124m\"\u001b[39m\u001b[38;5;132;01m{open_ai_api_key}\u001b[39;00m\u001b[38;5;124m\"\u001b[39m, open_ai_api_key)\n\u001b[0;32m---> 11\u001b[0m \u001b[43msubprocess\u001b[49m\u001b[38;5;241;43m.\u001b[39;49m\u001b[43mcall\u001b[49m\u001b[43m(\u001b[49m\n\u001b[1;32m     12\u001b[0m \u001b[43m    \u001b[49m\u001b[43m[\u001b[49m\n\u001b[1;32m     13\u001b[0m \u001b[43m        \u001b[49m\u001b[38;5;124;43mf\u001b[39;49m\u001b[38;5;124;43m'\u001b[39;49m\u001b[38;5;132;43;01m{\u001b[39;49;00m\u001b[43mconfig\u001b[49m\u001b[43m[\u001b[49m\u001b[43mhosting\u001b[49m\u001b[43m]\u001b[49m\u001b[43m[\u001b[49m\u001b[38;5;124;43m\"\u001b[39;49m\u001b[38;5;124;43mHOME_DIR\u001b[39;49m\u001b[38;5;124;43m\"\u001b[39;49m\u001b[43m]\u001b[49m\u001b[38;5;132;43;01m}\u001b[39;49;00m\u001b[38;5;124;43m/bin/agtool\u001b[39;49m\u001b[38;5;124;43m'\u001b[39;49m\u001b[43m,\u001b[49m\n\u001b[1;32m     14\u001b[0m \u001b[43m        \u001b[49m\u001b[38;5;124;43m\"\u001b[39;49m\u001b[38;5;124;43mllm\u001b[39;49m\u001b[38;5;124;43m\"\u001b[39;49m\u001b[43m,\u001b[49m\n\u001b[1;32m     15\u001b[0m \u001b[43m        \u001b[49m\u001b[38;5;124;43m\"\u001b[39;49m\u001b[38;5;124;43mindex\u001b[39;49m\u001b[38;5;124;43m\"\u001b[39;49m\u001b[43m,\u001b[49m\n\u001b[1;32m     16\u001b[0m \u001b[43m        \u001b[49m\u001b[43mrepo_spec\u001b[49m\u001b[43m,\u001b[49m\n\u001b[1;32m     17\u001b[0m \u001b[43m        \u001b[49m\u001b[43mllm_spec\u001b[49m\u001b[43m,\u001b[49m\n\u001b[1;32m     18\u001b[0m \u001b[43m    \u001b[49m\u001b[43m]\u001b[49m\n\u001b[1;32m     19\u001b[0m \u001b[43m)\u001b[49m\n\u001b[1;32m     21\u001b[0m \u001b[38;5;66;03m# Remove the API key from the file\u001b[39;00m\n\u001b[1;32m     22\u001b[0m update_llm_spec_file(llm_spec, open_ai_api_key, \u001b[38;5;124m\"\u001b[39m\u001b[38;5;132;01m{open_ai_api_key}\u001b[39;00m\u001b[38;5;124m\"\u001b[39m)\n",
      "File \u001b[0;32m~/miniconda3/envs/ipt-cfr2sbvr/lib/python3.11/subprocess.py:391\u001b[0m, in \u001b[0;36mcall\u001b[0;34m(timeout, *popenargs, **kwargs)\u001b[0m\n\u001b[1;32m    389\u001b[0m \u001b[38;5;28;01mwith\u001b[39;00m Popen(\u001b[38;5;241m*\u001b[39mpopenargs, \u001b[38;5;241m*\u001b[39m\u001b[38;5;241m*\u001b[39mkwargs) \u001b[38;5;28;01mas\u001b[39;00m p:\n\u001b[1;32m    390\u001b[0m     \u001b[38;5;28;01mtry\u001b[39;00m:\n\u001b[0;32m--> 391\u001b[0m         \u001b[38;5;28;01mreturn\u001b[39;00m \u001b[43mp\u001b[49m\u001b[38;5;241;43m.\u001b[39;49m\u001b[43mwait\u001b[49m\u001b[43m(\u001b[49m\u001b[43mtimeout\u001b[49m\u001b[38;5;241;43m=\u001b[39;49m\u001b[43mtimeout\u001b[49m\u001b[43m)\u001b[49m\n\u001b[1;32m    392\u001b[0m     \u001b[38;5;28;01mexcept\u001b[39;00m:  \u001b[38;5;66;03m# Including KeyboardInterrupt, wait handled that.\u001b[39;00m\n\u001b[1;32m    393\u001b[0m         p\u001b[38;5;241m.\u001b[39mkill()\n",
      "File \u001b[0;32m~/miniconda3/envs/ipt-cfr2sbvr/lib/python3.11/subprocess.py:1264\u001b[0m, in \u001b[0;36mPopen.wait\u001b[0;34m(self, timeout)\u001b[0m\n\u001b[1;32m   1262\u001b[0m     endtime \u001b[38;5;241m=\u001b[39m _time() \u001b[38;5;241m+\u001b[39m timeout\n\u001b[1;32m   1263\u001b[0m \u001b[38;5;28;01mtry\u001b[39;00m:\n\u001b[0;32m-> 1264\u001b[0m     \u001b[38;5;28;01mreturn\u001b[39;00m \u001b[38;5;28;43mself\u001b[39;49m\u001b[38;5;241;43m.\u001b[39;49m\u001b[43m_wait\u001b[49m\u001b[43m(\u001b[49m\u001b[43mtimeout\u001b[49m\u001b[38;5;241;43m=\u001b[39;49m\u001b[43mtimeout\u001b[49m\u001b[43m)\u001b[49m\n\u001b[1;32m   1265\u001b[0m \u001b[38;5;28;01mexcept\u001b[39;00m \u001b[38;5;167;01mKeyboardInterrupt\u001b[39;00m:\n\u001b[1;32m   1266\u001b[0m     \u001b[38;5;66;03m# https://bugs.python.org/issue25942\u001b[39;00m\n\u001b[1;32m   1267\u001b[0m     \u001b[38;5;66;03m# The first keyboard interrupt waits briefly for the child to\u001b[39;00m\n\u001b[1;32m   1268\u001b[0m     \u001b[38;5;66;03m# exit under the common assumption that it also received the ^C\u001b[39;00m\n\u001b[1;32m   1269\u001b[0m     \u001b[38;5;66;03m# generated SIGINT and will exit rapidly.\u001b[39;00m\n\u001b[1;32m   1270\u001b[0m     \u001b[38;5;28;01mif\u001b[39;00m timeout \u001b[38;5;129;01mis\u001b[39;00m \u001b[38;5;129;01mnot\u001b[39;00m \u001b[38;5;28;01mNone\u001b[39;00m:\n",
      "File \u001b[0;32m~/miniconda3/envs/ipt-cfr2sbvr/lib/python3.11/subprocess.py:2053\u001b[0m, in \u001b[0;36mPopen._wait\u001b[0;34m(self, timeout)\u001b[0m\n\u001b[1;32m   2051\u001b[0m \u001b[38;5;28;01mif\u001b[39;00m \u001b[38;5;28mself\u001b[39m\u001b[38;5;241m.\u001b[39mreturncode \u001b[38;5;129;01mis\u001b[39;00m \u001b[38;5;129;01mnot\u001b[39;00m \u001b[38;5;28;01mNone\u001b[39;00m:\n\u001b[1;32m   2052\u001b[0m     \u001b[38;5;28;01mbreak\u001b[39;00m  \u001b[38;5;66;03m# Another thread waited.\u001b[39;00m\n\u001b[0;32m-> 2053\u001b[0m (pid, sts) \u001b[38;5;241m=\u001b[39m \u001b[38;5;28;43mself\u001b[39;49m\u001b[38;5;241;43m.\u001b[39;49m\u001b[43m_try_wait\u001b[49m\u001b[43m(\u001b[49m\u001b[38;5;241;43m0\u001b[39;49m\u001b[43m)\u001b[49m\n\u001b[1;32m   2054\u001b[0m \u001b[38;5;66;03m# Check the pid and loop as waitpid has been known to\u001b[39;00m\n\u001b[1;32m   2055\u001b[0m \u001b[38;5;66;03m# return 0 even without WNOHANG in odd situations.\u001b[39;00m\n\u001b[1;32m   2056\u001b[0m \u001b[38;5;66;03m# http://bugs.python.org/issue14396.\u001b[39;00m\n\u001b[1;32m   2057\u001b[0m \u001b[38;5;28;01mif\u001b[39;00m pid \u001b[38;5;241m==\u001b[39m \u001b[38;5;28mself\u001b[39m\u001b[38;5;241m.\u001b[39mpid:\n",
      "File \u001b[0;32m~/miniconda3/envs/ipt-cfr2sbvr/lib/python3.11/subprocess.py:2011\u001b[0m, in \u001b[0;36mPopen._try_wait\u001b[0;34m(self, wait_flags)\u001b[0m\n\u001b[1;32m   2009\u001b[0m \u001b[38;5;250m\u001b[39m\u001b[38;5;124;03m\"\"\"All callers to this function MUST hold self._waitpid_lock.\"\"\"\u001b[39;00m\n\u001b[1;32m   2010\u001b[0m \u001b[38;5;28;01mtry\u001b[39;00m:\n\u001b[0;32m-> 2011\u001b[0m     (pid, sts) \u001b[38;5;241m=\u001b[39m os\u001b[38;5;241m.\u001b[39mwaitpid(\u001b[38;5;28mself\u001b[39m\u001b[38;5;241m.\u001b[39mpid, wait_flags)\n\u001b[1;32m   2012\u001b[0m \u001b[38;5;28;01mexcept\u001b[39;00m \u001b[38;5;167;01mChildProcessError\u001b[39;00m:\n\u001b[1;32m   2013\u001b[0m     \u001b[38;5;66;03m# This happens if SIGCLD is set to be ignored or waiting\u001b[39;00m\n\u001b[1;32m   2014\u001b[0m     \u001b[38;5;66;03m# for child processes has otherwise been disabled for our\u001b[39;00m\n\u001b[1;32m   2015\u001b[0m     \u001b[38;5;66;03m# process.  This child is dead, we can't get the status.\u001b[39;00m\n\u001b[1;32m   2016\u001b[0m     pid \u001b[38;5;241m=\u001b[39m \u001b[38;5;28mself\u001b[39m\u001b[38;5;241m.\u001b[39mpid\n",
      "\u001b[0;31mKeyboardInterrupt\u001b[0m: "
     ]
    }
   ],
   "source": [
    "llm_spec = f'{config[\"DEFAULT_SCRIPTS_DIR\"]}/fibo-vec.def'\n",
    "\n",
    "update_llm_spec_file(llm_spec, \"{open_ai_api_key}\", open_ai_api_key)\n",
    "\n",
    "result = subprocess.run(\n",
    "    [\n",
    "        tool,\n",
    "        \"llm\",\n",
    "        \"index\",\n",
    "        repo_spec,\n",
    "        llm_spec,\n",
    "    ],\n",
    "    capture_output=True,\n",
    "    text=True,\n",
    "    check=True\n",
    ")\n",
    "\n",
    "print(\"Output:\", result.stdout)\n",
    "print(\"Return Code:\", result.returncode)\n",
    "\n",
    "# Remove the API key from the file\n",
    "update_llm_spec_file(llm_spec, open_ai_api_key, \"{open_ai_api_key}\")"
   ]
  },
  {
   "cell_type": "markdown",
   "metadata": {},
   "source": [
    "Estimate time: 115 minutes\n",
    "\n",
    "Estimate cost: 5.00 USD"
   ]
  },
  {
   "cell_type": "markdown",
   "metadata": {},
   "source": [
    "### CFR\n",
    "\n",
    "Index CFR data and ontologies into AllegroGraph vector store.\n",
    "\n",
    "> Optional"
   ]
  },
  {
   "cell_type": "code",
   "execution_count": null,
   "metadata": {},
   "outputs": [
    {
     "name": "stdout",
     "output_type": "stream",
     "text": [
      "query=select DISTINCT ?id ?text ?pred ?type {\n",
      "?id a ?type.\n",
      "FILTER (isLiteral(?text))\n",
      "?id ?pred ?text.\n",
      "VALUES ?pred {<http://www.w3.org/2000/01/rdf-schema#label> }\n",
      "VALUES ?type {<http://www.w3.org/2002/07/owl#Class> <http://www.w3.org/2002/07/owl#NamedIndividual> }\n",
      "\n",
      "\n",
      "  } LIMIT 1000000\n",
      "\n",
      "Begin indexing, 15640 strings to consider.  checkpoint every 50 strings\n",
      "checkpoint, 50 processed\n"
     ]
    }
   ],
   "source": [
    "llm_spec = f'{config[\"DEFAULT_SCRIPTS_DIR\"]}/cfr-sbvr-vec'\n",
    "\n",
    "update_llm_spec_file(llm_spec, \"{open_ai_api_key}\", open_ai_api_key)\n",
    "\n",
    "result = subprocess.run(\n",
    "    [\n",
    "        tool,\n",
    "        \"llm\",\n",
    "        \"index\",\n",
    "        repo_spec,\n",
    "        llm_spec,\n",
    "    ],\n",
    "    capture_output=True,\n",
    "    text=True,\n",
    "    check=True\n",
    ")\n",
    "\n",
    "print(\"Output:\", result.stdout)\n",
    "print(\"Return Code:\", result.returncode)\n",
    "\n",
    "# Remove the API key from the file\n",
    "update_llm_spec_file(llm_spec, open_ai_api_key, \"{open_ai_api_key}\")"
   ]
  },
  {
   "cell_type": "markdown",
   "metadata": {},
   "source": [
    "Estimate time: 35 minutes\n",
    "\n",
    "Estimate cost: 8.00 USD"
   ]
  }
 ],
 "metadata": {
  "kernelspec": {
   "display_name": "ipt-cfr2sbvr",
   "language": "python",
   "name": "python3"
  },
  "language_info": {
   "codemirror_mode": {
    "name": "ipython",
    "version": 3
   },
   "file_extension": ".py",
   "mimetype": "text/x-python",
   "name": "python",
   "nbconvert_exporter": "python",
   "pygments_lexer": "ipython3",
   "version": "3.11.9"
  }
 },
 "nbformat": 4,
 "nbformat_minor": 2
}
