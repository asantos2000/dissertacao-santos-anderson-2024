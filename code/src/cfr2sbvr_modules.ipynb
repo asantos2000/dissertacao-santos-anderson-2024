{
 "cells": [
  {
   "cell_type": "markdown",
   "metadata": {},
   "source": [
    "# Modules\n"
   ]
  },
  {
   "cell_type": "markdown",
   "metadata": {},
   "source": [
    "## Configuration"
   ]
  },
  {
   "cell_type": "code",
   "execution_count": 1,
   "metadata": {},
   "outputs": [],
   "source": [
    "!mkdir configuration && touch configuration/__init__.py"
   ]
  },
  {
   "cell_type": "code",
   "execution_count": null,
   "metadata": {},
   "outputs": [],
   "source": [
    "%%writefile configuration/main.py\n",
    "\n",
    "import json\n",
    "import os\n",
    "import time\n",
    "import re\n",
    "import glob\n",
    "import yaml\n",
    "from datetime import datetime\n",
    "\n",
    "DEFAULT_CONFIG_DIR: str = '../config.yaml' # Google drive: \"/content/drive/MyDrive/cfr2sbvr/config.yaml\n",
    "\n",
    "def get_next_filename(file_dir: str, file_prefix: str, extension: str) -> str:\n",
    "    \"\"\"\n",
    "    Generates the next filename in a sequence based on existing files in a directory,\n",
    "    considering the file extension.\n",
    "\n",
    "    The filename format is: `{file_prefix}-{YYYY-MM-DD}-{N}.{extension}`,\n",
    "    where `N` is an incrementing integer for files with the same date.\n",
    "\n",
    "    Args:\n",
    "        file_dir (str): The directory where the files are stored.\n",
    "        file_prefix (str): The prefix used in the filenames.\n",
    "        extension (str): The file extension (e.g., 'json', 'txt').\n",
    "\n",
    "    Returns:\n",
    "        str: The full path to the next filename in the sequence.\n",
    "\n",
    "    Example:\n",
    "        next_file = get_next_filename(DEFAULT_CHECKPOINTS_DIR, 'documents', 'json')\n",
    "        print(next_file)\n",
    "        # Output might be: ../checkpoints/documents-2024-10-19-5.json\n",
    "    \"\"\"\n",
    "    today_str: str = datetime.today().strftime('%Y-%m-%d')\n",
    "    path: str = file_dir\n",
    "\n",
    "    # Ensure the directory exists\n",
    "    if not os.path.exists(path):\n",
    "        os.makedirs(path)\n",
    "\n",
    "    files = os.listdir(path)\n",
    "\n",
    "    # Create the pattern dynamically using file_prefix and extension\n",
    "    pattern = re.compile(\n",
    "        r'^' + re.escape(file_prefix) + r'-(\\d{4}-\\d{2}-\\d{2})-(\\d+)\\.' + re.escape(extension) + r'$'\n",
    "    )\n",
    "\n",
    "    file_info_list = []\n",
    "\n",
    "    for filename in files:\n",
    "        match = pattern.match(filename)\n",
    "        if match:\n",
    "            date_str: str = match.group(1)\n",
    "            number: int = int(match.group(2))\n",
    "            file_info_list.append({'filename': filename, 'date': date_str, 'number': number})\n",
    "\n",
    "    if file_info_list:\n",
    "        # Sort by date and number in descending order\n",
    "        sorted_files = sorted(\n",
    "            file_info_list,\n",
    "            key=lambda x: (x['date'], x['number']),\n",
    "            reverse=True\n",
    "        )\n",
    "\n",
    "        latest_file_info = sorted_files[0]\n",
    "        latest_date: str = latest_file_info['date']\n",
    "        latest_number: int = latest_file_info['number']\n",
    "\n",
    "        if latest_date == today_str:\n",
    "            new_number: int = latest_number + 1\n",
    "        else:\n",
    "            new_number = 1\n",
    "    else:\n",
    "        new_number = 1\n",
    "\n",
    "    new_filename: str = f'{file_prefix}-{today_str}-{new_number}.{extension}'\n",
    "    new_filepath: str = os.path.join(path, new_filename)\n",
    "\n",
    "    return new_filepath\n",
    "\n",
    "\n",
    "# Load the YAML config file\n",
    "def load_config(config_file: str = None):\n",
    "    if config_file is None:\n",
    "        config_file = DEFAULT_CONFIG_DIR\n",
    "    try:\n",
    "        with open(config_file, \"r\") as file:\n",
    "            config = yaml.safe_load(file)\n",
    "    except FileNotFoundError:\n",
    "        raise FileNotFoundError(f\"Configuration file {config_file} not found.\")\n",
    "    except yaml.YAMLError as exc:\n",
    "        raise ValueError(f\"Error parsing YAML file {config_file}: {exc}\")\n",
    "\n",
    "    # Ensure config structure is correct\n",
    "    if \"LLM\" not in config or \"DEFAULT_CHECKPOINT_DIR\" not in config:\n",
    "        raise ValueError(\"Required configuration keys are missing in the config file.\")\n",
    "\n",
    "    # Set the OpenAI API key from environment variable if it's not set in config\n",
    "    config[\"LLM\"][\"OPENAI_API_KEY\"] = os.getenv(\n",
    "        \"OPENAI_API_KEY\", config[\"LLM\"].get(\"OPENAI_API_KEY\")\n",
    "    )\n",
    "\n",
    "    # Dynamically set checkpoint and report files using the get_next_filename function\n",
    "    config[\"DEFAULT_CHECKPOINT_FILE\"] = get_next_filename(\n",
    "        config[\"DEFAULT_CHECKPOINT_DIR\"], \"documents\", \"json\"\n",
    "    )\n",
    "    config[\"DEFAULT_EXTRACTION_REPORT_FILE\"] = get_next_filename(\n",
    "        config[\"DEFAULT_OUTPUT_DIR\"], \"extraction_report\", \"html\"\n",
    "    )\n",
    "\n",
    "    return config"
   ]
  },
  {
   "cell_type": "markdown",
   "metadata": {},
   "source": [
    "If running in Google Colab"
   ]
  },
  {
   "cell_type": "code",
   "execution_count": 7,
   "metadata": {},
   "outputs": [],
   "source": [
    "import sys\n",
    "IN_COLAB = 'google.colab' in sys.modules\n",
    "\n",
    "if IN_COLAB:\n",
    "  from google.colab import drive\n",
    "  drive.mount('/content/drive')\n",
    "  # backup on Google Drive\n",
    "  !cp -r configuration /content/drive/MyDrive/cfr2sbvr/modules"
   ]
  },
  {
   "cell_type": "markdown",
   "metadata": {},
   "source": [
    "### Testing"
   ]
  },
  {
   "cell_type": "code",
   "execution_count": null,
   "metadata": {},
   "outputs": [],
   "source": [
    "import configuration.main as configuration\n",
    "\n",
    "# Development mode\n",
    "import importlib\n",
    "importlib.reload(configuration)"
   ]
  },
  {
   "cell_type": "markdown",
   "metadata": {},
   "source": [
    "Load configuration"
   ]
  },
  {
   "cell_type": "code",
   "execution_count": 15,
   "metadata": {},
   "outputs": [],
   "source": [
    "config = configuration.load_config()"
   ]
  },
  {
   "cell_type": "code",
   "execution_count": null,
   "metadata": {},
   "outputs": [],
   "source": [
    "config"
   ]
  }
 ],
 "metadata": {
  "kernelspec": {
   "display_name": "ipt-cfr2sbvr",
   "language": "python",
   "name": "python3"
  },
  "language_info": {
   "codemirror_mode": {
    "name": "ipython",
    "version": 3
   },
   "file_extension": ".py",
   "mimetype": "text/x-python",
   "name": "python",
   "nbconvert_exporter": "python",
   "pygments_lexer": "ipython3",
   "version": "3.11.9"
  }
 },
 "nbformat": 4,
 "nbformat_minor": 2
}
