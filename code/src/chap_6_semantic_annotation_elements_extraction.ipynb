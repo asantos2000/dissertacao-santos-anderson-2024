{
 "cells": [
  {
   "cell_type": "markdown",
   "metadata": {
    "colab_type": "text",
    "id": "view-in-github"
   },
   "source": [
    "<a href=\"https://colab.research.google.com/github/asantos2000/master-degree-santos-anderson/blob/main/code/src/chap_6_semantic_annotation_elements_extraction.ipynb\" target=\"_parent\"><img src=\"https://colab.research.google.com/assets/colab-badge.svg\" alt=\"Open In Colab\"/></a>"
   ]
  },
  {
   "cell_type": "markdown",
   "metadata": {
    "id": "WVnYd6SGNI4V"
   },
   "source": [
    "# Semantic Annotation - Elements extraction\n",
    "\n",
    "Extract and identify elements.\n",
    "\n",
    "Chapter 6. Ferramentas de suporte\n",
    "- Section 6.2 Implementação dos principais componentes\n",
    "  - Section 6.2.3 Anotações semânticas\n",
    "    - Section Algoritmo \"extract / classify elements\""
   ]
  },
  {
   "cell_type": "markdown",
   "metadata": {},
   "source": [
    "## Google colab"
   ]
  },
  {
   "cell_type": "code",
   "execution_count": 83,
   "metadata": {
    "colab": {
     "base_uri": "https://localhost:8080/"
    },
    "id": "YeGvXmBtNPEr",
    "outputId": "39bc3662-a6ac-4d49-ddd5-2a82c83715ea"
   },
   "outputs": [
    {
     "name": "stdout",
     "output_type": "stream",
     "text": [
      "The autoreload extension is already loaded. To reload it, use:\n",
      "  %reload_ext autoreload\n"
     ]
    }
   ],
   "source": [
    "%load_ext autoreload\n",
    "%autoreload 2\n",
    "\n",
    "import sys\n",
    "import os\n",
    "\n",
    "IN_COLAB = 'google.colab' in sys.modules\n",
    "\n",
    "if IN_COLAB:\n",
    "  from google.colab import drive\n",
    "  drive.mount('/content/drive')\n",
    "  !rm -rf cfr2sbvr configuration checkpoint\n",
    "  !git clone https://github.com/asantos2000/master-degree-santos-anderson.git cfr2sbvr\n",
    "  %pip install -r cfr2sbvr/code/requirements.txt\n",
    "  !cp -r cfr2sbvr/code/src/configuration .\n",
    "  !cp -r cfr2sbvr/code/src/checkpoint .\n",
    "  !cp -r cfr2sbvr/code/config.colab.yaml config.yaml\n",
    "  DEFAULT_CONFIG_FILE=\"config.yaml\"\n",
    "else:\n",
    "  DEFAULT_CONFIG_FILE=\"../config.yaml\""
   ]
  },
  {
   "cell_type": "markdown",
   "metadata": {
    "id": "Dnhg_V5jNI4W",
    "jp-MarkdownHeadingCollapsed": true
   },
   "source": [
    "## Imports"
   ]
  },
  {
   "cell_type": "code",
   "execution_count": 84,
   "metadata": {
    "id": "rpxOMz7bNI4W"
   },
   "outputs": [],
   "source": [
    "# Standard library imports\n",
    "import json\n",
    "\n",
    "# Third-party libraries\n",
    "import pandas as pd\n",
    "from pydantic import BaseModel, Field\n",
    "from typing import List, Optional, Tuple, Set\n",
    "\n",
    "# Local application/library-specific imports\n",
    "import checkpoint.main as checkpoint\n",
    "from checkpoint.main import restore_checkpoint, save_checkpoint, Document, DocumentProcessor\n",
    "import configuration.main as configuration\n",
    "import logging_setup.main as logging_setup\n",
    "import llm_query.main as llm_query\n",
    "from llm_query.main import query_instruct_llm\n",
    "import token_estimator.main as token_estimator\n",
    "from token_estimator.main import estimate_tokens\n",
    "\n",
    "DEV_MODE = True\n",
    "\n",
    "if DEV_MODE:\n",
    "    # Development mode\n",
    "    import importlib\n",
    "    importlib.reload(configuration)\n",
    "    importlib.reload(logging_setup)\n",
    "    importlib.reload(checkpoint)\n",
    "    importlib.reload(llm_query)\n",
    "    importlib.reload(token_estimator)"
   ]
  },
  {
   "cell_type": "markdown",
   "metadata": {
    "id": "2o40QEFwNI4X",
    "jp-MarkdownHeadingCollapsed": true
   },
   "source": [
    "## Settings\n",
    "\n",
    "Default settings, check them before run the notebook."
   ]
  },
  {
   "cell_type": "markdown",
   "metadata": {
    "id": "lPwz2hfgNI4Y"
   },
   "source": [
    "### Get configuration"
   ]
  },
  {
   "cell_type": "code",
   "execution_count": 85,
   "metadata": {
    "id": "poARQdZINI4Y"
   },
   "outputs": [],
   "source": [
    "# load config\n",
    "config = configuration.load_config(DEFAULT_CONFIG_FILE)\n",
    "\n",
    "config[\"LLM\"][\"MODEL\"]=\"o1-preview\""
   ]
  },
  {
   "cell_type": "markdown",
   "metadata": {
    "id": "3ZAWMXD8NI4Y"
   },
   "source": [
    "Generated files for analysis in this run"
   ]
  },
  {
   "cell_type": "code",
   "execution_count": 86,
   "metadata": {
    "colab": {
     "base_uri": "https://localhost:8080/"
    },
    "id": "WGmKVJ-tNI4Z",
    "outputId": "d71c6172-cf70-438f-cff3-430a18cc19bf"
   },
   "outputs": [
    {
     "name": "stdout",
     "output_type": "stream",
     "text": [
      "../data/checkpoints/documents-2024-12-05-3.json ../outputs/extraction_report-2024-12-05-1.html ../outputs/compare_items_metrics.xlsx\n"
     ]
    }
   ],
   "source": [
    "print(config[\"DEFAULT_CHECKPOINT_FILE\"],\n",
    "config[\"DEFAULT_EXTRACTION_REPORT_FILE\"],\n",
    "config[\"DEFAULT_EXCEL_FILE\"])"
   ]
  },
  {
   "cell_type": "markdown",
   "metadata": {
    "id": "0_JfffhbNI4Z"
   },
   "source": [
    "### Logging configuration"
   ]
  },
  {
   "cell_type": "code",
   "execution_count": 87,
   "metadata": {},
   "outputs": [
    {
     "name": "stderr",
     "output_type": "stream",
     "text": [
      "2024-12-05 20:55:38 - INFO - Logging is set up with daily rotation.\n"
     ]
    }
   ],
   "source": [
    "logger = logging_setup.setting_logging(config[\"DEFAULT_LOG_DIR\"], config[\"LOG_LEVEL\"])"
   ]
  },
  {
   "cell_type": "markdown",
   "metadata": {
    "id": "8IFcfyRmNI4a"
   },
   "source": [
    "## Checkpoints\n",
    "\n",
    "Documents, annoted datasets, statistics and metrics about the execution of the notebook are stored by checkpoint module.\n",
    "\n",
    "Checkpoints are stored / retrieved at the directory `DEFAULT_CHECKPOINT_FILE` in the configuration file.\n",
    "\n",
    "During the execution, it will restore the checkpoint at the beginning of the section and saved at the end. We can run and restore the checkpoint several times. If the run fails, check the closest checkpoint and restore it."
   ]
  },
  {
   "cell_type": "markdown",
   "metadata": {
    "id": "PQRUcc26NI4a"
   },
   "source": [
    "### Restore the checkpoint"
   ]
  },
  {
   "cell_type": "code",
   "execution_count": 88,
   "metadata": {
    "id": "vQ258mrANI4b"
   },
   "outputs": [
    {
     "name": "stderr",
     "output_type": "stream",
     "text": [
      "2024-12-05 20:55:38 - ERROR - Checkpoint file '../data/checkpoints/documents-2024-12-05-3.json' not found or is empty, initializing new checkpoint.\n"
     ]
    }
   ],
   "source": [
    "# Restore the checkpoint\n",
    "manager = restore_checkpoint(filename=config[\"DEFAULT_CHECKPOINT_FILE\"])"
   ]
  },
  {
   "cell_type": "markdown",
   "metadata": {},
   "source": [
    "## General functions and data structures"
   ]
  },
  {
   "cell_type": "code",
   "execution_count": 89,
   "metadata": {},
   "outputs": [],
   "source": [
    "def basic_text_stats(text: str) -> Tuple[int, int, int]:\n",
    "    \"\"\"\n",
    "    Computes basic text statistics: number of lines, words, and average words per line.\n",
    "\n",
    "    Args:\n",
    "        text (str): The text to analyze.\n",
    "\n",
    "    Returns:\n",
    "        Tuple[int, int, int]: A tuple containing the number of lines, total words, and average words per line.\n",
    "    \"\"\"\n",
    "    lines=len(text.split(\"\\n\"))\n",
    "    words=len(text.split(\" \"))\n",
    "    avg_words_per_line=round(words/lines)\n",
    "    return lines, words, avg_words_per_line"
   ]
  },
  {
   "cell_type": "code",
   "execution_count": 90,
   "metadata": {},
   "outputs": [],
   "source": [
    "def calculate_content_quantities_p1(doc_id, content_data, filename):\n",
    "    elements = content_data.get(\"elements\", [])\n",
    "    logger.debug(elements)\n",
    "\n",
    "    # Collect statistics\n",
    "    num_elements = len(elements)\n",
    "    fact_count = 0\n",
    "    fact_type_count = 0\n",
    "    rule_count = 0\n",
    "    verb_count = 0\n",
    "    term_count = 0\n",
    "\n",
    "    # Process each element within the document\n",
    "    for element in elements:\n",
    "        classification = element.get(\"classification\", \"Unknown\")\n",
    "        if classification == \"Fact\":\n",
    "            fact_count += 1\n",
    "        elif classification == \"Fact Type\":\n",
    "            fact_type_count += 1\n",
    "        elif classification == \"Rule\":\n",
    "            rule_count += 1\n",
    "        verb_count += len(element.get(\"verb_symbols\", []))\n",
    "        term_count += len(element.get(\"terms\", []))\n",
    "\n",
    "    return {\n",
    "        \"document_id\": doc_id,\n",
    "        \"quantity_of_elements\": num_elements,\n",
    "        \"quantity_of_facts\": fact_count,\n",
    "        \"quantity_of_fact_types\": fact_type_count,\n",
    "        \"quantity_of_rules\": rule_count,\n",
    "        \"quantity_of_verbs\": verb_count,\n",
    "        \"quantity_of_terms\": term_count,\n",
    "        \"filename\": filename,\n",
    "    }"
   ]
  },
  {
   "cell_type": "code",
   "execution_count": 91,
   "metadata": {},
   "outputs": [],
   "source": [
    "def process_documents_p1(file_path, file_name, doc_ids):\n",
    "    # Initialize data containers for the two tables\n",
    "    table_data = []\n",
    "\n",
    "    with open(file_path, 'r') as file:\n",
    "        content = json.load(file)\n",
    "\n",
    "        # Iterate over each document in the file\n",
    "        for doc_id, content_data in content.items():\n",
    "            logger.debug(doc_id, content_data)\n",
    "            # Check if the document ID is in the list to process\n",
    "            #if doc_id in doc_ids and 'content' in doc_data:\n",
    "            if all([doc_id in doc_ids, 'content' in content_data]):\n",
    "                table_data.append(calculate_content_quantities_p1(doc_id, content_data['content'], file_name))\n",
    "\n",
    "    return table_data\n"
   ]
  },
  {
   "cell_type": "code",
   "execution_count": 92,
   "metadata": {},
   "outputs": [],
   "source": [
    "def calculate_content_quantities_p2(doc_id, content_data, filename):\n",
    "    terms_relationship = content_data['content'].get('terms_relationship', [])\n",
    "    logger.debug(f\"terms_relationship: {terms_relationship}\")\n",
    "    terms = content_data['content']['terms']\n",
    "    logger.debug(f\"terms: {terms}\")\n",
    "\n",
    "    # Count terms with and without definitions\n",
    "    total_terms = len(terms)\n",
    "    terms_with_definition = sum(1 for term in terms if term.get('definition'))\n",
    "    terms_without_definition = total_terms - terms_with_definition\n",
    "\n",
    "    # Check for term relationships and count them\n",
    "    terms_relationship_count = len(terms_relationship)\n",
    "\n",
    "    # Add data to table\n",
    "    return {\n",
    "        \"document_id\": doc_id,\n",
    "        \"count_of_terms\": total_terms,\n",
    "        \"terms_with_definition\": terms_with_definition,\n",
    "        \"terms_without_definition\": terms_without_definition,\n",
    "        \"terms_relationship_count\": terms_relationship_count,\n",
    "        \"filename\": filename\n",
    "    }"
   ]
  },
  {
   "cell_type": "markdown",
   "metadata": {},
   "source": [
    "LLM model for extracting elements P1."
   ]
  },
  {
   "cell_type": "code",
   "execution_count": 93,
   "metadata": {},
   "outputs": [],
   "source": [
    "class Item(BaseModel):\n",
    "    term: str = Field(..., description=\"The term is a word or a group of words that represents a specific concept, entity, or subject in a particular context\")\n",
    "    classification: str = Field(..., description=\"The classification of the term, either 'Common Noun' or 'Proper Noun'.\")\n",
    "    confidence: float = Field(..., description=\"The confidence score of the classification.\")\n",
    "    reason: Optional[str] = Field(None, description=\"The reason for the confidence score.\")\n",
    "    extracted_confidence:float = Field(..., description=\"The confidence scores of the terms extracted from the statement.\")\n",
    "    extracted_reason: Optional[str] = Field(None, description=\"The reasons for the confidence scores of the terms extracted from the statement.\")\n",
    "\n",
    "class Element(BaseModel):\n",
    "    id: int = Field(..., description=\"A unique numeric identifier for each fact, fact type, or rule.\")\n",
    "    title: str = Field(..., description=\"The title for statement.\")\n",
    "    statement: str = Field(..., description=\"The full statement or phrase representing the fact, fact type, or rule.\")\n",
    "    terms: List[Item] = Field(..., description=\"A list of terms involved in the fact, fact type, or rule.\")\n",
    "    verb_symbols: List[str] = Field(..., description=\"A list of vers, verb phrases or prepositions connecting the terms.\")\n",
    "    verb_symbols_extracted_confidence: List[float] = Field(..., description=\"The confidence scores of the verb symbols extracted from the statement.\")\n",
    "    verb_symbols_extracted_reason: List[str] = Field(..., description=\"The reasons for the confidence scores of the verb symbols extracted from the statement.\")\n",
    "    classification: str = Field(..., description=\"Indicates whether the statement is classified as 'Fact', 'Fact Type', or 'Operative Rule'.\")\n",
    "    confidence: float = Field(..., description=\"The confidence score of the classification.\")\n",
    "    reason: Optional[str] = Field(None, description=\"The reason for the confidence score.\")\n",
    "    sources: List[str] = Field(..., description=\"The paragraph ID of the document where the fact, fact type, or rule is located (e.g., '(a)', '(b)(2)').\")\n",
    "\n",
    "class ElementsDocumentModel(BaseModel):\n",
    "    section: str = Field(..., description=\"The section ID of the document.\")\n",
    "    summary: str = Field(..., description=\"The summary of the document.\")\n",
    "    elements: List[Element] = Field(..., description=\"A list of facts, fact types, and rules extracted from the document.\")"
   ]
  },
  {
   "cell_type": "markdown",
   "metadata": {},
   "source": [
    "LLM model for extracting elements P2."
   ]
  },
  {
   "cell_type": "code",
   "execution_count": 94,
   "metadata": {},
   "outputs": [],
   "source": [
    "class Term(BaseModel):\n",
    "    term: str = Field(..., description=\"The term is a word or a group of words that represents a specific concept, entity, or subject in a particular context\")\n",
    "    definition: Optional[str] = Field(None, description=\"Definition is a explanation or description of the meaning of the term.\")\n",
    "    confidence: float = Field(..., description=\"The confidence score of the definition extracted from the document.\")\n",
    "    reason: Optional[str] = Field(None, description=\"The reason for the confidence score.\")\n",
    "    isLocalScope: bool = Field(..., description=\"Indicates whether the statement is a local scope or not.\")\n",
    "    local_scope_confidence: float = Field(..., description=\"The confidence score of the local scope.\")\n",
    "    local_scope_reason: Optional[str] = Field(None, description=\"The reason for the local scope confidence score.\")\n",
    "\n",
    "class TermsRelationship(BaseModel):\n",
    "    term_1: str = Field(..., description=\"First term in the relationship.\")\n",
    "    term_2: str = Field(..., description=\"Second term in the relationship.\")\n",
    "    relation: str = Field(..., description=\"The type of relationship between the terms.\")\n",
    "    confidence: float = Field(..., description=\"The confidence score of the relationship extracted from the document.\")\n",
    "    reason: Optional[str] = Field(None, description=\"The reason for the confidence score.\")\n",
    "\n",
    "class TermsDocumentModel(BaseModel):\n",
    "    terms: List[Term] = Field(..., description=\"A list of terms.\")\n",
    "    terms_relationship: List[TermsRelationship] = Field(..., description=\"A list of relationships between terms.\")"
   ]
  },
  {
   "cell_type": "code",
   "execution_count": 95,
   "metadata": {},
   "outputs": [],
   "source": [
    "def extract_unique_terms(document: ElementsDocumentModel) -> List[str]:\n",
    "    \"\"\"\n",
    "    Extracts unique terms from the 'terms' attribute of elements within an ElementsDocumentModel instance.\n",
    "\n",
    "    Args:\n",
    "        document (ElementsDocumentModel): The document containing elements, each with a list of terms.\n",
    "\n",
    "    Returns:\n",
    "        List[str]: A list of unique terms found across all elements in the document.\n",
    "\n",
    "    This function iterates through each element of the document, accesses the terms list in each element, and collects\n",
    "    the unique terms. It uses a set to ensure that the terms are unique before converting it back to a list for the output.\n",
    "    \"\"\"\n",
    "\n",
    "    # Initialize a set to store unique terms\n",
    "    unique_terms: Set[str] = set()\n",
    "\n",
    "    # Loop through each element in the 'elements' list of the document\n",
    "    for element in document.elements:\n",
    "        # Loop through the 'terms' list in each element\n",
    "        for term_info in element.terms:\n",
    "            # Add the term to the set\n",
    "            unique_terms.add(term_info.term)\n",
    "\n",
    "    # Convert the set to a list and return it\n",
    "    return list(unique_terms)"
   ]
  },
  {
   "cell_type": "markdown",
   "metadata": {
    "id": "gALx00jLNI4b",
    "jp-MarkdownHeadingCollapsed": true
   },
   "source": [
    "## Datasets\n",
    "\n",
    "Datasets used in the notebook. They are divided into sections and true tables. The sections are the documents from CFR and true tables are annoted  or \"golden\" datasets."
   ]
  },
  {
   "cell_type": "markdown",
   "metadata": {
    "id": "LvKeXU_nNI4c"
   },
   "source": [
    "### Get section from KG CFR\n",
    "Due the mistakes in the original dataset, we need to correct it. This function will not be used in the final version. Instead we will use variables (document_02, document_05, document_07) from the original dataset.\n",
    "\n",
    "Texts to extract the elements: CFR Sections 275.0-2, 275.0-5, 275.0-7"
   ]
  },
  {
   "cell_type": "markdown",
   "metadata": {
    "id": "KQmuCjb0NI4d"
   },
   "source": [
    "#### Section 275.0-2"
   ]
  },
  {
   "cell_type": "code",
   "execution_count": 96,
   "metadata": {
    "id": "Qo_Bj9twNI4g"
   },
   "outputs": [],
   "source": [
    "manager.add_document(\n",
    "    Document(\n",
    "        id=\"§ 275.0-2\",\n",
    "        type=\"section\",\n",
    "content = \"\"\"\n",
    "§ 275.0-2 General procedures for serving non-residents.\n",
    "(a) General procedures for serving process, pleadings, or other papers on non-resident investment advisers, general partners and managing agents.  Under Forms ADV and ADV-NR [17 CFR 279.1 and 279.4], a person may serve process, pleadings, or other papers on a non-resident investment adviser, or on a non-resident general partner or non-resident managing agent of an investment adviser by serving any or all of its appointed agents:\n",
    "  (1) A person may serve a non-resident investment adviser, non-resident general partner, or non-resident managing agent by furnishing the Commission with one copy of the process, pleadings, or papers, for each named party, and one additional copy for the Commission's records.\n",
    "  (2) If process, pleadings, or other papers are served on the Commission as described in this section, the Secretary of the Commission (Secretary) will promptly forward a copy to each named party by registered or certified mail at that party's last address filed with the Commission.\n",
    "  (3) If the Secretary certifies that the Commission was served with process, pleadings, or other papers pursuant to paragraph (a)(1) of this section and forwarded these documents to a named party pursuant to paragraph (a)(2) of this section, this certification constitutes evidence of service upon that party.\n",
    "(b) Definitions.  For purposes of this section:\n",
    "  (1) Managing agent  means any person, including a trustee, who directs or manages, or who participates in directing or managing, the affairs of any unincorporated organization or association other than a partnership.\n",
    "  (2) Non-resident  means:\n",
    "    (i) An individual who resides in any place not subject to the jurisdiction of the United States;\n",
    "    (ii) A corporation that is incorporated in or that has its principal office and place of business in any place not subject to the jurisdiction of the United States; and\n",
    "    (iii) A partnership or other unincorporated organization or association that has its principal office and place of business in any place not subject to the jurisdiction of the United States.\n",
    "  (3) Principal office and place of business  has the same meaning as in § 275.203A-3(c) of this chapter.\n",
    "\"\"\"\n",
    "    )\n",
    ")"
   ]
  },
  {
   "cell_type": "code",
   "execution_count": 97,
   "metadata": {},
   "outputs": [
    {
     "name": "stderr",
     "output_type": "stream",
     "text": [
      "2024-12-05 20:55:38 - INFO - Document ID: § 275.0-2\n",
      "2024-12-05 20:55:38 - INFO - Section paragraphs: 14, words: 362, avg_word_per_paragraph: 26, tokens: 481\n"
     ]
    }
   ],
   "source": [
    "docs = manager.list_document_ids(doc_type=\"section\")\n",
    "\n",
    "for doc in docs:\n",
    "    text = manager.retrieve_document(doc, \"section\").content\n",
    "    logger.info(f\"Document ID: {doc}\")\n",
    "    paragraphs, words, avg_word_per_paragraph = basic_text_stats(text)\n",
    "    tokens = estimate_tokens(text)\n",
    "    logger.info(f\"Section paragraphs: {paragraphs}, words: {words}, avg_word_per_paragraph: {avg_word_per_paragraph}, tokens: {tokens}\")\n"
   ]
  },
  {
   "cell_type": "markdown",
   "metadata": {
    "id": "Af-8pbqZNI4h"
   },
   "source": [
    "#### Section 275.0-5"
   ]
  },
  {
   "cell_type": "code",
   "execution_count": 98,
   "metadata": {
    "id": "mi0KFeInNI4h"
   },
   "outputs": [],
   "source": [
    "manager.add_document(\n",
    "    Document(\n",
    "        id=\"§ 275.0-5\",\n",
    "        type=\"section\",\n",
    "content = \"\"\"\n",
    "§ 275.0-5 Procedure with respect to applications and other matters.\n",
    "The procedure hereinbelow set forth will be followed with respect to any proceeding initiated by the filing of an application, or upon the Commission's own motion, pursuant to any section of the Act or any rule or regulation thereunder, unless in the particular case a different procedure is provided:\n",
    "(a) Notice of the initiation of the proceeding will be published in the Federal Register and will indicate the earliest date upon which an order disposing of the matter may be entered. The notice will also provide that any interested person may, within the period of time specified therein, submit to the Commission in writing any facts bearing upon the desirability of a hearing on the matter and may request that a hearing be held, stating his reasons therefor and the nature of his interest in the matter.\n",
    "(b) An order disposing of the matter will be issued as of course following the expiration of the period of time referred to in paragraph (a) of this section, unless the Commission thereafter orders a hearing on the matter.\n",
    "(c) The Commission will order a hearing on the matter, if it appears that a hearing is necessary or appropriate in the public interest or for the protection of investors,\n",
    "  (1) upon the request of any interested person or\n",
    "  (2) upon its own motion.\n",
    "(d) Definition of application. For purposes of this rule, an “application” means any application for an order of the Commission under the Act other than an application for registration as an investment adviser.\n",
    "\"\"\"\n",
    "    )\n",
    ")"
   ]
  },
  {
   "cell_type": "markdown",
   "metadata": {
    "id": "0vX5oYs2NI4h"
   },
   "source": [
    "#### Section 275.0-7"
   ]
  },
  {
   "cell_type": "code",
   "execution_count": 99,
   "metadata": {
    "id": "Mnc4fHe8NI4h"
   },
   "outputs": [],
   "source": [
    "manager.add_document(\n",
    "    Document(\n",
    "        id=\"§ 275.0-7\",\n",
    "        type=\"section\",\n",
    "content = \"\"\"\n",
    "§ 275.0-7 Small entities under the Investment Advisers Act for purposes of the Regulatory Flexibility Act.\n",
    "(a) For purposes of Commission rulemaking in accordance with the provisions of Chapter Six of the Administrative Procedure Act (5 U.S.C. 601 et seq.) and unless otherwise defined for purposes of a particular rulemaking proceeding, the term small business or small organization for purposes of the Investment Advisers Act of 1940 shall mean an investment adviser that:\n",
    "  (1) Has assets under management, as defined under Section 203A(a)(3) of the Act (15 U.S.C. 80b-3a(a)(2)) and reported on its annual updating amendment to Form ADV (17 CFR 279.1), of less than $25 million, or such higher amount as the Commission may by rule deem appropriate under Section 203A(a)(1)(A) of the Act (15 U.S.C. 80b-3a(a)(1)(A));\n",
    "  (2) Did not have total assets of $5 million or more on the last day of the most recent fiscal year; and\n",
    "  (3) Does not control, is not controlled by, and is not under common control with another investment adviser that has assets under management of $25 million or more (or such higher amount as the Commission may deem appropriate), or any person (other than a natural person) that had total assets of $5 million or more on the last day of the most recent fiscal year.\n",
    "(b) For purposes of this section:\n",
    "  (1) Control  means the power, directly or indirectly, to direct the management or policies of a person, whether through ownership of securities, by contract, or otherwise.\n",
    "    (i) A person is presumed to control a corporation if the person:\n",
    "      (A) Directly or indirectly has the right to vote 25 percent or more of a class of the corporation's voting securities; or\n",
    "      (B) Has the power to sell or direct the sale of 25 percent or more of a class of the corporation's voting securities.\n",
    "    (ii) A person is presumed to control a partnership if the person has the right to receive upon dissolution, or has contributed, 25 percent or more of the capital of the partnership.\n",
    "    (iii) A person is presumed to control a limited liability company (LLC) if the person:\n",
    "      (A) Directly or indirectly has the right to vote 25 percent or more of a class of the interests of the LLC;\n",
    "      (B) Has the right to receive upon dissolution, or has contributed, 25 percent or more of the capital of the LLC; or\n",
    "      (C) Is an elected manager of the LLC.\n",
    "    (iv) A person is presumed to control a trust if the person is a trustee or managing agent of the trust.\n",
    "  (2) Total assets  means the total assets as shown on the balance sheet of the investment adviser or other person described above under paragraph (a)(3) of this section, or the balance sheet of the investment adviser or such other person with its subsidiaries consolidated, whichever is larger.\n",
    "\"\"\"\n",
    "    )\n",
    ")"
   ]
  },
  {
   "cell_type": "markdown",
   "metadata": {
    "id": "RikOqvzYNI4h"
   },
   "source": [
    "### True tables\n",
    "\n",
    "True tables are annotated or \"golden\" datasets in which entities have been manually identified and labeled within the original source data.\n",
    "\n",
    "True tables for sectiona 275.0-2, 275.0-5 and 275.0-7"
   ]
  },
  {
   "cell_type": "markdown",
   "metadata": {
    "id": "KR_dlFGQNI4h"
   },
   "source": [
    "Load true table for P1 - Elements extraction and classification, terms, and verb symbols, and true table for P2 - Terms definition and synonyms."
   ]
  },
  {
   "cell_type": "code",
   "execution_count": 100,
   "metadata": {
    "id": "hb7Vmh0ENI4h"
   },
   "outputs": [],
   "source": [
    "with open(f\"{config['DEFAULT_DATA_DIR']}/documents_true_table.json\", 'r') as file:\n",
    "    data = json.load(file)\n",
    "\n",
    "    manager.add_document(\n",
    "        Document.model_validate(data[\"§ 275.0-2_P1|true_table\"])\n",
    "    )\n",
    "\n",
    "    manager.add_document(\n",
    "        Document.model_validate(data[\"§ 275.0-5_P1|true_table\"])\n",
    "    )\n",
    "\n",
    "    manager.add_document(\n",
    "        Document.model_validate(data[\"§ 275.0-7_P1|true_table\"])\n",
    "    )\n",
    "\n",
    "    manager.add_document(\n",
    "        Document.model_validate(data[\"§ 275.0-2_P2|true_table\"])\n",
    "    )\n",
    "\n",
    "    manager.add_document(\n",
    "        Document.model_validate(data[\"§ 275.0-5_P2|true_table\"])\n",
    "    )\n",
    "\n",
    "    manager.add_document(\n",
    "        Document.model_validate(data[\"§ 275.0-7_P2|true_table\"])\n",
    "    )"
   ]
  },
  {
   "cell_type": "markdown",
   "metadata": {
    "id": "dwtCq43uNI4i"
   },
   "source": [
    "### Save checkpoint"
   ]
  },
  {
   "cell_type": "code",
   "execution_count": 101,
   "metadata": {
    "id": "mShs2YxeNI4i"
   },
   "outputs": [
    {
     "name": "stderr",
     "output_type": "stream",
     "text": [
      "2024-12-05 20:55:39 - INFO - DocumentManager state persisted to file: ../data/checkpoints/documents-2024-12-05-3.json\n",
      "2024-12-05 20:55:39 - INFO - Checkpoint saved.\n"
     ]
    }
   ],
   "source": [
    "# Persist the state to a file\n",
    "save_checkpoint(filename=config[\"DEFAULT_CHECKPOINT_FILE\"], manager=manager)"
   ]
  },
  {
   "cell_type": "markdown",
   "metadata": {},
   "source": [
    "## Prompt engeneering\n",
    "\n",
    "Prompt strucuture is based on [1]. It is a zero-shot prompt following the concept of chain of thought.\n",
    "\n",
    "Following the approaches are taken."
   ]
  },
  {
   "cell_type": "markdown",
   "metadata": {
    "id": "IYbsDrCwNI4m"
   },
   "source": [
    "### 1. facts and fact types\n",
    "Try to extract all facts and fact types from a given document.\n",
    "\n",
    "This approach has successful results. It is focused on extracting the elements, and achive the best results, similar to the approach 3."
   ]
  },
  {
   "cell_type": "code",
   "execution_count": 102,
   "metadata": {
    "id": "IYd3tmTJNI4m"
   },
   "outputs": [],
   "source": [
    "system_prompt_facts = \"\"\"\n",
    "\n",
    "You are tasked with extracting **facts**, **fact types**, and their **relationships** from a given document. Follow these steps carefully:\n",
    "\n",
    "#### Steps to Perform:\n",
    "\n",
    "1. **Identify Facts and Fact Types**:\n",
    "   - A **fact** is a specific instance or statement that describes an event or condition.\n",
    "   - A **fact type** is a general template or relationship that defines how entities interact.\n",
    "   - For each fact or fact type:\n",
    "     - Extract the **statement** that represents the fact or fact type.\n",
    "     - List the **terms** (Nouns or Proper nouns) involved in the fact or fact type.\n",
    "     - Identify the **fact symbols** (verbs, verb phrases, or prepositions) connecting the terms.\n",
    "     - Classify the statement as either a **Fact** or **Fact Type**.\n",
    "     - Note the section or paragraph where the fact or fact type appears as the **source**.\n",
    "\n",
    "2. **Classify Terms**:\n",
    "   - For each fact or fact type, classify all **terms**:\n",
    "     - Label each term as either a **Noun** or **Proper Noun**.\n",
    "   - Ensure that the terms are extracted accurately and classified correctly.\n",
    "\n",
    "3. **Define term**:\n",
    "   - For each term look in the document for the term definition. If the term definition is not found, use \"missing\".:\n",
    "\n",
    "4. **Identify Fact Symbols**:\n",
    "   - Extract the verbs or prepositions that define the relationships between the terms. These are referred to as **fact symbols**.\n",
    "   - Each fact or fact type should have a list of fact symbols.\n",
    "\n",
    "5. **Source Information**:\n",
    "   - Record the paragraph or section of the document where each fact or fact type is found as **source** information (e.g., “(a)(1)”, “(b)”).\n",
    "\n",
    "6. **Recognize Term Relationships**:\n",
    "   - Identify relationships between terms:\n",
    "     - **Synonyms**: Terms that can be used interchangeably without changing the meaning.\n",
    "     - **Hypernym-Hyponym**: A broader term (hypernym) that includes a more specific term (hyponym).\n",
    "   - For each pair of terms:\n",
    "     - Identify the relationship (either \"Synonym\" or \"Hypernym-Hyponym\").\n",
    "     - Ensure that both terms involved in the relationship are valid terms from the document.\n",
    "\n",
    "7. **Structure the Output in JSON Format**:\n",
    "   - Create a JSON object with the following structure:\n",
    "     - **facts_and_fact_types**: A list of dictionaries, where each dictionary contains:\n",
    "       - **id**: A unique identifier for the fact or fact type.\n",
    "       - **statement**: The extracted fact or fact type.\n",
    "       - **terms**: A list of dictionaries, where each dictionary has a term and its classification (either \"Noun\" or \"Proper Noun\").\n",
    "       - **fact_symbols**: A list of verb phrases or prepositions connecting the terms.\n",
    "       - **classification**: Either \"Fact\" or \"Fact Type\".\n",
    "       - **source**: The section or paragraph where the fact or fact type appears.\n",
    "     - **terms_relationship**: A list of dictionaries, where each dictionary contains:\n",
    "       - **terms**: A list of two related terms.\n",
    "       - **relation**: Either \"Synonym\" or \"Hypernym-Hyponym\".\n",
    "\n",
    "#### Example Output:\n",
    "\n",
    "```json\n",
    "{\n",
    "  \"facts_and_fact_types\": [\n",
    "    {\n",
    "      \"id\": 1,\n",
    "      \"statement\": \"A person serves a non-resident investment adviser by furnishing the Commission with process, pleadings, or papers.\",\n",
    "      \"terms\": [\n",
    "        {\"Person\": \"Noun\"},\n",
    "        {\"Non-resident investment adviser\": \"Noun\"},\n",
    "        {\"Commission\": \"Proper Noun\"},\n",
    "        {\"Process\": \"Noun\"},\n",
    "        {\"Pleadings\": \"Noun\"},\n",
    "        {\"Papers\": \"Noun\"}\n",
    "      ],\n",
    "      \"fact_symbols\": [\"serves\", \"by furnishing\", \"with\"],\n",
    "      \"classification\": \"Fact Type\",\n",
    "      \"sources\": [\"(a)\"]\n",
    "    }\n",
    "  ],\n",
    "  \"terms_relationship\": [\n",
    "    {\n",
    "      \"terms\": [\n",
    "        \"Principal office\",\n",
    "        \"Place of business\"\n",
    "      ],\n",
    "      \"relation\": \"Synonym\"\n",
    "    }\n",
    "  ]\n",
    "}\n",
    "```\n",
    "\n",
    "#### Guidelines:\n",
    "- Be precise in identifying **terms** and **fact symbols**.\n",
    "- Classify the relationships between terms accurately as **Synonym** or **Hypernym-Hyponym**.\n",
    "- Ensure the final output adheres to the specified JSON structure.\n",
    "\n",
    "#### Start of the document\n",
    "\"\"\""
   ]
  },
  {
   "cell_type": "markdown",
   "metadata": {
    "id": "e_etiOBANI4m"
   },
   "source": [
    "### 2. facts, fact types, rules, and terms with definitions\n",
    "\n",
    "Try to extract all facts, fact types, rules, and terms with definitions from a given document. Try to extract the relationships for each term  as well.\n",
    "\n",
    "**Results**\n",
    "\n",
    "The result are fairly consistent, but it failed to extract term's definitions, even when the definition was clear in the text, like in the document 275.0-7 from the fragment \"... the **term** small business or small organization for purposes of the Investment Advisers Act of 1940 shall **mean** an investment adviser that: ...\". The prompt failed to define small business and small organization, what are the main purpose of the document. It also failed to recognize that small business and small organization are synonyms."
   ]
  },
  {
   "cell_type": "code",
   "execution_count": 103,
   "metadata": {
    "id": "-rVsO4OGNI4m"
   },
   "outputs": [],
   "source": [
    "system_prompt_v1 = \"\"\"\n",
    "You are tasked with extracting **facts**, **fact types**, **rules**, and their **relationships** from a given document. Follow these steps carefully:\n",
    "\n",
    "<steps>\n",
    "\n",
    "1. Summarize the document. Use the summary to verify if all important facts, fact types, and rules are present.\n",
    "\n",
    "2. **Identify Facts, Fact Types, and Rules**:\n",
    "   - A **fact** is a specific instance or statement that describes an event or condition. Facts are statements of truth without any directive element. They are often associated with relationships between terms or entities. e.g., \"John works for X Inc.\".\n",
    "   - A **fact type** is a general, abstract template that describes the potential relationships between terms or entities. It serves as a model for generating specific facts. e.g., \"Person works for Company\".\n",
    "   - A **rule** rule is generally defined as a statement that governs or constrains some aspect of the business. It specifies what must be done or what is not allowed, often guiding actions, decisions, and behaviors within an organization. Rules enforce compliance, limit possibilities, or prescribe specific behaviors in response to business situations. e.g., \"A customer must provide identification before opening an account.\".\n",
    "   - For each fact, fact type, or rule:\n",
    "     - Extract the **statement** that represents the fact, fact type, or rule.\n",
    "     - List the **terms** involved in the fact, fact type, or rule.\n",
    "     - Identify the **verb symbols** (verbs, verb phrases, or prepositions) connecting the terms.\n",
    "     - Classify the statement as either a **Fact**, **Fact Type**, or **Rule**.\n",
    "     - Note the section or paragraph where the fact, fact type, or rule appears as the **source**.\n",
    "     - For each term look in the document for the term definition. If the term definition is not found, use \"missing\".:\n",
    "\n",
    "3. Classify Terms:\n",
    "   - For each fact, fact type, or rule classify all **terms**:\n",
    "     - Label each term as either a **Common Noun** or **Proper Noun**.\n",
    "   - Ensure that the terms are extracted accurately and classified correctly.\n",
    "\n",
    "4. Define term:\n",
    "   - For each term look in the document for the term definition, explaining, or meaning. If the term definition is not found, use \"missing\".:\n",
    "\n",
    "4. Identify Verb Symbols:\n",
    "   - Extract the verbs or prepositions that define the relationships between the terms. These are referred to as **verb symbols**.\n",
    "   - Each fact, fact type, or rule should have a list of verb symbols.\n",
    "\n",
    "5. Source Information:\n",
    "   - Record the paragraph or section of the document where each fact, fact type, or rule is found as **source** information (e.g., \"(a)(1)\", \"(b)\").\n",
    "\n",
    "6. Recognize term relationships:\n",
    "   - Identify relationships between terms:\n",
    "     - **Synonyms**: Terms that can be used interchangeably without changing the meaning.\n",
    "     - **Hypernym-Hyponym**: A broader term (hypernym) that includes a more specific term (hyponym).\n",
    "   - For each pair of terms:\n",
    "     - Identify the relationship (either \"Synonym\" or \"Hypernym-Hyponym\").\n",
    "     - Ensure that both terms involved in the relationship are valid terms from the document.\n",
    "\n",
    "7. Answer only with the output example structure in JSON format. All the values are optional.\n",
    "\n",
    "<output_example>\n",
    "\n",
    "```json\n",
    "{\n",
    "  \"section\": \"§ 123.4-5\",\n",
    "  \"elements\": [\n",
    "    {\n",
    "      \"id\": 1,\n",
    "      \"statement\": \"A person serves a non-resident investment adviser by furnishing the Commission with process, pleadings, or papers.\",\n",
    "      \"terms\": [\n",
    "        {\n",
    "            \"term\": \"Person\",\n",
    "            \"classification\": \"Noun\",\n",
    "            \"definition\": \"missing\"\n",
    "        },\n",
    "      ...\n",
    "      ],\n",
    "      \"verb_symbols\": [\"serves\", \"by furnishing\", \"with\"],\n",
    "      \"classification\": \"Fact Type\",\n",
    "      \"sources\": [\"(a)\"]\n",
    "    }\n",
    "  ],\n",
    "  \"terms_relationship\": [\n",
    "    {\n",
    "      \"terms\": [\n",
    "        \"Principal office\",\n",
    "        \"Place of business\"\n",
    "      ],\n",
    "      \"relation\": \"Synonym\"\n",
    "    }\n",
    "  ]\n",
    "},\n",
    "...\n",
    "```\n",
    "</output_example>\n",
    "\n",
    "</steps>\n",
    "\"\"\""
   ]
  },
  {
   "cell_type": "markdown",
   "metadata": {
    "id": "11OuKtl7NI4m"
   },
   "source": [
    "The v2 is a variation of the v1, with more concise description of the steps, and changing the organization of the text. The results are the same, but there was miss classification of the statements."
   ]
  },
  {
   "cell_type": "code",
   "execution_count": 104,
   "metadata": {
    "id": "mVuECq_8NI4n"
   },
   "outputs": [],
   "source": [
    "system_prompt_v2 = \"\"\"\n",
    "Extract facts, fact types, and their relationships from a given document, and structure the output in a specified JSON format.\n",
    "\n",
    "Follow the steps to identify and classify statements, using document details to find definitions and source information.\n",
    "\n",
    "# Steps\n",
    "\n",
    "1. **Summarize the Document:**\n",
    "   - Provide a summary to ensure the completeness of identified facts, fact types, and rules.\n",
    "\n",
    "2. **Identify Facts, Fact Types, and Rules:**\n",
    "   - Define and extract each:\n",
    "     - **Fact:** Instance or statement of event/condition, e.g., \"John works for X Inc.\"\n",
    "     - **Fact Type:** Template for relationships, e.g., \"Person works for Company.\"\n",
    "     - **Rule:** Governing statement, e.g., \"A customer must provide identification before opening an account.\"\n",
    "   - For each, document:\n",
    "     - **Statement**\n",
    "     - **Terms** involved\n",
    "     - **Verb Symbols** connecting the terms\n",
    "     - **Classification** as Fact, Fact Type, or Rule\n",
    "     - **Source** paragraph or section in the document\n",
    "\n",
    "3. **Classify Terms:**\n",
    "   - Classify each term as **Common Noun** or **Proper Noun**.\n",
    "\n",
    "4. **Define Term:**\n",
    "   - Locate definitions for terms in the document, or mark as \"missing.\"\n",
    "\n",
    "5. **Identify Verb Symbols:**\n",
    "   - Extract verbs or prepositions (verb symbols) that define term relationships.\n",
    "\n",
    "6. **Source Information:**\n",
    "   - Note the document source (section/paragraph) for each statement.\n",
    "\n",
    "7. **Recognize Term Relationships:**\n",
    "   - Identify pairs of terms with relationships:\n",
    "     - **Synonyms:** interchangeable terms.\n",
    "     - **Hypernym-Hyponym:** broader (hypernym) includes more specific (hyponym).\n",
    "   - Ensure relationship validity using document terms.\n",
    "\n",
    "# Output Format\n",
    "\n",
    "Produce a structured JSON format based on the specified template. Ensure all necessary fields are populated accurately, even if some fields are optional or marked as \"missing\".\n",
    "\n",
    "# Examples\n",
    "\n",
    "**Example JSON Structure:**\n",
    "\n",
    "```json\n",
    "{\n",
    "  \"section\": \"§ 123.4-5\",\n",
    "  \"elements\": [\n",
    "    {\n",
    "      \"id\": 1,\n",
    "      \"statement\": \"A person serves a non-resident investment adviser by furnishing the Commission with process, pleadings, or papers.\",\n",
    "      \"terms\": [\n",
    "        {\n",
    "            \"term\": \"Person\",\n",
    "            \"classification\": \"Noun\",\n",
    "            \"definition\": \"missing\"\n",
    "        },\n",
    "        // Additional terms...\n",
    "      ],\n",
    "      \"verb_symbols\": [\"serves\", \"by furnishing\", \"with\"],\n",
    "      \"classification\": \"Fact Type\",\n",
    "      \"sources\": [\"(a)\"]\n",
    "    }\n",
    "  ],\n",
    "  \"terms_relationship\": [\n",
    "    {\n",
    "      \"terms\": [\n",
    "        \"Principal office\",\n",
    "        \"Place of business\"\n",
    "      ],\n",
    "      \"relation\": \"Synonym\"\n",
    "    }\n",
    "  ]\n",
    "}\n",
    "```\n",
    "\n",
    "# Notes\n",
    "\n",
    "- Ensure extracted statements are fully detailed and clearly classified.\n",
    "- Pay careful attention to identifying and classifying terms accurately.\n",
    "- Follow the precise JSON format for all outputs, populating fields as required.\n",
    "\"\"\"\n"
   ]
  },
  {
   "cell_type": "markdown",
   "metadata": {
    "id": "Yw3NoyOdNI4n"
   },
   "source": [
    "The v3 is back to v1, changing the organization of the text.\n",
    "\n",
    "**Results**\n",
    "\n",
    "The results are the same of v1 and v2. 5 elements were extracted. 16 terms were extracted with 2 definitions."
   ]
  },
  {
   "cell_type": "code",
   "execution_count": 105,
   "metadata": {
    "id": "w9Cu0pLxNI4n"
   },
   "outputs": [],
   "source": [
    "system_prompt_v3 = \"\"\"\n",
    "You are tasked with extracting elements and **relationships** from a given legal document. Please follow these steps carefully and ensure all instructions are adhered to:\n",
    "\n",
    "**Steps**:\n",
    "\n",
    "1. **Summarize the document**:\n",
    "   - Summarize the document to understand its purpose and use it to verify if all important terms, term definitions, facts, fact types, and rules are identified in subsequent steps.\n",
    "\n",
    "2. **Identify Facts, Fact Types, and Rules**:\n",
    "   - **Definitions**:\n",
    "     - **Fact**: A specific instance or statement that describes an event or condition without any directive element. Facts often involve relationships between terms or entities. Example: \"John works for X Inc.\"\n",
    "     - **Fact Type**: A general, abstract template that describes potential relationships between terms or entities, serving as a model for generating specific facts. Example: \"Person works for Company.\"\n",
    "     - **Rule**: A statement that governs or constrains some aspect of the business, specifying what must be done or what is not allowed. Rules enforce compliance, limit possibilities, or prescribe specific behaviors in response to business situations. Example: \"A customer must provide identification before opening an account.\"\n",
    "   - **For each fact, fact type, or rule**:\n",
    "     - **Extract the statement**: Identify the exact statement or phrase from the document representing the fact, fact type, or rule.\n",
    "     - **Extract Terms**: List all the terms involved in the statement.\n",
    "     - **Extract Verb Symbols**: Identify verbs, verb phrases, or prepositions that connect the terms in the statement.\n",
    "     - **Classification**: Classify the statement as either a **Fact**, **Fact Type**, or **Rule**.\n",
    "     - **Source**: Note the specific paragraph or section of the document where the statement is found (e.g., \"(a)(1)\", \"(b)\").\n",
    "\n",
    "3. **Classify Terms**:\n",
    "   - For each term extracted classify it as either a **Common Noun** or a **Proper Noun**.\n",
    "\n",
    "4. **Define Terms**:\n",
    "   - For each term:\n",
    "     - Search the entire document for the term's definition, explanation, or meaning. Also, look in the document summary.\n",
    "     - If the definition is found, include it.\n",
    "     - If the definition is not found in the document, use **None**.\n",
    "\n",
    "5. **Identify Relationships Between Terms**:\n",
    "   - **Types of Relationships**:\n",
    "     - **Synonym**: Terms that can be used interchangeably without changing the meaning.\n",
    "     - **Hypernym-Hyponym**: A broader term (hypernym) that includes a more specific term (hyponym).\n",
    "   - **For each pair of terms in the document**:\n",
    "     - Identify if a relationship exists as either \"Synonym\" or \"Hypernym-Hyponym\".\n",
    "     - Only include relationships where both terms are present in the document.\n",
    "\n",
    "6. **Provide JSON Output**:\n",
    "   - Format your answer as per the output example below.\n",
    "   - **All values are optional**: Include as much information as is available based on the document.\n",
    "   - **Do not include any additional text or explanation outside the JSON structure**.\n",
    "\n",
    "**Output Example**:\n",
    "\n",
    "```json\n",
    "{\n",
    "  \"section\": \"§ 123.4-5\",\n",
    "  \"elements\": [\n",
    "    {\n",
    "      \"id\": 1,\n",
    "      \"statement\": \"A person serves a non-resident investment adviser by furnishing the Commission with process, pleadings, or papers.\",\n",
    "      \"terms\": [\n",
    "        {\n",
    "          \"term\": \"Person\",\n",
    "          \"classification\": \"Common Noun\",\n",
    "          \"definition\": \"An individual or legal entity.\"\n",
    "        },\n",
    "        {\n",
    "          \"term\": \"Non-resident investment adviser\",\n",
    "          \"classification\": \"Common Noun\",\n",
    "          \"definition\": null\n",
    "        },\n",
    "        ...\n",
    "      ],\n",
    "      \"verb_symbols\": [\"serves\", \"by furnishing\", \"with\"],\n",
    "      \"classification\": \"Fact Type\",\n",
    "      \"sources\": [\"(a)\"]\n",
    "    },\n",
    "    ...\n",
    "  ],\n",
    "  \"terms_relationship\": [\n",
    "    {\n",
    "      \"terms\": [\n",
    "        \"Principal office\",\n",
    "        \"Place of business\"\n",
    "      ],\n",
    "      \"relation\": \"Synonym\"\n",
    "    },\n",
    "    {\n",
    "      \"terms\": [\n",
    "        \"Person\",\n",
    "        \"Individual\"\n",
    "      ],\n",
    "      \"relation\": \"Synonym\"\n",
    "    },\n",
    "    ...\n",
    "  ]\n",
    "}\n",
    "```\n",
    "\"\"\""
   ]
  },
  {
   "cell_type": "code",
   "execution_count": 106,
   "metadata": {
    "id": "ZAlVXStZNI4n"
   },
   "outputs": [],
   "source": [
    "response_prompt_v3 = {\n",
    "  \"section\": \"§ 275.0-7\",\n",
    "  \"elements\": [\n",
    "    {\n",
    "      \"id\": 1,\n",
    "      \"statement\": \"An investment adviser that has assets under management of less than $25 million is considered a small business for the purposes of the Investment Advisers Act of 1940.\",\n",
    "      \"terms\": [\n",
    "        {\n",
    "          \"term\": \"Investment adviser\",\n",
    "          \"classification\": \"Common Noun\",\n",
    "          \"definition\": None\n",
    "        },\n",
    "        {\n",
    "          \"term\": \"Assets under management\",\n",
    "          \"classification\": \"Common Noun\",\n",
    "          \"definition\": None\n",
    "        },\n",
    "        {\n",
    "          \"term\": \"$25 million\",\n",
    "          \"classification\": \"Proper Noun\",\n",
    "          \"definition\": None\n",
    "        },\n",
    "        {\n",
    "          \"term\": \"Small business\",\n",
    "          \"classification\": \"Common Noun\",\n",
    "          \"definition\": None\n",
    "        }\n",
    "      ],\n",
    "      \"verb_symbols\": [\"has\", \"is considered\"],\n",
    "      \"classification\": \"Fact Type\",\n",
    "      \"sources\": [\"(a)(1)\"]\n",
    "    },\n",
    "    {\n",
    "      \"id\": 2,\n",
    "      \"statement\": \"An investment adviser is considered a small organization if it did not have total assets of $5 million or more on the last day of the most recent fiscal year.\",\n",
    "      \"terms\": [\n",
    "        {\n",
    "          \"term\": \"Investment adviser\",\n",
    "          \"classification\": \"Common Noun\",\n",
    "          \"definition\": None\n",
    "        },\n",
    "        {\n",
    "          \"term\": \"Total assets\",\n",
    "          \"classification\": \"Common Noun\",\n",
    "          \"definition\": None\n",
    "        },\n",
    "        {\n",
    "          \"term\": \"$5 million\",\n",
    "          \"classification\": \"Proper Noun\",\n",
    "          \"definition\": None\n",
    "        },\n",
    "        {\n",
    "          \"term\": \"Small organization\",\n",
    "          \"classification\": \"Common Noun\",\n",
    "          \"definition\": None\n",
    "        },\n",
    "        {\n",
    "          \"term\": \"Fiscal year\",\n",
    "          \"classification\": \"Common Noun\",\n",
    "          \"definition\": None\n",
    "        }\n",
    "      ],\n",
    "      \"verb_symbols\": [\"did not have\", \"is considered\"],\n",
    "      \"classification\": \"Fact Type\",\n",
    "      \"sources\": [\"(a)(2)\"]\n",
    "    },\n",
    "    {\n",
    "      \"id\": 3,\n",
    "      \"statement\": \"An investment adviser is not considered a small business if it controls, is controlled by, or is under common control with another investment adviser that has assets under management of $25 million or more.\",\n",
    "      \"terms\": [\n",
    "        {\n",
    "          \"term\": \"Investment adviser\",\n",
    "          \"classification\": \"Common Noun\",\n",
    "          \"definition\": None\n",
    "        },\n",
    "        {\n",
    "          \"term\": \"Control\",\n",
    "          \"classification\": \"Common Noun\",\n",
    "          \"definition\": \"The power, directly or indirectly, to direct the management or policies of a person.\"\n",
    "        },\n",
    "        {\n",
    "          \"term\": \"Common control\",\n",
    "          \"classification\": \"Common Noun\",\n",
    "          \"definition\": None\n",
    "        },\n",
    "        {\n",
    "          \"term\": \"$25 million\",\n",
    "          \"classification\": \"Proper Noun\",\n",
    "          \"definition\": None\n",
    "        },\n",
    "        {\n",
    "          \"term\": \"Small business\",\n",
    "          \"classification\": \"Common Noun\",\n",
    "          \"definition\": None\n",
    "        }\n",
    "      ],\n",
    "      \"verb_symbols\": [\"controls\", \"is controlled by\", \"is under\"],\n",
    "      \"classification\": \"Rule\",\n",
    "      \"sources\": [\"(a)(3)\"]\n",
    "    },\n",
    "    {\n",
    "      \"id\": 4,\n",
    "      \"statement\": \"Control means the power, directly or indirectly, to direct the management or policies of a person, whether through ownership of securities, by contract, or otherwise.\",\n",
    "      \"terms\": [\n",
    "        {\n",
    "          \"term\": \"Control\",\n",
    "          \"classification\": \"Common Noun\",\n",
    "          \"definition\": \"The power, directly or indirectly, to direct the management or policies of a person.\"\n",
    "        },\n",
    "        {\n",
    "          \"term\": \"Person\",\n",
    "          \"classification\": \"Common Noun\",\n",
    "          \"definition\": None\n",
    "        },\n",
    "        {\n",
    "          \"term\": \"Securities\",\n",
    "          \"classification\": \"Common Noun\",\n",
    "          \"definition\": None\n",
    "        },\n",
    "        {\n",
    "          \"term\": \"Contract\",\n",
    "          \"classification\": \"Common Noun\",\n",
    "          \"definition\": None\n",
    "        }\n",
    "      ],\n",
    "      \"verb_symbols\": [\"means\", \"to direct\", \"whether through\"],\n",
    "      \"classification\": \"Fact\",\n",
    "      \"sources\": [\"(b)(1)\"]\n",
    "    },\n",
    "    {\n",
    "      \"id\": 5,\n",
    "      \"statement\": \"A person is presumed to control a corporation if the person has the right to vote 25 percent or more of a class of the corporation's voting securities.\",\n",
    "      \"terms\": [\n",
    "        {\n",
    "          \"term\": \"Person\",\n",
    "          \"classification\": \"Common Noun\",\n",
    "          \"definition\": None\n",
    "        },\n",
    "        {\n",
    "          \"term\": \"Corporation\",\n",
    "          \"classification\": \"Common Noun\",\n",
    "          \"definition\": None\n",
    "        },\n",
    "        {\n",
    "          \"term\": \"Voting securities\",\n",
    "          \"classification\": \"Common Noun\",\n",
    "          \"definition\": None\n",
    "        },\n",
    "        {\n",
    "          \"term\": \"25 percent\",\n",
    "          \"classification\": \"Proper Noun\",\n",
    "          \"definition\": None\n",
    "        }\n",
    "      ],\n",
    "      \"verb_symbols\": [\"is presumed\", \"to control\", \"has the right to vote\"],\n",
    "      \"classification\": \"Fact Type\",\n",
    "      \"sources\": [\"(b)(1)(i)(A)\"]\n",
    "    }\n",
    "  ],\n",
    "  \"terms_relationship\": [\n",
    "    {\n",
    "      \"terms\": [\n",
    "        \"Investment adviser\",\n",
    "        \"Small business\"\n",
    "      ],\n",
    "      \"relation\": \"Hypernym-Hyponym\"\n",
    "    },\n",
    "    {\n",
    "      \"terms\": [\n",
    "        \"Investment adviser\",\n",
    "        \"Small organization\"\n",
    "      ],\n",
    "      \"relation\": \"Hypernym-Hyponym\"\n",
    "    }\n",
    "  ]\n",
    "}\n"
   ]
  },
  {
   "cell_type": "code",
   "execution_count": 107,
   "metadata": {},
   "outputs": [
    {
     "name": "stderr",
     "output_type": "stream",
     "text": [
      "2024-12-05 20:55:39 - INFO - DocumentManager restored from file: ../data/checkpoints/documents-2024-12-05-3.json\n",
      "2024-12-05 20:55:39 - INFO - Checkpoint restored from ../data/checkpoints/documents-2024-12-05-3.json.\n"
     ]
    }
   ],
   "source": [
    "# Restore checkpoint\n",
    "manager = restore_checkpoint(filename=config[\"DEFAULT_CHECKPOINT_FILE\"])"
   ]
  },
  {
   "cell_type": "code",
   "execution_count": 108,
   "metadata": {
    "id": "9RbFwEuKNI4n",
    "outputId": "26898624-5bd6-4f75-e038-2fb4a21aec68"
   },
   "outputs": [
    {
     "data": {
      "text/plain": [
       "(5, 2)"
      ]
     },
     "execution_count": 108,
     "metadata": {},
     "output_type": "execute_result"
    }
   ],
   "source": [
    "len(response_prompt_v3[\"elements\"]), len(response_prompt_v3[\"terms_relationship\"])"
   ]
  },
  {
   "cell_type": "markdown",
   "metadata": {
    "id": "WH-K-o0pNI4o"
   },
   "source": [
    "### 3. facts, fact types, rules, and terms\n",
    "\n",
    "Try to extract all facts, fact types, rules, and terms without definitions from a given document, and do not try to extract the relationships for each term.\n",
    "\n",
    "This approach is very similar to the approach used in the previous, but it is more focused on extracting the elements. It is divided in two parts:\n",
    "- Extract the elements\n",
    "- Extract the definitions and relationships\n",
    "\n",
    "**Results**\n",
    "\n",
    "The result are consistents, 7 elements and 21 terms with definitions are extracted. in contrast, the previous approach, 5 elements and 16 terms with 2 definitions were extracted. An improvement of 40% extracting facts and rules, 31% extracting terms, and 1050% extracting definitions."
   ]
  },
  {
   "cell_type": "markdown",
   "metadata": {
    "id": "f4Sn9a3VNI4o"
   },
   "source": [
    "ts are extracted in the first part. For the second part the result are much better than the previous approach, more definitions and relationships are extracted."
   ]
  },
  {
   "cell_type": "markdown",
   "metadata": {
    "id": "1TZ-V3rONI4o"
   },
   "source": [
    "The prompt for the first part is similar to the previous one, but without the steps 4 and 5. The definition and relationships elements are removed from the output json.\n",
    "\n",
    "> The summary of the document was added to the output json."
   ]
  },
  {
   "cell_type": "code",
   "execution_count": 109,
   "metadata": {
    "id": "XgGnT0BJNI4o"
   },
   "outputs": [],
   "source": [
    "system_prompt_v4_1 = \"\"\"\n",
    "You are tasked with extracting elements from a given legal document. Please follow these steps carefully and ensure all instructions are adhered to:\n",
    "\n",
    "# Steps\n",
    "\n",
    "1. **Summarize the document** to understand its purpose and use it to verify if all important terms,facts, fact types, and rules are identified in subsequent steps.\n",
    "\n",
    "2. **Identify elements**:\n",
    "   - **About the elements**:\n",
    "     - **Fact**: A specific instance or statement that describes an event or condition without any directive element. Facts often involve relationships between terms or entities. Example: \"John works for X Inc.\"\n",
    "     - **Fact Type**: A general, abstract template that describes potential relationships between terms or entities, serving as a model for generating specific facts. Example: \"Person works for Company.\"\n",
    "     - **Operative Rule**: A statement that governs or constrains some aspect of the business, specifying what must be done or what is not allowed. Rules enforce compliance, limit possibilities, or prescribe specific behaviors in response to business situations. Operative rules (otherwise known as normative rules or prescriptive rules) state what must or must not happen in particular circumstances. Operative rules can be contravened: required information may be omitted, inappropriate information supplied, or an attempt may be made to perform a process that is prohibited. Example: \"A customer must provide identification before opening an account.\"\n",
    "     - **Term**: A word or a group of words that represents a specific concept, entity, or subject in a particular context.\n",
    "     - Terms, Fact, Fact Type, and Operative Rule are statements that should allow only full compliance or full contravention; partial compliance is not possible. The presence of \"or\" or \"and\" often suggests the need to separate a statement into two.\n",
    "   - **For each fact, fact type, or rule**:\n",
    "     - **Extract the statement**: Identify the exact statement or phrase from the document representing the fact, fact type, or rule.\n",
    "     - **Give a unique title to the statement**.\n",
    "     - **Extract and classify Terms**:\n",
    "       - **Extract all the terms involved in the statement**. Record the level of confidence in the extraction, ranging from 0 to 1, and provide a brief reason for the confidence score.\n",
    "       - **Classify each term** as either **Common Noun** or **Proper Noun**.\n",
    "       - If a Term contains nouns separated by \"and,\" \",\", or \"or,\" split it into two or more terms. For example, \"Principal office and place of business\" should be split into \"Principal office\" and \"Place of business\".\n",
    "     - **Extract Verb Symbols**: Identify verbs, verb phrases, or prepositions that connect the terms in the statement. Record the level of confidence in the extraction, ranging from 0 to 1, and provide a brief reason for the confidence score.\n",
    "     - **Classification**: Classify the statement as either a **Fact**, **Fact Type**, or **Rule**.\n",
    "     - **Confidence**: Record the level of confidence in the classification, ranging from 0 to 1.\n",
    "     - **Reason**: Provide a brief reason for the classification score.\n",
    "     - **Source**: Note the specific paragraph or section of the document where the statement is found (e.g., \"(a)(1)\", \"(b)\").\n",
    "\n",
    "3. **Provide JSON Output**:\n",
    "   - Format your answer as per the output example below.\n",
    "   - **All values are optional**: Include as much information as is available based on the document.\n",
    "   - **Do not include any additional text or explanation outside the JSON structure**.\n",
    "\n",
    "**Output Example**:\n",
    "\n",
    "```json\n",
    "{\n",
    "  \"section\": \"§ 123.4-5\",\n",
    "  \"elements\": [\n",
    "    {\n",
    "      \"id\": 1,\n",
    "      \"title\": \"some title\",\n",
    "      \"statement\": \"A person serves a non-resident investment adviser by furnishing the Commission with process, pleadings, or papers.\",\n",
    "      \"terms\": [\n",
    "        {\n",
    "          \"term\": \"Person\",\n",
    "          \"classification\": \"Common Noun\",\n",
    "          \"confidence\": 0.9,\n",
    "          \"reason\": \"The term is ...\"\n",
    "          \"extract_confidence\": 0.9,\n",
    "          \"extract_reason\": \"The term is ...\"\n",
    "        },\n",
    "        {\n",
    "          \"term\": \"Non-resident investment adviser\",\n",
    "          \"classification\": \"Common Noun\",\n",
    "          \"confidence\": 0.8,\n",
    "          \"reason\": \"The term is ...\",\n",
    "          \"extract_confidence\": 0.8,\n",
    "          \"extract_reason\": \"The term is ...\"  \n",
    "        },\n",
    "        ...\n",
    "      ],\n",
    "      \"verb_symbols\": [\"serves\", \"by furnishing\", \"with\"],\n",
    "      \"verb_symbols_extracted_confidence\": [0.9, 0.8, 0.7],\n",
    "      \"verb_symbols_extracted_reason\": [\"The verb is ...\", \"The verb is ...\", \"The verb is ...\"],\n",
    "      \"classification\": \"Fact Type\",\n",
    "      \"confidence\": 0.8,\n",
    "      \"reason\": \"The statement is ...\",\n",
    "      \"sources\": [\"(a)\"]\n",
    "    },\n",
    "    ...\n",
    "  ]\n",
    "}\n",
    "```\n",
    "\n",
    "# Notes\n",
    "1. Level of Granularity: Extract and analyze every potential statement from the document;\n",
    "2. Contextual Interpretation: Extract explicitly stated facts, fact types, and rules;\n",
    "3. Scope of Terms: Classify every noun phrase as a term, even if it is peripheral to the main statement;\n",
    "4. Verb Symbols: Include prepositions and auxiliary phrases;\n",
    "5. Classification Nuances: Record the level of confidence range from 0 to 1;\n",
    "6. Section Handling: Strictly tie every element to its section (e.g., § 275.0-7(a)(1));\n",
    "7. Order of Presentation: Follow the sequence of the document strictly;\n",
    "8. Edge Cases: Classify it with a lower level of confidence;\n",
    "9. Output Preferences: Add timestamp and processing notes;\n",
    "10. Formatting Precision: Ensure the JSON adheres strictly to a specific schema (e.g., for use in a system).\n",
    "\"\"\""
   ]
  },
  {
   "cell_type": "code",
   "execution_count": 110,
   "metadata": {
    "id": "_Nx9JcGzNI4o"
   },
   "outputs": [],
   "source": [
    "response_prompt_v4_1 = {\n",
    "  \"section\": \"§ 275.0-7\",\n",
    "  \"summary\": \"The definition of small entities under the Investment Advisers Act for the purposes of the Regulatory Flexibility Act. It details criteria for qualifying as a small business or organization and provides definitions for 'control' and 'total assets' within this context.\",\n",
    "  \"elements\": [\n",
    "    {\n",
    "      \"id\": 1,\n",
    "      \"statement\": \"The term small business or small organization for purposes of the Investment Advisers Act of 1940 shall mean an investment adviser that has assets under management of less than $25 million.\",\n",
    "      \"terms\": [\n",
    "        {\n",
    "          \"term\": \"Small business\",\n",
    "          \"classification\": \"Common Noun\"\n",
    "        },\n",
    "        {\n",
    "          \"term\": \"Small organization\",\n",
    "          \"classification\": \"Common Noun\"\n",
    "        },\n",
    "        {\n",
    "          \"term\": \"Investment adviser\",\n",
    "          \"classification\": \"Common Noun\"\n",
    "        },\n",
    "        {\n",
    "          \"term\": \"Assets under management\",\n",
    "          \"classification\": \"Common Noun\"\n",
    "        },\n",
    "        {\n",
    "          \"term\": \"$25 million\",\n",
    "          \"classification\": \"Common Noun\"\n",
    "        }\n",
    "      ],\n",
    "      \"verb_symbols\": [\"mean\", \"has\"],\n",
    "      \"classification\": \"Fact\",\n",
    "      \"sources\": [\"(a)(1)\"]\n",
    "    },\n",
    "    {\n",
    "      \"id\": 2,\n",
    "      \"statement\": \"An investment adviser did not have total assets of $5 million or more on the last day of the most recent fiscal year.\",\n",
    "      \"terms\": [\n",
    "        {\n",
    "          \"term\": \"Investment adviser\",\n",
    "          \"classification\": \"Common Noun\"\n",
    "        },\n",
    "        {\n",
    "          \"term\": \"Total assets\",\n",
    "          \"classification\": \"Common Noun\"\n",
    "        },\n",
    "        {\n",
    "          \"term\": \"$5 million\",\n",
    "          \"classification\": \"Common Noun\"\n",
    "        },\n",
    "        {\n",
    "          \"term\": \"Fiscal year\",\n",
    "          \"classification\": \"Common Noun\"\n",
    "        }\n",
    "      ],\n",
    "      \"verb_symbols\": [\"did not have\"],\n",
    "      \"classification\": \"Fact\",\n",
    "      \"sources\": [\"(a)(2)\"]\n",
    "    },\n",
    "    {\n",
    "      \"id\": 3,\n",
    "      \"statement\": \"An investment adviser does not control, is not controlled by, and is not under common control with another investment adviser that has assets under management of $25 million or more.\",\n",
    "      \"terms\": [\n",
    "        {\n",
    "          \"term\": \"Investment adviser\",\n",
    "          \"classification\": \"Common Noun\"\n",
    "        },\n",
    "        {\n",
    "          \"term\": \"Control\",\n",
    "          \"classification\": \"Common Noun\"\n",
    "        },\n",
    "        {\n",
    "          \"term\": \"$25 million\",\n",
    "          \"classification\": \"Common Noun\"\n",
    "        }\n",
    "      ],\n",
    "      \"verb_symbols\": [\"does not control\", \"is not controlled by\", \"is not under common control with\"],\n",
    "      \"classification\": \"Fact\",\n",
    "      \"sources\": [\"(a)(3)\"]\n",
    "    },\n",
    "    {\n",
    "      \"id\": 4,\n",
    "      \"statement\": \"Control means the power, directly or indirectly, to direct the management or policies of a person, whether through ownership of securities, by contract, or otherwise.\",\n",
    "      \"terms\": [\n",
    "        {\n",
    "          \"term\": \"Control\",\n",
    "          \"classification\": \"Common Noun\"\n",
    "        },\n",
    "        {\n",
    "          \"term\": \"Power\",\n",
    "          \"classification\": \"Common Noun\"\n",
    "        },\n",
    "        {\n",
    "          \"term\": \"Management\",\n",
    "          \"classification\": \"Common Noun\"\n",
    "        },\n",
    "        {\n",
    "          \"term\": \"Policies\",\n",
    "          \"classification\": \"Common Noun\"\n",
    "        },\n",
    "        {\n",
    "          \"term\": \"Person\",\n",
    "          \"classification\": \"Common Noun\"\n",
    "        }\n",
    "      ],\n",
    "      \"verb_symbols\": [\"means\", \"to direct\"],\n",
    "      \"classification\": \"Fact Type\",\n",
    "      \"sources\": [\"(b)(1)\"]\n",
    "    },\n",
    "    {\n",
    "      \"id\": 5,\n",
    "      \"statement\": \"A person is presumed to control a corporation if the person directly or indirectly has the right to vote 25 percent or more of a class of the corporation's voting securities.\",\n",
    "      \"terms\": [\n",
    "        {\n",
    "          \"term\": \"Person\",\n",
    "          \"classification\": \"Common Noun\"\n",
    "        },\n",
    "        {\n",
    "          \"term\": \"Corporation\",\n",
    "          \"classification\": \"Common Noun\"\n",
    "        },\n",
    "        {\n",
    "          \"term\": \"Voting securities\",\n",
    "          \"classification\": \"Common Noun\"\n",
    "        },\n",
    "        {\n",
    "          \"term\": \"25 percent\",\n",
    "          \"classification\": \"Common Noun\"\n",
    "        }\n",
    "      ],\n",
    "      \"verb_symbols\": [\"is presumed to control\", \"has the right to vote\"],\n",
    "      \"classification\": \"Operative Rule\",\n",
    "      \"sources\": [\"(b)(1)(i)(A)\"]\n",
    "    },\n",
    "    {\n",
    "      \"id\": 6,\n",
    "      \"statement\": \"A person is presumed to control a partnership if the person has the right to receive upon dissolution, or has contributed, 25 percent or more of the capital of the partnership.\",\n",
    "      \"terms\": [\n",
    "        {\n",
    "          \"term\": \"Person\",\n",
    "          \"classification\": \"Common Noun\"\n",
    "        },\n",
    "        {\n",
    "          \"term\": \"Partnership\",\n",
    "          \"classification\": \"Common Noun\"\n",
    "        },\n",
    "        {\n",
    "          \"term\": \"Dissolution\",\n",
    "          \"classification\": \"Common Noun\"\n",
    "        },\n",
    "        {\n",
    "          \"term\": \"Capital\",\n",
    "          \"classification\": \"Common Noun\"\n",
    "        },\n",
    "        {\n",
    "          \"term\": \"25 percent\",\n",
    "          \"classification\": \"Common Noun\"\n",
    "        }\n",
    "      ],\n",
    "      \"verb_symbols\": [\"is presumed to control\", \"has the right to receive\", \"has contributed\"],\n",
    "      \"classification\": \"Operative Rule\",\n",
    "      \"sources\": [\"(b)(1)(ii)\"]\n",
    "    },\n",
    "    {\n",
    "      \"id\": 7,\n",
    "      \"statement\": \"Total assets means the total assets as shown on the balance sheet of the investment adviser or other person with its subsidiaries consolidated, whichever is larger.\",\n",
    "      \"terms\": [\n",
    "        {\n",
    "          \"term\": \"Total assets\",\n",
    "          \"classification\": \"Common Noun\"\n",
    "        },\n",
    "        {\n",
    "          \"term\": \"Balance sheet\",\n",
    "          \"classification\": \"Common Noun\"\n",
    "        },\n",
    "        {\n",
    "          \"term\": \"Investment adviser\",\n",
    "          \"classification\": \"Common Noun\"\n",
    "        },\n",
    "        {\n",
    "          \"term\": \"Subsidiaries\",\n",
    "          \"classification\": \"Common Noun\"\n",
    "        }\n",
    "      ],\n",
    "      \"verb_symbols\": [\"means\", \"shown on\"],\n",
    "      \"classification\": \"Fact Type\",\n",
    "      \"sources\": [\"(b)(2)\"]\n",
    "    }\n",
    "  ]\n",
    "}"
   ]
  },
  {
   "cell_type": "code",
   "execution_count": 111,
   "metadata": {
    "id": "pAeHJIQMNI4o",
    "outputId": "42727107-5854-48b7-aad7-d79a1a4f05d0"
   },
   "outputs": [
    {
     "data": {
      "text/plain": [
       "7"
      ]
     },
     "execution_count": 111,
     "metadata": {},
     "output_type": "execute_result"
    }
   ],
   "source": [
    "len(response_prompt_v4_1[\"elements\"])"
   ]
  },
  {
   "cell_type": "markdown",
   "metadata": {
    "id": "3QnYsgEmNI4p"
   },
   "source": [
    "The steps 4 and 5 are adapted from the previous approach. The system prompt for the second part is:"
   ]
  },
  {
   "cell_type": "code",
   "execution_count": 112,
   "metadata": {
    "id": "_c11rygwNI4p"
   },
   "outputs": [],
   "source": [
    "system_prompt_v4_2 = \"\"\"\n",
    "You are tasked with extracting definitions and **relationships** of terms in the terms list searching a given legal document. Please follow these steps carefully and ensure all instructions are adhered to:\n",
    "\n",
    "# Steps\n",
    "\n",
    "1. **Summarize the document** to understand its purpose and use it to verify if all important terms, term definitions, facts, fact types, and rules are identified in subsequent steps.\n",
    "\n",
    "2. **Define terms**:\n",
    "  - For each term:\n",
    "    - Search the entire document for the term's definition, explanation, or meaning. Also, look in the document summary.\n",
    "    - If the definition is found, include it.\n",
    "    - If the definition is not found in the document, use null.\n",
    "    - Record the level of confidence in the definition, ranging from 0 to 1.\n",
    "    - Explain the reason for the confidence level.\n",
    "\n",
    "3. **isLocalScope**: Is there an indication that the definition is exclusive to this section? Example: \"For purposes of this section...\", \"as described in this section\", \"as defined in this section\". If yes answer only with true. Otherwise, the answer is false.\n",
    "\n",
    "4. **Identify synonym relationships between terms**:\n",
    "  - For each term in the terms list:\n",
    "    - Compare it against other terms in the text to find synonyms.\n",
    "    - Ensure both terms exist within the same document context.\n",
    "  - List all valid synonym pairs identified.\n",
    "  - Record the level of confidence in the synonym relationship, ranging from 0 to 1.\n",
    "  - Explain the reason for the confidence level.\n",
    "\n",
    "5. **Provide JSON Output**:\n",
    "  - Format your answer as per the output example below.\n",
    "  - **All values are optional**: Include as much information as is available based on the document.\n",
    "  - **Do not include any additional text or explanation outside the JSON structure**.\n",
    "\n",
    "**Output Example**:\n",
    "\n",
    "```json\n",
    "{\n",
    "  \"terms\": [\n",
    "    {\n",
    "      \"term\": \"Person\",\n",
    "      \"definition\": \"A person is a person.\",\n",
    "      \"confidence\": 0.9,\n",
    "      \"reason\": \"The definition was ...\",\n",
    "      \"isLocalScope\": true,\n",
    "      \"local_scope_confidence\": 0.9,\n",
    "      \"local_scope_reason\": \"The scope is ...\"\n",
    "    },\n",
    "    {\n",
    "      \"term\": \"Capital\",\n",
    "      \"definition\": \"The total assets of a person.\",\n",
    "      \"confidence\": 0.8,\n",
    "      \"reason\": \"The definition is ...\",\n",
    "      \"isLocalScope\": false,\n",
    "      \"local_scope_confidence\": 0.9,\n",
    "      \"local_scope_reason\": \"The scope is ...\"\n",
    "    },\n",
    "    ...\n",
    "  ],\n",
    "  \"relationships\": [\n",
    "    {\n",
    "      \"term_1\": \"Person\",\n",
    "      \"term_2\": \"Capital\",\n",
    "      \"relationship\": \"Synonym\",\n",
    "      \"confidence\": 0.8,\n",
    "      \"reason\": \"The relationship is ...\",\n",
    "    },\n",
    "    {\n",
    "      \"term_1\": \"Capital\",\n",
    "      \"term_2\": \"Person\",\n",
    "      \"relationship\": \"Synonym\",\n",
    "      \"confidence\": 0.5,\n",
    "      \"reason\": \"The relationship is ...\",\n",
    "    },\n",
    "    ...\n",
    "  ]\n",
    "}\n",
    "```\n",
    "\"\"\""
   ]
  },
  {
   "cell_type": "markdown",
   "metadata": {
    "id": "fUj0qs56NI4p"
   },
   "source": [
    "In the \"user prompt\", along with the document, a unique list of terms from the result of the previous part, is provided. The drawback of this approach is the document needs to be provided again. It means spending more tokens."
   ]
  },
  {
   "cell_type": "markdown",
   "metadata": {
    "id": "YXzRGbC-NI4p"
   },
   "source": [
    "As commented above, the output is better than the previous approach. 21 terms are extracted with definitions, and 6 relationships are identified. More important that the terms small business, and, small organization are extracted."
   ]
  },
  {
   "cell_type": "code",
   "execution_count": 113,
   "metadata": {
    "id": "5sU6fhaPNI4p"
   },
   "outputs": [],
   "source": [
    "response_prompt_v4_2 = {\n",
    "  \"terms\": [\n",
    "    {\n",
    "      \"term\": \"$5 million\",\n",
    "      \"definition\": \"An amount referenced as a threshold for total assets of an investment adviser or other entity on the last day of the most recent fiscal year.\"\n",
    "    },\n",
    "    {\n",
    "      \"term\": \"Control\",\n",
    "      \"definition\": \"The power, directly or indirectly, to direct the management or policies of a person, whether through ownership of securities, by contract, or otherwise.\"\n",
    "    },\n",
    "    {\n",
    "      \"term\": \"Capital\",\n",
    "      \"definition\": \"The amount of financial contribution or investment in a partnership or LLC, particularly relevant to the right to receive upon dissolution or contribution of 25 percent or more.\"\n",
    "    },\n",
    "    {\n",
    "      \"term\": \"Dissolution\",\n",
    "      \"definition\": \"The act of formally ending a partnership or LLC, at which point capital contributions may be distributed.\"\n",
    "    },\n",
    "    {\n",
    "      \"term\": \"25 percent\",\n",
    "      \"definition\": \"A threshold used to presume control over a corporation, partnership, or LLC, based on ownership, voting rights, or capital contribution.\"\n",
    "    },\n",
    "    {\n",
    "      \"term\": \"Subsidiaries\",\n",
    "      \"definition\": \"Companies that are controlled by another company, typically through ownership of more than 50% of the subsidiary’s voting stock.\"\n",
    "    },\n",
    "    {\n",
    "      \"term\": \"Management\",\n",
    "      \"definition\": \"The act of overseeing and controlling the policies or operations of an entity.\"\n",
    "    },\n",
    "    {\n",
    "      \"term\": \"Corporation\",\n",
    "      \"definition\": \"A legal entity that is presumed to be controlled if a person has the right to vote or sell 25 percent or more of its voting securities.\"\n",
    "    },\n",
    "    {\n",
    "      \"term\": \"Balance sheet\",\n",
    "      \"definition\": \"A financial statement that reports total assets, used to determine control and asset thresholds for investment advisers.\"\n",
    "    },\n",
    "    {\n",
    "      \"term\": \"Assets under management\",\n",
    "      \"definition\": \"The total market value of investments that an investment adviser manages on behalf of clients.\"\n",
    "    },\n",
    "    {\n",
    "      \"term\": \"$25 million\",\n",
    "      \"definition\": \"An amount referenced as a threshold for assets under management to determine whether an entity qualifies as a small business or small organization under the Investment Advisers Act.\"\n",
    "    },\n",
    "    {\n",
    "      \"term\": \"Fiscal year\",\n",
    "      \"definition\": \"A one-year period used for accounting purposes and preparing financial statements, relevant to determining total assets.\"\n",
    "    },\n",
    "    {\n",
    "      \"term\": \"Voting securities\",\n",
    "      \"definition\": \"Securities that give the holder the right to vote on matters of corporate policy or management, used to determine control.\"\n",
    "    },\n",
    "    {\n",
    "      \"term\": \"Power\",\n",
    "      \"definition\": \"The ability to influence or direct the management or policies of a person or entity, often associated with control.\"\n",
    "    },\n",
    "    {\n",
    "      \"term\": \"Total assets\",\n",
    "      \"definition\": \"The total value of all assets as shown on an entity's balance sheet, including those of subsidiaries, used to assess financial thresholds.\"\n",
    "    },\n",
    "    {\n",
    "      \"term\": \"Investment adviser\",\n",
    "      \"definition\": \"An individual or firm that manages the investments of clients, subject to regulations under the Investment Advisers Act of 1940.\"\n",
    "    },\n",
    "    {\n",
    "      \"term\": \"Person\",\n",
    "      \"definition\": \"An individual, corporation, partnership, LLC, trust, or other entity, potentially subject to control rules under the Investment Advisers Act.\"\n",
    "    },\n",
    "    {\n",
    "      \"term\": \"Small business\",\n",
    "      \"definition\": \"An investment adviser with less than $25 million in assets under management and less than $5 million in total assets, or as otherwise defined by the Commission.\"\n",
    "    },\n",
    "    {\n",
    "      \"term\": \"Partnership\",\n",
    "      \"definition\": \"A business structure where control is presumed if a person owns or contributes 25 percent or more of the partnership's capital.\"\n",
    "    },\n",
    "    {\n",
    "      \"term\": \"Small organization\",\n",
    "      \"definition\": \"An entity, such as an investment adviser, that qualifies as a small business under the Investment Advisers Act by meeting specific asset thresholds.\"\n",
    "    },\n",
    "    {\n",
    "      \"term\": \"Policies\",\n",
    "      \"definition\": \"The principles or rules governing the management and control of an entity, relevant to determining control under the Investment Advisers Act.\"\n",
    "    }\n",
    "  ],\n",
    "  \"relationships\": [\n",
    "    {\n",
    "      \"term_1\": \"Small business\",\n",
    "      \"term_2\": \"Small organization\",\n",
    "      \"relationship\": \"Synonym\"\n",
    "    },\n",
    "    {\n",
    "      \"term_1\": \"$5 million\",\n",
    "      \"term_2\": \"Total assets\",\n",
    "      \"relationship\": \"Hypernym-Hyponym\"\n",
    "    },\n",
    "    {\n",
    "      \"term_1\": \"$25 million\",\n",
    "      \"term_2\": \"Assets under management\",\n",
    "      \"relationship\": \"Hypernym-Hyponym\"\n",
    "    },\n",
    "    {\n",
    "      \"term_1\": \"Person\",\n",
    "      \"term_2\": \"Corporation\",\n",
    "      \"relationship\": \"Hypernym-Hyponym\"\n",
    "    },\n",
    "    {\n",
    "      \"term_1\": \"Person\",\n",
    "      \"term_2\": \"Partnership\",\n",
    "      \"relationship\": \"Hypernym-Hyponym\"\n",
    "    },\n",
    "    {\n",
    "      \"term_1\": \"Person\",\n",
    "      \"term_2\": \"Investment adviser\",\n",
    "      \"relationship\": \"Hypernym-Hyponym\"\n",
    "    }\n",
    "  ]\n",
    "}\n"
   ]
  },
  {
   "cell_type": "code",
   "execution_count": 114,
   "metadata": {
    "id": "mKC7ggC6NI4p",
    "outputId": "78ec7265-41f3-4f09-f238-3bb129592452"
   },
   "outputs": [
    {
     "data": {
      "text/plain": [
       "(21, 6)"
      ]
     },
     "execution_count": 114,
     "metadata": {},
     "output_type": "execute_result"
    }
   ],
   "source": [
    "len(response_prompt_v4_2[\"terms\"]), len(response_prompt_v4_2[\"relationships\"])"
   ]
  },
  {
   "cell_type": "markdown",
   "metadata": {
    "id": "3mSGRAKiNI4p"
   },
   "source": [
    "### Save checkpoint"
   ]
  },
  {
   "cell_type": "markdown",
   "metadata": {
    "id": "OCxr7w8dNI4q"
   },
   "source": [
    "Define which prompt will be used in the experiment."
   ]
  },
  {
   "cell_type": "code",
   "execution_count": 115,
   "metadata": {
    "id": "6-9OhOkHNI4q"
   },
   "outputs": [
    {
     "name": "stderr",
     "output_type": "stream",
     "text": [
      "2024-12-05 20:55:39 - INFO - DocumentManager state persisted to file: ../data/checkpoints/documents-2024-12-05-3.json\n",
      "2024-12-05 20:55:39 - INFO - Checkpoint saved.\n"
     ]
    }
   ],
   "source": [
    "# TODO: Refactor name to system_prompt_extract_P1 and use the function above\n",
    "system_prompt_extract_part_1 = system_prompt_v4_1\n",
    "system_prompt_extract_part_2 = system_prompt_v4_2\n",
    "\n",
    "manager.add_document(\n",
    "    Document(\n",
    "        id=\"prompt-extract_P1\",\n",
    "        type=\"prompt\",\n",
    "        content=f\"\"\"\n",
    "{system_prompt_extract_part_1}\n",
    "        \"\"\",\n",
    "    )\n",
    ")\n",
    "\n",
    "manager.add_document(\n",
    "    Document(\n",
    "        id=\"prompt-extract_P2\",\n",
    "        type=\"prompt\",\n",
    "        content=f\"\"\"\n",
    "{system_prompt_extract_part_2}\n",
    "        \"\"\",\n",
    "    )\n",
    ")\n",
    "\n",
    "# Persist the state to a file\n",
    "save_checkpoint(filename=config[\"DEFAULT_CHECKPOINT_FILE\"], manager=manager)"
   ]
  },
  {
   "cell_type": "markdown",
   "metadata": {},
   "source": [
    "## Execution"
   ]
  },
  {
   "cell_type": "markdown",
   "metadata": {},
   "source": [
    "Restore checkpoint"
   ]
  },
  {
   "cell_type": "code",
   "execution_count": 116,
   "metadata": {
    "id": "KKjeZ3wVNI4q",
    "outputId": "7e3b9c94-3f93-4cf9-dad4-d6a07e1c54cd"
   },
   "outputs": [
    {
     "name": "stderr",
     "output_type": "stream",
     "text": [
      "2024-12-05 20:55:39 - INFO - DocumentManager restored from file: ../data/checkpoints/documents-2024-12-05-3.json\n",
      "2024-12-05 20:55:39 - INFO - Checkpoint restored from ../data/checkpoints/documents-2024-12-05-3.json.\n"
     ]
    }
   ],
   "source": [
    "manager = restore_checkpoint(filename=config[\"DEFAULT_CHECKPOINT_FILE\"])"
   ]
  },
  {
   "cell_type": "markdown",
   "metadata": {
    "id": "IhX_VNGgNI4q",
    "jp-MarkdownHeadingCollapsed": true
   },
   "source": [
    "### extract and classify elements\n",
    "\n",
    "- Classify statements in the document;\n",
    "- Extract terms and verb symbols;\n",
    "- Classify terms."
   ]
  },
  {
   "cell_type": "code",
   "execution_count": 117,
   "metadata": {
    "id": "90H-4KDjNI4q",
    "outputId": "99d46cee-40fd-4304-c775-5740885c0671"
   },
   "outputs": [
    {
     "name": "stderr",
     "output_type": "stream",
     "text": [
      "2024-12-05 20:55:39 - INFO - Processing document: § 275.0-2\n",
      "2024-12-05 20:55:39 - INFO - P1. Extracting elements...\n",
      "2024-12-05 20:55:40 - INFO - HTTP Request: POST https://api.openai.com/v1/chat/completions \"HTTP/1.1 400 Bad Request\"\n",
      "2024-12-05 20:55:40 - INFO - HTTP Request: POST https://api.openai.com/v1/chat/completions \"HTTP/1.1 400 Bad Request\"\n",
      "2024-12-05 20:55:40 - INFO - HTTP Request: POST https://api.openai.com/v1/chat/completions \"HTTP/1.1 400 Bad Request\"\n"
     ]
    },
    {
     "ename": "InstructorRetryException",
     "evalue": "Error code: 400 - {'error': {'message': \"Unsupported parameter: 'tool_choice' is not supported with this model.\", 'type': 'invalid_request_error', 'param': 'tool_choice', 'code': 'unsupported_parameter'}}",
     "output_type": "error",
     "traceback": [
      "\u001b[0;31m---------------------------------------------------------------------------\u001b[0m",
      "\u001b[0;31mBadRequestError\u001b[0m                           Traceback (most recent call last)",
      "File \u001b[0;32m~/miniconda3/envs/ipt-cfr2sbvr/lib/python3.11/site-packages/instructor/retry.py:139\u001b[0m, in \u001b[0;36mretry_sync\u001b[0;34m(func, response_model, args, kwargs, context, max_retries, strict, mode, hooks)\u001b[0m\n\u001b[1;32m    138\u001b[0m hooks\u001b[38;5;241m.\u001b[39memit_completion_arguments(\u001b[38;5;241m*\u001b[39margs, \u001b[38;5;241m*\u001b[39m\u001b[38;5;241m*\u001b[39mkwargs)\n\u001b[0;32m--> 139\u001b[0m response \u001b[38;5;241m=\u001b[39m \u001b[43mfunc\u001b[49m\u001b[43m(\u001b[49m\u001b[38;5;241;43m*\u001b[39;49m\u001b[43margs\u001b[49m\u001b[43m,\u001b[49m\u001b[43m \u001b[49m\u001b[38;5;241;43m*\u001b[39;49m\u001b[38;5;241;43m*\u001b[39;49m\u001b[43mkwargs\u001b[49m\u001b[43m)\u001b[49m\n\u001b[1;32m    140\u001b[0m hooks\u001b[38;5;241m.\u001b[39memit_completion_response(response)\n",
      "File \u001b[0;32m~/miniconda3/envs/ipt-cfr2sbvr/lib/python3.11/site-packages/openai/_utils/_utils.py:274\u001b[0m, in \u001b[0;36mrequired_args.<locals>.inner.<locals>.wrapper\u001b[0;34m(*args, **kwargs)\u001b[0m\n\u001b[1;32m    273\u001b[0m     \u001b[38;5;28;01mraise\u001b[39;00m \u001b[38;5;167;01mTypeError\u001b[39;00m(msg)\n\u001b[0;32m--> 274\u001b[0m \u001b[38;5;28;01mreturn\u001b[39;00m \u001b[43mfunc\u001b[49m\u001b[43m(\u001b[49m\u001b[38;5;241;43m*\u001b[39;49m\u001b[43margs\u001b[49m\u001b[43m,\u001b[49m\u001b[43m \u001b[49m\u001b[38;5;241;43m*\u001b[39;49m\u001b[38;5;241;43m*\u001b[39;49m\u001b[43mkwargs\u001b[49m\u001b[43m)\u001b[49m\n",
      "File \u001b[0;32m~/miniconda3/envs/ipt-cfr2sbvr/lib/python3.11/site-packages/openai/resources/chat/completions.py:815\u001b[0m, in \u001b[0;36mCompletions.create\u001b[0;34m(self, messages, model, audio, frequency_penalty, function_call, functions, logit_bias, logprobs, max_completion_tokens, max_tokens, metadata, modalities, n, parallel_tool_calls, presence_penalty, response_format, seed, service_tier, stop, store, stream, stream_options, temperature, tool_choice, tools, top_logprobs, top_p, user, extra_headers, extra_query, extra_body, timeout)\u001b[0m\n\u001b[1;32m    814\u001b[0m validate_response_format(response_format)\n\u001b[0;32m--> 815\u001b[0m \u001b[38;5;28;01mreturn\u001b[39;00m \u001b[38;5;28;43mself\u001b[39;49m\u001b[38;5;241;43m.\u001b[39;49m\u001b[43m_post\u001b[49m\u001b[43m(\u001b[49m\n\u001b[1;32m    816\u001b[0m \u001b[43m    \u001b[49m\u001b[38;5;124;43m\"\u001b[39;49m\u001b[38;5;124;43m/chat/completions\u001b[39;49m\u001b[38;5;124;43m\"\u001b[39;49m\u001b[43m,\u001b[49m\n\u001b[1;32m    817\u001b[0m \u001b[43m    \u001b[49m\u001b[43mbody\u001b[49m\u001b[38;5;241;43m=\u001b[39;49m\u001b[43mmaybe_transform\u001b[49m\u001b[43m(\u001b[49m\n\u001b[1;32m    818\u001b[0m \u001b[43m        \u001b[49m\u001b[43m{\u001b[49m\n\u001b[1;32m    819\u001b[0m \u001b[43m            \u001b[49m\u001b[38;5;124;43m\"\u001b[39;49m\u001b[38;5;124;43mmessages\u001b[39;49m\u001b[38;5;124;43m\"\u001b[39;49m\u001b[43m:\u001b[49m\u001b[43m \u001b[49m\u001b[43mmessages\u001b[49m\u001b[43m,\u001b[49m\n\u001b[1;32m    820\u001b[0m \u001b[43m            \u001b[49m\u001b[38;5;124;43m\"\u001b[39;49m\u001b[38;5;124;43mmodel\u001b[39;49m\u001b[38;5;124;43m\"\u001b[39;49m\u001b[43m:\u001b[49m\u001b[43m \u001b[49m\u001b[43mmodel\u001b[49m\u001b[43m,\u001b[49m\n\u001b[1;32m    821\u001b[0m \u001b[43m            \u001b[49m\u001b[38;5;124;43m\"\u001b[39;49m\u001b[38;5;124;43maudio\u001b[39;49m\u001b[38;5;124;43m\"\u001b[39;49m\u001b[43m:\u001b[49m\u001b[43m \u001b[49m\u001b[43maudio\u001b[49m\u001b[43m,\u001b[49m\n\u001b[1;32m    822\u001b[0m \u001b[43m            \u001b[49m\u001b[38;5;124;43m\"\u001b[39;49m\u001b[38;5;124;43mfrequency_penalty\u001b[39;49m\u001b[38;5;124;43m\"\u001b[39;49m\u001b[43m:\u001b[49m\u001b[43m \u001b[49m\u001b[43mfrequency_penalty\u001b[49m\u001b[43m,\u001b[49m\n\u001b[1;32m    823\u001b[0m \u001b[43m            \u001b[49m\u001b[38;5;124;43m\"\u001b[39;49m\u001b[38;5;124;43mfunction_call\u001b[39;49m\u001b[38;5;124;43m\"\u001b[39;49m\u001b[43m:\u001b[49m\u001b[43m \u001b[49m\u001b[43mfunction_call\u001b[49m\u001b[43m,\u001b[49m\n\u001b[1;32m    824\u001b[0m \u001b[43m            \u001b[49m\u001b[38;5;124;43m\"\u001b[39;49m\u001b[38;5;124;43mfunctions\u001b[39;49m\u001b[38;5;124;43m\"\u001b[39;49m\u001b[43m:\u001b[49m\u001b[43m \u001b[49m\u001b[43mfunctions\u001b[49m\u001b[43m,\u001b[49m\n\u001b[1;32m    825\u001b[0m \u001b[43m            \u001b[49m\u001b[38;5;124;43m\"\u001b[39;49m\u001b[38;5;124;43mlogit_bias\u001b[39;49m\u001b[38;5;124;43m\"\u001b[39;49m\u001b[43m:\u001b[49m\u001b[43m \u001b[49m\u001b[43mlogit_bias\u001b[49m\u001b[43m,\u001b[49m\n\u001b[1;32m    826\u001b[0m \u001b[43m            \u001b[49m\u001b[38;5;124;43m\"\u001b[39;49m\u001b[38;5;124;43mlogprobs\u001b[39;49m\u001b[38;5;124;43m\"\u001b[39;49m\u001b[43m:\u001b[49m\u001b[43m \u001b[49m\u001b[43mlogprobs\u001b[49m\u001b[43m,\u001b[49m\n\u001b[1;32m    827\u001b[0m \u001b[43m            \u001b[49m\u001b[38;5;124;43m\"\u001b[39;49m\u001b[38;5;124;43mmax_completion_tokens\u001b[39;49m\u001b[38;5;124;43m\"\u001b[39;49m\u001b[43m:\u001b[49m\u001b[43m \u001b[49m\u001b[43mmax_completion_tokens\u001b[49m\u001b[43m,\u001b[49m\n\u001b[1;32m    828\u001b[0m \u001b[43m            \u001b[49m\u001b[38;5;124;43m\"\u001b[39;49m\u001b[38;5;124;43mmax_tokens\u001b[39;49m\u001b[38;5;124;43m\"\u001b[39;49m\u001b[43m:\u001b[49m\u001b[43m \u001b[49m\u001b[43mmax_tokens\u001b[49m\u001b[43m,\u001b[49m\n\u001b[1;32m    829\u001b[0m \u001b[43m            \u001b[49m\u001b[38;5;124;43m\"\u001b[39;49m\u001b[38;5;124;43mmetadata\u001b[39;49m\u001b[38;5;124;43m\"\u001b[39;49m\u001b[43m:\u001b[49m\u001b[43m \u001b[49m\u001b[43mmetadata\u001b[49m\u001b[43m,\u001b[49m\n\u001b[1;32m    830\u001b[0m \u001b[43m            \u001b[49m\u001b[38;5;124;43m\"\u001b[39;49m\u001b[38;5;124;43mmodalities\u001b[39;49m\u001b[38;5;124;43m\"\u001b[39;49m\u001b[43m:\u001b[49m\u001b[43m \u001b[49m\u001b[43mmodalities\u001b[49m\u001b[43m,\u001b[49m\n\u001b[1;32m    831\u001b[0m \u001b[43m            \u001b[49m\u001b[38;5;124;43m\"\u001b[39;49m\u001b[38;5;124;43mn\u001b[39;49m\u001b[38;5;124;43m\"\u001b[39;49m\u001b[43m:\u001b[49m\u001b[43m \u001b[49m\u001b[43mn\u001b[49m\u001b[43m,\u001b[49m\n\u001b[1;32m    832\u001b[0m \u001b[43m            \u001b[49m\u001b[38;5;124;43m\"\u001b[39;49m\u001b[38;5;124;43mparallel_tool_calls\u001b[39;49m\u001b[38;5;124;43m\"\u001b[39;49m\u001b[43m:\u001b[49m\u001b[43m \u001b[49m\u001b[43mparallel_tool_calls\u001b[49m\u001b[43m,\u001b[49m\n\u001b[1;32m    833\u001b[0m \u001b[43m            \u001b[49m\u001b[38;5;124;43m\"\u001b[39;49m\u001b[38;5;124;43mpresence_penalty\u001b[39;49m\u001b[38;5;124;43m\"\u001b[39;49m\u001b[43m:\u001b[49m\u001b[43m \u001b[49m\u001b[43mpresence_penalty\u001b[49m\u001b[43m,\u001b[49m\n\u001b[1;32m    834\u001b[0m \u001b[43m            \u001b[49m\u001b[38;5;124;43m\"\u001b[39;49m\u001b[38;5;124;43mresponse_format\u001b[39;49m\u001b[38;5;124;43m\"\u001b[39;49m\u001b[43m:\u001b[49m\u001b[43m \u001b[49m\u001b[43mresponse_format\u001b[49m\u001b[43m,\u001b[49m\n\u001b[1;32m    835\u001b[0m \u001b[43m            \u001b[49m\u001b[38;5;124;43m\"\u001b[39;49m\u001b[38;5;124;43mseed\u001b[39;49m\u001b[38;5;124;43m\"\u001b[39;49m\u001b[43m:\u001b[49m\u001b[43m \u001b[49m\u001b[43mseed\u001b[49m\u001b[43m,\u001b[49m\n\u001b[1;32m    836\u001b[0m \u001b[43m            \u001b[49m\u001b[38;5;124;43m\"\u001b[39;49m\u001b[38;5;124;43mservice_tier\u001b[39;49m\u001b[38;5;124;43m\"\u001b[39;49m\u001b[43m:\u001b[49m\u001b[43m \u001b[49m\u001b[43mservice_tier\u001b[49m\u001b[43m,\u001b[49m\n\u001b[1;32m    837\u001b[0m \u001b[43m            \u001b[49m\u001b[38;5;124;43m\"\u001b[39;49m\u001b[38;5;124;43mstop\u001b[39;49m\u001b[38;5;124;43m\"\u001b[39;49m\u001b[43m:\u001b[49m\u001b[43m \u001b[49m\u001b[43mstop\u001b[49m\u001b[43m,\u001b[49m\n\u001b[1;32m    838\u001b[0m \u001b[43m            \u001b[49m\u001b[38;5;124;43m\"\u001b[39;49m\u001b[38;5;124;43mstore\u001b[39;49m\u001b[38;5;124;43m\"\u001b[39;49m\u001b[43m:\u001b[49m\u001b[43m \u001b[49m\u001b[43mstore\u001b[49m\u001b[43m,\u001b[49m\n\u001b[1;32m    839\u001b[0m \u001b[43m            \u001b[49m\u001b[38;5;124;43m\"\u001b[39;49m\u001b[38;5;124;43mstream\u001b[39;49m\u001b[38;5;124;43m\"\u001b[39;49m\u001b[43m:\u001b[49m\u001b[43m \u001b[49m\u001b[43mstream\u001b[49m\u001b[43m,\u001b[49m\n\u001b[1;32m    840\u001b[0m \u001b[43m            \u001b[49m\u001b[38;5;124;43m\"\u001b[39;49m\u001b[38;5;124;43mstream_options\u001b[39;49m\u001b[38;5;124;43m\"\u001b[39;49m\u001b[43m:\u001b[49m\u001b[43m \u001b[49m\u001b[43mstream_options\u001b[49m\u001b[43m,\u001b[49m\n\u001b[1;32m    841\u001b[0m \u001b[43m            \u001b[49m\u001b[38;5;124;43m\"\u001b[39;49m\u001b[38;5;124;43mtemperature\u001b[39;49m\u001b[38;5;124;43m\"\u001b[39;49m\u001b[43m:\u001b[49m\u001b[43m \u001b[49m\u001b[43mtemperature\u001b[49m\u001b[43m,\u001b[49m\n\u001b[1;32m    842\u001b[0m \u001b[43m            \u001b[49m\u001b[38;5;124;43m\"\u001b[39;49m\u001b[38;5;124;43mtool_choice\u001b[39;49m\u001b[38;5;124;43m\"\u001b[39;49m\u001b[43m:\u001b[49m\u001b[43m \u001b[49m\u001b[43mtool_choice\u001b[49m\u001b[43m,\u001b[49m\n\u001b[1;32m    843\u001b[0m \u001b[43m            \u001b[49m\u001b[38;5;124;43m\"\u001b[39;49m\u001b[38;5;124;43mtools\u001b[39;49m\u001b[38;5;124;43m\"\u001b[39;49m\u001b[43m:\u001b[49m\u001b[43m \u001b[49m\u001b[43mtools\u001b[49m\u001b[43m,\u001b[49m\n\u001b[1;32m    844\u001b[0m \u001b[43m            \u001b[49m\u001b[38;5;124;43m\"\u001b[39;49m\u001b[38;5;124;43mtop_logprobs\u001b[39;49m\u001b[38;5;124;43m\"\u001b[39;49m\u001b[43m:\u001b[49m\u001b[43m \u001b[49m\u001b[43mtop_logprobs\u001b[49m\u001b[43m,\u001b[49m\n\u001b[1;32m    845\u001b[0m \u001b[43m            \u001b[49m\u001b[38;5;124;43m\"\u001b[39;49m\u001b[38;5;124;43mtop_p\u001b[39;49m\u001b[38;5;124;43m\"\u001b[39;49m\u001b[43m:\u001b[49m\u001b[43m \u001b[49m\u001b[43mtop_p\u001b[49m\u001b[43m,\u001b[49m\n\u001b[1;32m    846\u001b[0m \u001b[43m            \u001b[49m\u001b[38;5;124;43m\"\u001b[39;49m\u001b[38;5;124;43muser\u001b[39;49m\u001b[38;5;124;43m\"\u001b[39;49m\u001b[43m:\u001b[49m\u001b[43m \u001b[49m\u001b[43muser\u001b[49m\u001b[43m,\u001b[49m\n\u001b[1;32m    847\u001b[0m \u001b[43m        \u001b[49m\u001b[43m}\u001b[49m\u001b[43m,\u001b[49m\n\u001b[1;32m    848\u001b[0m \u001b[43m        \u001b[49m\u001b[43mcompletion_create_params\u001b[49m\u001b[38;5;241;43m.\u001b[39;49m\u001b[43mCompletionCreateParams\u001b[49m\u001b[43m,\u001b[49m\n\u001b[1;32m    849\u001b[0m \u001b[43m    \u001b[49m\u001b[43m)\u001b[49m\u001b[43m,\u001b[49m\n\u001b[1;32m    850\u001b[0m \u001b[43m    \u001b[49m\u001b[43moptions\u001b[49m\u001b[38;5;241;43m=\u001b[39;49m\u001b[43mmake_request_options\u001b[49m\u001b[43m(\u001b[49m\n\u001b[1;32m    851\u001b[0m \u001b[43m        \u001b[49m\u001b[43mextra_headers\u001b[49m\u001b[38;5;241;43m=\u001b[39;49m\u001b[43mextra_headers\u001b[49m\u001b[43m,\u001b[49m\u001b[43m \u001b[49m\u001b[43mextra_query\u001b[49m\u001b[38;5;241;43m=\u001b[39;49m\u001b[43mextra_query\u001b[49m\u001b[43m,\u001b[49m\u001b[43m \u001b[49m\u001b[43mextra_body\u001b[49m\u001b[38;5;241;43m=\u001b[39;49m\u001b[43mextra_body\u001b[49m\u001b[43m,\u001b[49m\u001b[43m \u001b[49m\u001b[43mtimeout\u001b[49m\u001b[38;5;241;43m=\u001b[39;49m\u001b[43mtimeout\u001b[49m\n\u001b[1;32m    852\u001b[0m \u001b[43m    \u001b[49m\u001b[43m)\u001b[49m\u001b[43m,\u001b[49m\n\u001b[1;32m    853\u001b[0m \u001b[43m    \u001b[49m\u001b[43mcast_to\u001b[49m\u001b[38;5;241;43m=\u001b[39;49m\u001b[43mChatCompletion\u001b[49m\u001b[43m,\u001b[49m\n\u001b[1;32m    854\u001b[0m \u001b[43m    \u001b[49m\u001b[43mstream\u001b[49m\u001b[38;5;241;43m=\u001b[39;49m\u001b[43mstream\u001b[49m\u001b[43m \u001b[49m\u001b[38;5;129;43;01mor\u001b[39;49;00m\u001b[43m \u001b[49m\u001b[38;5;28;43;01mFalse\u001b[39;49;00m\u001b[43m,\u001b[49m\n\u001b[1;32m    855\u001b[0m \u001b[43m    \u001b[49m\u001b[43mstream_cls\u001b[49m\u001b[38;5;241;43m=\u001b[39;49m\u001b[43mStream\u001b[49m\u001b[43m[\u001b[49m\u001b[43mChatCompletionChunk\u001b[49m\u001b[43m]\u001b[49m\u001b[43m,\u001b[49m\n\u001b[1;32m    856\u001b[0m \u001b[43m\u001b[49m\u001b[43m)\u001b[49m\n",
      "File \u001b[0;32m~/miniconda3/envs/ipt-cfr2sbvr/lib/python3.11/site-packages/openai/_base_client.py:1277\u001b[0m, in \u001b[0;36mSyncAPIClient.post\u001b[0;34m(self, path, cast_to, body, options, files, stream, stream_cls)\u001b[0m\n\u001b[1;32m   1274\u001b[0m opts \u001b[38;5;241m=\u001b[39m FinalRequestOptions\u001b[38;5;241m.\u001b[39mconstruct(\n\u001b[1;32m   1275\u001b[0m     method\u001b[38;5;241m=\u001b[39m\u001b[38;5;124m\"\u001b[39m\u001b[38;5;124mpost\u001b[39m\u001b[38;5;124m\"\u001b[39m, url\u001b[38;5;241m=\u001b[39mpath, json_data\u001b[38;5;241m=\u001b[39mbody, files\u001b[38;5;241m=\u001b[39mto_httpx_files(files), \u001b[38;5;241m*\u001b[39m\u001b[38;5;241m*\u001b[39moptions\n\u001b[1;32m   1276\u001b[0m )\n\u001b[0;32m-> 1277\u001b[0m \u001b[38;5;28;01mreturn\u001b[39;00m cast(ResponseT, \u001b[38;5;28;43mself\u001b[39;49m\u001b[38;5;241;43m.\u001b[39;49m\u001b[43mrequest\u001b[49m\u001b[43m(\u001b[49m\u001b[43mcast_to\u001b[49m\u001b[43m,\u001b[49m\u001b[43m \u001b[49m\u001b[43mopts\u001b[49m\u001b[43m,\u001b[49m\u001b[43m \u001b[49m\u001b[43mstream\u001b[49m\u001b[38;5;241;43m=\u001b[39;49m\u001b[43mstream\u001b[49m\u001b[43m,\u001b[49m\u001b[43m \u001b[49m\u001b[43mstream_cls\u001b[49m\u001b[38;5;241;43m=\u001b[39;49m\u001b[43mstream_cls\u001b[49m\u001b[43m)\u001b[49m)\n",
      "File \u001b[0;32m~/miniconda3/envs/ipt-cfr2sbvr/lib/python3.11/site-packages/openai/_base_client.py:954\u001b[0m, in \u001b[0;36mSyncAPIClient.request\u001b[0;34m(self, cast_to, options, remaining_retries, stream, stream_cls)\u001b[0m\n\u001b[1;32m    952\u001b[0m     retries_taken \u001b[38;5;241m=\u001b[39m \u001b[38;5;241m0\u001b[39m\n\u001b[0;32m--> 954\u001b[0m \u001b[38;5;28;01mreturn\u001b[39;00m \u001b[38;5;28;43mself\u001b[39;49m\u001b[38;5;241;43m.\u001b[39;49m\u001b[43m_request\u001b[49m\u001b[43m(\u001b[49m\n\u001b[1;32m    955\u001b[0m \u001b[43m    \u001b[49m\u001b[43mcast_to\u001b[49m\u001b[38;5;241;43m=\u001b[39;49m\u001b[43mcast_to\u001b[49m\u001b[43m,\u001b[49m\n\u001b[1;32m    956\u001b[0m \u001b[43m    \u001b[49m\u001b[43moptions\u001b[49m\u001b[38;5;241;43m=\u001b[39;49m\u001b[43moptions\u001b[49m\u001b[43m,\u001b[49m\n\u001b[1;32m    957\u001b[0m \u001b[43m    \u001b[49m\u001b[43mstream\u001b[49m\u001b[38;5;241;43m=\u001b[39;49m\u001b[43mstream\u001b[49m\u001b[43m,\u001b[49m\n\u001b[1;32m    958\u001b[0m \u001b[43m    \u001b[49m\u001b[43mstream_cls\u001b[49m\u001b[38;5;241;43m=\u001b[39;49m\u001b[43mstream_cls\u001b[49m\u001b[43m,\u001b[49m\n\u001b[1;32m    959\u001b[0m \u001b[43m    \u001b[49m\u001b[43mretries_taken\u001b[49m\u001b[38;5;241;43m=\u001b[39;49m\u001b[43mretries_taken\u001b[49m\u001b[43m,\u001b[49m\n\u001b[1;32m    960\u001b[0m \u001b[43m\u001b[49m\u001b[43m)\u001b[49m\n",
      "File \u001b[0;32m~/miniconda3/envs/ipt-cfr2sbvr/lib/python3.11/site-packages/openai/_base_client.py:1058\u001b[0m, in \u001b[0;36mSyncAPIClient._request\u001b[0;34m(self, cast_to, options, retries_taken, stream, stream_cls)\u001b[0m\n\u001b[1;32m   1057\u001b[0m     log\u001b[38;5;241m.\u001b[39mdebug(\u001b[38;5;124m\"\u001b[39m\u001b[38;5;124mRe-raising status error\u001b[39m\u001b[38;5;124m\"\u001b[39m)\n\u001b[0;32m-> 1058\u001b[0m     \u001b[38;5;28;01mraise\u001b[39;00m \u001b[38;5;28mself\u001b[39m\u001b[38;5;241m.\u001b[39m_make_status_error_from_response(err\u001b[38;5;241m.\u001b[39mresponse) \u001b[38;5;28;01mfrom\u001b[39;00m \u001b[38;5;28;01mNone\u001b[39;00m\n\u001b[1;32m   1060\u001b[0m \u001b[38;5;28;01mreturn\u001b[39;00m \u001b[38;5;28mself\u001b[39m\u001b[38;5;241m.\u001b[39m_process_response(\n\u001b[1;32m   1061\u001b[0m     cast_to\u001b[38;5;241m=\u001b[39mcast_to,\n\u001b[1;32m   1062\u001b[0m     options\u001b[38;5;241m=\u001b[39moptions,\n\u001b[0;32m   (...)\u001b[0m\n\u001b[1;32m   1066\u001b[0m     retries_taken\u001b[38;5;241m=\u001b[39mretries_taken,\n\u001b[1;32m   1067\u001b[0m )\n",
      "\u001b[0;31mBadRequestError\u001b[0m: Error code: 400 - {'error': {'message': \"Unsupported parameter: 'tool_choice' is not supported with this model.\", 'type': 'invalid_request_error', 'param': 'tool_choice', 'code': 'unsupported_parameter'}}",
      "\nThe above exception was the direct cause of the following exception:\n",
      "\u001b[0;31mRetryError\u001b[0m                                Traceback (most recent call last)",
      "File \u001b[0;32m~/miniconda3/envs/ipt-cfr2sbvr/lib/python3.11/site-packages/instructor/retry.py:134\u001b[0m, in \u001b[0;36mretry_sync\u001b[0;34m(func, response_model, args, kwargs, context, max_retries, strict, mode, hooks)\u001b[0m\n\u001b[1;32m    133\u001b[0m response \u001b[38;5;241m=\u001b[39m \u001b[38;5;28;01mNone\u001b[39;00m\n\u001b[0;32m--> 134\u001b[0m \u001b[43m\u001b[49m\u001b[38;5;28;43;01mfor\u001b[39;49;00m\u001b[43m \u001b[49m\u001b[43mattempt\u001b[49m\u001b[43m \u001b[49m\u001b[38;5;129;43;01min\u001b[39;49;00m\u001b[43m \u001b[49m\u001b[43mmax_retries\u001b[49m\u001b[43m:\u001b[49m\n\u001b[1;32m    135\u001b[0m \u001b[43m    \u001b[49m\u001b[38;5;28;43;01mwith\u001b[39;49;00m\u001b[43m \u001b[49m\u001b[43mattempt\u001b[49m\u001b[43m:\u001b[49m\n",
      "File \u001b[0;32m~/miniconda3/envs/ipt-cfr2sbvr/lib/python3.11/site-packages/tenacity/__init__.py:443\u001b[0m, in \u001b[0;36mBaseRetrying.__iter__\u001b[0;34m(self)\u001b[0m\n\u001b[1;32m    442\u001b[0m \u001b[38;5;28;01mwhile\u001b[39;00m \u001b[38;5;28;01mTrue\u001b[39;00m:\n\u001b[0;32m--> 443\u001b[0m     do \u001b[38;5;241m=\u001b[39m \u001b[38;5;28;43mself\u001b[39;49m\u001b[38;5;241;43m.\u001b[39;49m\u001b[43miter\u001b[49m\u001b[43m(\u001b[49m\u001b[43mretry_state\u001b[49m\u001b[38;5;241;43m=\u001b[39;49m\u001b[43mretry_state\u001b[49m\u001b[43m)\u001b[49m\n\u001b[1;32m    444\u001b[0m     \u001b[38;5;28;01mif\u001b[39;00m \u001b[38;5;28misinstance\u001b[39m(do, DoAttempt):\n",
      "File \u001b[0;32m~/miniconda3/envs/ipt-cfr2sbvr/lib/python3.11/site-packages/tenacity/__init__.py:376\u001b[0m, in \u001b[0;36mBaseRetrying.iter\u001b[0;34m(self, retry_state)\u001b[0m\n\u001b[1;32m    375\u001b[0m \u001b[38;5;28;01mfor\u001b[39;00m action \u001b[38;5;129;01min\u001b[39;00m \u001b[38;5;28mself\u001b[39m\u001b[38;5;241m.\u001b[39miter_state\u001b[38;5;241m.\u001b[39mactions:\n\u001b[0;32m--> 376\u001b[0m     result \u001b[38;5;241m=\u001b[39m \u001b[43maction\u001b[49m\u001b[43m(\u001b[49m\u001b[43mretry_state\u001b[49m\u001b[43m)\u001b[49m\n\u001b[1;32m    377\u001b[0m \u001b[38;5;28;01mreturn\u001b[39;00m result\n",
      "File \u001b[0;32m~/miniconda3/envs/ipt-cfr2sbvr/lib/python3.11/site-packages/tenacity/__init__.py:419\u001b[0m, in \u001b[0;36mBaseRetrying._post_stop_check_actions.<locals>.exc_check\u001b[0;34m(rs)\u001b[0m\n\u001b[1;32m    418\u001b[0m     \u001b[38;5;28;01mraise\u001b[39;00m retry_exc\u001b[38;5;241m.\u001b[39mreraise()\n\u001b[0;32m--> 419\u001b[0m \u001b[38;5;28;01mraise\u001b[39;00m retry_exc \u001b[38;5;28;01mfrom\u001b[39;00m \u001b[38;5;21;01mfut\u001b[39;00m\u001b[38;5;21;01m.\u001b[39;00m\u001b[38;5;21;01mexception\u001b[39;00m()\n",
      "\u001b[0;31mRetryError\u001b[0m: RetryError[<Future at 0x7fe6a5263750 state=finished raised BadRequestError>]",
      "\nThe above exception was the direct cause of the following exception:\n",
      "\u001b[0;31mInstructorRetryException\u001b[0m                  Traceback (most recent call last)",
      "Cell \u001b[0;32mIn[117], line 16\u001b[0m\n\u001b[1;32m     13\u001b[0m logger\u001b[38;5;241m.\u001b[39mdebug(system_prompt_extract_part_1, user_prompt)\n\u001b[1;32m     15\u001b[0m logger\u001b[38;5;241m.\u001b[39minfo(\u001b[38;5;124m\"\u001b[39m\u001b[38;5;124mP1. Extracting elements...\u001b[39m\u001b[38;5;124m\"\u001b[39m)\n\u001b[0;32m---> 16\u001b[0m response_part_1, completion_1, elapse_time_1 \u001b[38;5;241m=\u001b[39m \u001b[43mquery_instruct_llm\u001b[49m\u001b[43m(\u001b[49m\n\u001b[1;32m     17\u001b[0m \u001b[43m    \u001b[49m\u001b[43msystem_prompt\u001b[49m\u001b[38;5;241;43m=\u001b[39;49m\u001b[43msystem_prompt_extract_part_1\u001b[49m\u001b[43m,\u001b[49m\n\u001b[1;32m     18\u001b[0m \u001b[43m    \u001b[49m\u001b[43muser_prompt\u001b[49m\u001b[38;5;241;43m=\u001b[39;49m\u001b[43muser_prompt\u001b[49m\u001b[43m,\u001b[49m\n\u001b[1;32m     19\u001b[0m \u001b[43m    \u001b[49m\u001b[43mdocument_model\u001b[49m\u001b[38;5;241;43m=\u001b[39;49m\u001b[43mElementsDocumentModel\u001b[49m\u001b[43m,\u001b[49m\n\u001b[1;32m     20\u001b[0m \u001b[43m    \u001b[49m\u001b[43mllm_model\u001b[49m\u001b[38;5;241;43m=\u001b[39;49m\u001b[43mconfig\u001b[49m\u001b[43m[\u001b[49m\u001b[38;5;124;43m\"\u001b[39;49m\u001b[38;5;124;43mLLM\u001b[39;49m\u001b[38;5;124;43m\"\u001b[39;49m\u001b[43m]\u001b[49m\u001b[43m[\u001b[49m\u001b[38;5;124;43m\"\u001b[39;49m\u001b[38;5;124;43mMODEL\u001b[39;49m\u001b[38;5;124;43m\"\u001b[39;49m\u001b[43m]\u001b[49m\u001b[43m,\u001b[49m\n\u001b[1;32m     21\u001b[0m \u001b[43m    \u001b[49m\u001b[43mtemperature\u001b[49m\u001b[38;5;241;43m=\u001b[39;49m\u001b[43mconfig\u001b[49m\u001b[43m[\u001b[49m\u001b[38;5;124;43m\"\u001b[39;49m\u001b[38;5;124;43mLLM\u001b[39;49m\u001b[38;5;124;43m\"\u001b[39;49m\u001b[43m]\u001b[49m\u001b[43m[\u001b[49m\u001b[38;5;124;43m\"\u001b[39;49m\u001b[38;5;124;43mTEMPERATURE\u001b[39;49m\u001b[38;5;124;43m\"\u001b[39;49m\u001b[43m]\u001b[49m\u001b[43m,\u001b[49m\n\u001b[1;32m     22\u001b[0m \u001b[43m    \u001b[49m\u001b[43mmax_tokens\u001b[49m\u001b[38;5;241;43m=\u001b[39;49m\u001b[43mconfig\u001b[49m\u001b[43m[\u001b[49m\u001b[38;5;124;43m\"\u001b[39;49m\u001b[38;5;124;43mLLM\u001b[39;49m\u001b[38;5;124;43m\"\u001b[39;49m\u001b[43m]\u001b[49m\u001b[43m[\u001b[49m\u001b[38;5;124;43m\"\u001b[39;49m\u001b[38;5;124;43mMAX_TOKENS\u001b[39;49m\u001b[38;5;124;43m\"\u001b[39;49m\u001b[43m]\u001b[49m\u001b[43m,\u001b[49m\n\u001b[1;32m     23\u001b[0m \u001b[43m\u001b[49m\u001b[43m)\u001b[49m\n\u001b[1;32m     25\u001b[0m logger\u001b[38;5;241m.\u001b[39mdebug(response_part_1)\n\u001b[1;32m     27\u001b[0m doc_1 \u001b[38;5;241m=\u001b[39m Document(\n\u001b[1;32m     28\u001b[0m     \u001b[38;5;28mid\u001b[39m\u001b[38;5;241m=\u001b[39m\u001b[38;5;124mf\u001b[39m\u001b[38;5;124m\"\u001b[39m\u001b[38;5;132;01m{\u001b[39;00mdoc\u001b[38;5;132;01m}\u001b[39;00m\u001b[38;5;124m_P1\u001b[39m\u001b[38;5;124m\"\u001b[39m,\n\u001b[1;32m     29\u001b[0m     \u001b[38;5;28mtype\u001b[39m\u001b[38;5;241m=\u001b[39m\u001b[38;5;124m\"\u001b[39m\u001b[38;5;124mllm_response\u001b[39m\u001b[38;5;124m\"\u001b[39m,\n\u001b[0;32m   (...)\u001b[0m\n\u001b[1;32m     32\u001b[0m     completions\u001b[38;5;241m=\u001b[39m[completion_1\u001b[38;5;241m.\u001b[39mdict()],\n\u001b[1;32m     33\u001b[0m )\n",
      "File \u001b[0;32m/mnt/d/Projects/dissertacao-santos-anderson-2024/code/src/llm_query/main.py:22\u001b[0m, in \u001b[0;36mmeasure_time.<locals>.wrapper\u001b[0;34m(*args, **kwargs)\u001b[0m\n\u001b[1;32m     20\u001b[0m \u001b[38;5;28;01mdef\u001b[39;00m \u001b[38;5;21mwrapper\u001b[39m(\u001b[38;5;241m*\u001b[39margs, \u001b[38;5;241m*\u001b[39m\u001b[38;5;241m*\u001b[39mkwargs):\n\u001b[1;32m     21\u001b[0m     start_time \u001b[38;5;241m=\u001b[39m time\u001b[38;5;241m.\u001b[39mperf_counter()\n\u001b[0;32m---> 22\u001b[0m     result \u001b[38;5;241m=\u001b[39m \u001b[43mfunc\u001b[49m\u001b[43m(\u001b[49m\u001b[38;5;241;43m*\u001b[39;49m\u001b[43margs\u001b[49m\u001b[43m,\u001b[49m\u001b[43m \u001b[49m\u001b[38;5;241;43m*\u001b[39;49m\u001b[38;5;241;43m*\u001b[39;49m\u001b[43mkwargs\u001b[49m\u001b[43m)\u001b[49m\n\u001b[1;32m     23\u001b[0m     end_time \u001b[38;5;241m=\u001b[39m time\u001b[38;5;241m.\u001b[39mperf_counter()\n\u001b[1;32m     24\u001b[0m     elapsed_time \u001b[38;5;241m=\u001b[39m end_time \u001b[38;5;241m-\u001b[39m start_time\n",
      "File \u001b[0;32m/mnt/d/Projects/dissertacao-santos-anderson-2024/code/src/llm_query/main.py:50\u001b[0m, in \u001b[0;36mquery_instruct_llm\u001b[0;34m(system_prompt, user_prompt, llm_model, document_model, temperature, max_tokens)\u001b[0m\n\u001b[1;32m     36\u001b[0m \u001b[38;5;250m\u001b[39m\u001b[38;5;124;03m\"\"\"\u001b[39;00m\n\u001b[1;32m     37\u001b[0m \u001b[38;5;124;03mQueries the LLM with the given system and user prompts.\u001b[39;00m\n\u001b[1;32m     38\u001b[0m \n\u001b[0;32m   (...)\u001b[0m\n\u001b[1;32m     47\u001b[0m \u001b[38;5;124;03m    Exception: If the API call fails.\u001b[39;00m\n\u001b[1;32m     48\u001b[0m \u001b[38;5;124;03m\"\"\"\u001b[39;00m\n\u001b[1;32m     49\u001b[0m client \u001b[38;5;241m=\u001b[39m instructor\u001b[38;5;241m.\u001b[39mfrom_openai(OpenAI())\n\u001b[0;32m---> 50\u001b[0m resp, completion \u001b[38;5;241m=\u001b[39m \u001b[43mclient\u001b[49m\u001b[38;5;241;43m.\u001b[39;49m\u001b[43mchat\u001b[49m\u001b[38;5;241;43m.\u001b[39;49m\u001b[43mcompletions\u001b[49m\u001b[38;5;241;43m.\u001b[39;49m\u001b[43mcreate_with_completion\u001b[49m\u001b[43m(\u001b[49m\n\u001b[1;32m     51\u001b[0m \u001b[43m    \u001b[49m\u001b[43mmodel\u001b[49m\u001b[38;5;241;43m=\u001b[39;49m\u001b[43mllm_model\u001b[49m\u001b[43m,\u001b[49m\n\u001b[1;32m     52\u001b[0m \u001b[43m    \u001b[49m\u001b[43mresponse_model\u001b[49m\u001b[38;5;241;43m=\u001b[39;49m\u001b[43mdocument_model\u001b[49m\u001b[43m,\u001b[49m\n\u001b[1;32m     53\u001b[0m \u001b[43m    \u001b[49m\u001b[43mtemperature\u001b[49m\u001b[38;5;241;43m=\u001b[39;49m\u001b[43mtemperature\u001b[49m\u001b[43m,\u001b[49m\n\u001b[1;32m     54\u001b[0m \u001b[43m    \u001b[49m\u001b[43mmax_tokens\u001b[49m\u001b[38;5;241;43m=\u001b[39;49m\u001b[43mmax_tokens\u001b[49m\u001b[43m,\u001b[49m\n\u001b[1;32m     55\u001b[0m \u001b[43m    \u001b[49m\u001b[43mtop_p\u001b[49m\u001b[38;5;241;43m=\u001b[39;49m\u001b[38;5;241;43m1\u001b[39;49m\u001b[43m,\u001b[49m\n\u001b[1;32m     56\u001b[0m \u001b[43m    \u001b[49m\u001b[43mfrequency_penalty\u001b[49m\u001b[38;5;241;43m=\u001b[39;49m\u001b[38;5;241;43m0\u001b[39;49m\u001b[43m,\u001b[49m\n\u001b[1;32m     57\u001b[0m \u001b[43m    \u001b[49m\u001b[43mpresence_penalty\u001b[49m\u001b[38;5;241;43m=\u001b[39;49m\u001b[38;5;241;43m0\u001b[39;49m\u001b[43m,\u001b[49m\n\u001b[1;32m     58\u001b[0m \u001b[43m    \u001b[49m\u001b[38;5;66;43;03m# messages=[\u001b[39;49;00m\n\u001b[1;32m     59\u001b[0m \u001b[43m    \u001b[49m\u001b[38;5;66;43;03m#     {\"role\": \"system\", \"content\": system_prompt},\u001b[39;49;00m\n\u001b[1;32m     60\u001b[0m \u001b[43m    \u001b[49m\u001b[38;5;66;43;03m#     {\"role\": \"user\", \"content\": user_prompt},\u001b[39;49;00m\n\u001b[1;32m     61\u001b[0m \u001b[43m    \u001b[49m\u001b[38;5;66;43;03m# ],\u001b[39;49;00m\n\u001b[1;32m     62\u001b[0m \u001b[43m    \u001b[49m\u001b[43mmessages\u001b[49m\u001b[38;5;241;43m=\u001b[39;49m\u001b[43m[\u001b[49m\n\u001b[1;32m     63\u001b[0m \u001b[43m        \u001b[49m\u001b[43m{\u001b[49m\u001b[38;5;124;43m\"\u001b[39;49m\u001b[38;5;124;43mrole\u001b[39;49m\u001b[38;5;124;43m\"\u001b[39;49m\u001b[43m:\u001b[49m\u001b[43m \u001b[49m\u001b[38;5;124;43m\"\u001b[39;49m\u001b[38;5;124;43muser\u001b[39;49m\u001b[38;5;124;43m\"\u001b[39;49m\u001b[43m,\u001b[49m\u001b[43m \u001b[49m\u001b[38;5;124;43m\"\u001b[39;49m\u001b[38;5;124;43mcontent\u001b[39;49m\u001b[38;5;124;43m\"\u001b[39;49m\u001b[43m:\u001b[49m\u001b[43m \u001b[49m\u001b[38;5;124;43mf\u001b[39;49m\u001b[38;5;124;43m\"\u001b[39;49m\u001b[38;5;132;43;01m{\u001b[39;49;00m\u001b[43msystem_prompt\u001b[49m\u001b[38;5;132;43;01m}\u001b[39;49;00m\u001b[38;5;124;43m \u001b[39;49m\u001b[38;5;130;43;01m\\n\u001b[39;49;00m\u001b[38;5;124;43m \u001b[39;49m\u001b[38;5;132;43;01m{\u001b[39;49;00m\u001b[43muser_prompt\u001b[49m\u001b[38;5;132;43;01m}\u001b[39;49;00m\u001b[38;5;124;43m\"\u001b[39;49m\u001b[43m}\u001b[49m\u001b[43m,\u001b[49m\n\u001b[1;32m     64\u001b[0m \u001b[43m    \u001b[49m\u001b[43m]\u001b[49m\u001b[43m,\u001b[49m\n\u001b[1;32m     65\u001b[0m \u001b[43m\u001b[49m\u001b[43m)\u001b[49m\n\u001b[1;32m     66\u001b[0m logger\u001b[38;5;241m.\u001b[39minfo(\u001b[38;5;124mf\u001b[39m\u001b[38;5;124m\"\u001b[39m\u001b[38;5;124mTokes used: \u001b[39m\u001b[38;5;132;01m{\u001b[39;00mcompletion\u001b[38;5;241m.\u001b[39musage\u001b[38;5;132;01m}\u001b[39;00m\u001b[38;5;124m\"\u001b[39m)\n\u001b[1;32m     67\u001b[0m \u001b[38;5;28;01mreturn\u001b[39;00m resp, completion\n",
      "File \u001b[0;32m~/miniconda3/envs/ipt-cfr2sbvr/lib/python3.11/site-packages/instructor/client.py:317\u001b[0m, in \u001b[0;36mInstructor.create_with_completion\u001b[0;34m(self, messages, response_model, max_retries, validation_context, context, strict, **kwargs)\u001b[0m\n\u001b[1;32m    306\u001b[0m \u001b[38;5;28;01mdef\u001b[39;00m \u001b[38;5;21mcreate_with_completion\u001b[39m(\n\u001b[1;32m    307\u001b[0m     \u001b[38;5;28mself\u001b[39m,\n\u001b[1;32m    308\u001b[0m     messages: \u001b[38;5;28mlist\u001b[39m[ChatCompletionMessageParam],\n\u001b[0;32m   (...)\u001b[0m\n\u001b[1;32m    314\u001b[0m     \u001b[38;5;241m*\u001b[39m\u001b[38;5;241m*\u001b[39mkwargs: Any,\n\u001b[1;32m    315\u001b[0m ) \u001b[38;5;241m-\u001b[39m\u001b[38;5;241m>\u001b[39m \u001b[38;5;28mtuple\u001b[39m[T, Any] \u001b[38;5;241m|\u001b[39m Awaitable[\u001b[38;5;28mtuple\u001b[39m[T, Any]]:\n\u001b[1;32m    316\u001b[0m     kwargs \u001b[38;5;241m=\u001b[39m \u001b[38;5;28mself\u001b[39m\u001b[38;5;241m.\u001b[39mhandle_kwargs(kwargs)\n\u001b[0;32m--> 317\u001b[0m     model \u001b[38;5;241m=\u001b[39m \u001b[38;5;28;43mself\u001b[39;49m\u001b[38;5;241;43m.\u001b[39;49m\u001b[43mcreate_fn\u001b[49m\u001b[43m(\u001b[49m\n\u001b[1;32m    318\u001b[0m \u001b[43m        \u001b[49m\u001b[43mmessages\u001b[49m\u001b[38;5;241;43m=\u001b[39;49m\u001b[43mmessages\u001b[49m\u001b[43m,\u001b[49m\n\u001b[1;32m    319\u001b[0m \u001b[43m        \u001b[49m\u001b[43mresponse_model\u001b[49m\u001b[38;5;241;43m=\u001b[39;49m\u001b[43mresponse_model\u001b[49m\u001b[43m,\u001b[49m\n\u001b[1;32m    320\u001b[0m \u001b[43m        \u001b[49m\u001b[43mmax_retries\u001b[49m\u001b[38;5;241;43m=\u001b[39;49m\u001b[43mmax_retries\u001b[49m\u001b[43m,\u001b[49m\n\u001b[1;32m    321\u001b[0m \u001b[43m        \u001b[49m\u001b[43mvalidation_context\u001b[49m\u001b[38;5;241;43m=\u001b[39;49m\u001b[43mvalidation_context\u001b[49m\u001b[43m,\u001b[49m\n\u001b[1;32m    322\u001b[0m \u001b[43m        \u001b[49m\u001b[43mcontext\u001b[49m\u001b[38;5;241;43m=\u001b[39;49m\u001b[43mcontext\u001b[49m\u001b[43m,\u001b[49m\n\u001b[1;32m    323\u001b[0m \u001b[43m        \u001b[49m\u001b[43mstrict\u001b[49m\u001b[38;5;241;43m=\u001b[39;49m\u001b[43mstrict\u001b[49m\u001b[43m,\u001b[49m\n\u001b[1;32m    324\u001b[0m \u001b[43m        \u001b[49m\u001b[43mhooks\u001b[49m\u001b[38;5;241;43m=\u001b[39;49m\u001b[38;5;28;43mself\u001b[39;49m\u001b[38;5;241;43m.\u001b[39;49m\u001b[43mhooks\u001b[49m\u001b[43m,\u001b[49m\n\u001b[1;32m    325\u001b[0m \u001b[43m        \u001b[49m\u001b[38;5;241;43m*\u001b[39;49m\u001b[38;5;241;43m*\u001b[39;49m\u001b[43mkwargs\u001b[49m\u001b[43m,\u001b[49m\n\u001b[1;32m    326\u001b[0m \u001b[43m    \u001b[49m\u001b[43m)\u001b[49m\n\u001b[1;32m    327\u001b[0m     \u001b[38;5;28;01mreturn\u001b[39;00m model, model\u001b[38;5;241m.\u001b[39m_raw_response\n",
      "File \u001b[0;32m~/miniconda3/envs/ipt-cfr2sbvr/lib/python3.11/site-packages/instructor/patch.py:188\u001b[0m, in \u001b[0;36mpatch.<locals>.new_create_sync\u001b[0;34m(response_model, validation_context, context, max_retries, strict, hooks, *args, **kwargs)\u001b[0m\n\u001b[1;32m    182\u001b[0m response_model, new_kwargs \u001b[38;5;241m=\u001b[39m handle_response_model(\n\u001b[1;32m    183\u001b[0m     response_model\u001b[38;5;241m=\u001b[39mresponse_model, mode\u001b[38;5;241m=\u001b[39mmode, \u001b[38;5;241m*\u001b[39m\u001b[38;5;241m*\u001b[39mkwargs\n\u001b[1;32m    184\u001b[0m )\n\u001b[1;32m    186\u001b[0m new_kwargs \u001b[38;5;241m=\u001b[39m handle_templating(new_kwargs, context)\n\u001b[0;32m--> 188\u001b[0m response \u001b[38;5;241m=\u001b[39m \u001b[43mretry_sync\u001b[49m\u001b[43m(\u001b[49m\n\u001b[1;32m    189\u001b[0m \u001b[43m    \u001b[49m\u001b[43mfunc\u001b[49m\u001b[38;5;241;43m=\u001b[39;49m\u001b[43mfunc\u001b[49m\u001b[43m,\u001b[49m\u001b[43m  \u001b[49m\u001b[38;5;66;43;03m# type: ignore\u001b[39;49;00m\n\u001b[1;32m    190\u001b[0m \u001b[43m    \u001b[49m\u001b[43mresponse_model\u001b[49m\u001b[38;5;241;43m=\u001b[39;49m\u001b[43mresponse_model\u001b[49m\u001b[43m,\u001b[49m\n\u001b[1;32m    191\u001b[0m \u001b[43m    \u001b[49m\u001b[43mcontext\u001b[49m\u001b[38;5;241;43m=\u001b[39;49m\u001b[43mcontext\u001b[49m\u001b[43m,\u001b[49m\n\u001b[1;32m    192\u001b[0m \u001b[43m    \u001b[49m\u001b[43mmax_retries\u001b[49m\u001b[38;5;241;43m=\u001b[39;49m\u001b[43mmax_retries\u001b[49m\u001b[43m,\u001b[49m\n\u001b[1;32m    193\u001b[0m \u001b[43m    \u001b[49m\u001b[43margs\u001b[49m\u001b[38;5;241;43m=\u001b[39;49m\u001b[43margs\u001b[49m\u001b[43m,\u001b[49m\n\u001b[1;32m    194\u001b[0m \u001b[43m    \u001b[49m\u001b[43mhooks\u001b[49m\u001b[38;5;241;43m=\u001b[39;49m\u001b[43mhooks\u001b[49m\u001b[43m,\u001b[49m\n\u001b[1;32m    195\u001b[0m \u001b[43m    \u001b[49m\u001b[43mstrict\u001b[49m\u001b[38;5;241;43m=\u001b[39;49m\u001b[43mstrict\u001b[49m\u001b[43m,\u001b[49m\n\u001b[1;32m    196\u001b[0m \u001b[43m    \u001b[49m\u001b[43mkwargs\u001b[49m\u001b[38;5;241;43m=\u001b[39;49m\u001b[43mnew_kwargs\u001b[49m\u001b[43m,\u001b[49m\n\u001b[1;32m    197\u001b[0m \u001b[43m    \u001b[49m\u001b[43mmode\u001b[49m\u001b[38;5;241;43m=\u001b[39;49m\u001b[43mmode\u001b[49m\u001b[43m,\u001b[49m\n\u001b[1;32m    198\u001b[0m \u001b[43m\u001b[49m\u001b[43m)\u001b[49m\n\u001b[1;32m    199\u001b[0m \u001b[38;5;28;01mreturn\u001b[39;00m response\n",
      "File \u001b[0;32m~/miniconda3/envs/ipt-cfr2sbvr/lib/python3.11/site-packages/instructor/retry.py:164\u001b[0m, in \u001b[0;36mretry_sync\u001b[0;34m(func, response_model, args, kwargs, context, max_retries, strict, mode, hooks)\u001b[0m\n\u001b[1;32m    162\u001b[0m \u001b[38;5;28;01mexcept\u001b[39;00m RetryError \u001b[38;5;28;01mas\u001b[39;00m e:\n\u001b[1;32m    163\u001b[0m     logger\u001b[38;5;241m.\u001b[39mdebug(\u001b[38;5;124mf\u001b[39m\u001b[38;5;124m\"\u001b[39m\u001b[38;5;124mRetry error: \u001b[39m\u001b[38;5;132;01m{\u001b[39;00me\u001b[38;5;132;01m}\u001b[39;00m\u001b[38;5;124m\"\u001b[39m)\n\u001b[0;32m--> 164\u001b[0m     \u001b[38;5;28;01mraise\u001b[39;00m InstructorRetryException(\n\u001b[1;32m    165\u001b[0m         e\u001b[38;5;241m.\u001b[39mlast_attempt\u001b[38;5;241m.\u001b[39m_exception,\n\u001b[1;32m    166\u001b[0m         last_completion\u001b[38;5;241m=\u001b[39mresponse,\n\u001b[1;32m    167\u001b[0m         n_attempts\u001b[38;5;241m=\u001b[39mattempt\u001b[38;5;241m.\u001b[39mretry_state\u001b[38;5;241m.\u001b[39mattempt_number,\n\u001b[1;32m    168\u001b[0m         \u001b[38;5;66;03m#! deprecate messages soon\u001b[39;00m\n\u001b[1;32m    169\u001b[0m         messages\u001b[38;5;241m=\u001b[39mkwargs\u001b[38;5;241m.\u001b[39mget(\n\u001b[1;32m    170\u001b[0m             \u001b[38;5;124m\"\u001b[39m\u001b[38;5;124mmessages\u001b[39m\u001b[38;5;124m\"\u001b[39m, kwargs\u001b[38;5;241m.\u001b[39mget(\u001b[38;5;124m\"\u001b[39m\u001b[38;5;124mcontents\u001b[39m\u001b[38;5;124m\"\u001b[39m, kwargs\u001b[38;5;241m.\u001b[39mget(\u001b[38;5;124m\"\u001b[39m\u001b[38;5;124mchat_history\u001b[39m\u001b[38;5;124m\"\u001b[39m, []))\n\u001b[1;32m    171\u001b[0m         ),\n\u001b[1;32m    172\u001b[0m         create_kwargs\u001b[38;5;241m=\u001b[39mkwargs,\n\u001b[1;32m    173\u001b[0m         total_usage\u001b[38;5;241m=\u001b[39mtotal_usage,\n\u001b[1;32m    174\u001b[0m     ) \u001b[38;5;28;01mfrom\u001b[39;00m \u001b[38;5;21;01me\u001b[39;00m\n",
      "\u001b[0;31mInstructorRetryException\u001b[0m: Error code: 400 - {'error': {'message': \"Unsupported parameter: 'tool_choice' is not supported with this model.\", 'type': 'invalid_request_error', 'param': 'tool_choice', 'code': 'unsupported_parameter'}}"
     ]
    }
   ],
   "source": [
    "for doc in manager.list_document_ids(doc_type=\"section\"):\n",
    "    logger.info(f\"Processing document: {doc}\")\n",
    "    retrieved_doc = manager.retrieve_document(doc_id=doc, doc_type=\"section\")\n",
    "\n",
    "    # Part 1 - Extraction of elements\n",
    "    # TODO: Refactor to a function. Put it in the prompt engeering section\n",
    "    user_prompt = f\"\"\"\n",
    "# Document\n",
    "\n",
    "{manager.retrieve_document(doc_id=doc, doc_type=\"section\").content}\n",
    "    \"\"\"\n",
    "\n",
    "    logger.debug(system_prompt_extract_part_1, user_prompt)\n",
    "\n",
    "    logger.info(\"P1. Extracting elements...\")\n",
    "    response_part_1, completion_1, elapse_time_1 = query_instruct_llm(\n",
    "        system_prompt=system_prompt_extract_part_1,\n",
    "        user_prompt=user_prompt,\n",
    "        document_model=ElementsDocumentModel,\n",
    "        llm_model=config[\"LLM\"][\"MODEL\"],\n",
    "        temperature=config[\"LLM\"][\"TEMPERATURE\"],\n",
    "        max_tokens=config[\"LLM\"][\"MAX_TOKENS\"],\n",
    "    )\n",
    "\n",
    "    logger.debug(response_part_1)\n",
    "\n",
    "    doc_1 = Document(\n",
    "        id=f\"{doc}_P1\",\n",
    "        type=\"llm_response\",\n",
    "        content=response_part_1,\n",
    "        elapsed_times=[elapse_time_1],\n",
    "        completions=[completion_1.dict()],\n",
    "    )\n",
    "    manager.add_document(doc_1)\n",
    "\n",
    "    # Part 2 - Definition of terms and relationships\n",
    "\n",
    "    terms_list_part_1 = extract_unique_terms(response_part_1)\n",
    "\n",
    "    user_prompt = f\"\"\"\n",
    "# Terms list\n",
    "\n",
    "{terms_list_part_1}\n",
    "\n",
    "# Document\n",
    "{manager.retrieve_document(doc_id=doc, doc_type=\"section\").content}\n",
    "    \"\"\"\n",
    "\n",
    "    logger.info(\"P2. Extracting terms and relationships...\")\n",
    "\n",
    "    response_part_2, completion_2, elapse_time_2 = query_instruct_llm(\n",
    "        system_prompt=system_prompt_extract_part_2,\n",
    "        user_prompt=user_prompt,\n",
    "        document_model=TermsDocumentModel,\n",
    "        llm_model=config[\"LLM\"][\"MODEL\"],\n",
    "        temperature=config[\"LLM\"][\"TEMPERATURE\"],\n",
    "        max_tokens=config[\"LLM\"][\"MAX_TOKENS\"],\n",
    "    )\n",
    "\n",
    "    logger.debug(response_part_2)\n",
    "\n",
    "    doc_2 = Document(\n",
    "        id=f\"{doc}_P2\",\n",
    "        type=\"llm_response\",\n",
    "        content=response_part_2,\n",
    "        elapsed_times=[elapse_time_2],\n",
    "        completions=[completion_2.dict()],\n",
    "    )\n",
    "    manager.add_document(doc_2)\n",
    "\n",
    "    logger.info(\"Saving llm_response to checkpoint...\")\n",
    "\n",
    "    # Save each document to save money.\n",
    "    save_checkpoint(filename=config[\"DEFAULT_CHECKPOINT_FILE\"], manager=manager)\n",
    "\n",
    "logger.info(\"Finished processing documents.\")"
   ]
  },
  {
   "cell_type": "code",
   "execution_count": null,
   "metadata": {},
   "outputs": [],
   "source": [
    "raise Exception(\"Stop here for now.\")"
   ]
  },
  {
   "cell_type": "markdown",
   "metadata": {
    "id": "JiWIfLLLNI4q"
   },
   "source": [
    "Avarage execution time: 50s / per prompt."
   ]
  },
  {
   "cell_type": "markdown",
   "metadata": {
    "id": "beCnjH-9NI4r"
   },
   "source": [
    "Restore checkpoint"
   ]
  },
  {
   "cell_type": "code",
   "execution_count": null,
   "metadata": {
    "id": "rP4unlYlNI4r"
   },
   "outputs": [
    {
     "name": "stderr",
     "output_type": "stream",
     "text": [
      "2024-12-02 20:29:10 - INFO - DocumentManager restored from file: ../data/checkpoints/documents-2024-12-02-9.json\n",
      "2024-12-02 20:29:10 - INFO - Checkpoint restored from ../data/checkpoints/documents-2024-12-02-9.json.\n"
     ]
    }
   ],
   "source": [
    "# Restore checkpoint\n",
    "manager = restore_checkpoint(filename=config[\"DEFAULT_CHECKPOINT_FILE\"])"
   ]
  },
  {
   "cell_type": "markdown",
   "metadata": {},
   "source": [
    "### Check the content of datasets"
   ]
  },
  {
   "cell_type": "code",
   "execution_count": null,
   "metadata": {},
   "outputs": [
    {
     "name": "stderr",
     "output_type": "stream",
     "text": [
      "2024-12-05 20:30:10 - INFO - Document did not have facts classifications to process: 'NoneType' object has no attribute 'content'\n",
      "2024-12-05 20:30:10 - WARNING - Document 'classify_P2_Definitional_terms' not found or has empty content.\n",
      "2024-12-05 20:30:10 - WARNING - Document 'classify_P2_Definitional_names' not found or has empty content.\n",
      "2024-12-05 20:30:10 - WARNING - Document 'transform_Fact_Types' of type 'llm_response_transform' not found or empty.\n"
     ]
    },
    {
     "name": "stderr",
     "output_type": "stream",
     "text": [
      "2024-12-05 20:30:10 - WARNING - Document 'transform_Terms' of type 'llm_response_transform' not found or empty.\n",
      "2024-12-05 20:30:10 - WARNING - Document 'transform_Names' of type 'llm_response_transform' not found or empty.\n",
      "2024-12-05 20:30:10 - WARNING - Document 'transform_Operative_Rules' of type 'llm_response_transform' not found or empty.\n",
      "2024-12-05 20:30:10 - WARNING - Validation document 'validation_judge_Operative_Rules' not found or empty.\n",
      "2024-12-05 20:30:10 - WARNING - Validation document 'validation_judge_Fact_Types' not found or empty.\n",
      "2024-12-05 20:30:10 - WARNING - Validation document 'validation_judge_Terms' not found or empty.\n",
      "2024-12-05 20:30:10 - WARNING - Validation document 'validation_judge_Names' not found or empty.\n",
      "2024-12-05 20:30:10 - INFO - Rules to evaluate: 0\n",
      "2024-12-05 20:30:10 - INFO - Facts to evaluate: 0\n",
      "2024-12-05 20:30:10 - INFO - Terms to evaluate: 0\n",
      "2024-12-05 20:30:10 - INFO - Names to evaluate: 0\n",
      "2024-12-05 20:30:10 - INFO - Terms with definitions: 0\n",
      "2024-12-05 20:30:10 - INFO - Names with definitions: 0\n"
     ]
    }
   ],
   "source": [
    "processor = DocumentProcessor(manager, merge=True)\n",
    "\n",
    "pred_operative_rules = processor.get_rules()\n",
    "pred_facts = processor.get_facts()\n",
    "pred_terms = processor.get_terms()\n",
    "pred_names = processor.get_names()\n",
    "pred_terms_with_definitions = processor.get_terms(definition_filter=\"non_null\")\n",
    "pred_names_with_definitions = processor.get_names(definition_filter=\"non_null\")\n",
    "\n",
    "logger.debug(f\"Rules: {pred_operative_rules}\")\n",
    "logger.debug(f\"Facts: {pred_facts}\")\n",
    "logger.debug(f\"Terms: {pred_terms}\")\n",
    "logger.debug(f\"Names: {pred_names}\")\n",
    "logger.info(f\"Rules to evaluate: {len(pred_operative_rules)}\")\n",
    "logger.info(f\"Facts to evaluate: {len(pred_facts)}\")\n",
    "logger.info(f\"Terms to evaluate: {len(pred_terms)}\")\n",
    "logger.info(f\"Names to evaluate: {len(pred_names)}\")\n",
    "logger.info(f\"Terms with definitions: {len(pred_terms_with_definitions)}\")\n",
    "logger.info(f\"Names with definitions: {len(pred_names_with_definitions)}\")"
   ]
  },
  {
   "cell_type": "code",
   "execution_count": null,
   "metadata": {},
   "outputs": [
    {
     "name": "stderr",
     "output_type": "stream",
     "text": [
      "2024-12-05 20:30:25 - INFO - SECTIONS:\n",
      "2024-12-05 20:30:25 - INFO - section docs: ['§ 275.0-2', '§ 275.0-5', '§ 275.0-7']\n",
      "2024-12-05 20:30:25 - INFO - § 275.0-2: Total number of lines: 14, total number of words: 362, and average words per line: 26\n",
      "2024-12-05 20:30:25 - INFO - § 275.0-5: Total number of lines: 10, total number of words: 260, and average words per line: 26\n",
      "2024-12-05 20:30:25 - INFO - § 275.0-7: Total number of lines: 19, total number of words: 513, and average words per line: 27\n",
      "2024-12-05 20:30:25 - INFO - Processing document: § 275.0-2_P1 ...\n",
      "2024-12-05 20:30:25 - INFO - retrieve P1\n",
      "2024-12-05 20:30:25 - INFO - Processing document: § 275.0-5_P1 ...\n",
      "2024-12-05 20:30:25 - INFO - retrieve P1\n",
      "2024-12-05 20:30:25 - INFO - Processing document: § 275.0-7_P1 ...\n",
      "2024-12-05 20:30:25 - INFO - retrieve P1\n",
      "2024-12-05 20:30:25 - INFO - Processing document: § 275.0-2_P2 ...\n",
      "2024-12-05 20:30:25 - INFO - retrieve P2\n",
      "2024-12-05 20:30:25 - INFO - Processing document: § 275.0-5_P2 ...\n",
      "2024-12-05 20:30:25 - INFO - retrieve P2\n",
      "2024-12-05 20:30:25 - INFO - Processing document: § 275.0-7_P2 ...\n",
      "2024-12-05 20:30:25 - INFO - retrieve P2\n"
     ]
    }
   ],
   "source": [
    "logger.info(\"SECTIONS:\")\n",
    "# List all document ids | type\n",
    "logger.info(f\"section docs: {manager.list_document_ids(doc_type='section')}\")\n",
    "\n",
    "# Retrieve a document by id | type\n",
    "for doc in manager.list_document_ids(doc_type=\"section\"):\n",
    "    retrieved_doc = manager.retrieve_document(doc_id=doc, doc_type=\"section\")\n",
    "    logger.debug(retrieved_doc)\n",
    "    lines, words, avg_words_per_line = basic_text_stats(retrieved_doc.content)\n",
    "    logger.info(\n",
    "        f\"{doc}: Total number of lines: {lines}, total number of words: {words}, and average words per line: {avg_words_per_line}\"\n",
    "    )\n",
    "\n",
    "retrieved_true_table_p1 = []\n",
    "retrieved_true_table_p2 = []\n",
    "\n",
    "for doc in manager.list_document_ids(doc_type=\"true_table\"):\n",
    "    logger.info(f\"Processing document: {doc} ...\")\n",
    "    # Docs type true_table P1\n",
    "    if doc.endswith(\"_P1\"):\n",
    "        retrieved_true_table_p1.append(\n",
    "            calculate_content_quantities_p1(\n",
    "                doc,\n",
    "                manager.retrieve_document(\n",
    "                    doc_id=doc, doc_type=\"true_table\"\n",
    "                ).model_dump()[\"content\"],\n",
    "                filename=\"p1_true_table.json\",\n",
    "            )\n",
    "        )\n",
    "        logger.info(\"retrieve P1\")\n",
    "    # Docs type true_table P2\n",
    "    elif doc.endswith(\"_P2\"):\n",
    "        retrieved_true_table_p2.append(\n",
    "            calculate_content_quantities_p2(\n",
    "                doc,\n",
    "                manager.retrieve_document(\n",
    "                    doc_id=doc, doc_type=\"true_table\"\n",
    "                ).model_dump(),\n",
    "                filename=\"p2_true_table.json\",\n",
    "            )\n",
    "        )\n",
    "        logger.info(\"retrieve P2\")\n",
    "\n",
    "# Convert collected data to a DataFrame\n",
    "table_true_df_p1 = pd.DataFrame(retrieved_true_table_p1)\n",
    "table_true_df_p2 = pd.DataFrame(retrieved_true_table_p2)\n",
    "\n",
    "# Save DataFrames to CSV if needed\n",
    "table_true_df_p1.to_excel(f\"{config['DEFAULT_OUTPUT_DIR']}/P1_summary_true_table.xlsx\", index=False)\n",
    "table_true_df_p2.to_excel(f\"{config['DEFAULT_OUTPUT_DIR']}/P2_summary_true_table.xlsx\", index=False)"
   ]
  }
 ],
 "metadata": {
  "colab": {
   "include_colab_link": true,
   "provenance": []
  },
  "kernelspec": {
   "display_name": "ipt-cfr2sbvr",
   "language": "python",
   "name": "python3"
  },
  "language_info": {
   "codemirror_mode": {
    "name": "ipython",
    "version": 3
   },
   "file_extension": ".py",
   "mimetype": "text/x-python",
   "name": "python",
   "nbconvert_exporter": "python",
   "pygments_lexer": "ipython3",
   "version": "3.11.9"
  }
 },
 "nbformat": 4,
 "nbformat_minor": 0
}
