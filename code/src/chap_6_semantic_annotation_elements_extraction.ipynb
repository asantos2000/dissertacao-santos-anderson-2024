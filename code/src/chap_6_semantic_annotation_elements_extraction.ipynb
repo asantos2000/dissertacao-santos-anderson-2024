{
 "cells": [
  {
   "cell_type": "markdown",
   "metadata": {
    "colab_type": "text",
    "id": "view-in-github"
   },
   "source": [
    "<a href=\"https://colab.research.google.com/github/asantos2000/master-degree-santos-anderson/blob/main/code/src/chap_6_semantic_annotation_elements_extraction.ipynb\" target=\"_parent\"><img src=\"https://colab.research.google.com/assets/colab-badge.svg\" alt=\"Open In Colab\"/></a>"
   ]
  },
  {
   "cell_type": "markdown",
   "metadata": {
    "id": "WVnYd6SGNI4V"
   },
   "source": [
    "# Semantic Annotation - Elements extraction\n",
    "\n",
    "Extract and identify elements.\n",
    "\n",
    "Chapter 6. Ferramentas de suporte\n",
    "- Section 6.2 Implementação dos principais componentes\n",
    "  - Section 6.2.3 Anotações semânticas\n",
    "    - Section Algoritmo \"extract / classify elements\""
   ]
  },
  {
   "cell_type": "markdown",
   "metadata": {},
   "source": [
    "## Google colab"
   ]
  },
  {
   "cell_type": "code",
   "execution_count": 2,
   "metadata": {
    "colab": {
     "base_uri": "https://localhost:8080/"
    },
    "id": "YeGvXmBtNPEr",
    "outputId": "39bc3662-a6ac-4d49-ddd5-2a82c83715ea"
   },
   "outputs": [
    {
     "name": "stdout",
     "output_type": "stream",
     "text": [
      "The autoreload extension is already loaded. To reload it, use:\n",
      "  %reload_ext autoreload\n"
     ]
    }
   ],
   "source": [
    "%load_ext autoreload\n",
    "%autoreload 2\n",
    "\n",
    "import sys\n",
    "import os\n",
    "\n",
    "IN_COLAB = 'google.colab' in sys.modules\n",
    "\n",
    "if IN_COLAB:\n",
    "  from google.colab import drive\n",
    "  drive.mount('/content/drive')\n",
    "  !rm -rf cfr2sbvr configuration checkpoint\n",
    "  !git clone https://github.com/asantos2000/master-degree-santos-anderson.git cfr2sbvr\n",
    "  %pip install -r cfr2sbvr/code/requirements.txt\n",
    "  !cp -r cfr2sbvr/code/src/configuration .\n",
    "  !cp -r cfr2sbvr/code/src/checkpoint .\n",
    "  !cp -r cfr2sbvr/code/config.colab.yaml config.yaml\n",
    "  DEFAULT_CONFIG_FILE=\"config.yaml\"\n",
    "else:\n",
    "  DEFAULT_CONFIG_FILE=\"../config.yaml\""
   ]
  },
  {
   "cell_type": "markdown",
   "metadata": {
    "id": "Dnhg_V5jNI4W",
    "jp-MarkdownHeadingCollapsed": true
   },
   "source": [
    "## Imports"
   ]
  },
  {
   "cell_type": "code",
   "execution_count": 3,
   "metadata": {
    "id": "rpxOMz7bNI4W"
   },
   "outputs": [],
   "source": [
    "# Standard library imports\n",
    "import json\n",
    "import glob\n",
    "from datetime import datetime\n",
    "from decimal import Decimal\n",
    "\n",
    "# Third-party libraries\n",
    "import pandas as pd\n",
    "import seaborn as sns\n",
    "import matplotlib.pyplot as plt\n",
    "from pydantic import BaseModel, Field\n",
    "from sklearn.metrics import confusion_matrix, classification_report\n",
    "from typing import List, Dict, Optional, Any, Tuple, Set\n",
    "\n",
    "# Franz AllegroGraph (AG) imports\n",
    "from franz.openrdf.connect import ag_connect\n",
    "from franz.openrdf.repository.repository import RepositoryConnection\n",
    "from franz.openrdf.query.query import QueryLanguage\n",
    "\n",
    "# inflect library\n",
    "import inflect\n",
    "\n",
    "# Local application/library-specific imports\n",
    "import checkpoint.main as checkpoint\n",
    "from checkpoint.main import restore_checkpoint, save_checkpoint, Document, DocumentProcessor\n",
    "import configuration.main as configuration\n",
    "import logging_setup.main as logging_setup\n",
    "import token_estimator.main as token_estimator\n",
    "from token_estimator.main import estimate_tokens\n",
    "import rules_taxonomy_provider.main as rules_taxonomy_provider\n",
    "from rules_taxonomy_provider.main import RuleInformationProvider, RulesTemplateProvider\n",
    "import llm_query.main as llm_query\n",
    "from llm_query.main import query_instruct_llm\n",
    "\n",
    "DEV_MODE = True\n",
    "\n",
    "if DEV_MODE:\n",
    "    # Development mode\n",
    "    import importlib\n",
    "    importlib.reload(configuration)\n",
    "    importlib.reload(logging_setup)\n",
    "    importlib.reload(checkpoint)\n",
    "    importlib.reload(token_estimator)\n",
    "    importlib.reload(rules_taxonomy_provider)\n",
    "    importlib.reload(llm_query)"
   ]
  },
  {
   "cell_type": "markdown",
   "metadata": {
    "id": "2o40QEFwNI4X",
    "jp-MarkdownHeadingCollapsed": true
   },
   "source": [
    "## Settings\n",
    "\n",
    "Default settings, check them before run the notebook."
   ]
  },
  {
   "cell_type": "markdown",
   "metadata": {
    "id": "lPwz2hfgNI4Y"
   },
   "source": [
    "### Get configuration"
   ]
  },
  {
   "cell_type": "code",
   "execution_count": 4,
   "metadata": {
    "id": "poARQdZINI4Y"
   },
   "outputs": [],
   "source": [
    "# load config\n",
    "DEFAULT_CONFIG_FILE = \"../config.yaml\"\n",
    "config = configuration.load_config(DEFAULT_CONFIG_FILE)"
   ]
  },
  {
   "cell_type": "markdown",
   "metadata": {
    "id": "3ZAWMXD8NI4Y"
   },
   "source": [
    "Generated files for analysis in this run"
   ]
  },
  {
   "cell_type": "code",
   "execution_count": 5,
   "metadata": {
    "colab": {
     "base_uri": "https://localhost:8080/"
    },
    "id": "WGmKVJ-tNI4Z",
    "outputId": "d71c6172-cf70-438f-cff3-430a18cc19bf"
   },
   "outputs": [
    {
     "name": "stdout",
     "output_type": "stream",
     "text": [
      "../data/checkpoints/documents-2024-11-07-1.json ../outputs/extraction_report-2024-11-07-1.html ../outputs/compare_items_metrics.xlsx\n"
     ]
    }
   ],
   "source": [
    "print(config[\"DEFAULT_CHECKPOINT_FILE\"],\n",
    "config[\"DEFAULT_EXTRACTION_REPORT_FILE\"],\n",
    "config[\"DEFAULT_EXCEL_FILE\"])"
   ]
  },
  {
   "cell_type": "markdown",
   "metadata": {
    "id": "0_JfffhbNI4Z"
   },
   "source": [
    "### Logging configuration"
   ]
  },
  {
   "cell_type": "code",
   "execution_count": 6,
   "metadata": {},
   "outputs": [
    {
     "name": "stderr",
     "output_type": "stream",
     "text": [
      "2024-11-07 17:05:45 - INFO - Logging is set up with daily rotation.\n"
     ]
    }
   ],
   "source": [
    "logger = logging_setup.setting_logging(config[\"DEFAULT_LOG_DIR\"], config[\"LOG_LEVEL\"])"
   ]
  },
  {
   "cell_type": "markdown",
   "metadata": {
    "id": "8IFcfyRmNI4a"
   },
   "source": [
    "## Checkpoints\n",
    "\n",
    "Documents, annoted datasets, statistics and metrics about the execution of the notebook are stored by checkpoint module.\n",
    "\n",
    "Checkpoints are stored / retrieved at the directory `DEFAULT_CHECKPOINT_FILE` in the configuration file.\n",
    "\n",
    "During the execution, it will restore the checkpoint at the beginning of the section and saved at the end. We can run and restore the checkpoint several times. If the run fails, check the closest checkpoint and restore it."
   ]
  },
  {
   "cell_type": "markdown",
   "metadata": {
    "id": "PQRUcc26NI4a"
   },
   "source": [
    "### Restore the checkpoint"
   ]
  },
  {
   "cell_type": "code",
   "execution_count": 7,
   "metadata": {
    "id": "vQ258mrANI4b"
   },
   "outputs": [
    {
     "name": "stderr",
     "output_type": "stream",
     "text": [
      "2024-11-07 17:06:34 - INFO - DocumentManager restored from file: ../data/checkpoints/documents-2024-11-01-3.json\n",
      "2024-11-07 17:06:34 - INFO - Checkpoint restored from ../data/checkpoints/documents-2024-11-01-3.json.\n"
     ]
    }
   ],
   "source": [
    "# Restore the checkpoint\n",
    "\n",
    "# For development only\n",
    "config[\"DEFAULT_CHECKPOINT_FILE\"] = \"../data/checkpoints/documents-2024-11-01-3.json\"\n",
    "\n",
    "manager = restore_checkpoint(filename=config[\"DEFAULT_CHECKPOINT_FILE\"])"
   ]
  },
  {
   "cell_type": "markdown",
   "metadata": {
    "id": "gALx00jLNI4b",
    "jp-MarkdownHeadingCollapsed": true
   },
   "source": [
    "## Datasets\n",
    "\n",
    "Datasets used in the notebook. They are divided into sections and true tables. The sections are the documents from CFR and true tables are annoted  or \"golden\" datasets."
   ]
  },
  {
   "cell_type": "markdown",
   "metadata": {
    "id": "0OyrGfTfNI4b"
   },
   "source": [
    "### General functions and data structures"
   ]
  },
  {
   "cell_type": "code",
   "execution_count": 8,
   "metadata": {
    "id": "IlDK6qNRNI4b"
   },
   "outputs": [],
   "source": [
    "def basic_text_stats(text: str) -> Tuple[int, int, int]:\n",
    "    \"\"\"\n",
    "    Computes basic text statistics: number of lines, words, and average words per line.\n",
    "\n",
    "    Args:\n",
    "        text (str): The text to analyze.\n",
    "\n",
    "    Returns:\n",
    "        Tuple[int, int, int]: A tuple containing the number of lines, total words, and average words per line.\n",
    "    \"\"\"\n",
    "    lines=len(text.split(\"\\n\"))\n",
    "    words=len(text.split(\" \"))\n",
    "    avg_words_per_line=round(words/lines)\n",
    "    return lines, words, avg_words_per_line"
   ]
  },
  {
   "cell_type": "code",
   "execution_count": 9,
   "metadata": {
    "id": "dCXYiYZrNI4b"
   },
   "outputs": [],
   "source": [
    "def get_section_from_kg(conn: Any, section_num: str) -> str:\n",
    "    \"\"\"\n",
    "    Retrieves a section from the Knowledge Graph based on the section number.\n",
    "\n",
    "    Args:\n",
    "        conn: The connection object to the Knowledge Graph.\n",
    "        section_num (str): The section number to query.\n",
    "\n",
    "    Returns:\n",
    "        str: The retrieved section content as a string.\n",
    "\n",
    "    Raises:\n",
    "        Exception: If there is an error executing the query.\n",
    "    \"\"\"\n",
    "    # Query section number from KG\n",
    "    query = \"\"\"\n",
    "    PREFIX fro-cfr: <http://finregont.com/fro/cfr/Code_Federal_Regulations.ttl#>\n",
    "    PREFIX fro-leg-ref: <http://finregont.com/fro/ref/LegalReference.ttl#>\n",
    "\n",
    "    SELECT ?section ?section_seq ?section_num ?section_subject ?section_citation ?section_notes ?divide ?divide_seq ?paragraph_enum ?paragraph_text\n",
    "    WHERE {\n",
    "      ?section a fro-cfr:CFR_Section ;\n",
    "        fro-leg-ref:hasSequenceNumber ?section_seq ;\n",
    "        fro-cfr:hasSectionNumber ?section_num ;\n",
    "        fro-cfr:hasSectionSubject ?section_subject .\n",
    "      OPTIONAL {?section fro-leg-ref:refers_toNote ?section_notes} .\n",
    "      OPTIONAL {?section fro-cfr:hasSectionCitation ?section_citation} .\n",
    "\n",
    "      ?divide fro-leg-ref:divides ?section ; # rdf:type fro-cfr:CFR_Parapraph\n",
    "        fro-leg-ref:hasSequenceNumber ?divide_seq ;\n",
    "        fro-cfr:hasParagraphText ?paragraph_text ;\n",
    "        fro-leg-ref:hasSequenceNumber ?paragraph_seq .\n",
    "      OPTIONAL {?divide fro-cfr:hasParagraphEnumText ?paragraph_enum} .\n",
    "    \"\"\" + f\"\"\"\n",
    "      FILTER(\"{section_num}\" = ?section_num)\n",
    "    \"\"\" + \"\"\"\n",
    "    }\n",
    "    ORDER BY ?section_num ?section ?divide_seq\n",
    "    \"\"\"\n",
    "    tuple_query = conn.prepareTupleQuery(QueryLanguage.SPARQL, query)\n",
    "    result = tuple_query.evaluate()\n",
    "\n",
    "    logger.debug(f\"result.metadata: {result.metadata}\")\n",
    "    logger.debug(f\"result.variable_names: {result.variable_names}\")\n",
    "\n",
    "    body_text = \"\"\n",
    "    previous_section = None\n",
    "    previous_paragraph_id = None\n",
    "    with result:\n",
    "      for binding_set in result:\n",
    "          section = binding_set.getValue(\"section\")\n",
    "          section_seq = str(binding_set.getValue(\"section_seq\")).replace('\"', '')\n",
    "          section_num = str(binding_set.getValue(\"section_num\")).replace('\"', '')\n",
    "          section_subject = str(binding_set.getValue(\"section_subject\")).replace('\"', '')\n",
    "          section_citation = str(binding_set.getValue(\"section_citation\")).replace('\"', '')\n",
    "          section_notes = str(binding_set.getValue(\"section_notes\")).replace('\"', '')\n",
    "          divide = binding_set.getValue(\"divide\")\n",
    "          divide_seq = str(binding_set.getValue(\"divide_seq\")).replace('\"', '')\n",
    "          paragraph_enum = str(binding_set.getValue(\"paragraph_enum\")).replace('\"', '')\n",
    "          paragraph_text = str(binding_set.getValue(\"paragraph_text\")).replace('\"', '')\n",
    "          # Header\n",
    "          if previous_section != section:\n",
    "            previous_section = section\n",
    "            header = f\"\"\"\n",
    "    section_number: {section_num}\n",
    "    section_subject: {section_subject}\n",
    "    section_id: {section}\n",
    "    citations: {section_citation}\n",
    "    notes: {section_notes}\n",
    "            \"\"\"\n",
    "          # Body\n",
    "          if paragraph_enum != \"None\":\n",
    "            body_text += f\"\"\"\n",
    "    paragraph_enumeration: {paragraph_enum}\n",
    "    paragraph_text: {paragraph_text}\n",
    "    \"\"\"\n",
    "          else:\n",
    "            body_text += f\"\"\"\n",
    "    paragraph_text: {paragraph_text}\n",
    "    \"\"\"\n",
    "\n",
    "    return header + body_text\n"
   ]
  },
  {
   "cell_type": "code",
   "execution_count": 10,
   "metadata": {
    "id": "xEwWX_bxNI4c"
   },
   "outputs": [],
   "source": [
    "def calculate_content_quantities_p1(doc_id, content_data, filename):\n",
    "    elements = content_data.get(\"elements\", [])\n",
    "    logger.debug(elements)\n",
    "\n",
    "    # Collect statistics\n",
    "    num_elements = len(elements)\n",
    "    fact_count = 0\n",
    "    fact_type_count = 0\n",
    "    rule_count = 0\n",
    "    verb_count = 0\n",
    "    term_count = 0\n",
    "\n",
    "    # Process each element within the document\n",
    "    for element in elements:\n",
    "        classification = element.get(\"classification\", \"Unknown\")\n",
    "        if classification == \"Fact\":\n",
    "            fact_count += 1\n",
    "        elif classification == \"Fact Type\":\n",
    "            fact_type_count += 1\n",
    "        elif classification == \"Rule\":\n",
    "            rule_count += 1\n",
    "        verb_count += len(element.get(\"verb_symbols\", []))\n",
    "        term_count += len(element.get(\"terms\", []))\n",
    "\n",
    "    return {\n",
    "        \"document_id\": doc_id,\n",
    "        \"quantity_of_elements\": num_elements,\n",
    "        \"quantity_of_facts\": fact_count,\n",
    "        \"quantity_of_fact_types\": fact_type_count,\n",
    "        \"quantity_of_rules\": rule_count,\n",
    "        \"quantity_of_verbs\": verb_count,\n",
    "        \"quantity_of_terms\": term_count,\n",
    "        \"filename\": filename,\n",
    "    }"
   ]
  },
  {
   "cell_type": "code",
   "execution_count": 11,
   "metadata": {
    "id": "VEKkXpNKNI4c"
   },
   "outputs": [],
   "source": [
    "def process_documents_p1(file_path, file_name, doc_ids):\n",
    "    # Initialize data containers for the two tables\n",
    "    table_data = []\n",
    "\n",
    "    with open(file_path, 'r') as file:\n",
    "        content = json.load(file)\n",
    "\n",
    "        # Iterate over each document in the file\n",
    "        for doc_id, content_data in content.items():\n",
    "            logger.debug(doc_id, content_data)\n",
    "            # Check if the document ID is in the list to process\n",
    "            #if doc_id in doc_ids and 'content' in doc_data:\n",
    "            if all([doc_id in doc_ids, 'content' in content_data]):\n",
    "                table_data.append(calculate_content_quantities_p1(doc_id, content_data['content'], file_name))\n",
    "\n",
    "    return table_data\n"
   ]
  },
  {
   "cell_type": "code",
   "execution_count": 12,
   "metadata": {
    "id": "90cdkf-ANI4c"
   },
   "outputs": [],
   "source": [
    "def calculate_content_quantities_p2(doc_id, content_data, filename):\n",
    "    terms_relationship = content_data['content'].get('terms_relationship', [])\n",
    "    logger.debug(f\"terms_relationship: {terms_relationship}\")\n",
    "    terms = content_data['content']['terms']\n",
    "    logger.debug(f\"terms: {terms}\")\n",
    "\n",
    "    # Count terms with and without definitions\n",
    "    total_terms = len(terms)\n",
    "    terms_with_definition = sum(1 for term in terms if term.get('definition'))\n",
    "    terms_without_definition = total_terms - terms_with_definition\n",
    "\n",
    "    # Check for term relationships and count them\n",
    "    terms_relationship_count = len(terms_relationship)\n",
    "\n",
    "    # Add data to table\n",
    "    return {\n",
    "        \"document_id\": doc_id,\n",
    "        \"count_of_terms\": total_terms,\n",
    "        \"terms_with_definition\": terms_with_definition,\n",
    "        \"terms_without_definition\": terms_without_definition,\n",
    "        \"terms_relationship_count\": terms_relationship_count,\n",
    "        \"filename\": filename\n",
    "    }"
   ]
  },
  {
   "cell_type": "code",
   "execution_count": 13,
   "metadata": {
    "id": "Vb8ryFISNI4c"
   },
   "outputs": [],
   "source": [
    "def process_documents_p2(file_path, file_name, doc_ids):\n",
    "    table_data = []\n",
    "    with open(file_path, 'r') as file:\n",
    "        content = json.load(file)\n",
    "\n",
    "        # Iterate over each document in the file\n",
    "        for doc_id, doc_data in content.items():\n",
    "            # Check if the document has terms in its content\n",
    "            #if doc_id in doc_ids and 'content' in doc_data and 'terms' in doc_data['content']:\n",
    "            if all([doc_id in doc_ids, 'content' in doc_data, 'terms' in doc_data['content']]):\n",
    "                table_data.append(calculate_content_quantities_p2(doc_id, doc_data, file_name))\n",
    "    return table_data"
   ]
  },
  {
   "cell_type": "markdown",
   "metadata": {
    "id": "LvKeXU_nNI4c"
   },
   "source": [
    "### Get section from KG CFR\n",
    "Due the mistakes in the original dataset, we need to correct it. This function will not be used in the final version. Instead we will use variables (document_02, document_05, document_07) from the original dataset."
   ]
  },
  {
   "cell_type": "markdown",
   "metadata": {
    "id": "b5CU46gMX2iT"
   },
   "source": [
    "#### Access allegrograph"
   ]
  },
  {
   "cell_type": "code",
   "execution_count": 14,
   "metadata": {
    "id": "5ASvEzrCNI4c"
   },
   "outputs": [],
   "source": [
    "# conn = ag_connect(repo=config[\"ALLEGROGRAPH\"][\"REPO\"], catalog=config[\"ALLEGROGRAPH\"][\"CATALOG\"],\n",
    "#                 host=f'https://{config[\"ALLEGROGRAPH\"][\"HOST\"]}:443',\n",
    "#                 user=config[\"ALLEGROGRAPH\"][\"USER\"], password=config[\"ALLEGROGRAPH\"][\"PASSWORD\"])"
   ]
  },
  {
   "cell_type": "code",
   "execution_count": 15,
   "metadata": {
    "id": "P8VJE-OUNI4d"
   },
   "outputs": [],
   "source": [
    "# section_num = \"§ 275.0-7\"\n",
    "# logger.info(get_section_from_kg(conn, section_num=section_num))"
   ]
  },
  {
   "cell_type": "markdown",
   "metadata": {
    "id": "ceYxxUXvNI4d"
   },
   "source": [
    "Print results formatted"
   ]
  },
  {
   "cell_type": "code",
   "execution_count": 16,
   "metadata": {
    "id": "OHXBH5tgNI4d"
   },
   "outputs": [],
   "source": [
    "# conn.close()"
   ]
  },
  {
   "cell_type": "markdown",
   "metadata": {
    "id": "1wrNkrFANI4d"
   },
   "source": [
    "### Texts to extract the elements\n",
    "\n",
    "CFR Sections 275.0-2, 275.0-5, 275.0-7"
   ]
  },
  {
   "cell_type": "markdown",
   "metadata": {
    "id": "KQmuCjb0NI4d"
   },
   "source": [
    "#### Section 275.0-2"
   ]
  },
  {
   "cell_type": "code",
   "execution_count": 17,
   "metadata": {
    "id": "Qo_Bj9twNI4g"
   },
   "outputs": [],
   "source": [
    "manager.add_document(\n",
    "    Document(\n",
    "        id=\"§ 275.0-2\",\n",
    "        type=\"section\",\n",
    "content = \"\"\"\n",
    "§ 275.0-2 General procedures for serving non-residents.\n",
    "(a) General procedures for serving process, pleadings, or other papers on non-resident investment advisers, general partners and managing agents.  Under Forms ADV and ADV-NR [17 CFR 279.1 and 279.4], a person may serve process, pleadings, or other papers on a non-resident investment adviser, or on a non-resident general partner or non-resident managing agent of an investment adviser by serving any or all of its appointed agents:\n",
    "  (1) A person may serve a non-resident investment adviser, non-resident general partner, or non-resident managing agent by furnishing the Commission with one copy of the process, pleadings, or papers, for each named party, and one additional copy for the Commission's records.\n",
    "  (2) If process, pleadings, or other papers are served on the Commission as described in this section, the Secretary of the Commission (Secretary) will promptly forward a copy to each named party by registered or certified mail at that party's last address filed with the Commission.\n",
    "  (3) If the Secretary certifies that the Commission was served with process, pleadings, or other papers pursuant to paragraph (a)(1) of this section and forwarded these documents to a named party pursuant to paragraph (a)(2) of this section, this certification constitutes evidence of service upon that party.\n",
    "(b) Definitions.  For purposes of this section:\n",
    "  (1) Managing agent  means any person, including a trustee, who directs or manages, or who participates in directing or managing, the affairs of any unincorporated organization or association other than a partnership.\n",
    "  (2) Non-resident  means:\n",
    "    (i) An individual who resides in any place not subject to the jurisdiction of the United States;\n",
    "    (ii) A corporation that is incorporated in or that has its principal office and place of business in any place not subject to the jurisdiction of the United States; and\n",
    "    (iii) A partnership or other unincorporated organization or association that has its principal office and place of business in any place not subject to the jurisdiction of the United States.\n",
    "  (3) Principal office and place of business  has the same meaning as in § 275.203A-3(c) of this chapter.\n",
    "\"\"\"\n",
    "    )\n",
    ")"
   ]
  },
  {
   "cell_type": "code",
   "execution_count": 20,
   "metadata": {},
   "outputs": [
    {
     "name": "stderr",
     "output_type": "stream",
     "text": [
      "2024-11-07 17:13:28 - INFO - Document ID: § 275.0-2\n",
      "2024-11-07 17:13:28 - INFO - Section paragraphs: 14, words: 362, avg_word_per_paragraph: 26, tokens: 481\n",
      "2024-11-07 17:13:28 - INFO - Document ID: § 275.0-5\n"
     ]
    },
    {
     "name": "stderr",
     "output_type": "stream",
     "text": [
      "2024-11-07 17:13:28 - INFO - Section paragraphs: 10, words: 260, avg_word_per_paragraph: 26, tokens: 307\n",
      "2024-11-07 17:13:28 - INFO - Document ID: § 275.0-7\n",
      "2024-11-07 17:13:28 - INFO - Section paragraphs: 19, words: 513, avg_word_per_paragraph: 27, tokens: 642\n"
     ]
    }
   ],
   "source": [
    "docs = manager.list_document_ids(doc_type=\"section\")\n",
    "\n",
    "for doc in docs:\n",
    "    text = manager.retrieve_document(doc, \"section\").content\n",
    "    logger.info(f\"Document ID: {doc}\")\n",
    "    paragraphs, words, avg_word_per_paragraph = basic_text_stats(text)\n",
    "    tokens = estimate_tokens(text)\n",
    "    logger.info(f\"Section paragraphs: {paragraphs}, words: {words}, avg_word_per_paragraph: {avg_word_per_paragraph}, tokens: {tokens}\")\n"
   ]
  },
  {
   "cell_type": "code",
   "execution_count": null,
   "metadata": {},
   "outputs": [],
   "source": [
    "estimate_tokens(manager.documents[\"§ 275.0-2\"].content)"
   ]
  },
  {
   "cell_type": "markdown",
   "metadata": {
    "id": "Af-8pbqZNI4h"
   },
   "source": [
    "Section 275.0-5"
   ]
  },
  {
   "cell_type": "code",
   "execution_count": 18,
   "metadata": {
    "id": "mi0KFeInNI4h"
   },
   "outputs": [],
   "source": [
    "manager.add_document(\n",
    "    Document(\n",
    "        id=\"§ 275.0-5\",\n",
    "        type=\"section\",\n",
    "content = \"\"\"\n",
    "§ 275.0-5 Procedure with respect to applications and other matters.\n",
    "The procedure hereinbelow set forth will be followed with respect to any proceeding initiated by the filing of an application, or upon the Commission's own motion, pursuant to any section of the Act or any rule or regulation thereunder, unless in the particular case a different procedure is provided:\n",
    "(a) Notice of the initiation of the proceeding will be published in the Federal Register and will indicate the earliest date upon which an order disposing of the matter may be entered. The notice will also provide that any interested person may, within the period of time specified therein, submit to the Commission in writing any facts bearing upon the desirability of a hearing on the matter and may request that a hearing be held, stating his reasons therefor and the nature of his interest in the matter.\n",
    "(b) An order disposing of the matter will be issued as of course following the expiration of the period of time referred to in paragraph (a) of this section, unless the Commission thereafter orders a hearing on the matter.\n",
    "(c) The Commission will order a hearing on the matter, if it appears that a hearing is necessary or appropriate in the public interest or for the protection of investors,\n",
    "  (1) upon the request of any interested person or\n",
    "  (2) upon its own motion.\n",
    "(d) Definition of application. For purposes of this rule, an “application” means any application for an order of the Commission under the Act other than an application for registration as an investment adviser.\n",
    "\"\"\"\n",
    "    )\n",
    ")"
   ]
  },
  {
   "cell_type": "markdown",
   "metadata": {
    "id": "0vX5oYs2NI4h"
   },
   "source": [
    "Section 275.0-7"
   ]
  },
  {
   "cell_type": "code",
   "execution_count": 19,
   "metadata": {
    "id": "Mnc4fHe8NI4h"
   },
   "outputs": [],
   "source": [
    "manager.add_document(\n",
    "    Document(\n",
    "        id=\"§ 275.0-7\",\n",
    "        type=\"section\",\n",
    "content = \"\"\"\n",
    "§ 275.0-7 Small entities under the Investment Advisers Act for purposes of the Regulatory Flexibility Act.\n",
    "(a) For purposes of Commission rulemaking in accordance with the provisions of Chapter Six of the Administrative Procedure Act (5 U.S.C. 601 et seq.) and unless otherwise defined for purposes of a particular rulemaking proceeding, the term small business or small organization for purposes of the Investment Advisers Act of 1940 shall mean an investment adviser that:\n",
    "  (1) Has assets under management, as defined under Section 203A(a)(3) of the Act (15 U.S.C. 80b-3a(a)(2)) and reported on its annual updating amendment to Form ADV (17 CFR 279.1), of less than $25 million, or such higher amount as the Commission may by rule deem appropriate under Section 203A(a)(1)(A) of the Act (15 U.S.C. 80b-3a(a)(1)(A));\n",
    "  (2) Did not have total assets of $5 million or more on the last day of the most recent fiscal year; and\n",
    "  (3) Does not control, is not controlled by, and is not under common control with another investment adviser that has assets under management of $25 million or more (or such higher amount as the Commission may deem appropriate), or any person (other than a natural person) that had total assets of $5 million or more on the last day of the most recent fiscal year.\n",
    "(b) For purposes of this section:\n",
    "  (1) Control  means the power, directly or indirectly, to direct the management or policies of a person, whether through ownership of securities, by contract, or otherwise.\n",
    "    (i) A person is presumed to control a corporation if the person:\n",
    "      (A) Directly or indirectly has the right to vote 25 percent or more of a class of the corporation's voting securities; or\n",
    "      (B) Has the power to sell or direct the sale of 25 percent or more of a class of the corporation's voting securities.\n",
    "    (ii) A person is presumed to control a partnership if the person has the right to receive upon dissolution, or has contributed, 25 percent or more of the capital of the partnership.\n",
    "    (iii) A person is presumed to control a limited liability company (LLC) if the person:\n",
    "      (A) Directly or indirectly has the right to vote 25 percent or more of a class of the interests of the LLC;\n",
    "      (B) Has the right to receive upon dissolution, or has contributed, 25 percent or more of the capital of the LLC; or\n",
    "      (C) Is an elected manager of the LLC.\n",
    "    (iv) A person is presumed to control a trust if the person is a trustee or managing agent of the trust.\n",
    "  (2) Total assets  means the total assets as shown on the balance sheet of the investment adviser or other person described above under paragraph (a)(3) of this section, or the balance sheet of the investment adviser or such other person with its subsidiaries consolidated, whichever is larger.\n",
    "\"\"\"\n",
    "    )\n",
    ")"
   ]
  },
  {
   "cell_type": "markdown",
   "metadata": {
    "id": "RikOqvzYNI4h"
   },
   "source": [
    "### True tables\n",
    "\n",
    "True tables are annotated or \"golden\" datasets in which entities have been manually identified and labeled within the original source data.\n",
    "\n",
    "True tables for sectiona 275.0-2, 275.0-5 and 275.0-7"
   ]
  },
  {
   "cell_type": "markdown",
   "metadata": {
    "id": "KR_dlFGQNI4h"
   },
   "source": [
    "Load true table for P1 - Elements extraction and classification, terms, and verb symbols."
   ]
  },
  {
   "cell_type": "code",
   "execution_count": 20,
   "metadata": {
    "id": "hb7Vmh0ENI4h"
   },
   "outputs": [],
   "source": [
    "with open(f\"{config['DEFAULT_DATA_DIR']}/extract_p1_true_table.json\", 'r') as file:\n",
    "    data = json.load(file)\n",
    "\n",
    "    manager.add_document(\n",
    "        Document.model_validate(data[\"§ 275.0-2_P1|true_table\"])\n",
    "    )\n",
    "\n",
    "    manager.add_document(\n",
    "        Document.model_validate(data[\"§ 275.0-5_P1|true_table\"])\n",
    "    )\n",
    "\n",
    "    manager.add_document(\n",
    "        Document.model_validate(data[\"§ 275.0-7_P1|true_table\"])\n",
    "    )"
   ]
  },
  {
   "cell_type": "markdown",
   "metadata": {
    "id": "hbTcCzJ2NI4h"
   },
   "source": [
    "Load true table for P2 - Terms definition and synonyms."
   ]
  },
  {
   "cell_type": "code",
   "execution_count": 21,
   "metadata": {
    "id": "7qb0s6-ZNI4i"
   },
   "outputs": [],
   "source": [
    "with open(f\"{config['DEFAULT_DATA_DIR']}/extract_p2_true_table.json\", 'r') as file:\n",
    "    data = json.load(file)\n",
    "\n",
    "    manager.add_document(\n",
    "        Document.model_validate(data[\"§ 275.0-2_P2|true_table\"])\n",
    "    )\n",
    "\n",
    "    manager.add_document(\n",
    "        Document.model_validate(data[\"§ 275.0-5_P2|true_table\"])\n",
    "    )\n",
    "\n",
    "    manager.add_document(\n",
    "        Document.model_validate(data[\"§ 275.0-7_P2|true_table\"])\n",
    "    )"
   ]
  },
  {
   "cell_type": "markdown",
   "metadata": {
    "id": "dwtCq43uNI4i"
   },
   "source": [
    "### Save checkpoint"
   ]
  },
  {
   "cell_type": "code",
   "execution_count": 23,
   "metadata": {
    "id": "mShs2YxeNI4i"
   },
   "outputs": [
    {
     "name": "stderr",
     "output_type": "stream",
     "text": [
      "2024-11-05 13:31:06 - INFO - Checkpoint saved.\n"
     ]
    }
   ],
   "source": [
    "# Persist the state to a file\n",
    "save_checkpoint(filename=config[\"DEFAULT_CHECKPOINT_FILE\"], manager=manager)"
   ]
  },
  {
   "cell_type": "markdown",
   "metadata": {
    "id": "HHNlHaNnNI4k"
   },
   "source": [
    "## extract / classify elements"
   ]
  },
  {
   "cell_type": "markdown",
   "metadata": {
    "id": "nmaifPRPNI4k"
   },
   "source": [
    "### General functions and data structures\n",
    "\n",
    "Functions and data structures used in the notebook."
   ]
  },
  {
   "cell_type": "markdown",
   "metadata": {},
   "source": [
    "LLM model for extracting elements P1."
   ]
  },
  {
   "cell_type": "code",
   "execution_count": 24,
   "metadata": {
    "id": "6PSo1DCGNI4k"
   },
   "outputs": [],
   "source": [
    "class Term(BaseModel):\n",
    "    term: str = Field(..., description=\"The term is a word or a group of words that represents a specific concept, entity, or subject in a particular context\")\n",
    "    classification: str = Field(..., description=\"The classification of the term, either 'Common Noun' or 'Proper Noun'.\")\n",
    "\n",
    "class Element(BaseModel):\n",
    "    id: int = Field(..., description=\"A unique numeric identifier for each fact, fact type, or rule.\")\n",
    "    statement: str = Field(..., description=\"The full statement or phrase representing the fact, fact type, or rule.\")\n",
    "    terms: List[Term] = Field(..., description=\"A list of terms involved in the fact, fact type, or rule.\")\n",
    "    verb_symbols: List[str] = Field(..., description=\"A list of vers, verb phrases or prepositions connecting the terms.\")\n",
    "    classification: str = Field(..., description=\"Indicates whether the statement is classified as 'Fact', 'Fact Type', or 'Operative Rule'.\")\n",
    "    source: str = Field(..., description=\"The paragraph ID of the document where the fact, fact type, or rule is located (e.g., '(a)', '(b)(2)').\")\n",
    "\n",
    "class ElementsDocumentModel(BaseModel):\n",
    "    section: str = Field(..., description=\"The section ID of the document.\")\n",
    "    summary: str = Field(..., description=\"The summary of the document.\")\n",
    "    elements: List[Element] = Field(..., description=\"A list of facts, fact types, and rules extracted from the document.\")"
   ]
  },
  {
   "cell_type": "markdown",
   "metadata": {},
   "source": [
    "LLM model for extracting elements P2."
   ]
  },
  {
   "cell_type": "code",
   "execution_count": 25,
   "metadata": {
    "id": "LNCirQszNI4k"
   },
   "outputs": [],
   "source": [
    "class Item(BaseModel):\n",
    "    term: str = Field(..., description=\"The term is a word or a group of words that represents a specific concept, entity, or subject in a particular context\")\n",
    "    definition: Optional[str] = Field(None, description=\"Definition is a explanation or description of the meaning of the term.\")\n",
    "\n",
    "class TermsRelationship(BaseModel):\n",
    "    term_1: str = Field(..., description=\"First term in the relationship.\")\n",
    "    term_2: str = Field(..., description=\"Second term in the relationship.\")\n",
    "    relation: str = Field(..., description=\"The typrelationship between the terms.\")\n",
    "\n",
    "class TermsDocumentModel(BaseModel):\n",
    "    terms: List[Item] = Field(..., description=\"A list of terms.\")\n",
    "    terms_relationship: List[TermsRelationship] = Field(..., description=\"A list of relationships between terms.\")"
   ]
  },
  {
   "cell_type": "code",
   "execution_count": 26,
   "metadata": {
    "id": "01gkvNXtNI4l"
   },
   "outputs": [],
   "source": [
    "def extract_unique_terms(document: ElementsDocumentModel) -> List[str]:\n",
    "    \"\"\"\n",
    "    Extracts unique terms from the 'terms' attribute of elements within an ElementsDocumentModel instance.\n",
    "\n",
    "    Args:\n",
    "        document (ElementsDocumentModel): The document containing elements, each with a list of terms.\n",
    "\n",
    "    Returns:\n",
    "        List[str]: A list of unique terms found across all elements in the document.\n",
    "\n",
    "    This function iterates through each element of the document, accesses the terms list in each element, and collects\n",
    "    the unique terms. It uses a set to ensure that the terms are unique before converting it back to a list for the output.\n",
    "    \"\"\"\n",
    "\n",
    "    # Initialize a set to store unique terms\n",
    "    unique_terms: Set[str] = set()\n",
    "\n",
    "    # Loop through each element in the 'elements' list of the document\n",
    "    for element in document.elements:\n",
    "        # Loop through the 'terms' list in each element\n",
    "        for term_info in element.terms:\n",
    "            # Add the term to the set\n",
    "            unique_terms.add(term_info.term)\n",
    "\n",
    "    # Convert the set to a list and return it\n",
    "    return list(unique_terms)"
   ]
  },
  {
   "cell_type": "code",
   "execution_count": 27,
   "metadata": {
    "id": "_VofSvmjNI4v"
   },
   "outputs": [],
   "source": [
    "def remove_section_symbol(input_string: str) -> str:\n",
    "    \"\"\"\n",
    "    Removes the '§' symbol from the input string and trims whitespace.\n",
    "\n",
    "    Args:\n",
    "        input_string (str): The string from which to remove the '§' symbol.\n",
    "\n",
    "    Returns:\n",
    "        str: The cleaned string without the '§' symbol and leading/trailing whitespace.\n",
    "\n",
    "    Raises:\n",
    "        TypeError: If 'input_string' is not a string.\n",
    "    \"\"\"\n",
    "    if not isinstance(input_string, str):\n",
    "        raise TypeError(\"input_string must be a string\")\n",
    "    return input_string.replace(\"§\", \"\").strip()"
   ]
  },
  {
   "cell_type": "code",
   "execution_count": 28,
   "metadata": {},
   "outputs": [],
   "source": [
    "def signifier_sources(sources: list) -> list:\n",
    "    \"\"\"\n",
    "    Extract desgnations sources\n",
    "\n",
    "    Args:\n",
    "        sources (list): List of sources\n",
    "\n",
    "    Returns:\n",
    "        list: List of sources\n",
    "    \"\"\"\n",
    "    # Extract desgnations sources\n",
    "    sources_lst = []\n",
    "    for source in sources:\n",
    "        source_section = str(source.get(\"section\"))\n",
    "        source_paragraph = str(source.get(\"paragraph\"))\n",
    "        sources_lst.append(source_section + source_paragraph)\n",
    "    return sources_lst"
   ]
  },
  {
   "cell_type": "code",
   "execution_count": 29,
   "metadata": {},
   "outputs": [],
   "source": [
    "def transform_title_cased(input_string: str) -> str:\n",
    "    \"\"\"\n",
    "    Transform the input string to title case, which capitalizes the first letter of each word.\n",
    "\n",
    "    Args:\n",
    "        input_string (str): The string to transform.\n",
    "\n",
    "    Returns:\n",
    "        title_case_string (str): The transformed string.\n",
    "    \"\"\"\n",
    "    title_case_string = input_string.title()\n",
    "    # Remove all spaces\n",
    "    transformed_string = title_case_string.replace(\" \", \"\")\n",
    "    return transformed_string"
   ]
  },
  {
   "cell_type": "code",
   "execution_count": 30,
   "metadata": {},
   "outputs": [],
   "source": [
    "def normalize_ns_string(input_string: str) -> str:\n",
    "    \"\"\"\n",
    "    Transform the input string to title case, which capitalizes the first letter of each word.\n",
    "\n",
    "    Args:\n",
    "        input_string (str): The string to normalize.\n",
    "\n",
    "    Returns:\n",
    "        normalized_string (str): The normalized string.\n",
    "    \"\"\"\n",
    "    normalized_string = remove_section_symbol(input_string)\n",
    "\n",
    "    # Remove all spaces, change points and hyphens to underscores\n",
    "    return normalized_string.replace(\" \", \"\").replace(\"-\", \"_\").replace(\".\", \"_\")"
   ]
  },
  {
   "cell_type": "code",
   "execution_count": 31,
   "metadata": {},
   "outputs": [],
   "source": [
    "# TODO: Implement this function (Move to LAB 5)\n",
    "def upsert_fact_to_kg(conn, fact):\n",
    "    \"\"\"\n",
    "    Add a fact to the knowledge graph. If exists, replace it.\n",
    "    Context:\n",
    "        Facts build on concepts: Facts are statements or assertions about the relationships\n",
    "        between these concepts. They describe how terms relate to each other in specific ways.\n",
    "        Example \"A customer places an order.\".\n",
    "\n",
    "    Args:\n",
    "        conn (Connection): The connection to the knowledge graph database.\n",
    "        fact (str): The fact to add to the knowledge graph.\n",
    "\n",
    "    Returns:\n",
    "        True if the fact was added successfully, False otherwise.\n",
    "    \"\"\"\n",
    "    pass"
   ]
  },
  {
   "cell_type": "code",
   "execution_count": 32,
   "metadata": {},
   "outputs": [],
   "source": [
    "# TODO: Implement this function (Move to LAB 5)\n",
    "def upsert_rule_to_kg(conn: RepositoryConnection, fact:Dict[str, Any]) -> bool:\n",
    "    \"\"\"\n",
    "    Add a rule to the knowledge graph. If exists, replace it.\n",
    "\n",
    "    Context:\n",
    "        Rules build on facts: Rules are constructed based on these facts to enforce\n",
    "        certain conditions, constraints, or actions within the business.\n",
    "        Rules dictate what must or must not happen under certain circumstances by referencing\n",
    "        the relationships described by facts\n",
    "        Example \"A customer must not place more than one order at a time.\"\n",
    "    Args:\n",
    "        conn (RepositoryConnection): The connection to the knowledge graph database.\n",
    "        fact (str): The fact to add to the knowledge graph.\n",
    "\n",
    "    Returns:\n",
    "        True if the rule was added successfully, False otherwise.\n",
    "    \"\"\"\n",
    "    pass"
   ]
  },
  {
   "cell_type": "code",
   "execution_count": 33,
   "metadata": {},
   "outputs": [],
   "source": [
    "class Designation(BaseModel):\n",
    "    signifier: str\n",
    "    statement: str\n",
    "    concept_type: str\n",
    "    closeMatch: Optional[List[str]]\n",
    "    exactMatch: Optional[List[str]]\n",
    "    vocabulary_name: str\n",
    "    sources: Optional[List[str]]\n",
    "\n",
    "def upsert_designation_to_kg(conn: RepositoryConnection, designation: Designation) -> bool:\n",
    "    \"\"\"\n",
    "    Add a term to the knowledge graph. If exists, replace it.\n",
    "\n",
    "    Args:\n",
    "        conn (RepositoryConnection): The connection to the knowledge graph database.\n",
    "        term (Term): The term to add to the knowledge graph.\n",
    "\n",
    "    Returns:\n",
    "        True if the term was added successfully, False otherwise.\n",
    "    \"\"\"\n",
    "    signifier = designation.signifier\n",
    "    statement = designation.statement\n",
    "    designation_class = transform_title_cased(signifier)\n",
    "    concept_type = designation.concept_type\n",
    "    vocabulary_namespace = f\"cfr-sbvr:CFR_SBVR_{designation.vocabulary_name}_NS\"\n",
    "\n",
    "    if concept_type == \"IndividualNounConcept\":\n",
    "        designation_type = \"Name\"\n",
    "    else:\n",
    "        designation_type = \"Term\"\n",
    "\n",
    "    logger.info(f\"Format {signifier} to {designation_class}.\")\n",
    "\n",
    "    # Constructing closeMatch triples\n",
    "    close_matches_triples = \"\"\n",
    "    if designation.closeMatch:\n",
    "        for close_match in designation.closeMatch:\n",
    "            close_matches_triples += f\"sbvr:closeMatch {close_match} ;\\n\"\n",
    "\n",
    "    # Construct exactMatch triple if exactMatch is provided\n",
    "    exact_match_triples = \"\"\n",
    "    if designation.exactMatch:\n",
    "        for exact_match in designation.exactMatch:\n",
    "            exact_match_triples += f\"sbvr:exactMatch {exact_match} ;\\n\"\n",
    "\n",
    "    # Construct surces triple if sources is provided\n",
    "    sources_triples = \"\"\n",
    "    if designation.sources:\n",
    "        for source in designation.sources:\n",
    "            sources_triples += f'sbvr:referenceSupportsMeaning \"{source}\" ;\\n'\n",
    "\n",
    "    designation_upsert_query = f\"\"\"\n",
    "PREFIX sbvr: <https://www.omg.org/spec/SBVR/20190601#>\n",
    "PREFIX skos: <http://www.w3.org/2004/02/skos/core#>\n",
    "PREFIX xsd: <http://www.w3.org/2001/XMLSchema#>\n",
    "PREFIX cfr-sbvr: <http://cfr2sbvr.com/cfr#>\n",
    "\n",
    "WITH cfr-sbvr:CFR_SBVR\n",
    "DELETE {{\n",
    "    cfr-sbvr:{designation_class} ?p ?o .\n",
    "}}\n",
    "INSERT {{\n",
    "    cfr-sbvr:{designation_class} a sbvr:{designation_type},\n",
    "            sbvr:IntensionalDefinition,\n",
    "            sbvr:{concept_type} ;\n",
    "        sbvr:signifier \"{signifier}\" ;\n",
    "        {exact_match_triples}\n",
    "        {close_matches_triples}\n",
    "        {sources_triples}\n",
    "        sbvr:isImplicitlyUnderstood \"false\"^^xsd:boolean ;\n",
    "        sbvr:Statement \"{statement}\" ;\n",
    "        sbvr:designationIsInNamespace {vocabulary_namespace} .\n",
    "}}\n",
    "WHERE {{\n",
    "    # Match all existing triples related to {designation_class}\n",
    "    OPTIONAL {{ cfr-sbvr:{designation_class} ?p ?o . }}\n",
    "}}\n",
    "    \"\"\"\n",
    "\n",
    "    logger.debug(f\"SPARQL Query: {designation_upsert_query}\")\n",
    "\n",
    "    try:\n",
    "        conn.prepareUpdate(QueryLanguage.SPARQL, designation_upsert_query).evaluate()\n",
    "        logger.info(f\"Designation '{signifier}' upserted successfully.\")\n",
    "        return True\n",
    "    except Exception as e:\n",
    "        logger.error(f\"Failed to upsert designation {signifier}: {e}\")\n",
    "        return False"
   ]
  },
  {
   "cell_type": "markdown",
   "metadata": {},
   "source": [
    "**Create vocabulary** (Move to LAB 5)"
   ]
  },
  {
   "cell_type": "code",
   "execution_count": 34,
   "metadata": {
    "id": "xEn3b6oSNI4x"
   },
   "outputs": [],
   "source": [
    "def define_vocabulary(section_id: str, source_section: str) -> str:\n",
    "    \"\"\"\n",
    "    Determines the vocabulary section ID based on the term's source section.\n",
    "\n",
    "    Args:\n",
    "        section_id (str): The section ID of the current document.\n",
    "        source_section: The section id.\n",
    "\n",
    "    Returns:\n",
    "        str: The appropriate vocabulary section ID.\n",
    "\n",
    "    Raises:\n",
    "        KeyError: If 'source' or 'section' key is missing in the term.\n",
    "        TypeError: If 'section_id' is not a string or 'term' is not a dictionary.\n",
    "    \"\"\"\n",
    "\n",
    "    # if not isinstance(section_id, str):\n",
    "    #     raise TypeError(\"section_id must be a string\")\n",
    "    # if not isinstance(term, dict):\n",
    "    #     raise TypeError(\"term must be a dictionary\")\n",
    "    # if \"sources\" not in term or \"section\" not in term[\"source\"]:\n",
    "    #     raise KeyError(\"term must contain 'source' with 'section'\")\n",
    "\n",
    "    section_id = remove_section_symbol(section_id)\n",
    "\n",
    "    try:\n",
    "        term_section_id = remove_section_symbol(source_section)\n",
    "    except KeyError:\n",
    "        term_section_id = section_id\n",
    "\n",
    "    return section_id if term_section_id == section_id else term_section_id"
   ]
  },
  {
   "cell_type": "code",
   "execution_count": 35,
   "metadata": {},
   "outputs": [],
   "source": [
    "def create_vocabulary(conn: RepositoryConnection, vocabulary_name: str) -> bool:\n",
    "    \"\"\"\n",
    "    Create a new vocabulary in the knowledge graph.\n",
    "\n",
    "    Args:\n",
    "        conn (RepositoryConnection): The connection to the knowledge graph database.\n",
    "        vocabulary (str): The name of the vocabulary to create.\n",
    "\n",
    "    Returns:\n",
    "        True if the vocabulary was created successfully, False otherwise.\n",
    "    \"\"\"\n",
    "\n",
    "    query_remove_association = f\"\"\"\n",
    "PREFIX sbvr: <https://www.omg.org/spec/SBVR/20190601#>\n",
    "PREFIX skos: <http://www.w3.org/2004/02/skos/core#>\n",
    "PREFIX xsd: <http://www.w3.org/2001/XMLSchema#>\n",
    "PREFIX cfr-sbvr: <http://cfr2sbvr.com/cfr#>\n",
    "\n",
    "DELETE DATA {{\n",
    "GRAPH cfr-sbvr:CFR_SBVR {{\n",
    "    cfr-sbvr:CFR_SBVR_VOC sbvr:vocabulary1IncorporatesVocabulary2 cfr-sbvr:CFR_SBVR_{vocabulary_name}_VOC .\n",
    "}}\n",
    "}}\n",
    "    \"\"\"\n",
    "\n",
    "    query_add_triples = f\"\"\"\n",
    "PREFIX sbvr: <https://www.omg.org/spec/SBVR/20190601#>\n",
    "PREFIX skos: <http://www.w3.org/2004/02/skos/core#>\n",
    "PREFIX xsd: <http://www.w3.org/2001/XMLSchema#>\n",
    "PREFIX cfr-sbvr: <http://cfr2sbvr.com/cfr#>\n",
    "\n",
    "WITH cfr-sbvr:CFR_SBVR\n",
    "DELETE {{\n",
    "    cfr-sbvr:CFR_SBVR_{vocabulary_name}_VOC ?p ?o .\n",
    "}}\n",
    "\n",
    "INSERT {{\n",
    "    cfr-sbvr:CFR_SBVR_{vocabulary_name}_VOC\n",
    "        a owl:Class, sbvr:Vocabulary .\n",
    "}}\n",
    "WHERE {{\n",
    "    # Match all existing triples related to cfr-sbvr:CFR_SBVR_{vocabulary_name}_VOC\n",
    "    OPTIONAL {{ cfr-sbvr:CFR_SBVR_{vocabulary_name}_VOC ?p ?o . }}\n",
    "}}\n",
    "    \"\"\"\n",
    "\n",
    "    query_add_association = f\"\"\"\n",
    "PREFIX sbvr: <https://www.omg.org/spec/SBVR/20190601#>\n",
    "PREFIX skos: <http://www.w3.org/2004/02/skos/core#>\n",
    "PREFIX xsd: <http://www.w3.org/2001/XMLSchema#>\n",
    "PREFIX cfr-sbvr: <http://cfr2sbvr.com/cfr#>\n",
    "\n",
    "INSERT DATA {{\n",
    "GRAPH cfr-sbvr:CFR_SBVR {{\n",
    "    cfr-sbvr:CFR_SBVR_VOC sbvr:vocabulary1IncorporatesVocabulary2 cfr-sbvr:CFR_SBVR_{vocabulary_name}_VOC .\n",
    "}}\n",
    "}}\n",
    "    \"\"\"\n",
    "\n",
    "    logger.debug(f\"SPARQL Query: {query_remove_association}\")\n",
    "\n",
    "    logger.debug(f\"SPARQL Query: {query_add_triples}\")\n",
    "\n",
    "    logger.debug(f\"Vocabulary name: cfr-sbvr:CFR_SBVR_{vocabulary_name}_VOC\")\n",
    "\n",
    "    # Remove associated vocabulary\n",
    "    try:\n",
    "        conn.prepareUpdate(QueryLanguage.SPARQL, query_remove_association).evaluate()\n",
    "        logger.info(f\"Vocabulary {vocabulary_name} delete associated successfully.\")\n",
    "    except Exception as e:\n",
    "        logger.error(f\"Failed to delete associated vocabulary {vocabulary_name}: {e}\")\n",
    "\n",
    "    # create new vocabulary\n",
    "    try:\n",
    "        conn.prepareUpdate(QueryLanguage.SPARQL, query_add_triples).evaluate()\n",
    "        logger.info(f\"Vocabulary {vocabulary_name} created successfully.\")\n",
    "    except Exception as e:\n",
    "        logger.error(f\"Failed to create vocabulary {vocabulary_name}: {e}\")\n",
    "\n",
    "    # Add association with new vocabulary\n",
    "    try:\n",
    "        conn.prepareUpdate(QueryLanguage.SPARQL, query_add_association).evaluate()\n",
    "        logger.info(f\"Vocabulary {vocabulary_name} associated successfully.\")\n",
    "        return True\n",
    "    except Exception as e:\n",
    "        logger.error(f\"Failed to associate vocabulary {vocabulary_name}: {e}\")\n",
    "        return False\n"
   ]
  },
  {
   "cell_type": "code",
   "execution_count": 36,
   "metadata": {},
   "outputs": [],
   "source": [
    "def create_vocabulary_namespace(conn: RepositoryConnection, vocabulary_name: str) -> bool:\n",
    "    \"\"\"\n",
    "    Create a new vocabulary namespace in the knowledge graph.\n",
    "\n",
    "    Args:\n",
    "        conn (RepositoryConnection): The connection to the knowledge graph database.\n",
    "        vocabulary_namespace (str): The name of the vocabulary namespace to create.\n",
    "\n",
    "    Returns:\n",
    "        True if the vocabulary namespace was created successfully, False otherwise.\n",
    "    \"\"\"\n",
    "\n",
    "    query_remove_association = f\"\"\"\n",
    "PREFIX sbvr: <https://www.omg.org/spec/SBVR/20190601#>\n",
    "PREFIX skos: <http://www.w3.org/2004/02/skos/core#>\n",
    "PREFIX xsd: <http://www.w3.org/2001/XMLSchema#>\n",
    "PREFIX cfr-sbvr: <http://cfr2sbvr.com/cfr#>\n",
    "\n",
    "DELETE DATA {{\n",
    "GRAPH cfr-sbvr:CFR_SBVR {{\n",
    "    cfr-sbvr:CFR_SBVR_NS sbvr:namespace1IncorporatesNamespace2 cfr-sbvr:CFR_SBVR_{vocabulary_name}_NS .\n",
    "}}\n",
    "}}\n",
    "    \"\"\"\n",
    "\n",
    "    query_add_triples = f\"\"\"\n",
    "PREFIX sbvr: <https://www.omg.org/spec/SBVR/20190601#>\n",
    "PREFIX skos: <http://www.w3.org/2004/02/skos/core#>\n",
    "PREFIX xsd: <http://www.w3.org/2001/XMLSchema#>\n",
    "PREFIX cfr-sbvr: <http://cfr2sbvr.com/cfr#>\n",
    "PREFIX dct: <http://purl.org/dc/terms/>\n",
    "\n",
    "WITH cfr-sbvr:CFR_SBVR\n",
    "DELETE {{\n",
    "    cfr-sbvr:CFR_SBVR_{vocabulary_name}_NS ?p ?o .\n",
    "}}\n",
    "\n",
    "INSERT {{\n",
    "cfr-sbvr:CFR_SBVR_{vocabulary_name}_NS\n",
    "        a owl:Class, sbvr:VocabularyNamespace;\n",
    "    sbvr:namespaceHasURI <http://cfr2sbvr.com/cfr/CFR_SBVR_{vocabulary_name}_NS#> ;\n",
    "    sbvr:vocabularyIsExpressedInLanguage cfr-sbvr:EnglishLanguage ;\n",
    "    sbvr:vocabularyNamespaceIsDerivedFromVocabulary cfr-sbvr:CFR_SBVR_{vocabulary_name}_VOC ;\n",
    "    dct:title \"Semantics of Business Vocabulary and Business Rules (SBVR) for Code of Federal Regulations (CFR)\" ;\n",
    "    skos:definition \"SBVR-CFR is an adopted standard of the Object Management Group (OMG) intended to be the basis for formal and detailed natural language declarative description of CFR regulations\" ;\n",
    "    dct:source <https://github.com/asantos2000/dissertacao-santos-anderson-2024> .\n",
    "}}\n",
    "WHERE {{\n",
    "    # Match all existing triples related to cfr-sbvr:CFR_SBVR_{vocabulary_name}_NS\n",
    "    OPTIONAL {{ cfr-sbvr:CFR_SBVR_{vocabulary_name}_NS ?p ?o . }}\n",
    "}}\n",
    "    \"\"\"\n",
    "    query_add_association = f\"\"\"\n",
    "PREFIX sbvr: <https://www.omg.org/spec/SBVR/20190601#>\n",
    "PREFIX skos: <http://www.w3.org/2004/02/skos/core#>\n",
    "PREFIX xsd: <http://www.w3.org/2001/XMLSchema#>\n",
    "PREFIX cfr-sbvr: <http://cfr2sbvr.com/cfr#>\n",
    "\n",
    "INSERT DATA {{\n",
    "GRAPH cfr-sbvr:CFR_SBVR {{\n",
    "    cfr-sbvr:CFR_SBVR_NS sbvr:namespace1IncorporatesNamespace2 cfr-sbvr:CFR_SBVR_{vocabulary_name}_NS .\n",
    "}}\n",
    "}}\n",
    "    \"\"\"\n",
    "\n",
    "    logger.debug(f\"SPARQL Query: {query_remove_association}\")\n",
    "    logger.debug(f\"SPARQL Query: {query_add_triples}\")\n",
    "    logger.debug(f\"SPARQL Query: {query_add_association}\")\n",
    "\n",
    "    # Remove associated vocabulary\n",
    "    try:\n",
    "        conn.prepareUpdate(QueryLanguage.SPARQL, query_remove_association).evaluate()\n",
    "        logger.info(f\"Vocabulary {vocabulary_name} delete associated successfully.\")\n",
    "    except Exception as e:\n",
    "        logger.error(f\"Failed to delete associated vocabulary {vocabulary_name}: {e}\")\n",
    "\n",
    "    # create new vocabulary\n",
    "    try:\n",
    "        conn.prepareUpdate(QueryLanguage.SPARQL, query_add_triples).evaluate()\n",
    "        logger.info(f\"Vocabulary {vocabulary_name} created successfully.\")\n",
    "    except Exception as e:\n",
    "        logger.error(f\"Failed to create vocabulary {vocabulary_name}: {e}\")\n",
    "\n",
    "    # Add association with new vocabulary\n",
    "    try:\n",
    "        conn.prepareUpdate(QueryLanguage.SPARQL, query_add_association).evaluate()\n",
    "        logger.info(f\"Vocabulary {vocabulary_name} associated successfully.\")\n",
    "        return True\n",
    "    except Exception as e:\n",
    "        logger.error(f\"Failed to associate vocabulary {vocabulary_name}: {e}\")\n",
    "        return False"
   ]
  },
  {
   "cell_type": "markdown",
   "metadata": {},
   "source": [
    "**similarity search (P5)** (Move to LAB 5)\n",
    "\n",
    "Try a similarity search to find the entity in the graph. If not found, create a new entity and corresponding embedding. If exists, create a link between the two."
   ]
  },
  {
   "cell_type": "code",
   "execution_count": 37,
   "metadata": {},
   "outputs": [],
   "source": [
    "def get_from_kg(conn: RepositoryConnection, signifier: str, kg: str, vector_db: str) -> List[Dict[str, Any]]:\n",
    "    \"\"\"\n",
    "    Queries the knowledge graph to retrieve similar terms to the given term.\n",
    "\n",
    "    Args:\n",
    "        conn (RepositoryConnection): The AllegroGraph repository connection.\n",
    "        term (str): The term to search for similar terms in the knowledge graph.\n",
    "        kg (str): The name of the knowledge graph to query.\n",
    "\n",
    "    Returns:\n",
    "        List[Dict[str, Any]]: A list of dictionaries containing information about similar terms,\n",
    "        including URIs, scores, definitions, and related predicates.\n",
    "    \"\"\"\n",
    "\n",
    "    if kg not in {config[\"FIBO_GRAPH\"], config[\"CFR_SBVR_GRAPH\"]}:\n",
    "        raise ValueError(f\"Unsupported knowledge graph: {kg}\")\n",
    "\n",
    "    query_string = f\"\"\"\n",
    "PREFIX llm: <http://franz.com/ns/allegrograph/8.0.0/llm/>\n",
    "PREFIX fibo: <https://spec.edmcouncil.org/fibo/ontology/master/2024Q2/QuickFIBOProd#>\n",
    "PREFIX skos: <http://www.w3.org/2004/02/skos/core#>\n",
    "PREFIX cfr-sbvr: <http://cfr2sbvr.com/cfr#>\n",
    "PREFIX sbvr: <https://www.omg.org/spec/SBVR/20190601#>\n",
    "\n",
    "SELECT ?uri (xsd:decimal(?score) as ?score_percent) ?s ?p ?definition\n",
    "FROM {kg}\n",
    "WHERE {{\n",
    "    (?uri ?score ?originalText ?p) llm:nearestNeighbor (\"{signifier}\" \"{vector_db}\" 5 0.8) .\n",
    "    ?s ?p ?originalText .\n",
    "\n",
    "    OPTIONAL {{ ?s skos:definition ?definition . }}\n",
    "    OPTIONAL {{ ?s sbvr:Statement ?definition . }}\n",
    "}}\n",
    "ORDER BY DESC(?score)\n",
    "    \"\"\"\n",
    "\n",
    "    logger.debug(f\"SPARQL Query: {query_string}\")\n",
    "\n",
    "    tuple_query = conn.prepareTupleQuery(QueryLanguage.SPARQL, query_string)\n",
    "\n",
    "    try:\n",
    "        result = tuple_query.evaluate()\n",
    "        logger.debug(f\"Result metadata: {result.metadata}\")\n",
    "\n",
    "        with result:\n",
    "            similar_signifiers = [\n",
    "                {\n",
    "                    \"uri\": str(binding.getValue(\"uri\")),\n",
    "                    \"score_percent\": Decimal(binding.getValue(\"score_percent\").getLabel()),\n",
    "                    \"located_signifier_uri\": str(binding.getValue(\"s\")),\n",
    "                    \"located_signifier_uri_local_name\": binding.getValue(\"s\").getLocalName(),\n",
    "                    \"located_signifier_predicate\": str(binding.getValue(\"p\")),\n",
    "                    \"definition\": str(binding.getValue(\"definition\"))\n",
    "                }\n",
    "                for binding in result\n",
    "            ]\n",
    "    except Exception as e:\n",
    "        logger.error(f\"Error evaluating SPARQL query: {e}\")\n",
    "        raise\n",
    "\n",
    "    logger.info(f\"Found {len(similar_signifiers)} similar signifier(s) for '{signifier}' on {kg}.\")\n",
    "\n",
    "    return similar_signifiers"
   ]
  },
  {
   "cell_type": "code",
   "execution_count": 38,
   "metadata": {},
   "outputs": [],
   "source": [
    "def get_similar_signifiers(conn: RepositoryConnection, signifier: str) -> Tuple[list]:\n",
    "    \"\"\"\n",
    "    Get similar signifiers for a given signifier.\n",
    "\n",
    "    Args:\n",
    "        conn (allegrograph.AllegroGraphConnection): An AllegroGraph connection object.\n",
    "        signifier (str): The signifier to search for.\n",
    "\n",
    "    Returns:\n",
    "        list (Tuple[list]): A list of exact and close matches for the signifier.\n",
    "    \"\"\"\n",
    "    fibo_similarity =  get_from_kg(conn, signifier, config[\"FIBO_GRAPH\"], config[\"FIBO_GRAPH_VECTOR_STORE\"])\n",
    "    cfr_sbvr_similarity = get_from_kg(conn, signifier, config[\"CFR_SBVR_GRAPH\"], config[\"CFR_SBVR_GRAPH_VECTOR_STORE\"])\n",
    "\n",
    "    exact_match = []\n",
    "    close_match = []\n",
    "\n",
    "    for item in fibo_similarity:\n",
    "        if item[\"score_percent\"] > config[\"SIMILARITY_THRESHOLD\"]:\n",
    "            exact_match.append(item.get(\"located_signifier_uri\"))\n",
    "        else:\n",
    "            close_match.append(item.get(\"located_signifier_uri\"))\n",
    "\n",
    "    for item in cfr_sbvr_similarity:\n",
    "        if item[\"score_percent\"] > config[\"SIMILARITY_THRESHOLD\"]:\n",
    "            exact_match.append(item.get(\"located_signifier_uri\"))\n",
    "        else:\n",
    "            close_match.append(item.get(\"located_signifier_uri\"))\n",
    "\n",
    "    logger.info(f\"Found {len(exact_match)} exact matche(s) and {len(close_match)} close matche(s) for '{signifier}'.\")\n",
    "\n",
    "    return exact_match, close_match"
   ]
  },
  {
   "cell_type": "markdown",
   "metadata": {},
   "source": [
    "### Prompt engeneering\n",
    "\n",
    "Prompt strucuture is based on [1]. It is a zero-shot prompt following the concept of chain of thought.\n",
    "\n",
    "Following the approaches are taken."
   ]
  },
  {
   "cell_type": "markdown",
   "metadata": {
    "id": "IYbsDrCwNI4m"
   },
   "source": [
    "#### 1. facts and fact types\n",
    "Try to extract all facts and fact types from a given document.\n",
    "\n",
    "This approach has successful results. It is focused on extracting the elements, and achive the best results, similar to the approach 3."
   ]
  },
  {
   "cell_type": "code",
   "execution_count": 39,
   "metadata": {
    "id": "IYd3tmTJNI4m"
   },
   "outputs": [],
   "source": [
    "system_prompt_facts = \"\"\"\n",
    "\n",
    "You are tasked with extracting **facts**, **fact types**, and their **relationships** from a given document. Follow these steps carefully:\n",
    "\n",
    "#### Steps to Perform:\n",
    "\n",
    "1. **Identify Facts and Fact Types**:\n",
    "   - A **fact** is a specific instance or statement that describes an event or condition.\n",
    "   - A **fact type** is a general template or relationship that defines how entities interact.\n",
    "   - For each fact or fact type:\n",
    "     - Extract the **statement** that represents the fact or fact type.\n",
    "     - List the **terms** (Nouns or Proper nouns) involved in the fact or fact type.\n",
    "     - Identify the **fact symbols** (verbs, verb phrases, or prepositions) connecting the terms.\n",
    "     - Classify the statement as either a **Fact** or **Fact Type**.\n",
    "     - Note the section or paragraph where the fact or fact type appears as the **source**.\n",
    "\n",
    "2. **Classify Terms**:\n",
    "   - For each fact or fact type, classify all **terms**:\n",
    "     - Label each term as either a **Noun** or **Proper Noun**.\n",
    "   - Ensure that the terms are extracted accurately and classified correctly.\n",
    "\n",
    "3. **Define term**:\n",
    "   - For each term look in the document for the term definition. If the term definition is not found, use \"missing\".:\n",
    "\n",
    "4. **Identify Fact Symbols**:\n",
    "   - Extract the verbs or prepositions that define the relationships between the terms. These are referred to as **fact symbols**.\n",
    "   - Each fact or fact type should have a list of fact symbols.\n",
    "\n",
    "5. **Source Information**:\n",
    "   - Record the paragraph or section of the document where each fact or fact type is found as **source** information (e.g., “(a)(1)”, “(b)”).\n",
    "\n",
    "6. **Recognize Term Relationships**:\n",
    "   - Identify relationships between terms:\n",
    "     - **Synonyms**: Terms that can be used interchangeably without changing the meaning.\n",
    "     - **Hypernym-Hyponym**: A broader term (hypernym) that includes a more specific term (hyponym).\n",
    "   - For each pair of terms:\n",
    "     - Identify the relationship (either \"Synonym\" or \"Hypernym-Hyponym\").\n",
    "     - Ensure that both terms involved in the relationship are valid terms from the document.\n",
    "\n",
    "7. **Structure the Output in JSON Format**:\n",
    "   - Create a JSON object with the following structure:\n",
    "     - **facts_and_fact_types**: A list of dictionaries, where each dictionary contains:\n",
    "       - **id**: A unique identifier for the fact or fact type.\n",
    "       - **statement**: The extracted fact or fact type.\n",
    "       - **terms**: A list of dictionaries, where each dictionary has a term and its classification (either \"Noun\" or \"Proper Noun\").\n",
    "       - **fact_symbols**: A list of verb phrases or prepositions connecting the terms.\n",
    "       - **classification**: Either \"Fact\" or \"Fact Type\".\n",
    "       - **source**: The section or paragraph where the fact or fact type appears.\n",
    "     - **terms_relationship**: A list of dictionaries, where each dictionary contains:\n",
    "       - **terms**: A list of two related terms.\n",
    "       - **relation**: Either \"Synonym\" or \"Hypernym-Hyponym\".\n",
    "\n",
    "#### Example Output:\n",
    "\n",
    "```json\n",
    "{\n",
    "  \"facts_and_fact_types\": [\n",
    "    {\n",
    "      \"id\": 1,\n",
    "      \"statement\": \"A person serves a non-resident investment adviser by furnishing the Commission with process, pleadings, or papers.\",\n",
    "      \"terms\": [\n",
    "        {\"Person\": \"Noun\"},\n",
    "        {\"Non-resident investment adviser\": \"Noun\"},\n",
    "        {\"Commission\": \"Proper Noun\"},\n",
    "        {\"Process\": \"Noun\"},\n",
    "        {\"Pleadings\": \"Noun\"},\n",
    "        {\"Papers\": \"Noun\"}\n",
    "      ],\n",
    "      \"fact_symbols\": [\"serves\", \"by furnishing\", \"with\"],\n",
    "      \"classification\": \"Fact Type\",\n",
    "      \"source\": \"(a)\"\n",
    "    }\n",
    "  ],\n",
    "  \"terms_relationship\": [\n",
    "    {\n",
    "      \"terms\": [\n",
    "        \"Principal office\",\n",
    "        \"Place of business\"\n",
    "      ],\n",
    "      \"relation\": \"Synonym\"\n",
    "    }\n",
    "  ]\n",
    "}\n",
    "```\n",
    "\n",
    "#### Guidelines:\n",
    "- Be precise in identifying **terms** and **fact symbols**.\n",
    "- Classify the relationships between terms accurately as **Synonym** or **Hypernym-Hyponym**.\n",
    "- Ensure the final output adheres to the specified JSON structure.\n",
    "\n",
    "#### Start of the document\n",
    "\"\"\""
   ]
  },
  {
   "cell_type": "markdown",
   "metadata": {
    "id": "e_etiOBANI4m"
   },
   "source": [
    "#### 2. facts, fact types, rules, and terms with definitions\n",
    "\n",
    "Try to extract all facts, fact types, rules, and terms with definitions from a given document. Try to extract the relationships for each term  as well.\n",
    "\n",
    "**Results**\n",
    "\n",
    "The result are fairly consistent, but it failed to extract term's definitions, even when the definition was clear in the text, like in the document 275.0-7 from the fragment \"... the **term** small business or small organization for purposes of the Investment Advisers Act of 1940 shall **mean** an investment adviser that: ...\". The prompt failed to define small business and small organization, what are the main purpose of the document. It also failed to recognize that small business and small organization are synonyms."
   ]
  },
  {
   "cell_type": "code",
   "execution_count": 40,
   "metadata": {
    "id": "-rVsO4OGNI4m"
   },
   "outputs": [],
   "source": [
    "system_prompt_v1 = \"\"\"\n",
    "You are tasked with extracting **facts**, **fact types**, **rules**, and their **relationships** from a given document. Follow these steps carefully:\n",
    "\n",
    "<steps>\n",
    "\n",
    "1. Summarize the document. Use the summary to verify if all important facts, fact types, and rules are present.\n",
    "\n",
    "2. **Identify Facts, Fact Types, and Rules**:\n",
    "   - A **fact** is a specific instance or statement that describes an event or condition. Facts are statements of truth without any directive element. They are often associated with relationships between terms or entities. e.g., \"John works for X Inc.\".\n",
    "   - A **fact type** is a general, abstract template that describes the potential relationships between terms or entities. It serves as a model for generating specific facts. e.g., \"Person works for Company\".\n",
    "   - A **rule** rule is generally defined as a statement that governs or constrains some aspect of the business. It specifies what must be done or what is not allowed, often guiding actions, decisions, and behaviors within an organization. Rules enforce compliance, limit possibilities, or prescribe specific behaviors in response to business situations. e.g., \"A customer must provide identification before opening an account.\".\n",
    "   - For each fact, fact type, or rule:\n",
    "     - Extract the **statement** that represents the fact, fact type, or rule.\n",
    "     - List the **terms** involved in the fact, fact type, or rule.\n",
    "     - Identify the **verb symbols** (verbs, verb phrases, or prepositions) connecting the terms.\n",
    "     - Classify the statement as either a **Fact**, **Fact Type**, or **Rule**.\n",
    "     - Note the section or paragraph where the fact, fact type, or rule appears as the **source**.\n",
    "     - For each term look in the document for the term definition. If the term definition is not found, use \"missing\".:\n",
    "\n",
    "3. Classify Terms:\n",
    "   - For each fact, fact type, or rule classify all **terms**:\n",
    "     - Label each term as either a **Common Noun** or **Proper Noun**.\n",
    "   - Ensure that the terms are extracted accurately and classified correctly.\n",
    "\n",
    "4. Define term:\n",
    "   - For each term look in the document for the term definition, explaining, or meaning. If the term definition is not found, use \"missing\".:\n",
    "\n",
    "4. Identify Verb Symbols:\n",
    "   - Extract the verbs or prepositions that define the relationships between the terms. These are referred to as **verb symbols**.\n",
    "   - Each fact, fact type, or rule should have a list of verb symbols.\n",
    "\n",
    "5. Source Information:\n",
    "   - Record the paragraph or section of the document where each fact, fact type, or rule is found as **source** information (e.g., \"(a)(1)\", \"(b)\").\n",
    "\n",
    "6. Recognize term relationships:\n",
    "   - Identify relationships between terms:\n",
    "     - **Synonyms**: Terms that can be used interchangeably without changing the meaning.\n",
    "     - **Hypernym-Hyponym**: A broader term (hypernym) that includes a more specific term (hyponym).\n",
    "   - For each pair of terms:\n",
    "     - Identify the relationship (either \"Synonym\" or \"Hypernym-Hyponym\").\n",
    "     - Ensure that both terms involved in the relationship are valid terms from the document.\n",
    "\n",
    "7. Answer only with the output example structure in JSON format. All the values are optional.\n",
    "\n",
    "<output_example>\n",
    "\n",
    "```json\n",
    "{\n",
    "  \"section\": \"§ 123.4-5\",\n",
    "  \"elements\": [\n",
    "    {\n",
    "      \"id\": 1,\n",
    "      \"statement\": \"A person serves a non-resident investment adviser by furnishing the Commission with process, pleadings, or papers.\",\n",
    "      \"terms\": [\n",
    "        {\n",
    "            \"term\": \"Person\",\n",
    "            \"classification\": \"Noun\",\n",
    "            \"definition\": \"missing\"\n",
    "        },\n",
    "      ...\n",
    "      ],\n",
    "      \"verb_symbols\": [\"serves\", \"by furnishing\", \"with\"],\n",
    "      \"classification\": \"Fact Type\",\n",
    "      \"source\": \"(a)\"\n",
    "    }\n",
    "  ],\n",
    "  \"terms_relationship\": [\n",
    "    {\n",
    "      \"terms\": [\n",
    "        \"Principal office\",\n",
    "        \"Place of business\"\n",
    "      ],\n",
    "      \"relation\": \"Synonym\"\n",
    "    }\n",
    "  ]\n",
    "},\n",
    "...\n",
    "```\n",
    "</output_example>\n",
    "\n",
    "</steps>\n",
    "\"\"\""
   ]
  },
  {
   "cell_type": "markdown",
   "metadata": {
    "id": "11OuKtl7NI4m"
   },
   "source": [
    "The v2 is a variation of the v1, with more concise description of the steps, and changing the organization of the text. The results are the same, but there was miss classification of the statements."
   ]
  },
  {
   "cell_type": "code",
   "execution_count": 41,
   "metadata": {
    "id": "mVuECq_8NI4n"
   },
   "outputs": [],
   "source": [
    "system_prompt_v2 = \"\"\"\n",
    "Extract facts, fact types, and their relationships from a given document, and structure the output in a specified JSON format.\n",
    "\n",
    "Follow the steps to identify and classify statements, using document details to find definitions and source information.\n",
    "\n",
    "# Steps\n",
    "\n",
    "1. **Summarize the Document:**\n",
    "   - Provide a summary to ensure the completeness of identified facts, fact types, and rules.\n",
    "\n",
    "2. **Identify Facts, Fact Types, and Rules:**\n",
    "   - Define and extract each:\n",
    "     - **Fact:** Instance or statement of event/condition, e.g., \"John works for X Inc.\"\n",
    "     - **Fact Type:** Template for relationships, e.g., \"Person works for Company.\"\n",
    "     - **Rule:** Governing statement, e.g., \"A customer must provide identification before opening an account.\"\n",
    "   - For each, document:\n",
    "     - **Statement**\n",
    "     - **Terms** involved\n",
    "     - **Verb Symbols** connecting the terms\n",
    "     - **Classification** as Fact, Fact Type, or Rule\n",
    "     - **Source** paragraph or section in the document\n",
    "\n",
    "3. **Classify Terms:**\n",
    "   - Classify each term as **Common Noun** or **Proper Noun**.\n",
    "\n",
    "4. **Define Term:**\n",
    "   - Locate definitions for terms in the document, or mark as \"missing.\"\n",
    "\n",
    "5. **Identify Verb Symbols:**\n",
    "   - Extract verbs or prepositions (verb symbols) that define term relationships.\n",
    "\n",
    "6. **Source Information:**\n",
    "   - Note the document source (section/paragraph) for each statement.\n",
    "\n",
    "7. **Recognize Term Relationships:**\n",
    "   - Identify pairs of terms with relationships:\n",
    "     - **Synonyms:** interchangeable terms.\n",
    "     - **Hypernym-Hyponym:** broader (hypernym) includes more specific (hyponym).\n",
    "   - Ensure relationship validity using document terms.\n",
    "\n",
    "# Output Format\n",
    "\n",
    "Produce a structured JSON format based on the specified template. Ensure all necessary fields are populated accurately, even if some fields are optional or marked as \"missing\".\n",
    "\n",
    "# Examples\n",
    "\n",
    "**Example JSON Structure:**\n",
    "\n",
    "```json\n",
    "{\n",
    "  \"section\": \"§ 123.4-5\",\n",
    "  \"elements\": [\n",
    "    {\n",
    "      \"id\": 1,\n",
    "      \"statement\": \"A person serves a non-resident investment adviser by furnishing the Commission with process, pleadings, or papers.\",\n",
    "      \"terms\": [\n",
    "        {\n",
    "            \"term\": \"Person\",\n",
    "            \"classification\": \"Noun\",\n",
    "            \"definition\": \"missing\"\n",
    "        },\n",
    "        // Additional terms...\n",
    "      ],\n",
    "      \"verb_symbols\": [\"serves\", \"by furnishing\", \"with\"],\n",
    "      \"classification\": \"Fact Type\",\n",
    "      \"source\": \"(a)\"\n",
    "    }\n",
    "  ],\n",
    "  \"terms_relationship\": [\n",
    "    {\n",
    "      \"terms\": [\n",
    "        \"Principal office\",\n",
    "        \"Place of business\"\n",
    "      ],\n",
    "      \"relation\": \"Synonym\"\n",
    "    }\n",
    "  ]\n",
    "}\n",
    "```\n",
    "\n",
    "# Notes\n",
    "\n",
    "- Ensure extracted statements are fully detailed and clearly classified.\n",
    "- Pay careful attention to identifying and classifying terms accurately.\n",
    "- Follow the precise JSON format for all outputs, populating fields as required.\n",
    "\"\"\"\n"
   ]
  },
  {
   "cell_type": "markdown",
   "metadata": {
    "id": "Yw3NoyOdNI4n"
   },
   "source": [
    "The v3 is back to v1, changing the organization of the text.\n",
    "\n",
    "**Results**\n",
    "\n",
    "The results are the same of v1 and v2. 5 elements were extracted. 16 terms were extracted with 2 definitions."
   ]
  },
  {
   "cell_type": "code",
   "execution_count": 42,
   "metadata": {
    "id": "w9Cu0pLxNI4n"
   },
   "outputs": [],
   "source": [
    "system_prompt_v3 = \"\"\"\n",
    "You are tasked with extracting elements and **relationships** from a given legal document. Please follow these steps carefully and ensure all instructions are adhered to:\n",
    "\n",
    "**Steps**:\n",
    "\n",
    "1. **Summarize the document**:\n",
    "   - Summarize the document to understand its purpose and use it to verify if all important terms, term definitions, facts, fact types, and rules are identified in subsequent steps.\n",
    "\n",
    "2. **Identify Facts, Fact Types, and Rules**:\n",
    "   - **Definitions**:\n",
    "     - **Fact**: A specific instance or statement that describes an event or condition without any directive element. Facts often involve relationships between terms or entities. Example: \"John works for X Inc.\"\n",
    "     - **Fact Type**: A general, abstract template that describes potential relationships between terms or entities, serving as a model for generating specific facts. Example: \"Person works for Company.\"\n",
    "     - **Rule**: A statement that governs or constrains some aspect of the business, specifying what must be done or what is not allowed. Rules enforce compliance, limit possibilities, or prescribe specific behaviors in response to business situations. Example: \"A customer must provide identification before opening an account.\"\n",
    "   - **For each fact, fact type, or rule**:\n",
    "     - **Extract the statement**: Identify the exact statement or phrase from the document representing the fact, fact type, or rule.\n",
    "     - **Extract Terms**: List all the terms involved in the statement.\n",
    "     - **Extract Verb Symbols**: Identify verbs, verb phrases, or prepositions that connect the terms in the statement.\n",
    "     - **Classification**: Classify the statement as either a **Fact**, **Fact Type**, or **Rule**.\n",
    "     - **Source**: Note the specific paragraph or section of the document where the statement is found (e.g., \"(a)(1)\", \"(b)\").\n",
    "\n",
    "3. **Classify Terms**:\n",
    "   - For each term extracted classify it as either a **Common Noun** or a **Proper Noun**.\n",
    "\n",
    "4. **Define Terms**:\n",
    "   - For each term:\n",
    "     - Search the entire document for the term's definition, explanation, or meaning. Also, look in the document summary.\n",
    "     - If the definition is found, include it.\n",
    "     - If the definition is not found in the document, use **None**.\n",
    "\n",
    "5. **Identify Relationships Between Terms**:\n",
    "   - **Types of Relationships**:\n",
    "     - **Synonym**: Terms that can be used interchangeably without changing the meaning.\n",
    "     - **Hypernym-Hyponym**: A broader term (hypernym) that includes a more specific term (hyponym).\n",
    "   - **For each pair of terms in the document**:\n",
    "     - Identify if a relationship exists as either \"Synonym\" or \"Hypernym-Hyponym\".\n",
    "     - Only include relationships where both terms are present in the document.\n",
    "\n",
    "6. **Provide JSON Output**:\n",
    "   - Format your answer as per the output example below.\n",
    "   - **All values are optional**: Include as much information as is available based on the document.\n",
    "   - **Do not include any additional text or explanation outside the JSON structure**.\n",
    "\n",
    "**Output Example**:\n",
    "\n",
    "```json\n",
    "{\n",
    "  \"section\": \"§ 123.4-5\",\n",
    "  \"elements\": [\n",
    "    {\n",
    "      \"id\": 1,\n",
    "      \"statement\": \"A person serves a non-resident investment adviser by furnishing the Commission with process, pleadings, or papers.\",\n",
    "      \"terms\": [\n",
    "        {\n",
    "          \"term\": \"Person\",\n",
    "          \"classification\": \"Common Noun\",\n",
    "          \"definition\": \"An individual or legal entity.\"\n",
    "        },\n",
    "        {\n",
    "          \"term\": \"Non-resident investment adviser\",\n",
    "          \"classification\": \"Common Noun\",\n",
    "          \"definition\": null\n",
    "        },\n",
    "        ...\n",
    "      ],\n",
    "      \"verb_symbols\": [\"serves\", \"by furnishing\", \"with\"],\n",
    "      \"classification\": \"Fact Type\",\n",
    "      \"source\": \"(a)\"\n",
    "    },\n",
    "    ...\n",
    "  ],\n",
    "  \"terms_relationship\": [\n",
    "    {\n",
    "      \"terms\": [\n",
    "        \"Principal office\",\n",
    "        \"Place of business\"\n",
    "      ],\n",
    "      \"relation\": \"Synonym\"\n",
    "    },\n",
    "    {\n",
    "      \"terms\": [\n",
    "        \"Person\",\n",
    "        \"Individual\"\n",
    "      ],\n",
    "      \"relation\": \"Synonym\"\n",
    "    },\n",
    "    ...\n",
    "  ]\n",
    "}\n",
    "```\n",
    "\"\"\""
   ]
  },
  {
   "cell_type": "code",
   "execution_count": 43,
   "metadata": {
    "id": "ZAlVXStZNI4n"
   },
   "outputs": [],
   "source": [
    "response_prompt_v3 = {\n",
    "  \"section\": \"§ 275.0-7\",\n",
    "  \"elements\": [\n",
    "    {\n",
    "      \"id\": 1,\n",
    "      \"statement\": \"An investment adviser that has assets under management of less than $25 million is considered a small business for the purposes of the Investment Advisers Act of 1940.\",\n",
    "      \"terms\": [\n",
    "        {\n",
    "          \"term\": \"Investment adviser\",\n",
    "          \"classification\": \"Common Noun\",\n",
    "          \"definition\": None\n",
    "        },\n",
    "        {\n",
    "          \"term\": \"Assets under management\",\n",
    "          \"classification\": \"Common Noun\",\n",
    "          \"definition\": None\n",
    "        },\n",
    "        {\n",
    "          \"term\": \"$25 million\",\n",
    "          \"classification\": \"Proper Noun\",\n",
    "          \"definition\": None\n",
    "        },\n",
    "        {\n",
    "          \"term\": \"Small business\",\n",
    "          \"classification\": \"Common Noun\",\n",
    "          \"definition\": None\n",
    "        }\n",
    "      ],\n",
    "      \"verb_symbols\": [\"has\", \"is considered\"],\n",
    "      \"classification\": \"Fact Type\",\n",
    "      \"source\": \"(a)(1)\"\n",
    "    },\n",
    "    {\n",
    "      \"id\": 2,\n",
    "      \"statement\": \"An investment adviser is considered a small organization if it did not have total assets of $5 million or more on the last day of the most recent fiscal year.\",\n",
    "      \"terms\": [\n",
    "        {\n",
    "          \"term\": \"Investment adviser\",\n",
    "          \"classification\": \"Common Noun\",\n",
    "          \"definition\": None\n",
    "        },\n",
    "        {\n",
    "          \"term\": \"Total assets\",\n",
    "          \"classification\": \"Common Noun\",\n",
    "          \"definition\": None\n",
    "        },\n",
    "        {\n",
    "          \"term\": \"$5 million\",\n",
    "          \"classification\": \"Proper Noun\",\n",
    "          \"definition\": None\n",
    "        },\n",
    "        {\n",
    "          \"term\": \"Small organization\",\n",
    "          \"classification\": \"Common Noun\",\n",
    "          \"definition\": None\n",
    "        },\n",
    "        {\n",
    "          \"term\": \"Fiscal year\",\n",
    "          \"classification\": \"Common Noun\",\n",
    "          \"definition\": None\n",
    "        }\n",
    "      ],\n",
    "      \"verb_symbols\": [\"did not have\", \"is considered\"],\n",
    "      \"classification\": \"Fact Type\",\n",
    "      \"source\": \"(a)(2)\"\n",
    "    },\n",
    "    {\n",
    "      \"id\": 3,\n",
    "      \"statement\": \"An investment adviser is not considered a small business if it controls, is controlled by, or is under common control with another investment adviser that has assets under management of $25 million or more.\",\n",
    "      \"terms\": [\n",
    "        {\n",
    "          \"term\": \"Investment adviser\",\n",
    "          \"classification\": \"Common Noun\",\n",
    "          \"definition\": None\n",
    "        },\n",
    "        {\n",
    "          \"term\": \"Control\",\n",
    "          \"classification\": \"Common Noun\",\n",
    "          \"definition\": \"The power, directly or indirectly, to direct the management or policies of a person.\"\n",
    "        },\n",
    "        {\n",
    "          \"term\": \"Common control\",\n",
    "          \"classification\": \"Common Noun\",\n",
    "          \"definition\": None\n",
    "        },\n",
    "        {\n",
    "          \"term\": \"$25 million\",\n",
    "          \"classification\": \"Proper Noun\",\n",
    "          \"definition\": None\n",
    "        },\n",
    "        {\n",
    "          \"term\": \"Small business\",\n",
    "          \"classification\": \"Common Noun\",\n",
    "          \"definition\": None\n",
    "        }\n",
    "      ],\n",
    "      \"verb_symbols\": [\"controls\", \"is controlled by\", \"is under\"],\n",
    "      \"classification\": \"Rule\",\n",
    "      \"source\": \"(a)(3)\"\n",
    "    },\n",
    "    {\n",
    "      \"id\": 4,\n",
    "      \"statement\": \"Control means the power, directly or indirectly, to direct the management or policies of a person, whether through ownership of securities, by contract, or otherwise.\",\n",
    "      \"terms\": [\n",
    "        {\n",
    "          \"term\": \"Control\",\n",
    "          \"classification\": \"Common Noun\",\n",
    "          \"definition\": \"The power, directly or indirectly, to direct the management or policies of a person.\"\n",
    "        },\n",
    "        {\n",
    "          \"term\": \"Person\",\n",
    "          \"classification\": \"Common Noun\",\n",
    "          \"definition\": None\n",
    "        },\n",
    "        {\n",
    "          \"term\": \"Securities\",\n",
    "          \"classification\": \"Common Noun\",\n",
    "          \"definition\": None\n",
    "        },\n",
    "        {\n",
    "          \"term\": \"Contract\",\n",
    "          \"classification\": \"Common Noun\",\n",
    "          \"definition\": None\n",
    "        }\n",
    "      ],\n",
    "      \"verb_symbols\": [\"means\", \"to direct\", \"whether through\"],\n",
    "      \"classification\": \"Fact\",\n",
    "      \"source\": \"(b)(1)\"\n",
    "    },\n",
    "    {\n",
    "      \"id\": 5,\n",
    "      \"statement\": \"A person is presumed to control a corporation if the person has the right to vote 25 percent or more of a class of the corporation's voting securities.\",\n",
    "      \"terms\": [\n",
    "        {\n",
    "          \"term\": \"Person\",\n",
    "          \"classification\": \"Common Noun\",\n",
    "          \"definition\": None\n",
    "        },\n",
    "        {\n",
    "          \"term\": \"Corporation\",\n",
    "          \"classification\": \"Common Noun\",\n",
    "          \"definition\": None\n",
    "        },\n",
    "        {\n",
    "          \"term\": \"Voting securities\",\n",
    "          \"classification\": \"Common Noun\",\n",
    "          \"definition\": None\n",
    "        },\n",
    "        {\n",
    "          \"term\": \"25 percent\",\n",
    "          \"classification\": \"Proper Noun\",\n",
    "          \"definition\": None\n",
    "        }\n",
    "      ],\n",
    "      \"verb_symbols\": [\"is presumed\", \"to control\", \"has the right to vote\"],\n",
    "      \"classification\": \"Fact Type\",\n",
    "      \"source\": \"(b)(1)(i)(A)\"\n",
    "    }\n",
    "  ],\n",
    "  \"terms_relationship\": [\n",
    "    {\n",
    "      \"terms\": [\n",
    "        \"Investment adviser\",\n",
    "        \"Small business\"\n",
    "      ],\n",
    "      \"relation\": \"Hypernym-Hyponym\"\n",
    "    },\n",
    "    {\n",
    "      \"terms\": [\n",
    "        \"Investment adviser\",\n",
    "        \"Small organization\"\n",
    "      ],\n",
    "      \"relation\": \"Hypernym-Hyponym\"\n",
    "    }\n",
    "  ]\n",
    "}\n"
   ]
  },
  {
   "cell_type": "code",
   "execution_count": 44,
   "metadata": {},
   "outputs": [
    {
     "name": "stderr",
     "output_type": "stream",
     "text": [
      "2024-11-05 13:31:07 - INFO - Checkpoint restored from ../data/checkpoints/documents-2024-11-05-1.json.\n"
     ]
    }
   ],
   "source": [
    "# Restore checkpoint\n",
    "manager = restore_checkpoint(filename=config[\"DEFAULT_CHECKPOINT_FILE\"])"
   ]
  },
  {
   "cell_type": "code",
   "execution_count": 45,
   "metadata": {
    "id": "9RbFwEuKNI4n",
    "outputId": "26898624-5bd6-4f75-e038-2fb4a21aec68"
   },
   "outputs": [
    {
     "data": {
      "text/plain": [
       "(5, 2)"
      ]
     },
     "execution_count": 45,
     "metadata": {},
     "output_type": "execute_result"
    }
   ],
   "source": [
    "len(response_prompt_v3[\"elements\"]), len(response_prompt_v3[\"terms_relationship\"])"
   ]
  },
  {
   "cell_type": "markdown",
   "metadata": {
    "id": "WH-K-o0pNI4o"
   },
   "source": [
    "#### 3. facts, fact types, rules, and terms\n",
    "\n",
    "Try to extract all facts, fact types, rules, and terms without definitions from a given document, and do not try to extract the relationships for each term.\n",
    "\n",
    "This approach is very similar to the approach used in the previous, but it is more focused on extracting the elements. It is divided in two parts:\n",
    "- Extract the elements\n",
    "- Extract the definitions and relationships\n",
    "\n",
    "**Results**\n",
    "\n",
    "The result are consistents, 7 elements and 21 terms with definitions are extracted. in contrast, the previous approach, 5 elements and 16 terms with 2 definitions were extracted. An improvement of 40% extracting facts and rules, 31% extracting terms, and 1050% extracting definitions."
   ]
  },
  {
   "cell_type": "markdown",
   "metadata": {
    "id": "f4Sn9a3VNI4o"
   },
   "source": [
    "ts are extracted in the first part. For the second part the result are much better than the previous approach, more definitions and relationships are extracted."
   ]
  },
  {
   "cell_type": "markdown",
   "metadata": {
    "id": "1TZ-V3rONI4o"
   },
   "source": [
    "The prompt for the first part is similar to the previous one, but without the steps 4 and 5. The definition and relationships elements are removed from the output json.\n",
    "\n",
    "> The summary of the document was added to the output json."
   ]
  },
  {
   "cell_type": "code",
   "execution_count": 46,
   "metadata": {
    "id": "XgGnT0BJNI4o"
   },
   "outputs": [],
   "source": [
    "system_prompt_v4_1 = \"\"\"\n",
    "You are tasked with extracting elements from a given legal document. Please follow these steps carefully and ensure all instructions are adhered to:\n",
    "\n",
    "# Steps\n",
    "\n",
    "1. **Summarize the document** to understand its purpose and use it to verify if all important terms,facts, fact types, and rules are identified in subsequent steps.\n",
    "\n",
    "2. **Identify elements**:\n",
    "   - **About the elements**:\n",
    "     - **Fact**: A specific instance or statement that describes an event or condition without any directive element. Facts often involve relationships between terms or entities. Example: \"John works for X Inc.\"\n",
    "     - **Fact Type**: A general, abstract template that describes potential relationships between terms or entities, serving as a model for generating specific facts. Example: \"Person works for Company.\"\n",
    "     - **Operative Rule**: A statement that governs or constrains some aspect of the business, specifying what must be done or what is not allowed. Rules enforce compliance, limit possibilities, or prescribe specific behaviors in response to business situations. Operative rules (otherwise known as normative rules or prescriptive rules) state what must or must not happen in particular circumstances. Operative rules can be contravened: required information may be omitted, inappropriate information supplied, or an attempt may be made to perform a process that is prohibited. Example: \"A customer must provide identification before opening an account.\"\n",
    "     - **Term**: A word or a group of words that represents a specific concept, entity, or subject in a particular context.\n",
    "     - Terms, Fact, Fact Type, and Operative Rule are statements that should allow only full compliance or full contravention; partial compliance is not possible. The presence of \"or\" or \"and\" often suggests the need to separate a statement into two.\n",
    "   - **For each fact, fact type, or rule**:\n",
    "     - **Extract the statement**: Identify the exact statement or phrase from the document representing the fact, fact type, or rule.\n",
    "     - **Extract and classify Terms**:\n",
    "       - **Extract all the terms involved in the statement.\n",
    "       - **Classify each term** as either **Common Noun** or **Proper Noun**.\n",
    "       - If a Term contains nouns separated by \"and,\" \",\", or \"or,\" split it into two or more terms. For example, \"Principal office and place of business\" should be split into \"Principal office\" and \"Place of business\".\n",
    "     - **Extract Verb Symbols**: Identify verbs, verb phrases, or prepositions that connect the terms in the statement.\n",
    "     - **Classification**: Classify the statement as either a **Fact**, **Fact Type**, or **Rule**.\n",
    "     - **Source**: Note the specific paragraph or section of the document where the statement is found (e.g., \"(a)(1)\", \"(b)\").\n",
    "\n",
    "3. **Provide JSON Output**:\n",
    "   - Format your answer as per the output example below.\n",
    "   - **All values are optional**: Include as much information as is available based on the document.\n",
    "   - **Do not include any additional text or explanation outside the JSON structure**.\n",
    "\n",
    "**Output Example**:\n",
    "\n",
    "```json\n",
    "{\n",
    "  \"section\": \"§ 123.4-5\",\n",
    "  \"elements\": [\n",
    "    {\n",
    "      \"id\": 1,\n",
    "      \"statement\": \"A person serves a non-resident investment adviser by furnishing the Commission with process, pleadings, or papers.\",\n",
    "      \"terms\": [\n",
    "        {\n",
    "          \"term\": \"Person\",\n",
    "          \"classification\": \"Common Noun\"\n",
    "        },\n",
    "        {\n",
    "          \"term\": \"Non-resident investment adviser\",\n",
    "          \"classification\": \"Common Noun\"\n",
    "        },\n",
    "        ...\n",
    "      ],\n",
    "      \"verb_symbols\": [\"serves\", \"by furnishing\", \"with\"],\n",
    "      \"classification\": \"Fact Type\",\n",
    "      \"source\": \"(a)\"\n",
    "    },\n",
    "    ...\n",
    "  ]\n",
    "}\n",
    "```\n",
    "\"\"\""
   ]
  },
  {
   "cell_type": "code",
   "execution_count": 47,
   "metadata": {
    "id": "_Nx9JcGzNI4o"
   },
   "outputs": [],
   "source": [
    "response_prompt_v4_1 = {\n",
    "  \"section\": \"§ 275.0-7\",\n",
    "  \"summary\": \"The definition of small entities under the Investment Advisers Act for the purposes of the Regulatory Flexibility Act. It details criteria for qualifying as a small business or organization and provides definitions for 'control' and 'total assets' within this context.\",\n",
    "  \"elements\": [\n",
    "    {\n",
    "      \"id\": 1,\n",
    "      \"statement\": \"The term small business or small organization for purposes of the Investment Advisers Act of 1940 shall mean an investment adviser that has assets under management of less than $25 million.\",\n",
    "      \"terms\": [\n",
    "        {\n",
    "          \"term\": \"Small business\",\n",
    "          \"classification\": \"Common Noun\"\n",
    "        },\n",
    "        {\n",
    "          \"term\": \"Small organization\",\n",
    "          \"classification\": \"Common Noun\"\n",
    "        },\n",
    "        {\n",
    "          \"term\": \"Investment adviser\",\n",
    "          \"classification\": \"Common Noun\"\n",
    "        },\n",
    "        {\n",
    "          \"term\": \"Assets under management\",\n",
    "          \"classification\": \"Common Noun\"\n",
    "        },\n",
    "        {\n",
    "          \"term\": \"$25 million\",\n",
    "          \"classification\": \"Common Noun\"\n",
    "        }\n",
    "      ],\n",
    "      \"verb_symbols\": [\"mean\", \"has\"],\n",
    "      \"classification\": \"Fact\",\n",
    "      \"source\": \"(a)(1)\"\n",
    "    },\n",
    "    {\n",
    "      \"id\": 2,\n",
    "      \"statement\": \"An investment adviser did not have total assets of $5 million or more on the last day of the most recent fiscal year.\",\n",
    "      \"terms\": [\n",
    "        {\n",
    "          \"term\": \"Investment adviser\",\n",
    "          \"classification\": \"Common Noun\"\n",
    "        },\n",
    "        {\n",
    "          \"term\": \"Total assets\",\n",
    "          \"classification\": \"Common Noun\"\n",
    "        },\n",
    "        {\n",
    "          \"term\": \"$5 million\",\n",
    "          \"classification\": \"Common Noun\"\n",
    "        },\n",
    "        {\n",
    "          \"term\": \"Fiscal year\",\n",
    "          \"classification\": \"Common Noun\"\n",
    "        }\n",
    "      ],\n",
    "      \"verb_symbols\": [\"did not have\"],\n",
    "      \"classification\": \"Fact\",\n",
    "      \"source\": \"(a)(2)\"\n",
    "    },\n",
    "    {\n",
    "      \"id\": 3,\n",
    "      \"statement\": \"An investment adviser does not control, is not controlled by, and is not under common control with another investment adviser that has assets under management of $25 million or more.\",\n",
    "      \"terms\": [\n",
    "        {\n",
    "          \"term\": \"Investment adviser\",\n",
    "          \"classification\": \"Common Noun\"\n",
    "        },\n",
    "        {\n",
    "          \"term\": \"Control\",\n",
    "          \"classification\": \"Common Noun\"\n",
    "        },\n",
    "        {\n",
    "          \"term\": \"$25 million\",\n",
    "          \"classification\": \"Common Noun\"\n",
    "        }\n",
    "      ],\n",
    "      \"verb_symbols\": [\"does not control\", \"is not controlled by\", \"is not under common control with\"],\n",
    "      \"classification\": \"Fact\",\n",
    "      \"source\": \"(a)(3)\"\n",
    "    },\n",
    "    {\n",
    "      \"id\": 4,\n",
    "      \"statement\": \"Control means the power, directly or indirectly, to direct the management or policies of a person, whether through ownership of securities, by contract, or otherwise.\",\n",
    "      \"terms\": [\n",
    "        {\n",
    "          \"term\": \"Control\",\n",
    "          \"classification\": \"Common Noun\"\n",
    "        },\n",
    "        {\n",
    "          \"term\": \"Power\",\n",
    "          \"classification\": \"Common Noun\"\n",
    "        },\n",
    "        {\n",
    "          \"term\": \"Management\",\n",
    "          \"classification\": \"Common Noun\"\n",
    "        },\n",
    "        {\n",
    "          \"term\": \"Policies\",\n",
    "          \"classification\": \"Common Noun\"\n",
    "        },\n",
    "        {\n",
    "          \"term\": \"Person\",\n",
    "          \"classification\": \"Common Noun\"\n",
    "        }\n",
    "      ],\n",
    "      \"verb_symbols\": [\"means\", \"to direct\"],\n",
    "      \"classification\": \"Fact Type\",\n",
    "      \"source\": \"(b)(1)\"\n",
    "    },\n",
    "    {\n",
    "      \"id\": 5,\n",
    "      \"statement\": \"A person is presumed to control a corporation if the person directly or indirectly has the right to vote 25 percent or more of a class of the corporation's voting securities.\",\n",
    "      \"terms\": [\n",
    "        {\n",
    "          \"term\": \"Person\",\n",
    "          \"classification\": \"Common Noun\"\n",
    "        },\n",
    "        {\n",
    "          \"term\": \"Corporation\",\n",
    "          \"classification\": \"Common Noun\"\n",
    "        },\n",
    "        {\n",
    "          \"term\": \"Voting securities\",\n",
    "          \"classification\": \"Common Noun\"\n",
    "        },\n",
    "        {\n",
    "          \"term\": \"25 percent\",\n",
    "          \"classification\": \"Common Noun\"\n",
    "        }\n",
    "      ],\n",
    "      \"verb_symbols\": [\"is presumed to control\", \"has the right to vote\"],\n",
    "      \"classification\": \"Operative Rule\",\n",
    "      \"source\": \"(b)(1)(i)(A)\"\n",
    "    },\n",
    "    {\n",
    "      \"id\": 6,\n",
    "      \"statement\": \"A person is presumed to control a partnership if the person has the right to receive upon dissolution, or has contributed, 25 percent or more of the capital of the partnership.\",\n",
    "      \"terms\": [\n",
    "        {\n",
    "          \"term\": \"Person\",\n",
    "          \"classification\": \"Common Noun\"\n",
    "        },\n",
    "        {\n",
    "          \"term\": \"Partnership\",\n",
    "          \"classification\": \"Common Noun\"\n",
    "        },\n",
    "        {\n",
    "          \"term\": \"Dissolution\",\n",
    "          \"classification\": \"Common Noun\"\n",
    "        },\n",
    "        {\n",
    "          \"term\": \"Capital\",\n",
    "          \"classification\": \"Common Noun\"\n",
    "        },\n",
    "        {\n",
    "          \"term\": \"25 percent\",\n",
    "          \"classification\": \"Common Noun\"\n",
    "        }\n",
    "      ],\n",
    "      \"verb_symbols\": [\"is presumed to control\", \"has the right to receive\", \"has contributed\"],\n",
    "      \"classification\": \"Operative Rule\",\n",
    "      \"source\": \"(b)(1)(ii)\"\n",
    "    },\n",
    "    {\n",
    "      \"id\": 7,\n",
    "      \"statement\": \"Total assets means the total assets as shown on the balance sheet of the investment adviser or other person with its subsidiaries consolidated, whichever is larger.\",\n",
    "      \"terms\": [\n",
    "        {\n",
    "          \"term\": \"Total assets\",\n",
    "          \"classification\": \"Common Noun\"\n",
    "        },\n",
    "        {\n",
    "          \"term\": \"Balance sheet\",\n",
    "          \"classification\": \"Common Noun\"\n",
    "        },\n",
    "        {\n",
    "          \"term\": \"Investment adviser\",\n",
    "          \"classification\": \"Common Noun\"\n",
    "        },\n",
    "        {\n",
    "          \"term\": \"Subsidiaries\",\n",
    "          \"classification\": \"Common Noun\"\n",
    "        }\n",
    "      ],\n",
    "      \"verb_symbols\": [\"means\", \"shown on\"],\n",
    "      \"classification\": \"Fact Type\",\n",
    "      \"source\": \"(b)(2)\"\n",
    "    }\n",
    "  ]\n",
    "}"
   ]
  },
  {
   "cell_type": "code",
   "execution_count": 48,
   "metadata": {
    "id": "pAeHJIQMNI4o",
    "outputId": "42727107-5854-48b7-aad7-d79a1a4f05d0"
   },
   "outputs": [
    {
     "data": {
      "text/plain": [
       "7"
      ]
     },
     "execution_count": 48,
     "metadata": {},
     "output_type": "execute_result"
    }
   ],
   "source": [
    "len(response_prompt_v4_1[\"elements\"])"
   ]
  },
  {
   "cell_type": "markdown",
   "metadata": {
    "id": "3QnYsgEmNI4p"
   },
   "source": [
    "The steps 4 and 5 are adapted from the previous approach. The system prompt for the second part is:"
   ]
  },
  {
   "cell_type": "code",
   "execution_count": 49,
   "metadata": {
    "id": "_c11rygwNI4p"
   },
   "outputs": [],
   "source": [
    "system_prompt_v4_2 = \"\"\"\n",
    "You are tasked with extracting definitions and **relationships** of terms in the terms list searching a given legal document. Please follow these steps carefully and ensure all instructions are adhered to:\n",
    "\n",
    "# Steps\n",
    "\n",
    "1. **Summarize the document** to understand its purpose and use it to verify if all important terms, term definitions, facts, fact types, and rules are identified in subsequent steps.\n",
    "\n",
    "2. **Define terms**:\n",
    "  - For each term:\n",
    "    - Search the entire document for the term's definition, explanation, or meaning. Also, look in the document summary.\n",
    "    - If the definition is found, include it.\n",
    "    - If the definition is not found in the document, use null.\n",
    "\n",
    "3. **Identify synonym relationships between terms**:\n",
    "  - For each term in the terms list:\n",
    "    - Compare it against other terms in the text to find synonyms.\n",
    "    - Ensure both terms exist within the same document context.\n",
    "  - List all valid synonym pairs identified.\n",
    "\n",
    "4. **Provide JSON Output**:\n",
    "  - Format your answer as per the output example below.\n",
    "  - **All values are optional**: Include as much information as is available based on the document.\n",
    "  - **Do not include any additional text or explanation outside the JSON structure**.\n",
    "\n",
    "**Output Example**:\n",
    "\n",
    "```json\n",
    "{\n",
    "  \"terms\": [\n",
    "    {\n",
    "      \"term\": \"Person\",\n",
    "      \"definition\": \"A person is a person.\"\n",
    "    },\n",
    "    {\n",
    "      \"term\": \"Capital\",\n",
    "      \"definition\": \"The total assets of a person.\"\n",
    "    },\n",
    "    ...\n",
    "  ],\n",
    "  \"relationships\": [\n",
    "    {\n",
    "      \"term_1\": \"Person\",\n",
    "      \"term_2\": \"Capital\",\n",
    "      \"relationship\": \"Synonym\"\n",
    "    },\n",
    "    {\n",
    "      \"term_1\": \"Capital\",\n",
    "      \"term_2\": \"Person\",\n",
    "      \"relationship\": \"Synonym\"\n",
    "    },\n",
    "    ...\n",
    "  ]\n",
    "}\n",
    "\"\"\""
   ]
  },
  {
   "cell_type": "markdown",
   "metadata": {
    "id": "fUj0qs56NI4p"
   },
   "source": [
    "In the \"user prompt\", along with the document, a unique list of terms from the result of the previous part, is provided. The drawback of this approach is the document needs to be provided again. It means spending more tokens."
   ]
  },
  {
   "cell_type": "markdown",
   "metadata": {
    "id": "YXzRGbC-NI4p"
   },
   "source": [
    "As commented above, the output is better than the previous approach. 21 terms are extracted with definitions, and 6 relationships are identified. More important that the terms small business, and, small organization are extracted."
   ]
  },
  {
   "cell_type": "code",
   "execution_count": 50,
   "metadata": {
    "id": "5sU6fhaPNI4p"
   },
   "outputs": [],
   "source": [
    "response_prompt_v4_2 = {\n",
    "  \"terms\": [\n",
    "    {\n",
    "      \"term\": \"$5 million\",\n",
    "      \"definition\": \"An amount referenced as a threshold for total assets of an investment adviser or other entity on the last day of the most recent fiscal year.\"\n",
    "    },\n",
    "    {\n",
    "      \"term\": \"Control\",\n",
    "      \"definition\": \"The power, directly or indirectly, to direct the management or policies of a person, whether through ownership of securities, by contract, or otherwise.\"\n",
    "    },\n",
    "    {\n",
    "      \"term\": \"Capital\",\n",
    "      \"definition\": \"The amount of financial contribution or investment in a partnership or LLC, particularly relevant to the right to receive upon dissolution or contribution of 25 percent or more.\"\n",
    "    },\n",
    "    {\n",
    "      \"term\": \"Dissolution\",\n",
    "      \"definition\": \"The act of formally ending a partnership or LLC, at which point capital contributions may be distributed.\"\n",
    "    },\n",
    "    {\n",
    "      \"term\": \"25 percent\",\n",
    "      \"definition\": \"A threshold used to presume control over a corporation, partnership, or LLC, based on ownership, voting rights, or capital contribution.\"\n",
    "    },\n",
    "    {\n",
    "      \"term\": \"Subsidiaries\",\n",
    "      \"definition\": \"Companies that are controlled by another company, typically through ownership of more than 50% of the subsidiary’s voting stock.\"\n",
    "    },\n",
    "    {\n",
    "      \"term\": \"Management\",\n",
    "      \"definition\": \"The act of overseeing and controlling the policies or operations of an entity.\"\n",
    "    },\n",
    "    {\n",
    "      \"term\": \"Corporation\",\n",
    "      \"definition\": \"A legal entity that is presumed to be controlled if a person has the right to vote or sell 25 percent or more of its voting securities.\"\n",
    "    },\n",
    "    {\n",
    "      \"term\": \"Balance sheet\",\n",
    "      \"definition\": \"A financial statement that reports total assets, used to determine control and asset thresholds for investment advisers.\"\n",
    "    },\n",
    "    {\n",
    "      \"term\": \"Assets under management\",\n",
    "      \"definition\": \"The total market value of investments that an investment adviser manages on behalf of clients.\"\n",
    "    },\n",
    "    {\n",
    "      \"term\": \"$25 million\",\n",
    "      \"definition\": \"An amount referenced as a threshold for assets under management to determine whether an entity qualifies as a small business or small organization under the Investment Advisers Act.\"\n",
    "    },\n",
    "    {\n",
    "      \"term\": \"Fiscal year\",\n",
    "      \"definition\": \"A one-year period used for accounting purposes and preparing financial statements, relevant to determining total assets.\"\n",
    "    },\n",
    "    {\n",
    "      \"term\": \"Voting securities\",\n",
    "      \"definition\": \"Securities that give the holder the right to vote on matters of corporate policy or management, used to determine control.\"\n",
    "    },\n",
    "    {\n",
    "      \"term\": \"Power\",\n",
    "      \"definition\": \"The ability to influence or direct the management or policies of a person or entity, often associated with control.\"\n",
    "    },\n",
    "    {\n",
    "      \"term\": \"Total assets\",\n",
    "      \"definition\": \"The total value of all assets as shown on an entity's balance sheet, including those of subsidiaries, used to assess financial thresholds.\"\n",
    "    },\n",
    "    {\n",
    "      \"term\": \"Investment adviser\",\n",
    "      \"definition\": \"An individual or firm that manages the investments of clients, subject to regulations under the Investment Advisers Act of 1940.\"\n",
    "    },\n",
    "    {\n",
    "      \"term\": \"Person\",\n",
    "      \"definition\": \"An individual, corporation, partnership, LLC, trust, or other entity, potentially subject to control rules under the Investment Advisers Act.\"\n",
    "    },\n",
    "    {\n",
    "      \"term\": \"Small business\",\n",
    "      \"definition\": \"An investment adviser with less than $25 million in assets under management and less than $5 million in total assets, or as otherwise defined by the Commission.\"\n",
    "    },\n",
    "    {\n",
    "      \"term\": \"Partnership\",\n",
    "      \"definition\": \"A business structure where control is presumed if a person owns or contributes 25 percent or more of the partnership's capital.\"\n",
    "    },\n",
    "    {\n",
    "      \"term\": \"Small organization\",\n",
    "      \"definition\": \"An entity, such as an investment adviser, that qualifies as a small business under the Investment Advisers Act by meeting specific asset thresholds.\"\n",
    "    },\n",
    "    {\n",
    "      \"term\": \"Policies\",\n",
    "      \"definition\": \"The principles or rules governing the management and control of an entity, relevant to determining control under the Investment Advisers Act.\"\n",
    "    }\n",
    "  ],\n",
    "  \"relationships\": [\n",
    "    {\n",
    "      \"term_1\": \"Small business\",\n",
    "      \"term_2\": \"Small organization\",\n",
    "      \"relationship\": \"Synonym\"\n",
    "    },\n",
    "    {\n",
    "      \"term_1\": \"$5 million\",\n",
    "      \"term_2\": \"Total assets\",\n",
    "      \"relationship\": \"Hypernym-Hyponym\"\n",
    "    },\n",
    "    {\n",
    "      \"term_1\": \"$25 million\",\n",
    "      \"term_2\": \"Assets under management\",\n",
    "      \"relationship\": \"Hypernym-Hyponym\"\n",
    "    },\n",
    "    {\n",
    "      \"term_1\": \"Person\",\n",
    "      \"term_2\": \"Corporation\",\n",
    "      \"relationship\": \"Hypernym-Hyponym\"\n",
    "    },\n",
    "    {\n",
    "      \"term_1\": \"Person\",\n",
    "      \"term_2\": \"Partnership\",\n",
    "      \"relationship\": \"Hypernym-Hyponym\"\n",
    "    },\n",
    "    {\n",
    "      \"term_1\": \"Person\",\n",
    "      \"term_2\": \"Investment adviser\",\n",
    "      \"relationship\": \"Hypernym-Hyponym\"\n",
    "    }\n",
    "  ]\n",
    "}\n"
   ]
  },
  {
   "cell_type": "code",
   "execution_count": 51,
   "metadata": {
    "id": "mKC7ggC6NI4p",
    "outputId": "78ec7265-41f3-4f09-f238-3bb129592452"
   },
   "outputs": [
    {
     "data": {
      "text/plain": [
       "(21, 6)"
      ]
     },
     "execution_count": 51,
     "metadata": {},
     "output_type": "execute_result"
    }
   ],
   "source": [
    "len(response_prompt_v4_2[\"terms\"]), len(response_prompt_v4_2[\"relationships\"])"
   ]
  },
  {
   "cell_type": "markdown",
   "metadata": {
    "id": "3mSGRAKiNI4p"
   },
   "source": [
    "#### Save checkpoint"
   ]
  },
  {
   "cell_type": "markdown",
   "metadata": {
    "id": "OCxr7w8dNI4q"
   },
   "source": [
    "Define which prompt will be used in the experiment."
   ]
  },
  {
   "cell_type": "code",
   "execution_count": 52,
   "metadata": {
    "id": "6-9OhOkHNI4q"
   },
   "outputs": [],
   "source": [
    "# TODO: Refactor name to system_prompt_extract_P1 and use the function above\n",
    "system_prompt_extract_part_1 = system_prompt_v4_1\n",
    "system_prompt_extract_part_2 = system_prompt_v4_2\n",
    "\n",
    "manager.add_document(\n",
    "    Document(\n",
    "        id=\"prompt-extract_P1\",\n",
    "        type=\"prompt\",\n",
    "        content=f\"\"\"\n",
    "{system_prompt_extract_part_1}\n",
    "        \"\"\",\n",
    "    )\n",
    ")\n",
    "\n",
    "manager.add_document(\n",
    "    Document(\n",
    "        id=\"prompt-extract_P2\",\n",
    "        type=\"prompt\",\n",
    "        content=f\"\"\"\n",
    "{system_prompt_extract_part_2}\n",
    "        \"\"\",\n",
    "    )\n",
    ")"
   ]
  },
  {
   "cell_type": "code",
   "execution_count": 53,
   "metadata": {
    "id": "wxqNhEMYNI4q",
    "outputId": "7dbd96ba-fed3-40a9-a551-763e378af027"
   },
   "outputs": [
    {
     "name": "stderr",
     "output_type": "stream",
     "text": [
      "2024-11-05 13:31:08 - INFO - Checkpoint saved.\n"
     ]
    }
   ],
   "source": [
    "# Persist the state to a file\n",
    "save_checkpoint(filename=config[\"DEFAULT_CHECKPOINT_FILE\"], manager=manager)"
   ]
  },
  {
   "cell_type": "markdown",
   "metadata": {},
   "source": [
    "### Execution"
   ]
  },
  {
   "cell_type": "markdown",
   "metadata": {},
   "source": [
    "#### Restore checkpoint"
   ]
  },
  {
   "cell_type": "code",
   "execution_count": 54,
   "metadata": {
    "id": "KKjeZ3wVNI4q",
    "outputId": "7e3b9c94-3f93-4cf9-dad4-d6a07e1c54cd"
   },
   "outputs": [
    {
     "name": "stderr",
     "output_type": "stream",
     "text": [
      "2024-11-05 13:31:08 - INFO - Checkpoint restored from ../data/checkpoints/documents-2024-11-05-1.json.\n"
     ]
    }
   ],
   "source": [
    "manager = restore_checkpoint(filename=config[\"DEFAULT_CHECKPOINT_FILE\"])"
   ]
  },
  {
   "cell_type": "markdown",
   "metadata": {
    "id": "IhX_VNGgNI4q",
    "jp-MarkdownHeadingCollapsed": true
   },
   "source": [
    "#### extract and classify elements\n",
    "\n",
    "- Classify statements in the document;\n",
    "- Extract terms and verb symbols;\n",
    "- Classify terms."
   ]
  },
  {
   "cell_type": "code",
   "execution_count": 55,
   "metadata": {
    "id": "90H-4KDjNI4q",
    "outputId": "99d46cee-40fd-4304-c775-5740885c0671"
   },
   "outputs": [
    {
     "name": "stderr",
     "output_type": "stream",
     "text": [
      "2024-11-05 13:31:08 - INFO - Processing document: § 275.0-2\n",
      "2024-11-05 13:31:08 - INFO - P1. Extracting elements...\n"
     ]
    },
    {
     "name": "stderr",
     "output_type": "stream",
     "text": [
      "2024-11-05 13:31:36 - INFO - HTTP Request: POST https://api.openai.com/v1/chat/completions \"HTTP/1.1 200 OK\"\n",
      "2024-11-05 13:31:36 - INFO - Execution time for query_instruct_llm: 28.03 seconds\n",
      "2024-11-05 13:31:36 - INFO - P2. Extracting terms and relationships...\n",
      "2024-11-05 13:31:47 - INFO - HTTP Request: POST https://api.openai.com/v1/chat/completions \"HTTP/1.1 200 OK\"\n",
      "2024-11-05 13:31:47 - INFO - Execution time for query_instruct_llm: 8.09 seconds\n",
      "2024-11-05 13:31:47 - INFO - Saving llm_response to checkpoint...\n",
      "2024-11-05 13:31:47 - INFO - Checkpoint saved.\n",
      "2024-11-05 13:31:47 - INFO - Processing document: § 275.0-5\n",
      "2024-11-05 13:31:47 - INFO - P1. Extracting elements...\n",
      "2024-11-05 13:32:05 - INFO - HTTP Request: POST https://api.openai.com/v1/chat/completions \"HTTP/1.1 200 OK\"\n",
      "2024-11-05 13:32:05 - INFO - Execution time for query_instruct_llm: 18.40 seconds\n",
      "2024-11-05 13:32:05 - INFO - P2. Extracting terms and relationships...\n",
      "2024-11-05 13:32:22 - INFO - HTTP Request: POST https://api.openai.com/v1/chat/completions \"HTTP/1.1 200 OK\"\n",
      "2024-11-05 13:32:22 - INFO - Execution time for query_instruct_llm: 13.51 seconds\n",
      "2024-11-05 13:32:22 - INFO - Saving llm_response to checkpoint...\n",
      "2024-11-05 13:32:22 - INFO - Checkpoint saved.\n",
      "2024-11-05 13:32:22 - INFO - Processing document: § 275.0-7\n",
      "2024-11-05 13:32:22 - INFO - P1. Extracting elements...\n",
      "2024-11-05 13:32:52 - INFO - HTTP Request: POST https://api.openai.com/v1/chat/completions \"HTTP/1.1 200 OK\"\n",
      "2024-11-05 13:32:52 - INFO - Execution time for query_instruct_llm: 27.59 seconds\n",
      "2024-11-05 13:32:52 - INFO - P2. Extracting terms and relationships...\n",
      "2024-11-05 13:33:14 - INFO - HTTP Request: POST https://api.openai.com/v1/chat/completions \"HTTP/1.1 200 OK\"\n",
      "2024-11-05 13:33:14 - INFO - Execution time for query_instruct_llm: 21.53 seconds\n",
      "2024-11-05 13:33:14 - INFO - Saving llm_response to checkpoint...\n",
      "2024-11-05 13:33:14 - INFO - Checkpoint saved.\n",
      "2024-11-05 13:33:14 - INFO - Finished processing documents.\n"
     ]
    }
   ],
   "source": [
    "for doc in manager.list_document_ids(doc_type=\"section\"):\n",
    "    logger.info(f\"Processing document: {doc}\")\n",
    "    retrieved_doc = manager.retrieve_document(doc_id=doc, doc_type=\"section\")\n",
    "\n",
    "    # Part 1 - Extraction of elements\n",
    "    # TODO: Refactor to a function. Put it in the prompt engeering section\n",
    "    user_prompt = f\"\"\"\n",
    "# Document\n",
    "\n",
    "{manager.retrieve_document(doc_id=doc, doc_type=\"section\").content}\n",
    "    \"\"\"\n",
    "\n",
    "    logger.info(\"P1. Extracting elements...\")\n",
    "    response_part_1 = query_instruct_llm(\n",
    "        system_prompt=system_prompt_extract_part_1,\n",
    "        user_prompt=user_prompt,\n",
    "        document_model=ElementsDocumentModel,\n",
    "        llm_model=config[\"LLM\"][\"MODEL\"],\n",
    "        temperature=config[\"LLM\"][\"TEMPERATURE\"],\n",
    "        max_tokens=config[\"LLM\"][\"MAX_TOKENS\"],\n",
    "    )\n",
    "\n",
    "    logger.debug(response_part_1)\n",
    "\n",
    "    doc_1 = Document(id=f\"{doc}_P1\", type=\"llm_response\", content=response_part_1)\n",
    "    manager.add_document(doc_1)\n",
    "\n",
    "    # Part 2 - Definition of terms and relationships\n",
    "\n",
    "    terms_list_part_1 = extract_unique_terms(response_part_1)\n",
    "\n",
    "    user_prompt = f\"\"\"\n",
    "# Terms list\n",
    "\n",
    "{terms_list_part_1}\n",
    "\n",
    "# Document\n",
    "{manager.retrieve_document(doc_id=doc, doc_type=\"section\").content}\n",
    "    \"\"\"\n",
    "\n",
    "    logger.info(\"P2. Extracting terms and relationships...\")\n",
    "\n",
    "    response_part_2 = query_instruct_llm(\n",
    "        system_prompt=system_prompt_extract_part_2,\n",
    "        user_prompt=user_prompt,\n",
    "        document_model=TermsDocumentModel,\n",
    "        llm_model=config[\"LLM\"][\"MODEL\"],\n",
    "        temperature=config[\"LLM\"][\"TEMPERATURE\"],\n",
    "        max_tokens=config[\"LLM\"][\"MAX_TOKENS\"],\n",
    "    )\n",
    "\n",
    "    logger.debug(response_part_2)\n",
    "\n",
    "    doc_2 = Document(id=f\"{doc}_P2\", type=\"llm_response\", content=response_part_2)\n",
    "    manager.add_document(doc_2)\n",
    "\n",
    "    logger.info(\"Saving llm_response to checkpoint...\")\n",
    "\n",
    "    # Save each document to save money.\n",
    "    save_checkpoint(filename=config[\"DEFAULT_CHECKPOINT_FILE\"], manager=manager)\n",
    "\n",
    "logger.info(\"Finished processing documents.\")"
   ]
  },
  {
   "cell_type": "markdown",
   "metadata": {
    "id": "JiWIfLLLNI4q"
   },
   "source": [
    "Avarage execution time: 32s / per document."
   ]
  },
  {
   "cell_type": "markdown",
   "metadata": {
    "id": "beCnjH-9NI4r"
   },
   "source": [
    "#### Restore checkpoint"
   ]
  },
  {
   "cell_type": "code",
   "execution_count": 56,
   "metadata": {
    "id": "rP4unlYlNI4r"
   },
   "outputs": [
    {
     "name": "stderr",
     "output_type": "stream",
     "text": [
      "2024-11-05 13:33:14 - INFO - Checkpoint restored from ../data/checkpoints/documents-2024-11-05-1.json.\n"
     ]
    }
   ],
   "source": [
    "# Restore checkpoint\n",
    "manager = restore_checkpoint(filename=config[\"DEFAULT_CHECKPOINT_FILE\"])"
   ]
  },
  {
   "cell_type": "markdown",
   "metadata": {},
   "source": [
    "#### Check the content of datasets"
   ]
  },
  {
   "cell_type": "code",
   "execution_count": 57,
   "metadata": {},
   "outputs": [
    {
     "name": "stderr",
     "output_type": "stream",
     "text": [
      "2024-11-05 13:33:14 - INFO - SECTIONS:\n",
      "2024-11-05 13:33:14 - INFO - section docs: ['§ 275.0-2', '§ 275.0-5', '§ 275.0-7']\n",
      "2024-11-05 13:33:14 - INFO - § 275.0-2: Total number of lines: 14, total number of words: 362, and average words per line: 26\n",
      "2024-11-05 13:33:14 - INFO - § 275.0-5: Total number of lines: 10, total number of words: 260, and average words per line: 26\n",
      "2024-11-05 13:33:14 - INFO - § 275.0-7: Total number of lines: 19, total number of words: 513, and average words per line: 27\n",
      "2024-11-05 13:33:14 - INFO - Processing document: § 275.0-2_P1 ...\n",
      "2024-11-05 13:33:14 - INFO - retrieve P1\n",
      "2024-11-05 13:33:14 - INFO - Processing document: § 275.0-5_P1 ...\n",
      "2024-11-05 13:33:14 - INFO - retrieve P1\n",
      "2024-11-05 13:33:14 - INFO - Processing document: § 275.0-7_P1 ...\n",
      "2024-11-05 13:33:14 - INFO - retrieve P1\n",
      "2024-11-05 13:33:14 - INFO - Processing document: § 275.0-2_P2 ...\n",
      "2024-11-05 13:33:14 - INFO - retrieve P2\n",
      "2024-11-05 13:33:14 - INFO - Processing document: § 275.0-5_P2 ...\n",
      "2024-11-05 13:33:14 - INFO - retrieve P2\n",
      "2024-11-05 13:33:14 - INFO - Processing document: § 275.0-7_P2 ...\n",
      "2024-11-05 13:33:14 - INFO - retrieve P2\n"
     ]
    }
   ],
   "source": [
    "logger.info(\"SECTIONS:\")\n",
    "# List all document ids | type\n",
    "logger.info(f\"section docs: {manager.list_document_ids(doc_type='section')}\")\n",
    "\n",
    "# Retrieve a document by id | type\n",
    "for doc in manager.list_document_ids(doc_type=\"section\"):\n",
    "    retrieved_doc = manager.retrieve_document(doc_id=doc, doc_type=\"section\")\n",
    "    logger.debug(retrieved_doc)\n",
    "    lines, words, avg_words_per_line = basic_text_stats(retrieved_doc.content)\n",
    "    logger.info(\n",
    "        f\"{doc}: Total number of lines: {lines}, total number of words: {words}, and average words per line: {avg_words_per_line}\"\n",
    "    )\n",
    "\n",
    "retrieved_true_table_p1 = []\n",
    "retrieved_true_table_p2 = []\n",
    "\n",
    "for doc in manager.list_document_ids(doc_type=\"true_table\"):\n",
    "    logger.info(f\"Processing document: {doc} ...\")\n",
    "    # Docs type true_table P1\n",
    "    if doc.endswith(\"_P1\"):\n",
    "        retrieved_true_table_p1.append(\n",
    "            calculate_content_quantities_p1(\n",
    "                doc,\n",
    "                manager.retrieve_document(\n",
    "                    doc_id=doc, doc_type=\"true_table\"\n",
    "                ).model_dump()[\"content\"],\n",
    "                filename=\"p1_true_table.json\",\n",
    "            )\n",
    "        )\n",
    "        logger.info(\"retrieve P1\")\n",
    "    # Docs type true_table P2\n",
    "    elif doc.endswith(\"_P2\"):\n",
    "        retrieved_true_table_p2.append(\n",
    "            calculate_content_quantities_p2(\n",
    "                doc,\n",
    "                manager.retrieve_document(\n",
    "                    doc_id=doc, doc_type=\"true_table\"\n",
    "                ).model_dump(),\n",
    "                filename=\"p2_true_table.json\",\n",
    "            )\n",
    "        )\n",
    "        logger.info(\"retrieve P2\")\n",
    "\n",
    "# Convert collected data to a DataFrame\n",
    "table_true_df_p1 = pd.DataFrame(retrieved_true_table_p1)\n",
    "table_true_df_p2 = pd.DataFrame(retrieved_true_table_p2)\n",
    "\n",
    "# Save DataFrames to CSV if needed\n",
    "table_true_df_p1.to_excel(f\"{config['DEFAULT_OUTPUT_DIR']}/P1_summary_true_table.xlsx\", index=False)\n",
    "table_true_df_p2.to_excel(f\"{config['DEFAULT_OUTPUT_DIR']}/P2_summary_true_table.xlsx\", index=False)"
   ]
  },
  {
   "cell_type": "markdown",
   "metadata": {},
   "source": [
    "True table for P1."
   ]
  },
  {
   "cell_type": "code",
   "execution_count": 58,
   "metadata": {},
   "outputs": [
    {
     "data": {
      "text/html": [
       "<div>\n",
       "<style scoped>\n",
       "    .dataframe tbody tr th:only-of-type {\n",
       "        vertical-align: middle;\n",
       "    }\n",
       "\n",
       "    .dataframe tbody tr th {\n",
       "        vertical-align: top;\n",
       "    }\n",
       "\n",
       "    .dataframe thead th {\n",
       "        text-align: right;\n",
       "    }\n",
       "</style>\n",
       "<table border=\"1\" class=\"dataframe\">\n",
       "  <thead>\n",
       "    <tr style=\"text-align: right;\">\n",
       "      <th></th>\n",
       "      <th>document_id</th>\n",
       "      <th>quantity_of_elements</th>\n",
       "      <th>quantity_of_facts</th>\n",
       "      <th>quantity_of_fact_types</th>\n",
       "      <th>quantity_of_rules</th>\n",
       "      <th>quantity_of_verbs</th>\n",
       "      <th>quantity_of_terms</th>\n",
       "      <th>filename</th>\n",
       "    </tr>\n",
       "  </thead>\n",
       "  <tbody>\n",
       "    <tr>\n",
       "      <th>0</th>\n",
       "      <td>§ 275.0-2_P1</td>\n",
       "      <td>9</td>\n",
       "      <td>0</td>\n",
       "      <td>7</td>\n",
       "      <td>0</td>\n",
       "      <td>20</td>\n",
       "      <td>64</td>\n",
       "      <td>p1_true_table.json</td>\n",
       "    </tr>\n",
       "    <tr>\n",
       "      <th>1</th>\n",
       "      <td>§ 275.0-5_P1</td>\n",
       "      <td>5</td>\n",
       "      <td>0</td>\n",
       "      <td>1</td>\n",
       "      <td>0</td>\n",
       "      <td>20</td>\n",
       "      <td>30</td>\n",
       "      <td>p1_true_table.json</td>\n",
       "    </tr>\n",
       "    <tr>\n",
       "      <th>2</th>\n",
       "      <td>§ 275.0-7_P1</td>\n",
       "      <td>9</td>\n",
       "      <td>0</td>\n",
       "      <td>9</td>\n",
       "      <td>0</td>\n",
       "      <td>20</td>\n",
       "      <td>44</td>\n",
       "      <td>p1_true_table.json</td>\n",
       "    </tr>\n",
       "  </tbody>\n",
       "</table>\n",
       "</div>"
      ],
      "text/plain": [
       "    document_id  quantity_of_elements  quantity_of_facts  \\\n",
       "0  § 275.0-2_P1                     9                  0   \n",
       "1  § 275.0-5_P1                     5                  0   \n",
       "2  § 275.0-7_P1                     9                  0   \n",
       "\n",
       "   quantity_of_fact_types  quantity_of_rules  quantity_of_verbs  \\\n",
       "0                       7                  0                 20   \n",
       "1                       1                  0                 20   \n",
       "2                       9                  0                 20   \n",
       "\n",
       "   quantity_of_terms            filename  \n",
       "0                 64  p1_true_table.json  \n",
       "1                 30  p1_true_table.json  \n",
       "2                 44  p1_true_table.json  "
      ]
     },
     "execution_count": 58,
     "metadata": {},
     "output_type": "execute_result"
    }
   ],
   "source": [
    "table_true_df_p1"
   ]
  },
  {
   "cell_type": "code",
   "execution_count": 59,
   "metadata": {},
   "outputs": [
    {
     "data": {
      "text/html": [
       "<div>\n",
       "<style scoped>\n",
       "    .dataframe tbody tr th:only-of-type {\n",
       "        vertical-align: middle;\n",
       "    }\n",
       "\n",
       "    .dataframe tbody tr th {\n",
       "        vertical-align: top;\n",
       "    }\n",
       "\n",
       "    .dataframe thead tr th {\n",
       "        text-align: left;\n",
       "    }\n",
       "\n",
       "    .dataframe thead tr:last-of-type th {\n",
       "        text-align: right;\n",
       "    }\n",
       "</style>\n",
       "<table border=\"1\" class=\"dataframe\">\n",
       "  <thead>\n",
       "    <tr>\n",
       "      <th></th>\n",
       "      <th colspan=\"8\" halign=\"left\">quantity_of_elements</th>\n",
       "      <th colspan=\"2\" halign=\"left\">quantity_of_facts</th>\n",
       "      <th>...</th>\n",
       "      <th colspan=\"2\" halign=\"left\">quantity_of_verbs</th>\n",
       "      <th colspan=\"8\" halign=\"left\">quantity_of_terms</th>\n",
       "    </tr>\n",
       "    <tr>\n",
       "      <th></th>\n",
       "      <th>count</th>\n",
       "      <th>mean</th>\n",
       "      <th>std</th>\n",
       "      <th>min</th>\n",
       "      <th>25%</th>\n",
       "      <th>50%</th>\n",
       "      <th>75%</th>\n",
       "      <th>max</th>\n",
       "      <th>count</th>\n",
       "      <th>mean</th>\n",
       "      <th>...</th>\n",
       "      <th>75%</th>\n",
       "      <th>max</th>\n",
       "      <th>count</th>\n",
       "      <th>mean</th>\n",
       "      <th>std</th>\n",
       "      <th>min</th>\n",
       "      <th>25%</th>\n",
       "      <th>50%</th>\n",
       "      <th>75%</th>\n",
       "      <th>max</th>\n",
       "    </tr>\n",
       "    <tr>\n",
       "      <th>document_id</th>\n",
       "      <th></th>\n",
       "      <th></th>\n",
       "      <th></th>\n",
       "      <th></th>\n",
       "      <th></th>\n",
       "      <th></th>\n",
       "      <th></th>\n",
       "      <th></th>\n",
       "      <th></th>\n",
       "      <th></th>\n",
       "      <th></th>\n",
       "      <th></th>\n",
       "      <th></th>\n",
       "      <th></th>\n",
       "      <th></th>\n",
       "      <th></th>\n",
       "      <th></th>\n",
       "      <th></th>\n",
       "      <th></th>\n",
       "      <th></th>\n",
       "      <th></th>\n",
       "    </tr>\n",
       "  </thead>\n",
       "  <tbody>\n",
       "    <tr>\n",
       "      <th>§ 275.0-2_P1</th>\n",
       "      <td>1.0</td>\n",
       "      <td>9.0</td>\n",
       "      <td>NaN</td>\n",
       "      <td>9.0</td>\n",
       "      <td>9.0</td>\n",
       "      <td>9.0</td>\n",
       "      <td>9.0</td>\n",
       "      <td>9.0</td>\n",
       "      <td>1.0</td>\n",
       "      <td>0.0</td>\n",
       "      <td>...</td>\n",
       "      <td>20.0</td>\n",
       "      <td>20.0</td>\n",
       "      <td>1.0</td>\n",
       "      <td>64.0</td>\n",
       "      <td>NaN</td>\n",
       "      <td>64.0</td>\n",
       "      <td>64.0</td>\n",
       "      <td>64.0</td>\n",
       "      <td>64.0</td>\n",
       "      <td>64.0</td>\n",
       "    </tr>\n",
       "    <tr>\n",
       "      <th>§ 275.0-5_P1</th>\n",
       "      <td>1.0</td>\n",
       "      <td>5.0</td>\n",
       "      <td>NaN</td>\n",
       "      <td>5.0</td>\n",
       "      <td>5.0</td>\n",
       "      <td>5.0</td>\n",
       "      <td>5.0</td>\n",
       "      <td>5.0</td>\n",
       "      <td>1.0</td>\n",
       "      <td>0.0</td>\n",
       "      <td>...</td>\n",
       "      <td>20.0</td>\n",
       "      <td>20.0</td>\n",
       "      <td>1.0</td>\n",
       "      <td>30.0</td>\n",
       "      <td>NaN</td>\n",
       "      <td>30.0</td>\n",
       "      <td>30.0</td>\n",
       "      <td>30.0</td>\n",
       "      <td>30.0</td>\n",
       "      <td>30.0</td>\n",
       "    </tr>\n",
       "    <tr>\n",
       "      <th>§ 275.0-7_P1</th>\n",
       "      <td>1.0</td>\n",
       "      <td>9.0</td>\n",
       "      <td>NaN</td>\n",
       "      <td>9.0</td>\n",
       "      <td>9.0</td>\n",
       "      <td>9.0</td>\n",
       "      <td>9.0</td>\n",
       "      <td>9.0</td>\n",
       "      <td>1.0</td>\n",
       "      <td>0.0</td>\n",
       "      <td>...</td>\n",
       "      <td>20.0</td>\n",
       "      <td>20.0</td>\n",
       "      <td>1.0</td>\n",
       "      <td>44.0</td>\n",
       "      <td>NaN</td>\n",
       "      <td>44.0</td>\n",
       "      <td>44.0</td>\n",
       "      <td>44.0</td>\n",
       "      <td>44.0</td>\n",
       "      <td>44.0</td>\n",
       "    </tr>\n",
       "  </tbody>\n",
       "</table>\n",
       "<p>3 rows × 48 columns</p>\n",
       "</div>"
      ],
      "text/plain": [
       "             quantity_of_elements                                    \\\n",
       "                            count mean std  min  25%  50%  75%  max   \n",
       "document_id                                                           \n",
       "§ 275.0-2_P1                  1.0  9.0 NaN  9.0  9.0  9.0  9.0  9.0   \n",
       "§ 275.0-5_P1                  1.0  5.0 NaN  5.0  5.0  5.0  5.0  5.0   \n",
       "§ 275.0-7_P1                  1.0  9.0 NaN  9.0  9.0  9.0  9.0  9.0   \n",
       "\n",
       "             quantity_of_facts       ... quantity_of_verbs        \\\n",
       "                         count mean  ...               75%   max   \n",
       "document_id                          ...                           \n",
       "§ 275.0-2_P1               1.0  0.0  ...              20.0  20.0   \n",
       "§ 275.0-5_P1               1.0  0.0  ...              20.0  20.0   \n",
       "§ 275.0-7_P1               1.0  0.0  ...              20.0  20.0   \n",
       "\n",
       "             quantity_of_terms                                          \n",
       "                         count  mean std   min   25%   50%   75%   max  \n",
       "document_id                                                             \n",
       "§ 275.0-2_P1               1.0  64.0 NaN  64.0  64.0  64.0  64.0  64.0  \n",
       "§ 275.0-5_P1               1.0  30.0 NaN  30.0  30.0  30.0  30.0  30.0  \n",
       "§ 275.0-7_P1               1.0  44.0 NaN  44.0  44.0  44.0  44.0  44.0  \n",
       "\n",
       "[3 rows x 48 columns]"
      ]
     },
     "execution_count": 59,
     "metadata": {},
     "output_type": "execute_result"
    }
   ],
   "source": [
    "table_true_p1 = table_true_df_p1.groupby('document_id').describe()\n",
    "\n",
    "table_true_p1"
   ]
  },
  {
   "cell_type": "markdown",
   "metadata": {},
   "source": [
    "True table for P2."
   ]
  },
  {
   "cell_type": "code",
   "execution_count": 60,
   "metadata": {},
   "outputs": [
    {
     "data": {
      "text/html": [
       "<div>\n",
       "<style scoped>\n",
       "    .dataframe tbody tr th:only-of-type {\n",
       "        vertical-align: middle;\n",
       "    }\n",
       "\n",
       "    .dataframe tbody tr th {\n",
       "        vertical-align: top;\n",
       "    }\n",
       "\n",
       "    .dataframe thead th {\n",
       "        text-align: right;\n",
       "    }\n",
       "</style>\n",
       "<table border=\"1\" class=\"dataframe\">\n",
       "  <thead>\n",
       "    <tr style=\"text-align: right;\">\n",
       "      <th></th>\n",
       "      <th>document_id</th>\n",
       "      <th>count_of_terms</th>\n",
       "      <th>terms_with_definition</th>\n",
       "      <th>terms_without_definition</th>\n",
       "      <th>terms_relationship_count</th>\n",
       "      <th>filename</th>\n",
       "    </tr>\n",
       "  </thead>\n",
       "  <tbody>\n",
       "    <tr>\n",
       "      <th>0</th>\n",
       "      <td>§ 275.0-2_P2</td>\n",
       "      <td>35</td>\n",
       "      <td>2</td>\n",
       "      <td>33</td>\n",
       "      <td>0</td>\n",
       "      <td>p2_true_table.json</td>\n",
       "    </tr>\n",
       "    <tr>\n",
       "      <th>1</th>\n",
       "      <td>§ 275.0-5_P2</td>\n",
       "      <td>21</td>\n",
       "      <td>21</td>\n",
       "      <td>0</td>\n",
       "      <td>0</td>\n",
       "      <td>p2_true_table.json</td>\n",
       "    </tr>\n",
       "    <tr>\n",
       "      <th>2</th>\n",
       "      <td>§ 275.0-7_P2</td>\n",
       "      <td>26</td>\n",
       "      <td>19</td>\n",
       "      <td>7</td>\n",
       "      <td>2</td>\n",
       "      <td>p2_true_table.json</td>\n",
       "    </tr>\n",
       "  </tbody>\n",
       "</table>\n",
       "</div>"
      ],
      "text/plain": [
       "    document_id  count_of_terms  terms_with_definition  \\\n",
       "0  § 275.0-2_P2              35                      2   \n",
       "1  § 275.0-5_P2              21                     21   \n",
       "2  § 275.0-7_P2              26                     19   \n",
       "\n",
       "   terms_without_definition  terms_relationship_count            filename  \n",
       "0                        33                         0  p2_true_table.json  \n",
       "1                         0                         0  p2_true_table.json  \n",
       "2                         7                         2  p2_true_table.json  "
      ]
     },
     "execution_count": 60,
     "metadata": {},
     "output_type": "execute_result"
    }
   ],
   "source": [
    "table_true_df_p2"
   ]
  },
  {
   "cell_type": "code",
   "execution_count": 61,
   "metadata": {},
   "outputs": [
    {
     "data": {
      "text/html": [
       "<div>\n",
       "<style scoped>\n",
       "    .dataframe tbody tr th:only-of-type {\n",
       "        vertical-align: middle;\n",
       "    }\n",
       "\n",
       "    .dataframe tbody tr th {\n",
       "        vertical-align: top;\n",
       "    }\n",
       "\n",
       "    .dataframe thead tr th {\n",
       "        text-align: left;\n",
       "    }\n",
       "\n",
       "    .dataframe thead tr:last-of-type th {\n",
       "        text-align: right;\n",
       "    }\n",
       "</style>\n",
       "<table border=\"1\" class=\"dataframe\">\n",
       "  <thead>\n",
       "    <tr>\n",
       "      <th></th>\n",
       "      <th colspan=\"8\" halign=\"left\">count_of_terms</th>\n",
       "      <th colspan=\"2\" halign=\"left\">terms_with_definition</th>\n",
       "      <th>...</th>\n",
       "      <th colspan=\"2\" halign=\"left\">terms_without_definition</th>\n",
       "      <th colspan=\"8\" halign=\"left\">terms_relationship_count</th>\n",
       "    </tr>\n",
       "    <tr>\n",
       "      <th></th>\n",
       "      <th>count</th>\n",
       "      <th>mean</th>\n",
       "      <th>std</th>\n",
       "      <th>min</th>\n",
       "      <th>25%</th>\n",
       "      <th>50%</th>\n",
       "      <th>75%</th>\n",
       "      <th>max</th>\n",
       "      <th>count</th>\n",
       "      <th>mean</th>\n",
       "      <th>...</th>\n",
       "      <th>75%</th>\n",
       "      <th>max</th>\n",
       "      <th>count</th>\n",
       "      <th>mean</th>\n",
       "      <th>std</th>\n",
       "      <th>min</th>\n",
       "      <th>25%</th>\n",
       "      <th>50%</th>\n",
       "      <th>75%</th>\n",
       "      <th>max</th>\n",
       "    </tr>\n",
       "    <tr>\n",
       "      <th>document_id</th>\n",
       "      <th></th>\n",
       "      <th></th>\n",
       "      <th></th>\n",
       "      <th></th>\n",
       "      <th></th>\n",
       "      <th></th>\n",
       "      <th></th>\n",
       "      <th></th>\n",
       "      <th></th>\n",
       "      <th></th>\n",
       "      <th></th>\n",
       "      <th></th>\n",
       "      <th></th>\n",
       "      <th></th>\n",
       "      <th></th>\n",
       "      <th></th>\n",
       "      <th></th>\n",
       "      <th></th>\n",
       "      <th></th>\n",
       "      <th></th>\n",
       "      <th></th>\n",
       "    </tr>\n",
       "  </thead>\n",
       "  <tbody>\n",
       "    <tr>\n",
       "      <th>§ 275.0-2_P2</th>\n",
       "      <td>1.0</td>\n",
       "      <td>35.0</td>\n",
       "      <td>NaN</td>\n",
       "      <td>35.0</td>\n",
       "      <td>35.0</td>\n",
       "      <td>35.0</td>\n",
       "      <td>35.0</td>\n",
       "      <td>35.0</td>\n",
       "      <td>1.0</td>\n",
       "      <td>2.0</td>\n",
       "      <td>...</td>\n",
       "      <td>33.0</td>\n",
       "      <td>33.0</td>\n",
       "      <td>1.0</td>\n",
       "      <td>0.0</td>\n",
       "      <td>NaN</td>\n",
       "      <td>0.0</td>\n",
       "      <td>0.0</td>\n",
       "      <td>0.0</td>\n",
       "      <td>0.0</td>\n",
       "      <td>0.0</td>\n",
       "    </tr>\n",
       "    <tr>\n",
       "      <th>§ 275.0-5_P2</th>\n",
       "      <td>1.0</td>\n",
       "      <td>21.0</td>\n",
       "      <td>NaN</td>\n",
       "      <td>21.0</td>\n",
       "      <td>21.0</td>\n",
       "      <td>21.0</td>\n",
       "      <td>21.0</td>\n",
       "      <td>21.0</td>\n",
       "      <td>1.0</td>\n",
       "      <td>21.0</td>\n",
       "      <td>...</td>\n",
       "      <td>0.0</td>\n",
       "      <td>0.0</td>\n",
       "      <td>1.0</td>\n",
       "      <td>0.0</td>\n",
       "      <td>NaN</td>\n",
       "      <td>0.0</td>\n",
       "      <td>0.0</td>\n",
       "      <td>0.0</td>\n",
       "      <td>0.0</td>\n",
       "      <td>0.0</td>\n",
       "    </tr>\n",
       "    <tr>\n",
       "      <th>§ 275.0-7_P2</th>\n",
       "      <td>1.0</td>\n",
       "      <td>26.0</td>\n",
       "      <td>NaN</td>\n",
       "      <td>26.0</td>\n",
       "      <td>26.0</td>\n",
       "      <td>26.0</td>\n",
       "      <td>26.0</td>\n",
       "      <td>26.0</td>\n",
       "      <td>1.0</td>\n",
       "      <td>19.0</td>\n",
       "      <td>...</td>\n",
       "      <td>7.0</td>\n",
       "      <td>7.0</td>\n",
       "      <td>1.0</td>\n",
       "      <td>2.0</td>\n",
       "      <td>NaN</td>\n",
       "      <td>2.0</td>\n",
       "      <td>2.0</td>\n",
       "      <td>2.0</td>\n",
       "      <td>2.0</td>\n",
       "      <td>2.0</td>\n",
       "    </tr>\n",
       "  </tbody>\n",
       "</table>\n",
       "<p>3 rows × 32 columns</p>\n",
       "</div>"
      ],
      "text/plain": [
       "             count_of_terms                                          \\\n",
       "                      count  mean std   min   25%   50%   75%   max   \n",
       "document_id                                                           \n",
       "§ 275.0-2_P2            1.0  35.0 NaN  35.0  35.0  35.0  35.0  35.0   \n",
       "§ 275.0-5_P2            1.0  21.0 NaN  21.0  21.0  21.0  21.0  21.0   \n",
       "§ 275.0-7_P2            1.0  26.0 NaN  26.0  26.0  26.0  26.0  26.0   \n",
       "\n",
       "             terms_with_definition        ... terms_without_definition        \\\n",
       "                             count  mean  ...                      75%   max   \n",
       "document_id                               ...                                  \n",
       "§ 275.0-2_P2                   1.0   2.0  ...                     33.0  33.0   \n",
       "§ 275.0-5_P2                   1.0  21.0  ...                      0.0   0.0   \n",
       "§ 275.0-7_P2                   1.0  19.0  ...                      7.0   7.0   \n",
       "\n",
       "             terms_relationship_count                                    \n",
       "                                count mean std  min  25%  50%  75%  max  \n",
       "document_id                                                              \n",
       "§ 275.0-2_P2                      1.0  0.0 NaN  0.0  0.0  0.0  0.0  0.0  \n",
       "§ 275.0-5_P2                      1.0  0.0 NaN  0.0  0.0  0.0  0.0  0.0  \n",
       "§ 275.0-7_P2                      1.0  2.0 NaN  2.0  2.0  2.0  2.0  2.0  \n",
       "\n",
       "[3 rows x 32 columns]"
      ]
     },
     "execution_count": 61,
     "metadata": {},
     "output_type": "execute_result"
    }
   ],
   "source": [
    "table_true_p2 = table_true_df_p2.groupby('document_id').describe()\n",
    "\n",
    "table_true_p2"
   ]
  },
  {
   "cell_type": "markdown",
   "metadata": {},
   "source": [
    "#### BREAK"
   ]
  },
  {
   "cell_type": "code",
   "execution_count": 62,
   "metadata": {
    "id": "JzxueoOoNI4u"
   },
   "outputs": [
    {
     "ename": "SystemExit",
     "evalue": "Stop here. Next sections still in progress.",
     "output_type": "error",
     "traceback": [
      "An exception has occurred, use %tb to see the full traceback.\n",
      "\u001b[0;31mSystemExit\u001b[0m\u001b[0;31m:\u001b[0m Stop here. Next sections still in progress.\n"
     ]
    },
    {
     "name": "stderr",
     "output_type": "stream",
     "text": [
      "/home/adsantos/miniconda3/envs/ipt-cfr2sbvr/lib/python3.11/site-packages/IPython/core/interactiveshell.py:3585: UserWarning: To exit: use 'exit', 'quit', or Ctrl-D.\n",
      "  warn(\"To exit: use 'exit', 'quit', or Ctrl-D.\", stacklevel=1)\n"
     ]
    }
   ],
   "source": [
    "# Stop here. Next sections still in progress.\n",
    "raise SystemExit(\"Stop here. Next sections still in progress.\")"
   ]
  },
  {
   "cell_type": "markdown",
   "metadata": {
    "id": "Ojyl6o8xNI40"
   },
   "source": [
    "#### Main (Move to lab 5)\n",
    "\n",
    "Orchestrates the process of the semantic annotation.\n",
    "\n",
    "Processing terms, names, vocabularies and vocabulary namespaces"
   ]
  },
  {
   "cell_type": "code",
   "execution_count": null,
   "metadata": {
    "id": "4JWZtF79NI40",
    "outputId": "71bffd99-0893-4a2a-9713-71d7366a987d"
   },
   "outputs": [],
   "source": [
    "# Connect to AllegroGraph\n",
    "conn = ag_connect(\n",
    "    repo=config[\"ALLEGROGRAPH_CLOUD\"][\"REPO\"],\n",
    "    catalog=config[\"ALLEGROGRAPH_CLOUD\"][\"CATALOG\"],\n",
    "    host=config[\"ALLEGROGRAPH_CLOUD\"][\"HOST\"],\n",
    "    port=config[\"ALLEGROGRAPH_CLOUD\"][\"PORT\"],\n",
    "    user=config[\"ALLEGROGRAPH_CLOUD\"][\"USER\"],\n",
    "    password=config[\"ALLEGROGRAPH_CLOUD\"][\"PASSWORD\"],\n",
    ")"
   ]
  },
  {
   "cell_type": "markdown",
   "metadata": {},
   "source": [
    "Restore checkpoint"
   ]
  },
  {
   "cell_type": "code",
   "execution_count": null,
   "metadata": {},
   "outputs": [],
   "source": [
    "# Restore checkpoint\n",
    "manager = restore_checkpoint(filename=config[\"DEFAULT_CHECKPOINT_FILE\"])"
   ]
  },
  {
   "cell_type": "code",
   "execution_count": null,
   "metadata": {
    "id": "femfZSwYNI40"
   },
   "outputs": [],
   "source": [
    "for doc in manager.list_document_ids(doc_type=\"llm_response\"):\n",
    "    logger.info(f\"Processing document: {doc} ...\")\n",
    "    retrieved_llm_response = manager.retrieve_document(doc_id=doc, doc_type=\"llm_response\")\n",
    "\n",
    "    for response in retrieved_llm_response.content:\n",
    "\n",
    "        logger.debug(response)\n",
    "\n",
    "        signifier = response['signifier']\n",
    "        statement = response['definition']\n",
    "        concept_type = response['concept_classification']\n",
    "        sources = response.get(\"sources\")\n",
    "\n",
    "        logger.info(f\"Processing '{signifier}' ...\")\n",
    "\n",
    "        # define vocabulary\n",
    "        # Assume first occorrence of section is the correct section\n",
    "        # In case do not have section, use section_id.\n",
    "        # TODO: Improve this\n",
    "        vocabulary = define_vocabulary(doc, sources[0][\"section\"])\n",
    "        vocabulary = normalize_ns_string(vocabulary)\n",
    "\n",
    "        logger.info(f\"Processing vocabulary {vocabulary}\")\n",
    "\n",
    "        if create_vocabulary(conn, vocabulary):\n",
    "            logger.info(f\"Vocabulary {vocabulary} upserted\")\n",
    "            if create_vocabulary_namespace(conn, vocabulary):\n",
    "                logger.info(f\"Vocabulary namespace {vocabulary} upserted\")\n",
    "            else:\n",
    "                logger.info(f\"Vocabulary namespace {vocabulary} not upserted\")\n",
    "        else:\n",
    "            logger.info(f\"Vocabulary {vocabulary} not upserted\")\n",
    "\n",
    "        # similar search\n",
    "        exact_match, close_match = get_similar_signifiers(conn, signifier)\n",
    "\n",
    "        # create designation\n",
    "        designation = Designation(\n",
    "            signifier=signifier,\n",
    "            statement=statement,\n",
    "            concept_type=concept_type,\n",
    "            closeMatch=close_match,\n",
    "            exactMatch=exact_match,\n",
    "            vocabulary_name=vocabulary,\n",
    "            sources=signifier_sources(sources) # Associate desgnations the their sources\n",
    "        )\n",
    "\n",
    "        upsert_designation_to_kg(conn, designation)\n",
    "\n",
    "        logger.debug(f\"Processed {designation}\")\n",
    "        logger.info(f\"Signifier '{signifier}' done.\")\n",
    "\n",
    "    logger.info(f\"{doc} done.\")\n"
   ]
  },
  {
   "cell_type": "code",
   "execution_count": null,
   "metadata": {
    "id": "1EVdyCMYNI40"
   },
   "outputs": [],
   "source": [
    "conn.close()"
   ]
  },
  {
   "cell_type": "markdown",
   "metadata": {},
   "source": [
    "### Discussion\n",
    "\n",
    "TODO"
   ]
  },
  {
   "cell_type": "markdown",
   "metadata": {
    "id": "mR_XeDEjNI40"
   },
   "source": [
    "## Notes\n",
    "\n",
    "- Kernel conda environment: ipt-cfr2sbvr - Python version 3.11.9"
   ]
  }
 ],
 "metadata": {
  "colab": {
   "include_colab_link": true,
   "provenance": []
  },
  "kernelspec": {
   "display_name": "ipt-cfr2sbvr",
   "language": "python",
   "name": "python3"
  },
  "language_info": {
   "codemirror_mode": {
    "name": "ipython",
    "version": 3
   },
   "file_extension": ".py",
   "mimetype": "text/x-python",
   "name": "python",
   "nbconvert_exporter": "python",
   "pygments_lexer": "ipython3",
   "version": "3.11.9"
  }
 },
 "nbformat": 4,
 "nbformat_minor": 0
}
