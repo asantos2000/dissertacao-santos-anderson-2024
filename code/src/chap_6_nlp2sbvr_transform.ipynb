{
 "cells": [
  {
   "cell_type": "markdown",
   "metadata": {},
   "source": [
    "<a href=\"https://colab.research.google.com/github/asantos2000/master-degree-santos-anderson/blob/main/code/src/chap_6_nlp2sbvr_transform.ipynb\" target=\"_parent\"><img src=\"https://colab.research.google.com/assets/colab-badge.svg\" alt=\"Open In Colab\"/></a>"
   ]
  },
  {
   "cell_type": "markdown",
   "metadata": {
    "id": "3lwF6l0TKfK0"
   },
   "source": [
    "# nlp2sbvr - Transformação para SBVR\n",
    "\n",
    "Chapter 6. Ferramentas de suporte\n",
    "- Section 6.2 Implementação dos principais componentes\n",
    "  - Section 6.2.4 nlp2sbvr\n",
    "    - Section Algoritmo \"Transformação para SBVR\""
   ]
  },
  {
   "cell_type": "markdown",
   "metadata": {},
   "source": [
    "## Google colab"
   ]
  },
  {
   "cell_type": "code",
   "execution_count": 38,
   "metadata": {},
   "outputs": [
    {
     "name": "stdout",
     "output_type": "stream",
     "text": [
      "The autoreload extension is already loaded. To reload it, use:\n",
      "  %reload_ext autoreload\n"
     ]
    }
   ],
   "source": [
    "%load_ext autoreload\n",
    "%autoreload 2\n",
    "\n",
    "import sys\n",
    "\n",
    "IN_COLAB = 'google.colab' in sys.modules\n",
    "\n",
    "if IN_COLAB:\n",
    "  from google.colab import drive\n",
    "  drive.mount('/content/drive')\n",
    "  !rm -rf cfr2sbvr configuration checkpoint\n",
    "  !git clone https://github.com/asantos2000/master-degree-santos-anderson.git cfr2sbvr\n",
    "  %pip install -r cfr2sbvr/code/requirements.txt\n",
    "  !cp -r cfr2sbvr/code/src/configuration .\n",
    "  !cp -r cfr2sbvr/code/src/checkpoint .\n",
    "  !cp -r cfr2sbvr/code/config.colab.yaml config.yaml\n",
    "  DEFAULT_CONFIG_FILE=\"config.yaml\"\n",
    "else:\n",
    "  DEFAULT_CONFIG_FILE=\"../config.yaml\""
   ]
  },
  {
   "cell_type": "markdown",
   "metadata": {},
   "source": [
    "## Imports"
   ]
  },
  {
   "cell_type": "code",
   "execution_count": 39,
   "metadata": {},
   "outputs": [],
   "source": [
    "# Standard library imports\n",
    "import json\n",
    "\n",
    "# Third-party libraries\n",
    "from pydantic import BaseModel, Field\n",
    "from typing import List, Any\n",
    "\n",
    "# Local application/library-specific imports\n",
    "import checkpoint.main as checkpoint\n",
    "from checkpoint.main import (\n",
    "    save_checkpoint,\n",
    "    restore_checkpoint,\n",
    "    DocumentProcessor,\n",
    "    Document,\n",
    ")\n",
    "import configuration.main as configuration\n",
    "import logging_setup.main as logging_setup\n",
    "import rules_taxonomy_provider.main as rules_taxonomy_provider\n",
    "from rules_taxonomy_provider.main import RulesTemplateProvider\n",
    "import llm_query.main as llm_query\n",
    "from llm_query.main import query_instruct_llm\n",
    "\n",
    "DEV_MODE = True\n",
    "\n",
    "if DEV_MODE:\n",
    "    # Development mode\n",
    "    import importlib\n",
    "\n",
    "    importlib.reload(configuration)\n",
    "    importlib.reload(logging_setup)\n",
    "    importlib.reload(checkpoint)\n",
    "    importlib.reload(rules_taxonomy_provider)\n",
    "    importlib.reload(llm_query)"
   ]
  },
  {
   "cell_type": "markdown",
   "metadata": {},
   "source": [
    "## Settings\n",
    "\n",
    "Default settings, check them before run the notebook."
   ]
  },
  {
   "cell_type": "markdown",
   "metadata": {},
   "source": [
    "### Get configuration"
   ]
  },
  {
   "cell_type": "code",
   "execution_count": 3,
   "metadata": {},
   "outputs": [],
   "source": [
    "# load config\n",
    "config = configuration.load_config(DEFAULT_CONFIG_FILE)"
   ]
  },
  {
   "cell_type": "markdown",
   "metadata": {},
   "source": [
    "Generated files for analysis in this run"
   ]
  },
  {
   "cell_type": "code",
   "execution_count": 4,
   "metadata": {},
   "outputs": [
    {
     "name": "stdout",
     "output_type": "stream",
     "text": [
      "../data/checkpoints/documents-2024-11-30-1.json ../outputs/extraction_report-2024-11-30-1.html ../outputs/compare_items_metrics.xlsx\n"
     ]
    }
   ],
   "source": [
    "print(config[\"DEFAULT_CHECKPOINT_FILE\"],\n",
    "config[\"DEFAULT_EXTRACTION_REPORT_FILE\"],\n",
    "config[\"DEFAULT_EXCEL_FILE\"])"
   ]
  },
  {
   "cell_type": "markdown",
   "metadata": {},
   "source": [
    "### Logging configuration"
   ]
  },
  {
   "cell_type": "code",
   "execution_count": 5,
   "metadata": {},
   "outputs": [
    {
     "name": "stderr",
     "output_type": "stream",
     "text": [
      "2024-11-30 01:52:37 - INFO - Logging is set up with daily rotation.\n"
     ]
    }
   ],
   "source": [
    "logger = logging_setup.setting_logging(config[\"DEFAULT_LOG_DIR\"], config[\"LOG_LEVEL\"])"
   ]
  },
  {
   "cell_type": "markdown",
   "metadata": {},
   "source": [
    "## Checkpoints\n",
    "\n",
    "Documents, annoted datasets, statistics and metrics about the execution of the notebook are stored by checkpoint module.\n",
    "\n",
    "Checkpoints are stored / retrieved at the directory `DEFAULT_CHECKPOINT_FILE` in the configuration file.\n",
    "\n",
    "During the execution, it will restore the checkpoint at the beginning of the section and saved at the end. We can run and restore the checkpoint several times. If the run fails, check the closest checkpoint and restore it."
   ]
  },
  {
   "cell_type": "markdown",
   "metadata": {},
   "source": [
    "Restore the checkpoint"
   ]
  },
  {
   "cell_type": "code",
   "execution_count": 6,
   "metadata": {},
   "outputs": [
    {
     "name": "stderr",
     "output_type": "stream",
     "text": [
      "2024-11-30 01:52:37 - INFO - last_checkpoint='../data/checkpoints/documents-2024-11-29-4.json'\n",
      "2024-11-30 01:52:37 - INFO - DocumentManager restored from file: ../data/checkpoints/documents-2024-11-29-4.json\n",
      "2024-11-30 01:52:37 - INFO - Checkpoint restored from ../data/checkpoints/documents-2024-11-29-4.json.\n"
     ]
    }
   ],
   "source": [
    "# To run after classification\n",
    "last_checkpoint = configuration.get_last_filename(config[\"DEFAULT_CHECKPOINT_DIR\"], \"documents\", \"json\")\n",
    "\n",
    "logger.info(f\"{last_checkpoint=}\")\n",
    "\n",
    "config[\"DEFAULT_CHECKPOINT_FILE\"] = last_checkpoint\n",
    "\n",
    "manager = restore_checkpoint(filename=config[\"DEFAULT_CHECKPOINT_FILE\"])"
   ]
  },
  {
   "cell_type": "markdown",
   "metadata": {},
   "source": [
    "## General functions and data structures"
   ]
  },
  {
   "cell_type": "code",
   "execution_count": 7,
   "metadata": {},
   "outputs": [],
   "source": [
    "def save_prompts_samples(system_prompts, user_prompts, element_name, manager):\n",
    "    manager.add_document(\n",
    "        Document(\n",
    "            id=f\"prompt-system-transform_rules_{element_name.replace(' ', '_')}\",\n",
    "            type=\"prompt\",\n",
    "            content=system_prompts[0],\n",
    "        )\n",
    "    )\n",
    "\n",
    "    manager.add_document(\n",
    "        Document(\n",
    "            id=f\"prompt-user-transform_rules_{element_name.replace(' ', '_')}\",\n",
    "            type=\"prompt\",\n",
    "            content=user_prompts[0],\n",
    "        )\n",
    "    )\n",
    "\n",
    "    logger.info(f\"System prompts for {element_name}s: {len(system_prompts)}\")\n",
    "    logger.info(f\"User prompts for {element_name}s: {len(user_prompts)}\")\n",
    "\n",
    "    save_checkpoint(filename=config[\"DEFAULT_CHECKPOINT_FILE\"], manager=manager)"
   ]
  },
  {
   "cell_type": "markdown",
   "metadata": {},
   "source": [
    "LLM response model"
   ]
  },
  {
   "cell_type": "code",
   "execution_count": 8,
   "metadata": {},
   "outputs": [],
   "source": [
    "class TransformedStatement(BaseModel):\n",
    "    doc_id: str = Field(..., description=\"Document ID associated with the statement.\")\n",
    "    statement_id: str = Field(..., description=\"A provided string that identifies the statement. e.g., '1', 'Person'.\")\n",
    "    statement_title: str = Field(..., description=\"Title of the statement.\") \n",
    "    statement: str = Field(..., description=\"The statement to be transformed.\")\n",
    "    statement_sources: List[str] = Field(..., description=\"Sources of the statement.\")\n",
    "    templates_ids: List[str] = Field(..., description=\"List of template IDs.\")\n",
    "    transformed: str = Field(..., description=\"The transformed statement.\")\n",
    "    confidence: float = Field(..., description=\"Confidence of the transformation.\")\n",
    "    reason: str = Field(..., description=\"Reason for confidence score of the transformation.\")\n",
    "\n",
    "class TransformedStatements(BaseModel):\n",
    "    TransformedStatements: List[TransformedStatement] = Field(..., description=\"List of transformed statements.\")"
   ]
  },
  {
   "cell_type": "code",
   "execution_count": 9,
   "metadata": {},
   "outputs": [],
   "source": [
    "def transform_statement(element_name, user_prompts, system_prompts, manager):\n",
    "    # Initialize an empty list to accumulate all responses\n",
    "    all_responses = []\n",
    "    elapse_times = []\n",
    "    completions = []\n",
    "\n",
    "    # Loop through each pair of user and system prompts with a counter\n",
    "    for index, (user_prompt, system_prompt) in enumerate(\n",
    "        zip(user_prompts, system_prompts), start=1\n",
    "    ):\n",
    "        logger.info(f\"Processing transformation prompt {index} for {element_name}.\")\n",
    "        logger.debug(system_prompt)\n",
    "        logger.debug(user_prompt)\n",
    "\n",
    "        # Query the language model\n",
    "        response, completion, elapse_time = query_instruct_llm(\n",
    "            system_prompt=system_prompt,\n",
    "            user_prompt=user_prompt,\n",
    "            document_model=TransformedStatements,\n",
    "            llm_model=config[\"LLM\"][\"MODEL\"],\n",
    "            temperature=config[\"LLM\"][\"TEMPERATURE\"],\n",
    "            max_tokens=config[\"LLM\"][\"MAX_TOKENS\"],\n",
    "        )\n",
    "\n",
    "        logger.debug(response)\n",
    "\n",
    "        # Accumulate the responses in the list\n",
    "        all_responses.extend(response.TransformedStatements)\n",
    "        elapse_times.append(elapse_time)\n",
    "        completions.append(completion.dict())\n",
    "\n",
    "        logger.info(f\"Finished processing classification and templates prompt {index}.\")\n",
    "\n",
    "    # After the loop, create a single Document with all the accumulated responses\n",
    "    doc = Document(\n",
    "        id=f\"transform_{element_name.replace(' ', '_')}s\",\n",
    "        type=\"llm_response_transform\",\n",
    "        content=all_responses,\n",
    "        elapsed_times=elapse_times,\n",
    "        completions=completions,\n",
    "    )\n",
    "    manager.add_document(doc)\n",
    "\n",
    "    logger.info(f\"{element_name}s: {len(all_responses)}\")\n",
    "\n",
    "    return all_responses"
   ]
  },
  {
   "cell_type": "code",
   "execution_count": 10,
   "metadata": {},
   "outputs": [],
   "source": [
    "\n",
    "def get_prompts_for_rule(rules, rule_template_formulation, data_dir):\n",
    "    rule_template_provider = RulesTemplateProvider(data_dir)\n",
    "\n",
    "    system_prompts = []\n",
    "    user_prompts = []\n",
    "\n",
    "    for rule in rules:\n",
    "        element_name = rule.get(\"element_name\")\n",
    "\n",
    "        if element_name == [\"Term\", \"Name\"]:\n",
    "            statement_key = \"definition\"\n",
    "            statement_id_key = \"signifier\"\n",
    "        else:\n",
    "            statement_key = \"statement\"\n",
    "            statement_id_key = \"statement_id\"\n",
    "\n",
    "        # # Return templates and examples for fact types or all\n",
    "        # if element_name == \"Fact Type\":\n",
    "        #     return_forms = \"fact_type\"\n",
    "        # else:\n",
    "        #     return_forms = \"rule\"\n",
    "        # logger.info(f\"Processing {element_name} with return forms {return_forms}.\")\n",
    "\n",
    "        input_rule = {\n",
    "            \"doc_id\": rule[\"doc_id\"],\n",
    "            f\"{statement_id_key}\": rule[\"statement_id\"],\n",
    "            \"sources\": rule[\"sources\"],\n",
    "            f\"{statement_key}\": rule.get(\"statement\", rule.get(\"definition\")),\n",
    "            \"templates_ids\": rule[\"templates_ids\"],\n",
    "        }\n",
    "        user_prompt = get_user_prompt_transform(element_name, input_rule)\n",
    "        user_prompts.append(user_prompt)\n",
    "        rule_templates_subtemplates = rule_template_provider.get_rules_template(rule[\"templates_ids\"])\n",
    "        system_prompt = get_system_prompt_transform(element_name,rule_template_formulation, rule_templates_subtemplates)\n",
    "        system_prompts.append(system_prompt)\n",
    "        logger.debug(system_prompt)\n",
    "        logger.debug(user_prompt)\n",
    "\n",
    "    logger.info(f\"System prompts for {element_name}s: {len(system_prompts)}\")\n",
    "    logger.info(f\"User prompts for {element_name}s: {len(user_prompts)}\")\n",
    "\n",
    "    return system_prompts, user_prompts, element_name\n"
   ]
  },
  {
   "cell_type": "markdown",
   "metadata": {},
   "source": [
    "## Datasets\n",
    "\n",
    "Datasets used in the notebook."
   ]
  },
  {
   "cell_type": "markdown",
   "metadata": {},
   "source": [
    "### True tables\n",
    "\n",
    "True tables are annotated or \"golden\" datasets in which entities have been manually identified and labeled within the original source data.\n",
    "\n",
    "True tables for sectiona 275.0-2, 275.0-5 and 275.0-7"
   ]
  },
  {
   "cell_type": "markdown",
   "metadata": {},
   "source": [
    "Load true table for P1 - Taxonomy Classification - top level and P2 - Taxonomy Classification - sub levels"
   ]
  },
  {
   "cell_type": "code",
   "execution_count": 11,
   "metadata": {},
   "outputs": [],
   "source": [
    "with open(f\"{config['DEFAULT_DATA_DIR']}/documents_true_table.json\", 'r') as file:\n",
    "    data = json.load(file)\n",
    "\n",
    "    manager.add_document(\n",
    "        Document.model_validate(data[\"transform_Operative_Rules|true_table\"])\n",
    "    )\n",
    "\n",
    "    manager.add_document(\n",
    "        Document.model_validate(data[\"transform_Fact_Types|true_table\"])\n",
    "    )\n",
    "\n",
    "    manager.add_document(\n",
    "        Document.model_validate(data[\"transform_Terms|true_table\"])\n",
    "    )\n",
    "\n",
    "    # manager.add_document(\n",
    "    #     Document.model_validate(data[\"transform_Names|true_table\"])\n",
    "    # )"
   ]
  },
  {
   "cell_type": "markdown",
   "metadata": {},
   "source": [
    "Save the checkpoint"
   ]
  },
  {
   "cell_type": "code",
   "execution_count": 12,
   "metadata": {},
   "outputs": [
    {
     "name": "stderr",
     "output_type": "stream",
     "text": [
      "2024-11-30 01:52:38 - INFO - DocumentManager state persisted to file: ../data/checkpoints/documents-2024-11-29-4.json\n",
      "2024-11-30 01:52:38 - INFO - Checkpoint saved.\n"
     ]
    }
   ],
   "source": [
    "save_checkpoint(filename=config[\"DEFAULT_CHECKPOINT_FILE\"], manager=manager)"
   ]
  },
  {
   "cell_type": "markdown",
   "metadata": {},
   "source": [
    "### Elements to transform"
   ]
  },
  {
   "cell_type": "markdown",
   "metadata": {},
   "source": [
    "Get expressions to transform"
   ]
  },
  {
   "cell_type": "code",
   "execution_count": 13,
   "metadata": {},
   "outputs": [
    {
     "name": "stderr",
     "output_type": "stream",
     "text": [
      "2024-11-30 01:52:38 - WARNING - Validation document 'validation_judge_Operative_Rules' not found or empty.\n",
      "2024-11-30 01:52:38 - WARNING - Validation document 'validation_judge_Fact_Types' not found or empty.\n",
      "2024-11-30 01:52:38 - WARNING - Validation document 'validation_judge_Terms' not found or empty.\n",
      "2024-11-30 01:52:38 - WARNING - Validation document 'validation_judge_Names' not found or empty.\n",
      "2024-11-30 01:52:38 - INFO - Rules to evaluate: 6\n",
      "2024-11-30 01:52:38 - INFO - Facts to evaluate: 16\n",
      "2024-11-30 01:52:38 - INFO - Terms to evaluate: 23\n",
      "2024-11-30 01:52:38 - INFO - Names to evaluate: 5\n"
     ]
    },
    {
     "name": "stdout",
     "output_type": "stream",
     "text": [
      "element_dict={'doc_id': '§ 275.0-2', 'statement_id': 1, 'statement_title': 'Service of process on non-resident entities', 'statement': 'A person may serve process, pleadings, or other papers on a non-resident investment adviser, or on a non-resident general partner or non-resident managing agent of an investment adviser by serving any or all of its appointed agents.', 'sources': ['(a)'], 'terms': [{'term': 'Person', 'classification': 'Common Noun', 'confidence': 0.9, 'reason': 'The term is a general reference to an individual or entity.', 'extracted_confidence': 0.9, 'extracted_reason': 'The term is explicitly mentioned as the subject performing the action.'}, {'term': 'Non-resident investment adviser', 'classification': 'Common Noun', 'confidence': 0.9, 'reason': 'The term refers to a specific type of entity involved in the process.', 'extracted_confidence': 0.9, 'extracted_reason': 'The term is explicitly mentioned as the recipient of the action.'}, {'term': 'Non-resident general partner', 'classification': 'Common Noun', 'confidence': 0.9, 'reason': 'The term refers to a specific type of entity involved in the process.', 'extracted_confidence': 0.9, 'extracted_reason': 'The term is explicitly mentioned as the recipient of the action.'}, {'term': 'Non-resident managing agent', 'classification': 'Common Noun', 'confidence': 0.9, 'reason': 'The term refers to a specific type of entity involved in the process.', 'extracted_confidence': 0.9, 'extracted_reason': 'The term is explicitly mentioned as the recipient of the action.'}, {'term': 'Appointed agents', 'classification': 'Common Noun', 'confidence': 0.8, 'reason': 'The term refers to entities designated to receive service on behalf of others.', 'extracted_confidence': 0.8, 'extracted_reason': 'The term is implied as the means through which service is effected.'}], 'verb_symbols': ['serve', 'by serving'], 'element_name': 'Fact Type'}\n",
      "element_dict={'doc_id': '§ 275.0-2', 'statement_id': 2, 'statement_title': 'Furnishing documents to the Commission', 'statement': \"A person may serve a non-resident investment adviser, non-resident general partner, or non-resident managing agent by furnishing the Commission with one copy of the process, pleadings, or papers, for each named party, and one additional copy for the Commission's records.\", 'sources': ['(a)(1)'], 'terms': [{'term': 'Person', 'classification': 'Common Noun', 'confidence': 0.9, 'reason': 'The term is a general reference to an individual or entity.', 'extracted_confidence': 0.9, 'extracted_reason': 'The term is explicitly mentioned as the subject performing the action.'}, {'term': 'Non-resident investment adviser', 'classification': 'Common Noun', 'confidence': 0.9, 'reason': 'The term refers to a specific type of entity involved in the process.', 'extracted_confidence': 0.9, 'extracted_reason': 'The term is explicitly mentioned as the recipient of the action.'}, {'term': 'Non-resident general partner', 'classification': 'Common Noun', 'confidence': 0.9, 'reason': 'The term refers to a specific type of entity involved in the process.', 'extracted_confidence': 0.9, 'extracted_reason': 'The term is explicitly mentioned as the recipient of the action.'}, {'term': 'Non-resident managing agent', 'classification': 'Common Noun', 'confidence': 0.9, 'reason': 'The term refers to a specific type of entity involved in the process.', 'extracted_confidence': 0.9, 'extracted_reason': 'The term is explicitly mentioned as the recipient of the action.'}, {'term': 'Commission', 'classification': 'Proper Noun', 'confidence': 0.9, 'reason': 'The term refers to a specific governmental body involved in the process.', 'extracted_confidence': 0.9, 'extracted_reason': 'The term is explicitly mentioned as the entity receiving the documents.'}], 'verb_symbols': ['serve', 'by furnishing', 'with'], 'element_name': 'Fact Type'}\n",
      "element_dict={'doc_id': '§ 275.0-2', 'statement_id': 3, 'statement_title': 'Forwarding documents by the Secretary', 'statement': \"The Secretary of the Commission (Secretary) will promptly forward a copy to each named party by registered or certified mail at that party's last address filed with the Commission.\", 'sources': ['(a)(2)'], 'terms': [{'term': 'Secretary of the Commission', 'classification': 'Proper Noun', 'confidence': 0.9, 'reason': 'The term refers to a specific role within the Commission.', 'extracted_confidence': 0.9, 'extracted_reason': 'The term is explicitly mentioned as the subject performing the action.'}, {'term': 'Named party', 'classification': 'Common Noun', 'confidence': 0.8, 'reason': 'The term refers to the recipient of the documents.', 'extracted_confidence': 0.8, 'extracted_reason': 'The term is implied as the recipient of the action.'}, {'term': 'Registered mail', 'classification': 'Common Noun', 'confidence': 0.8, 'reason': 'The term refers to a method of sending documents.', 'extracted_confidence': 0.8, 'extracted_reason': 'The term is explicitly mentioned as the method of forwarding.'}, {'term': 'Certified mail', 'classification': 'Common Noun', 'confidence': 0.8, 'reason': 'The term refers to a method of sending documents.', 'extracted_confidence': 0.8, 'extracted_reason': 'The term is explicitly mentioned as the method of forwarding.'}, {'term': 'Commission', 'classification': 'Proper Noun', 'confidence': 0.9, 'reason': 'The term refers to a specific governmental body involved in the process.', 'extracted_confidence': 0.9, 'extracted_reason': 'The term is explicitly mentioned as the entity associated with the address.'}], 'verb_symbols': ['will forward', 'by', 'at'], 'element_name': 'Operative Rule'}\n",
      "element_dict={'doc_id': '§ 275.0-2', 'statement_id': 4, 'statement_title': 'Certification of service by the Secretary', 'statement': 'If the Secretary certifies that the Commission was served with process, pleadings, or other papers pursuant to paragraph (a)(1) of this section and forwarded these documents to a named party pursuant to paragraph (a)(2) of this section, this certification constitutes evidence of service upon that party.', 'sources': ['(a)(3)'], 'terms': [{'term': 'Secretary', 'classification': 'Proper Noun', 'confidence': 0.9, 'reason': 'The term refers to a specific role within the Commission.', 'extracted_confidence': 0.9, 'extracted_reason': 'The term is explicitly mentioned as the subject performing the action.'}, {'term': 'Commission', 'classification': 'Proper Noun', 'confidence': 0.9, 'reason': 'The term refers to a specific governmental body involved in the process.', 'extracted_confidence': 0.9, 'extracted_reason': 'The term is explicitly mentioned as the entity receiving the documents.'}, {'term': 'Named party', 'classification': 'Common Noun', 'confidence': 0.8, 'reason': 'The term refers to the recipient of the documents.', 'extracted_confidence': 0.8, 'extracted_reason': 'The term is implied as the recipient of the action.'}, {'term': 'Certification', 'classification': 'Common Noun', 'confidence': 0.8, 'reason': 'The term refers to the act of certifying the service of documents.', 'extracted_confidence': 0.8, 'extracted_reason': 'The term is explicitly mentioned as the result of the action.'}], 'verb_symbols': ['certifies', 'was served', 'forwarded', 'constitutes'], 'element_name': 'Operative Rule'}\n",
      "element_dict={'doc_id': '§ 275.0-2', 'statement_id': 5, 'statement_title': 'Definition of Managing agent', 'statement': 'Managing agent means any person, including a trustee, who directs or manages, or who participates in directing or managing, the affairs of any unincorporated organization or association other than a partnership.', 'sources': ['(b)(1)'], 'terms': [{'term': 'Managing agent', 'classification': 'Common Noun', 'confidence': 0.9, 'reason': 'The term is defined within the context of the document.', 'extracted_confidence': 0.9, 'extracted_reason': 'The term is explicitly mentioned as the subject of the definition.'}, {'term': 'Person', 'classification': 'Common Noun', 'confidence': 0.9, 'reason': 'The term is a general reference to an individual or entity.', 'extracted_confidence': 0.9, 'extracted_reason': 'The term is explicitly mentioned as part of the definition.'}, {'term': 'Trustee', 'classification': 'Common Noun', 'confidence': 0.8, 'reason': 'The term refers to a specific role within the definition.', 'extracted_confidence': 0.8, 'extracted_reason': 'The term is explicitly mentioned as part of the definition.'}, {'term': 'Unincorporated organization', 'classification': 'Common Noun', 'confidence': 0.8, 'reason': 'The term refers to a type of entity managed by the managing agent.', 'extracted_confidence': 0.8, 'extracted_reason': 'The term is explicitly mentioned as part of the definition.'}, {'term': 'Association', 'classification': 'Common Noun', 'confidence': 0.8, 'reason': 'The term refers to a type of entity managed by the managing agent.', 'extracted_confidence': 0.8, 'extracted_reason': 'The term is explicitly mentioned as part of the definition.'}, {'term': 'Partnership', 'classification': 'Common Noun', 'confidence': 0.8, 'reason': 'The term refers to a type of entity excluded from the definition.', 'extracted_confidence': 0.8, 'extracted_reason': 'The term is explicitly mentioned as part of the definition.'}], 'verb_symbols': ['means', 'directs', 'manages', 'participates'], 'element_name': 'Fact Type'}\n",
      "element_dict={'doc_id': '§ 275.0-2', 'statement_id': 6, 'statement_title': 'Definition of Non-resident', 'statement': 'Non-resident means an individual who resides in any place not subject to the jurisdiction of the United States; a corporation that is incorporated in or that has its principal office and place of business in any place not subject to the jurisdiction of the United States; and a partnership or other unincorporated organization or association that has its principal office and place of business in any place not subject to the jurisdiction of the United States.', 'sources': ['(b)(2)'], 'terms': [{'term': 'Non-resident', 'classification': 'Common Noun', 'confidence': 0.9, 'reason': 'The term is defined within the context of the document.', 'extracted_confidence': 0.9, 'extracted_reason': 'The term is explicitly mentioned as the subject of the definition.'}, {'term': 'Individual', 'classification': 'Common Noun', 'confidence': 0.9, 'reason': 'The term refers to a type of entity defined as non-resident.', 'extracted_confidence': 0.9, 'extracted_reason': 'The term is explicitly mentioned as part of the definition.'}, {'term': 'Corporation', 'classification': 'Common Noun', 'confidence': 0.9, 'reason': 'The term refers to a type of entity defined as non-resident.', 'extracted_confidence': 0.9, 'extracted_reason': 'The term is explicitly mentioned as part of the definition.'}, {'term': 'Principal office', 'classification': 'Common Noun', 'confidence': 0.8, 'reason': 'The term refers to a location criterion for defining non-resident entities.', 'extracted_confidence': 0.8, 'extracted_reason': 'The term is explicitly mentioned as part of the definition.'}, {'term': 'Place of business', 'classification': 'Common Noun', 'confidence': 0.8, 'reason': 'The term refers to a location criterion for defining non-resident entities.', 'extracted_confidence': 0.8, 'extracted_reason': 'The term is explicitly mentioned as part of the definition.'}, {'term': 'Partnership', 'classification': 'Common Noun', 'confidence': 0.8, 'reason': 'The term refers to a type of entity defined as non-resident.', 'extracted_confidence': 0.8, 'extracted_reason': 'The term is explicitly mentioned as part of the definition.'}, {'term': 'Unincorporated organization', 'classification': 'Common Noun', 'confidence': 0.8, 'reason': 'The term refers to a type of entity defined as non-resident.', 'extracted_confidence': 0.8, 'extracted_reason': 'The term is explicitly mentioned as part of the definition.'}, {'term': 'Association', 'classification': 'Common Noun', 'confidence': 0.8, 'reason': 'The term refers to a type of entity defined as non-resident.', 'extracted_confidence': 0.8, 'extracted_reason': 'The term is explicitly mentioned as part of the definition.'}], 'verb_symbols': ['means', 'resides', 'is incorporated', 'has'], 'element_name': 'Fact Type'}\n",
      "element_dict={'doc_id': '§ 275.0-2', 'statement_id': 7, 'statement_title': 'Definition of Principal office and place of business', 'statement': 'Principal office and place of business has the same meaning as in § 275.203A-3(c) of this chapter.', 'sources': ['(b)(3)'], 'terms': [{'term': 'Principal office', 'classification': 'Common Noun', 'confidence': 0.9, 'reason': 'The term is defined within the context of the document.', 'extracted_confidence': 0.9, 'extracted_reason': 'The term is explicitly mentioned as the subject of the definition.'}, {'term': 'Place of business', 'classification': 'Common Noun', 'confidence': 0.9, 'reason': 'The term is defined within the context of the document.', 'extracted_confidence': 0.9, 'extracted_reason': 'The term is explicitly mentioned as the subject of the definition.'}], 'verb_symbols': ['has'], 'element_name': 'Fact Type'}\n",
      "element_dict={'doc_id': '§ 275.0-5', 'statement_id': 1, 'statement_title': 'Notice of proceeding initiation', 'statement': 'Notice of the initiation of the proceeding will be published in the Federal Register and will indicate the earliest date upon which an order disposing of the matter may be entered.', 'sources': ['(a)'], 'terms': [{'term': 'Notice', 'classification': 'Common Noun', 'confidence': 0.9, 'reason': 'The term is a general concept related to communication.', 'extracted_confidence': 0.9, 'extracted_reason': 'The term is explicitly mentioned as a key part of the procedure.'}, {'term': 'Initiation of the proceeding', 'classification': 'Common Noun', 'confidence': 0.8, 'reason': 'The term describes a process or event.', 'extracted_confidence': 0.8, 'extracted_reason': \"The term is central to the statement's context.\"}, {'term': 'Federal Register', 'classification': 'Proper Noun', 'confidence': 0.95, 'reason': 'The term is a specific publication.', 'extracted_confidence': 0.95, 'extracted_reason': 'The term is explicitly named as the publication medium.'}, {'term': 'Order', 'classification': 'Common Noun', 'confidence': 0.85, 'reason': 'The term refers to a formal decision or directive.', 'extracted_confidence': 0.85, 'extracted_reason': 'The term is a key outcome of the proceeding.'}, {'term': 'Matter', 'classification': 'Common Noun', 'confidence': 0.8, 'reason': 'The term refers to the subject or issue at hand.', 'extracted_confidence': 0.8, 'extracted_reason': 'The term is used to describe what the order will address.'}], 'verb_symbols': ['will be published', 'will indicate'], 'element_name': 'Operative Rule'}\n",
      "element_dict={'doc_id': '§ 275.0-5', 'statement_id': 2, 'statement_title': 'Submission of facts and hearing request', 'statement': 'Any interested person may, within the period of time specified therein, submit to the Commission in writing any facts bearing upon the desirability of a hearing on the matter and may request that a hearing be held, stating his reasons therefor and the nature of his interest in the matter.', 'sources': ['(a)'], 'terms': [{'term': 'Interested person', 'classification': 'Common Noun', 'confidence': 0.9, 'reason': 'The term refers to any individual or entity with a stake in the proceeding.', 'extracted_confidence': 0.9, 'extracted_reason': 'The term is explicitly mentioned as a participant in the process.'}, {'term': 'Period of time', 'classification': 'Common Noun', 'confidence': 0.85, 'reason': 'The term refers to a duration within which actions must be taken.', 'extracted_confidence': 0.85, 'extracted_reason': 'The term is used to specify the timeframe for submissions.'}, {'term': 'Commission', 'classification': 'Proper Noun', 'confidence': 0.95, 'reason': 'The term refers to a specific regulatory body.', 'extracted_confidence': 0.95, 'extracted_reason': 'The term is explicitly named as the recipient of submissions.'}, {'term': 'Facts', 'classification': 'Common Noun', 'confidence': 0.8, 'reason': 'The term refers to information relevant to the proceeding.', 'extracted_confidence': 0.8, 'extracted_reason': 'The term is central to the submission process.'}, {'term': 'Hearing', 'classification': 'Common Noun', 'confidence': 0.85, 'reason': 'The term refers to a formal meeting or session.', 'extracted_confidence': 0.85, 'extracted_reason': 'The term is a key part of the request process.'}, {'term': 'Matter', 'classification': 'Common Noun', 'confidence': 0.8, 'reason': 'The term refers to the subject or issue at hand.', 'extracted_confidence': 0.8, 'extracted_reason': 'The term is used to describe what the hearing will address.'}, {'term': 'Reasons', 'classification': 'Common Noun', 'confidence': 0.8, 'reason': 'The term refers to justifications or explanations.', 'extracted_confidence': 0.8, 'extracted_reason': 'The term is part of the requirement for requesting a hearing.'}, {'term': 'Nature of interest', 'classification': 'Common Noun', 'confidence': 0.8, 'reason': 'The term describes the type or extent of interest in the matter.', 'extracted_confidence': 0.8, 'extracted_reason': 'The term is required to be stated in the request.'}], 'verb_symbols': ['may submit', 'may request', 'stating'], 'element_name': 'Operative Rule'}\n",
      "element_dict={'doc_id': '§ 275.0-5', 'statement_id': 3, 'statement_title': 'Issuance of order disposing of the matter', 'statement': 'An order disposing of the matter will be issued as of course following the expiration of the period of time referred to in paragraph (a) of this section, unless the Commission thereafter orders a hearing on the matter.', 'sources': ['(b)'], 'terms': [{'term': 'Order', 'classification': 'Common Noun', 'confidence': 0.85, 'reason': 'The term refers to a formal decision or directive.', 'extracted_confidence': 0.85, 'extracted_reason': 'The term is a key outcome of the proceeding.'}, {'term': 'Matter', 'classification': 'Common Noun', 'confidence': 0.8, 'reason': 'The term refers to the subject or issue at hand.', 'extracted_confidence': 0.8, 'extracted_reason': 'The term is used to describe what the order will address.'}, {'term': 'Period of time', 'classification': 'Common Noun', 'confidence': 0.85, 'reason': 'The term refers to a duration within which actions must be taken.', 'extracted_confidence': 0.85, 'extracted_reason': 'The term is used to specify the timeframe for issuing the order.'}, {'term': 'Commission', 'classification': 'Proper Noun', 'confidence': 0.95, 'reason': 'The term refers to a specific regulatory body.', 'extracted_confidence': 0.95, 'extracted_reason': 'The term is explicitly named as the entity that may order a hearing.'}, {'term': 'Hearing', 'classification': 'Common Noun', 'confidence': 0.85, 'reason': 'The term refers to a formal meeting or session.', 'extracted_confidence': 0.85, 'extracted_reason': 'The term is a potential outcome if the Commission decides to order it.'}], 'verb_symbols': ['will be issued', 'orders'], 'element_name': 'Operative Rule'}\n",
      "element_dict={'doc_id': '§ 275.0-5', 'statement_id': 4, 'statement_title': 'Commission orders a hearing', 'statement': 'The Commission will order a hearing on the matter, if it appears that a hearing is necessary or appropriate in the public interest or for the protection of investors, upon the request of any interested person or upon its own motion.', 'sources': ['(c)'], 'terms': [{'term': 'Commission', 'classification': 'Proper Noun', 'confidence': 0.95, 'reason': 'The term refers to a specific regulatory body.', 'extracted_confidence': 0.95, 'extracted_reason': 'The term is explicitly named as the entity that orders a hearing.'}, {'term': 'Hearing', 'classification': 'Common Noun', 'confidence': 0.85, 'reason': 'The term refers to a formal meeting or session.', 'extracted_confidence': 0.85, 'extracted_reason': 'The term is a key part of the procedure.'}, {'term': 'Matter', 'classification': 'Common Noun', 'confidence': 0.8, 'reason': 'The term refers to the subject or issue at hand.', 'extracted_confidence': 0.8, 'extracted_reason': 'The term is used to describe what the hearing will address.'}, {'term': 'Public interest', 'classification': 'Common Noun', 'confidence': 0.8, 'reason': 'The term describes a consideration for ordering a hearing.', 'extracted_confidence': 0.8, 'extracted_reason': 'The term is part of the criteria for ordering a hearing.'}, {'term': 'Protection of investors', 'classification': 'Common Noun', 'confidence': 0.8, 'reason': 'The term describes a consideration for ordering a hearing.', 'extracted_confidence': 0.8, 'extracted_reason': 'The term is part of the criteria for ordering a hearing.'}, {'term': 'Interested person', 'classification': 'Common Noun', 'confidence': 0.9, 'reason': 'The term refers to any individual or entity with a stake in the proceeding.', 'extracted_confidence': 0.9, 'extracted_reason': 'The term is explicitly mentioned as a participant in the process.'}], 'verb_symbols': ['will order', 'appears', 'is necessary', 'is appropriate'], 'element_name': 'Operative Rule'}\n",
      "element_dict={'doc_id': '§ 275.0-5', 'statement_id': 5, 'statement_title': 'Definition of application', 'statement': 'For purposes of this rule, an “application” means any application for an order of the Commission under the Act other than an application for registration as an investment adviser.', 'sources': ['(d)'], 'terms': [{'term': 'Application', 'classification': 'Common Noun', 'confidence': 0.9, 'reason': 'The term is defined within the context of the rule.', 'extracted_confidence': 0.9, 'extracted_reason': 'The term is explicitly defined in the statement.'}, {'term': 'Order', 'classification': 'Common Noun', 'confidence': 0.85, 'reason': 'The term refers to a formal decision or directive.', 'extracted_confidence': 0.85, 'extracted_reason': 'The term is part of the definition of application.'}, {'term': 'Commission', 'classification': 'Proper Noun', 'confidence': 0.95, 'reason': 'The term refers to a specific regulatory body.', 'extracted_confidence': 0.95, 'extracted_reason': 'The term is explicitly named in the definition.'}, {'term': 'Act', 'classification': 'Proper Noun', 'confidence': 0.9, 'reason': 'The term refers to a specific legislative document.', 'extracted_confidence': 0.9, 'extracted_reason': 'The term is explicitly mentioned as the context for the application.'}, {'term': 'Registration', 'classification': 'Common Noun', 'confidence': 0.85, 'reason': 'The term refers to the process of enrolling or recording.', 'extracted_confidence': 0.85, 'extracted_reason': 'The term is part of the exclusion in the definition.'}, {'term': 'Investment adviser', 'classification': 'Common Noun', 'confidence': 0.9, 'reason': 'The term refers to a specific role or profession.', 'extracted_confidence': 0.9, 'extracted_reason': 'The term is explicitly mentioned as part of the exclusion.'}], 'verb_symbols': ['means'], 'element_name': 'Fact Type'}\n",
      "element_dict={'doc_id': '§ 275.0-7', 'statement_id': 1, 'statement_title': 'Definition of small business or small organization', 'statement': 'The term small business or small organization for purposes of the Investment Advisers Act of 1940 shall mean an investment adviser that has assets under management of less than $25 million, or such higher amount as the Commission may by rule deem appropriate.', 'sources': ['(a)'], 'terms': [{'term': 'Small business', 'classification': 'Common Noun', 'confidence': 0.9, 'reason': 'The term is a general category defined by specific criteria.', 'extracted_confidence': 0.9, 'extracted_reason': 'The term is explicitly defined in the document.'}, {'term': 'Small organization', 'classification': 'Common Noun', 'confidence': 0.9, 'reason': 'The term is a general category defined by specific criteria.', 'extracted_confidence': 0.9, 'extracted_reason': 'The term is explicitly defined in the document.'}, {'term': 'Investment adviser', 'classification': 'Common Noun', 'confidence': 0.9, 'reason': 'The term is a specific role within the financial industry.', 'extracted_confidence': 0.9, 'extracted_reason': 'The term is explicitly mentioned in the document.'}, {'term': 'Assets under management', 'classification': 'Common Noun', 'confidence': 0.9, 'reason': 'The term is a financial metric used to define the size of an investment adviser.', 'extracted_confidence': 0.9, 'extracted_reason': 'The term is explicitly mentioned in the document.'}, {'term': 'Commission', 'classification': 'Proper Noun', 'confidence': 0.9, 'reason': 'The term refers to a specific regulatory body.', 'extracted_confidence': 0.9, 'extracted_reason': 'The term is explicitly mentioned in the document.'}], 'verb_symbols': ['shall mean', 'has', 'deem'], 'element_name': 'Fact Type'}\n",
      "element_dict={'doc_id': '§ 275.0-7', 'statement_id': 2, 'statement_title': 'Assets under management criterion', 'statement': 'An investment adviser has assets under management, as defined under Section 203A(a)(3) of the Act and reported on its annual updating amendment to Form ADV, of less than $25 million, or such higher amount as the Commission may by rule deem appropriate.', 'sources': ['(a)(1)'], 'terms': [{'term': 'Investment adviser', 'classification': 'Common Noun', 'confidence': 0.9, 'reason': 'The term is a specific role within the financial industry.', 'extracted_confidence': 0.9, 'extracted_reason': 'The term is explicitly mentioned in the document.'}, {'term': 'Assets under management', 'classification': 'Common Noun', 'confidence': 0.9, 'reason': 'The term is a financial metric used to define the size of an investment adviser.', 'extracted_confidence': 0.9, 'extracted_reason': 'The term is explicitly mentioned in the document.'}, {'term': 'Section 203A(a)(3) of the Act', 'classification': 'Proper Noun', 'confidence': 0.9, 'reason': 'The term refers to a specific legal provision.', 'extracted_confidence': 0.9, 'extracted_reason': 'The term is explicitly mentioned in the document.'}, {'term': 'Form ADV', 'classification': 'Proper Noun', 'confidence': 0.9, 'reason': 'The term refers to a specific regulatory form.', 'extracted_confidence': 0.9, 'extracted_reason': 'The term is explicitly mentioned in the document.'}, {'term': 'Commission', 'classification': 'Proper Noun', 'confidence': 0.9, 'reason': 'The term refers to a specific regulatory body.', 'extracted_confidence': 0.9, 'extracted_reason': 'The term is explicitly mentioned in the document.'}], 'verb_symbols': ['has', 'defined', 'reported', 'deem'], 'element_name': 'Fact Type'}\n",
      "element_dict={'doc_id': '§ 275.0-7', 'statement_id': 3, 'statement_title': 'Total assets criterion', 'statement': 'An investment adviser did not have total assets of $5 million or more on the last day of the most recent fiscal year.', 'sources': ['(a)(2)'], 'terms': [{'term': 'Investment adviser', 'classification': 'Common Noun', 'confidence': 0.9, 'reason': 'The term is a specific role within the financial industry.', 'extracted_confidence': 0.9, 'extracted_reason': 'The term is explicitly mentioned in the document.'}, {'term': 'Total assets', 'classification': 'Common Noun', 'confidence': 0.9, 'reason': 'The term is a financial metric used to define the size of an investment adviser.', 'extracted_confidence': 0.9, 'extracted_reason': 'The term is explicitly mentioned in the document.'}, {'term': 'Fiscal year', 'classification': 'Common Noun', 'confidence': 0.9, 'reason': 'The term refers to a specific accounting period.', 'extracted_confidence': 0.9, 'extracted_reason': 'The term is explicitly mentioned in the document.'}], 'verb_symbols': ['did not have'], 'element_name': 'Fact Type'}\n",
      "element_dict={'doc_id': '§ 275.0-7', 'statement_id': 4, 'statement_title': 'Control relationship criterion', 'statement': 'An investment adviser does not control, is not controlled by, and is not under common control with another investment adviser that has assets under management of $25 million or more, or any person (other than a natural person) that had total assets of $5 million or more on the last day of the most recent fiscal year.', 'sources': ['(a)(3)'], 'terms': [{'term': 'Investment adviser', 'classification': 'Common Noun', 'confidence': 0.9, 'reason': 'The term is a specific role within the financial industry.', 'extracted_confidence': 0.9, 'extracted_reason': 'The term is explicitly mentioned in the document.'}, {'term': 'Control', 'classification': 'Common Noun', 'confidence': 0.9, 'reason': 'The term refers to a power relationship between entities.', 'extracted_confidence': 0.9, 'extracted_reason': 'The term is explicitly mentioned in the document.'}, {'term': 'Assets under management', 'classification': 'Common Noun', 'confidence': 0.9, 'reason': 'The term is a financial metric used to define the size of an investment adviser.', 'extracted_confidence': 0.9, 'extracted_reason': 'The term is explicitly mentioned in the document.'}, {'term': 'Person', 'classification': 'Common Noun', 'confidence': 0.9, 'reason': 'The term refers to an entity other than a natural person.', 'extracted_confidence': 0.9, 'extracted_reason': 'The term is explicitly mentioned in the document.'}, {'term': 'Natural person', 'classification': 'Common Noun', 'confidence': 0.9, 'reason': 'The term refers to an individual human being.', 'extracted_confidence': 0.9, 'extracted_reason': 'The term is explicitly mentioned in the document.'}, {'term': 'Fiscal year', 'classification': 'Common Noun', 'confidence': 0.9, 'reason': 'The term refers to a specific accounting period.', 'extracted_confidence': 0.9, 'extracted_reason': 'The term is explicitly mentioned in the document.'}], 'verb_symbols': ['does not control', 'is not controlled by', 'is not under common control with', 'has', 'had'], 'element_name': 'Fact Type'}\n",
      "element_dict={'doc_id': '§ 275.0-7', 'statement_id': 5, 'statement_title': 'Definition of control', 'statement': 'Control means the power, directly or indirectly, to direct the management or policies of a person, whether through ownership of securities, by contract, or otherwise.', 'sources': ['(b)(1)'], 'terms': [{'term': 'Control', 'classification': 'Common Noun', 'confidence': 0.9, 'reason': 'The term refers to a power relationship between entities.', 'extracted_confidence': 0.9, 'extracted_reason': 'The term is explicitly defined in the document.'}, {'term': 'Power', 'classification': 'Common Noun', 'confidence': 0.9, 'reason': 'The term refers to the ability to influence or direct behavior.', 'extracted_confidence': 0.9, 'extracted_reason': 'The term is explicitly mentioned in the document.'}, {'term': 'Management', 'classification': 'Common Noun', 'confidence': 0.9, 'reason': 'The term refers to the process of dealing with or controlling things or people.', 'extracted_confidence': 0.9, 'extracted_reason': 'The term is explicitly mentioned in the document.'}, {'term': 'Policies', 'classification': 'Common Noun', 'confidence': 0.9, 'reason': 'The term refers to a course or principle of action adopted or proposed by an organization or individual.', 'extracted_confidence': 0.9, 'extracted_reason': 'The term is explicitly mentioned in the document.'}, {'term': 'Person', 'classification': 'Common Noun', 'confidence': 0.9, 'reason': 'The term refers to an entity other than a natural person.', 'extracted_confidence': 0.9, 'extracted_reason': 'The term is explicitly mentioned in the document.'}, {'term': 'Ownership of securities', 'classification': 'Common Noun', 'confidence': 0.9, 'reason': 'The term refers to holding legal title to financial instruments.', 'extracted_confidence': 0.9, 'extracted_reason': 'The term is explicitly mentioned in the document.'}, {'term': 'Contract', 'classification': 'Common Noun', 'confidence': 0.9, 'reason': 'The term refers to a written or spoken agreement that is intended to be enforceable by law.', 'extracted_confidence': 0.9, 'extracted_reason': 'The term is explicitly mentioned in the document.'}], 'verb_symbols': ['means', 'to direct'], 'element_name': 'Fact Type'}\n",
      "element_dict={'doc_id': '§ 275.0-7', 'statement_id': 6, 'statement_title': 'Presumption of control over a corporation', 'statement': \"A person is presumed to control a corporation if the person directly or indirectly has the right to vote 25 percent or more of a class of the corporation's voting securities.\", 'sources': ['(b)(1)(i)(A)'], 'terms': [{'term': 'Person', 'classification': 'Common Noun', 'confidence': 0.9, 'reason': 'The term refers to an entity other than a natural person.', 'extracted_confidence': 0.9, 'extracted_reason': 'The term is explicitly mentioned in the document.'}, {'term': 'Corporation', 'classification': 'Common Noun', 'confidence': 0.9, 'reason': 'The term refers to a company or group of people authorized to act as a single entity.', 'extracted_confidence': 0.9, 'extracted_reason': 'The term is explicitly mentioned in the document.'}, {'term': 'Right to vote', 'classification': 'Common Noun', 'confidence': 0.9, 'reason': 'The term refers to the legal entitlement to participate in decision-making processes.', 'extracted_confidence': 0.9, 'extracted_reason': 'The term is explicitly mentioned in the document.'}, {'term': 'Voting securities', 'classification': 'Common Noun', 'confidence': 0.9, 'reason': 'The term refers to financial instruments that give the holder the right to vote on corporate matters.', 'extracted_confidence': 0.9, 'extracted_reason': 'The term is explicitly mentioned in the document.'}], 'verb_symbols': ['is presumed to control', 'has'], 'element_name': 'Fact Type'}\n",
      "element_dict={'doc_id': '§ 275.0-7', 'statement_id': 7, 'statement_title': 'Presumption of control over a partnership', 'statement': 'A person is presumed to control a partnership if the person has the right to receive upon dissolution, or has contributed, 25 percent or more of the capital of the partnership.', 'sources': ['(b)(1)(ii)'], 'terms': [{'term': 'Person', 'classification': 'Common Noun', 'confidence': 0.9, 'reason': 'The term refers to an entity other than a natural person.', 'extracted_confidence': 0.9, 'extracted_reason': 'The term is explicitly mentioned in the document.'}, {'term': 'Partnership', 'classification': 'Common Noun', 'confidence': 0.9, 'reason': 'The term refers to a legal form of business operation between two or more individuals who share management and profits.', 'extracted_confidence': 0.9, 'extracted_reason': 'The term is explicitly mentioned in the document.'}, {'term': 'Right to receive upon dissolution', 'classification': 'Common Noun', 'confidence': 0.9, 'reason': 'The term refers to the entitlement to assets when a partnership is dissolved.', 'extracted_confidence': 0.9, 'extracted_reason': 'The term is explicitly mentioned in the document.'}, {'term': 'Capital', 'classification': 'Common Noun', 'confidence': 0.9, 'reason': 'The term refers to financial assets or the financial value of assets.', 'extracted_confidence': 0.9, 'extracted_reason': 'The term is explicitly mentioned in the document.'}], 'verb_symbols': ['is presumed to control', 'has', 'has contributed'], 'element_name': 'Fact Type'}\n",
      "element_dict={'doc_id': '§ 275.0-7', 'statement_id': 8, 'statement_title': 'Presumption of control over an LLC', 'statement': 'A person is presumed to control a limited liability company (LLC) if the person directly or indirectly has the right to vote 25 percent or more of a class of the interests of the LLC, has the right to receive upon dissolution, or has contributed, 25 percent or more of the capital of the LLC, or is an elected manager of the LLC.', 'sources': ['(b)(1)(iii)'], 'terms': [{'term': 'Person', 'classification': 'Common Noun', 'confidence': 0.9, 'reason': 'The term refers to an entity other than a natural person.', 'extracted_confidence': 0.9, 'extracted_reason': 'The term is explicitly mentioned in the document.'}, {'term': 'Limited liability company (LLC)', 'classification': 'Common Noun', 'confidence': 0.9, 'reason': 'The term refers to a business structure that combines the pass-through taxation of a partnership with the limited liability of a corporation.', 'extracted_confidence': 0.9, 'extracted_reason': 'The term is explicitly mentioned in the document.'}, {'term': 'Right to vote', 'classification': 'Common Noun', 'confidence': 0.9, 'reason': 'The term refers to the legal entitlement to participate in decision-making processes.', 'extracted_confidence': 0.9, 'extracted_reason': 'The term is explicitly mentioned in the document.'}, {'term': 'Right to receive upon dissolution', 'classification': 'Common Noun', 'confidence': 0.9, 'reason': 'The term refers to the entitlement to assets when an LLC is dissolved.', 'extracted_confidence': 0.9, 'extracted_reason': 'The term is explicitly mentioned in the document.'}, {'term': 'Capital', 'classification': 'Common Noun', 'confidence': 0.9, 'reason': 'The term refers to financial assets or the financial value of assets.', 'extracted_confidence': 0.9, 'extracted_reason': 'The term is explicitly mentioned in the document.'}, {'term': 'Elected manager', 'classification': 'Common Noun', 'confidence': 0.9, 'reason': 'The term refers to an individual chosen to manage an LLC.', 'extracted_confidence': 0.9, 'extracted_reason': 'The term is explicitly mentioned in the document.'}], 'verb_symbols': ['is presumed to control', 'has', 'has contributed', 'is'], 'element_name': 'Fact Type'}\n",
      "element_dict={'doc_id': '§ 275.0-7', 'statement_id': 9, 'statement_title': 'Presumption of control over a trust', 'statement': 'A person is presumed to control a trust if the person is a trustee or managing agent of the trust.', 'sources': ['(b)(1)(iv)'], 'terms': [{'term': 'Person', 'classification': 'Common Noun', 'confidence': 0.9, 'reason': 'The term refers to an entity other than a natural person.', 'extracted_confidence': 0.9, 'extracted_reason': 'The term is explicitly mentioned in the document.'}, {'term': 'Trust', 'classification': 'Common Noun', 'confidence': 0.9, 'reason': 'The term refers to a fiduciary relationship in which one party holds legal title to property for the benefit of another.', 'extracted_confidence': 0.9, 'extracted_reason': 'The term is explicitly mentioned in the document.'}, {'term': 'Trustee', 'classification': 'Common Noun', 'confidence': 0.9, 'reason': 'The term refers to an individual or organization that holds or manages and invests assets for the benefit of another.', 'extracted_confidence': 0.9, 'extracted_reason': 'The term is explicitly mentioned in the document.'}, {'term': 'Managing agent', 'classification': 'Common Noun', 'confidence': 0.9, 'reason': 'The term refers to an individual or entity responsible for managing the affairs of a trust.', 'extracted_confidence': 0.9, 'extracted_reason': 'The term is explicitly mentioned in the document.'}], 'verb_symbols': ['is presumed to control', 'is'], 'element_name': 'Fact Type'}\n",
      "element_dict={'doc_id': '§ 275.0-7', 'statement_id': 10, 'statement_title': 'Definition of total assets', 'statement': 'Total assets means the total assets as shown on the balance sheet of the investment adviser or other person described above under paragraph (a)(3) of this section, or the balance sheet of the investment adviser or such other person with its subsidiaries consolidated, whichever is larger.', 'sources': ['(b)(2)'], 'terms': [{'term': 'Total assets', 'classification': 'Common Noun', 'confidence': 0.9, 'reason': 'The term refers to the sum of all assets owned by an entity.', 'extracted_confidence': 0.9, 'extracted_reason': 'The term is explicitly defined in the document.'}, {'term': 'Balance sheet', 'classification': 'Common Noun', 'confidence': 0.9, 'reason': \"The term refers to a financial statement that summarizes an entity's assets, liabilities, and shareholders' equity.\", 'extracted_confidence': 0.9, 'extracted_reason': 'The term is explicitly mentioned in the document.'}, {'term': 'Investment adviser', 'classification': 'Common Noun', 'confidence': 0.9, 'reason': 'The term is a specific role within the financial industry.', 'extracted_confidence': 0.9, 'extracted_reason': 'The term is explicitly mentioned in the document.'}, {'term': 'Person', 'classification': 'Common Noun', 'confidence': 0.9, 'reason': 'The term refers to an entity other than a natural person.', 'extracted_confidence': 0.9, 'extracted_reason': 'The term is explicitly mentioned in the document.'}, {'term': 'Subsidiaries', 'classification': 'Common Noun', 'confidence': 0.9, 'reason': 'The term refers to companies controlled by a parent company.', 'extracted_confidence': 0.9, 'extracted_reason': 'The term is explicitly mentioned in the document.'}], 'verb_symbols': ['means', 'shown'], 'element_name': 'Fact Type'}\n",
      "MATCH\n",
      "MATCH\n",
      "MATCH\n",
      "MATCH\n",
      "MATCH\n",
      "MATCH\n",
      "MATCH\n",
      "MATCH\n",
      "MATCH\n",
      "MATCH\n",
      "MATCH\n",
      "MATCH\n",
      "MATCH\n",
      "MATCH\n",
      "MATCH\n",
      "MATCH\n",
      "MATCH\n",
      "MATCH\n",
      "MATCH\n",
      "MATCH\n",
      "MATCH\n",
      "MATCH\n",
      "MATCH\n",
      "MATCH\n",
      "MATCH\n",
      "MATCH\n",
      "MATCH\n",
      "MATCH\n",
      "MATCH\n",
      "MATCH\n",
      "MATCH\n",
      "MATCH\n",
      "MATCH\n",
      "MATCH\n",
      "MATCH\n",
      "MATCH\n",
      "MATCH\n",
      "MATCH\n",
      "MATCH\n",
      "MATCH\n",
      "MATCH\n",
      "MATCH\n",
      "MATCH\n",
      "MATCH\n",
      "MATCH\n",
      "MATCH\n",
      "MATCH\n",
      "MATCH\n",
      "MATCH\n",
      "MATCH\n"
     ]
    }
   ],
   "source": [
    "processor = DocumentProcessor(manager, merge=True)\n",
    "\n",
    "pred_operative_rules = processor.get_rules()\n",
    "pred_facts = processor.get_facts()\n",
    "pred_terms = processor.get_terms(definition_filter=\"non_null\")\n",
    "pred_names = processor.get_names(definition_filter=\"non_null\")\n",
    "\n",
    "logger.debug(f\"Rules: {pred_operative_rules}\")\n",
    "logger.debug(f\"Facts: {pred_facts}\")\n",
    "logger.debug(f\"Terms: {pred_terms}\")\n",
    "logger.debug(f\"Names: {pred_names}\")\n",
    "logger.info(f\"Rules to evaluate: {len(pred_operative_rules)}\")\n",
    "logger.info(f\"Facts to evaluate: {len(pred_facts)}\")\n",
    "logger.info(f\"Terms to evaluate: {len(pred_terms)}\")\n",
    "logger.info(f\"Names to evaluate: {len(pred_names)}\")"
   ]
  },
  {
   "cell_type": "code",
   "execution_count": 14,
   "metadata": {},
   "outputs": [
    {
     "data": {
      "text/plain": [
       "[{'doc_id': '§ 275.0-2',\n",
       "  'statement_id': 'Managing agent',\n",
       "  'definition': 'Any person, including a trustee, who directs or manages, or who participates in directing or managing, the affairs of any unincorporated organization or association other than a partnership.',\n",
       "  'isLocalScope': True,\n",
       "  'sources': ['(b)(1)'],\n",
       "  'element_name': 'Term',\n",
       "  'transformed': 'A managing agent is by definition a person who directs or manages, or who participates in directing or managing, the affairs of any unincorporated organization or association other than a partnership.',\n",
       "  'type': 'Definitional',\n",
       "  'subtype': 'Formal intensional definitions',\n",
       "  'confidence': 0.9,\n",
       "  'explanation': \"The statement defines 'Managing agent' by specifying it as a type of 'person' with the characteristic of directing or managing the affairs of an unincorporated organization or association. The hypernym is 'person', and the qualifying clause is 'who directs or manages, or who participates in directing or managing, the affairs of any unincorporated organization or association other than a partnership.' This matches the template for formal intensional definitions.\",\n",
       "  'templates_ids': ['T7']},\n",
       " {'doc_id': '§ 275.0-2',\n",
       "  'statement_id': 'Non-resident',\n",
       "  'definition': 'An individual, corporation, partnership, or other unincorporated organization or association that resides or has its principal office and place of business in any place not subject to the jurisdiction of the United States.',\n",
       "  'isLocalScope': True,\n",
       "  'sources': ['(b)(2)'],\n",
       "  'element_name': 'Term',\n",
       "  'transformed': 'A non-resident is by definition an individual, a corporation, a partnership, or an unincorporated organization or association that resides or has its principal office and place of business in any place not subject to the jurisdiction of the United States.',\n",
       "  'type': 'Definitional',\n",
       "  'subtype': 'Formal extensional definitions',\n",
       "  'confidence': 0.8,\n",
       "  'explanation': \"The statement defines 'Non-resident' by listing a set of entities (individual, corporation, partnership, or other unincorporated organization or association) that meet the condition of residing outside the jurisdiction of the United States. The list of entities serves as hyponyms, aligning with the template for formal extensional definitions.\",\n",
       "  'templates_ids': ['T8']},\n",
       " {'doc_id': '§ 275.0-5',\n",
       "  'statement_id': 'Notice',\n",
       "  'definition': 'A publication in the Federal Register indicating the initiation of the proceeding and the earliest date for an order.',\n",
       "  'isLocalScope': True,\n",
       "  'sources': ['(a)'],\n",
       "  'element_name': 'Term',\n",
       "  'transformed': 'A Notice is by definition a publication in the Federal Register that indicates the initiation of the proceeding and the earliest date for an order.',\n",
       "  'type': 'Definitional',\n",
       "  'subtype': 'Formal intensional definitions',\n",
       "  'confidence': 0.9,\n",
       "  'explanation': \"The statement defines 'Notice' as a type of 'publication' with the characteristic of indicating the initiation of the proceeding and the earliest date for an order. The hypernym is 'publication', and the qualifying clause is 'indicating the initiation of the proceeding and the earliest date for an order.' This matches the template for formal intensional definitions.\",\n",
       "  'templates_ids': ['T7']},\n",
       " {'doc_id': '§ 275.0-5',\n",
       "  'statement_id': 'Initiation of the proceeding',\n",
       "  'definition': 'The process that begins when a notice is published in the Federal Register indicating the earliest date upon which an order disposing of the matter may be entered.',\n",
       "  'isLocalScope': True,\n",
       "  'sources': ['(a)'],\n",
       "  'element_name': 'Term',\n",
       "  'transformed': 'An initiation of the proceeding is by definition a process that begins when a notice is published in the Federal Register indicating the earliest date upon which an order disposing of the matter may be entered.',\n",
       "  'type': 'Definitional',\n",
       "  'subtype': 'Formal intensional definitions',\n",
       "  'confidence': 0.9,\n",
       "  'explanation': \"The statement defines 'Initiation of the proceeding' as a type of 'process' with the characteristic of beginning when a notice is published in the Federal Register. The hypernym is 'process', and the qualifying clause is 'that begins when a notice is published in the Federal Register indicating the earliest date upon which an order disposing of the matter may be entered.' This matches the template for formal intensional definitions.\",\n",
       "  'templates_ids': ['T7']},\n",
       " {'doc_id': '§ 275.0-5',\n",
       "  'statement_id': 'Order',\n",
       "  'definition': 'A decision issued by the Commission disposing of the matter.',\n",
       "  'isLocalScope': True,\n",
       "  'sources': ['(d)', '(a)', '(b)'],\n",
       "  'element_name': 'Term',\n",
       "  'transformed': 'An Order is by definition a decision that is issued by the Commission disposing of the matter.',\n",
       "  'type': 'Definitional',\n",
       "  'subtype': 'Formal intensional definitions',\n",
       "  'confidence': 0.9,\n",
       "  'explanation': \"The statement defines 'Order' as a type of 'decision' with the characteristic of being issued by the Commission to dispose of the matter. The hypernym is 'decision', and the qualifying clause is 'issued by the Commission disposing of the matter.' This matches the template for formal intensional definitions.\",\n",
       "  'templates_ids': ['T7']},\n",
       " {'doc_id': '§ 275.0-5',\n",
       "  'statement_id': 'Matter',\n",
       "  'definition': \"The subject of the proceeding initiated by the filing of an application or the Commission's motion.\",\n",
       "  'isLocalScope': True,\n",
       "  'sources': ['(a)', '(b)', '(c)'],\n",
       "  'element_name': 'Term',\n",
       "  'transformed': \"A matter is by definition the subject of the proceeding that is initiated by the filing of an application or the Commission's motion.\",\n",
       "  'type': 'Definitional',\n",
       "  'subtype': 'Formal intensional definitions',\n",
       "  'confidence': 0.9,\n",
       "  'explanation': \"The statement defines 'Matter' as a type of 'subject' with the characteristic of being the subject of the proceeding initiated by the filing of an application or the Commission's motion. The hypernym is 'subject', and the qualifying clause is 'of the proceeding initiated by the filing of an application or the Commission's motion.' This matches the template for formal intensional definitions.\",\n",
       "  'templates_ids': ['T7']},\n",
       " {'doc_id': '§ 275.0-5',\n",
       "  'statement_id': 'Interested person',\n",
       "  'definition': 'Any person who may submit facts or request a hearing on the matter.',\n",
       "  'isLocalScope': True,\n",
       "  'sources': ['(a)', '(c)'],\n",
       "  'element_name': 'Term',\n",
       "  'transformed': 'An interested person is by definition a person who may submit facts or request a hearing on the matter.',\n",
       "  'type': 'Definitional',\n",
       "  'subtype': 'Formal intensional definitions',\n",
       "  'confidence': 0.9,\n",
       "  'explanation': \"The statement defines 'Interested person' as a type of 'person' with the characteristic of being able to submit facts or request a hearing on the matter. The hypernym is 'person', and the qualifying clause is 'who may submit facts or request a hearing on the matter.' This matches the template for formal intensional definitions.\",\n",
       "  'templates_ids': ['T7']},\n",
       " {'doc_id': '§ 275.0-5',\n",
       "  'statement_id': 'Period of time',\n",
       "  'definition': 'The timeframe specified in the notice during which interested persons can submit facts or request a hearing.',\n",
       "  'isLocalScope': True,\n",
       "  'sources': ['(a)', '(b)'],\n",
       "  'element_name': 'Term',\n",
       "  'transformed': 'A period of time is by definition the timeframe specified in the notice during which interested persons can submit facts or request a hearing.',\n",
       "  'type': 'Definitional',\n",
       "  'subtype': 'Formal intensional definitions',\n",
       "  'confidence': 0.9,\n",
       "  'explanation': \"The statement defines 'Period of time' as a type of 'timeframe' with the characteristic of being specified in the notice during which interested persons can submit facts or request a hearing. The hypernym is 'timeframe', and the qualifying clause is 'specified in the notice during which interested persons can submit facts or request a hearing.' This matches the template for formal intensional definitions.\",\n",
       "  'templates_ids': ['T7']},\n",
       " {'doc_id': '§ 275.0-5',\n",
       "  'statement_id': 'Facts',\n",
       "  'definition': 'Information submitted to the Commission bearing upon the desirability of a hearing on the matter.',\n",
       "  'isLocalScope': True,\n",
       "  'sources': ['(a)'],\n",
       "  'element_name': 'Term',\n",
       "  'transformed': 'Information is by definition a fact that is submitted to the Commission bearing upon the desirability of a hearing on the matter.',\n",
       "  'type': 'Definitional',\n",
       "  'subtype': 'Formal intensional definitions',\n",
       "  'confidence': 0.9,\n",
       "  'explanation': \"The statement defines 'Facts' as a type of 'information' with the characteristic of being submitted to the Commission bearing upon the desirability of a hearing on the matter. The hypernym is 'information', and the qualifying clause is 'submitted to the Commission bearing upon the desirability of a hearing on the matter.' This matches the template for formal intensional definitions.\",\n",
       "  'templates_ids': ['T7']},\n",
       " {'doc_id': '§ 275.0-5',\n",
       "  'statement_id': 'Hearing',\n",
       "  'definition': 'A proceeding ordered by the Commission if necessary or appropriate in the public interest or for the protection of investors.',\n",
       "  'isLocalScope': True,\n",
       "  'sources': ['(a)', '(b)', '(c)'],\n",
       "  'element_name': 'Term',\n",
       "  'transformed': 'A hearing is by definition a proceeding that is ordered by the Commission if necessary or appropriate in the public interest or for the protection of investors.',\n",
       "  'type': 'Definitional',\n",
       "  'subtype': 'Formal intensional definitions',\n",
       "  'confidence': 0.9,\n",
       "  'explanation': \"The statement defines 'Hearing' as a type of 'proceeding' with the characteristic of being ordered by the Commission if necessary or appropriate in the public interest or for the protection of investors. The hypernym is 'proceeding', and the qualifying clause is 'ordered by the Commission if necessary or appropriate in the public interest or for the protection of investors.' This matches the template for formal intensional definitions.\",\n",
       "  'templates_ids': ['T7']},\n",
       " {'doc_id': '§ 275.0-5',\n",
       "  'statement_id': 'Reasons',\n",
       "  'definition': 'The justification provided by an interested person for requesting a hearing.',\n",
       "  'isLocalScope': True,\n",
       "  'sources': ['(a)'],\n",
       "  'element_name': 'Term',\n",
       "  'transformed': 'A reason is by definition a justification that is provided by an interested person for requesting a hearing.',\n",
       "  'type': 'Definitional',\n",
       "  'subtype': 'Formal intensional definitions',\n",
       "  'confidence': 0.9,\n",
       "  'explanation': \"The statement defines 'Reasons' as a type of 'justification' with the characteristic of being provided by an interested person for requesting a hearing. The hypernym is 'justification', and the qualifying clause is 'provided by an interested person for requesting a hearing.' This matches the template for formal intensional definitions.\",\n",
       "  'templates_ids': ['T7']},\n",
       " {'doc_id': '§ 275.0-5',\n",
       "  'statement_id': 'Nature of interest',\n",
       "  'definition': 'The specific interest an interested person has in the matter, which must be stated when requesting a hearing.',\n",
       "  'isLocalScope': True,\n",
       "  'sources': ['(a)'],\n",
       "  'element_name': 'Term',\n",
       "  'transformed': 'A specific interest of an interested person is by definition the interest that must be stated when requesting a hearing.',\n",
       "  'type': 'Definitional',\n",
       "  'subtype': 'Formal intensional definitions',\n",
       "  'confidence': 0.9,\n",
       "  'explanation': \"The statement defines 'Nature of interest' as a type of 'specific interest' with the characteristic of being the interest an interested person has in the matter, which must be stated when requesting a hearing. The hypernym is 'specific interest', and the qualifying clause is 'an interested person has in the matter, which must be stated when requesting a hearing.' This matches the template for formal intensional definitions.\",\n",
       "  'templates_ids': ['T7']},\n",
       " {'doc_id': '§ 275.0-5',\n",
       "  'statement_id': 'Public interest',\n",
       "  'definition': 'A consideration for ordering a hearing if it appears necessary or appropriate.',\n",
       "  'isLocalScope': True,\n",
       "  'sources': ['(c)'],\n",
       "  'element_name': 'Term',\n",
       "  'transformed': 'A public interest is by definition a consideration for ordering a hearing that appears necessary or appropriate.',\n",
       "  'type': 'Definitional',\n",
       "  'subtype': 'Formal intensional definitions',\n",
       "  'confidence': 0.9,\n",
       "  'explanation': \"The statement defines 'Public interest' as a type of 'consideration' with the characteristic of being for ordering a hearing if it appears necessary or appropriate. The hypernym is 'consideration', and the qualifying clause is 'for ordering a hearing if it appears necessary or appropriate.' This matches the template for formal intensional definitions.\",\n",
       "  'templates_ids': ['T7']},\n",
       " {'doc_id': '§ 275.0-5',\n",
       "  'statement_id': 'Protection of investors',\n",
       "  'definition': 'A consideration for ordering a hearing if it appears necessary or appropriate.',\n",
       "  'isLocalScope': True,\n",
       "  'sources': ['(c)'],\n",
       "  'element_name': 'Term',\n",
       "  'transformed': 'A consideration for ordering a hearing is by definition a consideration that appears necessary or appropriate.',\n",
       "  'type': 'Definitional',\n",
       "  'subtype': 'Formal intensional definitions',\n",
       "  'confidence': 0.9,\n",
       "  'explanation': \"The statement defines 'Protection of investors' as a type of 'consideration' with the characteristic of being for ordering a hearing if it appears necessary or appropriate. The hypernym is 'consideration', and the qualifying clause is 'for ordering a hearing if it appears necessary or appropriate.' This matches the template for formal intensional definitions.\",\n",
       "  'templates_ids': ['T7']},\n",
       " {'doc_id': '§ 275.0-5',\n",
       "  'statement_id': 'Application',\n",
       "  'definition': 'Any application for an order of the Commission under the Act, excluding applications for registration as an investment adviser.',\n",
       "  'isLocalScope': True,\n",
       "  'sources': ['(d)'],\n",
       "  'element_name': 'Term',\n",
       "  'transformed': 'An application is by definition an order of the Commission under the Act other than an application for registration as an investment adviser.',\n",
       "  'type': 'Definitional',\n",
       "  'subtype': 'Formal intensional definitions',\n",
       "  'confidence': 0.9,\n",
       "  'explanation': \"The statement defines 'Application' as a type of 'application' with the characteristic of being for an order of the Commission under the Act, excluding applications for registration as an investment adviser. The hypernym is 'application', and the qualifying clause is 'for an order of the Commission under the Act, excluding applications for registration as an investment adviser.' This matches the template for formal intensional definitions.\",\n",
       "  'templates_ids': ['T7']},\n",
       " {'doc_id': '§ 275.0-7',\n",
       "  'statement_id': 'Small business',\n",
       "  'definition': 'An investment adviser with assets under management of less than $25 million, or such higher amount as the Commission may deem appropriate, and other specific conditions.',\n",
       "  'isLocalScope': True,\n",
       "  'sources': ['(a)'],\n",
       "  'element_name': 'Term',\n",
       "  'transformed': 'An investment adviser is by definition an investment adviser with assets under management of less than $25 million, or such higher amount as the Commission may deem appropriate, and other specific conditions.',\n",
       "  'type': 'Definitional',\n",
       "  'subtype': 'Formal extensional definitions',\n",
       "  'confidence': 0.8,\n",
       "  'explanation': \"The statement defines 'Small business' by listing conditions that qualify an investment adviser as such, which aligns with the extensional definition template. However, the phrase 'and other specific conditions' introduces some ambiguity, slightly lowering confidence.\",\n",
       "  'templates_ids': ['T8']},\n",
       " {'doc_id': '§ 275.0-7',\n",
       "  'statement_id': 'Small organization',\n",
       "  'definition': 'An investment adviser with assets under management of less than $25 million, or such higher amount as the Commission may deem appropriate, and other specific conditions.',\n",
       "  'isLocalScope': True,\n",
       "  'sources': ['(a)'],\n",
       "  'element_name': 'Term',\n",
       "  'transformed': 'An investment adviser with assets under management is by definition an investment adviser with assets under management of less than $25 million, or such higher amount as the Commission may deem appropriate, and other specific conditions.',\n",
       "  'type': 'Definitional',\n",
       "  'subtype': 'Formal extensional definitions',\n",
       "  'confidence': 0.8,\n",
       "  'explanation': \"The statement defines 'Small organization' similarly to 'Small business', using conditions to qualify an investment adviser. The presence of 'and other specific conditions' adds ambiguity, affecting confidence.\",\n",
       "  'templates_ids': ['T8']},\n",
       " {'doc_id': '§ 275.0-7',\n",
       "  'statement_id': 'Total assets',\n",
       "  'definition': 'The total assets as shown on the balance sheet of the investment adviser or other person described, or the balance sheet of the investment adviser or such other person with its subsidiaries consolidated, whichever is larger.',\n",
       "  'isLocalScope': True,\n",
       "  'sources': ['(a)(2)', '(b)(2)'],\n",
       "  'element_name': 'Term',\n",
       "  'transformed': 'Total assets is by definition from a balance sheet of the investment adviser or other person described to the following balance sheet of the investment adviser or such other person with its subsidiaries consolidated, whichever is larger.',\n",
       "  'type': 'Definitional',\n",
       "  'subtype': 'Symbolic literal definitions',\n",
       "  'confidence': 0.9,\n",
       "  'explanation': \"The statement defines 'Total assets' using a literal description of how they are determined, aligning with the symbolic literal definition template. The use of 'whichever is larger' provides a clear criterion for the definition.\",\n",
       "  'templates_ids': ['T9']},\n",
       " {'doc_id': '§ 275.0-7',\n",
       "  'statement_id': 'Control',\n",
       "  'definition': 'The power, directly or indirectly, to direct the management or policies of a person, whether through ownership of securities, by contract, or otherwise.',\n",
       "  'isLocalScope': True,\n",
       "  'sources': ['(b)(1)', '(a)(3)'],\n",
       "  'element_name': 'Term',\n",
       "  'transformed': 'A control is by definition a power that directly or indirectly directs the management or policies of a person, whether through ownership of securities, by contract, or otherwise.',\n",
       "  'type': 'Definitional',\n",
       "  'subtype': 'Formal intensional definitions',\n",
       "  'confidence': 0.9,\n",
       "  'explanation': \"The statement defines 'Control' by specifying the hypernym 'power' and the characteristics that distinguish it, such as 'directly or indirectly' and 'through ownership of securities, by contract, or otherwise'. This aligns with the formal intensional definition template.\",\n",
       "  'templates_ids': ['T7']},\n",
       " {'doc_id': '§ 275.0-7',\n",
       "  'statement_id': 'Right to vote',\n",
       "  'definition': \"A person is presumed to control a corporation if the person directly or indirectly has the right to vote 25 percent or more of a class of the corporation's voting securities.\",\n",
       "  'isLocalScope': True,\n",
       "  'sources': ['(b)(1)(i)(A)', '(b)(1)(iii)'],\n",
       "  'element_name': 'Term',\n",
       "  'transformed': \"A person is by definition presumed to control a corporation if the person directly or indirectly has the right to vote 25 percent or more of a class of the corporation's voting securities.\",\n",
       "  'type': 'Definitional',\n",
       "  'subtype': 'Formal intensional definitions',\n",
       "  'confidence': 0.85,\n",
       "  'explanation': \"The statement defines a condition under which a person is presumed to control a corporation, using the hypernym 'control' and specifying characteristics like 'right to vote 25 percent or more'. This fits the formal intensional definition template, though the presumption aspect adds slight complexity.\",\n",
       "  'templates_ids': ['T7']},\n",
       " {'doc_id': '§ 275.0-7',\n",
       "  'statement_id': 'Partnership',\n",
       "  'definition': 'A person is presumed to control a partnership if the person has the right to receive upon dissolution, or has contributed, 25 percent or more of the capital of the partnership.',\n",
       "  'isLocalScope': True,\n",
       "  'sources': ['(b)(1)(ii)'],\n",
       "  'element_name': 'Term',\n",
       "  'transformed': 'A person is by definition a controller of a partnership who has the right to receive upon dissolution, or has contributed, 25 percent or more of the capital of the partnership.',\n",
       "  'type': 'Definitional',\n",
       "  'subtype': 'Formal intensional definitions',\n",
       "  'confidence': 0.85,\n",
       "  'explanation': \"The statement defines a condition for control over a partnership, using the hypernym 'control' and specifying characteristics like 'right to receive upon dissolution' or 'contributed 25 percent or more'. This aligns with the formal intensional definition template, with the presumption aspect adding slight complexity.\",\n",
       "  'templates_ids': ['T7']},\n",
       " {'doc_id': '§ 275.0-7',\n",
       "  'statement_id': 'Limited liability company (LLC)',\n",
       "  'definition': 'A person is presumed to control a limited liability company (LLC) if the person directly or indirectly has the right to vote 25 percent or more of a class of the interests of the LLC, has the right to receive upon dissolution, or has contributed, 25 percent or more of the capital of the LLC, or is an elected manager of the LLC.',\n",
       "  'isLocalScope': True,\n",
       "  'sources': ['(b)(1)(iii)'],\n",
       "  'element_name': 'Term',\n",
       "  'transformed': 'A limited liability company (LLC) is by definition a company that a person is presumed to control if the person directly or indirectly has the right to vote 25 percent or more of a class of the interests of the LLC, has the right to receive upon dissolution, or has contributed, 25 percent or more of the capital of the LLC, or is an elected manager of the LLC.',\n",
       "  'type': 'Definitional',\n",
       "  'subtype': 'Formal intensional definitions',\n",
       "  'confidence': 0.85,\n",
       "  'explanation': \"The statement defines conditions for control over an LLC, using the hypernym 'control' and specifying characteristics like 'right to vote 25 percent or more', 'right to receive upon dissolution', or 'elected manager'. This fits the formal intensional definition template, with the presumption aspect adding slight complexity.\",\n",
       "  'templates_ids': ['T7']},\n",
       " {'doc_id': '§ 275.0-7',\n",
       "  'statement_id': 'Trust',\n",
       "  'definition': 'A person is presumed to control a trust if the person is a trustee or managing agent of the trust.',\n",
       "  'isLocalScope': True,\n",
       "  'sources': ['(b)(1)(iv)'],\n",
       "  'element_name': 'Term',\n",
       "  'transformed': 'A person is by definition a controller of a trust that is presumed to control the trust if the person is a trustee or managing agent of the trust.',\n",
       "  'type': 'Definitional',\n",
       "  'subtype': 'Formal intensional definitions',\n",
       "  'confidence': 0.85,\n",
       "  'explanation': \"The statement defines conditions for control over a trust, using the hypernym 'control' and specifying characteristics like 'trustee or managing agent'. This aligns with the formal intensional definition template, with the presumption aspect adding slight complexity.\",\n",
       "  'templates_ids': ['T7']}]"
      ]
     },
     "execution_count": 14,
     "metadata": {},
     "output_type": "execute_result"
    }
   ],
   "source": [
    "pred_terms"
   ]
  },
  {
   "cell_type": "markdown",
   "metadata": {},
   "source": [
    "## Prompt engeneering"
   ]
  },
  {
   "cell_type": "markdown",
   "metadata": {},
   "source": [
    "### System prompt\n",
    "\n",
    "Formulation is expressed using a template (WITT, 2012, p. 162)."
   ]
  },
  {
   "cell_type": "code",
   "execution_count": 15,
   "metadata": {},
   "outputs": [],
   "source": [
    "rule_template_formulation = \"\"\"\n",
    "# How to interpret the templates and subtemplates\n",
    "\n",
    "Each formulation is expressed using a template, in which the various symbols have the following meanings:\n",
    "\n",
    "1. Each item enclosed in \"angle brackets\" (\"<\" and \">\") is a placeholder, in place of which any suitable text may be substituted. For example, any of the following may be substituted in place of <operative rule statement subject> (subtemplate):\n",
    "    a. a term: for example, \"flight booking request\",\n",
    "    b. a term followed by a qualifying clause: for example, \"flight booking request for a one-way journey\",\n",
    "    c. a reference to a combination of items: for example, \"combination of enrollment date and graduation date\", with or without a qualifying clause,\n",
    "    d. a reference to a set of items: for example, \"set of passengers\", with or without a qualifying clause.\n",
    "2. Each pair of braces (\"{\" and \"}\") encloses a set of options (separated from each other by the bar symbol: \"|\"), one of which is included in the rule statement. For example,\n",
    "3. If a pair of braces includes a bar symbol immediately before the closing brace, the null option is allowed: that is, you can, if necessary, include none of the options at that point in the rule statement.\n",
    "4. Sets of options may be nested. For example, in each of the templates above\n",
    "    a. a conditional clause may be included or omitted,\n",
    "    b. if included, the conditional clause should be preceded by either \"if\" or \"unless\".\n",
    "5. A further notation, introduced later in this section, uses square brackets to indicate that a syntactic element may be repeated indefinitely.\n",
    "6. Any text not enclosed in either \"angle brackets\" or braces (i.e., \"must\", \"not\", \"may\", and \"only\") is included in every rule statement conforming to the relevant template.\n",
    "\"\"\""
   ]
  },
  {
   "cell_type": "code",
   "execution_count": 16,
   "metadata": {},
   "outputs": [],
   "source": [
    "def get_system_prompt_transform(element_name, rule_template_formulation, rule_templates_subtemplates):\n",
    "    statement_name = \"definition\" if element_name in [\"Term\", \"Name\"] else \"statement\"\n",
    "    return f\"\"\"\n",
    "Transform each given {element_name} {statement_name} into a structured format by matching it to the specified templates and subtemplates.\n",
    "\n",
    "# Steps\n",
    "\n",
    "1. **Summarize {statement_name}**: Summarize the given {element_name} {statement_name} to understand its structure and content.\n",
    "\n",
    "2. **Use Template**:\n",
    "   - For given expression, use the templates and subtemplates ({\"Fact Type Form\" if element_name in [\"Fact Type\", \"Fact\"] else \"Rule Form\"}) provided for transformation.\n",
    "   - Determine the appropriate template or subtemplate based on the structure of the expression.\n",
    "   \n",
    "3. **Replace Placeholders**:\n",
    "   - Substitute placeholders, such as `<term>`, `<verb phrase>`, `<conditional clause>`, etc., with suitable values as per the expression.\n",
    "   - For terms and names, the statement_id is the term defined by the statement.\n",
    "   \n",
    "4. **Include Qualifying Details**:\n",
    "   - Where placeholders, such as `<qualifying clause>`, require additional details (e.g., attributes or qualifiers to distinguish meaning), ensure that these are included appropriately as per the respective subtemplate.\n",
    "\n",
    "5. **Transform into Structured Format**:\n",
    "   - Once the transformation is complete, ensure it's in the correct template format.\n",
    "\n",
    "6. **Output as Structured JSON**:\n",
    "   - For every transformed expression generate a JSON object as per the specified output format.\n",
    "\n",
    "7. **Review and Validate**:\n",
    "   - Ensure accuracy in grammar and compliance with logical constructs when performing substitutions.\n",
    "   - Ensure the generated JSON is in the correct template format.\n",
    "\n",
    "8. **Assess the Transformation**:\n",
    "   - Record the confidence level and reason for the confidence score in the JSON object.\n",
    "\n",
    "{rule_template_formulation}\n",
    "\n",
    "# Provided templates and subtemplates for transformation\n",
    "\n",
    "{rule_templates_subtemplates}\n",
    "\n",
    "# Output Format\n",
    "\n",
    "[\n",
    "    {{\n",
    "      \"doc_id\": <doc_id>,\n",
    "      \"statement_id\": <statement_id or signifier>,\n",
    "      \"statement_title\": <statement_title>,\n",
    "      \"sources\": [<source>],\n",
    "      \"statement\": <statement or definition>,\n",
    "      \"templates_ids\": [<templates_id>],\n",
    "      \"transformed\": <transformed_statement>,\n",
    "      \"confidence\": <confidence_level>,\n",
    "      \"reason\": <reason_for_confidence>\n",
    "    }},\n",
    "    ...\n",
    "]\n",
    "\n",
    "- **`doc_id`**: A original identifier of the given document.\n",
    "- **`statement_id or signifier`**: The original identifier of the given {statement_name}. e.g., '1', 'Person'\".\n",
    "- **`statement_title`**: The title of the given {statement_name}.\n",
    "- **`sources`**: The original sources of the given {statement_name}.\n",
    "- **`statement or definition`**: The original text of the given {statement_name}.\n",
    "- **`templates_ids`**: The template(s) used for the transformation (e.g., T1, T2, etc.)\n",
    "- **`transformed`**: The transformed statement according to template.\n",
    "- **`confidence`**: The confidence level of the transformation range from 0 to 1.\n",
    "- **`reason`**: The reason for the confidence score.\n",
    "\n",
    "# Notes\n",
    "- Use only the provided templates and subtemplates for transformation.\n",
    "- If a placeholder within an expression is not applicable or optional, consider whether it should be omitted or replaced by a suitable value.\n",
    "- Each expression may involve nested levels of substitution as indicated by the subtemplate hierarchy (e.g., a qualifying clause that contains sub-elements).\n",
    "- Ensure accuracy in grammar and compliance with logical constructs when performing substitutions.\n",
    "\"\"\""
   ]
  },
  {
   "cell_type": "markdown",
   "metadata": {},
   "source": [
    "### User prompt"
   ]
  },
  {
   "cell_type": "code",
   "execution_count": 17,
   "metadata": {},
   "outputs": [],
   "source": [
    "def get_user_prompt_transform(element_name, rule):\n",
    "\n",
    "    return f\"\"\"\n",
    "# Here's the {element_name} {\"definition\" if element_name in [\"Term\", \"Name\"] else \"statement\"} you need to transform using template {rule.get(\"templates_ids\")}.\n",
    "\n",
    "{json.dumps(rule, indent=2)}\n",
    "\"\"\""
   ]
  },
  {
   "cell_type": "markdown",
   "metadata": {},
   "source": [
    "Save checkpoint"
   ]
  },
  {
   "cell_type": "code",
   "execution_count": 18,
   "metadata": {},
   "outputs": [
    {
     "name": "stderr",
     "output_type": "stream",
     "text": [
      "2024-11-30 01:52:38 - INFO - DocumentManager state persisted to file: ../data/checkpoints/documents-2024-11-29-4.json\n",
      "2024-11-30 01:52:38 - INFO - Checkpoint saved.\n"
     ]
    }
   ],
   "source": [
    "# Persist the state to a file\n",
    "save_checkpoint(filename=config[\"DEFAULT_CHECKPOINT_FILE\"], manager=manager)"
   ]
  },
  {
   "cell_type": "markdown",
   "metadata": {},
   "source": [
    "## Execution"
   ]
  },
  {
   "cell_type": "markdown",
   "metadata": {},
   "source": [
    "Restore checkpoint"
   ]
  },
  {
   "cell_type": "code",
   "execution_count": 19,
   "metadata": {},
   "outputs": [
    {
     "name": "stderr",
     "output_type": "stream",
     "text": [
      "2024-11-30 01:52:38 - INFO - DocumentManager restored from file: ../data/checkpoints/documents-2024-11-29-4.json\n",
      "2024-11-30 01:52:38 - INFO - Checkpoint restored from ../data/checkpoints/documents-2024-11-29-4.json.\n"
     ]
    }
   ],
   "source": [
    "manager = restore_checkpoint(filename=config[\"DEFAULT_CHECKPOINT_FILE\"])"
   ]
  },
  {
   "cell_type": "markdown",
   "metadata": {},
   "source": [
    "### Operative rules"
   ]
  },
  {
   "cell_type": "markdown",
   "metadata": {},
   "source": [
    "Get prompts for operative rules"
   ]
  },
  {
   "cell_type": "code",
   "execution_count": 20,
   "metadata": {},
   "outputs": [
    {
     "name": "stderr",
     "output_type": "stream",
     "text": [
      "2024-11-30 01:52:38 - INFO - System prompts for Operative Rules: 6\n",
      "2024-11-30 01:52:38 - INFO - User prompts for Operative Rules: 6\n"
     ]
    }
   ],
   "source": [
    "system_prompts_operative_rules, user_prompts_operative_rules, element_name = (\n",
    "    get_prompts_for_rule(\n",
    "        rules=pred_operative_rules,\n",
    "        rule_template_formulation=rule_template_formulation,\n",
    "        data_dir=config[\"DEFAULT_DATA_DIR\"],\n",
    "    )\n",
    ")"
   ]
  },
  {
   "cell_type": "markdown",
   "metadata": {},
   "source": [
    "Save a sample of the system prompt and user prompt."
   ]
  },
  {
   "cell_type": "code",
   "execution_count": 21,
   "metadata": {},
   "outputs": [
    {
     "name": "stderr",
     "output_type": "stream",
     "text": [
      "2024-11-30 01:52:38 - INFO - System prompts for Operative Rules: 6\n",
      "2024-11-30 01:52:38 - INFO - User prompts for Operative Rules: 6\n",
      "2024-11-30 01:52:38 - INFO - DocumentManager state persisted to file: ../data/checkpoints/documents-2024-11-29-4.json\n",
      "2024-11-30 01:52:38 - INFO - Checkpoint saved.\n"
     ]
    }
   ],
   "source": [
    "save_prompts_samples(\n",
    "    system_prompts_operative_rules, user_prompts_operative_rules, element_name, manager\n",
    ")"
   ]
  },
  {
   "cell_type": "markdown",
   "metadata": {},
   "source": [
    "Call LLM to transform operative rules"
   ]
  },
  {
   "cell_type": "code",
   "execution_count": 22,
   "metadata": {},
   "outputs": [
    {
     "name": "stderr",
     "output_type": "stream",
     "text": [
      "2024-11-30 01:52:38 - INFO - Processing transformation prompt 1 for Operative Rule.\n",
      "2024-11-30 01:52:45 - INFO - HTTP Request: POST https://api.openai.com/v1/chat/completions \"HTTP/1.1 200 OK\"\n",
      "2024-11-30 01:52:45 - INFO - Tokes used: CompletionUsage(completion_tokens=193, prompt_tokens=5022, total_tokens=5215, completion_tokens_details=None, prompt_tokens_details=None)\n",
      "2024-11-30 01:52:45 - INFO - Execution time for query_instruct_llm: 3.09 seconds\n",
      "2024-11-30 01:52:45 - INFO - Finished processing classification and templates prompt 1.\n",
      "2024-11-30 01:52:45 - INFO - Processing transformation prompt 2 for Operative Rule.\n",
      "2024-11-30 01:52:48 - INFO - HTTP Request: POST https://api.openai.com/v1/chat/completions \"HTTP/1.1 200 OK\"\n",
      "2024-11-30 01:52:48 - INFO - Tokes used: CompletionUsage(completion_tokens=223, prompt_tokens=5049, total_tokens=5272, completion_tokens_details=None, prompt_tokens_details=None)\n",
      "2024-11-30 01:52:48 - INFO - Execution time for query_instruct_llm: 3.25 seconds\n",
      "2024-11-30 01:52:48 - INFO - Finished processing classification and templates prompt 2.\n",
      "2024-11-30 01:52:48 - INFO - Processing transformation prompt 3 for Operative Rule.\n",
      "2024-11-30 01:52:51 - INFO - HTTP Request: POST https://api.openai.com/v1/chat/completions \"HTTP/1.1 200 OK\"\n",
      "2024-11-30 01:52:51 - INFO - Tokes used: CompletionUsage(completion_tokens=185, prompt_tokens=5400, total_tokens=5585, completion_tokens_details=None, prompt_tokens_details=None)\n",
      "2024-11-30 01:52:51 - INFO - Execution time for query_instruct_llm: 2.68 seconds\n",
      "2024-11-30 01:52:51 - INFO - Finished processing classification and templates prompt 3.\n",
      "2024-11-30 01:52:51 - INFO - Processing transformation prompt 4 for Operative Rule.\n",
      "2024-11-30 01:52:54 - INFO - HTTP Request: POST https://api.openai.com/v1/chat/completions \"HTTP/1.1 200 OK\"\n",
      "2024-11-30 01:52:54 - INFO - Tokes used: CompletionUsage(completion_tokens=232, prompt_tokens=5162, total_tokens=5394, completion_tokens_details=None, prompt_tokens_details=None)\n",
      "2024-11-30 01:52:54 - INFO - Execution time for query_instruct_llm: 3.28 seconds\n",
      "2024-11-30 01:52:54 - INFO - Finished processing classification and templates prompt 4.\n",
      "2024-11-30 01:52:54 - INFO - Processing transformation prompt 5 for Operative Rule.\n",
      "2024-11-30 01:52:57 - INFO - HTTP Request: POST https://api.openai.com/v1/chat/completions \"HTTP/1.1 200 OK\"\n",
      "2024-11-30 01:52:57 - INFO - Tokes used: CompletionUsage(completion_tokens=197, prompt_tokens=5456, total_tokens=5653, completion_tokens_details=None, prompt_tokens_details=None)\n",
      "2024-11-30 01:52:57 - INFO - Execution time for query_instruct_llm: 2.61 seconds\n",
      "2024-11-30 01:52:57 - INFO - Finished processing classification and templates prompt 5.\n",
      "2024-11-30 01:52:57 - INFO - Processing transformation prompt 6 for Operative Rule.\n",
      "2024-11-30 01:52:59 - INFO - HTTP Request: POST https://api.openai.com/v1/chat/completions \"HTTP/1.1 200 OK\"\n",
      "2024-11-30 01:52:59 - INFO - Tokes used: CompletionUsage(completion_tokens=225, prompt_tokens=4955, total_tokens=5180, completion_tokens_details=None, prompt_tokens_details=None)\n",
      "2024-11-30 01:52:59 - INFO - Execution time for query_instruct_llm: 2.58 seconds\n",
      "2024-11-30 01:52:59 - INFO - Finished processing classification and templates prompt 6.\n",
      "2024-11-30 01:52:59 - INFO - Operative Rules: 6\n",
      "2024-11-30 01:53:00 - INFO - DocumentManager state persisted to file: ../data/checkpoints/documents-2024-11-29-4.json\n",
      "2024-11-30 01:53:00 - INFO - Checkpoint saved.\n"
     ]
    }
   ],
   "source": [
    "responses_operative_rules = transform_statement(\n",
    "    element_name=element_name,\n",
    "    user_prompts=user_prompts_operative_rules,\n",
    "    system_prompts=system_prompts_operative_rules,\n",
    "    manager=manager,\n",
    ")\n",
    "\n",
    "logger.debug(f\"{responses_operative_rules=}\")\n",
    "\n",
    "# Persist the state to a file\n",
    "save_checkpoint(filename=config[\"DEFAULT_CHECKPOINT_FILE\"], manager=manager)"
   ]
  },
  {
   "cell_type": "markdown",
   "metadata": {},
   "source": [
    "Average execution time 5s per prompt."
   ]
  },
  {
   "cell_type": "markdown",
   "metadata": {},
   "source": [
    "### Fact Types"
   ]
  },
  {
   "cell_type": "markdown",
   "metadata": {},
   "source": [
    "Get prompts for facts."
   ]
  },
  {
   "cell_type": "code",
   "execution_count": 23,
   "metadata": {},
   "outputs": [
    {
     "name": "stderr",
     "output_type": "stream",
     "text": [
      "2024-11-30 01:53:00 - INFO - System prompts for Fact Types: 16\n",
      "2024-11-30 01:53:00 - INFO - User prompts for Fact Types: 16\n"
     ]
    }
   ],
   "source": [
    "system_prompts_facts, user_prompts_facts, element_name = get_prompts_for_rule(\n",
    "    rules=pred_facts,\n",
    "    rule_template_formulation=rule_template_formulation,\n",
    "    data_dir=config[\"DEFAULT_DATA_DIR\"],\n",
    ")"
   ]
  },
  {
   "cell_type": "markdown",
   "metadata": {},
   "source": [
    "Save a sample of the system prompt and user prompt."
   ]
  },
  {
   "cell_type": "code",
   "execution_count": 24,
   "metadata": {},
   "outputs": [
    {
     "name": "stderr",
     "output_type": "stream",
     "text": [
      "2024-11-30 01:53:00 - INFO - System prompts for Fact Types: 6\n",
      "2024-11-30 01:53:00 - INFO - User prompts for Fact Types: 6\n",
      "2024-11-30 01:53:00 - INFO - DocumentManager state persisted to file: ../data/checkpoints/documents-2024-11-29-4.json\n",
      "2024-11-30 01:53:00 - INFO - Checkpoint saved.\n"
     ]
    }
   ],
   "source": [
    "save_prompts_samples(\n",
    "    system_prompts_operative_rules, user_prompts_operative_rules, element_name, manager\n",
    ")"
   ]
  },
  {
   "cell_type": "markdown",
   "metadata": {},
   "source": [
    "Call LLM to transform facts"
   ]
  },
  {
   "cell_type": "code",
   "execution_count": 25,
   "metadata": {},
   "outputs": [
    {
     "name": "stderr",
     "output_type": "stream",
     "text": [
      "2024-11-30 01:53:00 - INFO - Processing transformation prompt 1 for Fact Type.\n",
      "2024-11-30 01:53:02 - INFO - HTTP Request: POST https://api.openai.com/v1/chat/completions \"HTTP/1.1 200 OK\"\n",
      "2024-11-30 01:53:02 - INFO - Tokes used: CompletionUsage(completion_tokens=206, prompt_tokens=1837, total_tokens=2043, completion_tokens_details=None, prompt_tokens_details=None)\n",
      "2024-11-30 01:53:02 - INFO - Execution time for query_instruct_llm: 2.45 seconds\n",
      "2024-11-30 01:53:02 - INFO - Finished processing classification and templates prompt 1.\n",
      "2024-11-30 01:53:02 - INFO - Processing transformation prompt 2 for Fact Type.\n",
      "2024-11-30 01:53:05 - INFO - HTTP Request: POST https://api.openai.com/v1/chat/completions \"HTTP/1.1 200 OK\"\n",
      "2024-11-30 01:53:05 - INFO - Tokes used: CompletionUsage(completion_tokens=206, prompt_tokens=1846, total_tokens=2052, completion_tokens_details=None, prompt_tokens_details=None)\n",
      "2024-11-30 01:53:05 - INFO - Execution time for query_instruct_llm: 3.26 seconds\n",
      "2024-11-30 01:53:05 - INFO - Finished processing classification and templates prompt 2.\n",
      "2024-11-30 01:53:05 - INFO - Processing transformation prompt 3 for Fact Type.\n",
      "2024-11-30 01:53:08 - INFO - HTTP Request: POST https://api.openai.com/v1/chat/completions \"HTTP/1.1 200 OK\"\n",
      "2024-11-30 01:53:08 - INFO - Tokes used: CompletionUsage(completion_tokens=179, prompt_tokens=5085, total_tokens=5264, completion_tokens_details=None, prompt_tokens_details=None)\n",
      "2024-11-30 01:53:08 - INFO - Execution time for query_instruct_llm: 2.93 seconds\n",
      "2024-11-30 01:53:08 - INFO - Finished processing classification and templates prompt 3.\n",
      "2024-11-30 01:53:08 - INFO - Processing transformation prompt 4 for Fact Type.\n",
      "2024-11-30 01:53:12 - INFO - HTTP Request: POST https://api.openai.com/v1/chat/completions \"HTTP/1.1 200 OK\"\n",
      "2024-11-30 01:53:12 - INFO - Tokes used: CompletionUsage(completion_tokens=279, prompt_tokens=1875, total_tokens=2154, completion_tokens_details=None, prompt_tokens_details=None)\n",
      "2024-11-30 01:53:12 - INFO - Execution time for query_instruct_llm: 3.80 seconds\n",
      "2024-11-30 01:53:12 - INFO - Finished processing classification and templates prompt 4.\n",
      "2024-11-30 01:53:12 - INFO - Processing transformation prompt 5 for Fact Type.\n",
      "2024-11-30 01:53:14 - INFO - HTTP Request: POST https://api.openai.com/v1/chat/completions \"HTTP/1.1 200 OK\"\n",
      "2024-11-30 01:53:14 - INFO - Tokes used: CompletionUsage(completion_tokens=158, prompt_tokens=5076, total_tokens=5234, completion_tokens_details=None, prompt_tokens_details=None)\n",
      "2024-11-30 01:53:14 - INFO - Execution time for query_instruct_llm: 2.24 seconds\n",
      "2024-11-30 01:53:14 - INFO - Finished processing classification and templates prompt 5.\n",
      "2024-11-30 01:53:14 - INFO - Processing transformation prompt 6 for Fact Type.\n",
      "2024-11-30 01:53:16 - INFO - HTTP Request: POST https://api.openai.com/v1/chat/completions \"HTTP/1.1 200 OK\"\n",
      "2024-11-30 01:53:16 - INFO - Tokes used: CompletionUsage(completion_tokens=163, prompt_tokens=5082, total_tokens=5245, completion_tokens_details=None, prompt_tokens_details=None)\n",
      "2024-11-30 01:53:16 - INFO - Execution time for query_instruct_llm: 1.99 seconds\n",
      "2024-11-30 01:53:16 - INFO - Finished processing classification and templates prompt 6.\n",
      "2024-11-30 01:53:16 - INFO - Processing transformation prompt 7 for Fact Type.\n",
      "2024-11-30 01:53:23 - INFO - HTTP Request: POST https://api.openai.com/v1/chat/completions \"HTTP/1.1 200 OK\"\n",
      "2024-11-30 01:53:23 - INFO - Tokes used: CompletionUsage(completion_tokens=177, prompt_tokens=5093, total_tokens=5270, completion_tokens_details=None, prompt_tokens_details=None)\n",
      "2024-11-30 01:53:23 - INFO - Execution time for query_instruct_llm: 2.99 seconds\n",
      "2024-11-30 01:53:23 - INFO - Finished processing classification and templates prompt 7.\n",
      "2024-11-30 01:53:23 - INFO - Processing transformation prompt 8 for Fact Type.\n",
      "2024-11-30 01:53:26 - INFO - HTTP Request: POST https://api.openai.com/v1/chat/completions \"HTTP/1.1 200 OK\"\n",
      "2024-11-30 01:53:26 - INFO - Tokes used: CompletionUsage(completion_tokens=202, prompt_tokens=1907, total_tokens=2109, completion_tokens_details=None, prompt_tokens_details=None)\n",
      "2024-11-30 01:53:26 - INFO - Execution time for query_instruct_llm: 3.09 seconds\n",
      "2024-11-30 01:53:26 - INFO - Finished processing classification and templates prompt 8.\n",
      "2024-11-30 01:53:26 - INFO - Processing transformation prompt 9 for Fact Type.\n",
      "2024-11-30 01:53:29 - INFO - HTTP Request: POST https://api.openai.com/v1/chat/completions \"HTTP/1.1 200 OK\"\n",
      "2024-11-30 01:53:29 - INFO - Tokes used: CompletionUsage(completion_tokens=169, prompt_tokens=1879, total_tokens=2048, completion_tokens_details=None, prompt_tokens_details=None)\n",
      "2024-11-30 01:53:29 - INFO - Execution time for query_instruct_llm: 3.17 seconds\n",
      "2024-11-30 01:53:29 - INFO - Finished processing classification and templates prompt 9.\n",
      "2024-11-30 01:53:29 - INFO - Processing transformation prompt 10 for Fact Type.\n",
      "2024-11-30 01:53:33 - INFO - HTTP Request: POST https://api.openai.com/v1/chat/completions \"HTTP/1.1 200 OK\"\n",
      "2024-11-30 01:53:33 - INFO - Tokes used: CompletionUsage(completion_tokens=245, prompt_tokens=5111, total_tokens=5356, completion_tokens_details=None, prompt_tokens_details=None)\n",
      "2024-11-30 01:53:33 - INFO - Execution time for query_instruct_llm: 3.96 seconds\n",
      "2024-11-30 01:53:33 - INFO - Finished processing classification and templates prompt 10.\n",
      "2024-11-30 01:53:33 - INFO - Processing transformation prompt 11 for Fact Type.\n",
      "2024-11-30 01:53:35 - INFO - HTTP Request: POST https://api.openai.com/v1/chat/completions \"HTTP/1.1 200 OK\"\n",
      "2024-11-30 01:53:35 - INFO - Tokes used: CompletionUsage(completion_tokens=157, prompt_tokens=5077, total_tokens=5234, completion_tokens_details=None, prompt_tokens_details=None)\n",
      "2024-11-30 01:53:35 - INFO - Execution time for query_instruct_llm: 2.25 seconds\n",
      "2024-11-30 01:53:35 - INFO - Finished processing classification and templates prompt 11.\n",
      "2024-11-30 01:53:35 - INFO - Processing transformation prompt 12 for Fact Type.\n",
      "2024-11-30 01:53:39 - INFO - HTTP Request: POST https://api.openai.com/v1/chat/completions \"HTTP/1.1 200 OK\"\n",
      "2024-11-30 01:53:39 - INFO - Tokes used: CompletionUsage(completion_tokens=217, prompt_tokens=5084, total_tokens=5301, completion_tokens_details=None, prompt_tokens_details=None)\n",
      "2024-11-30 01:53:39 - INFO - Execution time for query_instruct_llm: 3.27 seconds\n",
      "2024-11-30 01:53:39 - INFO - Finished processing classification and templates prompt 12.\n",
      "2024-11-30 01:53:39 - INFO - Processing transformation prompt 13 for Fact Type.\n",
      "2024-11-30 01:53:42 - INFO - HTTP Request: POST https://api.openai.com/v1/chat/completions \"HTTP/1.1 200 OK\"\n",
      "2024-11-30 01:53:42 - INFO - Tokes used: CompletionUsage(completion_tokens=179, prompt_tokens=5083, total_tokens=5262, completion_tokens_details=None, prompt_tokens_details=None)\n",
      "2024-11-30 01:53:42 - INFO - Execution time for query_instruct_llm: 2.80 seconds\n",
      "2024-11-30 01:53:42 - INFO - Finished processing classification and templates prompt 13.\n",
      "2024-11-30 01:53:42 - INFO - Processing transformation prompt 14 for Fact Type.\n",
      "2024-11-30 01:53:44 - INFO - HTTP Request: POST https://api.openai.com/v1/chat/completions \"HTTP/1.1 200 OK\"\n",
      "2024-11-30 01:53:44 - INFO - Tokes used: CompletionUsage(completion_tokens=250, prompt_tokens=5121, total_tokens=5371, completion_tokens_details=None, prompt_tokens_details=None)\n",
      "2024-11-30 01:53:44 - INFO - Execution time for query_instruct_llm: 2.86 seconds\n",
      "2024-11-30 01:53:44 - INFO - Finished processing classification and templates prompt 14.\n",
      "2024-11-30 01:53:44 - INFO - Processing transformation prompt 15 for Fact Type.\n",
      "2024-11-30 01:53:47 - INFO - HTTP Request: POST https://api.openai.com/v1/chat/completions \"HTTP/1.1 200 OK\"\n",
      "2024-11-30 01:53:47 - INFO - Tokes used: CompletionUsage(completion_tokens=142, prompt_tokens=5069, total_tokens=5211, completion_tokens_details=None, prompt_tokens_details=None)\n",
      "2024-11-30 01:53:47 - INFO - Execution time for query_instruct_llm: 2.63 seconds\n",
      "2024-11-30 01:53:47 - INFO - Finished processing classification and templates prompt 15.\n",
      "2024-11-30 01:53:47 - INFO - Processing transformation prompt 16 for Fact Type.\n",
      "2024-11-30 01:53:50 - INFO - HTTP Request: POST https://api.openai.com/v1/chat/completions \"HTTP/1.1 200 OK\"\n",
      "2024-11-30 01:53:50 - INFO - Tokes used: CompletionUsage(completion_tokens=200, prompt_tokens=1844, total_tokens=2044, completion_tokens_details=None, prompt_tokens_details=None)\n",
      "2024-11-30 01:53:50 - INFO - Execution time for query_instruct_llm: 2.83 seconds\n",
      "2024-11-30 01:53:50 - INFO - Finished processing classification and templates prompt 16.\n",
      "2024-11-30 01:53:50 - INFO - Fact Types: 16\n",
      "2024-11-30 01:53:50 - INFO - DocumentManager state persisted to file: ../data/checkpoints/documents-2024-11-29-4.json\n",
      "2024-11-30 01:53:50 - INFO - Checkpoint saved.\n"
     ]
    }
   ],
   "source": [
    "responses_facts = transform_statement(\n",
    "    element_name=element_name,\n",
    "    user_prompts=user_prompts_facts,\n",
    "    system_prompts=system_prompts_facts,\n",
    "    manager=manager,\n",
    ")\n",
    "\n",
    "logger.debug(f\"{responses_facts=}\")\n",
    "\n",
    "# Persist the state to a file\n",
    "save_checkpoint(filename=config[\"DEFAULT_CHECKPOINT_FILE\"], manager=manager)"
   ]
  },
  {
   "cell_type": "markdown",
   "metadata": {},
   "source": [
    "Average execution time 5s per prompt."
   ]
  },
  {
   "cell_type": "markdown",
   "metadata": {},
   "source": [
    "### Terms"
   ]
  },
  {
   "cell_type": "markdown",
   "metadata": {},
   "source": [
    "Get prompts for facts."
   ]
  },
  {
   "cell_type": "code",
   "execution_count": 26,
   "metadata": {},
   "outputs": [
    {
     "name": "stderr",
     "output_type": "stream",
     "text": [
      "2024-11-30 01:53:50 - INFO - System prompts for Terms: 23\n",
      "2024-11-30 01:53:50 - INFO - User prompts for Terms: 23\n"
     ]
    }
   ],
   "source": [
    "system_prompts_terms, user_prompts_terms, element_name = get_prompts_for_rule(\n",
    "    rules=pred_terms,\n",
    "    rule_template_formulation=rule_template_formulation,\n",
    "    data_dir=config[\"DEFAULT_DATA_DIR\"],\n",
    ")"
   ]
  },
  {
   "cell_type": "markdown",
   "metadata": {},
   "source": [
    "Save a sample of the system prompt and user prompt."
   ]
  },
  {
   "cell_type": "code",
   "execution_count": 27,
   "metadata": {},
   "outputs": [
    {
     "name": "stderr",
     "output_type": "stream",
     "text": [
      "2024-11-30 01:53:50 - INFO - System prompts for Terms: 23\n",
      "2024-11-30 01:53:50 - INFO - User prompts for Terms: 23\n",
      "2024-11-30 01:53:50 - INFO - DocumentManager state persisted to file: ../data/checkpoints/documents-2024-11-29-4.json\n",
      "2024-11-30 01:53:50 - INFO - Checkpoint saved.\n"
     ]
    }
   ],
   "source": [
    "save_prompts_samples(\n",
    "    system_prompts_terms, user_prompts_terms, element_name, manager\n",
    ")"
   ]
  },
  {
   "cell_type": "markdown",
   "metadata": {},
   "source": [
    "Call LLM to transform terms"
   ]
  },
  {
   "cell_type": "code",
   "execution_count": 28,
   "metadata": {},
   "outputs": [
    {
     "name": "stderr",
     "output_type": "stream",
     "text": [
      "2024-11-30 01:53:50 - INFO - Processing transformation prompt 1 for Term.\n",
      "2024-11-30 01:53:52 - INFO - HTTP Request: POST https://api.openai.com/v1/chat/completions \"HTTP/1.1 200 OK\"\n",
      "2024-11-30 01:53:52 - INFO - Tokes used: CompletionUsage(completion_tokens=164, prompt_tokens=5079, total_tokens=5243, completion_tokens_details=None, prompt_tokens_details=None)\n",
      "2024-11-30 01:53:52 - INFO - Execution time for query_instruct_llm: 2.16 seconds\n",
      "2024-11-30 01:53:52 - INFO - Finished processing classification and templates prompt 1.\n",
      "2024-11-30 01:53:52 - INFO - Processing transformation prompt 2 for Term.\n",
      "2024-11-30 01:53:58 - INFO - HTTP Request: POST https://api.openai.com/v1/chat/completions \"HTTP/1.1 200 OK\"\n",
      "2024-11-30 01:53:58 - INFO - Tokes used: CompletionUsage(completion_tokens=185, prompt_tokens=1829, total_tokens=2014, completion_tokens_details=None, prompt_tokens_details=None)\n",
      "2024-11-30 01:53:58 - INFO - Execution time for query_instruct_llm: 2.11 seconds\n",
      "2024-11-30 01:53:58 - INFO - Finished processing classification and templates prompt 2.\n",
      "2024-11-30 01:53:58 - INFO - Processing transformation prompt 3 for Term.\n",
      "2024-11-30 01:54:00 - INFO - HTTP Request: POST https://api.openai.com/v1/chat/completions \"HTTP/1.1 200 OK\"\n",
      "2024-11-30 01:54:00 - INFO - Tokes used: CompletionUsage(completion_tokens=158, prompt_tokens=5060, total_tokens=5218, completion_tokens_details=None, prompt_tokens_details=None)\n",
      "2024-11-30 01:54:00 - INFO - Execution time for query_instruct_llm: 2.01 seconds\n",
      "2024-11-30 01:54:00 - INFO - Finished processing classification and templates prompt 3.\n",
      "2024-11-30 01:54:00 - INFO - Processing transformation prompt 4 for Term.\n",
      "2024-11-30 01:54:02 - INFO - HTTP Request: POST https://api.openai.com/v1/chat/completions \"HTTP/1.1 200 OK\"\n",
      "2024-11-30 01:54:02 - INFO - Tokes used: CompletionUsage(completion_tokens=173, prompt_tokens=5073, total_tokens=5246, completion_tokens_details=None, prompt_tokens_details=None)\n",
      "2024-11-30 01:54:02 - INFO - Execution time for query_instruct_llm: 2.04 seconds\n",
      "2024-11-30 01:54:02 - INFO - Finished processing classification and templates prompt 4.\n",
      "2024-11-30 01:54:02 - INFO - Processing transformation prompt 5 for Term.\n",
      "2024-11-30 01:54:04 - INFO - HTTP Request: POST https://api.openai.com/v1/chat/completions \"HTTP/1.1 200 OK\"\n",
      "2024-11-30 01:54:04 - INFO - Tokes used: CompletionUsage(completion_tokens=141, prompt_tokens=5059, total_tokens=5200, completion_tokens_details=None, prompt_tokens_details=None)\n",
      "2024-11-30 01:54:04 - INFO - Execution time for query_instruct_llm: 1.75 seconds\n",
      "2024-11-30 01:54:04 - INFO - Finished processing classification and templates prompt 5.\n",
      "2024-11-30 01:54:04 - INFO - Processing transformation prompt 6 for Term.\n",
      "2024-11-30 01:54:06 - INFO - HTTP Request: POST https://api.openai.com/v1/chat/completions \"HTTP/1.1 200 OK\"\n",
      "2024-11-30 01:54:06 - INFO - Tokes used: CompletionUsage(completion_tokens=139, prompt_tokens=5066, total_tokens=5205, completion_tokens_details=None, prompt_tokens_details=None)\n",
      "2024-11-30 01:54:06 - INFO - Execution time for query_instruct_llm: 1.72 seconds\n",
      "2024-11-30 01:54:06 - INFO - Finished processing classification and templates prompt 6.\n",
      "2024-11-30 01:54:06 - INFO - Processing transformation prompt 7 for Term.\n",
      "2024-11-30 01:54:07 - INFO - HTTP Request: POST https://api.openai.com/v1/chat/completions \"HTTP/1.1 200 OK\"\n",
      "2024-11-30 01:54:07 - INFO - Tokes used: CompletionUsage(completion_tokens=138, prompt_tokens=5059, total_tokens=5197, completion_tokens_details=None, prompt_tokens_details=None)\n",
      "2024-11-30 01:54:07 - INFO - Execution time for query_instruct_llm: 1.81 seconds\n",
      "2024-11-30 01:54:07 - INFO - Finished processing classification and templates prompt 7.\n",
      "2024-11-30 01:54:07 - INFO - Processing transformation prompt 8 for Term.\n",
      "2024-11-30 01:54:10 - INFO - HTTP Request: POST https://api.openai.com/v1/chat/completions \"HTTP/1.1 200 OK\"\n",
      "2024-11-30 01:54:10 - INFO - Tokes used: CompletionUsage(completion_tokens=163, prompt_tokens=5064, total_tokens=5227, completion_tokens_details=None, prompt_tokens_details=None)\n",
      "2024-11-30 01:54:10 - INFO - Execution time for query_instruct_llm: 2.69 seconds\n",
      "2024-11-30 01:54:10 - INFO - Finished processing classification and templates prompt 8.\n",
      "2024-11-30 01:54:10 - INFO - Processing transformation prompt 9 for Term.\n",
      "2024-11-30 01:54:12 - INFO - HTTP Request: POST https://api.openai.com/v1/chat/completions \"HTTP/1.1 200 OK\"\n",
      "2024-11-30 01:54:12 - INFO - Tokes used: CompletionUsage(completion_tokens=151, prompt_tokens=5057, total_tokens=5208, completion_tokens_details=None, prompt_tokens_details=None)\n",
      "2024-11-30 01:54:12 - INFO - Execution time for query_instruct_llm: 2.11 seconds\n",
      "2024-11-30 01:54:12 - INFO - Finished processing classification and templates prompt 9.\n",
      "2024-11-30 01:54:12 - INFO - Processing transformation prompt 10 for Term.\n",
      "2024-11-30 01:54:15 - INFO - HTTP Request: POST https://api.openai.com/v1/chat/completions \"HTTP/1.1 200 OK\"\n",
      "2024-11-30 01:54:15 - INFO - Tokes used: CompletionUsage(completion_tokens=177, prompt_tokens=5070, total_tokens=5247, completion_tokens_details=None, prompt_tokens_details=None)\n",
      "2024-11-30 01:54:15 - INFO - Execution time for query_instruct_llm: 2.39 seconds\n",
      "2024-11-30 01:54:15 - INFO - Finished processing classification and templates prompt 10.\n",
      "2024-11-30 01:54:15 - INFO - Processing transformation prompt 11 for Term.\n",
      "2024-11-30 01:54:17 - INFO - HTTP Request: POST https://api.openai.com/v1/chat/completions \"HTTP/1.1 200 OK\"\n",
      "2024-11-30 01:54:17 - INFO - Tokes used: CompletionUsage(completion_tokens=137, prompt_tokens=5052, total_tokens=5189, completion_tokens_details=None, prompt_tokens_details=None)\n",
      "2024-11-30 01:54:17 - INFO - Execution time for query_instruct_llm: 1.90 seconds\n",
      "2024-11-30 01:54:17 - INFO - Finished processing classification and templates prompt 11.\n",
      "2024-11-30 01:54:17 - INFO - Processing transformation prompt 12 for Term.\n",
      "2024-11-30 01:54:19 - INFO - HTTP Request: POST https://api.openai.com/v1/chat/completions \"HTTP/1.1 200 OK\"\n",
      "2024-11-30 01:54:19 - INFO - Tokes used: CompletionUsage(completion_tokens=160, prompt_tokens=5062, total_tokens=5222, completion_tokens_details=None, prompt_tokens_details=None)\n",
      "2024-11-30 01:54:19 - INFO - Execution time for query_instruct_llm: 2.42 seconds\n",
      "2024-11-30 01:54:19 - INFO - Finished processing classification and templates prompt 12.\n",
      "2024-11-30 01:54:19 - INFO - Processing transformation prompt 13 for Term.\n",
      "2024-11-30 01:54:21 - INFO - HTTP Request: POST https://api.openai.com/v1/chat/completions \"HTTP/1.1 200 OK\"\n",
      "2024-11-30 01:54:21 - INFO - Tokes used: CompletionUsage(completion_tokens=134, prompt_tokens=5054, total_tokens=5188, completion_tokens_details=None, prompt_tokens_details=None)\n",
      "2024-11-30 01:54:21 - INFO - Execution time for query_instruct_llm: 1.71 seconds\n",
      "2024-11-30 01:54:21 - INFO - Finished processing classification and templates prompt 13.\n",
      "2024-11-30 01:54:21 - INFO - Processing transformation prompt 14 for Term.\n",
      "2024-11-30 01:54:23 - INFO - HTTP Request: POST https://api.openai.com/v1/chat/completions \"HTTP/1.1 200 OK\"\n",
      "2024-11-30 01:54:23 - INFO - Tokes used: CompletionUsage(completion_tokens=152, prompt_tokens=5055, total_tokens=5207, completion_tokens_details=None, prompt_tokens_details=None)\n",
      "2024-11-30 01:54:23 - INFO - Execution time for query_instruct_llm: 1.87 seconds\n",
      "2024-11-30 01:54:23 - INFO - Finished processing classification and templates prompt 14.\n",
      "2024-11-30 01:54:23 - INFO - Processing transformation prompt 15 for Term.\n",
      "2024-11-30 01:54:24 - INFO - HTTP Request: POST https://api.openai.com/v1/chat/completions \"HTTP/1.1 200 OK\"\n",
      "2024-11-30 01:54:24 - INFO - Tokes used: CompletionUsage(completion_tokens=161, prompt_tokens=5061, total_tokens=5222, completion_tokens_details=None, prompt_tokens_details=None)\n",
      "2024-11-30 01:54:24 - INFO - Execution time for query_instruct_llm: 1.89 seconds\n",
      "2024-11-30 01:54:24 - INFO - Finished processing classification and templates prompt 15.\n",
      "2024-11-30 01:54:24 - INFO - Processing transformation prompt 16 for Term.\n",
      "2024-11-30 01:54:26 - INFO - HTTP Request: POST https://api.openai.com/v1/chat/completions \"HTTP/1.1 200 OK\"\n",
      "2024-11-30 01:54:26 - INFO - Tokes used: CompletionUsage(completion_tokens=152, prompt_tokens=1816, total_tokens=1968, completion_tokens_details=None, prompt_tokens_details=None)\n",
      "2024-11-30 01:54:26 - INFO - Execution time for query_instruct_llm: 1.87 seconds\n",
      "2024-11-30 01:54:26 - INFO - Finished processing classification and templates prompt 16.\n",
      "2024-11-30 01:54:26 - INFO - Processing transformation prompt 17 for Term.\n",
      "2024-11-30 01:54:28 - INFO - HTTP Request: POST https://api.openai.com/v1/chat/completions \"HTTP/1.1 200 OK\"\n",
      "2024-11-30 01:54:28 - INFO - Tokes used: CompletionUsage(completion_tokens=159, prompt_tokens=1816, total_tokens=1975, completion_tokens_details=None, prompt_tokens_details=None)\n",
      "2024-11-30 01:54:28 - INFO - Execution time for query_instruct_llm: 1.80 seconds\n",
      "2024-11-30 01:54:28 - INFO - Finished processing classification and templates prompt 17.\n",
      "2024-11-30 01:54:28 - INFO - Processing transformation prompt 18 for Term.\n",
      "2024-11-30 01:54:34 - INFO - HTTP Request: POST https://api.openai.com/v1/chat/completions \"HTTP/1.1 200 OK\"\n",
      "2024-11-30 01:54:34 - INFO - Tokes used: CompletionUsage(completion_tokens=193, prompt_tokens=1616, total_tokens=1809, completion_tokens_details=None, prompt_tokens_details=None)\n",
      "2024-11-30 01:54:34 - INFO - Execution time for query_instruct_llm: 2.40 seconds\n",
      "2024-11-30 01:54:34 - INFO - Finished processing classification and templates prompt 18.\n",
      "2024-11-30 01:54:34 - INFO - Processing transformation prompt 19 for Term.\n",
      "2024-11-30 01:54:36 - INFO - HTTP Request: POST https://api.openai.com/v1/chat/completions \"HTTP/1.1 200 OK\"\n",
      "2024-11-30 01:54:36 - INFO - Tokes used: CompletionUsage(completion_tokens=168, prompt_tokens=5077, total_tokens=5245, completion_tokens_details=None, prompt_tokens_details=None)\n",
      "2024-11-30 01:54:36 - INFO - Execution time for query_instruct_llm: 1.96 seconds\n",
      "2024-11-30 01:54:36 - INFO - Finished processing classification and templates prompt 19.\n",
      "2024-11-30 01:54:36 - INFO - Processing transformation prompt 20 for Term.\n",
      "2024-11-30 01:54:39 - INFO - HTTP Request: POST https://api.openai.com/v1/chat/completions \"HTTP/1.1 200 OK\"\n",
      "2024-11-30 01:54:39 - INFO - Tokes used: CompletionUsage(completion_tokens=178, prompt_tokens=5090, total_tokens=5268, completion_tokens_details=None, prompt_tokens_details=None)\n",
      "2024-11-30 01:54:39 - INFO - Execution time for query_instruct_llm: 3.01 seconds\n",
      "2024-11-30 01:54:39 - INFO - Finished processing classification and templates prompt 20.\n",
      "2024-11-30 01:54:39 - INFO - Processing transformation prompt 21 for Term.\n",
      "2024-11-30 01:54:42 - INFO - HTTP Request: POST https://api.openai.com/v1/chat/completions \"HTTP/1.1 200 OK\"\n",
      "2024-11-30 01:54:42 - INFO - Tokes used: CompletionUsage(completion_tokens=175, prompt_tokens=5080, total_tokens=5255, completion_tokens_details=None, prompt_tokens_details=None)\n",
      "2024-11-30 01:54:42 - INFO - Execution time for query_instruct_llm: 2.55 seconds\n",
      "2024-11-30 01:54:42 - INFO - Finished processing classification and templates prompt 21.\n",
      "2024-11-30 01:54:42 - INFO - Processing transformation prompt 22 for Term.\n",
      "2024-11-30 01:54:45 - INFO - HTTP Request: POST https://api.openai.com/v1/chat/completions \"HTTP/1.1 200 OK\"\n",
      "2024-11-30 01:54:45 - INFO - Tokes used: CompletionUsage(completion_tokens=264, prompt_tokens=5122, total_tokens=5386, completion_tokens_details=None, prompt_tokens_details=None)\n",
      "2024-11-30 01:54:45 - INFO - Execution time for query_instruct_llm: 3.16 seconds\n",
      "2024-11-30 01:54:45 - INFO - Finished processing classification and templates prompt 22.\n",
      "2024-11-30 01:54:45 - INFO - Processing transformation prompt 23 for Term.\n",
      "2024-11-30 01:54:47 - INFO - HTTP Request: POST https://api.openai.com/v1/chat/completions \"HTTP/1.1 200 OK\"\n",
      "2024-11-30 01:54:47 - INFO - Tokes used: CompletionUsage(completion_tokens=143, prompt_tokens=5065, total_tokens=5208, completion_tokens_details=None, prompt_tokens_details=None)\n",
      "2024-11-30 01:54:47 - INFO - Execution time for query_instruct_llm: 1.73 seconds\n",
      "2024-11-30 01:54:47 - INFO - Finished processing classification and templates prompt 23.\n",
      "2024-11-30 01:54:47 - INFO - Terms: 23\n",
      "2024-11-30 01:54:47 - INFO - DocumentManager state persisted to file: ../data/checkpoints/documents-2024-11-29-4.json\n",
      "2024-11-30 01:54:47 - INFO - Checkpoint saved.\n"
     ]
    }
   ],
   "source": [
    "responses_terms = transform_statement(\n",
    "    element_name=element_name,\n",
    "    user_prompts=user_prompts_terms,\n",
    "    system_prompts=system_prompts_terms,\n",
    "    manager=manager,\n",
    ")\n",
    "\n",
    "logger.debug(f\"{responses_terms=}\")\n",
    "\n",
    "# Persist the state to a file\n",
    "save_checkpoint(filename=config[\"DEFAULT_CHECKPOINT_FILE\"], manager=manager)"
   ]
  },
  {
   "cell_type": "markdown",
   "metadata": {},
   "source": [
    "Average execution time 4s per prompt."
   ]
  },
  {
   "cell_type": "markdown",
   "metadata": {},
   "source": [
    "### Names"
   ]
  },
  {
   "cell_type": "markdown",
   "metadata": {},
   "source": [
    "Get prompts for names."
   ]
  },
  {
   "cell_type": "code",
   "execution_count": 29,
   "metadata": {},
   "outputs": [
    {
     "name": "stderr",
     "output_type": "stream",
     "text": [
      "2024-11-30 01:54:47 - INFO - System prompts for Names: 5\n",
      "2024-11-30 01:54:47 - INFO - User prompts for Names: 5\n"
     ]
    }
   ],
   "source": [
    "system_prompts_names, user_prompts_names, element_name = get_prompts_for_rule(\n",
    "    rules=pred_names,\n",
    "    rule_template_formulation=rule_template_formulation,\n",
    "    data_dir=config[\"DEFAULT_DATA_DIR\"],\n",
    ")"
   ]
  },
  {
   "cell_type": "markdown",
   "metadata": {},
   "source": [
    "Save a sample of the system prompt and user prompt."
   ]
  },
  {
   "cell_type": "code",
   "execution_count": 30,
   "metadata": {},
   "outputs": [
    {
     "name": "stderr",
     "output_type": "stream",
     "text": [
      "2024-11-30 01:54:47 - INFO - System prompts for Names: 5\n",
      "2024-11-30 01:54:47 - INFO - User prompts for Names: 5\n",
      "2024-11-30 01:54:47 - INFO - DocumentManager state persisted to file: ../data/checkpoints/documents-2024-11-29-4.json\n",
      "2024-11-30 01:54:47 - INFO - Checkpoint saved.\n"
     ]
    }
   ],
   "source": [
    "save_prompts_samples(\n",
    "    system_prompts_names, user_prompts_names, element_name, manager\n",
    ")"
   ]
  },
  {
   "cell_type": "markdown",
   "metadata": {},
   "source": [
    "Call LLM to transform names"
   ]
  },
  {
   "cell_type": "code",
   "execution_count": 31,
   "metadata": {},
   "outputs": [
    {
     "name": "stderr",
     "output_type": "stream",
     "text": [
      "2024-11-30 01:54:47 - INFO - Processing transformation prompt 1 for Name.\n",
      "2024-11-30 01:54:50 - INFO - HTTP Request: POST https://api.openai.com/v1/chat/completions \"HTTP/1.1 200 OK\"\n",
      "2024-11-30 01:54:50 - INFO - Tokes used: CompletionUsage(completion_tokens=170, prompt_tokens=5074, total_tokens=5244, completion_tokens_details=None, prompt_tokens_details=None)\n",
      "2024-11-30 01:54:50 - INFO - Execution time for query_instruct_llm: 2.78 seconds\n",
      "2024-11-30 01:54:50 - INFO - Finished processing classification and templates prompt 1.\n",
      "2024-11-30 01:54:50 - INFO - Processing transformation prompt 2 for Name.\n",
      "2024-11-30 01:54:52 - INFO - HTTP Request: POST https://api.openai.com/v1/chat/completions \"HTTP/1.1 200 OK\"\n",
      "2024-11-30 01:54:52 - INFO - Tokes used: CompletionUsage(completion_tokens=167, prompt_tokens=5071, total_tokens=5238, completion_tokens_details=None, prompt_tokens_details=None)\n",
      "2024-11-30 01:54:52 - INFO - Execution time for query_instruct_llm: 2.62 seconds\n",
      "2024-11-30 01:54:52 - INFO - Finished processing classification and templates prompt 2.\n",
      "2024-11-30 01:54:52 - INFO - Processing transformation prompt 3 for Name.\n",
      "2024-11-30 01:54:55 - INFO - HTTP Request: POST https://api.openai.com/v1/chat/completions \"HTTP/1.1 200 OK\"\n",
      "2024-11-30 01:54:55 - INFO - Tokes used: CompletionUsage(completion_tokens=140, prompt_tokens=5055, total_tokens=5195, completion_tokens_details=None, prompt_tokens_details=None)\n",
      "2024-11-30 01:54:55 - INFO - Execution time for query_instruct_llm: 2.42 seconds\n",
      "2024-11-30 01:54:55 - INFO - Finished processing classification and templates prompt 3.\n",
      "2024-11-30 01:54:55 - INFO - Processing transformation prompt 4 for Name.\n",
      "2024-11-30 01:54:57 - INFO - HTTP Request: POST https://api.openai.com/v1/chat/completions \"HTTP/1.1 200 OK\"\n",
      "2024-11-30 01:54:57 - INFO - Tokes used: CompletionUsage(completion_tokens=135, prompt_tokens=5063, total_tokens=5198, completion_tokens_details=None, prompt_tokens_details=None)\n",
      "2024-11-30 01:54:57 - INFO - Execution time for query_instruct_llm: 2.32 seconds\n",
      "2024-11-30 01:54:57 - INFO - Finished processing classification and templates prompt 4.\n",
      "2024-11-30 01:54:57 - INFO - Processing transformation prompt 5 for Name.\n",
      "2024-11-30 01:54:59 - INFO - HTTP Request: POST https://api.openai.com/v1/chat/completions \"HTTP/1.1 200 OK\"\n",
      "2024-11-30 01:54:59 - INFO - Tokes used: CompletionUsage(completion_tokens=146, prompt_tokens=5052, total_tokens=5198, completion_tokens_details=None, prompt_tokens_details=None)\n",
      "2024-11-30 01:54:59 - INFO - Execution time for query_instruct_llm: 1.86 seconds\n",
      "2024-11-30 01:54:59 - INFO - Finished processing classification and templates prompt 5.\n",
      "2024-11-30 01:54:59 - INFO - Names: 5\n",
      "2024-11-30 01:54:59 - INFO - DocumentManager state persisted to file: ../data/checkpoints/documents-2024-11-29-4.json\n",
      "2024-11-30 01:54:59 - INFO - Checkpoint saved.\n"
     ]
    }
   ],
   "source": [
    "responses_names = transform_statement(\n",
    "    element_name=element_name,\n",
    "    user_prompts=user_prompts_names,\n",
    "    system_prompts=system_prompts_names,\n",
    "    manager=manager,\n",
    ")\n",
    "\n",
    "logger.debug(f\"{responses_names=}\")\n",
    "\n",
    "# Persist the state to a file\n",
    "save_checkpoint(filename=config[\"DEFAULT_CHECKPOINT_FILE\"], manager=manager)"
   ]
  },
  {
   "cell_type": "markdown",
   "metadata": {},
   "source": [
    "Average execution time 5s per prompt."
   ]
  },
  {
   "cell_type": "markdown",
   "metadata": {},
   "source": [
    "### Check missing transformations"
   ]
  },
  {
   "cell_type": "markdown",
   "metadata": {},
   "source": [
    "Restore checkpoint"
   ]
  },
  {
   "cell_type": "code",
   "execution_count": 32,
   "metadata": {},
   "outputs": [
    {
     "name": "stderr",
     "output_type": "stream",
     "text": [
      "2024-11-30 01:54:59 - INFO - DocumentManager restored from file: ../data/checkpoints/documents-2024-11-29-4.json\n",
      "2024-11-30 01:54:59 - INFO - Checkpoint restored from ../data/checkpoints/documents-2024-11-29-4.json.\n"
     ]
    }
   ],
   "source": [
    "manager = restore_checkpoint(filename=config[\"DEFAULT_CHECKPOINT_FILE\"])"
   ]
  },
  {
   "cell_type": "markdown",
   "metadata": {},
   "source": [
    "Evaluate elements for missing transformations"
   ]
  },
  {
   "cell_type": "code",
   "execution_count": 40,
   "metadata": {},
   "outputs": [
    {
     "name": "stderr",
     "output_type": "stream",
     "text": [
      "2024-11-30 01:59:03 - WARNING - Validation document 'validation_judge_Operative_Rules' not found or empty.\n",
      "2024-11-30 01:59:03 - WARNING - Validation document 'validation_judge_Fact_Types' not found or empty.\n",
      "2024-11-30 01:59:03 - WARNING - Validation document 'validation_judge_Terms' not found or empty.\n",
      "2024-11-30 01:59:03 - WARNING - Validation document 'validation_judge_Names' not found or empty.\n",
      "2024-11-30 01:59:03 - INFO - Empty transformed pred_facts: 0/16\n",
      "2024-11-30 01:59:03 - INFO - Empty transformed pred_terms: 0/23\n",
      "2024-11-30 01:59:03 - INFO - Empty transformed pred_names: 0/5\n",
      "2024-11-30 01:59:03 - INFO - Empty transformed pred_operative_rules: 0/6\n"
     ]
    }
   ],
   "source": [
    "processor = DocumentProcessor(manager, merge=True)\n",
    "\n",
    "pred_operative_rules = processor.get_rules()\n",
    "pred_facts = processor.get_facts()\n",
    "pred_terms = processor.get_terms(definition_filter=\"non_null\")\n",
    "pred_names = processor.get_names(definition_filter=\"non_null\")\n",
    "\n",
    "logger.debug(f\"Rules: {pred_operative_rules}\")\n",
    "logger.debug(f\"Facts: {pred_facts}\")\n",
    "logger.debug(f\"Terms: {pred_terms}\")\n",
    "logger.debug(f\"Names: {pred_names}\")\n",
    "\n",
    "data = [pred_facts, pred_terms, pred_names, pred_operative_rules]\n",
    "data_names = [\"pred_facts\", \"pred_terms\", \"pred_names\", \"pred_operative_rules\"]\n",
    "\n",
    "for element_list, element_name in zip(data, data_names):\n",
    "    empty_transformed_elements = []\n",
    "    for element in element_list:\n",
    "        if not element.get(\"transformed\"):\n",
    "            logger.debug(f\"{element_name} - {element.get('statement_id')}: {element.get('transformed')}\")\n",
    "            empty_transformed_elements.append(element)\n",
    "\n",
    "    logger.info(f\"Empty transformed {element_name}: {len(empty_transformed_elements)}/{len(element_list)}\")\n"
   ]
  },
  {
   "cell_type": "markdown",
   "metadata": {},
   "source": [
    "## Discussion\n",
    "\n",
    "For the the first parte (prompt_classify_p1), the assigned confidence levels reflect a calibrated approach to expressions involving multiple classifications where a dominant rule type is not explicitly evident. For instance, when an expression primarily constrains data (Data rule) but also includes specific parties (Party rule), a high confidence level is attributed to Data while a moderate confidence level is applied to Party, acknowledging its secondary relevance.\n",
    "\n",
    "Similarly, expressions referencing roles such as “Secretary” or “interested person” without explicit party restrictions are assigned moderate confidence for Party classification due to interpretive ambiguity. Procedural elements that impact data handling, such as document forwarding, receive high confidence for Data rules; however, a moderate confidence level is assigned for Activity rules when procedural references are indirect. This methodology prioritizes primary rule types while accounting for the interpretive limits of secondary classifications."
   ]
  }
 ],
 "metadata": {
  "colab": {
   "provenance": []
  },
  "kernelspec": {
   "display_name": "ipt-cfr2sbvr",
   "language": "python",
   "name": "python3"
  },
  "language_info": {
   "codemirror_mode": {
    "name": "ipython",
    "version": 3
   },
   "file_extension": ".py",
   "mimetype": "text/x-python",
   "name": "python",
   "nbconvert_exporter": "python",
   "pygments_lexer": "ipython3",
   "version": "3.11.9"
  }
 },
 "nbformat": 4,
 "nbformat_minor": 0
}
