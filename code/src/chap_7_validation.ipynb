{
 "cells": [
  {
   "cell_type": "markdown",
   "metadata": {
    "id": "epmNLTzrAj7F"
   },
   "source": [
    "# 7. Validation"
   ]
  },
  {
   "cell_type": "markdown",
   "metadata": {},
   "source": [
    "## Google colab"
   ]
  },
  {
   "cell_type": "code",
   "execution_count": 59,
   "metadata": {
    "colab": {
     "base_uri": "https://localhost:8080/"
    },
    "id": "FNUTQzCFAsyX",
    "outputId": "8e1d4b04-6149-46a2-dcc7-9ee5a3ae16ba"
   },
   "outputs": [
    {
     "name": "stdout",
     "output_type": "stream",
     "text": [
      "The autoreload extension is already loaded. To reload it, use:\n",
      "  %reload_ext autoreload\n"
     ]
    }
   ],
   "source": [
    "%load_ext autoreload\n",
    "%autoreload 2\n",
    "\n",
    "import sys\n",
    "\n",
    "IN_COLAB = 'google.colab' in sys.modules\n",
    "\n",
    "if IN_COLAB:\n",
    "  from google.colab import drive\n",
    "  drive.mount('/content/drive')\n",
    "  !rm -rf cfr2sbvr configuration checkpoint\n",
    "  !git clone https://github.com/asantos2000/master-degree-santos-anderson.git cfr2sbvr\n",
    "  %pip install -r cfr2sbvr/code/requirements.txt\n",
    "  !cp -r cfr2sbvr/code/src/configuration .\n",
    "  !cp -r cfr2sbvr/code/src/checkpoint .\n",
    "  !cp -r cfr2sbvr/code/config.colab.yaml config.yaml\n",
    "  DEFAULT_CONFIG_FILE=\"config.yaml\"\n",
    "else:\n",
    "  DEFAULT_CONFIG_FILE=\"../config.yaml\""
   ]
  },
  {
   "cell_type": "markdown",
   "metadata": {
    "id": "o6lhTcbAZZx1"
   },
   "source": [
    "## Imports"
   ]
  },
  {
   "cell_type": "code",
   "execution_count": 60,
   "metadata": {
    "id": "r2yLsn6mZcAa"
   },
   "outputs": [],
   "source": [
    "# Standard library imports\n",
    "from collections import defaultdict\n",
    "import glob\n",
    "import json\n",
    "import time\n",
    "from typing import Any\n",
    "\n",
    "# Third-party imports\n",
    "import instructor\n",
    "import jellyfish\n",
    "import matplotlib.pyplot as plt\n",
    "import numpy as np\n",
    "import pandas as pd\n",
    "import plotly.express as px\n",
    "import seaborn as sns\n",
    "from openai import OpenAI\n",
    "from scipy.spatial.distance import cosine\n",
    "from sklearn.metrics import (\n",
    "    classification_report,\n",
    "    confusion_matrix,\n",
    "    ConfusionMatrixDisplay,\n",
    ")\n",
    "\n",
    "# Local application/library-specific imports\n",
    "import checkpoint.main as checkpoint\n",
    "from checkpoint.main import restore_checkpoint\n",
    "import configuration.main as configuration\n",
    "import logging_setup.main as logging_setup\n",
    "\n",
    "DEV_MODE = True\n",
    "\n",
    "if DEV_MODE:\n",
    "    # Development mode\n",
    "    import importlib\n",
    "    importlib.reload(configuration)\n",
    "    importlib.reload(logging_setup)\n",
    "    importlib.reload(checkpoint)"
   ]
  },
  {
   "cell_type": "markdown",
   "metadata": {
    "id": "5i5NIStDO8yO"
   },
   "source": [
    "## Settings"
   ]
  },
  {
   "cell_type": "markdown",
   "metadata": {
    "id": "tgettL2_cSLE"
   },
   "source": [
    "### Configuration"
   ]
  },
  {
   "cell_type": "code",
   "execution_count": 61,
   "metadata": {
    "colab": {
     "base_uri": "https://localhost:8080/"
    },
    "id": "GrJNl_MOBVD5",
    "outputId": "fc7c6ad4-86a0-4767-fe25-3de3276ca354"
   },
   "outputs": [],
   "source": [
    "config = configuration.load_config(DEFAULT_CONFIG_FILE)"
   ]
  },
  {
   "cell_type": "markdown",
   "metadata": {},
   "source": [
    "### Logging"
   ]
  },
  {
   "cell_type": "code",
   "execution_count": 62,
   "metadata": {},
   "outputs": [
    {
     "name": "stderr",
     "output_type": "stream",
     "text": [
      "2024-10-30 23:21:14 - INFO - Logging is set up with daily rotation.\n"
     ]
    }
   ],
   "source": [
    "logger = logging_setup.setting_logging(config[\"DEFAULT_LOG_DIR\"], config[\"LOG_LEVEL\"])"
   ]
  },
  {
   "cell_type": "markdown",
   "metadata": {},
   "source": [
    "## Checkpoints"
   ]
  },
  {
   "cell_type": "markdown",
   "metadata": {},
   "source": [
    "### Restore the checkpoint"
   ]
  },
  {
   "cell_type": "code",
   "execution_count": 63,
   "metadata": {},
   "outputs": [
    {
     "name": "stderr",
     "output_type": "stream",
     "text": [
      "2024-10-30 23:21:14 - ERROR - Checkpoint file '../data/checkpoints/documents-2024-10-29-4.json' not found or is empty, initializing new checkpoint.\n"
     ]
    }
   ],
   "source": [
    "# Restore the checkpoint\n",
    "manager = restore_checkpoint(\"../data/checkpoints/documents-2024-10-29-4.json\") #filename=config[\"DEFAULT_CHECKPOINT_FILE\"])"
   ]
  },
  {
   "cell_type": "markdown",
   "metadata": {},
   "source": [
    "## Datasets\n",
    "\n",
    "From section 7.2.1 Datasets\n",
    "\n",
    "The datasets used in this chapter are mentioned in the respective algorithm as true and predicted lists."
   ]
  },
  {
   "cell_type": "markdown",
   "metadata": {},
   "source": [
    "## Algorithms\n",
    "\n",
    "From section 7.2.2 Algorithms"
   ]
  },
  {
   "cell_type": "markdown",
   "metadata": {
    "id": "RW2LtsB_ZQLg"
   },
   "source": [
    "### General functions\n",
    "\n",
    "Levenshtein distance (LIND-COMBS et al., 2023; FAROUK, 2019)"
   ]
  },
  {
   "cell_type": "code",
   "execution_count": 64,
   "metadata": {
    "id": "rk_YTNEbZSOO"
   },
   "outputs": [],
   "source": [
    "# Function to group expressions by doc_id\n",
    "def group_expressions_by_doc_id(expressions_list, is_pred=False):\n",
    "    doc_id_map = defaultdict(list)\n",
    "    for item in expressions_list:\n",
    "        doc_id = item[\"doc_id\"]\n",
    "        if is_pred:\n",
    "            # Include filename, id, and classification for pred_list items\n",
    "            expression_info = {\n",
    "                \"id\": item[\"id\"],\n",
    "                \"expression\": item[\"expression\"],\n",
    "                \"classification_pred\": item.get(\"classification\", None),\n",
    "                \"source_pred\": item[\"source\"],\n",
    "                \"filename_pred\": item[\"filename\"],\n",
    "            }\n",
    "        else:\n",
    "            # Include id and classification for true_list items\n",
    "            expression_info = {\n",
    "                \"id\": item[\"id\"],\n",
    "                \"expression\": item[\"expression\"],\n",
    "                \"classification_true\": item.get(\"classification\", None),\n",
    "                \"source_true\": item[\"source\"],\n",
    "            }\n",
    "        doc_id_map[doc_id].append(expression_info)\n",
    "    return doc_id_map\n",
    "\n",
    "\n",
    "# Function to check the similarity between true and pred expressions grouped by doc_id\n",
    "def check_for_expressions_similarity(true_list, pred_list, threshold=0.7):\n",
    "    # Build mappings from doc_id to list of expressions\n",
    "    true_expressions_by_doc_id = group_expressions_by_doc_id(true_list)\n",
    "    pred_expressions_by_doc_id = group_expressions_by_doc_id(pred_list, is_pred=True)\n",
    "\n",
    "    results = []\n",
    "    all_doc_ids = set(true_expressions_by_doc_id.keys()).union(\n",
    "        pred_expressions_by_doc_id.keys()\n",
    "    )\n",
    "\n",
    "    for doc_id in all_doc_ids:\n",
    "        true_expressions = true_expressions_by_doc_id.get(doc_id, [])\n",
    "        pred_expressions = pred_expressions_by_doc_id.get(doc_id, [])\n",
    "\n",
    "        for pred_item in pred_expressions:\n",
    "            pred_expr = pred_item[\"expression\"]\n",
    "            pred_id = pred_item[\"id\"]\n",
    "            classification_pred = pred_item.get(\"classification_pred\", None)\n",
    "            source_pred = pred_item[\"source_pred\"]\n",
    "            filename_pred = pred_item[\"filename_pred\"]\n",
    "\n",
    "            best_match = None\n",
    "            best_score = 0\n",
    "            best_true_id = None\n",
    "            classification_true = None\n",
    "\n",
    "            for true_item in true_expressions:\n",
    "                true_expr = true_item[\"expression\"]\n",
    "                true_id = true_item[\"id\"]\n",
    "                source_true = true_item[\"source_true\"]\n",
    "                # Calculate the similarity score using the Levenshtein distance\n",
    "                score = jellyfish.levenshtein_distance(pred_expr, true_expr)\n",
    "                similarity_score = 1 - (\n",
    "                    score / max(len(pred_expr), len(true_expr))\n",
    "                )  # Normalize to a similarity score\n",
    "\n",
    "                if similarity_score > best_score:\n",
    "                    best_score = similarity_score\n",
    "                    best_match = true_expr\n",
    "                    best_true_id = true_id\n",
    "                    best_source = source_true\n",
    "                    classification_true = true_item.get(\"classification_true\", None)\n",
    "            results.append(\n",
    "                {\n",
    "                    \"doc_id\": doc_id,\n",
    "                    \"id_pred\": pred_id,\n",
    "                    \"id_true\": best_true_id,\n",
    "                    \"classification_pred\": classification_pred,\n",
    "                    \"classification_true\": classification_true,\n",
    "                    \"source_pred\": source_pred,\n",
    "                    \"source_true\": best_source,\n",
    "                    \"filename_pred\": filename_pred,\n",
    "                    \"expression_pred\": pred_expr,\n",
    "                    \"expression_true\": best_match,\n",
    "                    \"similarity_score\": best_score,\n",
    "                }\n",
    "            )\n",
    "    return results\n",
    "\n",
    "\n",
    "# Add similarity_classification based on similarity_score\n",
    "def classify_similarity(score):\n",
    "    if score == 1.0:\n",
    "        return \"identical\"\n",
    "    elif score >= 0.9:\n",
    "        return \"close-match\"\n",
    "    else:\n",
    "        return \"not-sure\"\n",
    "\n",
    "\n",
    "# Modify the highlight_similarity function to use three colors\n",
    "def highlight_similarity(val):\n",
    "    if val == \"identical\":\n",
    "        color = \"green\"\n",
    "    elif val == \"close-match\":\n",
    "        color = \"yellow\"\n",
    "    else:\n",
    "        color = \"red\"\n",
    "    return f\"background-color: {color}\""
   ]
  },
  {
   "cell_type": "code",
   "execution_count": 65,
   "metadata": {
    "colab": {
     "base_uri": "https://localhost:8080/"
    },
    "id": "O7ivLCnGAj7K",
    "outputId": "b4a6233a-b039-49fc-e4e3-71391d57fabd"
   },
   "outputs": [],
   "source": [
    "def read_pred_elements(json_files_path):\n",
    "    # List of all JSON files in the directory\n",
    "    all_files = glob.glob(json_files_path)\n",
    "\n",
    "    pred_elements = []\n",
    "    # Loop through each file\n",
    "    for file_path in all_files:\n",
    "        #print(file_path.replace(\"../checkpoints/\", \"\"))\n",
    "        with open(file_path, \"r\") as file:\n",
    "            # Load JSON content\n",
    "            try:\n",
    "                data = json.load(file)\n",
    "            except json.JSONDecodeError:\n",
    "                #print(f\"Error reading {file_path}, skipping this file.\")\n",
    "                continue\n",
    "            # Filter keys that end with '_P1|llm_response'\n",
    "            filtered_data = {\n",
    "                key: value\n",
    "                for key, value in data.items()\n",
    "                if key.endswith(\"_P1|llm_response\")\n",
    "            }\n",
    "\n",
    "            for value_list in filtered_data.values():\n",
    "                #print(value_list[\"id\"])\n",
    "                for element in value_list[\"content\"][\"elements\"]:\n",
    "                    pred_elements.append(\n",
    "                        {\"doc_id\": value_list[\"id\"], \"id\": element[\"id\"], \"expression\": element[\"expression\"], \"classification\": element[\"classification\"], \"source\": f'{value_list[\"content\"][\"section\"]}{element[\"source\"]}', \"filename\": file_path.replace(\"../checkpoints/\", \"\")}\n",
    "                    )\n",
    "                    #print(element[\"id\"], element[\"expression\"])\n",
    "\n",
    "\n",
    "            # Check if filtered_data is empty\n",
    "            if not filtered_data:\n",
    "                #print(f\"No matching keys in {file_path}, skipping this file.\")\n",
    "                continue\n",
    "\n",
    "    print(f\"Count: {len(pred_elements)}, Elements: {pred_elements}\")\n",
    "    \n",
    "    return pred_elements"
   ]
  },
  {
   "cell_type": "code",
   "execution_count": 66,
   "metadata": {
    "colab": {
     "base_uri": "https://localhost:8080/"
    },
    "id": "TcWZchIRAj7M",
    "outputId": "54bb1d47-5c91-4ebf-f876-125c900b5c34"
   },
   "outputs": [],
   "source": [
    "def read_true_elements(json_files_path):\n",
    "    with open(json_files_path, \"r\") as f:\n",
    "        json_data = json.load(f)\n",
    "        true_elements = []\n",
    "        for value_list in json_data.values():\n",
    "            # print(elements)\n",
    "            for element in value_list[\"content\"][\"elements\"]:\n",
    "                true_elements.append(\n",
    "                    {\n",
    "                        \"doc_id\": value_list[\"id\"],\n",
    "                        \"id\": element[\"id\"],\n",
    "                        \"expression\": element[\"expression\"],\n",
    "                        \"classification\": element[\"classification\"],\n",
    "                        \"source\": f'{value_list[\"content\"][\"section\"]}{element[\"source\"]}',\n",
    "                    }\n",
    "                )\n",
    "                # print(element[\"id\"], element[\"expression\"])\n",
    "\n",
    "        print(f\"Count: {len(true_elements)}, Elements: {true_elements}\")\n",
    "\n",
    "    return true_elements"
   ]
  },
  {
   "cell_type": "code",
   "execution_count": 67,
   "metadata": {},
   "outputs": [],
   "source": [
    "def create_df_elements_results(similarity_elements_results):\n",
    "    # Build the dataframe\n",
    "    df_results = pd.DataFrame(similarity_elements_results)\n",
    "\n",
    "    df_results['similarity_classification'] = df_results['similarity_score'].apply(classify_similarity)\n",
    "\n",
    "    df_results['source_match'] = df_results['source_pred'] == df_results['source_true']\n",
    "    df_results['source_match_label'] = df_results['source_match'].map({True: 'match', False: 'mismatch'})\n",
    "\n",
    "    df_results['id_match'] = df_results['id_pred'] == df_results['id_true']\n",
    "    df_results['id_match_label'] = df_results['id_match'].map({True: 'match', False: 'mismatch'})\n",
    "\n",
    "    return df_results\n"
   ]
  },
  {
   "cell_type": "code",
   "execution_count": 68,
   "metadata": {},
   "outputs": [],
   "source": [
    "def create_df_elements_results_confusion_matrix_classification(df_elements_results):\n",
    "    # Prepare the data\n",
    "    df_elements_evaluation = df_elements_results.dropna(subset=['classification_true', 'classification_pred'])\n",
    "\n",
    "    y_true = df_elements_evaluation['classification_true']\n",
    "    y_pred = df_elements_evaluation['classification_pred']\n",
    "\n",
    "    # Get the unique labels from both y_true and y_pred\n",
    "    labels = np.unique(np.concatenate((y_true.unique(), y_pred.unique())))\n",
    "\n",
    "    # Compute the confusion matrix\n",
    "    cm = confusion_matrix(y_true, y_pred, labels=labels)\n",
    "\n",
    "    # Create a ConfusionMatrixDisplay\n",
    "    disp = ConfusionMatrixDisplay(confusion_matrix=cm, display_labels=labels)\n",
    "\n",
    "    # Plot the confusion matrix\n",
    "    fig, ax = plt.subplots(figsize=(8, 6))\n",
    "    disp.plot(ax=ax, cmap=plt.cm.Blues, values_format='d')\n",
    "    plt.title('Matrix de confusão para classificação')\n",
    "    plt.xlabel('Predicted Label')\n",
    "    plt.ylabel('True Label')\n",
    "    plt.xticks(rotation=45)\n",
    "    plt.tight_layout()\n",
    "    plt.show()\n",
    "\n",
    "    # Generate the classification report\n",
    "    report = classification_report(y_true, y_pred, labels=labels, digits=4)\n",
    "    print(\"Classification Report:\\n\")\n",
    "    print(report)"
   ]
  },
  {
   "cell_type": "code",
   "execution_count": 69,
   "metadata": {},
   "outputs": [],
   "source": [
    "def create_elements_results_distribution_similarity(df_elements_results):\n",
    "    # Assuming you already have similarity_counts\n",
    "    similarity_elements_counts = df_elements_results[\"similarity_classification\"].value_counts()\n",
    "\n",
    "    # Calculating the total number of classifications\n",
    "    total_counts = similarity_elements_counts.sum()\n",
    "\n",
    "    # Plotting the distribution\n",
    "    fig, ax = plt.subplots(\n",
    "        figsize=(10, 6)\n",
    "    )  # Increase the figure size for better visibility\n",
    "    ax = similarity_elements_counts.plot(\n",
    "        kind=\"bar\", color=[\"green\", \"yellow\", \"blue\"], edgecolor=\"black\"\n",
    "    )\n",
    "\n",
    "    # Adding chart title and axis labels\n",
    "    plt.title(\"Distribuição de Classificações de Similaridade\", fontsize=16)\n",
    "    plt.xlabel(\"Classificações de Similaridade\", fontsize=14)\n",
    "    plt.ylabel(\"Contagem\", fontsize=14)\n",
    "\n",
    "    # Adding count and percentage on each bar in the same line\n",
    "    for p in ax.patches:\n",
    "        count = p.get_height()\n",
    "        percentage = count / total_counts * 100\n",
    "        ax.annotate(\n",
    "            f\"{count} ({percentage:.1f}%)\",\n",
    "            (\n",
    "                p.get_x() + p.get_width() / 2.0,\n",
    "                count,\n",
    "            ),  # Position slightly above the bar for clarity\n",
    "            ha=\"center\",\n",
    "            va=\"bottom\",\n",
    "            fontsize=12,\n",
    "            color=\"black\",\n",
    "        )\n",
    "\n",
    "    # Optimizing axes labels and tick sizes\n",
    "    plt.xticks(rotation=45, fontsize=12)  # Rotate x labels for better readability\n",
    "    plt.yticks(fontsize=12)\n",
    "\n",
    "    # Adding grid lines for better visual reference\n",
    "    plt.grid(axis=\"y\", linestyle=\"--\", linewidth=0.3)\n",
    "\n",
    "    plt.tight_layout()  # Adjust the padding for cleaner look\n",
    "    plt.show()"
   ]
  },
  {
   "cell_type": "code",
   "execution_count": 70,
   "metadata": {},
   "outputs": [],
   "source": [
    "def create_df_elements_results_confusion_matrix_source(df_elements_results):\n",
    "    # Prepare the data\n",
    "    df_elements_evaluation = df_elements_results.dropna(subset=['source_true', 'source_pred'])\n",
    "\n",
    "    y_true = df_elements_evaluation['source_true']\n",
    "    y_pred = df_elements_evaluation['source_pred']\n",
    "\n",
    "    # Get the unique labels from both y_true and y_pred\n",
    "    labels = np.unique(np.concatenate((y_true.unique(), y_pred.unique())))\n",
    "\n",
    "    # Compute the confusion matrix\n",
    "    cm = confusion_matrix(y_true, y_pred, labels=labels)\n",
    "\n",
    "    # Create a ConfusionMatrixDisplay\n",
    "    disp = ConfusionMatrixDisplay(confusion_matrix=cm, display_labels=labels)\n",
    "\n",
    "    # Plot the confusion matrix\n",
    "    fig, ax = plt.subplots(figsize=(8, 6))\n",
    "    disp.plot(ax=ax, cmap=plt.cm.Blues, values_format='d')\n",
    "    plt.title('Matrix de confusão para origem')\n",
    "    plt.xlabel('Predicted Label')\n",
    "    plt.ylabel('True Label')\n",
    "    plt.xticks(rotation=45)\n",
    "    plt.tight_layout()\n",
    "    plt.show()\n",
    "\n",
    "    # Generate the classification report\n",
    "    report = classification_report(y_true, y_pred, labels=labels, digits=4)\n",
    "    print(\"Classification Report:\\n\")\n",
    "    print(report)"
   ]
  },
  {
   "cell_type": "code",
   "execution_count": 71,
   "metadata": {},
   "outputs": [],
   "source": [
    "def create_elements_results_distribution_source(df_elements_results):\n",
    "    # Assuming you already have similarity_counts\n",
    "    similarity_elements_counts = df_elements_results['source_match'].value_counts()\n",
    "\n",
    "    # Calculating the total number of classifications\n",
    "    total_counts = similarity_elements_counts.sum()\n",
    "\n",
    "    # Plotting the distribution\n",
    "    fig, ax = plt.subplots(figsize=(10, 6))  # Increase the figure size for better visibility\n",
    "    ax = similarity_elements_counts.plot(kind='bar', color=['green', 'red'], edgecolor='black')\n",
    "\n",
    "    # Adding chart title and axis labels\n",
    "    plt.title('Distribuição de Classificações de origem', fontsize=16)\n",
    "    plt.xlabel('Classificações de origem', fontsize=14)\n",
    "    plt.ylabel('Contagem', fontsize=14)\n",
    "\n",
    "    # Adding count and percentage on each bar in the same line\n",
    "    for p in ax.patches:\n",
    "        count = p.get_height()\n",
    "        percentage = count / total_counts * 100\n",
    "        ax.annotate(f'{count} ({percentage:.1f}%)', \n",
    "                    (p.get_x() + p.get_width() / 2., count),  # Position slightly above the bar for clarity\n",
    "                    ha='center', va='bottom', fontsize=12, color='black')\n",
    "\n",
    "    # Optimizing axes labels and tick sizes\n",
    "    plt.xticks(rotation=45, fontsize=12)  # Rotate x labels for better readability\n",
    "    plt.yticks(fontsize=12)\n",
    "\n",
    "    # Adding grid lines for better visual reference\n",
    "    plt.grid(axis='y', linestyle='--', linewidth=0.3)\n",
    "\n",
    "    plt.tight_layout()  # Adjust the padding for cleaner look\n",
    "    plt.show()\n"
   ]
  },
  {
   "cell_type": "code",
   "execution_count": 72,
   "metadata": {},
   "outputs": [],
   "source": [
    "# Function to read and process true_terms\n",
    "def read_true_terms(file_path):\n",
    "    true_terms = {}\n",
    "    with open(file_path, \"r\") as f:\n",
    "        json_data = json.load(f)\n",
    "        for value in json_data.values():\n",
    "            # Extract doc_id by stripping '_P2' suffix from id\n",
    "            doc_id = value[\"id\"].replace(\"_P2\", \"\")\n",
    "            content = value.get(\"content\", {})\n",
    "            terms_list = content.get(\"terms\", [])\n",
    "            terms = {}\n",
    "            for term_item in terms_list:\n",
    "                term = term_item.get(\"term\", \"\")\n",
    "                definition = term_item.get(\"definition\", None)  # Definition can be null\n",
    "                terms[term] = {\n",
    "                    \"definition\": definition,\n",
    "                    # 'classification' field removed as per your request\n",
    "                    # 'source' field removed as per your request\n",
    "                }\n",
    "            true_terms[doc_id] = terms\n",
    "    return true_terms\n",
    "\n",
    "\n",
    "# Function to read and process pred_terms\n",
    "def read_pred_terms(files_path):\n",
    "    pred_terms = {}\n",
    "    all_files = glob.glob(files_path)\n",
    "    for file_path in all_files:\n",
    "        with open(file_path, \"r\") as file:\n",
    "            try:\n",
    "                data = json.load(file)\n",
    "            except json.JSONDecodeError:\n",
    "                continue\n",
    "\n",
    "            # Filter keys ending with '_P2|llm_response'\n",
    "            filtered_data = {\n",
    "                key: value for key, value in data.items() if key.endswith(\"_P2|llm_response\")\n",
    "            }\n",
    "\n",
    "            for value in filtered_data.values():\n",
    "                # Extract doc_id by stripping '_P2' suffix from id\n",
    "                doc_id = value[\"id\"].replace(\"_P2\", \"\")\n",
    "                content = value.get(\"content\", {})\n",
    "                terms_list = content.get(\"terms\", [])\n",
    "                terms = {}\n",
    "                for term_item in terms_list:\n",
    "                    term = term_item.get(\"term\", \"\")\n",
    "                    definition = term_item.get(\"definition\", None)  # Definition can be null\n",
    "                    terms[term] = {\n",
    "                        \"definition\": definition,\n",
    "                    }\n",
    "                # Merge terms if doc_id already exists\n",
    "                if doc_id in pred_terms:\n",
    "                    pred_terms[doc_id].update(terms)\n",
    "                else:\n",
    "                    pred_terms[doc_id] = terms\n",
    "    return pred_terms\n",
    "\n",
    "\n",
    "# Function to check the similarity between true and pred definitions using term IDs\n",
    "def check_for_definitions_similarity(true_terms, pred_terms):\n",
    "    results = []\n",
    "    total_terms = 0       # Total number of terms in true_terms\n",
    "    matched_terms = 0     # Number of terms that have a matching term in pred_terms\n",
    "\n",
    "    # Only iterate over doc_ids present in true_terms\n",
    "    for doc_id, true_doc_terms in true_terms.items():\n",
    "        pred_doc_terms = pred_terms.get(doc_id, {})\n",
    "\n",
    "        # Iterate over terms present in true_doc_terms\n",
    "        for term_id, true_item in true_doc_terms.items():\n",
    "            total_terms += 1  # Count the total number of terms in true_terms\n",
    "            pred_item = pred_doc_terms.get(term_id)\n",
    "\n",
    "            if pred_item is None:\n",
    "                # Term exists in true terms but not in predictions\n",
    "                results.append(\n",
    "                    {\n",
    "                        \"doc_id\": doc_id,\n",
    "                        \"term\": term_id,\n",
    "                        \"definition_pred\": \"\",\n",
    "                        \"definition_true\": true_item[\"definition\"] or \"\",\n",
    "                        \"similarity_score\": 0,\n",
    "                    }\n",
    "                )\n",
    "            else:\n",
    "                matched_terms += 1  # Increment the matched terms count\n",
    "                # Both true and pred definitions exist for this term\n",
    "                pred_def = pred_item[\"definition\"] or \"\"\n",
    "                true_def = true_item[\"definition\"] or \"\"\n",
    "\n",
    "                # Ensure definitions are strings\n",
    "                pred_def = str(pred_def)\n",
    "                true_def = str(true_def)\n",
    "\n",
    "                # Compute similarity\n",
    "                score = jellyfish.levenshtein_distance(pred_def, true_def)\n",
    "                max_length = max(len(pred_def), len(true_def), 1)  # Avoid division by zero\n",
    "                similarity_score = 1 - (score / max_length)\n",
    "\n",
    "                results.append(\n",
    "                    {\n",
    "                        \"doc_id\": doc_id,\n",
    "                        \"term\": term_id,\n",
    "                        \"definition_pred\": pred_def,\n",
    "                        \"definition_true\": true_def,\n",
    "                        \"similarity_score\": similarity_score,\n",
    "                    }\n",
    "                )\n",
    "    # Print the counts of total terms and matched terms\n",
    "    print(f\"Total terms in true_terms: {total_terms}\")\n",
    "    print(f\"Total matched terms in pred_terms: {matched_terms}\")\n",
    "    return results"
   ]
  },
  {
   "cell_type": "code",
   "execution_count": 73,
   "metadata": {},
   "outputs": [],
   "source": [
    "# Highlight differences in Similarity Scores in the DataFrame\n",
    "def highlight_differences(row):\n",
    "    if row['similarity_score'] <= 0.8:\n",
    "        return ['background-color: yellow'] * len(row)\n",
    "    elif row['similarity_score'] <= 0.5:\n",
    "        return ['background-color: red'] * len(row)\n",
    "    else:\n",
    "        return ['background-color: black'] * len(row)"
   ]
  },
  {
   "cell_type": "code",
   "execution_count": 74,
   "metadata": {},
   "outputs": [],
   "source": [
    "def create_df_terms_results(similarity_terms_results):\n",
    "    # Step 1: Load similarity_results into a DataFrame\n",
    "    df_terms_results = pd.DataFrame(similarity_terms_results)\n",
    "    \n",
    "    return df_terms_results"
   ]
  },
  {
   "cell_type": "code",
   "execution_count": 75,
   "metadata": {},
   "outputs": [],
   "source": [
    "def create_terms_results_distribution_similarity(df_terms_results):\n",
    "    #Plot a Histogram of Similarity Scores\n",
    "    plt.figure(figsize=(10, 6))\n",
    "    plt.hist(df_terms_results['similarity_score'], bins=20, edgecolor='black', color='skyblue')\n",
    "    plt.xlabel('Similarity Score')\n",
    "    plt.ylabel('Number of Terms')\n",
    "    plt.title('Distribution of Similarity Scores')\n",
    "    plt.grid(axis='y')\n",
    "    plt.show()"
   ]
  },
  {
   "cell_type": "code",
   "execution_count": 76,
   "metadata": {},
   "outputs": [],
   "source": [
    "def create_terms_results_histogram_low_similarity(df_terms_results, number_of_terms = 10):\n",
    "    df_low_similarity = df_terms_results.sort_values(by='similarity_score').head(number_of_terms)\n",
    "\n",
    "    plt.figure(figsize=(12, 6))\n",
    "    plt.barh(df_low_similarity['term'], df_low_similarity['similarity_score'], color='salmon')\n",
    "    plt.xlabel('Similarity Score')\n",
    "    plt.ylabel('Term')\n",
    "    plt.title('Terms with Lowest Similarity Scores')\n",
    "    plt.gca().invert_yaxis()  # Invert y-axis to have the lowest score at the top\n",
    "    plt.show()"
   ]
  },
  {
   "cell_type": "code",
   "execution_count": 77,
   "metadata": {},
   "outputs": [],
   "source": [
    "def create_terms_results_average_similarity_per_document(df_terms_results):\n",
    "    doc_similarity = df_terms_results.groupby('doc_id')['similarity_score'].mean().reset_index()\n",
    "\n",
    "    print(\"Average Similarity Score per Document:\")\n",
    "    display(doc_similarity)\n",
    "\n",
    "    # Plot average similarity score per document\n",
    "    plt.figure(figsize=(12, 6))\n",
    "    plt.bar(doc_similarity['doc_id'], doc_similarity['similarity_score'], color='skyblue')\n",
    "    plt.xlabel('Document ID')\n",
    "    plt.ylabel('Average Similarity Score')\n",
    "    plt.title('Average Similarity Score per Document')\n",
    "    plt.xticks(rotation=90)\n",
    "    plt.tight_layout()\n",
    "    plt.show()"
   ]
  },
  {
   "cell_type": "code",
   "execution_count": 78,
   "metadata": {},
   "outputs": [],
   "source": [
    "def create_terms_results_heatmap(df_terms_results):\n",
    "    # Pivot the DataFrame to create a matrix of terms vs. documents\n",
    "    df_pivot = df_terms_results.pivot(index='term', columns='doc_id', values='similarity_score')\n",
    "\n",
    "    # To manage large datasets, you might want to limit the number of terms or documents\n",
    "    # For example, select the top 50 terms with the most occurrences\n",
    "    if df_pivot.shape[0] > 50:\n",
    "        df_pivot = df_pivot.head(50)\n",
    "\n",
    "    plt.figure(figsize=(12, 10))\n",
    "    sns.heatmap(df_pivot, cmap='coolwarm', linewidths=0.5)\n",
    "    plt.title('Heatmap of Similarity Scores')\n",
    "    plt.xlabel('Document ID')\n",
    "    plt.ylabel('Term')\n",
    "    plt.tight_layout()\n",
    "    plt.show()"
   ]
  },
  {
   "cell_type": "markdown",
   "metadata": {
    "id": "2RXgxayzAj7I"
   },
   "source": [
    "### Semantic annotation"
   ]
  },
  {
   "cell_type": "markdown",
   "metadata": {},
   "source": [
    "#### Extract / classify elements\n",
    "\n",
    "There are several classifications for the elements.\n",
    "\n",
    "- **Classify elements type**: Facts or Rules\n",
    "- **Identify elemenst source**: terms, facts, and rules source\n",
    "- **Classify elements taxonomy**: terms, facts, and rules"
   ]
  },
  {
   "cell_type": "markdown",
   "metadata": {},
   "source": [
    "##### Classify elements type"
   ]
  },
  {
   "cell_type": "markdown",
   "metadata": {
    "id": "i1c3lAUcAj7J"
   },
   "source": [
    "Create a predicted list of elements"
   ]
  },
  {
   "cell_type": "code",
   "execution_count": 79,
   "metadata": {},
   "outputs": [
    {
     "name": "stdout",
     "output_type": "stream",
     "text": [
      "Count: 23, Elements: [{'doc_id': '§ 275.0-2_P1', 'id': 1, 'expression': 'A person may serve process, pleadings, or other papers on a non-resident investment adviser, or on a non-resident general partner or non-resident managing agent of an investment adviser by serving any or all of its appointed agents.', 'classification': 'Fact Type', 'source': '§ 275.0-2(a)', 'filename': '../data/checkpoints/documents-2024-10-30-1.json'}, {'doc_id': '§ 275.0-2_P1', 'id': 2, 'expression': \"A person may serve a non-resident investment adviser, non-resident general partner, or non-resident managing agent by furnishing the Commission with one copy of the process, pleadings, or papers, for each named party, and one additional copy for the Commission's records.\", 'classification': 'Fact Type', 'source': '§ 275.0-2(a)(1)', 'filename': '../data/checkpoints/documents-2024-10-30-1.json'}, {'doc_id': '§ 275.0-2_P1', 'id': 3, 'expression': \"If process, pleadings, or other papers are served on the Commission as described in this section, the Secretary of the Commission (Secretary) will promptly forward a copy to each named party by registered or certified mail at that party's last address filed with the Commission.\", 'classification': 'Rule', 'source': '§ 275.0-2(a)(2)', 'filename': '../data/checkpoints/documents-2024-10-30-1.json'}, {'doc_id': '§ 275.0-2_P1', 'id': 4, 'expression': 'If the Secretary certifies that the Commission was served with process, pleadings, or other papers pursuant to paragraph (a)(1) of this section and forwarded these documents to a named party pursuant to paragraph (a)(2) of this section, this certification constitutes evidence of service upon that party.', 'classification': 'Rule', 'source': '§ 275.0-2(a)(3)', 'filename': '../data/checkpoints/documents-2024-10-30-1.json'}, {'doc_id': '§ 275.0-2_P1', 'id': 5, 'expression': 'Managing agent means any person, including a trustee, who directs or manages, or who participates in directing or managing, the affairs of any unincorporated organization or association other than a partnership.', 'classification': 'Fact Type', 'source': '§ 275.0-2(b)(1)', 'filename': '../data/checkpoints/documents-2024-10-30-1.json'}, {'doc_id': '§ 275.0-2_P1', 'id': 6, 'expression': 'Non-resident means an individual who resides in any place not subject to the jurisdiction of the United States.', 'classification': 'Fact Type', 'source': '§ 275.0-2(b)(2)(i)', 'filename': '../data/checkpoints/documents-2024-10-30-1.json'}, {'doc_id': '§ 275.0-2_P1', 'id': 7, 'expression': 'A corporation that is incorporated in or that has its principal office and place of business in any place not subject to the jurisdiction of the United States.', 'classification': 'Fact Type', 'source': '§ 275.0-2(b)(2)(ii)', 'filename': '../data/checkpoints/documents-2024-10-30-1.json'}, {'doc_id': '§ 275.0-2_P1', 'id': 8, 'expression': 'A partnership or other unincorporated organization or association that has its principal office and place of business in any place not subject to the jurisdiction of the United States.', 'classification': 'Fact Type', 'source': '§ 275.0-2(b)(2)(iii)', 'filename': '../data/checkpoints/documents-2024-10-30-1.json'}, {'doc_id': '§ 275.0-2_P1', 'id': 9, 'expression': 'Principal office and place of business has the same meaning as in § 275.203A-3(c) of this chapter.', 'classification': 'Fact Type', 'source': '§ 275.0-2(b)(3)', 'filename': '../data/checkpoints/documents-2024-10-30-1.json'}, {'doc_id': '§ 275.0-5_P1', 'id': 1, 'expression': 'Notice of the initiation of the proceeding will be published in the Federal Register and will indicate the earliest date upon which an order disposing of the matter may be entered.', 'classification': 'Fact Type', 'source': '§ 275.0-5(a)', 'filename': '../data/checkpoints/documents-2024-10-30-1.json'}, {'doc_id': '§ 275.0-5_P1', 'id': 2, 'expression': 'Any interested person may, within the period of time specified therein, submit to the Commission in writing any facts bearing upon the desirability of a hearing on the matter and may request that a hearing be held, stating his reasons therefor and the nature of his interest in the matter.', 'classification': 'Rule', 'source': '§ 275.0-5(a)', 'filename': '../data/checkpoints/documents-2024-10-30-1.json'}, {'doc_id': '§ 275.0-5_P1', 'id': 3, 'expression': 'An order disposing of the matter will be issued as of course following the expiration of the period of time referred to in paragraph (a) of this section, unless the Commission thereafter orders a hearing on the matter.', 'classification': 'Rule', 'source': '§ 275.0-5(b)', 'filename': '../data/checkpoints/documents-2024-10-30-1.json'}, {'doc_id': '§ 275.0-5_P1', 'id': 4, 'expression': 'The Commission will order a hearing on the matter, if it appears that a hearing is necessary or appropriate in the public interest or for the protection of investors.', 'classification': 'Rule', 'source': '§ 275.0-5(c)', 'filename': '../data/checkpoints/documents-2024-10-30-1.json'}, {'doc_id': '§ 275.0-5_P1', 'id': 5, 'expression': \"An 'application' means any application for an order of the Commission under the Act other than an application for registration as an investment adviser.\", 'classification': 'Fact Type', 'source': '§ 275.0-5(d)', 'filename': '../data/checkpoints/documents-2024-10-30-1.json'}, {'doc_id': '§ 275.0-7_P1', 'id': 1, 'expression': 'The term small business or small organization for purposes of the Investment Advisers Act of 1940 shall mean an investment adviser that has assets under management of less than $25 million.', 'classification': 'Fact Type', 'source': '§ 275.0-7(a)(1)', 'filename': '../data/checkpoints/documents-2024-10-30-1.json'}, {'doc_id': '§ 275.0-7_P1', 'id': 2, 'expression': 'The term small business or small organization for purposes of the Investment Advisers Act of 1940 shall mean an investment adviser that did not have total assets of $5 million or more on the last day of the most recent fiscal year.', 'classification': 'Fact Type', 'source': '§ 275.0-7(a)(2)', 'filename': '../data/checkpoints/documents-2024-10-30-1.json'}, {'doc_id': '§ 275.0-7_P1', 'id': 3, 'expression': 'The term small business or small organization for purposes of the Investment Advisers Act of 1940 shall mean an investment adviser that does not control, is not controlled by, and is not under common control with another investment adviser that has assets under management of $25 million or more.', 'classification': 'Fact Type', 'source': '§ 275.0-7(a)(3)', 'filename': '../data/checkpoints/documents-2024-10-30-1.json'}, {'doc_id': '§ 275.0-7_P1', 'id': 4, 'expression': 'Control means the power, directly or indirectly, to direct the management or policies of a person, whether through ownership of securities, by contract, or otherwise.', 'classification': 'Fact Type', 'source': '§ 275.0-7(b)(1)', 'filename': '../data/checkpoints/documents-2024-10-30-1.json'}, {'doc_id': '§ 275.0-7_P1', 'id': 5, 'expression': \"A person is presumed to control a corporation if the person directly or indirectly has the right to vote 25 percent or more of a class of the corporation's voting securities.\", 'classification': 'Rule', 'source': '§ 275.0-7(b)(1)(i)(A)', 'filename': '../data/checkpoints/documents-2024-10-30-1.json'}, {'doc_id': '§ 275.0-7_P1', 'id': 6, 'expression': 'A person is presumed to control a partnership if the person has the right to receive upon dissolution, or has contributed, 25 percent or more of the capital of the partnership.', 'classification': 'Rule', 'source': '§ 275.0-7(b)(1)(ii)', 'filename': '../data/checkpoints/documents-2024-10-30-1.json'}, {'doc_id': '§ 275.0-7_P1', 'id': 7, 'expression': 'A person is presumed to control a limited liability company (LLC) if the person directly or indirectly has the right to vote 25 percent or more of a class of the interests of the LLC.', 'classification': 'Rule', 'source': '§ 275.0-7(b)(1)(iii)(A)', 'filename': '../data/checkpoints/documents-2024-10-30-1.json'}, {'doc_id': '§ 275.0-7_P1', 'id': 8, 'expression': 'A person is presumed to control a trust if the person is a trustee or managing agent of the trust.', 'classification': 'Rule', 'source': '§ 275.0-7(b)(1)(iv)', 'filename': '../data/checkpoints/documents-2024-10-30-1.json'}, {'doc_id': '§ 275.0-7_P1', 'id': 9, 'expression': 'Total assets means the total assets as shown on the balance sheet of the investment adviser or other person described above under paragraph (a)(3) of this section.', 'classification': 'Fact Type', 'source': '§ 275.0-7(b)(2)', 'filename': '../data/checkpoints/documents-2024-10-30-1.json'}]\n"
     ]
    }
   ],
   "source": [
    "pred_elements = read_pred_elements(f'{config[\"DEFAULT_CHECKPOINT_DIR\"]}/*.json')"
   ]
  },
  {
   "cell_type": "markdown",
   "metadata": {
    "id": "exSvMCbpAj7M"
   },
   "source": [
    "Create a true list of elements"
   ]
  },
  {
   "cell_type": "code",
   "execution_count": 80,
   "metadata": {},
   "outputs": [
    {
     "name": "stdout",
     "output_type": "stream",
     "text": [
      "Count: 23, Elements: [{'doc_id': '§ 275.0-2_P1', 'id': 1, 'expression': 'A person may serve process, pleadings, or other papers on a non-resident investment adviser, or on a non-resident general partner or non-resident managing agent of an investment adviser by serving any or all of its appointed agents.', 'classification': 'Fact Type', 'source': '§ 275.0-2(a)'}, {'doc_id': '§ 275.0-2_P1', 'id': 2, 'expression': \"A person may serve a non-resident investment adviser, non-resident general partner, or non-resident managing agent by furnishing the Commission with one copy of the process, pleadings, or papers, for each named party, and one additional copy for the Commission's records.\", 'classification': 'Fact Type', 'source': '§ 275.0-2(a)(1)'}, {'doc_id': '§ 275.0-2_P1', 'id': 3, 'expression': \"If process, pleadings, or other papers are served on the Commission as described in this section, the Secretary of the Commission (Secretary) will promptly forward a copy to each named party by registered or certified mail at that party's last address filed with the Commission.\", 'classification': 'Rule', 'source': '§ 275.0-2(a)(2)'}, {'doc_id': '§ 275.0-2_P1', 'id': 4, 'expression': 'If the Secretary certifies that the Commission was served with process, pleadings, or other papers pursuant to paragraph (a)(1) of this section and forwarded these documents to a named party pursuant to paragraph (a)(2) of this section, this certification constitutes evidence of service upon that party.', 'classification': 'Rule', 'source': '§ 275.0-2(a)(3)'}, {'doc_id': '§ 275.0-2_P1', 'id': 5, 'expression': 'Managing agent means any person, including a trustee, who directs or manages, or who participates in directing or managing, the affairs of any unincorporated organization or association other than a partnership.', 'classification': 'Fact Type', 'source': '§ 275.0-2(b)(1)'}, {'doc_id': '§ 275.0-2_P1', 'id': 6, 'expression': 'Non-resident means an individual who resides in any place not subject to the jurisdiction of the United States.', 'classification': 'Fact Type', 'source': '§ 275.0-2(b)(2)(i)'}, {'doc_id': '§ 275.0-2_P1', 'id': 7, 'expression': 'A corporation that is incorporated in or that has its principal office and place of business in any place not subject to the jurisdiction of the United States.', 'classification': 'Fact Type', 'source': '§ 275.0-2(b)(2)(ii)'}, {'doc_id': '§ 275.0-2_P1', 'id': 8, 'expression': 'A partnership or other unincorporated organization or association that has its principal office and place of business in any place not subject to the jurisdiction of the United States.', 'classification': 'Fact Type', 'source': '§ 275.0-2(b)(2)(iii)'}, {'doc_id': '§ 275.0-2_P1', 'id': 9, 'expression': 'Principal office and place of business has the same meaning as in § 275.203A-3(c) of this chapter.', 'classification': 'Fact Type', 'source': '§ 275.0-2(b)(3)'}, {'doc_id': '§ 275.0-5_P1', 'id': 1, 'expression': 'Notice of the initiation of the proceeding will be published in the Federal Register and will indicate the earliest date upon which an order disposing of the matter may be entered.', 'classification': 'Fact Type', 'source': '§ 275.0-5(a)'}, {'doc_id': '§ 275.0-5_P1', 'id': 2, 'expression': 'Any interested person may, within the period of time specified therein, submit to the Commission in writing any facts bearing upon the desirability of a hearing on the matter and may request that a hearing be held, stating his reasons therefor and the nature of his interest in the matter.', 'classification': 'Rule', 'source': '§ 275.0-5(a)'}, {'doc_id': '§ 275.0-5_P1', 'id': 3, 'expression': 'An order disposing of the matter will be issued as of course following the expiration of the period of time referred to in paragraph (a) of this section, unless the Commission thereafter orders a hearing on the matter.', 'classification': 'Rule', 'source': '§ 275.0-5(b)'}, {'doc_id': '§ 275.0-5_P1', 'id': 4, 'expression': 'The Commission will order a hearing on the matter, if it appears that a hearing is necessary or appropriate in the public interest or for the protection of investors.', 'classification': 'Rule', 'source': '§ 275.0-5(c)'}, {'doc_id': '§ 275.0-5_P1', 'id': 5, 'expression': \"An 'application' means any application for an order of the Commission under the Act other than an application for registration as an investment adviser.\", 'classification': 'Fact Type', 'source': '§ 275.0-5(d)'}, {'doc_id': '§ 275.0-7_P1', 'id': 1, 'expression': 'The term small business or small organization for purposes of the Investment Advisers Act of 1940 shall mean an investment adviser that has assets under management of less than $25 million.', 'classification': 'Fact Type', 'source': '§ 275.0-7(a)(1)'}, {'doc_id': '§ 275.0-7_P1', 'id': 2, 'expression': 'The term small business or small organization for purposes of the Investment Advisers Act of 1940 shall mean an investment adviser that did not have total assets of $5 million or more on the last day of the most recent fiscal year.', 'classification': 'Fact Type', 'source': '§ 275.0-7(a)(2)'}, {'doc_id': '§ 275.0-7_P1', 'id': 3, 'expression': 'The term small business or small organization for purposes of the Investment Advisers Act of 1940 shall mean an investment adviser that does not control, is not controlled by, and is not under common control with another investment adviser that has assets under management of $25 million or more.', 'classification': 'Fact Type', 'source': '§ 275.0-7(a)(3)'}, {'doc_id': '§ 275.0-7_P1', 'id': 4, 'expression': 'Control means the power, directly or indirectly, to direct the management or policies of a person, whether through ownership of securities, by contract, or otherwise.', 'classification': 'Fact Type', 'source': '§ 275.0-7(b)(1)'}, {'doc_id': '§ 275.0-7_P1', 'id': 5, 'expression': \"A person is presumed to control a corporation if the person directly or indirectly has the right to vote 25 percent or more of a class of the corporation's voting securities.\", 'classification': 'Rule', 'source': '§ 275.0-7(b)(1)(i)(A)'}, {'doc_id': '§ 275.0-7_P1', 'id': 6, 'expression': 'A person is presumed to control a partnership if the person has the right to receive upon dissolution, or has contributed, 25 percent or more of the capital of the partnership.', 'classification': 'Rule', 'source': '§ 275.0-7(b)(1)(ii)'}, {'doc_id': '§ 275.0-7_P1', 'id': 7, 'expression': 'A person is presumed to control a limited liability company (LLC) if the person directly or indirectly has the right to vote 25 percent or more of a class of the interests of the LLC.', 'classification': 'Rule', 'source': '§ 275.0-7(b)(1)(iii)(A)'}, {'doc_id': '§ 275.0-7_P1', 'id': 8, 'expression': 'A person is presumed to control a trust if the person is a trustee or managing agent of the trust.', 'classification': 'Rule', 'source': '§ 275.0-7(b)(1)(iv)'}, {'doc_id': '§ 275.0-7_P1', 'id': 9, 'expression': 'Total assets means the total assets as shown on the balance sheet of the investment adviser or other person described above under paragraph (a)(3) of this section.', 'classification': 'Fact Type', 'source': '§ 275.0-7(b)(2)'}]\n"
     ]
    }
   ],
   "source": [
    "true_elements = read_true_elements(f'{config[\"DEFAULT_DATA_DIR\"]}/p1_true_table.json')"
   ]
  },
  {
   "cell_type": "code",
   "execution_count": 81,
   "metadata": {},
   "outputs": [],
   "source": [
    "similarity_elements_results = check_for_expressions_similarity(true_elements, pred_elements)"
   ]
  },
  {
   "cell_type": "markdown",
   "metadata": {
    "id": "iZ4dSEm6Aj7N"
   },
   "source": [
    "Create a dataframe of true and pred elements"
   ]
  },
  {
   "cell_type": "code",
   "execution_count": 82,
   "metadata": {},
   "outputs": [],
   "source": [
    "df_elements_results = create_df_elements_results(similarity_elements_results)\n",
    "# Save the dataframe to an Excel file\n",
    "df_elements_results.to_excel(f'{config[\"DEFAULT_OUTPUT_DIR\"]}/p1_true_pred_results.xlsx')"
   ]
  },
  {
   "cell_type": "markdown",
   "metadata": {
    "id": "P9k_joLwAj7O"
   },
   "source": [
    "Display the First 10 Rows"
   ]
  },
  {
   "cell_type": "code",
   "execution_count": 83,
   "metadata": {
    "colab": {
     "base_uri": "https://localhost:8080/",
     "height": 1000
    },
    "collapsed": true,
    "id": "RbUvbqHLAj7O",
    "outputId": "33d46761-7546-4721-9c90-0b33a79c1173"
   },
   "outputs": [
    {
     "data": {
      "text/html": [
       "<style type=\"text/css\">\n",
       "#T_1b294_row0_col0, #T_1b294_row0_col1, #T_1b294_row0_col2, #T_1b294_row0_col3, #T_1b294_row0_col4, #T_1b294_row0_col5, #T_1b294_row0_col6, #T_1b294_row0_col7, #T_1b294_row0_col8, #T_1b294_row0_col9, #T_1b294_row0_col10, #T_1b294_row0_col12, #T_1b294_row0_col13, #T_1b294_row0_col14, #T_1b294_row0_col15, #T_1b294_row1_col0, #T_1b294_row1_col1, #T_1b294_row1_col2, #T_1b294_row1_col3, #T_1b294_row1_col4, #T_1b294_row1_col5, #T_1b294_row1_col6, #T_1b294_row1_col7, #T_1b294_row1_col8, #T_1b294_row1_col9, #T_1b294_row1_col10, #T_1b294_row1_col12, #T_1b294_row1_col13, #T_1b294_row1_col14, #T_1b294_row1_col15, #T_1b294_row2_col0, #T_1b294_row2_col1, #T_1b294_row2_col2, #T_1b294_row2_col3, #T_1b294_row2_col4, #T_1b294_row2_col5, #T_1b294_row2_col6, #T_1b294_row2_col7, #T_1b294_row2_col8, #T_1b294_row2_col9, #T_1b294_row2_col10, #T_1b294_row2_col12, #T_1b294_row2_col13, #T_1b294_row2_col14, #T_1b294_row2_col15, #T_1b294_row3_col0, #T_1b294_row3_col1, #T_1b294_row3_col2, #T_1b294_row3_col3, #T_1b294_row3_col4, #T_1b294_row3_col5, #T_1b294_row3_col6, #T_1b294_row3_col7, #T_1b294_row3_col8, #T_1b294_row3_col9, #T_1b294_row3_col10, #T_1b294_row3_col12, #T_1b294_row3_col13, #T_1b294_row3_col14, #T_1b294_row3_col15, #T_1b294_row4_col0, #T_1b294_row4_col1, #T_1b294_row4_col2, #T_1b294_row4_col3, #T_1b294_row4_col4, #T_1b294_row4_col5, #T_1b294_row4_col6, #T_1b294_row4_col7, #T_1b294_row4_col8, #T_1b294_row4_col9, #T_1b294_row4_col10, #T_1b294_row4_col12, #T_1b294_row4_col13, #T_1b294_row4_col14, #T_1b294_row4_col15, #T_1b294_row5_col0, #T_1b294_row5_col1, #T_1b294_row5_col2, #T_1b294_row5_col3, #T_1b294_row5_col4, #T_1b294_row5_col5, #T_1b294_row5_col6, #T_1b294_row5_col7, #T_1b294_row5_col8, #T_1b294_row5_col9, #T_1b294_row5_col10, #T_1b294_row5_col12, #T_1b294_row5_col13, #T_1b294_row5_col14, #T_1b294_row5_col15, #T_1b294_row6_col0, #T_1b294_row6_col1, #T_1b294_row6_col2, #T_1b294_row6_col3, #T_1b294_row6_col4, #T_1b294_row6_col5, #T_1b294_row6_col6, #T_1b294_row6_col7, #T_1b294_row6_col8, #T_1b294_row6_col9, #T_1b294_row6_col10, #T_1b294_row6_col12, #T_1b294_row6_col13, #T_1b294_row6_col14, #T_1b294_row6_col15, #T_1b294_row7_col0, #T_1b294_row7_col1, #T_1b294_row7_col2, #T_1b294_row7_col3, #T_1b294_row7_col4, #T_1b294_row7_col5, #T_1b294_row7_col6, #T_1b294_row7_col7, #T_1b294_row7_col8, #T_1b294_row7_col9, #T_1b294_row7_col10, #T_1b294_row7_col12, #T_1b294_row7_col13, #T_1b294_row7_col14, #T_1b294_row7_col15, #T_1b294_row8_col0, #T_1b294_row8_col1, #T_1b294_row8_col2, #T_1b294_row8_col3, #T_1b294_row8_col4, #T_1b294_row8_col5, #T_1b294_row8_col6, #T_1b294_row8_col7, #T_1b294_row8_col8, #T_1b294_row8_col9, #T_1b294_row8_col10, #T_1b294_row8_col12, #T_1b294_row8_col13, #T_1b294_row8_col14, #T_1b294_row8_col15, #T_1b294_row9_col0, #T_1b294_row9_col1, #T_1b294_row9_col2, #T_1b294_row9_col3, #T_1b294_row9_col4, #T_1b294_row9_col5, #T_1b294_row9_col6, #T_1b294_row9_col7, #T_1b294_row9_col8, #T_1b294_row9_col9, #T_1b294_row9_col10, #T_1b294_row9_col12, #T_1b294_row9_col13, #T_1b294_row9_col14, #T_1b294_row9_col15 {\n",
       "  border: 1px solid black;\n",
       "}\n",
       "#T_1b294_row0_col11, #T_1b294_row1_col11, #T_1b294_row2_col11, #T_1b294_row3_col11, #T_1b294_row4_col11, #T_1b294_row5_col11, #T_1b294_row6_col11, #T_1b294_row7_col11, #T_1b294_row8_col11, #T_1b294_row9_col11 {\n",
       "  background-color: green;\n",
       "  border: 1px solid black;\n",
       "}\n",
       "</style>\n",
       "<table id=\"T_1b294\" style=\"width: 100%; border: 1px solid black;\">\n",
       "  <thead>\n",
       "    <tr>\n",
       "      <th class=\"blank level0\" >&nbsp;</th>\n",
       "      <th id=\"T_1b294_level0_col0\" class=\"col_heading level0 col0\" >doc_id</th>\n",
       "      <th id=\"T_1b294_level0_col1\" class=\"col_heading level0 col1\" >id_pred</th>\n",
       "      <th id=\"T_1b294_level0_col2\" class=\"col_heading level0 col2\" >id_true</th>\n",
       "      <th id=\"T_1b294_level0_col3\" class=\"col_heading level0 col3\" >classification_pred</th>\n",
       "      <th id=\"T_1b294_level0_col4\" class=\"col_heading level0 col4\" >classification_true</th>\n",
       "      <th id=\"T_1b294_level0_col5\" class=\"col_heading level0 col5\" >source_pred</th>\n",
       "      <th id=\"T_1b294_level0_col6\" class=\"col_heading level0 col6\" >source_true</th>\n",
       "      <th id=\"T_1b294_level0_col7\" class=\"col_heading level0 col7\" >filename_pred</th>\n",
       "      <th id=\"T_1b294_level0_col8\" class=\"col_heading level0 col8\" >expression_pred</th>\n",
       "      <th id=\"T_1b294_level0_col9\" class=\"col_heading level0 col9\" >expression_true</th>\n",
       "      <th id=\"T_1b294_level0_col10\" class=\"col_heading level0 col10\" >similarity_score</th>\n",
       "      <th id=\"T_1b294_level0_col11\" class=\"col_heading level0 col11\" >similarity_classification</th>\n",
       "      <th id=\"T_1b294_level0_col12\" class=\"col_heading level0 col12\" >source_match</th>\n",
       "      <th id=\"T_1b294_level0_col13\" class=\"col_heading level0 col13\" >source_match_label</th>\n",
       "      <th id=\"T_1b294_level0_col14\" class=\"col_heading level0 col14\" >id_match</th>\n",
       "      <th id=\"T_1b294_level0_col15\" class=\"col_heading level0 col15\" >id_match_label</th>\n",
       "    </tr>\n",
       "  </thead>\n",
       "  <tbody>\n",
       "    <tr>\n",
       "      <th id=\"T_1b294_level0_row0\" class=\"row_heading level0 row0\" >0</th>\n",
       "      <td id=\"T_1b294_row0_col0\" class=\"data row0 col0\" >§ 275.0-7_P1</td>\n",
       "      <td id=\"T_1b294_row0_col1\" class=\"data row0 col1\" >1</td>\n",
       "      <td id=\"T_1b294_row0_col2\" class=\"data row0 col2\" >1</td>\n",
       "      <td id=\"T_1b294_row0_col3\" class=\"data row0 col3\" >Fact Type</td>\n",
       "      <td id=\"T_1b294_row0_col4\" class=\"data row0 col4\" >Fact Type</td>\n",
       "      <td id=\"T_1b294_row0_col5\" class=\"data row0 col5\" >§ 275.0-7(a)(1)</td>\n",
       "      <td id=\"T_1b294_row0_col6\" class=\"data row0 col6\" >§ 275.0-7(a)(1)</td>\n",
       "      <td id=\"T_1b294_row0_col7\" class=\"data row0 col7\" >../data/checkpoints/documents-2024-10-30-1.json</td>\n",
       "      <td id=\"T_1b294_row0_col8\" class=\"data row0 col8\" >The term small business or small organization for purposes of the Investment Advisers Act of 1940 shall mean an investment adviser that has assets under management of less than $25 million.</td>\n",
       "      <td id=\"T_1b294_row0_col9\" class=\"data row0 col9\" >The term small business or small organization for purposes of the Investment Advisers Act of 1940 shall mean an investment adviser that has assets under management of less than $25 million.</td>\n",
       "      <td id=\"T_1b294_row0_col10\" class=\"data row0 col10\" >1.000000</td>\n",
       "      <td id=\"T_1b294_row0_col11\" class=\"data row0 col11\" >identical</td>\n",
       "      <td id=\"T_1b294_row0_col12\" class=\"data row0 col12\" >True</td>\n",
       "      <td id=\"T_1b294_row0_col13\" class=\"data row0 col13\" >match</td>\n",
       "      <td id=\"T_1b294_row0_col14\" class=\"data row0 col14\" >True</td>\n",
       "      <td id=\"T_1b294_row0_col15\" class=\"data row0 col15\" >match</td>\n",
       "    </tr>\n",
       "    <tr>\n",
       "      <th id=\"T_1b294_level0_row1\" class=\"row_heading level0 row1\" >1</th>\n",
       "      <td id=\"T_1b294_row1_col0\" class=\"data row1 col0\" >§ 275.0-7_P1</td>\n",
       "      <td id=\"T_1b294_row1_col1\" class=\"data row1 col1\" >2</td>\n",
       "      <td id=\"T_1b294_row1_col2\" class=\"data row1 col2\" >2</td>\n",
       "      <td id=\"T_1b294_row1_col3\" class=\"data row1 col3\" >Fact Type</td>\n",
       "      <td id=\"T_1b294_row1_col4\" class=\"data row1 col4\" >Fact Type</td>\n",
       "      <td id=\"T_1b294_row1_col5\" class=\"data row1 col5\" >§ 275.0-7(a)(2)</td>\n",
       "      <td id=\"T_1b294_row1_col6\" class=\"data row1 col6\" >§ 275.0-7(a)(2)</td>\n",
       "      <td id=\"T_1b294_row1_col7\" class=\"data row1 col7\" >../data/checkpoints/documents-2024-10-30-1.json</td>\n",
       "      <td id=\"T_1b294_row1_col8\" class=\"data row1 col8\" >The term small business or small organization for purposes of the Investment Advisers Act of 1940 shall mean an investment adviser that did not have total assets of $5 million or more on the last day of the most recent fiscal year.</td>\n",
       "      <td id=\"T_1b294_row1_col9\" class=\"data row1 col9\" >The term small business or small organization for purposes of the Investment Advisers Act of 1940 shall mean an investment adviser that did not have total assets of $5 million or more on the last day of the most recent fiscal year.</td>\n",
       "      <td id=\"T_1b294_row1_col10\" class=\"data row1 col10\" >1.000000</td>\n",
       "      <td id=\"T_1b294_row1_col11\" class=\"data row1 col11\" >identical</td>\n",
       "      <td id=\"T_1b294_row1_col12\" class=\"data row1 col12\" >True</td>\n",
       "      <td id=\"T_1b294_row1_col13\" class=\"data row1 col13\" >match</td>\n",
       "      <td id=\"T_1b294_row1_col14\" class=\"data row1 col14\" >True</td>\n",
       "      <td id=\"T_1b294_row1_col15\" class=\"data row1 col15\" >match</td>\n",
       "    </tr>\n",
       "    <tr>\n",
       "      <th id=\"T_1b294_level0_row2\" class=\"row_heading level0 row2\" >2</th>\n",
       "      <td id=\"T_1b294_row2_col0\" class=\"data row2 col0\" >§ 275.0-7_P1</td>\n",
       "      <td id=\"T_1b294_row2_col1\" class=\"data row2 col1\" >3</td>\n",
       "      <td id=\"T_1b294_row2_col2\" class=\"data row2 col2\" >3</td>\n",
       "      <td id=\"T_1b294_row2_col3\" class=\"data row2 col3\" >Fact Type</td>\n",
       "      <td id=\"T_1b294_row2_col4\" class=\"data row2 col4\" >Fact Type</td>\n",
       "      <td id=\"T_1b294_row2_col5\" class=\"data row2 col5\" >§ 275.0-7(a)(3)</td>\n",
       "      <td id=\"T_1b294_row2_col6\" class=\"data row2 col6\" >§ 275.0-7(a)(3)</td>\n",
       "      <td id=\"T_1b294_row2_col7\" class=\"data row2 col7\" >../data/checkpoints/documents-2024-10-30-1.json</td>\n",
       "      <td id=\"T_1b294_row2_col8\" class=\"data row2 col8\" >The term small business or small organization for purposes of the Investment Advisers Act of 1940 shall mean an investment adviser that does not control, is not controlled by, and is not under common control with another investment adviser that has assets under management of $25 million or more.</td>\n",
       "      <td id=\"T_1b294_row2_col9\" class=\"data row2 col9\" >The term small business or small organization for purposes of the Investment Advisers Act of 1940 shall mean an investment adviser that does not control, is not controlled by, and is not under common control with another investment adviser that has assets under management of $25 million or more.</td>\n",
       "      <td id=\"T_1b294_row2_col10\" class=\"data row2 col10\" >1.000000</td>\n",
       "      <td id=\"T_1b294_row2_col11\" class=\"data row2 col11\" >identical</td>\n",
       "      <td id=\"T_1b294_row2_col12\" class=\"data row2 col12\" >True</td>\n",
       "      <td id=\"T_1b294_row2_col13\" class=\"data row2 col13\" >match</td>\n",
       "      <td id=\"T_1b294_row2_col14\" class=\"data row2 col14\" >True</td>\n",
       "      <td id=\"T_1b294_row2_col15\" class=\"data row2 col15\" >match</td>\n",
       "    </tr>\n",
       "    <tr>\n",
       "      <th id=\"T_1b294_level0_row3\" class=\"row_heading level0 row3\" >3</th>\n",
       "      <td id=\"T_1b294_row3_col0\" class=\"data row3 col0\" >§ 275.0-7_P1</td>\n",
       "      <td id=\"T_1b294_row3_col1\" class=\"data row3 col1\" >4</td>\n",
       "      <td id=\"T_1b294_row3_col2\" class=\"data row3 col2\" >4</td>\n",
       "      <td id=\"T_1b294_row3_col3\" class=\"data row3 col3\" >Fact Type</td>\n",
       "      <td id=\"T_1b294_row3_col4\" class=\"data row3 col4\" >Fact Type</td>\n",
       "      <td id=\"T_1b294_row3_col5\" class=\"data row3 col5\" >§ 275.0-7(b)(1)</td>\n",
       "      <td id=\"T_1b294_row3_col6\" class=\"data row3 col6\" >§ 275.0-7(b)(1)</td>\n",
       "      <td id=\"T_1b294_row3_col7\" class=\"data row3 col7\" >../data/checkpoints/documents-2024-10-30-1.json</td>\n",
       "      <td id=\"T_1b294_row3_col8\" class=\"data row3 col8\" >Control means the power, directly or indirectly, to direct the management or policies of a person, whether through ownership of securities, by contract, or otherwise.</td>\n",
       "      <td id=\"T_1b294_row3_col9\" class=\"data row3 col9\" >Control means the power, directly or indirectly, to direct the management or policies of a person, whether through ownership of securities, by contract, or otherwise.</td>\n",
       "      <td id=\"T_1b294_row3_col10\" class=\"data row3 col10\" >1.000000</td>\n",
       "      <td id=\"T_1b294_row3_col11\" class=\"data row3 col11\" >identical</td>\n",
       "      <td id=\"T_1b294_row3_col12\" class=\"data row3 col12\" >True</td>\n",
       "      <td id=\"T_1b294_row3_col13\" class=\"data row3 col13\" >match</td>\n",
       "      <td id=\"T_1b294_row3_col14\" class=\"data row3 col14\" >True</td>\n",
       "      <td id=\"T_1b294_row3_col15\" class=\"data row3 col15\" >match</td>\n",
       "    </tr>\n",
       "    <tr>\n",
       "      <th id=\"T_1b294_level0_row4\" class=\"row_heading level0 row4\" >4</th>\n",
       "      <td id=\"T_1b294_row4_col0\" class=\"data row4 col0\" >§ 275.0-7_P1</td>\n",
       "      <td id=\"T_1b294_row4_col1\" class=\"data row4 col1\" >5</td>\n",
       "      <td id=\"T_1b294_row4_col2\" class=\"data row4 col2\" >5</td>\n",
       "      <td id=\"T_1b294_row4_col3\" class=\"data row4 col3\" >Rule</td>\n",
       "      <td id=\"T_1b294_row4_col4\" class=\"data row4 col4\" >Rule</td>\n",
       "      <td id=\"T_1b294_row4_col5\" class=\"data row4 col5\" >§ 275.0-7(b)(1)(i)(A)</td>\n",
       "      <td id=\"T_1b294_row4_col6\" class=\"data row4 col6\" >§ 275.0-7(b)(1)(i)(A)</td>\n",
       "      <td id=\"T_1b294_row4_col7\" class=\"data row4 col7\" >../data/checkpoints/documents-2024-10-30-1.json</td>\n",
       "      <td id=\"T_1b294_row4_col8\" class=\"data row4 col8\" >A person is presumed to control a corporation if the person directly or indirectly has the right to vote 25 percent or more of a class of the corporation's voting securities.</td>\n",
       "      <td id=\"T_1b294_row4_col9\" class=\"data row4 col9\" >A person is presumed to control a corporation if the person directly or indirectly has the right to vote 25 percent or more of a class of the corporation's voting securities.</td>\n",
       "      <td id=\"T_1b294_row4_col10\" class=\"data row4 col10\" >1.000000</td>\n",
       "      <td id=\"T_1b294_row4_col11\" class=\"data row4 col11\" >identical</td>\n",
       "      <td id=\"T_1b294_row4_col12\" class=\"data row4 col12\" >True</td>\n",
       "      <td id=\"T_1b294_row4_col13\" class=\"data row4 col13\" >match</td>\n",
       "      <td id=\"T_1b294_row4_col14\" class=\"data row4 col14\" >True</td>\n",
       "      <td id=\"T_1b294_row4_col15\" class=\"data row4 col15\" >match</td>\n",
       "    </tr>\n",
       "    <tr>\n",
       "      <th id=\"T_1b294_level0_row5\" class=\"row_heading level0 row5\" >5</th>\n",
       "      <td id=\"T_1b294_row5_col0\" class=\"data row5 col0\" >§ 275.0-7_P1</td>\n",
       "      <td id=\"T_1b294_row5_col1\" class=\"data row5 col1\" >6</td>\n",
       "      <td id=\"T_1b294_row5_col2\" class=\"data row5 col2\" >6</td>\n",
       "      <td id=\"T_1b294_row5_col3\" class=\"data row5 col3\" >Rule</td>\n",
       "      <td id=\"T_1b294_row5_col4\" class=\"data row5 col4\" >Rule</td>\n",
       "      <td id=\"T_1b294_row5_col5\" class=\"data row5 col5\" >§ 275.0-7(b)(1)(ii)</td>\n",
       "      <td id=\"T_1b294_row5_col6\" class=\"data row5 col6\" >§ 275.0-7(b)(1)(ii)</td>\n",
       "      <td id=\"T_1b294_row5_col7\" class=\"data row5 col7\" >../data/checkpoints/documents-2024-10-30-1.json</td>\n",
       "      <td id=\"T_1b294_row5_col8\" class=\"data row5 col8\" >A person is presumed to control a partnership if the person has the right to receive upon dissolution, or has contributed, 25 percent or more of the capital of the partnership.</td>\n",
       "      <td id=\"T_1b294_row5_col9\" class=\"data row5 col9\" >A person is presumed to control a partnership if the person has the right to receive upon dissolution, or has contributed, 25 percent or more of the capital of the partnership.</td>\n",
       "      <td id=\"T_1b294_row5_col10\" class=\"data row5 col10\" >1.000000</td>\n",
       "      <td id=\"T_1b294_row5_col11\" class=\"data row5 col11\" >identical</td>\n",
       "      <td id=\"T_1b294_row5_col12\" class=\"data row5 col12\" >True</td>\n",
       "      <td id=\"T_1b294_row5_col13\" class=\"data row5 col13\" >match</td>\n",
       "      <td id=\"T_1b294_row5_col14\" class=\"data row5 col14\" >True</td>\n",
       "      <td id=\"T_1b294_row5_col15\" class=\"data row5 col15\" >match</td>\n",
       "    </tr>\n",
       "    <tr>\n",
       "      <th id=\"T_1b294_level0_row6\" class=\"row_heading level0 row6\" >6</th>\n",
       "      <td id=\"T_1b294_row6_col0\" class=\"data row6 col0\" >§ 275.0-7_P1</td>\n",
       "      <td id=\"T_1b294_row6_col1\" class=\"data row6 col1\" >7</td>\n",
       "      <td id=\"T_1b294_row6_col2\" class=\"data row6 col2\" >7</td>\n",
       "      <td id=\"T_1b294_row6_col3\" class=\"data row6 col3\" >Rule</td>\n",
       "      <td id=\"T_1b294_row6_col4\" class=\"data row6 col4\" >Rule</td>\n",
       "      <td id=\"T_1b294_row6_col5\" class=\"data row6 col5\" >§ 275.0-7(b)(1)(iii)(A)</td>\n",
       "      <td id=\"T_1b294_row6_col6\" class=\"data row6 col6\" >§ 275.0-7(b)(1)(iii)(A)</td>\n",
       "      <td id=\"T_1b294_row6_col7\" class=\"data row6 col7\" >../data/checkpoints/documents-2024-10-30-1.json</td>\n",
       "      <td id=\"T_1b294_row6_col8\" class=\"data row6 col8\" >A person is presumed to control a limited liability company (LLC) if the person directly or indirectly has the right to vote 25 percent or more of a class of the interests of the LLC.</td>\n",
       "      <td id=\"T_1b294_row6_col9\" class=\"data row6 col9\" >A person is presumed to control a limited liability company (LLC) if the person directly or indirectly has the right to vote 25 percent or more of a class of the interests of the LLC.</td>\n",
       "      <td id=\"T_1b294_row6_col10\" class=\"data row6 col10\" >1.000000</td>\n",
       "      <td id=\"T_1b294_row6_col11\" class=\"data row6 col11\" >identical</td>\n",
       "      <td id=\"T_1b294_row6_col12\" class=\"data row6 col12\" >True</td>\n",
       "      <td id=\"T_1b294_row6_col13\" class=\"data row6 col13\" >match</td>\n",
       "      <td id=\"T_1b294_row6_col14\" class=\"data row6 col14\" >True</td>\n",
       "      <td id=\"T_1b294_row6_col15\" class=\"data row6 col15\" >match</td>\n",
       "    </tr>\n",
       "    <tr>\n",
       "      <th id=\"T_1b294_level0_row7\" class=\"row_heading level0 row7\" >7</th>\n",
       "      <td id=\"T_1b294_row7_col0\" class=\"data row7 col0\" >§ 275.0-7_P1</td>\n",
       "      <td id=\"T_1b294_row7_col1\" class=\"data row7 col1\" >8</td>\n",
       "      <td id=\"T_1b294_row7_col2\" class=\"data row7 col2\" >8</td>\n",
       "      <td id=\"T_1b294_row7_col3\" class=\"data row7 col3\" >Rule</td>\n",
       "      <td id=\"T_1b294_row7_col4\" class=\"data row7 col4\" >Rule</td>\n",
       "      <td id=\"T_1b294_row7_col5\" class=\"data row7 col5\" >§ 275.0-7(b)(1)(iv)</td>\n",
       "      <td id=\"T_1b294_row7_col6\" class=\"data row7 col6\" >§ 275.0-7(b)(1)(iv)</td>\n",
       "      <td id=\"T_1b294_row7_col7\" class=\"data row7 col7\" >../data/checkpoints/documents-2024-10-30-1.json</td>\n",
       "      <td id=\"T_1b294_row7_col8\" class=\"data row7 col8\" >A person is presumed to control a trust if the person is a trustee or managing agent of the trust.</td>\n",
       "      <td id=\"T_1b294_row7_col9\" class=\"data row7 col9\" >A person is presumed to control a trust if the person is a trustee or managing agent of the trust.</td>\n",
       "      <td id=\"T_1b294_row7_col10\" class=\"data row7 col10\" >1.000000</td>\n",
       "      <td id=\"T_1b294_row7_col11\" class=\"data row7 col11\" >identical</td>\n",
       "      <td id=\"T_1b294_row7_col12\" class=\"data row7 col12\" >True</td>\n",
       "      <td id=\"T_1b294_row7_col13\" class=\"data row7 col13\" >match</td>\n",
       "      <td id=\"T_1b294_row7_col14\" class=\"data row7 col14\" >True</td>\n",
       "      <td id=\"T_1b294_row7_col15\" class=\"data row7 col15\" >match</td>\n",
       "    </tr>\n",
       "    <tr>\n",
       "      <th id=\"T_1b294_level0_row8\" class=\"row_heading level0 row8\" >8</th>\n",
       "      <td id=\"T_1b294_row8_col0\" class=\"data row8 col0\" >§ 275.0-7_P1</td>\n",
       "      <td id=\"T_1b294_row8_col1\" class=\"data row8 col1\" >9</td>\n",
       "      <td id=\"T_1b294_row8_col2\" class=\"data row8 col2\" >9</td>\n",
       "      <td id=\"T_1b294_row8_col3\" class=\"data row8 col3\" >Fact Type</td>\n",
       "      <td id=\"T_1b294_row8_col4\" class=\"data row8 col4\" >Fact Type</td>\n",
       "      <td id=\"T_1b294_row8_col5\" class=\"data row8 col5\" >§ 275.0-7(b)(2)</td>\n",
       "      <td id=\"T_1b294_row8_col6\" class=\"data row8 col6\" >§ 275.0-7(b)(2)</td>\n",
       "      <td id=\"T_1b294_row8_col7\" class=\"data row8 col7\" >../data/checkpoints/documents-2024-10-30-1.json</td>\n",
       "      <td id=\"T_1b294_row8_col8\" class=\"data row8 col8\" >Total assets means the total assets as shown on the balance sheet of the investment adviser or other person described above under paragraph (a)(3) of this section.</td>\n",
       "      <td id=\"T_1b294_row8_col9\" class=\"data row8 col9\" >Total assets means the total assets as shown on the balance sheet of the investment adviser or other person described above under paragraph (a)(3) of this section.</td>\n",
       "      <td id=\"T_1b294_row8_col10\" class=\"data row8 col10\" >1.000000</td>\n",
       "      <td id=\"T_1b294_row8_col11\" class=\"data row8 col11\" >identical</td>\n",
       "      <td id=\"T_1b294_row8_col12\" class=\"data row8 col12\" >True</td>\n",
       "      <td id=\"T_1b294_row8_col13\" class=\"data row8 col13\" >match</td>\n",
       "      <td id=\"T_1b294_row8_col14\" class=\"data row8 col14\" >True</td>\n",
       "      <td id=\"T_1b294_row8_col15\" class=\"data row8 col15\" >match</td>\n",
       "    </tr>\n",
       "    <tr>\n",
       "      <th id=\"T_1b294_level0_row9\" class=\"row_heading level0 row9\" >9</th>\n",
       "      <td id=\"T_1b294_row9_col0\" class=\"data row9 col0\" >§ 275.0-5_P1</td>\n",
       "      <td id=\"T_1b294_row9_col1\" class=\"data row9 col1\" >1</td>\n",
       "      <td id=\"T_1b294_row9_col2\" class=\"data row9 col2\" >1</td>\n",
       "      <td id=\"T_1b294_row9_col3\" class=\"data row9 col3\" >Fact Type</td>\n",
       "      <td id=\"T_1b294_row9_col4\" class=\"data row9 col4\" >Fact Type</td>\n",
       "      <td id=\"T_1b294_row9_col5\" class=\"data row9 col5\" >§ 275.0-5(a)</td>\n",
       "      <td id=\"T_1b294_row9_col6\" class=\"data row9 col6\" >§ 275.0-5(a)</td>\n",
       "      <td id=\"T_1b294_row9_col7\" class=\"data row9 col7\" >../data/checkpoints/documents-2024-10-30-1.json</td>\n",
       "      <td id=\"T_1b294_row9_col8\" class=\"data row9 col8\" >Notice of the initiation of the proceeding will be published in the Federal Register and will indicate the earliest date upon which an order disposing of the matter may be entered.</td>\n",
       "      <td id=\"T_1b294_row9_col9\" class=\"data row9 col9\" >Notice of the initiation of the proceeding will be published in the Federal Register and will indicate the earliest date upon which an order disposing of the matter may be entered.</td>\n",
       "      <td id=\"T_1b294_row9_col10\" class=\"data row9 col10\" >1.000000</td>\n",
       "      <td id=\"T_1b294_row9_col11\" class=\"data row9 col11\" >identical</td>\n",
       "      <td id=\"T_1b294_row9_col12\" class=\"data row9 col12\" >True</td>\n",
       "      <td id=\"T_1b294_row9_col13\" class=\"data row9 col13\" >match</td>\n",
       "      <td id=\"T_1b294_row9_col14\" class=\"data row9 col14\" >True</td>\n",
       "      <td id=\"T_1b294_row9_col15\" class=\"data row9 col15\" >match</td>\n",
       "    </tr>\n",
       "  </tbody>\n",
       "</table>\n"
      ],
      "text/plain": [
       "<pandas.io.formats.style.Styler at 0x7f5ab457e850>"
      ]
     },
     "metadata": {},
     "output_type": "display_data"
    }
   ],
   "source": [
    "# Select the first 10 rows from df_results\n",
    "df_top10 = df_elements_results.head(10)\n",
    "\n",
    "# Apply the styling to the sliced DataFrame using .map\n",
    "styled_elements_df_top10 = df_top10.style.map(highlight_similarity, subset=[\"similarity_classification\"])\n",
    "styled_elements_df_top10.set_table_attributes('style=\"width: 100%; border: 1px solid black;\"')\n",
    "styled_elements_df_top10.set_properties(**{'border': '1px solid black'})\n",
    "\n",
    "# Display the styled DataFrame (if in Jupyter Notebook)\n",
    "display(styled_elements_df_top10)"
   ]
  },
  {
   "cell_type": "markdown",
   "metadata": {},
   "source": [
    "**Type classification**"
   ]
  },
  {
   "cell_type": "markdown",
   "metadata": {
    "id": "ooy10Z74Aj7P"
   },
   "source": [
    "Computing the confusion matrix and classification report between classification_true and classification_pred."
   ]
  },
  {
   "cell_type": "code",
   "execution_count": 84,
   "metadata": {},
   "outputs": [
    {
     "data": {
      "image/png": "[encoded data removed]",
      "text/plain": [
       "<Figure size 800x600 with 2 Axes>"
      ]
     },
     "metadata": {},
     "output_type": "display_data"
    },
    {
     "name": "stdout",
     "output_type": "stream",
     "text": [
      "Classification Report:\n",
      "\n",
      "              precision    recall  f1-score   support\n",
      "\n",
      "   Fact Type     1.0000    1.0000    1.0000        14\n",
      "        Rule     1.0000    1.0000    1.0000         9\n",
      "\n",
      "    accuracy                         1.0000        23\n",
      "   macro avg     1.0000    1.0000    1.0000        23\n",
      "weighted avg     1.0000    1.0000    1.0000        23\n",
      "\n"
     ]
    }
   ],
   "source": [
    "create_df_elements_results_confusion_matrix_classification(df_elements_results)"
   ]
  },
  {
   "cell_type": "markdown",
   "metadata": {
    "id": "0bqD7eDDAj7P"
   },
   "source": [
    "Analyzing the Distribution of Similarity Classifications"
   ]
  },
  {
   "cell_type": "code",
   "execution_count": 85,
   "metadata": {},
   "outputs": [
    {
     "data": {
      "image/png": "[encoded data removed]",
      "text/plain": [
       "<Figure size 1000x600 with 1 Axes>"
      ]
     },
     "metadata": {},
     "output_type": "display_data"
    }
   ],
   "source": [
    "create_elements_results_distribution_similarity(df_elements_results)"
   ]
  },
  {
   "cell_type": "markdown",
   "metadata": {},
   "source": [
    "**Source identification**"
   ]
  },
  {
   "cell_type": "code",
   "execution_count": 86,
   "metadata": {},
   "outputs": [
    {
     "data": {
      "image/png": "[encoded data removed]",
      "text/plain": [
       "<Figure size 800x600 with 2 Axes>"
      ]
     },
     "metadata": {},
     "output_type": "display_data"
    },
    {
     "name": "stdout",
     "output_type": "stream",
     "text": [
      "Classification Report:\n",
      "\n",
      "                         precision    recall  f1-score   support\n",
      "\n",
      "           § 275.0-2(a)     1.0000    1.0000    1.0000         1\n",
      "        § 275.0-2(a)(1)     1.0000    1.0000    1.0000         1\n",
      "        § 275.0-2(a)(2)     1.0000    1.0000    1.0000         1\n",
      "        § 275.0-2(a)(3)     1.0000    1.0000    1.0000         1\n",
      "        § 275.0-2(b)(1)     1.0000    1.0000    1.0000         1\n",
      "     § 275.0-2(b)(2)(i)     1.0000    1.0000    1.0000         1\n",
      "    § 275.0-2(b)(2)(ii)     1.0000    1.0000    1.0000         1\n",
      "   § 275.0-2(b)(2)(iii)     1.0000    1.0000    1.0000         1\n",
      "        § 275.0-2(b)(3)     1.0000    1.0000    1.0000         1\n",
      "           § 275.0-5(a)     1.0000    1.0000    1.0000         2\n",
      "           § 275.0-5(b)     1.0000    1.0000    1.0000         1\n",
      "           § 275.0-5(c)     1.0000    1.0000    1.0000         1\n",
      "           § 275.0-5(d)     1.0000    1.0000    1.0000         1\n",
      "        § 275.0-7(a)(1)     1.0000    1.0000    1.0000         1\n",
      "        § 275.0-7(a)(2)     1.0000    1.0000    1.0000         1\n",
      "        § 275.0-7(a)(3)     1.0000    1.0000    1.0000         1\n",
      "        § 275.0-7(b)(1)     1.0000    1.0000    1.0000         1\n",
      "  § 275.0-7(b)(1)(i)(A)     1.0000    1.0000    1.0000         1\n",
      "    § 275.0-7(b)(1)(ii)     1.0000    1.0000    1.0000         1\n",
      "§ 275.0-7(b)(1)(iii)(A)     1.0000    1.0000    1.0000         1\n",
      "    § 275.0-7(b)(1)(iv)     1.0000    1.0000    1.0000         1\n",
      "        § 275.0-7(b)(2)     1.0000    1.0000    1.0000         1\n",
      "\n",
      "               accuracy                         1.0000        23\n",
      "              macro avg     1.0000    1.0000    1.0000        23\n",
      "           weighted avg     1.0000    1.0000    1.0000        23\n",
      "\n"
     ]
    }
   ],
   "source": [
    "create_df_elements_results_confusion_matrix_source(df_elements_results)"
   ]
  },
  {
   "cell_type": "markdown",
   "metadata": {},
   "source": [
    "Analyzing the Distribution of Similarity Classifications"
   ]
  },
  {
   "cell_type": "code",
   "execution_count": 87,
   "metadata": {},
   "outputs": [
    {
     "data": {
      "image/png": "[encoded data removed]",
      "text/plain": [
       "<Figure size 1000x600 with 1 Axes>"
      ]
     },
     "metadata": {},
     "output_type": "display_data"
    }
   ],
   "source": [
    "create_elements_results_distribution_source(df_elements_results)"
   ]
  },
  {
   "cell_type": "markdown",
   "metadata": {},
   "source": [
    "##### Extract term's definition"
   ]
  },
  {
   "cell_type": "code",
   "execution_count": 88,
   "metadata": {},
   "outputs": [],
   "source": [
    "# Read true terms\n",
    "true_terms_file = f'{config[\"DEFAULT_DATA_DIR\"]}/p2_true_table.json'\n",
    "true_terms = read_true_terms(true_terms_file)"
   ]
  },
  {
   "cell_type": "code",
   "execution_count": 89,
   "metadata": {},
   "outputs": [],
   "source": [
    "# Read predicted terms\n",
    "json_files_path = f'{config[\"DEFAULT_CHECKPOINT_DIR\"]}/*.json'\n",
    "pred_terms = read_pred_terms(json_files_path)"
   ]
  },
  {
   "cell_type": "code",
   "execution_count": 90,
   "metadata": {},
   "outputs": [
    {
     "name": "stdout",
     "output_type": "stream",
     "text": [
      "Total terms in true_terms: 82\n",
      "Total matched terms in pred_terms: 82\n"
     ]
    }
   ],
   "source": [
    "# Run the similarity check\n",
    "similarity_terms_results = check_for_definitions_similarity(true_terms, pred_terms)"
   ]
  },
  {
   "cell_type": "markdown",
   "metadata": {},
   "source": [
    "Create a dataframe of true and pred elements"
   ]
  },
  {
   "cell_type": "code",
   "execution_count": 91,
   "metadata": {},
   "outputs": [],
   "source": [
    "df_terms_results = create_df_terms_results(similarity_terms_results)"
   ]
  },
  {
   "cell_type": "markdown",
   "metadata": {},
   "source": [
    "Show the first 10 terms in dataFrame. Yellow means above 80%, red means above 50%."
   ]
  },
  {
   "cell_type": "code",
   "execution_count": 92,
   "metadata": {},
   "outputs": [
    {
     "name": "stdout",
     "output_type": "stream",
     "text": [
      "Styled DataFrame with Highlighted Similarity Scores:\n"
     ]
    },
    {
     "data": {
      "text/html": [
       "<style type=\"text/css\">\n",
       "#T_20aac_row0_col0, #T_20aac_row0_col1, #T_20aac_row0_col2, #T_20aac_row0_col3, #T_20aac_row0_col4, #T_20aac_row1_col0, #T_20aac_row1_col1, #T_20aac_row1_col2, #T_20aac_row1_col3, #T_20aac_row1_col4, #T_20aac_row2_col0, #T_20aac_row2_col1, #T_20aac_row2_col2, #T_20aac_row2_col3, #T_20aac_row2_col4, #T_20aac_row3_col0, #T_20aac_row3_col1, #T_20aac_row3_col2, #T_20aac_row3_col3, #T_20aac_row3_col4, #T_20aac_row4_col0, #T_20aac_row4_col1, #T_20aac_row4_col2, #T_20aac_row4_col3, #T_20aac_row4_col4, #T_20aac_row5_col0, #T_20aac_row5_col1, #T_20aac_row5_col2, #T_20aac_row5_col3, #T_20aac_row5_col4, #T_20aac_row6_col0, #T_20aac_row6_col1, #T_20aac_row6_col2, #T_20aac_row6_col3, #T_20aac_row6_col4, #T_20aac_row7_col0, #T_20aac_row7_col1, #T_20aac_row7_col2, #T_20aac_row7_col3, #T_20aac_row7_col4, #T_20aac_row8_col0, #T_20aac_row8_col1, #T_20aac_row8_col2, #T_20aac_row8_col3, #T_20aac_row8_col4, #T_20aac_row9_col0, #T_20aac_row9_col1, #T_20aac_row9_col2, #T_20aac_row9_col3, #T_20aac_row9_col4 {\n",
       "  background-color: black;\n",
       "}\n",
       "</style>\n",
       "<table id=\"T_20aac\">\n",
       "  <thead>\n",
       "    <tr>\n",
       "      <th class=\"blank level0\" >&nbsp;</th>\n",
       "      <th id=\"T_20aac_level0_col0\" class=\"col_heading level0 col0\" >doc_id</th>\n",
       "      <th id=\"T_20aac_level0_col1\" class=\"col_heading level0 col1\" >term</th>\n",
       "      <th id=\"T_20aac_level0_col2\" class=\"col_heading level0 col2\" >definition_pred</th>\n",
       "      <th id=\"T_20aac_level0_col3\" class=\"col_heading level0 col3\" >definition_true</th>\n",
       "      <th id=\"T_20aac_level0_col4\" class=\"col_heading level0 col4\" >similarity_score</th>\n",
       "    </tr>\n",
       "  </thead>\n",
       "  <tbody>\n",
       "    <tr>\n",
       "      <th id=\"T_20aac_level0_row0\" class=\"row_heading level0 row0\" >0</th>\n",
       "      <td id=\"T_20aac_row0_col0\" class=\"data row0 col0\" >§ 275.0-2</td>\n",
       "      <td id=\"T_20aac_row0_col1\" class=\"data row0 col1\" >Managing agent</td>\n",
       "      <td id=\"T_20aac_row0_col2\" class=\"data row0 col2\" >Any person, including a trustee, who directs or manages, or who participates in directing or managing, the affairs of any unincorporated organization or association other than a partnership.</td>\n",
       "      <td id=\"T_20aac_row0_col3\" class=\"data row0 col3\" >Any person, including a trustee, who directs or manages, or who participates in directing or managing, the affairs of any unincorporated organization or association other than a partnership.</td>\n",
       "      <td id=\"T_20aac_row0_col4\" class=\"data row0 col4\" >1.000000</td>\n",
       "    </tr>\n",
       "    <tr>\n",
       "      <th id=\"T_20aac_level0_row1\" class=\"row_heading level0 row1\" >1</th>\n",
       "      <td id=\"T_20aac_row1_col0\" class=\"data row1 col0\" >§ 275.0-2</td>\n",
       "      <td id=\"T_20aac_row1_col1\" class=\"data row1 col1\" >Partnership</td>\n",
       "      <td id=\"T_20aac_row1_col2\" class=\"data row1 col2\" ></td>\n",
       "      <td id=\"T_20aac_row1_col3\" class=\"data row1 col3\" ></td>\n",
       "      <td id=\"T_20aac_row1_col4\" class=\"data row1 col4\" >1.000000</td>\n",
       "    </tr>\n",
       "    <tr>\n",
       "      <th id=\"T_20aac_level0_row2\" class=\"row_heading level0 row2\" >2</th>\n",
       "      <td id=\"T_20aac_row2_col0\" class=\"data row2 col0\" >§ 275.0-2</td>\n",
       "      <td id=\"T_20aac_row2_col1\" class=\"data row2 col1\" >Non-resident general partner</td>\n",
       "      <td id=\"T_20aac_row2_col2\" class=\"data row2 col2\" ></td>\n",
       "      <td id=\"T_20aac_row2_col3\" class=\"data row2 col3\" ></td>\n",
       "      <td id=\"T_20aac_row2_col4\" class=\"data row2 col4\" >1.000000</td>\n",
       "    </tr>\n",
       "    <tr>\n",
       "      <th id=\"T_20aac_level0_row3\" class=\"row_heading level0 row3\" >3</th>\n",
       "      <td id=\"T_20aac_row3_col0\" class=\"data row3 col0\" >§ 275.0-2</td>\n",
       "      <td id=\"T_20aac_row3_col1\" class=\"data row3 col1\" >Named party</td>\n",
       "      <td id=\"T_20aac_row3_col2\" class=\"data row3 col2\" ></td>\n",
       "      <td id=\"T_20aac_row3_col3\" class=\"data row3 col3\" ></td>\n",
       "      <td id=\"T_20aac_row3_col4\" class=\"data row3 col4\" >1.000000</td>\n",
       "    </tr>\n",
       "    <tr>\n",
       "      <th id=\"T_20aac_level0_row4\" class=\"row_heading level0 row4\" >4</th>\n",
       "      <td id=\"T_20aac_row4_col0\" class=\"data row4 col0\" >§ 275.0-2</td>\n",
       "      <td id=\"T_20aac_row4_col1\" class=\"data row4 col1\" >Non-resident</td>\n",
       "      <td id=\"T_20aac_row4_col2\" class=\"data row4 col2\" >An individual who resides in any place not subject to the jurisdiction of the United States; a corporation that is incorporated in or that has its principal office and place of business in any place not subject to the jurisdiction of the United States; and a partnership or other unincorporated organization or association that has its principal office and place of business in any place not subject to the jurisdiction of the United States.</td>\n",
       "      <td id=\"T_20aac_row4_col3\" class=\"data row4 col3\" >An individual who resides in any place not subject to the jurisdiction of the United States; a corporation that is incorporated in or that has its principal office and place of business in any place not subject to the jurisdiction of the United States; and a partnership or other unincorporated organization or association that has its principal office and place of business in any place not subject to the jurisdiction of the United States.</td>\n",
       "      <td id=\"T_20aac_row4_col4\" class=\"data row4 col4\" >1.000000</td>\n",
       "    </tr>\n",
       "    <tr>\n",
       "      <th id=\"T_20aac_level0_row5\" class=\"row_heading level0 row5\" >5</th>\n",
       "      <td id=\"T_20aac_row5_col0\" class=\"data row5 col0\" >§ 275.0-2</td>\n",
       "      <td id=\"T_20aac_row5_col1\" class=\"data row5 col1\" >Pleadings</td>\n",
       "      <td id=\"T_20aac_row5_col2\" class=\"data row5 col2\" ></td>\n",
       "      <td id=\"T_20aac_row5_col3\" class=\"data row5 col3\" ></td>\n",
       "      <td id=\"T_20aac_row5_col4\" class=\"data row5 col4\" >1.000000</td>\n",
       "    </tr>\n",
       "    <tr>\n",
       "      <th id=\"T_20aac_level0_row6\" class=\"row_heading level0 row6\" >6</th>\n",
       "      <td id=\"T_20aac_row6_col0\" class=\"data row6 col0\" >§ 275.0-2</td>\n",
       "      <td id=\"T_20aac_row6_col1\" class=\"data row6 col1\" >Place</td>\n",
       "      <td id=\"T_20aac_row6_col2\" class=\"data row6 col2\" ></td>\n",
       "      <td id=\"T_20aac_row6_col3\" class=\"data row6 col3\" ></td>\n",
       "      <td id=\"T_20aac_row6_col4\" class=\"data row6 col4\" >1.000000</td>\n",
       "    </tr>\n",
       "    <tr>\n",
       "      <th id=\"T_20aac_level0_row7\" class=\"row_heading level0 row7\" >7</th>\n",
       "      <td id=\"T_20aac_row7_col0\" class=\"data row7 col0\" >§ 275.0-2</td>\n",
       "      <td id=\"T_20aac_row7_col1\" class=\"data row7 col1\" >Person</td>\n",
       "      <td id=\"T_20aac_row7_col2\" class=\"data row7 col2\" ></td>\n",
       "      <td id=\"T_20aac_row7_col3\" class=\"data row7 col3\" ></td>\n",
       "      <td id=\"T_20aac_row7_col4\" class=\"data row7 col4\" >1.000000</td>\n",
       "    </tr>\n",
       "    <tr>\n",
       "      <th id=\"T_20aac_level0_row8\" class=\"row_heading level0 row8\" >8</th>\n",
       "      <td id=\"T_20aac_row8_col0\" class=\"data row8 col0\" >§ 275.0-2</td>\n",
       "      <td id=\"T_20aac_row8_col1\" class=\"data row8 col1\" >Association</td>\n",
       "      <td id=\"T_20aac_row8_col2\" class=\"data row8 col2\" ></td>\n",
       "      <td id=\"T_20aac_row8_col3\" class=\"data row8 col3\" ></td>\n",
       "      <td id=\"T_20aac_row8_col4\" class=\"data row8 col4\" >1.000000</td>\n",
       "    </tr>\n",
       "    <tr>\n",
       "      <th id=\"T_20aac_level0_row9\" class=\"row_heading level0 row9\" >9</th>\n",
       "      <td id=\"T_20aac_row9_col0\" class=\"data row9 col0\" >§ 275.0-2</td>\n",
       "      <td id=\"T_20aac_row9_col1\" class=\"data row9 col1\" >Non-resident managing agent</td>\n",
       "      <td id=\"T_20aac_row9_col2\" class=\"data row9 col2\" ></td>\n",
       "      <td id=\"T_20aac_row9_col3\" class=\"data row9 col3\" ></td>\n",
       "      <td id=\"T_20aac_row9_col4\" class=\"data row9 col4\" >1.000000</td>\n",
       "    </tr>\n",
       "  </tbody>\n",
       "</table>\n"
      ],
      "text/plain": [
       "<pandas.io.formats.style.Styler at 0x7f5abb3eca10>"
      ]
     },
     "execution_count": 92,
     "metadata": {},
     "output_type": "execute_result"
    }
   ],
   "source": [
    "df_terms_results_styled = df_terms_results.head(10).style.apply(highlight_differences, axis=1)\n",
    "\n",
    "print(\"Styled DataFrame with Highlighted Similarity Scores:\")\n",
    "df_terms_results_styled"
   ]
  },
  {
   "cell_type": "markdown",
   "metadata": {},
   "source": [
    "Histogram of Similarity Scores"
   ]
  },
  {
   "cell_type": "code",
   "execution_count": 93,
   "metadata": {},
   "outputs": [
    {
     "data": {
      "image/png": "[encoded data removed]",
      "text/plain": [
       "<Figure size 1000x600 with 1 Axes>"
      ]
     },
     "metadata": {},
     "output_type": "display_data"
    }
   ],
   "source": [
    "create_terms_results_distribution_similarity(df_terms_results)"
   ]
  },
  {
   "cell_type": "markdown",
   "metadata": {},
   "source": [
    "Terms with Lowest Similarity Scores"
   ]
  },
  {
   "cell_type": "code",
   "execution_count": 94,
   "metadata": {},
   "outputs": [
    {
     "name": "stdout",
     "output_type": "stream",
     "text": [
      "Top 10 Terms with Lowest Similarity Scores:\n"
     ]
    },
    {
     "data": {
      "text/html": [
       "<div>\n",
       "<style scoped>\n",
       "    .dataframe tbody tr th:only-of-type {\n",
       "        vertical-align: middle;\n",
       "    }\n",
       "\n",
       "    .dataframe tbody tr th {\n",
       "        vertical-align: top;\n",
       "    }\n",
       "\n",
       "    .dataframe thead th {\n",
       "        text-align: right;\n",
       "    }\n",
       "</style>\n",
       "<table border=\"1\" class=\"dataframe\">\n",
       "  <thead>\n",
       "    <tr style=\"text-align: right;\">\n",
       "      <th></th>\n",
       "      <th>doc_id</th>\n",
       "      <th>term</th>\n",
       "      <th>definition_pred</th>\n",
       "      <th>definition_true</th>\n",
       "      <th>similarity_score</th>\n",
       "    </tr>\n",
       "  </thead>\n",
       "  <tbody>\n",
       "    <tr>\n",
       "      <th>0</th>\n",
       "      <td>§ 275.0-2</td>\n",
       "      <td>Managing agent</td>\n",
       "      <td>Any person, including a trustee, who directs o...</td>\n",
       "      <td>Any person, including a trustee, who directs o...</td>\n",
       "      <td>1.0</td>\n",
       "    </tr>\n",
       "    <tr>\n",
       "      <th>58</th>\n",
       "      <td>§ 275.0-7</td>\n",
       "      <td>Partnership</td>\n",
       "      <td>A person is presumed to control a partnership ...</td>\n",
       "      <td>A person is presumed to control a partnership ...</td>\n",
       "      <td>1.0</td>\n",
       "    </tr>\n",
       "    <tr>\n",
       "      <th>57</th>\n",
       "      <td>§ 275.0-7</td>\n",
       "      <td>Small organization</td>\n",
       "      <td>An investment adviser that has assets under ma...</td>\n",
       "      <td>An investment adviser that has assets under ma...</td>\n",
       "      <td>1.0</td>\n",
       "    </tr>\n",
       "    <tr>\n",
       "      <th>56</th>\n",
       "      <td>§ 275.0-7</td>\n",
       "      <td>Managing agent</td>\n",
       "      <td>A person is presumed to control a trust if the...</td>\n",
       "      <td>A person is presumed to control a trust if the...</td>\n",
       "      <td>1.0</td>\n",
       "    </tr>\n",
       "    <tr>\n",
       "      <th>55</th>\n",
       "      <td>§ 275.0-5</td>\n",
       "      <td>Matter</td>\n",
       "      <td>An order disposing of the matter will be issue...</td>\n",
       "      <td>An order disposing of the matter will be issue...</td>\n",
       "      <td>1.0</td>\n",
       "    </tr>\n",
       "    <tr>\n",
       "      <th>54</th>\n",
       "      <td>§ 275.0-5</td>\n",
       "      <td>Desirability of a hearing</td>\n",
       "      <td>Any interested person may, within the period o...</td>\n",
       "      <td>Any interested person may, within the period o...</td>\n",
       "      <td>1.0</td>\n",
       "    </tr>\n",
       "    <tr>\n",
       "      <th>53</th>\n",
       "      <td>§ 275.0-5</td>\n",
       "      <td>Commission</td>\n",
       "      <td>The Commission will order a hearing on the mat...</td>\n",
       "      <td>The Commission will order a hearing on the mat...</td>\n",
       "      <td>1.0</td>\n",
       "    </tr>\n",
       "    <tr>\n",
       "      <th>52</th>\n",
       "      <td>§ 275.0-5</td>\n",
       "      <td>Period of time</td>\n",
       "      <td>Any interested person may, within the period o...</td>\n",
       "      <td>Any interested person may, within the period o...</td>\n",
       "      <td>1.0</td>\n",
       "    </tr>\n",
       "    <tr>\n",
       "      <th>59</th>\n",
       "      <td>§ 275.0-7</td>\n",
       "      <td>Investment Advisers Act of 1940</td>\n",
       "      <td></td>\n",
       "      <td></td>\n",
       "      <td>1.0</td>\n",
       "    </tr>\n",
       "    <tr>\n",
       "      <th>51</th>\n",
       "      <td>§ 275.0-5</td>\n",
       "      <td>Investment adviser</td>\n",
       "      <td>An application for registration as an investme...</td>\n",
       "      <td>An application for registration as an investme...</td>\n",
       "      <td>1.0</td>\n",
       "    </tr>\n",
       "  </tbody>\n",
       "</table>\n",
       "</div>"
      ],
      "text/plain": [
       "       doc_id                             term  \\\n",
       "0   § 275.0-2                   Managing agent   \n",
       "58  § 275.0-7                      Partnership   \n",
       "57  § 275.0-7               Small organization   \n",
       "56  § 275.0-7                   Managing agent   \n",
       "55  § 275.0-5                           Matter   \n",
       "54  § 275.0-5        Desirability of a hearing   \n",
       "53  § 275.0-5                       Commission   \n",
       "52  § 275.0-5                   Period of time   \n",
       "59  § 275.0-7  Investment Advisers Act of 1940   \n",
       "51  § 275.0-5               Investment adviser   \n",
       "\n",
       "                                      definition_pred  \\\n",
       "0   Any person, including a trustee, who directs o...   \n",
       "58  A person is presumed to control a partnership ...   \n",
       "57  An investment adviser that has assets under ma...   \n",
       "56  A person is presumed to control a trust if the...   \n",
       "55  An order disposing of the matter will be issue...   \n",
       "54  Any interested person may, within the period o...   \n",
       "53  The Commission will order a hearing on the mat...   \n",
       "52  Any interested person may, within the period o...   \n",
       "59                                                      \n",
       "51  An application for registration as an investme...   \n",
       "\n",
       "                                      definition_true  similarity_score  \n",
       "0   Any person, including a trustee, who directs o...               1.0  \n",
       "58  A person is presumed to control a partnership ...               1.0  \n",
       "57  An investment adviser that has assets under ma...               1.0  \n",
       "56  A person is presumed to control a trust if the...               1.0  \n",
       "55  An order disposing of the matter will be issue...               1.0  \n",
       "54  Any interested person may, within the period o...               1.0  \n",
       "53  The Commission will order a hearing on the mat...               1.0  \n",
       "52  Any interested person may, within the period o...               1.0  \n",
       "59                                                                  1.0  \n",
       "51  An application for registration as an investme...               1.0  "
      ]
     },
     "metadata": {},
     "output_type": "display_data"
    }
   ],
   "source": [
    "# Identify Terms with Low Similarity Scores\n",
    "df_sorted = df_terms_results.sort_values(by='similarity_score')\n",
    "\n",
    "print(\"Top 10 Terms with Lowest Similarity Scores:\")\n",
    "display(df_sorted.head(10))"
   ]
  },
  {
   "cell_type": "markdown",
   "metadata": {},
   "source": [
    "Visualize Low Similarity Terms with a Bar Chart"
   ]
  },
  {
   "cell_type": "code",
   "execution_count": 95,
   "metadata": {},
   "outputs": [
    {
     "data": {
      "image/png": "[encoded data removed]",
      "text/plain": [
       "<Figure size 1200x600 with 1 Axes>"
      ]
     },
     "metadata": {},
     "output_type": "display_data"
    }
   ],
   "source": [
    "create_terms_results_histogram_low_similarity(df_terms_results, number_of_terms = 10)"
   ]
  },
  {
   "cell_type": "markdown",
   "metadata": {},
   "source": [
    "Analyze Similarity Scores by Document"
   ]
  },
  {
   "cell_type": "code",
   "execution_count": 96,
   "metadata": {},
   "outputs": [
    {
     "name": "stdout",
     "output_type": "stream",
     "text": [
      "Average Similarity Score per Document:\n"
     ]
    },
    {
     "data": {
      "text/html": [
       "<div>\n",
       "<style scoped>\n",
       "    .dataframe tbody tr th:only-of-type {\n",
       "        vertical-align: middle;\n",
       "    }\n",
       "\n",
       "    .dataframe tbody tr th {\n",
       "        vertical-align: top;\n",
       "    }\n",
       "\n",
       "    .dataframe thead th {\n",
       "        text-align: right;\n",
       "    }\n",
       "</style>\n",
       "<table border=\"1\" class=\"dataframe\">\n",
       "  <thead>\n",
       "    <tr style=\"text-align: right;\">\n",
       "      <th></th>\n",
       "      <th>doc_id</th>\n",
       "      <th>similarity_score</th>\n",
       "    </tr>\n",
       "  </thead>\n",
       "  <tbody>\n",
       "    <tr>\n",
       "      <th>0</th>\n",
       "      <td>§ 275.0-2</td>\n",
       "      <td>1.0</td>\n",
       "    </tr>\n",
       "    <tr>\n",
       "      <th>1</th>\n",
       "      <td>§ 275.0-5</td>\n",
       "      <td>1.0</td>\n",
       "    </tr>\n",
       "    <tr>\n",
       "      <th>2</th>\n",
       "      <td>§ 275.0-7</td>\n",
       "      <td>1.0</td>\n",
       "    </tr>\n",
       "  </tbody>\n",
       "</table>\n",
       "</div>"
      ],
      "text/plain": [
       "      doc_id  similarity_score\n",
       "0  § 275.0-2               1.0\n",
       "1  § 275.0-5               1.0\n",
       "2  § 275.0-7               1.0"
      ]
     },
     "metadata": {},
     "output_type": "display_data"
    },
    {
     "data": {
      "image/png": "[encoded data removed]",
      "text/plain": [
       "<Figure size 1200x600 with 1 Axes>"
      ]
     },
     "metadata": {},
     "output_type": "display_data"
    }
   ],
   "source": [
    "create_terms_results_average_similarity_per_document(df_terms_results)"
   ]
  },
  {
   "cell_type": "markdown",
   "metadata": {},
   "source": [
    "Heatmap of Similarity Scores"
   ]
  },
  {
   "cell_type": "code",
   "execution_count": 97,
   "metadata": {},
   "outputs": [
    {
     "data": {
      "image/png": "[encoded data removed]",
      "text/plain": [
       "<Figure size 1200x1000 with 2 Axes>"
      ]
     },
     "metadata": {},
     "output_type": "display_data"
    }
   ],
   "source": [
    "create_terms_results_heatmap(df_terms_results)"
   ]
  },
  {
   "cell_type": "markdown",
   "metadata": {},
   "source": [
    "Interactive Visualization"
   ]
  },
  {
   "cell_type": "code",
   "execution_count": 98,
   "metadata": {},
   "outputs": [
    {
     "data": {
      "application/vnd.plotly.v1+json": {
       "config": {
        "plotlyServerURL": "https://plot.ly"
       },
       "data": [
        {
         "customdata": [
          [
           "Any person, including a trustee, who directs or manages, or who participates in directing or managing, the affairs of any unincorporated organization or association other than a partnership.",
           "Any person, including a trustee, who directs or manages, or who participates in directing or managing, the affairs of any unincorporated organization or association other than a partnership."
          ],
          [
           "",
           ""
          ],
          [
           "",
           ""
          ],
          [
           "",
           ""
          ],
          [
           "An individual who resides in any place not subject to the jurisdiction of the United States; a corporation that is incorporated in or that has its principal office and place of business in any place not subject to the jurisdiction of the United States; and a partnership or other unincorporated organization or association that has its principal office and place of business in any place not subject to the jurisdiction of the United States.",
           "An individual who resides in any place not subject to the jurisdiction of the United States; a corporation that is incorporated in or that has its principal office and place of business in any place not subject to the jurisdiction of the United States; and a partnership or other unincorporated organization or association that has its principal office and place of business in any place not subject to the jurisdiction of the United States."
          ],
          [
           "",
           ""
          ],
          [
           "",
           ""
          ],
          [
           "",
           ""
          ],
          [
           "",
           ""
          ],
          [
           "",
           ""
          ],
          [
           "",
           ""
          ],
          [
           "",
           ""
          ],
          [
           "",
           ""
          ],
          [
           "",
           ""
          ],
          [
           "",
           ""
          ],
          [
           "",
           ""
          ],
          [
           "",
           ""
          ],
          [
           "",
           ""
          ],
          [
           "",
           ""
          ],
          [
           "",
           ""
          ],
          [
           "",
           ""
          ],
          [
           "",
           ""
          ],
          [
           "",
           ""
          ],
          [
           "",
           ""
          ],
          [
           "",
           ""
          ],
          [
           "",
           ""
          ],
          [
           "",
           ""
          ],
          [
           "",
           ""
          ],
          [
           "",
           ""
          ],
          [
           "",
           ""
          ],
          [
           "",
           ""
          ],
          [
           "",
           ""
          ],
          [
           "",
           ""
          ],
          [
           "",
           ""
          ],
          [
           "",
           ""
          ],
          [
           "An order disposing of the matter will be issued as of course following the expiration of the period of time referred to in paragraph (a) of this section, unless the Commission thereafter orders a hearing on the matter.",
           "An order disposing of the matter will be issued as of course following the expiration of the period of time referred to in paragraph (a) of this section, unless the Commission thereafter orders a hearing on the matter."
          ],
          [
           "The notice will also provide that any interested person may, within the period of time specified therein, submit to the Commission in writing any facts bearing upon the desirability of a hearing on the matter and may request that a hearing be held, stating his reasons therefor and the nature of his interest in the matter.",
           "The notice will also provide that any interested person may, within the period of time specified therein, submit to the Commission in writing any facts bearing upon the desirability of a hearing on the matter and may request that a hearing be held, stating his reasons therefor and the nature of his interest in the matter."
          ],
          [
           "Pursuant to any section of the Act or any rule or regulation thereunder.",
           "Pursuant to any section of the Act or any rule or regulation thereunder."
          ],
          [
           "An application for registration as an investment adviser.",
           "An application for registration as an investment adviser."
          ],
          [
           "The Commission will order a hearing on the matter, if it appears that a hearing is necessary or appropriate in the public interest or for the protection of investors.",
           "The Commission will order a hearing on the matter, if it appears that a hearing is necessary or appropriate in the public interest or for the protection of investors."
          ],
          [
           "Any interested person may, within the period of time specified therein, submit to the Commission in writing any facts bearing upon the desirability of a hearing on the matter and may request that a hearing be held.",
           "Any interested person may, within the period of time specified therein, submit to the Commission in writing any facts bearing upon the desirability of a hearing on the matter and may request that a hearing be held."
          ],
          [
           "Notice of the initiation of the proceeding will be published in the Federal Register and will indicate the earliest date upon which an order disposing of the matter may be entered.",
           "Notice of the initiation of the proceeding will be published in the Federal Register and will indicate the earliest date upon which an order disposing of the matter may be entered."
          ],
          [
           "Notice of the initiation of the proceeding will be published in the Federal Register.",
           "Notice of the initiation of the proceeding will be published in the Federal Register."
          ],
          [
           "Notice of the initiation of the proceeding will be published in the Federal Register.",
           "Notice of the initiation of the proceeding will be published in the Federal Register."
          ],
          [
           "Notice of the initiation of the proceeding will be published in the Federal Register and will indicate the earliest date upon which an order disposing of the matter may be entered.",
           "Notice of the initiation of the proceeding will be published in the Federal Register and will indicate the earliest date upon which an order disposing of the matter may be entered."
          ],
          [
           "The Commission will order a hearing on the matter, if it appears that a hearing is necessary or appropriate in the public interest or for the protection of investors.",
           "The Commission will order a hearing on the matter, if it appears that a hearing is necessary or appropriate in the public interest or for the protection of investors."
          ],
          [
           "The Commission will order a hearing on the matter, if it appears that a hearing is necessary or appropriate in the public interest.",
           "The Commission will order a hearing on the matter, if it appears that a hearing is necessary or appropriate in the public interest."
          ],
          [
           "The notice will also provide that any interested person may, within the period of time specified therein, submit to the Commission in writing any facts bearing upon the desirability of a hearing on the matter and may request that a hearing be held, stating his reasons therefor and the nature of his interest in the matter.",
           "The notice will also provide that any interested person may, within the period of time specified therein, submit to the Commission in writing any facts bearing upon the desirability of a hearing on the matter and may request that a hearing be held, stating his reasons therefor and the nature of his interest in the matter."
          ],
          [
           "Any interested person may, within the period of time specified therein, submit to the Commission in writing any facts bearing upon the desirability of a hearing on the matter.",
           "Any interested person may, within the period of time specified therein, submit to the Commission in writing any facts bearing upon the desirability of a hearing on the matter."
          ],
          [
           "An order disposing of the matter will be issued as of course following the expiration of the period of time referred to in paragraph (a) of this section.",
           "An order disposing of the matter will be issued as of course following the expiration of the period of time referred to in paragraph (a) of this section."
          ],
          [
           "For purposes of this rule, an “application” means any application for an order of the Commission under the Act other than an application for registration as an investment adviser.",
           "For purposes of this rule, an “application” means any application for an order of the Commission under the Act other than an application for registration as an investment adviser."
          ],
          [
           "An application for registration as an investment adviser.",
           "An application for registration as an investment adviser."
          ],
          [
           "Any interested person may, within the period of time specified therein, submit to the Commission in writing any facts bearing upon the desirability of a hearing on the matter.",
           "Any interested person may, within the period of time specified therein, submit to the Commission in writing any facts bearing upon the desirability of a hearing on the matter."
          ],
          [
           "The Commission will order a hearing on the matter, if it appears that a hearing is necessary or appropriate in the public interest or for the protection of investors.",
           "The Commission will order a hearing on the matter, if it appears that a hearing is necessary or appropriate in the public interest or for the protection of investors."
          ],
          [
           "Any interested person may, within the period of time specified therein, submit to the Commission in writing any facts bearing upon the desirability of a hearing on the matter.",
           "Any interested person may, within the period of time specified therein, submit to the Commission in writing any facts bearing upon the desirability of a hearing on the matter."
          ],
          [
           "An order disposing of the matter will be issued as of course following the expiration of the period of time referred to in paragraph (a) of this section.",
           "An order disposing of the matter will be issued as of course following the expiration of the period of time referred to in paragraph (a) of this section."
          ],
          [
           "A person is presumed to control a trust if the person is a trustee or managing agent of the trust.",
           "A person is presumed to control a trust if the person is a trustee or managing agent of the trust."
          ],
          [
           "An investment adviser that has assets under management of less than $25 million, did not have total assets of $5 million or more on the last day of the most recent fiscal year, and does not control, is not controlled by, and is not under common control with another investment adviser that has assets under management of $25 million or more, or any person (other than a natural person) that had total assets of $5 million or more on the last day of the most recent fiscal year.",
           "An investment adviser that has assets under management of less than $25 million, did not have total assets of $5 million or more on the last day of the most recent fiscal year, and does not control, is not controlled by, and is not under common control with another investment adviser that has assets under management of $25 million or more, or any person (other than a natural person) that had total assets of $5 million or more on the last day of the most recent fiscal year."
          ],
          [
           "A person is presumed to control a partnership if the person has the right to receive upon dissolution, or has contributed, 25 percent or more of the capital of the partnership.",
           "A person is presumed to control a partnership if the person has the right to receive upon dissolution, or has contributed, 25 percent or more of the capital of the partnership."
          ],
          [
           "",
           ""
          ],
          [
           "",
           ""
          ],
          [
           "",
           ""
          ],
          [
           "A person is presumed to control a trust if the person is a trustee or managing agent of the trust.",
           "A person is presumed to control a trust if the person is a trustee or managing agent of the trust."
          ],
          [
           "A person is presumed to control a corporation if the person directly or indirectly has the right to vote 25 percent or more of a class of the corporation's voting securities or has the power to sell or direct the sale of 25 percent or more of a class of the corporation's voting securities.",
           "A person is presumed to control a corporation if the person directly or indirectly has the right to vote 25 percent or more of a class of the corporation's voting securities or has the power to sell or direct the sale of 25 percent or more of a class of the corporation's voting securities."
          ],
          [
           "",
           ""
          ],
          [
           "",
           ""
          ],
          [
           "A person is presumed to control a partnership if the person has the right to receive upon dissolution, or has contributed, 25 percent or more of the capital of the partnership.",
           "A person is presumed to control a partnership if the person has the right to receive upon dissolution, or has contributed, 25 percent or more of the capital of the partnership."
          ],
          [
           "Assets under management, as defined under Section 203A(a)(3) of the Act and reported on its annual updating amendment to Form ADV, of less than $25 million, or such higher amount as the Commission may by rule deem appropriate under Section 203A(a)(1)(A) of the Act.",
           "Assets under management, as defined under Section 203A(a)(3) of the Act and reported on its annual updating amendment to Form ADV, of less than $25 million, or such higher amount as the Commission may by rule deem appropriate under Section 203A(a)(1)(A) of the Act."
          ],
          [
           "A person is presumed to control a limited liability company (LLC) if the person directly or indirectly has the right to vote 25 percent or more of a class of the interests of the LLC, has the right to receive upon dissolution, or has contributed, 25 percent or more of the capital of the LLC, or is an elected manager of the LLC.",
           "A person is presumed to control a limited liability company (LLC) if the person directly or indirectly has the right to vote 25 percent or more of a class of the interests of the LLC, has the right to receive upon dissolution, or has contributed, 25 percent or more of the capital of the LLC, or is an elected manager of the LLC."
          ],
          [
           "Control means the power, directly or indirectly, to direct the management or policies of a person, whether through ownership of securities, by contract, or otherwise.",
           "Control means the power, directly or indirectly, to direct the management or policies of a person, whether through ownership of securities, by contract, or otherwise."
          ],
          [
           "The total assets as shown on the balance sheet of the investment adviser or other person described, or the balance sheet of the investment adviser or such other person with its subsidiaries consolidated, whichever is larger.",
           "The total assets as shown on the balance sheet of the investment adviser or other person described, or the balance sheet of the investment adviser or such other person with its subsidiaries consolidated, whichever is larger."
          ],
          [
           "Total assets as shown on the balance sheet of the investment adviser or other person described, or the balance sheet of the investment adviser or such other person with its subsidiaries consolidated, whichever is larger.",
           "Total assets as shown on the balance sheet of the investment adviser or other person described, or the balance sheet of the investment adviser or such other person with its subsidiaries consolidated, whichever is larger."
          ],
          [
           "An investment adviser that has assets under management of less than $25 million, did not have total assets of $5 million or more on the last day of the most recent fiscal year, and does not control, is not controlled by, and is not under common control with another investment adviser that has assets under management of $25 million or more, or any person (other than a natural person) that had total assets of $5 million or more on the last day of the most recent fiscal year.",
           "An investment adviser that has assets under management of less than $25 million, did not have total assets of $5 million or more on the last day of the most recent fiscal year, and does not control, is not controlled by, and is not under common control with another investment adviser that has assets under management of $25 million or more, or any person (other than a natural person) that had total assets of $5 million or more on the last day of the most recent fiscal year."
          ],
          [
           "A person is presumed to control a trust if the person is a trustee or managing agent of the trust.",
           "A person is presumed to control a trust if the person is a trustee or managing agent of the trust."
          ],
          [
           "A person is presumed to control a corporation if the person directly or indirectly has the right to vote 25 percent or more of a class of the corporation's voting securities or has the power to sell or direct the sale of 25 percent or more of a class of the corporation's voting securities.",
           "A person is presumed to control a corporation if the person directly or indirectly has the right to vote 25 percent or more of a class of the corporation's voting securities or has the power to sell or direct the sale of 25 percent or more of a class of the corporation's voting securities."
          ],
          [
           "An investment adviser that has assets under management of less than $25 million, did not have total assets of $5 million or more on the last day of the most recent fiscal year, and does not control, is not controlled by, and is not under common control with another investment adviser that has assets under management of $25 million or more, or any person (other than a natural person) that had total assets of $5 million or more on the last day of the most recent fiscal year.",
           "An investment adviser that has assets under management of less than $25 million, did not have total assets of $5 million or more on the last day of the most recent fiscal year, and does not control, is not controlled by, and is not under common control with another investment adviser that has assets under management of $25 million or more, or any person (other than a natural person) that had total assets of $5 million or more on the last day of the most recent fiscal year."
          ],
          [
           "A person is presumed to control a partnership if the person has the right to receive upon dissolution, or has contributed, 25 percent or more of the capital of the partnership.",
           "A person is presumed to control a partnership if the person has the right to receive upon dissolution, or has contributed, 25 percent or more of the capital of the partnership."
          ],
          [
           "A person is presumed to control a corporation if the person directly or indirectly has the right to vote 25 percent or more of a class of the corporation's voting securities or has the power to sell or direct the sale of 25 percent or more of a class of the corporation's voting securities.",
           "A person is presumed to control a corporation if the person directly or indirectly has the right to vote 25 percent or more of a class of the corporation's voting securities or has the power to sell or direct the sale of 25 percent or more of a class of the corporation's voting securities."
          ],
          [
           "The power, directly or indirectly, to direct the management or policies of a person, whether through ownership of securities, by contract, or otherwise.",
           "The power, directly or indirectly, to direct the management or policies of a person, whether through ownership of securities, by contract, or otherwise."
          ],
          [
           "",
           ""
          ],
          [
           "A person is presumed to control a corporation if the person directly or indirectly has the right to vote 25 percent or more of a class of the corporation's voting securities.",
           "A person is presumed to control a corporation if the person directly or indirectly has the right to vote 25 percent or more of a class of the corporation's voting securities."
          ],
          [
           "",
           ""
          ]
         ],
         "hovertemplate": "term=%{x}<br>similarity_score=%{y}<br>definition_true=%{customdata[0]}<br>definition_pred=%{customdata[1]}<extra></extra>",
         "legendgroup": "",
         "marker": {
          "color": "#636efa",
          "symbol": "circle"
         },
         "mode": "markers",
         "name": "",
         "orientation": "v",
         "showlegend": false,
         "type": "scatter",
         "x": [
          "Managing agent",
          "Partnership",
          "Non-resident general partner",
          "Named party",
          "Non-resident",
          "Pleadings",
          "Place",
          "Person",
          "Association",
          "Non-resident managing agent",
          "Commission's records",
          "Secretary of the Commission",
          "Paragraph (a)(1)",
          "Principal office",
          "§ 275.203A-3(c)",
          "Evidence of service",
          "Trustee",
          "Corporation",
          "Unincorporated organization",
          "Certified mail",
          "Non-resident investment adviser",
          "Certification",
          "Paragraph (a)(2)",
          "Place of business",
          "Jurisdiction of the United States",
          "Affairs",
          "Appointed agents",
          "Individual",
          "Process",
          "Papers",
          "Secretary",
          "Investment adviser",
          "Address",
          "Registered mail",
          "Commission",
          "Order",
          "Reasons",
          "Act",
          "Registration",
          "Protection of investors",
          "Interested person",
          "Earliest date",
          "Federal Register",
          "Initiation of the proceeding",
          "Notice",
          "Hearing",
          "Public interest",
          "Nature of interest",
          "Facts",
          "Expiration of the period of time",
          "Application",
          "Investment adviser",
          "Period of time",
          "Commission",
          "Desirability of a hearing",
          "Matter",
          "Managing agent",
          "Small organization",
          "Partnership",
          "Investment Advisers Act of 1940",
          "Ownership of securities",
          "Fiscal year",
          "Trust",
          "Person",
          "Contract",
          "Class of the interests",
          "Right to receive upon dissolution",
          "Assets under management",
          "Limited liability company",
          "Power",
          "Balance sheet",
          "Total assets",
          "Small business",
          "Trustee",
          "Corporation",
          "Investment adviser",
          "Capital of the partnership",
          "Class of voting securities",
          "Control",
          "Policies",
          "Right to vote",
          "Management"
         ],
         "xaxis": "x",
         "y": [
          1,
          1,
          1,
          1,
          1,
          1,
          1,
          1,
          1,
          1,
          1,
          1,
          1,
          1,
          1,
          1,
          1,
          1,
          1,
          1,
          1,
          1,
          1,
          1,
          1,
          1,
          1,
          1,
          1,
          1,
          1,
          1,
          1,
          1,
          1,
          1,
          1,
          1,
          1,
          1,
          1,
          1,
          1,
          1,
          1,
          1,
          1,
          1,
          1,
          1,
          1,
          1,
          1,
          1,
          1,
          1,
          1,
          1,
          1,
          1,
          1,
          1,
          1,
          1,
          1,
          1,
          1,
          1,
          1,
          1,
          1,
          1,
          1,
          1,
          1,
          1,
          1,
          1,
          1,
          1,
          1,
          1
         ],
         "yaxis": "y"
        }
       ],
       "layout": {
        "legend": {
         "tracegroupgap": 0
        },
        "template": {
         "data": {
          "bar": [
           {
            "error_x": {
             "color": "#2a3f5f"
            },
            "error_y": {
             "color": "#2a3f5f"
            },
            "marker": {
             "line": {
              "color": "#E5ECF6",
              "width": 0.5
             },
             "pattern": {
              "fillmode": "overlay",
              "size": 10,
              "solidity": 0.2
             }
            },
            "type": "bar"
           }
          ],
          "barpolar": [
           {
            "marker": {
             "line": {
              "color": "#E5ECF6",
              "width": 0.5
             },
             "pattern": {
              "fillmode": "overlay",
              "size": 10,
              "solidity": 0.2
             }
            },
            "type": "barpolar"
           }
          ],
          "carpet": [
           {
            "aaxis": {
             "endlinecolor": "#2a3f5f",
             "gridcolor": "white",
             "linecolor": "white",
             "minorgridcolor": "white",
             "startlinecolor": "#2a3f5f"
            },
            "baxis": {
             "endlinecolor": "#2a3f5f",
             "gridcolor": "white",
             "linecolor": "white",
             "minorgridcolor": "white",
             "startlinecolor": "#2a3f5f"
            },
            "type": "carpet"
           }
          ],
          "choropleth": [
           {
            "colorbar": {
             "outlinewidth": 0,
             "ticks": ""
            },
            "type": "choropleth"
           }
          ],
          "contour": [
           {
            "colorbar": {
             "outlinewidth": 0,
             "ticks": ""
            },
            "colorscale": [
             [
              0,
              "#0d0887"
             ],
             [
              0.1111111111111111,
              "#46039f"
             ],
             [
              0.2222222222222222,
              "#7201a8"
             ],
             [
              0.3333333333333333,
              "#9c179e"
             ],
             [
              0.4444444444444444,
              "#bd3786"
             ],
             [
              0.5555555555555556,
              "#d8576b"
             ],
             [
              0.6666666666666666,
              "#ed7953"
             ],
             [
              0.7777777777777778,
              "#fb9f3a"
             ],
             [
              0.8888888888888888,
              "#fdca26"
             ],
             [
              1,
              "#f0f921"
             ]
            ],
            "type": "contour"
           }
          ],
          "contourcarpet": [
           {
            "colorbar": {
             "outlinewidth": 0,
             "ticks": ""
            },
            "type": "contourcarpet"
           }
          ],
          "heatmap": [
           {
            "colorbar": {
             "outlinewidth": 0,
             "ticks": ""
            },
            "colorscale": [
             [
              0,
              "#0d0887"
             ],
             [
              0.1111111111111111,
              "#46039f"
             ],
             [
              0.2222222222222222,
              "#7201a8"
             ],
             [
              0.3333333333333333,
              "#9c179e"
             ],
             [
              0.4444444444444444,
              "#bd3786"
             ],
             [
              0.5555555555555556,
              "#d8576b"
             ],
             [
              0.6666666666666666,
              "#ed7953"
             ],
             [
              0.7777777777777778,
              "#fb9f3a"
             ],
             [
              0.8888888888888888,
              "#fdca26"
             ],
             [
              1,
              "#f0f921"
             ]
            ],
            "type": "heatmap"
           }
          ],
          "heatmapgl": [
           {
            "colorbar": {
             "outlinewidth": 0,
             "ticks": ""
            },
            "colorscale": [
             [
              0,
              "#0d0887"
             ],
             [
              0.1111111111111111,
              "#46039f"
             ],
             [
              0.2222222222222222,
              "#7201a8"
             ],
             [
              0.3333333333333333,
              "#9c179e"
             ],
             [
              0.4444444444444444,
              "#bd3786"
             ],
             [
              0.5555555555555556,
              "#d8576b"
             ],
             [
              0.6666666666666666,
              "#ed7953"
             ],
             [
              0.7777777777777778,
              "#fb9f3a"
             ],
             [
              0.8888888888888888,
              "#fdca26"
             ],
             [
              1,
              "#f0f921"
             ]
            ],
            "type": "heatmapgl"
           }
          ],
          "histogram": [
           {
            "marker": {
             "pattern": {
              "fillmode": "overlay",
              "size": 10,
              "solidity": 0.2
             }
            },
            "type": "histogram"
           }
          ],
          "histogram2d": [
           {
            "colorbar": {
             "outlinewidth": 0,
             "ticks": ""
            },
            "colorscale": [
             [
              0,
              "#0d0887"
             ],
             [
              0.1111111111111111,
              "#46039f"
             ],
             [
              0.2222222222222222,
              "#7201a8"
             ],
             [
              0.3333333333333333,
              "#9c179e"
             ],
             [
              0.4444444444444444,
              "#bd3786"
             ],
             [
              0.5555555555555556,
              "#d8576b"
             ],
             [
              0.6666666666666666,
              "#ed7953"
             ],
             [
              0.7777777777777778,
              "#fb9f3a"
             ],
             [
              0.8888888888888888,
              "#fdca26"
             ],
             [
              1,
              "#f0f921"
             ]
            ],
            "type": "histogram2d"
           }
          ],
          "histogram2dcontour": [
           {
            "colorbar": {
             "outlinewidth": 0,
             "ticks": ""
            },
            "colorscale": [
             [
              0,
              "#0d0887"
             ],
             [
              0.1111111111111111,
              "#46039f"
             ],
             [
              0.2222222222222222,
              "#7201a8"
             ],
             [
              0.3333333333333333,
              "#9c179e"
             ],
             [
              0.4444444444444444,
              "#bd3786"
             ],
             [
              0.5555555555555556,
              "#d8576b"
             ],
             [
              0.6666666666666666,
              "#ed7953"
             ],
             [
              0.7777777777777778,
              "#fb9f3a"
             ],
             [
              0.8888888888888888,
              "#fdca26"
             ],
             [
              1,
              "#f0f921"
             ]
            ],
            "type": "histogram2dcontour"
           }
          ],
          "mesh3d": [
           {
            "colorbar": {
             "outlinewidth": 0,
             "ticks": ""
            },
            "type": "mesh3d"
           }
          ],
          "parcoords": [
           {
            "line": {
             "colorbar": {
              "outlinewidth": 0,
              "ticks": ""
             }
            },
            "type": "parcoords"
           }
          ],
          "pie": [
           {
            "automargin": true,
            "type": "pie"
           }
          ],
          "scatter": [
           {
            "fillpattern": {
             "fillmode": "overlay",
             "size": 10,
             "solidity": 0.2
            },
            "type": "scatter"
           }
          ],
          "scatter3d": [
           {
            "line": {
             "colorbar": {
              "outlinewidth": 0,
              "ticks": ""
             }
            },
            "marker": {
             "colorbar": {
              "outlinewidth": 0,
              "ticks": ""
             }
            },
            "type": "scatter3d"
           }
          ],
          "scattercarpet": [
           {
            "marker": {
             "colorbar": {
              "outlinewidth": 0,
              "ticks": ""
             }
            },
            "type": "scattercarpet"
           }
          ],
          "scattergeo": [
           {
            "marker": {
             "colorbar": {
              "outlinewidth": 0,
              "ticks": ""
             }
            },
            "type": "scattergeo"
           }
          ],
          "scattergl": [
           {
            "marker": {
             "colorbar": {
              "outlinewidth": 0,
              "ticks": ""
             }
            },
            "type": "scattergl"
           }
          ],
          "scattermapbox": [
           {
            "marker": {
             "colorbar": {
              "outlinewidth": 0,
              "ticks": ""
             }
            },
            "type": "scattermapbox"
           }
          ],
          "scatterpolar": [
           {
            "marker": {
             "colorbar": {
              "outlinewidth": 0,
              "ticks": ""
             }
            },
            "type": "scatterpolar"
           }
          ],
          "scatterpolargl": [
           {
            "marker": {
             "colorbar": {
              "outlinewidth": 0,
              "ticks": ""
             }
            },
            "type": "scatterpolargl"
           }
          ],
          "scatterternary": [
           {
            "marker": {
             "colorbar": {
              "outlinewidth": 0,
              "ticks": ""
             }
            },
            "type": "scatterternary"
           }
          ],
          "surface": [
           {
            "colorbar": {
             "outlinewidth": 0,
             "ticks": ""
            },
            "colorscale": [
             [
              0,
              "#0d0887"
             ],
             [
              0.1111111111111111,
              "#46039f"
             ],
             [
              0.2222222222222222,
              "#7201a8"
             ],
             [
              0.3333333333333333,
              "#9c179e"
             ],
             [
              0.4444444444444444,
              "#bd3786"
             ],
             [
              0.5555555555555556,
              "#d8576b"
             ],
             [
              0.6666666666666666,
              "#ed7953"
             ],
             [
              0.7777777777777778,
              "#fb9f3a"
             ],
             [
              0.8888888888888888,
              "#fdca26"
             ],
             [
              1,
              "#f0f921"
             ]
            ],
            "type": "surface"
           }
          ],
          "table": [
           {
            "cells": {
             "fill": {
              "color": "#EBF0F8"
             },
             "line": {
              "color": "white"
             }
            },
            "header": {
             "fill": {
              "color": "#C8D4E3"
             },
             "line": {
              "color": "white"
             }
            },
            "type": "table"
           }
          ]
         },
         "layout": {
          "annotationdefaults": {
           "arrowcolor": "#2a3f5f",
           "arrowhead": 0,
           "arrowwidth": 1
          },
          "autotypenumbers": "strict",
          "coloraxis": {
           "colorbar": {
            "outlinewidth": 0,
            "ticks": ""
           }
          },
          "colorscale": {
           "diverging": [
            [
             0,
             "#8e0152"
            ],
            [
             0.1,
             "#c51b7d"
            ],
            [
             0.2,
             "#de77ae"
            ],
            [
             0.3,
             "#f1b6da"
            ],
            [
             0.4,
             "#fde0ef"
            ],
            [
             0.5,
             "#f7f7f7"
            ],
            [
             0.6,
             "#e6f5d0"
            ],
            [
             0.7,
             "#b8e186"
            ],
            [
             0.8,
             "#7fbc41"
            ],
            [
             0.9,
             "#4d9221"
            ],
            [
             1,
             "#276419"
            ]
           ],
           "sequential": [
            [
             0,
             "#0d0887"
            ],
            [
             0.1111111111111111,
             "#46039f"
            ],
            [
             0.2222222222222222,
             "#7201a8"
            ],
            [
             0.3333333333333333,
             "#9c179e"
            ],
            [
             0.4444444444444444,
             "#bd3786"
            ],
            [
             0.5555555555555556,
             "#d8576b"
            ],
            [
             0.6666666666666666,
             "#ed7953"
            ],
            [
             0.7777777777777778,
             "#fb9f3a"
            ],
            [
             0.8888888888888888,
             "#fdca26"
            ],
            [
             1,
             "#f0f921"
            ]
           ],
           "sequentialminus": [
            [
             0,
             "#0d0887"
            ],
            [
             0.1111111111111111,
             "#46039f"
            ],
            [
             0.2222222222222222,
             "#7201a8"
            ],
            [
             0.3333333333333333,
             "#9c179e"
            ],
            [
             0.4444444444444444,
             "#bd3786"
            ],
            [
             0.5555555555555556,
             "#d8576b"
            ],
            [
             0.6666666666666666,
             "#ed7953"
            ],
            [
             0.7777777777777778,
             "#fb9f3a"
            ],
            [
             0.8888888888888888,
             "#fdca26"
            ],
            [
             1,
             "#f0f921"
            ]
           ]
          },
          "colorway": [
           "#636efa",
           "#EF553B",
           "#00cc96",
           "#ab63fa",
           "#FFA15A",
           "#19d3f3",
           "#FF6692",
           "#B6E880",
           "#FF97FF",
           "#FECB52"
          ],
          "font": {
           "color": "#2a3f5f"
          },
          "geo": {
           "bgcolor": "white",
           "lakecolor": "white",
           "landcolor": "#E5ECF6",
           "showlakes": true,
           "showland": true,
           "subunitcolor": "white"
          },
          "hoverlabel": {
           "align": "left"
          },
          "hovermode": "closest",
          "mapbox": {
           "style": "light"
          },
          "paper_bgcolor": "white",
          "plot_bgcolor": "#E5ECF6",
          "polar": {
           "angularaxis": {
            "gridcolor": "white",
            "linecolor": "white",
            "ticks": ""
           },
           "bgcolor": "#E5ECF6",
           "radialaxis": {
            "gridcolor": "white",
            "linecolor": "white",
            "ticks": ""
           }
          },
          "scene": {
           "xaxis": {
            "backgroundcolor": "#E5ECF6",
            "gridcolor": "white",
            "gridwidth": 2,
            "linecolor": "white",
            "showbackground": true,
            "ticks": "",
            "zerolinecolor": "white"
           },
           "yaxis": {
            "backgroundcolor": "#E5ECF6",
            "gridcolor": "white",
            "gridwidth": 2,
            "linecolor": "white",
            "showbackground": true,
            "ticks": "",
            "zerolinecolor": "white"
           },
           "zaxis": {
            "backgroundcolor": "#E5ECF6",
            "gridcolor": "white",
            "gridwidth": 2,
            "linecolor": "white",
            "showbackground": true,
            "ticks": "",
            "zerolinecolor": "white"
           }
          },
          "shapedefaults": {
           "line": {
            "color": "#2a3f5f"
           }
          },
          "ternary": {
           "aaxis": {
            "gridcolor": "white",
            "linecolor": "white",
            "ticks": ""
           },
           "baxis": {
            "gridcolor": "white",
            "linecolor": "white",
            "ticks": ""
           },
           "bgcolor": "#E5ECF6",
           "caxis": {
            "gridcolor": "white",
            "linecolor": "white",
            "ticks": ""
           }
          },
          "title": {
           "x": 0.05
          },
          "xaxis": {
           "automargin": true,
           "gridcolor": "white",
           "linecolor": "white",
           "ticks": "",
           "title": {
            "standoff": 15
           },
           "zerolinecolor": "white",
           "zerolinewidth": 2
          },
          "yaxis": {
           "automargin": true,
           "gridcolor": "white",
           "linecolor": "white",
           "ticks": "",
           "title": {
            "standoff": 15
           },
           "zerolinecolor": "white",
           "zerolinewidth": 2
          }
         }
        },
        "title": {
         "text": "Similarity Scores per Term"
        },
        "xaxis": {
         "anchor": "y",
         "domain": [
          0,
          1
         ],
         "title": {
          "text": "Term"
         }
        },
        "yaxis": {
         "anchor": "x",
         "domain": [
          0,
          1
         ],
         "title": {
          "text": "Similarity Score"
         }
        }
       }
      },
      "text/html": [
       "<div>                            <div id=\"30ecd8f8-b4ef-4574-ae20-f48d12b5d77e\" class=\"plotly-graph-div\" style=\"height:525px; width:100%;\"></div>            <script type=\"text/javascript\">                require([\"plotly\"], function(Plotly) {                    window.PLOTLYENV=window.PLOTLYENV || {};                                    if (document.getElementById(\"30ecd8f8-b4ef-4574-ae20-f48d12b5d77e\")) {                    Plotly.newPlot(                        \"30ecd8f8-b4ef-4574-ae20-f48d12b5d77e\",                        [{\"customdata\":[[\"Any person, including a trustee, who directs or manages, or who participates in directing or managing, the affairs of any unincorporated organization or association other than a partnership.\",\"Any person, including a trustee, who directs or manages, or who participates in directing or managing, the affairs of any unincorporated organization or association other than a partnership.\"],[\"\",\"\"],[\"\",\"\"],[\"\",\"\"],[\"An individual who resides in any place not subject to the jurisdiction of the United States; a corporation that is incorporated in or that has its principal office and place of business in any place not subject to the jurisdiction of the United States; and a partnership or other unincorporated organization or association that has its principal office and place of business in any place not subject to the jurisdiction of the United States.\",\"An individual who resides in any place not subject to the jurisdiction of the United States; a corporation that is incorporated in or that has its principal office and place of business in any place not subject to the jurisdiction of the United States; and a partnership or other unincorporated organization or association that has its principal office and place of business in any place not subject to the jurisdiction of the United States.\"],[\"\",\"\"],[\"\",\"\"],[\"\",\"\"],[\"\",\"\"],[\"\",\"\"],[\"\",\"\"],[\"\",\"\"],[\"\",\"\"],[\"\",\"\"],[\"\",\"\"],[\"\",\"\"],[\"\",\"\"],[\"\",\"\"],[\"\",\"\"],[\"\",\"\"],[\"\",\"\"],[\"\",\"\"],[\"\",\"\"],[\"\",\"\"],[\"\",\"\"],[\"\",\"\"],[\"\",\"\"],[\"\",\"\"],[\"\",\"\"],[\"\",\"\"],[\"\",\"\"],[\"\",\"\"],[\"\",\"\"],[\"\",\"\"],[\"\",\"\"],[\"An order disposing of the matter will be issued as of course following the expiration of the period of time referred to in paragraph (a) of this section, unless the Commission thereafter orders a hearing on the matter.\",\"An order disposing of the matter will be issued as of course following the expiration of the period of time referred to in paragraph (a) of this section, unless the Commission thereafter orders a hearing on the matter.\"],[\"The notice will also provide that any interested person may, within the period of time specified therein, submit to the Commission in writing any facts bearing upon the desirability of a hearing on the matter and may request that a hearing be held, stating his reasons therefor and the nature of his interest in the matter.\",\"The notice will also provide that any interested person may, within the period of time specified therein, submit to the Commission in writing any facts bearing upon the desirability of a hearing on the matter and may request that a hearing be held, stating his reasons therefor and the nature of his interest in the matter.\"],[\"Pursuant to any section of the Act or any rule or regulation thereunder.\",\"Pursuant to any section of the Act or any rule or regulation thereunder.\"],[\"An application for registration as an investment adviser.\",\"An application for registration as an investment adviser.\"],[\"The Commission will order a hearing on the matter, if it appears that a hearing is necessary or appropriate in the public interest or for the protection of investors.\",\"The Commission will order a hearing on the matter, if it appears that a hearing is necessary or appropriate in the public interest or for the protection of investors.\"],[\"Any interested person may, within the period of time specified therein, submit to the Commission in writing any facts bearing upon the desirability of a hearing on the matter and may request that a hearing be held.\",\"Any interested person may, within the period of time specified therein, submit to the Commission in writing any facts bearing upon the desirability of a hearing on the matter and may request that a hearing be held.\"],[\"Notice of the initiation of the proceeding will be published in the Federal Register and will indicate the earliest date upon which an order disposing of the matter may be entered.\",\"Notice of the initiation of the proceeding will be published in the Federal Register and will indicate the earliest date upon which an order disposing of the matter may be entered.\"],[\"Notice of the initiation of the proceeding will be published in the Federal Register.\",\"Notice of the initiation of the proceeding will be published in the Federal Register.\"],[\"Notice of the initiation of the proceeding will be published in the Federal Register.\",\"Notice of the initiation of the proceeding will be published in the Federal Register.\"],[\"Notice of the initiation of the proceeding will be published in the Federal Register and will indicate the earliest date upon which an order disposing of the matter may be entered.\",\"Notice of the initiation of the proceeding will be published in the Federal Register and will indicate the earliest date upon which an order disposing of the matter may be entered.\"],[\"The Commission will order a hearing on the matter, if it appears that a hearing is necessary or appropriate in the public interest or for the protection of investors.\",\"The Commission will order a hearing on the matter, if it appears that a hearing is necessary or appropriate in the public interest or for the protection of investors.\"],[\"The Commission will order a hearing on the matter, if it appears that a hearing is necessary or appropriate in the public interest.\",\"The Commission will order a hearing on the matter, if it appears that a hearing is necessary or appropriate in the public interest.\"],[\"The notice will also provide that any interested person may, within the period of time specified therein, submit to the Commission in writing any facts bearing upon the desirability of a hearing on the matter and may request that a hearing be held, stating his reasons therefor and the nature of his interest in the matter.\",\"The notice will also provide that any interested person may, within the period of time specified therein, submit to the Commission in writing any facts bearing upon the desirability of a hearing on the matter and may request that a hearing be held, stating his reasons therefor and the nature of his interest in the matter.\"],[\"Any interested person may, within the period of time specified therein, submit to the Commission in writing any facts bearing upon the desirability of a hearing on the matter.\",\"Any interested person may, within the period of time specified therein, submit to the Commission in writing any facts bearing upon the desirability of a hearing on the matter.\"],[\"An order disposing of the matter will be issued as of course following the expiration of the period of time referred to in paragraph (a) of this section.\",\"An order disposing of the matter will be issued as of course following the expiration of the period of time referred to in paragraph (a) of this section.\"],[\"For purposes of this rule, an \\u201capplication\\u201d means any application for an order of the Commission under the Act other than an application for registration as an investment adviser.\",\"For purposes of this rule, an \\u201capplication\\u201d means any application for an order of the Commission under the Act other than an application for registration as an investment adviser.\"],[\"An application for registration as an investment adviser.\",\"An application for registration as an investment adviser.\"],[\"Any interested person may, within the period of time specified therein, submit to the Commission in writing any facts bearing upon the desirability of a hearing on the matter.\",\"Any interested person may, within the period of time specified therein, submit to the Commission in writing any facts bearing upon the desirability of a hearing on the matter.\"],[\"The Commission will order a hearing on the matter, if it appears that a hearing is necessary or appropriate in the public interest or for the protection of investors.\",\"The Commission will order a hearing on the matter, if it appears that a hearing is necessary or appropriate in the public interest or for the protection of investors.\"],[\"Any interested person may, within the period of time specified therein, submit to the Commission in writing any facts bearing upon the desirability of a hearing on the matter.\",\"Any interested person may, within the period of time specified therein, submit to the Commission in writing any facts bearing upon the desirability of a hearing on the matter.\"],[\"An order disposing of the matter will be issued as of course following the expiration of the period of time referred to in paragraph (a) of this section.\",\"An order disposing of the matter will be issued as of course following the expiration of the period of time referred to in paragraph (a) of this section.\"],[\"A person is presumed to control a trust if the person is a trustee or managing agent of the trust.\",\"A person is presumed to control a trust if the person is a trustee or managing agent of the trust.\"],[\"An investment adviser that has assets under management of less than $25 million, did not have total assets of $5 million or more on the last day of the most recent fiscal year, and does not control, is not controlled by, and is not under common control with another investment adviser that has assets under management of $25 million or more, or any person (other than a natural person) that had total assets of $5 million or more on the last day of the most recent fiscal year.\",\"An investment adviser that has assets under management of less than $25 million, did not have total assets of $5 million or more on the last day of the most recent fiscal year, and does not control, is not controlled by, and is not under common control with another investment adviser that has assets under management of $25 million or more, or any person (other than a natural person) that had total assets of $5 million or more on the last day of the most recent fiscal year.\"],[\"A person is presumed to control a partnership if the person has the right to receive upon dissolution, or has contributed, 25 percent or more of the capital of the partnership.\",\"A person is presumed to control a partnership if the person has the right to receive upon dissolution, or has contributed, 25 percent or more of the capital of the partnership.\"],[\"\",\"\"],[\"\",\"\"],[\"\",\"\"],[\"A person is presumed to control a trust if the person is a trustee or managing agent of the trust.\",\"A person is presumed to control a trust if the person is a trustee or managing agent of the trust.\"],[\"A person is presumed to control a corporation if the person directly or indirectly has the right to vote 25 percent or more of a class of the corporation's voting securities or has the power to sell or direct the sale of 25 percent or more of a class of the corporation's voting securities.\",\"A person is presumed to control a corporation if the person directly or indirectly has the right to vote 25 percent or more of a class of the corporation's voting securities or has the power to sell or direct the sale of 25 percent or more of a class of the corporation's voting securities.\"],[\"\",\"\"],[\"\",\"\"],[\"A person is presumed to control a partnership if the person has the right to receive upon dissolution, or has contributed, 25 percent or more of the capital of the partnership.\",\"A person is presumed to control a partnership if the person has the right to receive upon dissolution, or has contributed, 25 percent or more of the capital of the partnership.\"],[\"Assets under management, as defined under Section 203A(a)(3) of the Act and reported on its annual updating amendment to Form ADV, of less than $25 million, or such higher amount as the Commission may by rule deem appropriate under Section 203A(a)(1)(A) of the Act.\",\"Assets under management, as defined under Section 203A(a)(3) of the Act and reported on its annual updating amendment to Form ADV, of less than $25 million, or such higher amount as the Commission may by rule deem appropriate under Section 203A(a)(1)(A) of the Act.\"],[\"A person is presumed to control a limited liability company (LLC) if the person directly or indirectly has the right to vote 25 percent or more of a class of the interests of the LLC, has the right to receive upon dissolution, or has contributed, 25 percent or more of the capital of the LLC, or is an elected manager of the LLC.\",\"A person is presumed to control a limited liability company (LLC) if the person directly or indirectly has the right to vote 25 percent or more of a class of the interests of the LLC, has the right to receive upon dissolution, or has contributed, 25 percent or more of the capital of the LLC, or is an elected manager of the LLC.\"],[\"Control means the power, directly or indirectly, to direct the management or policies of a person, whether through ownership of securities, by contract, or otherwise.\",\"Control means the power, directly or indirectly, to direct the management or policies of a person, whether through ownership of securities, by contract, or otherwise.\"],[\"The total assets as shown on the balance sheet of the investment adviser or other person described, or the balance sheet of the investment adviser or such other person with its subsidiaries consolidated, whichever is larger.\",\"The total assets as shown on the balance sheet of the investment adviser or other person described, or the balance sheet of the investment adviser or such other person with its subsidiaries consolidated, whichever is larger.\"],[\"Total assets as shown on the balance sheet of the investment adviser or other person described, or the balance sheet of the investment adviser or such other person with its subsidiaries consolidated, whichever is larger.\",\"Total assets as shown on the balance sheet of the investment adviser or other person described, or the balance sheet of the investment adviser or such other person with its subsidiaries consolidated, whichever is larger.\"],[\"An investment adviser that has assets under management of less than $25 million, did not have total assets of $5 million or more on the last day of the most recent fiscal year, and does not control, is not controlled by, and is not under common control with another investment adviser that has assets under management of $25 million or more, or any person (other than a natural person) that had total assets of $5 million or more on the last day of the most recent fiscal year.\",\"An investment adviser that has assets under management of less than $25 million, did not have total assets of $5 million or more on the last day of the most recent fiscal year, and does not control, is not controlled by, and is not under common control with another investment adviser that has assets under management of $25 million or more, or any person (other than a natural person) that had total assets of $5 million or more on the last day of the most recent fiscal year.\"],[\"A person is presumed to control a trust if the person is a trustee or managing agent of the trust.\",\"A person is presumed to control a trust if the person is a trustee or managing agent of the trust.\"],[\"A person is presumed to control a corporation if the person directly or indirectly has the right to vote 25 percent or more of a class of the corporation's voting securities or has the power to sell or direct the sale of 25 percent or more of a class of the corporation's voting securities.\",\"A person is presumed to control a corporation if the person directly or indirectly has the right to vote 25 percent or more of a class of the corporation's voting securities or has the power to sell or direct the sale of 25 percent or more of a class of the corporation's voting securities.\"],[\"An investment adviser that has assets under management of less than $25 million, did not have total assets of $5 million or more on the last day of the most recent fiscal year, and does not control, is not controlled by, and is not under common control with another investment adviser that has assets under management of $25 million or more, or any person (other than a natural person) that had total assets of $5 million or more on the last day of the most recent fiscal year.\",\"An investment adviser that has assets under management of less than $25 million, did not have total assets of $5 million or more on the last day of the most recent fiscal year, and does not control, is not controlled by, and is not under common control with another investment adviser that has assets under management of $25 million or more, or any person (other than a natural person) that had total assets of $5 million or more on the last day of the most recent fiscal year.\"],[\"A person is presumed to control a partnership if the person has the right to receive upon dissolution, or has contributed, 25 percent or more of the capital of the partnership.\",\"A person is presumed to control a partnership if the person has the right to receive upon dissolution, or has contributed, 25 percent or more of the capital of the partnership.\"],[\"A person is presumed to control a corporation if the person directly or indirectly has the right to vote 25 percent or more of a class of the corporation's voting securities or has the power to sell or direct the sale of 25 percent or more of a class of the corporation's voting securities.\",\"A person is presumed to control a corporation if the person directly or indirectly has the right to vote 25 percent or more of a class of the corporation's voting securities or has the power to sell or direct the sale of 25 percent or more of a class of the corporation's voting securities.\"],[\"The power, directly or indirectly, to direct the management or policies of a person, whether through ownership of securities, by contract, or otherwise.\",\"The power, directly or indirectly, to direct the management or policies of a person, whether through ownership of securities, by contract, or otherwise.\"],[\"\",\"\"],[\"A person is presumed to control a corporation if the person directly or indirectly has the right to vote 25 percent or more of a class of the corporation's voting securities.\",\"A person is presumed to control a corporation if the person directly or indirectly has the right to vote 25 percent or more of a class of the corporation's voting securities.\"],[\"\",\"\"]],\"hovertemplate\":\"term=%{x}\\u003cbr\\u003esimilarity_score=%{y}\\u003cbr\\u003edefinition_true=%{customdata[0]}\\u003cbr\\u003edefinition_pred=%{customdata[1]}\\u003cextra\\u003e\\u003c\\u002fextra\\u003e\",\"legendgroup\":\"\",\"marker\":{\"color\":\"#636efa\",\"symbol\":\"circle\"},\"mode\":\"markers\",\"name\":\"\",\"orientation\":\"v\",\"showlegend\":false,\"x\":[\"Managing agent\",\"Partnership\",\"Non-resident general partner\",\"Named party\",\"Non-resident\",\"Pleadings\",\"Place\",\"Person\",\"Association\",\"Non-resident managing agent\",\"Commission's records\",\"Secretary of the Commission\",\"Paragraph (a)(1)\",\"Principal office\",\"\\u00a7 275.203A-3(c)\",\"Evidence of service\",\"Trustee\",\"Corporation\",\"Unincorporated organization\",\"Certified mail\",\"Non-resident investment adviser\",\"Certification\",\"Paragraph (a)(2)\",\"Place of business\",\"Jurisdiction of the United States\",\"Affairs\",\"Appointed agents\",\"Individual\",\"Process\",\"Papers\",\"Secretary\",\"Investment adviser\",\"Address\",\"Registered mail\",\"Commission\",\"Order\",\"Reasons\",\"Act\",\"Registration\",\"Protection of investors\",\"Interested person\",\"Earliest date\",\"Federal Register\",\"Initiation of the proceeding\",\"Notice\",\"Hearing\",\"Public interest\",\"Nature of interest\",\"Facts\",\"Expiration of the period of time\",\"Application\",\"Investment adviser\",\"Period of time\",\"Commission\",\"Desirability of a hearing\",\"Matter\",\"Managing agent\",\"Small organization\",\"Partnership\",\"Investment Advisers Act of 1940\",\"Ownership of securities\",\"Fiscal year\",\"Trust\",\"Person\",\"Contract\",\"Class of the interests\",\"Right to receive upon dissolution\",\"Assets under management\",\"Limited liability company\",\"Power\",\"Balance sheet\",\"Total assets\",\"Small business\",\"Trustee\",\"Corporation\",\"Investment adviser\",\"Capital of the partnership\",\"Class of voting securities\",\"Control\",\"Policies\",\"Right to vote\",\"Management\"],\"xaxis\":\"x\",\"y\":[1.0,1.0,1.0,1.0,1.0,1.0,1.0,1.0,1.0,1.0,1.0,1.0,1.0,1.0,1.0,1.0,1.0,1.0,1.0,1.0,1.0,1.0,1.0,1.0,1.0,1.0,1.0,1.0,1.0,1.0,1.0,1.0,1.0,1.0,1.0,1.0,1.0,1.0,1.0,1.0,1.0,1.0,1.0,1.0,1.0,1.0,1.0,1.0,1.0,1.0,1.0,1.0,1.0,1.0,1.0,1.0,1.0,1.0,1.0,1.0,1.0,1.0,1.0,1.0,1.0,1.0,1.0,1.0,1.0,1.0,1.0,1.0,1.0,1.0,1.0,1.0,1.0,1.0,1.0,1.0,1.0,1.0],\"yaxis\":\"y\",\"type\":\"scatter\"}],                        {\"template\":{\"data\":{\"histogram2dcontour\":[{\"type\":\"histogram2dcontour\",\"colorbar\":{\"outlinewidth\":0,\"ticks\":\"\"},\"colorscale\":[[0.0,\"#0d0887\"],[0.1111111111111111,\"#46039f\"],[0.2222222222222222,\"#7201a8\"],[0.3333333333333333,\"#9c179e\"],[0.4444444444444444,\"#bd3786\"],[0.5555555555555556,\"#d8576b\"],[0.6666666666666666,\"#ed7953\"],[0.7777777777777778,\"#fb9f3a\"],[0.8888888888888888,\"#fdca26\"],[1.0,\"#f0f921\"]]}],\"choropleth\":[{\"type\":\"choropleth\",\"colorbar\":{\"outlinewidth\":0,\"ticks\":\"\"}}],\"histogram2d\":[{\"type\":\"histogram2d\",\"colorbar\":{\"outlinewidth\":0,\"ticks\":\"\"},\"colorscale\":[[0.0,\"#0d0887\"],[0.1111111111111111,\"#46039f\"],[0.2222222222222222,\"#7201a8\"],[0.3333333333333333,\"#9c179e\"],[0.4444444444444444,\"#bd3786\"],[0.5555555555555556,\"#d8576b\"],[0.6666666666666666,\"#ed7953\"],[0.7777777777777778,\"#fb9f3a\"],[0.8888888888888888,\"#fdca26\"],[1.0,\"#f0f921\"]]}],\"heatmap\":[{\"type\":\"heatmap\",\"colorbar\":{\"outlinewidth\":0,\"ticks\":\"\"},\"colorscale\":[[0.0,\"#0d0887\"],[0.1111111111111111,\"#46039f\"],[0.2222222222222222,\"#7201a8\"],[0.3333333333333333,\"#9c179e\"],[0.4444444444444444,\"#bd3786\"],[0.5555555555555556,\"#d8576b\"],[0.6666666666666666,\"#ed7953\"],[0.7777777777777778,\"#fb9f3a\"],[0.8888888888888888,\"#fdca26\"],[1.0,\"#f0f921\"]]}],\"heatmapgl\":[{\"type\":\"heatmapgl\",\"colorbar\":{\"outlinewidth\":0,\"ticks\":\"\"},\"colorscale\":[[0.0,\"#0d0887\"],[0.1111111111111111,\"#46039f\"],[0.2222222222222222,\"#7201a8\"],[0.3333333333333333,\"#9c179e\"],[0.4444444444444444,\"#bd3786\"],[0.5555555555555556,\"#d8576b\"],[0.6666666666666666,\"#ed7953\"],[0.7777777777777778,\"#fb9f3a\"],[0.8888888888888888,\"#fdca26\"],[1.0,\"#f0f921\"]]}],\"contourcarpet\":[{\"type\":\"contourcarpet\",\"colorbar\":{\"outlinewidth\":0,\"ticks\":\"\"}}],\"contour\":[{\"type\":\"contour\",\"colorbar\":{\"outlinewidth\":0,\"ticks\":\"\"},\"colorscale\":[[0.0,\"#0d0887\"],[0.1111111111111111,\"#46039f\"],[0.2222222222222222,\"#7201a8\"],[0.3333333333333333,\"#9c179e\"],[0.4444444444444444,\"#bd3786\"],[0.5555555555555556,\"#d8576b\"],[0.6666666666666666,\"#ed7953\"],[0.7777777777777778,\"#fb9f3a\"],[0.8888888888888888,\"#fdca26\"],[1.0,\"#f0f921\"]]}],\"surface\":[{\"type\":\"surface\",\"colorbar\":{\"outlinewidth\":0,\"ticks\":\"\"},\"colorscale\":[[0.0,\"#0d0887\"],[0.1111111111111111,\"#46039f\"],[0.2222222222222222,\"#7201a8\"],[0.3333333333333333,\"#9c179e\"],[0.4444444444444444,\"#bd3786\"],[0.5555555555555556,\"#d8576b\"],[0.6666666666666666,\"#ed7953\"],[0.7777777777777778,\"#fb9f3a\"],[0.8888888888888888,\"#fdca26\"],[1.0,\"#f0f921\"]]}],\"mesh3d\":[{\"type\":\"mesh3d\",\"colorbar\":{\"outlinewidth\":0,\"ticks\":\"\"}}],\"scatter\":[{\"fillpattern\":{\"fillmode\":\"overlay\",\"size\":10,\"solidity\":0.2},\"type\":\"scatter\"}],\"parcoords\":[{\"type\":\"parcoords\",\"line\":{\"colorbar\":{\"outlinewidth\":0,\"ticks\":\"\"}}}],\"scatterpolargl\":[{\"type\":\"scatterpolargl\",\"marker\":{\"colorbar\":{\"outlinewidth\":0,\"ticks\":\"\"}}}],\"bar\":[{\"error_x\":{\"color\":\"#2a3f5f\"},\"error_y\":{\"color\":\"#2a3f5f\"},\"marker\":{\"line\":{\"color\":\"#E5ECF6\",\"width\":0.5},\"pattern\":{\"fillmode\":\"overlay\",\"size\":10,\"solidity\":0.2}},\"type\":\"bar\"}],\"scattergeo\":[{\"type\":\"scattergeo\",\"marker\":{\"colorbar\":{\"outlinewidth\":0,\"ticks\":\"\"}}}],\"scatterpolar\":[{\"type\":\"scatterpolar\",\"marker\":{\"colorbar\":{\"outlinewidth\":0,\"ticks\":\"\"}}}],\"histogram\":[{\"marker\":{\"pattern\":{\"fillmode\":\"overlay\",\"size\":10,\"solidity\":0.2}},\"type\":\"histogram\"}],\"scattergl\":[{\"type\":\"scattergl\",\"marker\":{\"colorbar\":{\"outlinewidth\":0,\"ticks\":\"\"}}}],\"scatter3d\":[{\"type\":\"scatter3d\",\"line\":{\"colorbar\":{\"outlinewidth\":0,\"ticks\":\"\"}},\"marker\":{\"colorbar\":{\"outlinewidth\":0,\"ticks\":\"\"}}}],\"scattermapbox\":[{\"type\":\"scattermapbox\",\"marker\":{\"colorbar\":{\"outlinewidth\":0,\"ticks\":\"\"}}}],\"scatterternary\":[{\"type\":\"scatterternary\",\"marker\":{\"colorbar\":{\"outlinewidth\":0,\"ticks\":\"\"}}}],\"scattercarpet\":[{\"type\":\"scattercarpet\",\"marker\":{\"colorbar\":{\"outlinewidth\":0,\"ticks\":\"\"}}}],\"carpet\":[{\"aaxis\":{\"endlinecolor\":\"#2a3f5f\",\"gridcolor\":\"white\",\"linecolor\":\"white\",\"minorgridcolor\":\"white\",\"startlinecolor\":\"#2a3f5f\"},\"baxis\":{\"endlinecolor\":\"#2a3f5f\",\"gridcolor\":\"white\",\"linecolor\":\"white\",\"minorgridcolor\":\"white\",\"startlinecolor\":\"#2a3f5f\"},\"type\":\"carpet\"}],\"table\":[{\"cells\":{\"fill\":{\"color\":\"#EBF0F8\"},\"line\":{\"color\":\"white\"}},\"header\":{\"fill\":{\"color\":\"#C8D4E3\"},\"line\":{\"color\":\"white\"}},\"type\":\"table\"}],\"barpolar\":[{\"marker\":{\"line\":{\"color\":\"#E5ECF6\",\"width\":0.5},\"pattern\":{\"fillmode\":\"overlay\",\"size\":10,\"solidity\":0.2}},\"type\":\"barpolar\"}],\"pie\":[{\"automargin\":true,\"type\":\"pie\"}]},\"layout\":{\"autotypenumbers\":\"strict\",\"colorway\":[\"#636efa\",\"#EF553B\",\"#00cc96\",\"#ab63fa\",\"#FFA15A\",\"#19d3f3\",\"#FF6692\",\"#B6E880\",\"#FF97FF\",\"#FECB52\"],\"font\":{\"color\":\"#2a3f5f\"},\"hovermode\":\"closest\",\"hoverlabel\":{\"align\":\"left\"},\"paper_bgcolor\":\"white\",\"plot_bgcolor\":\"#E5ECF6\",\"polar\":{\"bgcolor\":\"#E5ECF6\",\"angularaxis\":{\"gridcolor\":\"white\",\"linecolor\":\"white\",\"ticks\":\"\"},\"radialaxis\":{\"gridcolor\":\"white\",\"linecolor\":\"white\",\"ticks\":\"\"}},\"ternary\":{\"bgcolor\":\"#E5ECF6\",\"aaxis\":{\"gridcolor\":\"white\",\"linecolor\":\"white\",\"ticks\":\"\"},\"baxis\":{\"gridcolor\":\"white\",\"linecolor\":\"white\",\"ticks\":\"\"},\"caxis\":{\"gridcolor\":\"white\",\"linecolor\":\"white\",\"ticks\":\"\"}},\"coloraxis\":{\"colorbar\":{\"outlinewidth\":0,\"ticks\":\"\"}},\"colorscale\":{\"sequential\":[[0.0,\"#0d0887\"],[0.1111111111111111,\"#46039f\"],[0.2222222222222222,\"#7201a8\"],[0.3333333333333333,\"#9c179e\"],[0.4444444444444444,\"#bd3786\"],[0.5555555555555556,\"#d8576b\"],[0.6666666666666666,\"#ed7953\"],[0.7777777777777778,\"#fb9f3a\"],[0.8888888888888888,\"#fdca26\"],[1.0,\"#f0f921\"]],\"sequentialminus\":[[0.0,\"#0d0887\"],[0.1111111111111111,\"#46039f\"],[0.2222222222222222,\"#7201a8\"],[0.3333333333333333,\"#9c179e\"],[0.4444444444444444,\"#bd3786\"],[0.5555555555555556,\"#d8576b\"],[0.6666666666666666,\"#ed7953\"],[0.7777777777777778,\"#fb9f3a\"],[0.8888888888888888,\"#fdca26\"],[1.0,\"#f0f921\"]],\"diverging\":[[0,\"#8e0152\"],[0.1,\"#c51b7d\"],[0.2,\"#de77ae\"],[0.3,\"#f1b6da\"],[0.4,\"#fde0ef\"],[0.5,\"#f7f7f7\"],[0.6,\"#e6f5d0\"],[0.7,\"#b8e186\"],[0.8,\"#7fbc41\"],[0.9,\"#4d9221\"],[1,\"#276419\"]]},\"xaxis\":{\"gridcolor\":\"white\",\"linecolor\":\"white\",\"ticks\":\"\",\"title\":{\"standoff\":15},\"zerolinecolor\":\"white\",\"automargin\":true,\"zerolinewidth\":2},\"yaxis\":{\"gridcolor\":\"white\",\"linecolor\":\"white\",\"ticks\":\"\",\"title\":{\"standoff\":15},\"zerolinecolor\":\"white\",\"automargin\":true,\"zerolinewidth\":2},\"scene\":{\"xaxis\":{\"backgroundcolor\":\"#E5ECF6\",\"gridcolor\":\"white\",\"linecolor\":\"white\",\"showbackground\":true,\"ticks\":\"\",\"zerolinecolor\":\"white\",\"gridwidth\":2},\"yaxis\":{\"backgroundcolor\":\"#E5ECF6\",\"gridcolor\":\"white\",\"linecolor\":\"white\",\"showbackground\":true,\"ticks\":\"\",\"zerolinecolor\":\"white\",\"gridwidth\":2},\"zaxis\":{\"backgroundcolor\":\"#E5ECF6\",\"gridcolor\":\"white\",\"linecolor\":\"white\",\"showbackground\":true,\"ticks\":\"\",\"zerolinecolor\":\"white\",\"gridwidth\":2}},\"shapedefaults\":{\"line\":{\"color\":\"#2a3f5f\"}},\"annotationdefaults\":{\"arrowcolor\":\"#2a3f5f\",\"arrowhead\":0,\"arrowwidth\":1},\"geo\":{\"bgcolor\":\"white\",\"landcolor\":\"#E5ECF6\",\"subunitcolor\":\"white\",\"showland\":true,\"showlakes\":true,\"lakecolor\":\"white\"},\"title\":{\"x\":0.05},\"mapbox\":{\"style\":\"light\"}}},\"xaxis\":{\"anchor\":\"y\",\"domain\":[0.0,1.0],\"title\":{\"text\":\"Term\"}},\"yaxis\":{\"anchor\":\"x\",\"domain\":[0.0,1.0],\"title\":{\"text\":\"Similarity Score\"}},\"legend\":{\"tracegroupgap\":0},\"title\":{\"text\":\"Similarity Scores per Term\"}},                        {\"responsive\": true}                    ).then(function(){\n",
       "                            \n",
       "var gd = document.getElementById('30ecd8f8-b4ef-4574-ae20-f48d12b5d77e');\n",
       "var x = new MutationObserver(function (mutations, observer) {{\n",
       "        var display = window.getComputedStyle(gd).display;\n",
       "        if (!display || display === 'none') {{\n",
       "            console.log([gd, 'removed!']);\n",
       "            Plotly.purge(gd);\n",
       "            observer.disconnect();\n",
       "        }}\n",
       "}});\n",
       "\n",
       "// Listen for the removal of the full notebook cells\n",
       "var notebookContainer = gd.closest('#notebook-container');\n",
       "if (notebookContainer) {{\n",
       "    x.observe(notebookContainer, {childList: true});\n",
       "}}\n",
       "\n",
       "// Listen for the clearing of the current output cell\n",
       "var outputEl = gd.closest('.output');\n",
       "if (outputEl) {{\n",
       "    x.observe(outputEl, {childList: true});\n",
       "}}\n",
       "\n",
       "                        })                };                });            </script>        </div>"
      ]
     },
     "metadata": {},
     "output_type": "display_data"
    }
   ],
   "source": [
    "fig = px.scatter(df_terms_results, x='term', y='similarity_score',\n",
    "                 hover_data=['definition_true', 'definition_pred'],\n",
    "                 title='Similarity Scores per Term')\n",
    "fig.update_layout(xaxis_title='Term', yaxis_title='Similarity Score')\n",
    "fig.show()"
   ]
  },
  {
   "cell_type": "markdown",
   "metadata": {},
   "source": [
    "Save Similarity Results to Excel"
   ]
  },
  {
   "cell_type": "code",
   "execution_count": 99,
   "metadata": {},
   "outputs": [
    {
     "name": "stdout",
     "output_type": "stream",
     "text": [
      "Similarity results saved to '../outputs/p2_true_pred_results.xlsx'\n"
     ]
    }
   ],
   "source": [
    "excel_filename=f'{config[\"DEFAULT_OUTPUT_DIR\"]}/p2_true_pred_results.xlsx'\n",
    "df_terms_results.to_excel(excel_filename, index=False)\n",
    "\n",
    "print(f\"Similarity results saved to '{excel_filename}'\")"
   ]
  },
  {
   "cell_type": "markdown",
   "metadata": {},
   "source": [
    "##### Deep analysis of mismatches"
   ]
  },
  {
   "cell_type": "markdown",
   "metadata": {},
   "source": [
    "Filter the DataFrame to only include rows where similarity_classification is 'not-sure'"
   ]
  },
  {
   "cell_type": "code",
   "execution_count": 100,
   "metadata": {},
   "outputs": [
    {
     "data": {
      "text/html": [
       "<div>\n",
       "<style scoped>\n",
       "    .dataframe tbody tr th:only-of-type {\n",
       "        vertical-align: middle;\n",
       "    }\n",
       "\n",
       "    .dataframe tbody tr th {\n",
       "        vertical-align: top;\n",
       "    }\n",
       "\n",
       "    .dataframe thead th {\n",
       "        text-align: right;\n",
       "    }\n",
       "</style>\n",
       "<table border=\"1\" class=\"dataframe\">\n",
       "  <thead>\n",
       "    <tr style=\"text-align: right;\">\n",
       "      <th></th>\n",
       "      <th>doc_id</th>\n",
       "      <th>id_pred</th>\n",
       "      <th>id_true</th>\n",
       "      <th>classification_pred</th>\n",
       "      <th>classification_true</th>\n",
       "      <th>source_pred</th>\n",
       "      <th>source_true</th>\n",
       "      <th>filename_pred</th>\n",
       "      <th>expression_pred</th>\n",
       "      <th>expression_true</th>\n",
       "      <th>similarity_score</th>\n",
       "      <th>similarity_classification</th>\n",
       "      <th>source_match</th>\n",
       "      <th>source_match_label</th>\n",
       "      <th>id_match</th>\n",
       "      <th>id_match_label</th>\n",
       "    </tr>\n",
       "  </thead>\n",
       "  <tbody>\n",
       "  </tbody>\n",
       "</table>\n",
       "</div>"
      ],
      "text/plain": [
       "Empty DataFrame\n",
       "Columns: [doc_id, id_pred, id_true, classification_pred, classification_true, source_pred, source_true, filename_pred, expression_pred, expression_true, similarity_score, similarity_classification, source_match, source_match_label, id_match, id_match_label]\n",
       "Index: []"
      ]
     },
     "execution_count": 100,
     "metadata": {},
     "output_type": "execute_result"
    }
   ],
   "source": [
    "df_not_sure = df_elements_results[df_elements_results['similarity_classification'] == 'not-sure']\n",
    "\n",
    "df_not_sure"
   ]
  },
  {
   "cell_type": "markdown",
   "metadata": {},
   "source": [
    "Filter for 'close-match' entries"
   ]
  },
  {
   "cell_type": "code",
   "execution_count": 101,
   "metadata": {},
   "outputs": [
    {
     "data": {
      "text/html": [
       "<div>\n",
       "<style scoped>\n",
       "    .dataframe tbody tr th:only-of-type {\n",
       "        vertical-align: middle;\n",
       "    }\n",
       "\n",
       "    .dataframe tbody tr th {\n",
       "        vertical-align: top;\n",
       "    }\n",
       "\n",
       "    .dataframe thead th {\n",
       "        text-align: right;\n",
       "    }\n",
       "</style>\n",
       "<table border=\"1\" class=\"dataframe\">\n",
       "  <thead>\n",
       "    <tr style=\"text-align: right;\">\n",
       "      <th></th>\n",
       "      <th>doc_id</th>\n",
       "      <th>id_pred</th>\n",
       "      <th>id_true</th>\n",
       "      <th>classification_pred</th>\n",
       "      <th>classification_true</th>\n",
       "      <th>source_pred</th>\n",
       "      <th>source_true</th>\n",
       "      <th>filename_pred</th>\n",
       "      <th>expression_pred</th>\n",
       "      <th>expression_true</th>\n",
       "      <th>similarity_score</th>\n",
       "      <th>similarity_classification</th>\n",
       "      <th>source_match</th>\n",
       "      <th>source_match_label</th>\n",
       "      <th>id_match</th>\n",
       "      <th>id_match_label</th>\n",
       "    </tr>\n",
       "  </thead>\n",
       "  <tbody>\n",
       "  </tbody>\n",
       "</table>\n",
       "</div>"
      ],
      "text/plain": [
       "Empty DataFrame\n",
       "Columns: [doc_id, id_pred, id_true, classification_pred, classification_true, source_pred, source_true, filename_pred, expression_pred, expression_true, similarity_score, similarity_classification, source_match, source_match_label, id_match, id_match_label]\n",
       "Index: []"
      ]
     },
     "execution_count": 101,
     "metadata": {},
     "output_type": "execute_result"
    }
   ],
   "source": [
    "\n",
    "df_close_match = df_elements_results[df_elements_results['similarity_classification'] == 'close-match']\n",
    "\n",
    "df_close_match"
   ]
  },
  {
   "cell_type": "markdown",
   "metadata": {},
   "source": [
    "Filter entries where the predicted classification does not match the true classification"
   ]
  },
  {
   "cell_type": "code",
   "execution_count": 102,
   "metadata": {},
   "outputs": [
    {
     "data": {
      "text/html": [
       "<div>\n",
       "<style scoped>\n",
       "    .dataframe tbody tr th:only-of-type {\n",
       "        vertical-align: middle;\n",
       "    }\n",
       "\n",
       "    .dataframe tbody tr th {\n",
       "        vertical-align: top;\n",
       "    }\n",
       "\n",
       "    .dataframe thead th {\n",
       "        text-align: right;\n",
       "    }\n",
       "</style>\n",
       "<table border=\"1\" class=\"dataframe\">\n",
       "  <thead>\n",
       "    <tr style=\"text-align: right;\">\n",
       "      <th></th>\n",
       "      <th>doc_id</th>\n",
       "      <th>id_pred</th>\n",
       "      <th>id_true</th>\n",
       "      <th>classification_pred</th>\n",
       "      <th>classification_true</th>\n",
       "      <th>source_pred</th>\n",
       "      <th>source_true</th>\n",
       "      <th>filename_pred</th>\n",
       "      <th>expression_pred</th>\n",
       "      <th>expression_true</th>\n",
       "      <th>similarity_score</th>\n",
       "      <th>similarity_classification</th>\n",
       "      <th>source_match</th>\n",
       "      <th>source_match_label</th>\n",
       "      <th>id_match</th>\n",
       "      <th>id_match_label</th>\n",
       "    </tr>\n",
       "  </thead>\n",
       "  <tbody>\n",
       "  </tbody>\n",
       "</table>\n",
       "</div>"
      ],
      "text/plain": [
       "Empty DataFrame\n",
       "Columns: [doc_id, id_pred, id_true, classification_pred, classification_true, source_pred, source_true, filename_pred, expression_pred, expression_true, similarity_score, similarity_classification, source_match, source_match_label, id_match, id_match_label]\n",
       "Index: []"
      ]
     },
     "execution_count": 102,
     "metadata": {},
     "output_type": "execute_result"
    }
   ],
   "source": [
    "df_classification_mismatch = df_elements_results[\n",
    "    df_elements_results['classification_pred'] != df_elements_results['classification_true']\n",
    "]\n",
    "\n",
    "df_classification_mismatch"
   ]
  },
  {
   "cell_type": "code",
   "execution_count": 103,
   "metadata": {},
   "outputs": [
    {
     "name": "stdout",
     "output_type": "stream",
     "text": [
      "Empty DataFrame\n",
      "Columns: [doc_id, id_pred, id_true, classification_pred, classification_true, source_pred, source_true, filename_pred, expression_pred, expression_true, similarity_score, similarity_classification, source_match, source_match_label, id_match, id_match_label]\n",
      "Index: []\n",
      "Empty DataFrame\n",
      "Columns: [doc_id, id_pred, id_true, classification_pred, classification_true, similarity_score]\n",
      "Index: []\n",
      "Number of classification mismatches: 0\n",
      "Mismatch Percentage: 0.00%\n"
     ]
    }
   ],
   "source": [
    "df_classification_mismatch = df_elements_results[\n",
    "    df_elements_results[\"classification_pred\"] != df_elements_results[\"classification_true\"]\n",
    "]\n",
    "\n",
    "# Display the filtered DataFrame\n",
    "print(df_classification_mismatch)\n",
    "\n",
    "# Select specific columns to display\n",
    "columns_to_display = [\n",
    "    \"doc_id\",\n",
    "    \"id_pred\",\n",
    "    \"id_true\",\n",
    "    \"classification_pred\",\n",
    "    \"classification_true\",\n",
    "    \"similarity_score\",\n",
    "]\n",
    "df_mismatch_selected = df_classification_mismatch[columns_to_display]\n",
    "\n",
    "print(df_mismatch_selected)\n",
    "\n",
    "# Iterate over the mismatches and print details\n",
    "for index, row in df_classification_mismatch.iterrows():\n",
    "    print(f\"Index: {index}\")\n",
    "    print(f\"Doc ID: {row['doc_id']}\")\n",
    "    print(\n",
    "        f\"Predicted Classification (ID {row['id_pred']}): {row['classification_pred']}\"\n",
    "    )\n",
    "    print(f\"True Classification (ID {row['id_true']}): {row['classification_true']}\")\n",
    "    print(f\"Similarity Score: {row['similarity_score']:.4f}\")\n",
    "    print(f\"Predicted Expression: {row['expression_pred']}\")\n",
    "    print(f\"True Expression: {row['expression_true']}\")\n",
    "    print(\"-\" * 80)\n",
    "\n",
    "# Get the number of classification mismatches\n",
    "num_mismatches = len(df_classification_mismatch)\n",
    "print(f\"Number of classification mismatches: {num_mismatches}\")\n",
    "\n",
    "# Calculate mismatch percentage\n",
    "total_comparisons = len(\n",
    "    df_elements_results.dropna(subset=[\"classification_true\", \"classification_pred\"])\n",
    ")\n",
    "mismatch_percentage = (num_mismatches / total_comparisons) * 100\n",
    "\n",
    "print(f\"Mismatch Percentage: {mismatch_percentage:.2f}%\")"
   ]
  },
  {
   "cell_type": "markdown",
   "metadata": {},
   "source": [
    "Filter entries where the predicted classification does not match the true classification"
   ]
  },
  {
   "cell_type": "code",
   "execution_count": 104,
   "metadata": {},
   "outputs": [
    {
     "name": "stdout",
     "output_type": "stream",
     "text": [
      "Number of classification mismatches: 0\n",
      "Empty DataFrame\n",
      "Columns: [doc_id, id_pred, id_true, classification_pred, classification_true, source_pred, source_true, filename_pred, expression_pred, expression_true, similarity_score, similarity_classification, source_match, source_match_label, id_match, id_match_label]\n",
      "Index: []\n"
     ]
    }
   ],
   "source": [
    "df_classification_mismatch = df_elements_results[\n",
    "    df_elements_results['classification_pred'] != df_elements_results['classification_true']\n",
    "]\n",
    "\n",
    "# Display the number of mismatches\n",
    "num_mismatches = len(df_classification_mismatch)\n",
    "print(f\"Number of classification mismatches: {num_mismatches}\")\n",
    "\n",
    "# Display the mismatches\n",
    "print(df_classification_mismatch)"
   ]
  },
  {
   "cell_type": "markdown",
   "metadata": {
    "id": "JEw5DzaJb22l"
   },
   "source": [
    "##### Conclusion\n",
    "\n",
    "TODO"
   ]
  },
  {
   "cell_type": "markdown",
   "metadata": {},
   "source": [
    "## Elements validation\n",
    "\n",
    "From chapter 7.2.3 Terms, facts, and rules"
   ]
  },
  {
   "cell_type": "markdown",
   "metadata": {},
   "source": [
    "#### SEMSCORE\n",
    "\n",
    "Evaluate the semantic similarity between the predicted and true expressions. It is used in conjunction with the judgment evaluation for double check.\n",
    "\n",
    "SEMSCORE (AYNETDINOV;AKBIK, 2024)\n"
   ]
  },
  {
   "cell_type": "code",
   "execution_count": 105,
   "metadata": {},
   "outputs": [],
   "source": [
    "client = OpenAI()\n",
    "\n",
    "def get_embedding(text, model=\"text-embedding-3-large\"):\n",
    "   text = text.replace(\"\\n\", \" \")\n",
    "   return client.embeddings.create(input = [text], model=model).data[0].embedding\n",
    "\n",
    "def cosine_similarity(embedding1, embedding2):\n",
    "    # Calcula a similaridade de cosseno entre dois embeddings\n",
    "    embedding1 = np.array(embedding1)\n",
    "    embedding2 = np.array(embedding2)\n",
    "    cos_sim = np.dot(embedding1, embedding2) / (np.linalg.norm(embedding1) * np.linalg.norm(embedding2))\n",
    "    return cos_sim\n",
    "\n",
    "def compare_sentences(sentence1, sentence2):\n",
    "    # Obtem embeddings para as duas frases\n",
    "    embedding1 = get_embedding(sentence1)\n",
    "    embedding2 = get_embedding(sentence2)\n",
    "    # Calcula a similaridade de cosseno entre os embeddings\n",
    "    #similarity = cosine_similarity(embedding1, embedding2)\n",
    "    similarity = 1 - cosine(embedding1, embedding2)\n",
    "    return similarity"
   ]
  },
  {
   "cell_type": "markdown",
   "metadata": {},
   "source": [
    "Apply the compare_sentences function to two sentences"
   ]
  },
  {
   "cell_type": "code",
   "execution_count": 106,
   "metadata": {},
   "outputs": [
    {
     "name": "stderr",
     "output_type": "stream",
     "text": [
      "2024-10-30 23:21:19 - INFO - HTTP Request: POST https://api.openai.com/v1/embeddings \"HTTP/1.1 200 OK\"\n",
      "2024-10-30 23:21:20 - INFO - HTTP Request: POST https://api.openai.com/v1/embeddings \"HTTP/1.1 200 OK\"\n"
     ]
    },
    {
     "name": "stdout",
     "output_type": "stream",
     "text": [
      "SEMSCORE is: 0.9403\n"
     ]
    }
   ],
   "source": [
    "# Exemplo de uso\n",
    "original_sentence = \"If process, pleadings, or other papers are served on the Commission as described in this section, the Secretary of the Commission (Secretary) will promptly forward a copy to each named party by registered or certified mail at that party's last address filed with the Commission.\"\n",
    "tranformed_sentence = \"The Secretary of the Commission must promptly forward a copy of the process, pleadings, or other papers to each named party by registered or certified mail at that party's last address filed with the Commission if the process, pleadings, or other papers are served on the Commission.\"\n",
    "\n",
    "similarity = compare_sentences(original_sentence, tranformed_sentence)\n",
    "print(f\"SEMSCORE is: {similarity:.4f}\")"
   ]
  },
  {
   "cell_type": "markdown",
   "metadata": {},
   "source": [
    "### Evaluation criterias (SHANKAR et al., 2024)\n",
    "\n",
    "Based on the prompt, there are three inferred evaluation criteria that align with the approach proposed by EvalGen (SHANKAR et al., 2024):\n",
    "\n",
    "1. **Similarity Score**\n",
    "   - Given the original_sentence and tranformed_sentence, how similar are they from 0 to 1? And how confident are you about your estimation from 0 to 1?\n",
    "\n",
    "2. **Transformation Accuracy**\n",
    "   - From 0 to 1, how does the \"transformed_sentence\" reflect the original_sentence with the structure and phrasing provided by the template?\n",
    "\n",
    "3. **Grammar and Syntax Accuracy**\n",
    "   - How is the transformed sentence grammatically correct and syntactically accurate from 0 to 1?"
   ]
  },
  {
   "cell_type": "markdown",
   "metadata": {},
   "source": [
    "### LLM-as-a-judge\n",
    "\n",
    "References of the LLM-as-a-judge approach: (WEI; CHEN; LUO, 2024), (DONG; HU; COLLIER, 2024), (ZHENG et al., 2023)"
   ]
  },
  {
   "cell_type": "markdown",
   "metadata": {},
   "source": [
    "#### General functions"
   ]
  },
  {
   "cell_type": "code",
   "execution_count": 107,
   "metadata": {},
   "outputs": [],
   "source": [
    "def measure_time(func):\n",
    "    \"\"\"\n",
    "    Decorator to measure the execution time of a function.\n",
    "    \"\"\"\n",
    "    def wrapper(*args, **kwargs):\n",
    "        start_time = time.perf_counter()\n",
    "        result = func(*args, **kwargs)\n",
    "        end_time = time.perf_counter()\n",
    "        elapsed_time = end_time - start_time\n",
    "        logger.info(f\"Execution time for {func.__name__}: {elapsed_time:.2f} seconds\")\n",
    "        return result\n",
    "    return wrapper\n",
    "\n",
    "@measure_time\n",
    "def query_instruct_llm(system_prompt: str, user_prompt: str, document_model: Any) -> Any:\n",
    "    \"\"\"\n",
    "    Queries the LLM with the given system and user prompts.\n",
    "\n",
    "    Args:\n",
    "        system_prompt (str): The system prompt to set the context for the LLM.\n",
    "        user_prompt (str): The user prompt containing the text to analyze.\n",
    "\n",
    "    Returns:\n",
    "        Any: The response from the LLM, parsed into a document_model object.\n",
    "\n",
    "    Raises:\n",
    "        Exception: If the API call fails.\n",
    "    \"\"\"\n",
    "    client = instructor.from_openai(OpenAI()) #, mode=instructor.Mode.TOOLS_STRICT)\n",
    "    resp = client.chat.completions.create(\n",
    "        model=config[\"LLM\"][\"MODEL\"],\n",
    "        response_model=document_model,\n",
    "        temperature=config[\"LLM\"][\"TEMPERATURE\"],\n",
    "        max_tokens=config[\"LLM\"][\"MAX_TOKENS\"],\n",
    "        top_p=1,\n",
    "        frequency_penalty=0,\n",
    "        presence_penalty=0,\n",
    "        messages=[\n",
    "            {\"role\": \"system\", \"content\": system_prompt},\n",
    "            {\"role\": \"user\", \"content\": user_prompt},\n",
    "        ],\n",
    "    )\n",
    "    return resp"
   ]
  },
  {
   "cell_type": "markdown",
   "metadata": {},
   "source": [
    "Transformation"
   ]
  },
  {
   "cell_type": "code",
   "execution_count": 108,
   "metadata": {},
   "outputs": [],
   "source": [
    "system_transform_prompt = \"\"\"\n",
    "You're tasked to transform rules into structured outputs, applying a specified taxonomy and template.\n",
    "\n",
    "Follow these steps:\n",
    "\n",
    "1. **Classify the Rule**: \n",
    "   - Based on the taxonomy in *Writing Effective Business Rules*, identify the category of the rule provided. Use terms like “Activity Obligation Rule,” “Definitional Rule,” etc.\n",
    "   \n",
    "2. **Apply Template Transformation**:\n",
    "   - Apply the appropriate template, matching the rule’s category, to rephrase the original sentence.\n",
    "   - Use **Template T49** if the rule falls under **Activity Obligation Rule**.\n",
    "   - Ensure the sentence reflects whether the action is **obligatory** (\"must\") or **permissive** (\"may\").\n",
    "\n",
    "3. **Return Results in JSON Format**:\n",
    "   - Follow this format:\n",
    "     ```json\n",
    "     { \n",
    "       \"original_sentence\": \"<original sentence provided>\",\n",
    "       \"transformed_sentence\": \"<sentence result of applying the template>\",\n",
    "       \"category_classification\": \"<based on the book taxonomy, e.g., Activity Obligation Rule>\",\n",
    "       \"template\": \"<code of the template, e.g., T49>\"\n",
    "     }\n",
    "     ```\n",
    "\n",
    "4. **Example**:\n",
    "\n",
    "   - **Input**:  \n",
    "     ```\n",
    "     If process, pleadings, or other papers are served on the Commission as described in this section, the Secretary of the Commission (Secretary) will promptly forward a copy to each named party by registered or certified mail at that party's last address filed with the Commission.\n",
    "     ```\n",
    "   \n",
    "   - **Output**:\n",
    "     ```json\n",
    "     { \n",
    "       \"original_sentence\": \"If process, pleadings, or other papers are served on the Commission as described in this section, the Secretary of the Commission (Secretary) will promptly forward a copy to each named party by registered or certified mail at that party's last address filed with the Commission.\",\n",
    "       \"transformed_sentence\": \"The Secretary of the Commission must promptly forward a copy of the process, pleadings, or other papers to each named party by registered or certified mail at that party's last address filed with the Commission if the process, pleadings, or other papers are served on the Commission.\",\n",
    "       \"category_classification\": \"Activity Obligation Rule\",\n",
    "       \"template\": \"T49\"\n",
    "     }\n",
    "     ```\n",
    "\"\"\""
   ]
  },
  {
   "cell_type": "markdown",
   "metadata": {},
   "source": [
    "Calling the LLM"
   ]
  },
  {
   "cell_type": "code",
   "execution_count": 109,
   "metadata": {},
   "outputs": [],
   "source": [
    "pass"
   ]
  },
  {
   "cell_type": "markdown",
   "metadata": {},
   "source": [
    "Judging"
   ]
  },
  {
   "cell_type": "code",
   "execution_count": 110,
   "metadata": {},
   "outputs": [],
   "source": [
    "system_eval_prompt = \"\"\"\n",
    "# Task\n",
    "\n",
    "You're an expert in judging sentence similarity and transformation using a template. \n",
    "\n",
    "These criteria should support the evaluation process by verifying classification accuracy, template application, and transformation fidelity.\n",
    "\n",
    "Check the criteria and evaluate the output:\n",
    "\n",
    "1. **Similarity Score**\n",
    "   - Given the original_sentence and tranformed_sentence, how similar are they from 0 to 1? And how confident are you about your estimation from 0 to 1?\n",
    "\n",
    "2. **Transformation Accuracy**\n",
    "   - From 0 to 1, how does the \"transformed_sentence\" reflect the original_sentence with the structure and phrasing provided by the template?\n",
    "\n",
    "3. **Grammar and Syntax Accuracy**\n",
    "   - How is the transformed sentence grammatically correct and syntactically accurate from 0 to 1?\n",
    "\n",
    "Record your evaluation in JSON format as follows:\n",
    "\n",
    "```json\n",
    "{\n",
    "    \"similarity_score\": <Similarity score>,\n",
    "    \"similarity_score_confidence\": <Confidence score>,\n",
    "    \"transformation_accuracy\": <Transformation score>,\n",
    "    \"grammar_syntax_accuracy\": <Grammar score>,\n",
    "    \"findings\": [\"<Things found during the evaluation and worth to be mentioned>\", \n",
    "                 \"<other things to mention>\"\n",
    "                ]\n",
    "}\n",
    "```\n",
    "\"\"\""
   ]
  },
  {
   "cell_type": "markdown",
   "metadata": {},
   "source": [
    "Example"
   ]
  },
  {
   "cell_type": "code",
   "execution_count": 111,
   "metadata": {},
   "outputs": [],
   "source": [
    "original_sentence = \"If process, pleadings, or other papers are served on the Commission as described in this section, the Secretary of the Commission (Secretary) will promptly forward a copy to each named party by registered or certified mail at that party's last address filed with the Commission.\"\n",
    "\n",
    "tranformed_sentence = \"The Secretary of the Commission must promptly forward a copy of the process, pleadings, or other papers to each named party by registered or certified mail at that party's last address filed with the Commission if the process, pleadings, or other papers are served on the Commission.\"\n",
    "\n",
    "template = \"\"\"\n",
    "{Each|A|An} < term>\n",
    "{<qualifying clause 1> | }\n",
    "\n",
    "{must {not | } <verb phrase 1> {<object 1> | }\n",
    "{<qualifying clause 2> | } |\n",
    "\n",
    "may <verb phrase 2> {<object 2> | }\n",
    "{<qualifying clause 3> | } only}\n",
    "\n",
    "< time restriction 1> {{and|or} < time restriction 2> | }\n",
    "{{if |unless} <conditional clause> | }.\n",
    "\"\"\""
   ]
  },
  {
   "cell_type": "code",
   "execution_count": 112,
   "metadata": {},
   "outputs": [],
   "source": [
    "user_eval_prompt = f\"\"\"\n",
    "# original_sentence\n",
    "{original_sentence}\n",
    "\n",
    "# transformed_sentence\n",
    "{tranformed_sentence}\n",
    "\n",
    "# template\n",
    "{template}\n",
    "\"\"\""
   ]
  },
  {
   "cell_type": "code",
   "execution_count": 113,
   "metadata": {},
   "outputs": [
    {
     "name": "stdout",
     "output_type": "stream",
     "text": [
      "\n",
      "# Task\n",
      "\n",
      "You're an expert in judging sentence similarity and transformation using a template. \n",
      "\n",
      "These criteria should support the evaluation process by verifying classification accuracy, template application, and transformation fidelity.\n",
      "\n",
      "Check the criteria and evaluate the output:\n",
      "\n",
      "1. **Similarity Score**\n",
      "   - Given the original_sentence and tranformed_sentence, how similar are they from 0 to 1? And how confident are you about your estimation from 0 to 1?\n",
      "\n",
      "2. **Transformation Accuracy**\n",
      "   - From 0 to 1, how does the \"transformed_sentence\" reflect the original_sentence with the structure and phrasing provided by the template?\n",
      "\n",
      "3. **Grammar and Syntax Accuracy**\n",
      "   - How is the transformed sentence grammatically correct and syntactically accurate from 0 to 1?\n",
      "\n",
      "Record your evaluation in JSON format as follows:\n",
      "\n",
      "```json\n",
      "{\n",
      "    \"similarity_score\": <Similarity score>,\n",
      "    \"similarity_score_confidence\": <Confidence score>,\n",
      "    \"transformation_accuracy\": <Transformation score>,\n",
      "    \"grammar_syntax_accuracy\": <Grammar score>,\n",
      "    \"findings\": [\"<Things found during the evaluation and worth to be mentioned>\", \n",
      "                 \"<other things to mention>\"\n",
      "                ]\n",
      "}\n",
      "```\n",
      "\n"
     ]
    }
   ],
   "source": [
    "print(system_eval_prompt)"
   ]
  },
  {
   "cell_type": "code",
   "execution_count": 114,
   "metadata": {},
   "outputs": [
    {
     "name": "stdout",
     "output_type": "stream",
     "text": [
      "\n",
      "# original_sentence\n",
      "If process, pleadings, or other papers are served on the Commission as described in this section, the Secretary of the Commission (Secretary) will promptly forward a copy to each named party by registered or certified mail at that party's last address filed with the Commission.\n",
      "\n",
      "# transformed_sentence\n",
      "The Secretary of the Commission must promptly forward a copy of the process, pleadings, or other papers to each named party by registered or certified mail at that party's last address filed with the Commission if the process, pleadings, or other papers are served on the Commission.\n",
      "\n",
      "# template\n",
      "\n",
      "{Each|A|An} < term>\n",
      "{<qualifying clause 1> | }\n",
      "\n",
      "{must {not | } <verb phrase 1> {<object 1> | }\n",
      "{<qualifying clause 2> | } |\n",
      "\n",
      "may <verb phrase 2> {<object 2> | }\n",
      "{<qualifying clause 3> | } only}\n",
      "\n",
      "< time restriction 1> {{and|or} < time restriction 2> | }\n",
      "{{if |unless} <conditional clause> | }.\n",
      "\n",
      "\n"
     ]
    }
   ],
   "source": [
    "print(user_eval_prompt)"
   ]
  },
  {
   "cell_type": "markdown",
   "metadata": {},
   "source": [
    "Calling LLM"
   ]
  },
  {
   "cell_type": "code",
   "execution_count": 115,
   "metadata": {},
   "outputs": [
    {
     "name": "stderr",
     "output_type": "stream",
     "text": [
      "2024-10-30 23:21:26 - INFO - HTTP Request: POST https://api.openai.com/v1/chat/completions \"HTTP/1.1 200 OK\"\n",
      "2024-10-30 23:21:26 - INFO - Execution time for query_instruct_llm: 1.66 seconds\n"
     ]
    }
   ],
   "source": [
    "response = query_instruct_llm(\n",
    "    system_eval_prompt,\n",
    "    user_eval_prompt,\n",
    "    str\n",
    ")"
   ]
  },
  {
   "cell_type": "code",
   "execution_count": 116,
   "metadata": {},
   "outputs": [
    {
     "name": "stdout",
     "output_type": "stream",
     "text": [
      "{\n",
      "    \"similarity_score\": 0.95,\n",
      "    \"similarity_score_confidence\": 0.9,\n",
      "    \"transformation_accuracy\": 0.9,\n",
      "    \"grammar_syntax_accuracy\": 1.0,\n",
      "    \"findings\": [\n",
      "        \"The transformed sentence maintains the meaning of the original sentence, with a slight reordering of clauses.\",\n",
      "        \"The template structure is followed closely, with the conditional clause placed at the end of the sentence.\",\n",
      "        \"The grammar and syntax of the transformed sentence are correct.\"\n",
      "    ]\n",
      "}\n"
     ]
    }
   ],
   "source": [
    "print(response)"
   ]
  },
  {
   "cell_type": "markdown",
   "metadata": {
    "id": "pqDI8dxVAj7R"
   },
   "source": [
    "## References\n",
    "\n",
    "- [Scikit-LLM: Scikit-Learn Meets Large Language Models](https://medium.com/@sayedebad.777/scikit-llm-scikit-learn-meets-large-language-models-986ff149abcc)\n",
    "- [23 Game-Changing Python Packages You Are Missing Out On](https://medium.com/pythoneers/23-underrated-python-packages-you-didnt-knew-existed-36dbb0a417c0) - 19 Jellyfish\n",
    "- [Embeddings are underrated](https://technicalwriting.dev/data/embeddings.html)\n",
    "- [You Should Probably Pay Attention to Tokenizers](https://cybernetist.com/2024/10/21/you-should-probably-pay-attention-to-tokenizers/?utm_source=tldrnewsletter) - Embeddings"
   ]
  }
 ],
 "metadata": {
  "colab": {
   "provenance": []
  },
  "kernelspec": {
   "display_name": "ipt-cfr2sbvr",
   "language": "python",
   "name": "python3"
  },
  "language_info": {
   "codemirror_mode": {
    "name": "ipython",
    "version": 3
   },
   "file_extension": ".py",
   "mimetype": "text/x-python",
   "name": "python",
   "nbconvert_exporter": "python",
   "pygments_lexer": "ipython3",
   "version": "3.11.9"
  }
 },
 "nbformat": 4,
 "nbformat_minor": 0
}
